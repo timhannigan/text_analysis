{
 "cells": [
  {
   "cell_type": "markdown",
   "metadata": {},
   "source": [
    "# SMO706- Big Data Wrangling \n",
    "Tim Hannigan Jan 15, 2019"
   ]
  },
  {
   "cell_type": "code",
   "execution_count": 329,
   "metadata": {},
   "outputs": [
    {
     "name": "stdout",
     "output_type": "stream",
     "text": [
      "Requirement already satisfied: pandas in /Users/thanniga/anaconda3/envs/py37/lib/python3.7/site-packages (0.23.4)\n",
      "Requirement already satisfied: python-dateutil>=2.5.0 in /Users/thanniga/anaconda3/envs/py37/lib/python3.7/site-packages (from pandas) (2.7.5)\n",
      "Requirement already satisfied: pytz>=2011k in /Users/thanniga/anaconda3/envs/py37/lib/python3.7/site-packages (from pandas) (2018.7)\n",
      "Requirement already satisfied: numpy>=1.9.0 in /Users/thanniga/anaconda3/envs/py37/lib/python3.7/site-packages (from pandas) (1.15.4)\n",
      "Requirement already satisfied: six>=1.5 in /Users/thanniga/anaconda3/envs/py37/lib/python3.7/site-packages (from python-dateutil>=2.5.0->pandas) (1.12.0)\n",
      "Requirement already satisfied: bs4 in /Users/thanniga/anaconda3/envs/py37/lib/python3.7/site-packages (0.0.1)\n",
      "Requirement already satisfied: beautifulsoup4 in /Users/thanniga/anaconda3/envs/py37/lib/python3.7/site-packages (from bs4) (4.6.3)\n",
      "Requirement already satisfied: statsmodels in /Users/thanniga/anaconda3/envs/py37/lib/python3.7/site-packages (0.9.0)\n"
     ]
    }
   ],
   "source": [
    "import sys\n",
    "!{sys.executable} -m pip install pandas\n",
    "!{sys.executable} -m pip install bs4\n",
    "!{sys.executable} -m pip install statsmodels\n",
    "\n",
    "import pandas as pd\n",
    "import json\n",
    "import requests\n",
    "import datetime as dt\n",
    "from bs4 import BeautifulSoup\n",
    "import matplotlib.pyplot as plt\n",
    "import re\n",
    "import numpy as np\n",
    "import statsmodels.api as sm"
   ]
  },
  {
   "cell_type": "markdown",
   "metadata": {},
   "source": [
    "### Main methods"
   ]
  },
  {
   "cell_type": "markdown",
   "metadata": {},
   "source": [
    "#### Western Canadian Select Oil Price"
   ]
  },
  {
   "cell_type": "raw",
   "metadata": {},
   "source": [
    "Our first task is to gather the price of Oil in Alberta (most often known as WCS, or Western Canadian Select). This is provided by the Bloomberg (using symbol USCRWCAS) in our Winspear Library.  \n",
    "Note: I have downloaded this to make it easier for you."
   ]
  },
  {
   "cell_type": "code",
   "execution_count": 235,
   "metadata": {},
   "outputs": [],
   "source": [
    "# first, load the data\n",
    "file_name = \"USCRWCAS_dailyPrice.xlsx\""
   ]
  },
  {
   "cell_type": "code",
   "execution_count": 236,
   "metadata": {},
   "outputs": [],
   "source": [
    "# next, process it into a DataFrame\n",
    "df_wcs = pd.read_excel(file_name)\n",
    "df_wcs.columns = [col.lower() for col in df_wcs.columns] # for ease of use, working with lowercase column names"
   ]
  },
  {
   "cell_type": "code",
   "execution_count": 237,
   "metadata": {},
   "outputs": [
    {
     "name": "stdout",
     "output_type": "stream",
     "text": [
      "<class 'pandas.core.frame.DataFrame'>\n",
      "RangeIndex: 252 entries, 0 to 251\n",
      "Data columns (total 2 columns):\n",
      "date        252 non-null datetime64[ns]\n",
      "uscrwcas    252 non-null float64\n",
      "dtypes: datetime64[ns](1), float64(1)\n",
      "memory usage: 4.0 KB\n"
     ]
    }
   ],
   "source": [
    "# this lists the type of variables in the dataframe, note: there are 916 rows\n",
    "df_wcs.info()"
   ]
  },
  {
   "cell_type": "code",
   "execution_count": 238,
   "metadata": {},
   "outputs": [
    {
     "data": {
      "text/plain": [
       "(252, 2)"
      ]
     },
     "execution_count": 238,
     "metadata": {},
     "output_type": "execute_result"
    }
   ],
   "source": [
    "# a shorter way of inspecting this dataframe is by looking at the shape\n",
    "df_wcs.shape"
   ]
  },
  {
   "cell_type": "code",
   "execution_count": 239,
   "metadata": {},
   "outputs": [
    {
     "data": {
      "text/html": [
       "<div>\n",
       "<style scoped>\n",
       "    .dataframe tbody tr th:only-of-type {\n",
       "        vertical-align: middle;\n",
       "    }\n",
       "\n",
       "    .dataframe tbody tr th {\n",
       "        vertical-align: top;\n",
       "    }\n",
       "\n",
       "    .dataframe thead th {\n",
       "        text-align: right;\n",
       "    }\n",
       "</style>\n",
       "<table border=\"1\" class=\"dataframe\">\n",
       "  <thead>\n",
       "    <tr style=\"text-align: right;\">\n",
       "      <th></th>\n",
       "      <th>date</th>\n",
       "      <th>uscrwcas</th>\n",
       "    </tr>\n",
       "  </thead>\n",
       "  <tbody>\n",
       "    <tr>\n",
       "      <th>0</th>\n",
       "      <td>2019-01-14</td>\n",
       "      <td>43.73</td>\n",
       "    </tr>\n",
       "    <tr>\n",
       "      <th>1</th>\n",
       "      <td>2019-01-11</td>\n",
       "      <td>44.64</td>\n",
       "    </tr>\n",
       "    <tr>\n",
       "      <th>2</th>\n",
       "      <td>2019-01-10</td>\n",
       "      <td>44.74</td>\n",
       "    </tr>\n",
       "    <tr>\n",
       "      <th>3</th>\n",
       "      <td>2019-01-09</td>\n",
       "      <td>43.86</td>\n",
       "    </tr>\n",
       "    <tr>\n",
       "      <th>4</th>\n",
       "      <td>2019-01-08</td>\n",
       "      <td>40.78</td>\n",
       "    </tr>\n",
       "  </tbody>\n",
       "</table>\n",
       "</div>"
      ],
      "text/plain": [
       "        date  uscrwcas\n",
       "0 2019-01-14     43.73\n",
       "1 2019-01-11     44.64\n",
       "2 2019-01-10     44.74\n",
       "3 2019-01-09     43.86\n",
       "4 2019-01-08     40.78"
      ]
     },
     "execution_count": 239,
     "metadata": {},
     "output_type": "execute_result"
    }
   ],
   "source": [
    "# next, inspect the first 5 rows of the data\n",
    "df_wcs.head(5)"
   ]
  },
  {
   "cell_type": "code",
   "execution_count": 240,
   "metadata": {},
   "outputs": [],
   "source": [
    "# in order to make this easier to manage, we'll set the index to be the date\n",
    "df_wcs['date'] = pd.to_datetime(df_wcs['date']) # setting column with 'date' type"
   ]
  },
  {
   "cell_type": "code",
   "execution_count": 241,
   "metadata": {},
   "outputs": [],
   "source": [
    "# setting the index as date\n",
    "df_wcs.set_index('date', inplace=True)"
   ]
  },
  {
   "cell_type": "code",
   "execution_count": 242,
   "metadata": {},
   "outputs": [],
   "source": [
    "# ordering by index (ascending order)\n",
    "df_wcs.sort_index(axis=0, ascending=True, inplace=True)"
   ]
  },
  {
   "cell_type": "code",
   "execution_count": 243,
   "metadata": {},
   "outputs": [
    {
     "data": {
      "text/html": [
       "<div>\n",
       "<style scoped>\n",
       "    .dataframe tbody tr th:only-of-type {\n",
       "        vertical-align: middle;\n",
       "    }\n",
       "\n",
       "    .dataframe tbody tr th {\n",
       "        vertical-align: top;\n",
       "    }\n",
       "\n",
       "    .dataframe thead th {\n",
       "        text-align: right;\n",
       "    }\n",
       "</style>\n",
       "<table border=\"1\" class=\"dataframe\">\n",
       "  <thead>\n",
       "    <tr style=\"text-align: right;\">\n",
       "      <th></th>\n",
       "      <th>uscrwcas</th>\n",
       "    </tr>\n",
       "    <tr>\n",
       "      <th>date</th>\n",
       "      <th></th>\n",
       "    </tr>\n",
       "  </thead>\n",
       "  <tbody>\n",
       "    <tr>\n",
       "      <th>2018-01-16</th>\n",
       "      <td>42.73</td>\n",
       "    </tr>\n",
       "    <tr>\n",
       "      <th>2018-01-17</th>\n",
       "      <td>40.17</td>\n",
       "    </tr>\n",
       "  </tbody>\n",
       "</table>\n",
       "</div>"
      ],
      "text/plain": [
       "            uscrwcas\n",
       "date                \n",
       "2018-01-16     42.73\n",
       "2018-01-17     40.17"
      ]
     },
     "execution_count": 243,
     "metadata": {},
     "output_type": "execute_result"
    }
   ],
   "source": [
    "# check to see it's working properly\n",
    "df_wcs.head(2)"
   ]
  },
  {
   "cell_type": "code",
   "execution_count": 244,
   "metadata": {},
   "outputs": [
    {
     "data": {
      "text/html": [
       "<div>\n",
       "<style scoped>\n",
       "    .dataframe tbody tr th:only-of-type {\n",
       "        vertical-align: middle;\n",
       "    }\n",
       "\n",
       "    .dataframe tbody tr th {\n",
       "        vertical-align: top;\n",
       "    }\n",
       "\n",
       "    .dataframe thead th {\n",
       "        text-align: right;\n",
       "    }\n",
       "</style>\n",
       "<table border=\"1\" class=\"dataframe\">\n",
       "  <thead>\n",
       "    <tr style=\"text-align: right;\">\n",
       "      <th></th>\n",
       "      <th>uscrwcas</th>\n",
       "    </tr>\n",
       "    <tr>\n",
       "      <th>date</th>\n",
       "      <th></th>\n",
       "    </tr>\n",
       "  </thead>\n",
       "  <tbody>\n",
       "    <tr>\n",
       "      <th>2019-01-11</th>\n",
       "      <td>44.64</td>\n",
       "    </tr>\n",
       "    <tr>\n",
       "      <th>2019-01-14</th>\n",
       "      <td>43.73</td>\n",
       "    </tr>\n",
       "  </tbody>\n",
       "</table>\n",
       "</div>"
      ],
      "text/plain": [
       "            uscrwcas\n",
       "date                \n",
       "2019-01-11     44.64\n",
       "2019-01-14     43.73"
      ]
     },
     "execution_count": 244,
     "metadata": {},
     "output_type": "execute_result"
    }
   ],
   "source": [
    "# check to see it's working properly\n",
    "df_wcs.tail(2)"
   ]
  },
  {
   "cell_type": "code",
   "execution_count": 245,
   "metadata": {},
   "outputs": [],
   "source": [
    "# change name of column to make it easier\n",
    "df_wcs.columns=[\"wcs\"]"
   ]
  },
  {
   "cell_type": "raw",
   "metadata": {},
   "source": [
    "Therefore, the range in this data is 2018-01-16 to 2019-01-14"
   ]
  },
  {
   "cell_type": "code",
   "execution_count": 246,
   "metadata": {},
   "outputs": [
    {
     "data": {
      "image/png": "[encoded data removed]",
      "text/plain": [
       "<Figure size 432x288 with 1 Axes>"
      ]
     },
     "metadata": {
      "needs_background": "light"
     },
     "output_type": "display_data"
    }
   ],
   "source": [
    "# plotting the late 2018 data\n",
    "df_wcs.loc['Nov 1, 2018':'Dec 31, 2018', ['wcs']].plot()\n",
    "plt.ylim(10,60)\n",
    "plt.xlabel('Date')\n",
    "plt.ylabel('WCS Oil price (closing)')\n",
    "plt.title('Oil prices in Alberta')\n",
    "plt.show()"
   ]
  },
  {
   "cell_type": "markdown",
   "metadata": {},
   "source": [
    "#### Collect news stories about Alberta + Oil"
   ]
  },
  {
   "cell_type": "raw",
   "metadata": {},
   "source": [
    "Our second task is to collect news stories that contain the terms: \"alberta\" + \"oil\". We will be using the Factiva service, and saving rtf files of news stories. Collecting from nov 1, 2018 to jan 1, 2019. Gathering Canadian sources and \"top stories\"."
   ]
  },
  {
   "cell_type": "code",
   "execution_count": 91,
   "metadata": {},
   "outputs": [],
   "source": [
    "articles = []\n",
    "for i in range(1,8):\n",
    "    with open (\"Factiva_major_Canada_news/Factiva\"+str(i)+\".html\", \"r\") as file: \n",
    "        html_doc = file.read()\n",
    "    soup = BeautifulSoup(html_doc, 'html.parser')\n",
    "    # in analyzing the HTML source, each story is contained in a div called \"article enArticle\"\n",
    "    articleContainers = soup.find_all(\"div\", \"article enArticle\")\n",
    "    for articleContainer in articleContainers:\n",
    "        table = articleContainer.find('table')\n",
    "        #print (table)        \n",
    "        headline_text = table.find_all(\"span\", \"enHeadline\")[0].text\n",
    "        rows = table.find_all('tr')\n",
    "        article_text = \"\"\n",
    "        for row in rows:\n",
    "            cols = row.find_all('td')\n",
    "            if cols[0].text.strip()==\"BY\": \n",
    "                author_text = cols[1].text   \n",
    "            elif cols[0].text.strip()==\"PD\": \n",
    "                date_text = cols[1].text\n",
    "                date = pd.to_datetime(date_text) # convert to a date object\n",
    "            elif cols[0].text.strip()==\"LP\": # lead paragraph\n",
    "                article_text += \" \" + cols[1].text\n",
    "            elif cols[0].text.strip()==\"TD\": # content\n",
    "                article_text += \" \" + cols[1].text         \n",
    "        articles.append({\"headline\": headline_text, \"author\":author_text, \"date\": date, \"text\":article_text })"
   ]
  },
  {
   "cell_type": "code",
   "execution_count": 92,
   "metadata": {},
   "outputs": [],
   "source": [
    "df_articles = pd.DataFrame(articles)"
   ]
  },
  {
   "cell_type": "code",
   "execution_count": 93,
   "metadata": {},
   "outputs": [
    {
     "data": {
      "text/plain": [
       "(629, 4)"
      ]
     },
     "execution_count": 93,
     "metadata": {},
     "output_type": "execute_result"
    }
   ],
   "source": [
    "df_articles.shape"
   ]
  },
  {
   "cell_type": "code",
   "execution_count": 217,
   "metadata": {},
   "outputs": [
    {
     "name": "stdout",
     "output_type": "stream",
     "text": [
      "<class 'pandas.core.frame.DataFrame'>\n",
      "RangeIndex: 629 entries, 0 to 628\n",
      "Data columns (total 4 columns):\n",
      "author      629 non-null object\n",
      "date        629 non-null object\n",
      "headline    629 non-null object\n",
      "text        629 non-null object\n",
      "dtypes: object(4)\n",
      "memory usage: 19.7+ KB\n"
     ]
    }
   ],
   "source": [
    "df_articles.info()"
   ]
  },
  {
   "cell_type": "markdown",
   "metadata": {},
   "source": [
    "#### Now, extract some topics using LDA topic modeling analysis"
   ]
  },
  {
   "cell_type": "code",
   "execution_count": 158,
   "metadata": {},
   "outputs": [],
   "source": [
    "!{sys.executable} -m pip install gensim\n",
    "!{sys.executable} -m pip install pyLDAvis\n",
    "!{sys.executable} -m pip install spacy\n",
    "!{sys.executable} -m pip install nltk\n",
    "\n",
    "\n",
    "\n",
    "# Gensim\n",
    "import gensim\n",
    "import gensim.corpora as corpora\n",
    "from gensim.utils import simple_preprocess\n",
    "from gensim.models import CoherenceModel\n",
    "\n",
    "# Plotting tools\n",
    "import pyLDAvis\n",
    "import pyLDAvis.gensim  # don't skip this\n",
    "import matplotlib.pyplot as plt\n",
    "%matplotlib inline\n",
    "\n",
    "# spacy for lemmatization\n",
    "import spacy\n",
    "\n",
    "from nltk.corpus import stopwords\n",
    "\n",
    "import warnings\n",
    "warnings.filterwarnings(\"ignore\",category=DeprecationWarning)"
   ]
  },
  {
   "cell_type": "code",
   "execution_count": 159,
   "metadata": {},
   "outputs": [],
   "source": [
    "stop_words = stopwords.words('english')\n",
    "stop_words.extend([\"http\", \"https\",\"www\", \"com\", \"say\", \"said\"])"
   ]
  },
  {
   "cell_type": "code",
   "execution_count": 160,
   "metadata": {},
   "outputs": [],
   "source": [
    "# Convert to list\n",
    "data = df_articles.text.values.tolist()"
   ]
  },
  {
   "cell_type": "code",
   "execution_count": 161,
   "metadata": {},
   "outputs": [],
   "source": [
    "# tokenize words and clean up text using Gensim’s simple_preprocess() method\n",
    "def sent_to_words(sentences):\n",
    "    for sentence in sentences:\n",
    "        yield(gensim.utils.simple_preprocess(str(sentence), deacc=True))  # deacc=True removes punctuations\n",
    "\n",
    "data_words = list(sent_to_words(data))"
   ]
  },
  {
   "cell_type": "code",
   "execution_count": 162,
   "metadata": {},
   "outputs": [],
   "source": [
    "# Creating Bigram Models\n",
    "#Some examples in our example are: ‘alberta_oipatch’, ‘oil_leak’, 'cannabis_oil'\n",
    "\n",
    "# Build the bigram and trigram models\n",
    "bigram = gensim.models.Phrases(data_words, min_count=5, threshold=100) # higher threshold fewer phrases.\n",
    "\n",
    "# Faster way to get a sentence clubbed as a trigram/bigram\n",
    "bigram_mod = gensim.models.phrases.Phraser(bigram)"
   ]
  },
  {
   "cell_type": "code",
   "execution_count": 163,
   "metadata": {},
   "outputs": [],
   "source": [
    "###Remove Stopwords, Make Bigrams and Lemmatize\n",
    "\n",
    "# Define functions for stopwords, bigrams, trigrams and lemmatization\n",
    "def remove_stopwords(texts):\n",
    "    return [[word for word in simple_preprocess(str(doc)) if word not in stop_words] for doc in texts]\n",
    "\n",
    "def make_bigrams(texts):\n",
    "    return [bigram_mod[doc] for doc in texts]\n",
    "\n",
    "\n",
    "def lemmatization(texts, allowed_postags=['NOUN', 'ADJ', 'VERB', 'ADV']):\n",
    "    \"\"\"https://spacy.io/api/annotation\"\"\"\n",
    "    texts_out = []\n",
    "    for sent in texts:\n",
    "        doc = nlp(\" \".join(sent)) \n",
    "        texts_out.append([token.lemma_ for token in doc if token.pos_ in allowed_postags])\n",
    "    return texts_out"
   ]
  },
  {
   "cell_type": "code",
   "execution_count": 164,
   "metadata": {},
   "outputs": [],
   "source": [
    "# Remove Stop Words\n",
    "data_words_nostops = remove_stopwords(data_words)"
   ]
  },
  {
   "cell_type": "code",
   "execution_count": 165,
   "metadata": {},
   "outputs": [],
   "source": [
    "# Form Bigrams\n",
    "data_words_bigrams = make_bigrams(data_words_nostops)"
   ]
  },
  {
   "cell_type": "code",
   "execution_count": 166,
   "metadata": {},
   "outputs": [
    {
     "name": "stdout",
     "output_type": "stream",
     "text": [
      "['angry', 'albertan', 'strike', 'sound', 'mad', 'hell', 'go', 'take', 'anymore', 'rest', 'canada', 'owe', 'big', 'time', 'trudeau', 'deliberately', 'wreck', 'province', 'exactly', 'smart', 'way', 'win', 'heart', 'mind', 'country', 'anger', 'way', 'blot', 'intelligence', 'regardless', 'certainly', 'lot', 'explosive', 'anger', 'alberta', 'day', 'lot', 'people', 'know', 'better', 'willing', 'throw', 'match', 'anger', 'stem', 'frustration', 'stall', 'oil', 'pipeline', 'construction', 'pipeline', 'suppose', 'ship', 'alberta', 'plentiful', 'oil', 'supply', 'united_state', 'export', 'market', 'limbo', 'mainly', 'objection', 'environmental', 'indigenous', 'activist', 'uphold', 'court', 'combine', 'complication', 'oil', 'market', 'mean', 'alberta', 'oil', 'fetching', 'next', 'nothing', 'compare', 'usual', 'benchmark', 'price', 'understandably', 'make', 'lot', 'people', 'mad', 'many', 'depend', 'thrive', 'oil', 'industry', 'well', 'pay', 'work', 'surprising', 'see', 'large', 'protest', 'rally', 'especially', 'liberal', 'politician', 'vicinity', 'always', 'handy', 'target', 'alberta', 'noisy', 'truck', 'convoy', 'rural', 'region', 'petroleum', 'industry', 'game', 'town', 'course', 'hear', 'separation', 'man', 'always', 'seem', 'pop', 'time', 'time', 'elite', 'call', 'lead', 'light', 'lead', 'separation', 'band', 'wagon', 'first', 'brett', 'wilson', 'rake', 'million', 'dollar', 'sell', 'equity', 'oil', 'gas', 'company', 'go', 'become', 'celebrity', 'cbc', 'dragon', 'den', 'wilson', 'take', 'separation', 'cudgel', 'tweet', 'twitter', 'wbrettwilson', 'status', 'separatist', 'liberal', 'party', 'collaborate', 'push', 'alberta', 'saskatchewan', 'confederation', 'word', 'alberta', 'alienate', 'oppress', 'may', 'well', 'separate', 'wilson', 'also', 'absurdly', 'tweet', 'twitter', 'wbrettwilson', 'status', 'greenpeace', 'david_suzuki', 'foundation', 'guilty', 'treason', 'opposition', 'oil', 'pipeline', 'jack_mintz', 'chime', 'business', 'financialpost', 'opinion', 'jack_mintz', 'alberta', 'good', 'reason', 'britain', 'brexit', 'financial', 'post', 'declare', 'alberta', 'good', 'case', 'exit', 'canada', 'britain', 'exit', 'mintz', 'president', 'ceo', 'howe', 'institute', 'time', 'go', 'become', 'director', 'university', 'calgary', 'school', 'public', 'policy', 'also', 'sit', 'board', 'imperial', 'oil', 'would', 'imperial', 'oil', 'subsidiary', 'exxonmobil', 'giant', 'multinational', 'deliberately', 'bury', 'article', 'exxon', 'know', 'climate_change', 'almost', 'early', 'evidence', 'global_warm', 'due', 'carbon', 'emission', 'whatev', 'negative', 'alberta', 'would', 'face', 'easily', 'swamp', 'positive', 'would', 'come', 'separation', 'mintz', 'write', 'time', 'federal', 'conservative', 'cabinet', 'minister', 'leader', 'alberta', 'official', 'opposition', 'endorse', 'separation', 'happy', 'stoke', 'flame', 'day', 'court_rul', 'august', 'put', 'brake', 'construction', 'trans_mountain', 'pipeline', 'kenney', 'tell', 'national', 'tv', 'audience', 'ctvnew', 'ca', 'politics', 'separatism', 'may', 'rise', 'alberta', 'trans_mountain', 'decision', 'kenney', 'never', 'hear', 'many', 'people', 'alberta', 'talk', 'separation', 'even', 'hear', 'educate', 'urban', 'professional', 'woman', 'say', 'country', 'work', 'anymore', 'understand', 'frustration', 'kenney', 'naturally', 'woman', 'identify', 'wilson', 'kenney', 'also', 'pledge', 'set', 'war', 'room', 'deal', 'elect', 'premier', 'wilson', 'mintz', 'kenney', 'never', 'explain', 'separation', 'threaten', 'withdraw', 'alberta', 'contribution', 'equalization_payment', 'would', 'hasten', 'pipeline', 'construction', 'thankfully', 'recent', 'opinion', 'poll', 'researchco', 'ca', 'alberta', 'separation', 'indicate', 'majority', 'albertan', 'buy', 'separation', 'happen', 'would', 'leave', 'albertan', 'swamp', 'people', 'wilson', 'mintz', 'kenney', 'would', 'remain', 'high', 'dry', 'many', 'people', 'do', 'well', 'alberta', 'surely', 'could', 'come', 'good', 'solution', 'current', 'predicament', 'threat', 'separation', 'gillian', 'steward', 'calgary', 'base', 'writer', 'freelance', 'columnist', 'star', 'follow', 'twitter', 'gilliansteward', 'twitter', 'gilliansteward']\n"
     ]
    }
   ],
   "source": [
    "# Initialize spacy 'en' model, keeping only tagger component (for efficiency)\n",
    "# python3 -m spacy download en\n",
    "nlp = spacy.load('en', disable=['parser', 'ner'])\n",
    "\n",
    "# Do lemmatization keeping only noun, adj, vb, adv\n",
    "data_lemmatized = lemmatization(data_words_bigrams, allowed_postags=['NOUN', 'ADJ', 'VERB', 'ADV'])\n",
    "\n",
    "# run stop word again, post lemmatization\n",
    "data_lemmatized = [[word for word in doc if word not in stop_words] for doc in data_lemmatized] \n",
    "\n",
    "print(data_lemmatized[0])"
   ]
  },
  {
   "cell_type": "code",
   "execution_count": 136,
   "metadata": {},
   "outputs": [],
   "source": [
    "# Dictionary and Corpus needed for Topic Modeling"
   ]
  },
  {
   "cell_type": "code",
   "execution_count": 175,
   "metadata": {},
   "outputs": [],
   "source": [
    "# Create Dictionary\n",
    "id2word = corpora.Dictionary(data_lemmatized)\n",
    "\n",
    "# Create Corpus\n",
    "texts = data_lemmatized\n",
    "\n",
    "# Term Document Frequency\n",
    "corpus_bag_of_words = [id2word.doc2bow(text) for text in texts]\n",
    "\n",
    "# View\n",
    "#print(corpus[0])"
   ]
  },
  {
   "cell_type": "code",
   "execution_count": 176,
   "metadata": {},
   "outputs": [
    {
     "data": {
      "text/plain": [
       "24162"
      ]
     },
     "execution_count": 176,
     "metadata": {},
     "output_type": "execute_result"
    }
   ],
   "source": [
    "len(id2word)"
   ]
  },
  {
   "cell_type": "code",
   "execution_count": 177,
   "metadata": {},
   "outputs": [
    {
     "data": {
      "text/plain": [
       "'absurdly'"
      ]
     },
     "execution_count": 177,
     "metadata": {},
     "output_type": "execute_result"
    }
   ],
   "source": [
    "# this creates a unique id for each word in each document; what you're seeing above is [word_id, wordfrequency]\n",
    "id2word[0]\n",
    "# therefore, 'abandon' only appears once"
   ]
  },
  {
   "cell_type": "code",
   "execution_count": 178,
   "metadata": {},
   "outputs": [],
   "source": [
    "# Human readable format of corpus (term-frequency)\n",
    "#[[(id2word[id], freq) for id, freq in cp] for cp in corpus_bag_of_words[0:1]]"
   ]
  },
  {
   "cell_type": "markdown",
   "metadata": {},
   "source": [
    "#### How to find the optimal number of topics for LDA?"
   ]
  },
  {
   "cell_type": "code",
   "execution_count": 179,
   "metadata": {},
   "outputs": [],
   "source": [
    "def compute_coherence_values(dictionary, corpus, texts, limit, start=2, step=3):    \n",
    "    coherence_values = []\n",
    "    model_list = []\n",
    "    for num_topics in range(start, limit, step):\n",
    "        # Compute Coherence Score        \n",
    "        lda_model = gensim.models.ldamodel.LdaModel(corpus=corpus,\n",
    "                                           id2word=id2word,\n",
    "                                           num_topics=num_topics, \n",
    "                                           random_state=100,\n",
    "                                           update_every=1,\n",
    "                                           chunksize=100,\n",
    "                                           passes=10,\n",
    "                                           alpha='auto',\n",
    "                                           per_word_topics=True)                        \n",
    "        model_list.append(lda_model)\n",
    "        coherence_model_lda = CoherenceModel(model=lda_model, texts=texts, dictionary=id2word, coherence='c_v')        \n",
    "        coherence_lda = coherence_model_lda.get_coherence()\n",
    "        coherence_values.append(coherence_lda)\n",
    "        print (\"trying out, \", num_topics, \"topics\", \"coherence_lda=\", coherence_lda)\n",
    "    return model_list, coherence_values"
   ]
  },
  {
   "cell_type": "code",
   "execution_count": 180,
   "metadata": {},
   "outputs": [],
   "source": [
    "limit=50; start=5; step=5;"
   ]
  },
  {
   "cell_type": "code",
   "execution_count": 181,
   "metadata": {},
   "outputs": [
    {
     "name": "stdout",
     "output_type": "stream",
     "text": [
      "trying out,  5 topics coherence_lda= 0.4445338316845241\n",
      "trying out,  10 topics coherence_lda= 0.44678389878627556\n",
      "trying out,  15 topics coherence_lda= 0.4717798928761202\n",
      "trying out,  20 topics coherence_lda= 0.4685493648590066\n",
      "trying out,  25 topics coherence_lda= 0.49516590910466646\n",
      "trying out,  30 topics coherence_lda= 0.482585538609575\n",
      "trying out,  35 topics coherence_lda= 0.478726749588953\n",
      "trying out,  40 topics coherence_lda= 0.4640999942267091\n",
      "trying out,  45 topics coherence_lda= 0.46004050637481214\n"
     ]
    }
   ],
   "source": [
    "# Can take a long time to run.\n",
    "model_list, coherence_values = compute_coherence_values(dictionary=id2word, corpus=corpus_bag_of_words, texts=data_lemmatized, start=start, limit=limit, step=step)"
   ]
  },
  {
   "cell_type": "code",
   "execution_count": 182,
   "metadata": {},
   "outputs": [
    {
     "data": {
      "text/plain": [
       "[0.4445338316845241,\n",
       " 0.44678389878627556,\n",
       " 0.4717798928761202,\n",
       " 0.4685493648590066,\n",
       " 0.49516590910466646,\n",
       " 0.482585538609575,\n",
       " 0.478726749588953,\n",
       " 0.4640999942267091,\n",
       " 0.46004050637481214]"
      ]
     },
     "execution_count": 182,
     "metadata": {},
     "output_type": "execute_result"
    }
   ],
   "source": [
    "coherence_values"
   ]
  },
  {
   "cell_type": "code",
   "execution_count": 194,
   "metadata": {},
   "outputs": [
    {
     "data": {
      "image/png": "[encoded data removed]",
      "text/plain": [
       "<Figure size 432x288 with 1 Axes>"
      ]
     },
     "metadata": {
      "needs_background": "light"
     },
     "output_type": "display_data"
    }
   ],
   "source": [
    "# Show graph\n",
    "x = range(start, limit, step)\n",
    "plt.plot(x, coherence_values)\n",
    "plt.xlabel(\"Num Topics\")\n",
    "plt.ylabel(\"Coherence score\")\n",
    "plt.legend((\"coherence_values\"), loc='best')\n",
    "plt.show()"
   ]
  },
  {
   "cell_type": "code",
   "execution_count": 195,
   "metadata": {},
   "outputs": [
    {
     "name": "stdout",
     "output_type": "stream",
     "text": [
      "Num Topics = 5  has Coherence Value of 0.4445\n",
      "Num Topics = 10  has Coherence Value of 0.4468\n",
      "Num Topics = 15  has Coherence Value of 0.4718\n",
      "Num Topics = 20  has Coherence Value of 0.4685\n",
      "Num Topics = 25  has Coherence Value of 0.4952\n",
      "Num Topics = 30  has Coherence Value of 0.4826\n",
      "Num Topics = 35  has Coherence Value of 0.4787\n",
      "Num Topics = 40  has Coherence Value of 0.4641\n",
      "Num Topics = 45  has Coherence Value of 0.46\n"
     ]
    }
   ],
   "source": [
    "# Print the coherence scores\n",
    "for m, cv in zip(x, coherence_values):\n",
    "    print(\"Num Topics =\", m, \" has Coherence Value of\", round(cv, 4))"
   ]
  },
  {
   "cell_type": "code",
   "execution_count": 196,
   "metadata": {},
   "outputs": [],
   "source": [
    "idealNumberOfTopics =  35"
   ]
  },
  {
   "cell_type": "code",
   "execution_count": 197,
   "metadata": {},
   "outputs": [],
   "source": [
    "# Build LDA model\n",
    "lda_model_optimal = gensim.models.ldamodel.LdaModel(corpus=corpus_bag_of_words,\n",
    "                                           id2word=id2word,\n",
    "                                           num_topics= idealNumberOfTopics, \n",
    "                                           random_state=100,\n",
    "                                           update_every=1,\n",
    "                                           chunksize=100,\n",
    "                                           passes=10,\n",
    "                                           alpha='auto',\n",
    "                                           per_word_topics=False)"
   ]
  },
  {
   "cell_type": "code",
   "execution_count": 198,
   "metadata": {},
   "outputs": [
    {
     "name": "stdout",
     "output_type": "stream",
     "text": [
      "Topic: 1 \n",
      "\t 0.041*\"ce\" + 0.024*\"strad\" + 0.018*\"pan_orient\" + 0.016*\"ebit\" + 0.015*\"property_plant\" + 0.015*\"thailand_joint\" + 0.014*\"annuity_maintenance\" + 0.013*\"petrus\" + 0.013*\"enerflex\" + 0.012*\"industrial_matt\"\n",
      "Topic: 2 \n",
      "\t 0.027*\"company\" + 0.019*\"information\" + 0.018*\"statement\" + 0.011*\"may\" + 0.011*\"include\" + 0.010*\"forward_look\" + 0.010*\"result\" + 0.008*\"financial\" + 0.008*\"boe\" + 0.008*\"well\"\n",
      "Topic: 3 \n",
      "\t 0.095*\"page\" + 0.042*\"doodle\" + 0.032*\"miller\" + 0.024*\"mat\" + 0.021*\"tyrrell\" + 0.016*\"explore\" + 0.011*\"showroom\" + 0.010*\"googler\" + 0.010*\"badland\" + 0.010*\"albertosaurus\"\n",
      "Topic: 4 \n",
      "\t 0.018*\"creditor\" + 0.010*\"bankrupt\" + 0.006*\"insolvent\" + 0.006*\"gettis\" + 0.005*\"coal_mine\" + 0.003*\"escrow\" + 0.002*\"toughening\" + 0.001*\"nobb\" + 0.000*\"sliver\" + 0.000*\"arrear\"\n",
      "Topic: 5 \n",
      "\t 0.019*\"court\" + 0.018*\"law\" + 0.013*\"security\" + 0.011*\"commercial_litigation\" + 0.009*\"lawyer\" + 0.009*\"trial\" + 0.009*\"practice_focus\" + 0.009*\"counselling\" + 0.007*\"appeal\" + 0.007*\"product_liability\"\n",
      "Topic: 6 \n",
      "\t 0.073*\"cannabis\" + 0.017*\"store\" + 0.016*\"legalization\" + 0.016*\"get\" + 0.014*\"health\" + 0.013*\"supply\" + 0.012*\"product\" + 0.011*\"legal\" + 0.011*\"canada\" + 0.009*\"food\"\n",
      "Topic: 7 \n",
      "\t 0.019*\"oil\" + 0.017*\"increase\" + 0.015*\"production\" + 0.015*\"price\" + 0.013*\"revenue\" + 0.013*\"cost\" + 0.011*\"total\" + 0.010*\"capital\" + 0.010*\"average\" + 0.010*\"year\"\n",
      "Topic: 8 \n",
      "\t 0.018*\"touchstone\" + 0.008*\"anytime\" + 0.007*\"food_column\" + 0.006*\"papua\" + 0.006*\"guinea\" + 0.005*\"sagan\" + 0.005*\"wetter\" + 0.005*\"checkout\" + 0.005*\"charlottetown\" + 0.005*\"meth\"\n",
      "Topic: 9 \n",
      "\t 0.023*\"family\" + 0.017*\"love\" + 0.014*\"life\" + 0.012*\"november\" + 0.010*\"year\" + 0.010*\"friend\" + 0.009*\"university\" + 0.008*\"brother\" + 0.007*\"child\" + 0.007*\"many\"\n",
      "Topic: 10 \n",
      "\t 0.016*\"alberta\" + 0.014*\"government\" + 0.013*\"oil\" + 0.012*\"canada\" + 0.009*\"would\" + 0.008*\"province\" + 0.007*\"new\" + 0.007*\"industry\" + 0.006*\"calgary\" + 0.006*\"energy\"\n",
      "Topic: 11 \n",
      "\t 0.013*\"year\" + 0.008*\"trump\" + 0.007*\"election\" + 0.006*\"canadian\" + 0.006*\"word\" + 0.005*\"day\" + 0.005*\"canada\" + 0.005*\"people\" + 0.005*\"time\" + 0.004*\"story\"\n",
      "Topic: 12 \n",
      "\t 0.086*\"theglobeandmail\" + 0.078*\"article\" + 0.030*\"canada\" + 0.020*\"mail\" + 0.018*\"globe\" + 0.015*\"business\" + 0.011*\"globeandmail\" + 0.010*\"subscriber\" + 0.009*\"newsletter\" + 0.009*\"story\"\n",
      "Topic: 13 \n",
      "\t 0.052*\"well\" + 0.049*\"regulator\" + 0.046*\"gas\" + 0.040*\"oil\" + 0.038*\"liability\" + 0.033*\"company\" + 0.024*\"cleanup\" + 0.021*\"cost\" + 0.018*\"clean\" + 0.017*\"industry\"\n",
      "Topic: 14 \n",
      "\t 0.048*\"epp\" + 0.027*\"midterm\" + 0.027*\"bruce\" + 0.020*\"stewart\" + 0.019*\"work\" + 0.015*\"project\" + 0.015*\"business\" + 0.013*\"customer\" + 0.013*\"prairie\" + 0.011*\"company\"\n",
      "Topic: 15 \n",
      "\t 0.067*\"html\" + 0.067*\"thestar\" + 0.046*\"ellis\" + 0.039*\"bike\" + 0.030*\"news\" + 0.022*\"public\" + 0.017*\"oilsand\" + 0.016*\"wadsworth_presentation\" + 0.016*\"concession\" + 0.016*\"national_observer\"\n",
      "Topic: 16 \n",
      "\t 0.064*\"suncor\" + 0.054*\"llp\" + 0.023*\"novel\" + 0.015*\"black_friday\" + 0.015*\"online\" + 0.013*\"course\" + 0.012*\"mustard\" + 0.010*\"employees_offer\" + 0.008*\"railway\" + 0.008*\"scrutiny\"\n",
      "Topic: 17 \n",
      "\t 0.017*\"canada\" + 0.007*\"canadian\" + 0.007*\"include\" + 0.006*\"year\" + 0.006*\"first\" + 0.005*\"woman\" + 0.005*\"group\" + 0.005*\"service\" + 0.004*\"member\" + 0.004*\"employee\"\n",
      "Topic: 18 \n",
      "\t 0.030*\"markets_stock\" + 0.028*\"cenovus\" + 0.027*\"inc\" + 0.026*\"tsx\" + 0.019*\"husky\" + 0.017*\"suncor\" + 0.016*\"energy\" + 0.016*\"imperial\" + 0.016*\"enbridge\" + 0.012*\"share\"\n",
      "Topic: 19 \n",
      "\t 0.062*\"nationalism\" + 0.016*\"bannon\" + 0.014*\"connotation\" + 0.014*\"tomwalkom\" + 0.011*\"complicated\" + 0.008*\"renegotiate\" + 0.007*\"progressiv\" + 0.007*\"reconfiguration\" + 0.007*\"seized\" + 0.007*\"mitch\"\n",
      "Topic: 20 \n",
      "\t 0.074*\"newfield\" + 0.061*\"liquids_mboe\" + 0.037*\"newfield_exploration\" + 0.036*\"boyne\" + 0.016*\"hellofresh\" + 0.015*\"arkoma\" + 0.015*\"uinta\" + 0.014*\"high_arctic\" + 0.011*\"suttle\" + 0.011*\"nuttall\"\n",
      "Topic: 21 \n",
      "\t 0.022*\"market\" + 0.018*\"stock\" + 0.014*\"year\" + 0.012*\"company\" + 0.011*\"bank\" + 0.010*\"investor\" + 0.010*\"share\" + 0.010*\"theglobeandmail\" + 0.008*\"inc\" + 0.008*\"canadian\"\n",
      "Topic: 22 \n",
      "\t 0.040*\"mboe\" + 0.028*\"ppr_share\" + 0.021*\"nxt\" + 0.018*\"storm\" + 0.015*\"nig\" + 0.014*\"williston\" + 0.013*\"umbach\" + 0.012*\"fireweed\" + 0.011*\"sfd\" + 0.008*\"field_condensate\"\n",
      "Topic: 23 \n",
      "\t 0.070*\"oil\" + 0.033*\"price\" + 0.033*\"pipeline\" + 0.032*\"barrel\" + 0.029*\"production\" + 0.022*\"energy\" + 0.020*\"canadian\" + 0.020*\"crude\" + 0.019*\"company\" + 0.017*\"producer\"\n",
      "Topic: 24 \n",
      "\t 0.059*\"quebec\" + 0.031*\"legault\" + 0.018*\"province\" + 0.015*\"western\" + 0.015*\"equalization\" + 0.013*\"premier\" + 0.011*\"energy\" + 0.010*\"quebecer\" + 0.010*\"redevelop\" + 0.010*\"federal\"\n",
      "Topic: 25 \n",
      "\t 0.075*\"per_cent\" + 0.023*\"rise\" + 0.015*\"price\" + 0.015*\"market\" + 0.015*\"cent\" + 0.012*\"share\" + 0.012*\"fall\" + 0.012*\"high\" + 0.011*\"gain\" + 0.009*\"low\"\n",
      "Topic: 26 \n",
      "\t 0.027*\"result\" + 0.021*\"third_quarter\" + 0.021*\"conference_call\" + 0.020*\"release\" + 0.018*\"vancouver\" + 0.016*\"calgary\" + 0.014*\"webcast\" + 0.014*\"nov\" + 0.014*\"court\" + 0.013*\"financial\"\n",
      "Topic: 27 \n",
      "\t 0.014*\"reporter_photographer\" + 0.011*\"andrew_jeffrey\" + 0.010*\"gwynn\" + 0.010*\"unemployed\" + 0.009*\"kneebone\" + 0.009*\"aish\" + 0.009*\"sabir\" + 0.005*\"duration\" + 0.004*\"hunger\" + 0.004*\"browser\"\n",
      "Topic: 28 \n",
      "\t 0.051*\"housing\" + 0.044*\"per_cent\" + 0.041*\"city\" + 0.028*\"market\" + 0.022*\"vancouver\" + 0.021*\"rent\" + 0.021*\"year\" + 0.020*\"home\" + 0.019*\"price\" + 0.014*\"unit\"\n",
      "Topic: 29 \n",
      "\t 0.034*\"land\" + 0.022*\"tailing\" + 0.020*\"meaningful\" + 0.018*\"irving\" + 0.017*\"diversification\" + 0.013*\"crown\" + 0.011*\"treaty\" + 0.010*\"lubicon\" + 0.009*\"remind\" + 0.009*\"subsidy\"\n",
      "Topic: 30 \n",
      "\t 0.039*\"transglobe\" + 0.017*\"voting_right\" + 0.014*\"resource_download\" + 0.014*\"resource_globenewswire\" + 0.013*\"canaccord_genuity\" + 0.010*\"notification\" + 0.009*\"energy\" + 0.008*\"gmp\" + 0.008*\"pdf_available\" + 0.007*\"tran\"\n",
      "Topic: 31 \n",
      "\t 0.026*\"carbon_tax\" + 0.025*\"litigation\" + 0.023*\"ontario\" + 0.021*\"liberal\" + 0.019*\"party\" + 0.015*\"tax\" + 0.013*\"canada\" + 0.013*\"federal\" + 0.012*\"election\" + 0.012*\"matter\"\n",
      "Topic: 32 \n",
      "\t 0.075*\"photo\" + 0.040*\"sent_word\" + 0.025*\"word\" + 0.010*\"ottawa\" + 0.007*\"trump\" + 0.006*\"new\" + 0.006*\"duplication\" + 0.006*\"police\" + 0.005*\"city\" + 0.005*\"halifax\"\n",
      "Topic: 33 \n",
      "\t 0.040*\"questor\" + 0.030*\"oilfield\" + 0.020*\"water\" + 0.018*\"waste\" + 0.017*\"mineral\" + 0.015*\"mgx\" + 0.009*\"questortech\" + 0.009*\"mgxmineral\" + 0.009*\"purlucid\" + 0.008*\"rental_fleet\"\n",
      "Topic: 34 \n",
      "\t 0.011*\"make\" + 0.010*\"good\" + 0.010*\"get\" + 0.008*\"way\" + 0.008*\"take\" + 0.008*\"work\" + 0.008*\"go\" + 0.007*\"right\" + 0.006*\"know\" + 0.006*\"world\"\n",
      "Topic: 35 \n",
      "\t 0.162*\"birchcliff\" + 0.029*\"pouce_coupe\" + 0.016*\"gordondale\" + 0.014*\"bio\" + 0.013*\"ngls\" + 0.010*\"early_last\" + 0.010*\"board\" + 0.009*\"montney_horizontal\" + 0.009*\"cortex\" + 0.008*\"bring\"\n"
     ]
    }
   ],
   "source": [
    "# Print the Keyword in the topics\n",
    "topic_output = lda_model_optimal.print_topics(idealNumberOfTopics)\n",
    "\n",
    "for topicTuple in topic_output:\n",
    "    index = topicTuple[0]+1 # recall that list indices start at 0\n",
    "    print (\"Topic:\", index, \"\\n\\t\", topicTuple[1])"
   ]
  },
  {
   "cell_type": "code",
   "execution_count": 199,
   "metadata": {},
   "outputs": [
    {
     "data": {
      "text/html": [
       "\n",
       "<link rel=\"stylesheet\" type=\"text/css\" href=\"https://cdn.rawgit.com/bmabey/pyLDAvis/files/ldavis.v1.0.0.css\">\n",
       "\n",
       "\n",
       "<div id=\"ldavis_el386801125874099522325579451\"></div>\n",
       "<script type=\"text/javascript\">\n",
       "\n",
       "var ldavis_el386801125874099522325579451_data = {\"mdsDat\": {\"x\": [-0.13631360818936372, 0.23618680212155516, -0.17516972147400095, -0.1781330493102373, -0.11987414901476065, 0.027499660150169695, 0.28577792629631155, -0.18106930509654906, 0.04424896479790391, 0.3088748402008108, 0.2322015919383194, 0.13984207339116084, 0.012414679039414235, -0.08336326345811253, -0.12595747609188787, -0.13618247117688115, 0.18284004761066236, -0.04368925663819461, -0.18014599467259895, -0.17612399062420142, 0.2913000384998114, -0.17367426649775283, 0.1946272105645373, -0.14208697314239016, 0.23952276950032433, 0.09185988121023315, -0.17930224043295764, 0.011250816044058623, -0.15335092195307126, -0.16117802006432858, 0.06688627130879958, 0.11858931951777356, -0.17903329458047276, 0.20011418651110213, -0.15938907628518545], \"y\": [0.0287663240014221, 0.1630413696705917, 0.00018804283353823363, -0.009821667982292608, 0.016808551283333042, -0.002155149163851682, 0.21101620505376567, -0.005286709318473916, -0.12344735666984742, -0.04251357641648882, -0.1858464914689255, -0.08098860769348096, 0.15624579652010298, 0.024045250012154178, -0.006114832439399295, 0.011824977994989721, -0.17490411415051715, 0.08267549949888806, -0.0038702156862135324, 0.003421920908819192, 0.08688397200222814, 0.008513234138516266, 0.2099366267242824, 0.010995041645001922, 0.08460763599577013, -0.06726165254279527, -0.007780727086266374, 0.0644917746512994, 0.005065063114577242, 0.008645331060396345, -0.12600447776192075, -0.22180288397418915, 0.0024163453254128974, -0.1319281360123503, 0.010137635931923534], \"topics\": [1, 2, 3, 4, 5, 6, 7, 8, 9, 10, 11, 12, 13, 14, 15, 16, 17, 18, 19, 20, 21, 22, 23, 24, 25, 26, 27, 28, 29, 30, 31, 32, 33, 34, 35], \"cluster\": [1, 1, 1, 1, 1, 1, 1, 1, 1, 1, 1, 1, 1, 1, 1, 1, 1, 1, 1, 1, 1, 1, 1, 1, 1, 1, 1, 1, 1, 1, 1, 1, 1, 1, 1], \"Freq\": [0.3913637697696686, 8.938944816589355, 0.11640335619449615, 0.014623430557549, 0.890636146068573, 0.6497937440872192, 8.682945251464844, 0.05643847957253456, 2.1902363300323486, 22.583351135253906, 9.237590789794922, 2.511244535446167, 0.7705217599868774, 0.5000782012939453, 0.2745319902896881, 0.4694671332836151, 11.467809677124023, 0.45688050985336304, 0.018122470006346703, 0.03910340368747711, 9.990148544311523, 0.1187014952301979, 2.530120611190796, 0.33349594473838806, 2.8935818672180176, 1.2854663133621216, 0.026937175542116165, 0.5754928588867188, 0.2939550578594208, 0.17459559440612793, 1.70610511302948, 4.602575778961182, 0.08206763863563538, 4.8968377113342285, 0.22982504963874817]}, \"tinfo\": {\"Category\": [\"Default\", \"Default\", \"Default\", \"Default\", \"Default\", \"Default\", \"Default\", \"Default\", \"Default\", \"Default\", \"Default\", \"Default\", \"Default\", \"Default\", \"Default\", \"Default\", \"Default\", \"Default\", \"Default\", \"Default\", \"Default\", \"Default\", \"Default\", \"Default\", \"Default\", \"Default\", \"Default\", \"Default\", \"Default\", \"Default\", \"Topic1\", \"Topic1\", \"Topic1\", \"Topic1\", \"Topic1\", \"Topic1\", \"Topic1\", \"Topic1\", \"Topic1\", \"Topic1\", \"Topic1\", \"Topic1\", \"Topic1\", \"Topic1\", \"Topic1\", \"Topic1\", \"Topic1\", \"Topic1\", \"Topic1\", \"Topic1\", \"Topic1\", \"Topic1\", \"Topic1\", \"Topic1\", \"Topic1\", \"Topic1\", \"Topic1\", \"Topic1\", \"Topic1\", \"Topic1\", \"Topic1\", \"Topic1\", \"Topic1\", \"Topic1\", \"Topic1\", \"Topic1\", \"Topic1\", \"Topic1\", \"Topic1\", \"Topic1\", \"Topic2\", \"Topic2\", \"Topic2\", \"Topic2\", \"Topic2\", \"Topic2\", \"Topic2\", \"Topic2\", \"Topic2\", \"Topic2\", \"Topic2\", \"Topic2\", \"Topic2\", \"Topic2\", \"Topic2\", \"Topic2\", \"Topic2\", \"Topic2\", \"Topic2\", \"Topic2\", \"Topic2\", \"Topic2\", \"Topic2\", \"Topic2\", \"Topic2\", \"Topic2\", \"Topic2\", \"Topic2\", \"Topic2\", \"Topic2\", \"Topic2\", \"Topic2\", \"Topic2\", \"Topic2\", \"Topic2\", \"Topic2\", \"Topic2\", \"Topic2\", \"Topic2\", \"Topic2\", \"Topic2\", \"Topic2\", \"Topic2\", \"Topic2\", \"Topic2\", \"Topic2\", \"Topic2\", \"Topic2\", \"Topic2\", \"Topic2\", \"Topic2\", \"Topic2\", \"Topic2\", \"Topic2\", \"Topic2\", \"Topic2\", \"Topic2\", \"Topic2\", \"Topic2\", \"Topic2\", \"Topic2\", \"Topic2\", \"Topic2\", \"Topic2\", \"Topic2\", \"Topic2\", \"Topic2\", \"Topic2\", \"Topic3\", \"Topic3\", \"Topic3\", \"Topic3\", \"Topic3\", \"Topic3\", \"Topic3\", \"Topic3\", \"Topic3\", \"Topic3\", \"Topic3\", \"Topic3\", \"Topic3\", \"Topic3\", \"Topic3\", \"Topic3\", \"Topic3\", \"Topic3\", \"Topic3\", \"Topic3\", \"Topic3\", \"Topic3\", \"Topic3\", \"Topic3\", \"Topic3\", \"Topic3\", \"Topic3\", \"Topic3\", \"Topic3\", \"Topic3\", \"Topic3\", \"Topic3\", \"Topic3\", \"Topic3\", \"Topic4\", \"Topic4\", \"Topic4\", \"Topic4\", \"Topic4\", \"Topic4\", \"Topic4\", \"Topic4\", \"Topic4\", \"Topic4\", \"Topic4\", \"Topic4\", \"Topic4\", \"Topic4\", \"Topic4\", \"Topic4\", \"Topic4\", \"Topic4\", \"Topic4\", \"Topic4\", \"Topic4\", \"Topic4\", \"Topic4\", \"Topic4\", \"Topic4\", \"Topic4\", \"Topic4\", \"Topic4\", \"Topic4\", \"Topic4\", \"Topic4\", \"Topic4\", \"Topic4\", \"Topic4\", \"Topic4\", \"Topic4\", \"Topic4\", \"Topic4\", \"Topic4\", \"Topic4\", \"Topic4\", \"Topic4\", \"Topic5\", \"Topic5\", \"Topic5\", \"Topic5\", \"Topic5\", \"Topic5\", \"Topic5\", \"Topic5\", \"Topic5\", \"Topic5\", \"Topic5\", \"Topic5\", \"Topic5\", \"Topic5\", \"Topic5\", \"Topic5\", \"Topic5\", \"Topic5\", \"Topic5\", \"Topic5\", \"Topic5\", \"Topic5\", \"Topic5\", \"Topic5\", \"Topic5\", \"Topic5\", \"Topic5\", \"Topic5\", \"Topic5\", \"Topic5\", \"Topic5\", \"Topic5\", \"Topic5\", \"Topic5\", \"Topic5\", \"Topic5\", \"Topic5\", \"Topic5\", \"Topic5\", \"Topic5\", \"Topic5\", \"Topic5\", \"Topic6\", \"Topic6\", \"Topic6\", \"Topic6\", \"Topic6\", \"Topic6\", \"Topic6\", \"Topic6\", \"Topic6\", \"Topic6\", \"Topic6\", \"Topic6\", \"Topic6\", \"Topic6\", \"Topic6\", \"Topic6\", \"Topic6\", \"Topic6\", \"Topic6\", \"Topic6\", \"Topic6\", \"Topic6\", \"Topic6\", \"Topic6\", \"Topic6\", \"Topic6\", \"Topic6\", \"Topic6\", \"Topic6\", \"Topic6\", \"Topic6\", \"Topic6\", \"Topic6\", \"Topic6\", \"Topic6\", \"Topic6\", \"Topic6\", \"Topic6\", \"Topic6\", \"Topic6\", \"Topic6\", \"Topic6\", \"Topic6\", \"Topic6\", \"Topic6\", \"Topic6\", \"Topic6\", \"Topic6\", \"Topic6\", \"Topic6\", \"Topic6\", \"Topic6\", \"Topic6\", \"Topic6\", \"Topic6\", \"Topic6\", \"Topic6\", \"Topic6\", \"Topic6\", \"Topic6\", \"Topic6\", \"Topic7\", \"Topic7\", \"Topic7\", \"Topic7\", \"Topic7\", \"Topic7\", \"Topic7\", \"Topic7\", \"Topic7\", \"Topic7\", \"Topic7\", \"Topic7\", \"Topic7\", \"Topic7\", \"Topic7\", \"Topic7\", \"Topic7\", \"Topic7\", \"Topic7\", \"Topic7\", \"Topic7\", \"Topic7\", \"Topic7\", \"Topic7\", \"Topic7\", \"Topic7\", \"Topic7\", \"Topic7\", \"Topic7\", \"Topic7\", \"Topic7\", \"Topic7\", \"Topic7\", \"Topic7\", \"Topic7\", \"Topic7\", \"Topic7\", \"Topic7\", \"Topic7\", \"Topic7\", \"Topic7\", \"Topic7\", \"Topic7\", \"Topic7\", \"Topic7\", \"Topic7\", \"Topic7\", \"Topic7\", \"Topic7\", \"Topic7\", \"Topic7\", \"Topic7\", \"Topic7\", \"Topic7\", \"Topic7\", \"Topic7\", \"Topic7\", \"Topic7\", \"Topic7\", \"Topic7\", \"Topic7\", \"Topic7\", \"Topic7\", \"Topic7\", \"Topic7\", \"Topic7\", \"Topic7\", \"Topic7\", \"Topic7\", \"Topic8\", \"Topic8\", \"Topic8\", \"Topic8\", \"Topic8\", \"Topic8\", \"Topic8\", \"Topic8\", \"Topic8\", \"Topic8\", \"Topic8\", \"Topic8\", \"Topic8\", \"Topic8\", \"Topic8\", \"Topic8\", \"Topic8\", \"Topic8\", \"Topic8\", \"Topic8\", \"Topic8\", \"Topic8\", \"Topic8\", \"Topic8\", \"Topic8\", \"Topic8\", \"Topic8\", \"Topic8\", \"Topic8\", \"Topic8\", \"Topic8\", \"Topic9\", \"Topic9\", \"Topic9\", \"Topic9\", \"Topic9\", \"Topic9\", \"Topic9\", \"Topic9\", \"Topic9\", \"Topic9\", \"Topic9\", \"Topic9\", \"Topic9\", \"Topic9\", \"Topic9\", \"Topic9\", \"Topic9\", \"Topic9\", \"Topic9\", \"Topic9\", \"Topic9\", \"Topic9\", \"Topic9\", \"Topic9\", \"Topic9\", \"Topic9\", \"Topic9\", \"Topic9\", \"Topic9\", \"Topic9\", \"Topic9\", \"Topic9\", \"Topic9\", \"Topic9\", \"Topic9\", \"Topic9\", \"Topic9\", \"Topic9\", \"Topic9\", \"Topic9\", \"Topic9\", \"Topic9\", \"Topic9\", \"Topic9\", \"Topic9\", \"Topic9\", \"Topic9\", \"Topic9\", \"Topic9\", \"Topic9\", \"Topic9\", \"Topic9\", \"Topic9\", \"Topic9\", \"Topic9\", \"Topic9\", \"Topic9\", \"Topic9\", \"Topic9\", \"Topic9\", \"Topic9\", \"Topic10\", \"Topic10\", \"Topic10\", \"Topic10\", \"Topic10\", \"Topic10\", \"Topic10\", \"Topic10\", \"Topic10\", \"Topic10\", \"Topic10\", \"Topic10\", \"Topic10\", \"Topic10\", \"Topic10\", \"Topic10\", \"Topic10\", \"Topic10\", \"Topic10\", \"Topic10\", \"Topic10\", \"Topic10\", \"Topic10\", \"Topic10\", \"Topic10\", \"Topic10\", \"Topic10\", \"Topic10\", \"Topic10\", \"Topic10\", \"Topic10\", \"Topic10\", \"Topic10\", \"Topic10\", \"Topic10\", \"Topic10\", \"Topic10\", \"Topic10\", \"Topic10\", \"Topic10\", \"Topic10\", \"Topic10\", \"Topic10\", \"Topic10\", \"Topic10\", \"Topic10\", \"Topic10\", \"Topic10\", \"Topic10\", \"Topic10\", \"Topic10\", \"Topic10\", \"Topic10\", \"Topic10\", \"Topic10\", \"Topic10\", \"Topic10\", \"Topic10\", \"Topic10\", \"Topic10\", \"Topic10\", \"Topic10\", \"Topic10\", \"Topic10\", \"Topic10\", \"Topic10\", \"Topic10\", \"Topic10\", \"Topic10\", \"Topic10\", \"Topic10\", \"Topic10\", \"Topic10\", \"Topic10\", \"Topic10\", \"Topic10\", \"Topic10\", \"Topic10\", \"Topic10\", \"Topic11\", \"Topic11\", \"Topic11\", \"Topic11\", \"Topic11\", \"Topic11\", \"Topic11\", \"Topic11\", \"Topic11\", \"Topic11\", \"Topic11\", \"Topic11\", \"Topic11\", \"Topic11\", \"Topic11\", \"Topic11\", \"Topic11\", \"Topic11\", \"Topic11\", \"Topic11\", \"Topic11\", \"Topic11\", \"Topic11\", \"Topic11\", \"Topic11\", \"Topic11\", \"Topic11\", \"Topic11\", \"Topic11\", \"Topic11\", \"Topic11\", \"Topic11\", \"Topic11\", \"Topic11\", \"Topic11\", \"Topic11\", \"Topic11\", \"Topic11\", \"Topic11\", \"Topic11\", \"Topic11\", \"Topic11\", \"Topic11\", \"Topic11\", \"Topic11\", \"Topic11\", \"Topic11\", \"Topic11\", \"Topic11\", \"Topic11\", \"Topic11\", \"Topic11\", \"Topic11\", \"Topic11\", \"Topic11\", \"Topic11\", \"Topic11\", \"Topic11\", \"Topic11\", \"Topic11\", \"Topic11\", \"Topic11\", \"Topic11\", \"Topic11\", \"Topic11\", \"Topic11\", \"Topic11\", \"Topic11\", \"Topic11\", \"Topic11\", \"Topic11\", \"Topic11\", \"Topic11\", \"Topic11\", \"Topic11\", \"Topic11\", \"Topic11\", \"Topic11\", \"Topic11\", \"Topic12\", \"Topic12\", \"Topic12\", \"Topic12\", \"Topic12\", \"Topic12\", \"Topic12\", \"Topic12\", \"Topic12\", \"Topic12\", \"Topic12\", \"Topic12\", \"Topic12\", \"Topic12\", \"Topic12\", \"Topic12\", \"Topic12\", \"Topic12\", \"Topic12\", \"Topic12\", \"Topic12\", \"Topic12\", \"Topic12\", \"Topic12\", \"Topic12\", \"Topic12\", \"Topic12\", \"Topic12\", \"Topic12\", \"Topic12\", \"Topic12\", \"Topic12\", \"Topic12\", \"Topic12\", \"Topic12\", \"Topic12\", \"Topic12\", \"Topic12\", \"Topic12\", \"Topic12\", \"Topic12\", \"Topic12\", \"Topic12\", \"Topic12\", \"Topic12\", \"Topic12\", \"Topic12\", \"Topic12\", \"Topic12\", \"Topic12\", \"Topic12\", \"Topic12\", \"Topic12\", \"Topic12\", \"Topic12\", \"Topic12\", \"Topic12\", \"Topic12\", \"Topic12\", \"Topic12\", \"Topic12\", \"Topic12\", \"Topic13\", \"Topic13\", \"Topic13\", \"Topic13\", \"Topic13\", \"Topic13\", \"Topic13\", \"Topic13\", \"Topic13\", \"Topic13\", \"Topic13\", \"Topic13\", \"Topic13\", \"Topic13\", \"Topic13\", \"Topic13\", \"Topic13\", \"Topic13\", \"Topic13\", \"Topic13\", \"Topic13\", \"Topic13\", \"Topic13\", \"Topic13\", \"Topic13\", \"Topic13\", \"Topic13\", \"Topic13\", \"Topic13\", \"Topic13\", \"Topic13\", \"Topic13\", \"Topic13\", \"Topic13\", \"Topic13\", \"Topic13\", \"Topic13\", \"Topic13\", \"Topic13\", \"Topic13\", \"Topic13\", \"Topic13\", \"Topic13\", \"Topic13\", \"Topic13\", \"Topic13\", \"Topic13\", \"Topic13\", \"Topic13\", \"Topic13\", \"Topic13\", \"Topic13\", \"Topic13\", \"Topic13\", \"Topic13\", \"Topic13\", \"Topic13\", \"Topic13\", \"Topic13\", \"Topic13\", \"Topic14\", \"Topic14\", \"Topic14\", \"Topic14\", \"Topic14\", \"Topic14\", \"Topic14\", \"Topic14\", \"Topic14\", \"Topic14\", \"Topic14\", \"Topic14\", \"Topic14\", \"Topic14\", \"Topic14\", \"Topic14\", \"Topic14\", \"Topic14\", \"Topic14\", \"Topic14\", \"Topic14\", \"Topic14\", \"Topic14\", \"Topic14\", \"Topic14\", \"Topic14\", \"Topic14\", \"Topic14\", \"Topic14\", \"Topic14\", \"Topic14\", \"Topic14\", \"Topic14\", \"Topic14\", \"Topic14\", \"Topic14\", \"Topic14\", \"Topic14\", \"Topic14\", \"Topic14\", \"Topic14\", \"Topic14\", \"Topic14\", \"Topic14\", \"Topic14\", \"Topic14\", \"Topic14\", \"Topic14\", \"Topic14\", \"Topic14\", \"Topic14\", \"Topic14\", \"Topic14\", \"Topic14\", \"Topic14\", \"Topic14\", \"Topic15\", \"Topic15\", \"Topic15\", \"Topic15\", \"Topic15\", \"Topic15\", \"Topic15\", \"Topic15\", \"Topic15\", \"Topic15\", \"Topic15\", \"Topic15\", \"Topic15\", \"Topic15\", \"Topic15\", \"Topic15\", \"Topic15\", \"Topic15\", \"Topic15\", \"Topic15\", \"Topic15\", \"Topic15\", \"Topic15\", \"Topic15\", \"Topic15\", \"Topic15\", \"Topic15\", \"Topic15\", \"Topic15\", \"Topic15\", \"Topic15\", \"Topic15\", \"Topic15\", \"Topic15\", \"Topic15\", \"Topic15\", \"Topic15\", \"Topic15\", \"Topic15\", \"Topic15\", \"Topic15\", \"Topic15\", \"Topic15\", \"Topic15\", \"Topic15\", \"Topic15\", \"Topic15\", \"Topic15\", \"Topic15\", \"Topic16\", \"Topic16\", \"Topic16\", \"Topic16\", \"Topic16\", \"Topic16\", \"Topic16\", \"Topic16\", \"Topic16\", \"Topic16\", \"Topic16\", \"Topic16\", \"Topic16\", \"Topic16\", \"Topic16\", \"Topic16\", \"Topic16\", \"Topic16\", \"Topic16\", \"Topic16\", \"Topic16\", \"Topic16\", \"Topic16\", \"Topic16\", \"Topic16\", \"Topic16\", \"Topic16\", \"Topic16\", \"Topic16\", \"Topic16\", \"Topic16\", \"Topic16\", \"Topic16\", \"Topic16\", \"Topic16\", \"Topic16\", \"Topic16\", \"Topic16\", \"Topic16\", \"Topic16\", \"Topic16\", \"Topic16\", \"Topic16\", \"Topic16\", \"Topic16\", \"Topic17\", \"Topic17\", \"Topic17\", \"Topic17\", \"Topic17\", \"Topic17\", \"Topic17\", \"Topic17\", \"Topic17\", \"Topic17\", \"Topic17\", \"Topic17\", \"Topic17\", \"Topic17\", \"Topic17\", \"Topic17\", \"Topic17\", \"Topic17\", \"Topic17\", \"Topic17\", \"Topic17\", \"Topic17\", \"Topic17\", \"Topic17\", \"Topic17\", \"Topic17\", \"Topic17\", \"Topic17\", \"Topic17\", \"Topic17\", \"Topic17\", \"Topic17\", \"Topic17\", \"Topic17\", \"Topic17\", \"Topic17\", \"Topic17\", \"Topic17\", \"Topic17\", \"Topic17\", \"Topic17\", \"Topic17\", \"Topic17\", \"Topic17\", \"Topic17\", \"Topic17\", \"Topic17\", \"Topic17\", \"Topic17\", \"Topic17\", \"Topic17\", \"Topic17\", \"Topic17\", \"Topic17\", \"Topic17\", \"Topic17\", \"Topic17\", \"Topic17\", \"Topic17\", \"Topic17\", \"Topic17\", \"Topic17\", \"Topic17\", \"Topic17\", \"Topic17\", \"Topic17\", \"Topic17\", \"Topic17\", \"Topic17\", \"Topic17\", \"Topic17\", \"Topic17\", \"Topic17\", \"Topic17\", \"Topic17\", \"Topic17\", \"Topic17\", \"Topic18\", \"Topic18\", \"Topic18\", \"Topic18\", \"Topic18\", \"Topic18\", \"Topic18\", \"Topic18\", \"Topic18\", \"Topic18\", \"Topic18\", \"Topic18\", \"Topic18\", \"Topic18\", \"Topic18\", \"Topic18\", \"Topic18\", \"Topic18\", \"Topic18\", \"Topic18\", \"Topic18\", \"Topic18\", \"Topic18\", \"Topic18\", \"Topic18\", \"Topic18\", \"Topic18\", \"Topic18\", \"Topic18\", \"Topic18\", \"Topic18\", \"Topic18\", \"Topic18\", \"Topic18\", \"Topic18\", \"Topic18\", \"Topic18\", \"Topic18\", \"Topic18\", \"Topic18\", \"Topic18\", \"Topic18\", \"Topic18\", \"Topic18\", \"Topic18\", \"Topic18\", \"Topic18\", \"Topic18\", \"Topic18\", \"Topic18\", \"Topic18\", \"Topic18\", \"Topic18\", \"Topic18\", \"Topic18\", \"Topic19\", \"Topic19\", \"Topic19\", \"Topic19\", \"Topic19\", \"Topic19\", \"Topic19\", \"Topic19\", \"Topic19\", \"Topic19\", \"Topic19\", \"Topic19\", \"Topic19\", \"Topic19\", \"Topic19\", \"Topic19\", \"Topic19\", \"Topic19\", \"Topic19\", \"Topic19\", \"Topic19\", \"Topic19\", \"Topic19\", \"Topic19\", \"Topic19\", \"Topic19\", \"Topic19\", \"Topic19\", \"Topic19\", \"Topic19\", \"Topic19\", \"Topic19\", \"Topic19\", \"Topic19\", \"Topic20\", \"Topic20\", \"Topic20\", \"Topic20\", \"Topic20\", \"Topic20\", \"Topic20\", \"Topic20\", \"Topic20\", \"Topic20\", \"Topic20\", \"Topic20\", \"Topic20\", \"Topic20\", \"Topic20\", \"Topic20\", \"Topic20\", \"Topic20\", \"Topic20\", \"Topic20\", \"Topic20\", \"Topic20\", \"Topic20\", \"Topic20\", \"Topic20\", \"Topic20\", \"Topic20\", \"Topic20\", \"Topic20\", \"Topic20\", \"Topic20\", \"Topic20\", \"Topic21\", \"Topic21\", \"Topic21\", \"Topic21\", \"Topic21\", \"Topic21\", \"Topic21\", \"Topic21\", \"Topic21\", \"Topic21\", \"Topic21\", \"Topic21\", \"Topic21\", \"Topic21\", \"Topic21\", \"Topic21\", \"Topic21\", \"Topic21\", \"Topic21\", \"Topic21\", \"Topic21\", \"Topic21\", \"Topic21\", \"Topic21\", \"Topic21\", \"Topic21\", \"Topic21\", \"Topic21\", \"Topic21\", \"Topic21\", \"Topic21\", \"Topic21\", \"Topic21\", \"Topic21\", \"Topic21\", \"Topic21\", \"Topic21\", \"Topic21\", \"Topic21\", \"Topic21\", \"Topic21\", \"Topic21\", \"Topic21\", \"Topic21\", \"Topic21\", \"Topic21\", \"Topic21\", \"Topic21\", \"Topic21\", \"Topic21\", \"Topic21\", \"Topic21\", \"Topic21\", \"Topic21\", \"Topic21\", \"Topic21\", \"Topic21\", \"Topic21\", \"Topic21\", \"Topic21\", \"Topic21\", \"Topic21\", \"Topic21\", \"Topic21\", \"Topic21\", \"Topic21\", \"Topic21\", \"Topic21\", \"Topic21\", \"Topic22\", \"Topic22\", \"Topic22\", \"Topic22\", \"Topic22\", \"Topic22\", \"Topic22\", \"Topic22\", \"Topic22\", \"Topic22\", \"Topic22\", \"Topic22\", \"Topic22\", \"Topic22\", \"Topic22\", \"Topic22\", \"Topic22\", \"Topic22\", \"Topic22\", \"Topic22\", \"Topic22\", \"Topic22\", \"Topic22\", \"Topic22\", \"Topic22\", \"Topic22\", \"Topic22\", \"Topic22\", \"Topic22\", \"Topic22\", \"Topic22\", \"Topic22\", \"Topic22\", \"Topic22\", \"Topic22\", \"Topic22\", \"Topic22\", \"Topic22\", \"Topic23\", \"Topic23\", \"Topic23\", \"Topic23\", \"Topic23\", \"Topic23\", \"Topic23\", \"Topic23\", \"Topic23\", \"Topic23\", \"Topic23\", \"Topic23\", \"Topic23\", \"Topic23\", \"Topic23\", \"Topic23\", \"Topic23\", \"Topic23\", \"Topic23\", \"Topic23\", \"Topic23\", \"Topic23\", \"Topic23\", \"Topic23\", \"Topic23\", \"Topic23\", \"Topic23\", \"Topic23\", \"Topic23\", \"Topic23\", \"Topic23\", \"Topic23\", \"Topic23\", \"Topic23\", \"Topic23\", \"Topic23\", \"Topic23\", \"Topic23\", \"Topic23\", \"Topic23\", \"Topic23\", \"Topic23\", \"Topic23\", \"Topic23\", \"Topic23\", \"Topic23\", \"Topic23\", \"Topic23\", \"Topic23\", \"Topic23\", \"Topic23\", \"Topic23\", \"Topic23\", \"Topic23\", \"Topic23\", \"Topic23\", \"Topic23\", \"Topic23\", \"Topic23\", \"Topic23\", \"Topic23\", \"Topic23\", \"Topic23\", \"Topic23\", \"Topic24\", \"Topic24\", \"Topic24\", \"Topic24\", \"Topic24\", \"Topic24\", \"Topic24\", \"Topic24\", \"Topic24\", \"Topic24\", \"Topic24\", \"Topic24\", \"Topic24\", \"Topic24\", \"Topic24\", \"Topic24\", \"Topic24\", \"Topic24\", \"Topic24\", \"Topic24\", \"Topic24\", \"Topic24\", \"Topic24\", \"Topic24\", \"Topic24\", \"Topic24\", \"Topic24\", \"Topic24\", \"Topic24\", \"Topic24\", \"Topic24\", \"Topic24\", \"Topic24\", \"Topic24\", \"Topic24\", \"Topic24\", \"Topic24\", \"Topic24\", \"Topic24\", \"Topic24\", \"Topic24\", \"Topic24\", \"Topic24\", \"Topic24\", \"Topic24\", \"Topic24\", \"Topic24\", \"Topic24\", \"Topic25\", \"Topic25\", \"Topic25\", \"Topic25\", \"Topic25\", \"Topic25\", \"Topic25\", \"Topic25\", \"Topic25\", \"Topic25\", \"Topic25\", \"Topic25\", \"Topic25\", \"Topic25\", \"Topic25\", \"Topic25\", \"Topic25\", \"Topic25\", \"Topic25\", \"Topic25\", \"Topic25\", \"Topic25\", \"Topic25\", \"Topic25\", \"Topic25\", \"Topic25\", \"Topic25\", \"Topic25\", \"Topic25\", \"Topic25\", \"Topic25\", \"Topic25\", \"Topic25\", \"Topic25\", \"Topic25\", \"Topic25\", \"Topic25\", \"Topic25\", \"Topic25\", \"Topic25\", \"Topic25\", \"Topic25\", \"Topic25\", \"Topic25\", \"Topic25\", \"Topic25\", \"Topic25\", \"Topic25\", \"Topic25\", \"Topic25\", \"Topic25\", \"Topic25\", \"Topic25\", \"Topic25\", \"Topic25\", \"Topic25\", \"Topic25\", \"Topic25\", \"Topic25\", \"Topic25\", \"Topic25\", \"Topic25\", \"Topic25\", \"Topic25\", \"Topic25\", \"Topic25\", \"Topic25\", \"Topic25\", \"Topic25\", \"Topic25\", \"Topic25\", \"Topic25\", \"Topic25\", \"Topic25\", \"Topic25\", \"Topic25\", \"Topic26\", \"Topic26\", \"Topic26\", \"Topic26\", \"Topic26\", \"Topic26\", \"Topic26\", \"Topic26\", \"Topic26\", \"Topic26\", \"Topic26\", \"Topic26\", \"Topic26\", \"Topic26\", \"Topic26\", \"Topic26\", \"Topic26\", \"Topic26\", \"Topic26\", \"Topic26\", \"Topic26\", \"Topic26\", \"Topic26\", \"Topic26\", \"Topic26\", \"Topic26\", \"Topic26\", \"Topic26\", \"Topic26\", \"Topic26\", \"Topic26\", \"Topic26\", \"Topic26\", \"Topic26\", \"Topic26\", \"Topic26\", \"Topic26\", \"Topic26\", \"Topic26\", \"Topic26\", \"Topic26\", \"Topic26\", \"Topic26\", \"Topic26\", \"Topic26\", \"Topic26\", \"Topic26\", \"Topic26\", \"Topic26\", \"Topic26\", \"Topic26\", \"Topic26\", \"Topic26\", \"Topic26\", \"Topic26\", \"Topic26\", \"Topic26\", \"Topic26\", \"Topic26\", \"Topic26\", \"Topic26\", \"Topic26\", \"Topic26\", \"Topic26\", \"Topic26\", \"Topic26\", \"Topic27\", \"Topic27\", \"Topic27\", \"Topic27\", \"Topic27\", \"Topic27\", \"Topic27\", \"Topic27\", \"Topic27\", \"Topic27\", \"Topic27\", \"Topic27\", \"Topic27\", \"Topic27\", \"Topic27\", \"Topic27\", \"Topic27\", \"Topic27\", \"Topic27\", \"Topic27\", \"Topic27\", \"Topic27\", \"Topic27\", \"Topic27\", \"Topic27\", \"Topic27\", \"Topic27\", \"Topic27\", \"Topic27\", \"Topic27\", \"Topic27\", \"Topic27\", \"Topic28\", \"Topic28\", \"Topic28\", \"Topic28\", \"Topic28\", \"Topic28\", \"Topic28\", \"Topic28\", \"Topic28\", \"Topic28\", \"Topic28\", \"Topic28\", \"Topic28\", \"Topic28\", \"Topic28\", \"Topic28\", \"Topic28\", \"Topic28\", \"Topic28\", \"Topic28\", \"Topic28\", \"Topic28\", \"Topic28\", \"Topic28\", \"Topic28\", \"Topic28\", \"Topic28\", \"Topic28\", \"Topic28\", \"Topic28\", \"Topic28\", \"Topic28\", \"Topic28\", \"Topic28\", \"Topic28\", \"Topic28\", \"Topic28\", \"Topic28\", \"Topic28\", \"Topic28\", \"Topic28\", \"Topic28\", \"Topic28\", \"Topic28\", \"Topic28\", \"Topic28\", \"Topic28\", \"Topic28\", \"Topic28\", \"Topic28\", \"Topic28\", \"Topic28\", \"Topic28\", \"Topic28\", \"Topic28\", \"Topic28\", \"Topic28\", \"Topic28\", \"Topic28\", \"Topic28\", \"Topic28\", \"Topic28\", \"Topic29\", \"Topic29\", \"Topic29\", \"Topic29\", \"Topic29\", \"Topic29\", \"Topic29\", \"Topic29\", \"Topic29\", \"Topic29\", \"Topic29\", \"Topic29\", \"Topic29\", \"Topic29\", \"Topic29\", \"Topic29\", \"Topic29\", \"Topic29\", \"Topic29\", \"Topic29\", \"Topic29\", \"Topic29\", \"Topic29\", \"Topic29\", \"Topic29\", \"Topic29\", \"Topic29\", \"Topic29\", \"Topic29\", \"Topic29\", \"Topic29\", \"Topic29\", \"Topic29\", \"Topic29\", \"Topic29\", \"Topic29\", \"Topic29\", \"Topic29\", \"Topic29\", \"Topic29\", \"Topic29\", \"Topic29\", \"Topic30\", \"Topic30\", \"Topic30\", \"Topic30\", \"Topic30\", \"Topic30\", \"Topic30\", \"Topic30\", \"Topic30\", \"Topic30\", \"Topic30\", \"Topic30\", \"Topic30\", \"Topic30\", \"Topic30\", \"Topic30\", \"Topic30\", \"Topic30\", \"Topic30\", \"Topic30\", \"Topic30\", \"Topic30\", \"Topic30\", \"Topic30\", \"Topic30\", \"Topic30\", \"Topic30\", \"Topic30\", \"Topic30\", \"Topic30\", \"Topic30\", \"Topic30\", \"Topic30\", \"Topic30\", \"Topic30\", \"Topic30\", \"Topic30\", \"Topic30\", \"Topic30\", \"Topic30\", \"Topic30\", \"Topic30\", \"Topic30\", \"Topic31\", \"Topic31\", \"Topic31\", \"Topic31\", \"Topic31\", \"Topic31\", \"Topic31\", \"Topic31\", \"Topic31\", \"Topic31\", \"Topic31\", \"Topic31\", \"Topic31\", \"Topic31\", \"Topic31\", \"Topic31\", \"Topic31\", \"Topic31\", \"Topic31\", \"Topic31\", \"Topic31\", \"Topic31\", \"Topic31\", \"Topic31\", \"Topic31\", \"Topic31\", \"Topic31\", \"Topic31\", \"Topic31\", \"Topic31\", \"Topic31\", \"Topic31\", \"Topic31\", \"Topic31\", \"Topic31\", \"Topic31\", \"Topic31\", \"Topic31\", \"Topic31\", \"Topic31\", \"Topic31\", \"Topic31\", \"Topic31\", \"Topic31\", \"Topic31\", \"Topic31\", \"Topic31\", \"Topic31\", \"Topic31\", \"Topic31\", \"Topic31\", \"Topic31\", \"Topic31\", \"Topic31\", \"Topic31\", \"Topic31\", \"Topic31\", \"Topic31\", \"Topic31\", \"Topic31\", \"Topic31\", \"Topic31\", \"Topic31\", \"Topic31\", \"Topic32\", \"Topic32\", \"Topic32\", \"Topic32\", \"Topic32\", \"Topic32\", \"Topic32\", \"Topic32\", \"Topic32\", \"Topic32\", \"Topic32\", \"Topic32\", \"Topic32\", \"Topic32\", \"Topic32\", \"Topic32\", \"Topic32\", \"Topic32\", \"Topic32\", \"Topic32\", \"Topic32\", \"Topic32\", \"Topic32\", \"Topic32\", \"Topic32\", \"Topic32\", \"Topic32\", \"Topic32\", \"Topic32\", \"Topic32\", \"Topic32\", \"Topic32\", \"Topic32\", \"Topic32\", \"Topic32\", \"Topic32\", \"Topic32\", \"Topic32\", \"Topic32\", \"Topic32\", \"Topic32\", \"Topic32\", \"Topic32\", \"Topic32\", \"Topic32\", \"Topic32\", \"Topic32\", \"Topic32\", \"Topic32\", \"Topic32\", \"Topic32\", \"Topic32\", \"Topic32\", \"Topic32\", \"Topic32\", \"Topic32\", \"Topic32\", \"Topic32\", \"Topic32\", \"Topic32\", \"Topic32\", \"Topic32\", \"Topic33\", \"Topic33\", \"Topic33\", \"Topic33\", \"Topic33\", \"Topic33\", \"Topic33\", \"Topic33\", \"Topic33\", \"Topic33\", \"Topic33\", \"Topic33\", \"Topic33\", \"Topic33\", \"Topic33\", \"Topic33\", \"Topic33\", \"Topic33\", \"Topic33\", \"Topic33\", \"Topic33\", \"Topic33\", \"Topic33\", \"Topic33\", \"Topic33\", \"Topic33\", \"Topic33\", \"Topic33\", \"Topic33\", \"Topic33\", \"Topic33\", \"Topic33\", \"Topic33\", \"Topic33\", \"Topic33\", \"Topic33\", \"Topic33\", \"Topic33\", \"Topic33\", \"Topic33\", \"Topic33\", \"Topic33\", \"Topic33\", \"Topic33\", \"Topic33\", \"Topic33\", \"Topic34\", \"Topic34\", \"Topic34\", \"Topic34\", \"Topic34\", \"Topic34\", \"Topic34\", \"Topic34\", \"Topic34\", \"Topic34\", \"Topic34\", \"Topic34\", \"Topic34\", \"Topic34\", \"Topic34\", \"Topic34\", \"Topic34\", \"Topic34\", \"Topic34\", \"Topic34\", \"Topic34\", \"Topic34\", \"Topic34\", \"Topic34\", \"Topic34\", \"Topic34\", \"Topic34\", \"Topic34\", \"Topic34\", \"Topic34\", \"Topic34\", \"Topic34\", \"Topic34\", \"Topic34\", \"Topic34\", \"Topic34\", \"Topic34\", \"Topic34\", \"Topic34\", \"Topic34\", \"Topic34\", \"Topic34\", \"Topic34\", \"Topic34\", \"Topic34\", \"Topic34\", \"Topic34\", \"Topic34\", \"Topic34\", \"Topic34\", \"Topic34\", \"Topic34\", \"Topic34\", \"Topic34\", \"Topic34\", \"Topic34\", \"Topic34\", \"Topic34\", \"Topic34\", \"Topic34\", \"Topic34\", \"Topic34\", \"Topic34\", \"Topic34\", \"Topic34\", \"Topic34\", \"Topic34\", \"Topic34\", \"Topic34\", \"Topic34\", \"Topic34\", \"Topic34\", \"Topic34\", \"Topic34\", \"Topic34\", \"Topic34\", \"Topic34\", \"Topic34\", \"Topic34\", \"Topic34\", \"Topic34\", \"Topic34\", \"Topic34\", \"Topic35\", \"Topic35\", \"Topic35\", \"Topic35\", \"Topic35\", \"Topic35\", \"Topic35\", \"Topic35\", \"Topic35\", \"Topic35\", \"Topic35\", \"Topic35\", \"Topic35\", \"Topic35\", \"Topic35\", \"Topic35\", \"Topic35\", \"Topic35\", \"Topic35\", \"Topic35\", \"Topic35\", \"Topic35\", \"Topic35\", \"Topic35\", \"Topic35\", \"Topic35\", \"Topic35\", \"Topic35\", \"Topic35\", \"Topic35\", \"Topic35\", \"Topic35\", \"Topic35\", \"Topic35\", \"Topic35\", \"Topic35\", \"Topic35\", \"Topic35\", \"Topic35\"], \"Freq\": [3380.0, 1734.0, 1561.0, 2565.0, 1380.0, 1097.0, 1771.0, 1757.0, 3392.0, 1411.0, 1120.0, 886.0, 2852.0, 819.0, 2049.0, 833.0, 674.0, 850.0, 1009.0, 1152.0, 1021.0, 860.0, 962.0, 968.0, 1310.0, 1000.0, 851.0, 943.0, 1039.0, 640.0, 71.39669799804688, 41.263153076171875, 30.374025344848633, 27.092212677001953, 26.271753311157227, 25.451305389404297, 24.630849838256836, 22.169483184814453, 22.16948890686035, 20.119930267333984, 19.708127975463867, 18.067222595214844, 18.067222595214844, 15.605860710144043, 15.197210311889648, 13.635138511657715, 13.144499778747559, 12.32404613494873, 12.32404613494873, 10.478814125061035, 10.277639389038086, 9.042232513427734, 9.042230606079102, 9.042230606079102, 8.221779823303223, 8.22177791595459, 7.401325225830078, 7.401325225830078, 7.196999549865723, 6.580872058868408, 6.580872058868408, 6.580872058868408, 6.580872058868408, 6.580872058868408, 6.580872058868408, 6.580872058868408, 6.580871105194092, 6.580873012542725, 9.3057279586792, 7.8556976318359375, 396.89447021484375, 242.43846130371094, 240.29335021972656, 230.09518432617188, 150.5198516845703, 133.49229431152344, 126.39237976074219, 97.90645599365234, 85.00660705566406, 84.04487609863281, 84.0274429321289, 83.94658660888672, 82.71788787841797, 81.1574478149414, 79.18315124511719, 77.35226440429688, 74.02953338623047, 73.1038818359375, 72.5749282836914, 71.69116973876953, 69.71797180175781, 67.38052368164062, 66.62808990478516, 63.49864196777344, 63.0039176940918, 58.66031265258789, 58.54145812988281, 55.70258712768555, 55.556800842285156, 54.237060546875, 325.56488037109375, 205.03817749023438, 125.16926574707031, 748.3138427734375, 719.7293090820312, 120.37776184082031, 188.75238037109375, 121.83894348144531, 250.61927795410156, 86.62627410888672, 136.4412384033203, 178.87583923339844, 129.15428161621094, 209.68507385253906, 283.2406005859375, 1081.440673828125, 149.3478546142578, 178.0958251953125, 175.095458984375, 247.71157836914062, 154.08895874023438, 301.35894775390625, 212.27793884277344, 424.4349670410156, 383.225341796875, 258.758056640625, 335.1999206542969, 417.80389404296875, 302.9366149902344, 210.08221435546875, 218.60711669921875, 272.1706237792969, 209.91952514648438, 205.92991638183594, 197.45230102539062, 195.8766326904297, 192.932861328125, 190.01954650878906, 21.53090476989746, 12.453474998474121, 10.771607398986816, 5.531886577606201, 5.391958713531494, 5.391958713531494, 5.391958713531494, 4.763741970062256, 3.888413429260254, 3.526949405670166, 3.383190631866455, 2.8420631885528564, 2.7021355628967285, 2.7021355628967285, 2.7021355628967285, 2.7021355628967285, 2.7021355628967285, 2.5310184955596924, 2.2017242908477783, 2.0230700969696045, 1.8313778638839722, 1.6964194774627686, 1.6541343927383423, 1.398710012435913, 2.8088021278381348, 1.1719523668289185, 1.108797311782837, 16.609941482543945, 0.9918087124824524, 0.9438955187797546, 49.155338287353516, 8.05904769897461, 2.7359232902526855, 1.5367344617843628, 1.1503897905349731, 0.6505866050720215, 0.37941595911979675, 0.37227189540863037, 0.2995968461036682, 0.1915924847126007, 0.09958745539188385, 0.060292087495326996, 0.031416360288858414, 0.031416360288858414, 0.031416360288858414, 0.031416360288858414, 0.031416360288858414, 0.031416360288858414, 0.031416360288858414, 0.031416360288858414, 0.031416360288858414, 0.002540633315220475, 0.002540633315220475, 0.002540633315220475, 0.002540633315220475, 0.002540633315220475, 0.002540633315220475, 0.002540633315220475, 0.002540633315220475, 0.002540633315220475, 0.002540633315220475, 0.002540633315220475, 0.002540633315220475, 0.002540633315220475, 0.00254065846092999, 0.0025406531058251858, 0.0025406365748494864, 0.002540633548051119, 0.002540634712204337, 0.0025406349450349808, 0.002540634013712406, 0.00254063424654305, 0.0025406337808817625, 0.0025406337808817625, 0.002540633315220475, 0.002540633315220475, 42.25954055786133, 34.4390983581543, 34.03641891479492, 28.1827392578125, 26.618650436401367, 21.144344329833984, 20.3622989654541, 19.66221046447754, 19.58025550842285, 19.58025550842285, 18.798206329345703, 17.23412322998047, 15.670031547546387, 15.67003345489502, 15.670031547546387, 14.165046691894531, 14.105941772460938, 14.105941772460938, 13.546594619750977, 13.546592712402344, 13.323897361755371, 13.323897361755371, 13.323897361755371, 12.541853904724121, 12.541853904724121, 12.541853904724121, 12.541853904724121, 11.759809494018555, 11.759809494018555, 10.977766036987305, 10.977766036987305, 10.977766036987305, 17.97994613647461, 15.665000915527344, 72.9638900756836, 76.73055267333984, 37.346961975097656, 27.482486724853516, 36.32701110839844, 50.59657287597656, 29.278453826904297, 26.843055725097656, 23.225690841674805, 21.54479217529297, 21.294940948486328, 16.9782772064209, 15.223947525024414, 14.203630447387695, 14.152373313903809, 13.802220344543457, 13.590946197509766, 13.259255409240723, 11.724775314331055, 11.56937313079834, 9.833908081054688, 9.551546096801758, 9.550094604492188, 8.553199768066406, 8.49884033203125, 8.49884033203125, 8.479270935058594, 8.495203018188477, 8.495203018188477, 8.495203018188477, 6.991239547729492, 6.949467658996582, 6.7694902420043945, 6.610567092895508, 6.591212749481201, 6.5059075355529785, 6.175674915313721, 6.166542053222656, 209.92950439453125, 45.7093505859375, 13.581551551818848, 14.271516799926758, 11.281561851501465, 25.315927505493164, 48.987144470214844, 10.549558639526367, 19.792713165283203, 18.344104766845703, 21.507572174072266, 39.601131439208984, 36.97731018066406, 27.137046813964844, 32.3164176940918, 25.849641799926758, 20.851404190063477, 33.829524993896484, 45.2412109375, 15.990696907043457, 26.104610443115234, 22.855087280273438, 22.10495376586914, 31.853443145751953, 20.99742889404297, 22.760086059570312, 20.91733741760254, 17.19205093383789, 17.299671173095703, 17.5371036529541, 16.932737350463867, 240.8629608154297, 195.75367736816406, 207.1256103515625, 131.0996551513672, 119.52632141113281, 118.80044555664062, 102.09136962890625, 96.60245513916016, 89.32815551757812, 77.95407104492188, 77.70445251464844, 77.4848403930664, 61.745540618896484, 57.47663497924805, 53.825958251953125, 50.10478210449219, 49.783790588378906, 49.54624557495117, 48.566864013671875, 48.311031341552734, 46.76010513305664, 46.74627685546875, 43.665470123291016, 41.84711837768555, 41.63640594482422, 39.377784729003906, 39.34242248535156, 36.18659591674805, 36.183101654052734, 35.278724670410156, 106.43547821044922, 99.07682800292969, 51.154048919677734, 302.3564147949219, 63.71407699584961, 511.44940185546875, 429.4285583496094, 231.95181274414062, 243.53985595703125, 287.97119140625, 308.7508239746094, 650.5843505859375, 73.41349029541016, 117.97020721435547, 284.96905517578125, 369.4405822753906, 293.2801818847656, 381.6476135253906, 153.67727661132812, 582.799560546875, 488.2760925292969, 236.0838165283203, 301.2039794921875, 222.39633178710938, 568.009765625, 334.83544921875, 194.17030334472656, 244.9530792236328, 713.65478515625, 258.7004089355469, 202.6488494873047, 185.9920654296875, 261.3675231933594, 177.4904022216797, 231.2623748779297, 367.248779296875, 240.9312286376953, 220.30813598632812, 203.1262664794922, 4.602568626403809, 2.015925645828247, 1.7036371231079102, 1.6110143661499023, 1.6110143661499023, 1.3324559926986694, 1.3048255443572998, 1.2709161043167114, 1.2209454774856567, 1.1832683086395264, 1.1793690919876099, 0.8008097410202026, 0.8008097410202026, 0.7961159348487854, 0.7791028022766113, 0.7051950693130493, 0.5958405137062073, 0.578201174736023, 0.578201174736023, 0.578201174736023, 0.5169799327850342, 0.5169799327850342, 0.5042934417724609, 0.47851893305778503, 0.47851893305778503, 0.47851893305778503, 0.4430721402168274, 0.44307222962379456, 0.4046112596988678, 0.40366649627685547, 0.7980085015296936, 73.9603042602539, 56.388755798339844, 53.404598236083984, 42.48685073852539, 39.00611114501953, 37.557861328125, 33.408416748046875, 29.808813095092773, 27.24024200439453, 25.7977294921875, 24.87299156188965, 23.40203857421875, 23.389453887939453, 21.221033096313477, 20.67696762084961, 18.891830444335938, 18.04440689086914, 17.838924407958984, 17.608509063720703, 17.423425674438477, 17.423425674438477, 17.246898651123047, 16.74453353881836, 16.46546745300293, 16.037919998168945, 15.816139221191406, 15.352049827575684, 15.087727546691895, 15.04430866241455, 14.681375503540039, 165.9847869873047, 50.71601104736328, 19.545589447021484, 61.29150390625, 45.34951400756836, 45.02027893066406, 95.37039184570312, 39.861000061035156, 46.472232818603516, 224.4458770751953, 57.148929595947266, 58.131778717041016, 137.7460174560547, 65.248779296875, 117.36932373046875, 25.8692569732666, 46.66048049926758, 60.780208587646484, 44.29277038574219, 83.93948364257812, 72.66134643554688, 46.533905029296875, 33.86396408081055, 44.00235366821289, 70.60613250732422, 46.705909729003906, 96.65718078613281, 62.37714767456055, 46.69688034057617, 46.91557312011719, 44.49985885620117, 228.8119354248047, 175.06947326660156, 128.87326049804688, 118.83847045898438, 114.34882354736328, 84.90725708007812, 83.4056396484375, 79.3337631225586, 72.18719482421875, 69.29512786865234, 67.39859771728516, 62.733009338378906, 61.0603141784668, 61.00402069091797, 60.147403717041016, 59.89104080200195, 58.759456634521484, 267.75177001953125, 50.664493560791016, 50.64723205566406, 48.08913040161133, 48.34318161010742, 47.197994232177734, 47.1677131652832, 44.3592529296875, 42.76636505126953, 42.72309494018555, 42.51081848144531, 38.56028366088867, 38.45799255371094, 823.7127075195312, 199.3850860595703, 209.5628662109375, 97.68931579589844, 91.47563171386719, 1412.7523193359375, 99.60816955566406, 83.095458984375, 1605.7552490234375, 151.2767791748047, 901.1740112304688, 135.0933074951172, 657.596435546875, 639.69921875, 238.13363647460938, 256.4657897949219, 454.4568786621094, 564.7152709960938, 145.5706024169922, 155.2666778564453, 198.16661071777344, 333.34075927734375, 561.2610473632812, 224.98715209960938, 241.93067932128906, 597.9088134765625, 1300.3287353515625, 477.6398010253906, 451.8581848144531, 704.9761352539062, 456.8575439453125, 1152.411865234375, 621.8821411132812, 445.83154296875, 311.54107666015625, 277.5376281738281, 462.52752685546875, 531.8764038085938, 352.8421936035156, 342.70806884765625, 370.8168029785156, 592.1530151367188, 341.68994140625, 432.3494873046875, 556.717529296875, 322.67266845703125, 322.0166931152344, 329.24871826171875, 327.71734619140625, 64.78038787841797, 56.898216247558594, 63.42196273803711, 48.62495803833008, 47.686859130859375, 44.44283676147461, 40.49170684814453, 39.88233184814453, 38.642765045166016, 35.9329833984375, 33.71323013305664, 33.204734802246094, 32.30278396606445, 29.597347259521484, 29.43939971923828, 29.323266983032227, 28.373018264770508, 28.420774459838867, 28.02164649963379, 27.14618492126465, 26.99736785888672, 26.82427978515625, 26.16100311279297, 26.148813247680664, 25.676149368286133, 25.649250030517578, 25.636537551879883, 25.245933532714844, 26.648557662963867, 24.71218490600586, 73.97958374023438, 29.441442489624023, 28.445966720581055, 44.643821716308594, 79.2317123413086, 37.75941848754883, 107.48779296875, 341.7464904785156, 45.235347747802734, 72.6323013305664, 68.1332015991211, 303.0732727050781, 40.7526969909668, 81.09990692138672, 138.73348999023438, 121.91604614257812, 103.85025024414062, 143.0968780517578, 155.67791748046875, 118.97891235351562, 139.74586486816406, 88.7648696899414, 523.0582885742188, 169.12071228027344, 123.27275085449219, 227.6686248779297, 86.19454193115234, 193.96351623535156, 127.66497802734375, 135.6778564453125, 215.0559844970703, 262.30426025390625, 96.59990692138672, 136.35462951660156, 190.20223999023438, 154.86318969726562, 108.91488647460938, 117.96700286865234, 118.21028137207031, 109.52364349365234, 214.9463348388672, 133.289306640625, 168.1525115966797, 114.45613861083984, 129.83139038085938, 122.63397979736328, 117.37857055664062, 124.37895965576172, 115.05762481689453, 86.13197326660156, 37.96946334838867, 37.00678634643555, 30.186203002929688, 28.379186630249023, 28.008869171142578, 25.756105422973633, 24.51618766784668, 24.490793228149414, 24.490793228149414, 23.696950912475586, 23.696950912475586, 23.696950912475586, 23.696950912475586, 35.10234832763672, 20.784500122070312, 19.41062355041504, 19.15664291381836, 18.472570419311523, 17.936017990112305, 17.284975051879883, 16.391128540039062, 16.230636596679688, 16.11566925048828, 23.644668579101562, 15.409261703491211, 15.228775024414062, 14.26474380493164, 14.26474380493164, 14.26474380493164, 32.62420654296875, 32.658206939697266, 868.059326171875, 956.2620849609375, 103.53411865234375, 220.6651153564453, 116.91307830810547, 199.12318420410156, 115.21234893798828, 69.7948989868164, 330.77679443359375, 103.24432373046875, 169.59262084960938, 79.87167358398438, 85.24523162841797, 62.160118103027344, 38.443214416503906, 57.872703552246094, 63.25345230102539, 46.70225143432617, 46.031578063964844, 64.65299987792969, 47.203102111816406, 58.47540283203125, 52.41425704956055, 63.9188346862793, 54.89350891113281, 50.79213333129883, 45.64289855957031, 45.25611114501953, 42.331058502197266, 43.62639617919922, 80.5003433227539, 29.207530975341797, 28.631261825561523, 28.38770294189453, 15.948323249816895, 15.504636764526367, 15.249024391174316, 14.76768684387207, 13.162449836730957, 12.800979614257812, 12.387969970703125, 12.082432746887207, 11.844613075256348, 11.763625144958496, 11.057596206665039, 10.94593620300293, 10.22551441192627, 8.724922180175781, 8.67488956451416, 7.418208599090576, 7.346658229827881, 7.066613674163818, 6.661417007446289, 6.364802837371826, 6.258359909057617, 6.204984188079834, 6.175230979919434, 6.009235382080078, 5.994569301605225, 5.940036773681641, 168.620849609375, 14.947190284729004, 128.52731323242188, 17.653301239013672, 10.843639373779297, 60.801448822021484, 28.193153381347656, 155.9884490966797, 176.76870727539062, 15.430635452270508, 15.066812515258789, 34.06372833251953, 137.2812042236328, 113.20262908935547, 29.62380027770996, 73.336181640625, 50.091041564941406, 59.167625427246094, 55.065670013427734, 33.28643798828125, 34.780452728271484, 23.855838775634766, 29.170394897460938, 32.13801574707031, 25.543601989746094, 17.513254165649414, 20.102672576904297, 19.723724365234375, 17.275854110717773, 16.572769165039062, 106.89795684814453, 60.80466842651367, 44.17390823364258, 19.61416244506836, 17.613466262817383, 15.199586868286133, 14.579019546508789, 14.527508735656738, 12.446542739868164, 11.57835578918457, 9.692380905151367, 8.449883460998535, 7.536442279815674, 7.349393844604492, 7.146908760070801, 7.134688854217529, 6.7858662605285645, 6.647615432739258, 6.553442478179932, 6.460193634033203, 6.356175422668457, 6.307810306549072, 6.260797500610352, 6.199175834655762, 5.936946868896484, 5.867584228515625, 5.854398727416992, 5.108785629272461, 4.857256889343262, 4.857256889343262, 13.971464157104492, 4.857256889343262, 4.857256889343262, 4.857256889343262, 4.857256889343262, 4.857256889343262, 25.19696617126465, 59.82388687133789, 28.069520950317383, 7.682553291320801, 11.321198463439941, 18.59339141845703, 20.078079223632812, 28.693510055541992, 42.957679748535156, 13.576333999633789, 33.83769989013672, 21.098569869995117, 33.09305953979492, 11.776615142822266, 25.299800872802734, 13.425224304199219, 9.243810653686523, 8.398953437805176, 9.37475872039795, 8.939489364624023, 81.89949035644531, 81.28449249267578, 55.45216751098633, 47.449893951416016, 20.020227432250977, 19.457441329956055, 16.686067581176758, 10.743837356567383, 10.295863151550293, 7.81915807723999, 7.756570339202881, 7.409675121307373, 6.963414669036865, 6.6835832595825195, 5.581096172332764, 4.484996795654297, 4.371817588806152, 3.656940221786499, 3.522869348526001, 3.5057661533355713, 14.002370834350586, 2.80857515335083, 2.5010571479797363, 2.195662260055542, 1.7094131708145142, 1.5298367738723755, 19.97429847717285, 1.279241681098938, 1.279241681098938, 1.2386211156845093, 4.367894172668457, 8.426340103149414, 15.494853019714355, 17.841739654541016, 17.258590698242188, 13.92928695678711, 15.5393705368042, 36.35186004638672, 20.108217239379883, 26.69786834716797, 11.874551773071289, 18.74020004272461, 6.719801902770996, 6.76165771484375, 12.196769714355469, 10.48864459991455, 12.054117202758789, 9.931452751159668, 9.947070121765137, 111.45176696777344, 30.857858657836914, 24.111122131347656, 20.0981388092041, 16.48552703857422, 15.976980209350586, 15.383919715881348, 13.644584655761719, 13.394012451171875, 11.203020095825195, 11.009477615356445, 10.779271125793457, 10.174513816833496, 10.142974853515625, 9.13996696472168, 9.008063316345215, 8.585710525512695, 8.4583101272583, 7.911925792694092, 7.777108192443848, 7.749325275421143, 7.7418437004089355, 7.6532769203186035, 7.425290107727051, 7.078022480010986, 6.832483768463135, 6.580316066741943, 6.2567009925842285, 5.885824680328369, 5.8809428215026855, 47.57303237915039, 14.207841873168945, 13.373286247253418, 132.60934448242188, 16.717243194580078, 14.098222732543945, 30.260286331176758, 27.855119705200195, 13.54212474822998, 14.900751113891602, 15.481188774108887, 13.111799240112305, 10.809014320373535, 11.443039894104004, 9.966374397277832, 106.30075073242188, 78.41545104980469, 75.65801239013672, 63.799034118652344, 57.16736602783203, 52.74852752685547, 48.19795608520508, 53.66613006591797, 41.834930419921875, 39.94502258300781, 39.73456954956055, 37.1905517578125, 37.17192459106445, 36.7733039855957, 36.46339416503906, 36.23467254638672, 35.232120513916016, 34.23237991333008, 36.83489227294922, 33.585514068603516, 33.93685531616211, 33.42604064941406, 32.088401794433594, 31.544342041015625, 31.441974639892578, 31.329023361206055, 31.239206314086914, 30.62601661682129, 30.578533172607422, 30.318984985351562, 147.11294555664062, 93.57746124267578, 33.74030685424805, 53.96554183959961, 49.0981330871582, 62.553253173828125, 56.74245071411133, 182.44595336914062, 88.39945220947266, 102.30494689941406, 127.59024047851562, 149.29652404785156, 255.42703247070312, 120.66743469238281, 104.38876342773438, 199.984375, 88.50282287597656, 69.21631622314453, 135.03228759765625, 75.50370788574219, 251.3084716796875, 883.9952392578125, 305.1181335449219, 123.20487976074219, 129.8210906982422, 148.14173889160156, 344.9757080078125, 140.8633270263672, 164.80368041992188, 230.695556640625, 102.85387420654297, 150.74957275390625, 154.8328399658203, 145.96946716308594, 346.05389404296875, 329.62646484375, 165.6956787109375, 153.92572021484375, 147.74903869628906, 152.20965576171875, 154.19696044921875, 149.68051147460938, 162.42404174804688, 135.39378356933594, 131.87001037597656, 135.18585205078125, 134.1081085205078, 22.122291564941406, 18.64794158935547, 17.983469009399414, 15.98067855834961, 13.123320579528809, 11.968192100524902, 11.248639106750488, 10.925934791564941, 10.718753814697266, 10.718753814697266, 10.718753814697266, 10.196276664733887, 57.452327728271484, 8.034891128540039, 7.61510705947876, 7.76106595993042, 7.101705074310303, 6.483269691467285, 6.3569536209106445, 6.149130344390869, 6.067393779754639, 60.92914581298828, 5.341434001922607, 5.273871898651123, 5.0398759841918945, 4.9319915771484375, 4.73222017288208, 4.717662811279297, 4.334279537200928, 4.334279537200928, 4.334279537200928, 37.6503791809082, 12.91849422454834, 14.689976692199707, 11.783929824829102, 32.06455612182617, 32.624568939208984, 51.729942321777344, 13.503835678100586, 34.43507766723633, 55.058631896972656, 24.016582489013672, 14.2290620803833, 23.021493911743164, 32.80109786987305, 24.2795352935791, 18.91661834716797, 22.9622745513916, 21.470129013061523, 14.825456619262695, 15.672621726989746, 13.78389835357666, 15.238372802734375, 14.036175727844238, 13.128612518310547, 4.952894687652588, 1.0962679386138916, 1.0962679386138916, 0.8859074711799622, 0.6672719120979309, 0.5493856072425842, 0.5493856072425842, 0.5493856072425842, 0.5493856072425842, 0.5493856072425842, 0.5493856072425842, 0.5493856072425842, 0.5493856072425842, 0.5493856072425842, 0.5493856072425842, 0.5493856072425842, 0.5493856072425842, 0.5493856072425842, 0.5493856072425842, 0.5493856072425842, 0.5493856072425842, 0.2938106656074524, 0.18755443394184113, 0.17849883437156677, 0.08139299601316452, 0.06883373856544495, 0.059402212500572205, 1.288621425628662, 0.03095267526805401, 0.03095267526805401, 0.08815824240446091, 0.03095267526805401, 0.03095267526805401, 0.03095267526805401, 12.793883323669434, 10.63599967956543, 6.398969650268555, 6.206022262573242, 2.708132028579712, 2.662041425704956, 2.662041425704956, 2.365504264831543, 1.9689924716949463, 1.8221367597579956, 1.776045799255371, 1.776045799255371, 0.8900506496429443, 0.8900507092475891, 0.8900507092475891, 0.8900507092475891, 0.8900506496429443, 0.8900507092475891, 0.8900506496429443, 0.8900507092475891, 0.8900507092475891, 0.8900506496429443, 0.8900506496429443, 0.8900506496429443, 0.7285311222076416, 0.5448518395423889, 0.4387407898902893, 0.4387407898902893, 0.43874073028564453, 0.389948308467865, 0.389948308467865, 0.8970978856086731, 155.63999938964844, 77.98796844482422, 77.3907241821289, 72.73825073242188, 64.84003448486328, 58.38301467895508, 55.00008010864258, 54.98904800415039, 54.27517318725586, 53.05264663696289, 51.04457092285156, 50.53828811645508, 50.19343185424805, 49.727291107177734, 48.66987228393555, 48.52365493774414, 45.15010452270508, 44.4837532043457, 43.491512298583984, 43.53302764892578, 42.790401458740234, 41.40781784057617, 41.050453186035156, 40.77864456176758, 39.9840087890625, 39.97415542602539, 37.453243255615234, 36.10851287841797, 35.439327239990234, 33.75906753540039, 785.8206787109375, 269.2400207519531, 462.86529541015625, 498.1468505859375, 108.32295227050781, 73.18101501464844, 279.17327880859375, 231.82177734375, 73.14878845214844, 952.5302734375, 271.176025390625, 212.8241424560547, 372.345947265625, 224.097412109375, 457.9822692871094, 250.51673889160156, 68.15838623046875, 88.28075408935547, 423.9690856933594, 185.37060546875, 605.8533325195312, 114.4621810913086, 169.38961791992188, 521.9766235351562, 339.59637451171875, 199.05821228027344, 340.1651306152344, 360.23004150390625, 220.90667724609375, 217.29879760742188, 121.22953033447266, 355.1865234375, 124.55692291259766, 191.88543701171875, 144.12161254882812, 197.6384735107422, 205.31964111328125, 209.3502197265625, 180.02926635742188, 20.86737823486328, 14.7930326461792, 10.850984573364258, 7.894449710845947, 7.291201591491699, 6.908938884735107, 6.416182518005371, 5.923427581787109, 3.9524037837982178, 3.9524028301239014, 3.9524028301239014, 3.4596474170684814, 3.4596474170684814, 3.3445422649383545, 2.9668915271759033, 2.9668915271759033, 2.7608015537261963, 2.4741361141204834, 2.4741361141204834, 2.474135637283325, 2.474135637283325, 2.474135637283325, 1.9813798666000366, 1.9813799858093262, 1.9813799858093262, 1.9813798666000366, 1.4886243343353271, 1.488624095916748, 1.4886243343353271, 1.488624095916748, 1.4886243343353271, 1.488624095916748, 1.488624095916748, 2.9668915271759033, 9.401341438293457, 3.952423572540283, 3.5284650325775146, 2.4741361141204834, 78.15204620361328, 56.588706970214844, 52.566505432128906, 41.327327728271484, 38.812374114990234, 30.011213302612305, 27.68889617919922, 23.54041290283203, 23.209457397460938, 23.209457397460938, 22.241243362426758, 19.75310516357422, 19.381250381469727, 16.232887268066406, 16.000566482543945, 14.609688758850098, 14.505398750305176, 14.251191139221191, 13.891294479370117, 12.646347999572754, 12.639352798461914, 9.816994667053223, 9.805608749389648, 9.641213417053223, 9.254733085632324, 71.4568862915039, 8.362861633300781, 7.736992359161377, 21.852556228637695, 7.596582412719727, 63.32147979736328, 49.017024993896484, 139.15330505371094, 69.9588394165039, 38.734039306640625, 360.3673400878906, 50.937232971191406, 125.02240753173828, 193.37936401367188, 87.11502838134766, 70.6072769165039, 102.5383071899414, 92.83745574951172, 366.9324645996094, 229.23207092285156, 87.78470611572266, 147.31007385253906, 787.9762573242188, 326.04730224609375, 369.84515380859375, 48.87081527709961, 247.82749938964844, 167.86367797851562, 154.0851593017578, 229.37245178222656, 216.4998321533203, 182.1552276611328, 186.22647094726562, 90.94820404052734, 64.05889892578125, 77.07095336914062, 86.92754364013672, 81.97010803222656, 72.33077239990234, 45.27791213989258, 22.066680908203125, 15.081520080566406, 13.451455116271973, 12.844855308532715, 12.49964714050293, 9.66240406036377, 9.412710189819336, 8.092144966125488, 7.960860729217529, 7.792693138122559, 7.335063934326172, 7.2997941970825195, 6.748991966247559, 6.6739983558654785, 5.843786239624023, 5.365040302276611, 4.798182487487793, 4.601734638214111, 4.420935153961182, 4.401075839996338, 4.121794700622559, 3.747642993927002, 3.7276451587677, 3.718200206756592, 3.6294188499450684, 3.4159107208251953, 3.331765651702881, 3.3279898166656494, 3.26887845993042, 15.093231201171875, 87.27865600585938, 5.2001633644104, 13.078883171081543, 8.777137756347656, 8.819218635559082, 22.215139389038086, 19.85516357421875, 26.861865997314453, 10.605256080627441, 16.43245506286621, 14.306390762329102, 9.739179611206055, 7.317352294921875, 9.079791069030762, 9.629007339477539, 7.4409356117248535, 6.902642250061035, 97.44947052001953, 30.02126121520996, 24.858055114746094, 24.483427047729492, 20.26033592224121, 19.69160270690918, 18.538972854614258, 18.504425048828125, 16.5676326751709, 16.723905563354492, 14.230988502502441, 13.388663291931152, 12.938429832458496, 12.906363487243652, 12.262320518493652, 11.989548683166504, 11.694282531738281, 11.543534278869629, 11.061487197875977, 11.053499221801758, 11.053499221801758, 11.053499221801758, 11.053499221801758, 11.053499221801758, 10.803753852844238, 10.498804092407227, 10.493451118469238, 8.858256340026855, 8.553986549377441, 8.364657402038574, 38.87989807128906, 74.89730834960938, 188.04214477539062, 39.93669128417969, 966.2083129882812, 61.26393127441406, 42.25736618041992, 72.1226577758789, 46.24341583251953, 30.990427017211914, 32.22260284423828, 290.3415832519531, 81.7311019897461, 66.14598083496094, 41.842132568359375, 137.0666961669922, 40.798465728759766, 105.54603576660156, 54.61091613769531, 44.56037521362305, 110.64717864990234, 111.87136840820312, 150.4248809814453, 107.92588806152344, 78.96223449707031, 150.34060668945312, 157.1232147216797, 102.55976867675781, 195.16799926757812, 117.36662292480469, 188.62754821777344, 105.73545837402344, 71.11713409423828, 97.19342041015625, 115.9311752319336, 77.06073760986328, 100.97785186767578, 114.29496002197266, 85.47286224365234, 87.98284149169922, 113.2816390991211, 88.92927551269531, 96.44195556640625, 86.46488189697266, 85.15120697021484, 80.51883697509766, 81.53770446777344, 24.847383499145508, 23.814472198486328, 23.617551803588867, 23.300926208496094, 22.61989402770996, 22.431516647338867, 22.111953735351562, 20.570783615112305, 19.31134796142578, 19.31134796142578, 18.72704315185547, 18.506061553955078, 14.486330032348633, 14.083693504333496, 12.89698600769043, 11.377609252929688, 10.230103492736816, 9.828449249267578, 9.07675552368164, 9.023159980773926, 9.023159980773926, 9.02315902709961, 9.023159980773926, 9.023159980773926, 9.023158073425293, 9.023158073425293, 8.885418891906738, 8.85855770111084, 8.217869758605957, 57.33667755126953, 37.064273834228516, 119.70136260986328, 20.079002380371094, 80.9482421875, 9.802541732788086, 29.852027893066406, 24.60561180114746, 22.912525177001953, 44.70216369628906, 63.75922393798828, 115.95048522949219, 26.537837982177734, 50.72020721435547, 119.90363311767578, 155.59243774414062, 70.58142852783203, 100.52891540527344, 49.85513687133789, 79.20550537109375, 44.55463790893555, 33.762821197509766, 56.00433349609375, 90.29180145263672, 40.27685546875, 58.237342834472656, 46.097900390625, 73.39938354492188, 45.887996673583984, 30.522624969482422, 36.73548889160156, 38.71151351928711, 41.02921676635742, 28.683208465576172, 31.091087341308594, 30.572324752807617, 1.6242846250534058, 1.2643153667449951, 1.2465734481811523, 1.055184245109558, 1.039536714553833, 1.039536714553833, 0.49646568298339844, 0.46788209676742554, 0.4184255301952362, 0.4000038206577301, 0.3550923466682434, 0.3260437548160553, 0.2113884687423706, 0.2113884687423706, 0.2113884687423706, 0.2113884687423706, 0.2113884687423706, 0.2113884687423706, 0.19094978272914886, 1.1980339288711548, 0.14149321615695953, 0.12111065536737442, 0.12111065536737442, 0.12111065536737442, 0.12111065536737442, 0.12111065536737442, 0.12111065536737442, 0.10326454043388367, 0.5711532235145569, 0.092036671936512, 0.12111065536737442, 0.12555575370788574, 29.295427322387695, 29.295427322387695, 23.397010803222656, 13.822050094604492, 11.192708969116211, 11.113298416137695, 9.780030250549316, 9.355422973632812, 8.602018356323242, 8.342194557189941, 8.001173973083496, 7.958959102630615, 7.20328950881958, 6.5081467628479, 6.496950149536133, 6.471273422241211, 6.397242546081543, 5.607521057128906, 4.901181221008301, 4.901181221008301, 4.901181221008301, 4.393284797668457, 4.27227258682251, 4.27227258682251, 4.059421062469482, 4.022868633270264, 3.7715728282928467, 3.7430708408355713, 3.7297656536102295, 3.2138679027557373, 10.95982551574707, 129.7091827392578, 53.78511047363281, 9.030122756958008, 11.190047264099121, 19.86541748046875, 24.653240203857422, 15.746346473693848, 103.33576965332031, 19.759733200073242, 34.577186584472656, 14.604138374328613, 50.27999496459961, 111.81901550292969, 56.88330078125, 22.033588409423828, 22.820707321166992, 71.4466323852539, 49.12097930908203, 29.22677230834961, 53.04881286621094, 30.887971878051758, 28.900306701660156, 33.49036407470703, 29.547855377197266, 23.684125900268555, 21.317188262939453, 17.895912170410156, 24.276689529418945, 18.39063835144043, 17.529556274414062, 16.578073501586914, 28.600149154663086, 23.964141845703125, 22.011850357055664, 13.512592315673828, 26.149410247802734, 12.077253341674805, 11.872835159301758, 9.739676475524902, 7.785245418548584, 7.489929676055908, 7.0569586753845215, 6.916646957397461, 6.83357572555542, 6.4029221534729, 5.810089111328125, 5.475932598114014, 5.322667598724365, 5.295706748962402, 5.169395923614502, 5.086359977722168, 5.086359977722168, 5.086359977722168, 4.838947772979736, 4.752203464508057, 4.731776714324951, 4.724020957946777, 4.507932662963867, 4.445667266845703, 4.445667266845703, 4.445667266845703, 4.445667266845703, 4.445667266845703, 11.268589973449707, 14.783316612243652, 43.69928741455078, 16.585628509521484, 10.29489803314209, 10.351868629455566, 5.928011894226074, 6.157601356506348, 6.854918956756592, 5.8316874504089355, 30.352596282958984, 13.074496269226074, 11.04612922668457, 11.04612922668457, 10.414252281188965, 7.933809280395508, 6.387964248657227, 5.952626705169678, 5.072768211364746, 4.630770683288574, 4.440882682800293, 4.08440637588501, 4.082496166229248, 4.017770767211914, 3.808997392654419, 3.808997392654419, 3.5491344928741455, 3.4158639907836914, 3.281498432159424, 3.184884548187256, 3.184884548187256, 3.051614284515381, 2.964329242706299, 2.9060492515563965, 2.869126796722412, 2.8591644763946533, 2.821729898452759, 2.545226812362671, 2.545226812362671, 2.2187283039093018, 3.962874174118042, 3.394923686981201, 5.729742527008057, 5.535825729370117, 4.832638740539551, 3.0876030921936035, 4.333062648773193, 4.573626518249512, 6.651814937591553, 4.6464409828186035, 3.7724287509918213, 3.428518056869507, 3.4001305103302, 40.929054260253906, 37.966407775878906, 29.016895294189453, 22.330650329589844, 22.28084373474121, 20.239395141601562, 19.813602447509766, 19.09147071838379, 190.24783325195312, 17.110122680664062, 16.46427345275879, 15.655807495117188, 15.425898551940918, 15.196708679199219, 15.165714263916016, 15.025559425354004, 14.80096435546875, 14.114693641662598, 13.857645988464355, 13.586844444274902, 13.586844444274902, 13.345719337463379, 13.011566162109375, 12.969575881958008, 12.712669372558594, 50.336280822753906, 12.560571670532227, 12.033804893493652, 11.066730499267578, 10.994967460632324, 12.955519676208496, 195.65310668945312, 48.95912170410156, 84.70314025878906, 94.17091369628906, 58.91384506225586, 155.41004943847656, 142.13905334472656, 173.53421020507812, 45.43000030517578, 58.13269805908203, 62.02858352661133, 66.38239288330078, 59.13317108154297, 61.560855865478516, 52.793312072753906, 51.989593505859375, 36.71146774291992, 78.67552947998047, 109.68638610839844, 63.69755935668945, 54.176937103271484, 68.67314910888672, 94.34098052978516, 50.92041015625, 65.40266418457031, 97.58011627197266, 67.86959075927734, 54.69795227050781, 98.38648223876953, 62.388877868652344, 57.75296401977539, 56.49367141723633, 51.76691436767578, 91.03450012207031, 60.19366455078125, 823.2574462890625, 52.73442459106445, 48.15747833251953, 56.07790756225586, 47.678016662597656, 41.745094299316406, 37.41742706298828, 1531.79638671875, 35.46856689453125, 33.16804122924805, 33.46415328979492, 67.47547912597656, 29.812076568603516, 28.810009002685547, 26.478830337524414, 26.899669647216797, 24.519546508789062, 23.7199764251709, 23.01422119140625, 22.982526779174805, 20.336109161376953, 19.17289924621582, 18.870712280273438, 17.967199325561523, 17.916431427001953, 16.900724411010742, 16.900434494018555, 16.598665237426758, 73.08586883544922, 119.88765716552734, 53.69950485229492, 24.92561912536621, 44.46643829345703, 506.9408264160156, 58.353981018066406, 74.57331085205078, 96.71077728271484, 97.07880401611328, 76.65814971923828, 62.06444549560547, 117.29044342041016, 60.421749114990234, 207.7537384033203, 89.20649719238281, 140.4344940185547, 58.89140319824219, 110.87336730957031, 88.0188980102539, 128.51087951660156, 88.9934310913086, 87.5453872680664, 87.04637145996094, 78.27400207519531, 64.41373443603516, 82.45800018310547, 67.77554321289062, 69.0650405883789, 66.79736328125, 65.35791015625, 64.85259246826172, 14.445109367370605, 11.01289176940918, 5.279472351074219, 3.445640802383423, 3.2175116539001465, 3.2175116539001465, 2.759493827819824, 2.4155404567718506, 1.9575221538543701, 1.6135691404342651, 1.613568902015686, 1.4376095533370972, 1.269615650177002, 1.269615650177002, 1.269615650177002, 1.1555510759353638, 1.1555509567260742, 1.0414862632751465, 1.0414862632751465, 0.9256623387336731, 0.9256623387336731, 0.8115976452827454, 0.8115976452827454, 0.8115976452827454, 0.8115976452827454, 0.8115976452827454, 0.8115976452827454, 0.8115976452827454, 0.8115977644920349, 0.8115977644920349, 2.175408363342285, 0.8115977644920349, 0.8115977644920349, 0.8115977644920349, 0.8115977644920349, 2.7723641395568848, 2.071587324142456, 6.2410173416137695, 0.8115977644920349, 6.693951606750488, 7.185807704925537, 0.8115977644920349, 0.8115977644920349, 1.6878225803375244, 0.8886640667915344, 0.8640903234481812, 37.22210693359375, 33.128726959228516, 30.83294105529785, 29.880922317504883, 28.215333938598633, 26.93313217163086, 25.489990234375, 24.427886962890625, 24.103872299194336, 22.636638641357422, 22.544940948486328, 22.177539825439453, 20.88213348388672, 20.61286735534668, 20.397960662841797, 20.663591384887695, 19.227188110351562, 18.882041931152344, 18.868701934814453, 18.440311431884766, 17.912137985229492, 17.35980796813965, 17.20815086364746, 16.777223587036133, 16.444011688232422, 16.04488182067871, 15.974580764770508, 15.815178871154785, 15.69072437286377, 15.477075576782227, 43.72892379760742, 30.250276565551758, 62.9904670715332, 24.089542388916016, 38.46886444091797, 38.82376480102539, 30.207426071166992, 20.484100341796875, 38.7067985534668, 50.135169982910156, 40.66542053222656, 84.00216674804688, 95.48924255371094, 71.21546936035156, 183.51324462890625, 52.2362174987793, 221.9381866455078, 72.05542755126953, 152.3037109375, 51.35154724121094, 64.66339874267578, 120.48311614990234, 48.09123229980469, 101.49288940429688, 74.65819549560547, 212.7186737060547, 140.99807739257812, 132.4676055908203, 228.74539184570312, 123.21797180175781, 172.1394805908203, 175.1684112548828, 138.36256408691406, 163.35879516601562, 61.99165725708008, 123.41720581054688, 130.94064331054688, 75.22532653808594, 84.08570861816406, 68.95879364013672, 98.68537902832031, 65.94359588623047, 90.1125717163086, 85.58260345458984, 86.35913848876953, 95.93466186523438, 121.98601531982422, 101.15673828125, 89.2436294555664, 83.65081024169922, 90.95040893554688, 80.27555847167969, 82.57247161865234, 165.0065460205078, 29.904447555541992, 16.533538818359375, 14.55350399017334, 10.218477249145508, 9.45482063293457, 8.893067359924316, 8.026369094848633, 7.683407783508301, 5.824180603027344, 5.5221991539001465, 5.5221991539001465, 5.5221991539001465, 5.5221991539001465, 5.448923110961914, 4.8729119300842285, 4.73567533493042, 4.73567533493042, 4.6623992919921875, 3.9491522312164307, 3.1626274585723877, 3.162627696990967, 3.1214709281921387, 3.1214709281921387, 2.972079277038574, 2.3662545680999756, 2.348315715789795, 2.03314208984375, 2.0232930183410645, 7.139747142791748, 13.729080200195312, 4.744025707244873, 4.020601272583008, 5.250748634338379, 9.71085262298584, 8.464590072631836, 5.229085445404053, 4.421010971069336, 3.516589403152466], \"Term\": [\"oil\", \"per_cent\", \"photo\", \"company\", \"theglobeandmail\", \"article\", \"price\", \"market\", \"canada\", \"energy\", \"well\", \"province\", \"year\", \"gas\", \"alberta\", \"sent_word\", \"city\", \"pipeline\", \"cost\", \"production\", \"result\", \"project\", \"increase\", \"industry\", \"business\", \"get\", \"federal\", \"calgary\", \"share\", \"inc\", \"ce\", \"strad\", \"pan_orient\", \"ebit\", \"property_plant\", \"thailand_joint\", \"annuity_maintenance\", \"enerflex\", \"petrus\", \"industrial_matt\", \"software_license\", \"previous_fiscal\", \"deferred_revenue\", \"license_revenue\", \"cmg\", \"dd\", \"matting_fleet\", \"eastern_hemisphere\", \"funded_debt\", \"taxes_depreciation\", \"stradenergy\", \"ebitdac\", \"revenue_recognition\", \"finance_lease\", \"direct_employee\", \"depreciation_expense\", \"cumulative_effect\", \"purechem\", \"foscolo\", \"losses_result\", \"accounts_receivable\", \"csr\", \"drilling_fluid\", \"longer_adjust\", \"condensed_consolidat\", \"rig_count\", \"consumable\", \"perpetual_license\", \"unaudited\", \"attributable\", \"forward_look\", \"forward_looking\", \"news_release\", \"ended_september\", \"information_please\", \"sedar\", \"precision\", \"globe_newswire\", \"mcf\", \"ifrs\", \"future_event\", \"differ_materially\", \"mmcf\", \"actual_result\", \"newswire\", \"transmit\", \"contact_industry\", \"applicable\", \"non_ifrs\", \"non_gaap\", \"nov_globe\", \"questerre\", \"ncib\", \"risks_uncertaintie\", \"prairie_provident\", \"applicable_securitie\", \"herein\", \"accordance\", \"looking_statement\", \"bengal\", \"boe\", \"nine_month\", \"working_capital\", \"information\", \"statement\", \"common_share\", \"exploration\", \"funds_flow\", \"corporation\", \"operating_activitie\", \"press_release\", \"assumption\", \"obligation\", \"performance\", \"natural_gas\", \"company\", \"approximately\", \"acquisition\", \"facility\", \"management\", \"certain\", \"operation\", \"interest\", \"may\", \"result\", \"development\", \"financial\", \"include\", \"well\", \"period\", \"future\", \"share\", \"provide\", \"base\", \"use\", \"service\", \"gas\", \"project\", \"doodle\", \"mat\", \"tyrrell\", \"showroom\", \"badland\", \"googler\", \"albertosaurus\", \"seventh\", \"nonetheless\", \"c\", \"battershill\", \"fearsome\", \"burr\", \"fernie\", \"palaeontology\", \"paleotological\", \"sarcophagus\", \"tron\", \"sutherland\", \"sheet\", \"audi\", \"skew\", \"hybrid\", \"roof\", \"lush\", \"wee\", \"glare\", \"miller\", \"bettencourt\", \"bilous\", \"page\", \"explore\", \"event\", \"sonia\", \"creditor\", \"bankrupt\", \"insolvent\", \"gettis\", \"coal_mine\", \"escrow\", \"toughening\", \"nobb\", \"arrear\", \"garry\", \"wagner\", \"republish\", \"sliver\", \"miry\", \"atkinson\", \"uncollectible\", \"orb\", \"didsbury\", \"fildebrandt\", \"wildest\", \"mesh\", \"kesler\", \"foment\", \"capturing\", \"broadbent\", \"courchaine\", \"shawna\", \"vehemently\", \"powerless\", \"secession\", \"bankruptcy\", \"riddell_rose\", \"wide_range\", \"canada\", \"sequoia\", \"sequoia_resource\", \"abbey\", \"westmoreland\", \"theconversation\", \"isd\", \"linderman\", \"derek\", \"commercial_litigation\", \"practice_focus\", \"counselling\", \"product_liability\", \"bennett_jone\", \"bennettjone\", \"complex_commercial\", \"cross_border\", \"litigate\", \"trial_lawyer\", \"professional_liability\", \"press_page\", \"fasken\", \"norton_rose\", \"gowling_wlg\", \"watt\", \"blake_cassel\", \"extensive_experience\", \"iiroc\", \"warranty\", \"stikeman\", \"dumoulin_llp\", \"gowlingwlg\", \"books_page\", \"stikeman_elliott\", \"osler_hoskin\", \"civil_litigation\", \"lexpert\", \"graydon_llp\", \"fasken_martineau\", \"griffin_llp\", \"lenczner_slaght\", \"fulbright\", \"american_college\", \"law\", \"court\", \"lawyer\", \"civil\", \"trial\", \"security\", \"appeal\", \"include\", \"licensed_producer\", \"flower\", \"shelter\", \"omarmosleh\", \"profit_ris\", \"licensed\", \"atla\", \"grower\", \"streetwise\", \"gossain\", \"gibson\", \"canopy\", \"hager\", \"hbc\", \"cannabis_store\", \"propane\", \"aglc\", \"dampier\", \"cultivation\", \"stueck\", \"sahota\", \"expropriate\", \"respondent\", \"butane\", \"freepress_mb\", \"aurora\", \"cargo\", \"clare_hara\", \"legitimate\", \"potent\", \"cannabis\", \"legalization\", \"weed\", \"scotiabank\", \"kilogram\", \"pot\", \"store\", \"robertson\", \"licence\", \"dry\", \"retailer\", \"health\", \"supply\", \"food\", \"legal\", \"shop\", \"retail\", \"product\", \"get\", \"mayor_elect\", \"close\", \"demand\", \"producer\", \"canada\", \"open\", \"day\", \"may\", \"online\", \"first\", \"market\", \"expect\", \"encana\", \"drill\", \"decrease\", \"liquid\", \"bbl\", \"months_end\", \"ebitda\", \"guidance\", \"operating_netback\", \"capital_expenditure\", \"capital_expenditur\", \"comparable\", \"consistent\", \"coal_plant\", \"dilute\", \"wcs\", \"timing\", \"share_basic\", \"operating_expens\", \"pump\", \"bbls\", \"commence\", \"expenditure\", \"basin\", \"accordingly\", \"weighted_average\", \"compression\", \"indication\", \"based_compensation\", \"permian\", \"rental\", \"cash_flow\", \"delphi\", \"debt\", \"segment\", \"revenue\", \"total\", \"expense\", \"income\", \"compare\", \"measure\", \"increase\", \"offset\", \"realize\", \"rate\", \"average\", \"quarter\", \"capital\", \"flow\", \"production\", \"cost\", \"net\", \"third_quarter\", \"cash\", \"price\", \"expect\", \"activity\", \"current\", \"oil\", \"tax\", \"september\", \"budget\", \"change\", \"loss\", \"continue\", \"year\", \"well\", \"high\", \"include\", \"touchstone\", \"anytime\", \"food_column\", \"papua\", \"guinea\", \"sagan\", \"wetter\", \"checkout\", \"charlottetown\", \"meth\", \"archive\", \"navigator\", \"blizzard\", \"gingerbread\", \"geneva\", \"enthusiast\", \"adina\", \"nestled\", \"italie\", \"rib\", \"atk\", \"dessert\", \"mohamm\", \"homemade\", \"snarl\", \"masterpiece\", \"preach\", \"rainfall\", \"strife\", \"bored\", \"cake\", \"brother\", \"grandchild\", \"memory\", \"passed_away\", \"litigator\", \"lieu\", \"predecease\", \"dundas\", \"nee\", \"peacefully\", \"wonderful\", \"marry\", \"canadahelp\", \"keith\", \"wendy\", \"grandmother\", \"dear\", \"funeral_home\", \"barbara\", \"delaney\", \"alec\", \"bud\", \"niece\", \"beth\", \"secondary\", \"nephew\", \"sim\", \"grandfather\", \"condolence\", \"kindness\", \"love\", \"sister\", \"rachel\", \"donation\", \"church\", \"graduate\", \"friend\", \"celebration\", \"wife\", \"family\", \"son\", \"peter\", \"life\", \"charity\", \"november\", \"husband\", \"mother\", \"bear\", \"father\", \"university\", \"child\", \"hospital\", \"club\", \"survive\", \"many\", \"miss\", \"year\", \"may\", \"age\", \"hold\", \"great\", \"aer\", \"carbon\", \"higgs\", \"discussion\", \"presentation\", \"coal\", \"proposal\", \"pipeline_expansion\", \"kenney\", \"spokesperson\", \"oppose\", \"greenhouse_gas\", \"work_camp\", \"calgarian\", \"higg\", \"hurt\", \"consultation\", \"emission\", \"councillor\", \"nenshi\", \"proceeding\", \"closure\", \"starmetro_calgary\", \"mandate\", \"blaine_higg\", \"ultimately\", \"remark\", \"willing\", \"impossible\", \"told_reporter\", \"province\", \"notley\", \"trans_mountain\", \"first_nation\", \"finance_minister\", \"government\", \"premier_rachel\", \"fill\", \"alberta\", \"council\", \"would\", \"fuel\", \"industry\", \"calgary\", \"money\", \"policy\", \"need\", \"federal\", \"climate_change\", \"lack\", \"meeting\", \"support\", \"get\", \"think\", \"build\", \"also\", \"oil\", \"go\", \"could\", \"new\", \"pipeline\", \"canada\", \"energy\", \"project\", \"issue\", \"trudeau\", \"plan\", \"make\", \"call\", \"country\", \"ottawa\", \"canadian\", \"come\", \"time\", \"year\", \"economic\", \"city\", \"cost\", \"price\", \"refugee\", \"iran\", \"flight\", \"upcoming_develop\", \"internet\", \"split\", \"astronaut\", \"corruption\", \"cmhc\", \"stability\", \"gay\", \"mexican\", \"nationalist\", \"troop\", \"amazon\", \"cope\", \"freeland\", \"tale\", \"drama\", \"logistic\", \"patrol\", \"stafford\", \"indiana\", \"congressional\", \"denver\", \"grewal\", \"cave\", \"norman\", \"journalist_jamal\", \"tranche\", \"sanction\", \"jail\", \"unusual\", \"wage_growth\", \"attack\", \"khashoggi\", \"saudi\", \"trump\", \"donald_trump\", \"drug\", \"poll\", \"election\", \"violence\", \"mexico\", \"death\", \"worker\", \"border\", \"politic\", \"old\", \"china\", \"man\", \"american\", \"year\", \"story\", \"charge\", \"word\", \"president_donald\", \"people\", \"job\", \"leave\", \"day\", \"canadian\", \"kill\", \"trade\", \"time\", \"could\", \"force\", \"liberal\", \"late\", \"united_state\", \"canada\", \"country\", \"new\", \"find\", \"ottawa\", \"move\", \"big\", \"make\", \"government\", \"opinion_article\", \"morning_update\", \"business_commentary\", \"redemption\", \"globe_editorial\", \"evening_update\", \"gary_mason\", \"think_mailto\", \"securely_reach\", \"share_document\", \"via_securedrop\", \"mailto_tip\", \"news_tip\", \"tips_globeandmail\", \"globe_newsletter\", \"good_morn\", \"comic\", \"newsletter_written\", \"str\", \"opinion_editorial\", \"justin_giovannetti\", \"bailey\", \"francophone\", \"securedrop\", \"politics_brief\", \"campbell_clark\", \"newsletters_utm_source\", \"note_mailto\", \"feedback_send\", \"every_weekday\", \"someone_else\", \"canadas\", \"article\", \"theglobeandmail\", \"newsletter\", \"mail\", \"globeandmail\", \"globe\", \"subscriber\", \"link\", \"canada\", \"story\", \"business\", \"view\", \"deal\", \"politic\", \"globe_unlimit\", \"sign\", \"news\", \"read\", \"write\", \"get\", \"today\", \"plan\", \"world\", \"market\", \"go\", \"follow\", \"case\", \"need\", \"vancouver\", \"new\", \"cleanup\", \"horizontal_well\", \"commentid\", \"inactive_well\", \"looming_financial\", \"inactive\", \"cold_lake\", \"patch_inside\", \"subsequently\", \"article_hustle\", \"unfunded\", \"remediation\", \"corporate_bankruptcie\", \"orphan\", \"abbey\", \"sequoia\", \"wherewithal\", \"idle_well\", \"hustle\", \"modelling\", \"stella\", \"mobilization\", \"quarry\", \"great_lake\", \"offload\", \"timelin\", \"cleanup_timeline\", \"verification\", \"effectiveness\", \"cd\", \"regulator\", \"defunct\", \"liability\", \"lewi\", \"assign\", \"clean\", \"discovery\", \"gas\", \"well\", \"wells_drill\", \"bankruptcy\", \"investigation\", \"oil\", \"company\", \"site\", \"cost\", \"estimate\", \"industry\", \"energy\", \"environmental\", \"globe\", \"patch\", \"asset\", \"financial\", \"mr\", \"timeline\", \"saskatchewan\", \"state\", \"abandon\", \"show\", \"epp\", \"midterm\", \"stewart\", \"drumheller\", \"metis\", \"behind\", \"dpa\", \"trike\", \"engineering_design\", \"decommissioning\", \"motorwork\", \"corcoran\", \"left_lean\", \"brook\", \"awful\", \"great_bear\", \"horsepower\", \"cyclical\", \"grey\", \"scotland\", \"accurately\", \"absurd\", \"ben_aissa\", \"submission\", \"drainage\", \"architectural\", \"steak\", \"motorsport\", \"merel\", \"pillow\", \"gord\", \"upstairs\", \"handlebar\", \"ellekane\", \"kawasaki\", \"yamaha\", \"harvest\", \"bruce\", \"prairie\", \"atkin\", \"boss\", \"farmer\", \"farm\", \"customer\", \"work\", \"engineering\", \"project\", \"land\", \"business\", \"marine\", \"company\", \"part\", \"wind\", \"nuclear\", \"infrastructure\", \"area\", \"html\", \"thestar\", \"ellis\", \"bike\", \"wadsworth_presentation\", \"national_observer\", \"wadsworth\", \"apologiz\", \"official_warn\", \"usefulness\", \"mayoral\", \"unrelated\", \"rebuild\", \"curran\", \"walkom\", \"emmamci\", \"swann\", \"envy\", \"trumpian\", \"drip\", \"tailings_pond\", \"discontinue\", \"tragic\", \"spanish\", \"star_columnist\", \"dust\", \"concession\", \"belgium\", \"debtto\", \"commuter\", \"gdp_ratio\", \"staggering\", \"bird\", \"odd\", \"populist\", \"populism\", \"calculation\", \"news\", \"oilsand\", \"public\", \"shutdown\", \"read\", \"sheila\", \"journalism\", \"investigation\", \"star\", \"leave\", \"twitter\", \"top\", \"llp\", \"black_friday\", \"mustard\", \"employees_offer\", \"scrutiny\", \"fun\", \"arbitrator\", \"turner\", \"juice\", \"substantially\", \"stumble\", \"manufacturing_employee\", \"rental_unit\", \"lofty\", \"cra\", \"module\", \"fortnite\", \"top_employer\", \"lalousis\", \"virtual\", \"parental_leave\", \"overhang\", \"petro\", \"superintendent\", \"venerable\", \"automation\", \"brightly\", \"glory\", \"toilet\", \"studio\", \"novel\", \"cn\", \"boycott\", \"suncor\", \"railway\", \"flavour\", \"online\", \"course\", \"accounting\", \"translate\", \"software\", \"star\", \"employee\", \"good\", \"class\", \"class_action\", \"motorcycle\", \"macdonald\", \"donate\", \"girl\", \"charitable\", \"jamie\", \"training\", \"accident\", \"joseph\", \"kelly\", \"harry\", \"roy\", \"fredericton\", \"lab\", \"sheraton\", \"tower\", \"lisa\", \"prominent\", \"healing_lodge\", \"constitutional\", \"england\", \"violate\", \"marquee\", \"english\", \"joy\", \"tobin\", \"county\", \"synagogue\", \"center\", \"practice\", \"surrey\", \"volunteer\", \"commissioner\", \"partnership\", \"jean\", \"courtroom\", \"employee\", \"defence\", \"award\", \"student\", \"age\", \"woman\", \"die\", \"insurance\", \"member\", \"shop\", \"medical\", \"health\", \"commission\", \"group\", \"canada\", \"first\", \"involve\", \"name\", \"university\", \"include\", \"community\", \"area\", \"service\", \"organization\", \"former\", \"international\", \"security\", \"canadian\", \"year\", \"national\", \"lead\", \"president\", \"vancouver\", \"work\", \"people\", \"also\", \"announce\", \"family\", \"time\", \"new\", \"bacon\", \"morning_trad\", \"dorel\", \"mcteague\", \"litre\", \"traverse\", \"hesitate\", \"kruger\", \"department_afternoon\", \"cp_business\", \"wordcounts_approximate\", \"e\", \"cenovus\", \"hse\", \"ian_bicki\", \"peters_co\", \"eagle\", \"jody_white\", \"structural\", \"currie\", \"gasbuddy\", \"markets_stock\", \"alex_pourbaix\", \"rslt\", \"logistics\", \"enb\", \"rhetorical\", \"vida\", \"wrongdoer\", \"monaco\", \"hryciuk\", \"husky\", \"truce\", \"main_stock\", \"eta\", \"enbridge\", \"imperial\", \"tsx\", \"indonesia\", \"suncor\", \"inc\", \"cent\", \"lower\", \"analyst\", \"energy\", \"share\", \"ltd\", \"price\", \"company\", \"reach\", \"friday\", \"output\", \"trade\", \"low\", \"member\", \"nationalism\", \"connotation\", \"tomwalkom\", \"complicated\", \"renegotiate\", \"seized\", \"appropriation\", \"esquire\", \"globalist\", \"huey\", \"imperialism\", \"leftish\", \"mitch\", \"monopolize\", \"progressiv\", \"reconfiguration\", \"agrarian\", \"subset\", \"trumpism\", \"variant\", \"willingly\", \"holdup\", \"fleeting\", \"shun\", \"secession\", \"powerless\", \"vehemently\", \"bannon\", \"kesler\", \"foment\", \"ancient\", \"fildebrandt\", \"wildest\", \"capturing\", \"newfield\", \"liquids_mboe\", \"newfield_exploration\", \"boyne\", \"hellofresh\", \"uinta\", \"arkoma\", \"high_arctic\", \"suttle\", \"nuttall\", \"suttl\", \"pouch\", \"compostable\", \"perplexing\", \"ninepoint\", \"headquarterless\", \"bigsteelbox\", \"earmark\", \"cfib\", \"jettison\", \"straying\", \"lightweight\", \"repurpos\", \"redevot\", \"oiled\", \"deduction\", \"subsea\", \"pritchard\", \"sighting\", \"akita\", \"eite\", \"seabird\", \"globe_investor\", \"trinidad\", \"holding\", \"beta_theglobeandmail\", \"bce\", \"tsx_composite\", \"downgrade\", \"deposit\", \"zargon\", \"valuation\", \"restructuring\", \"rbc\", \"manufacturing\", \"cibc\", \"investing_investment\", \"net_loss\", \"outperform\", \"enerplus\", \"slowdown\", \"tumble\", \"insolvency\", \"compliance\", \"reit\", \"quarterly_profit\", \"ideas_article\", \"weakness\", \"case_scenario\", \"small_cap\", \"gross_margin\", \"slip\", \"stock\", \"investing_market\", \"investor\", \"bank\", \"summary\", \"bmo\", \"analyst\", \"profit\", \"portfolio\", \"market\", \"corp\", \"earning\", \"inc\", \"buy\", \"share\", \"growth\", \"yield\", \"snc\", \"theglobeandmail\", \"investment\", \"year\", \"outlook\", \"ltd\", \"company\", \"business\", \"sector\", \"per_cent\", \"canadian\", \"report\", \"financial\", \"index\", \"canada\", \"firm\", \"high\", \"global\", \"article\", \"time\", \"price\", \"result\", \"mboe\", \"ppr_share\", \"nxt\", \"nig\", \"williston\", \"umbach\", \"fireweed\", \"sfd\", \"ancillary_transaction\", \"cdn_gj\", \"issuable\", \"bcf_raw\", \"suma\", \"forgo\", \"subscription_receipt\", \"mcmahon\", \"shelve\", \"prepayment\", \"mmcf_hz\", \"tc_unvet\", \"sphz\", \"meiee\", \"percentchange\", \"grossumbach\", \"tosept\", \"ox\", \"daymmcf\", \"jurvhr\", \"cal\", \"interruptible\", \"subordinate\", \"grd\", \"mnuxuxkjzfs\", \"prudential\", \"storm\", \"field_condensate\", \"cdn_bbl\", \"revolving_facility\", \"lng\", \"condensate\", \"steam\", \"conversion\", \"cubic_feet\", \"bitumen\", \"mainline\", \"refiner\", \"texas_intermediate\", \"traded_west\", \"pengrowth\", \"keystone_xl\", \"kearl\", \"million_tonne\", \"follow_healingslowly\", \"haisla\", \"meg\", \"situ\", \"tombe\", \"juggling\", \"bonterra\", \"northwestern\", \"takeaway_capacity\", \"tim_mckay\", \"cluster\", \"transcanada\", \"cve\", \"gigajoule\", \"optimize\", \"pourbaix\", \"bpd\", \"canadian_select\", \"discount\", \"pipeline_capacity\", \"curtailment\", \"barrel\", \"bituman\", \"differential\", \"producer\", \"rail\", \"refinery\", \"export\", \"oilsand\", \"pipeline\", \"crude\", \"capacity\", \"western\", \"oil\", \"production\", \"price\", \"storage\", \"energy\", \"day\", \"project\", \"canadian\", \"company\", \"market\", \"alberta\", \"cut\", \"heavy\", \"announce\", \"year\", \"canada\", \"gas\", \"legault\", \"equalization\", \"redevelop\", \"premier_francois\", \"pundit\", \"sunlife\", \"unlock\", \"laboucan\", \"goalpost\", \"accrue\", \"contradiction\", \"correctly\", \"throat\", \"social_acceptability\", \"leger\", \"nep\", \"pineau\", \"moreover\", \"cc\", \"separatist\", \"helin\", \"narrowly\", \"justifie\", \"tanager\", \"eagle_spirit\", \"capita\", \"lavoie\", \"overtake\", \"quicker\", \"megawatt\", \"quebecer\", \"quebec\", \"ceci\", \"dirty\", \"first_minister\", \"barrier\", \"western\", \"premier\", \"province\", \"hydro\", \"energy\", \"federal\", \"montreal\", \"transfer\", \"program\", \"pipeline\", \"east\", \"payment\", \"opec\", \"ounce\", \"brent_crude\", \"ended_sept\", \"premarket_trad\", \"msci\", \"greenback\", \"senior_economist\", \"dowdupont\", \"eikon\", \"pmi\", \"japan_nikkei\", \"treasury_yield\", \"germany_dax\", \"pan_european\", \"gold_futur\", \"spot_gold\", \"diluted\", \"stoxx\", \"saputo\", \"fpsc\", \"activewear\", \"domtar\", \"gildan\", \"france_cac\", \"hansen\", \"britain_ftse\", \"yuan\", \"probability\", \"eighth\", \"central_bank\", \"inflation\", \"cent\", \"reuter\", \"per_cent\", \"earlier\", \"trade_war\", \"weak\", \"currency\", \"rate_hike\", \"bell\", \"rise\", \"output\", \"jump\", \"ease\", \"gain\", \"slightly\", \"index\", \"economist\", \"apple\", \"october\", \"dollar\", \"fall\", \"thursday\", \"china\", \"high\", \"share\", \"cut\", \"price\", \"low\", \"market\", \"trade\", \"hit\", \"economy\", \"report\", \"decline\", \"expect\", \"also\", \"crude\", \"deal\", \"canadian\", \"inc\", \"day\", \"month\", \"oil\", \"year\", \"webcast\", \"globenewswire\", \"daniel_goodridge\", \"queen_bench\", \"law_court\", \"old_monica\", \"tracker_data\", \"slaying\", \"garry_handlen\", \"smithe_st\", \"murder_interfer\", \"scoop\", \"smithe\", \"usa\", \"mla\", \"hawkin\", \"bruce_mcarthur\", \"courthouse\", \"passcode\", \"bedroom\", \"starthere\", \"livingstone\", \"kinross\", \"ei\", \"niverville\", \"bauschhealth\", \"thomsonreuter\", \"centre_block\", \"van\", \"phillipe\", \"first_degree\", \"dial\", \"conference_call\", \"desk\", \"nov\", \"alleged_serial\", \"venture\", \"grande_prairie\", \"murder_trial\", \"count\", \"discuss\", \"release\", \"weapon\", \"accuse\", \"third_quarter\", \"result\", \"event\", \"vancouver\", \"trial\", \"court\", \"host\", \"assault\", \"charge\", \"calgary\", \"street\", \"corp\", \"centre\", \"financial\", \"hold\", \"nova_scotia\", \"death\", \"close\", \"ottawa\", \"rcmp\", \"man\", \"provincial\", \"reporter_photographer\", \"andrew_jeffrey\", \"gwynn\", \"kneebone\", \"sabir\", \"aish\", \"hunger\", \"browser\", \"irfan\", \"ogston\", \"livick\", \"esteem\", \"inadequacy\", \"handicapped\", \"ivanovic\", \"episodic\", \"ataxia\", \"nevena\", \"surtax\", \"unemployed\", \"surcharge\", \"kettle\", \"untapped\", \"unemploy\", \"upwards\", \"geophysicist\", \"disturbing\", \"underemployed\", \"duration\", \"unwrapped\", \"trickle\", \"holiday_season\", \"glogovac\", \"leszczyc\", \"budget_document\", \"omar\", \"star_analysis\", \"affordability\", \"crowdfund\", \"modular\", \"mortgage_rule\", \"median\", \"atkey\", \"phil\", \"hulchanski\", \"millennial\", \"mosleh\", \"pwc\", \"lifespan\", \"lovitt\", \"volunteering\", \"younger\", \"popkowski\", \"traditionally\", \"rolling\", \"ctrain\", \"hinder\", \"reitz\", \"benjamin_reitz\", \"parkdale\", \"eclipse\", \"urbanation\", \"landlord\", \"housing\", \"rent\", \"listing\", \"condo\", \"buyer\", \"cycle\", \"residential\", \"city\", \"mortgage\", \"unit\", \"hot\", \"home\", \"per_cent\", \"vancouver\", \"real_estate\", \"trend\", \"market\", \"price\", \"area\", \"year\", \"average\", \"number\", \"increase\", \"see\", \"show\", \"sale\", \"toronto\", \"new\", \"less\", \"fall\", \"calgary\", \"tailing\", \"irving\", \"diversification\", \"lubicon\", \"meaningful\", \"remind\", \"subsidy\", \"stymie\", \"stewardship\", \"repay\", \"totally\", \"writedown\", \"fiasco\", \"thereby\", \"base_mine\", \"gobble\", \"hutchinson\", \"infusion\", \"thirdly\", \"schindler\", \"lacavera\", \"water_capping\", \"ominayak\", \"communal\", \"premise\", \"charlebois\", \"noskey\", \"blindingly\", \"nationaliz\", \"simultaneously\", \"obstruct\", \"protectionist\", \"pond\", \"treaty\", \"land\", \"crown\", \"band\", \"indigenous\", \"eat\", \"self\", \"quebec\", \"farmer\", \"transglobe\", \"voting_right\", \"resource_download\", \"resource_globenewswire\", \"canaccord_genuity\", \"notification\", \"gmp\", \"pdf_available\", \"bahariya\", \"web_site\", \"limited_henderson\", \"egypt\", \"tracie\", \"fti_consult\", \"directive_ec\", \"dtr\", \"arab_republic\", \"inside\", \"henry\", \"tgl\", \"tga\", \"randy_neely\", \"cma\", \"renata\", \"refund\", \"jonathan_wright\", \"fitzgerald\", \"ghazalat\", \"noa\", \"ross_clarkson\", \"nacg\", \"est\", \"tran\", \"issuer\", \"financial_instrument\", \"perforated_interval\", \"symbol\", \"london\", \"energy\", \"globe\", \"fourth_quarter\", \"ben\", \"aim\", \"disposal\", \"pcs\", \"auction\", \"incur\", \"dispute_resolution\", \"aggressive\", \"francois\", \"champagne\", \"litigation\", \"wealthy\", \"unlimited\", \"tribunal\", \"generous\", \"digital_subscriber\", \"threshold\", \"martinrea\", \"forgive\", \"dia\", \"exclusively\", \"known\", \"transalta\", \"copyright\", \"cancellation\", \"cryogenic\", \"polling\", \"arbitration\", \"exacerbate\", \"decide_whether\", \"wide_range\", \"interprovincial_trade\", \"moe\", \"carbon_tax\", \"counsel\", \"ford\", \"matter\", \"dispute\", \"liberal\", \"party\", \"ontario\", \"gallant\", \"conservative\", \"voter\", \"green\", \"commercial\", \"recognize\", \"ms\", \"promise\", \"chamber\", \"corporate\", \"tax\", \"appear\", \"ca\", \"politic\", \"election\", \"fight\", \"mr\", \"federal\", \"focus\", \"campaign\", \"canada\", \"trudeau\", \"premier\", \"lead\", \"deal\", \"upcoming_word\", \"photos_video\", \"sent_word\", \"cda\", \"caravan\", \"coverage_plan\", \"bush\", \"wildfire\", \"upcoming_words\", \"photo\", \"craig_wong\", \"newsroom_ap\", \"previous_advisory\", \"writethru\", \"apnew\", \"please_guard\", \"national_desk\", \"available_entrie\", \"oly_calgary\", \"longtime\", \"migrant_caravan\", \"greyhound\", \"mainslot\", \"george_hw\", \"shooting\", \"corporate_governance\", \"moves_multiple\", \"baldwin\", \"icebreaker\", \"franco\", \"moves_national\", \"duplication\", \"florida\", \"toy\", \"california\", \"word\", \"victim\", \"top_storie\", \"ont\", \"halifax\", \"writer\", \"guard\", \"police\", \"military\", \"ottawa\", \"update\", \"trump\", \"sport\", \"city\", \"thursday\", \"new\", \"ontario\", \"election\", \"move\", \"news\", \"send\", \"plan\", \"quebec\", \"week\", \"president\", \"deal\", \"national\", \"questor\", \"oilfield\", \"mgx\", \"questortech\", \"purlucid\", \"mgxmineral\", \"combustion\", \"mascarenha\", \"evaporation\", \"lazerson\", \"qst\", \"render\", \"dzivkusic\", \"zivkusic\", \"amascarenha\", \"pollutant\", \"petrolithium\", \"ebd\", \"concentrated\", \"abd\", \"tpd\", \"lined\", \"mineralsmgx\", \"nanoflotation\", \"technologymgx\", \"impurity\", \"patented\", \"platts\", \"landfill\", \"brooksville\", \"facsimile_email\", \"paradigm\", \"biogas\", \"btex\", \"clearpower\", \"rental_fleet\", \"audrey\", \"mineral\", \"statewide\", \"waste\", \"water\", \"syngas\", \"voc\", \"gross_profit\", \"barbado\", \"pond\", \"specialize\", \"pallister\", \"purpose_built\", \"literally\", \"revamp\", \"tire\", \"mess\", \"kit\", \"stuck\", \"disagree\", \"pollute\", \"bold\", \"enormous\", \"harley\", \"surprising\", \"audience\", \"gate\", \"surrender\", \"ghost\", \"function\", \"slogan\", \"somehow\", \"crop\", \"translation\", \"bonus\", \"skull\", \"storyline\", \"rejection\", \"startup\", \"decommission\", \"iron\", \"davidson\", \"morneau\", \"meantime\", \"lesson\", \"king\", \"like\", \"grain\", \"ad\", \"basic\", \"ride\", \"always\", \"seem\", \"olympic\", \"way\", \"nothing\", \"good\", \"idea\", \"right\", \"winter\", \"social\", \"thing\", \"sense\", \"great\", \"never\", \"get\", \"know\", \"even\", \"make\", \"want\", \"work\", \"take\", \"world\", \"go\", \"success\", \"help\", \"come\", \"live\", \"small\", \"lot\", \"many\", \"owner\", \"become\", \"still\", \"big\", \"see\", \"year\", \"well\", \"need\", \"look\", \"would\", \"much\", \"time\", \"birchcliff\", \"pouce_coupe\", \"gordondale\", \"bio\", \"early_last\", \"montney_horizontal\", \"cortex\", \"modification\", \"renown\", \"fax_email\", \"denote\", \"standard_heat\", \"assessing_birchcliff\", \"fofi\", \"imbalance\", \"deferred\", \"sets_forth\", \"nymex_henry\", \"hip\", \"doig\", \"tcpl\", \"worsley\", \"christie_burn\", \"wellwood\", \"cpa\", \"invoice\", \"aete\", \"peabody\", \"intake\", \"cdn_mmbtu\", \"ngls\", \"months_endedseptember\", \"preferred_share\", \"primarily_due\", \"board\", \"bring\", \"series\", \"committee\", \"position\"], \"Total\": [3380.0, 1734.0, 1561.0, 2565.0, 1380.0, 1097.0, 1771.0, 1757.0, 3392.0, 1411.0, 1120.0, 886.0, 2852.0, 819.0, 2049.0, 833.0, 674.0, 850.0, 1009.0, 1152.0, 1021.0, 860.0, 962.0, 968.0, 1310.0, 1000.0, 851.0, 943.0, 1039.0, 640.0, 72.10926055908203, 41.97571563720703, 31.086585998535156, 27.804773330688477, 26.984315872192383, 26.16386604309082, 25.34341049194336, 22.88205337524414, 22.882049560546875, 20.832490921020508, 20.42068862915039, 18.779783248901367, 18.779783248901367, 16.31842041015625, 15.909769058227539, 14.347697257995605, 13.85705852508545, 13.036604881286621, 13.036604881286621, 11.191372871398926, 10.990198135375977, 9.754791259765625, 9.754789352416992, 9.754789352416992, 8.934338569641113, 8.93433666229248, 8.113885879516602, 8.113885879516602, 7.909560680389404, 7.29343318939209, 7.29343318939209, 7.29343318939209, 7.29343318939209, 7.29343318939209, 7.29343318939209, 7.29343318939209, 7.293432235717773, 7.293434143066406, 26.27775001525879, 22.675106048583984, 397.5973205566406, 243.1412811279297, 240.9962158203125, 230.79800415039062, 151.22267150878906, 134.1951141357422, 127.09523010253906, 98.60930633544922, 85.70945739746094, 84.74772644042969, 84.73029327392578, 84.6494369506836, 83.42073822021484, 81.86029815673828, 79.88600158691406, 78.05511474609375, 74.73238372802734, 73.80673217773438, 73.27777862548828, 72.3940200805664, 70.42082214355469, 68.0833740234375, 67.33094024658203, 64.20149230957031, 63.70676803588867, 59.363162994384766, 59.24430847167969, 56.40543746948242, 56.25965118408203, 54.939910888671875, 332.1601867675781, 209.29693603515625, 127.3260726928711, 867.3338623046875, 867.3973388671875, 128.05294799804688, 213.79714965820312, 131.957275390625, 299.9300537109375, 90.34142303466797, 153.5127716064453, 213.5602569580078, 148.8022003173828, 285.88934326171875, 430.537353515625, 2565.965087890625, 185.61309814453125, 241.9579315185547, 240.10147094726562, 408.8612365722656, 205.353271484375, 552.560791015625, 342.616943359375, 1061.585205078125, 1021.237060546875, 526.9580078125, 863.8590087890625, 1404.824951171875, 1120.0025634765625, 481.31195068359375, 545.259521484375, 1039.8778076171875, 544.5107421875, 863.508056640625, 802.2177734375, 755.9442749023438, 819.4016723632812, 860.8107299804688, 22.24839973449707, 13.170965194702148, 11.489097595214844, 6.249380111694336, 6.109452247619629, 6.109452247619629, 6.109452247619629, 5.481235504150391, 4.605906963348389, 4.244442939758301, 4.100684642791748, 3.5595579147338867, 3.4196290969848633, 3.4196290969848633, 3.4196290969848633, 3.4196290969848633, 3.4196290969848633, 3.248512029647827, 2.919217824935913, 2.7405636310577393, 2.5488715171813965, 2.4139130115509033, 2.3716278076171875, 2.116203784942627, 4.284196376800537, 1.8894461393356323, 1.8262910842895508, 27.497432708740234, 1.7093024253845215, 1.6613893508911133, 99.80547332763672, 45.015140533447266, 271.6639404296875, 12.444009780883789, 1.8776545524597168, 1.3778512477874756, 1.1066805124282837, 1.0995365381240845, 1.0268614292144775, 0.9188570380210876, 0.826852023601532, 0.7875565886497498, 0.7586808800697327, 0.7586808800697327, 0.7586808800697327, 0.7586808800697327, 0.7586808800697327, 0.7586808800697327, 0.7586808800697327, 0.7586808800697327, 0.7586808800697327, 0.7582547068595886, 0.7582547068595886, 0.7582547068595886, 0.7582547068595886, 0.7582547068595886, 0.7582547068595886, 0.7582547068595886, 0.7758957743644714, 0.7758957743644714, 0.7792617082595825, 0.7867042422294617, 0.7961358428001404, 0.8086951375007629, 30.383304595947266, 3.8412158489227295, 11.76629638671875, 3392.833984375, 11.653738975524902, 4.913261413574219, 11.765398979187012, 6.915990829467773, 1.760835886001587, 7.259667873382568, 1.6598485708236694, 20.966625213623047, 42.960201263427734, 35.1397590637207, 34.73707962036133, 28.883398056030273, 27.31930923461914, 21.845003128051758, 21.062957763671875, 20.362869262695312, 20.280914306640625, 20.280914306640625, 19.498865127563477, 17.934782028198242, 16.370689392089844, 16.370691299438477, 16.370689392089844, 14.865703582763672, 14.806598663330078, 14.806598663330078, 14.247251510620117, 14.247249603271484, 14.024554252624512, 14.024554252624512, 14.024554252624512, 13.242510795593262, 13.242510795593262, 13.242510795593262, 13.242510795593262, 12.460466384887695, 12.460466384887695, 11.678422927856445, 11.678422927856445, 11.678422927856445, 19.81305503845215, 17.46533203125, 393.4305114746094, 475.91741943359375, 127.17359924316406, 67.14736938476562, 159.72547912597656, 357.71197509765625, 156.0971221923828, 1404.824951171875, 23.93609046936035, 22.255191802978516, 22.005340576171875, 17.688676834106445, 15.934344291687012, 14.914027214050293, 14.862770080566406, 14.512617111206055, 14.30134391784668, 13.96965217590332, 12.435172080993652, 12.279769897460938, 10.544304847717285, 10.261942863464355, 10.260491371154785, 9.263596534729004, 9.209237098693848, 9.209237098693848, 9.189667701721191, 9.211145401000977, 9.211145401000977, 9.211145401000977, 7.701639175415039, 7.659867286682129, 7.479889869689941, 7.320966720581055, 7.301612377166748, 7.216339588165283, 6.886074542999268, 6.876941680908203, 265.3335876464844, 58.709938049316406, 17.91466522216797, 20.931297302246094, 15.295042037963867, 51.69560623168945, 192.5205841064453, 15.32891845703125, 46.075077056884766, 41.7072639465332, 60.27986526489258, 214.4500274658203, 199.934326171875, 121.17446899414062, 185.57772827148438, 115.15731048583984, 77.3963851928711, 292.16473388671875, 1000.818115234375, 45.81201934814453, 413.37548828125, 279.7066650390625, 338.02777099609375, 3392.833984375, 253.7910919189453, 1016.75927734375, 1061.585205078125, 155.74237060546875, 779.3682250976562, 1757.3492431640625, 786.8700561523438, 241.56748962402344, 196.4584197998047, 207.9176788330078, 131.8203582763672, 120.23088073730469, 119.5050048828125, 102.79634857177734, 97.30701446533203, 90.03271484375, 78.65863037109375, 78.40901184082031, 78.18939971923828, 62.45011520385742, 58.18120574951172, 54.5305290222168, 50.80935287475586, 50.48836135864258, 50.250816345214844, 49.27143859863281, 49.015602111816406, 47.46467590332031, 47.45084762573242, 44.37004089355469, 42.55168914794922, 42.34097671508789, 40.08235549926758, 40.046993255615234, 36.891170501708984, 36.88779830932617, 35.98329544067383, 110.36618041992188, 102.8060302734375, 52.40007019042969, 338.2712097167969, 66.36257934570312, 632.1097412109375, 529.7081298828125, 272.91082763671875, 293.0105285644531, 360.0909118652344, 399.4925537109375, 962.444091796875, 79.55238342285156, 138.4535369873047, 407.5586242675781, 558.1442260742188, 432.5829162597656, 626.806396484375, 201.0419921875, 1152.502685546875, 1009.372314453125, 391.3382873535156, 559.6425170898438, 385.36712646484375, 1771.5263671875, 786.8700561523438, 325.536865234375, 490.04193115234375, 3380.401611328125, 570.3583374023438, 384.8385314941406, 321.6707458496094, 745.9213256835938, 292.9082336425781, 664.5623168945312, 2852.6083984375, 1120.0025634765625, 876.2361450195312, 1404.824951171875, 5.32396125793457, 2.7373180389404297, 2.4250295162200928, 2.332406759262085, 2.332406759262085, 2.0538487434387207, 2.0262184143066406, 1.9923087358474731, 1.9423432350158691, 1.904660940170288, 1.9007617235183716, 1.5222023725509644, 1.5222023725509644, 1.5175085067749023, 1.500495433807373, 1.4265875816345215, 1.3172332048416138, 1.2995935678482056, 1.2995935678482056, 1.2995935678482056, 1.2383724451065063, 1.2383724451065063, 1.225685954093933, 1.1999114751815796, 1.1999114751815796, 1.1999114751815796, 1.1644645929336548, 1.1644647121429443, 1.1260037422180176, 1.125058889389038, 4.588407516479492, 74.65985870361328, 57.08794403076172, 54.10377883911133, 43.186031341552734, 39.705291748046875, 38.257041931152344, 34.10759735107422, 30.50798797607422, 27.939416885375977, 26.496904373168945, 25.57217025756836, 24.101213455200195, 24.0886287689209, 21.920207977294922, 21.376142501831055, 19.591005325317383, 18.743581771850586, 18.53809928894043, 18.312986373901367, 18.122600555419922, 18.122600555419922, 17.946073532104492, 17.443708419799805, 17.164642333984375, 16.73709487915039, 16.51531410217285, 16.051225662231445, 15.786901473999023, 15.74348258972168, 15.380549430847168, 203.00393676757812, 60.18016815185547, 21.122093200683594, 78.08790588378906, 55.26980209350586, 55.680660247802734, 140.86000061035156, 49.47970199584961, 62.58486557006836, 488.0237121582031, 88.40384674072266, 94.24464416503906, 342.6064147949219, 120.77825164794922, 361.15185546875, 33.046875, 91.88433837890625, 148.56495666503906, 89.92648315429688, 317.5179748535156, 247.68836975097656, 107.89815521240234, 55.752891540527344, 124.57281494140625, 562.351806640625, 154.10256958007812, 2852.6083984375, 1061.585205078125, 209.48660278320312, 454.1766052246094, 272.96575927734375, 229.51161193847656, 175.778564453125, 129.57298278808594, 119.53817749023438, 115.04853057861328, 85.60697174072266, 84.10536193847656, 80.0334701538086, 72.88690185546875, 69.99483489990234, 68.09831237792969, 63.43273162841797, 61.76003646850586, 61.70374298095703, 60.84712600708008, 60.59812545776367, 59.45918655395508, 271.0955505371094, 51.36421585083008, 51.346954345703125, 48.78885269165039, 49.059207916259766, 47.8977165222168, 47.867977142333984, 45.05897521972656, 43.466087341308594, 43.422882080078125, 43.212345123291016, 39.260005950927734, 39.15771484375, 886.2298583984375, 208.8790283203125, 221.01724243164062, 101.06754302978516, 95.7661361694336, 1680.922119140625, 104.70966339111328, 87.40924835205078, 2049.333984375, 174.4915771484375, 1298.1611328125, 154.15493774414062, 968.1541748046875, 943.2904663085938, 299.35552978515625, 327.40911865234375, 641.4948120117188, 851.7217407226562, 171.7186279296875, 188.8245391845703, 258.81500244140625, 499.1951904296875, 1000.818115234375, 307.2485046386719, 344.04327392578125, 1160.57080078125, 3380.401611328125, 875.7785034179688, 828.0374755859375, 1557.185302734375, 850.9749145507812, 3392.833984375, 1411.725830078125, 860.8107299804688, 505.46478271484375, 426.97503662109375, 955.9635009765625, 1251.351806640625, 668.6542358398438, 659.2647705078125, 781.5835571289062, 2149.27197265625, 717.3971557617188, 1300.1649169921875, 2852.6083984375, 656.1796264648438, 674.4075317382812, 1009.372314453125, 1771.5263671875, 65.47901916503906, 57.59737014770508, 64.20925903320312, 49.32329177856445, 48.38519287109375, 45.141170501708984, 41.192481994628906, 40.58071517944336, 39.34110641479492, 36.631317138671875, 34.411563873291016, 33.906394958496094, 33.00111770629883, 30.29574203491211, 30.13772964477539, 30.02159309387207, 29.071372985839844, 29.120525360107422, 28.723552703857422, 27.844511032104492, 27.695693969726562, 27.52290916442871, 26.859329223632812, 26.847139358520508, 26.374475479125977, 26.347576141357422, 26.334863662719727, 25.944259643554688, 27.392398834228516, 25.410511016845703, 76.90865325927734, 30.42770004272461, 29.49619483947754, 48.518829345703125, 92.6375732421875, 40.72317886352539, 134.83050537109375, 548.8248291015625, 50.84560775756836, 91.44203186035156, 86.24968719482422, 578.0960083007812, 47.00433349609375, 117.7010726928711, 241.0259246826172, 207.8509063720703, 168.41917419433594, 281.478515625, 330.6796875, 244.3689422607422, 315.0157470703125, 163.09906005859375, 2852.6083984375, 464.5197448730469, 278.72930908203125, 822.8836669921875, 157.5279998779297, 725.7157592773438, 348.34747314453125, 391.39239501953125, 1016.75927734375, 2149.27197265625, 235.06007385253906, 541.1665649414062, 1300.1649169921875, 828.0374755859375, 318.73773193359375, 419.40631103515625, 429.89324951171875, 341.7180480957031, 3392.833984375, 659.2647705078125, 1557.185302734375, 428.1051025390625, 781.5835571289062, 602.0663452148438, 523.4370727539062, 1251.351806640625, 1680.922119140625, 86.83218383789062, 38.6696891784668, 37.707340240478516, 30.88642120361328, 29.079404830932617, 28.709087371826172, 26.456323623657227, 25.216405868530273, 25.191011428833008, 25.191011428833008, 24.39716911315918, 24.39716911315918, 24.39716911315918, 24.39716911315918, 36.162044525146484, 21.484718322753906, 20.110841751098633, 19.856861114501953, 19.172788619995117, 18.6362361907959, 17.985193252563477, 17.091346740722656, 16.93085479736328, 16.815887451171875, 24.71885108947754, 16.109481811523438, 15.928993225097656, 14.964962005615234, 14.964962005615234, 14.964962005615234, 34.381534576416016, 35.38938903808594, 1097.286865234375, 1380.9010009765625, 133.18728637695312, 343.1664123535156, 182.9971923828125, 354.62066650390625, 234.7491912841797, 199.47747802734375, 3392.833984375, 464.5197448730469, 1310.80859375, 359.85711669921875, 547.9556274414062, 281.478515625, 86.9680404663086, 263.3077697753906, 456.303955078125, 209.81930541992188, 209.99073791503906, 1000.818115234375, 351.4277038574219, 955.9635009765625, 576.0394897460938, 1757.3492431640625, 875.7785034179688, 609.9964599609375, 381.0291442871094, 641.4948120117188, 522.1188354492188, 1557.185302734375, 81.20813751220703, 29.91533660888672, 29.339067459106445, 29.095508575439453, 16.6561279296875, 16.21244239807129, 15.956905364990234, 15.475489616394043, 13.87025260925293, 13.508782386779785, 13.095772743225098, 12.79023551940918, 12.55241584777832, 12.471492767333984, 11.765398979187012, 11.653738975524902, 10.933317184448242, 9.432724952697754, 9.382692337036133, 8.126012802124023, 8.054462432861328, 7.774418354034424, 7.3692216873168945, 7.072607517242432, 6.966164588928223, 6.9127888679504395, 6.883036136627197, 6.717040061950684, 6.70237398147583, 6.647841453552246, 209.95875549316406, 17.730083465576172, 195.8531494140625, 22.630783081054688, 14.540230751037598, 174.78395080566406, 59.61595153808594, 819.4016723632812, 1120.0025634765625, 25.88846206665039, 30.383304595947266, 170.68052673339844, 3380.401611328125, 2565.965087890625, 134.43893432617188, 1009.372314453125, 492.0096740722656, 968.1541748046875, 1411.725830078125, 298.98211669921875, 354.62066650390625, 108.87833404541016, 401.3076477050781, 863.8590087890625, 306.18890380859375, 55.29970932006836, 203.54139709472656, 250.99420166015625, 66.56664276123047, 356.49188232421875, 107.6056137084961, 61.512351989746094, 44.881591796875, 20.321836471557617, 18.32114028930664, 15.907258987426758, 15.286691665649414, 15.235180854797363, 13.154214859008789, 12.286027908325195, 10.400053024291992, 9.15755558013916, 8.244114875793457, 8.05706787109375, 7.854582786560059, 7.842362880706787, 7.493540287017822, 7.35529088973999, 7.2611165046691895, 7.167867660522461, 7.063849449157715, 7.01548433303833, 6.968471527099609, 6.9068498611450195, 6.644620895385742, 6.575258255004883, 6.56207275390625, 5.816459655761719, 5.5649309158325195, 5.5649309158325195, 16.008956909179688, 5.5649309158325195, 5.5649309158325195, 5.5649309158325195, 5.5649309158325195, 5.5649309158325195, 32.103328704833984, 82.20672607421875, 45.18738555908203, 9.828407287597656, 18.229816436767578, 56.84801483154297, 83.16035461425781, 202.8030548095703, 796.9472045898438, 52.33977508544922, 860.8107299804688, 217.06993103027344, 1310.80859375, 73.25390625, 2565.965087890625, 392.5411682128906, 74.20446014404297, 33.298282623291016, 178.9798583984375, 401.2838134765625, 82.61404418945312, 81.99916076660156, 56.166717529296875, 48.16444396972656, 20.734771728515625, 20.171987533569336, 17.400611877441406, 11.458379745483398, 11.010405540466309, 8.533700942993164, 8.471113204956055, 8.124217987060547, 7.6779584884643555, 7.39812707901001, 6.295639991760254, 5.199540615081787, 5.086361408233643, 4.371484756469727, 4.23741340637207, 4.220310688018799, 16.943286895751953, 3.5231194496154785, 3.2156014442443848, 2.9102065563201904, 2.423957347869873, 2.2443807125091553, 31.093679428100586, 1.9937859773635864, 1.9937859773635864, 1.9531654119491577, 6.9561872482299805, 13.902385711669922, 32.50048065185547, 44.71245193481445, 49.4637565612793, 40.849220275878906, 66.6853256225586, 456.303955078125, 150.802978515625, 408.6169128417969, 67.2931137084961, 209.81930541992188, 18.41864585876465, 18.946006774902344, 170.68052673339844, 119.32958221435547, 391.39239501953125, 191.6570281982422, 345.007568359375, 112.16925811767578, 31.56094741821289, 24.814210891723633, 20.801258087158203, 17.188615798950195, 16.680068969726562, 16.087032318115234, 14.347674369812012, 14.097100257873535, 11.906107902526855, 11.712565422058105, 11.482365608215332, 10.877601623535156, 10.846062660217285, 9.84305477142334, 9.711200714111328, 9.288798332214355, 9.171385765075684, 8.61501407623291, 8.480195999145508, 8.452438354492188, 8.444931983947754, 8.356365203857422, 8.128378868103027, 7.781112194061279, 7.535573482513428, 7.283405780792236, 6.9597907066345215, 6.588914394378662, 6.5840325355529785, 61.591827392578125, 16.953781127929688, 15.932762145996094, 201.2764434814453, 30.915950775146484, 23.66083526611328, 155.74237060546875, 157.2031707763672, 33.78751754760742, 54.221412658691406, 78.02241516113281, 119.32958221435547, 225.5023193359375, 709.2385864257812, 86.11204528808594, 106.99674224853516, 79.11135864257812, 76.35394287109375, 64.5321273803711, 57.86600875854492, 53.444454193115234, 48.893882751464844, 54.532554626464844, 42.53085708618164, 40.64094924926758, 40.43050003051758, 37.886741638183594, 37.86785125732422, 37.46923065185547, 37.159324645996094, 36.930599212646484, 35.92804718017578, 34.928306579589844, 37.59654998779297, 34.28144073486328, 34.640506744384766, 34.12196731567383, 32.78432846069336, 32.240264892578125, 32.13789367675781, 32.024940490722656, 31.93512535095215, 31.322154998779297, 31.274452209472656, 31.014904022216797, 150.9669647216797, 96.66444396972656, 34.53521728515625, 56.078731536865234, 51.26396179199219, 67.12042999267578, 60.60136032104492, 225.5023193359375, 104.81332397460938, 130.3749237060547, 170.16725158691406, 209.48660278320312, 414.0556335449219, 166.33387756347656, 139.38900756835938, 327.1531677246094, 115.15731048583984, 86.60298919677734, 214.4500274658203, 98.71247100830078, 553.4136352539062, 3392.833984375, 779.3682250976562, 207.78736877441406, 238.4952392578125, 317.5179748535156, 1404.824951171875, 300.6851806640625, 401.2838134765625, 755.9442749023438, 177.45018005371094, 372.9244689941406, 397.13653564453125, 357.71197509765625, 2149.27197265625, 2852.6083984375, 543.9388427734375, 486.2142028808594, 444.0979309082031, 522.1188354492188, 796.9472045898438, 725.7157592773438, 1160.57080078125, 468.8426208496094, 488.0237121582031, 1300.1649169921875, 1557.185302734375, 22.832347869873047, 19.357999801635742, 18.693525314331055, 16.69073486328125, 13.833375930786133, 12.678247451782227, 11.958694458007812, 11.635991096496582, 11.42880916595459, 11.42880916595459, 11.42880916595459, 10.906332015991211, 62.14860534667969, 8.744946479797363, 8.325161933898926, 8.487761497497559, 7.811761856079102, 7.193326473236084, 7.067010402679443, 6.859188556671143, 6.7774505615234375, 68.8804931640625, 6.051555633544922, 5.983928680419922, 5.749932765960693, 5.642048358917236, 5.442276954650879, 5.427775859832764, 5.044336318969727, 5.044336318969727, 5.044336318969727, 47.59576416015625, 17.634899139404297, 21.55598258972168, 16.576879501342773, 71.93600463867188, 97.42801666259766, 221.45498657226562, 33.56334686279297, 201.2764434814453, 640.297119140625, 258.07391357421875, 64.46424865722656, 351.1482238769531, 1411.725830078125, 1039.8778076171875, 366.96990966796875, 1771.5263671875, 2565.965087890625, 199.6505889892578, 382.87640380859375, 127.35536193847656, 541.1665649414062, 628.7759399414062, 327.1531677246094, 5.680196762084961, 1.823569893836975, 1.823569893836975, 1.6132093667984009, 1.3945738077163696, 1.2766876220703125, 1.2766876220703125, 1.2766876220703125, 1.2766876220703125, 1.2766876220703125, 1.2766876220703125, 1.2766876220703125, 1.2766876220703125, 1.2766876220703125, 1.2766876220703125, 1.2766876220703125, 1.2766876220703125, 1.2766876220703125, 1.2766876220703125, 1.2766876220703125, 1.2766876220703125, 1.0211126804351807, 0.914856493473053, 0.9058008790016174, 0.8086951375007629, 0.7961358428001404, 0.7867042422294617, 22.392187118530273, 0.7582547068595886, 0.7582547068595886, 5.941960334777832, 0.7582547068595886, 0.7582547068595886, 0.7582547068595886, 13.519631385803223, 11.361747741699219, 7.124719142913818, 6.9317755699157715, 3.4338817596435547, 3.387791156768799, 3.387791156768799, 3.091254472732544, 2.694742202758789, 2.547886610031128, 2.501795530319214, 2.501795768737793, 1.6158004999160767, 1.6158004999160767, 1.6158004999160767, 1.6158004999160767, 1.6158004999160767, 1.6158004999160767, 1.6158004999160767, 1.6158004999160767, 1.6158004999160767, 1.6158004999160767, 1.6158004999160767, 1.6158004999160767, 1.454280972480774, 1.2706016302108765, 1.1644904613494873, 1.1644904613494873, 1.1644904613494873, 1.1156980991363525, 1.1156980991363525, 3.863537311553955, 156.33921813964844, 78.68721008300781, 78.09204864501953, 73.43749237060547, 65.53927612304688, 59.082275390625, 55.6993408203125, 55.68830871582031, 54.97443389892578, 53.75190734863281, 51.743831634521484, 51.23773956298828, 50.892696380615234, 50.426666259765625, 49.36913299560547, 49.22291564941406, 45.849365234375, 45.183013916015625, 44.190773010253906, 44.238433837890625, 43.489662170410156, 42.10859680175781, 41.74971389770508, 41.4779052734375, 40.68326950073242, 40.702880859375, 38.152503967285156, 36.80777359008789, 36.138587951660156, 34.458431243896484, 804.6909790039062, 278.9654846191406, 506.7960510253906, 571.0733642578125, 121.14495086669922, 79.0521469116211, 351.1482238769531, 290.3742370605469, 79.7667007446289, 1757.3492431640625, 417.8436279296875, 312.9869689941406, 640.297119140625, 383.129638671875, 1039.8778076171875, 474.97247314453125, 79.11903381347656, 118.34756469726562, 1380.9010009765625, 408.6251220703125, 2852.6083984375, 188.7346954345703, 366.96990966796875, 2565.965087890625, 1310.80859375, 517.058837890625, 1734.1021728515625, 2149.27197265625, 867.8065185546875, 863.8590087890625, 236.56321716308594, 3392.833984375, 255.48875427246094, 876.2361450195312, 396.84710693359375, 1097.286865234375, 1300.1649169921875, 1771.5263671875, 1021.237060546875, 21.58682632446289, 15.512478828430176, 11.570430755615234, 8.613896369934082, 8.010649681091309, 7.628387451171875, 7.135631084442139, 6.642876148223877, 4.671852111816406, 4.67185115814209, 4.67185115814209, 4.17909574508667, 4.17909574508667, 4.063990592956543, 3.686339855194092, 3.686339855194092, 3.4802498817443848, 3.193584442138672, 3.193584442138672, 3.1935839653015137, 3.1935839653015137, 3.1935839653015137, 2.7008283138275146, 2.7008283138275146, 2.7008283138275146, 2.7008283138275146, 2.2080724239349365, 2.2080721855163574, 2.2080724239349365, 2.2080724239349365, 2.2080724239349365, 2.2080721855163574, 2.2080721855163574, 5.954609394073486, 62.397300720214844, 16.68020248413086, 14.328081130981445, 7.2958526611328125, 78.8546371459961, 57.29130554199219, 53.26910400390625, 42.02992630004883, 39.51497268676758, 30.71620750427246, 28.391576766967773, 24.243024826049805, 23.91205406188965, 23.91205406188965, 22.94384002685547, 20.45570182800293, 20.083847045898438, 16.935483932495117, 16.703163146972656, 15.312283515930176, 15.207993507385254, 14.95378589630127, 14.593889236450195, 13.348942756652832, 13.341947555541992, 10.5195894241333, 10.508203506469727, 10.3438081741333, 9.957327842712402, 77.37802124023438, 9.06545639038086, 8.439586639404297, 23.85814666748047, 8.299177169799805, 70.30913543701172, 58.119754791259766, 182.6611785888672, 91.05757904052734, 47.562232971191406, 576.5545043945312, 66.12767028808594, 189.3271026611328, 338.02777099609375, 132.3346405029297, 103.95893859863281, 169.7903594970703, 150.802978515625, 850.9749145507812, 478.6475524902344, 158.9656524658203, 325.9116516113281, 3380.401611328125, 1152.502685546875, 1771.5263671875, 79.14869689941406, 1411.725830078125, 1016.75927734375, 860.8107299804688, 2149.27197265625, 2565.965087890625, 1757.3492431640625, 2049.333984375, 448.2550048828125, 180.61473083496094, 468.8426208496094, 2852.6083984375, 3392.833984375, 819.4016723632812, 45.980594635009766, 22.76935386657715, 15.784191131591797, 14.15412712097168, 13.547526359558105, 13.20231819152832, 10.36507511138916, 10.115684509277344, 8.794816017150879, 8.663532257080078, 8.49536418914795, 8.037735939025879, 8.002466201782227, 7.451664447784424, 7.376670837402344, 6.546458721160889, 6.067712783813477, 5.500854969024658, 5.304407119750977, 5.123607635498047, 5.103750705718994, 4.824467182159424, 4.450315475463867, 4.430317401885986, 4.420872688293457, 4.332091331481934, 4.118583679199219, 4.034438133239746, 4.030663013458252, 3.971550941467285, 22.13494300842285, 367.001220703125, 7.803885459899902, 32.7311897277832, 28.716083526611328, 29.316452026367188, 325.9116516113281, 321.7135925292969, 886.2298583984375, 71.52133178710938, 1411.725830078125, 851.7217407226562, 233.77230834960938, 55.99405288696289, 428.8919677734375, 850.9749145507812, 111.1855239868164, 115.74080657958984, 98.1544418334961, 30.725828170776367, 25.562623977661133, 25.1879940032959, 20.964902877807617, 20.396169662475586, 19.243539810180664, 19.20899200439453, 17.272199630737305, 17.44520378112793, 14.935553550720215, 14.093228340148926, 13.64299488067627, 13.610928535461426, 12.966885566711426, 12.694113731384277, 12.398847579956055, 12.248099327087402, 11.76605224609375, 11.758064270019531, 11.758064270019531, 11.758064270019531, 11.758064270019531, 11.758064270019531, 11.508318901062012, 11.203369140625, 11.198016166687012, 9.562821388244629, 9.258551597595215, 9.069222450256348, 44.29641342163086, 95.10397338867188, 258.07391357421875, 49.10578918457031, 1734.1021728515625, 84.83894348144531, 55.376861572265625, 108.08116912841797, 63.836585998535156, 39.834537506103516, 41.97992706298828, 579.5823974609375, 127.35536193847656, 111.21459197998047, 63.07402038574219, 321.14923095703125, 64.3160171508789, 236.56321716308594, 96.9036865234375, 76.69734191894531, 298.7794189453125, 326.677734375, 531.150634765625, 418.775634765625, 244.3689422607422, 876.2361450195312, 1039.8778076171875, 448.2550048828125, 1771.5263671875, 628.7759399414062, 1757.3492431640625, 541.1665649414062, 220.017578125, 471.7447509765625, 867.8065185546875, 301.36883544921875, 786.8700561523438, 1160.57080078125, 478.6475524902344, 547.9556274414062, 2149.27197265625, 640.297119140625, 1016.75927734375, 626.11962890625, 3380.401611328125, 2852.6083984375, 82.2505874633789, 25.560264587402344, 24.527353286743164, 24.330432891845703, 24.01380729675293, 23.332775115966797, 23.144397735595703, 22.8248348236084, 21.28366470336914, 20.024229049682617, 20.024229049682617, 19.439924240112305, 19.218942642211914, 15.199209213256836, 14.7965726852417, 13.609865188598633, 12.09048843383789, 10.94298267364502, 10.541328430175781, 9.789634704589844, 9.736039161682129, 9.736039161682129, 9.736038208007812, 9.736039161682129, 9.736039161682129, 9.736037254333496, 9.736037254333496, 9.598298072814941, 9.571436882019043, 8.93074893951416, 63.2754020690918, 43.66775131225586, 164.86288452148438, 25.10198211669922, 135.70431518554688, 10.762211799621582, 42.93539810180664, 33.98707580566406, 32.545654296875, 88.53595733642578, 155.7757110595703, 429.01654052734375, 48.0704460144043, 135.43089294433594, 559.6425170898438, 1021.237060546875, 271.6639404296875, 522.1188354492188, 159.72547912597656, 475.91741943359375, 138.3739471435547, 78.8140869140625, 278.72930908203125, 943.2904663085938, 136.67478942871094, 417.8436279296875, 213.79678344726562, 863.8590087890625, 454.1766052246094, 84.27789306640625, 241.0259246826172, 413.37548828125, 781.5835571289062, 91.79828643798828, 315.0157470703125, 312.83807373046875, 2.349738121032715, 1.9897689819335938, 1.972027063369751, 1.7806378602981567, 1.7649903297424316, 1.7649903297424316, 1.221919298171997, 1.1933356523513794, 1.1438791751861572, 1.1254574060440063, 1.0805460214614868, 1.0514973402023315, 0.9368422031402588, 0.9368422031402588, 0.9368422031402588, 0.9368422031402588, 0.9368422031402588, 0.9368422031402588, 0.916403591632843, 6.0278496742248535, 0.8669469356536865, 0.8465644121170044, 0.8465644121170044, 0.8465644121170044, 0.8465644121170044, 0.8465644121170044, 0.8465644121170044, 0.8287183046340942, 4.997673511505127, 0.8174903988838196, 3.009019136428833, 14.334229469299316, 30.00290298461914, 30.00290298461914, 24.1044864654541, 14.52953052520752, 11.900181770324707, 11.820771217346191, 10.487503051757812, 10.062895774841309, 9.309491157531738, 9.049667358398438, 8.708646774291992, 8.666431427001953, 7.910763740539551, 7.215620994567871, 7.2044243812561035, 7.178747653961182, 7.104716777801514, 6.314995288848877, 5.6086554527282715, 5.6086554527282715, 5.6086554527282715, 5.100759029388428, 4.9797468185424805, 4.9797468185424805, 4.766895294189453, 4.730342864990234, 4.479046821594238, 4.450544834136963, 4.437239646911621, 3.921341896057129, 13.733516693115234, 180.67848205566406, 90.89453887939453, 12.341814041137695, 17.245759963989258, 40.140987396240234, 54.91659164428711, 33.664276123046875, 674.4075317382812, 59.03627395629883, 166.8024139404297, 37.648677825927734, 367.8990173339844, 1734.1021728515625, 522.1188354492188, 85.37754821777344, 98.65815734863281, 1757.3492431640625, 1771.5263671875, 401.2838134765625, 2852.6083984375, 558.1442260742188, 541.686767578125, 962.444091796875, 833.4075317382812, 356.49188232421875, 484.9662170410156, 222.49346923828125, 1557.185302734375, 329.59320068359375, 531.150634765625, 943.2904663085938, 29.317663192749023, 24.67369270324707, 22.72140121459961, 14.22214126586914, 27.60825538635254, 12.786802291870117, 12.582385063171387, 10.449225425720215, 8.494793891906738, 8.199478149414062, 7.766508102416992, 7.626196384429932, 7.543125152587891, 7.112471580505371, 6.519639015197754, 6.185482025146484, 6.032217025756836, 6.005256175994873, 5.878945350646973, 5.795909881591797, 5.795909404754639, 5.795909881591797, 5.548497200012207, 5.461752891540527, 5.441326141357422, 5.433570384979248, 5.217482089996338, 5.155216693878174, 5.155216693878174, 5.155216693878174, 5.155216693878174, 5.155216693878174, 16.112043380737305, 28.746952056884766, 217.06993103027344, 59.95481491088867, 49.01430130004883, 187.97581481933594, 38.698062896728516, 60.513851165771484, 367.001220703125, 56.84801483154297, 31.06471824645996, 13.786615371704102, 11.758248329162598, 11.758248329162598, 11.126371383666992, 8.645928382873535, 7.10008430480957, 6.6647467613220215, 5.78488826751709, 5.342890739440918, 5.153002738952637, 4.7965264320373535, 4.794616222381592, 4.729890823364258, 4.521117687225342, 4.521117687225342, 4.261254787445068, 4.127984046936035, 3.9936184883117676, 3.8970046043395996, 3.8970046043395996, 3.7637343406677246, 3.6764492988586426, 3.6181693077087402, 3.581246852874756, 3.571284532546997, 3.5338499546051025, 3.2573468685150146, 3.2573468685150146, 2.9308483600616455, 7.329590797424316, 5.892579078674316, 20.855064392089844, 22.314790725708008, 33.48006820678711, 5.218550682067871, 47.83730697631836, 71.12811279296875, 1411.725830078125, 354.62066650390625, 93.65428924560547, 15.175344467163086, 133.49505615234375, 41.6286735534668, 38.66597366333008, 29.716463088989258, 23.03022003173828, 22.980411529541016, 20.93896484375, 20.51317024230957, 19.791038513183594, 197.45606994628906, 17.809690475463867, 17.163841247558594, 16.355375289916992, 16.125465393066406, 15.89627742767334, 15.865280151367188, 15.725125312805176, 15.500530242919922, 14.814474105834961, 14.557211875915527, 14.286410331726074, 14.286410331726074, 14.04528522491455, 13.711132049560547, 13.66914176940918, 13.412235260009766, 53.13953399658203, 13.260137557983398, 12.733370780944824, 11.76629638671875, 11.694538116455078, 13.78178882598877, 274.5498352050781, 64.67239379882812, 148.11219787597656, 191.7592010498047, 102.70709228515625, 419.40631103515625, 385.5179748535156, 552.1036376953125, 81.34516143798828, 119.54320526123047, 136.25045776367188, 158.32061767578125, 134.2181854248047, 150.50338745117188, 118.77462768554688, 122.93374633789062, 72.22985076904297, 275.7427062988281, 570.3583374023438, 216.83120727539062, 167.44837951660156, 281.478515625, 578.0960083007812, 155.79161071777344, 306.18890380859375, 851.7217407226562, 354.39276123046875, 211.0172882080078, 3392.833984375, 426.97503662109375, 321.7135925292969, 486.2142028808594, 547.9556274414062, 91.8109359741211, 60.900672912597656, 833.1153564453125, 53.469093322753906, 48.858177185058594, 56.92308807373047, 48.42083740234375, 42.4461784362793, 38.127220153808594, 1561.727783203125, 36.16926574707031, 33.90279769897461, 34.21383285522461, 69.00897216796875, 30.51277732849121, 29.510711669921875, 27.179889678955078, 27.621936798095703, 25.220247268676758, 24.42069435119629, 23.714921951293945, 23.68323516845703, 21.036863327026367, 19.873600006103516, 19.57322120666504, 18.66790008544922, 18.61713218688965, 17.601438522338867, 17.601459503173828, 17.299365997314453, 76.55551147460938, 128.1341552734375, 58.06782150268555, 26.514554977416992, 51.08341979980469, 822.8836669921875, 70.58689880371094, 105.35687255859375, 159.43399047851562, 175.4644317626953, 129.9957275390625, 103.57197570800781, 274.17694091796875, 100.54618072509766, 781.5835571289062, 226.97027587890625, 548.8248291015625, 136.516357421875, 674.4075317382812, 418.775634765625, 1557.185302734375, 552.1036376953125, 578.0960083007812, 602.0663452148438, 456.303955078125, 220.5022735595703, 955.9635009765625, 367.001220703125, 570.2463989257812, 444.0979309082031, 547.9556274414062, 543.9388427734375, 15.165287971496582, 11.733070373535156, 5.9996514320373535, 4.1658196449279785, 3.937690496444702, 3.937690496444702, 3.47967267036438, 3.1357192993164062, 2.677700996398926, 2.3337478637695312, 2.3337478637695312, 2.1577882766723633, 1.9897942543029785, 1.9897942543029785, 1.9897942543029785, 1.8757296800613403, 1.8757295608520508, 1.761664867401123, 1.761664867401123, 1.6458408832550049, 1.6458408832550049, 1.5317761898040771, 1.5317761898040771, 1.5317761898040771, 1.5317761898040771, 1.5317761898040771, 1.5317761898040771, 1.5317761898040771, 1.5317764282226562, 1.5317764282226562, 4.206676959991455, 1.5317764282226562, 1.5317764282226562, 1.5317764282226562, 1.5317764282226562, 7.623104095458984, 5.785188674926758, 32.6696891784668, 1.5317764282226562, 42.615081787109375, 169.36439514160156, 1.5317764282226562, 1.5317764282226562, 11.815701484680176, 2.3468310832977295, 16.112043380737305, 37.918975830078125, 33.85492706298828, 31.52981185913086, 30.577795028686523, 28.91220474243164, 27.6300048828125, 26.188730239868164, 25.124757766723633, 24.800880432128906, 23.33350944519043, 23.241811752319336, 22.87441062927246, 21.579086303710938, 21.30974006652832, 21.094831466674805, 21.371095657348633, 19.924070358276367, 19.57891273498535, 19.56557273864746, 19.137229919433594, 18.6090087890625, 18.056678771972656, 17.90502166748047, 17.474374771118164, 17.14120101928711, 16.74175262451172, 16.671451568603516, 16.51205062866211, 16.387596130371094, 16.173946380615234, 46.54420471191406, 32.206668853759766, 69.8189468383789, 25.785661697387695, 42.80375671386719, 44.39812469482422, 33.75581359863281, 21.83597183227539, 47.16122817993164, 64.51594543457031, 51.050926208496094, 128.56417846679688, 166.20594787597656, 113.70907592773438, 449.6842346191406, 82.23799133300781, 709.2385864257812, 134.2822723388672, 411.3494567871094, 81.57701873779297, 117.42321014404297, 322.2497863769531, 76.26026153564453, 272.96575927734375, 163.3860321044922, 1000.818115234375, 499.5345153808594, 464.66357421875, 1251.351806640625, 418.2340087890625, 796.9472045898438, 905.6497802734375, 576.0394897460938, 875.7785034179688, 125.01457977294922, 596.7348022460938, 717.3971557617188, 222.9149169921875, 294.63494873046875, 184.30397033691406, 562.351806640625, 171.21324157714844, 484.0765380859375, 423.5967102050781, 523.4370727539062, 833.4075317382812, 2852.6083984375, 1120.0025634765625, 641.4948120117188, 493.28729248046875, 1298.1611328125, 422.99285888671875, 1300.1649169921875, 165.71981811523438, 30.617721557617188, 17.24681282043457, 15.266777992248535, 10.931751251220703, 10.168094635009766, 9.606341361999512, 8.739643096923828, 8.396681785583496, 6.537454605102539, 6.2354736328125, 6.2354736328125, 6.2354736328125, 6.2354736328125, 6.162197113037109, 5.586186408996582, 5.448949813842773, 5.448949813842773, 5.375673294067383, 4.662426471710205, 3.875901699066162, 3.875901937484741, 3.834745168685913, 3.834745168685913, 3.6853535175323486, 3.07952880859375, 3.0615899562835693, 2.7464163303375244, 2.736567258834839, 9.79616641998291, 25.426971435546875, 10.371310234069824, 11.64150619506836, 32.84165573120117, 393.14544677734375, 263.81695556640625, 90.63430786132812, 129.33682250976562, 220.7802276611328], \"loglift\": [30.0, 29.0, 28.0, 27.0, 26.0, 25.0, 24.0, 23.0, 22.0, 21.0, 20.0, 19.0, 18.0, 17.0, 16.0, 15.0, 14.0, 13.0, 12.0, 11.0, 10.0, 9.0, 8.0, 7.0, 6.0, 5.0, 4.0, 3.0, 2.0, 1.0, 5.533400058746338, 5.526199817657471, 5.520100116729736, 5.517300128936768, 5.516499996185303, 5.515699863433838, 5.514800071716309, 5.51170015335083, 5.51170015335083, 5.508500099182129, 5.507800102233887, 5.5046000480651855, 5.5046000480651855, 5.498600006103516, 5.497499942779541, 5.492300033569336, 5.490499973297119, 5.487100124359131, 5.487100124359131, 5.477499961853027, 5.47629976272583, 5.467400074005127, 5.467400074005127, 5.467400074005127, 5.46019983291626, 5.46019983291626, 5.451399803161621, 5.451399803161621, 5.44890022277832, 5.440499782562256, 5.440499782562256, 5.440499782562256, 5.440499782562256, 5.440499782562256, 5.440499782562256, 5.440499782562256, 5.440499782562256, 5.440499782562256, 4.505199909210205, 4.48330020904541, 2.4130001068115234, 2.411900043487549, 2.411799907684326, 2.4117000102996826, 2.410099983215332, 2.4094998836517334, 2.4091999530792236, 2.407599925994873, 2.4065001010894775, 2.406399965286255, 2.406399965286255, 2.406399965286255, 2.4063000679016113, 2.406100034713745, 2.405900001525879, 2.4056999683380127, 2.4052999019622803, 2.4052000045776367, 2.405100107192993, 2.4049999713897705, 2.4047000408172607, 2.404400110244751, 2.4042999744415283, 2.403700113296509, 2.403700113296509, 2.4028000831604004, 2.4028000831604004, 2.4021999835968018, 2.4021999835968018, 2.401900053024292, 2.394700050354004, 2.394200086593628, 2.397700071334839, 2.267199993133545, 2.228100061416626, 2.3529000282287598, 2.2901999950408936, 2.3350000381469727, 2.235100030899048, 2.37280011177063, 2.2969000339508057, 2.237499952316284, 2.273099899291992, 2.10479998588562, 1.996000051498413, 1.5506999492645264, 2.1974000930786133, 2.108299970626831, 2.0989999771118164, 1.913599967956543, 2.1275999546051025, 1.808500051498413, 1.9359999895095825, 1.4980000257492065, 1.4345999956130981, 1.7035000324249268, 1.4680999517440796, 1.2021000385284424, 1.107200026512146, 1.5857000350952148, 1.5008000135421753, 1.0743000507354736, 1.4615999460220337, 0.9812999963760376, 1.0128999948501587, 1.0642999410629272, 0.968500018119812, 0.9039999842643738, 6.723100185394287, 6.69980001449585, 6.691400051116943, 6.633900165557861, 6.630899906158447, 6.630899906158447, 6.630899906158447, 6.615600109100342, 6.58650016784668, 6.570700168609619, 6.563499927520752, 6.530799865722656, 6.520400047302246, 6.520400047302246, 6.520400047302246, 6.520400047302246, 6.520400047302246, 6.50629997253418, 6.473800182342529, 6.452300071716309, 6.425300121307373, 6.40310001373291, 6.395599842071533, 6.341800212860107, 6.333700180053711, 6.278299808502197, 6.256899833679199, 6.251800060272217, 6.211599826812744, 6.190499782562256, 6.047599792480469, 5.035699844360352, 2.1577999591827393, 4.664299964904785, 8.340399742126465, 8.079899787902832, 7.759799957275391, 7.747300148010254, 7.598499774932861, 7.262499809265137, 6.713699817657471, 6.2606000900268555, 5.645999908447266, 5.645999908447266, 5.645999908447266, 5.645999908447266, 5.645999908447266, 5.645999908447266, 5.645999908447266, 5.645999908447266, 5.645999908447266, 3.131700038909912, 3.131700038909912, 3.131700038909912, 3.131700038909912, 3.131700038909912, 3.131700038909912, 3.131700038909912, 3.1087000370025635, 3.1087000370025635, 3.1043999195098877, 3.094899892807007, 3.082900047302246, 3.0673000812530518, -0.558899998664856, 1.5091999769210815, 0.3896999955177307, -5.274499893188477, 0.3993000090122223, 1.2630000114440918, 0.3898000121116638, 0.9211000204086304, 2.2892000675201416, 0.8726000189781189, 2.3482000827789307, -0.18799999356269836, 4.704500198364258, 4.700799942016602, 4.7006001472473145, 4.696400165557861, 4.695000171661377, 4.688399791717529, 4.68720006942749, 4.685999870300293, 4.685800075531006, 4.685800075531006, 4.6844000816345215, 4.681099891662598, 4.677199840545654, 4.677199840545654, 4.677199840545654, 4.672699928283691, 4.672500133514404, 4.672500133514404, 4.670599937438965, 4.670599937438965, 4.6697001457214355, 4.6697001457214355, 4.6697001457214355, 4.666600227355957, 4.666600227355957, 4.666600227355957, 4.666600227355957, 4.663099765777588, 4.663099765777588, 4.65910005569458, 4.65910005569458, 4.65910005569458, 4.623899936676025, 4.612199783325195, 3.0360000133514404, 2.8959999084472656, 3.495699882507324, 3.8276000022888184, 3.2400999069213867, 2.7651000022888184, 3.0473999977111816, 0.7633000016212463, 5.006100177764893, 5.003799915313721, 5.003499984741211, 4.995299816131592, 4.990699768066406, 4.987500190734863, 4.987299919128418, 4.986100196838379, 4.985300064086914, 4.984099864959717, 4.977399826049805, 4.9766998291015625, 4.9664998054504395, 4.9644999504089355, 4.9644999504089355, 4.956500053405762, 4.955999851226807, 4.955999851226807, 4.9558000564575195, 4.955399990081787, 4.955399990081787, 4.955399990081787, 4.939499855041504, 4.938899993896484, 4.936500072479248, 4.934199810028076, 4.933899879455566, 4.932600021362305, 4.9274001121521, 4.927199840545654, 4.80210018157959, 4.785999774932861, 4.759399890899658, 4.653299808502197, 4.731900215148926, 4.322299957275391, 3.66759991645813, 4.662600040435791, 4.191299915313721, 4.214900016784668, 4.00570011138916, 3.347100019454956, 3.348599910736084, 3.539900064468384, 3.2883999347686768, 3.54229998588562, 3.7248001098632812, 2.8803000450134277, 1.9397000074386597, 3.9837000370025635, 2.2739999294281006, 2.5316998958587646, 2.3089001178741455, 0.36800000071525574, 2.5441999435424805, 1.236899971961975, 1.1093000173568726, 2.8324999809265137, 1.2285000085830688, 0.42899999022483826, 1.1974999904632568, 2.4409000873565674, 2.440200090408325, 2.440000057220459, 2.4382998943328857, 2.4379000663757324, 2.4379000663757324, 2.4368999004364014, 2.436500072479248, 2.436000108718872, 2.434799909591675, 2.434799909591675, 2.434799909591675, 2.432499885559082, 2.4316000938415527, 2.430799961090088, 2.429800033569336, 2.429800033569336, 2.4296998977661133, 2.4293999671936035, 2.42930006980896, 2.4289000034332275, 2.428800106048584, 2.427799940109253, 2.4270999431610107, 2.427000045776367, 2.426100015640259, 2.426100015640259, 2.424499988555908, 2.424499988555908, 2.4240000247955322, 2.4075000286102295, 2.406899929046631, 2.4196999073028564, 2.3315999507904053, 2.40310001373291, 2.2320001125335693, 2.2339000701904297, 2.2811999320983887, 2.2588999271392822, 2.2202999591827393, 2.1861000061035156, 2.0522000789642334, 2.3635001182556152, 2.2836999893188477, 2.0859999656677246, 2.0311999320983887, 2.0552000999450684, 1.947700023651123, 2.1751999855041504, 1.7619999647140503, 1.7175999879837036, 1.9384000301361084, 1.8243000507354736, 1.8940999507904053, 1.306399941444397, 1.589400053024292, 1.9270999431610107, 1.7503999471664429, 0.8884999752044678, 1.6532000303268433, 1.8025000095367432, 1.8960000276565552, 1.3950999975204468, 1.9428999423980713, 1.388200044631958, 0.3939000070095062, 0.9071999788284302, 1.0631999969482422, 0.5099999904632568, 7.334199905395508, 7.173900127410889, 7.126699924468994, 7.1097002029418945, 7.1097002029418945, 7.047100067138672, 7.039700031280518, 7.030200004577637, 7.015500068664551, 7.003799915313721, 7.002500057220459, 6.837500095367432, 6.837500095367432, 6.834700107574463, 6.824399948120117, 6.775199890136719, 6.686500072479248, 6.669899940490723, 6.669899940490723, 6.669899940490723, 6.606200218200684, 6.606200218200684, 6.591700077056885, 6.560500144958496, 6.560500144958496, 6.560500144958496, 6.513500213623047, 6.513500213623047, 6.456299781799316, 6.454800128936768, 5.730599880218506, 3.8117001056671143, 3.808799982070923, 3.808199882507324, 3.804800033569336, 3.8034000396728516, 3.8027000427246094, 3.8004000186920166, 3.7980000972747803, 3.795799970626831, 3.7943999767303467, 3.7934000492095947, 3.7916998863220215, 3.7916998863220215, 3.7887001037597656, 3.787899971008301, 3.7848000526428223, 3.783099889755249, 3.7827000617980957, 3.781899929046631, 3.7818000316619873, 3.7818000316619873, 3.781399965286255, 3.7802999019622803, 3.779599905014038, 3.7785000801086426, 3.777899980545044, 3.776599884033203, 3.775899887084961, 3.775700092315674, 3.774600028991699, 3.619800090789795, 3.650099992752075, 3.7435998916625977, 3.5789999961853027, 3.623300075531006, 3.608599901199341, 3.4312000274658203, 3.6050000190734863, 3.5234999656677246, 3.0443999767303467, 3.3849000930786133, 3.3380000591278076, 2.9100000858306885, 3.205399990081787, 2.697200059890747, 3.5762999057769775, 3.1435000896453857, 2.9274001121520996, 3.11299991607666, 2.4907000064849854, 2.5947999954223633, 2.9802000522613525, 3.3225998878479004, 2.7804999351501465, 1.7461999654769897, 2.6273999214172363, 0.43630000948905945, 0.9868000149726868, 2.320199966430664, 1.5509999990463257, 2.0072999000549316, 1.4848999977111816, 1.4838999509811401, 1.4824999570846558, 1.482100009918213, 1.4818999767303467, 1.4797999858856201, 1.479599952697754, 1.479200005531311, 1.4782999753952026, 1.4779000282287598, 1.4775999784469604, 1.4768999814987183, 1.4766000509262085, 1.4766000509262085, 1.4764000177383423, 1.476199984550476, 1.476099967956543, 1.4754999876022339, 1.4742000102996826, 1.4742000102996826, 1.4735000133514404, 1.4732999801635742, 1.4731999635696411, 1.4731999635696411, 1.4723000526428223, 1.4716999530792236, 1.4716999530792236, 1.47160005569458, 1.4700000286102295, 1.4699000120162964, 1.4148000478744507, 1.4414000511169434, 1.4347000122070312, 1.4539999961853027, 1.4421000480651855, 1.3142000436782837, 1.437999963760376, 1.4372999668121338, 1.24399995803833, 1.3451999425888062, 1.1230000257492065, 1.3559999465942383, 1.101199984550476, 1.0995999574661255, 1.2591999769210815, 1.2437000274658203, 1.1433000564575195, 1.0770000219345093, 1.3228000402450562, 1.2922999858856201, 1.2209999561309814, 1.0841000080108643, 0.909600019454956, 1.176300048828125, 1.1358000040054321, 0.8246999979019165, 0.5325999855995178, 0.8816999793052673, 0.8823000192642212, 0.6955000162124634, 0.8658999800682068, 0.4081000089645386, 0.6680999994277954, 0.8299999833106995, 1.003999948501587, 1.0571999549865723, 0.761900007724762, 0.6323999762535095, 0.8486999869346619, 0.8337000012397766, 0.7422999739646912, 0.1987999975681305, 0.7462000250816345, 0.38690000772476196, -0.1459999978542328, 0.7781999707221985, 0.7487000226974487, 0.3677000105381012, -0.19949999451637268, 2.3712000846862793, 2.3696999549865723, 2.3696000576019287, 2.3675999641418457, 2.3673999309539795, 2.366300106048584, 2.3647000789642334, 2.364500045776367, 2.364000082015991, 2.362600088119507, 2.3613998889923096, 2.3610000610351562, 2.3605000972747803, 2.358599901199341, 2.3584001064300537, 2.3584001064300537, 2.357599973678589, 2.357599973678589, 2.357100009918213, 2.3564999103546143, 2.3564000129699707, 2.3561999797821045, 2.3554999828338623, 2.3554999828338623, 2.35509991645813, 2.3550000190734863, 2.3550000190734863, 2.354599952697754, 2.3543999195098877, 2.3540000915527344, 2.343100070953369, 2.348900079727173, 2.345599889755249, 2.2987000942230225, 2.225600004196167, 2.306299924850464, 2.1552000045776367, 1.9082000255584717, 2.265000104904175, 2.151599884033203, 2.1461000442504883, 1.7360999584197998, 2.2392001152038574, 2.009399890899658, 1.8294999599456787, 1.8483999967575073, 1.8983999490737915, 1.705399990081787, 1.628499984741211, 1.6621999740600586, 1.569100022315979, 1.7734999656677246, 0.6855999827384949, 1.371500015258789, 1.565999984741211, 1.097000002861023, 1.7789000272750854, 1.062399983406067, 1.378100037574768, 1.3224999904632568, 0.8284000158309937, 0.2784999907016754, 1.4925999641418457, 1.0033999681472778, 0.45969998836517334, 0.7053999900817871, 1.3080999851226807, 1.1134999990463257, 1.0908000469207764, 1.24399995803833, -0.37709999084472656, 0.78329998254776, 0.15610000491142273, 1.0627000331878662, 0.5867999792098999, 0.7907000184059143, 0.886900007724762, 0.07320000231266022, -0.29980000853538513, 3.676300048828125, 3.666100025177002, 3.665600061416626, 3.6614999771118164, 3.6600000858306885, 3.6596999168395996, 3.657599925994873, 3.6561999320983887, 3.6561999320983887, 3.6561999320983887, 3.6552999019622803, 3.6552999019622803, 3.6552999019622803, 3.6552999019622803, 3.654599905014038, 3.6512999534606934, 3.6489999294281006, 3.6484999656677246, 3.647200107574463, 3.6461000442504883, 3.644700050354004, 3.6426000595092773, 3.642199993133545, 3.641900062561035, 3.640000104904175, 3.640000104904175, 3.639400005340576, 3.6364998817443848, 3.6364998817443848, 3.6364998817443848, 3.6319000720977783, 3.604099988937378, 3.4500999450683594, 3.3169000148773193, 3.432499885559082, 3.242799997329712, 3.2363998889923096, 3.107300043106079, 2.9727001190185547, 2.6342999935150146, 1.3564000129699707, 2.180500030517578, 1.6394000053405762, 2.1791000366210938, 1.823699951171875, 2.1740000247955322, 2.868000030517578, 2.169300079345703, 1.708400011062622, 2.1819000244140625, 2.1666998863220215, 0.9448999762535095, 1.676800012588501, 0.8902999758720398, 1.2874000072479248, 0.37040001153945923, 0.9146999716758728, 1.198699951171875, 1.562399983406067, 1.0328999757766724, 1.1720000505447388, 0.10939999669790268, 4.857100009918213, 4.841899871826172, 4.841400146484375, 4.84119987487793, 4.822400093078613, 4.821199893951416, 4.820499897003174, 4.818999767303467, 4.813499927520752, 4.811999797821045, 4.810299873352051, 4.808899879455566, 4.807799816131592, 4.807400226593018, 4.803800106048584, 4.803199768066406, 4.798900127410889, 4.787899971008301, 4.787399768829346, 4.774700164794922, 4.773900032043457, 4.770400047302246, 4.764900207519531, 4.76039981842041, 4.758699893951416, 4.757800102233887, 4.757299900054932, 4.754499912261963, 4.754199981689453, 4.753300189971924, 4.646599769592285, 4.695099830627441, 4.4446001052856445, 4.617499828338623, 4.572500228881836, 3.8099000453948975, 4.117000102996826, 3.2070999145507812, 3.0195999145507812, 4.348400115966797, 4.1645002365112305, 3.254300117492676, 1.6620999574661255, 1.7448999881744385, 3.353300094604492, 2.243799924850464, 2.581199884414673, 2.0708000659942627, 1.6217999458312988, 2.670599937438965, 2.5439000129699707, 3.3477001190185547, 2.24429988861084, 1.5744999647140503, 2.381999969482422, 3.7160000801086426, 2.550800085067749, 2.3222999572753906, 3.5169999599456787, 1.7972999811172485, 5.291600227355957, 5.286600112915039, 5.282299995422363, 5.262700080871582, 5.258800029754639, 5.252699851989746, 5.250800132751465, 5.2505998611450195, 5.2428998947143555, 5.238800048828125, 5.227700233459473, 5.217700004577637, 5.208399772644043, 5.206200122833252, 5.203700065612793, 5.20359992980957, 5.198999881744385, 5.197000026702881, 5.1956000328063965, 5.194200038909912, 5.192599773406982, 5.191800117492676, 5.191100120544434, 5.190100193023682, 5.185500144958496, 5.184299945831299, 5.184000015258789, 5.168399810791016, 5.162199974060059, 5.162199974060059, 5.1620001792907715, 5.162199974060059, 5.162199974060059, 5.162199974060059, 5.162199974060059, 5.162199974060059, 5.0559000968933105, 4.980299949645996, 4.822000026702881, 5.051799774169922, 4.821800231933594, 4.180600166320801, 3.877000093460083, 3.342600107192993, 2.3775999546051025, 3.948699951171875, 2.0618999004364014, 2.967099905014038, 1.6190999746322632, 3.4702999591827393, 0.6789000034332275, 1.922700047492981, 3.2153000831604004, 3.920799970626831, 2.348900079727173, 1.49399995803833, 5.889200210571289, 5.889100074768066, 5.8850998878479, 5.882900238037109, 5.862800121307373, 5.861800193786621, 5.855899810791016, 5.833499908447266, 5.8308000564575195, 5.810400009155273, 5.809700012207031, 5.805799961090088, 5.80019998550415, 5.796299934387207, 5.777400016784668, 5.75, 5.746500015258789, 5.719399929046631, 5.713200092315674, 5.712399959564209, 5.707200050354004, 5.671199798583984, 5.646599769592285, 5.616099834442139, 5.548600196838379, 5.514599800109863, 5.4552998542785645, 5.454100131988525, 5.454100131988525, 5.442399978637695, 5.432499885559082, 5.397200107574463, 5.157100200653076, 4.979100227355957, 4.844900131225586, 4.822000026702881, 4.441199779510498, 3.3678998947143555, 3.882999897003174, 3.1696999073028564, 4.1631999015808105, 3.482300043106079, 4.889599800109863, 4.867499828338623, 3.259200096130371, 3.4663000106811523, 2.41759991645813, 2.9379000663757324, 2.351599931716919, 5.354899883270264, 5.338799953460693, 5.332600116729736, 5.326900005340576, 5.3196001052856445, 5.318299770355225, 5.3165998458862305, 5.311100006103516, 5.310200214385986, 5.30049991607666, 5.2993998527526855, 5.298099994659424, 5.29449987411499, 5.294300079345703, 5.287199974060059, 5.286200046539307, 5.282599925994873, 5.280399799346924, 5.276199817657471, 5.274799823760986, 5.274499893188477, 5.274400234222412, 5.273399829864502, 5.270899772644043, 5.266600131988525, 5.263400077819824, 5.259799957275391, 5.254799842834473, 5.248499870300293, 5.2484002113342285, 5.103099822998047, 5.184599876403809, 5.186200141906738, 4.9440999031066895, 4.746500015258789, 4.843599796295166, 3.7230000495910645, 3.6308000087738037, 4.447000026702881, 4.069699764251709, 3.74399995803833, 3.1530001163482666, 2.3234000205993652, 1.2345000505447388, 3.204900026321411, 2.15910005569458, 2.1568000316619873, 2.1565001010894775, 2.1542000770568848, 2.1535000801086426, 2.1524999141693115, 2.1512999534606934, 2.149600028991699, 2.1491000652313232, 2.148400068283081, 2.1482999324798584, 2.1470999717712402, 2.1470999717712402, 2.146899938583374, 2.146699905395508, 2.1466000080108643, 2.1461000442504883, 2.1454999446868896, 2.14520001411438, 2.1451001167297363, 2.1451001167297363, 2.1449999809265137, 2.144200086593628, 2.1438000202178955, 2.143699884414673, 2.143699884414673, 2.1435999870300293, 2.143199920654297, 2.1431000232696533, 2.142899990081787, 2.1398000717163086, 2.13319993019104, 2.1422998905181885, 2.12719988822937, 2.122499942779541, 2.0952000617980957, 2.0998001098632812, 1.9536999464035034, 1.995300054550171, 1.923200011253357, 1.8776999711990356, 1.8269000053405762, 1.6826000213623047, 1.8446999788284302, 1.8765000104904175, 1.6734000444412231, 1.902400016784668, 1.941499948501587, 1.7030999660491943, 1.8976000547409058, 1.3761999607086182, 0.8206999897956848, 1.2278000116348267, 1.6430000066757202, 1.5573999881744385, 1.4033000469207764, 0.7613999843597412, 1.4074000120162964, 1.2756999731063843, 0.9787999987602234, 1.6202000379562378, 1.2598999738693237, 1.2237000465393066, 1.2692999839782715, 0.3393000066280365, 0.007600000128149986, 0.9768999814987183, 1.0154000520706177, 1.0650999546051025, 0.9330000281333923, 0.5231000185012817, 0.5870000123977661, 0.19920000433921814, 0.9235000014305115, 0.8571000099182129, -0.09799999743700027, -0.2863999903202057, 5.356900215148926, 5.351099967956543, 5.349800109863281, 5.34499979019165, 5.3358001708984375, 5.330900192260742, 5.327300071716309, 5.325500011444092, 5.324399948120117, 5.324399948120117, 5.324399948120117, 5.321199893951416, 5.309899806976318, 5.303800106048584, 5.2993998527526855, 5.298999786376953, 5.2932000160217285, 5.284599781036377, 5.282599925994873, 5.279200077056885, 5.2778000831604, 5.2657999992370605, 5.263700008392334, 5.262199878692627, 5.256700038909912, 5.254000186920166, 5.248700141906738, 5.248300075531006, 5.236800193786621, 5.236800193786621, 5.236800193786621, 5.154099941253662, 5.077300071716309, 5.005000114440918, 5.0472002029418945, 4.58050012588501, 4.29449987411499, 3.934299945831299, 4.478000164031982, 3.6229000091552734, 2.934999942779541, 3.0139999389648438, 3.877700090408325, 2.6637001037597656, 1.6263999938964844, 1.6312999725341797, 2.42330002784729, 1.042799949645996, 0.6050999760627747, 2.788300037384033, 2.192699909210205, 3.1649999618530273, 1.818600058555603, 1.586400032043457, 2.1728999614715576, 8.478799819946289, 8.106900215148926, 8.106900215148926, 8.016400337219238, 7.878600120544434, 7.772500038146973, 7.772500038146973, 7.772500038146973, 7.772500038146973, 7.772500038146973, 7.772500038146973, 7.772500038146973, 7.772500038146973, 7.772500038146973, 7.772500038146973, 7.772500038146973, 7.772500038146973, 7.772500038146973, 7.772500038146973, 7.772500038146973, 7.772500038146973, 7.370100021362305, 7.031099796295166, 6.991499900817871, 6.3196001052856445, 6.167699813842773, 6.032299995422363, 5.7606000900268555, 5.417200088500977, 5.417200088500977, 4.405099868774414, 5.417200088500977, 5.417200088500977, 5.417200088500977, 7.791500091552734, 7.780700206756592, 7.739299774169922, 7.736100196838379, 7.609300136566162, 7.605599880218506, 7.605599880218506, 7.579100131988525, 7.532899856567383, 7.511499881744385, 7.5040998458862305, 7.5040998458862305, 7.250400066375732, 7.250400066375732, 7.250400066375732, 7.250400066375732, 7.250400066375732, 7.250400066375732, 7.250400066375732, 7.250400066375732, 7.250400066375732, 7.250400066375732, 7.250400066375732, 7.250400066375732, 7.1554999351501465, 7.0, 6.87060022354126, 6.87060022354126, 6.87060022354126, 6.795499801635742, 6.795499801635742, 6.386499881744385, 2.299099922180176, 2.294600009918213, 2.2945001125335693, 2.2939999103546143, 2.292799949645996, 2.2916998863220215, 2.2908999919891357, 2.2908999919891357, 2.290800094604492, 2.2904999256134033, 2.2899999618530273, 2.289799928665161, 2.2897000312805176, 2.289599895477295, 2.289299964904785, 2.289299964904785, 2.2881999015808105, 2.2880001068115234, 2.287600040435791, 2.2874999046325684, 2.287400007247925, 2.286799907684326, 2.2867000102996826, 2.286600112915039, 2.2862000465393066, 2.2855000495910645, 2.285099983215332, 2.28439998626709, 2.2839999198913574, 2.283099889755249, 2.2797999382019043, 2.2681000232696533, 2.212899923324585, 2.1668999195098877, 2.191699981689453, 2.2263998985290527, 2.074199914932251, 2.078399896621704, 2.2170000076293945, 1.691100001335144, 1.8711999654769897, 1.9178999662399292, 1.7615000009536743, 1.767300009727478, 1.4835000038146973, 1.6638000011444092, 2.1545000076293945, 2.010499954223633, 1.1226999759674072, 1.513100028038025, 0.7541999816894531, 1.8035000562667847, 1.530500054359436, 0.7110999822616577, 0.9528999924659729, 1.3489999771118164, 0.6747999787330627, 0.5174000263214111, 0.9352999925613403, 0.9233999848365784, 1.6349999904632568, 0.046799998730421066, 1.5851999521255493, 0.7847999930381775, 1.2906999588012695, 0.5893999934196472, 0.4578999876976013, 0.1679999977350235, 0.5679000020027161, 6.702400207519531, 6.688799858093262, 6.672100067138672, 6.649099826812744, 6.642199993133545, 6.63730001449585, 6.630000114440918, 6.621699810028076, 6.5690999031066895, 6.5690999031066895, 6.5690999031066895, 6.547399997711182, 6.547399997711182, 6.541500091552734, 6.519199848175049, 6.519199848175049, 6.504700183868408, 6.481100082397461, 6.481100082397461, 6.481100082397461, 6.481100082397461, 6.481100082397461, 6.426499843597412, 6.426499843597412, 6.426499843597412, 6.426499843597412, 6.3420000076293945, 6.3420000076293945, 6.3420000076293945, 6.3420000076293945, 6.3420000076293945, 6.3420000076293945, 6.3420000076293945, 6.039700031280518, 4.843599796295166, 5.29640007019043, 5.335000038146973, 5.654900074005127, 3.6679999828338623, 3.664599895477295, 3.663599967956543, 3.6600000858306885, 3.6589999198913574, 3.653700113296509, 3.6517999172210693, 3.6475000381469727, 3.6470999717712402, 3.6470999717712402, 3.6458001136779785, 3.6419999599456787, 3.6412999629974365, 3.634500026702881, 3.6338999271392822, 3.6298999786376953, 3.6296000480651855, 3.6287999153137207, 3.6275999546051025, 3.62280011177063, 3.62280011177063, 3.607800006866455, 3.6077001094818115, 3.606600046157837, 3.6036999225616455, 3.5973000526428223, 3.5961999893188477, 3.5899999141693115, 3.589099884033203, 3.588399887084961, 3.572200059890747, 3.5065999031066895, 3.4047999382019043, 3.413300037384033, 3.47160005569458, 3.2070000171661377, 3.4158999919891357, 3.261899948120117, 3.1184000968933105, 3.2588000297546387, 3.2899999618530273, 3.172600030899048, 3.191800117492676, 2.835700035095215, 2.940700054168701, 3.0831000804901123, 2.8828001022338867, 2.220599889755249, 2.414299964904785, 2.1103999614715576, 3.1947999000549316, 1.9371000528335571, 1.8756999969482422, 1.9565000534057617, 1.4393999576568604, 1.2043999433517456, 1.4101999998092651, 1.2785999774932861, 2.0817999839782715, 2.6403000354766846, 1.871399998664856, 0.1860000044107437, -0.04619999974966049, 1.2496000528335571, 5.687900066375732, 5.671899795532227, 5.657800197601318, 5.652400016784668, 5.650000095367432, 5.648600101470947, 5.6331000328063965, 5.63129997253418, 5.619999885559082, 5.61870002746582, 5.617000102996826, 5.611800193786621, 5.611400127410889, 5.604300022125244, 5.6031999588012695, 5.589700222015381, 5.5802001953125, 5.5665998458862305, 5.561200141906738, 5.555799961090088, 5.555200099945068, 5.545899868011475, 5.531400203704834, 5.530600070953369, 5.530200004577637, 5.526299953460693, 5.516200065612793, 5.511899948120117, 5.51170015335083, 5.508600234985352, 5.320400238037109, 4.267000198364258, 5.297399997711182, 4.785999774932861, 4.51800012588501, 4.502099990844727, 3.017400026321411, 2.918100118637085, 2.2070000171661377, 3.794600009918213, 1.25, 1.6167000532150269, 2.525099992752075, 3.668299913406372, 1.848099946975708, 1.2216999530792236, 2.9990999698638916, 2.8838000297546387, 3.5355000495910645, 3.5195000171661377, 3.514699935913086, 3.5143001079559326, 3.508500099182129, 3.507499933242798, 3.5053999423980713, 3.5053000450134277, 3.500999927520752, 3.5004000663757324, 3.4944000244140625, 3.4914000034332275, 3.4897000789642334, 3.489500045776367, 3.486799955368042, 3.485599994659424, 3.4842000007629395, 3.4834001064300537, 3.4809000492095947, 3.4809000492095947, 3.4809000492095947, 3.4809000492095947, 3.4809000492095947, 3.4809000492095947, 3.4795000553131104, 3.4776999950408936, 3.4776999950408936, 3.466099977493286, 3.4635000228881836, 3.4618000984191895, 3.4121999740600586, 3.303800106048584, 3.226099967956543, 3.3359999656677246, 2.9577999114990234, 3.217099905014038, 3.2723000049591064, 3.138200044631958, 3.2202999591827393, 3.291599988937378, 3.2781999111175537, 2.8513998985290527, 3.099100112915039, 3.023099899291992, 3.1322999000549316, 2.691200017929077, 3.0875000953674316, 2.735599994659424, 2.9691998958587646, 2.9997000694274902, 2.549299955368042, 2.471100091934204, 2.281100034713745, 2.186800003051758, 2.4130001068115234, 1.7798999547958374, 1.6527999639511108, 2.0678000450134277, 1.336899995803833, 1.8641999959945679, 1.3108999729156494, 1.9098999500274658, 2.413300037384033, 1.9629000425338745, 1.5297000408172607, 2.1789000034332275, 1.4895000457763672, 1.2247999906539917, 1.8199000358581543, 1.7136000394821167, 0.5996999740600586, 1.568600058555603, 1.1871999502182007, 1.5628999471664429, -0.13860000669956207, -0.024800000712275505, 4.345300197601318, 4.325799942016602, 4.3246002197265625, 4.3242998123168945, 4.32390022277832, 4.322999954223633, 4.322800159454346, 4.322299957275391, 4.320000171661377, 4.317800045013428, 4.317800045013428, 4.316699981689453, 4.316299915313721, 4.306000232696533, 4.304699897766113, 4.30019998550415, 4.293300151824951, 4.2866997718811035, 4.283999919891357, 4.27839994430542, 4.2779998779296875, 4.2779998779296875, 4.2779998779296875, 4.2779998779296875, 4.2779998779296875, 4.2779998779296875, 4.2779998779296875, 4.276899814605713, 4.276599884033203, 4.270899772644043, 4.255499839782715, 4.190100193023682, 4.033899784088135, 4.130799770355225, 3.837399959564209, 4.2606000900268555, 3.990600109100342, 4.031000137329102, 4.0030999183654785, 3.6707000732421875, 3.460700035095215, 3.0457000732421875, 3.759999990463257, 3.3719000816345215, 2.8134000301361084, 2.4725000858306885, 3.006200075149536, 2.7065999507904053, 3.18969988822937, 2.5608999729156494, 3.2207999229431152, 3.5062999725341797, 2.7492001056671143, 2.007699966430664, 3.132200002670288, 2.383500099182129, 2.8197999000549316, 1.8885999917984009, 2.061800003051758, 3.338399887084961, 2.472899913787842, 1.98580002784729, 1.406999945640564, 3.1907999515533447, 2.038300037384033, 2.0285000801086426, 7.850200176239014, 7.765900135040283, 7.760799884796143, 7.696199893951416, 7.690000057220459, 7.690000057220459, 7.31879997253418, 7.283100128173828, 7.213699817657471, 7.184899806976318, 7.106599807739258, 7.048500061035156, 6.730599880218506, 6.730599880218506, 6.730599880218506, 6.730599880218506, 6.730599880218506, 6.730599880218506, 6.651000022888184, 6.603700160980225, 6.406700134277344, 6.274899959564209, 6.274899959564209, 6.274899959564209, 6.274899959564209, 6.274899959564209, 6.274899959564209, 6.1367998123168945, 6.050300121307373, 6.035399913787842, 5.006800174713135, 3.481800079345703, 5.133800029754639, 5.133800029754639, 5.127900123596191, 5.107800006866455, 5.096399784088135, 5.0960001945495605, 5.087900161743164, 5.084799766540527, 5.078700065612793, 5.076300144195557, 5.072999954223633, 5.072500228881836, 5.064000129699707, 5.054500102996826, 5.054299831390381, 5.053899765014648, 5.052800178527832, 5.038899898529053, 5.022900104522705, 5.022900104522705, 5.022900104522705, 5.008399963378906, 5.004499912261963, 5.004499912261963, 4.997000217437744, 4.995699882507324, 4.985799789428711, 4.984600067138672, 4.984000205993652, 4.958700180053711, 4.93209981918335, 4.826300144195557, 4.632999897003174, 4.845300197601318, 4.725200176239014, 4.4542999267578125, 4.356800079345703, 4.397900104522705, 3.2818000316619873, 4.063199996948242, 3.5841000080108643, 4.210700035095215, 3.1675000190734863, 2.416300058364868, 2.9407999515533447, 3.8032000064849854, 3.693700075149536, 1.9551000595092773, 1.5723999738693237, 2.538100004196167, 1.1728999614715576, 2.263400077819824, 2.226900100708008, 1.7994999885559082, 1.8181999921798706, 2.446199893951416, 2.033099889755249, 2.637399911880493, 0.9965999722480774, 2.271699905395508, 1.746500015258789, 1.1164000034332275, 5.804699897766113, 5.800300121307373, 5.797800064086914, 5.778299808502197, 5.775199890136719, 5.77239990234375, 5.771500110626221, 5.759200096130371, 5.742300033569336, 5.738999843597412, 5.733699798583984, 5.731800079345703, 5.7307000160217285, 5.724400043487549, 5.714300155639648, 5.707699775695801, 5.704400062561035, 5.703800201416016, 5.700900077819824, 5.69890022277832, 5.69890022277832, 5.69890022277832, 5.692699909210205, 5.690299987792969, 5.689799785614014, 5.689599990844727, 5.683300018310547, 5.681399822235107, 5.681399822235107, 5.681399822235107, 5.681399822235107, 5.681399822235107, 5.4720001220703125, 5.1645002365112305, 4.226600170135498, 4.544400215148926, 4.269000053405762, 2.9303998947143555, 3.953399896621704, 3.544300079345703, 1.8490999937057495, 3.5524001121520996, 6.327300071716309, 6.297399997711182, 6.288000106811523, 6.288000106811523, 6.284299850463867, 6.264500141143799, 6.244800090789795, 6.237500190734863, 6.219099998474121, 6.207399845123291, 6.201700210571289, 6.189700126647949, 6.189700126647949, 6.187300205230713, 6.179100036621094, 6.179100036621094, 6.167600154876709, 6.161099910736084, 6.154099941253662, 6.14870023727417, 6.14870023727417, 6.140699863433838, 6.135200023651123, 6.13129997253418, 6.128799915313721, 6.1280999183654785, 6.125400066375732, 6.103799819946289, 6.103799819946289, 6.0721001625061035, 5.735499858856201, 5.798999786376953, 5.058499813079834, 4.956399917602539, 4.414899826049805, 5.8256001472473145, 3.948899984359741, 3.606300115585327, 0.9927999973297119, 2.015500068664551, 3.1386001110076904, 4.8628997802734375, 2.6802000999450684, 4.053999900817871, 4.052700042724609, 4.047100067138672, 4.04010009765625, 4.039999961853027, 4.0370001792907715, 4.036300182342529, 4.034999847412109, 4.03380012512207, 4.030900001525879, 4.029300212860107, 4.027200222015381, 4.026599884033203, 4.026000022888184, 4.025899887084961, 4.0254998207092285, 4.024799823760986, 4.022600173950195, 4.021699905395508, 4.0208001136779785, 4.0208001136779785, 4.019899845123291, 4.018599987030029, 4.018400192260742, 4.017399787902832, 4.0167999267578125, 4.0167999267578125, 4.014500141143799, 4.009699821472168, 4.009300231933594, 4.009099960327148, 3.7321999073028564, 3.79259991645813, 3.5120999813079834, 3.359800100326538, 3.515199899673462, 3.078200101852417, 3.073199987411499, 2.913599967956543, 3.4883999824523926, 3.3499999046325684, 3.28410005569458, 3.2018001079559326, 3.251300096511841, 3.177000045776367, 3.2600998878479004, 3.210400104522705, 3.394200086593628, 2.816800117492676, 2.422300100326538, 2.8459999561309814, 2.942500114440918, 2.6603000164031982, 2.2581000328063965, 2.952699899673462, 2.5272998809814453, 1.9043999910354614, 2.418100118637085, 2.7207999229431152, 0.5303999781608582, 2.147599935531616, 2.3534998893737793, 1.9184000492095947, 1.7115000486373901, 3.0701000690460205, 3.0669000148773193, 3.066699981689453, 3.06469988822937, 3.0641000270843506, 3.0636000633239746, 3.0631000995635986, 3.0618999004364014, 3.059799909591675, 3.0592000484466553, 3.059000015258789, 3.0566000938415527, 3.0564000606536865, 3.0560998916625977, 3.055299997329712, 3.054500102996826, 3.0524001121520996, 3.0520999431610107, 3.0504000186920166, 3.0494000911712646, 3.0485999584198, 3.0485000610351562, 3.0446999073028564, 3.0427000522613525, 3.0420000553131104, 3.040299892425537, 3.0401999950408936, 3.037899971008301, 3.037899971008301, 3.0371999740600586, 3.0322000980377197, 3.01200008392334, 3.0002999305725098, 3.0167999267578125, 2.9398000240325928, 2.594099998474121, 2.888200044631958, 2.7330000400543213, 2.5785999298095703, 2.486599922180176, 2.5504000186920166, 2.566499948501587, 2.2293999195098877, 2.5692999362945557, 1.753600001335144, 2.144700050354004, 1.715499997138977, 2.237799882888794, 1.2731000185012817, 1.5188000202178955, 0.583899974822998, 1.2533999681472778, 1.190999984741211, 1.1446000337600708, 1.315600037574768, 1.8480000495910645, 0.6280999779701233, 1.3894000053405762, 0.9674999713897705, 1.1842000484466553, 0.9521999955177307, 0.9517999887466431, 7.056700229644775, 7.041999816894531, 6.977499961853027, 6.915599822998047, 6.90339994430542, 6.90339994430542, 6.873499870300293, 6.844399929046631, 6.792099952697754, 6.736400127410889, 6.736400127410889, 6.6992998123168945, 6.656099796295166, 6.656099796295166, 6.656099796295166, 6.620999813079834, 6.620999813079834, 6.579800128936768, 6.579800128936768, 6.529900074005127, 6.529900074005127, 6.470200061798096, 6.470200061798096, 6.470200061798096, 6.470200061798096, 6.470200061798096, 6.470200061798096, 6.470200061798096, 6.470200061798096, 6.470200061798096, 6.445899963378906, 6.470200061798096, 6.470200061798096, 6.470200061798096, 6.470200061798096, 6.093900203704834, 6.078400135040283, 5.450099945068359, 6.470200061798096, 5.25439977645874, 3.9453999996185303, 6.470200061798096, 6.470200061798096, 5.15939998626709, 6.134300231933594, 4.179699897766113, 2.997999906539917, 2.9948999881744385, 2.9941999912261963, 2.993499994277954, 2.9921998977661133, 2.990999937057495, 2.989500045776367, 2.9885001182556152, 2.988100051879883, 2.986299991607666, 2.9860999584198, 2.985599994659424, 2.9837000370025635, 2.983299970626831, 2.9830000400543213, 2.9828999042510986, 2.9809999465942383, 2.980299949645996, 2.980299949645996, 2.9795000553131104, 2.9783999919891357, 2.9772000312805176, 2.976900100708008, 2.9758999347686768, 2.975100040435791, 2.974100112915039, 2.973900079727173, 2.9735000133514404, 2.973099946975708, 2.9725000858306885, 2.954200029373169, 2.953900098800659, 2.9137001037597656, 2.948499917984009, 2.9098000526428223, 2.8824000358581543, 2.9054999351501465, 2.952699899673462, 2.819000005722046, 2.764400005340576, 2.789099931716919, 2.5910000801086426, 2.462399959564209, 2.5485999584198, 2.120300054550171, 2.562700033187866, 1.8547999858856201, 2.3940999507904053, 2.0230000019073486, 2.5536999702453613, 2.4200000762939453, 2.0327999591827393, 2.555500030517578, 2.0271999835968018, 2.2334001064300537, 1.468000054359436, 1.7516000270843506, 1.7616000175476074, 1.317199945449829, 1.7944999933242798, 1.4840999841690063, 1.3737000226974487, 1.5902999639511108, 1.337399959564209, 2.315200090408325, 1.4407000541687012, 1.3157000541687012, 1.930299997329712, 1.7626999616622925, 2.0334999561309814, 1.2763999700546265, 2.0625, 1.3353999853134155, 1.4172999858856201, 1.2146999835968018, 0.8547000288963318, -0.1354999989271164, 0.6122000217437744, 1.044100046157837, 1.2421000003814697, 0.3582000136375427, 1.354699969291687, 0.25999999046325684, 6.071300029754639, 6.052000045776367, 6.033400058746338, 6.0278000831604, 6.0081000328063965, 6.002900123596191, 5.998499870300293, 5.990499973297119, 5.986800193786621, 5.960100173950195, 5.954100131988525, 5.954100131988525, 5.954100131988525, 5.954100131988525, 5.952600002288818, 5.939000129699707, 5.935299873352051, 5.935299873352051, 5.933300018310547, 5.909599781036377, 5.872200012207031, 5.872200012207031, 5.869800090789795, 5.869800090789795, 5.860499858856201, 5.812099933624268, 5.810400009155273, 5.774899959564209, 5.773600101470947, 5.759300231933594, 5.4593000411987305, 5.293399810791016, 5.012499809265137, 4.242300033569336, 2.3747000694274902, 2.636199951171875, 3.2230000495910645, 2.6995999813079834, 1.9358999729156494], \"logprob\": [30.0, 29.0, 28.0, 27.0, 26.0, 25.0, 24.0, 23.0, 22.0, 21.0, 20.0, 19.0, 18.0, 17.0, 16.0, 15.0, 14.0, 13.0, 12.0, 11.0, 10.0, 9.0, 8.0, 7.0, 6.0, 5.0, 4.0, 3.0, 2.0, 1.0, -3.190500020980835, -3.738800048828125, -4.045199871063232, -4.1595001220703125, -4.190299987792969, -4.2220001220703125, -4.254799842834473, -4.360099792480469, -4.360099792480469, -4.457099914550781, -4.477799892425537, -4.564700126647949, -4.564700126647949, -4.711100101470947, -4.73769998550415, -4.846099853515625, -4.882800102233887, -4.947199821472168, -4.947199821472168, -5.109399795532227, -5.128799915313721, -5.256899833679199, -5.256899833679199, -5.256899833679199, -5.3520002365112305, -5.3520002365112305, -5.457099914550781, -5.457099914550781, -5.485099792480469, -5.5746002197265625, -5.5746002197265625, -5.5746002197265625, -5.5746002197265625, -5.5746002197265625, -5.5746002197265625, -5.5746002197265625, -5.5746002197265625, -5.5746002197265625, -5.2281999588012695, -5.397500038146973, -4.603600025177002, -5.09660005569458, -5.105500221252441, -5.148799896240234, -5.573200225830078, -5.693299770355225, -5.747900009155273, -6.003300189971924, -6.144599914550781, -6.156000137329102, -6.156199932098389, -6.157100200653076, -6.171899795532227, -6.190899848937988, -6.21560001373291, -6.238900184631348, -6.282899856567383, -6.295400142669678, -6.302700042724609, -6.315000057220459, -6.342899799346924, -6.376999855041504, -6.388199806213379, -6.436299800872803, -6.4440999031066895, -6.515600204467773, -6.517600059509277, -6.567299842834473, -6.569900035858154, -6.593999862670898, -4.801799774169922, -5.264100074768066, -5.757699966430664, -3.9695000648498535, -4.008399963378906, -5.7967000007629395, -5.34689998626709, -5.784599781036377, -5.063399791717529, -6.125699996948242, -5.67140007019043, -5.400599956512451, -5.72629976272583, -5.241700172424316, -4.940999984741211, -3.601300001144409, -5.580999851226807, -5.40500020980835, -5.421999931335449, -5.075099945068359, -5.549799919128418, -4.879000186920166, -5.229400157928467, -4.536600112915039, -4.638700008392334, -5.031400203704834, -4.772600173950195, -4.552299976348877, -4.873799800872803, -5.239799976348877, -5.199999809265137, -4.980899810791016, -5.240600109100342, -5.259799957275391, -5.301799774169922, -5.309800148010254, -5.324999809265137, -5.340199947357178, -3.1767001152038574, -3.7242000102996826, -3.86929988861084, -4.535699844360352, -4.561299800872803, -4.561299800872803, -4.561299800872803, -4.685200214385986, -4.888199806213379, -4.985799789428711, -5.027400016784668, -5.201700210571289, -5.252200126647949, -5.252200126647949, -5.252200126647949, -5.252200126647949, -5.252200126647949, -5.317599773406982, -5.456999778747559, -5.541600227355957, -5.64109992980957, -5.717700004577637, -5.7428998947143555, -5.910699844360352, -5.213399887084961, -6.087500095367432, -6.142899990081787, -3.436199903488159, -6.25439977645874, -6.303899765014648, -2.3512001037597656, -4.15939998626709, -5.239699840545654, -5.816500186920166, -4.031700134277344, -4.6016998291015625, -5.140900135040283, -5.159900188446045, -5.377099990844727, -5.82420015335083, -6.478499889373779, -6.980299949645996, -7.632199764251709, -7.632199764251709, -7.632199764251709, -7.632199764251709, -7.632199764251709, -7.632199764251709, -7.632199764251709, -7.632199764251709, -7.632199764251709, -10.147100448608398, -10.147100448608398, -10.147100448608398, -10.147100448608398, -10.147100448608398, -10.147100448608398, -10.147100448608398, -10.147100448608398, -10.147100448608398, -10.147100448608398, -10.147100448608398, -10.147100448608398, -10.147100448608398, -10.147100448608398, -10.147100448608398, -10.147100448608398, -10.147100448608398, -10.147100448608398, -10.147100448608398, -10.147100448608398, -10.147100448608398, -10.147100448608398, -10.147100448608398, -10.147100448608398, -10.147100448608398, -4.537199974060059, -4.7418999671936035, -4.753600120544434, -4.942399978637695, -4.999499797821045, -5.229700088500977, -5.267399787902832, -5.3024001121521, -5.306600093841553, -5.306600093841553, -5.347300052642822, -5.434199810028076, -5.529300212860107, -5.529300212860107, -5.529300212860107, -5.630300045013428, -5.634500026702881, -5.634500026702881, -5.674900054931641, -5.674900054931641, -5.691500186920166, -5.691500186920166, -5.691500186920166, -5.751999855041504, -5.751999855041504, -5.751999855041504, -5.751999855041504, -5.816400051116943, -5.816400051116943, -5.885200023651123, -5.885200023651123, -5.885200023651123, -5.3917999267578125, -5.529699802398682, -3.9911000728607178, -3.9407999515533447, -4.660799980163574, -4.96750020980835, -4.688499927520752, -4.3572001457214355, -4.904200077056885, -4.991099834442139, -4.820499897003174, -4.895699977874756, -4.907299995422363, -5.133900165557861, -5.2428998947143555, -5.312300205230713, -5.315899848937988, -5.341000080108643, -5.356400012969971, -5.381100177764893, -5.5040998458862305, -5.517399787902832, -5.679999828338623, -5.709099769592285, -5.709199905395508, -5.819499969482422, -5.825900077819824, -5.825900077819824, -5.828199863433838, -5.826300144195557, -5.826300144195557, -5.826300144195557, -6.021100044250488, -6.027100086212158, -6.053400039672852, -6.077099800109863, -6.080100059509277, -6.093100070953369, -6.145199775695801, -6.146699905395508, -2.61899995803833, -4.143499851226807, -5.357100009918213, -5.307499885559082, -5.542600154876709, -4.734399795532227, -4.07420015335083, -5.6097002029418945, -4.980500221252441, -5.05649995803833, -4.89739990234375, -4.286900043487549, -4.355500221252441, -4.664899826049805, -4.490200042724609, -4.713500022888184, -4.928400039672852, -4.444499969482422, -4.153800010681152, -5.19379997253418, -4.703700065612793, -4.836599826812744, -4.869999885559082, -4.504700183868408, -4.92140007019043, -4.840799808502197, -4.92519998550415, -5.121399879455566, -5.115099906921387, -5.101500034332275, -5.136600017547607, -5.073999881744385, -5.281400203704834, -5.224899768829346, -5.682300090789795, -5.774700164794922, -5.780799865722656, -5.932400226593018, -5.98769998550415, -6.065899848937988, -6.202099800109863, -6.2052998542785645, -6.208199977874756, -6.435200214385986, -6.506899833679199, -6.572500228881836, -6.644100189208984, -6.650599956512451, -6.655399799346924, -6.675300121307373, -6.680600166320801, -6.713200092315674, -6.713500022888184, -6.781700134277344, -6.82420015335083, -6.8292999267578125, -6.8850998878479, -6.886000156402588, -6.969600200653076, -6.969699859619141, -6.994999885559082, -5.890699863433838, -5.962399959564209, -6.6234002113342285, -4.846700191497803, -6.403900146484375, -4.321000099182129, -4.495800018310547, -5.111700057983398, -5.063000202178955, -4.895400047302246, -4.825699806213379, -4.080399990081787, -6.262199878692627, -5.787799835205078, -4.905900001525879, -4.646299839019775, -4.877099990844727, -4.613800048828125, -5.523399829864502, -4.190400123596191, -4.367400169372559, -5.094099998474121, -4.850500106811523, -5.153800010681152, -4.216100215911865, -4.74459981918335, -5.2895002365112305, -5.057199954986572, -3.9879000186920166, -5.002600193023682, -5.246799945831299, -5.332600116729736, -4.992300033569336, -5.379300117492676, -5.114699840545654, -4.652200222015381, -5.073699951171875, -5.1631999015808105, -5.2444000244140625, -3.995699882507324, -4.821199893951416, -4.989500045776367, -5.045400142669678, -5.045400142669678, -5.235300064086914, -5.256199836730957, -5.282599925994873, -5.322700023651123, -5.354000091552734, -5.3572998046875, -5.7444000244140625, -5.7444000244140625, -5.75029993057251, -5.771900177001953, -5.871600151062012, -6.04010009765625, -6.070099830627441, -6.070099830627441, -6.070099830627441, -6.182000160217285, -6.182000160217285, -6.206900119781494, -6.259399890899658, -6.259399890899658, -6.259399890899658, -6.336299896240234, -6.336299896240234, -6.42710018157959, -6.429500102996826, -5.747900009155273, -4.877399921417236, -5.148600101470947, -5.203000068664551, -5.431700229644775, -5.517199993133545, -5.554999828338623, -5.672100067138672, -5.786099910736084, -5.876200199127197, -5.930600166320801, -5.967100143432617, -6.02810001373291, -6.028600215911865, -6.125899791717529, -6.151899814605713, -6.242199897766113, -6.288099765777588, -6.299499988555908, -6.3125, -6.3231000900268555, -6.3231000900268555, -6.3333001136779785, -6.362800121307373, -6.3796000480651855, -6.406000137329102, -6.419899940490723, -6.449699878692627, -6.4670000076293945, -6.469900131225586, -6.49429988861084, -4.068999767303467, -5.254700183868408, -6.208199977874756, -5.065299987792969, -5.366499900817871, -5.373799800872803, -4.6230998039245605, -5.495500087738037, -5.342100143432617, -3.7672998905181885, -5.135200023651123, -5.118199825286865, -4.255499839782715, -5.002699851989746, -4.415599822998047, -5.9278998374938965, -5.3379998207092285, -5.073599815368652, -5.390100002288818, -4.750800132751465, -4.895100116729736, -5.340700149536133, -5.658599853515625, -5.396699905395508, -4.923799991607666, -5.336999893188477, -4.6097002029418945, -5.047699928283691, -5.337200164794922, -5.332600116729736, -5.38539981842041, -6.081200122833252, -6.348899841308594, -6.655300140380859, -6.736299991607666, -6.774899959564209, -7.0725998878479, -7.090400218963623, -7.140399932861328, -7.234799861907959, -7.275700092315674, -7.303500175476074, -7.375199794769287, -7.402299880981445, -7.403200149536133, -7.417300224304199, -7.421599864959717, -7.440700054168701, -5.924099922180176, -7.588900089263916, -7.589200019836426, -7.64109992980957, -7.635799884796143, -7.659800052642822, -7.660399913787842, -7.721799850463867, -7.758399963378906, -7.759399890899658, -7.764400005340576, -7.8618998527526855, -7.864500045776367, -4.800300121307373, -6.218900203704834, -6.169099807739258, -6.932300090789795, -6.998000144958496, -4.260799884796143, -6.912899971008301, -7.094099998474121, -4.132800102233887, -6.494999885559082, -4.710400104522705, -6.608099937438965, -5.0254998207092285, -5.053100109100342, -6.041299819946289, -5.967100143432617, -5.394999980926514, -5.177800178527832, -6.5335001945495605, -6.468999862670898, -6.224999904632568, -5.704899787902832, -5.183899879455566, -6.098100185394287, -6.0254998207092285, -5.120699882507324, -4.343699932098389, -5.345300197601318, -5.400700092315674, -4.955900192260742, -5.389699935913086, -4.4644999504089355, -5.081399917602539, -5.4141998291015625, -5.772600173950195, -5.888199806213379, -5.377399921417236, -5.23769998550415, -5.648099899291992, -5.677199840545654, -5.598400115966797, -5.130300045013428, -5.680200099945068, -5.444900035858154, -5.1921000480651855, -5.737500190734863, -5.739500045776367, -5.717299938201904, -5.7220001220703125, -6.44920015335083, -6.57889986038208, -6.470399856567383, -6.736000061035156, -6.755499839782715, -6.826000213623047, -6.919099807739258, -6.934199810028076, -6.965799808502197, -7.03849983215332, -7.10230016708374, -7.117499828338623, -7.144999980926514, -7.232500076293945, -7.237800121307373, -7.241799831390381, -7.274700164794922, -7.273099899291992, -7.287199974060059, -7.318900108337402, -7.324399948120117, -7.330900192260742, -7.355899810791016, -7.356400012969971, -7.374599933624268, -7.375699996948242, -7.376200199127197, -7.391499996185303, -7.337399959564209, -7.412899971008301, -6.316400051116943, -7.237800121307373, -7.272200107574463, -6.821499824523926, -6.247799873352051, -6.988900184631348, -5.942800045013428, -4.786099910736084, -6.808300018310547, -6.334799766540527, -6.39870023727417, -4.906199932098389, -6.912700176239014, -6.2245001792907715, -5.687600135803223, -5.816800117492676, -5.977200031280518, -5.656700134277344, -5.572400093078613, -5.84119987487793, -5.6803998947143555, -6.134200096130371, -4.360499858856201, -5.48960018157959, -5.805799961090088, -5.192299842834473, -6.163599967956543, -5.352499961853027, -5.7708001136779785, -5.70989990234375, -5.249300003051758, -5.0507001876831055, -6.049600124359131, -5.704899787902832, -5.372099876403809, -5.577600002288818, -5.929599761962891, -5.849800109863281, -5.847700119018555, -5.923999786376953, -5.249800205230713, -5.727700233459473, -5.495299816131592, -5.880000114440918, -5.753900051116943, -5.810999870300293, -5.854800224304199, -5.796800136566162, -5.87470006942749, -4.861800193786621, -5.6809000968933105, -5.706600189208984, -5.910299777984619, -5.9720001220703125, -5.985199928283691, -6.068999767303467, -6.118299961090088, -6.1194000244140625, -6.1194000244140625, -6.152299880981445, -6.152299880981445, -6.152299880981445, -6.152299880981445, -5.759399890899658, -6.2835001945495605, -6.351900100708008, -6.364999771118164, -6.401400089263916, -6.4309000968933105, -6.467800140380859, -6.520899772644043, -6.530799865722656, -6.537899971008301, -6.1545000076293945, -6.582699775695801, -6.5945000648498535, -6.659900188446045, -6.659900188446045, -6.659900188446045, -5.832600116729736, -5.831600189208984, -2.5513999462127686, -2.4546000957489014, -4.677800178527832, -3.9210000038146973, -4.55620002746582, -4.023799896240234, -4.570899963378906, -5.0721001625061035, -3.516200065612793, -4.680600166320801, -4.184299945831299, -4.937300205230713, -4.872099876403809, -5.188000202178955, -5.668499946594238, -5.259399890899658, -5.170499801635742, -5.473899841308594, -5.488399982452393, -5.148600101470947, -5.463200092315674, -5.249100208282471, -5.358500003814697, -5.160099983215332, -5.312300205230713, -5.389900207519531, -5.496799945831299, -5.505300045013428, -5.572199821472168, -5.541999816894531, -3.747999906539917, -4.7617998123168945, -4.781700134277344, -4.790299892425537, -5.3668999671936035, -5.395100116729736, -5.4116997718811035, -5.44379997253418, -5.558800220489502, -5.586699962615967, -5.619500160217285, -5.644499778747559, -5.664299964904785, -5.671199798583984, -5.733099937438965, -5.743199825286865, -5.811299800872803, -5.96999979019165, -5.975800037384033, -6.132299900054932, -6.142000198364258, -6.180799961090088, -6.2399001121521, -6.285399913787842, -6.302299976348877, -6.3109002113342285, -6.315700054168701, -6.342899799346924, -6.345399856567383, -6.354499816894531, -3.0085999965667725, -5.431700229644775, -3.280100107192993, -5.2652997970581055, -5.752600193023682, -4.028600215911865, -4.797100067138672, -3.086400032043457, -2.961400032043457, -5.399899959564209, -5.423699855804443, -4.607999801635742, -3.214200019836426, -3.4070000648498535, -4.747600078582764, -3.841200113296509, -4.222400188446045, -4.055799961090088, -4.127699851989746, -4.631100177764893, -4.587200164794922, -4.964200019836426, -4.7631001472473145, -4.666200160980225, -4.8958001136779785, -5.2733001708984375, -5.13539981842041, -5.154399871826172, -5.286900043487549, -5.328499794006348, -3.0320000648498535, -3.5961999893188477, -3.915800094604492, -4.727700233459473, -4.83519983291626, -4.982600212097168, -5.0243000984191895, -5.027900218963623, -5.182499885559082, -5.254799842834473, -5.432600021362305, -5.569799900054932, -5.684199810028076, -5.7093000411987305, -5.737199783325195, -5.738900184631348, -5.789100170135498, -5.809700012207031, -5.82390022277832, -5.838200092315674, -5.854499816894531, -5.862100124359131, -5.86959981918335, -5.879499912261963, -5.922699928283691, -5.934500217437744, -5.936699867248535, -6.07289981842041, -6.1234002113342285, -6.1234002113342285, -5.06689977645874, -6.1234002113342285, -6.1234002113342285, -6.1234002113342285, -6.1234002113342285, -6.1234002113342285, -4.477200031280518, -3.612499952316284, -4.369200229644775, -5.664999961853027, -5.277200222015381, -4.781099796295166, -4.7042999267578125, -4.3471999168396, -3.943700075149536, -5.095600128173828, -4.182300090789795, -4.654699802398682, -4.204599857330322, -5.237800121307373, -4.473100185394287, -5.106800079345703, -5.480000019073486, -5.575799942016602, -5.46589994430542, -5.513400077819824, -2.698699951171875, -2.7063000202178955, -3.08870005607605, -3.244499921798706, -4.107500076293945, -4.136000156402588, -4.289599895477295, -4.729899883270264, -4.772500038146973, -5.047599792480469, -5.055699825286865, -5.101399898529053, -5.16349983215332, -5.204599857330322, -5.384799957275391, -5.603499889373779, -5.629000186920166, -5.807600021362305, -5.844900131225586, -5.849800109863281, -4.465000152587891, -6.071499824523926, -6.1875, -6.317699909210205, -6.5680999755859375, -6.679100036621094, -4.109799861907959, -6.857900142669678, -6.857900142669678, -6.890200138092041, -5.629899978637695, -4.972799777984619, -4.363699913024902, -4.222700119018555, -4.255899906158447, -4.470200061798096, -4.360799789428711, -3.510999917984009, -4.103099822998047, -3.8196001052856445, -4.629799842834473, -4.173500061035156, -5.19920015335083, -5.19290018081665, -4.603000164031982, -4.753900051116943, -4.614799976348877, -4.808499813079834, -4.8069000244140625, -2.9272000789642334, -4.211400032043457, -4.458099842071533, -4.640100002288818, -4.8383002281188965, -4.86959981918335, -4.907400131225586, -5.027400016784668, -5.045899868011475, -5.224599838256836, -5.242000102996826, -5.2631001472473145, -5.320899963378906, -5.323999881744385, -5.428100109100342, -5.442599773406982, -5.490600109100342, -5.5055999755859375, -5.572400093078613, -5.589600086212158, -5.593100070953369, -5.594099998474121, -5.605599880218506, -5.635900020599365, -5.683700084686279, -5.719099998474121, -5.756700038909912, -5.80709981918335, -5.868199825286865, -5.86899995803833, -3.7785000801086426, -4.9868998527526855, -5.047500133514404, -2.7532999515533447, -4.8242998123168945, -4.994699954986572, -4.230899810791016, -4.313700199127197, -5.034900188446045, -4.939300060272217, -4.901100158691406, -5.067200183868408, -5.26039981842041, -5.203400135040283, -5.3414998054504395, -6.170199871063232, -6.474400043487549, -6.510200023651123, -6.680699825286865, -6.790500164031982, -6.8709001541137695, -6.961100101470947, -6.853700160980225, -7.102700233459473, -7.148900032043457, -7.154200077056885, -7.220399856567383, -7.220900058746338, -7.2316999435424805, -7.240099906921387, -7.246399879455566, -7.274499893188477, -7.303299903869629, -7.230000019073486, -7.322299957275391, -7.3119001388549805, -7.327099800109863, -7.3678998947143555, -7.385000228881836, -7.388299942016602, -7.391900062561035, -7.394800186157227, -7.414599895477295, -7.416100025177002, -7.424699783325195, -5.845200061798096, -6.297699928283691, -7.317800045013428, -6.848100185394287, -6.942599773406982, -6.700399875640869, -6.797900199890137, -5.630000114440918, -6.354599952697754, -6.208499908447266, -5.987599849700928, -5.83050012588501, -5.293499946594238, -6.043399810791016, -6.188300132751465, -5.5381999015808105, -6.353400230407715, -6.5991997718811035, -5.9309000968933105, -6.51230001449585, -5.309800148010254, -4.052000045776367, -5.115699768066406, -6.022600173950195, -5.970300197601318, -5.8383002281188965, -4.993000030517578, -5.888700008392334, -5.7316999435424805, -5.395299911499023, -6.203100204467773, -5.820799827575684, -5.794099807739258, -5.853000164031982, -4.989799976348877, -5.03849983215332, -5.72629976272583, -5.800000190734863, -5.84089994430542, -5.811200141906738, -5.7982001304626465, -5.827899932861328, -5.746200084686279, -5.928299903869629, -5.954599857330322, -5.929800033569336, -5.93779993057251, -4.517000198364258, -4.68779993057251, -4.724100112915039, -4.842199802398682, -5.0391998291015625, -5.13129997253418, -5.193299770355225, -5.222400188446045, -5.241600036621094, -5.241600036621094, -5.241600036621094, -5.291500091552734, -3.5625998973846436, -5.529799938201904, -5.583399772644043, -5.5644001960754395, -5.653200149536133, -5.74429988861084, -5.763999938964844, -5.797299861907959, -5.8105998039245605, -3.5039000511169434, -5.9380998611450195, -5.950799942016602, -5.996200084686279, -6.0177998542785645, -6.059199810028076, -6.062300205230713, -6.146999835968018, -6.146999835968018, -6.146999835968018, -3.9851999282836914, -5.054900169372559, -4.926400184631348, -5.1468000411987305, -4.1458001136779785, -4.128499984741211, -3.6675000190734863, -5.0106000900268555, -4.07450008392334, -3.6052000522613525, -4.434800148010254, -4.9583001136779785, -4.477099895477295, -4.1230998039245605, -4.423900127410889, -4.673500061035156, -4.479700088500977, -4.546899795532227, -4.917200088500977, -4.861700057983398, -4.990099906921387, -4.889699935913086, -4.97189998626709, -5.03879976272583, -2.78629994392395, -4.294400215148926, -4.294400215148926, -4.507400035858154, -4.790900230407715, -4.985300064086914, -4.985300064086914, -4.985300064086914, -4.985300064086914, -4.985300064086914, -4.985300064086914, -4.985300064086914, -4.985300064086914, -4.985300064086914, -4.985300064086914, -4.985300064086914, -4.985300064086914, -4.985300064086914, -4.985300064086914, -4.985300064086914, -4.985300064086914, -5.611100196838379, -6.059999942779541, -6.109499931335449, -6.894800186157227, -7.062399864196777, -7.209700107574463, -4.132699966430664, -7.861599922180176, -7.861599922180176, -6.814899921417236, -7.861599922180176, -7.861599922180176, -7.861599922180176, -2.6064000129699707, -2.791100025177002, -3.2992000579833984, -3.3297998905181885, -4.15910005569458, -4.176300048828125, -4.176300048828125, -4.294400215148926, -4.477799892425537, -4.555300235748291, -4.580999851226807, -4.580999851226807, -5.2718000411987305, -5.2718000411987305, -5.2718000411987305, -5.2718000411987305, -5.2718000411987305, -5.2718000411987305, -5.2718000411987305, -5.2718000411987305, -5.2718000411987305, -5.2718000411987305, -5.2718000411987305, -5.2718000411987305, -5.472099781036377, -5.762599945068359, -5.9791998863220215, -5.9791998863220215, -5.9791998863220215, -6.097099781036377, -6.097099781036377, -5.263899803161621, -5.651000022888184, -6.341899871826172, -6.349599838256836, -6.411600112915039, -6.526599884033203, -6.631499767303467, -6.691199779510498, -6.691400051116943, -6.704400062561035, -6.727200031280518, -6.7657999992370605, -6.7758002281188965, -6.782599925994873, -6.791900157928467, -6.813399791717529, -6.816400051116943, -6.888500213623047, -6.90339994430542, -6.925899982452393, -6.925000190734863, -6.942200183868408, -6.974999904632568, -6.983699798583984, -6.990300178527832, -7.010000228881836, -7.010300159454346, -7.075399875640869, -7.111999988555908, -7.13070011138916, -7.179200172424316, -4.031799793243408, -5.10290002822876, -4.561100006103516, -4.487599849700928, -6.013400077819824, -6.405600070953369, -5.066699981689453, -5.252500057220459, -6.406000137329102, -3.839400053024292, -5.095699787139893, -5.3379998207092285, -4.77869987487793, -5.286399841308594, -4.571700096130371, -5.175000190734863, -6.4766998291015625, -6.2179999351501465, -4.648799896240234, -5.476099967956543, -4.291900157928467, -5.9583001136779785, -5.566299915313721, -4.440899848937988, -4.870699882507324, -5.404900074005127, -4.869100093841553, -4.811800003051758, -5.30079984664917, -5.317200183868408, -5.9008002281188965, -4.825900077819824, -5.873700141906738, -5.4415998458862305, -5.727799892425537, -5.412099838256836, -5.373899936676025, -5.354499816894531, -5.50540018081665, -3.22760009765625, -3.5715999603271484, -3.881500005722046, -4.1996002197265625, -4.279099941253662, -4.332900047302246, -4.406899929046631, -4.486800193786621, -4.89139986038208, -4.89139986038208, -4.89139986038208, -5.024600028991699, -5.024600028991699, -5.0584001541137695, -5.178199768066406, -5.178199768066406, -5.250199794769287, -5.359899997711182, -5.359899997711182, -5.359899997711182, -5.359899997711182, -5.359899997711182, -5.581999778747559, -5.581999778747559, -5.581999778747559, -5.581999778747559, -5.8678998947143555, -5.8678998947143555, -5.8678998947143555, -5.8678998947143555, -5.8678998947143555, -5.8678998947143555, -5.8678998947143555, -5.178199768066406, -4.024899959564209, -4.89139986038208, -5.004899978637695, -5.359899997711182, -4.9664998054504395, -5.289400100708008, -5.363100051879883, -5.603600025177002, -5.666399955749512, -5.923600196838379, -6.0040998458862305, -6.166399955749512, -6.180600166320801, -6.180600166320801, -6.223199844360352, -6.341899871826172, -6.360899925231934, -6.538099765777588, -6.552499771118164, -6.643499851226807, -6.650599956512451, -6.668300151824951, -6.693900108337402, -6.787799835205078, -6.788400173187256, -7.041100025177002, -7.042200088500977, -7.059100151062012, -7.099999904632568, -5.056099891662598, -7.201399803161621, -7.279200077056885, -6.240799903869629, -7.297500133514404, -5.1768999099731445, -5.433000087738037, -4.389599800109863, -5.077300071716309, -5.668399810791016, -3.437999963760376, -5.394599914550781, -4.496699810028076, -4.060500144958496, -4.857900142669678, -5.067999839782715, -4.694900035858154, -4.794300079345703, -3.4200000762939453, -3.890399932861328, -4.850299835205078, -4.332600116729736, -2.6556999683380127, -3.538100004196167, -3.412100076675415, -5.435999870300293, -3.8124001026153564, -4.202000141143799, -4.287700176239014, -3.8898000717163086, -3.9475998878479004, -4.120299816131592, -4.098199844360352, -4.814899921417236, -5.16540002822876, -4.980400085449219, -4.860099792480469, -4.918799877166748, -5.043900012969971, -3.4860000610351562, -4.204699993133545, -4.585299968719482, -4.699699878692627, -4.745800018310547, -4.773099899291992, -5.0304999351501465, -5.056700229644775, -5.207900047302246, -5.2241997718811035, -5.24560022354126, -5.306099891662598, -5.3109002113342285, -5.389400005340576, -5.400599956512451, -5.533400058746338, -5.618899822235107, -5.730500221252441, -5.772299766540527, -5.812399864196777, -5.81689977645874, -5.882500171661377, -5.97760009765625, -5.982999801635742, -5.985499858856201, -6.009699821472168, -6.070300102233887, -6.095300197601318, -6.096399784088135, -6.114299774169922, -4.584499835968018, -2.829699993133545, -5.650100231170654, -4.727799892425537, -5.1265997886657715, -5.121799945831299, -4.197999954223633, -4.310299873352051, -4.0081000328063965, -4.937399864196777, -4.499499797821045, -4.6381001472473145, -5.022600173950195, -5.308499813079834, -5.092700004577637, -5.033999919891357, -5.291800022125244, -5.3668999671936035, -4.880099773406982, -6.057499885559082, -6.246200084686279, -6.26140022277832, -6.450699806213379, -6.4791998863220215, -6.5395002365112305, -6.541399955749512, -6.651899814605713, -6.642600059509277, -6.803999900817871, -6.864999771118164, -6.899199962615967, -6.901700019836426, -6.952899932861328, -6.975399971008301, -7.00029993057251, -7.013299942016602, -7.0559000968933105, -7.056600093841553, -7.056600093841553, -7.056600093841553, -7.056600093841553, -7.056600093841553, -7.079500198364258, -7.108099937438965, -7.10860013961792, -7.2779998779296875, -7.313000202178955, -7.335400104522705, -5.798900127410889, -5.1433000564575195, -4.222700119018555, -5.77209997177124, -2.5859999656677246, -5.344200134277344, -5.71560001373291, -5.181000232696533, -5.625500202178955, -6.025700092315674, -5.986700057983398, -3.788300037384033, -5.056000232696533, -5.267499923706055, -5.725500106811523, -4.538899898529053, -5.750800132751465, -4.80019998550415, -5.459199905395508, -5.662600040435791, -4.752999782562256, -4.742000102996826, -4.445899963378906, -4.7779998779296875, -5.090400218963623, -4.446499824523926, -4.402400016784668, -4.82889986038208, -4.185500144958496, -4.6940999031066895, -4.219600200653076, -4.798500061035156, -5.195099830627441, -4.882699966430664, -4.706399917602539, -5.114799976348877, -4.8445000648498535, -4.720600128173828, -5.011199951171875, -4.9822998046875, -4.729499816894531, -4.97160005569458, -4.890500068664551, -4.99970006942749, -5.014999866485596, -5.070899963378906, -4.247000217437744, -5.435299873352051, -5.477700233459473, -5.486000061035156, -5.499499797821045, -5.529200077056885, -5.537600040435791, -5.5518999099731445, -5.624100208282471, -5.687300205230713, -5.687300205230713, -5.718100070953369, -5.729899883270264, -5.974800109863281, -6.002999782562256, -6.091000080108643, -6.216400146484375, -6.322700023651123, -6.36269998550415, -6.442299842834473, -6.448200225830078, -6.448200225830078, -6.448200225830078, -6.448200225830078, -6.448200225830078, -6.448200225830078, -6.448200225830078, -6.463600158691406, -6.466599941253662, -6.5416998863220215, -4.599100112915039, -5.035399913787842, -3.86299991607666, -5.6483001708984375, -4.254199981689453, -6.3653998374938965, -5.251800060272217, -5.445000171661377, -5.516300201416016, -4.8480000495910645, -4.4928998947143555, -3.89490008354187, -5.3694000244140625, -4.721700191497803, -3.861299991607666, -3.600800037384033, -4.391300201416016, -4.037600040435791, -4.738900184631348, -4.276000022888184, -4.85129976272583, -5.128699779510498, -4.622600078582764, -4.144999980926514, -4.952199935913086, -4.583499908447266, -4.817299842834473, -4.352099895477295, -4.821800231933594, -5.229599952697754, -5.044300079345703, -4.9918999671936035, -4.933700084686279, -5.2916998863220215, -5.211100101470947, -5.22790002822876, -4.297599792480469, -4.548099994659424, -4.562300205230713, -4.728899955749512, -4.743899822235107, -4.743899822235107, -5.482900142669678, -5.542200088500977, -5.653900146484375, -5.69890022277832, -5.817999839782715, -5.90339994430542, -6.336699962615967, -6.336699962615967, -6.336699962615967, -6.336699962615967, -6.336699962615967, -6.336699962615967, -6.438399791717529, -4.6020002365112305, -6.7382001876831055, -6.893700122833252, -6.893700122833252, -6.893700122833252, -6.893700122833252, -6.893700122833252, -6.893700122833252, -7.053100109100342, -5.342700004577637, -7.1682000160217285, -6.893700122833252, -6.857699871063232, -4.466899871826172, -4.466899871826172, -4.691800117492676, -5.218100070953369, -5.429100036621094, -5.436200141906738, -5.564000129699707, -5.608399868011475, -5.692399978637695, -5.7230000495910645, -5.764800071716309, -5.770100116729736, -5.869800090789795, -5.97130012512207, -5.9730000495910645, -5.9770002365112305, -5.988500118255615, -6.120299816131592, -6.254899978637695, -6.254899978637695, -6.254899978637695, -6.364299774169922, -6.392199993133545, -6.392199993133545, -6.443299770355225, -6.452400207519531, -6.516900062561035, -6.524499893188477, -6.5279998779296875, -6.6768999099731445, -5.450099945068359, -2.979099988937378, -3.8594000339508057, -5.643799781799316, -5.429299831390381, -4.855400085449219, -4.639500141143799, -5.087800025939941, -3.206399917602539, -4.8607001304626465, -4.301199913024902, -5.163099765777588, -3.926800012588501, -3.127500057220459, -3.8034000396728516, -4.751800060272217, -4.716700077056885, -3.5754001140594482, -3.9500999450683594, -4.469299793243408, -3.873199939727783, -4.414000034332275, -4.480500221252441, -4.333099842071533, -4.458399772644043, -4.679599761962891, -4.784900188446045, -4.959799766540527, -4.654900074005127, -4.932499885559082, -4.980500221252441, -5.036300182342529, -3.819200038909912, -3.996000051498413, -4.080999851226807, -4.568900108337402, -3.9086999893188477, -4.68120002746582, -4.698299884796143, -4.896399974822998, -5.120299816131592, -5.158999919891357, -5.218599796295166, -5.23859977722168, -5.250699996948242, -5.315800189971924, -5.413000106811523, -5.4721999168396, -5.5005998611450195, -5.50570011138916, -5.529799938201904, -5.546000003814697, -5.546000003814697, -5.546000003814697, -5.595900058746338, -5.613999843597412, -5.618299961090088, -5.619900226593018, -5.6666998863220215, -5.680600166320801, -5.680600166320801, -5.680600166320801, -5.680600166320801, -5.680600166320801, -4.7505998611450195, -4.479100227355957, -3.39520001411438, -4.363999843597412, -4.84089994430542, -4.835400104522705, -5.392899990081787, -5.354899883270264, -5.247600078582764, -5.409299850463867, -3.2386999130249023, -4.080999851226807, -4.249499797821045, -4.249499797821045, -4.3084001541137695, -4.58050012588501, -4.7972002029418945, -4.867800235748291, -5.027699947357178, -5.118899822235107, -5.160799980163574, -5.2444000244140625, -5.244900226593018, -5.260900020599365, -5.314300060272217, -5.314300060272217, -5.384900093078613, -5.4232001304626465, -5.4633002281188965, -5.493199825286865, -5.493199825286865, -5.535900115966797, -5.565000057220459, -5.584799766540527, -5.597599983215332, -5.601099967956543, -5.614299774169922, -5.717400074005127, -5.717400074005127, -5.854700088500977, -5.274600028991699, -5.429299831390381, -4.905900001525879, -4.940400123596191, -5.076200008392334, -5.524199962615967, -5.185299873352051, -5.13129997253418, -4.756700038909912, -5.115499973297119, -5.32390022277832, -5.41949987411499, -5.427800178527832, -5.219299793243408, -5.294400215148926, -5.563199996948242, -5.825200080871582, -5.827400207519531, -5.923500061035156, -5.944699764251709, -5.981900215148926, -3.682800054550171, -6.091400146484375, -6.129899978637695, -6.180300235748291, -6.195099830627441, -6.210000038146973, -6.212100028991699, -6.221399784088135, -6.236400127410889, -6.283899784088135, -6.302299976348877, -6.322000026702881, -6.322000026702881, -6.339900016784668, -6.365300178527832, -6.368500232696533, -6.388500213623047, -5.012400150299072, -6.400599956512451, -6.443399906158447, -6.527200222015381, -6.533699989318848, -6.36959981918335, -3.6547999382019043, -5.04010009765625, -4.492000102996826, -4.386000156402588, -4.855000019073486, -3.884999990463257, -3.974299907684326, -3.7746999263763428, -5.1149001121521, -4.8684000968933105, -4.803500175476074, -4.7357001304626465, -4.85129976272583, -4.811100006103516, -4.964700222015381, -4.980100154876709, -5.328000068664551, -4.565800189971924, -4.233500003814697, -4.7769999504089355, -4.938899993896484, -4.7017998695373535, -4.384200096130371, -5.000800132751465, -4.750500202178955, -4.350399971008301, -4.713500022888184, -4.929299831390381, -4.342199802398682, -4.797699928283691, -4.874899864196777, -4.896999835968018, -4.984399795532227, -5.412300109863281, -5.825900077819824, -3.210200071334839, -5.958199977874756, -6.048999786376953, -5.8968000411987305, -6.059000015258789, -6.19189977645874, -6.301400184631348, -2.5892999172210693, -6.354899883270264, -6.421899795532227, -6.413000106811523, -5.7118000984191895, -6.528600215911865, -6.56279993057251, -6.647200107574463, -6.631400108337402, -6.723999977111816, -6.757199764251709, -6.787399768829346, -6.78879976272583, -6.911099910736084, -6.96999979019165, -6.985899925231934, -7.034999847412109, -7.037799835205078, -7.096199989318848, -7.096199989318848, -7.114200115203857, -5.631899833679199, -5.13700008392334, -5.940100193023682, -6.707600116729736, -6.128799915313721, -3.6951000690460205, -5.85699987411499, -5.611700057983398, -5.351799964904785, -5.3480000495910645, -5.584199905395508, -5.795300006866455, -5.158899784088135, -5.822199821472168, -4.587200164794922, -5.432600021362305, -4.978799819946289, -5.847799777984619, -5.215099811553955, -5.446000099182129, -5.067500114440918, -5.434999942779541, -5.451399803161621, -5.457099914550781, -5.563300132751465, -5.758200168609619, -5.511199951171875, -5.707300186157227, -5.688499927520752, -5.72189998626709, -5.743599891662598, -5.751399993896484, -3.226300001144409, -3.4976000785827637, -4.232900142669678, -4.659599781036377, -4.728099822998047, -4.728099822998047, -4.8815999031066895, -5.014800071716309, -5.224999904632568, -5.4182000160217285, -5.4182000160217285, -5.533699989318848, -5.6579999923706055, -5.6579999923706055, -5.6579999923706055, -5.752099990844727, -5.752099990844727, -5.855999946594238, -5.855999946594238, -5.973899841308594, -5.973899841308594, -6.105400085449219, -6.105400085449219, -6.105400085449219, -6.105400085449219, -6.105400085449219, -6.105400085449219, -6.105400085449219, -6.105400085449219, -6.105400085449219, -5.119500160217285, -6.105400085449219, -6.105400085449219, -6.105400085449219, -6.105400085449219, -4.876999855041504, -5.168399810791016, -4.065499782562256, -6.105400085449219, -3.995500087738037, -3.9245998859405518, -6.105400085449219, -6.105400085449219, -5.373199939727783, -6.014699935913086, -6.042799949645996, -6.368599891662598, -6.485099792480469, -6.5569000244140625, -6.5883002281188965, -6.645599842071533, -6.6921000480651855, -6.747200012207031, -6.78980016708374, -6.803100109100342, -6.865900039672852, -6.869999885559082, -6.88640022277832, -6.946599960327148, -6.95959997177124, -6.970099925994873, -6.957099914550781, -7.029200077056885, -7.047299861907959, -7.047999858856201, -7.071000099182129, -7.099999904632568, -7.13129997253418, -7.140100002288818, -7.165500164031982, -7.185500144958496, -7.210100173950195, -7.2144999504089355, -7.2245001792907715, -7.232399940490723, -7.246099948883057, -6.207499980926514, -6.576000213623047, -5.84250020980835, -6.803699970245361, -6.335599899291992, -6.326499938964844, -6.577400207519531, -6.965799808502197, -6.329500198364258, -6.070799827575684, -6.280099868774414, -5.554599761962891, -5.426499843597412, -5.719799995422363, -4.773200035095215, -6.029699802398682, -4.583099842071533, -5.708099842071533, -4.95959997177124, -6.046800136566162, -5.816299915313721, -5.193999767303467, -6.112400054931641, -5.365499973297119, -5.672599792480469, -4.625500202178955, -5.0366997718811035, -5.0991997718811035, -4.5528998374938965, -5.171500205993652, -4.837200164794922, -4.819699764251709, -5.055600166320801, -4.889500141143799, -5.858500003814697, -5.169899940490723, -5.1107001304626465, -5.664999961853027, -5.553699970245361, -5.751999855041504, -5.393599987030029, -5.7967000007629395, -5.484399795532227, -5.535999774932861, -5.5269999504089355, -5.421800136566162, -5.181600093841553, -5.368800163269043, -5.494100093841553, -5.558800220489502, -5.475200176239014, -5.599999904632568, -5.571800231933594, -1.8205000162124634, -3.5285000801086426, -4.121099948883057, -4.248600006103516, -4.60230016708374, -4.679900169372559, -4.741199970245361, -4.843699932098389, -4.887400150299072, -5.164400100708008, -5.217700004577637, -5.217700004577637, -5.217700004577637, -5.217700004577637, -5.230999946594238, -5.342800140380859, -5.371300220489502, -5.371300220489502, -5.386899948120117, -5.552999973297119, -5.775100231170654, -5.775100231170654, -5.7881999015808105, -5.7881999015808105, -5.837200164794922, -6.065199851989746, -6.072800159454346, -6.216899871826172, -6.221700191497803, -4.9608001708984375, -4.3069000244140625, -5.36959981918335, -5.534999847412109, -5.268099784851074, -4.653200149536133, -4.790599822998047, -5.272200107574463, -5.440100193023682, -5.669000148773193]}, \"token.table\": {\"Topic\": [10, 11, 13, 34, 13, 33, 14, 17, 2, 7, 11, 16, 1, 24, 14, 10, 11, 26, 32, 2, 21, 25, 2, 7, 10, 17, 21, 26, 2, 11, 21, 34, 8, 10, 35, 28, 9, 10, 17, 31, 6, 19, 7, 10, 11, 17, 21, 26, 30, 32, 34, 27, 2, 6, 7, 10, 12, 21, 23, 25, 29, 34, 3, 9, 18, 26, 2, 7, 9, 10, 11, 12, 17, 21, 25, 31, 34, 9, 10, 34, 33, 11, 7, 10, 11, 17, 32, 5, 9, 18, 21, 25, 14, 22, 27, 2, 7, 10, 11, 17, 21, 23, 25, 32, 1, 8, 32, 15, 5, 10, 17, 32, 10, 17, 21, 25, 26, 31, 32, 11, 16, 21, 25, 2, 2, 19, 2, 7, 30, 2, 31, 16, 14, 8, 2, 7, 10, 14, 17, 26, 28, 34, 20, 12, 21, 25, 13, 17, 26, 32, 35, 2, 7, 13, 21, 13, 21, 24, 2, 7, 23, 11, 8, 28, 14, 34, 6, 11, 32, 1, 21, 31, 3, 34, 9, 28, 33, 6, 16, 32, 7, 10, 21, 25, 28, 11, 17, 26, 32, 14, 18, 3, 30, 12, 32, 10, 17, 29, 7, 11, 21, 25, 26, 4, 13, 17, 21, 17, 19, 2, 33, 9, 7, 21, 23, 25, 11, 24, 34, 2, 7, 10, 11, 17, 21, 23, 26, 34, 29, 7, 17, 34, 7, 3, 26, 7, 7, 21, 22, 7, 9, 11, 17, 21, 32, 34, 7, 9, 10, 11, 12, 17, 21, 29, 31, 34, 26, 14, 15, 17, 25, 17, 30, 14, 2, 28, 5, 5, 21, 9, 3, 10, 11, 12, 21, 25, 34, 20, 15, 3, 35, 33, 35, 11, 15, 34, 10, 23, 23, 16, 10, 5, 29, 8, 21, 28, 2, 9, 10, 17, 21, 25, 26, 32, 34, 35, 2, 21, 34, 23, 34, 5, 10, 11, 17, 32, 34, 11, 14, 17, 10, 16, 20, 18, 23, 25, 16, 2, 7, 9, 10, 11, 17, 21, 32, 34, 35, 25, 14, 33, 9, 9, 14, 17, 26, 33, 9, 7, 10, 28, 2, 7, 10, 17, 23, 34, 3, 32, 2, 6, 7, 10, 11, 12, 14, 17, 21, 31, 34, 12, 6, 10, 11, 21, 10, 11, 28, 3, 2, 9, 21, 26, 31, 34, 8, 17, 22, 7, 15, 10, 2, 9, 10, 17, 18, 21, 23, 26, 28, 32, 34, 10, 32, 7, 10, 11, 12, 17, 21, 26, 32, 34, 10, 11, 17, 31, 32, 12, 30, 5, 6, 7, 10, 11, 12, 17, 18, 21, 23, 25, 26, 31, 32, 34, 9, 10, 12, 2, 7, 10, 11, 12, 17, 21, 23, 25, 26, 31, 32, 34, 21, 23, 31, 6, 11, 32, 6, 6, 7, 10, 23, 24, 2, 7, 10, 21, 23, 32, 34, 7, 7, 32, 10, 10, 31, 6, 2, 7, 10, 11, 12, 17, 21, 31, 21, 2, 7, 10, 11, 21, 7, 21, 30, 11, 24, 13, 32, 2, 22, 22, 22, 35, 1, 10, 24, 9, 17, 7, 18, 18, 21, 25, 17, 21, 25, 9, 10, 11, 17, 26, 34, 26, 2, 7, 10, 21, 34, 20, 10, 31, 31, 2, 7, 10, 11, 17, 21, 32, 34, 7, 10, 11, 17, 21, 26, 31, 17, 9, 17, 29, 8, 8, 9, 11, 17, 32, 34, 10, 11, 12, 17, 25, 35, 9, 17, 21, 10, 11, 17, 28, 32, 34, 5, 7, 17, 5, 6, 11, 16, 17, 21, 34, 17, 10, 13, 15, 13, 13, 33, 10, 34, 2, 6, 7, 9, 10, 11, 12, 17, 18, 21, 25, 26, 34, 10, 9, 17, 26, 32, 34, 23, 30, 1, 11, 16, 21, 10, 7, 13, 33, 7, 10, 11, 12, 14, 17, 21, 25, 34, 12, 7, 13, 2, 17, 21, 31, 34, 5, 2, 10, 13, 17, 26, 17, 31, 10, 17, 32, 35, 2, 21, 29, 9, 10, 17, 26, 15, 2, 7, 10, 11, 13, 14, 17, 18, 21, 23, 31, 34, 7, 2, 7, 10, 11, 21, 5, 21, 19, 20, 7, 33, 10, 11, 15, 23, 1, 17, 28, 9, 7, 21, 26, 11, 19, 10, 11, 31, 34, 7, 17, 10, 1, 2, 2, 6, 7, 10, 11, 17, 21, 28, 32, 34, 24, 23, 11, 31, 14, 2, 7, 18, 21, 23, 25, 26, 2, 7, 17, 21, 31, 34, 13, 32, 2, 21, 34, 24, 11, 35, 2, 7, 10, 13, 21, 23, 2, 7, 10, 11, 12, 17, 21, 25, 34, 10, 11, 17, 10, 17, 31, 5, 10, 17, 21, 26, 31, 10, 11, 12, 17, 24, 25, 31, 32, 34, 17, 6, 7, 10, 16, 17, 21, 25, 34, 5, 10, 11, 17, 26, 31, 32, 26, 17, 31, 32, 18, 35, 16, 32, 4, 34, 5, 28, 17, 29, 7, 10, 12, 21, 23, 24, 25, 31, 1, 28, 23, 6, 1, 15, 7, 21, 25, 2, 7, 10, 21, 23, 18, 7, 18, 23, 2, 7, 10, 11, 14, 17, 21, 34, 7, 10, 11, 12, 18, 21, 23, 25, 32, 23, 11, 21, 28, 14, 6, 26, 17, 34, 2, 6, 7, 9, 10, 11, 12, 17, 21, 23, 25, 32, 34, 22, 1, 10, 11, 12, 13, 17, 21, 25, 31, 32, 9, 9, 11, 12, 17, 26, 32, 7, 11, 21, 15, 31, 7, 10, 11, 21, 25, 28, 34, 14, 7, 20, 11, 17, 32, 35, 1, 13, 17, 9, 2, 7, 2, 6, 7, 10, 11, 23, 25, 28, 34, 35, 11, 18, 21, 1, 10, 26, 34, 8, 2, 7, 10, 17, 21, 26, 31, 7, 26, 9, 11, 12, 17, 26, 32, 2, 7, 10, 23, 31, 7, 25, 1, 30, 10, 24, 34, 34, 15, 7, 10, 21, 23, 7, 10, 13, 7, 10, 17, 21, 26, 10, 31, 10, 11, 17, 21, 31, 31, 29, 35, 7, 10, 11, 12, 17, 21, 25, 25, 11, 12, 17, 9, 10, 17, 32, 3, 18, 25, 21, 14, 14, 11, 7, 1, 15, 6, 11, 12, 17, 14, 6, 7, 10, 17, 30, 5, 9, 18, 32, 7, 27, 15, 33, 18, 18, 24, 10, 11, 21, 25, 35, 20, 7, 21, 25, 10, 11, 21, 25, 7, 10, 17, 24, 26, 32, 34, 1, 10, 17, 21, 29, 33, 1, 7, 1, 28, 7, 10, 11, 21, 25, 34, 10, 21, 25, 7, 10, 11, 21, 25, 13, 30, 26, 25, 25, 10, 11, 26, 31, 32, 14, 15, 10, 23, 15, 16, 17, 21, 16, 18, 7, 10, 18, 21, 7, 25, 2, 1, 2, 7, 10, 13, 18, 21, 23, 24, 25, 30, 34, 21, 2, 9, 14, 17, 21, 14, 17, 17, 34, 8, 2, 10, 13, 17, 34, 15, 14, 24, 19, 9, 30, 2, 7, 10, 13, 21, 23, 18, 32, 33, 10, 11, 14, 21, 28, 34, 12, 2, 3, 10, 11, 12, 17, 26, 32, 34, 12, 31, 31, 2, 6, 7, 10, 11, 21, 23, 25, 26, 28, 7, 2, 7, 11, 21, 2, 17, 23, 26, 3, 7, 10, 17, 7, 10, 21, 23, 6, 5, 2, 6, 10, 17, 23, 2, 33, 6, 10, 11, 17, 21, 23, 25, 28, 34, 9, 10, 11, 12, 17, 32, 34, 9, 14, 17, 10, 11, 14, 29, 34, 5, 5, 9, 11, 17, 32, 35, 3, 10, 11, 17, 24, 31, 32, 34, 12, 3, 29, 7, 22, 10, 11, 12, 17, 31, 32, 34, 10, 11, 1, 10, 17, 2, 7, 10, 11, 12, 13, 17, 21, 26, 2, 30, 7, 10, 11, 13, 17, 21, 23, 32, 34, 22, 7, 10, 17, 21, 31, 34, 2, 6, 7, 9, 10, 11, 12, 17, 21, 23, 32, 34, 17, 26, 10, 24, 10, 17, 30, 16, 17, 11, 17, 32, 2, 7, 17, 23, 31, 6, 2, 7, 10, 11, 17, 21, 31, 34, 35, 2, 6, 7, 9, 10, 11, 12, 17, 21, 25, 26, 23, 6, 10, 11, 16, 17, 21, 8, 7, 10, 11, 12, 17, 18, 25, 31, 32, 34, 2, 10, 12, 31, 32, 34, 31, 22, 10, 11, 17, 25, 31, 32, 34, 16, 2, 2, 1, 10, 25, 30, 25, 25, 32, 31, 12, 17, 11, 6, 9, 10, 11, 18, 21, 25, 32, 9, 12, 17, 32, 34, 30, 7, 10, 18, 5, 9, 16, 34, 1, 2, 7, 9, 2, 7, 10, 11, 12, 17, 21, 25, 34, 2, 7, 11, 21, 25, 28, 11, 31, 26, 12, 2, 7, 10, 13, 14, 21, 23, 18, 34, 11, 15, 34, 31, 8, 32, 25, 6, 10, 11, 12, 14, 17, 21, 25, 34, 30, 34, 6, 23, 25, 8, 17, 3, 10, 11, 12, 17, 21, 23, 25, 19, 10, 12, 13, 21, 25, 30, 12, 21, 12, 2, 12, 21, 25, 12, 21, 25, 26, 28, 16, 30, 6, 10, 11, 12, 14, 17, 21, 25, 34, 24, 29, 25, 9, 10, 11, 12, 16, 17, 21, 23, 25, 26, 34, 12, 3, 14, 17, 35, 6, 7, 10, 11, 17, 23, 31, 32, 34, 5, 5, 9, 17, 16, 34, 9, 10, 26, 9, 9, 5, 22, 9, 10, 14, 16, 17, 21, 28, 34, 14, 13, 6, 10, 31, 34, 25, 10, 11, 14, 32, 5, 21, 2, 33, 22, 2, 10, 17, 18, 21, 25, 32, 6, 2, 7, 10, 21, 25, 11, 18, 32, 7, 8, 27, 6, 23, 11, 17, 26, 32, 14, 25, 34, 17, 11, 14, 16, 26, 6, 20, 17, 6, 10, 11, 12, 17, 31, 7, 10, 17, 21, 23, 24, 20, 7, 10, 11, 12, 17, 21, 25, 32, 34, 30, 2, 18, 10, 10, 7, 10, 11, 17, 21, 25, 28, 34, 20, 28, 35, 10, 11, 17, 21, 25, 32, 2, 9, 10, 11, 17, 21, 25, 26, 28, 30, 32, 34, 21, 11, 17, 9, 10, 11, 17, 21, 28, 32, 34, 13, 14, 9, 17, 32, 10, 17, 26, 32, 6, 10, 11, 16, 21, 28, 10, 11, 21, 28, 32, 18, 18, 15, 19, 28, 10, 9, 17, 10, 18, 13, 29, 3, 10, 11, 21, 24, 31, 32, 18, 32, 10, 12, 21, 34, 21, 13, 2, 5, 35, 18, 21, 23, 19, 10, 33, 13, 13, 2, 18, 21, 23, 25, 26, 2, 5, 7, 10, 11, 17, 18, 21, 26, 31, 32, 34, 7, 10, 21, 2, 7, 10, 21, 25, 28, 31, 12, 18, 21, 25, 11, 7, 10, 11, 17, 29, 32, 17, 18, 1, 2, 7, 10, 13, 17, 21, 23, 26, 7, 21, 25, 2, 7, 10, 11, 17, 32, 2, 2, 10, 14, 23, 26, 31, 34, 29, 30, 21, 17, 21, 35, 2, 7, 9, 10, 17, 21, 23, 2, 7, 10, 11, 12, 17, 21, 26, 31, 32, 34, 11, 31, 22, 12, 13, 15, 17, 32, 21, 12, 21, 2, 7, 10, 21, 31, 34, 2, 7, 21, 25, 35, 2, 10, 17, 26, 11, 17, 34, 29, 31, 22, 2, 6, 10, 11, 17, 21, 31, 32, 2, 30, 8, 11, 17, 25, 10, 17, 20, 10, 11, 17, 21, 25, 34, 18, 30, 17, 10, 15, 11, 17, 23, 16, 10, 11, 21, 25, 22, 24, 12, 14, 23, 9, 17, 10, 23, 11, 17, 10, 11, 17, 32, 6, 11, 9, 17, 34, 26, 34, 27, 2, 9, 10, 11, 12, 17, 21, 25, 31, 32, 34, 31, 18, 17, 24, 29, 2, 7, 10, 21, 34, 16, 7, 10, 14, 17, 29, 34, 33, 16, 28, 9, 10, 11, 12, 17, 18, 21, 23, 25, 32, 34, 24, 2, 5, 9, 10, 11, 17, 31, 26, 5, 11, 17, 32, 33, 2, 5, 10, 11, 17, 21, 23, 25, 31, 32, 34, 9, 10, 11, 12, 15, 17, 21, 32, 34, 14, 19, 6, 10, 11, 17, 21, 30, 32, 6, 11, 24, 24, 6, 5, 7, 10, 21, 28, 10, 34, 28, 13, 32, 5, 7, 13, 10, 11, 31, 32, 34, 6, 10, 1, 6, 6, 9, 7, 9, 10, 11, 12, 13, 17, 32, 34, 28, 20, 17, 34, 30, 18, 33, 10, 11, 12, 17, 21, 25, 7, 20, 17, 7, 28, 34, 5, 2, 31, 9, 18, 9, 10, 17, 34, 26, 16, 23, 16, 11, 18, 7, 14, 17, 25, 26, 30, 1, 32, 2, 7, 10, 11, 12, 17, 21, 25, 28, 34, 2, 13, 2, 7, 10, 11, 12, 17, 21, 1, 10, 21, 34, 9, 10, 17, 32, 34, 28, 6, 7, 10, 11, 18, 21, 23, 25, 28, 7, 18, 21, 2, 10, 17, 18, 21, 23, 25, 26, 29, 3, 34, 17, 10, 12, 13, 21, 25, 12, 12, 18, 23, 32, 2, 7, 9, 10, 11, 12, 17, 21, 23, 32, 34, 9, 11, 17, 26, 32, 2, 7, 14, 17, 21, 10, 21, 16, 2, 6, 7, 9, 10, 11, 12, 17, 21, 34, 10, 14, 17, 2, 6, 7, 10, 11, 12, 21, 23, 25, 26, 28, 11, 18, 21, 17, 9, 31, 33, 3, 2, 10, 17, 31, 1, 2, 6, 7, 9, 10, 11, 12, 17, 21, 25, 31, 34, 6, 11, 15, 22, 2, 22, 18, 15, 29, 11, 34, 2, 7, 10, 12, 17, 21, 28, 6, 17, 32, 10, 25, 31, 32, 34, 23, 24, 22, 2, 9, 10, 17, 18, 32, 34, 9, 14, 34, 8, 14, 11, 7, 11, 32, 33, 33, 14, 32, 2, 11, 17, 32, 28, 3, 31, 32, 23, 7, 33, 33, 9, 11, 12, 17, 21, 32, 19, 26, 2, 22, 22, 13, 13, 35, 28, 16, 31, 8, 18, 6, 10, 11, 12, 21, 19, 2, 6, 7, 10, 11, 17, 21, 25, 32, 34, 7, 1, 35, 35, 9, 10, 11, 17, 21, 24, 26, 28, 31, 32, 24, 31, 34, 18, 12, 21, 28, 28, 28, 9, 17, 32, 17, 14, 14, 7, 9, 10, 11, 17, 21, 23, 25, 32, 34, 32, 11, 32, 10, 12, 13, 21, 31, 34, 12, 21, 31, 34, 25, 6, 9, 10, 11, 12, 21, 25, 34, 26, 11, 26, 16, 2, 30, 10, 11, 17, 21, 30, 32, 33, 24, 7, 10, 11, 17, 21, 26, 28, 31, 32, 34, 32, 15, 19, 11, 29, 2, 7, 13, 23, 8, 2, 9, 10, 11, 12, 21, 25, 34, 10, 24, 9, 8, 2, 7, 21, 21, 9, 10, 11, 14, 17, 21, 34, 2, 7, 10, 11, 12, 17, 21, 23, 25, 28, 32, 34, 20, 20, 6, 10, 11, 12, 15, 21, 25, 26, 32, 2, 12, 12, 21, 12, 12, 32, 2, 2, 35, 9, 22, 2, 23, 20, 26, 30, 2, 2, 3, 11, 23, 5, 29, 12, 10, 16, 34, 30, 10, 12, 10, 21, 26, 2, 10, 11, 12, 17, 21, 26, 32, 12, 16, 17, 2, 7, 9, 10, 11, 17, 21, 23, 25, 26, 34, 11, 14, 17, 2, 6, 7, 10, 11, 13, 17, 21, 28, 30, 31, 20, 22, 35, 2, 13, 17, 29, 2, 7, 10, 11, 21, 23, 25, 26, 28, 15, 25, 34, 15, 13, 7, 21, 2, 7, 10, 12, 13, 18, 21, 23, 25, 34, 20, 33, 10, 15, 23, 9, 11, 13, 14, 17, 32, 34, 26, 32, 17, 32, 34, 28, 6, 29, 6, 10, 11, 12, 16, 17, 21, 11, 17, 26, 28, 32, 6, 9, 10, 11, 12, 17, 26, 28, 31, 32, 34, 25, 2, 6, 10, 11, 17, 25, 26, 34, 2, 7, 7, 7, 2, 7, 10, 13, 17, 21, 12, 12, 10, 10, 23, 10, 17, 21, 13, 5, 10, 11, 17, 26, 31, 32, 34, 25, 7, 21, 21, 10, 18, 25, 16, 24, 10, 13, 17, 18, 26, 34, 22, 3, 17, 21, 34, 3, 3, 34, 25, 1, 8, 33, 16, 28, 7, 10, 11, 14, 17, 21, 32, 34, 17, 23, 2, 10, 11, 17, 31, 32, 26, 9, 7, 10, 12, 13, 21, 13, 33, 11, 2, 7, 10, 11, 14, 17, 21, 24, 31, 30, 35, 9, 23, 6, 10, 11, 17, 32, 34, 10, 11, 21, 25, 28, 22, 2, 30, 2, 7, 11, 17, 21, 2, 7, 10, 17, 21, 28, 7, 1, 20, 9, 11, 17, 18, 16, 33, 1, 28, 26, 11, 18, 32, 32, 14, 24, 7, 10, 23, 24, 10, 21, 23, 10, 2, 7, 10, 11, 12, 17, 21, 23, 31, 32, 33, 32, 25, 11, 12, 17, 26, 32, 2, 7, 10, 17, 21, 25, 34, 11, 12, 15, 31, 34, 12, 10, 11, 31, 31, 33, 34, 15, 29, 33, 28, 11, 15, 15, 34, 2, 21, 2, 7, 10, 11, 21, 34, 35, 6, 11, 32, 6, 35, 20, 23, 22, 17, 34, 5, 10, 14, 2, 2, 9, 21, 35, 25, 10, 11, 24, 26, 31, 32, 34, 24, 10, 12, 29, 22, 10, 2, 10, 11, 13, 17, 21, 23, 26, 31, 32, 34, 10, 11, 25, 32, 5, 2, 7, 32, 1, 2, 7, 10, 11, 12, 18, 21, 23, 25, 28, 1, 2, 35, 25, 10, 6, 7, 10, 21, 23, 25, 26, 2, 6, 7, 10, 17, 21, 23, 5, 2, 7, 10, 23, 25, 5, 7, 10, 21, 34, 6, 2, 7, 10, 17, 23, 24, 26, 34, 19, 2, 7, 10, 14, 17, 21, 23, 17, 10, 11, 31, 32, 34, 6, 1, 10, 29, 2, 7, 10, 17, 21, 10, 11, 17, 24, 26, 31, 32, 10, 17, 26, 31, 32, 22, 25, 28, 2, 10, 11, 15, 17, 21, 26, 31, 32, 34, 7, 24, 1, 33, 34, 28, 33, 13, 2, 7, 10, 21, 25, 26, 21, 6, 10, 11, 17, 18, 24, 29, 31, 32, 34, 11, 24, 26, 2, 33, 33, 24, 9, 10, 10, 21, 23, 10, 16, 17, 21, 30, 2, 7, 10, 11, 21, 25, 11, 21, 25, 21, 11, 12, 17, 26, 32, 7, 10, 11, 17, 18, 21, 25, 6, 9, 10, 11, 12, 15, 21, 25, 11, 17, 21, 28, 7, 10, 34, 15, 10, 17, 21, 31, 19, 12, 24, 20, 23, 10, 23, 11, 30, 10, 13, 21, 21, 28, 34, 2, 7, 10, 11, 17, 21, 26, 32, 10, 13, 29, 30, 33, 19, 35, 7, 28, 34, 7, 34, 2, 33, 16, 29, 2, 6, 7, 10, 11, 17, 21, 25, 26, 28, 32, 27, 20, 17, 21, 28, 30, 30, 6, 21, 2, 7, 10, 21, 26, 6, 11, 16, 17, 21, 6, 11, 18, 21, 21, 25, 34, 7, 10, 21, 1, 1, 22, 18, 8, 13, 21, 32, 34, 1, 10, 11, 17, 21, 29, 34, 10, 11, 12, 21, 25, 28, 34, 2, 6, 28, 28, 3, 30, 17, 18, 27, 8, 6, 2, 6, 7, 10, 11, 21, 25, 28, 32, 11, 17, 25, 3, 7, 10, 13, 17, 26, 31, 32, 34, 11, 12, 17, 29, 26, 6, 21, 14, 16, 20, 32, 9, 7, 10, 21, 25, 12, 12, 2, 5, 11, 17, 21, 31, 2, 6, 7, 10, 11, 12, 17, 21, 25, 28, 32, 34, 6, 10, 11, 12, 21, 34, 7, 21, 19, 7, 10, 17, 29, 10, 11, 17, 21, 23, 25, 32, 34, 25, 10, 17, 21, 34, 11, 32, 24, 2, 7, 9, 11, 17, 21, 23, 25, 13, 13, 2, 10, 11, 17, 35, 2, 7, 9, 10, 17, 21, 26, 32, 34, 35, 3, 22, 2, 7, 9, 10, 11, 18, 21, 25, 34, 7, 12, 3, 5, 9, 15, 6, 22, 17, 32, 6, 17, 6, 10, 11, 12, 13, 17, 21, 25, 28, 32, 3, 7, 10, 11, 15, 10, 11, 12, 17, 21, 25, 32, 34, 9, 29, 9, 17, 2, 10, 11, 13, 17, 21, 32, 23, 3, 34, 26, 7, 21, 25, 21, 34, 21, 6, 10, 17, 21, 34, 21, 26, 26, 11, 21, 2, 10, 11, 17, 34, 24, 16, 21, 1, 34, 12, 17, 9, 14, 17, 32, 3, 10, 15, 34, 22, 11, 10, 11, 12, 17, 26, 32, 25, 11, 11, 10, 15, 35, 11, 15, 16, 17, 21, 28, 15, 10, 26, 34, 1, 2, 10, 11, 13, 17, 23, 32, 2, 7, 10, 11, 17, 33, 14, 23, 13, 29, 14, 5, 5, 6, 10, 11, 12, 14, 21, 25, 34, 12, 21, 25, 7, 10, 23, 6, 10, 11, 17, 21, 32, 11, 17, 22, 32, 9, 10, 11, 12, 17, 21, 25, 26, 32, 34, 34, 25, 12, 1, 1, 20, 9, 17, 21, 26, 32, 34, 6, 18, 34, 11, 17, 32, 16, 6, 16, 29, 14, 22, 12, 21, 22, 13, 19, 29, 16, 2, 10, 17, 34, 22, 7, 21, 10, 16, 18, 25, 24, 16, 2, 6, 7, 10, 11, 23, 25, 2, 9, 10, 17, 21, 25, 31, 32, 34, 34, 34, 10, 17, 9, 11, 12, 17, 26, 32, 34, 3, 20, 20, 15, 7, 10, 30, 34, 17, 33, 29, 15, 23, 6, 7, 9, 10, 11, 12, 17, 21, 23, 25, 31, 32, 34, 23, 11, 24, 2, 7, 10, 17, 21, 31, 1, 22, 35, 33, 23, 30, 30, 1, 31, 12, 21, 29, 15, 2, 6, 7, 10, 11, 12, 16, 21, 34, 6, 10, 11, 12, 21, 25, 34, 12, 2, 7, 21, 26, 29, 26, 31, 24, 10, 11, 18, 21, 23, 25, 32, 23, 2, 7, 9, 10, 11, 12, 17, 21, 26, 32, 34, 13, 7, 10, 13, 7, 12, 34, 17, 2, 10, 11, 12, 17, 21, 25, 32, 34, 16, 10, 23, 19, 10, 11, 15, 17, 21, 32, 16, 11, 12, 18, 32, 2, 7, 9, 11, 12, 17, 21, 28, 30, 32, 34, 22, 2, 7, 10, 21, 23, 29, 8, 17, 11, 32, 33, 30, 26, 2, 7, 10, 11, 17, 18, 21, 25, 31, 32, 34, 11, 21, 25, 23, 28, 15, 17, 17, 30, 34, 11, 10, 23, 31, 23, 24, 10, 13, 17, 24, 30, 10, 11, 16, 34, 2, 18, 25, 10, 17, 29, 7, 10, 11, 17, 21, 28, 5, 11, 17, 26, 32, 5, 31, 13, 14, 21, 3, 11, 11, 18, 10, 11, 31, 34, 10, 11, 12, 17, 25, 32, 15, 19, 2, 18, 21, 21, 21, 16, 10, 11, 15, 31, 34, 3, 20, 10, 22, 1, 2, 10, 27, 13, 2, 7, 11, 17, 21, 28, 2, 7, 10, 11, 17, 21, 25, 9, 10, 11, 17, 26, 30, 34, 31, 24, 15, 11, 11, 32, 32, 2, 7, 10, 11, 18, 21, 32, 14, 28, 26, 2, 6, 7, 10, 11, 16, 17, 21, 23, 32, 34, 15, 21, 26, 10, 11, 12, 17, 26, 28, 32, 34, 19, 16, 17, 26, 13, 12, 10, 12, 17, 32, 18, 7, 10, 12, 21, 25, 17, 10, 11, 16, 33, 17, 28, 10, 11, 31, 34, 30, 15, 15, 7, 11, 15, 10, 11, 17, 26, 34, 5, 10, 33, 2, 10, 13, 14, 17, 33, 29, 5, 7, 10, 11, 12, 17, 21, 34, 7, 10, 21, 25, 21, 31, 11, 26, 32, 30, 26, 3, 6, 32, 6, 10, 11, 12, 17, 21, 25, 32, 34, 7, 2, 7, 9, 10, 13, 17, 21, 23, 34, 13, 23, 35, 9, 7, 10, 12, 13, 17, 21, 23, 24, 31, 8, 13, 31, 9, 11, 17, 32, 10, 19, 22, 10, 11, 14, 7, 10, 11, 17, 34, 11, 17, 26, 32, 34, 9, 2, 10, 11, 32, 34, 18, 2, 7, 9, 10, 11, 12, 14, 16, 17, 21, 34, 10, 10, 11, 2, 21, 9, 10, 11, 12, 14, 17, 21, 23, 25, 32, 34, 35, 7, 9, 10, 11, 17, 21, 23, 25, 34, 10, 11, 12, 17, 21, 34, 29, 11, 17, 32, 11, 32, 18, 14, 7, 9, 10, 11, 12, 17, 21, 23, 25, 26, 28, 32, 34, 21, 25, 28, 25, 21, 33], \"Freq\": [0.40560856461524963, 0.19529300928115845, 0.255383163690567, 0.13520285487174988, 0.9349449276924133, 0.6075921654701233, 0.8552510142326355, 0.987518310546875, 0.9928120970726013, 0.9919468760490417, 0.5919345617294312, 0.41435420513153076, 0.9597674608230591, 0.9234108924865723, 0.849395215511322, 0.10337375849485397, 0.4577980637550354, 0.3765758275985718, 0.05907071754336357, 0.7356650829315186, 0.26037582755088806, 0.9355281591415405, 0.3256159722805023, 0.5959386229515076, 0.03071848675608635, 0.0030718487687408924, 0.027646638453006744, 0.015359243378043175, 0.9894906282424927, 0.02120385877788067, 0.14842700958251953, 0.8269504904747009, 0.7591670155525208, 0.9977708458900452, 0.6532553434371948, 0.930565357208252, 0.22435802221298218, 0.06205647438764572, 0.7112626433372498, 0.9551570415496826, 0.8686929941177368, 0.7832769751548767, 0.09738188236951828, 0.46443668007850647, 0.20225468277931213, 0.022472742944955826, 0.0599273145198822, 0.05243640020489693, 0.022472742944955826, 0.0599273145198822, 0.007490914314985275, 0.5665753483772278, 0.05562783032655716, 0.002927780384197831, 0.009759267792105675, 0.7836692333221436, 0.002927780384197831, 0.009759267792105675, 0.09076119214296341, 0.0034157438203692436, 0.0014638901920989156, 0.03952503576874733, 0.818403959274292, 0.9380552172660828, 0.8262338042259216, 0.9291770458221436, 0.0008616449777036905, 0.06979324668645859, 0.03188086301088333, 0.5152636766433716, 0.005169869866222143, 0.005169869866222143, 0.13958649337291718, 0.09133436530828476, 0.09822753071784973, 0.003446579910814762, 0.038774024695158005, 0.17889897525310516, 0.16334255039691925, 0.653370201587677, 0.502564549446106, 0.9622489809989929, 0.049049943685531616, 0.17167480289936066, 0.5456806421279907, 0.19619977474212646, 0.03065621666610241, 0.9161005616188049, 0.05725628510117531, 0.06549940258264542, 0.794536292552948, 0.13669441640377045, 0.8414731621742249, 0.8561914563179016, 0.5025709271430969, 0.16636712849140167, 0.012797471135854721, 0.11091142147779465, 0.03412659093737602, 0.2879430949687958, 0.09598103165626526, 0.1642342209815979, 0.029860766604542732, 0.09598103165626526, 0.9864497184753418, 0.7306421995162964, 0.9831946492195129, 0.9599961042404175, 0.18578177690505981, 0.3139071464538574, 0.44843876361846924, 0.044843874871730804, 0.13835646212100983, 0.12452082335948944, 0.2721010446548462, 0.04150693863630295, 0.07840199768543243, 0.2951604723930359, 0.05073070526123047, 0.22165045142173767, 0.06519130617380142, 0.13038261234760284, 0.5867217779159546, 0.9890696406364441, 0.9938823580741882, 0.7832769751548767, 0.8027450442314148, 0.1939518302679062, 0.9386906623840332, 0.037636760622262955, 0.940919041633606, 0.9324280619621277, 0.9125117063522339, 0.5261048674583435, 0.10715607553720474, 0.1445361077785492, 0.22428016364574432, 0.022428017109632492, 0.411180317401886, 0.014952011406421661, 0.0722680538892746, 0.002492001745849848, 0.8855327367782593, 0.7910420298576355, 0.18044506013393402, 0.02825150080025196, 0.9623368978500366, 0.20300939679145813, 0.4313949644565582, 0.3552664518356323, 0.9622364640235901, 0.16944606602191925, 0.4684685170650482, 0.07226376235485077, 0.2890550494194031, 0.7565217018127441, 0.13754940032958984, 0.06877470016479492, 0.8381709456443787, 0.1311105340719223, 0.02809511497616768, 0.9710509777069092, 0.8075115084648132, 0.9186272025108337, 0.8139671087265015, 0.10174588859081268, 0.9419509172439575, 0.8527857065200806, 0.14033183455467224, 0.3528098165988922, 0.6174171566963196, 0.975890040397644, 0.7846609950065613, 0.9826356172561646, 0.345710426568985, 0.1728552132844925, 0.345710426568985, 0.9561578631401062, 0.9289273023605347, 0.9774839282035828, 0.6611194610595703, 0.02687477320432663, 0.2060399353504181, 0.04837459325790405, 0.05554119870066643, 0.007670186460018158, 0.7823590636253357, 0.10738261044025421, 0.09971242398023605, 0.8911994695663452, 0.9635452628135681, 0.818403959274292, 0.8643209338188171, 0.9361462593078613, 0.9658301472663879, 0.2448265105485916, 0.5304574370384216, 0.20402207970619202, 0.012257619760930538, 0.0017510885372757912, 0.8720420598983765, 0.09630987048149109, 0.015759795904159546, 0.7257677316665649, 0.49369218945503235, 0.39495375752449036, 0.09873843938112259, 0.8931686878204346, 0.04465843364596367, 0.4261065125465393, 0.4261065125465393, 0.9829090237617493, 0.25669732689857483, 0.015609972178936005, 0.6243988871574402, 0.10059759765863419, 0.17055270075798035, 0.30699485540390015, 0.4775475561618805, 0.23856176435947418, 0.2200326919555664, 0.25130048394203186, 0.03358393535017967, 0.025477468967437744, 0.1725519448518753, 0.005790333729237318, 0.0023161335848271847, 0.04979687184095383, 0.9202963709831238, 0.9759324789047241, 0.21700061857700348, 0.7750021815299988, 0.9870348572731018, 0.7315851449966431, 0.9244007468223572, 0.9980797171592712, 0.9902100563049316, 0.9917716979980469, 0.7178586721420288, 0.02019318751990795, 0.4105948209762573, 0.1278901845216751, 0.013462125323712826, 0.1480833739042282, 0.0403863750398159, 0.23558717966079712, 0.018592100590467453, 0.04544735699892044, 0.2644209861755371, 0.19624996185302734, 0.03305262327194214, 0.22310522198677063, 0.018592100590467453, 0.0020657889544963837, 0.012394733726978302, 0.18592101335525513, 0.9193397164344788, 0.9429657459259033, 0.5015583634376526, 0.2143881767988205, 0.7622690796852112, 0.7248600125312805, 0.19768908619880676, 0.8610209822654724, 0.9828920364379883, 0.8930471539497375, 0.9883119463920593, 0.9613182544708252, 0.9940426349639893, 0.9321487545967102, 0.5850339531898499, 0.28274649381637573, 0.22352257370948792, 0.013373144902288914, 0.22543302178382874, 0.08597022294998169, 0.1642986387014389, 0.618888258934021, 0.9758235812187195, 0.601905882358551, 0.9825255870819092, 0.652836799621582, 0.995656430721283, 0.3999940752983093, 0.4615316390991211, 0.09230633080005646, 0.22683393955230713, 0.7712354063987732, 0.9766830801963806, 0.982226550579071, 0.976498007774353, 0.9455243945121765, 0.7759130597114563, 0.6569428443908691, 0.9234410524368286, 0.0632493868470192, 0.08393839746713638, 0.03306664153933525, 0.34338435530662537, 0.18822550773620605, 0.17805115878582, 0.04578458145260811, 0.022892290726304054, 0.03815381973981857, 0.040697406977415085, 0.025435879826545715, 0.9814541935920715, 0.01806357316672802, 0.9617733955383301, 0.9743704795837402, 0.9334235191345215, 0.9816869497299194, 0.18406455218791962, 0.6175068616867065, 0.011875132098793983, 0.17218941450119019, 0.01781269907951355, 0.1645655632019043, 0.603407084941864, 0.1645655632019043, 0.1255275160074234, 0.8159288167953491, 0.8655790686607361, 0.08533741533756256, 0.8960428833961487, 0.9779903888702393, 0.9610888361930847, 0.06443861871957779, 0.10613419115543365, 0.003790506860241294, 0.3108215630054474, 0.04548608139157295, 0.28807851672172546, 0.003790506860241294, 0.037905070930719376, 0.10992470383644104, 0.03032405488193035, 0.8930153250694275, 0.8688024282455444, 0.652836799621582, 0.9911618232727051, 0.24328909814357758, 0.7298672795295715, 0.012164454907178879, 0.9098060727119446, 0.652836799621582, 0.9472824335098267, 0.5782310366630554, 0.4196837842464447, 0.9541792273521423, 0.01162644475698471, 0.008719833567738533, 0.7033998966217041, 0.02325288951396942, 0.08719833195209503, 0.16567683219909668, 0.8772881031036377, 0.9913087487220764, 0.04882482439279556, 0.0030515515245497227, 0.1258765012025833, 0.22505192458629608, 0.03432995453476906, 0.12969094514846802, 0.025175299495458603, 0.09764964878559113, 0.25938189029693604, 0.006103103049099445, 0.04501038417220116, 0.9812412858009338, 0.9138539433479309, 0.41239306330680847, 0.0026100825052708387, 0.5846585035324097, 0.32385849952697754, 0.1494731605052948, 0.4982438385486603, 0.9424087405204773, 0.2806835174560547, 0.24485157430171967, 0.011943979188799858, 0.053747907280921936, 0.3224874436855316, 0.08360785245895386, 0.2179405391216278, 0.653821587562561, 0.45288369059562683, 0.7497901320457458, 0.2399328500032425, 0.9885948300361633, 0.11979342997074127, 0.01060118805617094, 0.6784760355949402, 0.003180356463417411, 0.004240475594997406, 0.002120237797498703, 0.03710415959358215, 0.09541069716215134, 0.018022021278738976, 0.009541069157421589, 0.02120237611234188, 0.11745493859052658, 0.8613362312316895, 0.0014955413062125444, 0.5279260873794556, 0.10020126402378082, 0.043370697647333145, 0.13758979737758636, 0.061317190527915955, 0.0074777062982320786, 0.053839486092329025, 0.06729935854673386, 0.16586318612098694, 0.2653810977935791, 0.2890758514404297, 0.2606421411037445, 0.01421684492379427, 0.9311286211013794, 0.8987656235694885, 0.0005894777132198215, 0.009431643411517143, 0.03507392480969429, 0.33953917026519775, 0.06336885690689087, 0.09755855798721313, 0.2605491578578949, 0.0017684331396594644, 0.10463229566812515, 0.024168586358428, 0.010905337519943714, 0.0017684331396594644, 0.028884407132864, 0.0061895158141851425, 0.015326420776546001, 0.9548073410987854, 0.05651411414146423, 0.932482898235321, 0.0023263690527528524, 0.07909654825925827, 0.27544209361076355, 0.1219017431139946, 0.004187464248389006, 0.16098473966121674, 0.16749857366085052, 0.10654770582914352, 0.05257594212889671, 0.00046527382801286876, 0.006979107391089201, 0.006513833533972502, 0.014423488639295101, 0.13764682412147522, 0.843086838722229, 0.94813472032547, 0.7914565205574036, 0.030150724574923515, 0.17336666584014893, 0.9746121764183044, 0.9772170186042786, 0.37114936113357544, 0.07548800855875015, 0.5535787343978882, 0.9233415722846985, 0.12284494936466217, 0.6094385981559753, 0.028717001900076866, 0.1643250584602356, 0.025526223704218864, 0.020740056410431862, 0.027121612802147865, 0.9947836399078369, 0.9916267395019531, 0.9824353456497192, 0.9955707788467407, 0.2841014266014099, 0.7138959169387817, 0.9586923718452454, 0.007873413152992725, 0.020995769649744034, 0.12072567641735077, 0.2178311049938202, 0.12072567641735077, 0.2703205347061157, 0.10235437750816345, 0.13384802639484406, 0.9697921872138977, 0.2906319499015808, 0.5760740637779236, 0.02335435338318348, 0.0181644968688488, 0.0908224880695343, 0.9629785418510437, 0.00972705613821745, 0.0194541122764349, 0.9872844219207764, 0.9426124095916748, 0.902548611164093, 0.991226851940155, 0.6979301571846008, 0.27917206287384033, 0.8561916351318359, 0.20416149497032166, 0.7145652174949646, 0.9846169352531433, 0.25628259778022766, 0.640706479549408, 0.8084123134613037, 0.1818927675485611, 0.06436186283826828, 0.9171565175056458, 0.09299661219120026, 0.17436864972114563, 0.7284734845161438, 0.9672768712043762, 0.11287595331668854, 0.8804324269294739, 0.05145072564482689, 0.16838419437408447, 0.03274137154221535, 0.4770885705947876, 0.21515758335590363, 0.05145072564482689, 0.9376662373542786, 0.7499271631240845, 0.043826911598443985, 0.16556833684444427, 0.024348285049200058, 0.01460897084325552, 0.618888258934021, 0.4845642149448395, 0.5122535824775696, 0.9600304961204529, 0.0643499493598938, 0.34990283846855164, 0.2895747721195221, 0.06703119724988937, 0.040218718349933624, 0.040218718349933624, 0.06569057703018188, 0.08177806437015533, 0.039464812725782394, 0.04305252432823181, 0.4412883520126343, 0.16503466665744781, 0.04664023220539093, 0.2009117752313614, 0.06457878649234772, 0.9916837811470032, 0.5381763577461243, 0.45537999272346497, 0.9202052354812622, 0.5148420929908752, 0.5019302368164062, 0.2947251796722412, 0.16553057730197906, 0.40373313426971436, 0.09285861998796463, 0.044410642236471176, 0.008184346370398998, 0.48696860671043396, 0.09821215271949768, 0.08184345811605453, 0.3232816755771637, 0.7823205590248108, 0.8141878247261047, 0.16283756494522095, 0.9915388822555542, 0.47745612263679504, 0.04003513976931572, 0.14976108074188232, 0.1527266502380371, 0.16458891332149506, 0.014827829785645008, 0.4021006226539612, 0.07446308434009552, 0.5063489675521851, 0.9816869497299194, 0.9700208902359009, 0.22064276039600372, 0.11612777411937714, 0.18580444157123566, 0.1277405470609665, 0.3483833074569702, 0.9906843900680542, 0.6064630150794983, 0.34900230169296265, 0.04004944488406181, 0.9974370002746582, 0.871708333492279, 0.652836799621582, 0.8502280712127686, 0.1455869972705841, 0.06289681047201157, 0.06289681047201157, 0.004838216118514538, 0.024191081523895264, 0.1935286521911621, 0.1548229157924652, 0.058058593422174454, 0.004838216118514538, 0.016933755949139595, 0.22013883292675018, 0.10160253942012787, 0.09434521943330765, 0.002419108059257269, 0.9784095883369446, 0.609833836555481, 0.12555402517318726, 0.10761773586273193, 0.08968144655227661, 0.05380886793136597, 0.9038569331169128, 0.816004753112793, 0.942816972732544, 0.9913294911384583, 0.8257744908332825, 0.11796778440475464, 0.9929097890853882, 0.9796978235244751, 0.940031886100769, 0.8621500730514526, 0.009757496416568756, 0.4767233729362488, 0.12684744596481323, 0.05157533660531044, 0.00557571230456233, 0.04878748208284378, 0.034848202019929886, 0.06412068754434586, 0.1826045662164688, 0.9447640180587769, 0.9904986619949341, 0.98844313621521, 0.23841775953769684, 0.1564616560935974, 0.10430777072906494, 0.4395827651023865, 0.05215388536453247, 0.9776490330696106, 0.1013043224811554, 0.03039129637181759, 0.03039129637181759, 0.769912838935852, 0.06078259274363518, 0.9629319310188293, 0.0178320724517107, 0.3479287624359131, 0.46390500664711, 0.14690324664115906, 0.03092700056731701, 0.9371123313903809, 0.054664887487888336, 0.915457010269165, 0.05653753876686096, 0.4190429449081421, 0.4689289927482605, 0.0498860627412796, 0.511989414691925, 0.4212839901447296, 0.035074520856142044, 0.11184875667095184, 0.006625187583267689, 0.044038012623786926, 0.009742923080921173, 0.050273481756448746, 0.008184054866433144, 0.20343223214149475, 0.0841788575053215, 0.0003897169081028551, 0.023383015766739845, 0.9847882390022278, 0.030547840520739555, 0.7997980117797852, 0.08053521811962128, 0.0583186075091362, 0.027770765125751495, 0.9495342373847961, 0.9736729264259338, 0.619882345199585, 0.618888258934021, 0.9738559126853943, 0.5676448345184326, 0.19296526908874512, 0.1608043909072876, 0.6432175636291504, 0.9949153661727905, 0.9597674608230591, 0.28992635011672974, 0.6378379464149475, 0.952775239944458, 0.2244289219379425, 0.04852517321705818, 0.7278776168823242, 0.9684458374977112, 0.5483749508857727, 0.2676856517791748, 0.1923990547657013, 0.48518022894859314, 0.04182588309049606, 0.9927924275398254, 0.9815098643302917, 0.9922772645950317, 0.9597675800323486, 0.9901999235153198, 0.10382773727178574, 0.00601899903267622, 0.34759721159935, 0.31449270248413086, 0.0571804903447628, 0.042132992297410965, 0.07975173741579056, 0.010533248074352741, 0.021066496148705482, 0.015047498047351837, 0.9416900873184204, 0.9754953980445862, 0.9659714102745056, 0.9255775213241577, 0.8735955953598022, 0.06701071560382843, 0.002393239876255393, 0.02393239736557007, 0.6485679745674133, 0.07419043034315109, 0.04307831823825836, 0.13880790770053864, 0.1523158997297287, 0.23210042715072632, 0.043518830090761185, 0.1777018904685974, 0.2864989638328552, 0.10517050325870514, 0.955991268157959, 0.9642220139503479, 0.836861789226532, 0.02333877421915531, 0.14003264904022217, 0.8708919882774353, 0.9856898784637451, 0.9368811249732971, 0.08123860508203506, 0.48346877098083496, 0.3259451389312744, 0.07232217490673065, 0.026749297976493835, 0.008916432037949562, 0.04226861894130707, 0.0519300177693367, 0.545868992805481, 0.18718959391117096, 0.00603837426751852, 0.004830699414014816, 0.13042888045310974, 0.019322797656059265, 0.01328442245721817, 0.8653712868690491, 0.005730935838073492, 0.12034964561462402, 0.9929091334342957, 0.2319382280111313, 0.7576648592948914, 0.9787811636924744, 0.18071754276752472, 0.14683300256729126, 0.06776907294988632, 0.5082680583000183, 0.09035877138376236, 0.5202765464782715, 0.20173989236354828, 0.0015168412355706096, 0.1349988728761673, 0.004550523590296507, 0.07129153609275818, 0.0015168412355706096, 0.028819983825087547, 0.034887347370386124, 0.9897148013114929, 0.01272238977253437, 0.05088955909013748, 0.14630748331546783, 0.17811346054077148, 0.006361194886267185, 0.22900301218032837, 0.09541792422533035, 0.28625378012657166, 0.16179277002811432, 0.28576385974884033, 0.01891084387898445, 0.21852530539035797, 0.16599518060684204, 0.08614940196275711, 0.060934942215681076, 0.913827657699585, 0.9405729174613953, 0.04950384050607681, 0.9837836027145386, 0.9624799489974976, 0.8140331506729126, 0.9143502712249756, 0.9676724076271057, 0.5325793027877808, 0.9494543075561523, 0.9821798801422119, 0.9535158276557922, 0.7172067761421204, 0.2835468649864197, 0.2172788679599762, 0.014624539762735367, 0.05849815905094147, 0.03969517722725868, 0.47843137383461, 0.012535319663584232, 0.1775836944580078, 0.9510473012924194, 0.9597674608230591, 0.803253710269928, 0.9869676828384399, 0.8705428838729858, 0.8627185821533203, 0.9461854100227356, 0.12531998753547668, 0.14098498225212097, 0.7205899357795715, 0.19794224202632904, 0.49995720386505127, 0.12039785832166672, 0.07142245769500732, 0.10815401375293732, 0.8747390508651733, 0.16820068657398224, 0.02102508582174778, 0.8199782967567444, 0.32543888688087463, 0.06903249025344849, 0.04437803104519844, 0.05423981323838234, 0.14299587905406952, 0.18244300782680511, 0.13313408195972443, 0.04437803104519844, 0.0022308730985969305, 0.3770175278186798, 0.011154364794492722, 0.05577182397246361, 0.004461746197193861, 0.05131008103489876, 0.2030094414949417, 0.2297799289226532, 0.0646953210234642, 0.8824707269668579, 0.14567546546459198, 0.40060752630233765, 0.4552358388900757, 0.9516958594322205, 0.8686929941177368, 0.9784993529319763, 0.031049469485878944, 0.9314841032028198, 0.03737364336848259, 0.02262089028954506, 0.11507148295640945, 0.00393406767398119, 0.11802203953266144, 0.21145614981651306, 0.00786813534796238, 0.07966487109661102, 0.04229122772812843, 0.165230855345726, 0.09441763162612915, 0.02262089028954506, 0.07966487109661102, 0.45288369059562683, 0.9757663607597351, 0.2445453554391861, 0.12409763783216476, 0.1551220566034317, 0.02189958281815052, 0.02189958281815052, 0.05657392367720604, 0.16059695184230804, 0.09489819407463074, 0.11862274259328842, 0.9603286981582642, 0.03319144994020462, 0.5767014622688293, 0.020744657143950462, 0.07882969081401825, 0.1535104513168335, 0.13691473007202148, 0.892774760723114, 0.035474494099617004, 0.06799277663230896, 0.5015583634376526, 0.9424055814743042, 0.2787282168865204, 0.2654554545879364, 0.013272772543132305, 0.15595507621765137, 0.2555008828639984, 0.02654554508626461, 0.9274174571037292, 0.9767192602157593, 0.9955863356590271, 0.7870287299156189, 0.05724462866783142, 0.839587926864624, 0.09540771692991257, 0.8950650095939636, 0.9584774971008301, 0.8460196852684021, 0.11280262470245361, 0.9380552172660828, 0.019083943217992783, 0.9732811450958252, 0.07150348275899887, 0.08222900331020355, 0.18948422372341156, 0.321765661239624, 0.08937934786081314, 0.09295452386140823, 0.10725522041320801, 0.03932691365480423, 0.0035751739051193, 0.9622364640235901, 0.9858015775680542, 0.9624799489974976, 0.9876399636268616, 0.8954218029975891, 0.9538969397544861, 0.7967498302459717, 0.1593499630689621, 0.8075115084648132, 0.49150025844573975, 0.0379536896944046, 0.3491739332675934, 0.08349811285734177, 0.028465265408158302, 0.00948842242360115, 0.9450217485427856, 0.13740116357803345, 0.8473072052001953, 0.02404801733791828, 0.09018006920814514, 0.04809603467583656, 0.7274525165557861, 0.030060021206736565, 0.08416806161403656, 0.9923279285430908, 0.27465692162513733, 0.06338236480951309, 0.6602330207824707, 0.9436171650886536, 0.9902709722518921, 0.9797438383102417, 0.8954216241836548, 0.884736955165863, 0.36662277579307556, 0.3971746861934662, 0.2138632982969284, 0.9857068657875061, 0.8515180945396423, 0.016423851251602173, 0.09854310750961304, 0.12044157832860947, 0.7609717845916748, 0.3858027756214142, 0.13419227302074432, 0.46967294812202454, 0.134809210896492, 0.34665223956108093, 0.006419485900551081, 0.10271177440881729, 0.41084709763526917, 0.9954978823661804, 0.9848980903625488, 0.009736426174640656, 0.23367422819137573, 0.05841855704784393, 0.11683711409568787, 0.5744491219520569, 0.9573370814323425, 0.9682501554489136, 0.857922375202179, 0.2663175165653229, 0.17754501104354858, 0.0030611208640038967, 0.061222415417432785, 0.030611207708716393, 0.1163225919008255, 0.34284552931785583, 0.9355281591415405, 0.8850321769714355, 0.07866952568292618, 0.9917540550231934, 0.7811709046363831, 0.0768364816904068, 0.012806080281734467, 0.1152547225356102, 0.9888351559638977, 0.9629002213478088, 0.9842405915260315, 0.9874443411827087, 0.9812456965446472, 0.9029860496520996, 0.9748097658157349, 0.997666597366333, 0.9597674608230591, 0.9477975368499756, 0.09842301160097122, 0.7983199954032898, 0.02187177911400795, 0.0874871164560318, 0.9841630458831787, 0.43157950043678284, 0.11988319456577301, 0.16783647239208221, 0.23976638913154602, 0.884736955165863, 0.926945686340332, 0.9833490252494812, 0.06243456155061722, 0.9365184307098389, 0.8003724217414856, 0.2000931054353714, 0.8911144137382507, 0.502564549446106, 0.9168985486030579, 0.8960846662521362, 0.9047987461090088, 0.09429632127285004, 0.16501855850219727, 0.011787040159106255, 0.7190093994140625, 0.9147664904594421, 0.618888258934021, 0.2044813632965088, 0.6805394887924194, 0.11182574182748795, 0.12683510780334473, 0.1585438847541809, 0.03170877695083618, 0.6658843159675598, 0.053963858634233475, 0.5576265454292297, 0.00899397674947977, 0.06295783817768097, 0.12591567635536194, 0.06295783817768097, 0.09893374145030975, 0.9204850792884827, 0.23256978392601013, 0.3617752194404602, 0.23256978392601013, 0.1550465226173401, 0.5676448345184326, 0.9710562825202942, 0.9922531247138977, 0.9226235151290894, 0.9014613628387451, 0.22554799914360046, 0.4922432601451874, 0.07619864493608475, 0.11125002801418304, 0.07467467337846756, 0.01981164887547493, 0.4127810001373291, 0.020639048889279366, 0.5675738453865051, 0.0042395805940032005, 0.5405465364456177, 0.10386972874403, 0.14414574205875397, 0.2056196630001068, 0.8952051997184753, 0.8339368104934692, 0.9244005680084229, 0.8821042776107788, 0.9744798541069031, 0.1470344066619873, 0.5241343975067139, 0.013838531449437141, 0.1626027524471283, 0.1522238552570343, 0.8984837532043457, 0.979227602481842, 0.9885813593864441, 0.011066208593547344, 0.7692987322807312, 0.048779986798763275, 0.8070870637893677, 0.14190541207790375, 0.9614803194999695, 0.8862029910087585, 0.09730871021747589, 0.38923484086990356, 0.44483983516693115, 0.055604979395866394, 0.9976508021354675, 0.9528349041938782, 0.9965423941612244, 0.9614521861076355, 0.11475315690040588, 0.03825105354189873, 0.44059547781944275, 0.038959406316280365, 0.02337564341723919, 0.11829492449760437, 0.1756715029478073, 0.011333645321428776, 0.029750818386673927, 0.00495846988633275, 0.004250117111951113, 0.9738172888755798, 0.2674829959869385, 0.09552964568138123, 0.2674829959869385, 0.21016521751880646, 0.15284742414951324, 0.9122551083564758, 0.9671189188957214, 0.9645934104919434, 0.973164439201355, 0.7009734511375427, 0.2642298638820648, 0.5318043828010559, 0.11037449538707733, 0.06689362972974777, 0.02675745263695717, 0.9150209426879883, 0.9943718910217285, 0.9662110209465027, 0.7832769751548767, 0.3394099473953247, 0.5091149210929871, 0.22154036164283752, 0.2642224431037903, 0.2256053239107132, 0.1016240194439888, 0.12804625928401947, 0.058941930532455444, 0.7238998413085938, 0.24129994213581085, 0.7469093799591064, 0.46700453758239746, 0.1807759553194046, 0.004304189234972, 0.05810655653476715, 0.004304189234972, 0.2840764820575714, 0.9753009676933289, 0.3202486038208008, 0.011043055914342403, 0.17668889462947845, 0.007362036965787411, 0.022086111828684807, 0.014724073931574821, 0.2613523304462433, 0.08834444731473923, 0.09570648521184921, 0.9355185627937317, 0.980381965637207, 0.9617226123809814, 0.09023091197013855, 0.02160458452999592, 0.4257373809814453, 0.1308983564376831, 0.05464688688516617, 0.09658519923686981, 0.011437720619142056, 0.12835665047168732, 0.02287544123828411, 0.019062867388129234, 0.9916601181030273, 0.09526921063661575, 0.8500944972038269, 0.03664200380444527, 0.014656801708042622, 0.8840155005455017, 0.04677330702543259, 0.051450639963150024, 0.014031992293894291, 0.17771798372268677, 0.08885899186134338, 0.06664424389600754, 0.6442276835441589, 0.011779231950640678, 0.34748733043670654, 0.035337693989276886, 0.6066304445266724, 0.8685130476951599, 0.9455243945121765, 0.7288585305213928, 0.033319246023893356, 0.12911207973957062, 0.0583086796104908, 0.049978870898485184, 0.23771733045578003, 0.47543466091156006, 0.011296230368316174, 0.2315727323293686, 0.1863878071308136, 0.03577139601111412, 0.18073968589305878, 0.033888690173625946, 0.2824057638645172, 0.033888690173625946, 0.003765410277992487, 0.4589940905570984, 0.06761966645717621, 0.08401231467723846, 0.026638049632310867, 0.27047866582870483, 0.06966874748468399, 0.022539887577295303, 0.16834944486618042, 0.24049921333789825, 0.5892230868339539, 0.17590764164924622, 0.35181528329849243, 0.33422452211380005, 0.10554458200931549, 0.052772291004657745, 0.977356493473053, 0.9419080018997192, 0.4892885684967041, 0.10008174926042557, 0.3336058259010315, 0.06672117114067078, 0.9177883863449097, 0.8428012728691101, 0.6633622050285339, 0.07044554501771927, 0.08218646794557571, 0.016437293961644173, 0.11506105214357376, 0.04931188002228737, 0.0023481848184019327, 0.9355185627937317, 0.8772881031036377, 0.927997350692749, 0.7194157242774963, 0.23980523645877838, 0.1347954422235489, 0.2310779094696045, 0.08344480395317078, 0.01925649307668209, 0.3273603618144989, 0.14763310551643372, 0.06418830901384354, 0.949556291103363, 0.03432131186127663, 0.9226236939430237, 0.9502314925193787, 0.03132631257176399, 0.38779476284980774, 0.13428117334842682, 0.033570293337106705, 0.013891155831515789, 0.016206348314881325, 0.03704308345913887, 0.03935827314853668, 0.251198410987854, 0.08450452983379364, 0.8363184928894043, 0.1493425816297531, 0.014015249907970428, 0.2709614932537079, 0.26628974080085754, 0.007007624953985214, 0.19387762248516083, 0.004671750124543905, 0.03036637417972088, 0.06306862831115723, 0.14949600398540497, 0.8408506512641907, 0.08219540119171143, 0.10959386825561523, 0.1878751963376999, 0.4892583191394806, 0.11350793391466141, 0.011742199771106243, 0.04747435078024864, 0.02181253954768181, 0.09623178839683533, 0.0012830905616283417, 0.16808485984802246, 0.07441925257444382, 0.006415452808141708, 0.3913426101207733, 0.09109942615032196, 0.0153970867395401, 0.050040531903505325, 0.034643445163965225, 0.07901965081691742, 0.9008240103721619, 0.6616501212120056, 0.31341320276260376, 0.9696485996246338, 0.029683120548725128, 0.8489325046539307, 0.5916950702667236, 0.3803754150867462, 0.9811668992042542, 0.0688849687576294, 0.9299470782279968, 0.1939893215894699, 0.7660091519355774, 0.004974085371941328, 0.014922255650162697, 0.019896341487765312, 0.9885333776473999, 0.20034269988536835, 0.0761866569519043, 0.21445132791996002, 0.008465183898806572, 0.12415603548288345, 0.14955158531665802, 0.19187751412391663, 0.03386073559522629, 0.9622364640235901, 0.0770496279001236, 0.004918061196804047, 0.049180611968040466, 0.03934448957443237, 0.29344433546066284, 0.01311483047902584, 0.08360704034566879, 0.10491864383220673, 0.19508309662342072, 0.10983670502901077, 0.02950836718082428, 0.9579023718833923, 0.22281920909881592, 0.04951538145542145, 0.07427307218313217, 0.016505127772688866, 0.5859320163726807, 0.04951538145542145, 0.82473224401474, 0.012549502775073051, 0.40785884857177734, 0.3419739603996277, 0.006274751387536526, 0.09412126988172531, 0.009412126615643501, 0.006274751387536526, 0.006274751387536526, 0.06588488817214966, 0.047060634940862656, 0.013503276742994785, 0.09452293813228607, 0.07426802068948746, 0.5738892555236816, 0.18904587626457214, 0.05401310697197914, 0.9677088260650635, 0.7381907105445862, 0.1233493760228157, 0.2735138237476349, 0.4049077332019806, 0.01072603277862072, 0.07776373624801636, 0.09385278820991516, 0.013407540507614613, 0.968908965587616, 0.9984976649284363, 0.9953060746192932, 0.8850048780441284, 0.7581073045730591, 0.19219622015953064, 0.04271027073264122, 0.9355281591415405, 0.9558303356170654, 0.9826949834823608, 0.9749833941459656, 0.9450201988220215, 0.9874768853187561, 0.9631468057632446, 0.9358426332473755, 0.023506280034780502, 0.386547714471817, 0.18282662332057953, 0.041788943111896515, 0.09663692861795425, 0.11230777949094772, 0.15670853853225708, 0.6744285225868225, 0.09229021519422531, 0.11358796060085297, 0.04259548336267471, 0.07809171825647354, 0.8456854820251465, 0.0843307375907898, 0.8757423162460327, 0.03892188146710396, 0.9084919095039368, 0.050471771508455276, 0.9592286348342896, 0.9405750036239624, 0.9204850792884827, 0.9245416522026062, 0.0682038962841034, 0.9709733128547668, 0.4016436040401459, 0.17973092198371887, 0.15588906407356262, 0.06602360308170319, 0.04401573911309242, 0.007335956208407879, 0.03301180154085159, 0.06602360308170319, 0.04584972560405731, 0.9913809895515442, 0.19928430020809174, 0.07473161071538925, 0.29269883036613464, 0.42659294605255127, 0.0031138171907514334, 0.43026530742645264, 0.5531982183456421, 0.9866721630096436, 0.9827517867088318, 0.23553772270679474, 0.17573799192905426, 0.29289665818214417, 0.19038282334804535, 0.007322416175156832, 0.008542818948626518, 0.08786899596452713, 0.885288655757904, 0.9536203742027283, 0.9880399703979492, 0.5750276446342468, 0.2875138223171234, 0.9302057027816772, 0.6664465665817261, 0.9560421705245972, 0.9551148414611816, 0.04496321454644203, 0.5605413913726807, 0.0889272466301918, 0.06494686752557755, 0.0009991825791075826, 0.0009991825791075826, 0.009991825558245182, 0.014987737871706486, 0.21282587945461273, 0.9209949374198914, 0.971093475818634, 0.9650047421455383, 0.9479137063026428, 0.9355281591415405, 0.6589748859405518, 0.9850342273712158, 0.5475578308105469, 0.3149827718734741, 0.0705561414361, 0.05039724335074425, 0.02015889622271061, 0.36286014318466187, 0.0327582061290741, 0.14615200459957123, 0.7832769751548767, 0.04229871928691864, 0.5611630082130432, 0.09869701415300369, 0.2002139389514923, 0.08177752047777176, 0.014099572785198689, 0.9628807902336121, 0.9978302717208862, 0.9678656458854675, 0.9938210248947144, 0.43694213032722473, 0.3219573497772217, 0.22996953129768372, 0.6393540501594543, 0.21311801671981812, 0.1420786827802658, 0.9780806303024292, 0.9665731191635132, 0.8620948791503906, 0.845060408115387, 0.018269458785653114, 0.5458000898361206, 0.10733307152986526, 0.06280126422643661, 0.007992888800799847, 0.009134729392826557, 0.05138285458087921, 0.009134729392826557, 0.18612012267112732, 0.9096267819404602, 0.8083444237709045, 0.9453200101852417, 0.011279702186584473, 0.2749427258968353, 0.009869739413261414, 0.012689664959907532, 0.01550959050655365, 0.09587746858596802, 0.22559404373168945, 0.01691955327987671, 0.01550959050655365, 0.008459776639938354, 0.3130117356777191, 0.9774389266967773, 0.818403959274292, 0.8745104670524597, 0.06246503069996834, 0.9856893420219421, 0.9305886626243591, 0.0017847346607595682, 0.8406100273132324, 0.0684148296713829, 0.02201172709465027, 0.010708408430218697, 0.02855575457215309, 0.01963208056986332, 0.007138938643038273, 0.977356493473053, 0.926945686340332, 0.8081800937652588, 0.17959557473659515, 0.0457959920167923, 0.915919840335846, 0.9809426665306091, 0.2648065388202667, 0.7355737090110779, 0.9501547813415527, 0.9698328375816345, 0.9630458354949951, 0.4528837502002716, 0.1611923724412918, 0.2747597396373749, 0.0036634630523622036, 0.007326926104724407, 0.07693272829055786, 0.08792311698198318, 0.010990389622747898, 0.37000977993011475, 0.8925881385803223, 0.8483434319496155, 0.08211185783147812, 0.42950817942619324, 0.41687557101249695, 0.06947926431894302, 0.9873443245887756, 0.993178129196167, 0.9868080615997314, 0.9640390872955322, 0.9711511135101318, 0.9419080018997192, 0.9684938192367554, 0.761698305606842, 0.16926629841327667, 0.7405135631561279, 0.016262700781226158, 0.191538468003273, 0.4535486400127411, 0.0072278669103980064, 0.24574746191501617, 0.07227867096662521, 0.010841799899935722, 0.9646778106689453, 0.006316155660897493, 0.30738624930381775, 0.06737232208251953, 0.528451681137085, 0.08842618018388748, 0.29930877685546875, 0.09655121713876724, 0.5986175537109375, 0.9968448877334595, 0.8574833869934082, 0.5070924162864685, 0.9483792781829834, 0.9796056747436523, 0.1994706243276596, 0.11398321390151978, 0.13108070194721222, 0.5528185963630676, 0.8984837532043457, 0.8925886154174805, 0.985464870929718, 0.9765949249267578, 0.12459766864776611, 0.7787354588508606, 0.06229883432388306, 0.9551894664764404, 0.974474310874939, 0.618888258934021, 0.9917902946472168, 0.1865236461162567, 0.03730472922325134, 0.11657727509737015, 0.004663091152906418, 0.6295173168182373, 0.02331545576453209, 0.22700253129005432, 0.22700253129005432, 0.07751305401325226, 0.11073294281959534, 0.3543454110622406, 0.7837373614311218, 0.8736468553543091, 0.005027358885854483, 0.33515724539756775, 0.09049245715141296, 0.010054717771708965, 0.1524965465068817, 0.033515725284814835, 0.1256839781999588, 0.04189465567469597, 0.20612171292304993, 0.7511984705924988, 0.9958762526512146, 0.9198328256607056, 0.9860777854919434, 0.9955779314041138, 0.2510738670825958, 0.2305314689874649, 0.07418091595172882, 0.027389876544475555, 0.21911901235580444, 0.17118673026561737, 0.01141244824975729, 0.013694938272237778, 0.6469865441322327, 0.8391205668449402, 0.9301160573959351, 0.21361929178237915, 0.2817956805229187, 0.1227174699306488, 0.04999600350856781, 0.32270148396492004, 0.004545091185718775, 0.04403573274612427, 0.10348397493362427, 0.25981083512306213, 0.0330267995595932, 0.0330267995595932, 0.23999474942684174, 0.028623227030038834, 0.10128218680620193, 0.0066053601913154125, 0.0066053601913154125, 0.10128218680620193, 0.04403573274612427, 0.9860158562660217, 0.5581046342849731, 0.3488154113292694, 0.08154411613941193, 0.10328921675682068, 0.054362744092941284, 0.2881225347518921, 0.013590686023235321, 0.1359068602323532, 0.15493382513523102, 0.16852450370788574, 0.9694024324417114, 0.9341378808021545, 0.43559595942497253, 0.3985239565372467, 0.16682398319244385, 0.25293779373168945, 0.13730908930301666, 0.3252057135105133, 0.28184497356414795, 0.053122714161872864, 0.21249085664749146, 0.1593681424856186, 0.10624542832374573, 0.053122714161872864, 0.3984203636646271, 0.011069387197494507, 0.09962447732686996, 0.12176325172185898, 0.7195101380348206, 0.04427754878997803, 0.7929685115814209, 0.9148140549659729, 0.9925673007965088, 0.7832769751548767, 0.8848702907562256, 0.9901296496391296, 0.7867612242698669, 0.2118203341960907, 0.1890924572944641, 0.7983903884887695, 0.9592129588127136, 0.82888263463974, 0.8433026671409607, 0.2656550109386444, 0.041945528239011765, 0.09787289798259735, 0.15380026400089264, 0.1957457959651947, 0.23769132792949677, 0.960942268371582, 0.9658290147781372, 0.3202209770679474, 0.04468199610710144, 0.08936399221420288, 0.5361839532852173, 0.9832051396369934, 0.954125165939331, 0.9911770224571228, 0.9826456904411316, 0.8113989233970642, 0.33871161937713623, 0.25659969449043274, 0.40029552578926086, 0.7832769751548767, 0.9933773279190063, 0.6528368592262268, 0.9868963360786438, 0.9623478651046753, 0.10151537507772446, 0.08589762449264526, 0.5809803009033203, 0.06559454649686813, 0.13899797201156616, 0.02498839981853962, 0.2975459694862366, 0.019219476729631424, 0.14450198411941528, 0.20714324712753296, 0.027761466801166534, 0.2455821931362152, 0.004982827231287956, 0.034879788756370544, 0.002135497285053134, 0.011389319784939289, 0.004270994570106268, 0.0007118324865587056, 0.8327345848083496, 0.07166977971792221, 0.0921468585729599, 0.004156085662543774, 0.6764029264450073, 0.16728244721889496, 0.07896562665700912, 0.03740477189421654, 0.0342877060174942, 0.9552665948867798, 0.012681599706411362, 0.025363199412822723, 0.5114911794662476, 0.44808319211006165, 0.9680063128471375, 0.9758432507514954, 0.2819511592388153, 0.1915140002965927, 0.2819511592388153, 0.05319833382964134, 0.18087433278560638, 0.5660937428474426, 0.41712167859077454, 0.9600388407707214, 0.07230253517627716, 0.09915775805711746, 0.6796438097953796, 0.060940708965063095, 0.002065786626189947, 0.042348627001047134, 0.0268552266061306, 0.015493400394916534, 0.04205923154950142, 0.1577221155166626, 0.788610577583313, 0.8624129891395569, 0.05188313499093056, 0.005764792673289776, 0.008070710115134716, 0.041506506502628326, 0.031129881739616394, 0.9985275268554688, 0.3296460211277008, 0.27377381920814514, 0.050284989178180695, 0.0335233248770237, 0.12850607931613922, 0.06145942956209183, 0.11733163893222809, 0.832603931427002, 0.7267469763755798, 0.9887407422065735, 0.7461133599281311, 0.2439216673374176, 0.730842649936676, 0.6187668442726135, 0.0642116516828537, 0.020430980250239372, 0.20722851157188416, 0.020430980250239372, 0.055455517023801804, 0.011674845591187477, 0.07805879414081573, 0.015108154155313969, 0.19388797879219055, 0.0881308987736702, 0.037770386785268784, 0.39029398560523987, 0.05791459232568741, 0.03525235876441002, 0.07805879414081573, 0.020144205540418625, 0.002518025692552328, 0.9920390248298645, 0.9406100511550903, 0.45288369059562683, 0.058588992804288864, 0.19920256733894348, 0.07030679285526276, 0.40426403284072876, 0.26365047693252563, 0.9925230145454407, 0.032262057065963745, 0.9642769694328308, 0.01957784593105316, 0.2691953778266907, 0.22759246826171875, 0.4527377188205719, 0.0244723092764616, 0.00489446148276329, 0.06906130909919739, 0.011839081533253193, 0.9135825037956238, 0.003946360666304827, 0.6494500041007996, 0.25988104939460754, 0.12994052469730377, 0.591951310634613, 0.014437836594879627, 0.9896284937858582, 0.04296990483999252, 0.9453378915786743, 0.9726958870887756, 0.9642314314842224, 0.8561916351318359, 0.0910053476691246, 0.011870263144373894, 0.6172536611557007, 0.11078912019729614, 0.04945943132042885, 0.02967565879225731, 0.08704859763383865, 0.0039567542262375355, 0.7170132398605347, 0.2688799500465393, 0.7694713473320007, 0.9530789256095886, 0.9817178845405579, 0.9224288463592529, 0.059594374150037766, 0.9386113882064819, 0.618888258934021, 0.47079429030418396, 0.36744919419288635, 0.045931149274110794, 0.008612090721726418, 0.060284633189439774, 0.04306045174598694, 0.8341064453125, 0.8400338888168335, 0.9842289686203003, 0.5805972814559937, 0.3694709837436676, 0.9856749176979065, 0.9679955244064331, 0.9738599061965942, 0.9221754670143127, 0.1618492603302002, 0.0809246301651001, 0.1618492603302002, 0.5934473276138306, 0.4528837502002716, 0.8988127112388611, 0.9452219605445862, 0.8984837532043457, 0.9460338950157166, 0.9580200910568237, 0.9893521070480347, 0.9878318309783936, 0.9777225255966187, 0.9331294894218445, 0.04911207780241966, 0.17016926407814026, 0.41266047954559326, 0.25099965929985046, 0.16591502726078033, 0.719187319278717, 0.19614198803901672, 0.9752577543258667, 0.1126173660159111, 0.8784154653549194, 0.9244006276130676, 0.955233097076416, 0.5615965127944946, 0.04404100030660629, 0.036033544689416885, 0.1641528159379959, 0.15013977885246277, 0.08007454872131348, 0.07406895607709885, 0.08207640796899796, 0.036033544689416885, 0.04404100030660629, 0.008007454685866833, 0.28226277232170105, 0.9799522757530212, 0.9453427791595459, 0.9688012599945068, 0.8897074460983276, 0.8626773953437805, 0.04766329750418663, 0.07943882793188095, 0.8208678960800171, 0.04236737638711929, 0.005295922048389912, 0.9286113381385803, 0.3270835280418396, 0.08752939850091934, 0.09674301743507385, 0.09674301743507385, 0.2026996612548828, 0.18887922167778015, 0.652836799621582, 0.1456291228532791, 0.8009601831436157, 0.04652317613363266, 0.07443708181381226, 0.2744867503643036, 0.002326158806681633, 0.09072019904851913, 0.009304635226726532, 0.1512003242969513, 0.0814155638217926, 0.08606787770986557, 0.1093294695019722, 0.07443708181381226, 0.7284057140350342, 0.35584428906440735, 0.1855473816394806, 0.08896107226610184, 0.027959194034337997, 0.09404455870389938, 0.2312987893819809, 0.012708724476397038, 0.9577823281288147, 0.29094088077545166, 0.039316337555646896, 0.4953858256340027, 0.16512861847877502, 0.85699063539505, 0.043190840631723404, 0.0020567066967487335, 0.22418102622032166, 0.0061701200902462006, 0.31673282384872437, 0.16864994168281555, 0.0185103602707386, 0.05964449420571327, 0.11517557501792908, 0.024680480360984802, 0.0185103602707386, 0.051099613308906555, 0.3014877140522003, 0.34747737646102905, 0.038324709981679916, 0.030659768730401993, 0.0332147479057312, 0.0025549805723130703, 0.0025549805723130703, 0.1941785365343094, 0.970389187335968, 0.7832769751548767, 0.1724344789981842, 0.27481746673583984, 0.03233146667480469, 0.30714893341064453, 0.005388577468693256, 0.005388577468693256, 0.1993773728609085, 0.7835130095481873, 0.20439469814300537, 0.9786737561225891, 0.9489375352859497, 0.8713237047195435, 0.9419080018997192, 0.26699578762054443, 0.594672441482544, 0.07888512313365936, 0.05461277812719345, 0.09344974160194397, 0.8877725601196289, 0.9665731191635132, 0.7953768372535706, 0.17675040662288666, 0.9630458354949951, 0.336987167596817, 0.6586567759513855, 0.2265106588602066, 0.2813500761985779, 0.3695700168609619, 0.03338051959872246, 0.08583562076091766, 0.43407416343688965, 0.5642964243888855, 0.980487048625946, 0.9387136101722717, 0.9608920812606812, 0.9932811856269836, 0.023350410163402557, 0.40279456973075867, 0.03210681304335594, 0.07588882744312286, 0.03794441372156143, 0.014594005420804024, 0.29771772027015686, 0.011675205081701279, 0.10215803980827332, 0.8445093631744385, 0.618888258934021, 0.05924905464053154, 0.8887357711791992, 0.7762464284896851, 0.6024646162986755, 0.6528368592262268, 0.20052389800548553, 0.08522265404462814, 0.3509168028831482, 0.010026194155216217, 0.2356155663728714, 0.1153012365102768, 0.9937766790390015, 0.9681609272956848, 0.9734225273132324, 0.24307610094547272, 0.7292283177375793, 0.9811040759086609, 0.9861488342285156, 0.035450924187898636, 0.9622393250465393, 0.9822368621826172, 0.9397561550140381, 0.19738472998142242, 0.1928987056016922, 0.2691609859466553, 0.3364512324333191, 0.9244005680084229, 0.9895759224891663, 0.9891618490219116, 0.9219935536384583, 0.9696704745292664, 0.8695753812789917, 0.028118276968598366, 0.05623655393719673, 0.5764246582984924, 0.1968279480934143, 0.05623655393719673, 0.07029569149017334, 0.9597674608230591, 0.9827730655670166, 0.0628437027335167, 0.03446267545223236, 0.3425995409488678, 0.11555132269859314, 0.06892535090446472, 0.0020272161345928907, 0.1925855427980423, 0.006081648636609316, 0.006081648636609316, 0.170286163687706, 0.9953847527503967, 0.9606074094772339, 0.02389826998114586, 0.6042848229408264, 0.017070192843675613, 0.02389826998114586, 0.017070192843675613, 0.0034140385687351227, 0.3038494288921356, 0.9597674608230591, 0.5588593482971191, 0.06510982662439346, 0.37438151240348816, 0.8177181482315063, 0.024630064144730568, 0.0541861429810524, 0.01477803848683834, 0.08374221622943878, 0.9501194953918457, 0.009542349725961685, 0.23219718039035797, 0.21947404742240906, 0.058844491839408875, 0.0222654826939106, 0.16699112951755524, 0.09383310377597809, 0.186075821518898, 0.007951958104968071, 0.09307484328746796, 0.21717463433742523, 0.6825488805770874, 0.20710144937038422, 0.027250191196799278, 0.01907513290643692, 0.051775362342596054, 0.4605282247066498, 0.14715102314949036, 0.043600305914878845, 0.04087528586387634, 0.9843806028366089, 0.7002480030059814, 0.23341600596904755, 0.9953644275665283, 0.058280762284994125, 0.6440024375915527, 0.03205442056059837, 0.2039826661348343, 0.06119479984045029, 0.9837206602096558, 0.278344988822937, 0.6958625316619873, 0.9862080216407776, 0.9507120847702026, 0.11667382717132568, 0.003995678853243589, 0.02956802397966385, 0.42514023184776306, 0.09909283369779587, 0.0023974073119461536, 0.06552913039922714, 0.051144689321517944, 0.0031965430825948715, 0.019978394731879234, 0.18300209939479828, 0.04126777872443199, 0.4444222152233124, 0.3333166837692261, 0.09840778261423111, 0.08253555744886398, 0.6065627336502075, 0.05869962275028229, 0.01712072268128395, 0.04157890006899834, 0.2763773798942566, 0.981867253780365, 0.9824592471122742, 0.9579907655715942, 0.03378668054938316, 0.003556492505595088, 0.007112985011190176, 0.12625548243522644, 0.3129713535308838, 0.06757336109876633, 0.02133895456790924, 0.14759443700313568, 0.1031382828950882, 0.17604638636112213, 0.4777902066707611, 0.1638137847185135, 0.3549298644065857, 0.05178253725171089, 0.010242699645459652, 0.05576580762863159, 0.039832718670368195, 0.0034142332151532173, 0.03641848638653755, 0.5422940254211426, 0.10356507450342178, 0.10754834115505219, 0.009104621596634388, 0.04040176048874855, 0.029035797342658043, 0.8855918049812317, 0.07258949428796768, 0.9925476908683777, 0.954308807849884, 0.9538874626159668, 0.6378121972084045, 0.9110949635505676, 0.1408015936613083, 0.3233221769332886, 0.041718989610672, 0.49019813537597656, 0.9381500482559204, 0.3994027078151703, 0.01978173851966858, 0.03862148895859718, 0.058403223752975464, 0.18839749693870544, 0.062171176075935364, 0.03296956419944763, 0.014129812829196453, 0.07253304123878479, 0.01789776235818863, 0.024491675198078156, 0.07064906507730484, 0.3492533266544342, 0.6330216526985168, 0.9443858861923218, 0.9728155136108398, 0.9917225241661072, 0.8138153553009033, 0.9586156606674194, 0.03622104972600937, 0.9417473077774048, 0.038781244307756424, 0.9307498335838318, 0.04005080834031105, 0.7734812498092651, 0.12015242874622345, 0.052566688507795334, 0.007509526796638966, 0.0025031755212694407, 0.884010374546051, 0.10392250865697861, 0.7967392206192017, 0.09237556159496307, 0.7650251984596252, 0.061820220202207565, 0.061820220202207565, 0.10045785456895828, 0.007727527525275946, 0.9863234162330627, 0.7553724050521851, 0.6262556314468384, 0.009170016273856163, 0.05196342617273331, 0.1986836940050125, 0.6113344430923462, 0.03973674029111862, 0.0733601301908493, 0.015283361077308655, 0.979598879814148, 0.8984837532043457, 0.9546090960502625, 0.5250278115272522, 0.9824715852737427, 0.9732677340507507, 0.03398439660668373, 0.6881840229034424, 0.27187517285346985, 0.8333817720413208, 0.761867880821228, 0.9916707277297974, 0.9698535203933716, 0.01989135704934597, 0.20885924994945526, 0.16907653212547302, 0.59674072265625, 0.970117449760437, 0.6182395219802856, 0.25456923246383667, 0.10910109430551529, 0.9447618722915649, 0.7958447337150574, 0.1836564689874649, 0.6528368592262268, 0.3049916625022888, 0.20116472244262695, 0.058402661234140396, 0.03244592249393463, 0.25956737995147705, 0.14276206493377686, 0.7832769751548767, 0.9461650252342224, 0.9949564337730408, 0.6262555718421936, 0.4528837502002716, 0.9003888964653015, 0.8614310622215271, 0.9153692126274109, 0.8943747878074646, 0.9267649054527283, 0.9432737827301025, 0.8158696889877319, 0.7929685115814209, 0.03674560412764549, 0.7950412631034851, 0.020043056458234787, 0.016702547669410706, 0.12693935632705688, 0.7832769751548767, 0.044719889760017395, 0.012777110561728477, 0.06867697089910507, 0.29866495728492737, 0.13735394179821014, 0.011179972440004349, 0.24595938622951508, 0.13735394179821014, 0.03833133354783058, 0.0015971388202160597, 0.9957742094993591, 0.48209917545318604, 0.48209917545318604, 0.8851215839385986, 0.04277666658163071, 0.05560966581106186, 0.2951589822769165, 0.10266400128602982, 0.10266400128602982, 0.04277666658163071, 0.08127566426992416, 0.029943665489554405, 0.021388333290815353, 0.2267163246870041, 0.908949613571167, 0.08593656122684479, 0.9023338556289673, 0.98150634765625, 0.9826818108558655, 0.6606107950210571, 0.33877477049827576, 0.9667553305625916, 0.8328215479850769, 0.5115126371383667, 0.3809136748313904, 0.09794922918081284, 0.9859519600868225, 0.8596294522285461, 0.9615335464477539, 0.008304732851684093, 0.029897037893533707, 0.3936443328857422, 0.20429642498493195, 0.051489342004060745, 0.04318460822105408, 0.05979407578706741, 0.05481123551726341, 0.14450234174728394, 0.011626625433564186, 0.9668513536453247, 0.039187248796224594, 0.9535564184188843, 0.31353193521499634, 0.10451064258813858, 0.08491490036249161, 0.27107447385787964, 0.21228724718093872, 0.013063830323517323, 0.16838613152503967, 0.13470891118049622, 0.44622325897216797, 0.24415989220142365, 0.9805762767791748, 0.03782569617033005, 0.016548743471503258, 0.5390161871910095, 0.08510781824588776, 0.02127695456147194, 0.05201033502817154, 0.05673854798078537, 0.18912848830223083, 0.9488505125045776, 0.2765346169471741, 0.706699550151825, 0.9671877026557922, 0.4092997908592224, 0.5457330346107483, 0.03354364633560181, 0.12578867375850677, 0.5450842380523682, 0.18868301808834076, 0.008385911583900452, 0.0964379832148552, 0.6528368592262268, 0.8291071057319641, 0.0073537677526474, 0.4007803499698639, 0.07169923931360245, 0.3051813542842865, 0.04228416457772255, 0.0220613032579422, 0.01286909356713295, 0.0073537677526474, 0.11949872970581055, 0.0147075355052948, 0.9565895795822144, 0.9419002532958984, 0.8802511692047119, 0.9696641564369202, 0.7759130597114563, 0.657318115234375, 0.28801217675209045, 0.01625875197350979, 0.0348401814699173, 0.6569428443908691, 0.9950848817825317, 0.9663766622543335, 0.707722008228302, 0.0015588590176776052, 0.07014865428209305, 0.05144234746694565, 0.0280594639480114, 0.1387384533882141, 0.9932429194450378, 0.9165260791778564, 0.9687978029251099, 0.7694713473320007, 0.3091953992843628, 0.6030588150024414, 0.0868813544511795, 0.9954712986946106, 0.04284331947565079, 0.25093942880630493, 0.12240948528051376, 0.024481896311044693, 0.05508426949381828, 0.04284331947565079, 0.45903557538986206, 0.03467795252799988, 0.10403386503458023, 0.452739953994751, 0.10788697004318237, 0.028256110846996307, 0.08605270087718964, 0.05715440586209297, 0.0032109215389937162, 0.004495290108025074, 0.015412423759698868, 0.08284177631139755, 0.022476451471447945, 0.9615646600723267, 0.8421384692192078, 0.021915215998888016, 0.1534065157175064, 0.21038608253002167, 0.1380658596754074, 0.07889477908611298, 0.09642695635557175, 0.09861847758293152, 0.02848978154361248, 0.17093868553638458, 0.9958662390708923, 0.9837206602096558, 0.7808552980422974, 0.21773849427700043, 0.9568480849266052, 0.9416791200637817, 0.9733709692955017, 0.9889091849327087, 0.43261149525642395, 0.5505964159965515, 0.9745634198188782, 0.9287318587303162, 0.9794696569442749, 0.019111603498458862, 0.618888258934021, 0.9244005680084229, 0.9209949374198914, 0.99455726146698, 0.9962092638015747, 0.8684500455856323, 0.9636042714118958, 0.950607419013977, 0.9773564338684082, 0.9583166837692261, 0.9355185627937317, 0.3161555826663971, 0.04863931983709335, 0.6323111653327942, 0.9252910614013672, 0.9527045488357544, 0.04308713972568512, 0.2505447268486023, 0.14737924933433533, 0.5968859791755676, 0.9940241575241089, 0.1661171168088913, 0.03559652343392372, 0.08305855840444565, 0.03559652343392372, 0.11865507811307907, 0.367830753326416, 0.20171363651752472, 0.048707760870456696, 0.7793241739273071, 0.16235920786857605, 0.25474047660827637, 0.0747607946395874, 0.3239634335041046, 0.005537836812436581, 0.0027689184062182903, 0.03876485675573349, 0.11352565139532089, 0.058147285133600235, 0.08029863238334656, 0.022151347249746323, 0.022151347249746323, 0.39041051268577576, 0.24025262892246246, 0.33034735918045044, 0.17353202402591705, 0.023999109864234924, 0.04430604726076126, 0.37106314301490784, 0.14214856922626495, 0.027691280469298363, 0.027691280469298363, 0.11814945936203003, 0.05353647470474243, 0.005538255907595158, 0.009230426512658596, 0.7849642634391785, 0.9506992697715759, 0.9176080226898193, 0.8669226765632629, 0.05376264452934265, 0.07392363995313644, 0.7759130597114563, 0.16065363585948944, 0.06024511530995369, 0.0468573123216629, 0.12049023061990738, 0.1238371804356575, 0.08032681792974472, 0.3715115189552307, 0.016734754666686058, 0.016734754666686058, 0.4025724232196808, 0.08946053683757782, 0.4920329451560974, 0.9082317352294922, 0.8613060712814331, 0.9176343679428101, 0.0628516674041748, 0.04585253819823265, 0.2112175077199936, 0.3845697045326233, 0.010057976469397545, 0.04052772745490074, 0.0008874685154296458, 0.041119374334812164, 0.23310840129852295, 0.025144942104816437, 0.007099748123437166, 0.6876250505447388, 0.9375210404396057, 0.24535323679447174, 0.13262337446212769, 0.616698682308197, 0.01814444735646248, 0.47175562381744385, 0.006048148963600397, 0.02419259585440159, 0.3628889322280884, 0.015120372176170349, 0.10281853377819061, 0.9857378602027893, 0.9912670254707336, 0.29021430015563965, 0.07914935797452927, 0.6244004368782043, 0.963554859161377, 0.9610667824745178, 0.9011449217796326, 0.10915462672710419, 0.14767979085445404, 0.20546752214431763, 0.05778774246573448, 0.19262580573558807, 0.25041353702545166, 0.03210430219769478, 0.07526625692844391, 0.22579877078533173, 0.08153844624757767, 0.006272188387811184, 0.6084022521972656, 0.012678778730332851, 0.054337624460458755, 0.22278426587581635, 0.023546304553747177, 0.0181125421077013, 0.1684466302394867, 0.010867524892091751, 0.010867524892091751, 0.3151582181453705, 0.161201611161232, 0.0018112541874870658, 0.988238513469696, 0.03940248489379883, 0.08274522423744202, 0.16549044847488403, 0.126087948679924, 0.2876381576061249, 0.0945659652352333, 0.035462237894535065, 0.16549044847488403, 0.9630134105682373, 0.03320735692977905, 0.9944909811019897, 0.9885295629501343, 0.5447364449501038, 0.2913706600666046, 0.04162437841296196, 0.02714633382856846, 0.07419998198747635, 0.01809755712747574, 0.9904161691665649, 0.9658602476119995, 0.9838716387748718, 0.041914403438568115, 0.9221168756484985, 0.27049845457077026, 0.5804446339607239, 0.1465200036764145, 0.9621943831443787, 0.9816869497299194, 0.47467732429504395, 0.16632898151874542, 0.026868527755141258, 0.05245760455727577, 0.012794537469744682, 0.2661263644695282, 0.0012794537469744682, 0.9763772487640381, 0.3920847773551941, 0.6040225028991699, 0.9814748764038086, 0.24341338872909546, 0.10992862284183502, 0.6438676714897156, 0.9473137259483337, 0.7435979843139648, 0.4030062258243561, 0.03504401817917824, 0.08761004358530045, 0.04088468849658966, 0.04672535881400108, 0.3854841887950897, 0.7405135631561279, 0.49095502495765686, 0.3406626880168915, 0.11021439731121063, 0.05009745433926582, 0.8772881031036377, 0.8772881031036377, 0.974747359752655, 0.9254342317581177, 0.9650464653968811, 0.8574833869934082, 0.652836799621582, 0.9464724659919739, 0.8987663388252258, 0.08406761288642883, 0.392315536737442, 0.07897260785102844, 0.033117543905973434, 0.21144278347492218, 0.04076005518436432, 0.00764251034706831, 0.1528502106666565, 0.9558371901512146, 0.01950688101351261, 0.15304085612297058, 0.10116259753704071, 0.2567973732948303, 0.062253907322883606, 0.3683356046676636, 0.05706607922911644, 0.9486470222473145, 0.9725366830825806, 0.018369127064943314, 0.33064430952072144, 0.293906033039093, 0.22042952477931976, 0.1285838931798935, 0.969274640083313, 0.6528368592262268, 0.9748808145523071, 0.2764798402786255, 0.3542397916316986, 0.07775995880365372, 0.09503994882106781, 0.060479965060949326, 0.017279990017414093, 0.060479965060949326, 0.060479965060949326, 0.9827762246131897, 0.900259256362915, 0.7282217144966125, 0.9812467098236084, 0.9588630199432373, 0.001377949956804514, 0.42440858483314514, 0.267322301864624, 0.20669248700141907, 0.00688974978402257, 0.0937005952000618, 0.18165019154548645, 0.0005766673129983246, 0.19606687128543854, 0.5570605993270874, 0.06458673626184464, 0.7405135631561279, 0.19162409007549286, 0.5748722553253174, 0.7345499396324158, 0.0664592832326889, 0.024484997615218163, 0.024484997615218163, 0.14690998196601868, 0.43630746006965637, 0.39890968799591064, 0.0540190190076828, 0.02285420149564743, 0.0810285285115242, 0.006232963874936104, 0.9726735353469849, 0.9597673416137695, 0.618888258934021, 0.6154195666313171, 0.031832046806812286, 0.35015252232551575, 0.942533552646637, 0.9573540687561035, 0.5331258773803711, 0.9614523649215698, 0.9231019616127014, 0.8957815170288086, 0.01728854514658451, 0.0012806329177692533, 0.9809648394584656, 0.9852107763290405, 0.8984837532043457, 0.8240337371826172, 0.019977087154984474, 0.5370311141014099, 0.4312700629234314, 0.011751228012144566, 0.20865918695926666, 0.021964125335216522, 0.7687443494796753, 0.9870870113372803, 0.1297120600938797, 0.12238960713148117, 0.48432812094688416, 0.03347408026456833, 0.06067177280783653, 0.02615162543952465, 0.013598845340311527, 0.025105560198426247, 0.01778310537338257, 0.08577733486890793, 0.6528368592262268, 0.9826940298080444, 0.9373606443405151, 0.15683302283287048, 0.043767355382442474, 0.3246079087257385, 0.043767355382442474, 0.42673173546791077, 0.0641399398446083, 0.045814238488674164, 0.7818963527679443, 0.042759958654642105, 0.018325695767998695, 0.009162847883999348, 0.033597107976675034, 0.5080316662788391, 0.2202654778957367, 0.021316014230251312, 0.2451341599225998, 0.003552668960765004, 0.9709188938140869, 0.15072518587112427, 0.788408637046814, 0.04637698084115982, 0.9692642092704773, 0.5331258773803711, 0.9895958304405212, 0.18619611859321594, 0.6827191114425659, 0.06206537410616875, 0.8914792537689209, 0.6364870667457581, 0.3427237868309021, 0.34368598461151123, 0.6469383239746094, 0.07521935552358627, 0.9151688814163208, 0.22646956145763397, 0.07247025519609451, 0.371410071849823, 0.027176346629858017, 0.2309989482164383, 0.054352693259716034, 0.018117563799023628, 0.48360008001327515, 0.11606401950120926, 0.3675360679626465, 0.8724808692932129, 0.9798247218132019, 0.7994257807731628, 0.9639509916305542, 0.9669634699821472, 0.9737229347229004, 0.019871897995471954, 0.9675650000572205, 0.3540811240673065, 0.6196419596672058, 0.9889059066772461, 0.9913825988769531, 0.967526376247406, 0.6012967824935913, 0.3435981571674347, 0.9539753198623657, 0.4973367750644684, 0.17406786978244781, 0.06216709688305855, 0.01243341900408268, 0.18028457462787628, 0.06527545303106308, 0.00310835475102067, 0.9184600114822388, 0.9550216794013977, 0.03820086643099785, 0.9188936352729797, 0.6262555718421936, 0.9908862113952637, 0.1778886914253235, 0.10808426886796951, 0.0900702252984047, 0.02026580087840557, 0.33325982093811035, 0.027021067216992378, 0.042783357203006744, 0.015762289986014366, 0.022517556324601173, 0.15086762607097626, 0.011258778162300587, 0.11426539719104767, 0.5459346771240234, 0.08252501487731934, 0.24757502973079681, 0.9478788375854492, 0.8859197497367859, 0.10422585904598236, 0.9645221829414368, 0.9584774971008301, 0.0011289699468761683, 0.32062745094299316, 0.18515107035636902, 0.0033869098406285048, 0.012418669648468494, 0.012983154505491257, 0.11797735840082169, 0.20885944366455078, 0.11007456481456757, 0.027659762650728226, 0.09134740382432938, 0.730779230594635, 0.1522456705570221, 0.9720742702484131, 0.9838312864303589, 0.06508340686559677, 0.03845837712287903, 0.1449585109949112, 0.06508340686559677, 0.5709590315818787, 0.06508340686559677, 0.04733338952064514, 0.16771359741687775, 0.11637270450592041, 0.14717724919319153, 0.27381813526153564, 0.006845453288406134, 0.24643631279468536, 0.04107271879911423, 0.969415009021759, 0.14750507473945618, 0.5058556795120239, 0.02603030763566494, 0.28286269307136536, 0.036442432552576065, 0.97441565990448, 0.04132597893476486, 0.11364644765853882, 0.7989689707756042, 0.04476981237530708, 0.9413628578186035, 0.149221733212471, 0.28911709785461426, 0.1888587474822998, 0.2961118519306183, 0.009326358325779438, 0.020984305068850517, 0.03730543330311775, 0.006994768511503935, 0.7832769751548767, 0.22072215378284454, 0.009293564595282078, 0.5181162357330322, 0.03949764743447304, 0.005808477755635977, 0.026718998327851295, 0.17890112102031708, 0.9841328263282776, 0.3904542326927185, 0.07321016490459442, 0.422992080450058, 0.05694124102592468, 0.05694124102592468, 0.9715449213981628, 0.9635226726531982, 0.9868574142456055, 0.7759130597114563, 0.3856673240661621, 0.08815252780914307, 0.24609248340129852, 0.1909971535205841, 0.08998904377222061, 0.9297813773155212, 0.002256750827655196, 0.003385126357898116, 0.03046613745391369, 0.007898627780377865, 0.006770252715796232, 0.01918238215148449, 0.7000426650047302, 0.025572335347533226, 0.09909279644489288, 0.14064784348011017, 0.03516196087002754, 0.5038113594055176, 0.16793712973594666, 0.16793712973594666, 0.07586567848920822, 0.3670920133590698, 0.04160375893115997, 0.06607656180858612, 0.30835726857185364, 0.0024472801014781, 0.031814638525247574, 0.06118199974298477, 0.0024472801014781, 0.04160375893115997, 0.9792799949645996, 0.9595847725868225, 0.8627185821533203, 0.761867880821228, 0.983196496963501, 0.8358003497123718, 0.85699063539505, 0.9498968124389648, 0.023116955533623695, 0.6773267984390259, 0.009246782399713993, 0.1780005544424057, 0.08784443140029907, 0.023116955533623695, 0.9884780645370483, 0.01089914608746767, 0.14713847637176514, 0.19073505699634552, 0.14168889820575714, 0.0027247865218669176, 0.2370564341545105, 0.01907350681722164, 0.054495733231306076, 0.18528549373149872, 0.01089914608746767, 0.2710646092891693, 0.6776615381240845, 0.9864189624786377, 0.9840875267982483, 0.9231608510017395, 0.7201464176177979, 0.7442944049835205, 0.9468758702278137, 0.047343794256448746, 0.3324904143810272, 0.007556600496172905, 0.6574242115020752, 0.2587660849094391, 0.549877941608429, 0.12938304245471954, 0.06469152122735977, 0.7970806956291199, 0.007360904011875391, 0.6992859244346619, 0.00490726949647069, 0.02208271250128746, 0.1300426423549652, 0.13494990766048431, 0.05020768567919731, 0.15062306821346283, 0.7782191634178162, 0.9953600764274597, 0.021786898374557495, 0.2505493462085724, 0.2723362445831299, 0.3159100413322449, 0.13072139024734497, 0.05008750408887863, 0.40570878982543945, 0.13523626327514648, 0.21036753058433533, 0.07513125985860825, 0.05008750408887863, 0.07012251019477844, 0.02859603427350521, 0.08102209866046906, 0.0714900866150856, 0.10485212504863739, 0.22400227189064026, 0.09055411070585251, 0.38128045201301575, 0.019064022228121758, 0.02342536300420761, 0.35138043761253357, 0.3630931079387665, 0.2576789855957031, 0.8522714972496033, 0.0361131988465786, 0.1083395928144455, 0.9117006659507751, 0.053154949098825455, 0.4850389063358307, 0.04651058092713356, 0.41195085644721985, 0.7832769751548767, 0.9713006019592285, 0.950317919254303, 0.618888258934021, 0.9899754524230957, 0.31743302941322327, 0.6829619407653809, 0.9926843643188477, 0.8376970887184143, 0.13335952162742615, 0.8049200177192688, 0.06191692128777504, 0.982042670249939, 0.845604658126831, 0.9689892530441284, 0.08624376356601715, 0.05361098796129227, 0.272716760635376, 0.10722197592258453, 0.025640036910772324, 0.09556741267442703, 0.27038583159446716, 0.08624376356601715, 0.9902613162994385, 0.9382157325744629, 0.9384676218032837, 0.8291485905647278, 0.4634374976158142, 0.7170649766921997, 0.9527572989463806, 0.14302289485931396, 0.5940951108932495, 0.25304049253463745, 0.960439145565033, 0.027182240039110184, 0.5247206091880798, 0.39354047179222107, 0.919320285320282, 0.8537128567695618, 0.001152330543845892, 0.01843728870153427, 0.12790869176387787, 0.3134339153766632, 0.053007207810878754, 0.01958961971104145, 0.2546650469303131, 0.13367034494876862, 0.005761653184890747, 0.014980297535657883, 0.05646419897675514, 0.8511586785316467, 0.618888258934021, 0.2376406341791153, 0.26734572649002075, 0.4752812683582306, 0.9355134963989258, 0.9355134963989258, 0.9088973999023438, 0.9856247305870056, 0.3750353455543518, 0.19877852499485016, 0.0969412550330162, 0.17625682055950165, 0.15275591611862183, 0.27133050560951233, 0.09044349938631058, 0.09044349938631058, 0.103363998234272, 0.43929699063301086, 0.3649643063545227, 0.38155362010002136, 0.13271430134773254, 0.13271430134773254, 0.16291357576847076, 0.8145679235458374, 0.9684491753578186, 0.8084039092063904, 0.09966623783111572, 0.09017421305179596, 0.9226236939430237, 0.5482566952705383, 0.27412834763526917, 0.9187331199645996, 0.7694713473320007, 0.7810027003288269, 0.039176564663648605, 0.15670625865459442, 0.8031195998191833, 0.9597674608230591, 0.38410162925720215, 0.12641319632530212, 0.043758414685726166, 0.06563761830329895, 0.007293069269508123, 0.3695155084133148, 0.13112889230251312, 0.1017974317073822, 0.03450760245323181, 0.17253802716732025, 0.5003602504730225, 0.02760608308017254, 0.03105684369802475, 0.981285572052002, 0.7175979018211365, 0.2609446942806244, 0.803253710269928, 0.47254428267478943, 0.6823962926864624, 0.9770821332931519, 0.8355714678764343, 0.5665753483772278, 0.4868907630443573, 0.8685130476951599, 0.1958899348974228, 0.028867989778518677, 0.4020898640155792, 0.03711598739027977, 0.07216997444629669, 0.16083595156669617, 0.03299199044704437, 0.043301984667778015, 0.02474399097263813, 0.9621804356575012, 0.02600487694144249, 0.9355281591415405, 0.8772881031036377, 0.03439103811979294, 0.5797346234321594, 0.09826011210680008, 0.054043062031269073, 0.05895606428384781, 0.06878207623958588, 0.08352109044790268, 0.02456502802670002, 0.7935889363288879, 0.11866750568151474, 0.0815839096903801, 0.8626773357391357, 0.9773700833320618, 0.6688548922538757, 0.2866520881652832, 0.837069034576416, 0.9308486580848694, 0.25883015990257263, 0.5176603198051453, 0.9559603929519653, 0.005802047438919544, 0.5144482254981995, 0.38486915826797485, 0.09283275902271271, 0.9514811635017395, 0.9527207612991333, 0.2320302575826645, 0.1425728052854538, 0.0027955451514571905, 0.4081496000289917, 0.1928926259279251, 0.022364361211657524, 0.9910942316055298, 0.013198824599385262, 0.12958845496177673, 0.3731667697429657, 0.08039284497499466, 0.01559861097484827, 0.0011998931877315044, 0.1487867534160614, 0.08279262483119965, 0.03599679470062256, 0.004799572750926018, 0.11518974602222443, 0.018049895763397217, 0.2767650783061981, 0.05414968729019165, 0.03008315898478031, 0.036099791526794434, 0.5715800523757935, 0.9643989205360413, 0.03013746626675129, 0.7832769751548767, 0.016525141894817352, 0.5453296899795532, 0.33050283789634705, 0.09915085136890411, 0.2766411304473877, 0.1677987277507782, 0.0362808033823967, 0.08616691082715988, 0.013605302199721336, 0.07709670811891556, 0.2902464270591736, 0.049886107444763184, 0.9891200661659241, 0.30159875750541687, 0.03933896869421005, 0.026225978508591652, 0.6294234991073608, 0.010802825912833214, 0.9878584146499634, 0.7806999087333679, 0.2494552731513977, 0.527493953704834, 0.015590954571962357, 0.0545683391392231, 0.031181909143924713, 0.059765323996543884, 0.012992462143301964, 0.051969848573207855, 0.9439030885696411, 0.8141231536865234, 0.011033349670469761, 0.08826679736375809, 0.3089337944984436, 0.5185674428939819, 0.05516674742102623, 0.2592783570289612, 0.16138756275177002, 0.014551336877048016, 0.06217389553785324, 0.3055780827999115, 0.14154481887817383, 0.019842732697725296, 0.02645697630941868, 0.007937093265354633, 0.9176080226898193, 0.9122030735015869, 0.9032232165336609, 0.26156920194625854, 0.06731560081243515, 0.012501468881964684, 0.023079635575413704, 0.013463119976222515, 0.023079635575413704, 0.44043636322021484, 0.15097928047180176, 0.0076932115480303764, 0.9950087070465088, 0.9527207612991333, 0.7297768592834473, 0.3800496459007263, 0.21717123687267303, 0.3800496459007263, 0.9543138146400452, 0.8620070815086365, 0.9748014211654663, 0.9707140326499939, 0.22577811777591705, 0.772855818271637, 0.025246016681194305, 0.33661356568336487, 0.28612151741981506, 0.022440902888774872, 0.04768691956996918, 0.04768691956996918, 0.06171248480677605, 0.06451759487390518, 0.06732270866632462, 0.04207669571042061, 0.960095226764679, 0.17832434177398682, 0.23776578903198242, 0.40122976899147034, 0.17832434177398682, 0.20128536224365234, 0.14051997661590576, 0.22027455270290375, 0.12532861530780792, 0.1860940158367157, 0.018989184871315956, 0.0683610662817955, 0.041776206344366074, 0.9345080852508545, 0.7759130597114563, 0.8474552631378174, 0.1495509296655655, 0.11157482117414474, 0.48349088430404663, 0.03719160705804825, 0.2231496423482895, 0.05950657278299332, 0.007438321597874165, 0.0743832141160965, 0.9362177848815918, 0.8285302519798279, 0.9556944370269775, 0.963862419128418, 0.17103049159049988, 0.18657872080802917, 0.6374772787094116, 0.9866961240768433, 0.9672734141349792, 0.9730538129806519, 0.02036418206989765, 0.6041374206542969, 0.02715224400162697, 0.05769851803779602, 0.2850985527038574, 0.9780542850494385, 0.9886080026626587, 0.9488505125045776, 0.24504095315933228, 0.7435725331306458, 0.042581018060445786, 0.1788402795791626, 0.02554861083626747, 0.1958726942539215, 0.5535532236099243, 0.9393874406814575, 0.19225244224071503, 0.7946434617042542, 0.9793989062309265, 0.9414799213409424, 0.9598175287246704, 0.02908538095653057, 0.6447682976722717, 0.07918207347393036, 0.18098759651184082, 0.07918207347393036, 0.16071990132331848, 0.80359947681427, 0.6872364282608032, 0.9757647514343262, 0.6262556314468384, 0.9747199416160583, 0.985787034034729, 0.14650258421897888, 0.10987694561481476, 0.25637954473495483, 0.05127590522170067, 0.432182639837265, 0.9678319096565247, 0.9827656149864197, 0.9810009598731995, 0.35965049266815186, 0.5754408240318298, 0.9622364640235901, 0.5447098612785339, 0.0838015154004097, 0.10894197225570679, 0.17598319053649902, 0.07542136311531067, 0.9243556261062622, 0.8250970244407654, 0.9812576174736023, 0.9244005680084229, 0.9763482213020325, 0.023904934525489807, 0.14741376042366028, 0.11952467262744904, 0.3904472589492798, 0.07968311756849289, 0.019920779392123222, 0.04382571205496788, 0.17530284821987152, 0.8300694227218628, 0.01152874156832695, 0.11182879656553268, 0.04380922019481659, 0.0023057484067976475, 0.652836799621582, 0.9143452644348145, 0.9949482083320618, 0.8690834641456604, 0.9417532682418823, 0.9803574085235596, 0.926945686340332, 0.9816869497299194, 0.02360736019909382, 0.4178502559661865, 0.17941594123840332, 0.002360736019909382, 0.004721472039818764, 0.10859385877847672, 0.06137913465499878, 0.203023299574852, 0.0099417045712471, 0.9767724871635437, 0.013669843785464764, 0.2526889443397522, 0.11371002346277237, 0.6190878748893738, 0.2545182406902313, 0.08310799300670624, 0.30126649141311646, 0.1402447372674942, 0.18699298799037933, 0.025971248745918274, 0.6731060147285461, 0.09615800529718399, 0.14423701167106628, 0.08013167232275009, 0.0172220878303051, 0.0430552214384079, 0.36381661891937256, 0.22173438966274261, 0.10979080945253372, 0.17006811499595642, 0.0172220878303051, 0.004305521957576275, 0.027985893189907074, 0.023680370301008224, 0.959724485874176, 0.934893012046814, 0.938830554485321, 0.9767552614212036, 0.9099016785621643, 0.618888258934021, 0.08048301935195923, 0.16096603870391846, 0.32924872636795044, 0.2926655411720276, 0.02926655299961567, 0.10974957793951035, 0.9789289832115173, 0.8490152955055237, 0.9677075743675232, 0.0411360003054142, 0.7522011399269104, 0.2056799978017807, 0.9112955927848816, 0.8685130476951599, 0.9391623139381409, 0.9570087194442749, 0.8687028288841248, 0.45288369059562683, 0.48988455533981323, 0.506924033164978, 0.8138153553009033, 0.9372576475143433, 0.7832769751548767, 0.9537142515182495, 0.923895537853241, 0.23997201025485992, 0.039995335042476654, 0.2159748077392578, 0.4959421455860138, 0.7178586721420288, 0.09905489534139633, 0.8914940357208252, 0.01987316459417343, 0.6607827544212341, 0.16892190277576447, 0.14904874563217163, 0.9089312553405762, 0.861180305480957, 0.02500821277499199, 0.1850607693195343, 0.19006240367889404, 0.1850607693195343, 0.035011496394872665, 0.1700558364391327, 0.20506733655929565, 0.080128975212574, 0.03605803847312927, 0.6670737266540527, 0.07612252980470657, 0.03605803847312927, 0.006009673234075308, 0.01602579466998577, 0.006009673234075308, 0.07411930710077286, 0.9480995535850525, 0.9704318046569824, 0.020690130069851875, 0.9724361300468445, 0.3532070815563202, 0.1766035407781601, 0.08027433604001999, 0.0963292047381401, 0.16857610642910004, 0.024082301184535027, 0.0963292047381401, 0.6851150393486023, 0.7994258403778076, 0.7421860098838806, 0.78641676902771, 0.62712562084198, 0.20904186367988586, 0.08361674845218658, 0.08361674845218658, 0.9912244081497192, 0.652836799621582, 0.9891647696495056, 0.8262859582901001, 0.11804085224866867, 0.0044167181476950645, 0.020979411900043488, 0.012145975604653358, 0.35444164276123047, 0.09385526180267334, 0.0044167181476950645, 0.12587647140026093, 0.12808483839035034, 0.023187771439552307, 0.0011041795369237661, 0.0011041795369237661, 0.038646284490823746, 0.19323143362998962, 0.9516374468803406, 0.9615210890769958, 0.9028698205947876, 0.007013135123997927, 0.45410048961639404, 0.2857852578163147, 0.022792689502239227, 0.03857224062085152, 0.19286121428012848, 0.8935454487800598, 0.6262556314468384, 0.7740134596824646, 0.6528368592262268, 0.9618579745292664, 0.7698220014572144, 0.7698220014572144, 0.9555162787437439, 0.5679121017456055, 0.6923016309738159, 0.30704590678215027, 0.8435885906219482, 0.9878149628639221, 0.08068275451660156, 0.018619097769260406, 0.015515914186835289, 0.38169148564338684, 0.06516683846712112, 0.05275410786271095, 0.0031031828839331865, 0.006206365767866373, 0.37238192558288574, 0.019528167322278023, 0.7323062419891357, 0.009764083661139011, 0.013018777593970299, 0.06834858655929565, 0.03254694491624832, 0.11716900020837784, 0.9914180636405945, 0.030376534909009933, 0.5378433465957642, 0.21620944142341614, 0.21442259848117828, 0.8504926562309265, 0.9244007468223572, 0.9454607963562012, 0.8747303485870361, 0.41549694538116455, 0.014327481389045715, 0.01671539433300495, 0.04059452936053276, 0.04537035524845123, 0.2578946650028229, 0.21013638377189636, 0.9667619466781616, 0.09614165127277374, 0.035380128771066666, 0.02768879570066929, 0.33226555585861206, 0.14613530039787292, 0.015382664278149605, 0.10383298248052597, 0.15767230093479156, 0.009998731315135956, 0.011536997742950916, 0.06383805721998215, 0.8679565191268921, 0.0542498342692852, 0.6329147219657898, 0.3254989981651306, 0.9903272390365601, 0.9837206602096558, 0.9771985411643982, 0.9707179665565491, 0.0768294557929039, 0.2817080020904541, 0.03130089119076729, 0.13374017179012299, 0.008536606095731258, 0.16788659989833832, 0.11951249092817307, 0.05691070854663849, 0.12235802412033081, 0.910620391368866, 0.9704345464706421, 0.9593056440353394, 0.5483749508857727, 0.023187896236777306, 0.1275334358215332, 0.02898487076163292, 0.35941240191459656, 0.3391229808330536, 0.11883797496557236, 0.8722782135009766, 0.19932255148887634, 0.03796619921922684, 0.0474577471613884, 0.7118662595748901, 0.06292319297790527, 0.004494513850659132, 0.11236284673213959, 0.05842868238687515, 0.008989027701318264, 0.26967084407806396, 0.15730798244476318, 0.08090125024318695, 0.004494513850659132, 0.21573667228221893, 0.017978055402636528, 0.7405135631561279, 0.058522794395685196, 0.8098799586296082, 0.05285929888486862, 0.05663496255874634, 0.01887832023203373, 0.9013059735298157, 0.939150333404541, 0.9741692543029785, 0.037715133279561996, 0.9428783655166626, 0.6075921654701233, 0.8342690467834473, 0.9505540132522583, 0.03695719689130783, 0.018478598445653915, 0.1348937749862671, 0.25130894780158997, 0.029565759003162384, 0.027717899531126022, 0.19402529299259186, 0.19587315618991852, 0.05913151800632477, 0.044348638504743576, 0.005543579813092947, 0.16252274811267853, 0.05417425185441971, 0.7584395408630371, 0.9618579745292664, 0.7841970324516296, 0.9329514503479004, 0.9902341961860657, 0.19179993867874146, 0.2876999080181122, 0.47949984669685364, 0.9838448166847229, 0.9501520991325378, 0.049769870936870575, 0.9799522757530212, 0.9175732135772705, 0.0646178349852562, 0.23216751217842102, 0.2143084704875946, 0.3928988575935364, 0.12501327693462372, 0.9657257795333862, 0.645501434803009, 0.055328693240880966, 0.2766434848308563, 0.9728531241416931, 0.9864824414253235, 0.9465030431747437, 0.9528699517250061, 0.13914518058300018, 0.3130766749382019, 0.5217944383621216, 0.24326422810554504, 0.1317681223154068, 0.12163211405277252, 0.010136009193956852, 0.2534002363681793, 0.23312821984291077, 0.22538670897483826, 0.13773632049560547, 0.15651854872703552, 0.31303709745407104, 0.1690400242805481, 0.9861488342285156, 0.9782716631889343, 0.6646684408187866, 0.9845632910728455, 0.9912665486335754, 0.9234997630119324, 0.9902381896972656, 0.22682295739650726, 0.7371746301651001, 0.6510919332504272, 0.1475496143102646, 0.14520755410194397, 0.053867317736148834, 0.03461942449212074, 0.6231496334075928, 0.03826357424259186, 0.0036441499833017588, 0.04372980073094368, 0.25509050488471985, 0.943972110748291, 0.7832769751548767, 0.3567316234111786, 0.2348106950521469, 0.406403124332428, 0.9816818833351135, 0.9946102499961853, 0.9757679104804993, 0.7722127437591553, 0.1304413378238678, 0.05217653512954712, 0.010435307398438454, 0.03130592033267021, 0.9574294090270996, 0.8855327367782593, 0.9892770051956177, 0.9176251292228699, 0.3424950838088989, 0.6088801622390747, 0.6635865569114685, 0.16589663922786713, 0.9163262248039246, 0.35371190309524536, 0.08992675691843033, 0.017985351383686066, 0.19783885776996613, 0.12589745223522186, 0.20982909202575684, 0.15802501142024994, 0.1755833476781845, 0.16680417954921722, 0.3219028115272522, 0.04682222753763199, 0.03511666879057884, 0.0994972288608551, 0.26455193758010864, 0.0850345566868782, 0.034643709659576416, 0.4661153554916382, 0.02204599604010582, 0.0031494279392063618, 0.1228276938199997, 0.9321922659873962, 0.9647783637046814, 0.8616213798522949, 0.949275016784668, 0.9934454560279846, 0.9911673069000244, 0.9704352617263794, 0.17182867228984833, 0.32603389024734497, 0.004405863117426634, 0.017623452469706535, 0.057276222854852676, 0.0308410432189703, 0.392121821641922, 0.8984837532043457, 0.7650442123413086, 0.9211005568504333, 0.24556922912597656, 0.0162050761282444, 0.15955767035484314, 0.39515453577041626, 0.11966825276613235, 0.002493088599294424, 0.04487559571862221, 0.001246544299647212, 0.007479265797883272, 0.002493088599294424, 0.004986177198588848, 0.9374595880508423, 0.9860115051269531, 0.9402976632118225, 0.09193309396505356, 0.20684945583343506, 0.08044146001338959, 0.2911214530467987, 0.19344255328178406, 0.10917054861783981, 0.024898545816540718, 0.0038305455818772316, 0.7832769751548767, 0.8996143341064453, 0.279489666223526, 0.6987241506576538, 0.893250584602356, 0.9837206602096558, 0.056667741388082504, 0.056667741388082504, 0.056667741388082504, 0.8216822147369385, 0.9211876392364502, 0.05835649371147156, 0.2445414960384369, 0.22231045365333557, 0.36681225895881653, 0.10559746623039246, 0.9760761260986328, 0.12764780223369598, 0.8722599744796753, 0.9433743953704834, 0.652836799621582, 0.9845022559165955, 0.8914792537689209, 0.15412792563438416, 0.3743106722831726, 0.45504432916641235, 0.007339424919337034, 0.9429435729980469, 0.9769771099090576, 0.9645633101463318, 0.06183166429400444, 0.9274749755859375, 0.9530405402183533, 0.5738414525985718, 0.09803124517202377, 0.019128046929836273, 0.014346035197377205, 0.2940937280654907, 0.9826458096504211, 0.8213054537773132, 0.1642610877752304, 0.21846386790275574, 0.4133100211620331, 0.04133100062608719, 0.023617714643478394, 0.25979486107826233, 0.04133100062608719, 0.8626773357391357, 0.9417650699615479, 0.004447565414011478, 0.47144192457199097, 0.04225187003612518, 0.011118913069367409, 0.020014043897390366, 0.04225187003612518, 0.4091760218143463, 0.9840707778930664, 0.15728919208049774, 0.1757938116788864, 0.6661660075187683, 0.9827314019203186, 0.954536497592926, 0.06240840628743172, 0.5616756677627563, 0.3744504451751709, 0.9358229637145996, 0.9969533681869507, 0.5292556285858154, 0.7814826369285583, 0.22328075766563416, 0.0245507899671793, 0.34546470642089844, 0.09469590336084366, 0.0596233494579792, 0.019289907068014145, 0.20517446100711823, 0.12801483273506165, 0.12100032716989517, 0.001753627904690802, 0.972996711730957, 0.27053508162498474, 0.21517807245254517, 0.023214232176542282, 0.13392826914787292, 0.15803535282611847, 0.011607116088271141, 0.07321412116289139, 0.024107087403535843, 0.09017836302518845, 0.5794087052345276, 0.38627246022224426, 0.7823205590248108, 0.9824036359786987, 0.030683161690831184, 0.17489401996135712, 0.04295642673969269, 0.04602474346756935, 0.1012544333934784, 0.08284454047679901, 0.4510424733161926, 0.0675029531121254, 0.8675546646118164, 0.4935302138328552, 0.9146354794502258, 0.934873640537262, 0.7350019812583923, 0.2236962616443634, 0.03195660933852196, 0.9894883632659912, 0.9950860142707825, 0.7832769751548767, 0.8738367557525635, 0.48514604568481445, 0.3773358166217804, 0.12128651142120361, 0.07355012744665146, 0.08580847829580307, 0.09806683659553528, 0.11032518744468689, 0.6251760721206665, 0.2149469554424286, 0.6158592700958252, 0.07003889977931976, 0.09419023990631104, 0.0024151343386620283, 0.9776252508163452, 0.07169907540082932, 0.012152385897934437, 0.27707439661026, 0.6161260008811951, 0.023089533671736717, 0.9624799489974976, 0.048936743289232254, 0.02509576454758644, 0.031369708478450775, 0.357614666223526, 0.052701108157634735, 0.010038306005299091, 0.05395589396357536, 0.0012547882506623864, 0.19323739409446716, 0.007528729736804962, 0.21582357585430145, 0.987693727016449, 0.4089469909667969, 0.586959183216095, 0.9817313551902771, 0.007853850722312927, 0.012151944451034069, 0.1979030966758728, 0.1093675047159195, 0.09027159214019775, 0.0034719842951744795, 0.18575115501880646, 0.03471984341740608, 0.010415952652692795, 0.05728773772716522, 0.05902373045682907, 0.23956690728664398, 0.7740134000778198, 0.004621922504156828, 0.009243845008313656, 0.6940586566925049, 0.028501855209469795, 0.0600849911570549, 0.0731804370880127, 0.034664418548345566, 0.025420572608709335, 0.07009915262460709, 0.1857224702835083, 0.0571453757584095, 0.21905727684497833, 0.0857180655002594, 0.2428678572177887, 0.20477093756198883, 0.9178887605667114, 0.40001314878463745, 0.00769256055355072, 0.5923271775245667, 0.014490868896245956, 0.9708882570266724, 0.7929685115814209, 0.8984837532043457, 0.12865418195724487, 0.03400396555662155, 0.19525988399982452, 0.18334096670150757, 0.0045572323724627495, 0.11568360030651093, 0.21243715286254883, 0.030498402193188667, 0.028395064175128937, 0.004206676036119461, 0.01857948675751686, 0.001752781798131764, 0.04276787489652634, 0.8594644665718079, 0.12639184296131134, 0.8914792537689209, 0.9411448240280151, 0.9822747707366943, 0.502564549446106], \"Term\": [\"abandon\", \"abandon\", \"abandon\", \"abandon\", \"abbey\", \"abd\", \"absurd\", \"accident\", \"accordance\", \"accordingly\", \"accounting\", \"accounting\", \"accounts_receivable\", \"accrue\", \"accurately\", \"accuse\", \"accuse\", \"accuse\", \"accuse\", \"acquisition\", \"acquisition\", \"activewear\", \"activity\", \"activity\", \"activity\", \"activity\", \"activity\", \"activity\", \"actual_result\", \"ad\", \"ad\", \"ad\", \"adina\", \"aer\", \"aete\", \"affordability\", \"age\", \"age\", \"age\", \"aggressive\", \"aglc\", \"agrarian\", \"aim\", \"aim\", \"aim\", \"aim\", \"aim\", \"aim\", \"aim\", \"aim\", \"aim\", \"aish\", \"alberta\", \"alberta\", \"alberta\", \"alberta\", \"alberta\", \"alberta\", \"alberta\", \"alberta\", \"alberta\", \"alberta\", \"albertosaurus\", \"alec\", \"alex_pourbaix\", \"alleged_serial\", \"also\", \"also\", \"also\", \"also\", \"also\", \"also\", \"also\", \"also\", \"also\", \"also\", \"also\", \"always\", \"always\", \"always\", \"amascarenha\", \"amazon\", \"american\", \"american\", \"american\", \"american\", \"american\", \"american_college\", \"american_college\", \"analyst\", \"analyst\", \"analyst\", \"ancient\", \"ancillary_transaction\", \"andrew_jeffrey\", \"announce\", \"announce\", \"announce\", \"announce\", \"announce\", \"announce\", \"announce\", \"announce\", \"announce\", \"annuity_maintenance\", \"anytime\", \"apnew\", \"apologiz\", \"appeal\", \"appeal\", \"appeal\", \"appeal\", \"appear\", \"appear\", \"appear\", \"appear\", \"appear\", \"appear\", \"appear\", \"apple\", \"apple\", \"apple\", \"apple\", \"applicable\", \"applicable_securitie\", \"appropriation\", \"approximately\", \"approximately\", \"arab_republic\", \"arbitration\", \"arbitration\", \"arbitrator\", \"architectural\", \"archive\", \"area\", \"area\", \"area\", \"area\", \"area\", \"area\", \"area\", \"area\", \"arkoma\", \"article\", \"article\", \"article\", \"article_hustle\", \"assault\", \"assault\", \"assault\", \"assessing_birchcliff\", \"asset\", \"asset\", \"asset\", \"asset\", \"assign\", \"assign\", \"assign\", \"assumption\", \"assumption\", \"assumption\", \"astronaut\", \"atk\", \"atkey\", \"atkin\", \"atkin\", \"atla\", \"attack\", \"attack\", \"attributable\", \"attributable\", \"auction\", \"audi\", \"audience\", \"audrey\", \"audrey\", \"audrey\", \"aurora\", \"automation\", \"available_entrie\", \"average\", \"average\", \"average\", \"average\", \"average\", \"award\", \"award\", \"award\", \"award\", \"awful\", \"bacon\", \"badland\", \"bahariya\", \"bailey\", \"baldwin\", \"band\", \"band\", \"band\", \"bank\", \"bank\", \"bank\", \"bank\", \"bank\", \"bankrupt\", \"bankruptcy\", \"bankruptcy\", \"bankruptcy\", \"bannon\", \"bannon\", \"barbado\", \"barbado\", \"barbara\", \"barrel\", \"barrel\", \"barrel\", \"barrel\", \"barrier\", \"barrier\", \"barrier\", \"base\", \"base\", \"base\", \"base\", \"base\", \"base\", \"base\", \"base\", \"base\", \"base_mine\", \"based_compensation\", \"basic\", \"basic\", \"basin\", \"battershill\", \"bauschhealth\", \"bbl\", \"bbls\", \"bce\", \"bcf_raw\", \"bear\", \"bear\", \"bear\", \"bear\", \"bear\", \"bear\", \"bear\", \"become\", \"become\", \"become\", \"become\", \"become\", \"become\", \"become\", \"become\", \"become\", \"become\", \"bedroom\", \"behind\", \"belgium\", \"bell\", \"bell\", \"ben\", \"ben\", \"ben_aissa\", \"bengal\", \"benjamin_reitz\", \"bennett_jone\", \"bennettjone\", \"beta_theglobeandmail\", \"beth\", \"bettencourt\", \"big\", \"big\", \"big\", \"big\", \"big\", \"big\", \"bigsteelbox\", \"bike\", \"bilous\", \"bio\", \"biogas\", \"birchcliff\", \"bird\", \"bird\", \"bird\", \"bituman\", \"bituman\", \"bitumen\", \"black_friday\", \"blaine_higg\", \"blake_cassel\", \"blindingly\", \"blizzard\", \"bmo\", \"bmo\", \"board\", \"board\", \"board\", \"board\", \"board\", \"board\", \"board\", \"board\", \"board\", \"board\", \"boe\", \"boe\", \"bold\", \"bonterra\", \"bonus\", \"books_page\", \"border\", \"border\", \"border\", \"border\", \"border\", \"boss\", \"boss\", \"boss\", \"boycott\", \"boycott\", \"boyne\", \"bpd\", \"bpd\", \"brent_crude\", \"brightly\", \"bring\", \"bring\", \"bring\", \"bring\", \"bring\", \"bring\", \"bring\", \"bring\", \"bring\", \"bring\", \"britain_ftse\", \"brook\", \"brooksville\", \"brother\", \"bruce\", \"bruce\", \"bruce\", \"bruce_mcarthur\", \"btex\", \"bud\", \"budget\", \"budget\", \"budget_document\", \"build\", \"build\", \"build\", \"build\", \"build\", \"build\", \"burr\", \"bush\", \"business\", \"business\", \"business\", \"business\", \"business\", \"business\", \"business\", \"business\", \"business\", \"business\", \"business\", \"business_commentary\", \"butane\", \"buy\", \"buy\", \"buy\", \"buyer\", \"buyer\", \"buyer\", \"c\", \"ca\", \"ca\", \"ca\", \"ca\", \"ca\", \"ca\", \"cake\", \"cake\", \"cal\", \"calculation\", \"calculation\", \"calgarian\", \"calgary\", \"calgary\", \"calgary\", \"calgary\", \"calgary\", \"calgary\", \"calgary\", \"calgary\", \"calgary\", \"calgary\", \"calgary\", \"california\", \"california\", \"call\", \"call\", \"call\", \"call\", \"call\", \"call\", \"call\", \"call\", \"call\", \"campaign\", \"campaign\", \"campaign\", \"campaign\", \"campaign\", \"campbell_clark\", \"canaccord_genuity\", \"canada\", \"canada\", \"canada\", \"canada\", \"canada\", \"canada\", \"canada\", \"canada\", \"canada\", \"canada\", \"canada\", \"canada\", \"canada\", \"canada\", \"canada\", \"canadahelp\", \"canadas\", \"canadas\", \"canadian\", \"canadian\", \"canadian\", \"canadian\", \"canadian\", \"canadian\", \"canadian\", \"canadian\", \"canadian\", \"canadian\", \"canadian\", \"canadian\", \"canadian\", \"canadian_select\", \"canadian_select\", \"cancellation\", \"cannabis\", \"cannabis\", \"cannabis\", \"cannabis_store\", \"canopy\", \"capacity\", \"capacity\", \"capacity\", \"capita\", \"capital\", \"capital\", \"capital\", \"capital\", \"capital\", \"capital\", \"capital\", \"capital_expenditur\", \"capital_expenditure\", \"caravan\", \"carbon\", \"carbon_tax\", \"carbon_tax\", \"cargo\", \"case\", \"case\", \"case\", \"case\", \"case\", \"case\", \"case\", \"case\", \"case_scenario\", \"cash\", \"cash\", \"cash\", \"cash\", \"cash\", \"cash_flow\", \"cash_flow\", \"cash_flow\", \"cave\", \"cc\", \"cd\", \"cda\", \"cdn_bbl\", \"cdn_bbl\", \"cdn_gj\", \"cdn_mmbtu\", \"cdn_mmbtu\", \"ce\", \"ceci\", \"ceci\", \"celebration\", \"celebration\", \"cenovus\", \"cenovus\", \"cent\", \"cent\", \"cent\", \"center\", \"central_bank\", \"central_bank\", \"centre\", \"centre\", \"centre\", \"centre\", \"centre\", \"centre\", \"centre_block\", \"certain\", \"certain\", \"certain\", \"certain\", \"certain\", \"cfib\", \"chamber\", \"chamber\", \"champagne\", \"change\", \"change\", \"change\", \"change\", \"change\", \"change\", \"change\", \"change\", \"charge\", \"charge\", \"charge\", \"charge\", \"charge\", \"charge\", \"charge\", \"charitable\", \"charity\", \"charity\", \"charlebois\", \"charlottetown\", \"checkout\", \"child\", \"child\", \"child\", \"child\", \"child\", \"china\", \"china\", \"china\", \"china\", \"china\", \"christie_burn\", \"church\", \"church\", \"cibc\", \"city\", \"city\", \"city\", \"city\", \"city\", \"city\", \"civil\", \"civil\", \"civil\", \"civil_litigation\", \"clare_hara\", \"class\", \"class\", \"class\", \"class\", \"class\", \"class_action\", \"clean\", \"clean\", \"clean\", \"cleanup\", \"cleanup_timeline\", \"clearpower\", \"climate_change\", \"climate_change\", \"close\", \"close\", \"close\", \"close\", \"close\", \"close\", \"close\", \"close\", \"close\", \"close\", \"close\", \"close\", \"close\", \"closure\", \"club\", \"club\", \"club\", \"club\", \"club\", \"cluster\", \"cma\", \"cmg\", \"cmhc\", \"cn\", \"cn\", \"coal\", \"coal_plant\", \"cold_lake\", \"combustion\", \"come\", \"come\", \"come\", \"come\", \"come\", \"come\", \"come\", \"come\", \"come\", \"comic\", \"commence\", \"commentid\", \"commercial\", \"commercial\", \"commercial\", \"commercial\", \"commercial\", \"commercial_litigation\", \"commission\", \"commission\", \"commission\", \"commission\", \"commission\", \"commissioner\", \"commissioner\", \"committee\", \"committee\", \"committee\", \"committee\", \"common_share\", \"common_share\", \"communal\", \"community\", \"community\", \"community\", \"community\", \"commuter\", \"company\", \"company\", \"company\", \"company\", \"company\", \"company\", \"company\", \"company\", \"company\", \"company\", \"company\", \"company\", \"comparable\", \"compare\", \"compare\", \"compare\", \"compare\", \"compare\", \"complex_commercial\", \"compliance\", \"complicated\", \"compostable\", \"compression\", \"concentrated\", \"concession\", \"concession\", \"concession\", \"condensate\", \"condensed_consolidat\", \"condo\", \"condo\", \"condolence\", \"conference_call\", \"conference_call\", \"conference_call\", \"congressional\", \"connotation\", \"conservative\", \"conservative\", \"conservative\", \"conservative\", \"consistent\", \"constitutional\", \"consultation\", \"consumable\", \"contact_industry\", \"continue\", \"continue\", \"continue\", \"continue\", \"continue\", \"continue\", \"continue\", \"continue\", \"continue\", \"continue\", \"contradiction\", \"conversion\", \"cope\", \"copyright\", \"corcoran\", \"corp\", \"corp\", \"corp\", \"corp\", \"corp\", \"corp\", \"corp\", \"corporate\", \"corporate\", \"corporate\", \"corporate\", \"corporate\", \"corporate\", \"corporate_bankruptcie\", \"corporate_governance\", \"corporation\", \"corporation\", \"corporation\", \"correctly\", \"corruption\", \"cortex\", \"cost\", \"cost\", \"cost\", \"cost\", \"cost\", \"cost\", \"could\", \"could\", \"could\", \"could\", \"could\", \"could\", \"could\", \"could\", \"could\", \"council\", \"council\", \"council\", \"councillor\", \"counsel\", \"counsel\", \"counselling\", \"count\", \"count\", \"count\", \"count\", \"count\", \"country\", \"country\", \"country\", \"country\", \"country\", \"country\", \"country\", \"country\", \"country\", \"county\", \"course\", \"course\", \"course\", \"course\", \"course\", \"course\", \"course\", \"course\", \"court\", \"court\", \"court\", \"court\", \"court\", \"court\", \"court\", \"courthouse\", \"courtroom\", \"courtroom\", \"coverage_plan\", \"cp_business\", \"cpa\", \"cra\", \"craig_wong\", \"creditor\", \"crop\", \"cross_border\", \"crowdfund\", \"crown\", \"crown\", \"crude\", \"crude\", \"crude\", \"crude\", \"crude\", \"crude\", \"crude\", \"cryogenic\", \"csr\", \"ctrain\", \"cubic_feet\", \"cultivation\", \"cumulative_effect\", \"curran\", \"currency\", \"currency\", \"currency\", \"current\", \"current\", \"current\", \"current\", \"current\", \"currie\", \"curtailment\", \"curtailment\", \"curtailment\", \"customer\", \"customer\", \"customer\", \"customer\", \"customer\", \"customer\", \"customer\", \"customer\", \"cut\", \"cut\", \"cut\", \"cut\", \"cut\", \"cut\", \"cut\", \"cut\", \"cut\", \"cve\", \"cycle\", \"cycle\", \"cycle\", \"cyclical\", \"dampier\", \"daniel_goodridge\", \"davidson\", \"davidson\", \"day\", \"day\", \"day\", \"day\", \"day\", \"day\", \"day\", \"day\", \"day\", \"day\", \"day\", \"day\", \"day\", \"daymmcf\", \"dd\", \"deal\", \"deal\", \"deal\", \"deal\", \"deal\", \"deal\", \"deal\", \"deal\", \"deal\", \"dear\", \"death\", \"death\", \"death\", \"death\", \"death\", \"death\", \"debt\", \"debt\", \"debt\", \"debtto\", \"decide_whether\", \"decline\", \"decline\", \"decline\", \"decline\", \"decline\", \"decline\", \"decommission\", \"decommissioning\", \"decrease\", \"deduction\", \"defence\", \"defence\", \"defence\", \"deferred\", \"deferred_revenue\", \"defunct\", \"defunct\", \"delaney\", \"delphi\", \"delphi\", \"demand\", \"demand\", \"demand\", \"demand\", \"demand\", \"demand\", \"demand\", \"demand\", \"demand\", \"denote\", \"denver\", \"department_afternoon\", \"deposit\", \"depreciation_expense\", \"derek\", \"desk\", \"desk\", \"dessert\", \"development\", \"development\", \"development\", \"development\", \"development\", \"development\", \"dia\", \"dial\", \"dial\", \"die\", \"die\", \"die\", \"die\", \"die\", \"die\", \"differ_materially\", \"differential\", \"differential\", \"differential\", \"digital_subscriber\", \"dilute\", \"diluted\", \"direct_employee\", \"directive_ec\", \"dirty\", \"dirty\", \"dirty\", \"disagree\", \"discontinue\", \"discount\", \"discount\", \"discount\", \"discount\", \"discovery\", \"discovery\", \"discovery\", \"discuss\", \"discuss\", \"discuss\", \"discuss\", \"discuss\", \"discussion\", \"disposal\", \"dispute\", \"dispute\", \"dispute\", \"dispute\", \"dispute\", \"dispute_resolution\", \"diversification\", \"doig\", \"dollar\", \"dollar\", \"dollar\", \"dollar\", \"dollar\", \"dollar\", \"dollar\", \"domtar\", \"donald_trump\", \"donald_trump\", \"donate\", \"donation\", \"donation\", \"donation\", \"donation\", \"doodle\", \"dorel\", \"dowdupont\", \"downgrade\", \"dpa\", \"drainage\", \"drama\", \"drill\", \"drilling_fluid\", \"drip\", \"drug\", \"drug\", \"drug\", \"drug\", \"drumheller\", \"dry\", \"dry\", \"dry\", \"dry\", \"dtr\", \"dumoulin_llp\", \"dundas\", \"duplication\", \"duplication\", \"duration\", \"duration\", \"dust\", \"dzivkusic\", \"e\", \"eagle\", \"eagle_spirit\", \"earlier\", \"earlier\", \"earlier\", \"earlier\", \"early_last\", \"earmark\", \"earning\", \"earning\", \"earning\", \"ease\", \"ease\", \"ease\", \"ease\", \"east\", \"east\", \"east\", \"east\", \"east\", \"east\", \"east\", \"eastern_hemisphere\", \"eat\", \"eat\", \"eat\", \"eat\", \"ebd\", \"ebit\", \"ebitda\", \"ebitdac\", \"eclipse\", \"economic\", \"economic\", \"economic\", \"economic\", \"economic\", \"economic\", \"economist\", \"economist\", \"economist\", \"economy\", \"economy\", \"economy\", \"economy\", \"economy\", \"effectiveness\", \"egypt\", \"ei\", \"eighth\", \"eikon\", \"election\", \"election\", \"election\", \"election\", \"election\", \"ellekane\", \"ellis\", \"emission\", \"emission\", \"emmamci\", \"employee\", \"employee\", \"employee\", \"employees_offer\", \"enb\", \"enbridge\", \"enbridge\", \"enbridge\", \"enbridge\", \"encana\", \"ended_sept\", \"ended_september\", \"enerflex\", \"energy\", \"energy\", \"energy\", \"energy\", \"energy\", \"energy\", \"energy\", \"energy\", \"energy\", \"energy\", \"energy\", \"enerplus\", \"engineering\", \"engineering\", \"engineering\", \"engineering\", \"engineering\", \"engineering_design\", \"england\", \"english\", \"enormous\", \"enthusiast\", \"environmental\", \"environmental\", \"environmental\", \"environmental\", \"environmental\", \"envy\", \"epp\", \"equalization\", \"esquire\", \"est\", \"est\", \"estimate\", \"estimate\", \"estimate\", \"estimate\", \"estimate\", \"estimate\", \"eta\", \"eta\", \"evaporation\", \"even\", \"even\", \"even\", \"even\", \"even\", \"even\", \"evening_update\", \"event\", \"event\", \"event\", \"event\", \"event\", \"event\", \"event\", \"event\", \"event\", \"every_weekday\", \"exacerbate\", \"exclusively\", \"expect\", \"expect\", \"expect\", \"expect\", \"expect\", \"expect\", \"expect\", \"expect\", \"expect\", \"expect\", \"expenditure\", \"expense\", \"expense\", \"expense\", \"expense\", \"exploration\", \"exploration\", \"exploration\", \"exploration\", \"explore\", \"explore\", \"explore\", \"explore\", \"export\", \"export\", \"export\", \"export\", \"expropriate\", \"extensive_experience\", \"facility\", \"facility\", \"facility\", \"facility\", \"facility\", \"facsimile_email\", \"facsimile_email\", \"fall\", \"fall\", \"fall\", \"fall\", \"fall\", \"fall\", \"fall\", \"fall\", \"fall\", \"family\", \"family\", \"family\", \"family\", \"family\", \"family\", \"family\", \"farm\", \"farm\", \"farm\", \"farmer\", \"farmer\", \"farmer\", \"farmer\", \"farmer\", \"fasken\", \"fasken_martineau\", \"father\", \"father\", \"father\", \"father\", \"fax_email\", \"fearsome\", \"federal\", \"federal\", \"federal\", \"federal\", \"federal\", \"federal\", \"federal\", \"feedback_send\", \"fernie\", \"fiasco\", \"field_condensate\", \"field_condensate\", \"fight\", \"fight\", \"fight\", \"fight\", \"fight\", \"fight\", \"fight\", \"fill\", \"fill\", \"finance_lease\", \"finance_minister\", \"finance_minister\", \"financial\", \"financial\", \"financial\", \"financial\", \"financial\", \"financial\", \"financial\", \"financial\", \"financial\", \"financial_instrument\", \"financial_instrument\", \"find\", \"find\", \"find\", \"find\", \"find\", \"find\", \"find\", \"find\", \"find\", \"fireweed\", \"firm\", \"firm\", \"firm\", \"firm\", \"firm\", \"firm\", \"first\", \"first\", \"first\", \"first\", \"first\", \"first\", \"first\", \"first\", \"first\", \"first\", \"first\", \"first\", \"first_degree\", \"first_degree\", \"first_minister\", \"first_minister\", \"first_nation\", \"first_nation\", \"fitzgerald\", \"flavour\", \"flavour\", \"flight\", \"florida\", \"florida\", \"flow\", \"flow\", \"flow\", \"flow\", \"flow\", \"flower\", \"focus\", \"focus\", \"focus\", \"focus\", \"focus\", \"focus\", \"focus\", \"focus\", \"fofi\", \"follow\", \"follow\", \"follow\", \"follow\", \"follow\", \"follow\", \"follow\", \"follow\", \"follow\", \"follow\", \"follow\", \"follow_healingslowly\", \"food\", \"food\", \"food\", \"food\", \"food\", \"food\", \"food_column\", \"force\", \"force\", \"force\", \"force\", \"force\", \"force\", \"force\", \"force\", \"force\", \"force\", \"ford\", \"ford\", \"ford\", \"ford\", \"ford\", \"ford\", \"forgive\", \"forgo\", \"former\", \"former\", \"former\", \"former\", \"former\", \"former\", \"former\", \"fortnite\", \"forward_look\", \"forward_looking\", \"foscolo\", \"fourth_quarter\", \"fourth_quarter\", \"fourth_quarter\", \"fpsc\", \"france_cac\", \"franco\", \"francois\", \"francophone\", \"fredericton\", \"freeland\", \"freepress_mb\", \"friday\", \"friday\", \"friday\", \"friday\", \"friday\", \"friday\", \"friday\", \"friend\", \"friend\", \"friend\", \"friend\", \"friend\", \"fti_consult\", \"fuel\", \"fuel\", \"fuel\", \"fulbright\", \"fulbright\", \"fun\", \"function\", \"funded_debt\", \"funds_flow\", \"funds_flow\", \"funeral_home\", \"future\", \"future\", \"future\", \"future\", \"future\", \"future\", \"future\", \"future\", \"future\", \"future_event\", \"gain\", \"gain\", \"gain\", \"gain\", \"gain\", \"gallant\", \"gallant\", \"garry_handlen\", \"gary_mason\", \"gas\", \"gas\", \"gas\", \"gas\", \"gas\", \"gas\", \"gas\", \"gasbuddy\", \"gate\", \"gay\", \"gdp_ratio\", \"gdp_ratio\", \"generous\", \"geneva\", \"george_hw\", \"germany_dax\", \"get\", \"get\", \"get\", \"get\", \"get\", \"get\", \"get\", \"get\", \"get\", \"ghazalat\", \"ghost\", \"gibson\", \"gigajoule\", \"gildan\", \"gingerbread\", \"girl\", \"glare\", \"global\", \"global\", \"global\", \"global\", \"global\", \"global\", \"global\", \"globalist\", \"globe\", \"globe\", \"globe\", \"globe\", \"globe\", \"globe\", \"globe_editorial\", \"globe_investor\", \"globe_newsletter\", \"globe_newswire\", \"globe_unlimit\", \"globe_unlimit\", \"globe_unlimit\", \"globeandmail\", \"globeandmail\", \"globeandmail\", \"globenewswire\", \"glogovac\", \"glory\", \"gmp\", \"go\", \"go\", \"go\", \"go\", \"go\", \"go\", \"go\", \"go\", \"go\", \"goalpost\", \"gobble\", \"gold_futur\", \"good\", \"good\", \"good\", \"good\", \"good\", \"good\", \"good\", \"good\", \"good\", \"good\", \"good\", \"good_morn\", \"googler\", \"gord\", \"gord\", \"gordondale\", \"gossain\", \"government\", \"government\", \"government\", \"government\", \"government\", \"government\", \"government\", \"government\", \"gowling_wlg\", \"gowlingwlg\", \"graduate\", \"graduate\", \"grain\", \"grain\", \"grandchild\", \"grande_prairie\", \"grande_prairie\", \"grandfather\", \"grandmother\", \"graydon_llp\", \"grd\", \"great\", \"great\", \"great\", \"great\", \"great\", \"great\", \"great\", \"great\", \"great_bear\", \"great_lake\", \"green\", \"green\", \"green\", \"green\", \"greenback\", \"greenhouse_gas\", \"grewal\", \"grey\", \"greyhound\", \"griffin_llp\", \"gross_margin\", \"gross_profit\", \"gross_profit\", \"grossumbach\", \"group\", \"group\", \"group\", \"group\", \"group\", \"group\", \"group\", \"grower\", \"growth\", \"growth\", \"growth\", \"growth\", \"growth\", \"guard\", \"guard\", \"guard\", \"guidance\", \"guinea\", \"gwynn\", \"hager\", \"haisla\", \"halifax\", \"halifax\", \"halifax\", \"halifax\", \"handlebar\", \"hansen\", \"harley\", \"harry\", \"harvest\", \"harvest\", \"harvest\", \"hawkin\", \"hbc\", \"headquarterless\", \"healing_lodge\", \"health\", \"health\", \"health\", \"health\", \"health\", \"health\", \"heavy\", \"heavy\", \"heavy\", \"heavy\", \"heavy\", \"helin\", \"hellofresh\", \"help\", \"help\", \"help\", \"help\", \"help\", \"help\", \"help\", \"help\", \"help\", \"henry\", \"herein\", \"hesitate\", \"higg\", \"higgs\", \"high\", \"high\", \"high\", \"high\", \"high\", \"high\", \"high\", \"high\", \"high_arctic\", \"hinder\", \"hip\", \"hit\", \"hit\", \"hit\", \"hit\", \"hit\", \"hit\", \"hold\", \"hold\", \"hold\", \"hold\", \"hold\", \"hold\", \"hold\", \"hold\", \"hold\", \"hold\", \"hold\", \"hold\", \"holding\", \"holiday_season\", \"holiday_season\", \"home\", \"home\", \"home\", \"home\", \"home\", \"home\", \"home\", \"home\", \"horizontal_well\", \"horsepower\", \"hospital\", \"hospital\", \"hospital\", \"host\", \"host\", \"host\", \"host\", \"hot\", \"hot\", \"hot\", \"hot\", \"hot\", \"hot\", \"housing\", \"housing\", \"housing\", \"housing\", \"housing\", \"hryciuk\", \"hse\", \"html\", \"huey\", \"hulchanski\", \"hurt\", \"husband\", \"husband\", \"husky\", \"husky\", \"hustle\", \"hutchinson\", \"hybrid\", \"hydro\", \"hydro\", \"hydro\", \"hydro\", \"hydro\", \"hydro\", \"ian_bicki\", \"icebreaker\", \"idea\", \"idea\", \"idea\", \"idea\", \"ideas_article\", \"idle_well\", \"ifrs\", \"iiroc\", \"imbalance\", \"imperial\", \"imperial\", \"imperial\", \"imperialism\", \"impossible\", \"impurity\", \"inactive\", \"inactive_well\", \"inc\", \"inc\", \"inc\", \"inc\", \"inc\", \"inc\", \"include\", \"include\", \"include\", \"include\", \"include\", \"include\", \"include\", \"include\", \"include\", \"include\", \"include\", \"include\", \"income\", \"income\", \"income\", \"increase\", \"increase\", \"increase\", \"increase\", \"increase\", \"increase\", \"incur\", \"index\", \"index\", \"index\", \"index\", \"indiana\", \"indication\", \"indigenous\", \"indigenous\", \"indigenous\", \"indigenous\", \"indigenous\", \"indonesia\", \"indonesia\", \"industrial_matt\", \"industry\", \"industry\", \"industry\", \"industry\", \"industry\", \"industry\", \"industry\", \"industry\", \"inflation\", \"inflation\", \"inflation\", \"information\", \"information\", \"information\", \"information\", \"information\", \"information\", \"information_please\", \"infrastructure\", \"infrastructure\", \"infrastructure\", \"infrastructure\", \"infrastructure\", \"infrastructure\", \"infrastructure\", \"infusion\", \"inside\", \"insolvency\", \"insurance\", \"insurance\", \"intake\", \"interest\", \"interest\", \"interest\", \"interest\", \"interest\", \"interest\", \"interest\", \"international\", \"international\", \"international\", \"international\", \"international\", \"international\", \"international\", \"international\", \"international\", \"international\", \"international\", \"internet\", \"interprovincial_trade\", \"interruptible\", \"investigation\", \"investigation\", \"investigation\", \"investigation\", \"investigation\", \"investing_investment\", \"investing_market\", \"investing_market\", \"investment\", \"investment\", \"investment\", \"investment\", \"investment\", \"investment\", \"investor\", \"investor\", \"investor\", \"investor\", \"invoice\", \"involve\", \"involve\", \"involve\", \"involve\", \"iran\", \"iron\", \"iron\", \"irving\", \"isd\", \"issuable\", \"issue\", \"issue\", \"issue\", \"issue\", \"issue\", \"issue\", \"issue\", \"issue\", \"issuer\", \"issuer\", \"italie\", \"jail\", \"jamie\", \"japan_nikkei\", \"jean\", \"jean\", \"jettison\", \"job\", \"job\", \"job\", \"job\", \"job\", \"job\", \"jody_white\", \"jonathan_wright\", \"joseph\", \"journalism\", \"journalism\", \"journalist_jamal\", \"joy\", \"juggling\", \"juice\", \"jump\", \"jump\", \"jump\", \"jump\", \"jurvhr\", \"justifie\", \"justin_giovannetti\", \"kawasaki\", \"kearl\", \"keith\", \"kelly\", \"kenney\", \"keystone_xl\", \"khashoggi\", \"khashoggi\", \"kill\", \"kill\", \"kill\", \"kill\", \"kilogram\", \"kilogram\", \"kindness\", \"king\", \"king\", \"kinross\", \"kit\", \"kneebone\", \"know\", \"know\", \"know\", \"know\", \"know\", \"know\", \"know\", \"know\", \"know\", \"know\", \"know\", \"known\", \"kruger\", \"lab\", \"laboucan\", \"lacavera\", \"lack\", \"lack\", \"lack\", \"lack\", \"lack\", \"lalousis\", \"land\", \"land\", \"land\", \"land\", \"land\", \"land\", \"landfill\", \"landlord\", \"landlord\", \"late\", \"late\", \"late\", \"late\", \"late\", \"late\", \"late\", \"late\", \"late\", \"late\", \"late\", \"lavoie\", \"law\", \"law\", \"law\", \"law\", \"law\", \"law\", \"law\", \"law_court\", \"lawyer\", \"lawyer\", \"lawyer\", \"lawyer\", \"lazerson\", \"lead\", \"lead\", \"lead\", \"lead\", \"lead\", \"lead\", \"lead\", \"lead\", \"lead\", \"lead\", \"lead\", \"leave\", \"leave\", \"leave\", \"leave\", \"leave\", \"leave\", \"leave\", \"leave\", \"leave\", \"left_lean\", \"leftish\", \"legal\", \"legal\", \"legal\", \"legal\", \"legal\", \"legal\", \"legal\", \"legalization\", \"legalization\", \"legault\", \"leger\", \"legitimate\", \"lenczner_slaght\", \"less\", \"less\", \"less\", \"less\", \"lesson\", \"lesson\", \"leszczyc\", \"lewi\", \"lewi\", \"lexpert\", \"liability\", \"liability\", \"liberal\", \"liberal\", \"liberal\", \"liberal\", \"liberal\", \"licence\", \"licence\", \"license_revenue\", \"licensed\", \"licensed_producer\", \"lieu\", \"life\", \"life\", \"life\", \"life\", \"life\", \"life\", \"life\", \"life\", \"life\", \"lifespan\", \"lightweight\", \"like\", \"like\", \"limited_henderson\", \"linderman\", \"lined\", \"link\", \"link\", \"link\", \"link\", \"link\", \"link\", \"liquid\", \"liquids_mboe\", \"lisa\", \"listing\", \"listing\", \"literally\", \"litigate\", \"litigation\", \"litigation\", \"litigator\", \"litre\", \"live\", \"live\", \"live\", \"live\", \"livingstone\", \"llp\", \"lng\", \"lofty\", \"logistic\", \"logistics\", \"london\", \"london\", \"london\", \"london\", \"london\", \"london\", \"longer_adjust\", \"longtime\", \"look\", \"look\", \"look\", \"look\", \"look\", \"look\", \"look\", \"look\", \"look\", \"look\", \"looking_statement\", \"looming_financial\", \"loss\", \"loss\", \"loss\", \"loss\", \"loss\", \"loss\", \"loss\", \"losses_result\", \"lot\", \"lot\", \"lot\", \"love\", \"love\", \"love\", \"love\", \"love\", \"lovitt\", \"low\", \"low\", \"low\", \"low\", \"low\", \"low\", \"low\", \"low\", \"low\", \"lower\", \"lower\", \"lower\", \"ltd\", \"ltd\", \"ltd\", \"ltd\", \"ltd\", \"ltd\", \"ltd\", \"ltd\", \"lubicon\", \"lush\", \"lush\", \"macdonald\", \"mail\", \"mail\", \"mail\", \"mail\", \"mail\", \"mailto_tip\", \"main_stock\", \"main_stock\", \"mainline\", \"mainslot\", \"make\", \"make\", \"make\", \"make\", \"make\", \"make\", \"make\", \"make\", \"make\", \"make\", \"make\", \"man\", \"man\", \"man\", \"man\", \"man\", \"management\", \"management\", \"management\", \"management\", \"management\", \"mandate\", \"manufacturing\", \"manufacturing_employee\", \"many\", \"many\", \"many\", \"many\", \"many\", \"many\", \"many\", \"many\", \"many\", \"many\", \"marine\", \"marine\", \"marine\", \"market\", \"market\", \"market\", \"market\", \"market\", \"market\", \"market\", \"market\", \"market\", \"market\", \"market\", \"markets_stock\", \"markets_stock\", \"markets_stock\", \"marquee\", \"marry\", \"martinrea\", \"mascarenha\", \"mat\", \"matter\", \"matter\", \"matter\", \"matter\", \"matting_fleet\", \"may\", \"may\", \"may\", \"may\", \"may\", \"may\", \"may\", \"may\", \"may\", \"may\", \"may\", \"may\", \"mayor_elect\", \"mayor_elect\", \"mayoral\", \"mboe\", \"mcf\", \"mcmahon\", \"mcteague\", \"meaningful\", \"meaningful\", \"meantime\", \"meantime\", \"measure\", \"measure\", \"measure\", \"measure\", \"measure\", \"measure\", \"median\", \"medical\", \"medical\", \"medical\", \"meeting\", \"meeting\", \"meeting\", \"meeting\", \"meeting\", \"meg\", \"megawatt\", \"meiee\", \"member\", \"member\", \"member\", \"member\", \"member\", \"member\", \"member\", \"memory\", \"merel\", \"mess\", \"meth\", \"metis\", \"mexican\", \"mexico\", \"mexico\", \"mexico\", \"mgx\", \"mgxmineral\", \"midterm\", \"migrant_caravan\", \"military\", \"military\", \"military\", \"military\", \"millennial\", \"miller\", \"miller\", \"miller\", \"million_tonne\", \"mineral\", \"mineral\", \"mineralsmgx\", \"miss\", \"miss\", \"miss\", \"miss\", \"miss\", \"miss\", \"mitch\", \"mla\", \"mmcf\", \"mmcf_hz\", \"mnuxuxkjzfs\", \"mobilization\", \"modelling\", \"modification\", \"modular\", \"module\", \"moe\", \"mohamm\", \"monaco\", \"money\", \"money\", \"money\", \"money\", \"money\", \"monopolize\", \"month\", \"month\", \"month\", \"month\", \"month\", \"month\", \"month\", \"month\", \"month\", \"month\", \"months_end\", \"months_endedseptember\", \"months_endedseptember\", \"montney_horizontal\", \"montreal\", \"montreal\", \"montreal\", \"montreal\", \"montreal\", \"montreal\", \"montreal\", \"montreal\", \"montreal\", \"montreal\", \"moreover\", \"morneau\", \"morneau\", \"morning_trad\", \"morning_update\", \"mortgage\", \"mortgage\", \"mortgage_rule\", \"mosleh\", \"mother\", \"mother\", \"mother\", \"motorcycle\", \"motorsport\", \"motorwork\", \"move\", \"move\", \"move\", \"move\", \"move\", \"move\", \"move\", \"move\", \"move\", \"move\", \"moves_multiple\", \"moves_national\", \"moves_national\", \"mr\", \"mr\", \"mr\", \"mr\", \"mr\", \"mr\", \"ms\", \"ms\", \"ms\", \"ms\", \"msci\", \"much\", \"much\", \"much\", \"much\", \"much\", \"much\", \"much\", \"much\", \"murder_interfer\", \"murder_trial\", \"murder_trial\", \"mustard\", \"nacg\", \"nacg\", \"name\", \"name\", \"name\", \"name\", \"name\", \"name\", \"nanoflotation\", \"narrowly\", \"national\", \"national\", \"national\", \"national\", \"national\", \"national\", \"national\", \"national\", \"national\", \"national\", \"national_desk\", \"national_observer\", \"nationalism\", \"nationalist\", \"nationaliz\", \"natural_gas\", \"natural_gas\", \"natural_gas\", \"natural_gas\", \"navigator\", \"ncib\", \"nee\", \"need\", \"need\", \"need\", \"need\", \"need\", \"need\", \"nenshi\", \"nep\", \"nephew\", \"nestled\", \"net\", \"net\", \"net\", \"net_loss\", \"never\", \"never\", \"never\", \"never\", \"never\", \"never\", \"never\", \"new\", \"new\", \"new\", \"new\", \"new\", \"new\", \"new\", \"new\", \"new\", \"new\", \"new\", \"new\", \"newfield\", \"newfield_exploration\", \"news\", \"news\", \"news\", \"news\", \"news\", \"news\", \"news\", \"news\", \"news\", \"news_release\", \"news_tip\", \"newsletter\", \"newsletter\", \"newsletter_written\", \"newsletters_utm_source\", \"newsroom_ap\", \"newswire\", \"ngls\", \"ngls\", \"niece\", \"nig\", \"nine_month\", \"nine_month\", \"ninepoint\", \"niverville\", \"noa\", \"non_gaap\", \"non_ifrs\", \"nonetheless\", \"norman\", \"northwestern\", \"norton_rose\", \"noskey\", \"note_mailto\", \"nothing\", \"nothing\", \"nothing\", \"notification\", \"notley\", \"notley\", \"nov\", \"nov\", \"nov\", \"nov_globe\", \"nova_scotia\", \"nova_scotia\", \"nova_scotia\", \"nova_scotia\", \"nova_scotia\", \"nova_scotia\", \"nova_scotia\", \"novel\", \"novel\", \"novel\", \"november\", \"november\", \"november\", \"november\", \"november\", \"november\", \"november\", \"november\", \"november\", \"november\", \"november\", \"nuclear\", \"nuclear\", \"nuclear\", \"number\", \"number\", \"number\", \"number\", \"number\", \"number\", \"number\", \"number\", \"number\", \"number\", \"number\", \"nuttall\", \"nxt\", \"nymex_henry\", \"obligation\", \"obligation\", \"obligation\", \"obstruct\", \"october\", \"october\", \"october\", \"october\", \"october\", \"october\", \"october\", \"october\", \"october\", \"odd\", \"odd\", \"odd\", \"official_warn\", \"offload\", \"offset\", \"offset\", \"oil\", \"oil\", \"oil\", \"oil\", \"oil\", \"oil\", \"oil\", \"oil\", \"oil\", \"oil\", \"oiled\", \"oilfield\", \"oilsand\", \"oilsand\", \"oilsand\", \"old\", \"old\", \"old\", \"old\", \"old\", \"old\", \"old\", \"old_monica\", \"oly_calgary\", \"olympic\", \"olympic\", \"olympic\", \"omar\", \"omarmosleh\", \"ominayak\", \"online\", \"online\", \"online\", \"online\", \"online\", \"online\", \"online\", \"ont\", \"ont\", \"ont\", \"ont\", \"ont\", \"ontario\", \"ontario\", \"ontario\", \"ontario\", \"ontario\", \"ontario\", \"ontario\", \"ontario\", \"ontario\", \"ontario\", \"ontario\", \"opec\", \"open\", \"open\", \"open\", \"open\", \"open\", \"open\", \"open\", \"open\", \"operating_activitie\", \"operating_activitie\", \"operating_expens\", \"operating_netback\", \"operation\", \"operation\", \"operation\", \"operation\", \"operation\", \"operation\", \"opinion_article\", \"opinion_editorial\", \"oppose\", \"optimize\", \"optimize\", \"organization\", \"organization\", \"organization\", \"orphan\", \"osler_hoskin\", \"ottawa\", \"ottawa\", \"ottawa\", \"ottawa\", \"ottawa\", \"ottawa\", \"ottawa\", \"ounce\", \"outlook\", \"outlook\", \"outperform\", \"output\", \"output\", \"output\", \"overhang\", \"overtake\", \"owner\", \"owner\", \"owner\", \"owner\", \"owner\", \"owner\", \"ox\", \"page\", \"page\", \"page\", \"page\", \"palaeontology\", \"paleotological\", \"pallister\", \"pan_european\", \"pan_orient\", \"papua\", \"paradigm\", \"parental_leave\", \"parkdale\", \"part\", \"part\", \"part\", \"part\", \"part\", \"part\", \"part\", \"part\", \"partnership\", \"partnership\", \"party\", \"party\", \"party\", \"party\", \"party\", \"party\", \"passcode\", \"passed_away\", \"patch\", \"patch\", \"patch\", \"patch\", \"patch\", \"patch_inside\", \"patented\", \"patrol\", \"payment\", \"payment\", \"payment\", \"payment\", \"payment\", \"payment\", \"payment\", \"payment\", \"pcs\", \"pdf_available\", \"peabody\", \"peacefully\", \"pengrowth\", \"people\", \"people\", \"people\", \"people\", \"people\", \"people\", \"per_cent\", \"per_cent\", \"per_cent\", \"per_cent\", \"per_cent\", \"percentchange\", \"perforated_interval\", \"perforated_interval\", \"performance\", \"performance\", \"performance\", \"performance\", \"performance\", \"period\", \"period\", \"period\", \"period\", \"period\", \"period\", \"permian\", \"perpetual_license\", \"perplexing\", \"peter\", \"peter\", \"peter\", \"peters_co\", \"petro\", \"petrolithium\", \"petrus\", \"phil\", \"phillipe\", \"photo\", \"photo\", \"photo\", \"photos_video\", \"pillow\", \"pineau\", \"pipeline\", \"pipeline\", \"pipeline\", \"pipeline\", \"pipeline_capacity\", \"pipeline_capacity\", \"pipeline_capacity\", \"pipeline_expansion\", \"plan\", \"plan\", \"plan\", \"plan\", \"plan\", \"plan\", \"plan\", \"plan\", \"plan\", \"plan\", \"platts\", \"please_guard\", \"pmi\", \"police\", \"police\", \"police\", \"police\", \"police\", \"policy\", \"policy\", \"policy\", \"policy\", \"policy\", \"policy\", \"policy\", \"politic\", \"politic\", \"politic\", \"politic\", \"politic\", \"politics_brief\", \"poll\", \"poll\", \"poll\", \"polling\", \"pollutant\", \"pollute\", \"pond\", \"pond\", \"pond\", \"popkowski\", \"populism\", \"populism\", \"populist\", \"populist\", \"portfolio\", \"portfolio\", \"position\", \"position\", \"position\", \"position\", \"position\", \"position\", \"position\", \"pot\", \"pot\", \"pot\", \"potent\", \"pouce_coupe\", \"pouch\", \"pourbaix\", \"ppr_share\", \"practice\", \"practice\", \"practice_focus\", \"prairie\", \"prairie\", \"prairie_provident\", \"precision\", \"predecease\", \"preferred_share\", \"preferred_share\", \"premarket_trad\", \"premier\", \"premier\", \"premier\", \"premier\", \"premier\", \"premier\", \"premier\", \"premier_francois\", \"premier_rachel\", \"premier_rachel\", \"premise\", \"prepayment\", \"presentation\", \"president\", \"president\", \"president\", \"president\", \"president\", \"president\", \"president\", \"president\", \"president\", \"president\", \"president\", \"president_donald\", \"president_donald\", \"president_donald\", \"president_donald\", \"press_page\", \"press_release\", \"press_release\", \"previous_advisory\", \"previous_fiscal\", \"price\", \"price\", \"price\", \"price\", \"price\", \"price\", \"price\", \"price\", \"price\", \"price\", \"primarily_due\", \"primarily_due\", \"primarily_due\", \"probability\", \"proceeding\", \"producer\", \"producer\", \"producer\", \"producer\", \"producer\", \"producer\", \"producer\", \"product\", \"product\", \"product\", \"product\", \"product\", \"product\", \"product\", \"product_liability\", \"production\", \"production\", \"production\", \"production\", \"production\", \"professional_liability\", \"profit\", \"profit\", \"profit\", \"profit\", \"profit_ris\", \"program\", \"program\", \"program\", \"program\", \"program\", \"program\", \"program\", \"program\", \"progressiv\", \"project\", \"project\", \"project\", \"project\", \"project\", \"project\", \"project\", \"prominent\", \"promise\", \"promise\", \"promise\", \"promise\", \"promise\", \"propane\", \"property_plant\", \"proposal\", \"protectionist\", \"provide\", \"provide\", \"provide\", \"provide\", \"provide\", \"province\", \"province\", \"province\", \"province\", \"province\", \"province\", \"province\", \"provincial\", \"provincial\", \"provincial\", \"provincial\", \"provincial\", \"prudential\", \"prudential\", \"prudential\", \"public\", \"public\", \"public\", \"public\", \"public\", \"public\", \"public\", \"public\", \"public\", \"public\", \"pump\", \"pundit\", \"purechem\", \"purlucid\", \"purpose_built\", \"pwc\", \"qst\", \"quarry\", \"quarter\", \"quarter\", \"quarter\", \"quarter\", \"quarter\", \"quarter\", \"quarterly_profit\", \"quebec\", \"quebec\", \"quebec\", \"quebec\", \"quebec\", \"quebec\", \"quebec\", \"quebec\", \"quebec\", \"quebec\", \"quebecer\", \"quebecer\", \"queen_bench\", \"questerre\", \"questor\", \"questortech\", \"quicker\", \"rachel\", \"rachel\", \"rail\", \"rail\", \"rail\", \"railway\", \"railway\", \"railway\", \"railway\", \"randy_neely\", \"rate\", \"rate\", \"rate\", \"rate\", \"rate\", \"rate\", \"rate_hike\", \"rate_hike\", \"rate_hike\", \"rbc\", \"rcmp\", \"rcmp\", \"rcmp\", \"rcmp\", \"rcmp\", \"reach\", \"reach\", \"reach\", \"reach\", \"reach\", \"reach\", \"reach\", \"read\", \"read\", \"read\", \"read\", \"read\", \"read\", \"read\", \"read\", \"real_estate\", \"real_estate\", \"real_estate\", \"real_estate\", \"realize\", \"realize\", \"realize\", \"rebuild\", \"recognize\", \"recognize\", \"recognize\", \"recognize\", \"reconfiguration\", \"redemption\", \"redevelop\", \"redevot\", \"refiner\", \"refinery\", \"refinery\", \"refugee\", \"refund\", \"regulator\", \"regulator\", \"regulator\", \"reit\", \"reitz\", \"rejection\", \"release\", \"release\", \"release\", \"release\", \"release\", \"release\", \"release\", \"release\", \"remark\", \"remediation\", \"remind\", \"renata\", \"render\", \"renegotiate\", \"renown\", \"rent\", \"rent\", \"rent\", \"rental\", \"rental\", \"rental_fleet\", \"rental_fleet\", \"rental_unit\", \"repay\", \"report\", \"report\", \"report\", \"report\", \"report\", \"report\", \"report\", \"report\", \"report\", \"report\", \"report\", \"reporter_photographer\", \"repurpos\", \"residential\", \"residential\", \"residential\", \"resource_download\", \"resource_globenewswire\", \"respondent\", \"restructuring\", \"result\", \"result\", \"result\", \"result\", \"result\", \"retail\", \"retail\", \"retail\", \"retail\", \"retail\", \"retailer\", \"retailer\", \"retailer\", \"retailer\", \"reuter\", \"reuter\", \"revamp\", \"revenue\", \"revenue\", \"revenue\", \"revenue_recognition\", \"revolving_facility\", \"revolving_facility\", \"rhetorical\", \"rib\", \"riddell_rose\", \"ride\", \"ride\", \"ride\", \"rig_count\", \"right\", \"right\", \"right\", \"right\", \"right\", \"right\", \"rise\", \"rise\", \"rise\", \"rise\", \"rise\", \"rise\", \"rise\", \"risks_uncertaintie\", \"robertson\", \"robertson\", \"rolling\", \"roof\", \"ross_clarkson\", \"roy\", \"rslt\", \"sabir\", \"sagan\", \"sahota\", \"sale\", \"sale\", \"sale\", \"sale\", \"sale\", \"sale\", \"sale\", \"sale\", \"sale\", \"sanction\", \"sanction\", \"saputo\", \"sarcophagus\", \"saskatchewan\", \"saskatchewan\", \"saskatchewan\", \"saskatchewan\", \"saskatchewan\", \"saskatchewan\", \"saskatchewan\", \"saskatchewan\", \"saudi\", \"saudi\", \"saudi\", \"schindler\", \"scoop\", \"scotiabank\", \"scotiabank\", \"scotland\", \"scrutiny\", \"seabird\", \"seabird\", \"secondary\", \"sector\", \"sector\", \"sector\", \"sector\", \"securedrop\", \"securely_reach\", \"security\", \"security\", \"security\", \"security\", \"security\", \"security\", \"sedar\", \"see\", \"see\", \"see\", \"see\", \"see\", \"see\", \"see\", \"see\", \"see\", \"see\", \"see\", \"seem\", \"seem\", \"seem\", \"seem\", \"seem\", \"seem\", \"segment\", \"segment\", \"seized\", \"self\", \"self\", \"self\", \"self\", \"send\", \"send\", \"send\", \"send\", \"send\", \"send\", \"send\", \"send\", \"senior_economist\", \"sense\", \"sense\", \"sense\", \"sense\", \"sent_word\", \"sent_word\", \"separatist\", \"september\", \"september\", \"september\", \"september\", \"september\", \"september\", \"september\", \"september\", \"sequoia\", \"sequoia_resource\", \"series\", \"series\", \"series\", \"series\", \"series\", \"service\", \"service\", \"service\", \"service\", \"service\", \"service\", \"service\", \"service\", \"service\", \"sets_forth\", \"seventh\", \"sfd\", \"share\", \"share\", \"share\", \"share\", \"share\", \"share\", \"share\", \"share\", \"share\", \"share_basic\", \"share_document\", \"sheet\", \"sheila\", \"sheila\", \"sheila\", \"shelter\", \"shelve\", \"sheraton\", \"shooting\", \"shop\", \"shop\", \"show\", \"show\", \"show\", \"show\", \"show\", \"show\", \"show\", \"show\", \"show\", \"show\", \"showroom\", \"shutdown\", \"shutdown\", \"shutdown\", \"shutdown\", \"sign\", \"sign\", \"sign\", \"sign\", \"sign\", \"sign\", \"sign\", \"sign\", \"sim\", \"simultaneously\", \"sister\", \"sister\", \"site\", \"site\", \"site\", \"site\", \"site\", \"site\", \"site\", \"situ\", \"skew\", \"skull\", \"slaying\", \"slightly\", \"slightly\", \"slightly\", \"slip\", \"slogan\", \"slowdown\", \"small\", \"small\", \"small\", \"small\", \"small\", \"small_cap\", \"smithe\", \"smithe_st\", \"snc\", \"snc\", \"social\", \"social\", \"social\", \"social\", \"social\", \"social_acceptability\", \"software\", \"software\", \"software_license\", \"somehow\", \"someone_else\", \"someone_else\", \"son\", \"son\", \"son\", \"son\", \"sonia\", \"sonia\", \"spanish\", \"specialize\", \"sphz\", \"split\", \"spokesperson\", \"sport\", \"sport\", \"sport\", \"sport\", \"sport\", \"spot_gold\", \"stability\", \"stafford\", \"staggering\", \"staggering\", \"standard_heat\", \"star\", \"star\", \"star\", \"star\", \"star\", \"star_analysis\", \"star_columnist\", \"starmetro_calgary\", \"starthere\", \"startup\", \"state\", \"state\", \"state\", \"state\", \"state\", \"state\", \"state\", \"state\", \"statement\", \"statement\", \"statement\", \"statement\", \"statement\", \"statewide\", \"steak\", \"steam\", \"stella\", \"stewardship\", \"stewart\", \"stikeman\", \"stikeman_elliott\", \"still\", \"still\", \"still\", \"still\", \"still\", \"still\", \"still\", \"still\", \"stock\", \"stock\", \"stock\", \"storage\", \"storage\", \"storage\", \"store\", \"store\", \"store\", \"store\", \"store\", \"store\", \"storm\", \"storm\", \"storm\", \"storm\", \"story\", \"story\", \"story\", \"story\", \"story\", \"story\", \"story\", \"story\", \"story\", \"story\", \"storyline\", \"stoxx\", \"str\", \"strad\", \"stradenergy\", \"straying\", \"street\", \"street\", \"street\", \"street\", \"street\", \"street\", \"streetwise\", \"structural\", \"stuck\", \"student\", \"student\", \"student\", \"studio\", \"stueck\", \"stumble\", \"stymie\", \"submission\", \"subordinate\", \"subscriber\", \"subscriber\", \"subscription_receipt\", \"subsequently\", \"subset\", \"subsidy\", \"substantially\", \"success\", \"success\", \"success\", \"success\", \"suma\", \"summary\", \"summary\", \"suncor\", \"suncor\", \"suncor\", \"suncor\", \"sunlife\", \"superintendent\", \"supply\", \"supply\", \"supply\", \"supply\", \"supply\", \"supply\", \"supply\", \"support\", \"support\", \"support\", \"support\", \"support\", \"support\", \"support\", \"support\", \"support\", \"surprising\", \"surrender\", \"surrey\", \"surrey\", \"survive\", \"survive\", \"survive\", \"survive\", \"survive\", \"survive\", \"survive\", \"sutherland\", \"suttl\", \"suttle\", \"swann\", \"symbol\", \"symbol\", \"symbol\", \"symbol\", \"synagogue\", \"syngas\", \"tailing\", \"tailings_pond\", \"tailings_pond\", \"take\", \"take\", \"take\", \"take\", \"take\", \"take\", \"take\", \"take\", \"take\", \"take\", \"take\", \"take\", \"take\", \"takeaway_capacity\", \"tale\", \"tanager\", \"tax\", \"tax\", \"tax\", \"tax\", \"tax\", \"tax\", \"taxes_depreciation\", \"tc_unvet\", \"tcpl\", \"technologymgx\", \"texas_intermediate\", \"tga\", \"tgl\", \"thailand_joint\", \"theconversation\", \"theglobeandmail\", \"theglobeandmail\", \"thereby\", \"thestar\", \"thing\", \"thing\", \"thing\", \"thing\", \"thing\", \"thing\", \"thing\", \"thing\", \"thing\", \"think\", \"think\", \"think\", \"think\", \"think\", \"think\", \"think\", \"think_mailto\", \"third_quarter\", \"third_quarter\", \"third_quarter\", \"third_quarter\", \"thirdly\", \"thomsonreuter\", \"threshold\", \"throat\", \"thursday\", \"thursday\", \"thursday\", \"thursday\", \"thursday\", \"thursday\", \"thursday\", \"tim_mckay\", \"time\", \"time\", \"time\", \"time\", \"time\", \"time\", \"time\", \"time\", \"time\", \"time\", \"time\", \"timelin\", \"timeline\", \"timeline\", \"timeline\", \"timing\", \"tips_globeandmail\", \"tire\", \"tobin\", \"today\", \"today\", \"today\", \"today\", \"today\", \"today\", \"today\", \"today\", \"today\", \"toilet\", \"told_reporter\", \"tombe\", \"tomwalkom\", \"top\", \"top\", \"top\", \"top\", \"top\", \"top\", \"top_employer\", \"top_storie\", \"top_storie\", \"top_storie\", \"top_storie\", \"toronto\", \"toronto\", \"toronto\", \"toronto\", \"toronto\", \"toronto\", \"toronto\", \"toronto\", \"toronto\", \"toronto\", \"toronto\", \"tosept\", \"total\", \"total\", \"total\", \"total\", \"total\", \"totally\", \"touchstone\", \"tower\", \"toy\", \"toy\", \"tpd\", \"tracie\", \"tracker_data\", \"trade\", \"trade\", \"trade\", \"trade\", \"trade\", \"trade\", \"trade\", \"trade\", \"trade\", \"trade\", \"trade\", \"trade_war\", \"trade_war\", \"trade_war\", \"traded_west\", \"traditionally\", \"tragic\", \"training\", \"tran\", \"tran\", \"tran\", \"tranche\", \"trans_mountain\", \"trans_mountain\", \"transalta\", \"transcanada\", \"transcanada\", \"transfer\", \"transfer\", \"transfer\", \"transfer\", \"transglobe\", \"translate\", \"translate\", \"translate\", \"translation\", \"transmit\", \"traverse\", \"treasury_yield\", \"treaty\", \"treaty\", \"treaty\", \"trend\", \"trend\", \"trend\", \"trend\", \"trend\", \"trend\", \"trial\", \"trial\", \"trial\", \"trial\", \"trial\", \"trial_lawyer\", \"tribunal\", \"trickle\", \"trike\", \"trinidad\", \"tron\", \"troop\", \"truce\", \"truce\", \"trudeau\", \"trudeau\", \"trudeau\", \"trudeau\", \"trump\", \"trump\", \"trump\", \"trump\", \"trump\", \"trump\", \"trumpian\", \"trumpism\", \"tsx\", \"tsx\", \"tsx\", \"tsx_composite\", \"tumble\", \"turner\", \"twitter\", \"twitter\", \"twitter\", \"twitter\", \"twitter\", \"tyrrell\", \"uinta\", \"ultimately\", \"umbach\", \"unaudited\", \"unaudited\", \"unemployed\", \"unemployed\", \"unfunded\", \"unit\", \"unit\", \"unit\", \"unit\", \"unit\", \"unit\", \"united_state\", \"united_state\", \"united_state\", \"united_state\", \"united_state\", \"united_state\", \"united_state\", \"university\", \"university\", \"university\", \"university\", \"university\", \"university\", \"university\", \"unlimited\", \"unlock\", \"unrelated\", \"unusual\", \"upcoming_develop\", \"upcoming_word\", \"upcoming_words\", \"update\", \"update\", \"update\", \"update\", \"update\", \"update\", \"update\", \"upstairs\", \"urbanation\", \"usa\", \"use\", \"use\", \"use\", \"use\", \"use\", \"use\", \"use\", \"use\", \"use\", \"use\", \"use\", \"usefulness\", \"valuation\", \"van\", \"vancouver\", \"vancouver\", \"vancouver\", \"vancouver\", \"vancouver\", \"vancouver\", \"vancouver\", \"vancouver\", \"variant\", \"venerable\", \"venture\", \"venture\", \"verification\", \"via_securedrop\", \"victim\", \"victim\", \"victim\", \"victim\", \"vida\", \"view\", \"view\", \"view\", \"view\", \"view\", \"violate\", \"violence\", \"violence\", \"virtual\", \"voc\", \"volunteer\", \"volunteering\", \"voter\", \"voter\", \"voter\", \"voter\", \"voting_right\", \"wadsworth\", \"wadsworth_presentation\", \"wage_growth\", \"wage_growth\", \"walkom\", \"want\", \"want\", \"want\", \"want\", \"want\", \"warranty\", \"waste\", \"waste\", \"water\", \"water\", \"water\", \"water\", \"water\", \"water\", \"water_capping\", \"watt\", \"way\", \"way\", \"way\", \"way\", \"way\", \"way\", \"way\", \"wcs\", \"weak\", \"weak\", \"weak\", \"weakness\", \"wealthy\", \"weapon\", \"weapon\", \"weapon\", \"web_site\", \"webcast\", \"wee\", \"weed\", \"weed\", \"week\", \"week\", \"week\", \"week\", \"week\", \"week\", \"week\", \"week\", \"week\", \"weighted_average\", \"well\", \"well\", \"well\", \"well\", \"well\", \"well\", \"well\", \"well\", \"well\", \"wells_drill\", \"wells_drill\", \"wellwood\", \"wendy\", \"western\", \"western\", \"western\", \"western\", \"western\", \"western\", \"western\", \"western\", \"westmoreland\", \"wetter\", \"wherewithal\", \"wide_range\", \"wife\", \"wife\", \"wife\", \"wildfire\", \"willing\", \"willingly\", \"williston\", \"wind\", \"wind\", \"wind\", \"winter\", \"winter\", \"winter\", \"winter\", \"winter\", \"woman\", \"woman\", \"woman\", \"woman\", \"woman\", \"wonderful\", \"word\", \"word\", \"word\", \"word\", \"word\", \"wordcounts_approximate\", \"work\", \"work\", \"work\", \"work\", \"work\", \"work\", \"work\", \"work\", \"work\", \"work\", \"work\", \"work_camp\", \"worker\", \"worker\", \"working_capital\", \"working_capital\", \"world\", \"world\", \"world\", \"world\", \"world\", \"world\", \"world\", \"world\", \"world\", \"world\", \"world\", \"worsley\", \"would\", \"would\", \"would\", \"would\", \"would\", \"would\", \"would\", \"would\", \"would\", \"write\", \"write\", \"write\", \"write\", \"write\", \"write\", \"writedown\", \"writer\", \"writer\", \"writer\", \"writethru\", \"writethru\", \"wrongdoer\", \"yamaha\", \"year\", \"year\", \"year\", \"year\", \"year\", \"year\", \"year\", \"year\", \"year\", \"year\", \"year\", \"year\", \"year\", \"yield\", \"yield\", \"younger\", \"yuan\", \"zargon\", \"zivkusic\"]}, \"R\": 30, \"lambda.step\": 0.01, \"plot.opts\": {\"xlab\": \"PC1\", \"ylab\": \"PC2\"}, \"topic.order\": [1, 2, 3, 4, 5, 6, 7, 8, 9, 10, 11, 12, 13, 14, 15, 16, 17, 18, 19, 20, 21, 22, 23, 24, 25, 26, 27, 28, 29, 30, 31, 32, 33, 34, 35]};\n",
       "\n",
       "function LDAvis_load_lib(url, callback){\n",
       "  var s = document.createElement('script');\n",
       "  s.src = url;\n",
       "  s.async = true;\n",
       "  s.onreadystatechange = s.onload = callback;\n",
       "  s.onerror = function(){console.warn(\"failed to load library \" + url);};\n",
       "  document.getElementsByTagName(\"head\")[0].appendChild(s);\n",
       "}\n",
       "\n",
       "if(typeof(LDAvis) !== \"undefined\"){\n",
       "   // already loaded: just create the visualization\n",
       "   !function(LDAvis){\n",
       "       new LDAvis(\"#\" + \"ldavis_el386801125874099522325579451\", ldavis_el386801125874099522325579451_data);\n",
       "   }(LDAvis);\n",
       "}else if(typeof define === \"function\" && define.amd){\n",
       "   // require.js is available: use it to load d3/LDAvis\n",
       "   require.config({paths: {d3: \"https://cdnjs.cloudflare.com/ajax/libs/d3/3.5.5/d3.min\"}});\n",
       "   require([\"d3\"], function(d3){\n",
       "      window.d3 = d3;\n",
       "      LDAvis_load_lib(\"https://cdn.rawgit.com/bmabey/pyLDAvis/files/ldavis.v1.0.0.js\", function(){\n",
       "        new LDAvis(\"#\" + \"ldavis_el386801125874099522325579451\", ldavis_el386801125874099522325579451_data);\n",
       "      });\n",
       "    });\n",
       "}else{\n",
       "    // require.js not available: dynamically load d3 & LDAvis\n",
       "    LDAvis_load_lib(\"https://cdnjs.cloudflare.com/ajax/libs/d3/3.5.5/d3.min.js\", function(){\n",
       "         LDAvis_load_lib(\"https://cdn.rawgit.com/bmabey/pyLDAvis/files/ldavis.v1.0.0.js\", function(){\n",
       "                 new LDAvis(\"#\" + \"ldavis_el386801125874099522325579451\", ldavis_el386801125874099522325579451_data);\n",
       "            })\n",
       "         });\n",
       "}\n",
       "</script>"
      ],
      "text/plain": [
       "PreparedData(topic_coordinates=              x         y  topics  cluster       Freq\n",
       "topic                                                \n",
       "0     -0.136314  0.028766       1        1   0.391364\n",
       "1      0.236187  0.163041       2        1   8.938945\n",
       "2     -0.175170  0.000188       3        1   0.116403\n",
       "3     -0.178133 -0.009822       4        1   0.014623\n",
       "4     -0.119874  0.016809       5        1   0.890636\n",
       "5      0.027500 -0.002155       6        1   0.649794\n",
       "6      0.285778  0.211016       7        1   8.682945\n",
       "7     -0.181069 -0.005287       8        1   0.056438\n",
       "8      0.044249 -0.123447       9        1   2.190236\n",
       "9      0.308875 -0.042514      10        1  22.583351\n",
       "10     0.232202 -0.185846      11        1   9.237591\n",
       "11     0.139842 -0.080989      12        1   2.511245\n",
       "12     0.012415  0.156246      13        1   0.770522\n",
       "13    -0.083363  0.024045      14        1   0.500078\n",
       "14    -0.125957 -0.006115      15        1   0.274532\n",
       "15    -0.136182  0.011825      16        1   0.469467\n",
       "16     0.182840 -0.174904      17        1  11.467810\n",
       "17    -0.043689  0.082675      18        1   0.456881\n",
       "18    -0.180146 -0.003870      19        1   0.018122\n",
       "19    -0.176124  0.003422      20        1   0.039103\n",
       "20     0.291300  0.086884      21        1   9.990149\n",
       "21    -0.173674  0.008513      22        1   0.118701\n",
       "22     0.194627  0.209937      23        1   2.530121\n",
       "23    -0.142087  0.010995      24        1   0.333496\n",
       "24     0.239523  0.084608      25        1   2.893582\n",
       "25     0.091860 -0.067262      26        1   1.285466\n",
       "26    -0.179302 -0.007781      27        1   0.026937\n",
       "27     0.011251  0.064492      28        1   0.575493\n",
       "28    -0.153351  0.005065      29        1   0.293955\n",
       "29    -0.161178  0.008645      30        1   0.174596\n",
       "30     0.066886 -0.126004      31        1   1.706105\n",
       "31     0.118589 -0.221803      32        1   4.602576\n",
       "32    -0.179033  0.002416      33        1   0.082068\n",
       "33     0.200114 -0.131928      34        1   4.896838\n",
       "34    -0.159389  0.010138      35        1   0.229825, topic_info=      Category         Freq                   Term        Total  loglift  \\\n",
       "term                                                                       \n",
       "167    Default  3380.000000                    oil  3380.000000  30.0000   \n",
       "359    Default  1734.000000               per_cent  1734.000000  29.0000   \n",
       "5020   Default  1561.000000                  photo  1561.000000  28.0000   \n",
       "46     Default  2565.000000                company  2565.000000  27.0000   \n",
       "5611   Default  1380.000000        theglobeandmail  1380.000000  26.0000   \n",
       "11     Default  1097.000000                article  1097.000000  25.0000   \n",
       "189    Default  1771.000000                  price  1771.000000  24.0000   \n",
       "149    Default  1757.000000                 market  1757.000000  23.0000   \n",
       "33     Default  3392.000000                 canada  3392.000000  22.0000   \n",
       "312    Default  1411.000000                 energy  1411.000000  21.0000   \n",
       "266    Default  1120.000000                   well  1120.000000  20.0000   \n",
       "192    Default   886.000000               province   886.000000  19.0000   \n",
       "394    Default  2852.000000                   year  2852.000000  18.0000   \n",
       "107    Default   819.000000                    gas   819.000000  17.0000   \n",
       "2      Default  2049.000000                alberta  2049.000000  16.0000   \n",
       "7063   Default   833.000000              sent_word   833.000000  15.0000   \n",
       "763    Default   674.000000                   city   674.000000  14.0000   \n",
       "176    Default   850.000000               pipeline   850.000000  13.0000   \n",
       "1675   Default  1009.000000                   cost  1009.000000  12.0000   \n",
       "3193   Default  1152.000000             production  1152.000000  11.0000   \n",
       "480    Default  1021.000000                 result  1021.000000  10.0000   \n",
       "893    Default   860.000000                project   860.000000   9.0000   \n",
       "1002   Default   962.000000               increase   962.000000   8.0000   \n",
       "129    Default   968.000000               industry   968.000000   7.0000   \n",
       "27     Default  1310.000000               business  1310.000000   6.0000   \n",
       "322    Default  1000.000000                    get  1000.000000   5.0000   \n",
       "96     Default   851.000000                federal   851.000000   4.0000   \n",
       "31     Default   943.000000                calgary   943.000000   3.0000   \n",
       "3569   Default  1039.000000                  share  1039.000000   2.0000   \n",
       "2381   Default   640.000000                    inc   640.000000   1.0000   \n",
       "...        ...          ...                    ...          ...      ...   \n",
       "13608  Topic35     5.824181              fax_email     6.537455   5.9601   \n",
       "22585  Topic35     5.522199                 denote     6.235474   5.9541   \n",
       "22624  Topic35     5.522199          standard_heat     6.235474   5.9541   \n",
       "22577  Topic35     5.522199   assessing_birchcliff     6.235474   5.9541   \n",
       "22592  Topic35     5.522199                   fofi     6.235474   5.9541   \n",
       "17140  Topic35     5.448923              imbalance     6.162197   5.9526   \n",
       "15559  Topic35     4.872912               deferred     5.586186   5.9390   \n",
       "22623  Topic35     4.735675             sets_forth     5.448950   5.9353   \n",
       "22611  Topic35     4.735675            nymex_henry     5.448950   5.9353   \n",
       "17131  Topic35     4.662399                    hip     5.375673   5.9333   \n",
       "22587  Topic35     3.949152                   doig     4.662426   5.9096   \n",
       "22625  Topic35     3.162627                   tcpl     3.875902   5.8722   \n",
       "22633  Topic35     3.162628                worsley     3.875902   5.8722   \n",
       "17085  Topic35     3.121471          christie_burn     3.834745   5.8698   \n",
       "17225  Topic35     3.121471               wellwood     3.834745   5.8698   \n",
       "17093  Topic35     2.972079                    cpa     3.685354   5.8605   \n",
       "15567  Topic35     2.366255                invoice     3.079529   5.8121   \n",
       "15242  Topic35     2.348316                   aete     3.061590   5.8104   \n",
       "18184  Topic35     2.033142                peabody     2.746416   5.7749   \n",
       "15566  Topic35     2.023293                 intake     2.736567   5.7736   \n",
       "22581  Topic35     7.139747              cdn_mmbtu     9.796166   5.7593   \n",
       "22609  Topic35    13.729080                   ngls    25.426971   5.4593   \n",
       "22607  Topic35     4.744026  months_endedseptember    10.371310   5.2934   \n",
       "13614  Topic35     4.020601        preferred_share    11.641506   5.0125   \n",
       "22616  Topic35     5.250749          primarily_due    32.841656   4.2423   \n",
       "21     Topic35     9.710853                  board   393.145447   2.3747   \n",
       "1395   Topic35     8.464590                  bring   263.816956   2.6362   \n",
       "484    Topic35     5.229085                 series    90.634308   3.2230   \n",
       "1595   Topic35     4.421011              committee   129.336823   2.6996   \n",
       "3143   Topic35     3.516589               position   220.780228   1.9359   \n",
       "\n",
       "       logprob  \n",
       "term            \n",
       "167    30.0000  \n",
       "359    29.0000  \n",
       "5020   28.0000  \n",
       "46     27.0000  \n",
       "5611   26.0000  \n",
       "11     25.0000  \n",
       "189    24.0000  \n",
       "149    23.0000  \n",
       "33     22.0000  \n",
       "312    21.0000  \n",
       "266    20.0000  \n",
       "192    19.0000  \n",
       "394    18.0000  \n",
       "107    17.0000  \n",
       "2      16.0000  \n",
       "7063   15.0000  \n",
       "763    14.0000  \n",
       "176    13.0000  \n",
       "1675   12.0000  \n",
       "3193   11.0000  \n",
       "480    10.0000  \n",
       "893     9.0000  \n",
       "1002    8.0000  \n",
       "129     7.0000  \n",
       "27      6.0000  \n",
       "322     5.0000  \n",
       "96      4.0000  \n",
       "31      3.0000  \n",
       "3569    2.0000  \n",
       "2381    1.0000  \n",
       "...        ...  \n",
       "13608  -5.1644  \n",
       "22585  -5.2177  \n",
       "22624  -5.2177  \n",
       "22577  -5.2177  \n",
       "22592  -5.2177  \n",
       "17140  -5.2310  \n",
       "15559  -5.3428  \n",
       "22623  -5.3713  \n",
       "22611  -5.3713  \n",
       "17131  -5.3869  \n",
       "22587  -5.5530  \n",
       "22625  -5.7751  \n",
       "22633  -5.7751  \n",
       "17085  -5.7882  \n",
       "17225  -5.7882  \n",
       "17093  -5.8372  \n",
       "15567  -6.0652  \n",
       "15242  -6.0728  \n",
       "18184  -6.2169  \n",
       "15566  -6.2217  \n",
       "22581  -4.9608  \n",
       "22609  -4.3069  \n",
       "22607  -5.3696  \n",
       "13614  -5.5350  \n",
       "22616  -5.2681  \n",
       "21     -4.6532  \n",
       "1395   -4.7906  \n",
       "484    -5.2722  \n",
       "1595   -5.4401  \n",
       "3143   -5.6690  \n",
       "\n",
       "[1940 rows x 6 columns], token_table=       Topic      Freq                 Term\n",
       "term                                       \n",
       "1043      10  0.405609              abandon\n",
       "1043      11  0.195293              abandon\n",
       "1043      13  0.255383              abandon\n",
       "1043      34  0.135203              abandon\n",
       "8819      13  0.934945                abbey\n",
       "21997     33  0.607592                  abd\n",
       "6018      14  0.855251               absurd\n",
       "1053      17  0.987518             accident\n",
       "11459      2  0.992812           accordance\n",
       "11138      7  0.991947          accordingly\n",
       "9913      11  0.591935           accounting\n",
       "9913      16  0.414354           accounting\n",
       "23294      1  0.959767  accounts_receivable\n",
       "11107     24  0.923411               accrue\n",
       "14582     14  0.849395           accurately\n",
       "1062      10  0.103374               accuse\n",
       "1062      11  0.457798               accuse\n",
       "1062      26  0.376576               accuse\n",
       "1062      32  0.059071               accuse\n",
       "5878       2  0.735665          acquisition\n",
       "5878      21  0.260376          acquisition\n",
       "24116     25  0.935528           activewear\n",
       "581        2  0.325616             activity\n",
       "581        7  0.595939             activity\n",
       "581       10  0.030718             activity\n",
       "581       17  0.003072             activity\n",
       "581       21  0.027647             activity\n",
       "581       26  0.015359             activity\n",
       "7277       2  0.989491        actual_result\n",
       "1073      11  0.021204                   ad\n",
       "...      ...       ...                  ...\n",
       "277       17  0.085718                write\n",
       "277       21  0.242868                write\n",
       "277       34  0.204771                write\n",
       "19341     29  0.917889            writedown\n",
       "278       11  0.400013               writer\n",
       "278       17  0.007693               writer\n",
       "278       32  0.592327               writer\n",
       "7385      11  0.014491            writethru\n",
       "7385      32  0.970888            writethru\n",
       "24036     18  0.792969            wrongdoer\n",
       "24057     14  0.898484               yamaha\n",
       "394        7  0.128654                 year\n",
       "394        9  0.034004                 year\n",
       "394       10  0.195260                 year\n",
       "394       11  0.183341                 year\n",
       "394       12  0.004557                 year\n",
       "394       17  0.115684                 year\n",
       "394       21  0.212437                 year\n",
       "394       23  0.030498                 year\n",
       "394       25  0.028395                 year\n",
       "394       26  0.004207                 year\n",
       "394       28  0.018579                 year\n",
       "394       32  0.001753                 year\n",
       "394       34  0.042768                 year\n",
       "5870      21  0.859464                yield\n",
       "5870      25  0.126392                yield\n",
       "23966     28  0.891479              younger\n",
       "16515     25  0.941145                 yuan\n",
       "13706     21  0.982275               zargon\n",
       "19579     33  0.502565             zivkusic\n",
       "\n",
       "[4000 rows x 3 columns], R=30, lambda_step=0.01, plot_opts={'xlab': 'PC1', 'ylab': 'PC2'}, topic_order=[1, 2, 3, 4, 5, 6, 7, 8, 9, 10, 11, 12, 13, 14, 15, 16, 17, 18, 19, 20, 21, 22, 23, 24, 25, 26, 27, 28, 29, 30, 31, 32, 33, 34, 35])"
      ]
     },
     "execution_count": 199,
     "metadata": {},
     "output_type": "execute_result"
    }
   ],
   "source": [
    "# Visualize the topics\n",
    "pyLDAvis.enable_notebook()\n",
    "vis = pyLDAvis.gensim.prepare(lda_model_optimal, corpus_bag_of_words, id2word, sort_topics=False)\n",
    "vis"
   ]
  },
  {
   "cell_type": "code",
   "execution_count": 324,
   "metadata": {},
   "outputs": [],
   "source": [
    "# from this, you can see that topic 23 is about production cuts in Alberta and OPEC, topic 7 is about increasing production, topic 10 is about pipelines"
   ]
  },
  {
   "cell_type": "markdown",
   "metadata": {},
   "source": [
    "#### Looking at output from the LDA model"
   ]
  },
  {
   "cell_type": "code",
   "execution_count": null,
   "metadata": {},
   "outputs": [],
   "source": [
    "# Reference: https://github.com/RaRe-Technologies/gensim/blob/develop/docs/notebooks/topic_methods.ipynb"
   ]
  },
  {
   "cell_type": "code",
   "execution_count": 200,
   "metadata": {},
   "outputs": [
    {
     "data": {
      "text/plain": [
       "629"
      ]
     },
     "execution_count": 200,
     "metadata": {},
     "output_type": "execute_result"
    }
   ],
   "source": [
    "len(corpus_bag_of_words)"
   ]
  },
  {
   "cell_type": "code",
   "execution_count": 201,
   "metadata": {},
   "outputs": [
    {
     "data": {
      "text/plain": [
       "629"
      ]
     },
     "execution_count": 201,
     "metadata": {},
     "output_type": "execute_result"
    }
   ],
   "source": [
    "len(lda_model_optimal[corpus_bag_of_words])"
   ]
  },
  {
   "cell_type": "markdown",
   "metadata": {},
   "source": [
    "#### Topic distribution across documents"
   ]
  },
  {
   "cell_type": "code",
   "execution_count": 202,
   "metadata": {},
   "outputs": [],
   "source": [
    "topics_in_each_document = lda_model_optimal.get_document_topics(corpus_bag_of_words, per_word_topics=False, minimum_probability=0.0)\n",
    "# this will output the relevant topics per document"
   ]
  },
  {
   "cell_type": "code",
   "execution_count": 203,
   "metadata": {},
   "outputs": [
    {
     "data": {
      "text/plain": [
       "[(0, 3.9594557e-05),\n",
       " (1, 0.0003969689),\n",
       " (2, 6.733274e-05),\n",
       " (3, 2.9071018e-05),\n",
       " (4, 8.443348e-05),\n",
       " (5, 0.00020547547),\n",
       " (6, 0.06148819),\n",
       " (7, 4.3595686e-05),\n",
       " (8, 0.00021169712),\n",
       " (9, 0.19122764),\n",
       " (10, 0.16264066),\n",
       " (11, 0.00023062261),\n",
       " (12, 0.00017399843),\n",
       " (13, 0.0001749166),\n",
       " (14, 0.02907594),\n",
       " (15, 0.00016830224),\n",
       " (16, 0.0014284326),\n",
       " (17, 0.00016949279),\n",
       " (18, 3.6919e-05),\n",
       " (19, 3.97158e-05),\n",
       " (20, 0.047067),\n",
       " (21, 0.008811401),\n",
       " (22, 0.00050843816),\n",
       " (23, 0.0001369409),\n",
       " (24, 0.00032061202),\n",
       " (25, 0.00018371126),\n",
       " (26, 3.4479715e-05),\n",
       " (27, 0.00012324826),\n",
       " (28, 0.00020926107),\n",
       " (29, 6.0467202e-05),\n",
       " (30, 0.00036221102),\n",
       " (31, 0.0002556759),\n",
       " (32, 3.9309056e-05),\n",
       " (33, 0.49389833),\n",
       " (34, 5.5880257e-05)]"
      ]
     },
     "execution_count": 203,
     "metadata": {},
     "output_type": "execute_result"
    }
   ],
   "source": [
    "# one probability weight for each topic in this document\n",
    "topics_in_each_document[4]"
   ]
  },
  {
   "cell_type": "code",
   "execution_count": 204,
   "metadata": {},
   "outputs": [],
   "source": [
    "# creating a document_topic_matrix for all topics, all documents"
   ]
  },
  {
   "cell_type": "code",
   "execution_count": 205,
   "metadata": {},
   "outputs": [],
   "source": [
    "topic_document_matrix = []\n",
    "for document_topics in topics_in_each_document:\n",
    "    tdm = {}\n",
    "    for topicFound in document_topics:\n",
    "        topicID = topicFound[0]\n",
    "        topicValue = topicFound[1]\n",
    "        tdm[topicID] = topicValue # set value\n",
    "    topic_document_matrix.append(tdm)\n",
    "tdm_df = pd.DataFrame(topic_document_matrix)        "
   ]
  },
  {
   "cell_type": "code",
   "execution_count": 206,
   "metadata": {},
   "outputs": [],
   "source": [
    "# change order of columns\n",
    "columns = [\"topic_\"+str(i) for i in range(1,idealNumberOfTopics+1)]"
   ]
  },
  {
   "cell_type": "code",
   "execution_count": 207,
   "metadata": {},
   "outputs": [],
   "source": [
    "tdm_df.columns = columns"
   ]
  },
  {
   "cell_type": "code",
   "execution_count": 208,
   "metadata": {},
   "outputs": [
    {
     "data": {
      "text/html": [
       "<div>\n",
       "<style scoped>\n",
       "    .dataframe tbody tr th:only-of-type {\n",
       "        vertical-align: middle;\n",
       "    }\n",
       "\n",
       "    .dataframe tbody tr th {\n",
       "        vertical-align: top;\n",
       "    }\n",
       "\n",
       "    .dataframe thead th {\n",
       "        text-align: right;\n",
       "    }\n",
       "</style>\n",
       "<table border=\"1\" class=\"dataframe\">\n",
       "  <thead>\n",
       "    <tr style=\"text-align: right;\">\n",
       "      <th></th>\n",
       "      <th>topic_1</th>\n",
       "      <th>topic_2</th>\n",
       "      <th>topic_3</th>\n",
       "      <th>topic_4</th>\n",
       "      <th>topic_5</th>\n",
       "      <th>topic_6</th>\n",
       "      <th>topic_7</th>\n",
       "      <th>topic_8</th>\n",
       "      <th>topic_9</th>\n",
       "      <th>topic_10</th>\n",
       "      <th>...</th>\n",
       "      <th>topic_26</th>\n",
       "      <th>topic_27</th>\n",
       "      <th>topic_28</th>\n",
       "      <th>topic_29</th>\n",
       "      <th>topic_30</th>\n",
       "      <th>topic_31</th>\n",
       "      <th>topic_32</th>\n",
       "      <th>topic_33</th>\n",
       "      <th>topic_34</th>\n",
       "      <th>topic_35</th>\n",
       "    </tr>\n",
       "  </thead>\n",
       "  <tbody>\n",
       "    <tr>\n",
       "      <th>0</th>\n",
       "      <td>0.000034</td>\n",
       "      <td>0.005256</td>\n",
       "      <td>0.000057</td>\n",
       "      <td>0.000025</td>\n",
       "      <td>0.000072</td>\n",
       "      <td>0.000174</td>\n",
       "      <td>0.001465</td>\n",
       "      <td>0.000037</td>\n",
       "      <td>0.000180</td>\n",
       "      <td>0.365153</td>\n",
       "      <td>...</td>\n",
       "      <td>0.000156</td>\n",
       "      <td>0.000029</td>\n",
       "      <td>0.000105</td>\n",
       "      <td>0.000178</td>\n",
       "      <td>0.000051</td>\n",
       "      <td>0.028083</td>\n",
       "      <td>0.000217</td>\n",
       "      <td>0.000033</td>\n",
       "      <td>0.420537</td>\n",
       "      <td>0.000047</td>\n",
       "    </tr>\n",
       "    <tr>\n",
       "      <th>1</th>\n",
       "      <td>0.000052</td>\n",
       "      <td>0.000526</td>\n",
       "      <td>0.000089</td>\n",
       "      <td>0.000039</td>\n",
       "      <td>0.000112</td>\n",
       "      <td>0.000272</td>\n",
       "      <td>0.023942</td>\n",
       "      <td>0.000058</td>\n",
       "      <td>0.000281</td>\n",
       "      <td>0.597089</td>\n",
       "      <td>...</td>\n",
       "      <td>0.000244</td>\n",
       "      <td>0.000046</td>\n",
       "      <td>0.000163</td>\n",
       "      <td>0.000277</td>\n",
       "      <td>0.000080</td>\n",
       "      <td>0.000481</td>\n",
       "      <td>0.000339</td>\n",
       "      <td>0.000052</td>\n",
       "      <td>0.001492</td>\n",
       "      <td>0.000074</td>\n",
       "    </tr>\n",
       "    <tr>\n",
       "      <th>2</th>\n",
       "      <td>0.000046</td>\n",
       "      <td>0.000459</td>\n",
       "      <td>0.000078</td>\n",
       "      <td>0.000034</td>\n",
       "      <td>0.000098</td>\n",
       "      <td>0.000237</td>\n",
       "      <td>0.002228</td>\n",
       "      <td>0.000050</td>\n",
       "      <td>0.000245</td>\n",
       "      <td>0.152218</td>\n",
       "      <td>...</td>\n",
       "      <td>0.000212</td>\n",
       "      <td>0.000040</td>\n",
       "      <td>0.000142</td>\n",
       "      <td>0.000242</td>\n",
       "      <td>0.003490</td>\n",
       "      <td>0.066337</td>\n",
       "      <td>0.041136</td>\n",
       "      <td>0.000045</td>\n",
       "      <td>0.001177</td>\n",
       "      <td>0.000065</td>\n",
       "    </tr>\n",
       "    <tr>\n",
       "      <th>3</th>\n",
       "      <td>0.000100</td>\n",
       "      <td>0.001007</td>\n",
       "      <td>0.000171</td>\n",
       "      <td>0.000074</td>\n",
       "      <td>0.000214</td>\n",
       "      <td>0.000521</td>\n",
       "      <td>0.004990</td>\n",
       "      <td>0.000111</td>\n",
       "      <td>0.000537</td>\n",
       "      <td>0.365666</td>\n",
       "      <td>...</td>\n",
       "      <td>0.000466</td>\n",
       "      <td>0.000087</td>\n",
       "      <td>0.000313</td>\n",
       "      <td>0.000531</td>\n",
       "      <td>0.000153</td>\n",
       "      <td>0.000919</td>\n",
       "      <td>0.000648</td>\n",
       "      <td>0.000100</td>\n",
       "      <td>0.194657</td>\n",
       "      <td>0.000142</td>\n",
       "    </tr>\n",
       "    <tr>\n",
       "      <th>4</th>\n",
       "      <td>0.000040</td>\n",
       "      <td>0.000397</td>\n",
       "      <td>0.000067</td>\n",
       "      <td>0.000029</td>\n",
       "      <td>0.000084</td>\n",
       "      <td>0.000205</td>\n",
       "      <td>0.061491</td>\n",
       "      <td>0.000044</td>\n",
       "      <td>0.000212</td>\n",
       "      <td>0.191231</td>\n",
       "      <td>...</td>\n",
       "      <td>0.000184</td>\n",
       "      <td>0.000034</td>\n",
       "      <td>0.000123</td>\n",
       "      <td>0.000209</td>\n",
       "      <td>0.000060</td>\n",
       "      <td>0.000362</td>\n",
       "      <td>0.000256</td>\n",
       "      <td>0.000039</td>\n",
       "      <td>0.493898</td>\n",
       "      <td>0.000056</td>\n",
       "    </tr>\n",
       "  </tbody>\n",
       "</table>\n",
       "<p>5 rows × 35 columns</p>\n",
       "</div>"
      ],
      "text/plain": [
       "    topic_1   topic_2   topic_3   topic_4   topic_5   topic_6   topic_7  \\\n",
       "0  0.000034  0.005256  0.000057  0.000025  0.000072  0.000174  0.001465   \n",
       "1  0.000052  0.000526  0.000089  0.000039  0.000112  0.000272  0.023942   \n",
       "2  0.000046  0.000459  0.000078  0.000034  0.000098  0.000237  0.002228   \n",
       "3  0.000100  0.001007  0.000171  0.000074  0.000214  0.000521  0.004990   \n",
       "4  0.000040  0.000397  0.000067  0.000029  0.000084  0.000205  0.061491   \n",
       "\n",
       "    topic_8   topic_9  topic_10    ...     topic_26  topic_27  topic_28  \\\n",
       "0  0.000037  0.000180  0.365153    ...     0.000156  0.000029  0.000105   \n",
       "1  0.000058  0.000281  0.597089    ...     0.000244  0.000046  0.000163   \n",
       "2  0.000050  0.000245  0.152218    ...     0.000212  0.000040  0.000142   \n",
       "3  0.000111  0.000537  0.365666    ...     0.000466  0.000087  0.000313   \n",
       "4  0.000044  0.000212  0.191231    ...     0.000184  0.000034  0.000123   \n",
       "\n",
       "   topic_29  topic_30  topic_31  topic_32  topic_33  topic_34  topic_35  \n",
       "0  0.000178  0.000051  0.028083  0.000217  0.000033  0.420537  0.000047  \n",
       "1  0.000277  0.000080  0.000481  0.000339  0.000052  0.001492  0.000074  \n",
       "2  0.000242  0.003490  0.066337  0.041136  0.000045  0.001177  0.000065  \n",
       "3  0.000531  0.000153  0.000919  0.000648  0.000100  0.194657  0.000142  \n",
       "4  0.000209  0.000060  0.000362  0.000256  0.000039  0.493898  0.000056  \n",
       "\n",
       "[5 rows x 35 columns]"
      ]
     },
     "execution_count": 208,
     "metadata": {},
     "output_type": "execute_result"
    }
   ],
   "source": [
    "tdm_df.head()"
   ]
  },
  {
   "cell_type": "code",
   "execution_count": 209,
   "metadata": {},
   "outputs": [],
   "source": [
    "# this will calculate the dominant topic per document, recall this starts from 0\n",
    "dominant_topic = np.argmax(tdm_df.values, axis=1)"
   ]
  },
  {
   "cell_type": "code",
   "execution_count": 210,
   "metadata": {},
   "outputs": [],
   "source": [
    "tdm_df['dominant_topic'] = dominant_topic+1 # using index starting from 1"
   ]
  },
  {
   "cell_type": "code",
   "execution_count": 224,
   "metadata": {},
   "outputs": [],
   "source": [
    "combined_tdm = pd.concat([df_articles, tdm_df], axis=1) "
   ]
  },
  {
   "cell_type": "code",
   "execution_count": 212,
   "metadata": {},
   "outputs": [],
   "source": [
    "#combined_tdm.loc[4].text"
   ]
  },
  {
   "cell_type": "code",
   "execution_count": 225,
   "metadata": {},
   "outputs": [
    {
     "data": {
      "text/html": [
       "<div>\n",
       "<style scoped>\n",
       "    .dataframe tbody tr th:only-of-type {\n",
       "        vertical-align: middle;\n",
       "    }\n",
       "\n",
       "    .dataframe tbody tr th {\n",
       "        vertical-align: top;\n",
       "    }\n",
       "\n",
       "    .dataframe thead th {\n",
       "        text-align: right;\n",
       "    }\n",
       "</style>\n",
       "<table border=\"1\" class=\"dataframe\">\n",
       "  <thead>\n",
       "    <tr style=\"text-align: right;\">\n",
       "      <th></th>\n",
       "      <th>author</th>\n",
       "      <th>date</th>\n",
       "      <th>headline</th>\n",
       "      <th>text</th>\n",
       "      <th>topic_1</th>\n",
       "      <th>topic_2</th>\n",
       "      <th>topic_3</th>\n",
       "      <th>topic_4</th>\n",
       "      <th>topic_5</th>\n",
       "      <th>topic_6</th>\n",
       "      <th>...</th>\n",
       "      <th>topic_27</th>\n",
       "      <th>topic_28</th>\n",
       "      <th>topic_29</th>\n",
       "      <th>topic_30</th>\n",
       "      <th>topic_31</th>\n",
       "      <th>topic_32</th>\n",
       "      <th>topic_33</th>\n",
       "      <th>topic_34</th>\n",
       "      <th>topic_35</th>\n",
       "      <th>dominant_topic</th>\n",
       "    </tr>\n",
       "  </thead>\n",
       "  <tbody>\n",
       "    <tr>\n",
       "      <th>0</th>\n",
       "      <td>Gillian Steward</td>\n",
       "      <td>1 January 2019</td>\n",
       "      <td>Threats of Alberta separation are mostly an el...</td>\n",
       "      <td>The angry Albertan has struck again.\\nAnd he ...</td>\n",
       "      <td>0.000034</td>\n",
       "      <td>0.005256</td>\n",
       "      <td>0.000057</td>\n",
       "      <td>0.000025</td>\n",
       "      <td>0.000072</td>\n",
       "      <td>0.000174</td>\n",
       "      <td>...</td>\n",
       "      <td>0.000029</td>\n",
       "      <td>0.000105</td>\n",
       "      <td>0.000178</td>\n",
       "      <td>0.000051</td>\n",
       "      <td>0.028083</td>\n",
       "      <td>0.000217</td>\n",
       "      <td>0.000033</td>\n",
       "      <td>0.420537</td>\n",
       "      <td>0.000047</td>\n",
       "      <td>34</td>\n",
       "    </tr>\n",
       "    <tr>\n",
       "      <th>1</th>\n",
       "      <td>Kevin Maimann  StarMetro Edmonton</td>\n",
       "      <td>1 January 2019</td>\n",
       "      <td>Albertans dislike PM the most, poll finds; Gov...</td>\n",
       "      <td>EDMONTON -- Albertans are most likely among C...</td>\n",
       "      <td>0.000052</td>\n",
       "      <td>0.000526</td>\n",
       "      <td>0.000089</td>\n",
       "      <td>0.000039</td>\n",
       "      <td>0.000112</td>\n",
       "      <td>0.000272</td>\n",
       "      <td>...</td>\n",
       "      <td>0.000046</td>\n",
       "      <td>0.000163</td>\n",
       "      <td>0.000277</td>\n",
       "      <td>0.000080</td>\n",
       "      <td>0.000481</td>\n",
       "      <td>0.000339</td>\n",
       "      <td>0.000052</td>\n",
       "      <td>0.001492</td>\n",
       "      <td>0.000074</td>\n",
       "      <td>10</td>\n",
       "    </tr>\n",
       "    <tr>\n",
       "      <th>2</th>\n",
       "      <td>Kevin Maimann  StarMetro Edmonton</td>\n",
       "      <td>1 January 2019</td>\n",
       "      <td>Our annual predictions for the year ahead</td>\n",
       "      <td>S o long, 2018. The year started with Virtue ...</td>\n",
       "      <td>0.000046</td>\n",
       "      <td>0.000459</td>\n",
       "      <td>0.000078</td>\n",
       "      <td>0.000034</td>\n",
       "      <td>0.000098</td>\n",
       "      <td>0.000237</td>\n",
       "      <td>...</td>\n",
       "      <td>0.000040</td>\n",
       "      <td>0.000142</td>\n",
       "      <td>0.000242</td>\n",
       "      <td>0.003490</td>\n",
       "      <td>0.066337</td>\n",
       "      <td>0.041136</td>\n",
       "      <td>0.000045</td>\n",
       "      <td>0.001177</td>\n",
       "      <td>0.000065</td>\n",
       "      <td>25</td>\n",
       "    </tr>\n",
       "  </tbody>\n",
       "</table>\n",
       "<p>3 rows × 40 columns</p>\n",
       "</div>"
      ],
      "text/plain": [
       "                               author            date  \\\n",
       "0                    Gillian Steward   1 January 2019   \n",
       "1  Kevin Maimann  StarMetro Edmonton   1 January 2019   \n",
       "2  Kevin Maimann  StarMetro Edmonton   1 January 2019   \n",
       "\n",
       "                                            headline  \\\n",
       "0  Threats of Alberta separation are mostly an el...   \n",
       "1  Albertans dislike PM the most, poll finds; Gov...   \n",
       "2          Our annual predictions for the year ahead   \n",
       "\n",
       "                                                text   topic_1   topic_2  \\\n",
       "0   The angry Albertan has struck again.\\nAnd he ...  0.000034  0.005256   \n",
       "1   EDMONTON -- Albertans are most likely among C...  0.000052  0.000526   \n",
       "2   S o long, 2018. The year started with Virtue ...  0.000046  0.000459   \n",
       "\n",
       "    topic_3   topic_4   topic_5   topic_6       ...        topic_27  topic_28  \\\n",
       "0  0.000057  0.000025  0.000072  0.000174       ...        0.000029  0.000105   \n",
       "1  0.000089  0.000039  0.000112  0.000272       ...        0.000046  0.000163   \n",
       "2  0.000078  0.000034  0.000098  0.000237       ...        0.000040  0.000142   \n",
       "\n",
       "   topic_29  topic_30  topic_31  topic_32  topic_33  topic_34  topic_35  \\\n",
       "0  0.000178  0.000051  0.028083  0.000217  0.000033  0.420537  0.000047   \n",
       "1  0.000277  0.000080  0.000481  0.000339  0.000052  0.001492  0.000074   \n",
       "2  0.000242  0.003490  0.066337  0.041136  0.000045  0.001177  0.000065   \n",
       "\n",
       "   dominant_topic  \n",
       "0              34  \n",
       "1              10  \n",
       "2              25  \n",
       "\n",
       "[3 rows x 40 columns]"
      ]
     },
     "execution_count": 225,
     "metadata": {},
     "output_type": "execute_result"
    }
   ],
   "source": [
    "combined_tdm.head(3)"
   ]
  },
  {
   "cell_type": "code",
   "execution_count": 226,
   "metadata": {},
   "outputs": [],
   "source": [
    "combined_tdm.to_csv(\"combined_tdm.csv\")"
   ]
  },
  {
   "cell_type": "markdown",
   "metadata": {},
   "source": [
    "### Now, set up regression"
   ]
  },
  {
   "cell_type": "code",
   "execution_count": 228,
   "metadata": {},
   "outputs": [],
   "source": [
    "combined_tdm['date'] = pd.to_datetime(combined_tdm['date']) # convert to a date object\n",
    "# sort by date, then can create a lag using shift(x).rolling()\n",
    "combined_tdm.sort_values(by='date', ascending=True, inplace=True)"
   ]
  },
  {
   "cell_type": "code",
   "execution_count": 230,
   "metadata": {},
   "outputs": [
    {
     "data": {
      "text/html": [
       "<div>\n",
       "<style scoped>\n",
       "    .dataframe tbody tr th:only-of-type {\n",
       "        vertical-align: middle;\n",
       "    }\n",
       "\n",
       "    .dataframe tbody tr th {\n",
       "        vertical-align: top;\n",
       "    }\n",
       "\n",
       "    .dataframe thead th {\n",
       "        text-align: right;\n",
       "    }\n",
       "</style>\n",
       "<table border=\"1\" class=\"dataframe\">\n",
       "  <thead>\n",
       "    <tr style=\"text-align: right;\">\n",
       "      <th></th>\n",
       "      <th>author</th>\n",
       "      <th>date</th>\n",
       "      <th>headline</th>\n",
       "      <th>text</th>\n",
       "      <th>topic_1</th>\n",
       "      <th>topic_2</th>\n",
       "      <th>topic_3</th>\n",
       "      <th>topic_4</th>\n",
       "      <th>topic_5</th>\n",
       "      <th>topic_6</th>\n",
       "      <th>...</th>\n",
       "      <th>topic_27</th>\n",
       "      <th>topic_28</th>\n",
       "      <th>topic_29</th>\n",
       "      <th>topic_30</th>\n",
       "      <th>topic_31</th>\n",
       "      <th>topic_32</th>\n",
       "      <th>topic_33</th>\n",
       "      <th>topic_34</th>\n",
       "      <th>topic_35</th>\n",
       "      <th>dominant_topic</th>\n",
       "    </tr>\n",
       "  </thead>\n",
       "  <tbody>\n",
       "    <tr>\n",
       "      <th>1</th>\n",
       "      <td>Kevin Maimann  StarMetro Edmonton</td>\n",
       "      <td>2019-01-01</td>\n",
       "      <td>Albertans dislike PM the most, poll finds; Gov...</td>\n",
       "      <td>EDMONTON -- Albertans are most likely among C...</td>\n",
       "      <td>0.000052</td>\n",
       "      <td>0.000526</td>\n",
       "      <td>0.000089</td>\n",
       "      <td>0.000039</td>\n",
       "      <td>0.000112</td>\n",
       "      <td>0.000272</td>\n",
       "      <td>...</td>\n",
       "      <td>0.000046</td>\n",
       "      <td>0.000163</td>\n",
       "      <td>0.000277</td>\n",
       "      <td>0.000080</td>\n",
       "      <td>0.000481</td>\n",
       "      <td>0.000339</td>\n",
       "      <td>0.000052</td>\n",
       "      <td>0.001492</td>\n",
       "      <td>0.000074</td>\n",
       "      <td>10</td>\n",
       "    </tr>\n",
       "    <tr>\n",
       "      <th>0</th>\n",
       "      <td>Gillian Steward</td>\n",
       "      <td>2019-01-01</td>\n",
       "      <td>Threats of Alberta separation are mostly an el...</td>\n",
       "      <td>The angry Albertan has struck again.\\nAnd he ...</td>\n",
       "      <td>0.000034</td>\n",
       "      <td>0.005256</td>\n",
       "      <td>0.000057</td>\n",
       "      <td>0.000025</td>\n",
       "      <td>0.000072</td>\n",
       "      <td>0.000174</td>\n",
       "      <td>...</td>\n",
       "      <td>0.000029</td>\n",
       "      <td>0.000105</td>\n",
       "      <td>0.000178</td>\n",
       "      <td>0.000051</td>\n",
       "      <td>0.028083</td>\n",
       "      <td>0.000217</td>\n",
       "      <td>0.000033</td>\n",
       "      <td>0.420537</td>\n",
       "      <td>0.000047</td>\n",
       "      <td>34</td>\n",
       "    </tr>\n",
       "  </tbody>\n",
       "</table>\n",
       "<p>2 rows × 40 columns</p>\n",
       "</div>"
      ],
      "text/plain": [
       "                               author       date  \\\n",
       "1  Kevin Maimann  StarMetro Edmonton  2019-01-01   \n",
       "0                    Gillian Steward  2019-01-01   \n",
       "\n",
       "                                            headline  \\\n",
       "1  Albertans dislike PM the most, poll finds; Gov...   \n",
       "0  Threats of Alberta separation are mostly an el...   \n",
       "\n",
       "                                                text   topic_1   topic_2  \\\n",
       "1   EDMONTON -- Albertans are most likely among C...  0.000052  0.000526   \n",
       "0   The angry Albertan has struck again.\\nAnd he ...  0.000034  0.005256   \n",
       "\n",
       "    topic_3   topic_4   topic_5   topic_6       ...        topic_27  topic_28  \\\n",
       "1  0.000089  0.000039  0.000112  0.000272       ...        0.000046  0.000163   \n",
       "0  0.000057  0.000025  0.000072  0.000174       ...        0.000029  0.000105   \n",
       "\n",
       "   topic_29  topic_30  topic_31  topic_32  topic_33  topic_34  topic_35  \\\n",
       "1  0.000277  0.000080  0.000481  0.000339  0.000052  0.001492  0.000074   \n",
       "0  0.000178  0.000051  0.028083  0.000217  0.000033  0.420537  0.000047   \n",
       "\n",
       "   dominant_topic  \n",
       "1              10  \n",
       "0              34  \n",
       "\n",
       "[2 rows x 40 columns]"
      ]
     },
     "execution_count": 230,
     "metadata": {},
     "output_type": "execute_result"
    }
   ],
   "source": [
    "combined_tdm.tail(2)"
   ]
  },
  {
   "cell_type": "code",
   "execution_count": 302,
   "metadata": {},
   "outputs": [],
   "source": [
    "# for this, we need one row for each day, aggregating articles and oil price on that day - recall I need to lag this after\n",
    "# range will be Nov 1 2018 - Jan 1 2019\n",
    "days_to_analyze = []\n",
    "start = dt.datetime(2018,11,1)\n",
    "std_date_format = '%Y-%m-%d'    \n",
    "for i in range(0,60):\n",
    "    day = {}\n",
    "    dateToProcess = start+ dt.timedelta(days=i)\n",
    "    day['date']= dateToProcess\n",
    "    #print (dateToProcess.strftime(std_date_format)) \n",
    "    # bring in WCS price for that day, ignore weekends\n",
    "    if dateToProcess in df_wcs.index:\n",
    "        day['wcs'] = df_wcs.loc[dateToProcess]['wcs']        \n",
    "        # aggregate all articles for that day\n",
    "        articlesInDay = combined_tdm[combined_tdm['date']==dateToProcess]\n",
    "        if len(articlesInDay)>0:\n",
    "            day['articlesInDay']= len(articlesInDay)\n",
    "            for i in range(1,idealNumberOfTopics+1):\n",
    "                # form aggregate topic weights in day\n",
    "                day[\"topic_\"+str(i)] = articlesInDay[\"topic_\"+str(i)].sum()\n",
    "            days_to_analyze.append(day) # only focus on days with coverage to simplify things   "
   ]
  },
  {
   "cell_type": "code",
   "execution_count": 303,
   "metadata": {},
   "outputs": [],
   "source": [
    "df_daily = pd.DataFrame(days_to_analyze)"
   ]
  },
  {
   "cell_type": "code",
   "execution_count": 312,
   "metadata": {},
   "outputs": [],
   "source": [
    "# setup 5 day lag\n",
    "for i in range(1,idealNumberOfTopics+1):\n",
    "    df_daily[\"topic_\"+str(i)+\"_5_dayLag\"] = df_daily[\"topic_\"+str(i)].shift(1).rolling(5).mean()\n",
    "    df_daily[\"articles_5_dayLag\"] = df_daily[\"articlesInDay\"].shift(1).rolling(5).sum()"
   ]
  },
  {
   "cell_type": "code",
   "execution_count": 313,
   "metadata": {},
   "outputs": [
    {
     "data": {
      "text/html": [
       "<div>\n",
       "<style scoped>\n",
       "    .dataframe tbody tr th:only-of-type {\n",
       "        vertical-align: middle;\n",
       "    }\n",
       "\n",
       "    .dataframe tbody tr th {\n",
       "        vertical-align: top;\n",
       "    }\n",
       "\n",
       "    .dataframe thead th {\n",
       "        text-align: right;\n",
       "    }\n",
       "</style>\n",
       "<table border=\"1\" class=\"dataframe\">\n",
       "  <thead>\n",
       "    <tr style=\"text-align: right;\">\n",
       "      <th></th>\n",
       "      <th>articlesInDay</th>\n",
       "      <th>date</th>\n",
       "      <th>topic_1</th>\n",
       "      <th>topic_10</th>\n",
       "      <th>topic_11</th>\n",
       "      <th>topic_12</th>\n",
       "      <th>topic_13</th>\n",
       "      <th>topic_14</th>\n",
       "      <th>topic_15</th>\n",
       "      <th>topic_16</th>\n",
       "      <th>...</th>\n",
       "      <th>topic_27_5_dayLag</th>\n",
       "      <th>topic_28_5_dayLag</th>\n",
       "      <th>topic_29_5_dayLag</th>\n",
       "      <th>topic_30_5_dayLag</th>\n",
       "      <th>topic_31_5_dayLag</th>\n",
       "      <th>topic_32_5_dayLag</th>\n",
       "      <th>topic_33_5_dayLag</th>\n",
       "      <th>topic_34_5_dayLag</th>\n",
       "      <th>topic_35_5_dayLag</th>\n",
       "      <th>articles_5_dayLag</th>\n",
       "    </tr>\n",
       "  </thead>\n",
       "  <tbody>\n",
       "    <tr>\n",
       "      <th>0</th>\n",
       "      <td>13</td>\n",
       "      <td>2018-11-01</td>\n",
       "      <td>0.000634</td>\n",
       "      <td>3.136082</td>\n",
       "      <td>0.540454</td>\n",
       "      <td>0.163208</td>\n",
       "      <td>0.202575</td>\n",
       "      <td>0.037283</td>\n",
       "      <td>0.034154</td>\n",
       "      <td>0.008513</td>\n",
       "      <td>...</td>\n",
       "      <td>NaN</td>\n",
       "      <td>NaN</td>\n",
       "      <td>NaN</td>\n",
       "      <td>NaN</td>\n",
       "      <td>NaN</td>\n",
       "      <td>NaN</td>\n",
       "      <td>NaN</td>\n",
       "      <td>NaN</td>\n",
       "      <td>NaN</td>\n",
       "      <td>NaN</td>\n",
       "    </tr>\n",
       "    <tr>\n",
       "      <th>1</th>\n",
       "      <td>6</td>\n",
       "      <td>2018-11-02</td>\n",
       "      <td>0.000179</td>\n",
       "      <td>1.852593</td>\n",
       "      <td>0.754166</td>\n",
       "      <td>0.002402</td>\n",
       "      <td>0.146680</td>\n",
       "      <td>0.136441</td>\n",
       "      <td>0.218454</td>\n",
       "      <td>0.012561</td>\n",
       "      <td>...</td>\n",
       "      <td>NaN</td>\n",
       "      <td>NaN</td>\n",
       "      <td>NaN</td>\n",
       "      <td>NaN</td>\n",
       "      <td>NaN</td>\n",
       "      <td>NaN</td>\n",
       "      <td>NaN</td>\n",
       "      <td>NaN</td>\n",
       "      <td>NaN</td>\n",
       "      <td>NaN</td>\n",
       "    </tr>\n",
       "    <tr>\n",
       "      <th>2</th>\n",
       "      <td>7</td>\n",
       "      <td>2018-11-05</td>\n",
       "      <td>0.000279</td>\n",
       "      <td>2.327617</td>\n",
       "      <td>0.529563</td>\n",
       "      <td>0.412285</td>\n",
       "      <td>0.286405</td>\n",
       "      <td>0.012379</td>\n",
       "      <td>0.104466</td>\n",
       "      <td>0.018892</td>\n",
       "      <td>...</td>\n",
       "      <td>NaN</td>\n",
       "      <td>NaN</td>\n",
       "      <td>NaN</td>\n",
       "      <td>NaN</td>\n",
       "      <td>NaN</td>\n",
       "      <td>NaN</td>\n",
       "      <td>NaN</td>\n",
       "      <td>NaN</td>\n",
       "      <td>NaN</td>\n",
       "      <td>NaN</td>\n",
       "    </tr>\n",
       "    <tr>\n",
       "      <th>3</th>\n",
       "      <td>12</td>\n",
       "      <td>2018-11-06</td>\n",
       "      <td>0.005457</td>\n",
       "      <td>6.814760</td>\n",
       "      <td>0.206866</td>\n",
       "      <td>0.049035</td>\n",
       "      <td>0.178008</td>\n",
       "      <td>0.022167</td>\n",
       "      <td>0.144664</td>\n",
       "      <td>0.121557</td>\n",
       "      <td>...</td>\n",
       "      <td>NaN</td>\n",
       "      <td>NaN</td>\n",
       "      <td>NaN</td>\n",
       "      <td>NaN</td>\n",
       "      <td>NaN</td>\n",
       "      <td>NaN</td>\n",
       "      <td>NaN</td>\n",
       "      <td>NaN</td>\n",
       "      <td>NaN</td>\n",
       "      <td>NaN</td>\n",
       "    </tr>\n",
       "    <tr>\n",
       "      <th>4</th>\n",
       "      <td>6</td>\n",
       "      <td>2018-11-07</td>\n",
       "      <td>0.061937</td>\n",
       "      <td>0.566421</td>\n",
       "      <td>0.343630</td>\n",
       "      <td>0.008952</td>\n",
       "      <td>0.002615</td>\n",
       "      <td>0.035109</td>\n",
       "      <td>0.001017</td>\n",
       "      <td>0.007832</td>\n",
       "      <td>...</td>\n",
       "      <td>NaN</td>\n",
       "      <td>NaN</td>\n",
       "      <td>NaN</td>\n",
       "      <td>NaN</td>\n",
       "      <td>NaN</td>\n",
       "      <td>NaN</td>\n",
       "      <td>NaN</td>\n",
       "      <td>NaN</td>\n",
       "      <td>NaN</td>\n",
       "      <td>NaN</td>\n",
       "    </tr>\n",
       "    <tr>\n",
       "      <th>5</th>\n",
       "      <td>14</td>\n",
       "      <td>2018-11-08</td>\n",
       "      <td>0.405972</td>\n",
       "      <td>2.103235</td>\n",
       "      <td>0.409526</td>\n",
       "      <td>0.111002</td>\n",
       "      <td>0.020048</td>\n",
       "      <td>0.060737</td>\n",
       "      <td>0.005946</td>\n",
       "      <td>0.118202</td>\n",
       "      <td>...</td>\n",
       "      <td>0.015245</td>\n",
       "      <td>0.043259</td>\n",
       "      <td>0.009322</td>\n",
       "      <td>0.001748</td>\n",
       "      <td>0.163713</td>\n",
       "      <td>0.190514</td>\n",
       "      <td>0.001375</td>\n",
       "      <td>0.450585</td>\n",
       "      <td>0.004407</td>\n",
       "      <td>44.0</td>\n",
       "    </tr>\n",
       "    <tr>\n",
       "      <th>6</th>\n",
       "      <td>10</td>\n",
       "      <td>2018-11-13</td>\n",
       "      <td>0.003792</td>\n",
       "      <td>1.063780</td>\n",
       "      <td>0.327174</td>\n",
       "      <td>0.017040</td>\n",
       "      <td>0.022913</td>\n",
       "      <td>0.004034</td>\n",
       "      <td>0.003118</td>\n",
       "      <td>0.007728</td>\n",
       "      <td>...</td>\n",
       "      <td>0.015314</td>\n",
       "      <td>0.092271</td>\n",
       "      <td>0.017065</td>\n",
       "      <td>0.002322</td>\n",
       "      <td>0.095679</td>\n",
       "      <td>0.233536</td>\n",
       "      <td>0.002638</td>\n",
       "      <td>0.387026</td>\n",
       "      <td>0.003676</td>\n",
       "      <td>45.0</td>\n",
       "    </tr>\n",
       "    <tr>\n",
       "      <th>7</th>\n",
       "      <td>29</td>\n",
       "      <td>2018-11-14</td>\n",
       "      <td>0.271564</td>\n",
       "      <td>7.205695</td>\n",
       "      <td>0.545147</td>\n",
       "      <td>0.097200</td>\n",
       "      <td>0.049893</td>\n",
       "      <td>0.096226</td>\n",
       "      <td>0.030251</td>\n",
       "      <td>0.236801</td>\n",
       "      <td>...</td>\n",
       "      <td>0.015498</td>\n",
       "      <td>0.069321</td>\n",
       "      <td>0.042631</td>\n",
       "      <td>0.005430</td>\n",
       "      <td>0.084543</td>\n",
       "      <td>0.244584</td>\n",
       "      <td>0.002633</td>\n",
       "      <td>0.329311</td>\n",
       "      <td>0.003449</td>\n",
       "      <td>49.0</td>\n",
       "    </tr>\n",
       "    <tr>\n",
       "      <th>8</th>\n",
       "      <td>17</td>\n",
       "      <td>2018-11-15</td>\n",
       "      <td>0.074317</td>\n",
       "      <td>4.103740</td>\n",
       "      <td>0.773528</td>\n",
       "      <td>0.486996</td>\n",
       "      <td>0.021542</td>\n",
       "      <td>0.016977</td>\n",
       "      <td>0.026963</td>\n",
       "      <td>0.024189</td>\n",
       "      <td>...</td>\n",
       "      <td>0.002306</td>\n",
       "      <td>0.167127</td>\n",
       "      <td>0.079219</td>\n",
       "      <td>0.006997</td>\n",
       "      <td>0.086379</td>\n",
       "      <td>0.340867</td>\n",
       "      <td>0.051255</td>\n",
       "      <td>0.368378</td>\n",
       "      <td>0.021442</td>\n",
       "      <td>71.0</td>\n",
       "    </tr>\n",
       "    <tr>\n",
       "      <th>9</th>\n",
       "      <td>12</td>\n",
       "      <td>2018-11-16</td>\n",
       "      <td>0.060213</td>\n",
       "      <td>3.204074</td>\n",
       "      <td>0.453701</td>\n",
       "      <td>0.549094</td>\n",
       "      <td>0.106115</td>\n",
       "      <td>0.018955</td>\n",
       "      <td>0.038744</td>\n",
       "      <td>0.013299</td>\n",
       "      <td>...</td>\n",
       "      <td>0.001912</td>\n",
       "      <td>0.165517</td>\n",
       "      <td>0.080675</td>\n",
       "      <td>0.008249</td>\n",
       "      <td>0.131515</td>\n",
       "      <td>0.454213</td>\n",
       "      <td>0.050450</td>\n",
       "      <td>0.391093</td>\n",
       "      <td>0.021993</td>\n",
       "      <td>76.0</td>\n",
       "    </tr>\n",
       "  </tbody>\n",
       "</table>\n",
       "<p>10 rows × 74 columns</p>\n",
       "</div>"
      ],
      "text/plain": [
       "   articlesInDay       date   topic_1  topic_10  topic_11  topic_12  topic_13  \\\n",
       "0             13 2018-11-01  0.000634  3.136082  0.540454  0.163208  0.202575   \n",
       "1              6 2018-11-02  0.000179  1.852593  0.754166  0.002402  0.146680   \n",
       "2              7 2018-11-05  0.000279  2.327617  0.529563  0.412285  0.286405   \n",
       "3             12 2018-11-06  0.005457  6.814760  0.206866  0.049035  0.178008   \n",
       "4              6 2018-11-07  0.061937  0.566421  0.343630  0.008952  0.002615   \n",
       "5             14 2018-11-08  0.405972  2.103235  0.409526  0.111002  0.020048   \n",
       "6             10 2018-11-13  0.003792  1.063780  0.327174  0.017040  0.022913   \n",
       "7             29 2018-11-14  0.271564  7.205695  0.545147  0.097200  0.049893   \n",
       "8             17 2018-11-15  0.074317  4.103740  0.773528  0.486996  0.021542   \n",
       "9             12 2018-11-16  0.060213  3.204074  0.453701  0.549094  0.106115   \n",
       "\n",
       "   topic_14  topic_15  topic_16        ...          topic_27_5_dayLag  \\\n",
       "0  0.037283  0.034154  0.008513        ...                        NaN   \n",
       "1  0.136441  0.218454  0.012561        ...                        NaN   \n",
       "2  0.012379  0.104466  0.018892        ...                        NaN   \n",
       "3  0.022167  0.144664  0.121557        ...                        NaN   \n",
       "4  0.035109  0.001017  0.007832        ...                        NaN   \n",
       "5  0.060737  0.005946  0.118202        ...                   0.015245   \n",
       "6  0.004034  0.003118  0.007728        ...                   0.015314   \n",
       "7  0.096226  0.030251  0.236801        ...                   0.015498   \n",
       "8  0.016977  0.026963  0.024189        ...                   0.002306   \n",
       "9  0.018955  0.038744  0.013299        ...                   0.001912   \n",
       "\n",
       "   topic_28_5_dayLag  topic_29_5_dayLag  topic_30_5_dayLag  topic_31_5_dayLag  \\\n",
       "0                NaN                NaN                NaN                NaN   \n",
       "1                NaN                NaN                NaN                NaN   \n",
       "2                NaN                NaN                NaN                NaN   \n",
       "3                NaN                NaN                NaN                NaN   \n",
       "4                NaN                NaN                NaN                NaN   \n",
       "5           0.043259           0.009322           0.001748           0.163713   \n",
       "6           0.092271           0.017065           0.002322           0.095679   \n",
       "7           0.069321           0.042631           0.005430           0.084543   \n",
       "8           0.167127           0.079219           0.006997           0.086379   \n",
       "9           0.165517           0.080675           0.008249           0.131515   \n",
       "\n",
       "   topic_32_5_dayLag  topic_33_5_dayLag  topic_34_5_dayLag  topic_35_5_dayLag  \\\n",
       "0                NaN                NaN                NaN                NaN   \n",
       "1                NaN                NaN                NaN                NaN   \n",
       "2                NaN                NaN                NaN                NaN   \n",
       "3                NaN                NaN                NaN                NaN   \n",
       "4                NaN                NaN                NaN                NaN   \n",
       "5           0.190514           0.001375           0.450585           0.004407   \n",
       "6           0.233536           0.002638           0.387026           0.003676   \n",
       "7           0.244584           0.002633           0.329311           0.003449   \n",
       "8           0.340867           0.051255           0.368378           0.021442   \n",
       "9           0.454213           0.050450           0.391093           0.021993   \n",
       "\n",
       "   articles_5_dayLag  \n",
       "0                NaN  \n",
       "1                NaN  \n",
       "2                NaN  \n",
       "3                NaN  \n",
       "4                NaN  \n",
       "5               44.0  \n",
       "6               45.0  \n",
       "7               49.0  \n",
       "8               71.0  \n",
       "9               76.0  \n",
       "\n",
       "[10 rows x 74 columns]"
      ]
     },
     "execution_count": 313,
     "metadata": {},
     "output_type": "execute_result"
    }
   ],
   "source": [
    "df_daily.head(10)"
   ]
  },
  {
   "cell_type": "code",
   "execution_count": 314,
   "metadata": {},
   "outputs": [],
   "source": [
    "# for analysis, we need to drop the first 5 observations\n",
    "df_daily_analysis = df_daily[5:].copy()"
   ]
  },
  {
   "cell_type": "markdown",
   "metadata": {},
   "source": [
    "### Now, do the analysis with a simple OLS regression"
   ]
  },
  {
   "cell_type": "code",
   "execution_count": 328,
   "metadata": {},
   "outputs": [
    {
     "data": {
      "image/png": "[encoded data removed]",
      "text/plain": [
       "<Figure size 576x396 with 1 Axes>"
      ]
     },
     "metadata": {},
     "output_type": "display_data"
    }
   ],
   "source": [
    "plt.style.use('seaborn')\n",
    "\n",
    "df_daily_analysis.plot(x='wcs', y='topic_10_5_dayLag', kind='scatter')\n",
    "plt.show()"
   ]
  },
  {
   "cell_type": "code",
   "execution_count": 325,
   "metadata": {},
   "outputs": [],
   "source": [
    "X = df_daily_analysis[['articles_5_dayLag','topic_23_5_dayLag','topic_7_5_dayLag','topic_10_5_dayLag']]\n",
    "Y = df_daily_analysis['wcs']"
   ]
  },
  {
   "cell_type": "code",
   "execution_count": 326,
   "metadata": {},
   "outputs": [],
   "source": [
    "X = sm.add_constant(X) # adding a constant\n",
    "model = sm.OLS(Y, X).fit()\n",
    "predictions = model.predict(X) "
   ]
  },
  {
   "cell_type": "code",
   "execution_count": 327,
   "metadata": {},
   "outputs": [
    {
     "name": "stdout",
     "output_type": "stream",
     "text": [
      "                            OLS Regression Results                            \n",
      "==============================================================================\n",
      "Dep. Variable:                    wcs   R-squared:                       0.676\n",
      "Model:                            OLS   Adj. R-squared:                  0.624\n",
      "Method:                 Least Squares   F-statistic:                     13.03\n",
      "Date:                Tue, 15 Jan 2019   Prob (F-statistic):           7.23e-06\n",
      "Time:                        09:49:45   Log-Likelihood:                -89.949\n",
      "No. Observations:                  30   AIC:                             189.9\n",
      "Df Residuals:                      25   BIC:                             196.9\n",
      "Df Model:                           4                                         \n",
      "Covariance Type:            nonrobust                                         \n",
      "=====================================================================================\n",
      "                        coef    std err          t      P>|t|      [0.025      0.975]\n",
      "-------------------------------------------------------------------------------------\n",
      "const                10.7499      5.064      2.123      0.044       0.320      21.180\n",
      "articles_5_dayLag    -0.2262      0.306     -0.739      0.467      -0.857       0.405\n",
      "topic_23_5_dayLag     8.8170     11.023      0.800      0.431     -13.885      31.519\n",
      "topic_7_5_dayLag     -3.2314      3.375     -0.957      0.348     -10.182       3.720\n",
      "topic_10_5_dayLag     6.9933      2.904      2.408      0.024       1.012      12.975\n",
      "==============================================================================\n",
      "Omnibus:                        1.673   Durbin-Watson:                   0.642\n",
      "Prob(Omnibus):                  0.433   Jarque-Bera (JB):                1.173\n",
      "Skew:                          -0.215   Prob(JB):                        0.556\n",
      "Kurtosis:                       2.132   Cond. No.                         866.\n",
      "==============================================================================\n",
      "\n",
      "Warnings:\n",
      "[1] Standard Errors assume that the covariance matrix of the errors is correctly specified.\n"
     ]
    }
   ],
   "source": [
    "print_model = model.summary()\n",
    "print(print_model)"
   ]
  }
 ],
 "metadata": {
  "kernelspec": {
   "display_name": "Python 3",
   "language": "python",
   "name": "python3"
  },
  "language_info": {
   "codemirror_mode": {
    "name": "ipython",
    "version": 3
   },
   "file_extension": ".py",
   "mimetype": "text/x-python",
   "name": "python",
   "nbconvert_exporter": "python",
   "pygments_lexer": "ipython3",
   "version": "3.7.1"
  }
 },
 "nbformat": 4,
 "nbformat_minor": 2
}
