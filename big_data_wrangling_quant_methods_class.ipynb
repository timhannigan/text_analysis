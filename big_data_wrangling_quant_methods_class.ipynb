{
 "cells": [
  {
   "cell_type": "markdown",
   "metadata": {},
   "source": [
    "# SMO706- Big Data Wrangling \n",
    "Tim Hannigan Jan 15, 2019"
   ]
  },
  {
   "cell_type": "code",
   "execution_count": 27,
   "metadata": {},
   "outputs": [],
   "source": [
    "import warnings\n",
    "warnings.filterwarnings(\"ignore\",category=DeprecationWarning)"
   ]
  },
  {
   "cell_type": "code",
   "execution_count": 209,
   "metadata": {},
   "outputs": [
    {
     "name": "stdout",
     "output_type": "stream",
     "text": [
      "Requirement already satisfied: pandas in /Users/Tim/anaconda3/envs/py37/lib/python3.7/site-packages (0.23.4)\n",
      "Requirement already satisfied: python-dateutil>=2.5.0 in /Users/Tim/anaconda3/envs/py37/lib/python3.7/site-packages (from pandas) (2.7.5)\n",
      "Requirement already satisfied: pytz>=2011k in /Users/Tim/anaconda3/envs/py37/lib/python3.7/site-packages (from pandas) (2018.7)\n",
      "Requirement already satisfied: numpy>=1.9.0 in /Users/Tim/anaconda3/envs/py37/lib/python3.7/site-packages (from pandas) (1.15.4)\n",
      "Requirement already satisfied: six>=1.5 in /Users/Tim/anaconda3/envs/py37/lib/python3.7/site-packages (from python-dateutil>=2.5.0->pandas) (1.12.0)\n",
      "Requirement already satisfied: bs4 in /Users/Tim/anaconda3/envs/py37/lib/python3.7/site-packages (0.0.1)\n",
      "Requirement already satisfied: beautifulsoup4 in /Users/Tim/anaconda3/envs/py37/lib/python3.7/site-packages (from bs4) (4.7.1)\n",
      "Requirement already satisfied: soupsieve>=1.2 in /Users/Tim/anaconda3/envs/py37/lib/python3.7/site-packages (from beautifulsoup4->bs4) (1.7.1)\n",
      "Requirement already satisfied: statsmodels in /Users/Tim/anaconda3/envs/py37/lib/python3.7/site-packages (0.9.0)\n",
      "Requirement already satisfied: matplotlib in /Users/Tim/anaconda3/envs/py37/lib/python3.7/site-packages (3.0.2)\n",
      "Requirement already satisfied: numpy>=1.10.0 in /Users/Tim/anaconda3/envs/py37/lib/python3.7/site-packages (from matplotlib) (1.15.4)\n",
      "Requirement already satisfied: cycler>=0.10 in /Users/Tim/anaconda3/envs/py37/lib/python3.7/site-packages (from matplotlib) (0.10.0)\n",
      "Requirement already satisfied: kiwisolver>=1.0.1 in /Users/Tim/anaconda3/envs/py37/lib/python3.7/site-packages (from matplotlib) (1.0.1)\n",
      "Requirement already satisfied: pyparsing!=2.0.4,!=2.1.2,!=2.1.6,>=2.0.1 in /Users/Tim/anaconda3/envs/py37/lib/python3.7/site-packages (from matplotlib) (2.3.0)\n",
      "Requirement already satisfied: python-dateutil>=2.1 in /Users/Tim/anaconda3/envs/py37/lib/python3.7/site-packages (from matplotlib) (2.7.5)\n",
      "Requirement already satisfied: six in /Users/Tim/anaconda3/envs/py37/lib/python3.7/site-packages (from cycler>=0.10->matplotlib) (1.12.0)\n",
      "Requirement already satisfied: setuptools in /Users/Tim/anaconda3/envs/py37/lib/python3.7/site-packages (from kiwisolver>=1.0.1->matplotlib) (40.6.3)\n"
     ]
    }
   ],
   "source": [
    "import re\n",
    "import sys\n",
    "import json\n",
    "import requests\n",
    "import datetime as dt\n",
    "\n",
    "!{sys.executable} -m pip install scipy\n",
    "!{sys.executable} -m pip install pandas\n",
    "!{sys.executable} -m pip install bs4\n",
    "!{sys.executable} -m pip install statsmodels\n",
    "!{sys.executable} -m pip install matplotlib\n",
    "\n",
    "import scipy\n",
    "import pandas as pd\n",
    "from bs4 import BeautifulSoup\n",
    "import matplotlib.pyplot as plt\n",
    "import numpy as np\n",
    "import statsmodels\n",
    "import statsmodels.formula.api as smf"
   ]
  },
  {
   "cell_type": "markdown",
   "metadata": {},
   "source": [
    "### Main methods"
   ]
  },
  {
   "cell_type": "markdown",
   "metadata": {},
   "source": [
    "#### Western Canadian Select Oil Price"
   ]
  },
  {
   "cell_type": "raw",
   "metadata": {},
   "source": [
    "Our first task is to gather the price of Oil in Alberta (most often known as WCS, or Western Canadian Select). This is provided by the Bloomberg (using symbol USCRWCAS) in our Winspear Library.  \n",
    "Note: I have downloaded this to make it easier for you."
   ]
  },
  {
   "cell_type": "code",
   "execution_count": 8,
   "metadata": {},
   "outputs": [],
   "source": [
    "# first, load the data\n",
    "file_name = \"USCRWCAS_dailyPrice.xlsx\""
   ]
  },
  {
   "cell_type": "code",
   "execution_count": 9,
   "metadata": {},
   "outputs": [],
   "source": [
    "# next, process it into a DataFrame\n",
    "df_wcs = pd.read_excel(file_name)\n",
    "df_wcs.columns = [col.lower() for col in df_wcs.columns] # for ease of use, working with lowercase column names"
   ]
  },
  {
   "cell_type": "code",
   "execution_count": 10,
   "metadata": {},
   "outputs": [
    {
     "name": "stdout",
     "output_type": "stream",
     "text": [
      "<class 'pandas.core.frame.DataFrame'>\n",
      "RangeIndex: 252 entries, 0 to 251\n",
      "Data columns (total 2 columns):\n",
      "date        252 non-null datetime64[ns]\n",
      "uscrwcas    252 non-null float64\n",
      "dtypes: datetime64[ns](1), float64(1)\n",
      "memory usage: 4.0 KB\n"
     ]
    }
   ],
   "source": [
    "# this lists the type of variables in the dataframe, note: there are 916 rows\n",
    "df_wcs.info()"
   ]
  },
  {
   "cell_type": "code",
   "execution_count": 11,
   "metadata": {},
   "outputs": [
    {
     "data": {
      "text/plain": [
       "(252, 2)"
      ]
     },
     "execution_count": 11,
     "metadata": {},
     "output_type": "execute_result"
    }
   ],
   "source": [
    "# a shorter way of inspecting this dataframe is by looking at the shape\n",
    "df_wcs.shape"
   ]
  },
  {
   "cell_type": "code",
   "execution_count": 12,
   "metadata": {},
   "outputs": [
    {
     "data": {
      "text/html": [
       "<div>\n",
       "<style scoped>\n",
       "    .dataframe tbody tr th:only-of-type {\n",
       "        vertical-align: middle;\n",
       "    }\n",
       "\n",
       "    .dataframe tbody tr th {\n",
       "        vertical-align: top;\n",
       "    }\n",
       "\n",
       "    .dataframe thead th {\n",
       "        text-align: right;\n",
       "    }\n",
       "</style>\n",
       "<table border=\"1\" class=\"dataframe\">\n",
       "  <thead>\n",
       "    <tr style=\"text-align: right;\">\n",
       "      <th></th>\n",
       "      <th>date</th>\n",
       "      <th>uscrwcas</th>\n",
       "    </tr>\n",
       "  </thead>\n",
       "  <tbody>\n",
       "    <tr>\n",
       "      <th>0</th>\n",
       "      <td>2019-01-14</td>\n",
       "      <td>43.73</td>\n",
       "    </tr>\n",
       "    <tr>\n",
       "      <th>1</th>\n",
       "      <td>2019-01-11</td>\n",
       "      <td>44.64</td>\n",
       "    </tr>\n",
       "    <tr>\n",
       "      <th>2</th>\n",
       "      <td>2019-01-10</td>\n",
       "      <td>44.74</td>\n",
       "    </tr>\n",
       "    <tr>\n",
       "      <th>3</th>\n",
       "      <td>2019-01-09</td>\n",
       "      <td>43.86</td>\n",
       "    </tr>\n",
       "    <tr>\n",
       "      <th>4</th>\n",
       "      <td>2019-01-08</td>\n",
       "      <td>40.78</td>\n",
       "    </tr>\n",
       "  </tbody>\n",
       "</table>\n",
       "</div>"
      ],
      "text/plain": [
       "        date  uscrwcas\n",
       "0 2019-01-14     43.73\n",
       "1 2019-01-11     44.64\n",
       "2 2019-01-10     44.74\n",
       "3 2019-01-09     43.86\n",
       "4 2019-01-08     40.78"
      ]
     },
     "execution_count": 12,
     "metadata": {},
     "output_type": "execute_result"
    }
   ],
   "source": [
    "# next, inspect the first 5 rows of the data\n",
    "df_wcs.head(5)"
   ]
  },
  {
   "cell_type": "code",
   "execution_count": 13,
   "metadata": {},
   "outputs": [],
   "source": [
    "# in order to make this easier to manage, we'll set the index to be the date\n",
    "df_wcs['date'] = pd.to_datetime(df_wcs['date']) # setting column with 'date' type"
   ]
  },
  {
   "cell_type": "code",
   "execution_count": 14,
   "metadata": {},
   "outputs": [],
   "source": [
    "# setting the index as date\n",
    "df_wcs.set_index('date', inplace=True)"
   ]
  },
  {
   "cell_type": "code",
   "execution_count": 15,
   "metadata": {},
   "outputs": [],
   "source": [
    "# ordering by index (ascending order)\n",
    "df_wcs.sort_index(axis=0, ascending=True, inplace=True)"
   ]
  },
  {
   "cell_type": "code",
   "execution_count": 16,
   "metadata": {},
   "outputs": [
    {
     "data": {
      "text/html": [
       "<div>\n",
       "<style scoped>\n",
       "    .dataframe tbody tr th:only-of-type {\n",
       "        vertical-align: middle;\n",
       "    }\n",
       "\n",
       "    .dataframe tbody tr th {\n",
       "        vertical-align: top;\n",
       "    }\n",
       "\n",
       "    .dataframe thead th {\n",
       "        text-align: right;\n",
       "    }\n",
       "</style>\n",
       "<table border=\"1\" class=\"dataframe\">\n",
       "  <thead>\n",
       "    <tr style=\"text-align: right;\">\n",
       "      <th></th>\n",
       "      <th>uscrwcas</th>\n",
       "    </tr>\n",
       "    <tr>\n",
       "      <th>date</th>\n",
       "      <th></th>\n",
       "    </tr>\n",
       "  </thead>\n",
       "  <tbody>\n",
       "    <tr>\n",
       "      <th>2018-01-16</th>\n",
       "      <td>42.73</td>\n",
       "    </tr>\n",
       "    <tr>\n",
       "      <th>2018-01-17</th>\n",
       "      <td>40.17</td>\n",
       "    </tr>\n",
       "  </tbody>\n",
       "</table>\n",
       "</div>"
      ],
      "text/plain": [
       "            uscrwcas\n",
       "date                \n",
       "2018-01-16     42.73\n",
       "2018-01-17     40.17"
      ]
     },
     "execution_count": 16,
     "metadata": {},
     "output_type": "execute_result"
    }
   ],
   "source": [
    "# check to see it's working properly\n",
    "df_wcs.head(2)"
   ]
  },
  {
   "cell_type": "code",
   "execution_count": 17,
   "metadata": {},
   "outputs": [],
   "source": [
    "# change name of column to make it easier\n",
    "df_wcs.columns=[\"wcs\"]"
   ]
  },
  {
   "cell_type": "code",
   "execution_count": 18,
   "metadata": {},
   "outputs": [
    {
     "data": {
      "text/html": [
       "<div>\n",
       "<style scoped>\n",
       "    .dataframe tbody tr th:only-of-type {\n",
       "        vertical-align: middle;\n",
       "    }\n",
       "\n",
       "    .dataframe tbody tr th {\n",
       "        vertical-align: top;\n",
       "    }\n",
       "\n",
       "    .dataframe thead th {\n",
       "        text-align: right;\n",
       "    }\n",
       "</style>\n",
       "<table border=\"1\" class=\"dataframe\">\n",
       "  <thead>\n",
       "    <tr style=\"text-align: right;\">\n",
       "      <th></th>\n",
       "      <th>wcs</th>\n",
       "    </tr>\n",
       "    <tr>\n",
       "      <th>date</th>\n",
       "      <th></th>\n",
       "    </tr>\n",
       "  </thead>\n",
       "  <tbody>\n",
       "    <tr>\n",
       "      <th>2019-01-11</th>\n",
       "      <td>44.64</td>\n",
       "    </tr>\n",
       "    <tr>\n",
       "      <th>2019-01-14</th>\n",
       "      <td>43.73</td>\n",
       "    </tr>\n",
       "  </tbody>\n",
       "</table>\n",
       "</div>"
      ],
      "text/plain": [
       "              wcs\n",
       "date             \n",
       "2019-01-11  44.64\n",
       "2019-01-14  43.73"
      ]
     },
     "execution_count": 18,
     "metadata": {},
     "output_type": "execute_result"
    }
   ],
   "source": [
    "# check to see it's working properly\n",
    "df_wcs.tail(2)"
   ]
  },
  {
   "cell_type": "raw",
   "metadata": {},
   "source": [
    "Therefore, the range in this data is 2018-01-16 to 2019-01-14"
   ]
  },
  {
   "cell_type": "code",
   "execution_count": 19,
   "metadata": {},
   "outputs": [
    {
     "data": {
      "image/png": "[encoded data removed]",
      "text/plain": [
       "<Figure size 432x288 with 1 Axes>"
      ]
     },
     "metadata": {
      "needs_background": "light"
     },
     "output_type": "display_data"
    }
   ],
   "source": [
    "# plotting the late 2018 data\n",
    "df_wcs.loc['Nov 1, 2018':'Dec 31, 2018', ['wcs']].plot()\n",
    "plt.ylim(10,60)\n",
    "plt.xlabel('Date')\n",
    "plt.ylabel('WCS Oil price (closing)')\n",
    "plt.title('Oil prices in Alberta')\n",
    "plt.show()"
   ]
  },
  {
   "cell_type": "markdown",
   "metadata": {},
   "source": [
    "#### Collect news stories about Alberta + Oil"
   ]
  },
  {
   "cell_type": "raw",
   "metadata": {},
   "source": [
    "Our second task is to collect news stories that contain the terms: \"alberta\" + \"oil\". We will be using the Factiva service, and saving rtf files of news stories. Collecting from nov 1, 2018 to jan 1, 2019. Gathering Canadian sources and \"top stories\"."
   ]
  },
  {
   "cell_type": "code",
   "execution_count": 20,
   "metadata": {},
   "outputs": [],
   "source": [
    "articles = []\n",
    "for i in range(1,8):\n",
    "    with open (\"Factiva_major_Canada_news/Factiva\"+str(i)+\".html\", \"r\") as file: \n",
    "        html_doc = file.read()\n",
    "    soup = BeautifulSoup(html_doc, 'html.parser')\n",
    "    # in analyzing the HTML source, each story is contained in a div called \"article enArticle\"\n",
    "    articleContainers = soup.find_all(\"div\", \"article enArticle\")\n",
    "    for articleContainer in articleContainers:\n",
    "        table = articleContainer.find('table')        \n",
    "        headline_text = table.find_all(\"span\", \"enHeadline\")[0].text\n",
    "        rows = table.find_all('tr')\n",
    "        article_text = \"\" # to be filled in below\n",
    "        for row in rows:\n",
    "            cols = row.find_all('td')\n",
    "            if cols[0].text.strip()==\"BY\": \n",
    "                author_text = cols[1].text   \n",
    "            elif cols[0].text.strip()==\"PD\": \n",
    "                date_text = cols[1].text\n",
    "                date = pd.to_datetime(date_text) # convert to a date object\n",
    "            elif cols[0].text.strip()==\"LP\": # lead paragraph\n",
    "                article_text += \" \" + cols[1].text\n",
    "            elif cols[0].text.strip()==\"TD\": # content\n",
    "                article_text += \" \" + cols[1].text         \n",
    "        articles.append({\"headline\": headline_text, \"author\":author_text, \"date\": date, \"text\":article_text })"
   ]
  },
  {
   "cell_type": "code",
   "execution_count": 21,
   "metadata": {},
   "outputs": [],
   "source": [
    "df_articles = pd.DataFrame(articles)"
   ]
  },
  {
   "cell_type": "markdown",
   "metadata": {},
   "source": [
    "Review what is in our new dataframe df_articles"
   ]
  },
  {
   "cell_type": "code",
   "execution_count": 23,
   "metadata": {},
   "outputs": [
    {
     "data": {
      "text/plain": [
       "(629, 4)"
      ]
     },
     "execution_count": 23,
     "metadata": {},
     "output_type": "execute_result"
    }
   ],
   "source": [
    "df_articles.shape"
   ]
  },
  {
   "cell_type": "code",
   "execution_count": 24,
   "metadata": {},
   "outputs": [
    {
     "name": "stdout",
     "output_type": "stream",
     "text": [
      "<class 'pandas.core.frame.DataFrame'>\n",
      "RangeIndex: 629 entries, 0 to 628\n",
      "Data columns (total 4 columns):\n",
      "author      629 non-null object\n",
      "date        629 non-null datetime64[ns]\n",
      "headline    629 non-null object\n",
      "text        629 non-null object\n",
      "dtypes: datetime64[ns](1), object(3)\n",
      "memory usage: 19.7+ KB\n"
     ]
    }
   ],
   "source": [
    "df_articles.info()"
   ]
  },
  {
   "cell_type": "markdown",
   "metadata": {},
   "source": [
    "#### Now, extract some topics using LDA topic modeling analysis"
   ]
  },
  {
   "cell_type": "code",
   "execution_count": 67,
   "metadata": {},
   "outputs": [
    {
     "name": "stdout",
     "output_type": "stream",
     "text": [
      "Requirement already satisfied: gensim in /Users/Tim/anaconda3/envs/py37/lib/python3.7/site-packages (3.6.0)\n",
      "Requirement already satisfied: scipy>=0.18.1 in /Users/Tim/anaconda3/envs/py37/lib/python3.7/site-packages (from gensim) (1.1.0)\n",
      "Requirement already satisfied: smart-open>=1.2.1 in /Users/Tim/anaconda3/envs/py37/lib/python3.7/site-packages (from gensim) (1.7.1)\n",
      "Requirement already satisfied: six>=1.5.0 in /Users/Tim/anaconda3/envs/py37/lib/python3.7/site-packages (from gensim) (1.12.0)\n",
      "Requirement already satisfied: numpy>=1.11.3 in /Users/Tim/anaconda3/envs/py37/lib/python3.7/site-packages (from gensim) (1.15.4)\n",
      "Requirement already satisfied: requests in /Users/Tim/anaconda3/envs/py37/lib/python3.7/site-packages (from smart-open>=1.2.1->gensim) (2.21.0)\n",
      "Requirement already satisfied: boto3 in /Users/Tim/anaconda3/envs/py37/lib/python3.7/site-packages (from smart-open>=1.2.1->gensim) (1.9.79)\n",
      "Requirement already satisfied: bz2file in /Users/Tim/anaconda3/envs/py37/lib/python3.7/site-packages (from smart-open>=1.2.1->gensim) (0.98)\n",
      "Requirement already satisfied: boto>=2.32 in /Users/Tim/anaconda3/envs/py37/lib/python3.7/site-packages (from smart-open>=1.2.1->gensim) (2.49.0)\n",
      "Requirement already satisfied: certifi>=2017.4.17 in /Users/Tim/anaconda3/envs/py37/lib/python3.7/site-packages (from requests->smart-open>=1.2.1->gensim) (2018.11.29)\n",
      "Requirement already satisfied: urllib3<1.25,>=1.21.1 in /Users/Tim/anaconda3/envs/py37/lib/python3.7/site-packages (from requests->smart-open>=1.2.1->gensim) (1.24.1)\n",
      "Requirement already satisfied: chardet<3.1.0,>=3.0.2 in /Users/Tim/anaconda3/envs/py37/lib/python3.7/site-packages (from requests->smart-open>=1.2.1->gensim) (3.0.4)\n",
      "Requirement already satisfied: idna<2.9,>=2.5 in /Users/Tim/anaconda3/envs/py37/lib/python3.7/site-packages (from requests->smart-open>=1.2.1->gensim) (2.8)\n",
      "Requirement already satisfied: botocore<1.13.0,>=1.12.79 in /Users/Tim/anaconda3/envs/py37/lib/python3.7/site-packages (from boto3->smart-open>=1.2.1->gensim) (1.12.79)\n",
      "Requirement already satisfied: jmespath<1.0.0,>=0.7.1 in /Users/Tim/anaconda3/envs/py37/lib/python3.7/site-packages (from boto3->smart-open>=1.2.1->gensim) (0.9.3)\n",
      "Requirement already satisfied: s3transfer<0.2.0,>=0.1.10 in /Users/Tim/anaconda3/envs/py37/lib/python3.7/site-packages (from boto3->smart-open>=1.2.1->gensim) (0.1.13)\n",
      "Requirement already satisfied: docutils>=0.10 in /Users/Tim/anaconda3/envs/py37/lib/python3.7/site-packages (from botocore<1.13.0,>=1.12.79->boto3->smart-open>=1.2.1->gensim) (0.14)\n",
      "Requirement already satisfied: python-dateutil<3.0.0,>=2.1; python_version >= \"2.7\" in /Users/Tim/anaconda3/envs/py37/lib/python3.7/site-packages (from botocore<1.13.0,>=1.12.79->boto3->smart-open>=1.2.1->gensim) (2.7.5)\n",
      "Requirement already satisfied: pyLDAvis in /Users/Tim/anaconda3/envs/py37/lib/python3.7/site-packages (2.1.2)\n",
      "Requirement already satisfied: jinja2>=2.7.2 in /Users/Tim/anaconda3/envs/py37/lib/python3.7/site-packages (from pyLDAvis) (2.10)\n",
      "Requirement already satisfied: scipy>=0.18.0 in /Users/Tim/anaconda3/envs/py37/lib/python3.7/site-packages (from pyLDAvis) (1.1.0)\n",
      "Requirement already satisfied: pytest in /Users/Tim/anaconda3/envs/py37/lib/python3.7/site-packages (from pyLDAvis) (4.1.1)\n",
      "Requirement already satisfied: pandas>=0.17.0 in /Users/Tim/anaconda3/envs/py37/lib/python3.7/site-packages (from pyLDAvis) (0.23.4)\n",
      "Requirement already satisfied: numexpr in /Users/Tim/anaconda3/envs/py37/lib/python3.7/site-packages (from pyLDAvis) (2.6.9)\n",
      "Requirement already satisfied: numpy>=1.9.2 in /Users/Tim/anaconda3/envs/py37/lib/python3.7/site-packages (from pyLDAvis) (1.15.4)\n",
      "Requirement already satisfied: wheel>=0.23.0 in /Users/Tim/anaconda3/envs/py37/lib/python3.7/site-packages (from pyLDAvis) (0.32.3)\n",
      "Requirement already satisfied: future in /Users/Tim/anaconda3/envs/py37/lib/python3.7/site-packages (from pyLDAvis) (0.17.1)\n",
      "Requirement already satisfied: funcy in /Users/Tim/anaconda3/envs/py37/lib/python3.7/site-packages (from pyLDAvis) (1.11)\n",
      "Requirement already satisfied: joblib>=0.8.4 in /Users/Tim/anaconda3/envs/py37/lib/python3.7/site-packages (from pyLDAvis) (0.13.1)\n",
      "Requirement already satisfied: MarkupSafe>=0.23 in /Users/Tim/anaconda3/envs/py37/lib/python3.7/site-packages (from jinja2>=2.7.2->pyLDAvis) (1.1.0)\n",
      "Requirement already satisfied: py>=1.5.0 in /Users/Tim/anaconda3/envs/py37/lib/python3.7/site-packages (from pytest->pyLDAvis) (1.7.0)\n",
      "Requirement already satisfied: pluggy>=0.7 in /Users/Tim/anaconda3/envs/py37/lib/python3.7/site-packages (from pytest->pyLDAvis) (0.8.1)\n",
      "Requirement already satisfied: more-itertools>=4.0.0 in /Users/Tim/anaconda3/envs/py37/lib/python3.7/site-packages (from pytest->pyLDAvis) (5.0.0)\n",
      "Requirement already satisfied: six>=1.10.0 in /Users/Tim/anaconda3/envs/py37/lib/python3.7/site-packages (from pytest->pyLDAvis) (1.12.0)\n",
      "Requirement already satisfied: setuptools in /Users/Tim/anaconda3/envs/py37/lib/python3.7/site-packages (from pytest->pyLDAvis) (40.6.3)\n",
      "Requirement already satisfied: atomicwrites>=1.0 in /Users/Tim/anaconda3/envs/py37/lib/python3.7/site-packages (from pytest->pyLDAvis) (1.2.1)\n",
      "Requirement already satisfied: attrs>=17.4.0 in /Users/Tim/anaconda3/envs/py37/lib/python3.7/site-packages (from pytest->pyLDAvis) (18.2.0)\n",
      "Requirement already satisfied: python-dateutil>=2.5.0 in /Users/Tim/anaconda3/envs/py37/lib/python3.7/site-packages (from pandas>=0.17.0->pyLDAvis) (2.7.5)\n",
      "Requirement already satisfied: pytz>=2011k in /Users/Tim/anaconda3/envs/py37/lib/python3.7/site-packages (from pandas>=0.17.0->pyLDAvis) (2018.7)\n",
      "Requirement already satisfied: nltk in /Users/Tim/anaconda3/envs/py37/lib/python3.7/site-packages (3.4)\n",
      "Requirement already satisfied: singledispatch in /Users/Tim/anaconda3/envs/py37/lib/python3.7/site-packages (from nltk) (3.4.0.3)\n",
      "Requirement already satisfied: six in /Users/Tim/anaconda3/envs/py37/lib/python3.7/site-packages (from nltk) (1.12.0)\n"
     ]
    }
   ],
   "source": [
    "!{sys.executable} -m pip install gensim\n",
    "!{sys.executable} -m pip install pyLDAvis\n",
    "!{sys.executable} -m pip install nltk\n",
    "\n",
    "# Gensim\n",
    "import gensim\n",
    "from gensim.utils import simple_preprocess\n",
    "from gensim.models import CoherenceModel\n",
    "\n",
    "# Plotting tools\n",
    "import pyLDAvis\n",
    "import pyLDAvis.gensim  # don't skip this\n",
    "import matplotlib.pyplot as plt\n",
    "%matplotlib inline\n",
    "\n",
    "# spacy for lemmatization\n",
    "import spacy\n",
    "\n",
    "from nltk.corpus import stopwords"
   ]
  },
  {
   "cell_type": "code",
   "execution_count": 128,
   "metadata": {},
   "outputs": [],
   "source": [
    "# setup the stopword removal\n",
    "stop_words = stopwords.words('english')\n",
    "stop_words.extend([\"http\", \"https\",\"www\", \"com\", \"say\", \"said\", \"html\"])"
   ]
  },
  {
   "cell_type": "code",
   "execution_count": 129,
   "metadata": {},
   "outputs": [
    {
     "data": {
      "text/html": [
       "<div>\n",
       "<style scoped>\n",
       "    .dataframe tbody tr th:only-of-type {\n",
       "        vertical-align: middle;\n",
       "    }\n",
       "\n",
       "    .dataframe tbody tr th {\n",
       "        vertical-align: top;\n",
       "    }\n",
       "\n",
       "    .dataframe thead th {\n",
       "        text-align: right;\n",
       "    }\n",
       "</style>\n",
       "<table border=\"1\" class=\"dataframe\">\n",
       "  <thead>\n",
       "    <tr style=\"text-align: right;\">\n",
       "      <th></th>\n",
       "      <th>author</th>\n",
       "      <th>date</th>\n",
       "      <th>headline</th>\n",
       "      <th>text</th>\n",
       "    </tr>\n",
       "  </thead>\n",
       "  <tbody>\n",
       "    <tr>\n",
       "      <th>0</th>\n",
       "      <td>Gillian Steward</td>\n",
       "      <td>2019-01-01</td>\n",
       "      <td>Threats of Alberta separation are mostly an el...</td>\n",
       "      <td>The angry Albertan has struck again.\\nAnd he ...</td>\n",
       "    </tr>\n",
       "    <tr>\n",
       "      <th>1</th>\n",
       "      <td>Kevin Maimann  StarMetro Edmonton</td>\n",
       "      <td>2019-01-01</td>\n",
       "      <td>Albertans dislike PM the most, poll finds; Gov...</td>\n",
       "      <td>EDMONTON -- Albertans are most likely among C...</td>\n",
       "    </tr>\n",
       "  </tbody>\n",
       "</table>\n",
       "</div>"
      ],
      "text/plain": [
       "                               author       date  \\\n",
       "0                    Gillian Steward  2019-01-01   \n",
       "1  Kevin Maimann  StarMetro Edmonton  2019-01-01   \n",
       "\n",
       "                                            headline  \\\n",
       "0  Threats of Alberta separation are mostly an el...   \n",
       "1  Albertans dislike PM the most, poll finds; Gov...   \n",
       "\n",
       "                                                text  \n",
       "0   The angry Albertan has struck again.\\nAnd he ...  \n",
       "1   EDMONTON -- Albertans are most likely among C...  "
      ]
     },
     "execution_count": 129,
     "metadata": {},
     "output_type": "execute_result"
    }
   ],
   "source": [
    "# recall what is in the articles dataframe (df_articles)\n",
    "df_articles.head(2)"
   ]
  },
  {
   "cell_type": "code",
   "execution_count": 130,
   "metadata": {},
   "outputs": [
    {
     "data": {
      "text/plain": [
       "(629, 4)"
      ]
     },
     "execution_count": 130,
     "metadata": {},
     "output_type": "execute_result"
    }
   ],
   "source": [
    "df_articles.shape"
   ]
  },
  {
   "cell_type": "markdown",
   "metadata": {},
   "source": [
    "This means 629 rows and 4 columns"
   ]
  },
  {
   "cell_type": "markdown",
   "metadata": {},
   "source": [
    "#### Now, we want to process the \"text\" column to prepare for LDA topic modeling"
   ]
  },
  {
   "cell_type": "code",
   "execution_count": 131,
   "metadata": {},
   "outputs": [],
   "source": [
    "# Convert to list\n",
    "data = df_articles.text.values.tolist()"
   ]
  },
  {
   "cell_type": "code",
   "execution_count": 132,
   "metadata": {},
   "outputs": [
    {
     "data": {
      "text/plain": [
       "629"
      ]
     },
     "execution_count": 132,
     "metadata": {},
     "output_type": "execute_result"
    }
   ],
   "source": [
    "len(data)"
   ]
  },
  {
   "cell_type": "markdown",
   "metadata": {},
   "source": [
    "At this point, the data variable is a list (629) items long, where each item is an article's content (text)"
   ]
  },
  {
   "cell_type": "code",
   "execution_count": 133,
   "metadata": {},
   "outputs": [],
   "source": [
    "# we need to turn each article into a list of words (tokens)\n",
    "# for this we will tokenize words and clean up text using Gensim’s simple_preprocess() method\n",
    "data_words = []\n",
    "for article_text in data:\n",
    "    article_text_cleaned= gensim.utils.simple_preprocess(article_text, deacc=True)  # deacc=True removes punctuations\n",
    "    data_words.append(article_text_cleaned)"
   ]
  },
  {
   "cell_type": "code",
   "execution_count": 134,
   "metadata": {},
   "outputs": [],
   "source": [
    "# Need to find phrases in our analysis and collapse them before going further\n",
    "#Some examples in our example are: ‘alberta_oipatch’, ‘oil_leak’, 'cannabis_oil'\n",
    "\n",
    "# Build the bigram and trigram models\n",
    "bigram = gensim.models.Phrases(data_words, min_count=5, threshold=100) # higher threshold fewer phrases.\n",
    "\n",
    "# Faster way to get a sentence clubbed as a bigram\n",
    "bigram_mod = gensim.models.phrases.Phraser(bigram)"
   ]
  },
  {
   "cell_type": "code",
   "execution_count": 135,
   "metadata": {},
   "outputs": [],
   "source": [
    "###Remove Stopwords, Make Bigrams and Lemmatize\n",
    "\n",
    "# Define functions for stopwords, bigrams, trigrams and lemmatization\n",
    "def remove_stopwords(texts):\n",
    "    return [[word for word in simple_preprocess(str(doc)) if word not in stop_words] for doc in texts]\n",
    "\n",
    "def make_bigrams(texts):\n",
    "    return [bigram_mod[doc] for doc in texts]"
   ]
  },
  {
   "cell_type": "code",
   "execution_count": 136,
   "metadata": {},
   "outputs": [],
   "source": [
    "# Remove Stop Words\n",
    "data_words_nostops = remove_stopwords(data_words)"
   ]
  },
  {
   "cell_type": "code",
   "execution_count": 137,
   "metadata": {},
   "outputs": [],
   "source": [
    "# Form Bigrams\n",
    "data_words_with_bigram_phrases = make_bigrams(data_words_nostops)"
   ]
  },
  {
   "cell_type": "markdown",
   "metadata": {},
   "source": [
    "##### Dictionary and Corpus needed for Topic Modeling"
   ]
  },
  {
   "cell_type": "code",
   "execution_count": 138,
   "metadata": {},
   "outputs": [],
   "source": [
    "# Create Dictionary\n",
    "dictionary = gensim.corpora.Dictionary(data_words_with_bigram_phrases) # this keeps track of words through id#\n",
    "\n",
    "# Term Document Frequency; this converts a document into a bag of words\n",
    "corpus_bag_of_words = [dictionary.doc2bow(text) for text in data_words_with_bigram_phrases]"
   ]
  },
  {
   "cell_type": "code",
   "execution_count": 139,
   "metadata": {},
   "outputs": [
    {
     "name": "stdout",
     "output_type": "stream",
     "text": [
      "[(0, 1), (1, 1), (2, 1), (3, 15), (4, 1), (5, 2), (6, 1), (7, 1), (8, 1), (9, 3), (10, 1), (11, 2), (12, 3), (13, 1), (14, 2), (15, 1), (16, 1), (17, 1), (18, 1), (19, 1), (20, 2), (21, 1), (22, 4), (23, 1), (24, 1), (25, 1), (26, 1), (27, 1), (28, 1), (29, 1), (30, 2), (31, 1), (32, 1), (33, 1), (34, 2), (35, 1), (36, 2), (37, 1), (38, 2), (39, 1), (40, 1), (41, 1), (42, 1), (43, 1), (44, 1), (45, 1), (46, 1), (47, 1), (48, 1), (49, 1), (50, 2), (51, 1), (52, 1), (53, 1), (54, 1), (55, 1), (56, 3), (57, 1), (58, 1), (59, 1), (60, 2), (61, 1), (62, 1), (63, 1), (64, 1), (65, 1), (66, 1), (67, 1), (68, 2), (69, 1), (70, 1), (71, 1), (72, 2), (73, 1), (74, 1), (75, 1), (76, 1), (77, 1), (78, 1), (79, 1), (80, 1), (81, 1), (82, 1), (83, 1), (84, 1), (85, 1), (86, 1), (87, 1), (88, 1), (89, 1), (90, 1), (91, 1), (92, 1), (93, 1), (94, 1), (95, 1), (96, 1), (97, 2), (98, 1), (99, 1), (100, 1), (101, 1), (102, 1), (103, 1), (104, 1), (105, 1), (106, 1), (107, 1), (108, 1), (109, 1), (110, 1), (111, 1), (112, 1), (113, 2), (114, 1), (115, 1), (116, 1), (117, 1), (118, 2), (119, 1), (120, 1), (121, 1), (122, 1), (123, 1), (124, 1), (125, 1), (126, 1), (127, 1), (128, 2), (129, 1), (130, 1), (131, 1), (132, 1), (133, 1), (134, 2), (135, 1), (136, 1), (137, 2), (138, 1), (139, 1), (140, 2), (141, 1), (142, 6), (143, 1), (144, 1), (145, 1), (146, 1), (147, 2), (148, 1), (149, 2), (150, 1), (151, 5), (152, 1), (153, 3), (154, 2), (155, 1), (156, 1), (157, 1), (158, 1), (159, 3), (160, 1), (161, 1), (162, 1), (163, 1), (164, 1), (165, 1), (166, 1), (167, 1), (168, 1), (169, 4), (170, 1), (171, 1), (172, 1), (173, 1), (174, 2), (175, 1), (176, 1), (177, 1), (178, 1), (179, 1), (180, 9), (181, 2), (182, 1), (183, 2), (184, 2), (185, 1), (186, 1), (187, 1), (188, 1), (189, 5), (190, 1), (191, 3), (192, 2), (193, 1), (194, 1), (195, 1), (196, 1), (197, 1), (198, 1), (199, 1), (200, 1), (201, 1), (202, 1), (203, 1), (204, 1), (205, 1), (206, 1), (207, 1), (208, 1), (209, 1), (210, 1), (211, 1), (212, 1), (213, 1), (214, 1), (215, 1), (216, 1), (217, 1), (218, 1), (219, 1), (220, 1), (221, 1), (222, 1), (223, 1), (224, 1), (225, 1), (226, 1), (227, 1), (228, 1), (229, 1), (230, 1), (231, 10), (232, 1), (233, 1), (234, 1), (235, 1), (236, 1), (237, 1), (238, 1), (239, 1), (240, 1), (241, 1), (242, 2), (243, 1), (244, 1), (245, 1), (246, 1), (247, 1), (248, 1), (249, 1), (250, 1), (251, 1), (252, 2), (253, 1), (254, 1), (255, 1), (256, 1), (257, 1), (258, 1), (259, 1), (260, 1), (261, 4), (262, 1), (263, 1), (264, 1), (265, 1), (266, 2), (267, 1), (268, 1), (269, 1), (270, 1), (271, 1), (272, 1), (273, 4), (274, 1), (275, 1), (276, 1), (277, 1), (278, 1), (279, 1), (280, 1), (281, 1), (282, 1), (283, 1), (284, 1), (285, 2), (286, 2), (287, 3), (288, 2), (289, 1), (290, 1), (291, 6), (292, 1), (293, 1), (294, 1), (295, 2), (296, 1), (297, 1), (298, 1), (299, 6), (300, 1), (301, 1), (302, 1), (303, 1)]\n"
     ]
    }
   ],
   "source": [
    "# We now have a record of every word in each article (assigned an id#, stored in id2word), and the frequency of each word\n",
    "print (dictionary.doc2bow(data_words_bigrams[0]) ) \n",
    "# this is the representation of the first document in our corpus; note, this is a bag of words, so order has been mixed up, the ids correspond to the dictionary (ie. vocabulary) of the entire corpus"
   ]
  },
  {
   "cell_type": "code",
   "execution_count": 140,
   "metadata": {},
   "outputs": [
    {
     "name": "stdout",
     "output_type": "stream",
     "text": [
      "['angry', 'albertan', 'struck', 'sounds', 'like', 'mad', 'hell', 'going', 'take', 'anymore', 'rest', 'canada', 'owes', 'us', 'big', 'time', 'trudeau', 'deliberately', 'wrecking', 'province', 'exactly', 'smartest', 'way', 'win', 'hearts', 'minds', 'across', 'country', 'anger', 'way', 'blotting', 'intelligence', 'regardless', 'certainly', 'lot', 'explosive', 'anger', 'alberta', 'days', 'lot', 'people', 'know', 'better', 'willing', 'throw', 'match', 'anger', 'stems', 'frustration', 'stalled', 'oil', 'pipeline', 'construction', 'pipelines', 'supposed', 'ship', 'alberta', 'plentiful', 'oil', 'supplies', 'united_states', 'export', 'markets', 'limbo', 'mainly', 'objections', 'environmental', 'indigenous', 'activists', 'upheld', 'courts', 'combined', 'complications', 'oil', 'market', 'means', 'alberta', 'oil', 'fetching', 'next', 'nothing', 'compared', 'usual', 'benchmark', 'prices', 'understandably', 'makes', 'lot', 'people', 'mad', 'many', 'depend', 'thriving', 'oil', 'industry', 'well', 'paying', 'work', 'surprising', 'seen', 'large', 'protest', 'rallies', 'especially', 'liberal', 'politicians', 'vicinity', 'always', 'handy', 'target', 'alberta', 'noisy', 'truck', 'convoys', 'rural', 'regions', 'petroleum', 'industry', 'game', 'town', 'course', 'hearing', 'separation', 'bogey', 'man', 'always', 'seems', 'pop', 'times', 'like', 'time', 'elite', 'called', 'leading', 'lights', 'leading', 'separation', 'band', 'wagon', 'first', 'brett', 'wilson', 'raked', 'millions', 'dollars', 'selling', 'equities', 'oil', 'gas', 'companies', 'went', 'become', 'celebrity', 'cbc', 'dragons', 'den', 'wilson', 'took', 'separation', 'cudgel', 'tweeting', 'twitter', 'wbrettwilson', 'status', 'although', 'separatist', 'liberal', 'party', 'collaborating', 'push', 'alberta', 'saskatchewan', 'confederation', 'words', 'alberta', 'alienated', 'oppressed', 'might', 'well', 'separate', 'wilson', 'also', 'absurdly', 'tweeted', 'twitter', 'wbrettwilson', 'status', 'greenpeace', 'david_suzuki', 'foundation', 'guilty', 'treason', 'opposition', 'oil', 'pipelines', 'jack_mintz', 'chimed', 'business', 'financialpost', 'opinion', 'jack_mintz', 'alberta', 'better', 'reasons', 'albexit', 'britain', 'brexit', 'op', 'ed', 'financial', 'post', 'declared', 'alberta', 'better', 'case', 'exiting', 'canada', 'britain', 'exiting', 'eu', 'mintz', 'president', 'ceo', 'howe', 'institute', 'one', 'time', 'went', 'become', 'director', 'university', 'calgary', 'school', 'public', 'policy', 'also', 'sits', 'board', 'imperial', 'oil', 'would', 'imperial', 'oil', 'subsidiary', 'exxonmobil', 'giant', 'multinational', 'deliberately', 'buried', 'article', 'exxon', 'knew', 'climate_change', 'almost', 'years_ago', 'early', 'evidence', 'global_warming', 'due', 'carbon', 'emissions', 'whatever', 'negatives', 'alberta', 'would', 'face', 'easily', 'swamped', 'positives', 'would', 'come', 'separation', 'mintz', 'wrote', 'jason_kenney', 'one', 'time', 'federal', 'conservative', 'cabinet', 'minister', 'leader', 'alberta', 'official', 'opposition', 'endorse', 'separation', 'happy', 'stoke', 'flames', 'within', 'days', 'court_ruling', 'august', 'put', 'brakes', 'construction', 'trans_mountain', 'pipeline', 'kenney', 'told', 'national', 'tv', 'audience', 'ctvnews', 'ca', 'politics', 'separatism', 'may', 'rise', 'alberta', 'trans_mountain', 'decision', 'kenney', 'never', 'heard', 'many', 'people', 'alberta', 'talk', 'separation', 'even', 'hearing', 'educated', 'urban', 'professional', 'women', 'saying', 'country', 'working', 'anymore', 'understand', 'frustration', 'kenney', 'naturally', 'women', 'identified', 'like', 'wilson', 'kenney', 'also', 'pledged', 'set', 'war', 'room', 'deal', 'elected', 'premier', 'wilson', 'mintz', 'kenney', 'never', 'explain', 'separation', 'threatening', 'withdraw', 'alberta', 'contribution', 'equalization_payments', 'would', 'hasten', 'pipeline', 'construction', 'thankfully', 'recent', 'opinion', 'poll', 'researchco', 'ca', 'alberta', 'separation', 'indicates', 'majority', 'albertans', 'buy', 'separation', 'happen', 'would', 'leave', 'albertans', 'swamped', 'people', 'like', 'wilson', 'mintz', 'kenney', 'would', 'remain', 'high', 'dry', 'like', 'many', 'people', 'done', 'well', 'alberta', 'surely', 'could', 'come', 'better', 'solution', 'current', 'predicament', 'threats', 'separation', 'gillian', 'steward', 'calgary', 'based', 'writer', 'freelance', 'columnist', 'star', 'follow', 'twitter', 'gilliansteward', 'twitter', 'gilliansteward']\n"
     ]
    }
   ],
   "source": [
    "# this is the list of words that make up our first article\n",
    "print (data_words_with_bigram_phrases[0])"
   ]
  },
  {
   "cell_type": "code",
   "execution_count": 141,
   "metadata": {},
   "outputs": [
    {
     "data": {
      "text/plain": [
       "'angry'"
      ]
     },
     "execution_count": 141,
     "metadata": {},
     "output_type": "execute_result"
    }
   ],
   "source": [
    "# the first word in this list\n",
    "data_words_bigrams[0][0]"
   ]
  },
  {
   "cell_type": "code",
   "execution_count": 142,
   "metadata": {},
   "outputs": [
    {
     "data": {
      "text/plain": [
       "13"
      ]
     },
     "execution_count": 142,
     "metadata": {},
     "output_type": "execute_result"
    }
   ],
   "source": [
    "# to look up the id# of this \n",
    "dictionary.token2id['angry']"
   ]
  },
  {
   "cell_type": "code",
   "execution_count": 143,
   "metadata": {},
   "outputs": [
    {
     "data": {
      "text/plain": [
       "'angry'"
      ]
     },
     "execution_count": 143,
     "metadata": {},
     "output_type": "execute_result"
    }
   ],
   "source": [
    "# We can also access this word from the dictionary using the id directly\n",
    "dictionary[13]"
   ]
  },
  {
   "cell_type": "markdown",
   "metadata": {},
   "source": [
    "#### As this point, we can run an LDA model, but we don't yet know the number of topics that best fits our data (something we can figure out later on)"
   ]
  },
  {
   "cell_type": "code",
   "execution_count": 144,
   "metadata": {},
   "outputs": [],
   "source": [
    "# let's start with 20 topics, just to get a feel for what this means\n",
    "numberOfTopics = 20"
   ]
  },
  {
   "cell_type": "code",
   "execution_count": 145,
   "metadata": {},
   "outputs": [],
   "source": [
    "# Build LDA model\n",
    "lda_model = gensim.models.ldamodel.LdaModel(corpus=corpus_bag_of_words,\n",
    "                                           id2word=id2word,\n",
    "                                           num_topics= numberOfTopics, \n",
    "                                           random_state=100,\n",
    "                                           update_every=1,\n",
    "                                           chunksize=100,\n",
    "                                           passes=10,\n",
    "                                           alpha='auto',\n",
    "                                           per_word_topics=False)"
   ]
  },
  {
   "cell_type": "code",
   "execution_count": 146,
   "metadata": {},
   "outputs": [
    {
     "name": "stdout",
     "output_type": "stream",
     "text": [
      "Topic: 1 \n",
      "\t 0.018*\"sdy\" + 0.015*\"barta\" + 0.013*\"ostlund\" + 0.011*\"nsfdf\" + 0.011*\"srb\" + 0.011*\"qst\" + 0.011*\"amortized\" + 0.010*\"dynamics\" + 0.009*\"equates\" + 0.009*\"skewing\"\n",
      "Topic: 2 \n",
      "\t 0.018*\"browns\" + 0.017*\"glee\" + 0.012*\"pouring\" + 0.009*\"oscars\" + 0.009*\"assured\" + 0.008*\"thiessen\" + 0.007*\"quarterly_profit\" + 0.006*\"distinction\" + 0.006*\"extremities\" + 0.005*\"classes\"\n",
      "Topic: 3 \n",
      "\t 0.012*\"canada\" + 0.006*\"one\" + 0.006*\"safety\" + 0.005*\"new\" + 0.005*\"year\" + 0.005*\"canadian\" + 0.005*\"people\" + 0.004*\"would\" + 0.004*\"government\" + 0.004*\"world\"\n",
      "Topic: 4 \n",
      "\t 0.081*\"canelo\" + 0.022*\"kevin\" + 0.015*\"legacy\" + 0.014*\"healing_lodges\" + 0.010*\"supplied\" + 0.010*\"licence\" + 0.008*\"dressing\" + 0.008*\"poorly\" + 0.008*\"producer\" + 0.007*\"damaging\"\n",
      "Topic: 5 \n",
      "\t 0.027*\"emissions\" + 0.020*\"carbon\" + 0.015*\"living\" + 0.013*\"cliffhanger\" + 0.010*\"climate_change\" + 0.010*\"coach\" + 0.009*\"canton\" + 0.009*\"canada\" + 0.008*\"newfield\" + 0.008*\"reversion\"\n",
      "Topic: 6 \n",
      "\t 0.032*\"litigation\" + 0.019*\"mr\" + 0.017*\"laverne\" + 0.016*\"securing\" + 0.014*\"institutional\" + 0.014*\"powers\" + 0.012*\"corona\" + 0.012*\"ppr\" + 0.011*\"commerce\" + 0.010*\"leading\"\n",
      "Topic: 7 \n",
      "\t 0.011*\"owen\" + 0.011*\"families\" + 0.009*\"licensed\" + 0.006*\"louise\" + 0.005*\"storm\" + 0.005*\"book\" + 0.005*\"advocate\" + 0.005*\"nineteen\" + 0.004*\"mostly\" + 0.003*\"first\"\n",
      "Topic: 8 \n",
      "\t 0.029*\"employed\" + 0.021*\"tharisa\" + 0.009*\"erred\" + 0.009*\"employees_maintains\" + 0.009*\"undertakings\" + 0.008*\"golds\" + 0.008*\"medicine_hat\" + 0.006*\"group\" + 0.005*\"luncheons\" + 0.005*\"misbrdstk\"\n",
      "Topic: 9 \n",
      "\t 0.018*\"canada\" + 0.015*\"testy\" + 0.014*\"article\" + 0.012*\"mr\" + 0.009*\"oil\" + 0.009*\"business\" + 0.008*\"alberta\" + 0.008*\"new\" + 0.007*\"globe\" + 0.007*\"companies\"\n",
      "Topic: 10 \n",
      "\t 0.023*\"navdeep\" + 0.022*\"software\" + 0.019*\"sgveq\" + 0.014*\"fgn\" + 0.013*\"tms\" + 0.013*\"cnr\" + 0.008*\"msft\" + 0.008*\"solutions\" + 0.007*\"comedy\" + 0.006*\"premarket\"\n",
      "Topic: 11 \n",
      "\t 0.030*\"oil\" + 0.020*\"per_cent\" + 0.018*\"prices\" + 0.014*\"canada\" + 0.013*\"year\" + 0.013*\"canadian\" + 0.011*\"president_emmanuel\" + 0.010*\"product\" + 0.009*\"alberta\" + 0.007*\"market\"\n",
      "Topic: 12 \n",
      "\t 0.020*\"mr\" + 0.015*\"clarizio\" + 0.011*\"commercial_disputes\" + 0.009*\"practice_encompasses\" + 0.008*\"benchetrit\" + 0.008*\"prefontaine\" + 0.007*\"acmpr\" + 0.007*\"canada\" + 0.006*\"bennett_jones\" + 0.006*\"commutes\"\n",
      "Topic: 13 \n",
      "\t 0.008*\"thunder\" + 0.008*\"booking\" + 0.007*\"turf\" + 0.006*\"scheduled\" + 0.006*\"deniers\" + 0.006*\"splinter\" + 0.006*\"cathal_kelly\" + 0.006*\"contraception\" + 0.005*\"susie\" + 0.004*\"wining\"\n",
      "Topic: 14 \n",
      "\t 0.033*\"calgary\" + 0.033*\"cities\" + 0.027*\"doubly\" + 0.024*\"texture\" + 0.012*\"people\" + 0.012*\"jettisoning\" + 0.012*\"kicker\" + 0.009*\"calf\" + 0.009*\"could_cause\" + 0.009*\"canadians\"\n",
      "Topic: 15 \n",
      "\t 0.023*\"alberta\" + 0.021*\"oil\" + 0.020*\"government\" + 0.012*\"energy\" + 0.011*\"federal\" + 0.011*\"province\" + 0.010*\"would\" + 0.010*\"pipeline\" + 0.008*\"trudeau\" + 0.007*\"ottawa\"\n",
      "Topic: 16 \n",
      "\t 0.016*\"community\" + 0.011*\"oil\" + 0.011*\"military\" + 0.009*\"product\" + 0.009*\"informant\" + 0.007*\"statement\" + 0.007*\"formations\" + 0.007*\"pepperdine\" + 0.006*\"natural\" + 0.006*\"financial\"\n",
      "Topic: 17 \n",
      "\t 0.021*\"per_cent\" + 0.014*\"testy\" + 0.013*\"market\" + 0.010*\"article\" + 0.009*\"year\" + 0.009*\"inattentiveness\" + 0.008*\"us\" + 0.008*\"stock\" + 0.007*\"markets\" + 0.007*\"canadian\"\n",
      "Topic: 18 \n",
      "\t 0.025*\"pertinent\" + 0.022*\"sensitive\" + 0.017*\"words\" + 0.016*\"photographs\" + 0.009*\"ottawa\" + 0.007*\"trump\" + 0.007*\"election\" + 0.006*\"safety\" + 0.006*\"tore\" + 0.005*\"pole\"\n",
      "Topic: 19 \n",
      "\t 0.011*\"tore\" + 0.009*\"canada\" + 0.007*\"calgary\" + 0.007*\"restored\" + 0.006*\"counts\" + 0.006*\"unfortunately\" + 0.006*\"conference\" + 0.006*\"university\" + 0.005*\"years\" + 0.005*\"notwithstanding\"\n",
      "Topic: 20 \n",
      "\t 0.012*\"houses\" + 0.010*\"victor\" + 0.009*\"unfortunately\" + 0.008*\"homan\" + 0.008*\"sheer\" + 0.007*\"tore\" + 0.006*\"ardently\" + 0.005*\"decorating\" + 0.005*\"lakers\" + 0.005*\"stewardship\"\n"
     ]
    }
   ],
   "source": [
    "# Print the Keyword in the topics\n",
    "topic_output = lda_model.print_topics(numberOfTopics)\n",
    "\n",
    "for topicTuple in topic_output:\n",
    "    index = topicTuple[0]+1 # recall that list indices start at 0\n",
    "    print (\"Topic:\", index, \"\\n\\t\", topicTuple[1])"
   ]
  },
  {
   "cell_type": "markdown",
   "metadata": {},
   "source": [
    "#### Now, to run LDA, We need to the optimal number of topics. We will first use the metric of coherence to see where it maximizes and levels off."
   ]
  },
  {
   "cell_type": "markdown",
   "metadata": {},
   "source": [
    "We are going to use a method to track different coherence measures"
   ]
  },
  {
   "cell_type": "code",
   "execution_count": 157,
   "metadata": {},
   "outputs": [],
   "source": [
    "def compute_coherence_values(dictionary, corpus, texts, limit, start=2, step=3):    \n",
    "    coherence_values = []\n",
    "    model_list = []\n",
    "    for num_topics in range(start, limit, step):\n",
    "        # Compute Coherence Score        \n",
    "        lda_model = gensim.models.ldamodel.LdaModel(corpus=corpus,\n",
    "                                           id2word=id2word,\n",
    "                                           num_topics=num_topics, \n",
    "                                           random_state=100,\n",
    "                                           update_every=1,\n",
    "                                           chunksize=100,\n",
    "                                           passes=10,\n",
    "                                           alpha='auto',\n",
    "                                           per_word_topics=True)                        \n",
    "        model_list.append(lda_model)\n",
    "        coherence_model_lda = CoherenceModel(model=lda_model, texts=texts, dictionary=id2word, coherence='c_v')        \n",
    "        coherence_lda = coherence_model_lda.get_coherence()\n",
    "        coherence_values.append(coherence_lda)\n",
    "        print (\"trying out, \", num_topics, \"topics\", \"coherence_lda=\", coherence_lda)\n",
    "    return model_list, coherence_values"
   ]
  },
  {
   "cell_type": "markdown",
   "metadata": {},
   "source": [
    "Given that we have over 500 articles, we should be safe to assume a fit between 10 and 50 topics. First, using steps of 5 "
   ]
  },
  {
   "cell_type": "code",
   "execution_count": 158,
   "metadata": {},
   "outputs": [],
   "source": [
    "limit=50; start=10; step=5;"
   ]
  },
  {
   "cell_type": "code",
   "execution_count": 160,
   "metadata": {},
   "outputs": [
    {
     "name": "stdout",
     "output_type": "stream",
     "text": [
      "trying out,  10 topics coherence_lda= 0.5028957023257362\n",
      "trying out,  15 topics coherence_lda= 0.4911158799297805\n",
      "trying out,  20 topics coherence_lda= 0.5403164667567276\n",
      "trying out,  25 topics coherence_lda= 0.5455301661373724\n",
      "trying out,  30 topics coherence_lda= 0.5559148342913124\n",
      "trying out,  35 topics coherence_lda= 0.5483844728992151\n",
      "trying out,  40 topics coherence_lda= 0.5700398777622808\n",
      "trying out,  45 topics coherence_lda= 0.5635353439287198\n"
     ]
    }
   ],
   "source": [
    "# Can take a long time to run.\n",
    "model_list, coherence_values = compute_coherence_values(dictionary=dictionary, corpus=corpus_bag_of_words, texts=data_words_with_bigram_phrases, start=start, limit=limit, step=step)"
   ]
  },
  {
   "cell_type": "code",
   "execution_count": 161,
   "metadata": {},
   "outputs": [
    {
     "data": {
      "text/plain": [
       "[0.5028957023257362,\n",
       " 0.4911158799297805,\n",
       " 0.5403164667567276,\n",
       " 0.5455301661373724,\n",
       " 0.5559148342913124,\n",
       " 0.5483844728992151,\n",
       " 0.5700398777622808,\n",
       " 0.5635353439287198]"
      ]
     },
     "execution_count": 161,
     "metadata": {},
     "output_type": "execute_result"
    }
   ],
   "source": [
    "coherence_values"
   ]
  },
  {
   "cell_type": "code",
   "execution_count": 162,
   "metadata": {},
   "outputs": [
    {
     "data": {
      "image/png": "[encoded data removed]",
      "text/plain": [
       "<Figure size 432x288 with 1 Axes>"
      ]
     },
     "metadata": {
      "needs_background": "light"
     },
     "output_type": "display_data"
    }
   ],
   "source": [
    "# Show graph\n",
    "x = range(start, limit, step)\n",
    "plt.plot(x, coherence_values)\n",
    "plt.xlabel(\"Num Topics\")\n",
    "plt.ylabel(\"Coherence score\")\n",
    "plt.legend((\"coherence_values\"), loc='best')\n",
    "plt.show()"
   ]
  },
  {
   "cell_type": "code",
   "execution_count": 163,
   "metadata": {},
   "outputs": [
    {
     "name": "stdout",
     "output_type": "stream",
     "text": [
      "Num Topics = 10  has Coherence Value of 0.5029\n",
      "Num Topics = 15  has Coherence Value of 0.4911\n",
      "Num Topics = 20  has Coherence Value of 0.5403\n",
      "Num Topics = 25  has Coherence Value of 0.5455\n",
      "Num Topics = 30  has Coherence Value of 0.5559\n",
      "Num Topics = 35  has Coherence Value of 0.5484\n",
      "Num Topics = 40  has Coherence Value of 0.57\n",
      "Num Topics = 45  has Coherence Value of 0.5635\n"
     ]
    }
   ],
   "source": [
    "# Print the coherence scores\n",
    "for m, cv in zip(x, coherence_values):\n",
    "    print(\"Num Topics =\", m, \" has Coherence Value of\", round(cv, 4))"
   ]
  },
  {
   "cell_type": "code",
   "execution_count": 164,
   "metadata": {},
   "outputs": [],
   "source": [
    "idealNumberOfTopics =  40"
   ]
  },
  {
   "cell_type": "code",
   "execution_count": 165,
   "metadata": {},
   "outputs": [],
   "source": [
    "# Build LDA model\n",
    "lda_model_optimal = gensim.models.ldamodel.LdaModel(corpus=corpus_bag_of_words,\n",
    "                                           id2word=id2word,\n",
    "                                           num_topics= idealNumberOfTopics, \n",
    "                                           random_state=100,\n",
    "                                           update_every=1,\n",
    "                                           chunksize=100,\n",
    "                                           passes=10,\n",
    "                                           alpha='auto',\n",
    "                                           per_word_topics=False)"
   ]
  },
  {
   "cell_type": "code",
   "execution_count": 166,
   "metadata": {},
   "outputs": [
    {
     "name": "stdout",
     "output_type": "stream",
     "text": [
      "Topic: 1 \n",
      "\t 0.030*\"merrily\" + 0.011*\"indo\" + 0.008*\"comparing\" + 0.007*\"billgraveland\" + 0.007*\"juice\" + 0.006*\"aramco\" + 0.006*\"anytime\" + 0.006*\"veggies\" + 0.005*\"antiques\" + 0.005*\"heroes\"\n",
      "Topic: 2 \n",
      "\t 0.028*\"orchard\" + 0.018*\"classes\" + 0.012*\"rail_cars\" + 0.010*\"grappling\" + 0.009*\"quarterly\" + 0.008*\"formerly\" + 0.007*\"economywide\" + 0.007*\"braced\" + 0.006*\"hoax\" + 0.006*\"pegs\"\n",
      "Topic: 3 \n",
      "\t 0.021*\"calgary\" + 0.018*\"cities\" + 0.014*\"notwithstanding\" + 0.009*\"texture\" + 0.008*\"towns\" + 0.008*\"people\" + 0.007*\"wannacry\" + 0.007*\"calf\" + 0.006*\"goes\" + 0.006*\"miraculous\"\n",
      "Topic: 4 \n",
      "\t 0.073*\"hiatus\" + 0.058*\"carbon_pricing\" + 0.043*\"networks\" + 0.042*\"que\" + 0.039*\"province\" + 0.022*\"provinces\" + 0.019*\"legally\" + 0.017*\"blackface\" + 0.015*\"afa\" + 0.014*\"manitoba\"\n",
      "Topic: 5 \n",
      "\t 0.110*\"ensured\" + 0.040*\"ruffle\" + 0.015*\"tinker\" + 0.010*\"motorsports\" + 0.010*\"shines\" + 0.010*\"vintage\" + 0.008*\"pelletier\" + 0.007*\"proceedings\" + 0.005*\"masterfully\" + 0.005*\"merel\"\n",
      "Topic: 6 \n",
      "\t 0.021*\"lgbtq\" + 0.020*\"fluffy\" + 0.018*\"entered\" + 0.010*\"adam\" + 0.009*\"cfos\" + 0.008*\"androgynous\" + 0.007*\"adoption\" + 0.007*\"middleman\" + 0.007*\"denounce\" + 0.006*\"access_sufficient\"\n",
      "Topic: 7 \n",
      "\t 0.020*\"one\" + 0.017*\"elise\" + 0.011*\"left\" + 0.009*\"pompeo\" + 0.008*\"politics_briefing\" + 0.008*\"nineteen\" + 0.007*\"families\" + 0.007*\"star\" + 0.007*\"great\" + 0.007*\"owen\"\n",
      "Topic: 8 \n",
      "\t 0.033*\"glogovac\" + 0.033*\"crowdfunding\" + 0.013*\"toddlers\" + 0.011*\"eka\" + 0.011*\"momentum\" + 0.011*\"leszczyc\" + 0.011*\"stymieing\" + 0.011*\"trivial\" + 0.009*\"created\" + 0.008*\"tpeglgajseksknw\"\n",
      "Topic: 9 \n",
      "\t 0.054*\"cities\" + 0.042*\"unfortunately\" + 0.038*\"houses\" + 0.036*\"calgary\" + 0.026*\"new\" + 0.020*\"british_columbia\" + 0.016*\"could_cause\" + 0.015*\"substituted\" + 0.012*\"united_nations\" + 0.012*\"reluctantly\"\n",
      "Topic: 10 \n",
      "\t 0.026*\"navdeep\" + 0.023*\"sgveq\" + 0.021*\"software\" + 0.016*\"qst\" + 0.014*\"cnr\" + 0.014*\"urgency\" + 0.012*\"baumberg\" + 0.011*\"thai\" + 0.011*\"college_football\" + 0.010*\"business\"\n",
      "Topic: 11 \n",
      "\t 0.022*\"following\" + 0.016*\"improving\" + 0.013*\"mans\" + 0.009*\"result\" + 0.009*\"taxable\" + 0.008*\"writes\" + 0.008*\"tetsu\" + 0.008*\"calculate\" + 0.008*\"recovering\" + 0.007*\"police_officers\"\n",
      "Topic: 12 \n",
      "\t 0.033*\"ostlund\" + 0.028*\"srb\" + 0.024*\"efx\" + 0.021*\"data_cdleeder\" + 0.011*\"discontinuance\" + 0.010*\"cfnwan\" + 0.010*\"discounts\" + 0.009*\"sxp\" + 0.009*\"starting_jan\" + 0.007*\"iacbnwqvejcuq\"\n",
      "Topic: 13 \n",
      "\t 0.037*\"sdy\" + 0.030*\"barta\" + 0.018*\"petrobangla\" + 0.017*\"equates\" + 0.015*\"discontinuance\" + 0.014*\"dii\" + 0.014*\"hwo\" + 0.013*\"cfw\" + 0.012*\"complementing\" + 0.011*\"mats\"\n",
      "Topic: 14 \n",
      "\t 0.052*\"ppr\" + 0.034*\"misma\" + 0.025*\"organically\" + 0.017*\"surveys\" + 0.011*\"flattened\" + 0.010*\"colour\" + 0.008*\"iocs\" + 0.008*\"zj\" + 0.008*\"prepayment\" + 0.008*\"disassembled\"\n",
      "Topic: 15 \n",
      "\t 0.026*\"counting\" + 0.011*\"moral\" + 0.010*\"bernardo\" + 0.007*\"remit\" + 0.006*\"weakens\" + 0.006*\"gilbert\" + 0.006*\"latinos\" + 0.004*\"bst\" + 0.003*\"races\" + 0.003*\"elites\"\n",
      "Topic: 16 \n",
      "\t 0.017*\"community\" + 0.011*\"military\" + 0.010*\"informant\" + 0.009*\"oil\" + 0.009*\"statement\" + 0.008*\"product\" + 0.008*\"formations\" + 0.008*\"natural\" + 0.007*\"pepperdine\" + 0.007*\"financial\"\n",
      "Topic: 17 \n",
      "\t 0.041*\"oil\" + 0.017*\"product\" + 0.016*\"canadian\" + 0.016*\"energy\" + 0.015*\"us\" + 0.013*\"crude\" + 0.013*\"president_emmanuel\" + 0.013*\"alberta\" + 0.012*\"military\" + 0.011*\"prices\"\n",
      "Topic: 18 \n",
      "\t 0.082*\"pertinent\" + 0.076*\"sensitive\" + 0.056*\"photographs\" + 0.055*\"words\" + 0.025*\"trump\" + 0.022*\"safety\" + 0.019*\"election\" + 0.012*\"dui\" + 0.012*\"ottawa\" + 0.012*\"unresolved\"\n",
      "Topic: 19 \n",
      "\t 0.006*\"year\" + 0.006*\"tore\" + 0.005*\"first\" + 0.004*\"new\" + 0.004*\"two\" + 0.004*\"people\" + 0.004*\"canadian\" + 0.003*\"cities\" + 0.003*\"women\" + 0.003*\"canada\"\n",
      "Topic: 20 \n",
      "\t 0.037*\"per_cent\" + 0.012*\"year\" + 0.010*\"canada\" + 0.010*\"prices\" + 0.008*\"business\" + 0.007*\"also\" + 0.007*\"higher\" + 0.007*\"canadian\" + 0.006*\"bank\" + 0.006*\"markets\"\n",
      "Topic: 21 \n",
      "\t 0.087*\"owen\" + 0.009*\"ferrante\" + 0.008*\"farms\" + 0.006*\"inuk\" + 0.005*\"whitesky\" + 0.003*\"niche\" + 0.003*\"consummate\" + 0.003*\"compassionate\" + 0.003*\"simon_schuster\" + 0.003*\"legions\"\n",
      "Topic: 22 \n",
      "\t 0.142*\"mr\" + 0.051*\"waste\" + 0.034*\"companies\" + 0.026*\"mistrust\" + 0.021*\"gas\" + 0.019*\"derail\" + 0.014*\"patch\" + 0.014*\"globe\" + 0.013*\"energy\" + 0.011*\"heavy_crude\"\n",
      "Topic: 23 \n",
      "\t 0.023*\"lakers\" + 0.022*\"indigenous\" + 0.021*\"find\" + 0.018*\"stewardship\" + 0.016*\"maria\" + 0.014*\"lands\" + 0.012*\"counts\" + 0.012*\"hovered\" + 0.011*\"kenney\" + 0.010*\"pipeline_expansion\"\n",
      "Topic: 24 \n",
      "\t 0.011*\"licl\" + 0.010*\"spruce\" + 0.010*\"joly\" + 0.010*\"diwali\" + 0.010*\"lantern\" + 0.010*\"mogo\" + 0.010*\"ridiculed\" + 0.010*\"preached\" + 0.009*\"profoundly\" + 0.009*\"bouthillier\"\n",
      "Topic: 25 \n",
      "\t 0.055*\"callers\" + 0.027*\"layering\" + 0.020*\"nsfdf\" + 0.019*\"amortized\" + 0.015*\"skewing\" + 0.014*\"prepaid\" + 0.014*\"cumulative_effect\" + 0.012*\"kuala\" + 0.010*\"nibvkz\" + 0.009*\"direct_employee\"\n",
      "Topic: 26 \n",
      "\t 0.091*\"canelo\" + 0.027*\"kevin\" + 0.021*\"healing_lodges\" + 0.015*\"jarbeau\" + 0.014*\"stopped\" + 0.014*\"legacy\" + 0.008*\"issues\" + 0.008*\"neb\" + 0.008*\"bi\" + 0.008*\"yamaha\"\n",
      "Topic: 27 \n",
      "\t 0.015*\"higgs\" + 0.012*\"behaviours\" + 0.011*\"wealth\" + 0.009*\"keurig\" + 0.009*\"hiccup\" + 0.008*\"interestingly\" + 0.008*\"tat\" + 0.007*\"goodbye\" + 0.007*\"sciences\" + 0.007*\"distribution\"\n",
      "Topic: 28 \n",
      "\t 0.013*\"alberta\" + 0.012*\"government\" + 0.011*\"canada\" + 0.011*\"oil\" + 0.009*\"would\" + 0.006*\"federal\" + 0.005*\"one\" + 0.005*\"industry\" + 0.005*\"new\" + 0.005*\"energy\"\n",
      "Topic: 29 \n",
      "\t 0.014*\"puzzles\" + 0.012*\"dofasco\" + 0.010*\"louise\" + 0.009*\"licensed\" + 0.008*\"lithgow\" + 0.007*\"employees_maintains\" + 0.007*\"powerlessness\" + 0.005*\"sinking\" + 0.005*\"buddhist\" + 0.005*\"granddaughter\"\n",
      "Topic: 30 \n",
      "\t 0.064*\"living\" + 0.038*\"wharf\" + 0.020*\"thiessen\" + 0.012*\"grizzly\" + 0.008*\"biodiversity\" + 0.007*\"scare\" + 0.007*\"corcoran\" + 0.006*\"lionel\" + 0.005*\"reaffirm\" + 0.005*\"steep_discounts\"\n",
      "Topic: 31 \n",
      "\t 0.025*\"testy\" + 0.020*\"market\" + 0.020*\"stock\" + 0.015*\"inattentiveness\" + 0.014*\"article\" + 0.013*\"stint\" + 0.012*\"index\" + 0.011*\"investor\" + 0.010*\"included\" + 0.009*\"year\"\n",
      "Topic: 32 \n",
      "\t 0.036*\"wadsworth\" + 0.022*\"curran\" + 0.014*\"wwf\" + 0.012*\"dialing\" + 0.012*\"lacked\" + 0.008*\"population\" + 0.006*\"aughts\" + 0.005*\"doorstep\" + 0.004*\"licencing\" + 0.004*\"pasquale\"\n",
      "Topic: 33 \n",
      "\t 0.029*\"burr\" + 0.023*\"sarcophagus\" + 0.018*\"doodle\" + 0.012*\"shipper\" + 0.012*\"fossils\" + 0.012*\"anniversaries\" + 0.011*\"compartment\" + 0.009*\"zharkamys\" + 0.008*\"tasw\" + 0.008*\"majeure\"\n",
      "Topic: 34 \n",
      "\t 0.141*\"doubly\" + 0.046*\"kicker\" + 0.039*\"jettisoning\" + 0.023*\"newfield\" + 0.017*\"lunch\" + 0.014*\"debris\" + 0.014*\"northbow\" + 0.010*\"restocked\" + 0.010*\"straying\" + 0.009*\"samestore\"\n",
      "Topic: 35 \n",
      "\t 0.043*\"testy\" + 0.038*\"article\" + 0.026*\"canada\" + 0.010*\"mail\" + 0.009*\"globe\" + 0.009*\"business\" + 0.008*\"us\" + 0.007*\"politics\" + 0.006*\"storm\" + 0.006*\"canelo\"\n",
      "Topic: 36 \n",
      "\t 0.019*\"canada\" + 0.012*\"restored\" + 0.011*\"tore\" + 0.011*\"counts\" + 0.008*\"takeovers\" + 0.008*\"conference\" + 0.008*\"community\" + 0.007*\"financial\" + 0.006*\"canadian\" + 0.006*\"relaxed\"\n",
      "Topic: 37 \n",
      "\t 0.074*\"bir\" + 0.014*\"orientated\" + 0.013*\"tharisa\" + 0.012*\"veer\" + 0.011*\"fgn\" + 0.010*\"tms\" + 0.010*\"entityxiv\" + 0.010*\"energy\" + 0.009*\"group\" + 0.008*\"medicine_hat\"\n",
      "Topic: 38 \n",
      "\t 0.028*\"families\" + 0.022*\"note\" + 0.018*\"licensed\" + 0.017*\"years\" + 0.015*\"friend\" + 0.012*\"many\" + 0.011*\"university\" + 0.011*\"tore\" + 0.010*\"gdp_ratio\" + 0.010*\"jerk\"\n",
      "Topic: 39 \n",
      "\t 0.054*\"litigation\" + 0.026*\"laverne\" + 0.017*\"clarizio\" + 0.013*\"commercial_disputes\" + 0.010*\"practice_encompasses\" + 0.010*\"canada\" + 0.009*\"including\" + 0.009*\"benchetrit\" + 0.008*\"prefontaine\" + 0.008*\"bahrain\"\n",
      "Topic: 40 \n",
      "\t 0.006*\"neepawa\" + 0.000*\"praying\" + 0.000*\"petite\" + 0.000*\"physique\" + 0.000*\"piccadilly\" + 0.000*\"pleasantly\" + 0.000*\"porsche\" + 0.000*\"pensioners\" + 0.000*\"reactor\" + 0.000*\"punish\"\n"
     ]
    }
   ],
   "source": [
    "# Print the Keyword in the topics\n",
    "topic_output = lda_model_optimal.print_topics(idealNumberOfTopics)\n",
    "\n",
    "for topicTuple in topic_output:\n",
    "    index = topicTuple[0]+1 # recall that list indices start at 0\n",
    "    print (\"Topic:\", index, \"\\n\\t\", topicTuple[1])"
   ]
  },
  {
   "cell_type": "code",
   "execution_count": 167,
   "metadata": {},
   "outputs": [
    {
     "name": "stderr",
     "output_type": "stream",
     "text": [
      "/Users/Tim/anaconda3/envs/py37/lib/python3.7/site-packages/pyLDAvis/_prepare.py:257: FutureWarning: Sorting because non-concatenation axis is not aligned. A future version\n",
      "of pandas will change to not sort by default.\n",
      "\n",
      "To accept the future behavior, pass 'sort=False'.\n",
      "\n",
      "To retain the current behavior and silence the warning, pass 'sort=True'.\n",
      "\n",
      "  return pd.concat([default_term_info] + list(topic_dfs))\n"
     ]
    },
    {
     "data": {
      "text/html": [
       "\n",
       "<link rel=\"stylesheet\" type=\"text/css\" href=\"https://cdn.rawgit.com/bmabey/pyLDAvis/files/ldavis.v1.0.0.css\">\n",
       "\n",
       "\n",
       "<div id=\"ldavis_el762241123492489923663776845\"></div>\n",
       "<script type=\"text/javascript\">\n",
       "\n",
       "var ldavis_el762241123492489923663776845_data = {\"mdsDat\": {\"x\": [0.12134974400362886, 0.1224537361741693, -0.1161826471490516, 0.06797130087343298, 0.11891178830204378, 0.1199872472234198, -0.08047915325888783, 0.11985697007269966, -0.027388407232047406, 0.0683203931855142, 0.11011070849788698, 0.11669790806754086, 0.10445390671505904, 0.11907099934920358, 0.1211157504802808, -0.3101078435435873, -0.3365613127131106, -0.09154772818472504, -0.22856879704602298, -0.3545201701290759, 0.11969270012519234, 0.04434125311036702, 0.0353818640730452, 0.11617927314614451, 0.09872249264397333, 0.08387922152660414, 0.12139697523133648, -0.32109926883791734, 0.0837434287338396, 0.12046853267433844, -0.28467569777409485, 0.12241145953451653, 0.1211934250206766, 0.0986851874020641, -0.2408633744533182, -0.24545907004041156, -0.03476314455632624, 0.015869574430657615, 0.06293299833207745, 0.11701777598886351], \"y\": [-0.01923608172672025, -0.019851526439767633, 0.15046834977507123, 0.004936788840571218, -0.018163271039671035, -0.017960062087524823, 0.1443322787316374, -0.02081989300900486, 0.07359517529855485, -0.009202762372635644, -0.019280166446674157, -0.021703777373001026, -0.019287737866260524, -0.02148582880681065, -0.017488125374199175, -0.1985025786238584, -0.16898266211532437, 0.22476581809656293, 0.16465251062585037, -0.09345245888930466, -0.012988774284982975, -0.054979767838727635, 0.02278254676362584, -0.02023034722451983, -0.018569894688921493, 0.00020387795023667696, -0.0178860618437505, 0.018383476107638838, 0.005858685168427786, -0.01993656051083575, -0.11147787858138913, -0.01930660730600453, -0.019452256061195355, -0.02080117259819486, 0.1370815940616982, 0.062500926968353, -0.07622469978031096, 0.06785364080741665, -0.006392160778860515, -0.013752555527196566], \"topics\": [1, 2, 3, 4, 5, 6, 7, 8, 9, 10, 11, 12, 13, 14, 15, 16, 17, 18, 19, 20, 21, 22, 23, 24, 25, 26, 27, 28, 29, 30, 31, 32, 33, 34, 35, 36, 37, 38, 39, 40], \"cluster\": [1, 1, 1, 1, 1, 1, 1, 1, 1, 1, 1, 1, 1, 1, 1, 1, 1, 1, 1, 1, 1, 1, 1, 1, 1, 1, 1, 1, 1, 1, 1, 1, 1, 1, 1, 1, 1, 1, 1, 1], \"Freq\": [0.14334538578987122, 0.0899539664387703, 1.8580015897750854, 0.29600629210472107, 0.048346467316150665, 0.15315698087215424, 1.3931381702423096, 0.09277274459600449, 0.618574321269989, 0.4830237627029419, 0.18889938294887543, 0.1594395786523819, 0.2028118073940277, 0.11714628338813782, 0.06689837574958801, 16.46431541442871, 6.990373134613037, 1.942869782447815, 14.81727409362793, 9.46741008758545, 0.02596646174788475, 0.44550275802612305, 0.6006761193275452, 0.13466347754001617, 0.21347469091415405, 0.3204883635044098, 0.13286268711090088, 24.685405731201172, 0.5913925170898438, 0.128095805644989, 4.718178749084473, 0.039065729826688766, 0.026442937552928925, 0.154816135764122, 4.422391414642334, 5.436084270477295, 0.7163193821907043, 0.9266483783721924, 0.6855974197387695, 0.002174503169953823]}, \"tinfo\": {\"Category\": [\"Default\", \"Default\", \"Default\", \"Default\", \"Default\", \"Default\", \"Default\", \"Default\", \"Default\", \"Default\", \"Default\", \"Default\", \"Default\", \"Default\", \"Default\", \"Default\", \"Default\", \"Default\", \"Default\", \"Default\", \"Default\", \"Default\", \"Default\", \"Default\", \"Default\", \"Default\", \"Default\", \"Default\", \"Default\", \"Default\", \"Topic1\", \"Topic1\", \"Topic1\", \"Topic1\", \"Topic1\", \"Topic1\", \"Topic1\", \"Topic1\", \"Topic1\", \"Topic1\", \"Topic1\", \"Topic1\", \"Topic1\", \"Topic1\", \"Topic1\", \"Topic1\", \"Topic1\", \"Topic1\", \"Topic1\", \"Topic1\", \"Topic1\", \"Topic1\", \"Topic1\", \"Topic1\", \"Topic1\", \"Topic1\", \"Topic1\", \"Topic1\", \"Topic1\", \"Topic1\", \"Topic1\", \"Topic1\", \"Topic1\", \"Topic1\", \"Topic1\", \"Topic2\", \"Topic2\", \"Topic2\", \"Topic2\", \"Topic2\", \"Topic2\", \"Topic2\", \"Topic2\", \"Topic2\", \"Topic2\", \"Topic2\", \"Topic2\", \"Topic2\", \"Topic2\", \"Topic2\", \"Topic2\", \"Topic2\", \"Topic2\", \"Topic2\", \"Topic2\", \"Topic2\", \"Topic2\", \"Topic2\", \"Topic2\", \"Topic2\", \"Topic2\", \"Topic2\", \"Topic2\", \"Topic2\", \"Topic2\", \"Topic2\", \"Topic2\", \"Topic2\", \"Topic3\", \"Topic3\", \"Topic3\", \"Topic3\", \"Topic3\", \"Topic3\", \"Topic3\", \"Topic3\", \"Topic3\", \"Topic3\", \"Topic3\", \"Topic3\", \"Topic3\", \"Topic3\", \"Topic3\", \"Topic3\", \"Topic3\", \"Topic3\", \"Topic3\", \"Topic3\", \"Topic3\", \"Topic3\", \"Topic3\", \"Topic3\", \"Topic3\", \"Topic3\", \"Topic3\", \"Topic3\", \"Topic3\", \"Topic3\", \"Topic3\", \"Topic3\", \"Topic3\", \"Topic3\", \"Topic3\", \"Topic3\", \"Topic3\", \"Topic3\", \"Topic3\", \"Topic3\", \"Topic3\", \"Topic3\", \"Topic3\", \"Topic3\", \"Topic3\", \"Topic3\", \"Topic3\", \"Topic3\", \"Topic3\", \"Topic3\", \"Topic3\", \"Topic3\", \"Topic3\", \"Topic3\", \"Topic3\", \"Topic3\", \"Topic3\", \"Topic3\", \"Topic3\", \"Topic3\", \"Topic3\", \"Topic3\", \"Topic3\", \"Topic4\", \"Topic4\", \"Topic4\", \"Topic4\", \"Topic4\", \"Topic4\", \"Topic4\", \"Topic4\", \"Topic4\", \"Topic4\", \"Topic4\", \"Topic4\", \"Topic4\", \"Topic4\", \"Topic4\", \"Topic4\", \"Topic4\", \"Topic4\", \"Topic4\", \"Topic4\", \"Topic4\", \"Topic4\", \"Topic4\", \"Topic4\", \"Topic4\", \"Topic4\", \"Topic4\", \"Topic4\", \"Topic4\", \"Topic4\", \"Topic4\", \"Topic4\", \"Topic4\", \"Topic4\", \"Topic4\", \"Topic4\", \"Topic4\", \"Topic4\", \"Topic4\", \"Topic4\", \"Topic4\", \"Topic4\", \"Topic4\", \"Topic4\", \"Topic4\", \"Topic4\", \"Topic4\", \"Topic4\", \"Topic4\", \"Topic4\", \"Topic4\", \"Topic4\", \"Topic4\", \"Topic4\", \"Topic4\", \"Topic4\", \"Topic4\", \"Topic4\", \"Topic4\", \"Topic5\", \"Topic5\", \"Topic5\", \"Topic5\", \"Topic5\", \"Topic5\", \"Topic5\", \"Topic5\", \"Topic5\", \"Topic5\", \"Topic5\", \"Topic5\", \"Topic5\", \"Topic5\", \"Topic5\", \"Topic5\", \"Topic5\", \"Topic5\", \"Topic5\", \"Topic5\", \"Topic5\", \"Topic5\", \"Topic5\", \"Topic5\", \"Topic5\", \"Topic5\", \"Topic5\", \"Topic5\", \"Topic5\", \"Topic5\", \"Topic5\", \"Topic6\", \"Topic6\", \"Topic6\", \"Topic6\", \"Topic6\", \"Topic6\", \"Topic6\", \"Topic6\", \"Topic6\", \"Topic6\", \"Topic6\", \"Topic6\", \"Topic6\", \"Topic6\", \"Topic6\", \"Topic6\", \"Topic6\", \"Topic6\", \"Topic6\", \"Topic6\", \"Topic6\", \"Topic6\", \"Topic6\", \"Topic6\", \"Topic6\", \"Topic6\", \"Topic6\", \"Topic6\", \"Topic6\", \"Topic6\", \"Topic6\", \"Topic6\", \"Topic6\", \"Topic6\", \"Topic6\", \"Topic6\", \"Topic6\", \"Topic6\", \"Topic6\", \"Topic6\", \"Topic6\", \"Topic7\", \"Topic7\", \"Topic7\", \"Topic7\", \"Topic7\", \"Topic7\", \"Topic7\", \"Topic7\", \"Topic7\", \"Topic7\", \"Topic7\", \"Topic7\", \"Topic7\", \"Topic7\", \"Topic7\", \"Topic7\", \"Topic7\", \"Topic7\", \"Topic7\", \"Topic7\", \"Topic7\", \"Topic7\", \"Topic7\", \"Topic7\", \"Topic7\", \"Topic7\", \"Topic7\", \"Topic7\", \"Topic7\", \"Topic7\", \"Topic7\", \"Topic7\", \"Topic7\", \"Topic7\", \"Topic7\", \"Topic7\", \"Topic7\", \"Topic7\", \"Topic7\", \"Topic7\", \"Topic7\", \"Topic7\", \"Topic7\", \"Topic7\", \"Topic7\", \"Topic7\", \"Topic7\", \"Topic7\", \"Topic7\", \"Topic7\", \"Topic7\", \"Topic7\", \"Topic7\", \"Topic7\", \"Topic7\", \"Topic7\", \"Topic7\", \"Topic8\", \"Topic8\", \"Topic8\", \"Topic8\", \"Topic8\", \"Topic8\", \"Topic8\", \"Topic8\", \"Topic8\", \"Topic8\", \"Topic8\", \"Topic8\", \"Topic8\", \"Topic8\", \"Topic8\", \"Topic8\", \"Topic8\", \"Topic8\", \"Topic8\", \"Topic8\", \"Topic8\", \"Topic8\", \"Topic8\", \"Topic8\", \"Topic8\", \"Topic8\", \"Topic8\", \"Topic8\", \"Topic8\", \"Topic8\", \"Topic8\", \"Topic8\", \"Topic8\", \"Topic8\", \"Topic8\", \"Topic8\", \"Topic8\", \"Topic8\", \"Topic8\", \"Topic8\", \"Topic8\", \"Topic9\", \"Topic9\", \"Topic9\", \"Topic9\", \"Topic9\", \"Topic9\", \"Topic9\", \"Topic9\", \"Topic9\", \"Topic9\", \"Topic9\", \"Topic9\", \"Topic9\", \"Topic9\", \"Topic9\", \"Topic9\", \"Topic9\", \"Topic9\", \"Topic9\", \"Topic9\", \"Topic9\", \"Topic9\", \"Topic9\", \"Topic9\", \"Topic9\", \"Topic9\", \"Topic9\", \"Topic9\", \"Topic9\", \"Topic9\", \"Topic9\", \"Topic9\", \"Topic9\", \"Topic9\", \"Topic9\", \"Topic9\", \"Topic9\", \"Topic9\", \"Topic9\", \"Topic9\", \"Topic9\", \"Topic9\", \"Topic9\", \"Topic9\", \"Topic9\", \"Topic9\", \"Topic9\", \"Topic9\", \"Topic9\", \"Topic9\", \"Topic9\", \"Topic9\", \"Topic9\", \"Topic9\", \"Topic9\", \"Topic10\", \"Topic10\", \"Topic10\", \"Topic10\", \"Topic10\", \"Topic10\", \"Topic10\", \"Topic10\", \"Topic10\", \"Topic10\", \"Topic10\", \"Topic10\", \"Topic10\", \"Topic10\", \"Topic10\", \"Topic10\", \"Topic10\", \"Topic10\", \"Topic10\", \"Topic10\", \"Topic10\", \"Topic10\", \"Topic10\", \"Topic10\", \"Topic10\", \"Topic10\", \"Topic10\", \"Topic10\", \"Topic10\", \"Topic10\", \"Topic10\", \"Topic10\", \"Topic10\", \"Topic10\", \"Topic10\", \"Topic10\", \"Topic10\", \"Topic10\", \"Topic10\", \"Topic10\", \"Topic10\", \"Topic10\", \"Topic10\", \"Topic10\", \"Topic11\", \"Topic11\", \"Topic11\", \"Topic11\", \"Topic11\", \"Topic11\", \"Topic11\", \"Topic11\", \"Topic11\", \"Topic11\", \"Topic11\", \"Topic11\", \"Topic11\", \"Topic11\", \"Topic11\", \"Topic11\", \"Topic11\", \"Topic11\", \"Topic11\", \"Topic11\", \"Topic11\", \"Topic11\", \"Topic11\", \"Topic11\", \"Topic11\", \"Topic11\", \"Topic11\", \"Topic11\", \"Topic11\", \"Topic11\", \"Topic11\", \"Topic11\", \"Topic11\", \"Topic11\", \"Topic11\", \"Topic11\", \"Topic11\", \"Topic11\", \"Topic11\", \"Topic11\", \"Topic11\", \"Topic12\", \"Topic12\", \"Topic12\", \"Topic12\", \"Topic12\", \"Topic12\", \"Topic12\", \"Topic12\", \"Topic12\", \"Topic12\", \"Topic12\", \"Topic12\", \"Topic12\", \"Topic12\", \"Topic12\", \"Topic12\", \"Topic12\", \"Topic12\", \"Topic12\", \"Topic12\", \"Topic12\", \"Topic12\", \"Topic12\", \"Topic12\", \"Topic12\", \"Topic12\", \"Topic12\", \"Topic12\", \"Topic12\", \"Topic12\", \"Topic12\", \"Topic12\", \"Topic12\", \"Topic12\", \"Topic12\", \"Topic12\", \"Topic13\", \"Topic13\", \"Topic13\", \"Topic13\", \"Topic13\", \"Topic13\", \"Topic13\", \"Topic13\", \"Topic13\", \"Topic13\", \"Topic13\", \"Topic13\", \"Topic13\", \"Topic13\", \"Topic13\", \"Topic13\", \"Topic13\", \"Topic13\", \"Topic13\", \"Topic13\", \"Topic13\", \"Topic13\", \"Topic13\", \"Topic13\", \"Topic13\", \"Topic13\", \"Topic13\", \"Topic13\", \"Topic13\", \"Topic13\", \"Topic13\", \"Topic13\", \"Topic13\", \"Topic13\", \"Topic14\", \"Topic14\", \"Topic14\", \"Topic14\", \"Topic14\", \"Topic14\", \"Topic14\", \"Topic14\", \"Topic14\", \"Topic14\", \"Topic14\", \"Topic14\", \"Topic14\", \"Topic14\", \"Topic14\", \"Topic14\", \"Topic14\", \"Topic14\", \"Topic14\", \"Topic14\", \"Topic14\", \"Topic14\", \"Topic14\", \"Topic14\", \"Topic14\", \"Topic14\", \"Topic14\", \"Topic14\", \"Topic14\", \"Topic14\", \"Topic14\", \"Topic14\", \"Topic14\", \"Topic14\", \"Topic15\", \"Topic15\", \"Topic15\", \"Topic15\", \"Topic15\", \"Topic15\", \"Topic15\", \"Topic15\", \"Topic15\", \"Topic15\", \"Topic15\", \"Topic15\", \"Topic15\", \"Topic15\", \"Topic15\", \"Topic15\", \"Topic15\", \"Topic15\", \"Topic15\", \"Topic15\", \"Topic15\", \"Topic15\", \"Topic15\", \"Topic15\", \"Topic15\", \"Topic15\", \"Topic15\", \"Topic15\", \"Topic15\", \"Topic15\", \"Topic15\", \"Topic15\", \"Topic15\", \"Topic15\", \"Topic15\", \"Topic15\", \"Topic15\", \"Topic15\", \"Topic15\", \"Topic15\", \"Topic16\", \"Topic16\", \"Topic16\", \"Topic16\", \"Topic16\", \"Topic16\", \"Topic16\", \"Topic16\", \"Topic16\", \"Topic16\", \"Topic16\", \"Topic16\", \"Topic16\", \"Topic16\", \"Topic16\", \"Topic16\", \"Topic16\", \"Topic16\", \"Topic16\", \"Topic16\", \"Topic16\", \"Topic16\", \"Topic16\", \"Topic16\", \"Topic16\", \"Topic16\", \"Topic16\", \"Topic16\", \"Topic16\", \"Topic16\", \"Topic16\", \"Topic16\", \"Topic16\", \"Topic16\", \"Topic16\", \"Topic16\", \"Topic16\", \"Topic16\", \"Topic16\", \"Topic16\", \"Topic16\", \"Topic16\", \"Topic16\", \"Topic16\", \"Topic16\", \"Topic16\", \"Topic16\", \"Topic16\", \"Topic16\", \"Topic16\", \"Topic16\", \"Topic16\", \"Topic16\", \"Topic16\", \"Topic16\", \"Topic16\", \"Topic16\", \"Topic16\", \"Topic16\", \"Topic16\", \"Topic16\", \"Topic16\", \"Topic16\", \"Topic16\", \"Topic16\", \"Topic16\", \"Topic16\", \"Topic16\", \"Topic16\", \"Topic16\", \"Topic17\", \"Topic17\", \"Topic17\", \"Topic17\", \"Topic17\", \"Topic17\", \"Topic17\", \"Topic17\", \"Topic17\", \"Topic17\", \"Topic17\", \"Topic17\", \"Topic17\", \"Topic17\", \"Topic17\", \"Topic17\", \"Topic17\", \"Topic17\", \"Topic17\", \"Topic17\", \"Topic17\", \"Topic17\", \"Topic17\", \"Topic17\", \"Topic17\", \"Topic17\", \"Topic17\", \"Topic17\", \"Topic17\", \"Topic17\", \"Topic17\", \"Topic17\", \"Topic17\", \"Topic17\", \"Topic17\", \"Topic17\", \"Topic17\", \"Topic17\", \"Topic17\", \"Topic17\", \"Topic17\", \"Topic17\", \"Topic17\", \"Topic17\", \"Topic17\", \"Topic17\", \"Topic17\", \"Topic17\", \"Topic17\", \"Topic17\", \"Topic17\", \"Topic17\", \"Topic17\", \"Topic17\", \"Topic17\", \"Topic17\", \"Topic17\", \"Topic17\", \"Topic17\", \"Topic17\", \"Topic17\", \"Topic17\", \"Topic17\", \"Topic17\", \"Topic17\", \"Topic17\", \"Topic17\", \"Topic17\", \"Topic17\", \"Topic17\", \"Topic18\", \"Topic18\", \"Topic18\", \"Topic18\", \"Topic18\", \"Topic18\", \"Topic18\", \"Topic18\", \"Topic18\", \"Topic18\", \"Topic18\", \"Topic18\", \"Topic18\", \"Topic18\", \"Topic18\", \"Topic18\", \"Topic18\", \"Topic18\", \"Topic18\", \"Topic18\", \"Topic18\", \"Topic18\", \"Topic18\", \"Topic18\", \"Topic18\", \"Topic18\", \"Topic18\", \"Topic18\", \"Topic18\", \"Topic18\", \"Topic18\", \"Topic18\", \"Topic18\", \"Topic18\", \"Topic18\", \"Topic18\", \"Topic18\", \"Topic18\", \"Topic18\", \"Topic18\", \"Topic18\", \"Topic18\", \"Topic18\", \"Topic18\", \"Topic18\", \"Topic18\", \"Topic18\", \"Topic18\", \"Topic18\", \"Topic18\", \"Topic18\", \"Topic18\", \"Topic18\", \"Topic18\", \"Topic18\", \"Topic19\", \"Topic19\", \"Topic19\", \"Topic19\", \"Topic19\", \"Topic19\", \"Topic19\", \"Topic19\", \"Topic19\", \"Topic19\", \"Topic19\", \"Topic19\", \"Topic19\", \"Topic19\", \"Topic19\", \"Topic19\", \"Topic19\", \"Topic19\", \"Topic19\", \"Topic19\", \"Topic19\", \"Topic19\", \"Topic19\", \"Topic19\", \"Topic19\", \"Topic19\", \"Topic19\", \"Topic19\", \"Topic19\", \"Topic19\", \"Topic19\", \"Topic19\", \"Topic19\", \"Topic19\", \"Topic19\", \"Topic19\", \"Topic19\", \"Topic19\", \"Topic19\", \"Topic19\", \"Topic19\", \"Topic19\", \"Topic19\", \"Topic19\", \"Topic19\", \"Topic19\", \"Topic19\", \"Topic19\", \"Topic19\", \"Topic19\", \"Topic19\", \"Topic19\", \"Topic19\", \"Topic19\", \"Topic19\", \"Topic19\", \"Topic19\", \"Topic19\", \"Topic19\", \"Topic19\", \"Topic19\", \"Topic19\", \"Topic19\", \"Topic19\", \"Topic19\", \"Topic19\", \"Topic19\", \"Topic19\", \"Topic19\", \"Topic19\", \"Topic19\", \"Topic19\", \"Topic19\", \"Topic20\", \"Topic20\", \"Topic20\", \"Topic20\", \"Topic20\", \"Topic20\", \"Topic20\", \"Topic20\", \"Topic20\", \"Topic20\", \"Topic20\", \"Topic20\", \"Topic20\", \"Topic20\", \"Topic20\", \"Topic20\", \"Topic20\", \"Topic20\", \"Topic20\", \"Topic20\", \"Topic20\", \"Topic20\", \"Topic20\", \"Topic20\", \"Topic20\", \"Topic20\", \"Topic20\", \"Topic20\", \"Topic20\", \"Topic20\", \"Topic20\", \"Topic20\", \"Topic20\", \"Topic20\", \"Topic20\", \"Topic20\", \"Topic20\", \"Topic20\", \"Topic20\", \"Topic20\", \"Topic20\", \"Topic20\", \"Topic20\", \"Topic20\", \"Topic20\", \"Topic20\", \"Topic20\", \"Topic20\", \"Topic20\", \"Topic20\", \"Topic20\", \"Topic20\", \"Topic20\", \"Topic20\", \"Topic20\", \"Topic20\", \"Topic20\", \"Topic20\", \"Topic20\", \"Topic20\", \"Topic20\", \"Topic20\", \"Topic20\", \"Topic20\", \"Topic20\", \"Topic20\", \"Topic20\", \"Topic20\", \"Topic20\", \"Topic20\", \"Topic20\", \"Topic20\", \"Topic20\", \"Topic20\", \"Topic20\", \"Topic20\", \"Topic20\", \"Topic20\", \"Topic21\", \"Topic21\", \"Topic21\", \"Topic21\", \"Topic21\", \"Topic21\", \"Topic21\", \"Topic21\", \"Topic21\", \"Topic21\", \"Topic21\", \"Topic21\", \"Topic21\", \"Topic21\", \"Topic21\", \"Topic21\", \"Topic21\", \"Topic21\", \"Topic21\", \"Topic21\", \"Topic21\", \"Topic21\", \"Topic21\", \"Topic21\", \"Topic21\", \"Topic21\", \"Topic21\", \"Topic21\", \"Topic21\", \"Topic21\", \"Topic21\", \"Topic21\", \"Topic21\", \"Topic21\", \"Topic21\", \"Topic21\", \"Topic21\", \"Topic21\", \"Topic21\", \"Topic21\", \"Topic21\", \"Topic21\", \"Topic21\", \"Topic21\", \"Topic22\", \"Topic22\", \"Topic22\", \"Topic22\", \"Topic22\", \"Topic22\", \"Topic22\", \"Topic22\", \"Topic22\", \"Topic22\", \"Topic22\", \"Topic22\", \"Topic22\", \"Topic22\", \"Topic22\", \"Topic22\", \"Topic22\", \"Topic22\", \"Topic22\", \"Topic22\", \"Topic22\", \"Topic22\", \"Topic22\", \"Topic22\", \"Topic22\", \"Topic22\", \"Topic22\", \"Topic22\", \"Topic22\", \"Topic22\", \"Topic22\", \"Topic22\", \"Topic22\", \"Topic22\", \"Topic22\", \"Topic22\", \"Topic22\", \"Topic22\", \"Topic22\", \"Topic22\", \"Topic22\", \"Topic22\", \"Topic22\", \"Topic22\", \"Topic22\", \"Topic22\", \"Topic22\", \"Topic22\", \"Topic23\", \"Topic23\", \"Topic23\", \"Topic23\", \"Topic23\", \"Topic23\", \"Topic23\", \"Topic23\", \"Topic23\", \"Topic23\", \"Topic23\", \"Topic23\", \"Topic23\", \"Topic23\", \"Topic23\", \"Topic23\", \"Topic23\", \"Topic23\", \"Topic23\", \"Topic23\", \"Topic23\", \"Topic23\", \"Topic23\", \"Topic23\", \"Topic23\", \"Topic23\", \"Topic23\", \"Topic23\", \"Topic23\", \"Topic23\", \"Topic23\", \"Topic23\", \"Topic23\", \"Topic23\", \"Topic23\", \"Topic23\", \"Topic23\", \"Topic23\", \"Topic23\", \"Topic23\", \"Topic23\", \"Topic23\", \"Topic23\", \"Topic23\", \"Topic23\", \"Topic23\", \"Topic23\", \"Topic23\", \"Topic23\", \"Topic23\", \"Topic23\", \"Topic23\", \"Topic23\", \"Topic23\", \"Topic23\", \"Topic23\", \"Topic23\", \"Topic24\", \"Topic24\", \"Topic24\", \"Topic24\", \"Topic24\", \"Topic24\", \"Topic24\", \"Topic24\", \"Topic24\", \"Topic24\", \"Topic24\", \"Topic24\", \"Topic24\", \"Topic24\", \"Topic24\", \"Topic24\", \"Topic24\", \"Topic24\", \"Topic24\", \"Topic24\", \"Topic24\", \"Topic24\", \"Topic24\", \"Topic24\", \"Topic24\", \"Topic24\", \"Topic24\", \"Topic24\", \"Topic24\", \"Topic24\", \"Topic24\", \"Topic24\", \"Topic24\", \"Topic24\", \"Topic25\", \"Topic25\", \"Topic25\", \"Topic25\", \"Topic25\", \"Topic25\", \"Topic25\", \"Topic25\", \"Topic25\", \"Topic25\", \"Topic25\", \"Topic25\", \"Topic25\", \"Topic25\", \"Topic25\", \"Topic25\", \"Topic25\", \"Topic25\", \"Topic25\", \"Topic25\", \"Topic25\", \"Topic25\", \"Topic25\", \"Topic25\", \"Topic25\", \"Topic25\", \"Topic25\", \"Topic25\", \"Topic25\", \"Topic25\", \"Topic25\", \"Topic25\", \"Topic25\", \"Topic25\", \"Topic25\", \"Topic26\", \"Topic26\", \"Topic26\", \"Topic26\", \"Topic26\", \"Topic26\", \"Topic26\", \"Topic26\", \"Topic26\", \"Topic26\", \"Topic26\", \"Topic26\", \"Topic26\", \"Topic26\", \"Topic26\", \"Topic26\", \"Topic26\", \"Topic26\", \"Topic26\", \"Topic26\", \"Topic26\", \"Topic26\", \"Topic26\", \"Topic26\", \"Topic26\", \"Topic26\", \"Topic26\", \"Topic26\", \"Topic26\", \"Topic26\", \"Topic26\", \"Topic26\", \"Topic26\", \"Topic26\", \"Topic26\", \"Topic26\", \"Topic26\", \"Topic26\", \"Topic26\", \"Topic26\", \"Topic26\", \"Topic26\", \"Topic26\", \"Topic26\", \"Topic27\", \"Topic27\", \"Topic27\", \"Topic27\", \"Topic27\", \"Topic27\", \"Topic27\", \"Topic27\", \"Topic27\", \"Topic27\", \"Topic27\", \"Topic27\", \"Topic27\", \"Topic27\", \"Topic27\", \"Topic27\", \"Topic27\", \"Topic27\", \"Topic27\", \"Topic27\", \"Topic27\", \"Topic27\", \"Topic27\", \"Topic27\", \"Topic27\", \"Topic27\", \"Topic27\", \"Topic27\", \"Topic27\", \"Topic27\", \"Topic27\", \"Topic27\", \"Topic27\", \"Topic28\", \"Topic28\", \"Topic28\", \"Topic28\", \"Topic28\", \"Topic28\", \"Topic28\", \"Topic28\", \"Topic28\", \"Topic28\", \"Topic28\", \"Topic28\", \"Topic28\", \"Topic28\", \"Topic28\", \"Topic28\", \"Topic28\", \"Topic28\", \"Topic28\", \"Topic28\", \"Topic28\", \"Topic28\", \"Topic28\", \"Topic28\", \"Topic28\", \"Topic28\", \"Topic28\", \"Topic28\", \"Topic28\", \"Topic28\", \"Topic28\", \"Topic28\", \"Topic28\", \"Topic28\", \"Topic28\", \"Topic28\", \"Topic28\", \"Topic28\", \"Topic28\", \"Topic28\", \"Topic28\", \"Topic28\", \"Topic28\", \"Topic28\", \"Topic28\", \"Topic28\", \"Topic28\", \"Topic28\", \"Topic28\", \"Topic28\", \"Topic28\", \"Topic28\", \"Topic28\", \"Topic28\", \"Topic28\", \"Topic28\", \"Topic28\", \"Topic28\", \"Topic28\", \"Topic28\", \"Topic28\", \"Topic28\", \"Topic28\", \"Topic28\", \"Topic28\", \"Topic28\", \"Topic28\", \"Topic28\", \"Topic28\", \"Topic28\", \"Topic28\", \"Topic28\", \"Topic28\", \"Topic28\", \"Topic28\", \"Topic28\", \"Topic29\", \"Topic29\", \"Topic29\", \"Topic29\", \"Topic29\", \"Topic29\", \"Topic29\", \"Topic29\", \"Topic29\", \"Topic29\", \"Topic29\", \"Topic29\", \"Topic29\", \"Topic29\", \"Topic29\", \"Topic29\", \"Topic29\", \"Topic29\", \"Topic29\", \"Topic29\", \"Topic29\", \"Topic29\", \"Topic29\", \"Topic29\", \"Topic29\", \"Topic29\", \"Topic29\", \"Topic29\", \"Topic29\", \"Topic29\", \"Topic29\", \"Topic29\", \"Topic29\", \"Topic29\", \"Topic29\", \"Topic29\", \"Topic29\", \"Topic30\", \"Topic30\", \"Topic30\", \"Topic30\", \"Topic30\", \"Topic30\", \"Topic30\", \"Topic30\", \"Topic30\", \"Topic30\", \"Topic30\", \"Topic30\", \"Topic30\", \"Topic30\", \"Topic30\", \"Topic30\", \"Topic30\", \"Topic30\", \"Topic30\", \"Topic30\", \"Topic30\", \"Topic30\", \"Topic30\", \"Topic30\", \"Topic30\", \"Topic30\", \"Topic30\", \"Topic30\", \"Topic30\", \"Topic30\", \"Topic30\", \"Topic30\", \"Topic30\", \"Topic30\", \"Topic30\", \"Topic31\", \"Topic31\", \"Topic31\", \"Topic31\", \"Topic31\", \"Topic31\", \"Topic31\", \"Topic31\", \"Topic31\", \"Topic31\", \"Topic31\", \"Topic31\", \"Topic31\", \"Topic31\", \"Topic31\", \"Topic31\", \"Topic31\", \"Topic31\", \"Topic31\", \"Topic31\", \"Topic31\", \"Topic31\", \"Topic31\", \"Topic31\", \"Topic31\", \"Topic31\", \"Topic31\", \"Topic31\", \"Topic31\", \"Topic31\", \"Topic31\", \"Topic31\", \"Topic31\", \"Topic31\", \"Topic31\", \"Topic31\", \"Topic31\", \"Topic31\", \"Topic31\", \"Topic31\", \"Topic31\", \"Topic31\", \"Topic31\", \"Topic31\", \"Topic31\", \"Topic31\", \"Topic31\", \"Topic31\", \"Topic31\", \"Topic31\", \"Topic31\", \"Topic31\", \"Topic31\", \"Topic31\", \"Topic31\", \"Topic31\", \"Topic31\", \"Topic31\", \"Topic31\", \"Topic31\", \"Topic31\", \"Topic31\", \"Topic31\", \"Topic31\", \"Topic31\", \"Topic31\", \"Topic31\", \"Topic32\", \"Topic32\", \"Topic32\", \"Topic32\", \"Topic32\", \"Topic32\", \"Topic32\", \"Topic32\", \"Topic32\", \"Topic32\", \"Topic32\", \"Topic32\", \"Topic32\", \"Topic32\", \"Topic32\", \"Topic32\", \"Topic32\", \"Topic32\", \"Topic32\", \"Topic32\", \"Topic32\", \"Topic32\", \"Topic32\", \"Topic32\", \"Topic32\", \"Topic32\", \"Topic32\", \"Topic32\", \"Topic32\", \"Topic32\", \"Topic32\", \"Topic32\", \"Topic32\", \"Topic32\", \"Topic32\", \"Topic32\", \"Topic32\", \"Topic32\", \"Topic32\", \"Topic32\", \"Topic32\", \"Topic32\", \"Topic32\", \"Topic32\", \"Topic32\", \"Topic32\", \"Topic33\", \"Topic33\", \"Topic33\", \"Topic33\", \"Topic33\", \"Topic33\", \"Topic33\", \"Topic33\", \"Topic33\", \"Topic33\", \"Topic33\", \"Topic33\", \"Topic33\", \"Topic33\", \"Topic33\", \"Topic33\", \"Topic33\", \"Topic33\", \"Topic33\", \"Topic33\", \"Topic33\", \"Topic33\", \"Topic33\", \"Topic33\", \"Topic33\", \"Topic33\", \"Topic33\", \"Topic33\", \"Topic33\", \"Topic33\", \"Topic33\", \"Topic33\", \"Topic33\", \"Topic34\", \"Topic34\", \"Topic34\", \"Topic34\", \"Topic34\", \"Topic34\", \"Topic34\", \"Topic34\", \"Topic34\", \"Topic34\", \"Topic34\", \"Topic34\", \"Topic34\", \"Topic34\", \"Topic34\", \"Topic34\", \"Topic34\", \"Topic34\", \"Topic34\", \"Topic34\", \"Topic34\", \"Topic34\", \"Topic34\", \"Topic34\", \"Topic34\", \"Topic34\", \"Topic34\", \"Topic34\", \"Topic34\", \"Topic34\", \"Topic34\", \"Topic34\", \"Topic34\", \"Topic34\", \"Topic34\", \"Topic34\", \"Topic34\", \"Topic34\", \"Topic34\", \"Topic35\", \"Topic35\", \"Topic35\", \"Topic35\", \"Topic35\", \"Topic35\", \"Topic35\", \"Topic35\", \"Topic35\", \"Topic35\", \"Topic35\", \"Topic35\", \"Topic35\", \"Topic35\", \"Topic35\", \"Topic35\", \"Topic35\", \"Topic35\", \"Topic35\", \"Topic35\", \"Topic35\", \"Topic35\", \"Topic35\", \"Topic35\", \"Topic35\", \"Topic35\", \"Topic35\", \"Topic35\", \"Topic35\", \"Topic35\", \"Topic35\", \"Topic35\", \"Topic35\", \"Topic35\", \"Topic35\", \"Topic35\", \"Topic35\", \"Topic35\", \"Topic35\", \"Topic35\", \"Topic35\", \"Topic35\", \"Topic35\", \"Topic35\", \"Topic35\", \"Topic35\", \"Topic35\", \"Topic35\", \"Topic35\", \"Topic35\", \"Topic35\", \"Topic35\", \"Topic35\", \"Topic35\", \"Topic35\", \"Topic35\", \"Topic35\", \"Topic35\", \"Topic35\", \"Topic35\", \"Topic35\", \"Topic35\", \"Topic35\", \"Topic35\", \"Topic35\", \"Topic35\", \"Topic35\", \"Topic35\", \"Topic35\", \"Topic35\", \"Topic36\", \"Topic36\", \"Topic36\", \"Topic36\", \"Topic36\", \"Topic36\", \"Topic36\", \"Topic36\", \"Topic36\", \"Topic36\", \"Topic36\", \"Topic36\", \"Topic36\", \"Topic36\", \"Topic36\", \"Topic36\", \"Topic36\", \"Topic36\", \"Topic36\", \"Topic36\", \"Topic36\", \"Topic36\", \"Topic36\", \"Topic36\", \"Topic36\", \"Topic36\", \"Topic36\", \"Topic36\", \"Topic36\", \"Topic36\", \"Topic36\", \"Topic36\", \"Topic36\", \"Topic36\", \"Topic36\", \"Topic36\", \"Topic36\", \"Topic36\", \"Topic36\", \"Topic36\", \"Topic36\", \"Topic36\", \"Topic36\", \"Topic36\", \"Topic36\", \"Topic36\", \"Topic36\", \"Topic36\", \"Topic36\", \"Topic36\", \"Topic36\", \"Topic36\", \"Topic36\", \"Topic36\", \"Topic36\", \"Topic36\", \"Topic36\", \"Topic36\", \"Topic36\", \"Topic36\", \"Topic36\", \"Topic36\", \"Topic36\", \"Topic36\", \"Topic36\", \"Topic36\", \"Topic37\", \"Topic37\", \"Topic37\", \"Topic37\", \"Topic37\", \"Topic37\", \"Topic37\", \"Topic37\", \"Topic37\", \"Topic37\", \"Topic37\", \"Topic37\", \"Topic37\", \"Topic37\", \"Topic37\", \"Topic37\", \"Topic37\", \"Topic37\", \"Topic37\", \"Topic37\", \"Topic37\", \"Topic37\", \"Topic37\", \"Topic37\", \"Topic37\", \"Topic37\", \"Topic37\", \"Topic37\", \"Topic37\", \"Topic37\", \"Topic37\", \"Topic37\", \"Topic37\", \"Topic37\", \"Topic37\", \"Topic37\", \"Topic37\", \"Topic37\", \"Topic37\", \"Topic37\", \"Topic37\", \"Topic37\", \"Topic37\", \"Topic37\", \"Topic37\", \"Topic37\", \"Topic37\", \"Topic37\", \"Topic37\", \"Topic37\", \"Topic37\", \"Topic37\", \"Topic37\", \"Topic38\", \"Topic38\", \"Topic38\", \"Topic38\", \"Topic38\", \"Topic38\", \"Topic38\", \"Topic38\", \"Topic38\", \"Topic38\", \"Topic38\", \"Topic38\", \"Topic38\", \"Topic38\", \"Topic38\", \"Topic38\", \"Topic38\", \"Topic38\", \"Topic38\", \"Topic38\", \"Topic38\", \"Topic38\", \"Topic38\", \"Topic38\", \"Topic38\", \"Topic38\", \"Topic38\", \"Topic38\", \"Topic38\", \"Topic38\", \"Topic38\", \"Topic38\", \"Topic38\", \"Topic38\", \"Topic38\", \"Topic38\", \"Topic38\", \"Topic38\", \"Topic38\", \"Topic38\", \"Topic38\", \"Topic38\", \"Topic38\", \"Topic38\", \"Topic38\", \"Topic38\", \"Topic38\", \"Topic38\", \"Topic38\", \"Topic38\", \"Topic38\", \"Topic38\", \"Topic38\", \"Topic38\", \"Topic38\", \"Topic38\", \"Topic38\", \"Topic38\", \"Topic38\", \"Topic38\", \"Topic38\", \"Topic39\", \"Topic39\", \"Topic39\", \"Topic39\", \"Topic39\", \"Topic39\", \"Topic39\", \"Topic39\", \"Topic39\", \"Topic39\", \"Topic39\", \"Topic39\", \"Topic39\", \"Topic39\", \"Topic39\", \"Topic39\", \"Topic39\", \"Topic39\", \"Topic39\", \"Topic39\", \"Topic39\", \"Topic39\", \"Topic39\", \"Topic39\", \"Topic39\", \"Topic39\", \"Topic39\", \"Topic39\", \"Topic39\", \"Topic39\", \"Topic39\", \"Topic39\", \"Topic39\", \"Topic39\", \"Topic39\", \"Topic39\", \"Topic39\", \"Topic40\", \"Topic40\", \"Topic40\", \"Topic40\", \"Topic40\", \"Topic40\", \"Topic40\", \"Topic40\", \"Topic40\", \"Topic40\", \"Topic40\", \"Topic40\", \"Topic40\", \"Topic40\", \"Topic40\", \"Topic40\", \"Topic40\", \"Topic40\", \"Topic40\", \"Topic40\", \"Topic40\", \"Topic40\", \"Topic40\", \"Topic40\", \"Topic40\", \"Topic40\", \"Topic40\", \"Topic40\", \"Topic40\", \"Topic40\", \"Topic40\", \"Topic40\", \"Topic40\", \"Topic40\", \"Topic40\", \"Topic40\", \"Topic40\", \"Topic40\", \"Topic40\", \"Topic40\", \"Topic40\", \"Topic40\", \"Topic40\", \"Topic40\", \"Topic40\", \"Topic40\", \"Topic40\", \"Topic40\", \"Topic40\", \"Topic40\", \"Topic40\", \"Topic40\", \"Topic40\", \"Topic40\", \"Topic40\", \"Topic40\", \"Topic40\", \"Topic40\", \"Topic40\", \"Topic40\", \"Topic40\", \"Topic40\", \"Topic40\", \"Topic40\"], \"Freq\": [3478.0, 797.0, 1443.0, 1819.0, 3299.0, 794.0, 1503.0, 668.0, 1436.0, 867.0, 954.0, 1146.0, 690.0, 659.0, 635.0, 554.0, 2035.0, 1001.0, 1339.0, 515.0, 1194.0, 1856.0, 880.0, 521.0, 381.0, 1191.0, 332.0, 1125.0, 303.0, 1002.0, 19.86292839050293, 7.643625259399414, 5.151280403137207, 4.733675956726074, 4.514358043670654, 4.041251182556152, 3.700861692428589, 3.700861692428589, 3.652360439300537, 3.518388032913208, 3.399406909942627, 3.2868080139160156, 3.2868080139160156, 3.086275577545166, 3.086275577545166, 2.906505823135376, 2.7864739894866943, 2.601999044418335, 2.4973225593566895, 2.4684414863586426, 2.1928164958953857, 1.9664547443389893, 1.8645650148391724, 1.8286418914794922, 1.8195558786392212, 1.7215065956115723, 1.6838710308074951, 1.6500757932662964, 1.5481860637664795, 1.4497212171554565, 2.082718849182129, 2.3123180866241455, 2.500394105911255, 1.8019981384277344, 2.056333303451538, 11.890583992004395, 7.68130350112915, 4.378521919250488, 3.9797122478485107, 3.45939302444458, 2.8982629776000977, 2.7794125080108643, 2.5424931049346924, 2.0892715454101562, 2.0775623321533203, 1.80304753780365, 1.7519155740737915, 1.527951717376709, 1.5245306491851807, 1.2928344011306763, 1.2729603052139282, 1.1785067319869995, 1.0851082801818848, 1.052721619606018, 1.0194499492645264, 1.0194499492645264, 1.0194499492645264, 1.0194499492645264, 0.942197322845459, 0.8936647772789001, 0.864944338798523, 0.8538564443588257, 0.7992112636566162, 0.7505417466163635, 0.6734259724617004, 5.220544815063477, 2.595308303833008, 1.5242877006530762, 72.55158233642578, 53.798919677734375, 51.394405364990234, 43.121803283691406, 41.57139205932617, 42.41519546508789, 23.886131286621094, 21.804689407348633, 20.308551788330078, 19.16747283935547, 18.859373092651367, 18.983654022216797, 18.342147827148438, 17.44281005859375, 16.920543670654297, 17.040218353271484, 36.93928909301758, 16.44210433959961, 16.175697326660156, 15.989853858947754, 15.97967529296875, 15.517534255981445, 15.517141342163086, 14.729634284973145, 14.651962280273438, 14.632433891296387, 14.547077178955078, 14.451967239379883, 14.300475120544434, 13.9346284866333, 57.56220626831055, 24.783035278320312, 26.93695640563965, 43.74207305908203, 21.78351593017578, 40.101200103759766, 125.4459228515625, 22.492441177368164, 74.84030151367188, 43.41993713378906, 29.152423858642578, 156.94561767578125, 43.195343017578125, 181.99134826660156, 32.89628219604492, 25.073802947998047, 42.22834777832031, 58.839698791503906, 33.621036529541016, 37.36173629760742, 34.07954025268555, 31.7376766204834, 67.02440643310547, 42.541404724121094, 41.00223159790039, 33.4689826965332, 36.21013259887695, 34.613319396972656, 41.12190246582031, 33.635040283203125, 37.234195709228516, 34.91695785522461, 34.843231201171875, 100.9682388305664, 26.151521682739258, 23.69739532470703, 20.605077743530273, 13.15815258026123, 11.890605926513672, 11.008709907531738, 10.712607383728027, 9.98151969909668, 8.934134483337402, 7.9682817459106445, 7.038875102996826, 7.038876056671143, 7.038876533508301, 7.038876533508301, 5.470312595367432, 4.786243915557861, 4.615338325500488, 4.42758321762085, 4.100887775421143, 3.9969217777252197, 3.952486038208008, 3.8504292964935303, 3.8504295349121094, 3.741633892059326, 3.70919132232666, 3.5264718532562256, 3.5264711380004883, 3.5264711380004883, 3.5264718532562256, 3.5264718532562256, 3.5264711380004883, 3.5264718532562256, 3.5264718532562256, 3.5264711380004883, 3.5264711380004883, 3.5264718532562256, 3.5264711380004883, 3.5264711380004883, 3.5264718532562256, 3.5264711380004883, 16.14430809020996, 3.5264711380004883, 3.5264718532562256, 59.70752716064453, 80.35603332519531, 3.5264718532562256, 14.177058219909668, 58.293148040771484, 29.820938110351562, 15.223379135131836, 54.25613784790039, 19.2198486328125, 12.518454551696777, 18.66461753845215, 7.04257345199585, 8.07551097869873, 8.94048023223877, 8.23195743560791, 24.877761840820312, 9.006753921508789, 3.380349636077881, 2.255068302154541, 2.255068302154541, 2.255068302154541, 1.760663390159607, 1.1297874450683594, 1.1297874450683594, 1.1297874450683594, 1.1297874450683594, 1.1297874450683594, 1.1297874450683594, 1.1297874450683594, 1.1297874450683594, 1.1297874450683594, 1.1297874450683594, 1.1297874450683594, 1.1297874450683594, 1.1297874450683594, 1.1297874450683594, 1.1297874450683594, 1.1297874450683594, 1.1297874450683594, 1.1297874450683594, 1.1297874450683594, 1.1297874450683594, 1.1297874450683594, 1.1297874450683594, 1.0443532466888428, 1.6513407230377197, 14.246271133422852, 12.589734077453613, 6.512956142425537, 5.914775848388672, 5.357444763183594, 5.137073516845703, 4.517155170440674, 3.911423444747925, 3.846656084060669, 3.7187416553497314, 3.620112180709839, 3.498401165008545, 3.391944408416748, 2.7305285930633545, 2.7223317623138428, 2.5176451206207275, 2.481977701187134, 2.3687071800231934, 2.3468496799468994, 2.328770875930786, 2.3270187377929688, 2.0646564960479736, 1.989477515220642, 1.8207437992095947, 1.810642957687378, 1.7489731311798096, 1.661704421043396, 1.6535077095031738, 1.6198649406433105, 1.5721935033798218, 3.058506727218628, 3.27719783782959, 14.826578140258789, 2.954258918762207, 3.8186898231506348, 2.9420034885406494, 6.87669038772583, 4.649381160736084, 4.132648944854736, 2.593745470046997, 2.4954371452331543, 108.8250503540039, 61.080970764160156, 52.267208099365234, 50.95381164550781, 34.59063720703125, 31.828968048095703, 25.419675827026367, 23.2646541595459, 20.683183670043945, 20.141712188720703, 37.67713928222656, 17.935405731201172, 17.20233154296875, 17.05204963684082, 15.293042182922363, 15.282740592956543, 14.69249439239502, 14.585824966430664, 13.976686477661133, 13.526325225830078, 13.432133674621582, 13.113260269165039, 13.113260269165039, 12.910715103149414, 12.523881912231445, 12.4111967086792, 12.331310272216797, 11.594060897827148, 11.557719230651855, 11.525562286376953, 36.405460357666016, 45.37588119506836, 20.4103946685791, 15.978232383728027, 47.08308410644531, 74.76458740234375, 19.579038619995117, 30.491418838500977, 24.736906051635742, 35.89778518676758, 46.05915451049805, 129.67276000976562, 27.72281837463379, 25.283790588378906, 47.23781967163086, 40.970054626464844, 22.527910232543945, 45.031105041503906, 31.970335006713867, 29.392831802368164, 29.768720626831055, 36.713783264160156, 31.564714431762695, 30.762859344482422, 28.29637908935547, 26.65933609008789, 25.615108489990234, 14.204345703125, 14.204345703125, 5.776640892028809, 4.904971599578857, 4.741098403930664, 4.555968761444092, 3.4679551124572754, 3.356083869934082, 3.1545228958129883, 3.136643648147583, 2.8846068382263184, 2.867577314376831, 2.5498485565185547, 2.4519896507263184, 2.37528657913208, 1.648208498954773, 1.5713633298873901, 1.3660188913345337, 1.3204618692398071, 1.286043405532837, 1.2803314924240112, 1.162971019744873, 1.0969524383544922, 1.028210997581482, 0.9927150011062622, 0.8659639954566956, 0.8288417458534241, 0.8152420520782471, 0.8063971400260925, 0.7708320021629333, 2.8758347034454346, 4.741098403930664, 3.1423327922821045, 4.828634262084961, 1.5816398859024048, 1.7326399087905884, 3.849693775177002, 1.9239834547042847, 1.6618391275405884, 1.486213207244873, 1.4328579902648926, 20.251354217529297, 17.649015426635742, 14.841846466064453, 13.668983459472656, 13.430581092834473, 13.357646942138672, 12.661748886108398, 12.248883247375488, 11.51265811920166, 10.810186386108398, 9.969120979309082, 9.780814170837402, 9.686662673950195, 9.818753242492676, 8.683470726013184, 8.641146659851074, 8.463763236999512, 8.463763236999512, 8.463763236999512, 8.096195220947266, 7.945590496063232, 7.07729434967041, 7.042218208312988, 7.042218208312988, 6.923878192901611, 6.701963901519775, 6.363038539886475, 6.233180999755859, 6.217500686645508, 19.07369041442871, 43.310882568359375, 16.643123626708984, 109.97775268554688, 34.39010238647461, 154.65179443359375, 35.50323486328125, 122.49215698242188, 16.69767189025879, 45.39299774169922, 58.49580001831055, 22.690502166748047, 104.79669952392578, 13.704878807067871, 17.007186889648438, 13.764674186706543, 74.58199310302734, 14.81309986114502, 18.079158782958984, 31.709712982177734, 23.77906036376953, 16.66376304626465, 15.248448371887207, 14.413759231567383, 16.30143165588379, 13.966815948486328, 58.713401794433594, 35.94220733642578, 32.192344665527344, 31.685956954956055, 26.88094711303711, 25.901159286499023, 24.215410232543945, 19.888744354248047, 14.179727554321289, 13.250433921813965, 12.604362487792969, 12.131514549255371, 11.984306335449219, 10.91280746459961, 10.615152359008789, 9.778197288513184, 8.860869407653809, 8.851826667785645, 8.851821899414062, 8.717438697814941, 8.676362991333008, 8.475306510925293, 8.061605453491211, 7.97242546081543, 7.952893257141113, 7.6954216957092285, 7.345754146575928, 7.088502883911133, 7.083983421325684, 6.790849685668945, 20.698787689208984, 52.623374938964844, 12.865708351135254, 48.41917419433594, 18.141016006469727, 15.989015579223633, 20.553043365478516, 20.248123168945312, 23.153064727783203, 9.950825691223145, 12.747519493103027, 9.863472938537598, 9.640551567077637, 9.260361671447754, 7.880285739898682, 7.438202857971191, 7.399022102355957, 7.386328220367432, 6.849000453948975, 6.464950084686279, 6.052649021148682, 5.255801677703857, 4.935853958129883, 4.605909824371338, 4.604609489440918, 4.448513507843018, 4.443359375, 4.382510662078857, 4.382510662078857, 4.234749794006348, 4.123344898223877, 4.038139343261719, 3.878713846206665, 3.3309175968170166, 3.11749005317688, 3.065378189086914, 2.9473655223846436, 2.9170525074005127, 2.8483939170837402, 2.7298812866210938, 2.6873395442962646, 2.627056121826172, 2.607941150665283, 2.5583908557891846, 8.228761672973633, 4.434576511383057, 5.757479190826416, 11.150890350341797, 19.350988388061523, 14.114967346191406, 4.480559825897217, 4.882874488830566, 4.480406284332275, 4.597898960113525, 4.122376441955566, 24.818553924560547, 20.795923233032227, 18.114168167114258, 15.666375160217285, 7.5787482261657715, 7.560235023498535, 6.899186134338379, 6.778863430023193, 4.615789890289307, 4.045315742492676, 4.03495979309082, 4.03495979309082, 4.03495979309082, 3.616387128829956, 3.4433798789978027, 3.3645219802856445, 3.3645215034484863, 2.6940834522247314, 2.6940834522247314, 2.6940834522247314, 2.6940834522247314, 2.6940834522247314, 2.6940834522247314, 2.5678529739379883, 2.5678529739379883, 2.5678529739379883, 2.5678529739379883, 2.5678529739379883, 2.4017412662506104, 2.3075919151306152, 2.3075919151306152, 5.048160076141357, 3.9932632446289062, 8.05759048461914, 4.678303241729736, 4.693545818328857, 35.082576751708984, 28.50918197631836, 16.529823303222656, 12.900806427001953, 12.820823669433594, 12.485054969787598, 11.144567489624023, 10.798442840576172, 10.124314308166504, 9.114416122436523, 8.442877769470215, 7.606044292449951, 7.427803039550781, 5.405419826507568, 5.405419826507568, 5.405419826507568, 5.405419826507568, 5.40541934967041, 5.074828624725342, 4.733880996704102, 4.731291770935059, 4.731291770935059, 4.568585395812988, 4.062342643737793, 4.05975341796875, 4.057163715362549, 4.057163715362549, 4.057163715362549, 4.057163715362549, 4.056962013244629, 7.84643030166626, 7.396580696105957, 16.883140563964844, 14.16908073425293, 28.2452449798584, 18.40886688232422, 13.744064331054688, 9.4102201461792, 6.229541778564453, 5.352846622467041, 4.6101460456848145, 4.6101460456848145, 4.610146522521973, 4.359442710876465, 4.010294437408447, 3.9320974349975586, 3.4602532386779785, 3.0889885425567627, 2.925388813018799, 2.8853070735931396, 2.6724770069122314, 2.3780570030212402, 2.3103599548339844, 2.2348721027374268, 2.222421169281006, 2.2050492763519287, 1.773287057876587, 1.773287057876587, 1.773287057876587, 1.773287057876587, 1.773287057876587, 1.7393076419830322, 1.6657682657241821, 1.5922290086746216, 2.8924434185028076, 3.218751907348633, 1.9924087524414062, 2.4227120876312256, 7.97529935836792, 2.2628252506256104, 1.9125995635986328, 1.8308665752410889, 1.0118086338043213, 1.0105963945388794, 0.992435097694397, 0.9269055128097534, 0.8820667862892151, 0.8209076523780823, 0.7888708710670471, 0.7513095736503601, 0.7382575273513794, 3.114586353302002, 0.7094377279281616, 0.6463777422904968, 0.643108606338501, 0.6236457228660583, 1.9652626514434814, 0.4704795479774475, 0.4704795479774475, 0.4704795479774475, 0.4704795479774475, 0.35900968313217163, 0.35900968313217163, 0.35900968313217163, 0.35900968313217163, 0.35900968313217163, 0.35900968313217163, 0.35900968313217163, 0.35900968313217163, 0.35900968313217163, 0.35900968313217163, 0.35900968313217163, 1.2777726650238037, 0.35900968313217163, 0.35900968313217163, 3.3415963649749756, 0.8112790584564209, 0.9443356990814209, 667.516845703125, 629.9649658203125, 584.9562377929688, 315.88446044921875, 237.7894744873047, 195.71641540527344, 184.5867462158203, 176.88185119628906, 151.67041015625, 146.03375244140625, 143.9415283203125, 135.5311279296875, 131.5391845703125, 130.5658721923828, 129.96432495117188, 125.7783432006836, 125.72715759277344, 124.60171508789062, 124.54295349121094, 121.79303741455078, 112.06588745117188, 110.81079864501953, 106.92536926269531, 106.82759094238281, 103.82508850097656, 102.31233978271484, 101.65478515625, 88.52762603759766, 86.03642272949219, 84.31351470947266, 287.6095275878906, 231.87657165527344, 180.73870849609375, 796.5548706054688, 473.8639831542969, 380.914794921875, 238.68797302246094, 133.1758270263672, 197.96539306640625, 348.7033386230469, 338.8276672363281, 1320.6239013671875, 244.05859375, 224.6024169921875, 324.2655334472656, 380.23028564453125, 195.064208984375, 821.6397094726562, 160.58714294433594, 235.98239135742188, 644.5350341796875, 347.7642517089844, 504.2303771972656, 518.4861450195312, 486.61456298828125, 285.6737060546875, 327.766845703125, 379.8871154785156, 362.9654846191406, 277.8272399902344, 272.9903869628906, 384.0631408691406, 401.356201171875, 403.0309143066406, 340.8728942871094, 675.4705200195312, 304.266845703125, 348.3602600097656, 326.25994873046875, 307.18621826171875, 222.6826934814453, 214.8179931640625, 99.49042510986328, 85.14946746826172, 73.90129089355469, 65.60736846923828, 57.64654541015625, 54.4969482421875, 44.59739685058594, 44.337093353271484, 40.00572967529297, 50.67966842651367, 38.80280303955078, 37.67970275878906, 97.02725219726562, 32.951385498046875, 32.90079879760742, 30.672828674316406, 28.083894729614258, 27.213485717773438, 26.43402862548828, 26.17862319946289, 26.100017547607422, 25.906932830810547, 25.80177116394043, 25.608606338500977, 25.575302124023438, 24.91022491455078, 24.330554962158203, 24.015958786010742, 284.55609130859375, 76.53031921386719, 87.91294860839844, 55.89366149902344, 68.01020050048828, 113.67037963867188, 430.3941345214844, 69.35214233398438, 281.0885009765625, 47.63425827026367, 235.9344940185547, 82.67787170410156, 49.533050537109375, 128.15357971191406, 134.1800079345703, 104.69585418701172, 225.37530517578125, 91.6383285522461, 1342.417236328125, 124.08476257324219, 544.6478881835938, 494.27252197265625, 425.16412353515625, 330.6944885253906, 520.2724609375, 346.80029296875, 535.5849609375, 392.1626281738281, 230.51976013183594, 411.1920166015625, 308.9972229003906, 273.244140625, 191.57559204101562, 310.5605163574219, 169.36778259277344, 163.85487365722656, 200.69320678710938, 132.03836059570312, 216.2896728515625, 150.7091064453125, 688.1838989257812, 108.49010467529297, 106.21983337402344, 49.922576904296875, 46.60273742675781, 43.418601989746094, 43.74940490722656, 506.46240234375, 34.89505386352539, 33.95159149169922, 27.78708839416504, 25.616064071655273, 24.72125816345215, 34.774871826171875, 22.528850555419922, 21.333999633789062, 22.299467086791992, 20.270883560180664, 19.786340713500977, 17.980783462524414, 16.743549346923828, 16.7430477142334, 15.841625213623047, 15.841625213623047, 72.12638854980469, 14.01339054107666, 13.059029579162598, 12.864983558654785, 12.21562385559082, 11.953351974487305, 742.3980712890625, 27.358598709106445, 74.8357162475586, 498.7733154296875, 75.27685546875, 65.7370376586914, 225.71263122558594, 31.675437927246094, 36.783790588378906, 171.7576141357422, 54.36054229736328, 201.07632446289062, 69.42476654052734, 43.71038818359375, 29.758703231811523, 107.37884521484375, 38.023895263671875, 32.31874084472656, 43.21030044555664, 57.32573318481445, 46.94269943237305, 45.712371826171875, 39.75390625, 37.02349853515625, 36.55752944946289, 137.91171264648438, 119.48836517333984, 100.25341033935547, 92.99750518798828, 85.29851531982422, 84.58255767822266, 80.13876342773438, 77.47012329101562, 74.30758666992188, 94.45316314697266, 68.53230285644531, 65.10031127929688, 64.50822448730469, 61.8360595703125, 59.55610275268555, 58.27734375, 57.55349349975586, 53.82307434082031, 53.27476119995117, 52.296730041503906, 50.7910041809082, 48.41667175292969, 47.92079544067383, 46.25746536254883, 46.09917449951172, 45.55372619628906, 45.27350997924805, 45.1725959777832, 44.72491455078125, 43.71544647216797, 44.79058837890625, 115.76912689208984, 151.06845092773438, 60.1583251953125, 228.7942352294922, 120.94998931884766, 74.65597534179688, 205.60816955566406, 64.0865249633789, 165.29078674316406, 220.2904815673828, 88.0229263305664, 141.30337524414062, 127.19099426269531, 120.78120422363281, 90.06211853027344, 185.4767303466797, 110.5212173461914, 112.7667236328125, 126.8125991821289, 410.1109619140625, 342.64178466796875, 163.6324005126953, 164.3557586669922, 130.18687438964844, 167.93844604492188, 229.05484008789062, 262.5238342285156, 286.51629638671875, 410.8948669433594, 167.4120635986328, 294.0162658691406, 224.0919952392578, 177.08184814453125, 138.29464721679688, 211.51644897460938, 245.50137329101562, 166.73843383789062, 159.70553588867188, 224.3223876953125, 142.9974822998047, 159.1585235595703, 141.0173797607422, 107.28374481201172, 74.0677261352539, 70.89610290527344, 70.61608123779297, 67.72174072265625, 50.22460174560547, 47.98841857910156, 47.09880065917969, 45.97349166870117, 42.912879943847656, 42.53009033203125, 42.1500129699707, 41.432743072509766, 39.309669494628906, 36.755088806152344, 35.396724700927734, 35.117698669433594, 35.01285934448242, 34.71196365356445, 34.02880859375, 33.056434631347656, 32.86805725097656, 37.82559585571289, 31.938669204711914, 31.037654876708984, 30.942508697509766, 30.68402671813965, 30.442550659179688, 29.634546279907227, 31.11549949645996, 228.11920166015625, 41.47090530395508, 54.31923294067383, 1623.13525390625, 155.156982421875, 66.31938934326172, 63.928627014160156, 64.58061218261719, 183.26925659179688, 116.48429107666016, 93.22604370117188, 162.98223876953125, 223.69212341308594, 105.386474609375, 321.8045959472656, 285.5372009277344, 112.72498321533203, 443.46685791015625, 109.18311309814453, 256.46783447265625, 148.12977600097656, 142.5008544921875, 272.025634765625, 220.97775268554688, 109.98196411132812, 207.4776153564453, 164.65074157714844, 536.8695068359375, 160.64285278320312, 227.93026733398438, 168.93426513671875, 336.0573425292969, 222.01483154296875, 215.98757934570312, 158.4435272216797, 325.5202941894531, 176.0081329345703, 444.44891357421875, 178.70025634765625, 260.3744812011719, 200.34750366210938, 289.21539306640625, 215.4572296142578, 192.30303955078125, 192.1224365234375, 223.56015014648438, 171.44842529296875, 178.9065704345703, 1.0775593519210815, 0.9306928515434265, 0.7786181569099426, 0.40304532647132874, 0.40304532647132874, 0.35627907514572144, 0.3562789857387543, 0.33035165071487427, 0.5755416750907898, 0.25037628412246704, 10.59597110748291, 0.04831147566437721, 0.04831147566437721, 0.04831147566437721, 0.04831147566437721, 0.04831147566437721, 0.0034534798469394445, 0.0034534798469394445, 0.0034534798469394445, 0.0034534798469394445, 0.0034534798469394445, 0.0034534798469394445, 0.0034534798469394445, 0.0034534798469394445, 0.0034534798469394445, 0.0034534798469394445, 0.0034534798469394445, 0.0034534798469394445, 0.0034534798469394445, 0.0034534798469394445, 0.0034534798469394445, 0.0034592770971357822, 0.0034534798469394445, 0.0034534798469394445, 0.0034534798469394445, 0.0034534798469394445, 0.0034534798469394445, 0.0034534798469394445, 0.0034534798469394445, 0.0034534798469394445, 0.0034534798469394445, 0.0034534798469394445, 0.0034534798469394445, 0.0034534798469394445, 17.57322120666504, 16.712038040161133, 15.474648475646973, 13.413407325744629, 12.980545997619629, 11.586224555969238, 11.20341968536377, 10.714146614074707, 10.645343780517578, 10.095452308654785, 9.38194751739502, 9.08898639678955, 8.796699523925781, 39.68879318237305, 7.69963264465332, 7.119052410125732, 7.027952194213867, 6.822587966918945, 6.77357292175293, 6.77357292175293, 6.500359535217285, 6.469176292419434, 6.295200824737549, 6.23429012298584, 5.881667137145996, 5.581984043121338, 5.54236364364624, 5.02341365814209, 4.826186180114746, 4.758132457733154, 21.4875431060791, 295.8755187988281, 54.358524322509766, 106.44367218017578, 22.05489158630371, 28.786258697509766, 71.45559692382812, 12.585254669189453, 44.54476547241211, 10.807544708251953, 28.51266860961914, 21.056032180786133, 20.149534225463867, 26.558935165405273, 19.160934448242188, 14.394308090209961, 12.390664100646973, 10.818943977355957, 49.48033905029297, 38.70625686645508, 20.092775344848633, 17.05878257751465, 15.355523109436035, 14.070317268371582, 12.914775848388672, 11.740044593811035, 11.694748878479004, 10.955621719360352, 10.843230247497559, 10.04138469696045, 10.0276517868042, 9.72316837310791, 9.671420097351074, 9.525311470031738, 9.434952735900879, 9.346162796020508, 9.19686222076416, 8.666932106018066, 8.597517013549805, 8.529642105102539, 8.296588897705078, 8.01158618927002, 7.80645751953125, 7.786481857299805, 7.675562381744385, 7.5104546546936035, 7.2679314613342285, 7.181031227111816, 24.250064849853516, 45.04650115966797, 58.11130905151367, 15.749531745910645, 13.169190406799316, 23.829566955566406, 32.29281234741211, 63.96799087524414, 12.235162734985352, 61.87834548950195, 30.988340377807617, 21.421794891357422, 26.213314056396484, 26.66734504699707, 13.991443634033203, 11.060872077941895, 11.023272514343262, 34.154701232910156, 26.05803871154785, 23.241058349609375, 13.811544418334961, 19.984954833984375, 16.992015838623047, 19.169200897216797, 19.45062828063965, 13.71277904510498, 12.94363021850586, 6.690114498138428, 6.503225326538086, 6.503225326538086, 6.503225326538086, 6.503225326538086, 6.503225326538086, 6.389235496520996, 4.803950309753418, 4.400777816772461, 4.076615333557129, 4.076615333557129, 3.9393765926361084, 3.358247756958008, 3.2569541931152344, 3.2569541931152344, 3.2569541931152344, 3.2569541931152344, 3.2569541931152344, 3.2569541931152344, 3.2569541931152344, 3.2569541931152344, 3.2569541931152344, 3.2569541931152344, 3.2569541931152344, 3.2569541931152344, 2.922292709350586, 5.76021146774292, 2.515612840652466, 2.4796011447906494, 2.144939661026001, 4.815861225128174, 5.671869277954102, 6.199745178222656, 4.3573174476623535, 54.755977630615234, 26.645856857299805, 20.14744758605957, 18.88895606994629, 15.113478660583496, 13.854986190795898, 13.854986190795898, 11.967247009277344, 10.079508781433105, 9.450263023376465, 9.309164047241211, 8.821015357971191, 8.191770553588867, 8.191770553588867, 6.9332780838012695, 6.933279514312744, 6.304032325744629, 6.304032325744629, 5.674786567687988, 5.6747870445251465, 5.6747870445251465, 5.6747870445251465, 5.045540809631348, 5.045540809631348, 4.416295051574707, 4.416295051574707, 4.416295051574707, 4.416295051574707, 3.78704833984375, 3.78704833984375, 3.787047863006592, 3.787047863006592, 3.78704833984375, 4.39096736907959, 5.0709710121154785, 22.122068405151367, 12.485563278198242, 12.132210731506348, 12.132210731506348, 11.017769813537598, 10.342412948608398, 9.90899658203125, 8.372883796691895, 7.941971778869629, 7.712802886962891, 6.731961250305176, 6.558868885040283, 6.553563117980957, 6.167201042175293, 5.387904167175293, 5.33334493637085, 7.011981964111328, 4.573515892028809, 4.427350997924805, 4.427350997924805, 4.4137654304504395, 4.37801456451416, 4.264950752258301, 4.0548529624938965, 4.0548529624938965, 4.0548529624938965, 4.0548529624938965, 4.0548529624938965, 3.9790730476379395, 3.9667575359344482, 40.90705490112305, 135.6172637939453, 9.012495994567871, 8.093530654907227, 20.57720375061035, 31.745933532714844, 20.3726806640625, 7.545059680938721, 8.546091079711914, 12.566193580627441, 9.19455623626709, 7.038636207580566, 8.03768253326416, 6.702040195465088, 9.233059883117676, 7.706100940704346, 6.737455368041992, 5.708748817443848, 5.657442569732666, 5.064986705780029, 5.002640724182129, 4.621835708618164, 4.619513988494873, 4.544148921966553, 4.437450408935547, 3.624037504196167, 3.5696539878845215, 3.4123353958129883, 3.2527735233306885, 3.026942253112793, 2.9922749996185303, 2.933713436126709, 2.9098384380340576, 2.599579334259033, 2.540525436401367, 2.4536097049713135, 2.4031219482421875, 2.3530733585357666, 2.286222219467163, 2.273670196533203, 2.2583606243133545, 1.99319326877594, 1.8802776336669922, 1.8726227283477783, 3.064079999923706, 2.5388245582580566, 3.418469190597534, 429.8507995605469, 237.70953369140625, 233.51759338378906, 232.51922607421875, 226.00169372558594, 178.66700744628906, 143.7947540283203, 135.5230712890625, 130.44544982910156, 125.99554443359375, 106.73074340820312, 98.93399810791016, 97.47111511230469, 86.72138977050781, 86.6510009765625, 82.53271484375, 75.71175384521484, 71.86865234375, 70.71754455566406, 69.93421936035156, 67.26801300048828, 61.82470703125, 61.797550201416016, 61.3237419128418, 60.76270294189453, 60.43070602416992, 147.2662811279297, 59.52864074707031, 72.00184631347656, 53.527469635009766, 205.20260620117188, 108.90365600585938, 1423.1534423828125, 118.17957305908203, 79.87629699707031, 156.72274780273438, 745.8273315429688, 287.4308776855469, 295.07012939453125, 1036.3336181640625, 125.93896484375, 311.3738098144531, 189.844482421875, 153.18467712402344, 1457.6077880859375, 193.5330352783203, 257.8062744140625, 499.53729248046875, 424.6031188964844, 350.5567932128906, 618.0581665039062, 251.48532104492188, 249.73658752441406, 297.1607360839844, 307.0365295410156, 355.1766052246094, 490.6256408691406, 509.983154296875, 1286.8597412109375, 284.5348205566406, 335.9451599121094, 1234.7474365234375, 619.3826293945312, 519.1751708984375, 595.5040893554688, 353.5015869140625, 569.8287963867188, 405.8601989746094, 410.9654846191406, 318.175048828125, 317.8115539550781, 402.67913818359375, 357.61724853515625, 392.58795166015625, 355.27056884765625, 324.3693542480469, 37.79397964477539, 33.12471008300781, 22.78077507019043, 20.30139923095703, 18.852985382080078, 14.229912757873535, 14.128938674926758, 12.07991886138916, 11.610920906066895, 11.430585861206055, 10.886713981628418, 10.162508010864258, 9.541413307189941, 9.501144409179688, 9.097332954406738, 9.00955581665039, 8.817206382751465, 8.714093208312988, 8.714093208312988, 8.652955055236816, 7.825617790222168, 7.745906352996826, 7.368793964385986, 7.343524932861328, 7.265682220458984, 7.265682220458984, 7.265682220458984, 7.265682220458984, 7.084613800048828, 6.920360565185547, 14.215937614440918, 10.40359878540039, 12.314476013183594, 26.46475601196289, 14.891875267028809, 24.36417579650879, 9.309335708618164, 38.477481842041016, 23.026464462280273, 12.085357666015625, 7.038284778594971, 5.004323482513428, 4.2647600173950195, 4.225163459777832, 3.1401422023773193, 2.822197437286377, 2.7031450271606445, 2.353742837905884, 2.3513472080230713, 2.351346969604492, 2.2283518314361572, 2.147090196609497, 2.147090196609497, 2.0406417846679688, 2.003774642944336, 1.8765537738800049, 1.8687424659729004, 1.7995176315307617, 1.7275402545928955, 1.7275402545928955, 1.6519765853881836, 1.5721874237060547, 1.5232834815979004, 1.4555312395095825, 1.4555312395095825, 1.4263063669204712, 1.4168347120285034, 1.4168345928192139, 2.8804197311401367, 3.623521089553833, 2.5822360515594482, 1.5392136573791504, 157.1975860595703, 102.44976806640625, 73.46412658691406, 49.77269744873047, 49.1542854309082, 42.65205764770508, 40.38128662109375, 39.68357849121094, 38.18769073486328, 38.177490234375, 37.00397872924805, 34.045658111572266, 32.75071334838867, 32.51897430419922, 29.697412490844727, 29.40802574157715, 28.749977111816406, 28.38434410095215, 25.864463806152344, 25.630163192749023, 24.20389747619629, 23.74201202392578, 23.10019874572754, 21.923683166503906, 21.57992172241211, 21.369606018066406, 21.041515350341797, 20.687803268432617, 20.503524780273438, 20.27216148376465, 270.398681640625, 434.06451416015625, 55.389644622802734, 210.3251953125, 284.4871520996094, 45.884239196777344, 248.24586486816406, 48.21327209472656, 201.45384216308594, 56.804649353027344, 324.96221923828125, 112.24369812011719, 205.83656311035156, 549.1016845703125, 437.3976135253906, 133.57041931152344, 109.72042846679688, 127.81622314453125, 185.70449829101562, 319.0872497558594, 82.67573547363281, 57.71902847290039, 55.79173278808594, 68.51689910888672, 97.01138305664062, 208.50588989257812, 124.39588165283203, 67.26427459716797, 82.38420104980469, 98.06066131591797, 90.53519439697266, 100.17924499511719, 130.5641632080078, 85.99317169189453, 98.56568908691406, 89.1436767578125, 89.0771713256836, 6.47756814956665, 2.5734620094299316, 2.2181968688964844, 2.162071466445923, 1.374272108078003, 1.179075002670288, 0.9441242218017578, 0.7091733813285828, 0.7091733813285828, 0.7091733813285828, 0.7091733813285828, 0.6929000020027161, 0.6628483533859253, 0.4742225110530853, 0.4742225110530853, 0.4742225706577301, 0.29539617896080017, 0.2930086553096771, 4.016050338745117, 0.24907119572162628, 0.23927167057991028, 0.23927167057991028, 0.23927167057991028, 0.23927167057991028, 0.23927167057991028, 0.23927167057991028, 0.23927167057991028, 0.23927167057991028, 0.23927167057991028, 0.23927167057991028, 0.23927167057991028, 0.5336369872093201, 0.23927167057991028, 0.23927167057991028, 0.23927167057991028, 0.23927167057991028, 0.23927167057991028, 0.23927167057991028, 0.23927167057991028, 0.23927167057991028, 0.23927167057991028, 0.23927167057991028, 0.23927167057991028, 0.23927167057991028, 0.23927167057991028, 0.23927167057991028, 3.601029396057129, 2.881399631500244, 2.1617703437805176, 1.442140817642212, 1.442140817642212, 1.442140817642212, 1.4133297204971313, 1.099896788597107, 0.9431804418563843, 0.9431804418563843, 0.8992730379104614, 0.8792279362678528, 0.84019935131073, 0.7973895072937012, 0.7864640355110168, 0.7864640355110168, 0.7864640355110168, 0.7225115299224854, 0.7225115299224854, 0.7225115299224854, 0.7225115299224854, 0.7225115299224854, 0.7225115299224854, 0.7225115299224854, 0.7225115299224854, 0.7225115299224854, 0.7225115299224854, 0.47303128242492676, 0.3163148760795593, 0.3163148760795593, 0.3163148760795593, 0.579262375831604, 0.3163148760795593, 101.64146423339844, 33.608001708984375, 27.93928337097168, 16.80866813659668, 12.641213417053223, 9.82617473602295, 6.9918107986450195, 6.9918107986450195, 6.572518825531006, 6.275456428527832, 5.121898651123047, 4.957878112792969, 4.785393714904785, 4.152703285217285, 3.653898239135742, 3.206923723220825, 3.0978376865386963, 2.989128351211548, 2.969797372817993, 2.9596142768859863, 2.9014158248901367, 2.8786749839782715, 2.8436856269836426, 2.7661592960357666, 2.61911678314209, 2.336818218231201, 2.336818218231201, 2.336818218231201, 2.336818218231201, 2.336818218231201, 2.336818218231201, 2.336818218231201, 2.336818218231201, 4.4492974281311035, 6.355745315551758, 9.938424110412598, 2.6837403774261475, 2.4533638954162598, 2.6079444885253906, 91.56612396240234, 59.42646026611328, 40.36280059814453, 38.07432556152344, 35.661277770996094, 38.54518508911133, 32.273590087890625, 30.559982299804688, 30.166854858398438, 29.773326873779297, 27.86305046081543, 26.345348358154297, 26.338510513305664, 26.06012725830078, 26.03313446044922, 26.03313446044922, 25.89862060546875, 25.189165115356445, 25.189165115356445, 25.189165115356445, 25.189165115356445, 25.022533416748047, 24.864776611328125, 24.078222274780273, 23.957244873046875, 23.93733024597168, 23.45921516418457, 23.13095474243164, 22.09283447265625, 21.61252784729004, 41.07794189453125, 43.80429458618164, 37.0164794921875, 781.7037353515625, 892.7567749023438, 44.508338928222656, 26.40030860900879, 214.05230712890625, 193.86643981933594, 152.63052368164062, 31.1649112701416, 70.48328399658203, 64.11482238769531, 129.31126403808594, 93.11930084228516, 76.1629638671875, 534.2418823242188, 99.67521667480469, 129.74314880371094, 45.126773834228516, 70.01222229003906, 56.737548828125, 52.40584945678711, 180.35169982910156, 49.28833770751953, 165.7115020751953, 101.87963104248047, 65.81842041015625, 97.67523193359375, 65.62703704833984, 80.93265533447266, 82.6403579711914, 85.64759826660156, 74.73304748535156, 65.02230834960938, 59.645843505859375, 74.34475708007812, 70.34735870361328, 60.14919662475586, 62.530311584472656, 106.436767578125, 105.57495880126953, 74.52409362792969, 51.388031005859375, 51.080230712890625, 50.276580810546875, 49.30645751953125, 41.04269027709961, 40.717994689941406, 38.85804748535156, 38.536773681640625, 38.02009201049805, 37.94013214111328, 37.53211975097656, 36.90871810913086, 34.99042892456055, 34.65428924560547, 33.65564727783203, 32.823829650878906, 32.54001998901367, 31.509719848632812, 30.195602416992188, 29.530672073364258, 28.757875442504883, 47.44615173339844, 28.027015686035156, 25.603403091430664, 24.865373611450195, 23.636022567749023, 23.18602180480957, 102.11577606201172, 62.009796142578125, 67.07811737060547, 207.30508422851562, 153.67811584472656, 89.11444854736328, 100.92186737060547, 138.46011352539062, 144.48570251464844, 278.96014404296875, 53.76558303833008, 77.78516387939453, 159.0164337158203, 85.81409454345703, 88.80653381347656, 300.37646484375, 48.337528228759766, 285.8020935058594, 69.14503479003906, 209.03077697753906, 483.46759033203125, 97.10623168945312, 150.869384765625, 126.82960510253906, 182.4392852783203, 126.50762176513672, 95.54351806640625, 80.61605834960938, 199.1362762451172, 115.18621826171875, 161.21202087402344, 110.19770812988281, 100.20066833496094, 89.41706085205078, 90.28295135498047, 87.06407165527344, 248.2594451904297, 46.17326354980469, 42.683990478515625, 36.51015853881836, 32.96003723144531, 32.571380615234375, 24.872617721557617, 18.384519577026367, 16.688697814941406, 15.531879425048828, 15.531879425048828, 15.272272109985352, 14.877321243286133, 14.64322280883789, 14.326457977294922, 14.222249031066895, 13.79792594909668, 11.624590873718262, 11.430277824401855, 11.409163475036621, 10.021059036254883, 9.971417427062988, 9.45004653930664, 8.980755805969238, 8.759732246398926, 41.157073974609375, 8.456734657287598, 8.368509292602539, 8.30538272857666, 8.30538272857666, 8.30538272857666, 8.30538272857666, 26.641292572021484, 26.5554141998291, 18.71462631225586, 11.526429176330566, 14.518519401550293, 16.047832489013672, 18.099990844726562, 25.816972732543945, 12.266861915588379, 29.130605697631836, 32.05872344970703, 14.936485290527344, 16.725675582885742, 18.253751754760742, 19.04439353942871, 19.778419494628906, 17.380598068237305, 16.97710609436035, 15.812455177307129, 15.484407424926758, 15.129374504089355, 31.624732971191406, 24.199567794799805, 22.917898178100586, 20.778146743774414, 15.846495628356934, 15.846495628356934, 14.609272956848145, 12.887669563293457, 12.887670516967773, 12.664546012878418, 11.692180633544922, 10.984675407409668, 10.82640552520752, 10.36606502532959, 9.658556938171387, 9.393699645996094, 8.7750883102417, 8.730640411376953, 8.686193466186523, 8.532898902893066, 8.42133617401123, 8.376887321472168, 8.09389877319336, 7.9142866134643555, 7.9142866134643555, 7.8027238845825195, 7.7533040046691895, 7.713829040527344, 7.669382572174072, 7.470314979553223, 34.43870544433594, 38.2347526550293, 44.298561096191406, 65.18772888183594, 38.554569244384766, 35.03404998779297, 36.52101516723633, 34.548458099365234, 123.19918823242188, 32.44914245605469, 14.970407485961914, 18.540571212768555, 95.588134765625, 39.618553161621094, 79.81037902832031, 35.48869323730469, 43.52288818359375, 27.539653778076172, 16.265310287475586, 47.87967300415039, 36.99543380737305, 73.73047637939453, 26.946575164794922, 51.74870300292969, 29.009288787841797, 34.523597717285156, 29.815174102783203, 46.74729537963867, 42.237674713134766, 35.08307647705078, 27.758180618286133, 54.25552749633789, 40.140533447265625, 32.711585998535156, 27.511323928833008, 26.7684268951416, 26.599939346313477, 23.902620315551758, 20.08237648010254, 19.33948516845703, 18.913909912109375, 18.913909912109375, 18.674442291259766, 18.59659194946289, 17.85369110107422, 17.110801696777344, 17.110801696777344, 174.47747802734375, 15.871353149414062, 14.882113456726074, 14.882113456726074, 14.882113456726074, 14.882113456726074, 13.854218482971191, 13.396327018737793, 13.396327018737793, 13.396327018737793, 13.396327018737793, 13.396327018737793, 12.653432846069336, 12.653432846069336, 12.653432846069336, 12.653432846069336, 16.360763549804688, 16.895526885986328, 84.17369842529297, 29.363142013549805, 31.48649787902832, 0.05663066729903221, 0.0003320853866171092, 0.0003320853866171092, 0.0003320853866171092, 0.0003320853866171092, 0.0003320853866171092, 0.0003320853866171092, 0.0003320853866171092, 0.0003320853866171092, 0.0003320853866171092, 0.0003320853866171092, 0.0003320853866171092, 0.0003320853866171092, 0.0003320853866171092, 0.0003320853866171092, 0.0003320853866171092, 0.0003320853866171092, 0.0003320853866171092, 0.0003320853866171092, 0.0003320853866171092, 0.0003320853866171092, 0.0003320853866171092, 0.0003320853866171092, 0.0003320853866171092, 0.0003320853866171092, 0.0003320853866171092, 0.0003320853866171092, 0.0003320853866171092, 0.0003320853866171092, 0.0003320853866171092, 0.0003320853866171092, 0.0003320853866171092, 0.0003320853866171092, 0.0003320853866171092, 0.0003320853866171092, 0.0003320853866171092, 0.0003320853866171092, 0.0003320853866171092, 0.0003320853866171092, 0.0003320853866171092, 0.0003320853866171092, 0.0003320853866171092, 0.0003320853866171092, 0.0003320853866171092, 0.0003320853866171092, 0.0003320853866171092, 0.0003320853866171092, 0.0003320853866171092, 0.0003320853866171092, 0.0003320853866171092, 0.0003320853866171092, 0.0003320853866171092, 0.0003320853866171092, 0.0003320853866171092, 0.0003320853866171092, 0.0003320853866171092, 0.0003320853866171092, 0.0003320853866171092, 0.0003320853866171092, 0.0003320853866171092, 0.0003320853866171092, 0.0003320853866171092, 0.0003320853866171092, 0.0003320853866171092], \"Term\": [\"oil\", \"mr\", \"testy\", \"per_cent\", \"canada\", \"pertinent\", \"new\", \"province\", \"energy\", \"gas\", \"calgary\", \"article\", \"sensitive\", \"companies\", \"words\", \"cities\", \"alberta\", \"safety\", \"one\", \"photographs\", \"product\", \"community\", \"years\", \"unfortunately\", \"waste\", \"market\", \"que\", \"business\", \"canelo\", \"tore\", \"merrily\", \"indo\", \"comparing\", \"billgraveland\", \"juice\", \"aramco\", \"anytime\", \"veggies\", \"antiques\", \"heroes\", \"dinnerware\", \"deadpans\", \"lingers\", \"archive\", \"floral\", \"customersupport\", \"joy\", \"mango\", \"shave\", \"mocktail\", \"forsen\", \"maison\", \"nerdwalklet\", \"pilon\", \"sulphuric\", \"bone\", \"piccadilly\", \"lalousis\", \"receptions\", \"warms\", \"fatty\", \"crack\", \"ogunbowale\", \"gabbana\", \"go\", \"orchard\", \"classes\", \"grappling\", \"quarterly\", \"formerly\", \"economywide\", \"braced\", \"pegs\", \"formidable\", \"citigroup\", \"overshadowed\", \"surplus\", \"quizzical\", \"tamsin\", \"potash\", \"spiking\", \"ended_sept\", \"spicing\", \"takeaway\", \"xj\", \"ys\", \"whites\", \"bracamontes\", \"tourney\", \"shambolic\", \"iveson\", \"rot\", \"quota\", \"factory\", \"diverging\", \"rail_cars\", \"hoax\", \"track\", \"towns\", \"goes\", \"miraculous\", \"sour\", \"bicycles\", \"harassing\", \"ole\", \"manila\", \"quarter\", \"polluted\", \"ranking\", \"hybrids\", \"scenario\", \"umbrella\", \"densities\", \"ignorant\", \"pleaded_guilty\", \"containing\", \"imagines\", \"shaky\", \"intentionally\", \"marcussen\", \"revamp\", \"syncrude\", \"undoubtedly\", \"prepare\", \"quantum\", \"alan\", \"guay\", \"ancaster\", \"calf\", \"south_korea\", \"coates\", \"milestone\", \"vital\", \"gondek\", \"notwithstanding\", \"winston\", \"texture\", \"hurt\", \"responsibility\", \"cities\", \"cruze\", \"calgary\", \"capital\", \"primacy\", \"racist\", \"wannacry\", \"whistlers\", \"reminder\", \"particularly\", \"extremities\", \"people\", \"okanagan\", \"fundamentalist\", \"presse\", \"although\", \"evening\", \"get\", \"leveraged\", \"well\", \"global\", \"news\", \"hiatus\", \"legally\", \"blackface\", \"afa\", \"irfan\", \"simms\", \"communication\", \"newmont\", \"visibility\", \"recipe\", \"portal\", \"stovel\", \"wrongdoers\", \"chilko\", \"fades\", \"thinks\", \"knowledge\", \"benefactor\", \"upgrade\", \"spooking\", \"shocking\", \"leased\", \"onwards\", \"mforrest\", \"focal\", \"thomas\", \"multitudinous\", \"lacey\", \"shielding\", \"bateman\", \"cipher\", \"rebating\", \"disabuse\", \"mouthing\", \"subsector\", \"firstly\", \"slimmed\", \"pretzel\", \"conceding\", \"thumper\", \"alward\", \"palace\", \"backroom\", \"thumping\", \"networks\", \"carbon_pricing\", \"finer\", \"premeditated\", \"que\", \"provinces\", \"saint_jacques\", \"province\", \"manitoba\", \"dips\", \"premier\", \"emission\", \"toronto\", \"montoyo\", \"transportation\", \"ensured\", \"ruffle\", \"tinker\", \"vintage\", \"motorsports\", \"shines\", \"pelletier\", \"warranty\", \"handlebar\", \"masterfully\", \"kawasaki\", \"inductee\", \"bsa\", \"devil\", \"cruisers\", \"bikes\", \"merel\", \"wrenches\", \"motorworks\", \"referrals\", \"upstairs\", \"trikes\", \"trike\", \"technician\", \"softail\", \"showroom\", \"pillow\", \"mural\", \"paulette\", \"dodgy\", \"proceedings\", \"fluffy\", \"entered\", \"cfos\", \"androgynous\", \"adoption\", \"middleman\", \"access_sufficient\", \"john_ibbitson\", \"maude\", \"whalen\", \"jane\", \"pdp\", \"colossal\", \"profession\", \"bilingual\", \"nineties\", \"blessings\", \"elina\", \"sucked\", \"dropout\", \"tan\", \"grundy\", \"resort\", \"sometimes\", \"frogs\", \"accrued\", \"unconscious\", \"raining\", \"footie\", \"dates\", \"reporter_covering\", \"ski\", \"lgbtq\", \"remnants\", \"whereas\", \"dabbling\", \"adam\", \"denounce\", \"snap\", \"turmoil\", \"result\", \"elise\", \"pompeo\", \"politics_briefing\", \"nineteen\", \"bitcoins\", \"hailing\", \"msft\", \"bathroom\", \"golds\", \"paula\", \"hart\", \"thunder\", \"absentee\", \"appelle\", \"turf\", \"ruth\", \"slaying\", \"novak\", \"deniers\", \"harper\", \"aboriginal\", \"appropriation\", \"subsets\", \"oncology\", \"doom\", \"contraception\", \"refugees\", \"veterans\", \"apha\", \"obnoxious\", \"proceedings\", \"owen\", \"newly\", \"fever\", \"star\", \"left\", \"error\", \"farah\", \"washington_politics\", \"book\", \"great\", \"one\", \"uniformed\", \"blood\", \"families\", \"politics\", \"farmer\", \"even\", \"historic\", \"course\", \"lakers\", \"work\", \"another\", \"trump\", \"storm\", \"oka\", \"global\", \"crowdfunding\", \"glogovac\", \"toddlers\", \"eka\", \"stymieing\", \"trivial\", \"tpeglgajseksknw\", \"townhouses\", \"meat\", \"picket\", \"politically\", \"ken\", \"anticipates\", \"evp\", \"omarmosleh\", \"correspondingly\", \"prohibitively\", \"context\", \"delinquency\", \"superintendent\", \"reined\", \"scales\", \"gasper\", \"detached\", \"rshdj\", \"situation\", \"ezox\", \"hollowed\", \"deferred\", \"quassa\", \"tax_breaks\", \"leszczyc\", \"talking\", \"momentum\", \"starchy\", \"good\", \"created\", \"streams\", \"elton\", \"matches\", \"insider_report\", \"brt\", \"sporadic\", \"analyst\", \"logically\", \"makeover\", \"renovations\", \"costumed\", \"invitations\", \"inject\", \"hurdle\", \"power_generation\", \"looked\", \"shaded\", \"mccauley\", \"timing\", \"weekday\", \"snooze\", \"derelict\", \"renovate\", \"minimum\", \"proper\", \"establishes\", \"james_keller\", \"excels\", \"ziggy\", \"ivig\", \"learning\", \"hildebrand\", \"regs\", \"swings\", \"substituted\", \"affordable\", \"houses\", \"reluctantly\", \"cities\", \"united_nations\", \"unfortunately\", \"resident\", \"could_cause\", \"british_columbia\", \"inner\", \"calgary\", \"deregulated\", \"martensville\", \"bug\", \"new\", \"advance\", \"domination\", \"years\", \"urlacher\", \"coming\", \"reached\", \"elaborate\", \"paris\", \"construction\", \"navdeep\", \"qst\", \"cnr\", \"urgency\", \"baumberg\", \"thai\", \"college_football\", \"recounted\", \"brooke\", \"gross_margin\", \"passengers\", \"hidden\", \"hope\", \"recommenced\", \"cotulla\", \"tremendous\", \"alertplatform\", \"questor\", \"professorship\", \"powdery\", \"bdi\", \"aa\", \"ronald\", \"amascarenhas\", \"icons\", \"external\", \"ad\", \"clearpower\", \"factoring\", \"exhaust\", \"subcontractors\", \"sgveq\", \"without\", \"software\", \"mans\", \"globe_newswire\", \"comedy\", \"rates\", \"business\", \"dino\", \"rather\", \"huddled\", \"initiative\", \"saudi_crown\", \"taxable\", \"writes\", \"tetsu\", \"calculate\", \"recovering\", \"police_officers\", \"wining\", \"episodic\", \"unattended\", \"sunset\", \"obliviousness\", \"kettle\", \"gg\", \"rodney\", \"thresholds\", \"celebrates\", \"dwindling\", \"flavour\", \"petrochina\", \"unwilling\", \"anticipation\", \"andrew_jeffrey\", \"stretch\", \"bpd\", \"restaurateurs\", \"donations\", \"starting\", \"calculations\", \"paltry\", \"northwestern\", \"result\", \"cd\", \"underemployed\", \"mans\", \"following\", \"improving\", \"bne\", \"northeast\", \"chairs\", \"st\", \"effect\", \"ostlund\", \"srb\", \"efx\", \"data_cdleeder\", \"cfnwan\", \"discounts\", \"sxp\", \"starting_jan\", \"reitmans\", \"invoicing\", \"relinquishment\", \"anggun\", \"enerflex\", \"relate\", \"ca_fnews\", \"mst\", \"mgwff\", \"sawn_lake\", \"chisholm\", \"mesa\", \"accounts_payable\", \"incl\", \"reproduced\", \"withhold\", \"ryw\", \"ck\", \"unconfirmed\", \"milton\", \"bqv\", \"tiofkg\", \"manipulating\", \"iacbnwqvejcuq\", \"separators\", \"discontinuance\", \"poe\", \"apr\", \"sdy\", \"barta\", \"equates\", \"dii\", \"hwo\", \"cfw\", \"complementing\", \"mats\", \"flowfor\", \"fuego\", \"strad\", \"crosswords\", \"ebit\", \"longer_adjusting\", \"reportable\", \"amortization_ebitda\", \"infrastructural\", \"acceptances\", \"shares_outstanding\", \"cll\", \"accounts_receivable\", \"containment\", \"smx\", \"ammonia\", \"attribute\", \"touchstone\", \"rg\", \"covenant_ebitda\", \"losses_resulting\", \"voc\", \"tahoe\", \"realizations\", \"petrobangla\", \"discontinuance\", \"ppr\", \"misma\", \"organically\", \"surveys\", \"flattened\", \"colour\", \"zj\", \"prepayment\", \"iocs\", \"disassembled\", \"pausing\", \"etysygewzwu\", \"shareholdings\", \"zoe\", \"fulfilling\", \"ppr_shares\", \"supposition\", \"logging\", \"ancillary_transactions\", \"transports\", \"ethos\", \"glauconite\", \"volume_weighted\", \"gdzs\", \"hedging_program\", \"electronically\", \"tel_email\", \"obedient\", \"aron\", \"throated\", \"requisite\", \"hiccups\", \"umzx\", \"gay\", \"counting\", \"remit\", \"gilbert\", \"latinos\", \"races\", \"elites\", \"panama\", \"cash\", \"redistributes\", \"posts\", \"poultry\", \"corresponding\", \"upend\", \"bernardo\", \"ivison\", \"balance\", \"morale\", \"brushed\", \"weakens\", \"string\", \"refunds\", \"resulted\", \"reimbursements\", \"prognostication\", \"speer\", \"spacious\", \"prudence\", \"precipitate\", \"clings\", \"stabilized\", \"micawber\", \"asselin\", \"outpace\", \"inveterate\", \"bst\", \"gloomy\", \"goingforward\", \"moral\", \"airports\", \"parked\", \"statement\", \"formations\", \"natural\", \"blockbuster\", \"efficient_manner\", \"applicable_securities\", \"apprehended\", \"flecks\", \"passion\", \"analysis\", \"breakup\", \"jeakins\", \"risk_factors\", \"levering\", \"forma\", \"bans\", \"doos\", \"unknown_risks\", \"pds\", \"accounting_principles\", \"non_gaap\", \"jentsch\", \"sufficiency\", \"driedger\", \"noticed\", \"completely\", \"guerrero\", \"nsm\", \"acquisition\", \"ferreting\", \"dives\", \"necessitated\", \"existence\", \"informant\", \"operations\", \"opened\", \"corporate\", \"complaints\", \"exploded\", \"nervous\", \"carries\", \"community\", \"percentage\", \"zero\", \"performance\", \"torrents\", \"expectations\", \"military\", \"activities\", \"intense\", \"product\", \"remarkably\", \"financial\", \"pepperdine\", \"may\", \"maloney\", \"future\", \"campaign\", \"cost\", \"september\", \"waste\", \"restored\", \"well\", \"gas\", \"shade\", \"oil\", \"current\", \"based\", \"including\", \"takeovers\", \"sufficiently\", \"measured\", \"wti\", \"barrels_day\", \"winding\", \"unpredictable\", \"calendar\", \"safe_harbor\", \"shareholders\", \"mat\", \"intervening\", \"keyboardist\", \"overload\", \"smart\", \"disaster\", \"crucial\", \"playground\", \"granny\", \"gate\", \"proceeds\", \"richard\", \"medline\", \"accuracy\", \"features\", \"premarket\", \"consists\", \"winch\", \"caterpillar\", \"schwartz\", \"provides\", \"producers\", \"transactions\", \"extricate\", \"gmp_firstenergy\", \"differential\", \"differ_materially\", \"crude\", \"baytex\", \"barrel\", \"west_texas\", \"barred\", \"parliament_hill\", \"rebounded\", \"canadian_tire\", \"heaviest\", \"raging\", \"western\", \"benchmark\", \"oil\", \"supplied\", \"product\", \"us\", \"president_emmanuel\", \"cyclists\", \"energy\", \"prices\", \"canadian\", \"military\", \"companies\", \"alberta\", \"market\", \"pepperdine\", \"pipeline\", \"year\", \"campaign\", \"inattentiveness\", \"community\", \"annexed\", \"canada\", \"new\", \"sensitive\", \"dui\", \"unresolved\", \"photographers\", \"costumes\", \"undergo\", \"caucuses\", \"photographs\", \"microphone\", \"news_develops\", \"presidency\", \"hair\", \"antiquities\", \"eagle\", \"mathematical\", \"upgraded\", \"assist\", \"rail_transport\", \"fretted\", \"transcanada_corp\", \"ap_coverage\", \"profs\", \"samiul\", \"metropolis\", \"anniversary\", \"hunted\", \"karmini\", \"amooza\", \"landscapes\", \"yeah\", \"pertinent\", \"luring\", \"grueling\", \"words\", \"tips\", \"unusual\", \"trump\", \"bus_crash\", \"stories\", \"election\", \"writer\", \"safety\", \"president_donald\", \"militants\", \"democratic\", \"ottawa\", \"democrats\", \"calif\", \"average\", \"trade\", \"weather\", \"talmadge\", \"president\", \"constructed\", \"pole\", \"victor\", \"victory\", \"mushikiwabo\", \"town\", \"galactic\", \"mourns\", \"lynne_mcclintic\", \"upcoming_words\", \"chief\", \"personality\", \"shirley\", \"olympian\", \"goodale\", \"awarded\", \"victim\", \"oracle\", \"filled\", \"cfp\", \"multiplying\", \"capturing\", \"murdered\", \"banquet\", \"hko\", \"funding\", \"archrivals\", \"honorary\", \"sentence\", \"burned\", \"undertones\", \"motor\", \"young\", \"diagnosed\", \"advocate\", \"marvelous\", \"women\", \"student\", \"victims\", \"man\", \"paramedics\", \"halfway\", \"oka\", \"stores\", \"withdrew\", \"dealt\", \"school\", \"members\", \"pole\", \"mouth\", \"yosif\", \"childhood\", \"tore\", \"first\", \"house\", \"university\", \"commonwealth\", \"homan\", \"cities\", \"people\", \"two\", \"year\", \"former\", \"new\", \"ottawa\", \"unfortunately\", \"edmonton\", \"time\", \"canadian\", \"ominously\", \"national\", \"canada\", \"families\", \"safety\", \"years\", \"narrowed\", \"waves\", \"betting\", \"eaten\", \"slight\", \"quoting\", \"eikon\", \"cautionary\", \"ratios\", \"update\", \"bigsteelbox\", \"polar\", \"quicker\", \"july\", \"preceding\", \"odds\", \"defensiveness\", \"popplewell\", \"rca\", \"territorial\", \"oanda_analyst\", \"courchevel\", \"grow\", \"ms_notley\", \"expand\", \"edelman\", \"galen\", \"roth\", \"pep\", \"overheated\", \"ronaldo\", \"davidstea\", \"bopped\", \"per_cent\", \"fell\", \"gary\", \"compiled\", \"assured\", \"priced\", \"deficiencies\", \"impacting\", \"dollar\", \"cents\", \"increased\", \"higher\", \"bank\", \"points\", \"prices\", \"decent\", \"growing\", \"indebted\", \"rate\", \"markets\", \"economy\", \"hit\", \"replied\", \"oct\", \"year\", \"buck\", \"simpson\", \"montana\", \"business\", \"attainment\", \"expect\", \"trended\", \"also\", \"sara\", \"canada\", \"include\", \"market\", \"echelons\", \"canadian\", \"bike\", \"next\", \"safety\", \"oil\", \"talmadge\", \"us\", \"ferrante\", \"farms\", \"inuk\", \"niche\", \"consummate\", \"compassionate\", \"simon_schuster\", \"legions\", \"whitesky\", \"roller\", \"owen\", \"rainforest\", \"opting\", \"nye\", \"hive\", \"citizenry\", \"wooing\", \"muslim\", \"increasing\", \"anti\", \"yet\", \"neepawa\", \"shredded\", \"flurry\", \"shrunk\", \"makes_sense\", \"oddsmakers\", \"foxtrotting\", \"remainers\", \"unsatisfied\", \"bq\", \"backpacker\", \"belongs\", \"beneficial\", \"bothered\", \"basic\", \"bag\", \"aphorism\", \"brainstorms\", \"breakdown\", \"bulwark\", \"bungling\", \"capture\", \"carole\", \"vires\", \"lenz\", \"orphan\", \"arms_gary\", \"stung\", \"abandoning\", \"watson\", \"wellbore\", \"riddell_rose\", \"wingers\", \"fuel\", \"hampering\", \"consciences\", \"derail\", \"engo\", \"poring\", \"tankers\", \"ornate\", \"silvia\", \"ilovetotravel\", \"shirking\", \"brewing_disaster\", \"reactivated\", \"inspire\", \"overpriced\", \"chen\", \"mature\", \"sequoia\", \"biggies\", \"offloading\", \"banking\", \"mr\", \"mistrust\", \"waste\", \"heavy_crude\", \"patch\", \"companies\", \"corporate_governance\", \"gas\", \"multiple\", \"globe\", \"corona\", \"assessing\", \"energy\", \"taken\", \"lakers\", \"leach\", \"shoppers\", \"stewardship\", \"lands\", \"relevance\", \"whale\", \"blockaded\", \"lp\", \"ltd\", \"profligate\", \"shifting\", \"observers\", \"tailings_ponds\", \"foreshadowed\", \"fascinate\", \"distributing\", \"shrinking\", \"starving\", \"marginalized\", \"traction\", \"embark\", \"slammed\", \"imperilled\", \"burglar\", \"neb_panel\", \"crawford\", \"approach\", \"fail\", \"negotiation\", \"disasters\", \"heavier\", \"enormously\", \"treatment\", \"maria\", \"find\", \"mulroney\", \"indigenous_groups\", \"consequently\", \"hovered\", \"lakers\", \"capitalized\", \"indigenous\", \"kenney\", \"band\", \"crowd\", \"pipeline_expansion\", \"waterloo\", \"credited\", \"india\", \"counts\", \"edmonton\", \"ardently\", \"trip\", \"chew\", \"nation\", \"commonwealth\", \"process\", \"breather\", \"right_wing\", \"licl\", \"lantern\", \"diwali\", \"mogo\", \"joly\", \"spruce\", \"ridiculed\", \"blowdown\", \"ihs_markit\", \"mgx\", \"ppm\", \"statutory\", \"harjit\", \"locks\", \"mizanur\", \"kahlon\", \"margarets\", \"hindu\", \"excentricite\", \"mahamud\", \"enfield\", \"metrotower\", \"niverville\", \"sparks\", \"zurich\", \"relocation\", \"profoundly\", \"agile\", \"eliminates\", \"relocating\", \"sham\", \"bouthillier\", \"preached\", \"planning\", \"callers\", \"layering\", \"nsfdf\", \"amortized\", \"skewing\", \"cumulative_effect\", \"prepaid\", \"kuala\", \"nibvkz\", \"direct_employee\", \"vwlcga\", \"ufv\", \"senegal\", \"fehd\", \"receivables\", \"eagleford\", \"deferred_revenue\", \"comprehensive_income\", \"caduv\", \"mmcfe\", \"corresponds\", \"paraffin\", \"payables\", \"demulsifiers\", \"mitigation\", \"stoddart\", \"consolidations\", \"wax\", \"consumable\", \"email_info\", \"cured\", \"ase\", \"mboe\", \"apportioned\", \"poe\", \"jarbeau\", \"neb\", \"bi\", \"yamaha\", \"canntrust\", \"newspages\", \"megawatt\", \"geoffrey\", \"olave\", \"scotians\", \"abortion\", \"mould\", \"hollywood\", \"medical\", \"subsidized\", \"rocks\", \"snacks\", \"enemy\", \"seizures\", \"iced\", \"gel\", \"bombing\", \"hastingssimon\", \"kaleigh\", \"aglc\", \"dampier\", \"licensees\", \"numo\", \"koi\", \"saint_john\", \"kevin\", \"canelo\", \"grower\", \"leszczyc\", \"stopped\", \"healing_lodges\", \"legacy\", \"tarred\", \"poll\", \"issues\", \"mainstream\", \"illegal\", \"legislature\", \"months\", \"higgs\", \"behaviours\", \"wealth\", \"keurig\", \"hiccup\", \"interestingly\", \"tat\", \"goodbye\", \"sciences\", \"distribution\", \"retailers\", \"toonies\", \"denied\", \"onebeacon\", \"travelled\", \"appa\", \"advancement\", \"caisse\", \"cb\", \"servicing\", \"slam\", \"rang\", \"narrow\", \"assists\", \"ferrari\", \"haes\", \"editor\", \"woes\", \"tidewater\", \"reserve\", \"dismay\", \"automobile\", \"dream\", \"trudeau\", \"emissions\", \"unwillingness\", \"regulations\", \"trans_mountain\", \"carbon\", \"probe\", \"cliffhanger\", \"irreplaceable\", \"stoney\", \"albertans\", \"pragmatic\", \"premiering\", \"material\", \"coach\", \"marijuana\", \"superpowers\", \"solution\", \"shawna\", \"clunky\", \"anvil\", \"ab\", \"east\", \"earlydecember\", \"mesh\", \"billionaire\", \"clause\", \"fit\", \"conservative\", \"prominent\", \"issue\", \"chippewa\", \"government\", \"voted\", \"mcchrystal\", \"governing\", \"federal\", \"right\", \"canadians\", \"would\", \"opposition\", \"way\", \"liberals\", \"justin_trudeau\", \"alberta\", \"twitter\", \"monarch\", \"province\", \"get\", \"even\", \"industry\", \"prime_minister\", \"political\", \"make\", \"going\", \"prohibited\", \"could\", \"bike\", \"canada\", \"need\", \"permits\", \"oil\", \"one\", \"also\", \"new\", \"pipeline\", \"energy\", \"ottawa\", \"years\", \"like\", \"country\", \"time\", \"people\", \"safety\", \"gas\", \"canadian\", \"puzzles\", \"dofasco\", \"lithgow\", \"employees_maintains\", \"powerlessness\", \"buddhist\", \"sebastapol\", \"betta\", \"booker\", \"cathal_kelly\", \"luncheons\", \"eden\", \"tri\", \"jeffrey\", \"mentoring\", \"st_catharines\", \"iliad\", \"dascher\", \"kisses\", \"motherhood\", \"organizes\", \"supernatural\", \"bdang\", \"embarked\", \"bhathena\", \"prostitutes\", \"doting\", \"drawings\", \"alzheimer_society\", \"aubrey\", \"granddaughter\", \"lightly\", \"raceway\", \"louise\", \"sinking\", \"licensed\", \"docs\", \"living\", \"wharf\", \"thiessen\", \"grizzly\", \"biodiversity\", \"scare\", \"corcoran\", \"reaffirm\", \"cakecutting\", \"reguly\", \"inlet\", \"yee\", \"cookie\", \"lineup\", \"quitting\", \"cod\", \"ogen\", \"ereguly\", \"twangy\", \"inactivity\", \"chrysler\", \"tamitik\", \"ills\", \"belies\", \"prawn\", \"orleans\", \"submission\", \"ridden\", \"miracle\", \"pontification\", \"distaste\", \"steep_discounts\", \"lionel\", \"psychology\", \"dire\", \"foresaw\", \"mandatory\", \"bam\", \"bonderman\", \"insights\", \"pouring\", \"gravitate\", \"bloomberg\", \"fis\", \"sionna\", \"council\", \"doublelines\", \"aggravated\", \"redeem\", \"valuation\", \"loanable\", \"erian\", \"preference\", \"resilient\", \"bumpier\", \"predisposed\", \"failing\", \"quarterly_profit\", \"stall\", \"iduskbn\", \"combine\", \"listings\", \"beatles\", \"yielding\", \"boyd\", \"index\", \"stock\", \"reuniting\", \"included\", \"stint\", \"worse\", \"investor\", \"consecutive\", \"dynamics\", \"piggyback\", \"inattentiveness\", \"target\", \"shapovalov\", \"testy\", \"market\", \"stuffing\", \"aggressive\", \"buy\", \"coping\", \"article\", \"bankruptcy_protection\", \"instances\", \"postal_workers\", \"investments\", \"torstar\", \"year\", \"shade\", \"butch\", \"indebted\", \"growing\", \"globe\", \"markets\", \"per_cent\", \"lt\", \"mr\", \"financial\", \"canadian\", \"wadsworth\", \"wwf\", \"dialing\", \"lacked\", \"population\", \"aughts\", \"doorstep\", \"quizzes\", \"licencing\", \"jams\", \"pasquale\", \"exempt\", \"rhetoric\", \"cvu\", \"systematic\", \"hank\", \"hina\", \"yas\", \"curran\", \"economically\", \"uptake\", \"wtzj\", \"raic\", \"replayed\", \"replicate\", \"adaptations\", \"acoustic\", \"scalable\", \"unlocking\", \"shawville\", \"tsuji\", \"summoning\", \"fieldhouse\", \"flimflam\", \"excerpt\", \"erna\", \"endlessly\", \"diabolical\", \"curmudgeon\", \"potter\", \"crowned\", \"bypassed\", \"caravans\", \"grindelwald\", \"akouphone\", \"axl\", \"burr\", \"sarcophagus\", \"doodle\", \"anniversaries\", \"shipper\", \"fossils\", \"compartment\", \"zharkamys\", \"majeure\", \"tasw\", \"upshot\", \"invoices\", \"bison\", \"glossed\", \"lira\", \"poyraz\", \"revolving\", \"paleotological\", \"doodles\", \"palaeontology\", \"googlers\", \"fernie\", \"exhibits\", \"flesh\", \"brainstorm\", \"albertosaurus\", \"badlands\", \"permeability\", \"handbook\", \"isolate\", \"taskuduk\", \"cyclic\", \"condor\", \"doubly\", \"kicker\", \"jettisoning\", \"newfield\", \"lunch\", \"northbow\", \"restocked\", \"straying\", \"samestore\", \"instead\", \"directorships\", \"misbrd\", \"piling\", \"commandeer\", \"foresight\", \"loche\", \"contractual\", \"annoyed\", \"subject_ern\", \"studio\", \"edible\", \"concur\", \"healthyvacuum\", \"tasks\", \"machin\", \"earmarked\", \"derives\", \"arkoma\", \"liquids_mboe\", \"headquarterless\", \"perplexing\", \"ninepoint\", \"sharpen\", \"amendment\", \"holders\", \"debris\", \"reminds\", \"penney\", \"punted\", \"oligopoly\", \"hua\", \"mitigate\", \"tied\", \"social_responsibility\", \"claridge\", \"nakita\", \"mobility\", \"geopolitics\", \"envisaged\", \"poised\", \"roher\", \"outlook\", \"theglobeandmail\", \"shaken\", \"securedrop_follow\", \"klm\", \"vacation\", \"net_loss\", \"mails\", \"thwart\", \"residential_schools\", \"norm\", \"bowen\", \"nigel\", \"gravestones\", \"spit\", \"aftermath\", \"goel\", \"practical\", \"spaces\", \"licence\", \"burnaby_south\", \"article\", \"testy\", \"wrap\", \"realms\", \"mail\", \"globe\", \"politics\", \"mailto_tips\", \"sighted\", \"mason_j\", \"canelo\", \"globe_unlimited\", \"brexit\", \"canada\", \"stuffing\", \"storm\", \"poorly\", \"americans\", \"sheer\", \"british\", \"business\", \"pushing\", \"us\", \"deal\", \"lineups\", \"news\", \"go\", \"like\", \"world\", \"mr\", \"trump\", \"case\", \"china\", \"one\", \"two\", \"house\", \"new\", \"browns\", \"slf\", \"countrywide\", \"weak\", \"middleweight\", \"slumped\", \"cottages\", \"slash\", \"application\", \"daca\", \"queen\", \"lancasster\", \"indebtedness\", \"commissioner\", \"nutrien\", \"corrupt\", \"indigenous_peoples\", \"comforting\", \"simulations\", \"clashes\", \"midair\", \"segura\", \"sewing\", \"katrina\", \"counterclaim\", \"dauphin\", \"empire\", \"activity\", \"urge\", \"randall\", \"powers\", \"decorating\", \"rejoices\", \"conference\", \"trial\", \"firm\", \"institutional\", \"employed\", \"supreme_court\", \"counts\", \"adam\", \"cartels\", \"relaxed\", \"discreetly\", \"streak\", \"restored\", \"courts\", \"tore\", \"charge\", \"takeovers\", \"canada\", \"cars\", \"unfortunately\", \"interim\", \"financial\", \"group\", \"ceo\", \"accusations\", \"community\", \"coping\", \"canadian\", \"one\", \"business\", \"public\", \"threat\", \"inattentiveness\", \"bir\", \"orientated\", \"tharisa\", \"fgn\", \"tms\", \"entityxiv\", \"gigajoules\", \"undertakings\", \"heaven\", \"randy_neely\", \"resource_download\", \"managing_director\", \"striving\", \"businesswoman\", \"collection\", \"months_endedseptember\", \"nameplate\", \"common_shares\", \"isin\", \"criticize\", \"whitecourt\", \"misbrdstk\", \"polisi\", \"geo\", \"brd\", \"veer\", \"historian\", \"partnerships\", \"reconsideration\", \"delineation\", \"spacing\", \"fadb\", \"medicine_hat\", \"appear\", \"laterally\", \"butanes\", \"solutions\", \"montney_horizontal\", \"extracted\", \"office\", \"conclude\", \"group\", \"energy\", \"prayer\", \"plays\", \"income_loss\", \"corporate\", \"board\", \"financial\", \"community\", \"maloney\", \"chicoutimi\", \"chew\", \"pray\", \"neapolitan\", \"pe\", \"callwood\", \"funeral\", \"nichols\", \"silently\", \"trait\", \"sandusky\", \"bev\", \"tufts\", \"nell\", \"rouville\", \"okill\", \"died\", \"melissa\", \"kirkpatrick\", \"memorial_donations\", \"beloved_husband\", \"confirmation\", \"creelman\", \"flowers\", \"allweld\", \"mollie\", \"nazer\", \"eleanor\", \"rue\", \"cherish\", \"doris\", \"rcyc\", \"passed\", \"linen\", \"gdp_ratio\", \"friend\", \"lori_ewing\", \"chunying\", \"widespread\", \"broken\", \"families\", \"canary\", \"song\", \"manages\", \"note\", \"bonnie\", \"licensed\", \"horrific\", \"jerk\", \"survive\", \"remarks\", \"university\", \"childhood\", \"years\", \"fatally\", \"many\", \"spring\", \"december\", \"great\", \"tore\", \"may\", \"made\", \"hefford\", \"clarizio\", \"commercial_disputes\", \"practice_encompasses\", \"benchetrit\", \"prefontaine\", \"bahrain\", \"acmpr\", \"bennett_jones\", \"commutes\", \"iic\", \"genetics\", \"creditor\", \"transactional\", \"product_liability\", \"orzyr\", \"dobson\", \"litigation\", \"ameghji\", \"gover\", \"blake_cassels\", \"practice_focuses\", \"fabien\", \"kaning\", \"bjorkquist\", \"granking\", \"stikeman\", \"wxn\", \"duvall\", \"staleyr\", \"gowling_wlg\", \"fasken\", \"dumoulin\", \"msf\", \"frontieres\", \"laverne\", \"including\", \"canada\", \"neepawa\", \"wooing\", \"hive\", \"citizenry\", \"nye\", \"opting\", \"rainforest\", \"yet\", \"anti\", \"increasing\", \"muslim\", \"makes_sense\", \"flurry\", \"shredded\", \"shrunk\", \"unsatisfied\", \"bq\", \"remainers\", \"foxtrotting\", \"oddsmakers\", \"valued\", \"metals\", \"month\", \"museum\", \"rozon\", \"monetary_policy\", \"virtuoso\", \"quarters\", \"screen\", \"yusaku\", \"exacerbate\", \"generous\", \"motivating\", \"disenchanted\", \"poorer\", \"yulia\", \"constituency\", \"bothered\", \"brainstorms\", \"breakdown\", \"bulwark\", \"bungling\", \"capture\", \"carole\", \"coalitions\", \"cocktail\", \"compensatory\", \"consolidating\", \"constituencies\", \"consuming\", \"belongs\", \"consummately\", \"convoluted\", \"danes\", \"danish\", \"decides\", \"decry\", \"defy\", \"desirable\", \"devotion\", \"distracted\", \"eagerly\", \"beneficial\", \"basic\"], \"Total\": [3478.0, 797.0, 1443.0, 1819.0, 3299.0, 794.0, 1503.0, 668.0, 1436.0, 867.0, 954.0, 1146.0, 690.0, 659.0, 635.0, 554.0, 2035.0, 1001.0, 1339.0, 515.0, 1194.0, 1856.0, 880.0, 521.0, 381.0, 1191.0, 332.0, 1125.0, 303.0, 1002.0, 20.512882232666016, 8.293577194213867, 5.80123233795166, 5.383627891540527, 5.164309978485107, 4.6912031173706055, 4.350813388824463, 4.350813388824463, 4.302312850952148, 4.16834020614624, 4.04935884475708, 3.936760663986206, 3.936760663986206, 3.7362282276153564, 3.7362282276153564, 3.5564584732055664, 3.4364266395568848, 3.2519516944885254, 3.14727520942688, 3.118394136428833, 2.842769145965576, 2.6164071559906006, 2.5145180225372314, 2.47859525680542, 2.4695098400115967, 2.371460199356079, 2.333824396133423, 2.3000292778015137, 2.1981399059295654, 2.099675178527832, 4.311330318450928, 5.855377674102783, 10.540314674377441, 5.112593650817871, 239.02120971679688, 12.544591903686523, 8.335317611694336, 5.032528400421143, 4.633719444274902, 4.113399505615234, 3.5522701740264893, 3.4334218502044678, 3.196500301361084, 2.743278741836548, 2.731569528579712, 2.4570555686950684, 2.405932664871216, 2.181960344314575, 2.178539276123047, 1.946843147277832, 1.926969051361084, 1.8325154781341553, 1.7391170263290405, 1.7067303657531738, 1.6734586954116821, 1.6734586954116821, 1.6734586954116821, 1.6734586954116821, 1.5962060689926147, 1.5476733446121216, 1.5189529657363892, 1.507865071296692, 1.453220009803772, 1.4045504331588745, 1.3274345397949219, 11.251197814941406, 33.765201568603516, 14.095564842224121, 73.18814849853516, 54.435508728027344, 52.031314849853516, 43.75838851928711, 42.207977294921875, 43.09199905395508, 24.524892807006836, 22.441558837890625, 20.94617462158203, 19.80405044555664, 19.49595069885254, 19.638769149780273, 18.97872543334961, 18.079387664794922, 17.55712127685547, 17.69057846069336, 38.35468673706055, 17.07868194580078, 16.812274932861328, 16.62643051147461, 16.616252899169922, 16.154109954833984, 16.153717041015625, 15.366216659545898, 15.288537979125977, 15.269009590148926, 15.183652877807617, 15.088543891906738, 14.937664031982422, 14.57120418548584, 62.78688430786133, 26.625749588012695, 29.432086944580078, 51.31752014160156, 24.131175994873047, 53.80513000488281, 247.7291717529297, 27.648345947265625, 161.94554138183594, 74.89859008789062, 41.0188102722168, 554.1580200195312, 84.32960510253906, 954.1201782226562, 61.971744537353516, 38.15092849731445, 118.13668823242188, 250.87298583984375, 75.28463745117188, 99.5914077758789, 81.28569793701172, 71.64297485351562, 712.2991943359375, 180.6778564453125, 167.1097869873047, 95.04586791992188, 151.06251525878906, 145.04061889648438, 559.2051391601562, 143.41273498535156, 851.0594482421875, 305.0956115722656, 520.9310913085938, 101.61746215820312, 26.800752639770508, 24.34662628173828, 21.254308700561523, 13.807382583618164, 12.539835929870605, 11.657939910888672, 11.361837387084961, 10.630749702453613, 9.583364486694336, 8.617512702941895, 7.688103199005127, 7.688104152679443, 7.688104629516602, 7.688104629516602, 6.119540691375732, 5.435472011566162, 5.264566421508789, 5.07681131362915, 4.750115871429443, 4.646149635314941, 4.601714134216309, 4.499657154083252, 4.49965763092041, 4.390862464904785, 4.358419418334961, 4.1757001876831055, 4.175699710845947, 4.175699710845947, 4.1757001876831055, 4.1757001876831055, 4.175699710845947, 4.1757001876831055, 4.1757001876831055, 4.175699710845947, 4.175699710845947, 4.1757001876831055, 4.175699710845947, 4.175699710845947, 4.1757001876831055, 4.175699710845947, 23.629791259765625, 4.175699710845947, 4.1757001876831055, 117.89004516601562, 184.47109985351562, 4.1757001876831055, 28.82179069519043, 332.80218505859375, 161.46702575683594, 55.20677185058594, 668.6432495117188, 116.70542907714844, 49.95930480957031, 224.13087463378906, 23.767589569091797, 43.139564514160156, 226.93040466308594, 216.98643493652344, 25.53655242919922, 9.665543556213379, 4.0391387939453125, 2.9138576984405518, 2.9138576984405518, 2.9138576984405518, 2.41945743560791, 1.7885781526565552, 1.7885781526565552, 1.7885781526565552, 1.7885781526565552, 1.7885781526565552, 1.7885781526565552, 1.7885781526565552, 1.7885781526565552, 1.7885781526565552, 1.7885781526565552, 1.7885781526565552, 1.7885781526565552, 1.7885781526565552, 1.7885781526565552, 1.7885781526565552, 1.7885781526565552, 1.7885781526565552, 1.7885781526565552, 1.7885781526565552, 1.7885781526565552, 1.7885781526565552, 1.7885781526565552, 1.7031439542770386, 38.68939208984375, 14.894805908203125, 13.23819637298584, 7.161417484283447, 6.563237190246582, 6.005906105041504, 5.785534858703613, 5.165621280670166, 4.559885025024414, 4.4951171875, 4.367203235626221, 4.268573760986328, 4.146862983703613, 4.040406227111816, 3.378990888595581, 3.3707940578460693, 3.166107416152954, 3.1304407119750977, 3.01716947555542, 2.995311975479126, 2.9772331714630127, 2.9754810333251953, 2.7131187915802, 2.637939691543579, 2.4692065715789795, 2.4591057300567627, 2.3974361419677734, 2.3101673126220703, 2.3019707202911377, 2.2683281898498535, 2.220656633377075, 4.619842052459717, 5.566201210021973, 98.36052703857422, 6.525345325469971, 11.162090301513672, 7.366931438446045, 61.26656723022461, 29.705251693725586, 43.01828384399414, 9.290115356445312, 11.356600761413574, 109.4621353149414, 61.71806716918945, 52.90430450439453, 51.5909309387207, 35.22773361206055, 32.466060638427734, 26.056766510009766, 23.901750564575195, 21.320274353027344, 20.7788028717041, 39.0018196105957, 18.57249641418457, 17.83942222595215, 17.68914031982422, 15.930131912231445, 15.919830322265625, 15.329584121704102, 15.222915649414062, 14.613776206970215, 14.16341495513916, 14.069223403930664, 13.750349998474121, 13.750349998474121, 13.547804832458496, 13.160971641540527, 13.048286437988281, 12.968400001525879, 12.23115062713623, 12.194808959960938, 12.162652015686035, 38.68939208984375, 59.98944854736328, 25.02825164794922, 18.75368309020996, 101.81401062011719, 223.13497924804688, 26.797819137573242, 62.917240142822266, 46.005977630615234, 97.90543365478516, 161.4664764404297, 1339.1363525390625, 71.13565063476562, 60.2760009765625, 366.9365539550781, 291.8763427734375, 50.90089797973633, 453.31390380859375, 153.79718017578125, 137.19627380371094, 164.60382080078125, 485.63232421875, 239.52589416503906, 478.9134216308594, 370.9169616699219, 278.7374572753906, 305.0956115722656, 14.858166694641113, 14.858166694641113, 6.430461406707764, 5.5587921142578125, 5.394918918609619, 5.209789276123047, 4.1217756271362305, 4.009904861450195, 3.8083441257476807, 3.7904651165008545, 3.5384280681610107, 3.5213987827301025, 3.203669786453247, 3.1058108806610107, 3.0291078090667725, 2.302030324935913, 2.2251853942871094, 2.019841194152832, 1.9742841720581055, 1.9398657083511353, 1.9341537952423096, 1.8167933225631714, 1.7507747411727905, 1.6820333003997803, 1.6465373039245605, 1.5197863578796387, 1.4826641082763672, 1.4690643548965454, 1.4602195024490356, 1.4246543645858765, 5.8878350257873535, 13.472274780273438, 15.463092803955078, 45.4613151550293, 5.736991882324219, 9.68807601928711, 140.8950653076172, 19.56269073486328, 14.94179630279541, 8.703109741210938, 11.967368125915527, 20.89786148071289, 18.295398712158203, 15.488227844238281, 14.315364837646484, 14.0769624710083, 14.0040283203125, 13.308448791503906, 12.895264625549316, 12.159039497375488, 11.456578254699707, 10.61550235748291, 10.42719554901123, 10.333044052124023, 10.479924201965332, 9.329852104187012, 9.287528038024902, 9.11014461517334, 9.11014461517334, 9.11014461517334, 8.742576599121094, 8.591972351074219, 7.72367525100708, 7.688599109649658, 7.688599109649658, 7.570259094238281, 7.348344802856445, 7.0094194412231445, 6.879561901092529, 6.863881587982178, 21.133329391479492, 56.3869514465332, 20.0085391998291, 165.22898864746094, 47.32262420654297, 554.1580200195312, 77.98983001708984, 521.7966918945312, 29.289602279663086, 147.46395874023438, 256.1035461425781, 51.468597412109375, 954.1201782226562, 24.121671676635742, 38.62698745727539, 26.983829498291016, 1503.12939453125, 35.40354919433594, 71.79645538330078, 880.8325805664062, 346.4091796875, 96.43646240234375, 81.63377380371094, 59.485374450683594, 278.5059509277344, 212.44525146484375, 59.355072021484375, 36.5838623046875, 32.83399963378906, 32.32761001586914, 27.522598266601562, 26.547008514404297, 24.8570613861084, 20.5303955078125, 14.821377754211426, 13.892085075378418, 13.246012687683105, 12.773164749145508, 12.625956535339355, 11.554457664489746, 11.256802558898926, 10.41984748840332, 9.502519607543945, 9.493476867675781, 9.49347972869873, 9.359088897705078, 9.318033218383789, 9.11695671081543, 8.703255653381348, 8.614075660705566, 8.59454345703125, 8.33707046508789, 7.98740291595459, 7.730151653289795, 7.725632190704346, 7.432498455047607, 24.293989181518555, 66.96160125732422, 17.06675910949707, 107.9599838256836, 29.917497634887695, 30.888872146606445, 74.10295867919922, 119.3626708984375, 1125.9505615234375, 26.166860580444336, 176.1646728515625, 33.125484466552734, 30.285118103027344, 19.01943588256836, 8.527522087097168, 8.08543872833252, 8.046257972717285, 8.033564567565918, 7.4962358474731445, 7.112185478210449, 6.699884414672852, 5.903037071228027, 5.583089351654053, 5.253145217895508, 5.251844882965088, 5.0957489013671875, 5.09059476852417, 5.029746055603027, 5.029746055603027, 4.881985187530518, 4.770580291748047, 4.685374736785889, 4.525949001312256, 3.978153944015503, 3.764726400375366, 3.7126145362854004, 3.59460186958313, 3.564288854598999, 3.4956302642822266, 3.37711763381958, 3.334575891494751, 3.274292469024658, 3.2551774978637695, 3.205627202987671, 11.356600761413574, 6.938084125518799, 10.235614776611328, 29.917497634887695, 113.5186996459961, 289.8927307128906, 11.988673210144043, 19.184104919433594, 15.163596153259277, 19.87842559814453, 89.15804290771484, 25.46952247619629, 21.44689178466797, 18.76513671875, 16.31734275817871, 8.229714393615723, 8.211201667785645, 7.550151824951172, 7.429829120635986, 5.2667555809021, 4.696281433105469, 4.685925483703613, 4.685925483703613, 4.685925483703613, 4.267353534698486, 4.094346523284912, 4.015489101409912, 4.015488624572754, 3.345050573348999, 3.345050573348999, 3.345050573348999, 3.345050573348999, 3.345050573348999, 3.3450510501861572, 3.218820095062256, 3.218820095062256, 3.218820095062256, 3.218820095062256, 3.218820095062256, 3.052708387374878, 2.958559036254883, 2.958559036254883, 7.048673629760742, 5.9864983558654785, 22.865243911743164, 10.388668060302734, 22.512636184692383, 35.733482360839844, 29.16008186340332, 17.180723190307617, 13.551705360412598, 13.471722602844238, 13.135953903198242, 11.795466423034668, 11.449341773986816, 10.775213241577148, 9.765315055847168, 9.09377670288086, 8.256942749023438, 8.078701972961426, 6.056318283081055, 6.056318283081055, 6.056318283081055, 6.056318283081055, 6.0563178062438965, 5.725727081298828, 5.384779453277588, 5.382190227508545, 5.382190227508545, 5.219483852386475, 4.713241100311279, 4.710651874542236, 4.708062171936035, 4.708062171936035, 4.708062171936035, 4.708062171936035, 4.708050727844238, 9.254903793334961, 9.369685173034668, 26.346895217895508, 22.865243911743164, 28.897968292236328, 19.06159019470215, 14.396787643432617, 10.06295394897461, 6.882264137268066, 6.005568981170654, 5.262868404388428, 5.262868404388428, 5.262868881225586, 5.012165069580078, 4.6630167961120605, 4.584819793701172, 4.112975597381592, 3.7417116165161133, 3.5781118869781494, 3.5380301475524902, 3.325200080871582, 3.030780076980591, 2.963083028793335, 2.8875951766967773, 2.8751442432403564, 2.8577723503112793, 2.4260103702545166, 2.4260103702545166, 2.4260103702545166, 2.4260103702545166, 2.4260103702545166, 2.392030954360962, 2.3184916973114014, 2.244952440261841, 6.907436847686768, 41.770538330078125, 5.320291996002197, 31.401880264282227, 8.63001537322998, 2.9175403118133545, 2.567314624786377, 2.485581636428833, 1.6665252447128296, 1.6653119325637817, 1.6471506357192993, 1.5816210508346558, 1.5367823839187622, 1.4756232500076294, 1.4435864686965942, 1.4060251712799072, 1.392975091934204, 5.979095458984375, 1.364153265953064, 1.3010932207107544, 1.2978240251541138, 1.278361201286316, 4.288464546203613, 1.125194787979126, 1.125194787979126, 1.125194787979126, 1.125194787979126, 1.0137248039245605, 1.0137248039245605, 1.0137248039245605, 1.0137248039245605, 1.0137248039245605, 1.0137248039245605, 1.0137248039245605, 1.0137248039245605, 1.0137248039245605, 1.0137248039245605, 1.0137248039245605, 5.555958271026611, 1.0137248039245605, 1.0137248039245605, 57.30708312988281, 7.61894416809082, 39.630558013916016, 668.1569213867188, 630.6050415039062, 585.5963134765625, 316.5245361328125, 238.42955017089844, 196.3564910888672, 185.22682189941406, 177.5219268798828, 152.31048583984375, 146.673828125, 144.58160400390625, 136.17120361328125, 132.17926025390625, 131.20594787597656, 130.60440063476562, 126.41839599609375, 126.3672103881836, 125.24176788330078, 125.1830062866211, 122.43309020996094, 112.70594024658203, 111.45085144042969, 107.56542205810547, 107.46764373779297, 104.46514129638672, 102.952392578125, 102.29483795166016, 89.16767883300781, 86.67647552490234, 84.95356750488281, 291.105224609375, 237.10885620117188, 184.5293426513672, 856.1784057617188, 512.91455078125, 411.8464050292969, 258.3506774902344, 136.64828491210938, 211.25328063964844, 400.5135498046875, 394.0076904296875, 1856.1275634765625, 271.9759521484375, 252.87022399902344, 405.423095703125, 513.909912109375, 221.53762817382812, 1514.885986328125, 172.50924682617188, 293.6302185058594, 1194.8013916015625, 513.6456298828125, 893.81103515625, 943.127685546875, 863.3373413085938, 397.0251159667969, 494.46942138671875, 639.9992065429688, 609.3810424804688, 392.3351135253906, 381.0749816894531, 765.3477172851562, 851.0594482421875, 867.3929443359375, 624.523193359375, 3478.552001953125, 502.6955261230469, 752.6799926757812, 732.6340942382812, 645.6928100585938, 223.3339080810547, 215.45701599121094, 100.12942504882812, 85.78846740722656, 74.54035949707031, 66.24636840820312, 58.285552978515625, 55.135955810546875, 45.23661422729492, 45.004459381103516, 40.64476013183594, 51.496402740478516, 39.441810607910156, 38.320098876953125, 98.8042984008789, 33.59039306640625, 33.57353210449219, 31.31183433532715, 28.722900390625, 27.852493286132812, 27.073034286499023, 26.817628860473633, 26.739023208618164, 26.54593849182129, 26.440776824951172, 26.247615814208984, 26.21430778503418, 25.551321029663086, 24.969560623168945, 24.654972076416016, 294.6812744140625, 79.0684585571289, 92.35912322998047, 58.619911193847656, 72.0927734375, 123.36659240722656, 494.59222412109375, 73.90401458740234, 317.8193664550781, 50.57975387573242, 282.7812194824219, 91.6091079711914, 53.38477325439453, 162.2414093017578, 171.77732849121094, 129.73472595214844, 330.611572265625, 115.67262268066406, 3478.552001953125, 172.14422607421875, 1194.8013916015625, 1062.004638671875, 939.325927734375, 740.5294189453125, 1436.6602783203125, 867.9571533203125, 1784.7257080078125, 1514.885986328125, 659.8251342773438, 2035.62744140625, 1191.5224609375, 943.127685546875, 582.776123046875, 1939.3653564453125, 639.9992065429688, 682.910888671875, 1856.1275634765625, 333.25860595703125, 3299.689697265625, 1503.12939453125, 690.9752807617188, 109.34321594238281, 107.33147430419922, 50.564979553222656, 47.26190948486328, 44.06090545654297, 44.40279769897461, 515.4756469726562, 35.53887939453125, 34.59507751464844, 28.43003273010254, 26.258241653442383, 25.36347770690918, 35.72067642211914, 23.17103385925293, 21.976177215576172, 22.97263526916504, 20.913061141967773, 20.42852020263672, 18.623201370239258, 17.38585662841797, 17.386030197143555, 16.483802795410156, 16.483802795410156, 75.20480346679688, 14.655593872070312, 13.701208114624023, 13.507160186767578, 12.865503311157227, 12.595527648925781, 794.4174194335938, 29.665729522705078, 84.79373931884766, 635.9002685546875, 91.9543228149414, 97.05293273925781, 478.9134216308594, 40.611114501953125, 49.82804870605469, 494.8746337890625, 101.79503631591797, 1001.686767578125, 171.5616912841797, 92.21412658691406, 42.81560516357422, 819.5665283203125, 84.27825164794922, 55.678585052490234, 148.9359130859375, 429.5156555175781, 409.1131896972656, 475.3857727050781, 409.1907958984375, 141.81683349609375, 270.19024658203125, 138.5465545654297, 120.12338256835938, 100.8883056640625, 93.63357543945312, 85.93333435058594, 85.21737670898438, 80.7735824584961, 78.10494232177734, 74.94243621826172, 95.31361389160156, 69.16712188720703, 65.7351303100586, 65.16876220703125, 62.470890045166016, 60.1909294128418, 58.912166595458984, 58.18901824951172, 54.4578971862793, 53.909584045410156, 52.93155288696289, 51.42582702636719, 49.0515022277832, 48.556663513183594, 46.89228820800781, 46.7346076965332, 46.18854904174805, 45.90833282470703, 45.80741882324219, 45.36115264892578, 44.35026931762695, 45.4498405456543, 118.90753173828125, 157.0776824951172, 61.50230407714844, 248.80270385742188, 129.0548553466797, 78.17218017578125, 235.13706970214844, 66.58126068115234, 197.36654663085938, 278.7374572753906, 97.64576721191406, 179.65048217773438, 159.887939453125, 152.42935180664062, 104.43277740478516, 270.19024658203125, 137.08926391601562, 143.52175903320312, 170.41311645507812, 1002.6264038085938, 776.8267822265625, 272.70233154296875, 287.2938537597656, 199.78982543945312, 313.29412841796875, 554.1580200195312, 712.2991943359375, 884.343505859375, 1939.3653564453125, 362.4067687988281, 1503.12939453125, 819.5665283203125, 521.7966918945312, 263.3829650878906, 975.3545532226562, 1784.7257080078125, 556.8292846679688, 536.9447631835938, 3299.689697265625, 366.9365539550781, 1001.686767578125, 880.8325805664062, 107.9488296508789, 74.70671081542969, 71.53507232666016, 71.25505065917969, 68.38269805908203, 50.86672592163086, 48.62739944458008, 47.737945556640625, 46.61247253417969, 43.55186080932617, 43.169071197509766, 42.78899383544922, 42.07173538208008, 39.94865036010742, 37.39406967163086, 36.03570556640625, 35.75667953491211, 35.65184020996094, 35.35094451904297, 34.667789459228516, 33.69541549682617, 33.50703811645508, 38.57115173339844, 32.5776481628418, 31.67666244506836, 31.58148765563965, 31.323091506958008, 31.08152961730957, 30.27352523803711, 31.80931854248047, 234.45733642578125, 42.475685119628906, 55.82655715942383, 1819.576171875, 166.8258056640625, 69.36003875732422, 67.2259521484375, 68.77519226074219, 211.44203186035156, 130.28578186035156, 102.49185180664062, 193.03700256347656, 275.1622619628906, 125.6941146850586, 460.7676696777344, 414.6343078613281, 149.56741333007812, 867.9571533203125, 149.24769592285156, 473.3710632324219, 233.92251586914062, 229.34268188476562, 576.6282348632812, 457.4881286621094, 166.4119415283203, 438.4998779296875, 309.3370361328125, 1939.3653564453125, 300.08233642578125, 547.6286010742188, 334.0140380859375, 1125.9505615234375, 546.2937622070312, 531.723388671875, 303.5230407714844, 1152.59521484375, 416.3506164550781, 3299.689697265625, 453.75897216796875, 1191.5224609375, 619.2036743164062, 1784.7257080078125, 870.552490234375, 612.36865234375, 1001.686767578125, 3478.552001953125, 475.3857727050781, 1062.004638671875, 1.737403154373169, 1.5905365943908691, 1.4384618997573853, 1.0628888607025146, 1.0628888607025146, 1.0161224603652954, 1.0161224603652954, 0.9901949763298035, 2.0855376720428467, 0.9102196097373962, 59.98944854736328, 0.7081548571586609, 0.7081548571586609, 0.7081549167633057, 0.7081548571586609, 0.7081548571586609, 0.6632968783378601, 0.71942138671875, 0.71942138671875, 0.71942138671875, 0.71942138671875, 0.7195954918861389, 0.7218354344367981, 0.7218354344367981, 0.7218354344367981, 0.7218354344367981, 0.7218354344367981, 0.7218354344367981, 0.7218354344367981, 0.7218354344367981, 0.7218354344367981, 4.287928104400635, 5.554144382476807, 3.092372417449951, 1.0123412609100342, 3.552518367767334, 53.509185791015625, 29.98398208618164, 6.188545227050781, 3.206923246383667, 1.2680474519729614, 51.48712158203125, 1.7104299068450928, 3.552518367767334, 18.21634292602539, 17.355159759521484, 16.11777114868164, 14.056528091430664, 13.623666763305664, 12.229345321655273, 11.846540451049805, 11.357267379760742, 11.288464546203613, 10.73857307434082, 10.025068283081055, 9.732107162475586, 9.439820289611816, 43.003536224365234, 8.342753410339355, 7.762174129486084, 7.671072959899902, 7.465709686279297, 7.416693687438965, 7.416693687438965, 7.14348030090332, 7.112297058105469, 6.938321590423584, 6.877410888671875, 6.524787902832031, 6.225104808807373, 6.185484409332275, 5.666534423828125, 5.469306945800781, 5.4012532234191895, 25.784128189086914, 797.2006225585938, 102.33746337890625, 381.0749816894531, 57.911964416503906, 102.66693878173828, 659.8251342773438, 27.1934757232666, 867.3929443359375, 25.990245819091797, 374.9375915527344, 257.98858642578125, 322.0313720703125, 1436.6602783203125, 411.2809753417969, 164.60382080078125, 130.2413330078125, 134.07406616210938, 50.1219482421875, 39.34786605834961, 20.7343807220459, 17.700387954711914, 15.997127532958984, 14.711921691894531, 13.556380271911621, 12.381649017333984, 12.336353302001953, 11.5972261428833, 11.484834671020508, 10.682989120483398, 10.669256210327148, 10.36478328704834, 10.313024520874023, 10.166915893554688, 10.076557159423828, 9.987767219543457, 9.83846664428711, 9.308554649353027, 9.239121437072754, 9.171246528625488, 8.938193321228027, 8.65319538116455, 8.4480619430542, 8.428086280822754, 8.317167282104492, 8.152059555053711, 7.909536361694336, 7.822635650634766, 28.078392028808594, 62.19429397583008, 88.76246643066406, 19.331682205200195, 15.90725040435791, 34.36366271972656, 51.764381408691406, 164.60382080078125, 15.503178596496582, 181.87074279785156, 66.56200408935547, 39.74370193481445, 56.96109390258789, 75.23652648925781, 24.735370635986328, 14.777692794799805, 14.66668701171875, 437.4547119140625, 263.3829650878906, 253.9095458984375, 34.317630767822266, 200.68048095703125, 99.36170196533203, 199.78982543945312, 225.62997436523438, 68.05093383789062, 101.92157745361328, 7.3427348136901855, 7.1558613777160645, 7.1558613777160645, 7.1558613777160645, 7.1558613777160645, 7.1558613777160645, 7.041855812072754, 5.456570625305176, 5.053398132324219, 4.729235649108887, 4.729235649108887, 4.591996669769287, 4.010868549346924, 3.9095749855041504, 3.9095749855041504, 3.9095749855041504, 3.9095749855041504, 3.9095749855041504, 3.9095749855041504, 3.9095749855041504, 3.9095749855041504, 3.9095749855041504, 3.9095749855041504, 3.9095749855041504, 3.9095749855041504, 3.574913501739502, 7.147280216217041, 3.168233633041382, 3.1322219371795654, 2.797560453414917, 6.429904937744141, 12.62594223022461, 24.87863540649414, 143.9712677001953, 55.4077033996582, 27.297582626342773, 20.79917335510254, 19.540681838989258, 15.765202522277832, 14.506710052490234, 14.506710052490234, 12.61897087097168, 10.731232643127441, 10.1019868850708, 9.960887908935547, 9.472739219665527, 8.843494415283203, 8.843494415283203, 7.5850019454956055, 7.585003852844238, 6.955756187438965, 6.955756187438965, 6.326510429382324, 6.326511383056641, 6.326511383056641, 6.326511383056641, 5.697264671325684, 5.697264671325684, 5.068018913269043, 5.068018913269043, 5.068018913269043, 5.068018913269043, 4.438772201538086, 4.438772201538086, 4.438772201538086, 4.438772201538086, 4.438772678375244, 6.357232570648193, 10.388668060302734, 22.76919174194336, 13.132684707641602, 12.779333114624023, 12.779333114624023, 11.665933609008789, 10.989534378051758, 10.55611801147461, 9.02000617980957, 8.589094161987305, 8.35992431640625, 7.379082679748535, 7.206015110015869, 7.201187610626221, 6.814391136169434, 6.035025596618652, 5.980466365814209, 7.986851215362549, 5.220637321472168, 5.074472427368164, 5.074472427368164, 5.060886859893799, 5.0251359939575195, 4.91207218170166, 4.701974391937256, 4.701974391937256, 4.701974391937256, 4.701974391937256, 4.701974391937256, 4.626194477081299, 4.613879203796387, 58.31401062011719, 303.3709411621094, 13.083782196044922, 13.472274780273438, 78.58636474609375, 204.9736328125, 188.23086547851562, 19.88001251220703, 28.288026809692383, 205.1158905029297, 73.15301513671875, 34.7554817199707, 94.12480163574219, 293.7901306152344, 9.882503509521484, 8.355544090270996, 7.386898517608643, 6.358191967010498, 6.306885719299316, 5.714433193206787, 5.652083873748779, 5.2712788581848145, 5.268999099731445, 5.193592071533203, 5.086893558502197, 4.273480415344238, 4.219099521636963, 4.061778545379639, 3.902217388153076, 3.6763861179351807, 3.641718864440918, 3.5831573009490967, 3.5592823028564453, 3.249023199081421, 3.189969301223755, 3.103053569793701, 3.052565813064575, 3.0025172233581543, 2.935666561126709, 2.923114061355591, 2.907804489135742, 2.642637014389038, 2.52972149848938, 2.522066593170166, 10.148838996887207, 8.654666900634766, 56.74190139770508, 430.4932556152344, 238.34597778320312, 234.15403747558594, 233.15567016601562, 226.6407012939453, 179.3141326904297, 144.43121337890625, 136.16009521484375, 131.08189392089844, 126.72423553466797, 107.36742401123047, 99.57041931152344, 98.10753631591797, 87.35781860351562, 87.28742218017578, 83.16914367675781, 76.34817504882812, 72.50507354736328, 71.35396575927734, 70.57064056396484, 67.90443420410156, 62.46113586425781, 62.43400192260742, 61.960182189941406, 61.399131774902344, 61.067134857177734, 148.824951171875, 60.165069580078125, 72.8034896850586, 54.16389846801758, 210.29627990722656, 111.11125183105469, 1542.0350341796875, 121.13970184326172, 81.53414916992188, 165.1179656982422, 862.57373046875, 314.9529724121094, 324.7051086425781, 1281.5167236328125, 133.4608612060547, 361.56768798828125, 209.97239685058594, 166.3701171875, 2035.62744140625, 218.91099548339844, 305.87335205078125, 668.6432495117188, 559.2051391601562, 453.31390380859375, 901.9083862304688, 308.20001220703125, 305.5816650390625, 385.0667419433594, 403.5020751953125, 515.0592041015625, 822.480712890625, 870.552490234375, 3299.689697265625, 384.70001220703125, 489.86724853515625, 3478.552001953125, 1339.1363525390625, 1152.59521484375, 1503.12939453125, 582.776123046875, 1436.6602783203125, 819.5665283203125, 880.8325805664062, 494.19171142578125, 505.00164794921875, 975.3545532226562, 712.2991943359375, 1001.686767578125, 867.3929443359375, 1784.7257080078125, 38.48434066772461, 33.76439666748047, 23.420455932617188, 20.94108009338379, 19.492666244506836, 14.869592666625977, 14.7686185836792, 12.719598770141602, 12.250600814819336, 12.070266723632812, 11.52639389038086, 10.8021879196167, 10.181093215942383, 10.140827178955078, 9.73701286315918, 9.649235725402832, 9.456886291503906, 9.35377311706543, 9.35377311706543, 9.292634963989258, 8.465314865112305, 8.385663986206055, 8.008474349975586, 7.9832048416137695, 7.905362129211426, 7.905362129211426, 7.905362129211426, 7.905362129211426, 7.7242937088012695, 7.560040473937988, 16.036558151245117, 13.633639335632324, 19.817792892456055, 90.33968353271484, 46.71650314331055, 301.9122009277344, 25.622486114501953, 39.129310607910156, 23.67828941345215, 12.7371826171875, 7.690108776092529, 5.656147480010986, 4.916584014892578, 4.876987457275391, 3.7919671535491943, 3.474022150039673, 3.3549697399139404, 3.005567789077759, 3.0031721591949463, 3.003171682357788, 2.8801767826080322, 2.798915147781372, 2.798915147781372, 2.6924664974212646, 2.655599355697632, 2.52837872505188, 2.5205671787261963, 2.4513423442840576, 2.3793652057647705, 2.3793652057647705, 2.3038012981414795, 2.2240121364593506, 2.1751081943511963, 2.107356071472168, 2.107356309890747, 2.0781314373016357, 2.068659543991089, 2.068659543991089, 5.512948036193848, 8.52077865600586, 10.397562026977539, 8.169071197509766, 157.8339080810547, 103.0862808227539, 74.10041809082031, 50.40901184082031, 49.79058837890625, 43.288360595703125, 41.0175895690918, 40.319881439208984, 38.82399368286133, 38.81379318237305, 37.640281677246094, 34.68196105957031, 33.38701629638672, 33.155277252197266, 30.333709716796875, 30.044322967529297, 29.386274337768555, 29.020639419555664, 26.500761032104492, 26.26645851135254, 24.840354919433594, 24.37830924987793, 23.736494064331055, 22.559986114501953, 22.216218948364258, 22.005903244018555, 21.677812576293945, 21.324098587036133, 21.139822006225586, 20.908456802368164, 282.1993103027344, 456.9407958984375, 57.81023406982422, 243.29107666015625, 347.7949523925781, 51.122379302978516, 366.1142578125, 56.31455993652344, 320.79400634765625, 70.35293579101562, 682.910888671875, 174.5806884765625, 384.5739440917969, 1443.048828125, 1191.5224609375, 238.45108032226562, 183.4183349609375, 240.12899780273438, 451.48919677734375, 1146.17138671875, 138.5789794921875, 76.97953033447266, 79.23448944091797, 129.5249481201172, 293.5679016113281, 1939.3653564453125, 624.523193359375, 131.4659423828125, 233.92251586914062, 473.3710632324219, 374.9375915527344, 576.6282348632812, 1819.576171875, 375.18890380859375, 797.2006225585938, 893.81103515625, 1784.7257080078125, 7.136592388153076, 3.232438087463379, 2.8771729469299316, 2.8210532665252686, 2.0332484245300293, 1.8380513191223145, 1.6031005382537842, 1.3681496381759644, 1.3681496381759644, 1.3681496381759644, 1.3681496381759644, 1.3518762588500977, 1.321824550628662, 1.1331987380981445, 1.1331987380981445, 1.133198857307434, 0.9543721675872803, 0.9519846439361572, 13.2738676071167, 0.9080471992492676, 0.8982477188110352, 0.8982477188110352, 0.8982477188110352, 0.8982477188110352, 0.8982477188110352, 0.8982477188110352, 0.8982477188110352, 0.8982477188110352, 0.8982477188110352, 0.8982477188110352, 0.8982477188110352, 3.1740622520446777, 0.8982477188110352, 0.8982477188110352, 0.8982477188110352, 0.8982477188110352, 0.8982477188110352, 0.8982477188110352, 0.8982477188110352, 0.8982477188110352, 0.8982477188110352, 0.8982477188110352, 0.8982477188110352, 0.8982477188110352, 0.8982477188110352, 0.8982477188110352, 4.261444091796875, 3.5418145656585693, 2.8221852779388428, 2.102555751800537, 2.102555751800537, 2.102555751800537, 2.073744773864746, 1.7603117227554321, 1.6035953760147095, 1.6035953760147095, 1.5596879720687866, 1.5396429300308228, 1.5006142854690552, 1.457804560661316, 1.4468790292739868, 1.4468790292739868, 1.4468790292739868, 1.3829265832901, 1.3829265832901, 1.3829265832901, 1.3829265832901, 1.3829265832901, 1.3829265832901, 1.3829265832901, 1.3829265832901, 1.3829265832901, 1.3829265832901, 1.1334463357925415, 0.976729691028595, 0.976729691028595, 0.976729691028595, 38.87865447998047, 0.976729691028595, 102.35971069335938, 34.26197814941406, 28.593259811401367, 17.462644577026367, 13.295190811157227, 10.480149269104004, 7.645785808563232, 7.645785808563232, 7.226493835449219, 6.929431438446045, 5.77587366104126, 5.611853122711182, 5.439368724822998, 4.806678295135498, 4.307873249053955, 3.8608992099761963, 3.7518131732940674, 3.643103837966919, 3.6237728595733643, 3.6135897636413574, 3.555391311645508, 3.5326504707336426, 3.4976611137390137, 3.4201347827911377, 3.273092269897461, 2.9907937049865723, 2.9907937049865723, 2.9907937049865723, 2.9907937049865723, 2.9907937049865723, 2.9907937049865723, 2.9907937049865723, 2.9907937049865723, 7.550772190093994, 61.57619094848633, 324.02734375, 4.701591491699219, 4.337830543518066, 7.6015777587890625, 92.201904296875, 60.06224060058594, 40.998573303222656, 38.71023178100586, 36.297054290771484, 39.243194580078125, 32.90936279296875, 31.195758819580078, 30.80278205871582, 30.409103393554688, 28.49882698059082, 26.981124877929688, 26.974287033081055, 26.695903778076172, 26.66891098022461, 26.66891098022461, 26.53439712524414, 25.824941635131836, 25.824941635131836, 25.824941635131836, 25.824941635131836, 25.658309936523438, 25.500553131103516, 24.713998794555664, 24.593021392822266, 24.57310676574707, 24.09499168395996, 23.76673126220703, 22.72861099243164, 22.24830436706543, 43.78231430053711, 47.411033630371094, 39.70301055908203, 1146.17138671875, 1443.048828125, 50.22037124633789, 27.541152954101562, 354.3992919921875, 374.9375915527344, 291.8763427734375, 34.403629302978516, 115.6968994140625, 102.20751953125, 303.3709411621094, 189.54798889160156, 143.2732391357422, 3299.689697265625, 238.45108032226562, 370.9169616699219, 65.55496978759766, 139.8932647705078, 105.12290954589844, 92.97061920166016, 1125.9505615234375, 82.66864013671875, 1062.004638671875, 457.5645446777344, 166.6365203857422, 520.9310913085938, 239.02120971679688, 494.19171142578125, 561.0921630859375, 797.2006225585938, 478.9134216308594, 265.4771728515625, 240.10626220703125, 1339.1363525390625, 884.343505859375, 272.70233154296875, 1503.12939453125, 107.0759048461914, 106.2140884399414, 75.16328430175781, 52.02716064453125, 51.7193603515625, 50.91571044921875, 49.94607925415039, 41.681819915771484, 41.35712432861328, 39.49726104736328, 39.175907135009766, 38.65922164916992, 38.57936477661133, 38.172550201416016, 37.547889709472656, 35.62956237792969, 35.293418884277344, 34.294776916503906, 33.46295928955078, 33.179317474365234, 32.14884948730469, 30.834732055664062, 30.169801712036133, 29.397005081176758, 48.52705383300781, 28.66614532470703, 26.242536544799805, 25.519813537597656, 24.2751522064209, 23.825151443481445, 105.78791809082031, 65.86608123779297, 72.66932678222656, 242.0158233642578, 178.8255157470703, 100.0121841430664, 116.9126205444336, 166.2071075439453, 191.3340301513672, 437.4547119140625, 61.26656723022461, 97.92752838134766, 251.73277282714844, 121.87959289550781, 130.4248809814453, 765.3477172851562, 56.98599624633789, 1002.6264038085938, 102.16045379638672, 645.6928100585938, 3299.689697265625, 209.0363311767578, 521.7966918945312, 377.866943359375, 893.81103515625, 423.9296569824219, 238.2585906982422, 160.99659729003906, 1856.1275634765625, 451.48919677734375, 1784.7257080078125, 1339.1363525390625, 1125.9505615234375, 426.9623718261719, 813.030029296875, 682.910888671875, 248.9010009765625, 46.814910888671875, 43.325523376464844, 37.15169143676758, 33.60157012939453, 33.212913513183594, 25.51416015625, 19.02605438232422, 17.330232620239258, 16.17341423034668, 16.17341423034668, 15.913805961608887, 15.518855094909668, 15.284756660461426, 14.967991828918457, 14.863791465759277, 14.439460754394531, 12.266124725341797, 12.07181167602539, 12.050697326660156, 10.662592887878418, 10.612951278686523, 10.091580390930176, 9.622289657592773, 9.401266098022461, 44.210628509521484, 9.098268508911133, 9.010043144226074, 8.946916580200195, 8.946916580200195, 8.946916580200195, 8.946916580200195, 29.15739631652832, 31.35759925842285, 23.112030029296875, 14.23169994354248, 20.515247344970703, 32.431400299072266, 43.09736251831055, 237.18836975097656, 21.212482452392578, 423.9296569824219, 1436.6602783203125, 45.5604248046875, 85.39932250976562, 147.72088623046875, 258.3506774902344, 372.044921875, 893.81103515625, 1856.1275634765625, 397.0251159667969, 172.14466857910156, 200.68048095703125, 32.264217376708984, 24.839052200317383, 23.557382583618164, 21.417631149291992, 16.485980987548828, 16.485979080200195, 15.248757362365723, 13.527153968811035, 13.527154922485352, 13.304030418395996, 12.3316650390625, 11.624159812927246, 11.465889930725098, 11.005549430847168, 10.298042297363281, 10.033184051513672, 9.414572715759277, 9.370124816894531, 9.325677871704102, 9.172383308410645, 9.060820579528809, 9.016371726989746, 8.733383178710938, 8.553771018981934, 8.553771018981934, 8.442208290100098, 8.392788887023926, 8.353313446044922, 8.308867454528809, 8.1097993850708, 39.033447265625, 44.636756896972656, 56.220855712890625, 90.8553695678711, 53.59611511230469, 48.42990493774414, 56.94944381713867, 58.39045715332031, 366.9365539550781, 60.49015808105469, 20.44487190246582, 28.232580184936523, 351.561279296875, 95.1886215209961, 301.9122009277344, 83.01044464111328, 144.61065673828125, 81.7850112915039, 27.051240921020508, 287.2938537597656, 170.41311645507812, 880.8325805664062, 85.4135971069336, 543.6407470703125, 128.94451904296875, 242.98513793945312, 161.4664764404297, 1002.6264038085938, 863.3373413085938, 500.34637451171875, 163.44668579101562, 54.89459991455078, 40.779605865478516, 33.35065841674805, 28.150394439697266, 27.40749740600586, 27.239009857177734, 24.541690826416016, 20.721446990966797, 19.97855567932129, 19.552980422973633, 19.552980422973633, 19.313512802124023, 19.23566246032715, 18.492761611938477, 17.7498722076416, 17.7498722076416, 181.2532196044922, 16.51042366027832, 15.521184921264648, 15.521184921264648, 15.521184921264648, 15.521184921264648, 14.493289947509766, 14.035398483276367, 14.035398483276367, 14.035398483276367, 14.035398483276367, 14.035398483276367, 13.292503356933594, 13.292503356933594, 13.292503356933594, 13.292503356933594, 17.731002807617188, 18.70880889892578, 245.95947265625, 732.6340942382812, 3299.689697265625, 0.7195954918861389, 0.6632968783378601, 0.7081548571586609, 0.7081548571586609, 0.7081549167633057, 0.7081548571586609, 0.7081548571586609, 0.71942138671875, 0.71942138671875, 0.71942138671875, 0.71942138671875, 0.7218354344367981, 0.7218354344367981, 0.7218354344367981, 0.7218354344367981, 0.7218354344367981, 0.7218354344367981, 0.7218354344367981, 0.7218354344367981, 0.7218354344367981, 0.774766743183136, 0.774766743183136, 0.774766743183136, 0.774766743183136, 0.774766743183136, 0.774766743183136, 0.774766743183136, 0.774766743183136, 0.774766743183136, 0.774766743183136, 0.774766743183136, 0.774766743183136, 0.774766743183136, 0.774766743183136, 0.774766743183136, 0.774766743183136, 1.8297739028930664, 1.0123412609100342, 6.188545227050781, 3.206923246383667, 1.2680474519729614, 51.48712158203125, 1.7104299068450928, 3.552518367767334, 2.1096322536468506, 1.2031171321868896, 6.493183135986328, 1.2031171321868896, 2.9191412925720215, 0.8432368636131287, 5.554144382476807, 1.0231770277023315, 1.0123413801193237, 0.8432368636131287, 3.370495080947876, 1.0123413801193237, 1.0123413801193237, 3.5559675693511963, 8.194853782653809, 5.39589262008667, 3.206923246383667, 9.220532417297363, 3.092372417449951, 3.552518367767334], \"loglift\": [30.0, 29.0, 28.0, 27.0, 26.0, 25.0, 24.0, 23.0, 22.0, 21.0, 20.0, 19.0, 18.0, 17.0, 16.0, 15.0, 14.0, 13.0, 12.0, 11.0, 10.0, 9.0, 8.0, 7.0, 6.0, 5.0, 4.0, 3.0, 2.0, 1.0, 6.515500068664551, 6.466100215911865, 6.428800106048584, 6.419000148773193, 6.4131999015808105, 6.398499965667725, 6.385900020599365, 6.385900020599365, 6.383900165557861, 6.378200054168701, 6.372700214385986, 6.367199897766113, 6.367199897766113, 6.356599807739258, 6.356599807739258, 6.345900058746338, 6.3379998207092285, 6.324699878692627, 6.316400051116943, 6.313899993896484, 6.288099765777588, 6.2621002197265625, 6.248600006103516, 6.243599891662598, 6.242199897766113, 6.227399826049805, 6.22130012512207, 6.21560001373291, 6.1971001625061035, 6.177299976348877, 5.820099830627441, 5.618599891662598, 5.10890007019043, 5.504899978637695, 1.7920000553131104, 6.960100173950195, 6.9319000244140625, 6.8744001388549805, 6.861499786376953, 6.8404998779296875, 6.810200214385986, 6.802299976348877, 6.7846999168396, 6.741300106048584, 6.7399001121521, 6.704100131988525, 6.696400165557861, 6.657299995422363, 6.656700134277344, 6.604300022125244, 6.598999977111816, 6.572199821472168, 6.541900157928467, 6.530399799346924, 6.51800012588501, 6.51800012588501, 6.51800012588501, 6.51800012588501, 6.486499786376953, 6.464399814605713, 6.450500011444092, 6.444900035858154, 6.4156999588012695, 6.38700008392334, 6.335000038146973, 6.245800018310547, 4.44789981842041, 4.789299964904785, 3.976900100708008, 3.973900079727173, 3.973400115966797, 3.9709999561309814, 3.9704999923706055, 3.9697999954223633, 3.9593000411987305, 3.956899881362915, 3.9547998905181885, 3.953000068664551, 3.952500104904175, 3.95169997215271, 3.9516000747680664, 3.9498000144958496, 3.948699951171875, 3.948199987411499, 3.9481000900268555, 3.947700023651123, 3.9470999240875244, 3.9465999603271484, 3.9465999603271484, 3.945499897003174, 3.945499897003174, 3.9433999061584473, 3.9430999755859375, 3.9430999755859375, 3.9428000450134277, 3.9426000118255615, 3.9421000480651855, 3.940999984741211, 3.8987998962402344, 3.9138998985290527, 3.8970999717712402, 3.825900077819824, 3.8833000659942627, 3.691699981689453, 3.3052000999450684, 3.7792999744415283, 3.2137999534606934, 3.440500020980835, 3.644200086593628, 2.724100112915039, 3.316699981689453, 2.3287999629974365, 3.352299928665161, 3.5659000873565674, 2.956899881362915, 2.5355000495910645, 3.179500102996826, 3.005199909210205, 3.1164000034332275, 3.1714999675750732, 1.6222000122070312, 2.539400100708008, 2.5806000232696533, 2.9419000148773193, 2.557300090789795, 2.5529000759124756, 1.3756999969482422, 2.5355000495910645, 0.8564000129699707, 1.8179999589920044, 1.280900001525879, 5.816100120544434, 5.797999858856201, 5.795499801635742, 5.791500091552734, 5.774400234222412, 5.769400119781494, 5.765200138092041, 5.763700008392334, 5.759500026702881, 5.752399921417236, 5.744200229644775, 5.734300136566162, 5.734300136566162, 5.734300136566162, 5.734300136566162, 5.710400104522705, 5.695300102233887, 5.690899848937988, 5.685699939727783, 5.675600051879883, 5.671999931335449, 5.670499801635742, 5.6666998863220215, 5.6666998863220215, 5.662499904632568, 5.661200046539307, 5.653600215911865, 5.653600215911865, 5.653600215911865, 5.653600215911865, 5.653600215911865, 5.653600215911865, 5.653600215911865, 5.653600215911865, 5.653600215911865, 5.653600215911865, 5.653600215911865, 5.653600215911865, 5.653600215911865, 5.653600215911865, 5.653600215911865, 5.4415998458862305, 5.653600215911865, 5.653600215911865, 5.142300128936768, 4.991499900817871, 5.653600215911865, 5.11299991607666, 4.08050012588501, 4.133500099182129, 4.534299850463867, 3.311000108718872, 4.018799781799316, 4.438499927520752, 3.336899995803833, 4.606200218200684, 4.146900177001953, 2.5885000228881836, 2.5506999492645264, 7.608399868011475, 7.563899993896484, 7.456500053405762, 7.378200054168701, 7.378200054168701, 7.378200054168701, 7.316699981689453, 7.175099849700928, 7.175099849700928, 7.175099849700928, 7.175099849700928, 7.175099849700928, 7.175099849700928, 7.175099849700928, 7.175099849700928, 7.175099849700928, 7.175099849700928, 7.175099849700928, 7.175099849700928, 7.175099849700928, 7.175099849700928, 7.175099849700928, 7.175099849700928, 7.175099849700928, 7.175099849700928, 7.175099849700928, 7.175099849700928, 7.175099849700928, 7.175099849700928, 7.145500183105469, 4.480599880218506, 6.4369001388549805, 6.43120002746582, 6.386499881744385, 6.377399921417236, 6.367199897766113, 6.362599849700928, 6.347300052642822, 6.328100204467773, 6.325699806213379, 6.320700168609619, 6.316699981689453, 6.311399936676025, 6.30649995803833, 6.268400192260742, 6.2677998542785645, 6.252299785614014, 6.249300003051758, 6.239500045776367, 6.237500190734863, 6.235799789428711, 6.235599994659424, 6.2083001136779785, 6.1992998123168945, 6.176799774169922, 6.175300121307373, 6.166100025177002, 6.1519999504089355, 6.150599956512451, 6.144800186157227, 6.136099815368652, 6.068999767303467, 5.951700210571289, 4.589200019836426, 5.689000129699707, 5.40880012512207, 5.563600063323975, 4.294400215148926, 4.6269001960754395, 4.138800144195557, 5.205599784851074, 4.966100215911865, 4.2677998542785645, 4.263199806213379, 4.261499881744385, 4.261199951171875, 4.25540018081665, 4.253799915313721, 4.248899936676025, 4.246600151062012, 4.243299961090088, 4.242499828338623, 4.239099979400635, 4.238699913024902, 4.237199783325195, 4.2368998527526855, 4.232800006866455, 4.232800006866455, 4.231200218200684, 4.230899810791016, 4.229000091552734, 4.22760009765625, 4.22730016708374, 4.226200103759766, 4.226200103759766, 4.225399971008301, 4.223999977111816, 4.223599910736084, 4.223199844360352, 4.220099925994873, 4.21999979019165, 4.219799995422363, 4.212800025939941, 3.9944000244140625, 4.0696001052856445, 4.113399982452393, 3.5023999214172363, 3.1802000999450684, 3.9598000049591064, 3.5492000579833984, 3.65310001373291, 3.2702999114990234, 3.019200086593628, 1.9387999773025513, 3.3313000202178955, 3.4047999382019043, 2.223599910736084, 2.3101000785827637, 3.4584999084472656, 1.964400053024292, 2.7028000354766846, 2.7328999042510986, 2.563499927520752, 1.6913000345230103, 2.246999979019165, 1.52839994430542, 1.7003999948501587, 1.9264999628067017, 1.7962000370025635, 6.93779993057251, 6.93779993057251, 6.875500202178955, 6.857600212097168, 6.853600025177002, 6.848700046539307, 6.810100078582764, 6.804800033569336, 6.794400215148926, 6.793399810791016, 6.778500080108643, 6.777400016784668, 6.754499912261963, 6.746399879455566, 6.73960018157959, 6.64870023727417, 6.634900093078613, 6.591700077056885, 6.58050012588501, 6.571700096130371, 6.570199966430664, 6.5366997718811035, 6.5152997970581055, 6.490600109100342, 6.476799964904785, 6.420300006866455, 6.401199817657471, 6.393899917602539, 6.388999938964844, 6.368599891662598, 6.266200065612793, 5.938399791717529, 5.3892998695373535, 4.740499973297119, 5.694300174713135, 5.261499881744385, 3.3828001022338867, 4.66349983215332, 4.786499977111816, 5.2153000831604, 4.860300064086914, 5.054100036621094, 5.049499988555908, 5.042900085449219, 5.039299964904785, 5.03849983215332, 5.038300037384033, 5.035699844360352, 5.03410005569458, 5.030900001525879, 5.027400016784668, 5.02269983291626, 5.021500110626221, 5.020899772644043, 5.020299911499023, 5.013700008392334, 5.013400077819824, 5.011899948120117, 5.011899948120117, 5.011899948120117, 5.008699893951416, 5.007299900054932, 4.9980998039245605, 4.997700214385986, 4.997700214385986, 4.996300220489502, 4.9934000968933105, 4.988800048828125, 4.986800193786621, 4.986599922180176, 4.982999801635742, 4.821700096130371, 4.901299953460693, 4.678500175476074, 4.766300201416016, 3.8092000484466553, 4.298600196838379, 3.6363000869750977, 4.523499965667725, 3.9072999954223633, 3.6089000701904297, 4.266499996185303, 2.876699924468994, 4.520100116729736, 4.265200138092041, 4.412399768829346, 2.0820999145507812, 4.214200019836426, 3.706399917602539, 1.761299967765808, 2.4066998958587646, 3.329900026321411, 3.4077000617980957, 3.6679999828338623, 2.247299909591675, 2.3635001182556152, 5.322000026702881, 5.315199851989746, 5.3130998611450195, 5.31279993057251, 5.309299945831299, 5.308199882507324, 5.306700229644775, 5.30109977722168, 5.288599967956543, 5.285600185394287, 5.283199787139893, 5.281300067901611, 5.280700206756592, 5.275700092315674, 5.274199962615967, 5.2692999839782715, 5.262899875640869, 5.262899875640869, 5.262899875640869, 5.2617998123168945, 5.261499881744385, 5.259900093078613, 5.25629997253418, 5.255499839782715, 5.255300045013428, 5.252799987792969, 5.249100208282471, 5.246200084686279, 5.246200084686279, 5.242599964141846, 5.172699928283691, 5.091899871826172, 5.050300121307373, 4.531000137329102, 4.832600116729736, 4.6743998527526855, 4.0503997802734375, 3.558799982070923, 1.4486000537872314, 4.366000175476074, 2.7067999839782715, 4.121399879455566, 4.188199996948242, 4.613100051879883, 6.192800045013428, 6.188300132751465, 6.187900066375732, 6.187699794769287, 6.181399822235107, 6.176300048828125, 6.170100212097168, 6.155600070953369, 6.148499965667725, 6.140200138092041, 6.140200138092041, 6.135900020599365, 6.135700225830078, 6.133999824523926, 6.133999824523926, 6.129499912261963, 6.125899791717529, 6.123000144958496, 6.117400169372559, 6.094099998474121, 6.083099842071533, 6.080100059509277, 6.073200225830078, 6.071300029754639, 6.066999912261963, 6.058899879455566, 6.0559000968933105, 6.051499843597412, 6.050000190734863, 6.046199798583984, 5.94950008392334, 5.824100017547607, 5.696300029754639, 5.284800052642822, 4.502500057220459, 3.2493999004364014, 5.287499904632568, 4.90339994430542, 5.052499771118164, 4.807700157165527, 3.197700023651123, 6.41540002822876, 6.410399913787842, 6.406000137329102, 6.4004998207092285, 6.35890007019043, 6.358699798583984, 6.351099967956543, 6.349599838256836, 6.309299945831299, 6.291999816894531, 6.2916998863220215, 6.2916998863220215, 6.2916998863220215, 6.275700092315674, 6.268099784851074, 6.264400005340576, 6.264400005340576, 6.224800109863281, 6.224800109863281, 6.224800109863281, 6.224800109863281, 6.224800109863281, 6.224800109863281, 6.2153000831604, 6.2153000831604, 6.2153000831604, 6.2153000831604, 6.2153000831604, 6.201399803161621, 6.192800045013428, 6.192800045013428, 6.107399940490723, 6.036399841308594, 5.3983001708984375, 5.643499851226807, 4.8734002113342285, 6.182300090789795, 6.178100109100342, 6.1620001792907715, 6.151400089263916, 6.151100158691406, 6.149799823760986, 6.143899917602539, 6.142099857330322, 6.138299942016602, 6.131700038909912, 6.126399993896484, 6.118500232696533, 6.116600036621094, 6.086900234222412, 6.086900234222412, 6.086900234222412, 6.086900234222412, 6.086900234222412, 6.079999923706055, 6.071800231933594, 6.071700096130371, 6.071700096130371, 6.067500114440918, 6.052000045776367, 6.0518999099731445, 6.0518999099731445, 6.0518999099731445, 6.0518999099731445, 6.0518999099731445, 6.051799774169922, 6.035600185394287, 5.964200019836426, 5.7555999755859375, 5.722099781036377, 6.7266998291015625, 6.714700222015381, 6.703100204467773, 6.682400226593018, 6.649899959564209, 6.634399890899658, 6.617099761962891, 6.617099761962891, 6.617099761962891, 6.610000133514404, 6.598700046539307, 6.595900058746338, 6.576700210571289, 6.557799816131592, 6.548099994659424, 6.545599937438965, 6.531000137329102, 6.506999969482422, 6.500699996948242, 6.493299961090088, 6.492000102996826, 6.490200042724609, 6.436100006103516, 6.436100006103516, 6.436100006103516, 6.436100006103516, 6.436100006103516, 6.430799961090088, 6.418900012969971, 6.406000137329102, 5.879000186920166, 4.186299800872803, 5.767300128936768, 4.1875, 7.230899810791016, 7.055600166320801, 7.015399932861328, 7.004000186920166, 6.810699939727783, 6.810299873352051, 6.803100109100342, 6.775400161743164, 6.7546000480651855, 6.723299980163574, 6.70550012588501, 6.683000087738037, 6.674799919128418, 6.657599925994873, 6.655900001525879, 6.610199928283691, 6.607600212097168, 6.5920000076293945, 6.529399871826172, 6.43779993057251, 6.43779993057251, 6.43779993057251, 6.43779993057251, 6.271699905395508, 6.271699905395508, 6.271699905395508, 6.271699905395508, 6.271699905395508, 6.271699905395508, 6.271699905395508, 6.271699905395508, 6.271699905395508, 6.271699905395508, 6.271699905395508, 5.840000152587891, 6.271699905395508, 6.271699905395508, 4.467800140380859, 5.070000171661377, 3.5729000568389893, 1.8029999732971191, 1.8029999732971191, 1.802899956703186, 1.8020000457763672, 1.801300048828125, 1.8006999492645264, 1.8005000352859497, 1.8004000186920166, 1.7998000383377075, 1.7996000051498413, 1.7994999885559082, 1.799299955368042, 1.7991000413894653, 1.7991000413894653, 1.7991000413894653, 1.7989000082015991, 1.7989000082015991, 1.7989000082015991, 1.798799991607666, 1.798699975013733, 1.79830002784729, 1.798200011253357, 1.7979999780654907, 1.7979999780654907, 1.7977999448776245, 1.797700047492981, 1.797700047492981, 1.7968000173568726, 1.7965999841690063, 1.7963999509811401, 1.7919000387191772, 1.7817000150680542, 1.7832000255584717, 1.7317999601364136, 1.7247999906539917, 1.7259000539779663, 1.7247999906539917, 1.7782000303268433, 1.7389999628067017, 1.6654000282287598, 1.6531000137329102, 1.4636000394821167, 1.6957000494003296, 1.6854000091552734, 1.5806000232696533, 1.5026999711990356, 1.6766999959945679, 1.192199945449829, 1.7323999404907227, 1.5853999853134155, 1.1868000030517578, 1.4140000343322754, 1.2315000295639038, 1.2057000398635864, 1.2305999994277954, 1.4747999906539917, 1.392799973487854, 1.2824000120162964, 1.2857999801635742, 1.458899974822998, 1.4703999757766724, 1.1145000457763672, 1.052299976348877, 1.037500023841858, 1.1985000371932983, 0.16500000655651093, 1.301900029182434, 1.0335999727249146, 0.9950000047683716, 1.0611000061035156, 2.6577000617980957, 2.6577000617980957, 2.6542000770568848, 2.6531999111175537, 2.6519999504089355, 2.650899887084961, 2.649600028991699, 2.6489999294281006, 2.646399974822998, 2.645699977874756, 2.6447999477386475, 2.6445999145507812, 2.6442999839782715, 2.6438000202178955, 2.6424999237060547, 2.641400098800659, 2.640399932861328, 2.640000104904175, 2.6380999088287354, 2.637399911880493, 2.6368000507354736, 2.6364998817443848, 2.636399984359741, 2.6363000869750977, 2.636199951171875, 2.635999917984009, 2.635999917984009, 2.635200023651123, 2.634700059890747, 2.634399890899658, 2.625699996948242, 2.628000020980835, 2.611299991607666, 2.61299991607666, 2.602299928665161, 2.5787999629974365, 2.5216000080108643, 2.597100019454956, 2.5378000736236572, 2.600600004196167, 2.4795000553131104, 2.5580999851226807, 2.5857999324798584, 2.424799919128418, 2.413599967956543, 2.446199893951416, 2.2774999141693115, 2.4277000427246094, 1.7085000276565552, 2.3333001136779785, 1.875, 1.895799994468689, 1.867900013923645, 1.8545000553131104, 1.6448999643325806, 1.7431999444961548, 1.4570000171661377, 1.3092000484466553, 1.6089999675750732, 1.0611000061035156, 1.3109999895095825, 1.4218000173568726, 1.5480999946594238, 0.8288999795913696, 1.3312000036239624, 1.233299970626831, 0.43619999289512634, 1.7347999811172485, -0.06430000066757202, 0.36070001125335693, 3.937000036239624, 3.933199882507324, 3.9305999279022217, 3.9282000064849854, 3.927000045776367, 3.926300048828125, 3.9261999130249023, 3.9233999252319336, 3.9226999282836914, 3.9221999645233154, 3.918100118637085, 3.9161999225616455, 3.9154000282287598, 3.9142000675201416, 3.912899971008301, 3.91129994392395, 3.91129994392395, 3.9098000526428223, 3.90910005569458, 3.905900001525879, 3.90339994430542, 3.9033000469207764, 3.9012999534606934, 3.9012999534606934, 3.899199962615967, 3.896199941635132, 3.8929998874664307, 3.8922998905181885, 3.88919997215271, 3.888700008392334, 3.873300075531006, 3.859999895095825, 3.8160998821258545, 3.6981000900268555, 3.7409000396728516, 3.5513999462127686, 3.188699960708618, 3.692500114440918, 3.637500047683716, 2.8828001022338867, 3.313699960708618, 2.335200071334839, 3.03629994392395, 3.194499969482422, 3.577199935913086, 1.9085999727249146, 3.1451001167297363, 3.3970999717712402, 2.7035999298095703, 1.9270999431610107, 1.7759000062942505, 1.5992000102996826, 1.6095000505447388, 2.5980000495910645, 1.9407999515533447, 1.9048000574111938, 1.904099941253662, 1.9031000137329102, 1.9026000499725342, 1.9019999504089355, 1.901900053024292, 1.9014999866485596, 1.9012000560760498, 1.9009000062942505, 1.9003000259399414, 1.9002000093460083, 1.8997000455856323, 1.8991999626159668, 1.8991999626159668, 1.898800015449524, 1.8984999656677246, 1.8983999490737915, 1.8976999521255493, 1.8975000381469727, 1.8973000049591064, 1.8969999551773071, 1.896399974822998, 1.8961999416351318, 1.8956999778747559, 1.8956999778747559, 1.8954999446868896, 1.8954999446868896, 1.895400047302246, 1.895300030708313, 1.8949999809265137, 1.8947999477386475, 1.882599949836731, 1.8703999519348145, 1.8873000144958496, 1.8255000114440918, 1.844499945640564, 1.8633999824523926, 1.7752000093460083, 1.8711999654769897, 1.7319999933242798, 1.6741000413894653, 1.8056000471115112, 1.6692999601364136, 1.6806000471115112, 1.6766999959945679, 1.761299967765808, 1.5332000255584717, 1.694000005722046, 1.6682000160217285, 1.6138999462127686, 1.0154000520706177, 1.0908000469207764, 1.3985999822616577, 1.3509000539779663, 1.4810999631881714, 1.2857999801635742, 1.0259000062942505, 0.9111999869346619, 0.7822999954223633, 0.35760000348091125, 1.1370999813079834, 0.2777000069618225, 0.6126999855041504, 0.8287000060081482, 1.2652000188827515, 0.38089999556541443, -0.07429999858140945, 0.703499972820282, 0.6967999935150146, -0.7791000008583069, 0.9670000076293945, 0.0697999969124794, 0.07739999890327454, 2.351099967956543, 2.3487000465393066, 2.348299980163574, 2.348299980163574, 2.347599983215332, 2.344599962234497, 2.344099998474121, 2.3438000679016113, 2.3434998989105225, 2.3424999713897705, 2.342400074005127, 2.3422999382019043, 2.3420000076293945, 2.341200113296509, 2.340100049972534, 2.339400053024292, 2.3392999172210693, 2.339200019836426, 2.339099884033203, 2.33870005607605, 2.338200092315674, 2.338099956512451, 2.3378000259399414, 2.3375000953674316, 2.336899995803833, 2.336899995803833, 2.336699962615967, 2.3364999294281006, 2.3359999656677246, 2.3352999687194824, 2.329900026321411, 2.333400011062622, 2.329900026321411, 2.2430999279022217, 2.2848000526428223, 2.3125, 2.306999921798706, 2.2943999767303467, 2.2142999172210693, 2.245300054550171, 2.2625999450683594, 2.1881000995635986, 2.1501998901367188, 2.1810998916625977, 1.9983999729156494, 1.9843000173568726, 2.07450008392334, 1.6857999563217163, 2.0446999073028564, 1.7444000244140625, 1.9004000425338745, 1.8813999891281128, 1.6059999465942383, 1.6296000480651855, 1.9431999921798706, 1.6089999675750732, 1.726699948310852, 1.0729999542236328, 1.7323999404907227, 1.4808000326156616, 1.6756000518798828, 1.1482000350952148, 1.4569000005722046, 1.4564000368118286, 1.7072999477386475, 1.093000054359436, 1.4962999820709229, 0.35260000824928284, 1.4255000352859497, 0.8363999724388123, 1.2288999557495117, 0.5375000238418579, 0.9609000086784363, 1.1991000175476074, 0.7059999704360962, -0.3874000012874603, 1.337499976158142, 0.5763000249862671, 7.77839994430542, 7.720200061798096, 7.642300128936768, 7.286399841308594, 7.286399841308594, 7.208099842071533, 7.208099842071533, 7.158400058746338, 6.968599796295166, 6.965400218963623, 6.52239990234375, 5.571100234985352, 5.571100234985352, 5.571100234985352, 5.571100234985352, 5.571100234985352, 2.998300075531006, 2.917099952697754, 2.917099952697754, 2.917099952697754, 2.917099952697754, 2.916800022125244, 2.9137001037597656, 2.9137001037597656, 2.9137001037597656, 2.9137001037597656, 2.9137001037597656, 2.9137001037597656, 2.9137001037597656, 2.9137001037597656, 2.9137001037597656, 1.1335999965667725, 0.873199999332428, 1.458799958229065, 2.575500011444092, 1.320099949836731, -1.3920999765396118, -0.8129000067710876, 0.7649999856948853, 1.4223999977111816, 2.3503000736236572, -1.353600025177002, 2.0510001182556152, 1.320099949836731, 5.377799987792969, 5.375999927520752, 5.373000144958496, 5.3668999671936035, 5.3653998374938965, 5.3597002029418945, 5.357900142669678, 5.355400085449219, 5.355100154876709, 5.3520002365112305, 5.347400188446045, 5.345399856567383, 5.343200206756592, 5.333499908447266, 5.333499908447266, 5.327199935913086, 5.326200008392334, 5.323599815368652, 5.322999954223633, 5.322999954223633, 5.319399833679199, 5.318900108337402, 5.316400051116943, 5.315499782562256, 5.309999942779541, 5.304699897766113, 5.303899765014648, 5.293300151824951, 5.288599967956543, 5.286900043487549, 5.231400012969971, 4.422599792480469, 4.781000137329102, 4.138299942016602, 4.448299884796143, 4.142099857330322, 3.1907999515533447, 4.6433000564575195, 2.444700002670288, 4.536200046539307, 2.8373000621795654, 2.9079999923706055, 2.6422998905181885, 1.4229999780654907, 2.3473000526428223, 2.9769999980926514, 3.061300039291382, 2.8966000080108643, 5.1020002365112305, 5.098400115966797, 5.083399772644043, 5.077899932861328, 5.07390022277832, 5.070300102233887, 5.066400051116943, 5.061699867248535, 5.061500072479248, 5.058000087738037, 5.057400226593018, 5.0528998374938965, 5.052800178527832, 5.051000118255615, 5.050600051879883, 5.049699783325195, 5.049099922180176, 5.048500061035156, 5.047399997711182, 5.043499946594238, 5.042900085449219, 5.042300224304199, 5.04040002822876, 5.037799835205078, 5.035900115966797, 5.035699844360352, 5.034599781036377, 5.032899856567383, 5.030300140380859, 5.029300212860107, 4.968299865722656, 4.792300224304199, 4.691299915313721, 4.909900188446045, 4.926000118255615, 4.748799800872803, 4.64300012588501, 4.1697001457214355, 4.8780999183654785, 4.0366997718811035, 4.350299835205078, 4.496799945831299, 4.338799953460693, 4.077700138092041, 4.545100212097168, 4.825200080871582, 4.8292999267578125, 2.5648000240325928, 2.8015999794006348, 2.72379994392395, 4.204699993133545, 2.8080999851226807, 3.34879994392395, 2.770900011062622, 2.6638998985290527, 3.5129001140594482, 3.051300048828125, 6.517099857330322, 6.514500141143799, 6.514500141143799, 6.514500141143799, 6.514500141143799, 6.514500141143799, 6.512899875640869, 6.482800006866455, 6.47189998626709, 6.461599826812744, 6.461599826812744, 6.456900119781494, 6.432600021362305, 6.427499771118164, 6.427499771118164, 6.427499771118164, 6.427499771118164, 6.427499771118164, 6.427499771118164, 6.427499771118164, 6.427499771118164, 6.427499771118164, 6.427499771118164, 6.427499771118164, 6.427499771118164, 6.408599853515625, 6.394400119781494, 6.379499912261963, 6.376500129699707, 6.3445000648498535, 6.321100234985352, 5.809899806976318, 5.220600128173828, 3.1124000549316406, 6.137599945068359, 6.125199794769287, 6.117599964141846, 6.115499973297119, 6.1072001457214355, 6.103400230407715, 6.103400230407715, 6.096399784088135, 6.0868000984191895, 6.082699775695801, 6.081699848175049, 6.078100204467773, 6.07289981842041, 6.07289981842041, 6.059599876403809, 6.059599876403809, 6.051000118255615, 6.051000118255615, 6.0406999588012695, 6.0406999588012695, 6.0406999588012695, 6.0406999588012695, 6.027900218963623, 6.027900218963623, 6.0117998123168945, 6.0117998123168945, 6.0117998123168945, 6.0117998123168945, 5.990600109100342, 5.990600109100342, 5.990600109100342, 5.990600109100342, 5.990600109100342, 5.779399871826172, 5.432199954986572, 5.714200019836426, 5.692500114440918, 5.691100120544434, 5.691100120544434, 5.6859002113342285, 5.682400226593018, 5.679800033569336, 5.668600082397461, 5.664700031280518, 5.662499904632568, 5.651299953460693, 5.64900016784668, 5.648799896240234, 5.6433000564575195, 5.629700183868408, 5.628600120544434, 5.6128997802734375, 5.6107001304626465, 5.6066999435424805, 5.6066999435424805, 5.606299877166748, 5.605199813842773, 5.601799964904785, 5.59499979019165, 5.59499979019165, 5.59499979019165, 5.59499979019165, 5.59499979019165, 5.592400074005127, 5.5920000076293945, 5.388500213623047, 4.938000202178955, 5.370299816131592, 5.233500003814697, 4.40310001373291, 3.878000020980835, 3.5195999145507812, 4.7743000984191895, 4.54610013961792, 2.950500011444092, 3.669100046157837, 4.146200180053711, 3.282599925994873, 1.9625999927520752, 6.555600166320801, 6.542699813842773, 6.531599998474121, 6.515900135040283, 6.514900207519531, 6.502999782562256, 6.5015997886657715, 6.492099761962891, 6.492099761962891, 6.489999771118164, 6.486999988555908, 6.458799839019775, 6.456500053405762, 6.449399948120117, 6.4415998458862305, 6.429200172424316, 6.427199840545654, 6.423600196838379, 6.422100067138672, 6.400599956512451, 6.395999908447266, 6.388800144195557, 6.384399890899658, 6.379899978637695, 6.373600006103516, 6.372399806976318, 6.370800018310547, 6.341599941253662, 6.326900005340576, 6.325900077819824, 5.426000118255615, 5.397200107574463, 3.814300060272217, 1.3975000381469727, 1.396299958229065, 1.3961999416351318, 1.3961999416351318, 1.3961000442504883, 1.395300030708313, 1.3945000171661377, 1.3942999839782715, 1.3940999507904053, 1.3932000398635864, 1.3930000066757202, 1.3925000429153442, 1.3924000263214111, 1.3916000127792358, 1.3916000127792358, 1.3912999629974365, 1.3905999660491943, 1.3901000022888184, 1.3899999856948853, 1.3898999691009521, 1.3895000219345093, 1.388700008392334, 1.388700008392334, 1.3885999917984009, 1.3884999752044678, 1.3884999752044678, 1.3883999586105347, 1.3882999420166016, 1.3878999948501587, 1.3870999813079834, 1.374400019645691, 1.3789000511169434, 1.3186999559402466, 1.3741999864578247, 1.3783999681472778, 1.3467999696731567, 1.253499984741211, 1.3075000047683716, 1.3033000230789185, 1.1865999698638916, 1.34089994430542, 1.249500036239624, 1.298200011253357, 1.3164000511169434, 1.065000057220459, 1.2756999731063843, 1.2280000448226929, 1.1073999404907227, 1.1236000061035156, 1.1418999433517456, 1.0210000276565552, 1.1956000328063965, 1.197100043296814, 1.139799952507019, 1.1256999969482422, 1.0273000001907349, 0.8823000192642212, 0.8641999959945679, 0.45730000734329224, 1.0973000526428223, 1.0218000411987305, 0.36320000886917114, 0.6279000043869019, 0.6014000177383423, 0.4731000065803528, 0.8989999890327454, 0.4742000102996826, 0.6962000131607056, 0.6366000175476074, 0.9585999846458435, 0.9358999729156494, 0.5142999887466431, 0.7099000215530396, 0.46230000257492065, 0.5062999725341797, -0.3061999976634979, 5.112299919128418, 5.111299991607666, 5.102799892425537, 5.099400043487549, 5.097099781036377, 5.08650016784668, 5.08620023727417, 5.078800201416016, 5.0767998695373535, 5.076000213623047, 5.073299884796143, 5.069399833679199, 5.0655999183654785, 5.065299987792969, 5.0625, 5.0619001388549805, 5.060400009155273, 5.059599876403809, 5.059599876403809, 5.059100151062012, 5.0518999099731445, 5.05109977722168, 5.0472002029418945, 5.046899795532227, 5.04610013961792, 5.04610013961792, 5.04610013961792, 5.04610013961792, 5.044000148773193, 5.041999816894531, 5.009900093078613, 4.860099792480469, 4.654600143432617, 3.9026999473571777, 3.9872000217437744, 2.6133999824523926, 4.118000030517578, 6.6433000564575195, 6.632199764251709, 6.607600212097168, 6.571599960327148, 6.537700176239014, 6.517899990081787, 6.51669979095459, 6.471499919891357, 6.452300071716309, 6.4440999031066895, 6.4156999588012695, 6.415500164031982, 6.415500164031982, 6.403600215911865, 6.394999980926514, 6.394999980926514, 6.382999897003174, 6.378499984741211, 6.361999988555908, 6.360899925231934, 6.35099983215332, 6.340000152587891, 6.340000152587891, 6.327600002288818, 6.313300132751465, 6.303899765014648, 6.29010009765625, 6.29010009765625, 6.28380012512207, 6.281700134277344, 6.281700134277344, 6.011000156402588, 5.805099964141846, 5.267199993133545, 4.991099834442139, 3.0497000217437744, 3.047600030899048, 3.045099973678589, 3.0409998893737793, 3.0408999919891357, 3.0388998985290527, 3.038100004196167, 3.0378000736236572, 3.0371999740600586, 3.0371999740600586, 3.0367000102996826, 3.0352001190185547, 3.0344998836517334, 3.03439998626709, 3.0325000286102295, 3.0322999954223633, 3.031899929046631, 3.031599998474121, 3.029400110244751, 3.0292000770568848, 3.0278000831604004, 3.0272998809814453, 3.026599884033203, 3.025099992752075, 3.0246999263763428, 3.024399995803833, 3.0239999294281006, 3.0234999656677246, 3.023200035095215, 3.0227999687194824, 3.010999917984009, 3.0023999214172363, 3.010999917984009, 2.908099889755249, 2.852799892425537, 2.9456000328063965, 2.6651999950408936, 2.898400068283081, 2.5885000228881836, 2.8397998809814453, 2.3111000061035156, 2.611999988555908, 2.4286999702453613, 2.0875000953674316, 2.0515999794006348, 2.4742000102996826, 2.539900064468384, 2.4231998920440674, 2.1654000282287598, 1.774999976158142, 2.5371999740600586, 2.7657999992370605, 2.703000068664551, 2.4170000553131104, 1.9464999437332153, 0.8235999941825867, 1.4401999711990356, 2.3835999965667725, 2.010200023651123, 1.4795000553131104, 1.632699966430664, 1.3035000562667847, 0.41929998993873596, 1.5806000232696533, 0.9634000062942505, 0.7484999895095825, 0.05620000138878822, 7.750800132751465, 7.619699954986572, 7.587600231170654, 7.581600189208984, 7.455999851226807, 7.40369987487793, 7.31820011138916, 7.1905999183654785, 7.1905999183654785, 7.1905999183654785, 7.1905999183654785, 7.179299831390381, 7.15749979019165, 6.976600170135498, 6.976600170135498, 6.976600170135498, 6.674900054931641, 6.669300079345703, 6.652200222015381, 6.554100036621094, 6.524799823760986, 6.524799823760986, 6.524799823760986, 6.524799823760986, 6.524799823760986, 6.524799823760986, 6.524799823760986, 6.524799823760986, 6.524799823760986, 6.524799823760986, 6.524799823760986, 6.064599990844727, 6.524799823760986, 6.524799823760986, 6.524799823760986, 6.524799823760986, 6.524799823760986, 6.524799823760986, 6.524799823760986, 6.524799823760986, 6.524799823760986, 6.524799823760986, 6.524799823760986, 6.524799823760986, 6.524799823760986, 6.524799823760986, 8.069499969482422, 8.031599998474121, 7.971399784088135, 7.860899925231934, 7.860899925231934, 7.860899925231934, 7.854499816894531, 7.7677001953125, 7.707200050354004, 7.707200050354004, 7.687300205230713, 7.677700042724609, 7.657899856567383, 7.6346001625061035, 7.628300189971924, 7.628300189971924, 7.628300189971924, 7.588699817657471, 7.588699817657471, 7.588699817657471, 7.588699817657471, 7.588699817657471, 7.588699817657471, 7.588699817657471, 7.588699817657471, 7.588699817657471, 7.588699817657471, 7.364099979400635, 7.110499858856201, 7.110499858856201, 7.110499858856201, 4.031499862670898, 7.110499858856201, 6.463600158691406, 6.451399803161621, 6.4475998878479, 6.432499885559082, 6.420199871063232, 6.406300067901611, 6.38129997253418, 6.38129997253418, 6.375800132751465, 6.371600151062012, 6.350500106811523, 6.346799850463867, 6.342599868774414, 6.324399948120117, 6.306000232696533, 6.285099983215332, 6.279200077056885, 6.272799968719482, 6.271699905395508, 6.270999908447266, 6.267399787902832, 6.265999794006348, 6.263700008392334, 6.258500099182129, 6.247799873352051, 6.223899841308594, 6.223899841308594, 6.223899841308594, 6.223899841308594, 6.223899841308594, 6.223899841308594, 6.223899841308594, 6.223899841308594, 5.941800117492676, 4.19980001449585, 2.986299991607666, 5.909999847412109, 5.9008002281188965, 5.400899887084961, 3.111599922180176, 3.107800006866455, 3.1029000282287598, 3.101900100708008, 3.100800037384033, 3.1005001068115234, 3.0989999771118164, 3.097899913787842, 3.097599983215332, 3.097399950027466, 3.095900058746338, 3.094599962234497, 3.094599962234497, 3.094399929046631, 3.094399929046631, 3.094399929046631, 3.0941998958587646, 3.093600034713745, 3.093600034713745, 3.093600034713745, 3.093600034713745, 3.093400001525879, 3.0931999683380127, 3.092400074005127, 3.0922999382019043, 3.0922999382019043, 3.0917000770568848, 3.091399908065796, 3.090100049972534, 3.0894999504089355, 3.0546998977661133, 3.039400100708008, 3.0483999252319336, 2.73580002784729, 2.6382999420166016, 2.9976999759674072, 3.076200008392334, 2.614300012588501, 2.458899974822998, 2.4702000617980957, 3.0195999145507812, 2.6229000091552734, 2.6521999835968018, 2.2657999992370605, 2.4077000617980957, 2.486599922180176, 1.2977999448776245, 2.2462000846862793, 2.0680999755859375, 2.7451000213623047, 2.426300048828125, 2.501800060272217, 2.5452001094818115, 1.2869999408721924, 2.601300001144409, 1.2608000040054321, 1.6164000034332275, 2.1895999908447266, 1.4444999694824219, 1.8258999586105347, 1.3092000484466553, 1.2030999660491943, 0.8876000046730042, 1.2609000205993652, 1.7116999626159668, 1.7258000373840332, 0.227400004863739, 0.5871000289916992, 1.6068999767303467, -0.06120000034570694, 2.906100034713745, 2.906100034713745, 2.903599977493286, 2.8998000621795654, 2.8996999263763428, 2.8994998931884766, 2.899199962615967, 2.896699905395508, 2.8965001106262207, 2.8958001136779785, 2.895699977874756, 2.895400047302246, 2.895400047302246, 2.89520001411438, 2.89490008354187, 2.8940000534057617, 2.8938000202178955, 2.8933000564575195, 2.8928000926971436, 2.892699956893921, 2.8919999599456787, 2.891200065612793, 2.890700101852417, 2.8901000022888184, 2.8896000385284424, 2.8896000385284424, 2.887500047683716, 2.8861000537872314, 2.8854000568389893, 2.8849000930786133, 2.876800060272217, 2.851799964904785, 2.8320000171661377, 2.7572999000549316, 2.7606000900268555, 2.7967000007629395, 2.765000104904175, 2.7295000553131104, 2.6312999725341797, 2.4621999263763428, 2.7815001010894775, 2.68179988861084, 2.4528000354766846, 2.561300039291382, 2.5278000831604004, 1.9767999649047852, 2.747499942779541, 1.656999945640564, 2.5218000411987305, 1.7842999696731567, 0.9915000200271606, 2.145400047302246, 1.6712000370025635, 1.8203999996185303, 1.3229999542236328, 1.7028000354766846, 1.9982999563217163, 2.220400094985962, 0.6798999905586243, 1.5461000204086304, 0.5077999830245972, 0.4146000146865845, 0.492900013923645, 1.3487000465393066, 0.7142999768257141, 0.852400004863739, 4.936200141906738, 4.925000190734863, 4.923900127410889, 4.92140007019043, 4.91949987411499, 4.919300079345703, 4.913300037384033, 4.9045000076293945, 4.901100158691406, 4.8983001708984375, 4.8983001708984375, 4.89769983291626, 4.896599769592285, 4.895899772644043, 4.894999980926514, 4.894700050354004, 4.893400192260742, 4.8850998878479, 4.884200096130371, 4.884099960327148, 4.876699924468994, 4.876399993896484, 4.8730998039245605, 4.869800090789795, 4.868100166320801, 4.867199897766113, 4.865699768066406, 4.8649001121521, 4.8643999099731445, 4.8643999099731445, 4.8643999099731445, 4.8643999099731445, 4.848599910736084, 4.772600173950195, 4.727799892425537, 4.728000164031982, 4.593100070953369, 4.235199928283691, 4.071199893951416, 2.7209999561309814, 4.39109992980957, 2.260999917984009, 1.136299967765808, 3.8236000537872314, 3.3083999156951904, 2.8478000164031982, 2.3313000202178955, 2.0044000148773193, 0.9987000226974487, 0.2443999946117401, 1.7156000137329102, 2.5302999019622803, 2.3536999225616455, 4.661300182342529, 4.655300140380859, 4.653800010681152, 4.651000022888184, 4.6417999267578125, 4.6417999267578125, 4.638500213623047, 4.632900238037109, 4.632900238037109, 4.6321001052856445, 4.6280999183654785, 4.624800205230713, 4.624000072479248, 4.621500015258789, 4.617199897766113, 4.615499973297119, 4.611000061035156, 4.6107001304626465, 4.610300064086914, 4.609099864959717, 4.6082000732421875, 4.607800006866455, 4.605299949645996, 4.603600025177002, 4.603600025177002, 4.60260009765625, 4.602099895477295, 4.6016998291015625, 4.60129976272583, 4.5991997718811035, 4.556099891662598, 4.526500225067139, 4.442999839782715, 4.349400043487549, 4.351900100708008, 4.357600212097168, 4.237100124359131, 4.156599998474121, 3.5899999141693115, 4.058499813079834, 4.369699954986572, 4.260799884796143, 3.378999948501587, 3.804800033569336, 3.3508999347686768, 3.8315999507904053, 3.480600118637085, 3.592900037765503, 4.172699928283691, 2.8894999027252197, 3.153899908065796, 2.200900077819824, 3.5276999473571777, 2.3294999599456787, 3.1895999908447266, 2.7300000190734863, 2.9921000003814697, 1.6157000064849854, 1.6639000177383423, 2.0237998962402344, 2.908400058746338, 4.970900058746338, 4.966800212860107, 4.9633002281188965, 4.959700107574463, 4.959000110626221, 4.958899974822998, 4.956200122833252, 4.951300144195557, 4.950099945068359, 4.949399948120117, 4.949399948120117, 4.948999881744385, 4.948800086975098, 4.947500228881836, 4.946000099182129, 4.946000099182129, 4.944499969482422, 4.94320011138916, 4.9405999183654785, 4.9405999183654785, 4.9405999183654785, 4.9405999183654785, 4.9375, 4.935999870300293, 4.935999870300293, 4.935999870300293, 4.935999870300293, 4.935999870300293, 4.9334001541137695, 4.9334001541137695, 4.9334001541137695, 4.9334001541137695, 4.902200222015381, 4.88070011138916, 3.910399913787842, 1.7656999826431274, 0.33059999346733093, 8.194000244140625, 3.1364998817443848, 3.0710999965667725, 3.0710999965667725, 3.0710999965667725, 3.0710999965667725, 3.0710999965667725, 3.055299997329712, 3.055299997329712, 3.055299997329712, 3.055299997329712, 3.052000045776367, 3.052000045776367, 3.052000045776367, 3.052000045776367, 3.052000045776367, 3.052000045776367, 3.052000045776367, 3.052000045776367, 3.052000045776367, 2.9811999797821045, 2.9811999797821045, 2.9811999797821045, 2.9811999797821045, 2.9811999797821045, 2.9811999797821045, 2.9811999797821045, 2.9811999797821045, 2.9811999797821045, 2.9811999797821045, 2.9811999797821045, 2.9811999797821045, 2.9811999797821045, 2.9811999797821045, 2.9811999797821045, 2.9811999797821045, 2.121799945831299, 2.71370005607605, 0.9032999873161316, 1.5607000589370728, 2.4885001182556152, -1.2152999639511108, 2.189300060272217, 1.458299994468689, 1.9795000553131104, 2.541100025177002, 0.8553000092506409, 2.541100025177002, 1.6547000408172607, 2.8965001106262207, 1.0115000009536743, 2.7030999660491943, 2.71370005607605, 2.8965001106262207, 1.5109000205993652, 2.71370005607605, 2.71370005607605, 1.4573999643325806, 0.6225000023841858, 1.0404000282287598, 1.5607000589370728, 0.5045999884605408, 1.597100019454956, 1.458299994468689], \"logprob\": [30.0, 29.0, 28.0, 27.0, 26.0, 25.0, 24.0, 23.0, 22.0, 21.0, 20.0, 19.0, 18.0, 17.0, 16.0, 15.0, 14.0, 13.0, 12.0, 11.0, 10.0, 9.0, 8.0, 7.0, 6.0, 5.0, 4.0, 3.0, 2.0, 1.0, -3.5176000595092773, -4.472599983215332, -4.867199897766113, -4.951700210571289, -4.999199867248535, -5.109899997711182, -5.19789981842041, -5.19789981842041, -5.211100101470947, -5.2484002113342285, -5.282800197601318, -5.316500186920166, -5.316500186920166, -5.379499912261963, -5.379499912261963, -5.439499855041504, -5.481599807739258, -5.550099849700928, -5.59119987487793, -5.602799892425537, -5.721199989318848, -5.8302001953125, -5.883399963378906, -5.902900218963623, -5.907800197601318, -5.963200092315674, -5.985300064086914, -6.0055999755859375, -6.069300174713135, -6.1350998878479, -5.772799968719482, -5.6682000160217285, -5.590000152587891, -5.917500019073486, -5.7855000495910645, -3.56469988822937, -4.001699924468994, -4.563799858093262, -4.659299850463867, -4.7993998527526855, -4.976399898529053, -5.018199920654297, -5.1072998046875, -5.303699970245361, -5.309299945831299, -5.451000213623047, -5.479800224304199, -5.616499900817871, -5.618800163269043, -5.783599853515625, -5.799099922180176, -5.876200199127197, -5.958799839019775, -5.989099979400635, -6.021200180053711, -6.021200180053711, -6.021200180053711, -6.021200180053711, -6.099999904632568, -6.152900218963623, -6.1855998039245605, -6.198500156402588, -6.264599800109863, -6.327400207519531, -6.435800075531006, -4.387899875640869, -5.0868000984191895, -5.618899822235107, -4.78410005569458, -5.083199977874756, -5.128900051116943, -5.3043999671936035, -5.341000080108643, -5.320899963378906, -5.895100116729736, -5.986299991607666, -6.057400226593018, -6.115200042724609, -6.131400108337402, -6.124800205230713, -6.159200191497803, -6.209499835968018, -6.2399001121521, -6.232800006866455, -5.459099769592285, -6.268599987030029, -6.284900188446045, -6.296500205993652, -6.297100067138672, -6.326499938964844, -6.326499938964844, -6.378600120544434, -6.383800029754639, -6.385200023651123, -6.390999794006348, -6.397600173950195, -6.408100128173828, -6.434000015258789, -5.015600204467773, -5.85830020904541, -5.774899959564209, -5.29010009765625, -5.987299919128418, -5.376999855041504, -4.236499786376953, -5.9552001953125, -4.7530999183654785, -5.297500133514404, -5.695899963378906, -4.012499809265137, -5.302700042724609, -3.864500045776367, -5.575099945068359, -5.84660005569458, -5.325300216674805, -4.993599891662598, -5.553299903869629, -5.447800159454346, -5.539700031280518, -5.610899925231934, -4.863399982452393, -5.31790018081665, -5.354800224304199, -5.557799816131592, -5.479100227355957, -5.524199962615967, -5.351900100708008, -5.5528998374938965, -5.451200008392334, -5.515500068664551, -5.517600059509277, -2.6166999340057373, -3.967600107192993, -4.066199779510498, -4.205999851226807, -4.6545000076293945, -4.755799770355225, -4.832900047302246, -4.860099792480469, -4.930799961090088, -5.0416998863220215, -5.156099796295166, -5.280099868774414, -5.280099868774414, -5.280099868774414, -5.280099868774414, -5.532199859619141, -5.665800094604492, -5.702199935913086, -5.74370002746582, -5.820300102233887, -5.8460001945495605, -5.8572001457214355, -5.883399963378906, -5.883399963378906, -5.9120001792907715, -5.9207000732421875, -5.97130012512207, -5.97130012512207, -5.97130012512207, -5.97130012512207, -5.97130012512207, -5.97130012512207, -5.97130012512207, -5.97130012512207, -5.97130012512207, -5.97130012512207, -5.97130012512207, -5.97130012512207, -5.97130012512207, -5.97130012512207, -5.97130012512207, -4.449999809265137, -5.97130012512207, -5.97130012512207, -3.1421000957489014, -2.845099925994873, -5.97130012512207, -4.579899787902832, -3.166100025177002, -3.8362998962402344, -4.508699893951416, -3.237799882888794, -4.275599956512451, -4.7042999267578125, -4.304900169372559, -5.279600143432617, -5.1427001953125, -5.040999889373779, -5.123499870300293, -2.2056000232696533, -3.22160005569458, -4.201600074768066, -4.606400012969971, -4.606400012969971, -4.606400012969971, -4.853899955749512, -5.297500133514404, -5.297500133514404, -5.297500133514404, -5.297500133514404, -5.297500133514404, -5.297500133514404, -5.297500133514404, -5.297500133514404, -5.297500133514404, -5.297500133514404, -5.297500133514404, -5.297500133514404, -5.297500133514404, -5.297500133514404, -5.297500133514404, -5.297500133514404, -5.297500133514404, -5.297500133514404, -5.297500133514404, -5.297500133514404, -5.297500133514404, -5.297500133514404, -5.376200199127197, -4.918000221252441, -3.916100025177002, -4.039700031280518, -4.698800086975098, -4.795199871063232, -4.894100189208984, -4.936100006103516, -5.064700126647949, -5.208700180053711, -5.225399971008301, -5.259200096130371, -5.286099910736084, -5.320300102233887, -5.351200103759766, -5.5680999755859375, -5.571100234985352, -5.6493000984191895, -5.663599967956543, -5.710299968719482, -5.719600200653076, -5.72730016708374, -5.728000164031982, -5.847700119018555, -5.884799957275391, -5.973400115966797, -5.978899955749512, -6.013599872589111, -6.064799785614014, -6.069699764251709, -6.0903000831604, -6.120200157165527, -5.454699993133545, -5.3856000900268555, -3.876199960708618, -5.4893999099731445, -5.232699871063232, -5.493500232696533, -4.644499778747559, -5.035900115966797, -5.15369987487793, -5.619500160217285, -5.658199787139893, -4.090700149536133, -4.668300151824951, -4.824100017547607, -4.849599838256836, -5.2368998527526855, -5.320099830627441, -5.545000076293945, -5.633500099182129, -5.751200199127197, -5.777699947357178, -5.151400089263916, -5.893700122833252, -5.935400009155273, -5.944200038909912, -6.053100109100342, -6.053800106048584, -6.093100070953369, -6.100399971008301, -6.143099784851074, -6.17579984664917, -6.182799816131592, -6.206900119781494, -6.206900119781494, -6.222400188446045, -6.252799987792969, -6.261899948120117, -6.2683000564575195, -6.329999923706055, -6.333099842071533, -6.335899829864502, -5.185800075531006, -4.9654998779296875, -5.764400005340576, -6.009300231933594, -4.928599834442139, -4.466100215911865, -5.806000232696533, -5.36299991607666, -5.572199821472168, -5.19980001449585, -4.9506001472473145, -3.9154999256134033, -5.458199977874756, -5.550300121307373, -4.925300121307373, -5.067599773406982, -5.6656999588012695, -4.973100185394287, -5.315700054168701, -5.399700164794922, -5.38700008392334, -5.177299976348877, -5.328400135040283, -5.3541998863220215, -5.437699794769287, -5.497300148010254, -5.537300109863281, -3.417799949645996, -3.417799949645996, -4.317500114440918, -4.481100082397461, -4.515100002288818, -4.554900169372559, -4.8277997970581055, -4.860499858856201, -4.922500133514404, -4.928199768066406, -5.011899948120117, -5.017899990081787, -5.135300159454346, -5.1743998527526855, -5.206200122833252, -5.571599960327148, -5.6194000244140625, -5.759399890899658, -5.793300151824951, -5.819799900054932, -5.82420015335083, -5.920300006866455, -5.978799819946289, -6.043499946594238, -6.07859992980957, -6.215199947357178, -6.258999824523926, -6.275599956512451, -6.286499977111816, -6.331600189208984, -5.014999866485596, -4.515100002288818, -4.926400184631348, -4.496799945831299, -5.6128997802734375, -5.521699905395508, -4.723299980163574, -5.416900157928467, -5.563399791717529, -5.675099849700928, -5.711599826812744, -4.960400104522705, -5.097899913787842, -5.271100044250488, -5.353499889373779, -5.371099948883057, -5.376500129699707, -5.429999828338623, -5.463200092315674, -5.525100231170654, -5.588099956512451, -5.669099807739258, -5.688199996948242, -5.697800159454346, -5.684299945831299, -5.807199954986572, -5.811999797821045, -5.832799911499023, -5.832799911499023, -5.832799911499023, -5.877200126647949, -5.895999908447266, -6.01170015335083, -6.01669979095459, -6.01669979095459, -6.033599853515625, -6.066199779510498, -6.118100166320801, -6.138700008392334, -6.141200065612793, -5.020299911499023, -4.200200080871582, -5.156599998474121, -3.2683000564575195, -4.430799961090088, -2.9274001121520996, -4.39900016784668, -3.1605000495910645, -5.153299808502197, -4.153200149536133, -3.899600028991699, -4.84660005569458, -3.3166000843048096, -5.350800037384033, -5.134900093078613, -5.346499919891357, -3.6566998958587646, -5.273099899291992, -5.073800086975098, -4.51200008392334, -4.799799919128418, -5.155300140380859, -5.244100093841553, -5.3003997802734375, -5.177299976348877, -5.331900119781494, -3.6486001014709473, -4.1392998695373535, -4.249499797821045, -4.265399932861328, -4.429800033569336, -4.466899871826172, -4.534200191497803, -4.731100082397461, -5.069399833679199, -5.137199878692627, -5.18720006942749, -5.225399971008301, -5.237599849700928, -5.331299781799316, -5.359000205993652, -5.441100120544434, -5.539599895477295, -5.540599822998047, -5.540599822998047, -5.5559000968933105, -5.5605998039245605, -5.584099769592285, -5.634099960327148, -5.645199775695801, -5.64769983291626, -5.680600166320801, -5.727099895477295, -5.762800216674805, -5.763400077819824, -5.805699825286865, -4.691199779510498, -3.7581000328063965, -5.1666998863220215, -3.8413000106811523, -4.8231000900268555, -4.9492998123168945, -4.698200225830078, -4.713200092315674, -4.579100131988525, -5.423600196838379, -5.175899982452393, -5.432400226593018, -5.4552998542785645, -5.495500087738037, -4.7179999351501465, -4.7758002281188965, -4.781000137329102, -4.782800197601318, -4.85830020904541, -4.915999889373779, -4.981900215148926, -5.123000144958496, -5.1859002113342285, -5.255000114440918, -5.255300045013428, -5.28980016708374, -5.290999889373779, -5.304800033569336, -5.304800033569336, -5.339099884033203, -5.365699768066406, -5.386600017547607, -5.4268999099731445, -5.579100131988525, -5.645400047302246, -5.662199974060059, -5.701499938964844, -5.7118000984191895, -5.735599994659424, -5.77810001373291, -5.793799877166748, -5.816500186920166, -5.823800086975098, -5.8429999351501465, -4.674699783325195, -5.293000221252441, -5.031899929046631, -4.3709001541137695, -3.8196001052856445, -4.1350998878479, -5.282599925994873, -5.196599960327148, -5.282700061798096, -5.256800174713135, -5.366000175476074, -3.40120005607605, -3.5780999660491943, -3.716099977493286, -3.861299991607666, -4.587500095367432, -4.589900016784668, -4.681399822235107, -4.698999881744385, -5.0833001136779785, -5.2153000831604, -5.217800140380859, -5.217800140380859, -5.217800140380859, -5.327400207519531, -5.376399993896484, -5.399499893188477, -5.399499893188477, -5.621799945831299, -5.621799945831299, -5.621799945831299, -5.621799945831299, -5.621799945831299, -5.621799945831299, -5.6697998046875, -5.6697998046875, -5.6697998046875, -5.6697998046875, -5.6697998046875, -5.736599922180176, -5.776599884033203, -5.776599884033203, -4.993800163269043, -5.2281999588012695, -4.526199817657471, -5.069900035858154, -5.0665998458862305, -3.2957000732421875, -3.503200054168701, -4.048299789428711, -4.296199798583984, -4.3024001121521, -4.32889986038208, -4.442500114440918, -4.473999977111816, -4.53849983215332, -4.643599987030029, -4.720099925994873, -4.82450008392334, -4.848199844360352, -5.165999889373779, -5.165999889373779, -5.165999889373779, -5.165999889373779, -5.165999889373779, -5.2291998863220215, -5.298699855804443, -5.299200057983398, -5.299200057983398, -5.334199905395508, -5.451700210571289, -5.452300071716309, -5.453000068664551, -5.453000068664551, -5.453000068664551, -5.453000068664551, -5.453000068664551, -4.793399810791016, -4.852399826049805, -4.027100086212158, -4.202400207519531, -2.96370005607605, -3.3917999267578125, -3.684000015258789, -4.06279993057251, -4.475299835205078, -4.626999855041504, -4.776299953460693, -4.776299953460693, -4.776299953460693, -4.832200050354004, -4.9156999588012695, -4.935400009155273, -5.063199996948242, -5.176700115203857, -5.231200218200684, -5.244999885559082, -5.321599960327148, -5.438300132751465, -5.467199802398682, -5.500400066375732, -5.50600004196167, -5.513800144195557, -5.731800079345703, -5.731800079345703, -5.731800079345703, -5.731800079345703, -5.731800079345703, -5.751100063323975, -5.794300079345703, -5.8394999504089355, -5.242499828338623, -5.1356000900268555, -5.615200042724609, -5.4197001457214355, -3.6679999828338623, -4.927700042724609, -5.095900058746338, -5.139599800109863, -5.732600212097168, -5.733799934387207, -5.7519001960754395, -5.820199966430664, -5.869800090789795, -5.941699981689453, -5.981500148773193, -6.030300140380859, -6.047800064086914, -4.6082000732421875, -6.087600231170654, -6.180699825286865, -6.185800075531006, -6.2164998054504395, -5.068699836730957, -6.498300075531006, -6.498300075531006, -6.498300075531006, -6.498300075531006, -6.768700122833252, -6.768700122833252, -6.768700122833252, -6.768700122833252, -6.768700122833252, -6.768700122833252, -6.768700122833252, -6.768700122833252, -6.768700122833252, -6.768700122833252, -6.768700122833252, -5.499199867248535, -6.768700122833252, -6.768700122833252, -4.537899971008301, -5.953499794006348, -5.801599979400635, -4.746600151062012, -4.804500102996826, -4.878600120544434, -5.494699954986572, -5.77869987487793, -5.973499774932861, -6.0320000648498535, -6.0746002197265625, -6.228400230407715, -6.266300201416016, -6.280700206756592, -6.34089994430542, -6.370800018310547, -6.378200054168701, -6.382900238037109, -6.415599822998047, -6.415999889373779, -6.425000190734863, -6.42549991607666, -6.447800159454346, -6.531000137329102, -6.542300224304199, -6.578000068664551, -6.57889986038208, -6.607399940490723, -6.622099876403809, -6.628499984741211, -6.7667999267578125, -6.795300006866455, -6.8155999183654785, -5.588500022888184, -5.803899765014648, -6.053100109100342, -4.569799900054932, -5.089200019836426, -5.307499885559082, -5.775000095367432, -6.358399868011475, -5.961999893188477, -5.395899772644043, -5.424600124359131, -4.064300060272217, -5.752699851989746, -5.8358001708984375, -5.468599796295166, -5.309299945831299, -5.976799964904785, -4.53879976272583, -6.171299934387207, -5.786399841308594, -4.781599998474121, -5.398600101470947, -5.027100086212158, -4.999199867248535, -5.062600135803223, -5.595300197601318, -5.457799911499023, -5.310200214385986, -5.355800151824951, -5.6230998039245605, -5.640699863433838, -5.299300193786621, -5.255300045013428, -5.251100063323975, -5.418600082397461, -4.7347002029418945, -5.532199859619141, -5.396900177001953, -5.462399959564209, -5.52269983291626, -4.98769998550415, -5.02370023727417, -5.793399810791016, -5.948999881744385, -6.090700149536133, -6.209799766540527, -6.339099884033203, -6.395299911499023, -6.595799922943115, -6.601600170135498, -6.704400062561035, -6.467899799346924, -6.735000133514404, -6.7642998695373535, -5.81850004196167, -6.898399829864502, -6.900000095367432, -6.970099925994873, -7.058300018310547, -7.089700222015381, -7.118800163269043, -7.128499984741211, -7.131499767303467, -7.138899803161621, -7.14300012588501, -7.1504998207092285, -7.151800155639648, -7.178199768066406, -7.201700210571289, -7.214700222015381, -4.742499828338623, -6.055799961090088, -5.917099952697754, -6.369999885559082, -6.173799991607666, -5.660200119018555, -4.328800201416016, -6.154300212860107, -4.754799842834473, -6.529900074005127, -4.929900169372559, -5.978499889373779, -6.490799903869629, -5.540200233459473, -5.49429988861084, -5.742400169372559, -4.9756999015808105, -5.8755998611450195, -3.191200017929077, -5.572500228881836, -4.093299865722656, -4.190400123596191, -4.341000080108643, -4.592299938201904, -4.139100074768066, -4.5447001457214355, -4.110099792480469, -4.421800136566162, -4.953100204467773, -4.3744001388549805, -4.660099983215332, -4.783100128173828, -5.138199806213379, -4.655099868774414, -5.26140022277832, -5.29449987411499, -5.091700077056885, -5.51039981842041, -5.0167999267578125, -5.3780999183654785, -2.5789999961853027, -4.426400184631348, -4.4475998878479, -5.202600002288818, -5.271399974822998, -5.342199802398682, -5.33459997177124, -2.8856000900268555, -5.560699939727783, -5.588200092315674, -5.78849983215332, -5.869900226593018, -5.905399799346924, -5.564199924468994, -5.998300075531006, -6.052800178527832, -6.008500099182129, -6.103899955749512, -6.1280999183654785, -6.223800182342529, -6.295100212097168, -6.295100212097168, -6.350399971008301, -6.350399971008301, -4.834700107574463, -6.473100185394287, -6.543600082397461, -6.558599948883057, -6.610400199890137, -6.6321001052856445, -2.503200054168701, -5.804100036621094, -4.797800064086914, -2.900899887084961, -4.791900157928467, -4.9274001121521, -3.6937999725341797, -5.65749979019165, -5.507999897003174, -3.9670000076293945, -5.117499828338623, -3.8094000816345215, -4.872799873352051, -5.3354997634887695, -5.71999979019165, -4.436699867248535, -5.474899768829346, -5.637400150299072, -5.3470001220703125, -5.064300060272217, -5.264200210571289, -5.2906999588012695, -5.4303998947143555, -5.501500129699707, -5.514200210571289, -6.218100070953369, -6.361499786376953, -6.5370001792907715, -6.612100124359131, -6.698599815368652, -6.706999778747559, -6.761000156402588, -6.7947998046875, -6.83650016784668, -6.59660005569458, -6.917399883270264, -6.968800067901611, -6.97790002822876, -7.020199775695801, -7.057799816131592, -7.079500198364258, -7.0920000076293945, -7.158999919891357, -7.169300079345703, -7.18779993057251, -7.2170000076293945, -7.264900207519531, -7.275199890136719, -7.310500144958496, -7.313899993896484, -7.325799942016602, -7.331999778747559, -7.334199905395508, -7.344200134277344, -7.367000102996826, -7.342700004577637, -6.393099784851074, -6.126999855041504, -7.047699928283691, -5.711900234222412, -6.349299907684326, -6.8317999839782715, -5.818699836730957, -6.984499931335449, -6.0370001792907715, -5.749800205230713, -6.667099952697754, -6.19379997253418, -6.298999786376953, -6.3506999015808105, -6.644199848175049, -5.921800136566162, -6.439499855041504, -6.419400215148926, -6.302000045776367, -5.128300189971924, -5.308000087738037, -6.047100067138672, -6.042699813842773, -6.275700092315674, -6.021100044250488, -5.7108001708984375, -5.574399948120117, -5.4868998527526855, -5.126399993896484, -6.0243000984191895, -5.461100101470947, -5.732699871063232, -5.968100070953369, -6.2153000831604, -5.79040002822876, -5.64139986038208, -6.028299808502197, -6.071400165557861, -5.731599807739258, -6.1819000244140625, -6.07480001449585, -6.195799827575684, -6.021299839019775, -6.3917999267578125, -6.4355998039245605, -6.439499855041504, -6.481400012969971, -6.780300140380859, -6.825799942016602, -6.8445000648498535, -6.86870002746582, -6.937600135803223, -6.946599960327148, -6.95550012588501, -6.972700119018555, -7.025300025939941, -7.09250020980835, -7.130199909210205, -7.1381001472473145, -7.14109992980957, -7.149700164794922, -7.169600009918213, -7.198599815368652, -7.2042999267578125, -7.063799858093262, -7.232999801635742, -7.261600017547607, -7.264599800109863, -7.2729997634887695, -7.280900001525879, -7.307799816131592, -7.259099960327148, -5.266900062561035, -6.971799850463867, -6.701900005340576, -3.3046998977661133, -5.652299880981445, -6.502299785614014, -6.539000034332275, -6.528900146484375, -5.485799789428711, -5.939000129699707, -6.161799907684326, -5.603099822998047, -5.286499977111816, -6.039100170135498, -4.922800064086914, -5.042399883270264, -5.971799850463867, -4.602200031280518, -6.003799915313721, -5.149799823760986, -5.698699951171875, -5.737400054931641, -5.09089994430542, -5.298699855804443, -5.996500015258789, -5.361800193786621, -5.5929999351501465, -4.410999774932861, -5.617599964141846, -5.2677001953125, -5.567299842834473, -4.879499912261963, -5.294000148773193, -5.321599960327148, -5.631400108337402, -4.911399841308594, -5.526199817657471, -4.599899768829346, -5.511099815368652, -5.134699821472168, -5.396699905395508, -5.029600143432617, -5.323999881744385, -5.437699794769287, -5.438600063323975, -5.287099838256836, -5.552499771118164, -5.509900093078613, -4.723299980163574, -4.869800090789795, -5.0482001304626465, -5.706699848175049, -5.706699848175049, -5.829999923706055, -5.829999923706055, -5.905600070953369, -5.350399971008301, -6.182799816131592, -2.4375, -7.828100204467773, -7.828100204467773, -7.828100204467773, -7.828100204467773, -7.828100204467773, -10.466300010681152, -10.466300010681152, -10.466300010681152, -10.466300010681152, -10.466300010681152, -10.466300010681152, -10.466300010681152, -10.466300010681152, -10.466300010681152, -10.466300010681152, -10.466300010681152, -10.466300010681152, -10.466300010681152, -10.466300010681152, -10.466300010681152, -10.464699745178223, -10.466300010681152, -10.466300010681152, -10.466300010681152, -10.466300010681152, -10.466300010681152, -10.466300010681152, -10.466300010681152, -10.466300010681152, -10.466300010681152, -10.466300010681152, -10.466300010681152, -10.466300010681152, -4.77400016784668, -4.82420015335083, -4.901199817657471, -5.044099807739258, -5.076900005340576, -5.1905999183654785, -5.2241997718811035, -5.268799781799316, -5.275199890136719, -5.3282999992370605, -5.401599884033203, -5.433300018310547, -5.466000080108643, -3.9593000411987305, -5.5991997718811035, -5.677599906921387, -5.690499782562256, -5.720099925994873, -5.72730016708374, -5.72730016708374, -5.768499851226807, -5.7733001708984375, -5.800600051879883, -5.810299873352051, -5.868500232696533, -5.92080020904541, -5.927999973297119, -6.026299953460693, -6.066299915313721, -6.08050012588501, -4.57289981842041, -1.9503999948501587, -3.6447999477386475, -2.9728000164031982, -4.546800136566162, -4.2804999351501465, -3.371299982070923, -5.107800006866455, -3.843899965286255, -5.2600998878479, -4.289999961853027, -4.593200206756592, -4.637199878692627, -4.361000061035156, -4.6875, -4.973499774932861, -5.1234002113342285, -5.259099960327148, -4.037600040435791, -4.283199787139893, -4.938899993896484, -5.10260009765625, -5.207699775695801, -5.295199871063232, -5.380899906158447, -5.476200103759766, -5.480100154876709, -5.545400142669678, -5.555699825286865, -5.632500171661377, -5.633900165557861, -5.664700031280518, -5.670000076293945, -5.685299873352051, -5.694799900054932, -5.7042999267578125, -5.720399856567383, -5.779699802398682, -5.787799835205078, -5.7957000732421875, -5.823400020599365, -5.85830020904541, -5.884300231933594, -5.8867998123168945, -5.901199817657471, -5.922900199890137, -5.9558000564575195, -5.967800140380859, -4.750800132751465, -4.131499767303467, -3.8768999576568604, -5.182400226593018, -5.361299991607666, -4.7683000564575195, -4.464399814605713, -3.7808001041412354, -5.434899806976318, -3.8141000270843506, -4.5055999755859375, -4.874800205230713, -4.672999858856201, -4.655799865722656, -5.30079984664917, -5.535799980163574, -5.5391998291015625, -4.408299922943115, -4.678899765014648, -4.793300151824951, -5.313700199127197, -4.944200038909912, -5.106500148773193, -4.985899925231934, -4.97130012512207, -5.320899963378906, -5.378600120544434, -4.543300151824951, -4.571599960327148, -4.571599960327148, -4.571599960327148, -4.571599960327148, -4.571599960327148, -4.589300155639648, -4.874499797821045, -4.962200164794922, -5.038700103759766, -5.038700103759766, -5.07289981842041, -5.232500076293945, -5.263199806213379, -5.263199806213379, -5.263199806213379, -5.263199806213379, -5.263199806213379, -5.263199806213379, -5.263199806213379, -5.263199806213379, -5.263199806213379, -5.263199806213379, -5.263199806213379, -5.263199806213379, -5.371600151062012, -4.692999839782715, -5.521399974822998, -5.535799980163574, -5.680799961090088, -4.872000217437744, -4.708399772644043, -4.6194000244140625, -4.972099781036377, -2.9017999172210693, -3.6221001148223877, -3.901599884033203, -3.966099977493286, -4.1890997886657715, -4.276000022888184, -4.276000022888184, -4.422500133514404, -4.594200134277344, -4.658599853515625, -4.673699855804443, -4.727499961853027, -4.801599979400635, -4.801599979400635, -4.968400001525879, -4.968400001525879, -5.063499927520752, -5.063499927520752, -5.168700218200684, -5.168700218200684, -5.168700218200684, -5.168700218200684, -5.286200046539307, -5.286200046539307, -5.419400215148926, -5.419400215148926, -5.419400215148926, -5.419400215148926, -5.5731000900268555, -5.5731000900268555, -5.5731000900268555, -5.5731000900268555, -5.5731000900268555, -5.425099849700928, -5.281199932098389, -4.214399814605713, -4.786399841308594, -4.815100193023682, -4.815100193023682, -4.911499977111816, -4.974800109863281, -5.017600059509277, -5.185999870300293, -5.238900184631348, -5.268099784851074, -5.404099941253662, -5.430200099945068, -5.431000232696533, -5.491799831390381, -5.6269001960754395, -5.63700008392334, -5.363399982452393, -5.7906999588012695, -5.823200225830078, -5.823200225830078, -5.826300144195557, -5.834400177001953, -5.860599994659424, -5.911099910736084, -5.911099910736084, -5.911099910736084, -5.911099910736084, -5.911099910736084, -5.929999828338623, -5.93310022354126, -3.5996999740600586, -2.40120005607605, -5.112400054931641, -5.219900131225586, -4.286799907684326, -3.8531999588012695, -4.296800136566162, -5.29010009765625, -5.165500164031982, -4.78000020980835, -5.092400074005127, -5.359600067138672, -5.226900100708008, -5.408599853515625, -4.207699775695801, -4.388500213623047, -4.522799968719482, -4.688499927520752, -4.697500228881836, -4.80810022354126, -4.820499897003174, -4.899700164794922, -4.900199890136719, -4.916600227355957, -4.940400123596191, -5.142899990081787, -5.1579999923706055, -5.203100204467773, -5.250999927520752, -5.32289981842041, -5.334400177001953, -5.3541998863220215, -5.362400054931641, -5.475100040435791, -5.4980998039245605, -5.532899856567383, -5.553699970245361, -5.57480001449585, -5.603600025177002, -5.609099864959717, -5.615799903869629, -5.740699768066406, -5.799099922180176, -5.803100109100342, -5.310699939727783, -5.498799800872803, -5.201300144195557, -5.591700077056885, -6.184100151062012, -6.201900005340576, -6.206200122833252, -6.234600067138672, -6.469600200653076, -6.686699867248535, -6.745999813079834, -6.784200191497803, -6.818900108337402, -6.984799861907959, -7.060699939727783, -7.0756001472473145, -7.192399978637695, -7.19320011138916, -7.2418999671936035, -7.328199863433838, -7.380300045013428, -7.396399974822998, -7.407599925994873, -7.446400165557861, -7.530799865722656, -7.531300067901611, -7.539000034332275, -7.5482001304626465, -7.553599834442139, -6.662899971008301, -7.568699836730957, -7.378399848937988, -7.674900054931641, -6.331099987030029, -6.964700222015381, -4.394499778747559, -6.882900238037109, -7.274700164794922, -6.6006999015808105, -5.040599822998047, -5.994200229644775, -5.967899799346924, -4.711699962615967, -6.819300174713135, -5.914100170135498, -6.408899784088135, -6.623499870300293, -4.37060022354126, -6.389699935913086, -6.10290002822876, -5.441500186920166, -5.604000091552734, -5.795599937438965, -5.228600025177002, -6.127799987792969, -6.134699821472168, -5.960899829864502, -5.928199768066406, -5.78249979019165, -5.459499835968018, -5.42080020904541, -4.495200157165527, -6.004300117492676, -5.838200092315674, -4.536499977111816, -5.226399898529053, -5.402900218963623, -5.265699863433838, -5.787199974060059, -5.309800148010254, -5.649099826812744, -5.636600017547607, -5.892499923706055, -5.893700122833252, -5.6570000648498535, -5.775700092315674, -5.682400226593018, -5.782299995422363, -5.873300075531006, -4.291500091552734, -4.423399925231934, -4.797699928283691, -4.913000106811523, -4.986999988555908, -5.2683000564575195, -5.275400161743164, -5.43209981918335, -5.471700191497803, -5.487400054931641, -5.536099910736084, -5.604899883270264, -5.668000221252441, -5.6722002029418945, -5.715700149536133, -5.725399971008301, -5.7469000816345215, -5.758699893951416, -5.758699893951416, -5.765699863433838, -5.866199970245361, -5.876500129699707, -5.926400184631348, -5.929800033569336, -5.940499782562256, -5.940499782562256, -5.940499782562256, -5.940499782562256, -5.965700149536133, -5.989200115203857, -5.2692999839782715, -5.581500053405762, -5.412899971008301, -4.647799968719482, -5.222799777984619, -4.730500221252441, -5.692599773406982, -2.7439000606536865, -3.2572999000549316, -3.9019999504089355, -4.442599773406982, -4.783599853515625, -4.943600177764893, -4.952899932861328, -5.24970006942749, -5.356400012969971, -5.399499893188477, -5.537899971008301, -5.539000034332275, -5.539000034332275, -5.592700004577637, -5.629799842834473, -5.629799842834473, -5.680699825286865, -5.69890022277832, -5.764500141143799, -5.768700122833252, -5.806399822235107, -5.8471999168396, -5.8471999168396, -5.892000198364258, -5.941500186920166, -5.973100185394287, -6.018599987030029, -6.018599987030029, -6.038899898529053, -6.045499801635742, -6.045499801635742, -5.335999965667725, -5.106500148773193, -5.445300102233887, -5.962699890136719, -4.942800045013428, -5.370999813079834, -5.703499794006348, -6.092899799346924, -6.105400085449219, -6.247300148010254, -6.302000045776367, -6.319399833679199, -6.357800006866455, -6.358099937438965, -6.3892998695373535, -6.472599983215332, -6.51140022277832, -6.518499851226807, -6.609300136566162, -6.619100093841553, -6.64169979095459, -6.6545000076293945, -6.747499942779541, -6.7565999031066895, -6.813799858093262, -6.833099842071533, -6.860499858856201, -6.912799835205078, -6.928599834442139, -6.938399791717529, -6.953800201416016, -6.970799922943115, -6.979700088500977, -6.991099834442139, -4.400400161743164, -3.9272000789642334, -5.986000061035156, -4.651700019836426, -4.349699974060059, -6.174200057983398, -4.485899925231934, -6.12470006942749, -4.694799900054932, -5.960700035095215, -4.216599941253662, -5.279699802398682, -4.673299789428711, -3.6921000480651855, -3.9195001125335693, -5.1057000160217285, -5.3024001121521, -5.149799823760986, -4.776199817657471, -4.234899997711182, -5.585400104522705, -5.944799900054932, -5.978700160980225, -5.7733001708984375, -5.42549991607666, -4.660399913787842, -5.1768999099731445, -5.7916998863220215, -5.589000225067139, -5.41480016708374, -5.49459981918335, -5.393400192260742, -5.128499984741211, -5.54610013961792, -5.409599781036377, -5.5100998878479, -5.510799884796143, -3.338099956512451, -4.261199951171875, -4.4096999168396, -4.435299873352051, -4.888500213623047, -5.0416998863220215, -5.263899803161621, -5.550099849700928, -5.550099849700928, -5.550099849700928, -5.550099849700928, -5.573299884796143, -5.617599964141846, -5.952499866485596, -5.952499866485596, -5.952499866485596, -6.425899982452393, -6.434000015258789, -3.8160998821258545, -6.596399784088135, -6.636600017547607, -6.636600017547607, -6.636600017547607, -6.636600017547607, -6.636600017547607, -6.636600017547607, -6.636600017547607, -6.636600017547607, -6.636600017547607, -6.636600017547607, -6.636600017547607, -5.834499835968018, -6.636600017547607, -6.636600017547607, -6.636600017547607, -6.636600017547607, -6.636600017547607, -6.636600017547607, -6.636600017547607, -6.636600017547607, -6.636600017547607, -6.636600017547607, -6.636600017547607, -6.636600017547607, -6.636600017547607, -6.636600017547607, -3.534899950027466, -3.7578999996185303, -4.045199871063232, -4.449999809265137, -4.449999809265137, -4.449999809265137, -4.470200061798096, -4.720900058746338, -4.87470006942749, -4.87470006942749, -4.922299861907959, -4.944900035858154, -4.990300178527832, -5.042600154876709, -5.056399822235107, -5.056399822235107, -5.056399822235107, -5.141200065612793, -5.141200065612793, -5.141200065612793, -5.141200065612793, -5.141200065612793, -5.141200065612793, -5.141200065612793, -5.141200065612793, -5.141200065612793, -5.141200065612793, -5.564799785614014, -5.967199802398682, -5.967199802398682, -5.967199802398682, -5.362199783325195, -5.967199802398682, -1.9620000123977661, -3.0685999393463135, -3.2534000873565674, -3.7614998817443848, -4.04640007019043, -4.298399925231934, -4.638700008392334, -4.638700008392334, -4.700500011444092, -4.746799945831299, -4.949900150299072, -4.982399940490723, -5.0177998542785645, -5.159599781036377, -5.287600040435791, -5.418099880218506, -5.452700138092041, -5.488399982452393, -5.494900226593018, -5.498300075531006, -5.518199920654297, -5.526100158691406, -5.538300037384033, -5.565899848937988, -5.62060022354126, -5.734600067138672, -5.734600067138672, -5.734600067138672, -5.734600067138672, -5.734600067138672, -5.734600067138672, -5.734600067138672, -5.734600067138672, -5.090700149536133, -4.734000205993652, -4.2870001792907715, -5.596199989318848, -5.6859002113342285, -5.624800205230713, -5.418499946594238, -5.850900173187256, -6.23769998550415, -6.29610013961792, -6.361499786376953, -6.28380012512207, -6.461400032043457, -6.515900135040283, -6.528900146484375, -6.541999816894531, -6.60830020904541, -6.664299964904785, -6.664599895477295, -6.67519998550415, -6.676199913024902, -6.676199913024902, -6.681399822235107, -6.709199905395508, -6.709199905395508, -6.709199905395508, -6.709199905395508, -6.715799808502197, -6.7221999168396, -6.754300117492676, -6.759300231933594, -6.760200023651123, -6.780300140380859, -6.794400215148926, -6.840400218963623, -6.862299919128418, -6.220099925994873, -6.155900001525879, -6.32420015335083, -3.2741000652313232, -3.1412999629974365, -6.139900207519531, -6.662199974060059, -4.569399833679199, -4.668399810791016, -4.907599925994873, -6.496300220489502, -5.680200099945068, -5.774899959564209, -5.073400020599365, -5.401700019836426, -5.602700233459473, -3.6547999382019043, -5.333700180053711, -5.070000171661377, -6.126100063323975, -5.6869001388549805, -5.897200107574463, -5.976600170135498, -4.740699768066406, -6.037899971008301, -4.825399875640869, -5.311800003051758, -5.748700141906738, -5.354000091552734, -5.7515997886657715, -5.541999816894531, -5.521100044250488, -5.485400199890137, -5.621699810028076, -5.760900020599365, -5.8471999168396, -5.6269001960754395, -5.682199954986572, -5.838799953460693, -5.800000190734863, -5.474400043487549, -5.482600212097168, -5.830900192260742, -6.202600002288818, -6.208600044250488, -6.224400043487549, -6.243899822235107, -6.4274001121521, -6.435299873352051, -6.482100009918213, -6.4903998374938965, -6.503900051116943, -6.50600004196167, -6.5167999267578125, -6.5335001945495605, -6.586900234222412, -6.59660005569458, -6.625800132751465, -6.6508002281188965, -6.6595001220703125, -6.691699981689453, -6.734300136566162, -6.7565999031066895, -6.783100128173828, -6.282400131225586, -6.808800220489502, -6.8993000984191895, -6.928500175476074, -6.9791998863220215, -6.9984002113342285, -5.515900135040283, -6.014699935913086, -5.936100006103516, -4.807799816131592, -5.107100009918213, -5.652100086212158, -5.527599811553955, -5.211400032043457, -5.168799877166748, -4.510900020599365, -6.157299995422363, -5.788000106811523, -5.072999954223633, -5.689799785614014, -5.6554999351501465, -4.4369001388549805, -6.263800144195557, -4.486700057983398, -5.905799865722656, -4.799499988555908, -3.9609999656677246, -5.566199779510498, -5.1255998611450195, -5.299099922180176, -4.9355998039245605, -5.301700115203857, -5.582399845123291, -5.752299785614014, -4.8480000495910645, -5.395400047302246, -5.059299945831299, -5.439700126647949, -5.534800052642822, -5.64870023727417, -5.638999938964844, -5.675300121307373, -2.600800037384033, -4.282899856567383, -4.361499786376953, -4.5177001953125, -4.619999885559082, -4.631899833679199, -4.901500225067139, -5.203800201416016, -5.300600051879883, -5.372399806976318, -5.372399806976318, -5.3892998695373535, -5.415500164031982, -5.431300163269043, -5.453199863433838, -5.4604997634887695, -5.490799903869629, -5.662199974060059, -5.678999900817871, -5.6809000968933105, -5.8105998039245605, -5.8155999183654785, -5.86929988861084, -5.920199871063232, -5.945099830627441, -4.397900104522705, -5.980299949645996, -5.990799903869629, -5.9984002113342285, -5.9984002113342285, -5.9984002113342285, -5.9984002113342285, -4.832799911499023, -4.836100101470947, -5.185999870300293, -5.6707000732421875, -5.439899921417236, -5.339700222015381, -5.219399929046631, -4.864299774169922, -5.608399868011475, -4.743500232696533, -4.64769983291626, -5.411499977111816, -5.298299789428711, -5.210899829864502, -5.168499946594238, -5.13070011138916, -5.259900093078613, -5.283400058746338, -5.354499816894531, -5.375500202178955, -5.39870023727417, -4.918799877166748, -5.186399936676025, -5.240799903869629, -5.338799953460693, -5.609799861907959, -5.609799861907959, -5.691100120544434, -5.816500186920166, -5.816500186920166, -5.833899974822998, -5.91379976272583, -5.976200103759766, -5.990799903869629, -6.034200191497803, -6.104899883270264, -6.132699966430664, -6.200799942016602, -6.205900192260742, -6.210999965667725, -6.228799819946289, -6.242000102996826, -6.247300148010254, -6.281599998474121, -6.304100036621094, -6.304100036621094, -6.318299770355225, -6.3246002197265625, -6.329699993133545, -6.3354997634887695, -6.361800193786621, -4.833600044250488, -4.729000091552734, -4.5817999839782715, -4.195499897003174, -4.720699787139893, -4.816400051116943, -4.774899959564209, -4.830399990081787, -3.5589001178741455, -4.893099784851074, -5.6666998863220215, -5.4527997970581055, -3.812700033187866, -4.693399906158447, -3.9930999279022217, -4.803500175476074, -4.5995001792907715, -5.05709981918335, -5.583700180053711, -4.5040998458862305, -4.761899948120117, -4.072299957275391, -5.07889986038208, -4.426300048828125, -5.005099773406982, -4.831099987030029, -4.977700233459473, -4.5279998779296875, -4.62939977645874, -4.815000057220459, -5.049200057983398, -4.0777997970581055, -4.3790998458862305, -4.583700180053711, -4.756899833679199, -4.784200191497803, -4.790500164031982, -4.897500038146973, -5.071599960327148, -5.109300136566162, -5.1315999031066895, -5.1315999031066895, -5.1442999839782715, -5.148499965667725, -5.189199924468994, -5.2316999435424805, -5.2316999435424805, -2.9096999168395996, -5.3069000244140625, -5.371300220489502, -5.371300220489502, -5.371300220489502, -5.371300220489502, -5.44290018081665, -5.476500034332275, -5.476500034332275, -5.476500034332275, -5.476500034332275, -5.476500034332275, -5.5335001945495605, -5.5335001945495605, -5.5335001945495605, -5.5335001945495605, -5.276599884033203, -5.2444000244140625, -3.6386001110076904, -4.691699981689453, -4.6219000816345215, -5.189199924468994, -10.328100204467773, -10.328100204467773, -10.328100204467773, -10.328100204467773, -10.328100204467773, -10.328100204467773, -10.328100204467773, -10.328100204467773, -10.328100204467773, -10.328100204467773, -10.328100204467773, -10.328100204467773, -10.328100204467773, -10.328100204467773, -10.328100204467773, -10.328100204467773, -10.328100204467773, -10.328100204467773, -10.328100204467773, -10.328100204467773, -10.328100204467773, -10.328100204467773, -10.328100204467773, -10.328100204467773, -10.328100204467773, -10.328100204467773, -10.328100204467773, -10.328100204467773, -10.328100204467773, -10.328100204467773, -10.328100204467773, -10.328100204467773, -10.328100204467773, -10.328100204467773, -10.328100204467773, -10.328100204467773, -10.328100204467773, -10.328100204467773, -10.328100204467773, -10.328100204467773, -10.328100204467773, -10.328100204467773, -10.328100204467773, -10.328100204467773, -10.328100204467773, -10.328100204467773, -10.328100204467773, -10.328100204467773, -10.328100204467773, -10.328100204467773, -10.328100204467773, -10.328100204467773, -10.328100204467773, -10.328100204467773, -10.328100204467773, -10.328100204467773, -10.328100204467773, -10.328100204467773, -10.328100204467773, -10.328100204467773, -10.328100204467773, -10.328100204467773, -10.328100204467773]}, \"token.table\": {\"Topic\": [10, 28, 22, 7, 26, 7, 13, 6, 16, 12, 13, 6, 17, 19, 28, 36, 39, 16, 16, 35, 37, 36, 10, 6, 36, 6, 9, 19, 20, 27, 19, 35, 4, 9, 20, 35, 31, 17, 20, 31, 24, 26, 15, 19, 3, 16, 17, 20, 23, 28, 37, 28, 33, 10, 38, 3, 7, 16, 17, 19, 20, 28, 31, 35, 36, 3, 7, 16, 17, 20, 28, 31, 4, 29, 10, 39, 19, 34, 17, 19, 20, 31, 35, 13, 18, 13, 25, 16, 9, 3, 14, 11, 6, 12, 16, 17, 19, 20, 28, 31, 36, 33, 18, 36, 34, 7, 17, 19, 20, 28, 31, 35, 8, 11, 1, 18, 28, 1, 18, 7, 28, 36, 27, 19, 37, 7, 16, 36, 16, 25, 16, 23, 7, 12, 31, 36, 1, 1, 19, 16, 19, 20, 23, 28, 36, 34, 22, 14, 17, 20, 31, 35, 25, 16, 22, 31, 35, 18, 27, 3, 20, 16, 17, 20, 31, 13, 29, 32, 27, 31, 18, 19, 28, 35, 19, 3, 4, 33, 17, 28, 39, 15, 31, 19, 23, 28, 20, 31, 36, 37, 17, 19, 22, 28, 17, 20, 31, 19, 16, 16, 17, 16, 17, 20, 17, 13, 3, 16, 17, 19, 20, 28, 31, 36, 28, 4, 7, 10, 16, 17, 29, 10, 31, 27, 30, 16, 28, 38, 39, 17, 20, 28, 4, 28, 39, 15, 19, 29, 20, 38, 29, 26, 3, 22, 20, 17, 20, 28, 31, 36, 5, 6, 1, 28, 30, 37, 33, 7, 39, 4, 39, 6, 23, 16, 7, 19, 20, 35, 31, 24, 11, 17, 16, 17, 19, 20, 28, 31, 36, 37, 26, 31, 1, 3, 19, 36, 38, 7, 17, 19, 31, 35, 29, 3, 20, 24, 36, 35, 31, 11, 12, 2, 2, 33, 17, 37, 28, 16, 20, 23, 28, 22, 19, 20, 28, 35, 19, 20, 35, 9, 16, 19, 28, 35, 7, 19, 29, 38, 10, 36, 9, 15, 5, 15, 20, 16, 17, 20, 28, 29, 9, 19, 28, 27, 31, 28, 23, 17, 35, 19, 33, 18, 36, 10, 16, 17, 19, 20, 28, 31, 35, 36, 37, 25, 37, 17, 20, 28, 31, 17, 20, 28, 31, 12, 25, 27, 30, 11, 11, 17, 3, 19, 28, 3, 9, 11, 16, 17, 19, 28, 36, 37, 18, 19, 28, 25, 38, 16, 17, 19, 20, 28, 31, 37, 3, 16, 17, 19, 20, 28, 31, 35, 36, 39, 16, 17, 19, 20, 28, 31, 35, 36, 16, 17, 20, 20, 28, 35, 19, 38, 3, 19, 20, 26, 31, 35, 26, 3, 19, 20, 16, 23, 28, 19, 28, 4, 28, 28, 16, 28, 31, 3, 19, 28, 36, 28, 35, 36, 17, 19, 20, 28, 31, 35, 36, 15, 17, 29, 18, 20, 27, 10, 11, 11, 17, 20, 31, 16, 17, 28, 36, 12, 6, 19, 13, 11, 28, 17, 19, 36, 22, 38, 16, 19, 20, 23, 28, 31, 35, 36, 37, 16, 17, 20, 28, 37, 19, 19, 35, 38, 4, 18, 19, 20, 28, 35, 36, 16, 28, 12, 30, 19, 36, 38, 4, 3, 9, 19, 28, 2, 12, 35, 39, 36, 2, 16, 28, 10, 28, 13, 28, 10, 28, 28, 3, 28, 27, 30, 37, 10, 6, 14, 31, 3, 10, 19, 20, 28, 36, 3, 9, 19, 28, 34, 39, 36, 37, 7, 16, 19, 23, 28, 4, 3, 7, 16, 17, 19, 20, 28, 31, 36, 37, 39, 16, 17, 20, 22, 28, 31, 36, 1, 33, 28, 16, 20, 16, 17, 13, 16, 25, 4, 19, 37, 34, 16, 17, 36, 38, 22, 28, 31, 23, 28, 28, 17, 27, 25, 36, 3, 16, 18, 19, 37, 9, 16, 17, 20, 28, 36, 37, 25, 3, 13, 8, 7, 34, 30, 16, 17, 20, 31, 36, 30, 16, 20, 22, 28, 31, 36, 16, 37, 7, 16, 20, 22, 15, 8, 25, 36, 9, 16, 17, 20, 28, 9, 18, 36, 10, 7, 16, 17, 18, 19, 20, 23, 28, 31, 35, 36, 3, 9, 19, 28, 31, 36, 15, 18, 19, 20, 23, 28, 35, 36, 36, 19, 23, 28, 36, 20, 3, 7, 17, 20, 28, 28, 36, 13, 1, 20, 23, 8, 16, 17, 20, 28, 31, 35, 23, 36, 39, 38, 37, 13, 19, 23, 8, 17, 16, 17, 20, 28, 5, 3, 16, 19, 25, 25, 28, 32, 16, 17, 20, 28, 31, 37, 1, 16, 28, 31, 33, 7, 16, 17, 19, 20, 28, 35, 36, 6, 19, 36, 26, 17, 29, 12, 6, 36, 20, 1, 17, 18, 19, 20, 28, 31, 35, 36, 19, 31, 35, 36, 16, 17, 20, 28, 31, 34, 16, 17, 19, 20, 31, 35, 37, 38, 16, 20, 31, 17, 36, 20, 8, 25, 17, 20, 28, 28, 37, 8, 18, 28, 18, 19, 28, 35, 25, 27, 7, 6, 28, 35, 3, 20, 22, 3, 9, 9, 34, 3, 8, 5, 28, 19, 35, 32, 38, 17, 28, 10, 17, 13, 1, 10, 23, 31, 4, 16, 31, 16, 30, 36, 25, 34, 4, 14, 17, 31, 23, 12, 13, 12, 17, 28, 36, 16, 27, 30, 28, 23, 27, 2, 16, 17, 24, 39, 29, 35, 5, 29, 16, 17, 20, 31, 3, 9, 19, 28, 35, 11, 33, 33, 7, 32, 16, 38, 29, 31, 34, 29, 3, 16, 19, 20, 27, 28, 35, 16, 6, 18, 39, 39, 11, 16, 17, 20, 31, 28, 18, 25, 28, 34, 28, 20, 13, 16, 20, 28, 31, 20, 28, 31, 2, 20, 29, 34, 27, 3, 16, 17, 19, 20, 23, 28, 11, 16, 17, 19, 37, 16, 12, 20, 8, 3, 9, 28, 38, 18, 19, 28, 35, 14, 24, 6, 7, 15, 8, 20, 25, 23, 29, 4, 28, 28, 36, 3, 16, 17, 19, 36, 37, 29, 2, 26, 12, 16, 17, 20, 22, 28, 31, 36, 37, 24, 22, 23, 5, 6, 37, 35, 11, 13, 30, 31, 7, 20, 9, 14, 14, 7, 19, 20, 28, 3, 16, 19, 28, 36, 8, 9, 24, 32, 10, 33, 16, 36, 20, 16, 17, 19, 20, 28, 36, 16, 17, 20, 16, 19, 37, 10, 20, 37, 3, 7, 19, 20, 35, 36, 17, 20, 8, 39, 10, 2, 37, 4, 23, 31, 7, 19, 28, 29, 35, 36, 38, 7, 16, 19, 7, 19, 22, 23, 21, 23, 39, 7, 19, 35, 38, 1, 7, 17, 19, 28, 35, 36, 25, 17, 20, 31, 33, 21, 27, 16, 7, 19, 35, 37, 19, 16, 17, 19, 20, 28, 31, 35, 36, 37, 19, 23, 28, 36, 4, 19, 36, 7, 16, 17, 19, 20, 23, 28, 31, 35, 36, 4, 31, 28, 14, 11, 16, 33, 1, 38, 13, 6, 4, 7, 11, 19, 28, 31, 35, 6, 31, 23, 34, 16, 16, 7, 18, 19, 20, 28, 35, 36, 2, 2, 1, 33, 18, 19, 29, 35, 38, 6, 29, 39, 13, 22, 14, 3, 16, 19, 28, 35, 19, 38, 3, 16, 19, 20, 28, 31, 35, 1, 19, 19, 20, 20, 28, 16, 20, 22, 28, 37, 8, 17, 14, 19, 28, 38, 14, 26, 39, 37, 26, 35, 3, 17, 20, 28, 31, 35, 11, 37, 15, 14, 3, 7, 17, 19, 20, 28, 31, 35, 17, 20, 22, 28, 31, 35, 37, 10, 17, 17, 20, 31, 35, 8, 33, 17, 28, 1, 3, 7, 17, 19, 20, 28, 31, 35, 35, 3, 17, 20, 23, 28, 7, 3, 16, 19, 3, 8, 19, 27, 33, 39, 28, 35, 17, 18, 19, 28, 35, 39, 19, 29, 39, 17, 2, 35, 31, 7, 9, 19, 28, 31, 35, 36, 38, 30, 10, 16, 17, 19, 20, 28, 31, 35, 36, 37, 20, 26, 35, 16, 17, 20, 28, 31, 18, 19, 6, 3, 16, 27, 7, 18, 18, 19, 22, 5, 3, 24, 7, 3, 7, 26, 34, 17, 19, 26, 28, 35, 36, 34, 37, 23, 16, 17, 28, 17, 19, 22, 14, 3, 16, 19, 20, 28, 37, 38, 1, 4, 27, 14, 17, 10, 27, 16, 17, 20, 31, 9, 24, 37, 7, 16, 19, 23, 28, 19, 20, 28, 36, 19, 2, 19, 28, 31, 34, 8, 26, 3, 7, 9, 19, 20, 28, 35, 38, 19, 10, 19, 38, 19, 20, 28, 35, 36, 9, 19, 20, 31, 16, 20, 23, 35, 10, 19, 18, 9, 3, 19, 28, 31, 35, 13, 3, 10, 12, 26, 10, 31, 3, 24, 39, 29, 26, 28, 35, 30, 22, 3, 20, 31, 23, 11, 16, 17, 20, 31, 30, 16, 17, 20, 31, 36, 37, 12, 16, 17, 20, 28, 17, 31, 35, 37, 7, 16, 17, 19, 20, 28, 36, 39, 16, 37, 16, 20, 28, 31, 17, 20, 31, 36, 31, 35, 23, 28, 19, 23, 28, 23, 28, 36, 1, 5, 9, 16, 17, 20, 28, 16, 19, 37, 13, 9, 10, 19, 9, 30, 9, 28, 35, 8, 16, 31, 31, 22, 16, 17, 31, 34, 16, 19, 20, 36, 16, 19, 20, 28, 3, 27, 16, 17, 18, 19, 20, 28, 35, 36, 17, 21, 16, 17, 31, 37, 16, 17, 20, 31, 36, 9, 33, 12, 14, 4, 28, 37, 17, 20, 28, 16, 19, 26, 28, 35, 36, 2, 9, 15, 9, 32, 6, 26, 16, 29, 16, 7, 17, 19, 31, 35, 36, 38, 34, 6, 24, 1, 1, 20, 19, 28, 24, 26, 39, 18, 36, 5, 8, 23, 28, 11, 27, 26, 35, 17, 34, 38, 29, 35, 4, 26, 25, 4, 32, 7, 9, 16, 22, 23, 28, 1, 36, 23, 18, 24, 13, 37, 15, 16, 19, 28, 39, 25, 16, 19, 20, 22, 28, 31, 9, 4, 7, 19, 28, 35, 16, 19, 26, 28, 35, 36, 37, 4, 19, 26, 28, 22, 8, 26, 3, 16, 17, 20, 28, 31, 16, 6, 28, 36, 19, 28, 35, 16, 35, 32, 7, 16, 19, 28, 29, 35, 36, 38, 26, 24, 29, 35, 3, 7, 19, 20, 28, 31, 35, 19, 38, 30, 17, 20, 28, 31, 35, 1, 28, 30, 34, 33, 31, 29, 16, 39, 30, 31, 34, 24, 14, 9, 13, 9, 19, 29, 35, 36, 38, 13, 7, 19, 28, 29, 38, 23, 16, 17, 20, 31, 36, 37, 23, 34, 29, 18, 19, 19, 34, 7, 16, 17, 19, 20, 28, 31, 35, 38, 24, 17, 20, 28, 31, 35, 35, 10, 35, 19, 26, 31, 35, 1, 33, 3, 16, 17, 19, 20, 28, 9, 16, 17, 31, 36, 37, 7, 19, 36, 7, 38, 37, 31, 1, 3, 12, 3, 4, 19, 28, 36, 10, 11, 7, 16, 19, 20, 28, 31, 35, 36, 38, 3, 24, 23, 19, 23, 36, 28, 9, 16, 17, 20, 28, 31, 35, 16, 17, 20, 28, 31, 35, 36, 37, 9, 18, 19, 35, 31, 35, 5, 17, 8, 20, 28, 18, 13, 22, 6, 7, 16, 17, 19, 20, 28, 31, 35, 38, 25, 9, 3, 28, 17, 8, 26, 3, 37, 17, 26, 38, 19, 35, 38, 29, 5, 1, 12, 28, 18, 24, 4, 12, 24, 18, 36, 6, 36, 3, 29, 18, 19, 37, 16, 17, 19, 20, 28, 31, 35, 36, 12, 9, 30, 3, 34, 37, 14, 22, 31, 35, 36, 37, 35, 25, 24, 25, 35, 1, 24, 38, 8, 20, 31, 36, 9, 20, 28, 31, 35, 16, 17, 19, 20, 28, 31, 16, 17, 19, 20, 26, 28, 31, 35, 37, 16, 37, 4, 18, 19, 20, 36, 15, 20, 28, 15, 29, 19, 5, 5, 26, 19, 19, 20, 28, 4, 16, 17, 20, 22, 28, 31, 35, 37, 20, 29, 39, 7, 12, 23, 28, 19, 22, 28, 19, 4, 5, 19, 19, 35, 37, 27, 20, 18, 19, 23, 28, 17, 18, 19, 20, 28, 35, 36, 16, 10, 38, 38, 26, 23, 16, 37, 3, 9, 17, 28, 31, 35, 23, 38, 1, 16, 17, 31, 35, 4, 19, 28, 36, 9, 16, 17, 18, 19, 20, 28, 31, 35, 36, 34, 7, 19, 4, 3, 17, 18, 19, 20, 28, 31, 35, 18, 26, 16, 17, 19, 20, 28, 31, 35, 36, 25, 38, 35, 34, 7, 6, 24, 16, 35, 34, 11, 28, 11, 16, 17, 19, 20, 31, 36, 37, 38, 16, 3, 17, 19, 31, 7, 25, 16, 26, 36, 20, 14, 11, 7, 23, 16, 17, 19, 20, 31, 36, 20, 16, 17, 18, 19, 20, 31, 35, 36, 37, 22, 30, 1, 19, 16, 17, 20, 28, 37, 7, 19, 31, 35, 36, 3, 16, 19, 20, 28, 35, 36, 38, 26, 3, 35, 19, 8, 19, 20, 28, 35, 36, 7, 3, 7, 16, 17, 19, 20, 28, 31, 35, 36, 27, 4, 16, 17, 31, 36, 16, 17, 36, 19, 28, 19, 2, 14, 29, 37, 30, 22, 22, 39, 12, 18, 19, 28, 35, 36, 35, 20, 17, 22, 2, 3, 7, 21, 4, 19, 33, 33, 11, 15, 25, 19, 36, 3, 9, 11, 16, 17, 28, 31, 35, 4, 15, 16, 36, 17, 28, 3, 9, 19, 20, 23, 28, 37, 32, 19, 38, 10, 16, 17, 22, 28, 7, 5, 14, 25, 6, 16, 38, 2, 5, 16, 34, 3, 9, 19, 20, 23, 28, 35, 20, 16, 17, 20, 17, 20, 28, 31, 16, 20, 31, 16, 17, 20, 28, 31, 16, 17, 19, 20, 28, 35, 34, 19, 18, 19, 36, 13, 16, 11, 18, 18, 19, 1, 8, 16, 31, 34, 5, 1, 16, 17, 28, 23, 28, 3, 16, 17, 20, 24, 28, 17, 16, 19, 28, 36, 37, 3, 19, 12, 25, 20, 28, 35, 35, 20, 3, 18, 19, 35, 11, 37, 16, 19, 28, 35, 8, 7, 19, 28, 35, 7, 19, 26, 28, 35, 3, 7, 30, 19, 35, 20, 32, 22, 4, 16, 19, 23, 31, 15, 2, 15, 31, 10, 9, 29, 18, 28, 36, 33, 24, 14, 14, 35, 39, 39, 28, 30, 38, 16, 36, 37, 18, 24, 20, 31, 31, 39, 17, 4, 19, 4, 17, 19, 28, 36, 28, 25, 3, 14, 18, 16, 17, 18, 19, 28, 35, 36, 37, 17, 18, 19, 20, 28, 35, 16, 17, 20, 28, 31, 37, 3, 16, 20, 22, 31, 4, 3, 20, 22, 31, 16, 17, 20, 28, 3, 16, 18, 19, 28, 35, 28, 5, 7, 17, 16, 17, 19, 23, 28, 35, 17, 28, 16, 17, 20, 39, 6, 10, 23, 9, 24, 18, 16, 28, 8, 28, 9, 29, 17, 4, 9, 17, 19, 20, 28, 4, 28, 18, 20, 30, 3, 7, 16, 19, 28, 35, 36, 37, 7, 17, 34, 20, 35, 29, 10, 3, 3, 2, 31, 8, 4, 19, 20, 28, 35, 36, 36, 10, 20, 30, 32, 2, 2, 20, 15, 19, 29, 3, 19, 20, 31, 17, 28, 2, 17, 36, 18, 6, 36, 37, 27, 3, 16, 20, 31, 10, 16, 35, 3, 10, 16, 19, 20, 28, 31, 35, 20, 20, 38, 9, 19, 20, 31, 35, 36, 22, 30, 13, 16, 31, 35, 4, 16, 17, 28, 25, 1, 4, 10, 37, 10, 11, 31, 15, 5, 7, 9, 28, 30, 8, 12, 20, 36, 12, 16, 19, 20, 36, 23, 12, 24, 24, 9, 16, 16, 17, 20, 28, 19, 38, 3, 16, 23, 34, 15, 6, 17, 9, 9, 16, 17, 19, 20, 28, 31, 36, 13, 6, 35, 12, 13, 14, 27, 9, 19, 31, 35, 31, 6, 37, 3, 19, 31, 11, 34, 16, 17, 20, 31, 36, 6, 11, 27, 17, 31, 3, 33, 13, 32, 17, 22, 30, 24, 3, 28, 31, 3, 16, 19, 23, 28, 16, 26, 11, 35, 10, 20, 35, 2, 20, 38, 8, 38, 5, 7, 12, 17, 17, 18, 19, 20, 28, 35, 36, 4, 19, 26, 34, 18, 38, 17, 20, 28, 31, 33, 10, 19, 23, 12, 8, 30, 3, 3, 19, 28, 38, 17, 27, 26, 13, 29, 35, 36, 26, 25, 18, 19, 19, 12, 16, 16, 17, 19, 20, 36, 22, 27, 36, 10, 18, 31, 16, 17, 20, 31, 9, 35, 3, 24, 31, 2, 16, 17, 20, 31, 36, 37, 17, 14, 13, 34, 1, 28, 19, 20, 35, 4, 23, 5, 33, 22, 19, 4, 7, 19, 22, 28, 31, 5, 23, 28, 31, 35, 38, 22, 4, 16, 17, 19, 20, 28, 31, 36, 7, 19, 29, 31, 8, 25, 6, 35, 27, 23, 36, 7, 36, 20, 4, 36, 17, 13, 26, 3, 6, 17, 19, 35, 9, 35, 5, 10, 17, 28, 10, 37, 6, 7, 36, 38, 3, 3, 26, 26, 35, 37, 24, 2, 2, 35, 4, 9, 3, 19, 36, 38, 24, 12, 11, 16, 20, 29, 39, 31, 7, 19, 28, 35, 7, 8, 11, 12, 23, 16, 24, 12, 30, 23, 39, 16, 17, 20, 31, 20, 31, 35, 25, 28, 3, 19, 20, 26, 35, 36, 19, 31, 35, 18, 19, 7, 17, 19, 20, 28, 31, 35, 36, 4, 13, 34, 19, 31, 36, 8, 19, 20, 11, 37, 19, 28, 34, 17, 31, 35, 22, 8, 10, 17, 34, 30, 4, 7, 26, 9, 19, 6, 16, 17, 1, 26, 32, 11, 8, 29, 28, 9, 16, 17, 20, 28, 14, 19, 28, 35, 36, 2, 14, 19, 36, 38, 9, 11, 12, 3, 12, 13, 23, 2, 16, 20, 22, 28, 31, 16, 17, 20, 31, 36, 8, 9, 31, 17, 18, 19, 20, 28, 31, 30, 2, 6, 22, 16, 20, 28, 31, 26, 31, 34, 33, 27, 8, 11, 17, 11, 5, 14, 20, 17, 31, 35, 11, 3, 7, 10, 28, 10, 37, 35, 30, 4, 4, 9, 16, 17, 19, 20, 28, 31, 35, 36, 11, 14, 4, 4, 7, 35, 27, 35, 3, 7, 16, 17, 19, 20, 28, 31, 35, 36, 9, 5, 12, 18, 19, 35, 37, 8, 27, 3, 16, 17, 19, 20, 31, 35, 36, 37, 38, 3, 4, 19, 35, 16, 17, 20, 28, 31, 37, 16, 17, 31, 37, 13, 2, 19, 8, 3, 8, 2, 16, 23, 16, 17, 18, 19, 20, 28, 31, 35, 36, 37, 38, 28, 39, 17, 28, 18, 3, 4, 16, 17, 28, 36, 14, 27, 23, 28, 10, 17, 19, 20, 26, 28, 31, 29, 19, 36, 5, 5, 20, 23, 8, 28, 7, 18, 19, 20, 28, 31, 35, 36, 38, 7, 6, 16, 30, 3, 7, 11, 28, 35, 7, 9, 16, 17, 19, 20, 28, 31, 35, 36, 25, 3, 14, 16, 11, 12, 6, 11, 28, 18, 37, 19, 3, 9, 18, 19, 20, 28, 35, 36, 7, 19, 28, 36, 9, 16, 19, 31, 7, 19, 28, 36, 37, 38, 16, 17, 18, 16, 18, 19, 11, 28, 19, 20, 15, 4, 18, 33, 5, 36, 10, 7, 9, 16, 19, 20, 28, 35, 3, 7, 16, 17, 19, 20, 28, 31, 35, 35, 31, 19, 37, 1, 7, 19, 19, 23, 19, 19, 5, 22, 4, 3, 31, 13, 14, 19, 28, 25, 32, 3, 19, 28, 1, 5, 7, 19, 28, 10, 16, 22, 23, 28, 35, 22, 20, 25, 3, 7, 17, 19, 20, 28, 31, 36, 15, 28, 27, 17, 18, 19, 20, 28, 31, 35, 9, 3, 7, 16, 17, 19, 20, 28, 31, 36, 38, 22, 17, 20, 3, 16, 17, 19, 20, 28, 23, 6, 30, 3, 6, 3, 16, 18, 19, 28, 37, 2, 21, 39, 19, 36, 38, 17, 17, 22, 11, 3, 19, 18, 19, 36, 12, 10, 16, 27, 19, 27, 35, 16, 18, 19, 28, 3, 7, 16, 17, 19, 28, 35, 36, 7, 10, 17, 19, 20, 28, 31, 35, 36, 16, 31, 16, 17, 19, 20, 28, 31, 36, 38, 31, 35, 5, 18, 19, 11, 4, 17, 32, 39, 2, 26, 18, 3, 7, 16, 17, 19, 20, 28, 31, 35, 36, 7, 9, 16, 17, 19, 20, 28, 31, 35, 36, 37, 38, 30, 31, 3, 7, 19, 28, 31, 19, 2, 16, 17, 20, 28, 33, 9, 14, 14, 24], \"Freq\": [0.8774858117103577, 0.9926172494888306, 0.981246292591095, 0.9240026473999023, 0.9486274123191833, 0.9529456496238708, 0.8255841732025146, 0.9679377675056458, 0.9964626431465149, 0.8968474268913269, 0.928989827632904, 0.8342245221138, 0.9723616242408752, 0.4658483564853668, 0.031056556850671768, 0.503116250038147, 0.9779277443885803, 0.9921953678131104, 0.9332833290100098, 0.04637432470917702, 0.02318716235458851, 0.9796310067176819, 0.8763799667358398, 0.11425480991601944, 0.8813942670822144, 0.8325138688087463, 0.42368632555007935, 0.08473726361989975, 0.4801778495311737, 0.8237867951393127, 0.9613077640533447, 0.03183138370513916, 0.9880349636077881, 0.8496372103691101, 0.1499359905719757, 0.9677392840385437, 0.9884082078933716, 0.24534079432487488, 0.15265649557113647, 0.5997219681739807, 0.9468998908996582, 0.8507064580917358, 0.13125178217887878, 0.7875106930732727, 0.9278562664985657, 0.054037392139434814, 0.2019033432006836, 0.02210620604455471, 0.000982498051598668, 0.7162410616874695, 0.004421241115778685, 0.9965778589248657, 0.7231041789054871, 0.9471172094345093, 0.9160252809524536, 0.0026028219144791365, 0.006073250900954008, 0.050321221351623535, 0.07114379853010178, 0.11278894543647766, 0.28283998370170593, 0.45028817653656006, 0.006073250900954008, 0.012146501801908016, 0.006073250900954008, 0.23831193149089813, 0.07943730801343918, 0.35084813833236694, 0.019859327003359795, 0.10591641813516617, 0.1522548496723175, 0.04633843153715134, 0.9579232931137085, 0.906231701374054, 0.9287125468254089, 0.9690847396850586, 0.26487356424331665, 0.5297471284866333, 0.15726275742053986, 0.05003814771771431, 0.15726275742053986, 0.13581782579421997, 0.5003814697265625, 0.8486729264259338, 0.9624524712562561, 0.8255841135978699, 0.9723304510116577, 0.995405912399292, 0.9684774875640869, 0.9607990980148315, 0.674972653388977, 0.8080558776855469, 0.9141830205917358, 0.8536200523376465, 0.09902220219373703, 0.3960888087749481, 0.3030679523944855, 0.04501008987426758, 0.12002690881490707, 0.009002017788589, 0.027006054297089577, 0.4756116569042206, 0.9573856592178345, 0.026594046503305435, 0.8234736323356628, 0.1335972398519516, 0.008349827490746975, 0.037574224174022675, 0.12524741888046265, 0.5803130269050598, 0.0250494834035635, 0.08767319470643997, 0.9364261031150818, 0.7968706488609314, 0.9297325015068054, 0.9856692552566528, 0.986680805683136, 0.919368326663971, 0.9778062701225281, 0.984025239944458, 0.7337250709533691, 0.2668091356754303, 0.8160187602043152, 0.1275607794523239, 0.8610352873802185, 0.9610416293144226, 0.9981844425201416, 0.9913648366928101, 0.1573011577129364, 0.6292046308517456, 0.9987754225730896, 0.9469627737998962, 0.9454304575920105, 0.2220974862575531, 0.4441949725151062, 0.31093648076057434, 0.8526597619056702, 0.8029488325119019, 0.9842813014984131, 0.2520582675933838, 0.3071960210800171, 0.16541323065757751, 0.090583436191082, 0.13390594720840454, 0.04726092517375946, 0.6687188148498535, 0.9248371720314026, 0.862629771232605, 0.03751620277762413, 0.0017449397128075361, 0.2783178985118866, 0.682271420955658, 0.901150107383728, 0.7545848488807678, 0.06210574880242348, 0.16768552362918854, 0.012421149760484695, 0.9576611518859863, 0.6661077737808228, 0.058160506188869476, 0.9451082348823547, 0.4649513065814972, 0.01830516941845417, 0.4063747525215149, 0.10983102023601532, 0.849139392375946, 0.9259209632873535, 0.5440544486045837, 0.34663379192352295, 0.57772296667099, 0.28871479630470276, 0.40285784006118774, 0.2081432193517685, 0.09400016069412231, 0.9924622774124146, 0.9328514337539673, 0.9579232931137085, 0.7231041789054871, 0.8596654534339905, 0.1308186650276184, 0.9912254810333252, 0.7685844302177429, 0.985149621963501, 0.3019346296787262, 0.528385579586029, 0.1509673148393631, 0.6897644400596619, 0.17123523354530334, 0.125411719083786, 0.012058818712830544, 0.03878355026245117, 0.07756710052490234, 0.8144545555114746, 0.03878355026245117, 0.07937711477279663, 0.32472458481788635, 0.5989364385604858, 0.9785633087158203, 0.9966903924942017, 0.16266992688179016, 0.8345674276351929, 0.10697900503873825, 0.8841500282287598, 0.006292882841080427, 0.9908091425895691, 0.9945102334022522, 0.026571717113256454, 0.4623478949069977, 0.10495828092098236, 0.02922888845205307, 0.10230111330747604, 0.225859597325325, 0.03985757753252983, 0.00930010061711073, 0.8444713354110718, 0.957923173904419, 0.962272584438324, 0.9810120463371277, 0.05412425845861435, 0.9336434602737427, 0.8740741014480591, 0.9658690690994263, 0.9848012924194336, 0.9574481248855591, 0.8681304454803467, 0.3600914776325226, 0.5401371717453003, 0.96507728099823, 0.9946574568748474, 0.7953481078147888, 0.17290176451206207, 0.02593526430428028, 0.9497458338737488, 0.646752655506134, 0.9651835560798645, 0.5017481446266174, 0.3344987630844116, 0.9434260129928589, 0.9925201535224915, 0.9771475195884705, 0.8854749202728271, 0.9390161633491516, 0.9950725436210632, 0.9141926169395447, 0.9960834980010986, 0.12865392863750458, 0.24696959555149078, 0.5858348608016968, 0.032163482159376144, 0.004594783298671246, 0.5591033101081848, 0.8899980187416077, 0.9287417531013489, 0.9825252294540405, 0.883993923664093, 0.996380090713501, 0.6663937568664551, 0.9935353994369507, 0.9262294769287109, 0.9857628345489502, 0.9664210677146912, 0.6388877034187317, 0.9376683235168457, 0.9983428120613098, 0.4147587716579437, 0.31521666049957275, 0.06636140495538712, 0.18249386548995972, 0.9920663833618164, 0.9163264632225037, 0.3336482644081116, 0.5838844776153564, 0.09945035725831985, 0.02419062703847885, 0.10482604801654816, 0.11020174622535706, 0.36823511123657227, 0.02150277979671955, 0.2150277942419052, 0.0537569485604763, 0.7959983348846436, 0.9918861389160156, 0.8433622717857361, 0.03151637315750122, 0.48325103521347046, 0.0525272861123085, 0.420218288898468, 0.36770176887512207, 0.04085575044155121, 0.398343563079834, 0.08171150088310242, 0.10213937610387802, 0.9795438051223755, 0.017912622541189194, 0.9672815799713135, 0.47521206736564636, 0.47521206736564636, 0.9711095690727234, 0.9565507769584656, 0.8416826128959656, 0.6551559567451477, 0.5975648164749146, 0.8737638592720032, 0.7231041789054871, 0.9695332050323486, 0.9573178887367249, 0.9354760646820068, 0.9959773421287537, 0.4261513948440552, 0.20572826266288757, 0.36737188696861267, 0.8436093330383301, 0.05583736300468445, 0.39086154103279114, 0.013959340751171112, 0.5304549336433411, 0.20436564087867737, 0.2258778065443039, 0.5593164563179016, 0.22647090256214142, 0.031237365677952766, 0.08590275794267654, 0.43732312321662903, 0.21475689113140106, 0.08563043177127838, 0.25689128041267395, 0.05137825757265091, 0.5994130373001099, 0.9445815682411194, 0.9899519681930542, 0.9570357203483582, 0.7822515368461609, 0.5591033101081848, 0.17998695373535156, 0.7199478149414062, 0.20327754318714142, 0.07331321388483047, 0.5365194082260132, 0.186615452170372, 0.9415187239646912, 0.5188292264938354, 0.44471079111099243, 0.0370592325925827, 0.78861403465271, 0.9898555874824524, 0.9905389547348022, 0.9813278913497925, 0.05037401244044304, 0.931919276714325, 0.9823735952377319, 0.9386489391326904, 0.7879616022109985, 0.19699040055274963, 0.02042718417942524, 0.1509835422039032, 0.03996622934937477, 0.013322076760232449, 0.29841452836990356, 0.18917348980903625, 0.037301816046237946, 0.15986491739749908, 0.08881384879350662, 0.9813699126243591, 0.14053134620189667, 0.8431881070137024, 0.11409799009561539, 0.038032662123441696, 0.3270809054374695, 0.509637713432312, 0.09161742031574249, 0.008328856900334358, 0.36646968126296997, 0.5330468416213989, 0.7327176332473755, 0.9483901262283325, 0.8372504115104675, 0.8635523319244385, 0.8713442087173462, 0.9162284731864929, 0.9951007962226868, 0.9237598180770874, 0.06370757520198822, 0.015926893800497055, 0.19075165688991547, 0.11004903167486191, 0.0031442579347640276, 0.1278664916753769, 0.11319328844547272, 0.12891457974910736, 0.2410597801208496, 0.07336602360010147, 0.010480860248208046, 0.5747272372245789, 0.2694033980369568, 0.14368180930614471, 0.9926417469978333, 0.9805005788803101, 0.5937507152557373, 0.2640628218650818, 0.02031252533197403, 0.01875002309679985, 0.010937513783574104, 0.07343759387731552, 0.015625018626451492, 0.00030305879772640765, 0.021214116364717484, 0.065460704267025, 0.06788516789674759, 0.13455811142921448, 0.3900366723537445, 0.002424470381811261, 0.16183340549468994, 0.14637739956378937, 0.009394822642207146, 0.057711947709321976, 0.30032625794410706, 0.1378363072872162, 0.161929652094841, 0.18154050409793854, 0.04986760765314102, 0.020171167328953743, 0.09020993858575821, 0.19723694026470184, 0.7889477610588074, 0.006163654383271933, 0.04003632813692093, 0.9085166454315186, 0.0492754802107811, 0.44635361433029175, 0.5290116667747498, 0.013185178861021996, 0.05603700876235962, 0.02637035772204399, 0.44829607009887695, 0.02637035772204399, 0.4252220094203949, 0.9429163932800293, 0.5325007438659668, 0.1613638550043106, 0.30659133195877075, 0.19350869953632355, 0.7740347981452942, 0.5846483111381531, 0.9824007749557495, 0.9982481598854065, 0.4336722791194916, 0.558353066444397, 0.8444713354110718, 0.8603892922401428, 0.058374494314193726, 0.08121668547391891, 0.08610942959785461, 0.3587892949581146, 0.09089329093694687, 0.46403416991233826, 0.08169306814670563, 0.11232796311378479, 0.7965074181556702, 0.07910284399986267, 0.2674429416656494, 0.0226008128374815, 0.2523757517337799, 0.09417005628347397, 0.24484214186668396, 0.03766802325844765, 0.6322627067565918, 0.978422999382019, 0.9113303422927856, 0.9909285306930542, 0.9845417141914368, 0.8428665399551392, 0.2882640063762665, 0.576528012752533, 0.8193387985229492, 0.04361063241958618, 0.8140650987625122, 0.1417345553636551, 0.14270208775997162, 0.3231782615184784, 0.1301107406616211, 0.4029235541820526, 0.9720872044563293, 0.9774601459503174, 0.9915916919708252, 0.9135233163833618, 0.26378965377807617, 0.6594741940498352, 0.13703933358192444, 0.17619341611862183, 0.675408124923706, 0.9638391733169556, 0.9577037692070007, 0.16942355036735535, 0.23420314490795135, 0.10464395582675934, 0.09966091066598892, 0.08471177518367767, 0.04983045533299446, 0.07972873002290726, 0.0946778655052185, 0.07474568486213684, 0.3194987177848816, 0.29045337438583374, 0.1975082904100418, 0.0987541452050209, 0.08713601529598236, 0.9874245524406433, 0.7452477812767029, 0.035208556801080704, 0.21711944043636322, 0.9104974865913391, 0.13743914663791656, 0.10828538984060287, 0.46646013855934143, 0.016659291461110115, 0.24988935887813568, 0.016659291461110115, 0.017999976873397827, 0.9809987545013428, 0.8968474268913269, 0.8158795237541199, 0.20648398995399475, 0.061945196241140366, 0.7226939797401428, 0.957923173904419, 0.28331267833709717, 0.27970361709594727, 0.4132395386695862, 0.023459013551473618, 0.7321797609329224, 0.932018518447876, 0.9938029050827026, 0.9837033152580261, 0.9945955276489258, 0.959771454334259, 0.0067193033173680305, 0.9877375960350037, 0.9055449962615967, 0.9988242387771606, 0.9285431504249573, 0.991913914680481, 0.9745995402336121, 0.9967072010040283, 0.4740162789821625, 0.9173661470413208, 0.06795305013656616, 0.8311742544174194, 0.7145625948905945, 0.9353291988372803, 0.9655203819274902, 0.742499589920044, 0.8325605988502502, 0.9542893767356873, 0.08096842467784882, 0.28338950872421265, 0.13494737446308136, 0.1889263242483139, 0.32387369871139526, 0.9914045929908752, 0.10369522124528885, 0.1762818694114685, 0.19702091813087463, 0.5288456082344055, 0.8321754932403564, 0.980882465839386, 0.9954797029495239, 0.9783040881156921, 0.05505785718560219, 0.02502629905939102, 0.6506837606430054, 0.09509994089603424, 0.1701788306236267, 0.943562924861908, 0.0010775121627375484, 0.0048488047905266285, 0.7116968035697937, 0.10828997194766998, 0.0037712925113737583, 0.004310048650950193, 0.020472731441259384, 0.029092827811837196, 0.10721246153116226, 0.009158853441476822, 0.9510197043418884, 0.039404381066560745, 0.3500927686691284, 0.0015155531000345945, 0.1076042652130127, 0.39404380321502686, 0.09396428614854813, 0.012124424800276756, 0.8618858456611633, 0.4822194278240204, 0.9240460395812988, 0.044625621289014816, 0.9520133137702942, 0.9733016490936279, 0.02195417322218418, 0.9325616955757141, 0.990749180316925, 0.8625949025154114, 0.9579232931137085, 0.3771364390850067, 0.5657046437263489, 0.8492207527160645, 0.11982687562704086, 0.020659806206822395, 0.8553159832954407, 0.9812062978744507, 0.9534080028533936, 0.12430177628993988, 0.8523550629615784, 0.6984121799468994, 0.29100507497787476, 0.9889636039733887, 0.9905661344528198, 0.8311742544174194, 0.7892630100250244, 0.6851329803466797, 0.5465155839920044, 0.6487241387367249, 0.26089993119239807, 0.04935944452881813, 0.04230809584259987, 0.0658993348479271, 0.338910847902298, 0.004707095213234425, 0.07060642540454865, 0.3530321419239044, 0.16474832594394684, 0.004707095213234425, 0.901150107383728, 0.9368404746055603, 0.928989827632904, 0.4950884282588959, 0.9196609854698181, 0.799613356590271, 0.6659625768661499, 0.12403397262096405, 0.19048075377941132, 0.017719140276312828, 0.41196998953819275, 0.25471264123916626, 0.8201784491539001, 0.42637544870376587, 0.05038982629776001, 0.08139894902706146, 0.12016035616397858, 0.031009124591946602, 0.29071053862571716, 0.9250991940498352, 0.07354345172643661, 0.18386763334274292, 0.11032058298587799, 0.22064116597175598, 0.47805583477020264, 0.7112247943878174, 0.8687983155250549, 0.948390007019043, 0.982330322265625, 0.006564037408679724, 0.5956863760948181, 0.014769084751605988, 0.11651166528463364, 0.2642025053501129, 0.976823091506958, 0.9944583177566528, 0.9810580015182495, 0.977186918258667, 0.012158339843153954, 0.08632421493530273, 0.053496696054935455, 0.0012158339377492666, 0.03404335305094719, 0.1531950831413269, 0.0036475020460784435, 0.5969744920730591, 0.03282751888036728, 0.020669177174568176, 0.0036475020460784435, 0.10850109159946442, 0.3051593005657196, 0.21700218319892883, 0.36619117856025696, 0.9829894304275513, 0.9685319066047668, 0.926997184753418, 0.025742489844560623, 0.1841578185558319, 0.10891053825616837, 0.005940574686974287, 0.6297008991241455, 0.03366325795650482, 0.011881149373948574, 0.9978275895118713, 0.07772233337163925, 0.07772233337163925, 0.20344963669776917, 0.6377803087234497, 0.9848676919937134, 0.06559944897890091, 0.21137599647045135, 0.10933241248130798, 0.39359670877456665, 0.21137599647045135, 0.14038537442684174, 0.842312216758728, 0.849606454372406, 0.3415663540363312, 0.512349545955658, 0.9245139956474304, 0.02838992327451706, 0.3264841139316559, 0.08516976982355118, 0.22711938619613647, 0.17033953964710236, 0.035487402230501175, 0.11355969309806824, 0.7443651556968689, 0.20300868153572083, 0.9837671518325806, 0.8829222321510315, 0.9128102660179138, 0.9688816070556641, 0.526675283908844, 0.4564519226551056, 0.9422427415847778, 0.982423722743988, 0.05256855860352516, 0.869403064250946, 0.07278723269701004, 0.004043735098093748, 0.5591033101081848, 0.5099039673805237, 0.426896333694458, 0.047432925552129745, 0.9650706648826599, 0.901150107383728, 0.6780239343643188, 0.30134397745132446, 0.6047398447990417, 0.2466701865196228, 0.009946378879249096, 0.09747450798749924, 0.03779624029994011, 0.0019892756827175617, 0.8435357809066772, 0.6944684982299805, 0.15432633459568024, 0.1028842180967331, 0.025721054524183273, 0.0027007705066353083, 0.11613313108682632, 0.44697752594947815, 0.1836523860692978, 0.08642465621232986, 0.13503852486610413, 0.02025577798485756, 0.006751926150172949, 0.40722519159317017, 0.542966902256012, 0.9874102473258972, 0.8507064580917358, 0.8900769352912903, 0.9621785879135132, 0.9805518388748169, 0.9006345272064209, 0.9767619371414185, 0.9652581214904785, 0.7620478272438049, 0.05463710054755211, 0.05900806933641434, 0.048080649226903915, 0.3125242292881012, 0.2819274365901947, 0.017483871430158615, 0.22291937470436096, 0.002185483928769827, 0.7943063378334045, 0.018763141706585884, 0.08756132423877716, 0.09381570667028427, 0.6727827191352844, 0.00308615923859179, 0.23146194219589233, 0.05863702669739723, 0.00308615923859179, 0.030861593782901764, 0.5308966636657715, 0.13581077754497528, 0.057616692036390305, 0.09465599805116653, 0.0041154781356453896, 0.016461912542581558, 0.020577389746904373, 0.1440417319536209, 0.2479100227355957, 0.7303295135498047, 0.013400541618466377, 0.045546963810920715, 0.9413039088249207, 0.9788380861282349, 0.684828519821167, 0.8625949025154114, 0.023026304319500923, 0.8903504014015198, 0.07675434648990631, 0.8436522483825684, 0.8941627740859985, 0.5065127015113831, 0.7006791234016418, 0.28027164936065674, 0.45088738203048706, 0.2135782390832901, 0.23730914294719696, 0.083058200776577, 0.8776141405105591, 0.9480695724487305, 0.9580001831054688, 0.1683204025030136, 0.5722894072532654, 0.23564857244491577, 0.968268096446991, 0.06976170837879181, 0.9301560521125793, 0.41456496715545654, 0.5803909301757812, 0.8781419396400452, 0.6687188148498535, 0.9762223958969116, 0.5945185422897339, 0.5591033101081848, 0.9266307353973389, 0.9755479693412781, 0.016819791868329048, 0.6951267719268799, 0.9710583686828613, 0.9240751266479492, 0.07295329868793488, 0.04161304607987404, 0.943229079246521, 0.9592888355255127, 0.7408580183982849, 0.38216277956962585, 0.038216277956962585, 0.5732441544532776, 0.2602117955684662, 0.5004072785377502, 0.22017920017242432, 0.24482586979866028, 0.24482586979866028, 0.48965173959732056, 0.8909138441085815, 0.8656699061393738, 0.957923173904419, 0.7980583310127258, 0.9817386865615845, 0.010121016763150692, 0.9813470840454102, 0.3498759865760803, 0.6122829914093018, 0.9742788076400757, 0.13127709925174713, 0.1640963852405548, 0.705614447593689, 0.5912006497383118, 0.2956003248691559, 0.48340481519699097, 0.9354760646820068, 0.9648054838180542, 0.9627248048782349, 0.753332793712616, 0.9893329739570618, 0.010305551812052727, 0.9782190322875977, 0.9577533602714539, 0.3512539565563202, 0.6244515180587769, 0.587149441242218, 0.9773608446121216, 0.05698389187455177, 0.00518035376444459, 0.8443977236747742, 0.08806601911783218, 0.20892396569252014, 0.25070875883102417, 0.18106743693351746, 0.2924935519695282, 0.06964132189750671, 0.8883315324783325, 0.7086706757545471, 0.7231041789054871, 0.9877690076828003, 0.6237912178039551, 0.9970940947532654, 0.9628267884254456, 0.8854749202728271, 0.9803367257118225, 0.9964858293533325, 0.8854749202728271, 0.1762365996837616, 0.1233656257390976, 0.19386026263237, 0.2643549144268036, 0.0528709813952446, 0.070494644343853, 0.0881182998418808, 0.9956485033035278, 0.6717646718025208, 0.9877156019210815, 0.9779948592185974, 0.9262294769287109, 0.8384724259376526, 0.19950497150421143, 0.08416616171598434, 0.0872834250330925, 0.6265702843666077, 0.976082444190979, 0.9798246622085571, 0.9228736162185669, 0.9845032095909119, 0.6687188148498535, 0.9930486083030701, 0.9964206218719482, 0.8664758205413818, 0.15665282309055328, 0.32299551367759705, 0.49256813526153564, 0.027454618364572525, 0.4830726385116577, 0.4634000062942505, 0.05246037617325783, 0.8445303440093994, 0.9815877079963684, 0.9257383942604065, 0.8437889814376831, 0.6878041625022888, 0.053154539316892624, 0.011390258558094501, 0.16326037049293518, 0.5239518880844116, 0.0037967527750879526, 0.09871557354927063, 0.13668310642242432, 0.04486415162682533, 0.6280981302261353, 0.10094434022903442, 0.14580848813056946, 0.06729622930288315, 0.998198390007019, 0.9592256546020508, 0.9870977997779846, 0.8994759917259216, 0.06724341958761215, 0.23535196483135223, 0.6892450451850891, 0.9476193785667419, 0.3475627601146698, 0.14953282475471497, 0.46072274446487427, 0.04243499040603638, 0.8243987560272217, 0.6385243535041809, 0.6628729104995728, 0.9957781434059143, 0.6004881262779236, 0.13385272026062012, 0.870042622089386, 0.901150107383728, 0.9147766828536987, 0.8768408298492432, 0.29451870918273926, 0.6731856465339661, 0.9985484480857849, 0.9907578825950623, 0.04813271760940552, 0.01804976910352707, 0.00601658970117569, 0.09024884551763535, 0.8302894234657288, 0.00601658970117569, 0.955060601234436, 0.5456979870796204, 0.9577374458312988, 0.8536200523376465, 0.13781963288784027, 0.3619505763053894, 0.045243822038173676, 0.018793586641550064, 0.3967534899711609, 0.01600935123860836, 0.00139211758505553, 0.02227388136088848, 0.7673468589782715, 0.9589160084724426, 0.8948390483856201, 0.9789888262748718, 0.9820069074630737, 0.993589460849762, 0.9865466952323914, 0.8470216393470764, 0.9894810318946838, 0.7531256675720215, 0.9868552684783936, 0.7463293671607971, 0.26121529936790466, 0.9063042998313904, 0.6956172585487366, 0.8724443316459656, 0.09926895797252655, 0.011029884219169617, 0.11250482499599457, 0.7742978930473328, 0.241311714053154, 0.06894620507955551, 0.2688902020454407, 0.06894620507955551, 0.3516256511211395, 0.6439542174339294, 0.9104389548301697, 0.7673468589782715, 0.739712655544281, 0.9418098330497742, 0.7231041789054871, 0.9808738231658936, 0.016257576644420624, 0.9786384701728821, 0.3930615186691284, 0.08086911588907242, 0.09591453522443771, 0.406226247549057, 0.011284062638878822, 0.011284062638878822, 0.8802116513252258, 0.054166872054338455, 0.06319468468427658, 0.937263548374176, 0.028401926159858704, 0.03313558176159859, 0.9595696926116943, 0.5568786263465881, 0.4176589548587799, 0.44665929675102234, 0.06979051232337952, 0.11166482418775558, 0.04187430813908577, 0.15353913605213165, 0.16749723255634308, 0.9528024792671204, 0.043309204280376434, 0.6744616031646729, 0.9664210677146912, 0.9060747027397156, 0.7119715809822083, 0.8941627740859985, 0.9104974865913391, 0.9492071866989136, 0.9844817519187927, 0.12808753550052643, 0.3897131383419037, 0.027252668514847755, 0.019076867029070854, 0.09538433700799942, 0.0027252668514847755, 0.33520781993865967, 0.4768168330192566, 0.17483285069465637, 0.33377179503440857, 0.45185843110084534, 0.19646018743515015, 0.1375221312046051, 0.19646018743515015, 0.6287186145782471, 0.9372724294662476, 0.9779948592185974, 0.09366190433502197, 0.538555920124054, 0.046830952167510986, 0.31610891222953796, 0.46389394998550415, 0.46389394998550415, 0.9794341921806335, 0.10086094588041306, 0.8648536205291748, 0.0011593211675062776, 0.03246099501848221, 0.9046197533607483, 0.01198855321854353, 0.9291128516197205, 0.05394848808646202, 0.7231041789054871, 0.5755716562271118, 0.681276261806488, 0.9887754321098328, 0.8531657457351685, 0.05332285910844803, 0.05332285910844803, 0.9959169626235962, 0.9967516660690308, 0.5638775825500488, 0.0078316330909729, 0.0044752187095582485, 0.0469897985458374, 0.02125728875398636, 0.09957361966371536, 0.03020772710442543, 0.2036224603652954, 0.019019680097699165, 0.14645829796791077, 0.6534293293952942, 0.10139420628547668, 0.09012818336486816, 0.957923173904419, 0.09998781979084015, 0.8898915648460388, 0.003861864795908332, 0.1338779777288437, 0.07723729312419891, 0.4415398836135864, 0.05535339564085007, 0.0012872882653027773, 0.20081697404384613, 0.03733136132359505, 0.03604407235980034, 0.012872882187366486, 0.9579232931137085, 0.9787761569023132, 0.9972563982009888, 0.8718061447143555, 0.8537204265594482, 0.9970599412918091, 0.7231041789054871, 0.8029488325119019, 0.8872748613357544, 0.9280558824539185, 0.939924955368042, 0.9109827876091003, 0.15856418013572693, 0.16737329959869385, 0.5109290480613708, 0.061663851141929626, 0.07928209006786346, 0.008809121325612068, 0.8817066550254822, 0.9947165250778198, 0.9360675811767578, 0.9285324215888977, 0.9953722953796387, 0.9990405440330505, 0.04690861701965332, 0.04138995707035065, 0.4608081579208374, 0.013796651735901833, 0.2648957073688507, 0.09657656401395798, 0.07450191676616669, 0.7293237447738647, 0.7290546298027039, 0.7035393714904785, 0.4756116569042206, 0.9790234565734863, 0.1100650429725647, 0.04402601718902588, 0.13207805156707764, 0.7154227495193481, 0.8133037686347961, 0.05345075577497482, 0.9086628556251526, 0.9216292500495911, 0.8977494835853577, 0.8384310007095337, 0.24534769356250763, 0.25133177638053894, 0.1376340687274933, 0.3590453863143921, 0.011968179605901241, 0.9809715151786804, 0.9705215692520142, 0.012134218588471413, 0.6633372902870178, 0.024268437176942825, 0.030335545539855957, 0.2123488187789917, 0.014156588353216648, 0.04449213296175003, 0.39119088649749756, 0.5867863297462463, 0.9891388416290283, 0.9896851778030396, 0.9515565633773804, 0.028835047036409378, 0.46461063623428345, 0.07032568007707596, 0.05187959969043732, 0.4092724025249481, 0.0034586400724947453, 0.5711756944656372, 0.9748319387435913, 0.06369045376777649, 0.8916663527488708, 0.1956569254398346, 0.7826277017593384, 0.8243987560272217, 0.790375292301178, 0.9717188477516174, 0.9353283047676086, 0.8869173526763916, 0.97393798828125, 0.07331835478544235, 0.06974184513092041, 0.03397679701447487, 0.7600073218345642, 0.02682378701865673, 0.03576505184173584, 0.7857627868652344, 0.9798480272293091, 0.7790241241455078, 0.6998457908630371, 0.11471813917160034, 0.08521918952465057, 0.013110644184052944, 0.06227555871009827, 0.11144047230482101, 0.47853851318359375, 0.09505216777324677, 0.04260959476232529, 0.07201198488473892, 0.03733954578638077, 0.07734620571136475, 0.034672435373067856, 0.2427070587873459, 0.5174194574356079, 0.021336885169148445, 0.5179858803749084, 0.4532376527786255, 0.11078988760709763, 0.19520123302936554, 0.20047692954540253, 0.49064090847969055, 0.9422427415847778, 0.6859630346298218, 0.9553068280220032, 0.03411810100078583, 0.00836745835840702, 0.020918644964694977, 0.00418372917920351, 0.02510237507522106, 0.058572206646203995, 0.06275593489408493, 0.5229661464691162, 0.01673491671681404, 0.27612611651420593, 0.967943012714386, 0.9919995665550232, 0.08674056828022003, 0.13135001063346863, 0.019826415926218033, 0.7608386874198914, 0.9849779605865479, 0.7434235215187073, 0.07434235513210297, 0.16727030277252197, 0.7225376963615417, 0.2064393311738968, 0.9974103569984436, 0.9485363960266113, 0.7231041789054871, 0.9664210677146912, 0.9508353471755981, 0.04845020920038223, 0.03307317942380905, 0.0006484937039203942, 0.040206607431173325, 0.9228065013885498, 0.0025939748156815767, 0.9779948592185974, 0.06235751882195473, 0.8730052709579468, 0.9262294769287109, 0.9900410175323486, 0.7948290705680847, 0.9766774773597717, 0.9751914143562317, 0.2848888635635376, 0.030966179445385933, 0.03715941682457924, 0.39017388224601746, 0.030966179445385933, 0.030966179445385933, 0.012386471964418888, 0.1857970803976059, 0.9102602005004883, 0.935784637928009, 0.016512174159288406, 0.009435527957975864, 0.08727863430976868, 0.19342832267284393, 0.13917402923107147, 0.12973850965499878, 0.05661316588521004, 0.2995780110359192, 0.0684075728058815, 0.9851922392845154, 0.6878744959831238, 0.22929149866104126, 0.24293838441371918, 0.004225015174597502, 0.5408019423484802, 0.002112507587298751, 0.20702575147151947, 0.8844992518424988, 0.10613991320133209, 0.737159013748169, 0.9372282028198242, 0.9971177577972412, 0.6842018365859985, 0.9856446981430054, 0.9901652932167053, 0.1570681631565094, 0.8360079526901245, 0.9247740507125854, 0.5591033101081848, 0.9746589064598083, 0.7479676604270935, 0.9884621500968933, 0.02563983015716076, 0.974313497543335, 0.8143202662467957, 0.6687188148498535, 0.014636028558015823, 0.40005144476890564, 0.15611764788627625, 0.09757352620363235, 0.16099631786346436, 0.17075367271900177, 0.8577160239219666, 0.9809446930885315, 0.8850076198577881, 0.023285960778594017, 0.7800796627998352, 0.19210916757583618, 0.5698304176330566, 0.03453517705202103, 0.3798869550228119, 0.8243987560272217, 0.06118202954530716, 0.07341843843460083, 0.3732103705406189, 0.09789124876260757, 0.1529550701379776, 0.0673002302646637, 0.1713096797466278, 0.9596145749092102, 0.9939236640930176, 0.9513411521911621, 0.07182095944881439, 0.9097321033477783, 0.939469575881958, 0.9107003808021545, 0.21702910959720612, 0.05425727739930153, 0.6988337635993958, 0.028213785961270332, 0.8721485733985901, 0.7673468589782715, 0.8792881965637207, 0.20806623995304108, 0.06502069532871246, 0.5786842107772827, 0.006502069998532534, 0.13654346764087677, 0.21032144129276276, 0.6610102653503418, 0.08412858098745346, 0.03605510666966438, 0.9885358214378357, 0.08884886652231216, 0.9181050062179565, 0.5684015154838562, 0.32480084896087646, 0.09744025766849518, 0.6807053685188293, 0.9720618724822998, 0.05107022076845169, 0.04149455204606056, 0.03191888704895973, 0.5362372994422913, 0.2138565480709076, 0.06383777409791946, 0.022343222051858902, 0.035110775381326675, 0.9959178566932678, 0.9504230618476868, 0.5661938190460205, 0.42163369059562683, 0.6013883352279663, 0.04767102748155594, 0.11734406650066376, 0.2200201153755188, 0.01466800831258297, 0.6657427549362183, 0.13920076191425323, 0.10893972218036652, 0.08473089337348938, 0.23181962966918945, 0.13522812724113464, 0.6181856989860535, 0.9823143482208252, 0.30188238620758057, 0.6943294405937195, 0.9552666544914246, 0.9601470828056335, 0.5741096138954163, 0.10681109130382538, 0.05340554565191269, 0.04005415737628937, 0.21362218260765076, 0.9649842381477356, 0.967474102973938, 0.1418706625699997, 0.7093533277511597, 0.7882592678070068, 0.9308231472969055, 0.9902675151824951, 0.9609634876251221, 0.7915465831756592, 0.9717188477516174, 0.9516874551773071, 0.2014070749282837, 0.17263463139533997, 0.6042212247848511, 0.8405603170394897, 0.9438167810440063, 0.9516856074333191, 0.907389223575592, 0.08781185746192932, 0.9741185903549194, 0.04829372465610504, 0.676112174987793, 0.00689910352230072, 0.224220871925354, 0.04139462113380432, 0.7934722304344177, 0.11421695351600647, 0.24014846980571747, 0.03660799562931061, 0.4759039580821991, 0.12739582359790802, 0.005857279524207115, 0.8968474268913269, 0.49585795402526855, 0.08154108375310898, 0.3944825530052185, 0.028649570420384407, 0.004110302776098251, 0.8631635904312134, 0.11508847773075104, 0.012330908328294754, 0.002729875734075904, 0.4449697434902191, 0.016379253938794136, 0.09964045882225037, 0.02456888183951378, 0.26479795575141907, 0.10646515339612961, 0.039583198726177216, 0.8732685446739197, 0.12185142189264297, 0.11933732777833939, 0.8353613018989563, 0.0318232886493206, 0.00795582216233015, 0.01282475981861353, 0.6326881051063538, 0.35054343938827515, 0.9849825501441956, 0.9567705988883972, 0.03897954151034355, 0.7499989867210388, 0.20454517006874084, 0.6158219575881958, 0.3409014642238617, 0.04398728534579277, 0.817237377166748, 0.12572883069515228, 0.9916862845420837, 0.9646018743515015, 0.5591033101081848, 0.007761320564895868, 0.18294541537761688, 0.11974608898162842, 0.00332628027535975, 0.6852137446403503, 0.9308807253837585, 0.060735005885362625, 0.00817586574703455, 0.8255841135978699, 0.26415613293647766, 0.33019518852233887, 0.3962342143058777, 0.9869200587272644, 0.6654316782951355, 0.4468744397163391, 0.4857330620288849, 0.05828796699643135, 0.08356056362390518, 0.16712112724781036, 0.6684845089912415, 0.9841217398643494, 0.8724213242530823, 0.14289513230323792, 0.09093326330184937, 0.7534470558166504, 0.8658719062805176, 0.025660188868641853, 0.017106793820858, 0.09408736228942871, 0.8638930320739746, 0.8037319779396057, 0.040867727249860764, 0.02724515274167061, 0.12600882351398468, 0.9629126191139221, 0.8749774098396301, 0.11644310504198074, 0.013232170604169369, 0.03705007955431938, 0.092625193297863, 0.010585736483335495, 0.2831684648990631, 0.1085038036108017, 0.3360971510410309, 0.984136700630188, 0.695186972618103, 0.1312488466501236, 0.2933797836303711, 0.532715916633606, 0.03860260173678398, 0.10379273444414139, 0.1529577076435089, 0.043702203780412674, 0.6773841381072998, 0.019119713455438614, 0.9305741786956787, 0.6495012640953064, 0.8517377376556396, 0.9500521421432495, 0.9415252804756165, 0.9917464256286621, 0.9112136960029602, 0.01902078278362751, 0.0047551956959068775, 0.9748151302337646, 0.03900234028697014, 0.03412704914808273, 0.06337880343198776, 0.7117927074432373, 0.01950117014348507, 0.13163290917873383, 0.6583482027053833, 0.9525954723358154, 0.7330554723739624, 0.9104389548301697, 0.7309141755104065, 0.9370811581611633, 0.9662178754806519, 0.9987427592277527, 0.9861128330230713, 0.995954692363739, 0.04840583726763725, 0.006915119476616383, 0.3526711165904999, 0.06915120035409927, 0.06223607808351517, 0.15213263034820557, 0.30426526069641113, 0.9792517423629761, 0.8772150874137878, 0.9782190322875977, 0.8729998469352722, 0.9681835770606995, 0.9762532711029053, 0.07813902944326401, 0.9196363091468811, 0.7673468589782715, 0.8507064580917358, 0.9659642577171326, 0.9488214254379272, 0.9864950776100159, 0.5591033101081848, 0.8519341945648193, 0.4657311737537384, 0.5258255004882812, 0.7849680185317993, 0.9436644911766052, 0.7030900120735168, 0.29152512550354004, 0.9903604388237, 0.9923536777496338, 0.9559648036956787, 0.9621785879135132, 0.9798601865768433, 0.9198833107948303, 0.864641547203064, 0.9509491920471191, 0.9579232931137085, 0.7089550495147705, 0.1822557896375656, 0.024300772696733475, 0.20655657351016998, 0.08505270630121231, 0.3888123631477356, 0.10935347527265549, 0.8695541620254517, 0.9829478859901428, 0.991159200668335, 0.9327268004417419, 0.9782190322875977, 0.1730700433254242, 0.8220826983451843, 0.8046406507492065, 0.1422998607158661, 0.4350310266017914, 0.07724849879741669, 0.34151968359947205, 0.9890985488891602, 0.0076780542731285095, 0.2533757984638214, 0.06910248845815659, 0.09213665127754211, 0.3915807604789734, 0.17659524083137512, 0.855991005897522, 0.8692412972450256, 0.3361194133758545, 0.13444776833057404, 0.44815921783447266, 0.07618706673383713, 0.042500998824834824, 0.21250499784946442, 0.10625249892473221, 0.23906812071800232, 0.25500598549842834, 0.12219037115573883, 0.01593787409365177, 0.9701219797134399, 0.08499354124069214, 0.08499354124069214, 0.8180628418922424, 0.9795357584953308, 0.37113258242607117, 0.593812108039856, 0.2370779663324356, 0.09064745903015137, 0.10459322482347488, 0.17432203888893127, 0.3068067729473114, 0.08367457985877991, 0.9984303712844849, 0.1525001972913742, 0.6303341388702393, 0.2135002762079239, 0.08572555333375931, 0.9048808217048645, 0.009525061585009098, 0.06327641010284424, 0.9280540347099304, 0.7309141755104065, 0.023185549303889275, 0.03643443435430527, 0.3775932192802429, 0.10267885774374008, 0.07949330657720566, 0.1093033030629158, 0.003312221262603998, 0.26497769355773926, 0.8507064580917358, 0.9533233046531677, 0.7334798574447632, 0.22004395723342896, 0.04856415092945099, 0.05058765411376953, 0.05058765411376953, 0.020235061645507812, 0.6434749960899353, 0.022258568555116653, 0.16390399634838104, 0.13441836833953857, 0.8513163328170776, 0.6944018006324768, 0.15602822601795197, 0.16202931106090546, 0.066011942923069, 0.22204016149044037, 0.3960716426372528, 0.7620478272438049, 0.46944066882133484, 0.46944066882133484, 0.6687188148498535, 0.6911427974700928, 0.9687324166297913, 0.9820474982261658, 0.0331028588116169, 0.9599829316139221, 0.9711390137672424, 0.9652405977249146, 0.777021050453186, 0.7673468589782715, 0.6598961353302002, 0.9779701828956604, 0.8255841135978699, 0.9590306282043457, 0.07463227212429047, 0.03731613606214523, 0.14926454424858093, 0.03731613606214523, 0.7276647090911865, 0.849606454372406, 0.02213866449892521, 0.43170395493507385, 0.04427732899785042, 0.28780263662338257, 0.21031731367111206, 0.951609194278717, 0.25054046511650085, 0.28785499930381775, 0.04531050845980644, 0.22921787202358246, 0.15991944074630737, 0.023987915366888046, 0.9589580297470093, 0.9777971506118774, 0.9543314576148987, 0.910141110420227, 0.06741786003112793, 0.9904228448867798, 0.9165644645690918, 0.003997230902314186, 0.2678144574165344, 0.015988923609256744, 0.13590584695339203, 0.009993077255785465, 0.465677410364151, 0.017987539991736412, 0.011991692706942558, 0.06995154172182083, 0.7673468589782715, 0.126975417137146, 0.05079016834497452, 0.02539508417248726, 0.1890522986650467, 0.6038386821746826, 0.9680563807487488, 0.0872001051902771, 0.9010677337646484, 0.2733995318412781, 0.12302979081869125, 0.355419397354126, 0.23238959908485413, 0.7644070386886597, 0.6235986948013306, 0.002596952486783266, 0.05193904787302017, 0.031163427978754044, 0.1324445754289627, 0.010387809947133064, 0.771294891834259, 0.9234946966171265, 0.7203574776649475, 0.005037464667111635, 0.1259366124868393, 0.10830549150705338, 0.04029971733689308, 0.008505676873028278, 0.8760847449302673, 0.11482664197683334, 0.3187806308269501, 0.6729813814163208, 0.9425777792930603, 0.9894624352455139, 0.9225229024887085, 0.9803240299224854, 0.6760047674179077, 0.1885087937116623, 0.162803053855896, 0.30846893787384033, 0.14566588401794434, 0.1885087937116623, 0.601654589176178, 0.36767780780792236, 0.031270649284124374, 0.05518350005149841, 0.10300920158624649, 0.05886240303516388, 0.5076882243156433, 0.04046789929270744, 0.07725690305233002, 0.027591750025749207, 0.09565140306949615, 0.9904600381851196, 0.7673468589782715, 0.893162190914154, 0.01607864536345005, 0.7235390543937683, 0.2411796748638153, 0.9979662895202637, 0.0016785247717052698, 0.1258893609046936, 0.2593320906162262, 0.2182082235813141, 0.005035574547946453, 0.36675766110420227, 0.022660084068775177, 0.05896346643567085, 0.1456744521856308, 0.4717077314853668, 0.00520265894010663, 0.1734219640493393, 0.027747513726353645, 0.11099005490541458, 0.00520265894010663, 0.4401068091392517, 0.54366135597229, 0.9755731821060181, 0.016259552910923958, 0.36200860142707825, 0.6261770129203796, 0.5591033101081848, 0.9776809215545654, 0.11490146070718765, 0.8043102025985718, 0.9959039688110352, 0.9926186203956604, 0.9607539176940918, 0.9700129628181458, 0.8898544311523438, 0.017374437302350998, 0.5640900731086731, 0.011582957580685616, 0.031273987144231796, 0.08339729905128479, 0.1795358508825302, 0.010424662381410599, 0.05443990230560303, 0.048648424446582794, 0.9011499881744385, 0.9542053937911987, 0.012264799326658249, 0.9811839461326599, 0.9978788495063782, 0.7877439260482788, 0.8804895281791687, 0.06859323382377625, 0.9260085821151733, 0.9695115089416504, 0.9473179578781128, 0.8970233201980591, 0.8617984056472778, 0.13405752182006836, 0.9604994654655457, 0.9243081212043762, 0.5591033101081848, 0.9749970436096191, 0.8968474268913269, 0.9934993982315063, 0.970649778842926, 0.7673468589782715, 0.8889565467834473, 0.7471070885658264, 0.8458026647567749, 0.9848368763923645, 0.9953699707984924, 0.8642243146896362, 0.9860910773277283, 0.8574069738388062, 0.13640566170215607, 0.4771503210067749, 0.49883896112442017, 0.02168865129351616, 0.5426151156425476, 0.2587653398513794, 0.036306362599134445, 0.06337110698223114, 0.047528330236673355, 0.025084396824240685, 0.007921388372778893, 0.01848323829472065, 0.932018518447876, 0.9150620698928833, 0.48120152950286865, 0.980178952217102, 0.890971302986145, 0.9422449469566345, 0.9443073868751526, 0.5276659727096558, 0.1368023008108139, 0.2442898154258728, 0.039086371660232544, 0.04885796457529068, 0.9756436944007874, 0.7892630100250244, 0.7673468589782715, 0.948390007019043, 0.9937248229980469, 0.6413557529449463, 0.9782190322875977, 0.935259997844696, 0.10998362302780151, 0.2419639676809311, 0.21996724605560303, 0.4179377555847168, 0.022885289043188095, 0.03269327059388161, 0.8434863686561584, 0.09154115617275238, 0.009807980619370937, 0.16765762865543365, 0.05688383802771568, 0.12873710691928864, 0.5059667825698853, 0.07185326516628265, 0.06586549431085587, 0.06467201560735703, 0.12934403121471405, 0.1395554095506668, 0.11913266032934189, 0.023826532065868378, 0.42547377943992615, 0.09530612826347351, 0.003403790295124054, 0.9418861865997314, 0.4933490455150604, 0.4933490455150604, 0.039659734815359116, 0.14982567727565765, 0.3172778785228729, 0.14982567727565765, 0.33931106328964233, 0.052349548786878586, 0.19194835424423218, 0.732893705368042, 0.7705205082893372, 0.9685089588165283, 0.9921022057533264, 0.6863753199577332, 0.5591033101081848, 0.9714106917381287, 0.9974491596221924, 0.8096914291381836, 0.12400679290294647, 0.06565065681934357, 0.957923173904419, 0.0012543894117698073, 0.06522824615240097, 0.1204213798046112, 0.37129926681518555, 0.20571985840797424, 0.12418454885482788, 0.10787748545408249, 0.005017557647079229, 0.9822685718536377, 0.056398387998342514, 0.9023742079734802, 0.9594436883926392, 0.7471069693565369, 0.8276568651199341, 0.15518566966056824, 0.34628376364707947, 0.4232357144355774, 0.23085583746433258, 0.9831275939941406, 0.957923173904419, 0.5591033101081848, 0.9917196035385132, 0.9911951422691345, 0.9723676443099976, 0.9695652723312378, 0.6551865339279175, 0.991210401058197, 0.2415417581796646, 0.21134904026985168, 0.17109207808971405, 0.3723768889904022, 0.016761500388383865, 0.022348668426275253, 0.29798224568367004, 0.09125705808401108, 0.4264870584011078, 0.001862388919107616, 0.14340394735336304, 0.9989817142486572, 0.9940178394317627, 0.935259997844696, 0.9662204384803772, 0.9137507081031799, 0.895035445690155, 0.978453516960144, 0.021087361499667168, 0.03899142146110535, 0.018195996060967445, 0.03639199212193489, 0.7408369779586792, 0.046789705753326416, 0.11697426438331604, 0.9618659615516663, 0.946304976940155, 0.7953810691833496, 0.8713812828063965, 0.06991024315357208, 0.057426270097494125, 0.9680563807487488, 0.508948802947998, 0.2968868017196655, 0.07634232193231583, 0.11027224361896515, 0.04989590495824814, 0.10378348082304001, 0.1004570871591568, 0.020623641088604927, 0.19559194147586823, 0.07717233151197433, 0.396506130695343, 0.010644459165632725, 0.04191255941987038, 0.004656950943171978, 0.9735066294670105, 0.799096941947937, 0.15981939435005188, 0.9681532979011536, 0.06718739122152328, 0.001919639646075666, 0.02879459597170353, 0.23227640986442566, 0.16316936910152435, 0.23995496332645416, 0.07678558677434921, 0.18812468647956848, 0.9827987551689148, 0.9099566340446472, 0.001633003237657249, 0.17473134398460388, 0.04245808348059654, 0.3135366141796112, 0.3641597330570221, 0.022862045094370842, 0.0669531300663948, 0.013064025901257992, 0.9318593740463257, 0.9705216884613037, 0.9758865833282471, 0.6687188148498535, 0.988545835018158, 0.9475357532501221, 0.7673468589782715, 0.9937364459037781, 0.9803708791732788, 0.954184889793396, 0.2606324255466461, 0.729770839214325, 0.9358543157577515, 0.32995671033859253, 0.1280004382133484, 0.04835572466254234, 0.14506717026233673, 0.022755634039640427, 0.04835572466254234, 0.0028444542549550533, 0.2730676233768463, 0.9955474138259888, 0.5045832991600037, 0.12109998613595963, 0.2664199769496918, 0.1049533262848854, 0.9853565692901611, 0.9615767002105713, 0.9981195330619812, 0.8507064580917358, 0.9854082465171814, 0.9793617129325867, 0.8361095786094666, 0.9520463943481445, 0.986626923084259, 0.9485026597976685, 0.18103231489658356, 0.17456687986850739, 0.04525807872414589, 0.5333988070487976, 0.01293087936937809, 0.054956238716840744, 0.9712588787078857, 0.38787737488746643, 0.025296349078416824, 0.012648174539208412, 0.22345109283924103, 0.04637664183974266, 0.021080290898680687, 0.008432116359472275, 0.16021022200584412, 0.10961751639842987, 0.9257110953330994, 0.7428133487701416, 0.2846214771270752, 0.6641167998313904, 0.1940462589263916, 0.38579270243644714, 0.06439460813999176, 0.3550327718257904, 0.0005749518750235438, 0.09686534851789474, 0.789273202419281, 0.017938027158379555, 0.053814079612493515, 0.03946365788578987, 0.23799264430999756, 0.04981241375207901, 0.22138850390911102, 0.17711080610752106, 0.22138850390911102, 0.022138850763440132, 0.0608818382024765, 0.9086325168609619, 0.9314137101173401, 0.9785975217819214, 0.9978101849555969, 0.9888167977333069, 0.6602604389190674, 0.29991239309310913, 0.044897064566612244, 0.4202365279197693, 0.08799824863672256, 0.14546649158000946, 0.9595650434494019, 0.02464274875819683, 0.09707749634981155, 0.08438274264335632, 0.010454499162733555, 0.09782424569129944, 0.056752994656562805, 0.46223822236061096, 0.029123248532414436, 0.055259495973587036, 0.08214249461889267, 0.7385926842689514, 0.888956606388092, 0.925102174282074, 0.06313033401966095, 0.0024280897341668606, 0.007284269202500582, 0.9241305589675903, 0.04679141938686371, 0.029244637116789818, 0.05244983360171318, 0.9440969824790955, 0.9845165014266968, 0.9565874934196472, 0.972439169883728, 0.9450327754020691, 0.9825929403305054, 0.9194945096969604, 0.9376201629638672, 0.9306497573852539, 0.9577533602714539, 0.9815652966499329, 0.13055682182312012, 0.2733152210712433, 0.4953838288784027, 0.025623301044106483, 0.07442958652973175, 0.9638808965682983, 0.9745571613311768, 0.9887984395027161, 0.9195701479911804, 0.8139824271202087, 0.05000879615545273, 0.7501319050788879, 0.1833655834197998, 0.6771113276481628, 0.29623621702194214, 0.7231041789054871, 0.7231041789054871, 0.9216087460517883, 0.607109010219574, 0.948390007019043, 0.9612314105033875, 0.030038481578230858, 0.02154352515935898, 0.057449400424957275, 0.0035905875265598297, 0.07540234178304672, 0.014362350106239319, 0.6858022212982178, 0.028724700212478638, 0.11130821704864502, 0.025233054533600807, 0.025233054533600807, 0.8579238057136536, 0.10093221813440323, 0.9060234427452087, 0.08732756227254868, 0.418277770280838, 0.11072058230638504, 0.13532516360282898, 0.061511434614658356, 0.049209147691726685, 0.22144116461277008, 0.8878980875015259, 0.7309141755104065, 0.10247621685266495, 0.871047854423523, 0.9814274311065674, 0.9979615211486816, 0.6331152319908142, 0.2824667692184448, 0.07792187482118607, 0.9625193476676941, 0.5591033101081848, 0.8578137755393982, 0.8776141405105591, 0.7234384417533875, 0.998538076877594, 0.9763393402099609, 0.938526451587677, 0.8266316056251526, 0.23052997887134552, 0.46105995774269104, 0.09406159818172455, 0.011231235228478909, 0.36922687292099, 0.00701952213421464, 0.005615617614239454, 0.5025978088378906, 0.009827330708503723, 0.9909648895263672, 0.5492363572120667, 0.2894623875617981, 0.16010557115077972, 0.023082299157977104, 0.8919659852981567, 0.013189884833991528, 0.07199478894472122, 0.8971381187438965, 0.022060774266719818, 0.0808895081281662, 0.7991651296615601, 0.022199030965566635, 0.11099515855312347, 0.03946494311094284, 0.02466559037566185, 0.1265649050474167, 0.053075604140758514, 0.053075604140758514, 0.018372325226664543, 0.685900092124939, 0.06328245252370834, 0.6687188148498535, 0.9862179756164551, 0.9340177774429321, 0.05916285142302513, 0.006293920334428549, 0.6452373266220093, 0.34159621596336365, 0.883792519569397, 0.9888266921043396, 0.9816176891326904, 0.015519646927714348, 0.8569625020027161, 0.7914596199989319, 0.18478262424468994, 0.8102007508277893, 0.9192243218421936, 0.5591033101081848, 0.8069086670875549, 0.06348922103643417, 0.329457551240921, 0.6074373722076416, 0.35886824131011963, 0.6379879713058472, 0.048620812594890594, 0.5209372639656067, 0.06945830583572388, 0.08334996551275253, 0.02778332121670246, 0.24310405552387238, 0.9829171299934387, 0.2459035962820053, 0.2693229913711548, 0.14051634073257446, 0.14051634073257446, 0.19906480610370636, 0.964680016040802, 0.026072433218359947, 0.481293648481369, 0.481293648481369, 0.7555121779441833, 0.12034706771373749, 0.12034706771373749, 0.9824965596199036, 0.9815608263015747, 0.05181534215807915, 0.13694055378437042, 0.6847027540206909, 0.12583725154399872, 0.8436225652694702, 0.8918325901031494, 0.07199385017156601, 0.10144587606191635, 0.8181118965148926, 0.0065448954701423645, 0.8478341102600098, 0.1404704451560974, 0.06852217018604279, 0.26723647117614746, 0.524194598197937, 0.9829067587852478, 0.42420774698257446, 0.31815579533576965, 0.21210387349128723, 0.03535064682364464, 0.9593997001647949, 0.9883653521537781, 0.48340481519699097, 0.30508747696876526, 0.6864467859268188, 0.981716513633728, 0.49182382225990295, 0.9018092155456543, 0.9283421039581299, 0.025241533294320107, 0.25241532921791077, 0.012620766647160053, 0.7067629098892212, 0.6776797771453857, 0.5136520862579346, 0.6927191615104675, 0.9933385848999023, 0.9616320729255676, 0.9420185089111328, 0.9747255444526672, 0.018905751407146454, 0.009452875703573227, 0.9641932845115662, 0.6911427974700928, 0.8458026647567749, 0.9689262509346008, 0.8479294776916504, 0.9888393878936768, 0.9894857406616211, 0.9664210677146912, 0.9942712187767029, 0.8992756605148315, 0.9918107986450195, 0.41702860593795776, 0.2414376139640808, 0.3292331099510193, 0.7235123515129089, 0.24117077887058258, 0.9894617199897766, 0.9661697745323181, 0.9648305773735046, 0.9851319193840027, 0.9833296537399292, 0.48574358224868774, 0.48574358224868774, 0.08477190136909485, 0.026770073920488358, 0.19631387293338776, 0.6246350407600403, 0.06692518293857574, 0.9887109994888306, 0.9650706648826599, 0.9823819994926453, 0.9500522613525391, 0.9848740100860596, 0.20528320968151093, 0.053764648735523224, 0.09775391221046448, 0.19795165956020355, 0.1857324242591858, 0.06598389148712158, 0.17106933891773224, 0.021994629874825478, 0.029144035652279854, 0.40218767523765564, 0.169035404920578, 0.12823376059532166, 0.21566586196422577, 0.05245926231145859, 0.23101672530174255, 0.4524521231651306, 0.12668658792972565, 0.12349281460046768, 0.059617217630147934, 0.005322965793311596, 0.34720078110694885, 0.2525096535682678, 0.10521236062049866, 0.09469112008810043, 0.18938224017620087, 0.9579232931137085, 0.004729428794234991, 0.865485429763794, 0.014188285917043686, 0.11350628733634949, 0.06451931595802307, 0.39978933334350586, 0.5103938579559326, 0.025346873328089714, 0.6552920341491699, 0.31454017758369446, 0.04542504623532295, 0.10382867604494095, 0.8144062161445618, 0.03569110855460167, 0.9970144033432007, 0.05169375613331795, 0.9304876327514648, 0.9693925976753235, 0.1684173345565796, 0.27478617429733276, 0.004432035144418478, 0.0842086672782898, 0.44763556122779846, 0.017728140577673912, 0.967146635055542, 0.030541472136974335, 0.5398386716842651, 0.45614275336265564, 0.004184796009212732, 0.9733538031578064, 0.8878390192985535, 0.9480190873146057, 0.9691762328147888, 0.13991336524486542, 0.8394801616668701, 0.9777965545654297, 0.30870237946510315, 0.6892411708831787, 0.8988015055656433, 0.9969740509986877, 0.9311016798019409, 0.8854749202728271, 0.9734345078468323, 0.08076055347919464, 0.017946790903806686, 0.08225612342357635, 0.06131820008158684, 0.007477829232811928, 0.7477829456329346, 0.18579645454883575, 0.8113111853599548, 0.1923527866601944, 0.4808819591999054, 0.2885291874408722, 0.06792167574167252, 0.00936850719153881, 0.06557954847812653, 0.07729018479585648, 0.5503997802734375, 0.00936850719153881, 0.20844928920269012, 0.014052760787308216, 0.39465489983558655, 0.26310327649116516, 0.39465489983558655, 0.3991840183734894, 0.592727780342102, 0.9874145984649658, 0.9840404391288757, 0.9879045486450195, 0.9548282623291016, 0.8632374405860901, 0.9689720869064331, 0.7019246220588684, 0.17427770793437958, 0.3365362584590912, 0.0030047879554331303, 0.38761764764785767, 0.0060095759108662605, 0.09014363586902618, 0.9955098032951355, 0.9480193853378296, 0.9745259881019592, 0.7145625948905945, 0.7309141755104065, 0.9166069626808167, 0.6881270408630371, 0.9829608201980591, 0.6000509262084961, 0.3532179296016693, 0.6055164933204651, 0.3555203676223755, 0.3301260769367218, 0.26240789890289307, 0.04232385382056236, 0.8093438148498535, 0.18499287962913513, 0.44439712166786194, 0.08887942880392075, 0.355517715215683, 0.9563401341438293, 0.8688207864761353, 0.9653663635253906, 0.9892778396606445, 0.6445264220237732, 0.974561333656311, 0.34446269273757935, 0.623521089553833, 0.03052201122045517, 0.16755656898021698, 0.6534706354141235, 0.17593440413475037, 0.05676506832242012, 0.07379458844661713, 0.05108856409788132, 0.005676507018506527, 0.10217712819576263, 0.24408979713916779, 0.18732473254203796, 0.2838253378868103, 0.9868603348731995, 0.9900725483894348, 0.8631532788276672, 0.18374747037887573, 0.24499663710594177, 0.06124915927648544, 0.342995285987854, 0.048999328166246414, 0.11024848371744156, 0.8647624254226685, 0.7911460995674133, 0.747090220451355, 0.10672717541456223, 0.03630930185317993, 0.9440417885780334, 0.9579232931137085, 0.03746386617422104, 0.9365966320037842, 0.01873193308711052, 0.922873854637146, 0.9098601937294006, 0.9391273856163025, 0.9520135521888733, 0.8941627740859985, 0.9741653800010681, 0.9338020086288452, 0.9953166842460632, 0.6507102251052856, 0.5591033101081848, 0.9253261685371399, 0.8741409778594971, 0.9993323087692261, 0.8941958546638489, 0.5170219540596008, 0.9493510723114014, 0.06880482286214828, 0.9219846129417419, 0.9373490810394287, 0.28601759672164917, 0.035752199590206146, 0.04369712993502617, 0.6316221952438354, 0.9645814895629883, 0.8536200523376465, 0.7149085998535156, 0.839181125164032, 0.718472421169281, 0.2535784840583801, 0.6775099039077759, 0.16353687644004822, 0.09734337776899338, 0.062299761921167374, 0.3696688115596771, 0.5914701223373413, 0.37151798605918884, 0.6225436925888062, 0.2126939296722412, 0.6380817890167236, 0.6855089664459229, 0.4597457945346832, 0.4597457945346832, 0.8781419396400452, 0.9283043146133423, 0.03876854106783867, 0.043329544365406036, 0.1710376739501953, 0.47206398844718933, 0.22120872139930725, 0.018244018778204918, 0.03192703425884247, 0.8255841135978699, 0.6493728756904602, 0.21645762026309967, 0.8968473076820374, 0.434314489364624, 0.434314489364624, 0.7930004596710205, 0.5804107785224915, 0.1707090437412262, 0.23899266123771667, 0.9743431806564331, 0.9811038970947266, 0.7581674456596375, 0.9892778396606445, 0.7069926857948303, 0.19503247737884521, 0.07313717901706696, 0.8582143187522888, 0.9155369997024536, 0.5017327070236206, 0.015679147094488144, 0.007839573547244072, 0.08100893348455429, 0.3919786810874939, 0.17610903084278107, 0.7044361233711243, 0.7863345146179199, 0.034595951437950134, 0.9513886570930481, 0.9904841184616089, 0.6911427974700928, 0.849606454372406, 0.7565300464630127, 0.9603651762008667, 0.9744460582733154, 0.4745281934738159, 0.8520480990409851, 0.012700309045612812, 0.9112471342086792, 0.07302677631378174, 0.08830318599939346, 0.04905732721090317, 0.6181222796440125, 0.12754905223846436, 0.10792611539363861, 0.9986438155174255, 0.8360552191734314, 0.7952687740325928, 0.9636366367340088, 0.9191962480545044, 0.9724583625793457, 0.025591010227799416, 0.6631892919540405, 0.9652034640312195, 0.9593673348426819, 0.6073351502418518, 0.9531992673873901, 0.9311426877975464, 0.9422211050987244, 0.932018518447876, 0.979397177696228, 0.002994948299601674, 0.2006615251302719, 0.15873225033283234, 0.19167669117450714, 0.39233821630477905, 0.03993264213204384, 0.01297810859978199, 0.2717058062553406, 0.7064350843429565, 0.8669494390487671, 0.9686578512191772, 0.970649778842926, 0.9610298871994019, 0.021616395562887192, 0.42272064089775085, 0.46595343947410583, 0.08886741101741791, 0.8470234274864197, 0.47320014238357544, 0.3154667615890503, 0.15773338079452515, 0.8968474268913269, 0.550420343875885, 0.8135730028152466, 0.9484304189682007, 0.006560416426509619, 0.7938103675842285, 0.13120833039283752, 0.06560416519641876, 0.9611703157424927, 0.9489468336105347, 0.9569464325904846, 0.9794735312461853, 0.9479559659957886, 0.9749179482460022, 0.9729288220405579, 0.7882592678070068, 0.9046197533607483, 0.995694100856781, 0.0028944595251232386, 0.9802141785621643, 0.6681702136993408, 0.1670425534248352, 0.7085779309272766, 0.08666060864925385, 0.035683780908584595, 0.12999092042446136, 0.04078146442770958, 0.8823735117912292, 0.92335444688797, 0.994371771812439, 0.7914984226226807, 0.059735726565122604, 0.14933931827545166, 0.5460165739059448, 0.02882198803126812, 0.22577224671840668, 0.1985514760017395, 0.9677690267562866, 0.9749179482460022, 0.9623231887817383, 0.7776165008544922, 0.15552330017089844, 0.646131157875061, 0.14041513204574585, 0.16121737658977509, 0.13261428475379944, 0.5356577038764954, 0.018201960250735283, 0.010401120409369469, 0.9947693943977356, 0.7293989062309265, 0.8732515573501587, 0.6687188148498535, 0.6354703307151794, 0.9950392842292786, 0.4090449810028076, 0.03805069625377655, 0.5422224402427673, 0.9579232931137085, 0.972734808921814, 0.6863753199577332, 0.4756116569042206, 0.9799144864082336, 0.99758380651474, 0.860927939414978, 0.11187846213579178, 0.2759668529033661, 0.08204420655965805, 0.2759668529033661, 0.2535911798477173, 0.5591033101081848, 0.9696476459503174, 0.13829238712787628, 0.250654935836792, 0.6050291657447815, 0.9836866855621338, 0.9438167810440063, 0.956950306892395, 0.04199926555156708, 0.09130275249481201, 0.11321541666984558, 0.41634055972099304, 0.30495119094848633, 0.03104293718934059, 0.9861650466918945, 0.08562284708023071, 0.5779542326927185, 0.321085661649704, 0.9790334105491638, 0.6579872369766235, 0.9514625668525696, 0.5389671921730042, 0.3593114912509918, 0.9404479265213013, 0.9668525457382202, 0.9836422801017761, 0.9785001277923584, 0.9979843497276306, 0.994403600692749, 0.957923173904419, 0.9820151925086975, 0.9916467070579529, 0.9579491019248962, 0.8764405250549316, 0.20921336114406586, 0.09298371523618698, 0.023245928809046745, 0.6276401281356812, 0.023245928809046745, 0.8781419396400452, 0.9918160438537598, 0.5591033101081848, 0.4446091949939728, 0.5372360944747925, 0.9930339455604553, 0.24372117221355438, 0.731163501739502, 0.8099767565727234, 0.04891202226281166, 0.19564808905124664, 0.7336803078651428, 0.9826687574386597, 0.938940703868866, 0.03755762800574303, 0.04568054527044296, 0.9364511966705322, 0.8941627740859985, 0.7673468589782715, 0.5750044584274292, 0.5189496874809265, 0.9545552134513855, 0.8420847058296204, 0.9838539361953735, 0.2559240162372589, 0.29470038414001465, 0.21714764833450317, 0.2249029278755188, 0.9782190322875977, 0.979162871837616, 0.2515289783477783, 0.5030579566955566, 0.2515289783477783, 0.9327163696289062, 0.9779948592185974, 0.9751778841018677, 0.4616260528564453, 0.38305139541625977, 0.1375056356191635, 0.009821831248700619, 0.6972295045852661, 0.34861475229263306, 0.8996646404266357, 0.9421482086181641, 0.9835824370384216, 0.999765157699585, 0.871080756187439, 0.3627822995185852, 0.5441734790802002, 0.9776156544685364, 0.9262294769287109, 0.10063400864601135, 0.06038040295243263, 0.02012680098414421, 0.8165730834007263, 0.004376934841275215, 0.9497948288917542, 0.04376934468746185, 0.7892630100250244, 0.9942849278450012, 0.08907397836446762, 0.11452368646860123, 0.22904737293720245, 0.26722192764282227, 0.06362427026033401, 0.22904737293720245, 0.9012167453765869, 0.07168769836425781, 0.020482199266552925, 0.7425536513328552, 0.24082821607589722, 0.07548859715461731, 0.07009655237197876, 0.21568170189857483, 0.08088063448667526, 0.05122440308332443, 0.15097719430923462, 0.3504827618598938, 0.005392042454332113, 0.9104976654052734, 0.8797224760055542, 0.9155369997024536, 0.053670741617679596, 0.260686457157135, 0.6823851466178894, 0.10223542153835297, 0.40894168615341187, 0.46005940437316895, 0.8345847725868225, 0.9665661454200745, 0.9375858306884766, 0.054240502417087555, 0.8301993608474731, 0.020968660712242126, 0.5619601011276245, 0.4193732440471649, 0.954221785068512, 0.9267979860305786, 0.8644113540649414, 0.12348733842372894, 0.8278664350509644, 0.4745282530784607, 0.9579232931137085, 0.9454304575920105, 0.8284968733787537, 0.7625877857208252, 0.21281519532203674, 0.6677100658416748, 0.9947434663772583, 0.9985048770904541, 0.809877336025238, 0.6301073431968689, 0.31505367159843445, 0.9518107175827026, 0.5154995918273926, 0.9540091156959534, 0.9954396486282349, 0.046472661197185516, 0.017427247017621994, 0.7203262448310852, 0.20912696421146393, 0.0058090826496481895, 0.9022013545036316, 0.13066154718399048, 0.09407631307840347, 0.015679385513067245, 0.7526105046272278, 0.8312784433364868, 0.8943696022033691, 0.20786204934120178, 0.4524056315422058, 0.3423610329627991, 0.8990538120269775, 0.04731862246990204, 0.9271336793899536, 0.9761674404144287, 0.10805082321166992, 0.8644065856933594, 0.9577847719192505, 0.5859156250953674, 0.28690847754478455, 0.05835426598787308, 0.04619712755084038, 0.5665226578712463, 0.04133427143096924, 0.4754582941532135, 0.037169378250837326, 0.0913747176527977, 0.07279003411531448, 0.32368332147598267, 0.19401034712791443, 0.12934023141860962, 0.6467011570930481, 0.15355949103832245, 0.09676352143287659, 0.1177990660071373, 0.35970786213874817, 0.2608408033847809, 0.008414219133555889, 0.8405603170394897, 0.9180463552474976, 0.6721602082252502, 0.9125190377235413, 0.10883219540119171, 0.08019214868545532, 0.16611230373382568, 0.6415371894836426, 0.4024142324924469, 0.6036213636398315, 0.8771584033966064, 0.6235986948013306, 0.884629487991333, 0.5095251202583313, 0.1698417216539383, 0.1698417216539383, 0.9381389021873474, 0.5591033101081848, 0.8243987560272217, 0.9807374477386475, 0.0006929772207513452, 0.3804444968700409, 0.6188286542892456, 0.8699696063995361, 0.46311864256858826, 0.06792406737804413, 0.037049490958452225, 0.42606914043426514, 0.9793947339057922, 0.9924865961074829, 0.9739322066307068, 0.9421235918998718, 0.817054808139801, 0.917763888835907, 0.003689900506287813, 0.33578094840049744, 0.08117781579494476, 0.1143869161605835, 0.11315695196390152, 0.13160645961761475, 0.06272830814123154, 0.04550877586007118, 0.11069701611995697, 0.7952687740325928, 0.8908874988555908, 0.957923173904419, 0.957923173904419, 0.9691750407218933, 0.9680563807487488, 0.7906008362770081, 0.9816526174545288, 0.0020505364518612623, 0.01948009617626667, 0.11585530638694763, 0.03588438779115677, 0.2173568606376648, 0.09432467073202133, 0.4131830930709839, 0.045111801475286484, 0.029732776805758476, 0.028707509860396385, 0.964645504951477, 0.742732584476471, 0.6760047674179077, 0.8156223297119141, 0.06524978578090668, 0.1087496429681778, 0.9820969700813293, 0.93305903673172, 0.9360052347183228, 0.03191617503762245, 0.023937132209539413, 0.0029921415261924267, 0.40892598032951355, 0.15160183608531952, 0.0039895218797028065, 0.038897838443517685, 0.28525081276893616, 0.0039895218797028065, 0.04687688127160072, 0.09272231161594391, 0.18544462323188782, 0.6258755922317505, 0.09272231161594391, 0.739429235458374, 0.14593997597694397, 0.07199705392122269, 0.005837598815560341, 0.021404528990387917, 0.013621064834296703, 0.3406367003917694, 0.3167921304702759, 0.33041760325431824, 0.01021910086274147, 0.849606454372406, 0.6264855265617371, 0.9932334423065186, 0.7481474280357361, 0.9974292516708374, 0.7278416752815247, 0.1418886035680771, 0.8513315916061401, 0.9011023044586182, 0.01629742607474327, 0.023282038047909737, 0.1327076256275177, 0.0069846115075051785, 0.379497230052948, 0.19091270864009857, 0.030266650021076202, 0.06751791387796402, 0.13969223201274872, 0.00931281503289938, 0.9610299468040466, 0.9971730709075928, 0.9877486824989319, 0.9738396406173706, 0.025294536724686623, 0.966536283493042, 0.06912874430418015, 0.03686866536736488, 0.6498101949691772, 0.07834590971469879, 0.12443174421787262, 0.03686866536736488, 0.6926178336143494, 0.7687936425209045, 0.8547497987747192, 0.1068437248468399, 0.9597069621086121, 0.10213392972946167, 0.24050892889499664, 0.5205535888671875, 0.006589285563677549, 0.00988392811268568, 0.11531249433755875, 0.9822127819061279, 0.13980108499526978, 0.8611746430397034, 0.5591033101081848, 0.5591033101081848, 0.5827907919883728, 0.40795356035232544, 0.9597316980361938, 0.9988542199134827, 0.06472986191511154, 0.4719015657901764, 0.07934628427028656, 0.07725822180509567, 0.13572390377521515, 0.006264180410653353, 0.15660451352596283, 0.006264180410653353, 0.9731045961380005, 0.9416117668151855, 0.322923868894577, 0.645847737789154, 0.7910207509994507, 0.027408398687839508, 0.08222519606351852, 0.004568066447973251, 0.8862048983573914, 0.004568066447973251, 0.0056539117358624935, 0.00226156460121274, 0.061062246561050415, 0.021484864875674248, 0.32453453540802, 0.14474013447761536, 0.21484863758087158, 0.05766989663243294, 0.07915475964546204, 0.08707024157047272, 0.9500947594642639, 0.9402973055839539, 0.3759192228317261, 0.5638788342475891, 0.8955615162849426, 0.932018518447876, 0.8657381534576416, 0.586188554763794, 0.3907923400402069, 0.9759218692779541, 0.9460710883140564, 0.9920383095741272, 0.981127142906189, 0.2338075339794159, 0.055577199906110764, 0.339212566614151, 0.01724809780716896, 0.02683037333190441, 0.03641264885663986, 0.28938475251197815, 0.39361417293548584, 0.4357871115207672, 0.028115298599004745, 0.14057648181915283, 0.46159863471984863, 0.39748772978782654, 0.08975528925657272, 0.05128873884677887, 0.013923026621341705, 0.5708441138267517, 0.2053646445274353, 0.031326811760663986, 0.013923026621341705, 0.16707631945610046, 0.9980695843696594, 0.9962810277938843, 0.987594723701477, 0.2781986892223358, 0.6800412535667419, 0.04121462255716324, 0.7541186213493347, 0.999342143535614, 0.9858531355857849, 0.9873286485671997, 0.7178879380226135, 0.7878961563110352, 0.9555802345275879, 0.641153872013092, 0.5591033101081848, 0.9886652827262878, 0.9898659586906433, 0.017320556566119194, 0.06928222626447678, 0.5831254124641418, 0.04618815332651138, 0.0028867595829069614, 0.24826131761074066, 0.03464111313223839, 0.0009416154935024679, 0.01600746251642704, 0.058380160480737686, 0.46515804529190063, 0.01129938568919897, 0.16854916512966156, 0.08003731817007065, 0.0423726961016655, 0.15630817413330078, 0.9680563807487488, 0.9889987111091614, 0.04523799195885658, 0.9273788332939148, 0.919368326663971, 0.9811014533042908, 0.9968279600143433, 0.9594206213951111, 0.0383768230676651, 0.9960550665855408, 0.990648090839386, 0.6863753199577332, 0.9881237149238586, 0.940667450428009, 0.9116836786270142, 0.08288034051656723, 0.8496085405349731, 0.8243987560272217, 0.01650986447930336, 0.9740819931030273, 0.903533935546875, 0.8407374024391174, 0.23517876863479614, 0.0199304036796093, 0.741411030292511, 0.4762641489505768, 0.5591033101081848, 0.5434076189994812, 0.021736305207014084, 0.43472611904144287, 0.0026241554878652096, 0.7163944244384766, 0.2781604826450348, 0.5659911036491394, 0.2829955518245697, 0.12128380686044693, 0.9285411238670349, 0.9905402064323425, 0.7892630100250244, 0.03042307309806347, 0.04148600623011589, 0.02212587185204029, 0.005531467963010073, 0.0027657339815050364, 0.86014324426651, 0.03318880498409271, 0.9802572131156921, 0.4663673937320709, 0.4663673937320709, 0.9476236701011658, 0.08310658484697342, 0.11488263309001923, 0.024443112313747406, 0.22732095420360565, 0.30553892254829407, 0.18087904155254364, 0.06599640846252441, 0.9690414667129517, 0.04347522556781769, 0.012925066985189915, 0.47117742896080017, 0.00822504237294197, 0.0035250182263553143, 0.05522528290748596, 0.32195165753364563, 0.05052525922656059, 0.0070500364527106285, 0.02585013397037983, 0.9685428142547607, 0.9489963054656982, 0.03954151272773743, 0.06351865082979202, 0.0030246975366026163, 0.6805569529533386, 0.033271674066782, 0.012098790146410465, 0.20567943155765533, 0.960430920124054, 0.9159179925918579, 0.9713539481163025, 0.627122700214386, 0.3583558201789856, 0.45161935687065125, 0.07969753444194794, 0.09298045933246613, 0.18596091866493225, 0.19924384355545044, 0.9378581643104553, 0.5975648164749146, 0.4794926643371582, 0.4794926643371582, 0.26339152455329895, 0.08779717236757278, 0.6496990323066711, 0.9918248057365417, 0.9927507638931274, 0.9312224388122559, 0.8955378532409668, 0.795707643032074, 0.18084263801574707, 0.055663641542196274, 0.7848573327064514, 0.15585818886756897, 0.932018518447876, 0.7617146372795105, 0.23437373340129852, 0.7568197846412659, 0.9204080104827881, 0.008038497529923916, 0.07234647870063782, 0.09749956429004669, 0.7847142219543457, 0.07391095906496048, 0.04403206333518028, 0.03294673562049866, 0.076189324259758, 0.04118341952562332, 0.05765678733587265, 0.20179875195026398, 0.49420103430747986, 0.04118341952562332, 0.05353844538331032, 0.04277371987700462, 0.008911192417144775, 0.033862531185150146, 0.24060218036174774, 0.08198296278715134, 0.3778345286846161, 0.007128953468054533, 0.14792579412460327, 0.05881386622786522, 0.09780452400445938, 0.8998016119003296, 0.0046819522976875305, 0.06710798293352127, 0.0078032538294792175, 0.07257025688886642, 0.8084170818328857, 0.02731138840317726, 0.0007803253829479218, 0.011704880744218826, 0.0995611920952797, 0.896050751209259, 0.5591033101081848, 0.5304777026176453, 0.4617120921611786, 0.8657538890838623, 0.9104975461959839, 0.9887203574180603, 0.9280920028686523, 0.9262294769287109, 0.5975648164749146, 0.9390161633491516, 0.9527190923690796, 0.0010312652448192239, 0.0005156326224096119, 0.09487640112638474, 0.16036173701286316, 0.21192499995231628, 0.2768947184085846, 0.09848582744598389, 0.10776721686124802, 0.015984609723091125, 0.03248485550284386, 0.0056764474138617516, 0.03632926568388939, 0.009082316420972347, 0.0034058685414493084, 0.1600758284330368, 0.06357621401548386, 0.46660399436950684, 0.054493896663188934, 0.04427628964185715, 0.06357621401548386, 0.009082316420972347, 0.08401142805814743, 0.6659624576568604, 0.9933858513832092, 0.020902754738926888, 0.11148135364055634, 0.787337064743042, 0.006967584602534771, 0.06967584788799286, 0.9901024699211121, 0.5975648164749146, 0.8897844552993774, 0.003954597748816013, 0.02768218331038952, 0.07909195125102997, 0.5680812001228333, 0.9246711134910583, 0.9500522613525391, 0.8017721176147461, 0.7673468589782715], \"Term\": [\"aa\", \"ab\", \"abandoning\", \"aboriginal\", \"abortion\", \"absentee\", \"acceptances\", \"access_sufficient\", \"accounting_principles\", \"accounts_payable\", \"accounts_receivable\", \"accrued\", \"accuracy\", \"accusations\", \"accusations\", \"accusations\", \"acmpr\", \"acquisition\", \"activities\", \"activities\", \"activities\", \"activity\", \"ad\", \"adam\", \"adam\", \"adoption\", \"advance\", \"advance\", \"advance\", \"advancement\", \"advocate\", \"advocate\", \"afa\", \"affordable\", \"affordable\", \"aftermath\", \"aggravated\", \"aggressive\", \"aggressive\", \"aggressive\", \"agile\", \"aglc\", \"airports\", \"airports\", \"alan\", \"alberta\", \"alberta\", \"alberta\", \"alberta\", \"alberta\", \"alberta\", \"albertans\", \"albertosaurus\", \"alertplatform\", \"allweld\", \"also\", \"also\", \"also\", \"also\", \"also\", \"also\", \"also\", \"also\", \"also\", \"also\", \"although\", \"although\", \"although\", \"although\", \"although\", \"although\", \"although\", \"alward\", \"alzheimer_society\", \"amascarenhas\", \"ameghji\", \"amendment\", \"amendment\", \"americans\", \"americans\", \"americans\", \"americans\", \"americans\", \"ammonia\", \"amooza\", \"amortization_ebitda\", \"amortized\", \"analysis\", \"analyst\", \"ancaster\", \"ancillary_transactions\", \"andrew_jeffrey\", \"androgynous\", \"anggun\", \"annexed\", \"annexed\", \"annexed\", \"annexed\", \"annexed\", \"annexed\", \"annexed\", \"anniversaries\", \"anniversary\", \"anniversary\", \"annoyed\", \"another\", \"another\", \"another\", \"another\", \"another\", \"another\", \"another\", \"anticipates\", \"anticipation\", \"antiques\", \"antiquities\", \"anvil\", \"anytime\", \"ap_coverage\", \"apha\", \"aphorism\", \"aphorism\", \"appa\", \"appear\", \"appear\", \"appelle\", \"applicable_securities\", \"application\", \"apportioned\", \"apportioned\", \"apprehended\", \"approach\", \"appropriation\", \"apr\", \"apr\", \"apr\", \"aramco\", \"archive\", \"archrivals\", \"ardently\", \"ardently\", \"ardently\", \"ardently\", \"ardently\", \"ardently\", \"arkoma\", \"arms_gary\", \"aron\", \"article\", \"article\", \"article\", \"article\", \"ase\", \"assessing\", \"assessing\", \"assessing\", \"assessing\", \"assist\", \"assists\", \"assured\", \"assured\", \"attainment\", \"attainment\", \"attainment\", \"attainment\", \"attribute\", \"aubrey\", \"aughts\", \"automobile\", \"automobile\", \"average\", \"average\", \"average\", \"average\", \"awarded\", \"backpacker\", \"backroom\", \"badlands\", \"bag\", \"bag\", \"bahrain\", \"balance\", \"bam\", \"band\", \"band\", \"band\", \"bank\", \"bank\", \"bank\", \"bank\", \"banking\", \"banking\", \"banking\", \"banking\", \"bankruptcy_protection\", \"bankruptcy_protection\", \"bankruptcy_protection\", \"banquet\", \"bans\", \"barred\", \"barred\", \"barrel\", \"barrel\", \"barrel\", \"barrels_day\", \"barta\", \"based\", \"based\", \"based\", \"based\", \"based\", \"based\", \"based\", \"based\", \"basic\", \"bateman\", \"bathroom\", \"baumberg\", \"baytex\", \"baytex\", \"bdang\", \"bdi\", \"beatles\", \"behaviours\", \"belies\", \"belongs\", \"belongs\", \"beloved_husband\", \"benchetrit\", \"benchmark\", \"benchmark\", \"benchmark\", \"benefactor\", \"beneficial\", \"bennett_jones\", \"bernardo\", \"bernardo\", \"betta\", \"betting\", \"bev\", \"bhathena\", \"bi\", \"bicycles\", \"biggies\", \"bigsteelbox\", \"bike\", \"bike\", \"bike\", \"bike\", \"bike\", \"bikes\", \"bilingual\", \"billgraveland\", \"billionaire\", \"biodiversity\", \"bir\", \"bison\", \"bitcoins\", \"bjorkquist\", \"blackface\", \"blake_cassels\", \"blessings\", \"blockaded\", \"blockbuster\", \"blood\", \"blood\", \"blood\", \"blood\", \"bloomberg\", \"blowdown\", \"bne\", \"bne\", \"board\", \"board\", \"board\", \"board\", \"board\", \"board\", \"board\", \"board\", \"bombing\", \"bonderman\", \"bone\", \"bonnie\", \"bonnie\", \"bonnie\", \"bonnie\", \"book\", \"book\", \"book\", \"book\", \"book\", \"booker\", \"bopped\", \"bopped\", \"bouthillier\", \"bouthillier\", \"bowen\", \"boyd\", \"bpd\", \"bqv\", \"bracamontes\", \"braced\", \"brainstorm\", \"brainstorms\", \"brd\", \"breakdown\", \"breakup\", \"breather\", \"breather\", \"breather\", \"brewing_disaster\", \"brexit\", \"brexit\", \"brexit\", \"brexit\", \"british\", \"british\", \"british\", \"british_columbia\", \"british_columbia\", \"british_columbia\", \"british_columbia\", \"british_columbia\", \"broken\", \"broken\", \"broken\", \"broken\", \"brooke\", \"browns\", \"brt\", \"brushed\", \"bsa\", \"bst\", \"bst\", \"buck\", \"buck\", \"buck\", \"buck\", \"buddhist\", \"bug\", \"bug\", \"bug\", \"bulwark\", \"bumpier\", \"bungling\", \"burglar\", \"burnaby_south\", \"burnaby_south\", \"burned\", \"burr\", \"bus_crash\", \"bus_crash\", \"business\", \"business\", \"business\", \"business\", \"business\", \"business\", \"business\", \"business\", \"business\", \"businesswoman\", \"butanes\", \"butanes\", \"butch\", \"butch\", \"butch\", \"butch\", \"buy\", \"buy\", \"buy\", \"buy\", \"ca_fnews\", \"caduv\", \"caisse\", \"cakecutting\", \"calculate\", \"calculations\", \"calendar\", \"calf\", \"calf\", \"calf\", \"calgary\", \"calgary\", \"calgary\", \"calgary\", \"calgary\", \"calgary\", \"calgary\", \"calgary\", \"calgary\", \"calif\", \"calif\", \"calif\", \"callers\", \"callwood\", \"campaign\", \"campaign\", \"campaign\", \"campaign\", \"campaign\", \"campaign\", \"campaign\", \"canada\", \"canada\", \"canada\", \"canada\", \"canada\", \"canada\", \"canada\", \"canada\", \"canada\", \"canada\", \"canadian\", \"canadian\", \"canadian\", \"canadian\", \"canadian\", \"canadian\", \"canadian\", \"canadian\", \"canadian_tire\", \"canadian_tire\", \"canadian_tire\", \"canadians\", \"canadians\", \"canadians\", \"canary\", \"canary\", \"canelo\", \"canelo\", \"canelo\", \"canelo\", \"canelo\", \"canelo\", \"canntrust\", \"capital\", \"capital\", \"capital\", \"capitalized\", \"capitalized\", \"capture\", \"capturing\", \"carbon\", \"carbon_pricing\", \"carbon_pricing\", \"carole\", \"carries\", \"carries\", \"carries\", \"cars\", \"cars\", \"cars\", \"cars\", \"cartels\", \"cartels\", \"cartels\", \"case\", \"case\", \"case\", \"case\", \"case\", \"case\", \"case\", \"cash\", \"caterpillar\", \"cathal_kelly\", \"caucuses\", \"cautionary\", \"cb\", \"cd\", \"cd\", \"celebrates\", \"cents\", \"cents\", \"cents\", \"ceo\", \"ceo\", \"ceo\", \"ceo\", \"cfnwan\", \"cfos\", \"cfp\", \"cfw\", \"chairs\", \"chairs\", \"charge\", \"charge\", \"charge\", \"chen\", \"cherish\", \"chew\", \"chew\", \"chew\", \"chew\", \"chew\", \"chew\", \"chew\", \"chew\", \"chew\", \"chicoutimi\", \"chicoutimi\", \"chicoutimi\", \"chicoutimi\", \"chicoutimi\", \"chief\", \"childhood\", \"childhood\", \"childhood\", \"chilko\", \"china\", \"china\", \"china\", \"china\", \"china\", \"china\", \"chippewa\", \"chippewa\", \"chisholm\", \"chrysler\", \"chunying\", \"chunying\", \"chunying\", \"cipher\", \"cities\", \"cities\", \"cities\", \"cities\", \"citigroup\", \"ck\", \"claridge\", \"clarizio\", \"clashes\", \"classes\", \"clause\", \"clause\", \"clearpower\", \"cliffhanger\", \"cll\", \"clunky\", \"cnr\", \"coach\", \"coalitions\", \"coates\", \"coates\", \"cocktail\", \"cod\", \"collection\", \"college_football\", \"colossal\", \"colour\", \"combine\", \"comedy\", \"comedy\", \"comedy\", \"comedy\", \"comedy\", \"comforting\", \"coming\", \"coming\", \"coming\", \"coming\", \"commandeer\", \"commercial_disputes\", \"commissioner\", \"common_shares\", \"commonwealth\", \"commonwealth\", \"commonwealth\", \"commonwealth\", \"commonwealth\", \"communication\", \"community\", \"community\", \"community\", \"community\", \"community\", \"community\", \"community\", \"community\", \"community\", \"community\", \"commutes\", \"companies\", \"companies\", \"companies\", \"companies\", \"companies\", \"companies\", \"companies\", \"comparing\", \"compartment\", \"compensatory\", \"compiled\", \"compiled\", \"complaints\", \"complaints\", \"complementing\", \"completely\", \"comprehensive_income\", \"conceding\", \"conclude\", \"conclude\", \"concur\", \"conference\", \"conference\", \"conference\", \"confirmation\", \"consciences\", \"consecutive\", \"consecutive\", \"consequently\", \"consequently\", \"conservative\", \"consists\", \"consolidating\", \"consolidations\", \"constituencies\", \"constituency\", \"constructed\", \"constructed\", \"constructed\", \"constructed\", \"construction\", \"construction\", \"construction\", \"construction\", \"construction\", \"construction\", \"construction\", \"consumable\", \"containing\", \"containment\", \"context\", \"contraception\", \"contractual\", \"cookie\", \"coping\", \"coping\", \"coping\", \"coping\", \"coping\", \"corcoran\", \"corona\", \"corona\", \"corona\", \"corona\", \"corona\", \"corona\", \"corporate\", \"corporate\", \"corporate_governance\", \"corporate_governance\", \"corporate_governance\", \"corporate_governance\", \"corresponding\", \"correspondingly\", \"corresponds\", \"corrupt\", \"cost\", \"cost\", \"cost\", \"cost\", \"cost\", \"costumed\", \"costumes\", \"cottages\", \"cotulla\", \"could\", \"could\", \"could\", \"could\", \"could\", \"could\", \"could\", \"could\", \"could\", \"could\", \"could\", \"could_cause\", \"could_cause\", \"could_cause\", \"could_cause\", \"council\", \"counterclaim\", \"counting\", \"country\", \"country\", \"country\", \"country\", \"country\", \"country\", \"country\", \"countrywide\", \"counts\", \"counts\", \"counts\", \"counts\", \"courchevel\", \"course\", \"course\", \"course\", \"course\", \"course\", \"courts\", \"courts\", \"covenant_ebitda\", \"crack\", \"crack\", \"crawford\", \"created\", \"created\", \"created\", \"created\", \"created\", \"created\", \"created\", \"credited\", \"credited\", \"creditor\", \"creelman\", \"criticize\", \"crosswords\", \"crowd\", \"crowd\", \"crowdfunding\", \"crucial\", \"crude\", \"crude\", \"crude\", \"crude\", \"cruisers\", \"cruze\", \"cruze\", \"cruze\", \"cumulative_effect\", \"cured\", \"curran\", \"curran\", \"current\", \"current\", \"current\", \"current\", \"current\", \"current\", \"customersupport\", \"cyclic\", \"cyclic\", \"cyclic\", \"cyclic\", \"cyclists\", \"cyclists\", \"cyclists\", \"cyclists\", \"cyclists\", \"cyclists\", \"cyclists\", \"cyclists\", \"dabbling\", \"dabbling\", \"daca\", \"dampier\", \"danish\", \"dascher\", \"data_cdleeder\", \"dates\", \"dauphin\", \"davidstea\", \"deadpans\", \"deal\", \"deal\", \"deal\", \"deal\", \"deal\", \"deal\", \"deal\", \"deal\", \"dealt\", \"dealt\", \"dealt\", \"dealt\", \"debris\", \"debris\", \"debris\", \"debris\", \"debris\", \"debris\", \"december\", \"december\", \"december\", \"december\", \"december\", \"december\", \"december\", \"december\", \"decent\", \"decent\", \"decent\", \"decorating\", \"decorating\", \"defensiveness\", \"deferred\", \"deferred_revenue\", \"deficiencies\", \"deficiencies\", \"deficiencies\", \"defy\", \"delineation\", \"delinquency\", \"democratic\", \"democratic\", \"democrats\", \"democrats\", \"democrats\", \"democrats\", \"demulsifiers\", \"denied\", \"deniers\", \"denounce\", \"denounce\", \"denounce\", \"densities\", \"derail\", \"derail\", \"deregulated\", \"deregulated\", \"derelict\", \"derives\", \"desirable\", \"detached\", \"devil\", \"devotion\", \"diagnosed\", \"diagnosed\", \"dialing\", \"died\", \"differ_materially\", \"differ_materially\", \"differential\", \"differential\", \"dii\", \"dinnerware\", \"dino\", \"dino\", \"dino\", \"dips\", \"dips\", \"dips\", \"dire\", \"dire\", \"dire\", \"direct_employee\", \"directorships\", \"disabuse\", \"disassembled\", \"disaster\", \"disaster\", \"disasters\", \"discontinuance\", \"discontinuance\", \"discounts\", \"discreetly\", \"discreetly\", \"discreetly\", \"dismay\", \"dismay\", \"distaste\", \"distracted\", \"distributing\", \"distribution\", \"diverging\", \"dives\", \"dives\", \"diwali\", \"dobson\", \"docs\", \"docs\", \"dodgy\", \"dofasco\", \"dollar\", \"dollar\", \"dollar\", \"dollar\", \"domination\", \"domination\", \"domination\", \"domination\", \"domination\", \"donations\", \"doodle\", \"doodles\", \"doom\", \"doorstep\", \"doos\", \"doris\", \"doting\", \"doublelines\", \"doubly\", \"drawings\", \"dream\", \"dream\", \"dream\", \"dream\", \"dream\", \"dream\", \"dream\", \"driedger\", \"dropout\", \"dui\", \"dumoulin\", \"duvall\", \"dwindling\", \"dynamics\", \"dynamics\", \"dynamics\", \"dynamics\", \"eagerly\", \"eagle\", \"eagleford\", \"earlydecember\", \"earmarked\", \"east\", \"eaten\", \"ebit\", \"echelons\", \"echelons\", \"echelons\", \"echelons\", \"economy\", \"economy\", \"economy\", \"economywide\", \"edelman\", \"eden\", \"edible\", \"editor\", \"edmonton\", \"edmonton\", \"edmonton\", \"edmonton\", \"edmonton\", \"edmonton\", \"edmonton\", \"effect\", \"effect\", \"effect\", \"effect\", \"effect\", \"efficient_manner\", \"efx\", \"eikon\", \"eka\", \"elaborate\", \"elaborate\", \"elaborate\", \"eleanor\", \"election\", \"election\", \"election\", \"election\", \"electronically\", \"eliminates\", \"elina\", \"elise\", \"elites\", \"elton\", \"elton\", \"email_info\", \"embark\", \"embarked\", \"emission\", \"emission\", \"emissions\", \"empire\", \"employed\", \"employed\", \"employed\", \"employed\", \"employed\", \"employed\", \"employees_maintains\", \"ended_sept\", \"enemy\", \"enerflex\", \"energy\", \"energy\", \"energy\", \"energy\", \"energy\", \"energy\", \"energy\", \"energy\", \"enfield\", \"engo\", \"enormously\", \"ensured\", \"entered\", \"entityxiv\", \"envisaged\", \"episodic\", \"equates\", \"ereguly\", \"erian\", \"error\", \"error\", \"establishes\", \"ethos\", \"etysygewzwu\", \"even\", \"even\", \"even\", \"even\", \"evening\", \"evening\", \"evening\", \"evening\", \"evening\", \"evp\", \"excels\", \"excentricite\", \"exempt\", \"exhaust\", \"exhibits\", \"existence\", \"existence\", \"expand\", \"expect\", \"expect\", \"expect\", \"expect\", \"expect\", \"expect\", \"expectations\", \"expectations\", \"expectations\", \"exploded\", \"exploded\", \"exploded\", \"external\", \"extracted\", \"extracted\", \"extremities\", \"extremities\", \"extremities\", \"extremities\", \"extremities\", \"extremities\", \"extricate\", \"extricate\", \"ezox\", \"fabien\", \"factoring\", \"factory\", \"fadb\", \"fades\", \"fail\", \"failing\", \"families\", \"families\", \"families\", \"families\", \"families\", \"families\", \"families\", \"farah\", \"farah\", \"farah\", \"farmer\", \"farmer\", \"farmer\", \"farmer\", \"farms\", \"fascinate\", \"fasken\", \"fatally\", \"fatally\", \"fatally\", \"fatally\", \"fatty\", \"fatty\", \"features\", \"federal\", \"federal\", \"federal\", \"federal\", \"fehd\", \"fell\", \"fell\", \"fell\", \"fernie\", \"ferrante\", \"ferrari\", \"ferreting\", \"fever\", \"fever\", \"fever\", \"fgn\", \"filled\", \"financial\", \"financial\", \"financial\", \"financial\", \"financial\", \"financial\", \"financial\", \"financial\", \"financial\", \"find\", \"find\", \"find\", \"find\", \"finer\", \"firm\", \"firm\", \"first\", \"first\", \"first\", \"first\", \"first\", \"first\", \"first\", \"first\", \"first\", \"first\", \"firstly\", \"fis\", \"fit\", \"flattened\", \"flavour\", \"flecks\", \"flesh\", \"floral\", \"flowers\", \"flowfor\", \"fluffy\", \"focal\", \"following\", \"following\", \"following\", \"following\", \"following\", \"following\", \"footie\", \"foresaw\", \"foreshadowed\", \"foresight\", \"forma\", \"formations\", \"former\", \"former\", \"former\", \"former\", \"former\", \"former\", \"former\", \"formerly\", \"formidable\", \"forsen\", \"fossils\", \"fretted\", \"friend\", \"friend\", \"friend\", \"friend\", \"frogs\", \"frontieres\", \"frontieres\", \"fuego\", \"fuel\", \"fulfilling\", \"fundamentalist\", \"fundamentalist\", \"fundamentalist\", \"fundamentalist\", \"fundamentalist\", \"funding\", \"funeral\", \"future\", \"future\", \"future\", \"future\", \"future\", \"future\", \"future\", \"gabbana\", \"gabbana\", \"galactic\", \"galen\", \"gary\", \"gary\", \"gas\", \"gas\", \"gas\", \"gas\", \"gas\", \"gasper\", \"gate\", \"gay\", \"gay\", \"gdp_ratio\", \"gdp_ratio\", \"gdzs\", \"gel\", \"genetics\", \"geo\", \"geoffrey\", \"geopolitics\", \"get\", \"get\", \"get\", \"get\", \"get\", \"get\", \"gg\", \"gigajoules\", \"gilbert\", \"glauconite\", \"global\", \"global\", \"global\", \"global\", \"global\", \"global\", \"global\", \"global\", \"globe\", \"globe\", \"globe\", \"globe\", \"globe\", \"globe\", \"globe\", \"globe_newswire\", \"globe_newswire\", \"globe_unlimited\", \"globe_unlimited\", \"globe_unlimited\", \"globe_unlimited\", \"glogovac\", \"glossed\", \"gmp_firstenergy\", \"gmp_firstenergy\", \"go\", \"go\", \"go\", \"go\", \"go\", \"go\", \"go\", \"go\", \"go\", \"goel\", \"goes\", \"going\", \"going\", \"going\", \"going\", \"golds\", \"gondek\", \"gondek\", \"gondek\", \"good\", \"good\", \"goodale\", \"goodbye\", \"googlers\", \"gover\", \"governing\", \"governing\", \"government\", \"government\", \"government\", \"government\", \"government\", \"gowling_wlg\", \"granddaughter\", \"granddaughter\", \"granking\", \"granny\", \"grappling\", \"gravestones\", \"gravitate\", \"great\", \"great\", \"great\", \"great\", \"great\", \"great\", \"great\", \"great\", \"grizzly\", \"gross_margin\", \"group\", \"group\", \"group\", \"group\", \"group\", \"group\", \"group\", \"group\", \"group\", \"grow\", \"grower\", \"grower\", \"growing\", \"growing\", \"growing\", \"growing\", \"growing\", \"grueling\", \"grueling\", \"grundy\", \"guay\", \"guerrero\", \"haes\", \"hailing\", \"hair\", \"halfway\", \"halfway\", \"hampering\", \"handlebar\", \"harassing\", \"harjit\", \"harper\", \"hart\", \"hart\", \"hastingssimon\", \"headquarterless\", \"healing_lodges\", \"healing_lodges\", \"healing_lodges\", \"healing_lodges\", \"healing_lodges\", \"healing_lodges\", \"healthyvacuum\", \"heaven\", \"heavier\", \"heaviest\", \"heaviest\", \"heaviest\", \"heavy_crude\", \"heavy_crude\", \"heavy_crude\", \"hedging_program\", \"hefford\", \"hefford\", \"hefford\", \"hefford\", \"hefford\", \"hefford\", \"hefford\", \"heroes\", \"hiatus\", \"hiccup\", \"hiccups\", \"hiccups\", \"hidden\", \"higgs\", \"higher\", \"higher\", \"higher\", \"higher\", \"hildebrand\", \"hindu\", \"historian\", \"historic\", \"historic\", \"historic\", \"historic\", \"historic\", \"hit\", \"hit\", \"hit\", \"hit\", \"hko\", \"hoax\", \"hoax\", \"holders\", \"holders\", \"holders\", \"hollowed\", \"hollywood\", \"homan\", \"homan\", \"homan\", \"homan\", \"homan\", \"homan\", \"homan\", \"homan\", \"honorary\", \"hope\", \"horrific\", \"horrific\", \"house\", \"house\", \"house\", \"house\", \"house\", \"houses\", \"houses\", \"houses\", \"houses\", \"hovered\", \"hovered\", \"hovered\", \"hua\", \"huddled\", \"huddled\", \"hunted\", \"hurdle\", \"hurt\", \"hurt\", \"hurt\", \"hurt\", \"hurt\", \"hwo\", \"hybrids\", \"iacbnwqvejcuq\", \"iacbnwqvejcuq\", \"iced\", \"icons\", \"iduskbn\", \"ignorant\", \"ihs_markit\", \"iic\", \"iliad\", \"illegal\", \"illegal\", \"illegal\", \"ills\", \"ilovetotravel\", \"imagines\", \"impacting\", \"impacting\", \"imperilled\", \"improving\", \"improving\", \"improving\", \"improving\", \"improving\", \"inactivity\", \"inattentiveness\", \"inattentiveness\", \"inattentiveness\", \"inattentiveness\", \"inattentiveness\", \"inattentiveness\", \"incl\", \"include\", \"include\", \"include\", \"include\", \"included\", \"included\", \"included\", \"included\", \"including\", \"including\", \"including\", \"including\", \"including\", \"including\", \"including\", \"including\", \"income_loss\", \"income_loss\", \"increased\", \"increased\", \"increased\", \"increased\", \"indebted\", \"indebted\", \"indebted\", \"indebtedness\", \"index\", \"index\", \"india\", \"india\", \"indigenous\", \"indigenous\", \"indigenous\", \"indigenous_groups\", \"indigenous_groups\", \"indigenous_peoples\", \"indo\", \"inductee\", \"industry\", \"industry\", \"industry\", \"industry\", \"industry\", \"informant\", \"informant\", \"informant\", \"infrastructural\", \"initiative\", \"initiative\", \"initiative\", \"inject\", \"inlet\", \"inner\", \"inner\", \"inner\", \"insider_report\", \"insider_report\", \"insider_report\", \"insights\", \"inspire\", \"instances\", \"instances\", \"instances\", \"instead\", \"institutional\", \"institutional\", \"institutional\", \"institutional\", \"intense\", \"intense\", \"intense\", \"intense\", \"intentionally\", \"interestingly\", \"interim\", \"interim\", \"interim\", \"interim\", \"interim\", \"interim\", \"interim\", \"interim\", \"intervening\", \"inuk\", \"investments\", \"investments\", \"investments\", \"investments\", \"investor\", \"investor\", \"investor\", \"investor\", \"investor\", \"invitations\", \"invoices\", \"invoicing\", \"iocs\", \"irfan\", \"irreplaceable\", \"isin\", \"issue\", \"issue\", \"issue\", \"issues\", \"issues\", \"issues\", \"issues\", \"issues\", \"issues\", \"iveson\", \"ivig\", \"ivison\", \"james_keller\", \"jams\", \"jane\", \"jarbeau\", \"jeakins\", \"jeffrey\", \"jentsch\", \"jerk\", \"jerk\", \"jerk\", \"jerk\", \"jerk\", \"jerk\", \"jerk\", \"jettisoning\", \"john_ibbitson\", \"joly\", \"joy\", \"juice\", \"july\", \"justin_trudeau\", \"justin_trudeau\", \"kahlon\", \"kaleigh\", \"kaning\", \"karmini\", \"katrina\", \"kawasaki\", \"ken\", \"kenney\", \"kenney\", \"kettle\", \"keurig\", \"kevin\", \"kevin\", \"keyboardist\", \"kicker\", \"kirkpatrick\", \"kisses\", \"klm\", \"knowledge\", \"koi\", \"kuala\", \"lacey\", \"lacked\", \"lakers\", \"lakers\", \"lakers\", \"lakers\", \"lakers\", \"lakers\", \"lalousis\", \"lancasster\", \"lands\", \"landscapes\", \"lantern\", \"laterally\", \"laterally\", \"latinos\", \"laverne\", \"laverne\", \"laverne\", \"laverne\", \"layering\", \"leach\", \"leach\", \"leach\", \"leach\", \"leach\", \"leach\", \"learning\", \"leased\", \"left\", \"left\", \"left\", \"left\", \"legacy\", \"legacy\", \"legacy\", \"legacy\", \"legacy\", \"legacy\", \"legacy\", \"legally\", \"legislature\", \"legislature\", \"legislature\", \"lenz\", \"leszczyc\", \"leszczyc\", \"leveraged\", \"leveraged\", \"leveraged\", \"leveraged\", \"leveraged\", \"leveraged\", \"levering\", \"lgbtq\", \"lgbtq\", \"lgbtq\", \"liberals\", \"liberals\", \"liberals\", \"licence\", \"licence\", \"licencing\", \"licensed\", \"licensed\", \"licensed\", \"licensed\", \"licensed\", \"licensed\", \"licensed\", \"licensed\", \"licensees\", \"licl\", \"lightly\", \"lightly\", \"like\", \"like\", \"like\", \"like\", \"like\", \"like\", \"like\", \"linen\", \"linen\", \"lineup\", \"lineups\", \"lineups\", \"lineups\", \"lineups\", \"lineups\", \"lingers\", \"lionel\", \"lionel\", \"liquids_mboe\", \"lira\", \"listings\", \"lithgow\", \"litigation\", \"litigation\", \"living\", \"loanable\", \"loche\", \"locks\", \"logging\", \"logically\", \"longer_adjusting\", \"looked\", \"lori_ewing\", \"lori_ewing\", \"lori_ewing\", \"lori_ewing\", \"lori_ewing\", \"losses_resulting\", \"louise\", \"louise\", \"louise\", \"louise\", \"louise\", \"lp\", \"lt\", \"lt\", \"lt\", \"lt\", \"lt\", \"lt\", \"ltd\", \"lunch\", \"luncheons\", \"luring\", \"luring\", \"lynne_mcclintic\", \"machin\", \"made\", \"made\", \"made\", \"made\", \"made\", \"made\", \"made\", \"made\", \"made\", \"mahamud\", \"mail\", \"mail\", \"mail\", \"mail\", \"mail\", \"mails\", \"mailto_tips\", \"mailto_tips\", \"mainstream\", \"mainstream\", \"mainstream\", \"mainstream\", \"maison\", \"majeure\", \"make\", \"make\", \"make\", \"make\", \"make\", \"make\", \"makeover\", \"maloney\", \"maloney\", \"maloney\", \"maloney\", \"maloney\", \"man\", \"man\", \"man\", \"manages\", \"manages\", \"managing_director\", \"mandatory\", \"mango\", \"manila\", \"manipulating\", \"manitoba\", \"manitoba\", \"manitoba\", \"manitoba\", \"manitoba\", \"mans\", \"mans\", \"many\", \"many\", \"many\", \"many\", \"many\", \"many\", \"many\", \"many\", \"many\", \"marcussen\", \"margarets\", \"marginalized\", \"maria\", \"maria\", \"maria\", \"marijuana\", \"market\", \"market\", \"market\", \"market\", \"market\", \"market\", \"market\", \"markets\", \"markets\", \"markets\", \"markets\", \"markets\", \"markets\", \"markets\", \"markets\", \"martensville\", \"martensville\", \"marvelous\", \"marvelous\", \"mason_j\", \"mason_j\", \"masterfully\", \"mat\", \"matches\", \"matches\", \"material\", \"mathematical\", \"mats\", \"mature\", \"maude\", \"may\", \"may\", \"may\", \"may\", \"may\", \"may\", \"may\", \"may\", \"may\", \"mboe\", \"mccauley\", \"mcchrystal\", \"mcchrystal\", \"measured\", \"meat\", \"medical\", \"medicine_hat\", \"medicine_hat\", \"medline\", \"megawatt\", \"melissa\", \"members\", \"members\", \"memorial_donations\", \"mentoring\", \"merel\", \"merrily\", \"mesa\", \"mesh\", \"metropolis\", \"metrotower\", \"mforrest\", \"mgwff\", \"mgx\", \"microphone\", \"midair\", \"middleman\", \"middleweight\", \"milestone\", \"milestone\", \"militants\", \"militants\", \"militants\", \"military\", \"military\", \"military\", \"military\", \"military\", \"military\", \"military\", \"military\", \"milton\", \"minimum\", \"miracle\", \"miraculous\", \"misbrd\", \"misbrdstk\", \"misma\", \"mistrust\", \"mistrust\", \"mistrust\", \"mistrust\", \"mistrust\", \"mitigate\", \"mitigation\", \"mizanur\", \"mmcfe\", \"mobility\", \"mocktail\", \"mogo\", \"mollie\", \"momentum\", \"momentum\", \"momentum\", \"momentum\", \"monarch\", \"monarch\", \"monarch\", \"monarch\", \"monarch\", \"montana\", \"montana\", \"montana\", \"montana\", \"montana\", \"montana\", \"months\", \"months\", \"months\", \"months\", \"months\", \"months\", \"months\", \"months\", \"months_endedseptember\", \"montney_horizontal\", \"montney_horizontal\", \"montoyo\", \"montoyo\", \"montoyo\", \"montoyo\", \"montoyo\", \"moral\", \"moral\", \"moral\", \"morale\", \"motherhood\", \"motor\", \"motorsports\", \"motorworks\", \"mould\", \"mourns\", \"mouth\", \"mouth\", \"mouth\", \"mouthing\", \"mr\", \"mr\", \"mr\", \"mr\", \"mr\", \"mr\", \"mr\", \"mr\", \"ms_notley\", \"msf\", \"msf\", \"msft\", \"mst\", \"mulroney\", \"mulroney\", \"multiple\", \"multiple\", \"multiple\", \"multiplying\", \"multitudinous\", \"mural\", \"murdered\", \"mushikiwabo\", \"nakita\", \"nameplate\", \"narrow\", \"narrowed\", \"nation\", \"nation\", \"nation\", \"nation\", \"national\", \"national\", \"national\", \"national\", \"national\", \"national\", \"national\", \"natural\", \"navdeep\", \"nazer\", \"neapolitan\", \"neb\", \"neb_panel\", \"necessitated\", \"necessitated\", \"need\", \"need\", \"need\", \"need\", \"need\", \"need\", \"negotiation\", \"nell\", \"nerdwalklet\", \"nervous\", \"nervous\", \"nervous\", \"net_loss\", \"networks\", \"networks\", \"networks\", \"networks\", \"new\", \"new\", \"new\", \"new\", \"new\", \"new\", \"new\", \"new\", \"new\", \"new\", \"newfield\", \"newly\", \"newly\", \"newmont\", \"news\", \"news\", \"news\", \"news\", \"news\", \"news\", \"news\", \"news\", \"news_develops\", \"newspages\", \"next\", \"next\", \"next\", \"next\", \"next\", \"next\", \"next\", \"next\", \"nibvkz\", \"nichols\", \"nigel\", \"ninepoint\", \"nineteen\", \"nineties\", \"niverville\", \"non_gaap\", \"norm\", \"northbow\", \"northeast\", \"northeast\", \"northwestern\", \"note\", \"note\", \"note\", \"note\", \"note\", \"note\", \"note\", \"note\", \"noticed\", \"notwithstanding\", \"notwithstanding\", \"notwithstanding\", \"notwithstanding\", \"novak\", \"nsfdf\", \"nsm\", \"numo\", \"nutrien\", \"oanda_analyst\", \"obedient\", \"obliviousness\", \"obnoxious\", \"observers\", \"oct\", \"oct\", \"oct\", \"oct\", \"oct\", \"oct\", \"odds\", \"office\", \"office\", \"office\", \"office\", \"office\", \"office\", \"office\", \"office\", \"office\", \"offloading\", \"ogen\", \"ogunbowale\", \"ogunbowale\", \"oil\", \"oil\", \"oil\", \"oil\", \"oil\", \"oka\", \"oka\", \"oka\", \"oka\", \"oka\", \"okanagan\", \"okanagan\", \"okanagan\", \"okanagan\", \"okanagan\", \"okanagan\", \"okanagan\", \"okill\", \"olave\", \"ole\", \"oligopoly\", \"olympian\", \"omarmosleh\", \"ominously\", \"ominously\", \"ominously\", \"ominously\", \"ominously\", \"oncology\", \"one\", \"one\", \"one\", \"one\", \"one\", \"one\", \"one\", \"one\", \"one\", \"one\", \"onebeacon\", \"onwards\", \"opened\", \"opened\", \"opened\", \"opened\", \"operations\", \"operations\", \"operations\", \"opposition\", \"opposition\", \"oracle\", \"orchard\", \"organically\", \"organizes\", \"orientated\", \"orleans\", \"ornate\", \"orphan\", \"orzyr\", \"ostlund\", \"ottawa\", \"ottawa\", \"ottawa\", \"ottawa\", \"ottawa\", \"outlook\", \"overheated\", \"overload\", \"overpriced\", \"overshadowed\", \"owen\", \"owen\", \"owen\", \"palace\", \"palace\", \"palaeontology\", \"paleotological\", \"paltry\", \"panama\", \"paraffin\", \"paramedics\", \"paramedics\", \"paris\", \"paris\", \"paris\", \"paris\", \"paris\", \"paris\", \"paris\", \"paris\", \"parked\", \"parked\", \"parked\", \"parked\", \"parliament_hill\", \"parliament_hill\", \"particularly\", \"particularly\", \"particularly\", \"particularly\", \"particularly\", \"particularly\", \"partnerships\", \"pasquale\", \"passed\", \"passed\", \"passengers\", \"passion\", \"patch\", \"patch\", \"patch\", \"paula\", \"paulette\", \"pausing\", \"payables\", \"pdp\", \"pds\", \"pe\", \"pegs\", \"pelletier\", \"penney\", \"penney\", \"people\", \"people\", \"people\", \"people\", \"people\", \"people\", \"people\", \"pep\", \"pepperdine\", \"pepperdine\", \"pepperdine\", \"per_cent\", \"per_cent\", \"per_cent\", \"per_cent\", \"percentage\", \"percentage\", \"percentage\", \"performance\", \"performance\", \"performance\", \"performance\", \"performance\", \"permits\", \"permits\", \"permits\", \"permits\", \"permits\", \"permits\", \"perplexing\", \"personality\", \"pertinent\", \"pertinent\", \"pertinent\", \"petrobangla\", \"petrobangla\", \"petrochina\", \"photographers\", \"photographs\", \"photographs\", \"piccadilly\", \"picket\", \"piggyback\", \"piggyback\", \"piling\", \"pillow\", \"pilon\", \"pipeline\", \"pipeline\", \"pipeline\", \"pipeline_expansion\", \"pipeline_expansion\", \"planning\", \"planning\", \"planning\", \"planning\", \"planning\", \"planning\", \"playground\", \"plays\", \"plays\", \"plays\", \"plays\", \"plays\", \"pleaded_guilty\", \"pleaded_guilty\", \"poe\", \"poe\", \"points\", \"points\", \"points\", \"poised\", \"polar\", \"pole\", \"pole\", \"pole\", \"pole\", \"police_officers\", \"polisi\", \"political\", \"political\", \"political\", \"political\", \"politically\", \"politics\", \"politics\", \"politics\", \"politics\", \"politics_briefing\", \"poll\", \"poll\", \"poll\", \"poll\", \"polluted\", \"pompeo\", \"pontification\", \"poorly\", \"poorly\", \"popplewell\", \"population\", \"poring\", \"portal\", \"postal_workers\", \"postal_workers\", \"postal_workers\", \"postal_workers\", \"posts\", \"potash\", \"poultry\", \"pouring\", \"powdery\", \"power_generation\", \"powerlessness\", \"powers\", \"powers\", \"powers\", \"poyraz\", \"ppm\", \"ppr\", \"ppr_shares\", \"practical\", \"practice_encompasses\", \"practice_focuses\", \"pragmatic\", \"prawn\", \"pray\", \"prayer\", \"prayer\", \"prayer\", \"preached\", \"preached\", \"preceding\", \"predisposed\", \"preference\", \"prefontaine\", \"premarket\", \"premeditated\", \"premeditated\", \"premier\", \"premier\", \"premier\", \"premier\", \"premier\", \"premiering\", \"prepaid\", \"prepare\", \"prepayment\", \"presidency\", \"president\", \"president\", \"president\", \"president\", \"president\", \"president\", \"president\", \"president\", \"president_donald\", \"president_donald\", \"president_donald\", \"president_donald\", \"president_donald\", \"president_donald\", \"president_emmanuel\", \"president_emmanuel\", \"president_emmanuel\", \"president_emmanuel\", \"president_emmanuel\", \"president_emmanuel\", \"presse\", \"presse\", \"presse\", \"presse\", \"presse\", \"pretzel\", \"priced\", \"priced\", \"priced\", \"priced\", \"prices\", \"prices\", \"prices\", \"prices\", \"primacy\", \"primacy\", \"prime_minister\", \"prime_minister\", \"prime_minister\", \"prime_minister\", \"probe\", \"proceedings\", \"proceedings\", \"proceeds\", \"process\", \"process\", \"process\", \"process\", \"process\", \"process\", \"producers\", \"producers\", \"product\", \"product\", \"product\", \"product_liability\", \"profession\", \"professorship\", \"profligate\", \"profoundly\", \"profoundly\", \"profs\", \"prohibited\", \"prohibited\", \"prohibitively\", \"prominent\", \"proper\", \"prostitutes\", \"provides\", \"province\", \"province\", \"province\", \"province\", \"province\", \"province\", \"provinces\", \"provinces\", \"psychology\", \"psychology\", \"psychology\", \"public\", \"public\", \"public\", \"public\", \"public\", \"public\", \"public\", \"public\", \"punted\", \"punted\", \"punted\", \"pushing\", \"pushing\", \"puzzles\", \"qst\", \"quantum\", \"quarter\", \"quarterly\", \"quarterly_profit\", \"quassa\", \"que\", \"que\", \"que\", \"que\", \"que\", \"que\", \"queen\", \"questor\", \"quicker\", \"quitting\", \"quizzes\", \"quizzical\", \"quota\", \"quoting\", \"races\", \"raceway\", \"raceway\", \"racist\", \"racist\", \"racist\", \"racist\", \"raging\", \"raging\", \"rail_cars\", \"rail_cars\", \"rail_cars\", \"rail_transport\", \"raining\", \"randall\", \"randy_neely\", \"rang\", \"ranking\", \"rate\", \"rate\", \"rate\", \"rates\", \"rates\", \"rates\", \"rather\", \"rather\", \"rather\", \"rather\", \"rather\", \"rather\", \"rather\", \"rather\", \"ratios\", \"rca\", \"rcyc\", \"reached\", \"reached\", \"reached\", \"reached\", \"reached\", \"reached\", \"reactivated\", \"reaffirm\", \"realizations\", \"realizations\", \"realms\", \"realms\", \"rebating\", \"rebounded\", \"rebounded\", \"rebounded\", \"receivables\", \"receptions\", \"recipe\", \"recommenced\", \"reconsideration\", \"recounted\", \"recovering\", \"redeem\", \"redistributes\", \"referrals\", \"refugees\", \"regs\", \"regulations\", \"reguly\", \"reined\", \"reitmans\", \"rejoices\", \"rejoices\", \"relate\", \"relaxed\", \"relaxed\", \"relaxed\", \"relaxed\", \"relevance\", \"relinquishment\", \"relocating\", \"relocation\", \"reluctantly\", \"reluctantly\", \"remarkably\", \"remarkably\", \"remarkably\", \"remarkably\", \"remarks\", \"remarks\", \"reminder\", \"reminder\", \"reminds\", \"reminds\", \"remit\", \"remnants\", \"remnants\", \"renovate\", \"renovations\", \"replied\", \"replied\", \"replied\", \"replied\", \"replied\", \"replied\", \"replied\", \"reportable\", \"reporter_covering\", \"reporter_covering\", \"reproduced\", \"requisite\", \"requisite\", \"reserve\", \"resident\", \"resident\", \"resident\", \"residential_schools\", \"resilient\", \"resort\", \"resource_download\", \"responsibility\", \"responsibility\", \"responsibility\", \"restaurateurs\", \"restocked\", \"restored\", \"restored\", \"restored\", \"restored\", \"restored\", \"result\", \"result\", \"retailers\", \"reuniting\", \"reuniting\", \"revamp\", \"revolving\", \"rg\", \"rhetoric\", \"richard\", \"riddell_rose\", \"ridden\", \"ridiculed\", \"right\", \"right\", \"right\", \"right_wing\", \"right_wing\", \"right_wing\", \"right_wing\", \"right_wing\", \"risk_factors\", \"rocks\", \"rodney\", \"roher\", \"ronald\", \"ronaldo\", \"ronaldo\", \"rot\", \"roth\", \"rouville\", \"rshdj\", \"rue\", \"ruffle\", \"ruth\", \"ryw\", \"safe_harbor\", \"safety\", \"safety\", \"safety\", \"safety\", \"safety\", \"safety\", \"safety\", \"saint_jacques\", \"saint_jacques\", \"saint_john\", \"samestore\", \"samiul\", \"sandusky\", \"sara\", \"sara\", \"sara\", \"sara\", \"sarcophagus\", \"saudi_crown\", \"saudi_crown\", \"saudi_crown\", \"sawn_lake\", \"scales\", \"scare\", \"scenario\", \"school\", \"school\", \"school\", \"school\", \"schwartz\", \"sciences\", \"scotians\", \"sdy\", \"sebastapol\", \"securedrop_follow\", \"segura\", \"seizures\", \"senegal\", \"sensitive\", \"sensitive\", \"sentence\", \"separators\", \"separators\", \"september\", \"september\", \"september\", \"september\", \"september\", \"sequoia\", \"servicing\", \"sewing\", \"sgveq\", \"sgveq\", \"sgveq\", \"shade\", \"shade\", \"shade\", \"shade\", \"shaded\", \"shaken\", \"shaky\", \"sham\", \"sham\", \"shambolic\", \"shapovalov\", \"shapovalov\", \"shapovalov\", \"shapovalov\", \"shapovalov\", \"shapovalov\", \"shareholders\", \"shareholdings\", \"shares_outstanding\", \"sharpen\", \"shave\", \"shawna\", \"sheer\", \"sheer\", \"sheer\", \"shielding\", \"shifting\", \"shines\", \"shipper\", \"shirking\", \"shirley\", \"shocking\", \"shoppers\", \"shoppers\", \"shoppers\", \"shoppers\", \"shoppers\", \"showroom\", \"shrinking\", \"sighted\", \"sighted\", \"sighted\", \"silently\", \"silvia\", \"simms\", \"simpson\", \"simpson\", \"simpson\", \"simpson\", \"simpson\", \"simpson\", \"simulations\", \"sinking\", \"sinking\", \"sinking\", \"sionna\", \"situation\", \"skewing\", \"ski\", \"ski\", \"slam\", \"slammed\", \"slash\", \"slaying\", \"slf\", \"slight\", \"slimmed\", \"slumped\", \"smart\", \"smx\", \"snacks\", \"snap\", \"snap\", \"snap\", \"snap\", \"snap\", \"snooze\", \"social_responsibility\", \"softail\", \"software\", \"software\", \"solution\", \"solutions\", \"solutions\", \"sometimes\", \"song\", \"song\", \"song\", \"sour\", \"south_korea\", \"south_korea\", \"spaces\", \"spaces\", \"spacing\", \"sparks\", \"spicing\", \"spiking\", \"spit\", \"spooking\", \"sporadic\", \"spring\", \"spring\", \"spring\", \"spring\", \"spruce\", \"srb\", \"st\", \"st\", \"st\", \"st_catharines\", \"staleyr\", \"stall\", \"star\", \"star\", \"star\", \"star\", \"starchy\", \"starchy\", \"starting\", \"starting_jan\", \"starving\", \"statement\", \"statutory\", \"steep_discounts\", \"steep_discounts\", \"stewardship\", \"stikeman\", \"stint\", \"stint\", \"stint\", \"stint\", \"stock\", \"stock\", \"stock\", \"stoddart\", \"stoney\", \"stopped\", \"stopped\", \"stopped\", \"stopped\", \"stopped\", \"stopped\", \"stores\", \"stores\", \"stores\", \"stories\", \"stories\", \"storm\", \"storm\", \"storm\", \"storm\", \"storm\", \"storm\", \"storm\", \"storm\", \"stovel\", \"strad\", \"straying\", \"streak\", \"streak\", \"streak\", \"streams\", \"streams\", \"streams\", \"stretch\", \"striving\", \"student\", \"student\", \"studio\", \"stuffing\", \"stuffing\", \"stuffing\", \"stung\", \"stymieing\", \"subcontractors\", \"subcontractors\", \"subject_ern\", \"submission\", \"subsector\", \"subsets\", \"subsidized\", \"substituted\", \"substituted\", \"sucked\", \"sufficiency\", \"sufficiently\", \"sulphuric\", \"summoning\", \"summoning\", \"sunset\", \"superintendent\", \"supernatural\", \"superpowers\", \"supplied\", \"supplied\", \"supplied\", \"supplied\", \"supplied\", \"supposition\", \"supreme_court\", \"supreme_court\", \"supreme_court\", \"supreme_court\", \"surplus\", \"surveys\", \"survive\", \"survive\", \"survive\", \"swings\", \"swings\", \"sxp\", \"syncrude\", \"tahoe\", \"tahoe\", \"tailings_ponds\", \"takeaway\", \"taken\", \"taken\", \"taken\", \"taken\", \"taken\", \"takeovers\", \"takeovers\", \"takeovers\", \"takeovers\", \"takeovers\", \"talking\", \"talking\", \"talking\", \"talmadge\", \"talmadge\", \"talmadge\", \"talmadge\", \"talmadge\", \"talmadge\", \"tamitik\", \"tamsin\", \"tan\", \"tankers\", \"target\", \"target\", \"target\", \"target\", \"tarred\", \"tarred\", \"tasks\", \"tasw\", \"tat\", \"tax_breaks\", \"tax_breaks\", \"tax_breaks\", \"taxable\", \"technician\", \"tel_email\", \"territorial\", \"testy\", \"testy\", \"testy\", \"tetsu\", \"texture\", \"texture\", \"texture\", \"texture\", \"thai\", \"tharisa\", \"theglobeandmail\", \"thiessen\", \"thinks\", \"thomas\", \"threat\", \"threat\", \"threat\", \"threat\", \"threat\", \"threat\", \"threat\", \"threat\", \"threat\", \"thresholds\", \"throated\", \"thumper\", \"thumping\", \"thunder\", \"thwart\", \"tidewater\", \"tied\", \"time\", \"time\", \"time\", \"time\", \"time\", \"time\", \"time\", \"time\", \"time\", \"time\", \"timing\", \"tinker\", \"tiofkg\", \"tips\", \"tips\", \"tips\", \"tms\", \"toddlers\", \"toonies\", \"tore\", \"tore\", \"tore\", \"tore\", \"tore\", \"tore\", \"tore\", \"tore\", \"tore\", \"tore\", \"toronto\", \"toronto\", \"toronto\", \"toronto\", \"torrents\", \"torrents\", \"torrents\", \"torrents\", \"torrents\", \"torrents\", \"torstar\", \"torstar\", \"torstar\", \"torstar\", \"touchstone\", \"tourney\", \"town\", \"townhouses\", \"towns\", \"tpeglgajseksknw\", \"track\", \"track\", \"traction\", \"trade\", \"trade\", \"trade\", \"trade\", \"trade\", \"trade\", \"trade\", \"trade\", \"trade\", \"trade\", \"trait\", \"trans_mountain\", \"transactional\", \"transactions\", \"transactions\", \"transcanada_corp\", \"transportation\", \"transportation\", \"transportation\", \"transportation\", \"transportation\", \"transportation\", \"transports\", \"travelled\", \"treatment\", \"treatment\", \"tremendous\", \"trended\", \"trended\", \"trended\", \"trended\", \"trended\", \"trended\", \"tri\", \"trial\", \"trial\", \"trike\", \"trikes\", \"trip\", \"trip\", \"trivial\", \"trudeau\", \"trump\", \"trump\", \"trump\", \"trump\", \"trump\", \"trump\", \"trump\", \"trump\", \"tufts\", \"turf\", \"turmoil\", \"turmoil\", \"twangy\", \"twitter\", \"twitter\", \"twitter\", \"twitter\", \"twitter\", \"two\", \"two\", \"two\", \"two\", \"two\", \"two\", \"two\", \"two\", \"two\", \"two\", \"ufv\", \"umbrella\", \"umzx\", \"umzx\", \"unattended\", \"unconfirmed\", \"unconscious\", \"underemployed\", \"underemployed\", \"undergo\", \"undertakings\", \"undertones\", \"undoubtedly\", \"unfortunately\", \"unfortunately\", \"unfortunately\", \"unfortunately\", \"unfortunately\", \"unfortunately\", \"unfortunately\", \"uniformed\", \"uniformed\", \"uniformed\", \"uniformed\", \"united_nations\", \"united_nations\", \"united_nations\", \"united_nations\", \"university\", \"university\", \"university\", \"university\", \"university\", \"university\", \"unknown_risks\", \"unpredictable\", \"unresolved\", \"unusual\", \"unusual\", \"unusual\", \"unwilling\", \"unwillingness\", \"upcoming_words\", \"update\", \"upend\", \"upgrade\", \"upgraded\", \"upshot\", \"upstairs\", \"urge\", \"urgency\", \"urlacher\", \"urlacher\", \"urlacher\", \"urlacher\", \"urlacher\", \"urlacher\", \"urlacher\", \"us\", \"us\", \"us\", \"us\", \"us\", \"us\", \"us\", \"us\", \"us\", \"vacation\", \"valuation\", \"veer\", \"veer\", \"veggies\", \"veterans\", \"victim\", \"victims\", \"victims\", \"victor\", \"victory\", \"vintage\", \"vires\", \"visibility\", \"vital\", \"vital\", \"voc\", \"volume_weighted\", \"voted\", \"voted\", \"vwlcga\", \"wadsworth\", \"wannacry\", \"wannacry\", \"wannacry\", \"warms\", \"warranty\", \"washington_politics\", \"washington_politics\", \"washington_politics\", \"waste\", \"waste\", \"waste\", \"waterloo\", \"waterloo\", \"waterloo\", \"watson\", \"waves\", \"wax\", \"way\", \"way\", \"way\", \"way\", \"way\", \"way\", \"way\", \"weak\", \"weakens\", \"weakens\", \"wealth\", \"weather\", \"weather\", \"weather\", \"weather\", \"weather\", \"weather\", \"weather\", \"weekday\", \"well\", \"well\", \"well\", \"well\", \"well\", \"well\", \"well\", \"well\", \"well\", \"well\", \"wellbore\", \"west_texas\", \"west_texas\", \"western\", \"western\", \"western\", \"western\", \"western\", \"western\", \"whale\", \"whalen\", \"wharf\", \"whereas\", \"whereas\", \"whistlers\", \"whistlers\", \"whistlers\", \"whistlers\", \"whistlers\", \"whitecourt\", \"whites\", \"whitesky\", \"whitesky\", \"widespread\", \"widespread\", \"widespread\", \"winch\", \"winding\", \"wingers\", \"wining\", \"winston\", \"winston\", \"withdrew\", \"withdrew\", \"withdrew\", \"withhold\", \"without\", \"without\", \"woes\", \"women\", \"women\", \"women\", \"words\", \"words\", \"words\", \"words\", \"work\", \"work\", \"work\", \"work\", \"work\", \"work\", \"work\", \"work\", \"world\", \"world\", \"world\", \"world\", \"world\", \"world\", \"world\", \"world\", \"world\", \"worse\", \"worse\", \"would\", \"would\", \"would\", \"would\", \"would\", \"would\", \"would\", \"would\", \"wrap\", \"wrap\", \"wrenches\", \"writer\", \"writer\", \"writes\", \"wrongdoers\", \"wti\", \"wwf\", \"wxn\", \"xj\", \"yamaha\", \"yeah\", \"year\", \"year\", \"year\", \"year\", \"year\", \"year\", \"year\", \"year\", \"year\", \"year\", \"years\", \"years\", \"years\", \"years\", \"years\", \"years\", \"years\", \"years\", \"years\", \"years\", \"years\", \"years\", \"yee\", \"yielding\", \"yosif\", \"yosif\", \"yosif\", \"yosif\", \"yosif\", \"young\", \"ys\", \"zero\", \"zero\", \"zero\", \"zero\", \"zharkamys\", \"ziggy\", \"zj\", \"zoe\", \"zurich\"]}, \"R\": 30, \"lambda.step\": 0.01, \"plot.opts\": {\"xlab\": \"PC1\", \"ylab\": \"PC2\"}, \"topic.order\": [1, 2, 3, 4, 5, 6, 7, 8, 9, 10, 11, 12, 13, 14, 15, 16, 17, 18, 19, 20, 21, 22, 23, 24, 25, 26, 27, 28, 29, 30, 31, 32, 33, 34, 35, 36, 37, 38, 39, 40]};\n",
       "\n",
       "function LDAvis_load_lib(url, callback){\n",
       "  var s = document.createElement('script');\n",
       "  s.src = url;\n",
       "  s.async = true;\n",
       "  s.onreadystatechange = s.onload = callback;\n",
       "  s.onerror = function(){console.warn(\"failed to load library \" + url);};\n",
       "  document.getElementsByTagName(\"head\")[0].appendChild(s);\n",
       "}\n",
       "\n",
       "if(typeof(LDAvis) !== \"undefined\"){\n",
       "   // already loaded: just create the visualization\n",
       "   !function(LDAvis){\n",
       "       new LDAvis(\"#\" + \"ldavis_el762241123492489923663776845\", ldavis_el762241123492489923663776845_data);\n",
       "   }(LDAvis);\n",
       "}else if(typeof define === \"function\" && define.amd){\n",
       "   // require.js is available: use it to load d3/LDAvis\n",
       "   require.config({paths: {d3: \"https://cdnjs.cloudflare.com/ajax/libs/d3/3.5.5/d3.min\"}});\n",
       "   require([\"d3\"], function(d3){\n",
       "      window.d3 = d3;\n",
       "      LDAvis_load_lib(\"https://cdn.rawgit.com/bmabey/pyLDAvis/files/ldavis.v1.0.0.js\", function(){\n",
       "        new LDAvis(\"#\" + \"ldavis_el762241123492489923663776845\", ldavis_el762241123492489923663776845_data);\n",
       "      });\n",
       "    });\n",
       "}else{\n",
       "    // require.js not available: dynamically load d3 & LDAvis\n",
       "    LDAvis_load_lib(\"https://cdnjs.cloudflare.com/ajax/libs/d3/3.5.5/d3.min.js\", function(){\n",
       "         LDAvis_load_lib(\"https://cdn.rawgit.com/bmabey/pyLDAvis/files/ldavis.v1.0.0.js\", function(){\n",
       "                 new LDAvis(\"#\" + \"ldavis_el762241123492489923663776845\", ldavis_el762241123492489923663776845_data);\n",
       "            })\n",
       "         });\n",
       "}\n",
       "</script>"
      ],
      "text/plain": [
       "PreparedData(topic_coordinates=              x         y  topics  cluster       Freq\n",
       "topic                                                \n",
       "0      0.121350 -0.019236       1        1   0.143345\n",
       "1      0.122454 -0.019852       2        1   0.089954\n",
       "2     -0.116183  0.150468       3        1   1.858002\n",
       "3      0.067971  0.004937       4        1   0.296006\n",
       "4      0.118912 -0.018163       5        1   0.048346\n",
       "5      0.119987 -0.017960       6        1   0.153157\n",
       "6     -0.080479  0.144332       7        1   1.393138\n",
       "7      0.119857 -0.020820       8        1   0.092773\n",
       "8     -0.027388  0.073595       9        1   0.618574\n",
       "9      0.068320 -0.009203      10        1   0.483024\n",
       "10     0.110111 -0.019280      11        1   0.188899\n",
       "11     0.116698 -0.021704      12        1   0.159440\n",
       "12     0.104454 -0.019288      13        1   0.202812\n",
       "13     0.119071 -0.021486      14        1   0.117146\n",
       "14     0.121116 -0.017488      15        1   0.066898\n",
       "15    -0.310108 -0.198503      16        1  16.464315\n",
       "16    -0.336561 -0.168983      17        1   6.990373\n",
       "17    -0.091548  0.224766      18        1   1.942870\n",
       "18    -0.228569  0.164653      19        1  14.817274\n",
       "19    -0.354520 -0.093452      20        1   9.467410\n",
       "20     0.119693 -0.012989      21        1   0.025966\n",
       "21     0.044341 -0.054980      22        1   0.445503\n",
       "22     0.035382  0.022783      23        1   0.600676\n",
       "23     0.116179 -0.020230      24        1   0.134663\n",
       "24     0.098722 -0.018570      25        1   0.213475\n",
       "25     0.083879  0.000204      26        1   0.320488\n",
       "26     0.121397 -0.017886      27        1   0.132863\n",
       "27    -0.321099  0.018383      28        1  24.685406\n",
       "28     0.083743  0.005859      29        1   0.591393\n",
       "29     0.120469 -0.019937      30        1   0.128096\n",
       "30    -0.284676 -0.111478      31        1   4.718179\n",
       "31     0.122411 -0.019307      32        1   0.039066\n",
       "32     0.121193 -0.019452      33        1   0.026443\n",
       "33     0.098685 -0.020801      34        1   0.154816\n",
       "34    -0.240863  0.137082      35        1   4.422391\n",
       "35    -0.245459  0.062501      36        1   5.436084\n",
       "36    -0.034763 -0.076225      37        1   0.716319\n",
       "37     0.015870  0.067854      38        1   0.926648\n",
       "38     0.062933 -0.006392      39        1   0.685597\n",
       "39     0.117018 -0.013753      40        1   0.002175, topic_info=      Category         Freq            Term        Total  loglift  logprob\n",
       "term                                                                      \n",
       "180    Default  3478.000000             oil  3478.000000  30.0000  30.0000\n",
       "510    Default   797.000000              mr   797.000000  29.0000  29.0000\n",
       "6842   Default  1443.000000           testy  1443.000000  28.0000  28.0000\n",
       "399    Default  1819.000000        per_cent  1819.000000  27.0000  27.0000\n",
       "38     Default  3299.000000          canada  3299.000000  26.0000  26.0000\n",
       "7656   Default   794.000000       pertinent   794.000000  25.0000  25.0000\n",
       "389    Default  1503.000000             new  1503.000000  24.0000  24.0000\n",
       "208    Default   668.000000        province   668.000000  23.0000  23.0000\n",
       "341    Default  1436.000000          energy  1436.000000  22.0000  22.0000\n",
       "115    Default   867.000000             gas   867.000000  21.0000  21.0000\n",
       "36     Default   954.000000         calgary   954.000000  20.0000  20.0000\n",
       "15     Default  1146.000000         article  1146.000000  19.0000  19.0000\n",
       "8770   Default   690.000000       sensitive   690.000000  18.0000  18.0000\n",
       "51     Default   659.000000       companies   659.000000  17.0000  17.0000\n",
       "296    Default   635.000000           words   635.000000  16.0000  16.0000\n",
       "883    Default   554.000000          cities   554.000000  15.0000  15.0000\n",
       "3      Default  2035.000000         alberta  2035.000000  14.0000  14.0000\n",
       "1057   Default  1001.000000          safety  1001.000000  13.0000  13.0000\n",
       "181    Default  1339.000000             one  1339.000000  12.0000  12.0000\n",
       "6088   Default   515.000000     photographs   515.000000  11.0000  11.0000\n",
       "3830   Default  1194.000000         product  1194.000000  10.0000  10.0000\n",
       "1915   Default  1856.000000       community  1856.000000   9.0000   9.0000\n",
       "570    Default   880.000000           years   880.000000   8.0000   8.0000\n",
       "829    Default   521.000000   unfortunately   521.000000   7.0000   7.0000\n",
       "9666   Default   381.000000           waste   381.000000   6.0000   6.0000\n",
       "160    Default  1191.000000          market  1191.000000   5.0000   5.0000\n",
       "3900   Default   332.000000             que   332.000000   4.0000   4.0000\n",
       "32     Default  1125.000000        business  1125.000000   3.0000   3.0000\n",
       "1730   Default   303.000000          canelo   303.000000   2.0000   2.0000\n",
       "1101   Default  1002.000000            tore  1002.000000   1.0000   1.0000\n",
       "...        ...          ...             ...          ...      ...      ...\n",
       "10996  Topic40     0.000332          poorer     0.774767   2.9812 -10.3281\n",
       "5032   Topic40     0.000332           yulia     0.774767   2.9812 -10.3281\n",
       "10141  Topic40     0.000332    constituency     1.829774   2.1218 -10.3281\n",
       "10129  Topic40     0.000332        bothered     1.012341   2.7137 -10.3281\n",
       "10130  Topic40     0.000332     brainstorms     6.188545   0.9033 -10.3281\n",
       "10131  Topic40     0.000332       breakdown     3.206923   1.5607 -10.3281\n",
       "10132  Topic40     0.000332         bulwark     1.268047   2.4885 -10.3281\n",
       "10133  Topic40     0.000332        bungling    51.487122  -1.2153 -10.3281\n",
       "10134  Topic40     0.000332         capture     1.710430   2.1893 -10.3281\n",
       "10135  Topic40     0.000332          carole     3.552518   1.4583 -10.3281\n",
       "10136  Topic40     0.000332      coalitions     2.109632   1.9795 -10.3281\n",
       "10137  Topic40     0.000332        cocktail     1.203117   2.5411 -10.3281\n",
       "10138  Topic40     0.000332    compensatory     6.493183   0.8553 -10.3281\n",
       "10139  Topic40     0.000332   consolidating     1.203117   2.5411 -10.3281\n",
       "10140  Topic40     0.000332  constituencies     2.919141   1.6547 -10.3281\n",
       "10142  Topic40     0.000332       consuming     0.843237   2.8965 -10.3281\n",
       "10127  Topic40     0.000332         belongs     5.554144   1.0115 -10.3281\n",
       "10143  Topic40     0.000332    consummately     1.023177   2.7031 -10.3281\n",
       "10144  Topic40     0.000332      convoluted     1.012341   2.7137 -10.3281\n",
       "10145  Topic40     0.000332           danes     0.843237   2.8965 -10.3281\n",
       "10146  Topic40     0.000332          danish     3.370495   1.5109 -10.3281\n",
       "10147  Topic40     0.000332         decides     1.012341   2.7137 -10.3281\n",
       "10148  Topic40     0.000332           decry     1.012341   2.7137 -10.3281\n",
       "10149  Topic40     0.000332            defy     3.555968   1.4574 -10.3281\n",
       "10150  Topic40     0.000332       desirable     8.194854   0.6225 -10.3281\n",
       "10151  Topic40     0.000332        devotion     5.395893   1.0404 -10.3281\n",
       "10152  Topic40     0.000332      distracted     3.206923   1.5607 -10.3281\n",
       "10153  Topic40     0.000332         eagerly     9.220532   0.5046 -10.3281\n",
       "10128  Topic40     0.000332      beneficial     3.092372   1.5971 -10.3281\n",
       "10126  Topic40     0.000332           basic     3.552518   1.4583 -10.3281\n",
       "\n",
       "[1999 rows x 6 columns], token_table=       Topic      Freq                   Term\n",
       "term                                         \n",
       "10709     10  0.877486                     aa\n",
       "1231      28  0.992617                     ab\n",
       "11115     22  0.981246             abandoning\n",
       "11017      7  0.924003             aboriginal\n",
       "306       26  0.948627               abortion\n",
       "18626      7  0.952946               absentee\n",
       "29350     13  0.825584            acceptances\n",
       "14095      6  0.967938      access_sufficient\n",
       "16081     16  0.996463  accounting_principles\n",
       "28609     12  0.896847       accounts_payable\n",
       "29351     13  0.928990    accounts_receivable\n",
       "14096      6  0.834225                accrued\n",
       "9042      17  0.972362               accuracy\n",
       "1256      19  0.465848            accusations\n",
       "1256      28  0.031057            accusations\n",
       "1256      36  0.503116            accusations\n",
       "21412     39  0.977928                  acmpr\n",
       "7193      16  0.992195            acquisition\n",
       "655       16  0.933283             activities\n",
       "655       35  0.046374             activities\n",
       "655       37  0.023187             activities\n",
       "5055      36  0.979631               activity\n",
       "10711     10  0.876380                     ad\n",
       "6624       6  0.114255                   adam\n",
       "6624      36  0.881394                   adam\n",
       "13822      6  0.832514               adoption\n",
       "8180       9  0.423686                advance\n",
       "8180      19  0.084737                advance\n",
       "8180      20  0.480178                advance\n",
       "12804     27  0.823787            advancement\n",
       "...      ...       ...                    ...\n",
       "570        7  0.005676                  years\n",
       "570        9  0.036329                  years\n",
       "570       16  0.009082                  years\n",
       "570       17  0.003406                  years\n",
       "570       19  0.160076                  years\n",
       "570       20  0.063576                  years\n",
       "570       28  0.466604                  years\n",
       "570       31  0.054494                  years\n",
       "570       35  0.044276                  years\n",
       "570       36  0.063576                  years\n",
       "570       37  0.009082                  years\n",
       "570       38  0.084011                  years\n",
       "26715     30  0.665962                    yee\n",
       "11869     31  0.993386               yielding\n",
       "5027       3  0.020903                  yosif\n",
       "5027       7  0.111481                  yosif\n",
       "5027      19  0.787337                  yosif\n",
       "5027      28  0.006968                  yosif\n",
       "5027      31  0.069676                  yosif\n",
       "5028      19  0.990102                  young\n",
       "30056      2  0.597565                     ys\n",
       "841       16  0.889784                   zero\n",
       "841       17  0.003955                   zero\n",
       "841       20  0.027682                   zero\n",
       "841       28  0.079092                   zero\n",
       "28472     33  0.568081              zharkamys\n",
       "26539      9  0.924671                  ziggy\n",
       "28895     14  0.950052                     zj\n",
       "13496     14  0.801772                    zoe\n",
       "29747     24  0.767347                 zurich\n",
       "\n",
       "[3373 rows x 3 columns], R=30, lambda_step=0.01, plot_opts={'xlab': 'PC1', 'ylab': 'PC2'}, topic_order=[1, 2, 3, 4, 5, 6, 7, 8, 9, 10, 11, 12, 13, 14, 15, 16, 17, 18, 19, 20, 21, 22, 23, 24, 25, 26, 27, 28, 29, 30, 31, 32, 33, 34, 35, 36, 37, 38, 39, 40])"
      ]
     },
     "execution_count": 167,
     "metadata": {},
     "output_type": "execute_result"
    }
   ],
   "source": [
    "# Visualize the topics\n",
    "pyLDAvis.enable_notebook()\n",
    "vis = pyLDAvis.gensim.prepare(lda_model_optimal, corpus_bag_of_words, id2word, sort_topics=False)\n",
    "vis"
   ]
  },
  {
   "cell_type": "code",
   "execution_count": null,
   "metadata": {},
   "outputs": [],
   "source": [
    "# from this, you can see that topic 23 is about production cuts in Alberta and OPEC, topic 7 is about increasing production, topic 10 is about pipelines"
   ]
  },
  {
   "cell_type": "markdown",
   "metadata": {},
   "source": [
    "#### Looking at output from the LDA model"
   ]
  },
  {
   "cell_type": "code",
   "execution_count": 51,
   "metadata": {},
   "outputs": [],
   "source": [
    "# Reference: https://github.com/RaRe-Technologies/gensim/blob/develop/docs/notebooks/topic_methods.ipynb"
   ]
  },
  {
   "cell_type": "code",
   "execution_count": 170,
   "metadata": {},
   "outputs": [
    {
     "data": {
      "text/plain": [
       "629"
      ]
     },
     "execution_count": 170,
     "metadata": {},
     "output_type": "execute_result"
    }
   ],
   "source": [
    "len(corpus_bag_of_words)"
   ]
  },
  {
   "cell_type": "code",
   "execution_count": 171,
   "metadata": {},
   "outputs": [
    {
     "data": {
      "text/plain": [
       "629"
      ]
     },
     "execution_count": 171,
     "metadata": {},
     "output_type": "execute_result"
    }
   ],
   "source": [
    "len(lda_model_optimal[corpus_bag_of_words])"
   ]
  },
  {
   "cell_type": "markdown",
   "metadata": {},
   "source": [
    "#### Topic distribution across documents"
   ]
  },
  {
   "cell_type": "code",
   "execution_count": 172,
   "metadata": {},
   "outputs": [],
   "source": [
    "topics_in_each_document = lda_model_optimal.get_document_topics(corpus_bag_of_words, per_word_topics=False, minimum_probability=0.0)\n",
    "# this will output the relevant topics per document"
   ]
  },
  {
   "cell_type": "code",
   "execution_count": 173,
   "metadata": {},
   "outputs": [
    {
     "data": {
      "text/plain": [
       "[(0, 6.507472e-05),\n",
       " (1, 6.818255e-05),\n",
       " (2, 0.07048253),\n",
       " (3, 0.00015465697),\n",
       " (4, 4.734948e-05),\n",
       " (5, 0.20177276),\n",
       " (6, 0.00036079553),\n",
       " (7, 6.908857e-05),\n",
       " (8, 0.012016157),\n",
       " (9, 0.0032227254),\n",
       " (10, 0.03709918),\n",
       " (11, 6.8722504e-05),\n",
       " (12, 3.9393486e-05),\n",
       " (13, 5.7815854e-05),\n",
       " (14, 5.1720377e-05),\n",
       " (15, 0.09490907),\n",
       " (16, 0.024237012),\n",
       " (17, 0.00016383888),\n",
       " (18, 0.06510961),\n",
       " (19, 0.08303601),\n",
       " (20, 3.381427e-05),\n",
       " (21, 0.00013131257),\n",
       " (22, 0.00029231756),\n",
       " (23, 8.076925e-05),\n",
       " (24, 3.910511e-05),\n",
       " (25, 9.4250885e-05),\n",
       " (26, 0.00012346753),\n",
       " (27, 0.31681228),\n",
       " (28, 6.507199e-05),\n",
       " (29, 8.321873e-05),\n",
       " (30, 0.0058902483),\n",
       " (31, 3.8716127e-05),\n",
       " (32, 2.817325e-05),\n",
       " (33, 0.00017213814),\n",
       " (34, 0.08178082),\n",
       " (35, 0.0008810606),\n",
       " (36, 0.00023762062),\n",
       " (37, 7.72496e-05),\n",
       " (38, 8.319079e-05),\n",
       " (39, 2.3485567e-05)]"
      ]
     },
     "execution_count": 173,
     "metadata": {},
     "output_type": "execute_result"
    }
   ],
   "source": [
    "# one probability weight for each topic in this document\n",
    "topics_in_each_document[4]"
   ]
  },
  {
   "cell_type": "code",
   "execution_count": 174,
   "metadata": {},
   "outputs": [],
   "source": [
    "# creating a document_topic_matrix for all topics, all documents"
   ]
  },
  {
   "cell_type": "code",
   "execution_count": 175,
   "metadata": {},
   "outputs": [],
   "source": [
    "topic_document_matrix = []\n",
    "for document_topics in topics_in_each_document:\n",
    "    tdm = {}\n",
    "    for topicFound in document_topics:\n",
    "        topicID = topicFound[0]\n",
    "        topicValue = topicFound[1]\n",
    "        tdm[topicID] = topicValue # set value\n",
    "    topic_document_matrix.append(tdm)\n",
    "tdm_df = pd.DataFrame(topic_document_matrix)        "
   ]
  },
  {
   "cell_type": "code",
   "execution_count": 176,
   "metadata": {},
   "outputs": [],
   "source": [
    "# change order of columns\n",
    "columns = [\"topic_\"+str(i) for i in range(1,idealNumberOfTopics+1)]"
   ]
  },
  {
   "cell_type": "code",
   "execution_count": 177,
   "metadata": {},
   "outputs": [],
   "source": [
    "tdm_df.columns = columns"
   ]
  },
  {
   "cell_type": "code",
   "execution_count": 178,
   "metadata": {},
   "outputs": [
    {
     "data": {
      "text/html": [
       "<div>\n",
       "<style scoped>\n",
       "    .dataframe tbody tr th:only-of-type {\n",
       "        vertical-align: middle;\n",
       "    }\n",
       "\n",
       "    .dataframe tbody tr th {\n",
       "        vertical-align: top;\n",
       "    }\n",
       "\n",
       "    .dataframe thead th {\n",
       "        text-align: right;\n",
       "    }\n",
       "</style>\n",
       "<table border=\"1\" class=\"dataframe\">\n",
       "  <thead>\n",
       "    <tr style=\"text-align: right;\">\n",
       "      <th></th>\n",
       "      <th>topic_1</th>\n",
       "      <th>topic_2</th>\n",
       "      <th>topic_3</th>\n",
       "      <th>topic_4</th>\n",
       "      <th>topic_5</th>\n",
       "      <th>topic_6</th>\n",
       "      <th>topic_7</th>\n",
       "      <th>topic_8</th>\n",
       "      <th>topic_9</th>\n",
       "      <th>topic_10</th>\n",
       "      <th>...</th>\n",
       "      <th>topic_31</th>\n",
       "      <th>topic_32</th>\n",
       "      <th>topic_33</th>\n",
       "      <th>topic_34</th>\n",
       "      <th>topic_35</th>\n",
       "      <th>topic_36</th>\n",
       "      <th>topic_37</th>\n",
       "      <th>topic_38</th>\n",
       "      <th>topic_39</th>\n",
       "      <th>topic_40</th>\n",
       "    </tr>\n",
       "  </thead>\n",
       "  <tbody>\n",
       "    <tr>\n",
       "      <th>0</th>\n",
       "      <td>0.000055</td>\n",
       "      <td>0.000057</td>\n",
       "      <td>0.013919</td>\n",
       "      <td>0.000130</td>\n",
       "      <td>0.000040</td>\n",
       "      <td>0.000085</td>\n",
       "      <td>0.000303</td>\n",
       "      <td>0.000058</td>\n",
       "      <td>0.000210</td>\n",
       "      <td>0.000171</td>\n",
       "      <td>...</td>\n",
       "      <td>0.000480</td>\n",
       "      <td>0.000033</td>\n",
       "      <td>0.000024</td>\n",
       "      <td>0.000145</td>\n",
       "      <td>0.013106</td>\n",
       "      <td>0.000736</td>\n",
       "      <td>0.000200</td>\n",
       "      <td>0.000065</td>\n",
       "      <td>0.000070</td>\n",
       "      <td>0.000020</td>\n",
       "    </tr>\n",
       "    <tr>\n",
       "      <th>1</th>\n",
       "      <td>0.000083</td>\n",
       "      <td>0.000087</td>\n",
       "      <td>0.035078</td>\n",
       "      <td>0.000197</td>\n",
       "      <td>0.000060</td>\n",
       "      <td>0.000129</td>\n",
       "      <td>0.000459</td>\n",
       "      <td>0.000088</td>\n",
       "      <td>0.000318</td>\n",
       "      <td>0.000260</td>\n",
       "      <td>...</td>\n",
       "      <td>0.000708</td>\n",
       "      <td>0.000049</td>\n",
       "      <td>0.000036</td>\n",
       "      <td>0.000219</td>\n",
       "      <td>0.000604</td>\n",
       "      <td>0.006465</td>\n",
       "      <td>0.000302</td>\n",
       "      <td>0.000098</td>\n",
       "      <td>0.000106</td>\n",
       "      <td>0.000030</td>\n",
       "    </tr>\n",
       "    <tr>\n",
       "      <th>2</th>\n",
       "      <td>0.000074</td>\n",
       "      <td>0.000078</td>\n",
       "      <td>0.000549</td>\n",
       "      <td>0.000176</td>\n",
       "      <td>0.025697</td>\n",
       "      <td>0.000116</td>\n",
       "      <td>0.000412</td>\n",
       "      <td>0.000079</td>\n",
       "      <td>0.000285</td>\n",
       "      <td>0.000233</td>\n",
       "      <td>...</td>\n",
       "      <td>0.000636</td>\n",
       "      <td>0.000044</td>\n",
       "      <td>0.000032</td>\n",
       "      <td>0.000196</td>\n",
       "      <td>0.071155</td>\n",
       "      <td>0.028440</td>\n",
       "      <td>0.000271</td>\n",
       "      <td>0.079419</td>\n",
       "      <td>0.003331</td>\n",
       "      <td>0.000027</td>\n",
       "    </tr>\n",
       "    <tr>\n",
       "      <th>3</th>\n",
       "      <td>0.000167</td>\n",
       "      <td>0.000175</td>\n",
       "      <td>0.001239</td>\n",
       "      <td>0.000396</td>\n",
       "      <td>0.000121</td>\n",
       "      <td>0.000260</td>\n",
       "      <td>0.000925</td>\n",
       "      <td>0.000177</td>\n",
       "      <td>0.000640</td>\n",
       "      <td>0.034790</td>\n",
       "      <td>...</td>\n",
       "      <td>0.001433</td>\n",
       "      <td>0.000099</td>\n",
       "      <td>0.000072</td>\n",
       "      <td>0.000441</td>\n",
       "      <td>0.001227</td>\n",
       "      <td>0.002402</td>\n",
       "      <td>0.000609</td>\n",
       "      <td>0.000198</td>\n",
       "      <td>0.000213</td>\n",
       "      <td>0.000060</td>\n",
       "    </tr>\n",
       "    <tr>\n",
       "      <th>4</th>\n",
       "      <td>0.000065</td>\n",
       "      <td>0.000068</td>\n",
       "      <td>0.070484</td>\n",
       "      <td>0.000155</td>\n",
       "      <td>0.000047</td>\n",
       "      <td>0.201771</td>\n",
       "      <td>0.000361</td>\n",
       "      <td>0.000069</td>\n",
       "      <td>0.012005</td>\n",
       "      <td>0.003223</td>\n",
       "      <td>...</td>\n",
       "      <td>0.005889</td>\n",
       "      <td>0.000039</td>\n",
       "      <td>0.000028</td>\n",
       "      <td>0.000172</td>\n",
       "      <td>0.081775</td>\n",
       "      <td>0.000881</td>\n",
       "      <td>0.000238</td>\n",
       "      <td>0.000077</td>\n",
       "      <td>0.000083</td>\n",
       "      <td>0.000023</td>\n",
       "    </tr>\n",
       "  </tbody>\n",
       "</table>\n",
       "<p>5 rows × 40 columns</p>\n",
       "</div>"
      ],
      "text/plain": [
       "    topic_1   topic_2   topic_3   topic_4   topic_5   topic_6   topic_7  \\\n",
       "0  0.000055  0.000057  0.013919  0.000130  0.000040  0.000085  0.000303   \n",
       "1  0.000083  0.000087  0.035078  0.000197  0.000060  0.000129  0.000459   \n",
       "2  0.000074  0.000078  0.000549  0.000176  0.025697  0.000116  0.000412   \n",
       "3  0.000167  0.000175  0.001239  0.000396  0.000121  0.000260  0.000925   \n",
       "4  0.000065  0.000068  0.070484  0.000155  0.000047  0.201771  0.000361   \n",
       "\n",
       "    topic_8   topic_9  topic_10    ...     topic_31  topic_32  topic_33  \\\n",
       "0  0.000058  0.000210  0.000171    ...     0.000480  0.000033  0.000024   \n",
       "1  0.000088  0.000318  0.000260    ...     0.000708  0.000049  0.000036   \n",
       "2  0.000079  0.000285  0.000233    ...     0.000636  0.000044  0.000032   \n",
       "3  0.000177  0.000640  0.034790    ...     0.001433  0.000099  0.000072   \n",
       "4  0.000069  0.012005  0.003223    ...     0.005889  0.000039  0.000028   \n",
       "\n",
       "   topic_34  topic_35  topic_36  topic_37  topic_38  topic_39  topic_40  \n",
       "0  0.000145  0.013106  0.000736  0.000200  0.000065  0.000070  0.000020  \n",
       "1  0.000219  0.000604  0.006465  0.000302  0.000098  0.000106  0.000030  \n",
       "2  0.000196  0.071155  0.028440  0.000271  0.079419  0.003331  0.000027  \n",
       "3  0.000441  0.001227  0.002402  0.000609  0.000198  0.000213  0.000060  \n",
       "4  0.000172  0.081775  0.000881  0.000238  0.000077  0.000083  0.000023  \n",
       "\n",
       "[5 rows x 40 columns]"
      ]
     },
     "execution_count": 178,
     "metadata": {},
     "output_type": "execute_result"
    }
   ],
   "source": [
    "tdm_df.head()"
   ]
  },
  {
   "cell_type": "code",
   "execution_count": 179,
   "metadata": {},
   "outputs": [],
   "source": [
    "# this will calculate the dominant topic per document, recall this starts from 0\n",
    "dominant_topic = np.argmax(tdm_df.values, axis=1)"
   ]
  },
  {
   "cell_type": "code",
   "execution_count": 180,
   "metadata": {},
   "outputs": [],
   "source": [
    "tdm_df['dominant_topic'] = dominant_topic+1 # using index starting from 1"
   ]
  },
  {
   "cell_type": "code",
   "execution_count": 181,
   "metadata": {},
   "outputs": [],
   "source": [
    "combined_tdm = pd.concat([df_articles, tdm_df], axis=1) "
   ]
  },
  {
   "cell_type": "code",
   "execution_count": 182,
   "metadata": {},
   "outputs": [],
   "source": [
    "#combined_tdm.loc[4].text"
   ]
  },
  {
   "cell_type": "code",
   "execution_count": 183,
   "metadata": {},
   "outputs": [
    {
     "data": {
      "text/html": [
       "<div>\n",
       "<style scoped>\n",
       "    .dataframe tbody tr th:only-of-type {\n",
       "        vertical-align: middle;\n",
       "    }\n",
       "\n",
       "    .dataframe tbody tr th {\n",
       "        vertical-align: top;\n",
       "    }\n",
       "\n",
       "    .dataframe thead th {\n",
       "        text-align: right;\n",
       "    }\n",
       "</style>\n",
       "<table border=\"1\" class=\"dataframe\">\n",
       "  <thead>\n",
       "    <tr style=\"text-align: right;\">\n",
       "      <th></th>\n",
       "      <th>author</th>\n",
       "      <th>date</th>\n",
       "      <th>headline</th>\n",
       "      <th>text</th>\n",
       "      <th>topic_1</th>\n",
       "      <th>topic_2</th>\n",
       "      <th>topic_3</th>\n",
       "      <th>topic_4</th>\n",
       "      <th>topic_5</th>\n",
       "      <th>topic_6</th>\n",
       "      <th>...</th>\n",
       "      <th>topic_32</th>\n",
       "      <th>topic_33</th>\n",
       "      <th>topic_34</th>\n",
       "      <th>topic_35</th>\n",
       "      <th>topic_36</th>\n",
       "      <th>topic_37</th>\n",
       "      <th>topic_38</th>\n",
       "      <th>topic_39</th>\n",
       "      <th>topic_40</th>\n",
       "      <th>dominant_topic</th>\n",
       "    </tr>\n",
       "  </thead>\n",
       "  <tbody>\n",
       "    <tr>\n",
       "      <th>0</th>\n",
       "      <td>Gillian Steward</td>\n",
       "      <td>2019-01-01</td>\n",
       "      <td>Threats of Alberta separation are mostly an el...</td>\n",
       "      <td>The angry Albertan has struck again.\\nAnd he ...</td>\n",
       "      <td>0.000055</td>\n",
       "      <td>0.000057</td>\n",
       "      <td>0.013919</td>\n",
       "      <td>0.000130</td>\n",
       "      <td>0.000040</td>\n",
       "      <td>0.000085</td>\n",
       "      <td>...</td>\n",
       "      <td>0.000033</td>\n",
       "      <td>0.000024</td>\n",
       "      <td>0.000145</td>\n",
       "      <td>0.013106</td>\n",
       "      <td>0.000736</td>\n",
       "      <td>0.000200</td>\n",
       "      <td>0.000065</td>\n",
       "      <td>0.000070</td>\n",
       "      <td>0.000020</td>\n",
       "      <td>28</td>\n",
       "    </tr>\n",
       "    <tr>\n",
       "      <th>1</th>\n",
       "      <td>Kevin Maimann  StarMetro Edmonton</td>\n",
       "      <td>2019-01-01</td>\n",
       "      <td>Albertans dislike PM the most, poll finds; Gov...</td>\n",
       "      <td>EDMONTON -- Albertans are most likely among C...</td>\n",
       "      <td>0.000083</td>\n",
       "      <td>0.000087</td>\n",
       "      <td>0.035078</td>\n",
       "      <td>0.000197</td>\n",
       "      <td>0.000060</td>\n",
       "      <td>0.000129</td>\n",
       "      <td>...</td>\n",
       "      <td>0.000049</td>\n",
       "      <td>0.000036</td>\n",
       "      <td>0.000219</td>\n",
       "      <td>0.000604</td>\n",
       "      <td>0.006465</td>\n",
       "      <td>0.000302</td>\n",
       "      <td>0.000098</td>\n",
       "      <td>0.000106</td>\n",
       "      <td>0.000030</td>\n",
       "      <td>28</td>\n",
       "    </tr>\n",
       "    <tr>\n",
       "      <th>2</th>\n",
       "      <td>Kevin Maimann  StarMetro Edmonton</td>\n",
       "      <td>2019-01-01</td>\n",
       "      <td>Our annual predictions for the year ahead</td>\n",
       "      <td>S o long, 2018. The year started with Virtue ...</td>\n",
       "      <td>0.000074</td>\n",
       "      <td>0.000078</td>\n",
       "      <td>0.000549</td>\n",
       "      <td>0.000176</td>\n",
       "      <td>0.025697</td>\n",
       "      <td>0.000116</td>\n",
       "      <td>...</td>\n",
       "      <td>0.000044</td>\n",
       "      <td>0.000032</td>\n",
       "      <td>0.000196</td>\n",
       "      <td>0.071155</td>\n",
       "      <td>0.028440</td>\n",
       "      <td>0.000271</td>\n",
       "      <td>0.079419</td>\n",
       "      <td>0.003331</td>\n",
       "      <td>0.000027</td>\n",
       "      <td>20</td>\n",
       "    </tr>\n",
       "  </tbody>\n",
       "</table>\n",
       "<p>3 rows × 45 columns</p>\n",
       "</div>"
      ],
      "text/plain": [
       "                               author       date  \\\n",
       "0                    Gillian Steward  2019-01-01   \n",
       "1  Kevin Maimann  StarMetro Edmonton  2019-01-01   \n",
       "2  Kevin Maimann  StarMetro Edmonton  2019-01-01   \n",
       "\n",
       "                                            headline  \\\n",
       "0  Threats of Alberta separation are mostly an el...   \n",
       "1  Albertans dislike PM the most, poll finds; Gov...   \n",
       "2          Our annual predictions for the year ahead   \n",
       "\n",
       "                                                text   topic_1   topic_2  \\\n",
       "0   The angry Albertan has struck again.\\nAnd he ...  0.000055  0.000057   \n",
       "1   EDMONTON -- Albertans are most likely among C...  0.000083  0.000087   \n",
       "2   S o long, 2018. The year started with Virtue ...  0.000074  0.000078   \n",
       "\n",
       "    topic_3   topic_4   topic_5   topic_6       ...        topic_32  topic_33  \\\n",
       "0  0.013919  0.000130  0.000040  0.000085       ...        0.000033  0.000024   \n",
       "1  0.035078  0.000197  0.000060  0.000129       ...        0.000049  0.000036   \n",
       "2  0.000549  0.000176  0.025697  0.000116       ...        0.000044  0.000032   \n",
       "\n",
       "   topic_34  topic_35  topic_36  topic_37  topic_38  topic_39  topic_40  \\\n",
       "0  0.000145  0.013106  0.000736  0.000200  0.000065  0.000070  0.000020   \n",
       "1  0.000219  0.000604  0.006465  0.000302  0.000098  0.000106  0.000030   \n",
       "2  0.000196  0.071155  0.028440  0.000271  0.079419  0.003331  0.000027   \n",
       "\n",
       "   dominant_topic  \n",
       "0              28  \n",
       "1              28  \n",
       "2              20  \n",
       "\n",
       "[3 rows x 45 columns]"
      ]
     },
     "execution_count": 183,
     "metadata": {},
     "output_type": "execute_result"
    }
   ],
   "source": [
    "combined_tdm.head(3)"
   ]
  },
  {
   "cell_type": "code",
   "execution_count": 184,
   "metadata": {},
   "outputs": [],
   "source": [
    "combined_tdm.to_csv(\"combined_tdm.csv\")"
   ]
  },
  {
   "cell_type": "markdown",
   "metadata": {},
   "source": [
    "### Now, set up regression"
   ]
  },
  {
   "cell_type": "markdown",
   "metadata": {},
   "source": [
    "Note: this is not the best setup for an OLS regression. You might want to explore GLM models as this currently resembles panel data."
   ]
  },
  {
   "cell_type": "code",
   "execution_count": 185,
   "metadata": {},
   "outputs": [],
   "source": [
    "combined_tdm['date'] = pd.to_datetime(combined_tdm['date']) # convert to a date object\n",
    "# sort by date, then can create a lag using shift(x).rolling()\n",
    "combined_tdm.sort_values(by='date', ascending=True, inplace=True)"
   ]
  },
  {
   "cell_type": "code",
   "execution_count": 186,
   "metadata": {},
   "outputs": [
    {
     "data": {
      "text/html": [
       "<div>\n",
       "<style scoped>\n",
       "    .dataframe tbody tr th:only-of-type {\n",
       "        vertical-align: middle;\n",
       "    }\n",
       "\n",
       "    .dataframe tbody tr th {\n",
       "        vertical-align: top;\n",
       "    }\n",
       "\n",
       "    .dataframe thead th {\n",
       "        text-align: right;\n",
       "    }\n",
       "</style>\n",
       "<table border=\"1\" class=\"dataframe\">\n",
       "  <thead>\n",
       "    <tr style=\"text-align: right;\">\n",
       "      <th></th>\n",
       "      <th>author</th>\n",
       "      <th>date</th>\n",
       "      <th>headline</th>\n",
       "      <th>text</th>\n",
       "      <th>topic_1</th>\n",
       "      <th>topic_2</th>\n",
       "      <th>topic_3</th>\n",
       "      <th>topic_4</th>\n",
       "      <th>topic_5</th>\n",
       "      <th>topic_6</th>\n",
       "      <th>...</th>\n",
       "      <th>topic_32</th>\n",
       "      <th>topic_33</th>\n",
       "      <th>topic_34</th>\n",
       "      <th>topic_35</th>\n",
       "      <th>topic_36</th>\n",
       "      <th>topic_37</th>\n",
       "      <th>topic_38</th>\n",
       "      <th>topic_39</th>\n",
       "      <th>topic_40</th>\n",
       "      <th>dominant_topic</th>\n",
       "    </tr>\n",
       "  </thead>\n",
       "  <tbody>\n",
       "    <tr>\n",
       "      <th>1</th>\n",
       "      <td>Kevin Maimann  StarMetro Edmonton</td>\n",
       "      <td>2019-01-01</td>\n",
       "      <td>Albertans dislike PM the most, poll finds; Gov...</td>\n",
       "      <td>EDMONTON -- Albertans are most likely among C...</td>\n",
       "      <td>0.000083</td>\n",
       "      <td>0.000087</td>\n",
       "      <td>0.035078</td>\n",
       "      <td>0.000197</td>\n",
       "      <td>0.00006</td>\n",
       "      <td>0.000129</td>\n",
       "      <td>...</td>\n",
       "      <td>0.000049</td>\n",
       "      <td>0.000036</td>\n",
       "      <td>0.000219</td>\n",
       "      <td>0.000604</td>\n",
       "      <td>0.006465</td>\n",
       "      <td>0.000302</td>\n",
       "      <td>0.000098</td>\n",
       "      <td>0.000106</td>\n",
       "      <td>0.00003</td>\n",
       "      <td>28</td>\n",
       "    </tr>\n",
       "    <tr>\n",
       "      <th>0</th>\n",
       "      <td>Gillian Steward</td>\n",
       "      <td>2019-01-01</td>\n",
       "      <td>Threats of Alberta separation are mostly an el...</td>\n",
       "      <td>The angry Albertan has struck again.\\nAnd he ...</td>\n",
       "      <td>0.000055</td>\n",
       "      <td>0.000057</td>\n",
       "      <td>0.013919</td>\n",
       "      <td>0.000130</td>\n",
       "      <td>0.00004</td>\n",
       "      <td>0.000085</td>\n",
       "      <td>...</td>\n",
       "      <td>0.000033</td>\n",
       "      <td>0.000024</td>\n",
       "      <td>0.000145</td>\n",
       "      <td>0.013106</td>\n",
       "      <td>0.000736</td>\n",
       "      <td>0.000200</td>\n",
       "      <td>0.000065</td>\n",
       "      <td>0.000070</td>\n",
       "      <td>0.00002</td>\n",
       "      <td>28</td>\n",
       "    </tr>\n",
       "  </tbody>\n",
       "</table>\n",
       "<p>2 rows × 45 columns</p>\n",
       "</div>"
      ],
      "text/plain": [
       "                               author       date  \\\n",
       "1  Kevin Maimann  StarMetro Edmonton  2019-01-01   \n",
       "0                    Gillian Steward  2019-01-01   \n",
       "\n",
       "                                            headline  \\\n",
       "1  Albertans dislike PM the most, poll finds; Gov...   \n",
       "0  Threats of Alberta separation are mostly an el...   \n",
       "\n",
       "                                                text   topic_1   topic_2  \\\n",
       "1   EDMONTON -- Albertans are most likely among C...  0.000083  0.000087   \n",
       "0   The angry Albertan has struck again.\\nAnd he ...  0.000055  0.000057   \n",
       "\n",
       "    topic_3   topic_4  topic_5   topic_6       ...        topic_32  topic_33  \\\n",
       "1  0.035078  0.000197  0.00006  0.000129       ...        0.000049  0.000036   \n",
       "0  0.013919  0.000130  0.00004  0.000085       ...        0.000033  0.000024   \n",
       "\n",
       "   topic_34  topic_35  topic_36  topic_37  topic_38  topic_39  topic_40  \\\n",
       "1  0.000219  0.000604  0.006465  0.000302  0.000098  0.000106   0.00003   \n",
       "0  0.000145  0.013106  0.000736  0.000200  0.000065  0.000070   0.00002   \n",
       "\n",
       "   dominant_topic  \n",
       "1              28  \n",
       "0              28  \n",
       "\n",
       "[2 rows x 45 columns]"
      ]
     },
     "execution_count": 186,
     "metadata": {},
     "output_type": "execute_result"
    }
   ],
   "source": [
    "combined_tdm.tail(2)"
   ]
  },
  {
   "cell_type": "code",
   "execution_count": 187,
   "metadata": {},
   "outputs": [],
   "source": [
    "# for this, we need one row for each day, aggregating articles and oil price on that day - recall I need to lag this after\n",
    "# range will be Nov 1 2018 - Jan 1 2019\n",
    "days_to_analyze = []\n",
    "start = dt.datetime(2018,11,1)\n",
    "std_date_format = '%Y-%m-%d'    \n",
    "for i in range(0,60):\n",
    "    day = {}\n",
    "    dateToProcess = start+ dt.timedelta(days=i)\n",
    "    day['date']= dateToProcess\n",
    "    #print (dateToProcess.strftime(std_date_format)) \n",
    "    # bring in WCS price for that day, ignore weekends\n",
    "    if dateToProcess in df_wcs.index:\n",
    "        day['wcs'] = df_wcs.loc[dateToProcess]['wcs']        \n",
    "        # aggregate all articles for that day\n",
    "        articlesInDay = combined_tdm[combined_tdm['date']==dateToProcess]\n",
    "        if len(articlesInDay)>0:\n",
    "            day['articlesInDay']= len(articlesInDay)\n",
    "            for i in range(1,idealNumberOfTopics+1):\n",
    "                # form aggregate topic weights in day\n",
    "                day[\"topic_\"+str(i)] = articlesInDay[\"topic_\"+str(i)].sum()\n",
    "            days_to_analyze.append(day) # only focus on days with coverage to simplify things   "
   ]
  },
  {
   "cell_type": "code",
   "execution_count": 188,
   "metadata": {},
   "outputs": [],
   "source": [
    "df_daily = pd.DataFrame(days_to_analyze)"
   ]
  },
  {
   "cell_type": "code",
   "execution_count": 189,
   "metadata": {},
   "outputs": [],
   "source": [
    "# setup 5 day lag\n",
    "for i in range(1,idealNumberOfTopics+1):\n",
    "    df_daily[\"topic_\"+str(i)+\"_5_dayLag\"] = df_daily[\"topic_\"+str(i)].shift(1).rolling(5).mean()\n",
    "    df_daily[\"articles_5_dayLag\"] = df_daily[\"articlesInDay\"].shift(1).rolling(5).sum()"
   ]
  },
  {
   "cell_type": "code",
   "execution_count": 190,
   "metadata": {},
   "outputs": [
    {
     "data": {
      "text/html": [
       "<div>\n",
       "<style scoped>\n",
       "    .dataframe tbody tr th:only-of-type {\n",
       "        vertical-align: middle;\n",
       "    }\n",
       "\n",
       "    .dataframe tbody tr th {\n",
       "        vertical-align: top;\n",
       "    }\n",
       "\n",
       "    .dataframe thead th {\n",
       "        text-align: right;\n",
       "    }\n",
       "</style>\n",
       "<table border=\"1\" class=\"dataframe\">\n",
       "  <thead>\n",
       "    <tr style=\"text-align: right;\">\n",
       "      <th></th>\n",
       "      <th>articlesInDay</th>\n",
       "      <th>date</th>\n",
       "      <th>topic_1</th>\n",
       "      <th>topic_10</th>\n",
       "      <th>topic_11</th>\n",
       "      <th>topic_12</th>\n",
       "      <th>topic_13</th>\n",
       "      <th>topic_14</th>\n",
       "      <th>topic_15</th>\n",
       "      <th>topic_16</th>\n",
       "      <th>...</th>\n",
       "      <th>topic_31_5_dayLag</th>\n",
       "      <th>topic_32_5_dayLag</th>\n",
       "      <th>topic_33_5_dayLag</th>\n",
       "      <th>topic_34_5_dayLag</th>\n",
       "      <th>topic_35_5_dayLag</th>\n",
       "      <th>topic_36_5_dayLag</th>\n",
       "      <th>topic_37_5_dayLag</th>\n",
       "      <th>topic_38_5_dayLag</th>\n",
       "      <th>topic_39_5_dayLag</th>\n",
       "      <th>topic_40_5_dayLag</th>\n",
       "    </tr>\n",
       "  </thead>\n",
       "  <tbody>\n",
       "    <tr>\n",
       "      <th>0</th>\n",
       "      <td>13</td>\n",
       "      <td>2018-11-01</td>\n",
       "      <td>0.007161</td>\n",
       "      <td>0.008318</td>\n",
       "      <td>0.008024</td>\n",
       "      <td>0.002407</td>\n",
       "      <td>0.000615</td>\n",
       "      <td>0.002531</td>\n",
       "      <td>0.003378</td>\n",
       "      <td>0.734076</td>\n",
       "      <td>...</td>\n",
       "      <td>NaN</td>\n",
       "      <td>NaN</td>\n",
       "      <td>NaN</td>\n",
       "      <td>NaN</td>\n",
       "      <td>NaN</td>\n",
       "      <td>NaN</td>\n",
       "      <td>NaN</td>\n",
       "      <td>NaN</td>\n",
       "      <td>NaN</td>\n",
       "      <td>NaN</td>\n",
       "    </tr>\n",
       "    <tr>\n",
       "      <th>1</th>\n",
       "      <td>6</td>\n",
       "      <td>2018-11-02</td>\n",
       "      <td>0.001098</td>\n",
       "      <td>0.003050</td>\n",
       "      <td>0.001576</td>\n",
       "      <td>0.000709</td>\n",
       "      <td>0.014129</td>\n",
       "      <td>0.000257</td>\n",
       "      <td>0.000230</td>\n",
       "      <td>0.195099</td>\n",
       "      <td>...</td>\n",
       "      <td>NaN</td>\n",
       "      <td>NaN</td>\n",
       "      <td>NaN</td>\n",
       "      <td>NaN</td>\n",
       "      <td>NaN</td>\n",
       "      <td>NaN</td>\n",
       "      <td>NaN</td>\n",
       "      <td>NaN</td>\n",
       "      <td>NaN</td>\n",
       "      <td>NaN</td>\n",
       "    </tr>\n",
       "    <tr>\n",
       "      <th>2</th>\n",
       "      <td>7</td>\n",
       "      <td>2018-11-05</td>\n",
       "      <td>0.002161</td>\n",
       "      <td>0.004256</td>\n",
       "      <td>0.128867</td>\n",
       "      <td>0.006231</td>\n",
       "      <td>0.000277</td>\n",
       "      <td>0.001216</td>\n",
       "      <td>0.000364</td>\n",
       "      <td>0.439931</td>\n",
       "      <td>...</td>\n",
       "      <td>NaN</td>\n",
       "      <td>NaN</td>\n",
       "      <td>NaN</td>\n",
       "      <td>NaN</td>\n",
       "      <td>NaN</td>\n",
       "      <td>NaN</td>\n",
       "      <td>NaN</td>\n",
       "      <td>NaN</td>\n",
       "      <td>NaN</td>\n",
       "      <td>NaN</td>\n",
       "    </tr>\n",
       "    <tr>\n",
       "      <th>3</th>\n",
       "      <td>12</td>\n",
       "      <td>2018-11-06</td>\n",
       "      <td>0.005096</td>\n",
       "      <td>0.020148</td>\n",
       "      <td>0.009008</td>\n",
       "      <td>0.002966</td>\n",
       "      <td>0.002901</td>\n",
       "      <td>0.000561</td>\n",
       "      <td>0.000502</td>\n",
       "      <td>0.801467</td>\n",
       "      <td>...</td>\n",
       "      <td>NaN</td>\n",
       "      <td>NaN</td>\n",
       "      <td>NaN</td>\n",
       "      <td>NaN</td>\n",
       "      <td>NaN</td>\n",
       "      <td>NaN</td>\n",
       "      <td>NaN</td>\n",
       "      <td>NaN</td>\n",
       "      <td>NaN</td>\n",
       "      <td>NaN</td>\n",
       "    </tr>\n",
       "    <tr>\n",
       "      <th>4</th>\n",
       "      <td>6</td>\n",
       "      <td>2018-11-07</td>\n",
       "      <td>0.007441</td>\n",
       "      <td>0.014606</td>\n",
       "      <td>0.010937</td>\n",
       "      <td>0.003326</td>\n",
       "      <td>0.008095</td>\n",
       "      <td>0.002614</td>\n",
       "      <td>0.002864</td>\n",
       "      <td>0.461260</td>\n",
       "      <td>...</td>\n",
       "      <td>NaN</td>\n",
       "      <td>NaN</td>\n",
       "      <td>NaN</td>\n",
       "      <td>NaN</td>\n",
       "      <td>NaN</td>\n",
       "      <td>NaN</td>\n",
       "      <td>NaN</td>\n",
       "      <td>NaN</td>\n",
       "      <td>NaN</td>\n",
       "      <td>NaN</td>\n",
       "    </tr>\n",
       "    <tr>\n",
       "      <th>5</th>\n",
       "      <td>14</td>\n",
       "      <td>2018-11-08</td>\n",
       "      <td>0.011332</td>\n",
       "      <td>0.055486</td>\n",
       "      <td>0.013386</td>\n",
       "      <td>0.072385</td>\n",
       "      <td>0.111243</td>\n",
       "      <td>0.013910</td>\n",
       "      <td>0.000329</td>\n",
       "      <td>5.951260</td>\n",
       "      <td>...</td>\n",
       "      <td>0.400420</td>\n",
       "      <td>0.017089</td>\n",
       "      <td>0.027605</td>\n",
       "      <td>0.055925</td>\n",
       "      <td>0.232308</td>\n",
       "      <td>0.626846</td>\n",
       "      <td>0.014471</td>\n",
       "      <td>0.019595</td>\n",
       "      <td>0.010399</td>\n",
       "      <td>0.000189</td>\n",
       "    </tr>\n",
       "    <tr>\n",
       "      <th>6</th>\n",
       "      <td>10</td>\n",
       "      <td>2018-11-13</td>\n",
       "      <td>0.000255</td>\n",
       "      <td>0.032935</td>\n",
       "      <td>0.002734</td>\n",
       "      <td>0.004069</td>\n",
       "      <td>0.050894</td>\n",
       "      <td>0.121247</td>\n",
       "      <td>0.000203</td>\n",
       "      <td>5.601712</td>\n",
       "      <td>...</td>\n",
       "      <td>0.429718</td>\n",
       "      <td>0.016946</td>\n",
       "      <td>0.000175</td>\n",
       "      <td>0.026461</td>\n",
       "      <td>0.205569</td>\n",
       "      <td>0.564093</td>\n",
       "      <td>0.021081</td>\n",
       "      <td>0.015321</td>\n",
       "      <td>0.007079</td>\n",
       "      <td>0.000146</td>\n",
       "    </tr>\n",
       "    <tr>\n",
       "      <th>7</th>\n",
       "      <td>29</td>\n",
       "      <td>2018-11-14</td>\n",
       "      <td>0.002832</td>\n",
       "      <td>0.423797</td>\n",
       "      <td>0.022633</td>\n",
       "      <td>0.116281</td>\n",
       "      <td>0.013150</td>\n",
       "      <td>0.012367</td>\n",
       "      <td>0.001074</td>\n",
       "      <td>10.837961</td>\n",
       "      <td>...</td>\n",
       "      <td>0.434444</td>\n",
       "      <td>0.012379</td>\n",
       "      <td>0.000172</td>\n",
       "      <td>0.027840</td>\n",
       "      <td>0.198086</td>\n",
       "      <td>0.504437</td>\n",
       "      <td>0.034613</td>\n",
       "      <td>0.009005</td>\n",
       "      <td>0.006784</td>\n",
       "      <td>0.000144</td>\n",
       "    </tr>\n",
       "    <tr>\n",
       "      <th>8</th>\n",
       "      <td>17</td>\n",
       "      <td>2018-11-15</td>\n",
       "      <td>0.003861</td>\n",
       "      <td>0.036003</td>\n",
       "      <td>0.017812</td>\n",
       "      <td>0.077624</td>\n",
       "      <td>0.017193</td>\n",
       "      <td>0.016044</td>\n",
       "      <td>0.000995</td>\n",
       "      <td>4.352560</td>\n",
       "      <td>...</td>\n",
       "      <td>0.463585</td>\n",
       "      <td>0.012350</td>\n",
       "      <td>0.010912</td>\n",
       "      <td>0.030322</td>\n",
       "      <td>0.158945</td>\n",
       "      <td>0.603128</td>\n",
       "      <td>0.109817</td>\n",
       "      <td>0.013953</td>\n",
       "      <td>0.011921</td>\n",
       "      <td>0.000208</td>\n",
       "    </tr>\n",
       "    <tr>\n",
       "      <th>9</th>\n",
       "      <td>12</td>\n",
       "      <td>2018-11-16</td>\n",
       "      <td>0.002112</td>\n",
       "      <td>0.122341</td>\n",
       "      <td>0.011834</td>\n",
       "      <td>0.006793</td>\n",
       "      <td>0.077515</td>\n",
       "      <td>0.005162</td>\n",
       "      <td>0.000497</td>\n",
       "      <td>3.232107</td>\n",
       "      <td>...</td>\n",
       "      <td>0.522585</td>\n",
       "      <td>0.013751</td>\n",
       "      <td>0.010966</td>\n",
       "      <td>0.028341</td>\n",
       "      <td>0.253167</td>\n",
       "      <td>0.580991</td>\n",
       "      <td>0.121864</td>\n",
       "      <td>0.013466</td>\n",
       "      <td>0.012869</td>\n",
       "      <td>0.000318</td>\n",
       "    </tr>\n",
       "  </tbody>\n",
       "</table>\n",
       "<p>10 rows × 84 columns</p>\n",
       "</div>"
      ],
      "text/plain": [
       "   articlesInDay       date   topic_1  topic_10  topic_11  topic_12  topic_13  \\\n",
       "0             13 2018-11-01  0.007161  0.008318  0.008024  0.002407  0.000615   \n",
       "1              6 2018-11-02  0.001098  0.003050  0.001576  0.000709  0.014129   \n",
       "2              7 2018-11-05  0.002161  0.004256  0.128867  0.006231  0.000277   \n",
       "3             12 2018-11-06  0.005096  0.020148  0.009008  0.002966  0.002901   \n",
       "4              6 2018-11-07  0.007441  0.014606  0.010937  0.003326  0.008095   \n",
       "5             14 2018-11-08  0.011332  0.055486  0.013386  0.072385  0.111243   \n",
       "6             10 2018-11-13  0.000255  0.032935  0.002734  0.004069  0.050894   \n",
       "7             29 2018-11-14  0.002832  0.423797  0.022633  0.116281  0.013150   \n",
       "8             17 2018-11-15  0.003861  0.036003  0.017812  0.077624  0.017193   \n",
       "9             12 2018-11-16  0.002112  0.122341  0.011834  0.006793  0.077515   \n",
       "\n",
       "   topic_14  topic_15   topic_16        ...          topic_31_5_dayLag  \\\n",
       "0  0.002531  0.003378   0.734076        ...                        NaN   \n",
       "1  0.000257  0.000230   0.195099        ...                        NaN   \n",
       "2  0.001216  0.000364   0.439931        ...                        NaN   \n",
       "3  0.000561  0.000502   0.801467        ...                        NaN   \n",
       "4  0.002614  0.002864   0.461260        ...                        NaN   \n",
       "5  0.013910  0.000329   5.951260        ...                   0.400420   \n",
       "6  0.121247  0.000203   5.601712        ...                   0.429718   \n",
       "7  0.012367  0.001074  10.837961        ...                   0.434444   \n",
       "8  0.016044  0.000995   4.352560        ...                   0.463585   \n",
       "9  0.005162  0.000497   3.232107        ...                   0.522585   \n",
       "\n",
       "   topic_32_5_dayLag  topic_33_5_dayLag  topic_34_5_dayLag  topic_35_5_dayLag  \\\n",
       "0                NaN                NaN                NaN                NaN   \n",
       "1                NaN                NaN                NaN                NaN   \n",
       "2                NaN                NaN                NaN                NaN   \n",
       "3                NaN                NaN                NaN                NaN   \n",
       "4                NaN                NaN                NaN                NaN   \n",
       "5           0.017089           0.027605           0.055925           0.232308   \n",
       "6           0.016946           0.000175           0.026461           0.205569   \n",
       "7           0.012379           0.000172           0.027840           0.198086   \n",
       "8           0.012350           0.010912           0.030322           0.158945   \n",
       "9           0.013751           0.010966           0.028341           0.253167   \n",
       "\n",
       "   topic_36_5_dayLag  topic_37_5_dayLag  topic_38_5_dayLag  topic_39_5_dayLag  \\\n",
       "0                NaN                NaN                NaN                NaN   \n",
       "1                NaN                NaN                NaN                NaN   \n",
       "2                NaN                NaN                NaN                NaN   \n",
       "3                NaN                NaN                NaN                NaN   \n",
       "4                NaN                NaN                NaN                NaN   \n",
       "5           0.626846           0.014471           0.019595           0.010399   \n",
       "6           0.564093           0.021081           0.015321           0.007079   \n",
       "7           0.504437           0.034613           0.009005           0.006784   \n",
       "8           0.603128           0.109817           0.013953           0.011921   \n",
       "9           0.580991           0.121864           0.013466           0.012869   \n",
       "\n",
       "   topic_40_5_dayLag  \n",
       "0                NaN  \n",
       "1                NaN  \n",
       "2                NaN  \n",
       "3                NaN  \n",
       "4                NaN  \n",
       "5           0.000189  \n",
       "6           0.000146  \n",
       "7           0.000144  \n",
       "8           0.000208  \n",
       "9           0.000318  \n",
       "\n",
       "[10 rows x 84 columns]"
      ]
     },
     "execution_count": 190,
     "metadata": {},
     "output_type": "execute_result"
    }
   ],
   "source": [
    "df_daily.head(10)"
   ]
  },
  {
   "cell_type": "code",
   "execution_count": 203,
   "metadata": {},
   "outputs": [],
   "source": [
    "# for analysis, we need to drop the first 5 observations\n",
    "df_daily_analysis = df_daily[5:].copy()"
   ]
  },
  {
   "cell_type": "markdown",
   "metadata": {},
   "source": [
    "### Now, do the analysis with a simple OLS regression"
   ]
  },
  {
   "cell_type": "code",
   "execution_count": 202,
   "metadata": {},
   "outputs": [
    {
     "data": {
      "image/png": "[encoded data removed]",
      "text/plain": [
       "<Figure size 576x396 with 1 Axes>"
      ]
     },
     "metadata": {},
     "output_type": "display_data"
    }
   ],
   "source": [
    "plt.style.use('seaborn')\n",
    "\n",
    "df_daily_analysis.plot(x='wcs', y='topic_28_5_dayLag', kind='scatter')\n",
    "plt.show()"
   ]
  },
  {
   "cell_type": "code",
   "execution_count": 205,
   "metadata": {},
   "outputs": [],
   "source": [
    "model = smf.ols('wcs ~ articles_5_dayLag + topic_28_5_dayLag', data=df_daily_analysis).fit()"
   ]
  },
  {
   "cell_type": "code",
   "execution_count": 207,
   "metadata": {},
   "outputs": [
    {
     "name": "stdout",
     "output_type": "stream",
     "text": [
      "                            OLS Regression Results                            \n",
      "==============================================================================\n",
      "Dep. Variable:                    wcs   R-squared:                       0.620\n",
      "Model:                            OLS   Adj. R-squared:                  0.592\n",
      "Method:                 Least Squares   F-statistic:                     22.06\n",
      "Date:                Tue, 15 Jan 2019   Prob (F-statistic):           2.10e-06\n",
      "Time:                        16:53:01   Log-Likelihood:                -92.321\n",
      "No. Observations:                  30   AIC:                             190.6\n",
      "Df Residuals:                      27   BIC:                             194.8\n",
      "Df Model:                           2                                         \n",
      "Covariance Type:            nonrobust                                         \n",
      "=====================================================================================\n",
      "                        coef    std err          t      P>|t|      [0.025      0.975]\n",
      "-------------------------------------------------------------------------------------\n",
      "Intercept             5.7713      4.738      1.218      0.234      -3.951      15.494\n",
      "articles_5_dayLag    -0.1621      0.093     -1.739      0.093      -0.353       0.029\n",
      "topic_28_5_dayLag     7.4878      1.327      5.644      0.000       4.766      10.210\n",
      "==============================================================================\n",
      "Omnibus:                        1.458   Durbin-Watson:                   0.572\n",
      "Prob(Omnibus):                  0.482   Jarque-Bera (JB):                1.295\n",
      "Skew:                          -0.364   Prob(JB):                        0.523\n",
      "Kurtosis:                       2.288   Cond. No.                         345.\n",
      "==============================================================================\n",
      "\n",
      "Warnings:\n",
      "[1] Standard Errors assume that the covariance matrix of the errors is correctly specified.\n"
     ]
    }
   ],
   "source": [
    "print_model = model.summary()\n",
    "print(print_model)"
   ]
  }
 ],
 "metadata": {
  "kernelspec": {
   "display_name": "Python 3",
   "language": "python",
   "name": "python3"
  },
  "language_info": {
   "codemirror_mode": {
    "name": "ipython",
    "version": 3
   },
   "file_extension": ".py",
   "mimetype": "text/x-python",
   "name": "python",
   "nbconvert_exporter": "python",
   "pygments_lexer": "ipython3",
   "version": "3.7.2"
  }
 },
 "nbformat": 4,
 "nbformat_minor": 2
}
