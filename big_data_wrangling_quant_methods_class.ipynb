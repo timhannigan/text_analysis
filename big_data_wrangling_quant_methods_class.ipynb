{
 "cells": [
  {
   "cell_type": "markdown",
   "metadata": {},
   "source": [
    "# SMO706- Big Data Wrangling \n",
    "Tim Hannigan Jan 15, 2019"
   ]
  },
  {
   "cell_type": "code",
   "execution_count": null,
   "metadata": {},
   "outputs": [],
   "source": [
    "import warnings\n",
    "warnings.filterwarnings(\"ignore\",category=DeprecationWarning)"
   ]
  },
  {
   "cell_type": "code",
   "execution_count": 2,
   "metadata": {},
   "outputs": [
    {
     "name": "stdout",
     "output_type": "stream",
     "text": [
      "Requirement already satisfied: scipy in /Users/Tim/anaconda3/envs/py37/lib/python3.7/site-packages (1.1.0)\n",
      "Requirement already satisfied: pandas in /Users/Tim/anaconda3/envs/py37/lib/python3.7/site-packages (0.23.4)\n",
      "Requirement already satisfied: python-dateutil>=2.5.0 in /Users/Tim/anaconda3/envs/py37/lib/python3.7/site-packages (from pandas) (2.7.5)\n",
      "Requirement already satisfied: pytz>=2011k in /Users/Tim/anaconda3/envs/py37/lib/python3.7/site-packages (from pandas) (2018.7)\n",
      "Requirement already satisfied: numpy>=1.9.0 in /Users/Tim/anaconda3/envs/py37/lib/python3.7/site-packages (from pandas) (1.15.4)\n",
      "Requirement already satisfied: six>=1.5 in /Users/Tim/anaconda3/envs/py37/lib/python3.7/site-packages (from python-dateutil>=2.5.0->pandas) (1.12.0)\n",
      "Requirement already satisfied: bs4 in /Users/Tim/anaconda3/envs/py37/lib/python3.7/site-packages (0.0.1)\n",
      "Requirement already satisfied: beautifulsoup4 in /Users/Tim/anaconda3/envs/py37/lib/python3.7/site-packages (from bs4) (4.7.1)\n",
      "Requirement already satisfied: soupsieve>=1.2 in /Users/Tim/anaconda3/envs/py37/lib/python3.7/site-packages (from beautifulsoup4->bs4) (1.7.1)\n",
      "Requirement already satisfied: statsmodels in /Users/Tim/anaconda3/envs/py37/lib/python3.7/site-packages (0.9.0)\n",
      "Requirement already satisfied: matplotlib in /Users/Tim/anaconda3/envs/py37/lib/python3.7/site-packages (3.0.2)\n",
      "Requirement already satisfied: numpy>=1.10.0 in /Users/Tim/anaconda3/envs/py37/lib/python3.7/site-packages (from matplotlib) (1.15.4)\n",
      "Requirement already satisfied: cycler>=0.10 in /Users/Tim/anaconda3/envs/py37/lib/python3.7/site-packages (from matplotlib) (0.10.0)\n",
      "Requirement already satisfied: kiwisolver>=1.0.1 in /Users/Tim/anaconda3/envs/py37/lib/python3.7/site-packages (from matplotlib) (1.0.1)\n",
      "Requirement already satisfied: pyparsing!=2.0.4,!=2.1.2,!=2.1.6,>=2.0.1 in /Users/Tim/anaconda3/envs/py37/lib/python3.7/site-packages (from matplotlib) (2.3.0)\n",
      "Requirement already satisfied: python-dateutil>=2.1 in /Users/Tim/anaconda3/envs/py37/lib/python3.7/site-packages (from matplotlib) (2.7.5)\n",
      "Requirement already satisfied: six in /Users/Tim/anaconda3/envs/py37/lib/python3.7/site-packages (from cycler>=0.10->matplotlib) (1.12.0)\n",
      "Requirement already satisfied: setuptools in /Users/Tim/anaconda3/envs/py37/lib/python3.7/site-packages (from kiwisolver>=1.0.1->matplotlib) (40.6.3)\n",
      "Requirement already satisfied: xlrd in /Users/Tim/anaconda3/envs/py37/lib/python3.7/site-packages (1.2.0)\n"
     ]
    }
   ],
   "source": [
    "import re\n",
    "import sys\n",
    "import json\n",
    "import requests\n",
    "import datetime as dt\n",
    "\n",
    "!{sys.executable} -m pip install scipy\n",
    "!{sys.executable} -m pip install pandas\n",
    "!{sys.executable} -m pip install bs4\n",
    "!{sys.executable} -m pip install statsmodels\n",
    "!{sys.executable} -m pip install matplotlib\n",
    "!{sys.executable} -m pip install xlrd\n",
    "\n",
    "import xlrd\n",
    "import scipy\n",
    "import pandas as pd\n",
    "from bs4 import BeautifulSoup\n",
    "import matplotlib.pyplot as plt\n",
    "import numpy as np\n",
    "import statsmodels\n",
    "import statsmodels.formula.api as smf"
   ]
  },
  {
   "cell_type": "markdown",
   "metadata": {},
   "source": [
    "### Main methods"
   ]
  },
  {
   "cell_type": "markdown",
   "metadata": {},
   "source": [
    "#### Western Canadian Select Oil Price"
   ]
  },
  {
   "cell_type": "raw",
   "metadata": {},
   "source": [
    "Our first task is to gather the price of Oil in Alberta (most often known as WCS, or Western Canadian Select). This is provided by the Bloomberg (using symbol USCRWCAS) in our Winspear Library.  \n",
    "Note: I have downloaded this to make it easier for you."
   ]
  },
  {
   "cell_type": "code",
   "execution_count": 3,
   "metadata": {},
   "outputs": [],
   "source": [
    "# first, load the data\n",
    "file_name = \"USCRWCAS_dailyPrice.xlsx\""
   ]
  },
  {
   "cell_type": "code",
   "execution_count": 4,
   "metadata": {},
   "outputs": [],
   "source": [
    "# next, process it into a DataFrame\n",
    "df_wcs = pd.read_excel(file_name)\n",
    "df_wcs.columns = [col.lower() for col in df_wcs.columns] # for ease of use, working with lowercase column names"
   ]
  },
  {
   "cell_type": "code",
   "execution_count": 5,
   "metadata": {},
   "outputs": [
    {
     "name": "stdout",
     "output_type": "stream",
     "text": [
      "<class 'pandas.core.frame.DataFrame'>\n",
      "RangeIndex: 252 entries, 0 to 251\n",
      "Data columns (total 2 columns):\n",
      "date        252 non-null datetime64[ns]\n",
      "uscrwcas    252 non-null float64\n",
      "dtypes: datetime64[ns](1), float64(1)\n",
      "memory usage: 4.0 KB\n"
     ]
    }
   ],
   "source": [
    "# this lists the type of variables in the dataframe, note: there are 916 rows\n",
    "df_wcs.info()"
   ]
  },
  {
   "cell_type": "code",
   "execution_count": 6,
   "metadata": {},
   "outputs": [
    {
     "data": {
      "text/plain": [
       "(252, 2)"
      ]
     },
     "execution_count": 6,
     "metadata": {},
     "output_type": "execute_result"
    }
   ],
   "source": [
    "# a shorter way of inspecting this dataframe is by looking at the shape\n",
    "df_wcs.shape"
   ]
  },
  {
   "cell_type": "code",
   "execution_count": 7,
   "metadata": {},
   "outputs": [
    {
     "data": {
      "text/html": [
       "<div>\n",
       "<style scoped>\n",
       "    .dataframe tbody tr th:only-of-type {\n",
       "        vertical-align: middle;\n",
       "    }\n",
       "\n",
       "    .dataframe tbody tr th {\n",
       "        vertical-align: top;\n",
       "    }\n",
       "\n",
       "    .dataframe thead th {\n",
       "        text-align: right;\n",
       "    }\n",
       "</style>\n",
       "<table border=\"1\" class=\"dataframe\">\n",
       "  <thead>\n",
       "    <tr style=\"text-align: right;\">\n",
       "      <th></th>\n",
       "      <th>date</th>\n",
       "      <th>uscrwcas</th>\n",
       "    </tr>\n",
       "  </thead>\n",
       "  <tbody>\n",
       "    <tr>\n",
       "      <th>0</th>\n",
       "      <td>2019-01-14</td>\n",
       "      <td>43.73</td>\n",
       "    </tr>\n",
       "    <tr>\n",
       "      <th>1</th>\n",
       "      <td>2019-01-11</td>\n",
       "      <td>44.64</td>\n",
       "    </tr>\n",
       "    <tr>\n",
       "      <th>2</th>\n",
       "      <td>2019-01-10</td>\n",
       "      <td>44.74</td>\n",
       "    </tr>\n",
       "    <tr>\n",
       "      <th>3</th>\n",
       "      <td>2019-01-09</td>\n",
       "      <td>43.86</td>\n",
       "    </tr>\n",
       "    <tr>\n",
       "      <th>4</th>\n",
       "      <td>2019-01-08</td>\n",
       "      <td>40.78</td>\n",
       "    </tr>\n",
       "  </tbody>\n",
       "</table>\n",
       "</div>"
      ],
      "text/plain": [
       "        date  uscrwcas\n",
       "0 2019-01-14     43.73\n",
       "1 2019-01-11     44.64\n",
       "2 2019-01-10     44.74\n",
       "3 2019-01-09     43.86\n",
       "4 2019-01-08     40.78"
      ]
     },
     "execution_count": 7,
     "metadata": {},
     "output_type": "execute_result"
    }
   ],
   "source": [
    "# next, inspect the first 5 rows of the data\n",
    "df_wcs.head(5)"
   ]
  },
  {
   "cell_type": "code",
   "execution_count": 8,
   "metadata": {},
   "outputs": [],
   "source": [
    "# in order to make this easier to manage, we'll set the index to be the date\n",
    "df_wcs['date'] = pd.to_datetime(df_wcs['date']) # setting column with 'date' type"
   ]
  },
  {
   "cell_type": "code",
   "execution_count": 9,
   "metadata": {},
   "outputs": [],
   "source": [
    "# setting the index as date\n",
    "df_wcs.set_index('date', inplace=True)"
   ]
  },
  {
   "cell_type": "code",
   "execution_count": 10,
   "metadata": {},
   "outputs": [],
   "source": [
    "# ordering by index (ascending order)\n",
    "df_wcs.sort_index(axis=0, ascending=True, inplace=True)"
   ]
  },
  {
   "cell_type": "code",
   "execution_count": 11,
   "metadata": {},
   "outputs": [
    {
     "data": {
      "text/html": [
       "<div>\n",
       "<style scoped>\n",
       "    .dataframe tbody tr th:only-of-type {\n",
       "        vertical-align: middle;\n",
       "    }\n",
       "\n",
       "    .dataframe tbody tr th {\n",
       "        vertical-align: top;\n",
       "    }\n",
       "\n",
       "    .dataframe thead th {\n",
       "        text-align: right;\n",
       "    }\n",
       "</style>\n",
       "<table border=\"1\" class=\"dataframe\">\n",
       "  <thead>\n",
       "    <tr style=\"text-align: right;\">\n",
       "      <th></th>\n",
       "      <th>uscrwcas</th>\n",
       "    </tr>\n",
       "    <tr>\n",
       "      <th>date</th>\n",
       "      <th></th>\n",
       "    </tr>\n",
       "  </thead>\n",
       "  <tbody>\n",
       "    <tr>\n",
       "      <th>2018-01-16</th>\n",
       "      <td>42.73</td>\n",
       "    </tr>\n",
       "    <tr>\n",
       "      <th>2018-01-17</th>\n",
       "      <td>40.17</td>\n",
       "    </tr>\n",
       "  </tbody>\n",
       "</table>\n",
       "</div>"
      ],
      "text/plain": [
       "            uscrwcas\n",
       "date                \n",
       "2018-01-16     42.73\n",
       "2018-01-17     40.17"
      ]
     },
     "execution_count": 11,
     "metadata": {},
     "output_type": "execute_result"
    }
   ],
   "source": [
    "# check to see it's working properly\n",
    "df_wcs.head(2)"
   ]
  },
  {
   "cell_type": "code",
   "execution_count": 12,
   "metadata": {},
   "outputs": [],
   "source": [
    "# change name of column to make it easier\n",
    "df_wcs.columns=[\"wcs\"]"
   ]
  },
  {
   "cell_type": "code",
   "execution_count": 13,
   "metadata": {},
   "outputs": [
    {
     "data": {
      "text/html": [
       "<div>\n",
       "<style scoped>\n",
       "    .dataframe tbody tr th:only-of-type {\n",
       "        vertical-align: middle;\n",
       "    }\n",
       "\n",
       "    .dataframe tbody tr th {\n",
       "        vertical-align: top;\n",
       "    }\n",
       "\n",
       "    .dataframe thead th {\n",
       "        text-align: right;\n",
       "    }\n",
       "</style>\n",
       "<table border=\"1\" class=\"dataframe\">\n",
       "  <thead>\n",
       "    <tr style=\"text-align: right;\">\n",
       "      <th></th>\n",
       "      <th>wcs</th>\n",
       "    </tr>\n",
       "    <tr>\n",
       "      <th>date</th>\n",
       "      <th></th>\n",
       "    </tr>\n",
       "  </thead>\n",
       "  <tbody>\n",
       "    <tr>\n",
       "      <th>2019-01-11</th>\n",
       "      <td>44.64</td>\n",
       "    </tr>\n",
       "    <tr>\n",
       "      <th>2019-01-14</th>\n",
       "      <td>43.73</td>\n",
       "    </tr>\n",
       "  </tbody>\n",
       "</table>\n",
       "</div>"
      ],
      "text/plain": [
       "              wcs\n",
       "date             \n",
       "2019-01-11  44.64\n",
       "2019-01-14  43.73"
      ]
     },
     "execution_count": 13,
     "metadata": {},
     "output_type": "execute_result"
    }
   ],
   "source": [
    "# check to see it's working properly\n",
    "df_wcs.tail(2)"
   ]
  },
  {
   "cell_type": "raw",
   "metadata": {},
   "source": [
    "Therefore, the range in this data is 2018-01-16 to 2019-01-14"
   ]
  },
  {
   "cell_type": "code",
   "execution_count": 14,
   "metadata": {},
   "outputs": [
    {
     "data": {
      "image/png": "[encoded data removed]",
      "text/plain": [
       "<Figure size 432x288 with 1 Axes>"
      ]
     },
     "metadata": {
      "needs_background": "light"
     },
     "output_type": "display_data"
    }
   ],
   "source": [
    "# plotting the late 2018 data\n",
    "df_wcs.loc['Nov 1, 2018':'Dec 31, 2018', ['wcs']].plot()\n",
    "plt.ylim(10,60)\n",
    "plt.xlabel('Date')\n",
    "plt.ylabel('WCS Oil price (closing)')\n",
    "plt.title('Oil prices in Alberta')\n",
    "plt.show()"
   ]
  },
  {
   "cell_type": "markdown",
   "metadata": {},
   "source": [
    "#### Collect news stories about Alberta + Oil"
   ]
  },
  {
   "cell_type": "raw",
   "metadata": {},
   "source": [
    "Our second task is to collect news stories that contain the terms: \"alberta\" + \"oil\". We will be using the Factiva service, and saving rtf files of news stories. Collecting from nov 1, 2018 to jan 1, 2019. Gathering Canadian sources and \"top stories\"."
   ]
  },
  {
   "cell_type": "code",
   "execution_count": 15,
   "metadata": {},
   "outputs": [],
   "source": [
    "articles = []\n",
    "for i in range(1,8):\n",
    "    with open (\"Factiva_major_Canada_news/Factiva\"+str(i)+\".html\", \"r\") as file: \n",
    "        html_doc = file.read()\n",
    "    soup = BeautifulSoup(html_doc, 'html.parser')\n",
    "    # in analyzing the HTML source, each story is contained in a div called \"article enArticle\"\n",
    "    articleContainers = soup.find_all(\"div\", \"article enArticle\")\n",
    "    for articleContainer in articleContainers:\n",
    "        table = articleContainer.find('table')        \n",
    "        headline_text = table.find_all(\"span\", \"enHeadline\")[0].text\n",
    "        rows = table.find_all('tr')\n",
    "        article_text = \"\" # to be filled in below\n",
    "        for row in rows:\n",
    "            cols = row.find_all('td')\n",
    "            if cols[0].text.strip()==\"BY\": \n",
    "                author_text = cols[1].text   \n",
    "            elif cols[0].text.strip()==\"PD\": \n",
    "                date_text = cols[1].text\n",
    "                date = pd.to_datetime(date_text) # convert to a date object\n",
    "            elif cols[0].text.strip()==\"LP\": # lead paragraph\n",
    "                article_text += \" \" + cols[1].text\n",
    "            elif cols[0].text.strip()==\"TD\": # content\n",
    "                article_text += \" \" + cols[1].text         \n",
    "        articles.append({\"headline\": headline_text, \"author\":author_text, \"date\": date, \"text\":article_text })"
   ]
  },
  {
   "cell_type": "code",
   "execution_count": 16,
   "metadata": {},
   "outputs": [],
   "source": [
    "df_articles = pd.DataFrame(articles)"
   ]
  },
  {
   "cell_type": "markdown",
   "metadata": {},
   "source": [
    "Review what is in our new dataframe df_articles"
   ]
  },
  {
   "cell_type": "code",
   "execution_count": 17,
   "metadata": {},
   "outputs": [
    {
     "data": {
      "text/plain": [
       "(629, 4)"
      ]
     },
     "execution_count": 17,
     "metadata": {},
     "output_type": "execute_result"
    }
   ],
   "source": [
    "df_articles.shape"
   ]
  },
  {
   "cell_type": "code",
   "execution_count": 18,
   "metadata": {},
   "outputs": [
    {
     "name": "stdout",
     "output_type": "stream",
     "text": [
      "<class 'pandas.core.frame.DataFrame'>\n",
      "RangeIndex: 629 entries, 0 to 628\n",
      "Data columns (total 4 columns):\n",
      "author      629 non-null object\n",
      "date        629 non-null datetime64[ns]\n",
      "headline    629 non-null object\n",
      "text        629 non-null object\n",
      "dtypes: datetime64[ns](1), object(3)\n",
      "memory usage: 19.7+ KB\n"
     ]
    }
   ],
   "source": [
    "df_articles.info()"
   ]
  },
  {
   "cell_type": "markdown",
   "metadata": {},
   "source": [
    "#### Now, extract some topics using LDA topic modeling analysis"
   ]
  },
  {
   "cell_type": "code",
   "execution_count": 19,
   "metadata": {},
   "outputs": [
    {
     "name": "stdout",
     "output_type": "stream",
     "text": [
      "Requirement already satisfied: gensim in /Users/Tim/anaconda3/envs/py37/lib/python3.7/site-packages (3.6.0)\n",
      "Requirement already satisfied: six>=1.5.0 in /Users/Tim/anaconda3/envs/py37/lib/python3.7/site-packages (from gensim) (1.12.0)\n",
      "Requirement already satisfied: smart-open>=1.2.1 in /Users/Tim/anaconda3/envs/py37/lib/python3.7/site-packages (from gensim) (1.7.1)\n",
      "Requirement already satisfied: numpy>=1.11.3 in /Users/Tim/anaconda3/envs/py37/lib/python3.7/site-packages (from gensim) (1.15.4)\n",
      "Requirement already satisfied: scipy>=0.18.1 in /Users/Tim/anaconda3/envs/py37/lib/python3.7/site-packages (from gensim) (1.1.0)\n",
      "Requirement already satisfied: boto3 in /Users/Tim/anaconda3/envs/py37/lib/python3.7/site-packages (from smart-open>=1.2.1->gensim) (1.9.79)\n",
      "Requirement already satisfied: requests in /Users/Tim/anaconda3/envs/py37/lib/python3.7/site-packages (from smart-open>=1.2.1->gensim) (2.21.0)\n",
      "Requirement already satisfied: bz2file in /Users/Tim/anaconda3/envs/py37/lib/python3.7/site-packages (from smart-open>=1.2.1->gensim) (0.98)\n",
      "Requirement already satisfied: boto>=2.32 in /Users/Tim/anaconda3/envs/py37/lib/python3.7/site-packages (from smart-open>=1.2.1->gensim) (2.49.0)\n",
      "Requirement already satisfied: botocore<1.13.0,>=1.12.79 in /Users/Tim/anaconda3/envs/py37/lib/python3.7/site-packages (from boto3->smart-open>=1.2.1->gensim) (1.12.79)\n",
      "Requirement already satisfied: s3transfer<0.2.0,>=0.1.10 in /Users/Tim/anaconda3/envs/py37/lib/python3.7/site-packages (from boto3->smart-open>=1.2.1->gensim) (0.1.13)\n",
      "Requirement already satisfied: jmespath<1.0.0,>=0.7.1 in /Users/Tim/anaconda3/envs/py37/lib/python3.7/site-packages (from boto3->smart-open>=1.2.1->gensim) (0.9.3)\n",
      "Requirement already satisfied: urllib3<1.25,>=1.21.1 in /Users/Tim/anaconda3/envs/py37/lib/python3.7/site-packages (from requests->smart-open>=1.2.1->gensim) (1.24.1)\n",
      "Requirement already satisfied: idna<2.9,>=2.5 in /Users/Tim/anaconda3/envs/py37/lib/python3.7/site-packages (from requests->smart-open>=1.2.1->gensim) (2.8)\n",
      "Requirement already satisfied: chardet<3.1.0,>=3.0.2 in /Users/Tim/anaconda3/envs/py37/lib/python3.7/site-packages (from requests->smart-open>=1.2.1->gensim) (3.0.4)\n",
      "Requirement already satisfied: certifi>=2017.4.17 in /Users/Tim/anaconda3/envs/py37/lib/python3.7/site-packages (from requests->smart-open>=1.2.1->gensim) (2018.11.29)\n",
      "Requirement already satisfied: python-dateutil<3.0.0,>=2.1; python_version >= \"2.7\" in /Users/Tim/anaconda3/envs/py37/lib/python3.7/site-packages (from botocore<1.13.0,>=1.12.79->boto3->smart-open>=1.2.1->gensim) (2.7.5)\n",
      "Requirement already satisfied: docutils>=0.10 in /Users/Tim/anaconda3/envs/py37/lib/python3.7/site-packages (from botocore<1.13.0,>=1.12.79->boto3->smart-open>=1.2.1->gensim) (0.14)\n",
      "Requirement already satisfied: pyLDAvis in /Users/Tim/anaconda3/envs/py37/lib/python3.7/site-packages (2.1.2)\n",
      "Requirement already satisfied: scipy>=0.18.0 in /Users/Tim/anaconda3/envs/py37/lib/python3.7/site-packages (from pyLDAvis) (1.1.0)\n",
      "Requirement already satisfied: numpy>=1.9.2 in /Users/Tim/anaconda3/envs/py37/lib/python3.7/site-packages (from pyLDAvis) (1.15.4)\n",
      "Requirement already satisfied: future in /Users/Tim/anaconda3/envs/py37/lib/python3.7/site-packages (from pyLDAvis) (0.17.1)\n",
      "Requirement already satisfied: funcy in /Users/Tim/anaconda3/envs/py37/lib/python3.7/site-packages (from pyLDAvis) (1.11)\n",
      "Requirement already satisfied: wheel>=0.23.0 in /Users/Tim/anaconda3/envs/py37/lib/python3.7/site-packages (from pyLDAvis) (0.32.3)\n",
      "Requirement already satisfied: jinja2>=2.7.2 in /Users/Tim/anaconda3/envs/py37/lib/python3.7/site-packages (from pyLDAvis) (2.10)\n",
      "Requirement already satisfied: numexpr in /Users/Tim/anaconda3/envs/py37/lib/python3.7/site-packages (from pyLDAvis) (2.6.9)\n",
      "Requirement already satisfied: pytest in /Users/Tim/anaconda3/envs/py37/lib/python3.7/site-packages (from pyLDAvis) (4.1.1)\n",
      "Requirement already satisfied: joblib>=0.8.4 in /Users/Tim/anaconda3/envs/py37/lib/python3.7/site-packages (from pyLDAvis) (0.13.1)\n",
      "Requirement already satisfied: pandas>=0.17.0 in /Users/Tim/anaconda3/envs/py37/lib/python3.7/site-packages (from pyLDAvis) (0.23.4)\n",
      "Requirement already satisfied: MarkupSafe>=0.23 in /Users/Tim/anaconda3/envs/py37/lib/python3.7/site-packages (from jinja2>=2.7.2->pyLDAvis) (1.1.0)\n",
      "Requirement already satisfied: attrs>=17.4.0 in /Users/Tim/anaconda3/envs/py37/lib/python3.7/site-packages (from pytest->pyLDAvis) (18.2.0)\n",
      "Requirement already satisfied: more-itertools>=4.0.0 in /Users/Tim/anaconda3/envs/py37/lib/python3.7/site-packages (from pytest->pyLDAvis) (5.0.0)\n",
      "Requirement already satisfied: pluggy>=0.7 in /Users/Tim/anaconda3/envs/py37/lib/python3.7/site-packages (from pytest->pyLDAvis) (0.8.1)\n",
      "Requirement already satisfied: atomicwrites>=1.0 in /Users/Tim/anaconda3/envs/py37/lib/python3.7/site-packages (from pytest->pyLDAvis) (1.2.1)\n",
      "Requirement already satisfied: six>=1.10.0 in /Users/Tim/anaconda3/envs/py37/lib/python3.7/site-packages (from pytest->pyLDAvis) (1.12.0)\n",
      "Requirement already satisfied: setuptools in /Users/Tim/anaconda3/envs/py37/lib/python3.7/site-packages (from pytest->pyLDAvis) (40.6.3)\n",
      "Requirement already satisfied: py>=1.5.0 in /Users/Tim/anaconda3/envs/py37/lib/python3.7/site-packages (from pytest->pyLDAvis) (1.7.0)\n",
      "Requirement already satisfied: python-dateutil>=2.5.0 in /Users/Tim/anaconda3/envs/py37/lib/python3.7/site-packages (from pandas>=0.17.0->pyLDAvis) (2.7.5)\n",
      "Requirement already satisfied: pytz>=2011k in /Users/Tim/anaconda3/envs/py37/lib/python3.7/site-packages (from pandas>=0.17.0->pyLDAvis) (2018.7)\n"
     ]
    }
   ],
   "source": [
    "!{sys.executable} -m pip install gensim\n",
    "!{sys.executable} -m pip install pyLDAvis\n",
    "\n",
    "# Gensim\n",
    "import gensim\n",
    "from gensim.utils import simple_preprocess\n",
    "from gensim.models import CoherenceModel\n",
    "\n",
    "# Plotting tools\n",
    "import pyLDAvis\n",
    "import pyLDAvis.gensim  # don't skip this\n",
    "import matplotlib.pyplot as plt\n",
    "%matplotlib inline"
   ]
  },
  {
   "cell_type": "code",
   "execution_count": 20,
   "metadata": {},
   "outputs": [],
   "source": [
    "# these come from NLTK, the Natural Language Toolkit\n",
    "stop_words = ['i', 'me', 'my', 'myself', 'we', 'our', 'ours', 'ourselves', 'you', \"you're\", \"you've\", \"you'll\", \"you'd\", 'your', 'yours', 'yourself', 'yourselves', 'he', 'him', 'his', 'himself', 'she', \"she's\", 'her', 'hers', 'herself', 'it', \"it's\", 'its', 'itself', 'they', 'them', 'their', 'theirs', 'themselves', 'what', 'which', 'who', 'whom', 'this', 'that', \"that'll\", 'these', 'those', 'am', 'is', 'are', 'was', 'were', 'be', 'been', 'being', 'have', 'has', 'had', 'having', 'do', 'does', 'did', 'doing', 'a', 'an', 'the', 'and', 'but', 'if', 'or', 'because', 'as', 'until', 'while', 'of', 'at', 'by', 'for', 'with', 'about', 'against', 'between', 'into', 'through', 'during', 'before', 'after', 'above', 'below', 'to', 'from', 'up', 'down', 'in', 'out', 'on', 'off', 'over', 'under', 'again', 'further', 'then', 'once', 'here', 'there', 'when', 'where', 'why', 'how', 'all', 'any', 'both', 'each', 'few', 'more', 'most', 'other', 'some', 'such', 'no', 'nor', 'not', 'only', 'own', 'same', 'so', 'than', 'too', 'very', 's', 't', 'can', 'will', 'just', 'don', \"don't\", 'should', \"should've\", 'now', 'd', 'll', 'm', 'o', 're', 've', 'y', 'ain', 'aren', \"aren't\", 'couldn', \"couldn't\", 'didn', \"didn't\", 'doesn', \"doesn't\", 'hadn', \"hadn't\", 'hasn', \"hasn't\", 'haven', \"haven't\", 'isn', \"isn't\", 'ma', 'mightn', \"mightn't\", 'mustn', \"mustn't\", 'needn', \"needn't\", 'shan', \"shan't\", 'shouldn', \"shouldn't\", 'wasn', \"wasn't\", 'weren', \"weren't\", 'won', \"won't\", 'wouldn', \"wouldn't\"]\n",
    "stop_words.extend([\"http\", \"https\",\"www\", \"com\", \"say\", \"said\", \"html\"])"
   ]
  },
  {
   "cell_type": "code",
   "execution_count": 21,
   "metadata": {},
   "outputs": [
    {
     "data": {
      "text/html": [
       "<div>\n",
       "<style scoped>\n",
       "    .dataframe tbody tr th:only-of-type {\n",
       "        vertical-align: middle;\n",
       "    }\n",
       "\n",
       "    .dataframe tbody tr th {\n",
       "        vertical-align: top;\n",
       "    }\n",
       "\n",
       "    .dataframe thead th {\n",
       "        text-align: right;\n",
       "    }\n",
       "</style>\n",
       "<table border=\"1\" class=\"dataframe\">\n",
       "  <thead>\n",
       "    <tr style=\"text-align: right;\">\n",
       "      <th></th>\n",
       "      <th>author</th>\n",
       "      <th>date</th>\n",
       "      <th>headline</th>\n",
       "      <th>text</th>\n",
       "    </tr>\n",
       "  </thead>\n",
       "  <tbody>\n",
       "    <tr>\n",
       "      <th>0</th>\n",
       "      <td>Gillian Steward</td>\n",
       "      <td>2019-01-01</td>\n",
       "      <td>Threats of Alberta separation are mostly an el...</td>\n",
       "      <td>The angry Albertan has struck again.\\nAnd he ...</td>\n",
       "    </tr>\n",
       "    <tr>\n",
       "      <th>1</th>\n",
       "      <td>Kevin Maimann  StarMetro Edmonton</td>\n",
       "      <td>2019-01-01</td>\n",
       "      <td>Albertans dislike PM the most, poll finds; Gov...</td>\n",
       "      <td>EDMONTON -- Albertans are most likely among C...</td>\n",
       "    </tr>\n",
       "  </tbody>\n",
       "</table>\n",
       "</div>"
      ],
      "text/plain": [
       "                               author       date  \\\n",
       "0                    Gillian Steward  2019-01-01   \n",
       "1  Kevin Maimann  StarMetro Edmonton  2019-01-01   \n",
       "\n",
       "                                            headline  \\\n",
       "0  Threats of Alberta separation are mostly an el...   \n",
       "1  Albertans dislike PM the most, poll finds; Gov...   \n",
       "\n",
       "                                                text  \n",
       "0   The angry Albertan has struck again.\\nAnd he ...  \n",
       "1   EDMONTON -- Albertans are most likely among C...  "
      ]
     },
     "execution_count": 21,
     "metadata": {},
     "output_type": "execute_result"
    }
   ],
   "source": [
    "# recall what is in the articles dataframe (df_articles)\n",
    "df_articles.head(2)"
   ]
  },
  {
   "cell_type": "code",
   "execution_count": 22,
   "metadata": {},
   "outputs": [
    {
     "data": {
      "text/plain": [
       "(629, 4)"
      ]
     },
     "execution_count": 22,
     "metadata": {},
     "output_type": "execute_result"
    }
   ],
   "source": [
    "df_articles.shape"
   ]
  },
  {
   "cell_type": "markdown",
   "metadata": {},
   "source": [
    "This means 629 rows and 4 columns"
   ]
  },
  {
   "cell_type": "markdown",
   "metadata": {},
   "source": [
    "#### Now, we want to process the \"text\" column to prepare for LDA topic modeling"
   ]
  },
  {
   "cell_type": "code",
   "execution_count": 23,
   "metadata": {},
   "outputs": [],
   "source": [
    "# Convert to list\n",
    "data = df_articles.text.values.tolist()"
   ]
  },
  {
   "cell_type": "code",
   "execution_count": 24,
   "metadata": {},
   "outputs": [
    {
     "data": {
      "text/plain": [
       "629"
      ]
     },
     "execution_count": 24,
     "metadata": {},
     "output_type": "execute_result"
    }
   ],
   "source": [
    "len(data)"
   ]
  },
  {
   "cell_type": "markdown",
   "metadata": {},
   "source": [
    "At this point, the data variable is a list (629) items long, where each item is an article's content (text)"
   ]
  },
  {
   "cell_type": "code",
   "execution_count": 25,
   "metadata": {},
   "outputs": [],
   "source": [
    "# we need to turn each article into a list of words (tokens)\n",
    "# for this we will tokenize words and clean up text using Gensim’s simple_preprocess() method\n",
    "data_words = []\n",
    "for article_text in data:\n",
    "    article_text_cleaned= gensim.utils.simple_preprocess(article_text, deacc=True)  # deacc=True removes punctuations\n",
    "    data_words.append(article_text_cleaned)"
   ]
  },
  {
   "cell_type": "code",
   "execution_count": 26,
   "metadata": {},
   "outputs": [],
   "source": [
    "# Need to find phrases in our analysis and collapse them before going further\n",
    "#Some examples in our example are: ‘alberta_oipatch’, ‘oil_leak’, 'cannabis_oil'\n",
    "\n",
    "# Build the bigram and trigram models\n",
    "bigram = gensim.models.Phrases(data_words, min_count=5, threshold=100) # higher threshold fewer phrases.\n",
    "\n",
    "# Faster way to get a sentence clubbed as a bigram\n",
    "bigram_mod = gensim.models.phrases.Phraser(bigram)"
   ]
  },
  {
   "cell_type": "code",
   "execution_count": 27,
   "metadata": {},
   "outputs": [],
   "source": [
    "###Remove Stopwords, Make Bigrams and Lemmatize\n",
    "\n",
    "# Define functions for stopwords, bigrams, trigrams and lemmatization\n",
    "def remove_stopwords(texts):\n",
    "    return [[word for word in simple_preprocess(str(doc)) if word not in stop_words] for doc in texts]\n",
    "\n",
    "def make_bigrams(texts):\n",
    "    return [bigram_mod[doc] for doc in texts]"
   ]
  },
  {
   "cell_type": "code",
   "execution_count": 28,
   "metadata": {},
   "outputs": [],
   "source": [
    "# Remove Stop Words\n",
    "data_words_nostops = remove_stopwords(data_words)"
   ]
  },
  {
   "cell_type": "code",
   "execution_count": 29,
   "metadata": {},
   "outputs": [],
   "source": [
    "# Form Bigrams\n",
    "data_words_with_bigram_phrases = make_bigrams(data_words_nostops)"
   ]
  },
  {
   "cell_type": "markdown",
   "metadata": {},
   "source": [
    "##### Dictionary and Corpus needed for Topic Modeling"
   ]
  },
  {
   "cell_type": "code",
   "execution_count": 30,
   "metadata": {},
   "outputs": [],
   "source": [
    "# Create Dictionary\n",
    "dictionary = gensim.corpora.Dictionary(data_words_with_bigram_phrases) # this keeps track of words through id#\n",
    "\n",
    "# Term Document Frequency; this converts a document into a bag of words\n",
    "corpus_bag_of_words = [dictionary.doc2bow(text) for text in data_words_with_bigram_phrases]"
   ]
  },
  {
   "cell_type": "code",
   "execution_count": 31,
   "metadata": {},
   "outputs": [
    {
     "name": "stdout",
     "output_type": "stream",
     "text": [
      "[(0, 1), (1, 1), (2, 1), (3, 15), (4, 1), (5, 2), (6, 1), (7, 1), (8, 1), (9, 3), (10, 1), (11, 2), (12, 3), (13, 1), (14, 2), (15, 1), (16, 1), (17, 1), (18, 1), (19, 1), (20, 2), (21, 1), (22, 4), (23, 1), (24, 1), (25, 1), (26, 1), (27, 1), (28, 1), (29, 1), (30, 2), (31, 1), (32, 1), (33, 1), (34, 2), (35, 1), (36, 2), (37, 1), (38, 2), (39, 1), (40, 1), (41, 1), (42, 1), (43, 1), (44, 1), (45, 1), (46, 1), (47, 1), (48, 1), (49, 1), (50, 2), (51, 1), (52, 1), (53, 1), (54, 1), (55, 1), (56, 3), (57, 1), (58, 1), (59, 1), (60, 2), (61, 1), (62, 1), (63, 1), (64, 1), (65, 1), (66, 1), (67, 1), (68, 2), (69, 1), (70, 1), (71, 1), (72, 2), (73, 1), (74, 1), (75, 1), (76, 1), (77, 1), (78, 1), (79, 1), (80, 1), (81, 1), (82, 1), (83, 1), (84, 1), (85, 1), (86, 1), (87, 1), (88, 1), (89, 1), (90, 1), (91, 1), (92, 1), (93, 1), (94, 1), (95, 1), (96, 1), (97, 2), (98, 1), (99, 1), (100, 1), (101, 1), (102, 1), (103, 1), (104, 1), (105, 1), (106, 1), (107, 1), (108, 1), (109, 1), (110, 1), (111, 1), (112, 1), (113, 2), (114, 1), (115, 1), (116, 1), (117, 1), (118, 2), (119, 1), (120, 1), (121, 1), (122, 1), (123, 1), (124, 1), (125, 1), (126, 1), (127, 1), (128, 2), (129, 1), (130, 1), (131, 1), (132, 1), (133, 1), (134, 2), (135, 1), (136, 1), (137, 2), (138, 1), (139, 1), (140, 2), (141, 1), (142, 6), (143, 1), (144, 1), (145, 1), (146, 1), (147, 2), (148, 1), (149, 2), (150, 1), (151, 5), (152, 1), (153, 3), (154, 2), (155, 1), (156, 1), (157, 1), (158, 1), (159, 3), (160, 1), (161, 1), (162, 1), (163, 1), (164, 1), (165, 1), (166, 1), (167, 1), (168, 1), (169, 4), (170, 1), (171, 1), (172, 1), (173, 1), (174, 2), (175, 1), (176, 1), (177, 1), (178, 1), (179, 1), (180, 9), (181, 2), (182, 1), (183, 2), (184, 2), (185, 1), (186, 1), (187, 1), (188, 1), (189, 5), (190, 1), (191, 3), (192, 2), (193, 1), (194, 1), (195, 1), (196, 1), (197, 1), (198, 1), (199, 1), (200, 1), (201, 1), (202, 1), (203, 1), (204, 1), (205, 1), (206, 1), (207, 1), (208, 1), (209, 1), (210, 1), (211, 1), (212, 1), (213, 1), (214, 1), (215, 1), (216, 1), (217, 1), (218, 1), (219, 1), (220, 1), (221, 1), (222, 1), (223, 1), (224, 1), (225, 1), (226, 1), (227, 1), (228, 1), (229, 1), (230, 1), (231, 10), (232, 1), (233, 1), (234, 1), (235, 1), (236, 1), (237, 1), (238, 1), (239, 1), (240, 1), (241, 1), (242, 2), (243, 1), (244, 1), (245, 1), (246, 1), (247, 1), (248, 1), (249, 1), (250, 1), (251, 1), (252, 2), (253, 1), (254, 1), (255, 1), (256, 1), (257, 1), (258, 1), (259, 1), (260, 1), (261, 4), (262, 1), (263, 1), (264, 1), (265, 1), (266, 2), (267, 1), (268, 1), (269, 1), (270, 1), (271, 1), (272, 1), (273, 4), (274, 1), (275, 1), (276, 1), (277, 1), (278, 1), (279, 1), (280, 1), (281, 1), (282, 1), (283, 1), (284, 1), (285, 2), (286, 2), (287, 3), (288, 2), (289, 1), (290, 1), (291, 6), (292, 1), (293, 1), (294, 1), (295, 2), (296, 1), (297, 1), (298, 1), (299, 6), (300, 1), (301, 1), (302, 1), (303, 1)]\n"
     ]
    }
   ],
   "source": [
    "# We now have a record of every word in each article (assigned an id#, stored in id2word), and the frequency of each word\n",
    "print (dictionary.doc2bow(data_words_with_bigram_phrases[0]) ) \n",
    "# this is the representation of the first document in our corpus; note, this is a bag of words, so order has been mixed up, the ids correspond to the dictionary (ie. vocabulary) of the entire corpus"
   ]
  },
  {
   "cell_type": "code",
   "execution_count": 32,
   "metadata": {},
   "outputs": [
    {
     "name": "stdout",
     "output_type": "stream",
     "text": [
      "['angry', 'albertan', 'struck', 'sounds', 'like', 'mad', 'hell', 'going', 'take', 'anymore', 'rest', 'canada', 'owes', 'us', 'big', 'time', 'trudeau', 'deliberately', 'wrecking', 'province', 'exactly', 'smartest', 'way', 'win', 'hearts', 'minds', 'across', 'country', 'anger', 'way', 'blotting', 'intelligence', 'regardless', 'certainly', 'lot', 'explosive', 'anger', 'alberta', 'days', 'lot', 'people', 'know', 'better', 'willing', 'throw', 'match', 'anger', 'stems', 'frustration', 'stalled', 'oil', 'pipeline', 'construction', 'pipelines', 'supposed', 'ship', 'alberta', 'plentiful', 'oil', 'supplies', 'united_states', 'export', 'markets', 'limbo', 'mainly', 'objections', 'environmental', 'indigenous', 'activists', 'upheld', 'courts', 'combined', 'complications', 'oil', 'market', 'means', 'alberta', 'oil', 'fetching', 'next', 'nothing', 'compared', 'usual', 'benchmark', 'prices', 'understandably', 'makes', 'lot', 'people', 'mad', 'many', 'depend', 'thriving', 'oil', 'industry', 'well', 'paying', 'work', 'surprising', 'seen', 'large', 'protest', 'rallies', 'especially', 'liberal', 'politicians', 'vicinity', 'always', 'handy', 'target', 'alberta', 'noisy', 'truck', 'convoys', 'rural', 'regions', 'petroleum', 'industry', 'game', 'town', 'course', 'hearing', 'separation', 'bogey', 'man', 'always', 'seems', 'pop', 'times', 'like', 'time', 'elite', 'called', 'leading', 'lights', 'leading', 'separation', 'band', 'wagon', 'first', 'brett', 'wilson', 'raked', 'millions', 'dollars', 'selling', 'equities', 'oil', 'gas', 'companies', 'went', 'become', 'celebrity', 'cbc', 'dragons', 'den', 'wilson', 'took', 'separation', 'cudgel', 'tweeting', 'twitter', 'wbrettwilson', 'status', 'although', 'separatist', 'liberal', 'party', 'collaborating', 'push', 'alberta', 'saskatchewan', 'confederation', 'words', 'alberta', 'alienated', 'oppressed', 'might', 'well', 'separate', 'wilson', 'also', 'absurdly', 'tweeted', 'twitter', 'wbrettwilson', 'status', 'greenpeace', 'david_suzuki', 'foundation', 'guilty', 'treason', 'opposition', 'oil', 'pipelines', 'jack_mintz', 'chimed', 'business', 'financialpost', 'opinion', 'jack_mintz', 'alberta', 'better', 'reasons', 'albexit', 'britain', 'brexit', 'op', 'ed', 'financial', 'post', 'declared', 'alberta', 'better', 'case', 'exiting', 'canada', 'britain', 'exiting', 'eu', 'mintz', 'president', 'ceo', 'howe', 'institute', 'one', 'time', 'went', 'become', 'director', 'university', 'calgary', 'school', 'public', 'policy', 'also', 'sits', 'board', 'imperial', 'oil', 'would', 'imperial', 'oil', 'subsidiary', 'exxonmobil', 'giant', 'multinational', 'deliberately', 'buried', 'article', 'exxon', 'knew', 'climate_change', 'almost', 'years_ago', 'early', 'evidence', 'global_warming', 'due', 'carbon', 'emissions', 'whatever', 'negatives', 'alberta', 'would', 'face', 'easily', 'swamped', 'positives', 'would', 'come', 'separation', 'mintz', 'wrote', 'jason_kenney', 'one', 'time', 'federal', 'conservative', 'cabinet', 'minister', 'leader', 'alberta', 'official', 'opposition', 'endorse', 'separation', 'happy', 'stoke', 'flames', 'within', 'days', 'court_ruling', 'august', 'put', 'brakes', 'construction', 'trans_mountain', 'pipeline', 'kenney', 'told', 'national', 'tv', 'audience', 'ctvnews', 'ca', 'politics', 'separatism', 'may', 'rise', 'alberta', 'trans_mountain', 'decision', 'kenney', 'never', 'heard', 'many', 'people', 'alberta', 'talk', 'separation', 'even', 'hearing', 'educated', 'urban', 'professional', 'women', 'saying', 'country', 'working', 'anymore', 'understand', 'frustration', 'kenney', 'naturally', 'women', 'identified', 'like', 'wilson', 'kenney', 'also', 'pledged', 'set', 'war', 'room', 'deal', 'elected', 'premier', 'wilson', 'mintz', 'kenney', 'never', 'explain', 'separation', 'threatening', 'withdraw', 'alberta', 'contribution', 'equalization_payments', 'would', 'hasten', 'pipeline', 'construction', 'thankfully', 'recent', 'opinion', 'poll', 'researchco', 'ca', 'alberta', 'separation', 'indicates', 'majority', 'albertans', 'buy', 'separation', 'happen', 'would', 'leave', 'albertans', 'swamped', 'people', 'like', 'wilson', 'mintz', 'kenney', 'would', 'remain', 'high', 'dry', 'like', 'many', 'people', 'done', 'well', 'alberta', 'surely', 'could', 'come', 'better', 'solution', 'current', 'predicament', 'threats', 'separation', 'gillian', 'steward', 'calgary', 'based', 'writer', 'freelance', 'columnist', 'star', 'follow', 'twitter', 'gilliansteward', 'twitter', 'gilliansteward']\n"
     ]
    }
   ],
   "source": [
    "# this is the list of words that make up our first article\n",
    "print (data_words_with_bigram_phrases[0])"
   ]
  },
  {
   "cell_type": "code",
   "execution_count": 33,
   "metadata": {},
   "outputs": [
    {
     "data": {
      "text/plain": [
       "'angry'"
      ]
     },
     "execution_count": 33,
     "metadata": {},
     "output_type": "execute_result"
    }
   ],
   "source": [
    "# the first word in this list\n",
    "data_words_with_bigram_phrases[0][0]"
   ]
  },
  {
   "cell_type": "code",
   "execution_count": 34,
   "metadata": {},
   "outputs": [
    {
     "data": {
      "text/plain": [
       "13"
      ]
     },
     "execution_count": 34,
     "metadata": {},
     "output_type": "execute_result"
    }
   ],
   "source": [
    "# to look up the id# of this \n",
    "dictionary.token2id['angry']"
   ]
  },
  {
   "cell_type": "code",
   "execution_count": 35,
   "metadata": {},
   "outputs": [
    {
     "data": {
      "text/plain": [
       "'angry'"
      ]
     },
     "execution_count": 35,
     "metadata": {},
     "output_type": "execute_result"
    }
   ],
   "source": [
    "# We can also access this word from the dictionary using the id directly\n",
    "dictionary[13]"
   ]
  },
  {
   "cell_type": "markdown",
   "metadata": {},
   "source": [
    "#### As this point, we can run an LDA model, but we don't yet know the number of topics that best fits our data (something we can figure out later on)"
   ]
  },
  {
   "cell_type": "code",
   "execution_count": 52,
   "metadata": {},
   "outputs": [],
   "source": [
    "# let's start with 20 topics, just to get a feel for what this means\n",
    "numberOfTopics = 20"
   ]
  },
  {
   "cell_type": "code",
   "execution_count": null,
   "metadata": {},
   "outputs": [],
   "source": [
    "# Build LDA model\n",
    "lda_model = gensim.models.ldamodel.LdaModel(corpus=corpus_bag_of_words,\n",
    "                                           id2word=dictionary,\n",
    "                                           num_topics= numberOfTopics, \n",
    "                                           random_state=100,\n",
    "                                           update_every=1,\n",
    "                                           chunksize=100,\n",
    "                                           passes=10,\n",
    "                                           alpha='auto',\n",
    "                                           per_word_topics=False)"
   ]
  },
  {
   "cell_type": "code",
   "execution_count": 146,
   "metadata": {},
   "outputs": [
    {
     "name": "stdout",
     "output_type": "stream",
     "text": [
      "Topic: 1 \n",
      "\t 0.018*\"sdy\" + 0.015*\"barta\" + 0.013*\"ostlund\" + 0.011*\"nsfdf\" + 0.011*\"srb\" + 0.011*\"qst\" + 0.011*\"amortized\" + 0.010*\"dynamics\" + 0.009*\"equates\" + 0.009*\"skewing\"\n",
      "Topic: 2 \n",
      "\t 0.018*\"browns\" + 0.017*\"glee\" + 0.012*\"pouring\" + 0.009*\"oscars\" + 0.009*\"assured\" + 0.008*\"thiessen\" + 0.007*\"quarterly_profit\" + 0.006*\"distinction\" + 0.006*\"extremities\" + 0.005*\"classes\"\n",
      "Topic: 3 \n",
      "\t 0.012*\"canada\" + 0.006*\"one\" + 0.006*\"safety\" + 0.005*\"new\" + 0.005*\"year\" + 0.005*\"canadian\" + 0.005*\"people\" + 0.004*\"would\" + 0.004*\"government\" + 0.004*\"world\"\n",
      "Topic: 4 \n",
      "\t 0.081*\"canelo\" + 0.022*\"kevin\" + 0.015*\"legacy\" + 0.014*\"healing_lodges\" + 0.010*\"supplied\" + 0.010*\"licence\" + 0.008*\"dressing\" + 0.008*\"poorly\" + 0.008*\"producer\" + 0.007*\"damaging\"\n",
      "Topic: 5 \n",
      "\t 0.027*\"emissions\" + 0.020*\"carbon\" + 0.015*\"living\" + 0.013*\"cliffhanger\" + 0.010*\"climate_change\" + 0.010*\"coach\" + 0.009*\"canton\" + 0.009*\"canada\" + 0.008*\"newfield\" + 0.008*\"reversion\"\n",
      "Topic: 6 \n",
      "\t 0.032*\"litigation\" + 0.019*\"mr\" + 0.017*\"laverne\" + 0.016*\"securing\" + 0.014*\"institutional\" + 0.014*\"powers\" + 0.012*\"corona\" + 0.012*\"ppr\" + 0.011*\"commerce\" + 0.010*\"leading\"\n",
      "Topic: 7 \n",
      "\t 0.011*\"owen\" + 0.011*\"families\" + 0.009*\"licensed\" + 0.006*\"louise\" + 0.005*\"storm\" + 0.005*\"book\" + 0.005*\"advocate\" + 0.005*\"nineteen\" + 0.004*\"mostly\" + 0.003*\"first\"\n",
      "Topic: 8 \n",
      "\t 0.029*\"employed\" + 0.021*\"tharisa\" + 0.009*\"erred\" + 0.009*\"employees_maintains\" + 0.009*\"undertakings\" + 0.008*\"golds\" + 0.008*\"medicine_hat\" + 0.006*\"group\" + 0.005*\"luncheons\" + 0.005*\"misbrdstk\"\n",
      "Topic: 9 \n",
      "\t 0.018*\"canada\" + 0.015*\"testy\" + 0.014*\"article\" + 0.012*\"mr\" + 0.009*\"oil\" + 0.009*\"business\" + 0.008*\"alberta\" + 0.008*\"new\" + 0.007*\"globe\" + 0.007*\"companies\"\n",
      "Topic: 10 \n",
      "\t 0.023*\"navdeep\" + 0.022*\"software\" + 0.019*\"sgveq\" + 0.014*\"fgn\" + 0.013*\"tms\" + 0.013*\"cnr\" + 0.008*\"msft\" + 0.008*\"solutions\" + 0.007*\"comedy\" + 0.006*\"premarket\"\n",
      "Topic: 11 \n",
      "\t 0.030*\"oil\" + 0.020*\"per_cent\" + 0.018*\"prices\" + 0.014*\"canada\" + 0.013*\"year\" + 0.013*\"canadian\" + 0.011*\"president_emmanuel\" + 0.010*\"product\" + 0.009*\"alberta\" + 0.007*\"market\"\n",
      "Topic: 12 \n",
      "\t 0.020*\"mr\" + 0.015*\"clarizio\" + 0.011*\"commercial_disputes\" + 0.009*\"practice_encompasses\" + 0.008*\"benchetrit\" + 0.008*\"prefontaine\" + 0.007*\"acmpr\" + 0.007*\"canada\" + 0.006*\"bennett_jones\" + 0.006*\"commutes\"\n",
      "Topic: 13 \n",
      "\t 0.008*\"thunder\" + 0.008*\"booking\" + 0.007*\"turf\" + 0.006*\"scheduled\" + 0.006*\"deniers\" + 0.006*\"splinter\" + 0.006*\"cathal_kelly\" + 0.006*\"contraception\" + 0.005*\"susie\" + 0.004*\"wining\"\n",
      "Topic: 14 \n",
      "\t 0.033*\"calgary\" + 0.033*\"cities\" + 0.027*\"doubly\" + 0.024*\"texture\" + 0.012*\"people\" + 0.012*\"jettisoning\" + 0.012*\"kicker\" + 0.009*\"calf\" + 0.009*\"could_cause\" + 0.009*\"canadians\"\n",
      "Topic: 15 \n",
      "\t 0.023*\"alberta\" + 0.021*\"oil\" + 0.020*\"government\" + 0.012*\"energy\" + 0.011*\"federal\" + 0.011*\"province\" + 0.010*\"would\" + 0.010*\"pipeline\" + 0.008*\"trudeau\" + 0.007*\"ottawa\"\n",
      "Topic: 16 \n",
      "\t 0.016*\"community\" + 0.011*\"oil\" + 0.011*\"military\" + 0.009*\"product\" + 0.009*\"informant\" + 0.007*\"statement\" + 0.007*\"formations\" + 0.007*\"pepperdine\" + 0.006*\"natural\" + 0.006*\"financial\"\n",
      "Topic: 17 \n",
      "\t 0.021*\"per_cent\" + 0.014*\"testy\" + 0.013*\"market\" + 0.010*\"article\" + 0.009*\"year\" + 0.009*\"inattentiveness\" + 0.008*\"us\" + 0.008*\"stock\" + 0.007*\"markets\" + 0.007*\"canadian\"\n",
      "Topic: 18 \n",
      "\t 0.025*\"pertinent\" + 0.022*\"sensitive\" + 0.017*\"words\" + 0.016*\"photographs\" + 0.009*\"ottawa\" + 0.007*\"trump\" + 0.007*\"election\" + 0.006*\"safety\" + 0.006*\"tore\" + 0.005*\"pole\"\n",
      "Topic: 19 \n",
      "\t 0.011*\"tore\" + 0.009*\"canada\" + 0.007*\"calgary\" + 0.007*\"restored\" + 0.006*\"counts\" + 0.006*\"unfortunately\" + 0.006*\"conference\" + 0.006*\"university\" + 0.005*\"years\" + 0.005*\"notwithstanding\"\n",
      "Topic: 20 \n",
      "\t 0.012*\"houses\" + 0.010*\"victor\" + 0.009*\"unfortunately\" + 0.008*\"homan\" + 0.008*\"sheer\" + 0.007*\"tore\" + 0.006*\"ardently\" + 0.005*\"decorating\" + 0.005*\"lakers\" + 0.005*\"stewardship\"\n"
     ]
    }
   ],
   "source": [
    "# Print the Keyword in the topics\n",
    "topic_output = lda_model.print_topics(numberOfTopics)\n",
    "\n",
    "for topicTuple in topic_output:\n",
    "    index = topicTuple[0]+1 # recall that list indices start at 0\n",
    "    print (\"Topic:\", index, \"\\n\\t\", topicTuple[1])"
   ]
  },
  {
   "cell_type": "code",
   "execution_count": null,
   "metadata": {},
   "outputs": [],
   "source": [
    "# Visualize the topics\n",
    "pyLDAvis.enable_notebook()\n",
    "vis = pyLDAvis.gensim.prepare(lda_model, corpus_bag_of_words, dictionary, sort_topics=False)\n",
    "pyLDAvis.display(vis)"
   ]
  },
  {
   "cell_type": "markdown",
   "metadata": {},
   "source": [
    "Note: at this point we can skip the next section and go directly to \"Looking at output from the LDA model\""
   ]
  },
  {
   "cell_type": "code",
   "execution_count": 64,
   "metadata": {},
   "outputs": [],
   "source": [
    "lda_model_optimal = lda_model\n",
    "idealNumberOfTopics = numberOfTopics"
   ]
  },
  {
   "cell_type": "markdown",
   "metadata": {},
   "source": [
    "#### Now, to run LDA, We need to the optimal number of topics. We will first use the metric of coherence to see where it maximizes and levels off."
   ]
  },
  {
   "cell_type": "markdown",
   "metadata": {},
   "source": [
    "We are going to use a method to track different coherence measures"
   ]
  },
  {
   "cell_type": "code",
   "execution_count": 157,
   "metadata": {},
   "outputs": [],
   "source": [
    "def compute_coherence_values(dictionary, corpus, texts, limit, start=2, step=3):    \n",
    "    coherence_values = []\n",
    "    model_list = []\n",
    "    for num_topics in range(start, limit, step):\n",
    "        # Compute Coherence Score        \n",
    "        lda_model = gensim.models.ldamodel.LdaModel(corpus=corpus,\n",
    "                                           id2word=dictionary,\n",
    "                                           num_topics=num_topics, \n",
    "                                           random_state=100,\n",
    "                                           update_every=1,\n",
    "                                           chunksize=100,\n",
    "                                           passes=10,\n",
    "                                           alpha='auto',\n",
    "                                           per_word_topics=True)                        \n",
    "        model_list.append(lda_model)\n",
    "        coherence_model_lda = CoherenceModel(model=lda_model, texts=texts, dictionary=id2word, coherence='c_v')        \n",
    "        coherence_lda = coherence_model_lda.get_coherence()\n",
    "        coherence_values.append(coherence_lda)\n",
    "        print (\"trying out, \", num_topics, \"topics\", \"coherence_lda=\", coherence_lda)\n",
    "    return model_list, coherence_values"
   ]
  },
  {
   "cell_type": "markdown",
   "metadata": {},
   "source": [
    "Given that we have over 500 articles, we should be safe to assume a fit between 10 and 50 topics. First, using steps of 5 "
   ]
  },
  {
   "cell_type": "code",
   "execution_count": 158,
   "metadata": {},
   "outputs": [],
   "source": [
    "limit=50; start=10; step=5;"
   ]
  },
  {
   "cell_type": "code",
   "execution_count": 160,
   "metadata": {},
   "outputs": [
    {
     "name": "stdout",
     "output_type": "stream",
     "text": [
      "trying out,  10 topics coherence_lda= 0.5028957023257362\n",
      "trying out,  15 topics coherence_lda= 0.4911158799297805\n",
      "trying out,  20 topics coherence_lda= 0.5403164667567276\n",
      "trying out,  25 topics coherence_lda= 0.5455301661373724\n",
      "trying out,  30 topics coherence_lda= 0.5559148342913124\n",
      "trying out,  35 topics coherence_lda= 0.5483844728992151\n",
      "trying out,  40 topics coherence_lda= 0.5700398777622808\n",
      "trying out,  45 topics coherence_lda= 0.5635353439287198\n"
     ]
    }
   ],
   "source": [
    "# Can take a long time to run.\n",
    "model_list, coherence_values = compute_coherence_values(dictionary=dictionary, corpus=corpus_bag_of_words, texts=data_words_with_bigram_phrases, start=start, limit=limit, step=step)"
   ]
  },
  {
   "cell_type": "code",
   "execution_count": 161,
   "metadata": {},
   "outputs": [
    {
     "data": {
      "text/plain": [
       "[0.5028957023257362,\n",
       " 0.4911158799297805,\n",
       " 0.5403164667567276,\n",
       " 0.5455301661373724,\n",
       " 0.5559148342913124,\n",
       " 0.5483844728992151,\n",
       " 0.5700398777622808,\n",
       " 0.5635353439287198]"
      ]
     },
     "execution_count": 161,
     "metadata": {},
     "output_type": "execute_result"
    }
   ],
   "source": [
    "coherence_values"
   ]
  },
  {
   "cell_type": "code",
   "execution_count": 162,
   "metadata": {},
   "outputs": [
    {
     "data": {
      "image/png": "[encoded data removed]",
      "text/plain": [
       "<Figure size 432x288 with 1 Axes>"
      ]
     },
     "metadata": {
      "needs_background": "light"
     },
     "output_type": "display_data"
    }
   ],
   "source": [
    "# Show graph\n",
    "x = range(start, limit, step)\n",
    "plt.plot(x, coherence_values)\n",
    "plt.xlabel(\"Num Topics\")\n",
    "plt.ylabel(\"Coherence score\")\n",
    "plt.legend((\"coherence_values\"), loc='best')\n",
    "plt.show()"
   ]
  },
  {
   "cell_type": "code",
   "execution_count": 163,
   "metadata": {},
   "outputs": [
    {
     "name": "stdout",
     "output_type": "stream",
     "text": [
      "Num Topics = 10  has Coherence Value of 0.5029\n",
      "Num Topics = 15  has Coherence Value of 0.4911\n",
      "Num Topics = 20  has Coherence Value of 0.5403\n",
      "Num Topics = 25  has Coherence Value of 0.5455\n",
      "Num Topics = 30  has Coherence Value of 0.5559\n",
      "Num Topics = 35  has Coherence Value of 0.5484\n",
      "Num Topics = 40  has Coherence Value of 0.57\n",
      "Num Topics = 45  has Coherence Value of 0.5635\n"
     ]
    }
   ],
   "source": [
    "# Print the coherence scores\n",
    "for m, cv in zip(x, coherence_values):\n",
    "    print(\"Num Topics =\", m, \" has Coherence Value of\", round(cv, 4))"
   ]
  },
  {
   "cell_type": "code",
   "execution_count": 39,
   "metadata": {},
   "outputs": [],
   "source": [
    "idealNumberOfTopics =  40"
   ]
  },
  {
   "cell_type": "code",
   "execution_count": null,
   "metadata": {},
   "outputs": [],
   "source": [
    "# Build LDA model\n",
    "lda_model_optimal = gensim.models.ldamodel.LdaModel(corpus=corpus_bag_of_words,\n",
    "                                           id2word=dictionary,\n",
    "                                           num_topics= idealNumberOfTopics, \n",
    "                                           random_state=100,\n",
    "                                           update_every=1,\n",
    "                                           chunksize=100,\n",
    "                                           passes=10,\n",
    "                                           alpha='auto',\n",
    "                                           per_word_topics=False)"
   ]
  },
  {
   "cell_type": "code",
   "execution_count": 43,
   "metadata": {},
   "outputs": [
    {
     "name": "stdout",
     "output_type": "stream",
     "text": [
      "Topic: 1 \n",
      "\t 0.026*\"dd\" + 0.013*\"cortex\" + 0.011*\"tenant\" + 0.010*\"id\" + 0.008*\"relate\" + 0.007*\"iv\" + 0.006*\"reserved\" + 0.006*\"replay\" + 0.006*\"bd\" + 0.006*\"callidus\"\n",
      "Topic: 2 \n",
      "\t 0.026*\"pan_orient\" + 0.021*\"thailand_joint\" + 0.021*\"questor\" + 0.015*\"thailand\" + 0.013*\"dorel\" + 0.012*\"mcteague\" + 0.008*\"mgx\" + 0.006*\"foscolos\" + 0.006*\"brine\" + 0.005*\"questortech\"\n",
      "Topic: 3 \n",
      "\t 0.020*\"company\" + 0.013*\"snc\" + 0.011*\"markets_stocks\" + 0.010*\"bruce\" + 0.008*\"employees\" + 0.007*\"would\" + 0.007*\"one\" + 0.007*\"presentation\" + 0.006*\"could\" + 0.006*\"says\"\n",
      "Topic: 4 \n",
      "\t 0.090*\"cannabis\" + 0.020*\"legalization\" + 0.019*\"housing\" + 0.016*\"market\" + 0.015*\"survey\" + 0.015*\"health\" + 0.014*\"home\" + 0.014*\"supply\" + 0.013*\"sales\" + 0.012*\"legal\"\n",
      "Topic: 5 \n",
      "\t 0.021*\"epp\" + 0.014*\"left\" + 0.013*\"politics\" + 0.011*\"thestar\" + 0.009*\"populist\" + 0.008*\"toronto\" + 0.008*\"right\" + 0.008*\"bikes\" + 0.008*\"populism\" + 0.007*\"word\"\n",
      "Topic: 6 \n",
      "\t 0.019*\"company\" + 0.018*\"information\" + 0.014*\"statements\" + 0.013*\"forward_looking\" + 0.008*\"may\" + 0.007*\"including\" + 0.006*\"news_release\" + 0.006*\"corporation\" + 0.005*\"financial\" + 0.005*\"expense\"\n",
      "Topic: 7 \n",
      "\t 0.017*\"alec\" + 0.017*\"delaney\" + 0.016*\"walmart\" + 0.016*\"mayoral\" + 0.012*\"rowland\" + 0.009*\"nicola\" + 0.008*\"reactivation\" + 0.008*\"josie\" + 0.008*\"matias\" + 0.006*\"dalhousie\"\n",
      "Topic: 8 \n",
      "\t 0.009*\"alberta\" + 0.009*\"government\" + 0.009*\"canada\" + 0.008*\"people\" + 0.008*\"would\" + 0.007*\"calgary\" + 0.007*\"one\" + 0.007*\"get\" + 0.006*\"new\" + 0.006*\"time\"\n",
      "Topic: 9 \n",
      "\t 0.028*\"theglobeandmail\" + 0.025*\"article\" + 0.024*\"canada\" + 0.009*\"mail\" + 0.008*\"us\" + 0.008*\"globe\" + 0.007*\"politics\" + 0.007*\"deal\" + 0.006*\"business\" + 0.006*\"world\"\n",
      "Topic: 10 \n",
      "\t 0.028*\"photo\" + 0.025*\"sent_words\" + 0.020*\"words\" + 0.019*\"photos\" + 0.011*\"says\" + 0.009*\"trump\" + 0.009*\"ottawa\" + 0.008*\"election\" + 0.006*\"new\" + 0.005*\"toronto\"\n",
      "Topic: 11 \n",
      "\t 0.054*\"ces\" + 0.034*\"liquids_mboe\" + 0.026*\"mboe\" + 0.020*\"nxt\" + 0.019*\"annuity_maintenance\" + 0.015*\"software_license\" + 0.014*\"previous_fiscal\" + 0.012*\"deferred_revenue\" + 0.012*\"license_revenue\" + 0.010*\"nig\"\n",
      "Topic: 12 \n",
      "\t 0.030*\"commentid\" + 0.025*\"comments\" + 0.013*\"redevelop\" + 0.012*\"readers\" + 0.009*\"quebecers\" + 0.008*\"amid_slumping\" + 0.006*\"cd\" + 0.006*\"bow\" + 0.006*\"gives_speech\" + 0.005*\"fa\"\n",
      "Topic: 13 \n",
      "\t 0.028*\"doodle\" + 0.023*\"drumheller\" + 0.023*\"tyrrell\" + 0.017*\"doodles\" + 0.012*\"julie\" + 0.011*\"googlers\" + 0.011*\"albertosaurus\" + 0.011*\"badlands\" + 0.009*\"pellets\" + 0.009*\"left_leaning\"\n",
      "Topic: 14 \n",
      "\t 0.025*\"per_cent\" + 0.013*\"year\" + 0.010*\"canada\" + 0.010*\"canadian\" + 0.009*\"oil\" + 0.008*\"prices\" + 0.008*\"us\" + 0.008*\"market\" + 0.006*\"also\" + 0.006*\"markets\"\n",
      "Topic: 15 \n",
      "\t 0.011*\"apples\" + 0.002*\"orchard\" + 0.000*\"titles\" + 0.000*\"milwaukee\" + 0.000*\"pleasantly\" + 0.000*\"petite\" + 0.000*\"physique\" + 0.000*\"piccadilly\" + 0.000*\"pepper\" + 0.000*\"raif\"\n",
      "Topic: 16 \n",
      "\t 0.024*\"mustard\" + 0.014*\"juice\" + 0.012*\"provision\" + 0.010*\"distraction\" + 0.008*\"lalousis\" + 0.007*\"brightly\" + 0.007*\"declares\" + 0.006*\"flavours\" + 0.006*\"maille\" + 0.006*\"dijon\"\n",
      "Topic: 17 \n",
      "\t 0.041*\"hosts\" + 0.041*\"work_camp\" + 0.021*\"stack\" + 0.019*\"spokesman\" + 0.014*\"traverse\" + 0.013*\"shelters\" + 0.011*\"preserve\" + 0.010*\"propane\" + 0.010*\"modular\" + 0.010*\"enbridge\"\n",
      "Topic: 18 \n",
      "\t 0.017*\"million\" + 0.015*\"company\" + 0.015*\"production\" + 0.012*\"oil\" + 0.012*\"per\" + 0.011*\"natural_gas\" + 0.008*\"operations\" + 0.007*\"total\" + 0.007*\"revenue\" + 0.007*\"operating\"\n",
      "Topic: 19 \n",
      "\t 0.039*\"city\" + 0.021*\"council\" + 0.020*\"station\" + 0.017*\"rally\" + 0.015*\"motion\" + 0.010*\"speakers\" + 0.009*\"action\" + 0.009*\"interfering\" + 0.009*\"rocky_mountain\" + 0.008*\"twitter_bren_doherty\"\n",
      "Topic: 20 \n",
      "\t 0.037*\"theglobeandmail\" + 0.024*\"article\" + 0.020*\"market\" + 0.019*\"stocks\" + 0.017*\"investing_markets\" + 0.013*\"stock\" + 0.011*\"inside\" + 0.011*\"investors\" + 0.010*\"globe_investor\" + 0.009*\"subscribers\"\n",
      "Topic: 21 \n",
      "\t 0.032*\"rental\" + 0.031*\"rent\" + 0.020*\"transit\" + 0.019*\"bike\" + 0.017*\"rents\" + 0.014*\"budget_documents\" + 0.014*\"city\" + 0.013*\"purpose_built\" + 0.012*\"property\" + 0.010*\"star\"\n",
      "Topic: 22 \n",
      "\t 0.041*\"oil\" + 0.022*\"alberta\" + 0.015*\"energy\" + 0.012*\"industry\" + 0.012*\"canada\" + 0.011*\"gas\" + 0.010*\"billion\" + 0.009*\"government\" + 0.009*\"would\" + 0.008*\"companies\"\n",
      "Topic: 23 \n",
      "\t 0.029*\"iron\" + 0.022*\"sheraton\" + 0.020*\"reviewing\" + 0.016*\"birds\" + 0.012*\"implementation\" + 0.010*\"marriott\" + 0.009*\"melanie\" + 0.008*\"examination\" + 0.008*\"nazi\" + 0.008*\"startup\"\n",
      "Topic: 24 \n",
      "\t 0.041*\"ppr_shares\" + 0.022*\"atlas\" + 0.018*\"gossain\" + 0.012*\"cultivation\" + 0.010*\"ancillary_transactions\" + 0.009*\"prudential\" + 0.009*\"issuable\" + 0.009*\"nacg\" + 0.009*\"restated\" + 0.008*\"subscription_receipts\"\n",
      "Topic: 25 \n",
      "\t 0.041*\"vancouver\" + 0.034*\"theglobeandmail\" + 0.030*\"article\" + 0.027*\"british_columbia\" + 0.017*\"housing\" + 0.016*\"surrey\" + 0.013*\"units\" + 0.013*\"new\" + 0.009*\"week\" + 0.007*\"cmhc\"\n",
      "Topic: 26 \n",
      "\t 0.023*\"government\" + 0.023*\"carbon_tax\" + 0.021*\"federal\" + 0.017*\"emissions\" + 0.017*\"higgs\" + 0.015*\"carbon\" + 0.014*\"provinces\" + 0.014*\"trudeau\" + 0.012*\"ottawa\" + 0.012*\"tax\"\n",
      "Topic: 27 \n",
      "\t 0.017*\"one\" + 0.010*\"ellis\" + 0.010*\"cleanup\" + 0.010*\"land\" + 0.008*\"story\" + 0.005*\"jim\" + 0.005*\"discovery\" + 0.005*\"wells\" + 0.005*\"life\" + 0.005*\"old\"\n",
      "Topic: 28 \n",
      "\t 0.050*\"strad\" + 0.023*\"industrial_matting\" + 0.017*\"matting\" + 0.015*\"matting_fleet\" + 0.015*\"voting_rights\" + 0.014*\"funded_debt\" + 0.013*\"ebit\" + 0.012*\"stradenergy\" + 0.011*\"property_plant\" + 0.010*\"reconciliations\"\n",
      "Topic: 29 \n",
      "\t 0.017*\"corporate\" + 0.015*\"ms\" + 0.013*\"alberta\" + 0.013*\"nationalism\" + 0.012*\"canada\" + 0.011*\"venture\" + 0.010*\"program\" + 0.009*\"finance\" + 0.009*\"board\" + 0.009*\"matters\"\n",
      "Topic: 30 \n",
      "\t 0.016*\"quarterly_profit\" + 0.013*\"graphic\" + 0.010*\"shippers\" + 0.010*\"recover\" + 0.009*\"careers\" + 0.009*\"exceeding\" + 0.008*\"depressed\" + 0.008*\"slowdown\" + 0.008*\"headquarters\" + 0.007*\"shutdowns\"\n",
      "Topic: 31 \n",
      "\t 0.028*\"glogovac\" + 0.028*\"leszczyc\" + 0.027*\"miller\" + 0.025*\"licensed_producers\" + 0.020*\"donated\" + 0.018*\"omarmosleh\" + 0.018*\"jason\" + 0.017*\"licensed\" + 0.014*\"dampier\" + 0.014*\"aglc\"\n",
      "Topic: 32 \n",
      "\t 0.033*\"mr\" + 0.022*\"pages\" + 0.018*\"canada\" + 0.016*\"law\" + 0.012*\"class_actions\" + 0.009*\"commercial_litigation\" + 0.007*\"practice_focuses\" + 0.006*\"bennett_jones\" + 0.006*\"product_liability\" + 0.006*\"bio\"\n",
      "Topic: 33 \n",
      "\t 0.022*\"clearstream\" + 0.020*\"homelessness\" + 0.019*\"greyhound\" + 0.015*\"sagd\" + 0.011*\"assisted\" + 0.010*\"watt\" + 0.009*\"queer\" + 0.009*\"hockey\" + 0.008*\"dominance\" + 0.007*\"touches\"\n",
      "Topic: 34 \n",
      "\t 0.115*\"litigation\" + 0.045*\"practice\" + 0.029*\"proceedings\" + 0.020*\"clients\" + 0.017*\"vessel\" + 0.013*\"levels\" + 0.011*\"grain\" + 0.009*\"arbitrator\" + 0.008*\"represents\" + 0.007*\"shareholder\"\n",
      "Topic: 35 \n",
      "\t 0.053*\"suncor\" + 0.046*\"inc\" + 0.043*\"corp\" + 0.034*\"liquids\" + 0.029*\"llp\" + 0.024*\"energy\" + 0.024*\"tsx\" + 0.024*\"ltd\" + 0.020*\"insurance\" + 0.018*\"cenovus\"\n",
      "Topic: 36 \n",
      "\t 0.021*\"smithe_st\" + 0.020*\"murder_interfering\" + 0.020*\"daniel_goodridge\" + 0.020*\"smithe\" + 0.010*\"webcasts\" + 0.010*\"bauschhealth\" + 0.010*\"niverville\" + 0.010*\"jsp\" + 0.010*\"ei\" + 0.010*\"livingstone\"\n",
      "Topic: 37 \n",
      "\t 0.025*\"family\" + 0.014*\"life\" + 0.013*\"years\" + 0.012*\"november\" + 0.010*\"university\" + 0.010*\"toronto\" + 0.009*\"friends\" + 0.009*\"many\" + 0.008*\"children\" + 0.007*\"charities\"\n",
      "Topic: 38 \n",
      "\t 0.010*\"canada\" + 0.008*\"toronto\" + 0.007*\"court\" + 0.005*\"first\" + 0.005*\"two\" + 0.005*\"vancouver\" + 0.005*\"results\" + 0.005*\"canadian\" + 0.004*\"year\" + 0.004*\"calgary\"\n",
      "Topic: 39 \n",
      "\t 0.006*\"pieridae\" + 0.002*\"pea\" + 0.001*\"noivrzsvxky\" + 0.001*\"litoski\" + 0.001*\"oytlz\" + 0.001*\"refiled\" + 0.001*\"i_abzywt\" + 0.001*\"usi\" + 0.001*\"rjtv\" + 0.001*\"bgl\"\n",
      "Topic: 40 \n",
      "\t 0.011*\"brexit_secretary\" + 0.009*\"raab\" + 0.008*\"enterprises\" + 0.007*\"axl\" + 0.005*\"guinea\" + 0.005*\"papua\" + 0.005*\"meth\" + 0.004*\"purely\" + 0.004*\"potter\" + 0.004*\"kristallnacht\"\n"
     ]
    }
   ],
   "source": [
    "# Print the Keyword in the topics\n",
    "topic_output = lda_model_optimal.print_topics(idealNumberOfTopics)\n",
    "\n",
    "for topicTuple in topic_output:\n",
    "    index = topicTuple[0]+1 # recall that list indices start at 0\n",
    "    print (\"Topic:\", index, \"\\n\\t\", topicTuple[1])"
   ]
  },
  {
   "cell_type": "code",
   "execution_count": 48,
   "metadata": {},
   "outputs": [
    {
     "data": {
      "text/html": [
       "\n",
       "<link rel=\"stylesheet\" type=\"text/css\" href=\"https://cdn.rawgit.com/bmabey/pyLDAvis/files/ldavis.v1.0.0.css\">\n",
       "\n",
       "\n",
       "<div id=\"ldavis_el776491124092616644757967275\"></div>\n",
       "<script type=\"text/javascript\">\n",
       "\n",
       "var ldavis_el776491124092616644757967275_data = {\"mdsDat\": {\"x\": [0.14639826880717366, 0.12937142319726966, -0.13996509896474252, 0.026617015731590143, -0.0576111026215754, -0.27760109845507064, 0.14529351581214622, -0.32478261944874925, -0.23926115030588294, -0.19175266154277248, 0.11914884389285818, 0.14476352307370732, 0.14587036505864684, -0.31480058056576, 0.1409050502450391, 0.14620818463239046, 0.14302076537401093, -0.28190380884422117, 0.11946862633754135, -0.21668824902341347, 0.11094196148729435, -0.32901098351466257, 0.14106796382451994, 0.14630134090747376, -0.024636861669576553, -0.1764432870628241, -0.11744468951742554, 0.14012413930647724, -0.02710472421712815, 0.11406453471390145, 0.14010412912457665, 0.06313903348574357, 0.14567754015724077, 0.13181649822666655, 0.003418219521327867, 0.13429123571060034, -0.03608419607239532, -0.21127790887907258, 0.14117614643379942, 0.14718069564327682], \"y\": [0.00826733027801989, 0.016809202462600425, -0.033683139815621, 0.018963723730573263, -0.12483702582069661, 0.22563362179738775, 0.003243949007284219, -0.12305683158098574, -0.16097082444779215, -0.19984023211190702, 0.017354048282150633, 0.008540715053601489, 0.006528069295323368, 0.09585282478750569, -0.000500912252854718, 0.004233922144493054, 0.00892842489215167, 0.2865626416833448, -0.0068729837043712055, 0.09653699128988337, -0.0023146657275664707, 0.04520325977282129, 0.007548056039687816, 0.006261181463690019, -0.036817905189718406, -0.10591083432187025, -0.09408145236188108, 0.012507930389691675, 0.04707727957518956, 0.011010251452566417, 0.008089430461602563, 0.013829795481346115, 0.003555032940296186, 0.01368196966335733, 0.11383352662449261, 0.011724650990921784, -0.07858083660070715, -0.12866752251492744, -0.0004106067741701008, 0.004767943665084888], \"topics\": [1, 2, 3, 4, 5, 6, 7, 8, 9, 10, 11, 12, 13, 14, 15, 16, 17, 18, 19, 20, 21, 22, 23, 24, 25, 26, 27, 28, 29, 30, 31, 32, 33, 34, 35, 36, 37, 38, 39, 40], \"cluster\": [1, 1, 1, 1, 1, 1, 1, 1, 1, 1, 1, 1, 1, 1, 1, 1, 1, 1, 1, 1, 1, 1, 1, 1, 1, 1, 1, 1, 1, 1, 1, 1, 1, 1, 1, 1, 1, 1, 1, 1], \"Freq\": [0.13602374494075775, 0.19996890425682068, 2.0506155490875244, 0.5073307156562805, 1.293157935142517, 6.926701068878174, 0.028453746810555458, 12.888336181640625, 5.5165252685546875, 6.776141166687012, 0.19362689554691315, 0.13331018388271332, 0.06407588720321655, 16.108789443969727, 0.0034476041328161955, 0.06847765296697617, 0.11505312472581863, 9.650312423706055, 0.2699022591114044, 3.480700731277466, 0.3601703345775604, 9.815153121948242, 0.16490548849105835, 0.05595328286290169, 0.7890617251396179, 2.262713670730591, 2.3266923427581787, 0.12023349851369858, 1.02012300491333, 0.5000095367431641, 0.09277945011854172, 1.0896756649017334, 0.05665094777941704, 0.23462359607219696, 0.5664076209068298, 0.056343451142311096, 1.9079622030258179, 12.10804557800293, 0.006013149861246347, 0.05553096905350685]}, \"tinfo\": {\"Category\": [\"Default\", \"Default\", \"Default\", \"Default\", \"Default\", \"Default\", \"Default\", \"Default\", \"Default\", \"Default\", \"Default\", \"Default\", \"Default\", \"Default\", \"Default\", \"Default\", \"Default\", \"Default\", \"Default\", \"Default\", \"Default\", \"Default\", \"Default\", \"Default\", \"Default\", \"Default\", \"Default\", \"Default\", \"Default\", \"Default\", \"Topic1\", \"Topic1\", \"Topic1\", \"Topic1\", \"Topic1\", \"Topic1\", \"Topic1\", \"Topic1\", \"Topic1\", \"Topic1\", \"Topic1\", \"Topic1\", \"Topic1\", \"Topic1\", \"Topic1\", \"Topic1\", \"Topic1\", \"Topic1\", \"Topic1\", \"Topic1\", \"Topic1\", \"Topic1\", \"Topic1\", \"Topic1\", \"Topic1\", \"Topic1\", \"Topic1\", \"Topic1\", \"Topic1\", \"Topic1\", \"Topic2\", \"Topic2\", \"Topic2\", \"Topic2\", \"Topic2\", \"Topic2\", \"Topic2\", \"Topic2\", \"Topic2\", \"Topic2\", \"Topic2\", \"Topic2\", \"Topic2\", \"Topic2\", \"Topic2\", \"Topic2\", \"Topic2\", \"Topic2\", \"Topic2\", \"Topic2\", \"Topic2\", \"Topic2\", \"Topic2\", \"Topic2\", \"Topic2\", \"Topic2\", \"Topic2\", \"Topic2\", \"Topic2\", \"Topic2\", \"Topic2\", \"Topic2\", \"Topic2\", \"Topic2\", \"Topic2\", \"Topic2\", \"Topic2\", \"Topic2\", \"Topic2\", \"Topic2\", \"Topic2\", \"Topic2\", \"Topic3\", \"Topic3\", \"Topic3\", \"Topic3\", \"Topic3\", \"Topic3\", \"Topic3\", \"Topic3\", \"Topic3\", \"Topic3\", \"Topic3\", \"Topic3\", \"Topic3\", \"Topic3\", \"Topic3\", \"Topic3\", \"Topic3\", \"Topic3\", \"Topic3\", \"Topic3\", \"Topic3\", \"Topic3\", \"Topic3\", \"Topic3\", \"Topic3\", \"Topic3\", \"Topic3\", \"Topic3\", \"Topic3\", \"Topic3\", \"Topic3\", \"Topic3\", \"Topic3\", \"Topic3\", \"Topic3\", \"Topic3\", \"Topic3\", \"Topic3\", \"Topic3\", \"Topic3\", \"Topic3\", \"Topic3\", \"Topic3\", \"Topic3\", \"Topic3\", \"Topic3\", \"Topic3\", \"Topic3\", \"Topic3\", \"Topic3\", \"Topic3\", \"Topic3\", \"Topic3\", \"Topic3\", \"Topic3\", \"Topic3\", \"Topic3\", \"Topic3\", \"Topic3\", \"Topic3\", \"Topic3\", \"Topic3\", \"Topic3\", \"Topic3\", \"Topic4\", \"Topic4\", \"Topic4\", \"Topic4\", \"Topic4\", \"Topic4\", \"Topic4\", \"Topic4\", \"Topic4\", \"Topic4\", \"Topic4\", \"Topic4\", \"Topic4\", \"Topic4\", \"Topic4\", \"Topic4\", \"Topic4\", \"Topic4\", \"Topic4\", \"Topic4\", \"Topic4\", \"Topic4\", \"Topic4\", \"Topic4\", \"Topic4\", \"Topic4\", \"Topic4\", \"Topic4\", \"Topic4\", \"Topic4\", \"Topic4\", \"Topic4\", \"Topic4\", \"Topic4\", \"Topic4\", \"Topic4\", \"Topic4\", \"Topic4\", \"Topic4\", \"Topic4\", \"Topic4\", \"Topic4\", \"Topic4\", \"Topic4\", \"Topic4\", \"Topic4\", \"Topic4\", \"Topic4\", \"Topic4\", \"Topic4\", \"Topic4\", \"Topic4\", \"Topic4\", \"Topic4\", \"Topic4\", \"Topic4\", \"Topic4\", \"Topic4\", \"Topic4\", \"Topic4\", \"Topic5\", \"Topic5\", \"Topic5\", \"Topic5\", \"Topic5\", \"Topic5\", \"Topic5\", \"Topic5\", \"Topic5\", \"Topic5\", \"Topic5\", \"Topic5\", \"Topic5\", \"Topic5\", \"Topic5\", \"Topic5\", \"Topic5\", \"Topic5\", \"Topic5\", \"Topic5\", \"Topic5\", \"Topic5\", \"Topic5\", \"Topic5\", \"Topic5\", \"Topic5\", \"Topic5\", \"Topic5\", \"Topic5\", \"Topic5\", \"Topic5\", \"Topic5\", \"Topic5\", \"Topic5\", \"Topic5\", \"Topic5\", \"Topic5\", \"Topic5\", \"Topic5\", \"Topic5\", \"Topic5\", \"Topic5\", \"Topic5\", \"Topic5\", \"Topic5\", \"Topic5\", \"Topic5\", \"Topic5\", \"Topic5\", \"Topic5\", \"Topic5\", \"Topic5\", \"Topic5\", \"Topic5\", \"Topic5\", \"Topic5\", \"Topic6\", \"Topic6\", \"Topic6\", \"Topic6\", \"Topic6\", \"Topic6\", \"Topic6\", \"Topic6\", \"Topic6\", \"Topic6\", \"Topic6\", \"Topic6\", \"Topic6\", \"Topic6\", \"Topic6\", \"Topic6\", \"Topic6\", \"Topic6\", \"Topic6\", \"Topic6\", \"Topic6\", \"Topic6\", \"Topic6\", \"Topic6\", \"Topic6\", \"Topic6\", \"Topic6\", \"Topic6\", \"Topic6\", \"Topic6\", \"Topic6\", \"Topic6\", \"Topic6\", \"Topic6\", \"Topic6\", \"Topic6\", \"Topic6\", \"Topic6\", \"Topic6\", \"Topic6\", \"Topic6\", \"Topic6\", \"Topic6\", \"Topic6\", \"Topic6\", \"Topic6\", \"Topic6\", \"Topic6\", \"Topic6\", \"Topic6\", \"Topic6\", \"Topic6\", \"Topic6\", \"Topic6\", \"Topic6\", \"Topic6\", \"Topic6\", \"Topic6\", \"Topic6\", \"Topic6\", \"Topic6\", \"Topic6\", \"Topic6\", \"Topic6\", \"Topic6\", \"Topic6\", \"Topic6\", \"Topic6\", \"Topic6\", \"Topic6\", \"Topic7\", \"Topic7\", \"Topic7\", \"Topic7\", \"Topic7\", \"Topic7\", \"Topic7\", \"Topic7\", \"Topic7\", \"Topic7\", \"Topic7\", \"Topic7\", \"Topic7\", \"Topic7\", \"Topic7\", \"Topic7\", \"Topic7\", \"Topic7\", \"Topic7\", \"Topic7\", \"Topic7\", \"Topic7\", \"Topic7\", \"Topic7\", \"Topic7\", \"Topic7\", \"Topic7\", \"Topic7\", \"Topic7\", \"Topic7\", \"Topic7\", \"Topic8\", \"Topic8\", \"Topic8\", \"Topic8\", \"Topic8\", \"Topic8\", \"Topic8\", \"Topic8\", \"Topic8\", \"Topic8\", \"Topic8\", \"Topic8\", \"Topic8\", \"Topic8\", \"Topic8\", \"Topic8\", \"Topic8\", \"Topic8\", \"Topic8\", \"Topic8\", \"Topic8\", \"Topic8\", \"Topic8\", \"Topic8\", \"Topic8\", \"Topic8\", \"Topic8\", \"Topic8\", \"Topic8\", \"Topic8\", \"Topic8\", \"Topic8\", \"Topic8\", \"Topic8\", \"Topic8\", \"Topic8\", \"Topic8\", \"Topic8\", \"Topic8\", \"Topic8\", \"Topic8\", \"Topic8\", \"Topic8\", \"Topic8\", \"Topic8\", \"Topic8\", \"Topic8\", \"Topic8\", \"Topic8\", \"Topic8\", \"Topic8\", \"Topic8\", \"Topic8\", \"Topic8\", \"Topic8\", \"Topic8\", \"Topic8\", \"Topic8\", \"Topic8\", \"Topic8\", \"Topic8\", \"Topic8\", \"Topic8\", \"Topic8\", \"Topic8\", \"Topic8\", \"Topic8\", \"Topic8\", \"Topic8\", \"Topic8\", \"Topic8\", \"Topic8\", \"Topic8\", \"Topic8\", \"Topic8\", \"Topic8\", \"Topic8\", \"Topic8\", \"Topic8\", \"Topic8\", \"Topic8\", \"Topic8\", \"Topic8\", \"Topic8\", \"Topic8\", \"Topic8\", \"Topic9\", \"Topic9\", \"Topic9\", \"Topic9\", \"Topic9\", \"Topic9\", \"Topic9\", \"Topic9\", \"Topic9\", \"Topic9\", \"Topic9\", \"Topic9\", \"Topic9\", \"Topic9\", \"Topic9\", \"Topic9\", \"Topic9\", \"Topic9\", \"Topic9\", \"Topic9\", \"Topic9\", \"Topic9\", \"Topic9\", \"Topic9\", \"Topic9\", \"Topic9\", \"Topic9\", \"Topic9\", \"Topic9\", \"Topic9\", \"Topic9\", \"Topic9\", \"Topic9\", \"Topic9\", \"Topic9\", \"Topic9\", \"Topic9\", \"Topic9\", \"Topic9\", \"Topic9\", \"Topic9\", \"Topic9\", \"Topic9\", \"Topic9\", \"Topic9\", \"Topic9\", \"Topic9\", \"Topic9\", \"Topic9\", \"Topic9\", \"Topic9\", \"Topic9\", \"Topic9\", \"Topic9\", \"Topic9\", \"Topic9\", \"Topic9\", \"Topic9\", \"Topic9\", \"Topic9\", \"Topic9\", \"Topic9\", \"Topic9\", \"Topic9\", \"Topic9\", \"Topic9\", \"Topic9\", \"Topic9\", \"Topic10\", \"Topic10\", \"Topic10\", \"Topic10\", \"Topic10\", \"Topic10\", \"Topic10\", \"Topic10\", \"Topic10\", \"Topic10\", \"Topic10\", \"Topic10\", \"Topic10\", \"Topic10\", \"Topic10\", \"Topic10\", \"Topic10\", \"Topic10\", \"Topic10\", \"Topic10\", \"Topic10\", \"Topic10\", \"Topic10\", \"Topic10\", \"Topic10\", \"Topic10\", \"Topic10\", \"Topic10\", \"Topic10\", \"Topic10\", \"Topic10\", \"Topic10\", \"Topic10\", \"Topic10\", \"Topic10\", \"Topic10\", \"Topic10\", \"Topic10\", \"Topic10\", \"Topic10\", \"Topic10\", \"Topic10\", \"Topic10\", \"Topic10\", \"Topic10\", \"Topic10\", \"Topic10\", \"Topic10\", \"Topic10\", \"Topic10\", \"Topic10\", \"Topic10\", \"Topic10\", \"Topic10\", \"Topic10\", \"Topic10\", \"Topic10\", \"Topic10\", \"Topic10\", \"Topic11\", \"Topic11\", \"Topic11\", \"Topic11\", \"Topic11\", \"Topic11\", \"Topic11\", \"Topic11\", \"Topic11\", \"Topic11\", \"Topic11\", \"Topic11\", \"Topic11\", \"Topic11\", \"Topic11\", \"Topic11\", \"Topic11\", \"Topic11\", \"Topic11\", \"Topic11\", \"Topic11\", \"Topic11\", \"Topic11\", \"Topic11\", \"Topic11\", \"Topic11\", \"Topic11\", \"Topic11\", \"Topic11\", \"Topic11\", \"Topic11\", \"Topic12\", \"Topic12\", \"Topic12\", \"Topic12\", \"Topic12\", \"Topic12\", \"Topic12\", \"Topic12\", \"Topic12\", \"Topic12\", \"Topic12\", \"Topic12\", \"Topic12\", \"Topic12\", \"Topic12\", \"Topic12\", \"Topic12\", \"Topic12\", \"Topic12\", \"Topic12\", \"Topic12\", \"Topic12\", \"Topic12\", \"Topic12\", \"Topic12\", \"Topic12\", \"Topic12\", \"Topic12\", \"Topic12\", \"Topic12\", \"Topic12\", \"Topic12\", \"Topic12\", \"Topic12\", \"Topic12\", \"Topic12\", \"Topic12\", \"Topic12\", \"Topic12\", \"Topic12\", \"Topic12\", \"Topic12\", \"Topic12\", \"Topic12\", \"Topic13\", \"Topic13\", \"Topic13\", \"Topic13\", \"Topic13\", \"Topic13\", \"Topic13\", \"Topic13\", \"Topic13\", \"Topic13\", \"Topic13\", \"Topic13\", \"Topic13\", \"Topic13\", \"Topic13\", \"Topic13\", \"Topic13\", \"Topic13\", \"Topic13\", \"Topic13\", \"Topic13\", \"Topic13\", \"Topic13\", \"Topic13\", \"Topic13\", \"Topic13\", \"Topic13\", \"Topic13\", \"Topic13\", \"Topic13\", \"Topic13\", \"Topic14\", \"Topic14\", \"Topic14\", \"Topic14\", \"Topic14\", \"Topic14\", \"Topic14\", \"Topic14\", \"Topic14\", \"Topic14\", \"Topic14\", \"Topic14\", \"Topic14\", \"Topic14\", \"Topic14\", \"Topic14\", \"Topic14\", \"Topic14\", \"Topic14\", \"Topic14\", \"Topic14\", \"Topic14\", \"Topic14\", \"Topic14\", \"Topic14\", \"Topic14\", \"Topic14\", \"Topic14\", \"Topic14\", \"Topic14\", \"Topic14\", \"Topic14\", \"Topic14\", \"Topic14\", \"Topic14\", \"Topic14\", \"Topic14\", \"Topic14\", \"Topic14\", \"Topic14\", \"Topic14\", \"Topic14\", \"Topic14\", \"Topic14\", \"Topic14\", \"Topic14\", \"Topic14\", \"Topic14\", \"Topic14\", \"Topic14\", \"Topic14\", \"Topic14\", \"Topic14\", \"Topic14\", \"Topic14\", \"Topic14\", \"Topic14\", \"Topic14\", \"Topic14\", \"Topic14\", \"Topic14\", \"Topic14\", \"Topic14\", \"Topic14\", \"Topic14\", \"Topic14\", \"Topic14\", \"Topic14\", \"Topic14\", \"Topic14\", \"Topic14\", \"Topic14\", \"Topic14\", \"Topic14\", \"Topic14\", \"Topic14\", \"Topic14\", \"Topic14\", \"Topic15\", \"Topic15\", \"Topic15\", \"Topic15\", \"Topic15\", \"Topic15\", \"Topic15\", \"Topic15\", \"Topic15\", \"Topic15\", \"Topic15\", \"Topic15\", \"Topic15\", \"Topic15\", \"Topic15\", \"Topic15\", \"Topic15\", \"Topic15\", \"Topic15\", \"Topic15\", \"Topic15\", \"Topic15\", \"Topic15\", \"Topic15\", \"Topic15\", \"Topic15\", \"Topic15\", \"Topic15\", \"Topic15\", \"Topic15\", \"Topic15\", \"Topic15\", \"Topic15\", \"Topic15\", \"Topic15\", \"Topic15\", \"Topic15\", \"Topic15\", \"Topic15\", \"Topic15\", \"Topic15\", \"Topic15\", \"Topic15\", \"Topic15\", \"Topic15\", \"Topic15\", \"Topic15\", \"Topic15\", \"Topic15\", \"Topic15\", \"Topic15\", \"Topic15\", \"Topic15\", \"Topic15\", \"Topic15\", \"Topic15\", \"Topic15\", \"Topic15\", \"Topic15\", \"Topic15\", \"Topic16\", \"Topic16\", \"Topic16\", \"Topic16\", \"Topic16\", \"Topic16\", \"Topic16\", \"Topic16\", \"Topic16\", \"Topic16\", \"Topic16\", \"Topic16\", \"Topic16\", \"Topic16\", \"Topic16\", \"Topic16\", \"Topic16\", \"Topic16\", \"Topic16\", \"Topic16\", \"Topic16\", \"Topic16\", \"Topic16\", \"Topic16\", \"Topic16\", \"Topic16\", \"Topic16\", \"Topic16\", \"Topic16\", \"Topic16\", \"Topic16\", \"Topic16\", \"Topic16\", \"Topic17\", \"Topic17\", \"Topic17\", \"Topic17\", \"Topic17\", \"Topic17\", \"Topic17\", \"Topic17\", \"Topic17\", \"Topic17\", \"Topic17\", \"Topic17\", \"Topic17\", \"Topic17\", \"Topic17\", \"Topic17\", \"Topic17\", \"Topic17\", \"Topic17\", \"Topic17\", \"Topic17\", \"Topic17\", \"Topic17\", \"Topic17\", \"Topic17\", \"Topic17\", \"Topic17\", \"Topic17\", \"Topic17\", \"Topic17\", \"Topic17\", \"Topic17\", \"Topic17\", \"Topic17\", \"Topic17\", \"Topic17\", \"Topic17\", \"Topic18\", \"Topic18\", \"Topic18\", \"Topic18\", \"Topic18\", \"Topic18\", \"Topic18\", \"Topic18\", \"Topic18\", \"Topic18\", \"Topic18\", \"Topic18\", \"Topic18\", \"Topic18\", \"Topic18\", \"Topic18\", \"Topic18\", \"Topic18\", \"Topic18\", \"Topic18\", \"Topic18\", \"Topic18\", \"Topic18\", \"Topic18\", \"Topic18\", \"Topic18\", \"Topic18\", \"Topic18\", \"Topic18\", \"Topic18\", \"Topic18\", \"Topic18\", \"Topic18\", \"Topic18\", \"Topic18\", \"Topic18\", \"Topic18\", \"Topic18\", \"Topic18\", \"Topic18\", \"Topic18\", \"Topic18\", \"Topic18\", \"Topic18\", \"Topic18\", \"Topic18\", \"Topic18\", \"Topic18\", \"Topic18\", \"Topic18\", \"Topic18\", \"Topic18\", \"Topic18\", \"Topic18\", \"Topic18\", \"Topic18\", \"Topic18\", \"Topic18\", \"Topic18\", \"Topic18\", \"Topic18\", \"Topic18\", \"Topic18\", \"Topic18\", \"Topic18\", \"Topic18\", \"Topic18\", \"Topic18\", \"Topic18\", \"Topic18\", \"Topic18\", \"Topic19\", \"Topic19\", \"Topic19\", \"Topic19\", \"Topic19\", \"Topic19\", \"Topic19\", \"Topic19\", \"Topic19\", \"Topic19\", \"Topic19\", \"Topic19\", \"Topic19\", \"Topic19\", \"Topic19\", \"Topic19\", \"Topic19\", \"Topic19\", \"Topic19\", \"Topic19\", \"Topic19\", \"Topic19\", \"Topic19\", \"Topic19\", \"Topic19\", \"Topic19\", \"Topic19\", \"Topic19\", \"Topic19\", \"Topic19\", \"Topic19\", \"Topic19\", \"Topic19\", \"Topic19\", \"Topic19\", \"Topic19\", \"Topic19\", \"Topic19\", \"Topic19\", \"Topic19\", \"Topic19\", \"Topic19\", \"Topic19\", \"Topic19\", \"Topic19\", \"Topic20\", \"Topic20\", \"Topic20\", \"Topic20\", \"Topic20\", \"Topic20\", \"Topic20\", \"Topic20\", \"Topic20\", \"Topic20\", \"Topic20\", \"Topic20\", \"Topic20\", \"Topic20\", \"Topic20\", \"Topic20\", \"Topic20\", \"Topic20\", \"Topic20\", \"Topic20\", \"Topic20\", \"Topic20\", \"Topic20\", \"Topic20\", \"Topic20\", \"Topic20\", \"Topic20\", \"Topic20\", \"Topic20\", \"Topic20\", \"Topic20\", \"Topic20\", \"Topic20\", \"Topic20\", \"Topic20\", \"Topic20\", \"Topic20\", \"Topic20\", \"Topic20\", \"Topic20\", \"Topic20\", \"Topic20\", \"Topic20\", \"Topic20\", \"Topic20\", \"Topic20\", \"Topic20\", \"Topic20\", \"Topic20\", \"Topic20\", \"Topic20\", \"Topic20\", \"Topic20\", \"Topic20\", \"Topic20\", \"Topic20\", \"Topic20\", \"Topic20\", \"Topic20\", \"Topic20\", \"Topic20\", \"Topic21\", \"Topic21\", \"Topic21\", \"Topic21\", \"Topic21\", \"Topic21\", \"Topic21\", \"Topic21\", \"Topic21\", \"Topic21\", \"Topic21\", \"Topic21\", \"Topic21\", \"Topic21\", \"Topic21\", \"Topic21\", \"Topic21\", \"Topic21\", \"Topic21\", \"Topic21\", \"Topic21\", \"Topic21\", \"Topic21\", \"Topic21\", \"Topic21\", \"Topic21\", \"Topic21\", \"Topic21\", \"Topic21\", \"Topic21\", \"Topic21\", \"Topic21\", \"Topic21\", \"Topic21\", \"Topic21\", \"Topic21\", \"Topic21\", \"Topic21\", \"Topic21\", \"Topic21\", \"Topic21\", \"Topic21\", \"Topic21\", \"Topic22\", \"Topic22\", \"Topic22\", \"Topic22\", \"Topic22\", \"Topic22\", \"Topic22\", \"Topic22\", \"Topic22\", \"Topic22\", \"Topic22\", \"Topic22\", \"Topic22\", \"Topic22\", \"Topic22\", \"Topic22\", \"Topic22\", \"Topic22\", \"Topic22\", \"Topic22\", \"Topic22\", \"Topic22\", \"Topic22\", \"Topic22\", \"Topic22\", \"Topic22\", \"Topic22\", \"Topic22\", \"Topic22\", \"Topic22\", \"Topic22\", \"Topic22\", \"Topic22\", \"Topic22\", \"Topic22\", \"Topic22\", \"Topic22\", \"Topic22\", \"Topic22\", \"Topic22\", \"Topic22\", \"Topic22\", \"Topic22\", \"Topic22\", \"Topic22\", \"Topic22\", \"Topic22\", \"Topic22\", \"Topic22\", \"Topic22\", \"Topic22\", \"Topic22\", \"Topic22\", \"Topic22\", \"Topic22\", \"Topic22\", \"Topic22\", \"Topic22\", \"Topic22\", \"Topic22\", \"Topic22\", \"Topic22\", \"Topic22\", \"Topic23\", \"Topic23\", \"Topic23\", \"Topic23\", \"Topic23\", \"Topic23\", \"Topic23\", \"Topic23\", \"Topic23\", \"Topic23\", \"Topic23\", \"Topic23\", \"Topic23\", \"Topic23\", \"Topic23\", \"Topic23\", \"Topic23\", \"Topic23\", \"Topic23\", \"Topic23\", \"Topic23\", \"Topic23\", \"Topic23\", \"Topic23\", \"Topic23\", \"Topic23\", \"Topic23\", \"Topic23\", \"Topic23\", \"Topic23\", \"Topic23\", \"Topic23\", \"Topic23\", \"Topic23\", \"Topic23\", \"Topic24\", \"Topic24\", \"Topic24\", \"Topic24\", \"Topic24\", \"Topic24\", \"Topic24\", \"Topic24\", \"Topic24\", \"Topic24\", \"Topic24\", \"Topic24\", \"Topic24\", \"Topic24\", \"Topic24\", \"Topic24\", \"Topic24\", \"Topic24\", \"Topic24\", \"Topic24\", \"Topic24\", \"Topic24\", \"Topic24\", \"Topic24\", \"Topic24\", \"Topic24\", \"Topic24\", \"Topic24\", \"Topic24\", \"Topic24\", \"Topic24\", \"Topic24\", \"Topic24\", \"Topic24\", \"Topic24\", \"Topic24\", \"Topic24\", \"Topic24\", \"Topic24\", \"Topic25\", \"Topic25\", \"Topic25\", \"Topic25\", \"Topic25\", \"Topic25\", \"Topic25\", \"Topic25\", \"Topic25\", \"Topic25\", \"Topic25\", \"Topic25\", \"Topic25\", \"Topic25\", \"Topic25\", \"Topic25\", \"Topic25\", \"Topic25\", \"Topic25\", \"Topic25\", \"Topic25\", \"Topic25\", \"Topic25\", \"Topic25\", \"Topic25\", \"Topic25\", \"Topic25\", \"Topic25\", \"Topic25\", \"Topic25\", \"Topic25\", \"Topic25\", \"Topic25\", \"Topic25\", \"Topic25\", \"Topic25\", \"Topic25\", \"Topic25\", \"Topic25\", \"Topic25\", \"Topic25\", \"Topic25\", \"Topic25\", \"Topic25\", \"Topic25\", \"Topic25\", \"Topic25\", \"Topic25\", \"Topic25\", \"Topic25\", \"Topic25\", \"Topic25\", \"Topic25\", \"Topic25\", \"Topic25\", \"Topic26\", \"Topic26\", \"Topic26\", \"Topic26\", \"Topic26\", \"Topic26\", \"Topic26\", \"Topic26\", \"Topic26\", \"Topic26\", \"Topic26\", \"Topic26\", \"Topic26\", \"Topic26\", \"Topic26\", \"Topic26\", \"Topic26\", \"Topic26\", \"Topic26\", \"Topic26\", \"Topic26\", \"Topic26\", \"Topic26\", \"Topic26\", \"Topic26\", \"Topic26\", \"Topic26\", \"Topic26\", \"Topic26\", \"Topic26\", \"Topic26\", \"Topic26\", \"Topic26\", \"Topic26\", \"Topic26\", \"Topic26\", \"Topic26\", \"Topic26\", \"Topic26\", \"Topic26\", \"Topic26\", \"Topic26\", \"Topic26\", \"Topic26\", \"Topic26\", \"Topic26\", \"Topic26\", \"Topic26\", \"Topic26\", \"Topic26\", \"Topic26\", \"Topic26\", \"Topic26\", \"Topic26\", \"Topic26\", \"Topic26\", \"Topic26\", \"Topic26\", \"Topic26\", \"Topic26\", \"Topic26\", \"Topic26\", \"Topic26\", \"Topic26\", \"Topic26\", \"Topic26\", \"Topic26\", \"Topic27\", \"Topic27\", \"Topic27\", \"Topic27\", \"Topic27\", \"Topic27\", \"Topic27\", \"Topic27\", \"Topic27\", \"Topic27\", \"Topic27\", \"Topic27\", \"Topic27\", \"Topic27\", \"Topic27\", \"Topic27\", \"Topic27\", \"Topic27\", \"Topic27\", \"Topic27\", \"Topic27\", \"Topic27\", \"Topic27\", \"Topic27\", \"Topic27\", \"Topic27\", \"Topic27\", \"Topic27\", \"Topic27\", \"Topic27\", \"Topic27\", \"Topic27\", \"Topic27\", \"Topic27\", \"Topic27\", \"Topic27\", \"Topic27\", \"Topic27\", \"Topic27\", \"Topic27\", \"Topic27\", \"Topic27\", \"Topic27\", \"Topic27\", \"Topic27\", \"Topic27\", \"Topic27\", \"Topic27\", \"Topic27\", \"Topic27\", \"Topic27\", \"Topic27\", \"Topic27\", \"Topic27\", \"Topic27\", \"Topic27\", \"Topic27\", \"Topic27\", \"Topic27\", \"Topic28\", \"Topic28\", \"Topic28\", \"Topic28\", \"Topic28\", \"Topic28\", \"Topic28\", \"Topic28\", \"Topic28\", \"Topic28\", \"Topic28\", \"Topic28\", \"Topic28\", \"Topic28\", \"Topic28\", \"Topic28\", \"Topic28\", \"Topic28\", \"Topic28\", \"Topic28\", \"Topic28\", \"Topic28\", \"Topic28\", \"Topic28\", \"Topic28\", \"Topic28\", \"Topic28\", \"Topic28\", \"Topic28\", \"Topic28\", \"Topic28\", \"Topic28\", \"Topic28\", \"Topic28\", \"Topic28\", \"Topic29\", \"Topic29\", \"Topic29\", \"Topic29\", \"Topic29\", \"Topic29\", \"Topic29\", \"Topic29\", \"Topic29\", \"Topic29\", \"Topic29\", \"Topic29\", \"Topic29\", \"Topic29\", \"Topic29\", \"Topic29\", \"Topic29\", \"Topic29\", \"Topic29\", \"Topic29\", \"Topic29\", \"Topic29\", \"Topic29\", \"Topic29\", \"Topic29\", \"Topic29\", \"Topic29\", \"Topic29\", \"Topic29\", \"Topic29\", \"Topic29\", \"Topic29\", \"Topic29\", \"Topic29\", \"Topic29\", \"Topic29\", \"Topic29\", \"Topic29\", \"Topic29\", \"Topic29\", \"Topic29\", \"Topic29\", \"Topic29\", \"Topic29\", \"Topic29\", \"Topic29\", \"Topic29\", \"Topic29\", \"Topic29\", \"Topic29\", \"Topic29\", \"Topic29\", \"Topic29\", \"Topic29\", \"Topic29\", \"Topic29\", \"Topic29\", \"Topic29\", \"Topic29\", \"Topic30\", \"Topic30\", \"Topic30\", \"Topic30\", \"Topic30\", \"Topic30\", \"Topic30\", \"Topic30\", \"Topic30\", \"Topic30\", \"Topic30\", \"Topic30\", \"Topic30\", \"Topic30\", \"Topic30\", \"Topic30\", \"Topic30\", \"Topic30\", \"Topic30\", \"Topic30\", \"Topic30\", \"Topic30\", \"Topic30\", \"Topic30\", \"Topic30\", \"Topic30\", \"Topic30\", \"Topic30\", \"Topic30\", \"Topic30\", \"Topic30\", \"Topic30\", \"Topic30\", \"Topic30\", \"Topic30\", \"Topic30\", \"Topic30\", \"Topic30\", \"Topic30\", \"Topic30\", \"Topic30\", \"Topic30\", \"Topic31\", \"Topic31\", \"Topic31\", \"Topic31\", \"Topic31\", \"Topic31\", \"Topic31\", \"Topic31\", \"Topic31\", \"Topic31\", \"Topic31\", \"Topic31\", \"Topic31\", \"Topic31\", \"Topic31\", \"Topic31\", \"Topic31\", \"Topic31\", \"Topic31\", \"Topic31\", \"Topic31\", \"Topic31\", \"Topic31\", \"Topic31\", \"Topic31\", \"Topic31\", \"Topic31\", \"Topic31\", \"Topic31\", \"Topic31\", \"Topic31\", \"Topic31\", \"Topic31\", \"Topic31\", \"Topic31\", \"Topic32\", \"Topic32\", \"Topic32\", \"Topic32\", \"Topic32\", \"Topic32\", \"Topic32\", \"Topic32\", \"Topic32\", \"Topic32\", \"Topic32\", \"Topic32\", \"Topic32\", \"Topic32\", \"Topic32\", \"Topic32\", \"Topic32\", \"Topic32\", \"Topic32\", \"Topic32\", \"Topic32\", \"Topic32\", \"Topic32\", \"Topic32\", \"Topic32\", \"Topic32\", \"Topic32\", \"Topic32\", \"Topic32\", \"Topic32\", \"Topic32\", \"Topic32\", \"Topic32\", \"Topic32\", \"Topic32\", \"Topic32\", \"Topic33\", \"Topic33\", \"Topic33\", \"Topic33\", \"Topic33\", \"Topic33\", \"Topic33\", \"Topic33\", \"Topic33\", \"Topic33\", \"Topic33\", \"Topic33\", \"Topic33\", \"Topic33\", \"Topic33\", \"Topic33\", \"Topic33\", \"Topic33\", \"Topic33\", \"Topic33\", \"Topic33\", \"Topic33\", \"Topic33\", \"Topic33\", \"Topic33\", \"Topic33\", \"Topic33\", \"Topic33\", \"Topic33\", \"Topic33\", \"Topic33\", \"Topic33\", \"Topic33\", \"Topic33\", \"Topic33\", \"Topic34\", \"Topic34\", \"Topic34\", \"Topic34\", \"Topic34\", \"Topic34\", \"Topic34\", \"Topic34\", \"Topic34\", \"Topic34\", \"Topic34\", \"Topic34\", \"Topic34\", \"Topic34\", \"Topic34\", \"Topic34\", \"Topic34\", \"Topic34\", \"Topic34\", \"Topic34\", \"Topic34\", \"Topic34\", \"Topic34\", \"Topic34\", \"Topic34\", \"Topic34\", \"Topic34\", \"Topic34\", \"Topic34\", \"Topic34\", \"Topic34\", \"Topic34\", \"Topic34\", \"Topic34\", \"Topic34\", \"Topic34\", \"Topic34\", \"Topic34\", \"Topic34\", \"Topic34\", \"Topic35\", \"Topic35\", \"Topic35\", \"Topic35\", \"Topic35\", \"Topic35\", \"Topic35\", \"Topic35\", \"Topic35\", \"Topic35\", \"Topic35\", \"Topic35\", \"Topic35\", \"Topic35\", \"Topic35\", \"Topic35\", \"Topic35\", \"Topic35\", \"Topic35\", \"Topic35\", \"Topic35\", \"Topic35\", \"Topic35\", \"Topic35\", \"Topic35\", \"Topic35\", \"Topic35\", \"Topic35\", \"Topic35\", \"Topic35\", \"Topic35\", \"Topic35\", \"Topic35\", \"Topic35\", \"Topic35\", \"Topic35\", \"Topic35\", \"Topic35\", \"Topic35\", \"Topic35\", \"Topic35\", \"Topic35\", \"Topic35\", \"Topic35\", \"Topic35\", \"Topic35\", \"Topic35\", \"Topic35\", \"Topic35\", \"Topic35\", \"Topic35\", \"Topic35\", \"Topic35\", \"Topic35\", \"Topic35\", \"Topic35\", \"Topic35\", \"Topic35\", \"Topic36\", \"Topic36\", \"Topic36\", \"Topic36\", \"Topic36\", \"Topic36\", \"Topic36\", \"Topic36\", \"Topic36\", \"Topic36\", \"Topic36\", \"Topic36\", \"Topic36\", \"Topic36\", \"Topic36\", \"Topic36\", \"Topic36\", \"Topic36\", \"Topic36\", \"Topic36\", \"Topic36\", \"Topic36\", \"Topic36\", \"Topic36\", \"Topic36\", \"Topic36\", \"Topic36\", \"Topic36\", \"Topic36\", \"Topic36\", \"Topic36\", \"Topic36\", \"Topic36\", \"Topic36\", \"Topic36\", \"Topic36\", \"Topic36\", \"Topic36\", \"Topic36\", \"Topic36\", \"Topic37\", \"Topic37\", \"Topic37\", \"Topic37\", \"Topic37\", \"Topic37\", \"Topic37\", \"Topic37\", \"Topic37\", \"Topic37\", \"Topic37\", \"Topic37\", \"Topic37\", \"Topic37\", \"Topic37\", \"Topic37\", \"Topic37\", \"Topic37\", \"Topic37\", \"Topic37\", \"Topic37\", \"Topic37\", \"Topic37\", \"Topic37\", \"Topic37\", \"Topic37\", \"Topic37\", \"Topic37\", \"Topic37\", \"Topic37\", \"Topic37\", \"Topic37\", \"Topic37\", \"Topic37\", \"Topic37\", \"Topic37\", \"Topic37\", \"Topic37\", \"Topic37\", \"Topic37\", \"Topic37\", \"Topic37\", \"Topic37\", \"Topic37\", \"Topic37\", \"Topic37\", \"Topic37\", \"Topic37\", \"Topic37\", \"Topic37\", \"Topic37\", \"Topic37\", \"Topic37\", \"Topic37\", \"Topic37\", \"Topic37\", \"Topic37\", \"Topic37\", \"Topic37\", \"Topic37\", \"Topic37\", \"Topic38\", \"Topic38\", \"Topic38\", \"Topic38\", \"Topic38\", \"Topic38\", \"Topic38\", \"Topic38\", \"Topic38\", \"Topic38\", \"Topic38\", \"Topic38\", \"Topic38\", \"Topic38\", \"Topic38\", \"Topic38\", \"Topic38\", \"Topic38\", \"Topic38\", \"Topic38\", \"Topic38\", \"Topic38\", \"Topic38\", \"Topic38\", \"Topic38\", \"Topic38\", \"Topic38\", \"Topic38\", \"Topic38\", \"Topic38\", \"Topic38\", \"Topic38\", \"Topic38\", \"Topic38\", \"Topic38\", \"Topic38\", \"Topic38\", \"Topic38\", \"Topic38\", \"Topic38\", \"Topic38\", \"Topic38\", \"Topic38\", \"Topic38\", \"Topic38\", \"Topic38\", \"Topic38\", \"Topic38\", \"Topic38\", \"Topic38\", \"Topic38\", \"Topic38\", \"Topic38\", \"Topic38\", \"Topic38\", \"Topic38\", \"Topic38\", \"Topic38\", \"Topic38\", \"Topic38\", \"Topic38\", \"Topic38\", \"Topic38\", \"Topic38\", \"Topic38\", \"Topic38\", \"Topic39\", \"Topic39\", \"Topic39\", \"Topic39\", \"Topic39\", \"Topic39\", \"Topic39\", \"Topic39\", \"Topic39\", \"Topic39\", \"Topic39\", \"Topic39\", \"Topic39\", \"Topic39\", \"Topic39\", \"Topic39\", \"Topic39\", \"Topic39\", \"Topic39\", \"Topic39\", \"Topic39\", \"Topic39\", \"Topic39\", \"Topic39\", \"Topic39\", \"Topic39\", \"Topic39\", \"Topic39\", \"Topic39\", \"Topic39\", \"Topic39\", \"Topic39\", \"Topic39\", \"Topic39\", \"Topic39\", \"Topic39\", \"Topic39\", \"Topic39\", \"Topic39\", \"Topic39\", \"Topic39\", \"Topic39\", \"Topic39\", \"Topic39\", \"Topic39\", \"Topic40\", \"Topic40\", \"Topic40\", \"Topic40\", \"Topic40\", \"Topic40\", \"Topic40\", \"Topic40\", \"Topic40\", \"Topic40\", \"Topic40\", \"Topic40\", \"Topic40\", \"Topic40\", \"Topic40\", \"Topic40\", \"Topic40\", \"Topic40\", \"Topic40\", \"Topic40\", \"Topic40\", \"Topic40\", \"Topic40\", \"Topic40\", \"Topic40\", \"Topic40\", \"Topic40\", \"Topic40\", \"Topic40\", \"Topic40\", \"Topic40\", \"Topic40\", \"Topic40\", \"Topic40\", \"Topic40\", \"Topic40\", \"Topic40\", \"Topic40\", \"Topic40\", \"Topic40\", \"Topic40\", \"Topic40\", \"Topic40\", \"Topic40\", \"Topic40\", \"Topic40\", \"Topic40\", \"Topic40\", \"Topic40\", \"Topic40\", \"Topic40\", \"Topic40\", \"Topic40\", \"Topic40\", \"Topic40\", \"Topic40\", \"Topic40\", \"Topic40\", \"Topic40\", \"Topic40\", \"Topic40\", \"Topic40\", \"Topic40\", \"Topic40\", \"Topic40\", \"Topic40\", \"Topic40\", \"Topic40\", \"Topic40\", \"Topic40\", \"Topic40\", \"Topic40\", \"Topic40\", \"Topic40\"], \"Freq\": [1459.0, 3351.0, 3348.0, 1873.0, 1163.0, 1383.0, 1973.0, 1892.0, 1192.0, 897.0, 621.0, 1483.0, 587.0, 793.0, 972.0, 886.0, 538.0, 1133.0, 841.0, 396.0, 883.0, 589.0, 1453.0, 1348.0, 706.0, 283.0, 1493.0, 647.0, 690.0, 352.0, 16.515941619873047, 7.98973274230957, 7.273319244384766, 6.132288455963135, 4.866098403930664, 4.264688014984131, 3.8124985694885254, 3.727782726287842, 3.632824659347534, 3.6301097869873047, 3.6051390171051025, 3.6051390171051025, 3.557892322540283, 3.0064492225646973, 3.0064492225646973, 2.831329107284546, 2.7071034908294678, 2.7071034908294678, 2.7071034908294678, 2.7071034908294678, 2.7071034908294678, 2.611464500427246, 2.5319840908050537, 2.4327292442321777, 2.4327292442321777, 2.4327292442321777, 2.4077587127685547, 1.816338062286377, 1.8090686798095703, 1.8090686798095703, 23.94330596923828, 20.062536239624023, 19.750320434570312, 14.234807968139648, 12.377737045288086, 10.999056816101074, 7.453761100769043, 5.671970367431641, 5.352299690246582, 4.864098072052002, 4.864098072052002, 4.541943073272705, 4.541943073272705, 4.539458274841309, 4.174964904785156, 3.8951475620269775, 3.8926632404327393, 3.8926632404327393, 3.8926632404327393, 3.8926632404327393, 3.8926632404327393, 3.409430980682373, 3.2458691596984863, 3.084791660308838, 2.9237139225006104, 2.762636184692383, 2.7626359462738037, 2.5990750789642334, 2.5990750789642334, 2.599074602127075, 2.599074602127075, 2.599074602127075, 2.599074602127075, 2.599074602127075, 2.599074602127075, 2.599074602127075, 3.8280224800109863, 4.597857475280762, 4.039204120635986, 3.06888747215271, 3.731626272201538, 3.7620558738708496, 122.53652954101562, 106.43279266357422, 32.651058197021484, 27.43320083618164, 26.26854133605957, 24.46183204650879, 22.112024307250977, 21.403648376464844, 21.360990524291992, 21.11391830444336, 21.0011043548584, 19.850900650024414, 19.107879638671875, 18.937915802001953, 18.886577606201172, 18.6331844329834, 19.626453399658203, 17.87837028503418, 17.281105041503906, 16.903121948242188, 16.366069793701172, 15.925128936767578, 14.918929100036621, 15.30762004852295, 14.54832649230957, 13.86008071899414, 13.785025596618652, 13.203080177307129, 13.126509666442871, 13.125088691711426, 38.836585998535156, 28.975996017456055, 97.0463638305664, 18.84597396850586, 20.44830322265625, 35.14901351928711, 63.869346618652344, 20.84775733947754, 37.135650634765625, 30.658748626708984, 77.99671173095703, 55.19954299926758, 52.26139831542969, 22.03570556640625, 188.3267059326172, 23.71712303161621, 34.402793884277344, 35.007850646972656, 25.296497344970703, 60.492496490478516, 67.79607391357422, 65.15423583984375, 40.221923828125, 57.7133674621582, 50.155277252197266, 51.972862243652344, 46.69218444824219, 47.15153884887695, 34.651363372802734, 43.39845657348633, 31.14441680908203, 31.141429901123047, 30.965740203857422, 30.523468017578125, 18.133459091186523, 13.995474815368652, 12.848943710327148, 11.846488952636719, 10.581355094909668, 10.337124824523926, 9.41108512878418, 9.332544326782227, 8.071999549865723, 7.778095722198486, 7.607946395874023, 7.482555866241455, 7.203121662139893, 7.030639171600342, 6.972179889678955, 6.653906345367432, 6.534477710723877, 6.449304103851318, 5.603242874145508, 5.545950412750244, 5.545949935913086, 4.960818290710449, 4.909313201904297, 4.871842861175537, 4.793558597564697, 4.148570537567139, 3.972290515899658, 3.9722912311553955, 3.843280792236328, 3.5656518936157227, 47.3665657043457, 213.40518188476562, 8.165660858154297, 27.82872772216797, 11.601226806640625, 15.163763046264648, 14.671603202819824, 36.03679656982422, 16.258771896362305, 44.69111251831055, 25.073270797729492, 18.48161506652832, 32.1814079284668, 35.01765060424805, 21.320539474487305, 28.589515686035156, 32.63188552856445, 30.820125579833984, 24.514925003051758, 18.74905014038086, 17.26393699645996, 36.92152404785156, 26.584611892700195, 19.264474868774414, 16.079050064086914, 17.08077621459961, 15.383687019348145, 16.13206672668457, 17.902111053466797, 14.107800483703613, 126.55148315429688, 53.43316650390625, 45.816749572753906, 45.722957611083984, 32.893043518066406, 23.326915740966797, 22.7252254486084, 23.13029670715332, 20.154077529907227, 19.452709197998047, 19.267934799194336, 17.47987174987793, 17.195608139038086, 16.28138542175293, 15.68975830078125, 14.667641639709473, 14.631038665771484, 14.551379203796387, 14.33572006225586, 13.718765258789062, 13.65382194519043, 13.608076095581055, 13.503950119018555, 27.214555740356445, 12.561883926391602, 12.555147171020508, 12.398775100708008, 12.226107597351074, 12.139241218566895, 12.066988945007324, 25.591928482055664, 13.262165069580078, 44.63932418823242, 18.86972427368164, 16.795976638793945, 68.65489959716797, 29.305593490600586, 84.20172882080078, 23.560396194458008, 79.42664337158203, 19.844820022583008, 20.46312141418457, 23.9425048828125, 17.835086822509766, 46.265342712402344, 35.97230529785156, 25.298416137695312, 43.92722702026367, 49.114585876464844, 38.27699661254883, 38.04319381713867, 24.483671188354492, 26.94402503967285, 25.202699661254883, 26.130937576293945, 20.589122772216797, 165.13319396972656, 138.18687438964844, 138.1217041015625, 85.66070556640625, 75.18792724609375, 72.8517837524414, 72.36375427246094, 68.84890747070312, 63.972190856933594, 59.38713836669922, 57.65862274169922, 54.018310546875, 53.043033599853516, 52.0272331237793, 51.51115417480469, 51.46311569213867, 47.72591781616211, 45.988914489746094, 43.4244270324707, 43.238529205322266, 43.20482635498047, 42.01344299316406, 41.593387603759766, 39.03416442871094, 36.97606658935547, 35.690940856933594, 34.04985809326172, 34.693389892578125, 33.76328659057617, 33.501705169677734, 102.27223205566406, 78.81993865966797, 84.47513580322266, 77.06697845458984, 150.21194458007812, 77.24337768554688, 172.67100524902344, 169.63723754882812, 576.030517578125, 191.9770965576172, 418.2916259765625, 438.4187927246094, 75.5161361694336, 185.8409881591797, 67.22801971435547, 139.292724609375, 109.64985656738281, 616.6296997070312, 76.06175994873047, 107.93284606933594, 75.2882308959961, 94.28297424316406, 111.01451110839844, 254.26380920410156, 167.02899169921875, 218.03802490234375, 107.79109954833984, 155.95469665527344, 121.70405578613281, 173.66952514648438, 108.4435043334961, 102.4642562866211, 116.8558349609375, 149.81027221679688, 136.7805633544922, 118.51496887207031, 140.4700164794922, 113.35231018066406, 113.29295349121094, 111.83448028564453, 2.3056068420410156, 2.3056066036224365, 2.0733394622802734, 2.060023069381714, 1.61277437210083, 1.1789655685424805, 1.1128283739089966, 1.0341156721115112, 1.0341156721115112, 0.5341696739196777, 0.48613330721855164, 0.48613330721855164, 0.48613330721855164, 0.3412834405899048, 0.3412834405899048, 0.3412834107875824, 0.3412834405899048, 0.3412834107875824, 0.3412834405899048, 0.3412834405899048, 0.3412834107875824, 0.3412834405899048, 0.3412834405899048, 0.3412834107875824, 0.3412834107875824, 0.3393233120441437, 0.2946995794773102, 0.2932470738887787, 0.2932470738887787, 0.24250973761081696, 0.7939144372940063, 99.91114044189453, 68.79071044921875, 65.48836517333984, 62.870662689208984, 52.19631576538086, 67.69535827636719, 44.45832824707031, 42.33625793457031, 39.24470520019531, 38.920677185058594, 38.25761795043945, 37.65940475463867, 37.28229904174805, 32.96628952026367, 35.50604248046875, 32.83024978637695, 31.71755027770996, 31.373197555541992, 30.868013381958008, 30.336000442504883, 29.54538917541504, 28.131752014160156, 27.43967628479004, 61.527976989746094, 26.14487648010254, 26.0621280670166, 25.383880615234375, 25.307146072387695, 24.92706298828125, 24.938251495361328, 25.82390785217285, 234.64927673339844, 124.18103790283203, 59.68388366699219, 43.03213119506836, 65.65264892578125, 291.7619934082031, 81.36893463134766, 90.18030548095703, 81.38362121582031, 57.06072235107422, 168.50308227539062, 84.36083221435547, 497.4564208984375, 405.5185852050781, 94.66642761230469, 135.4610137939453, 249.83767700195312, 95.90362548828125, 98.26732635498047, 101.84356689453125, 101.42485809326172, 208.5498504638672, 158.30172729492188, 299.71380615234375, 251.3518829345703, 333.0095520019531, 197.85752868652344, 148.47555541992188, 224.62635803222656, 113.25667572021484, 423.5894470214844, 541.5895385742188, 207.25587463378906, 143.64785766601562, 184.21127319335938, 226.80006408691406, 458.44927978515625, 245.70684814453125, 338.459716796875, 221.33705139160156, 567.587158203125, 177.85914611816406, 365.4351501464844, 271.7605895996094, 237.75350952148438, 408.58624267578125, 343.25152587890625, 244.39389038085938, 266.89306640625, 370.189697265625, 328.5635681152344, 522.5723876953125, 261.5425720214844, 252.86924743652344, 233.7288360595703, 65.85713195800781, 44.74298858642578, 43.22407150268555, 49.324947357177734, 42.40324020385742, 38.920101165771484, 33.4410285949707, 33.004608154296875, 30.88701057434082, 29.881681442260742, 28.858491897583008, 28.858491897583008, 28.056306838989258, 27.922935485839844, 27.922935485839844, 27.922935485839844, 27.922935485839844, 26.55731201171875, 26.535234451293945, 26.500606536865234, 25.722501754760742, 25.34758186340332, 23.946300506591797, 23.89634895324707, 23.783178329467773, 23.562314987182617, 23.227848052978516, 23.219514846801758, 22.942049026489258, 22.068119049072266, 24.38360595703125, 49.540794372558594, 89.95890045166016, 32.65304946899414, 49.415889739990234, 635.099609375, 239.98202514648438, 731.6931762695312, 177.22015380859375, 201.9855194091797, 80.44598388671875, 50.15000915527344, 89.04167175292969, 66.00636291503906, 81.99520874023438, 613.41943359375, 171.87301635742188, 61.85979461669922, 115.27458190917969, 91.84185028076172, 149.39732360839844, 94.1507797241211, 206.72828674316406, 116.55648803710938, 87.48860931396484, 164.2772979736328, 133.9771270751953, 103.0238265991211, 102.91559600830078, 91.91191101074219, 70.95021057128906, 65.71553802490234, 67.9996109008789, 96.95877075195312, 96.37969970703125, 94.99085998535156, 80.58409881591797, 80.94825744628906, 897.271240234375, 792.3688354492188, 588.9208374023438, 124.80645751953125, 122.41791534423828, 93.92882537841797, 85.25691986083984, 72.6734619140625, 72.06346893310547, 66.00375366210938, 63.14044189453125, 57.34777069091797, 53.548458099365234, 50.26582336425781, 49.876373291015625, 45.389556884765625, 40.870811462402344, 40.664451599121094, 40.244842529296875, 40.244842529296875, 40.08642578125, 39.00233459472656, 36.86821746826172, 33.786956787109375, 32.84617614746094, 31.920520782470703, 29.644371032714844, 29.390243530273438, 28.398094177246094, 27.443435668945312, 617.9255981445312, 93.86551666259766, 53.40803527832031, 51.30503463745117, 86.57291412353516, 288.32232666015625, 262.7924499511719, 78.22575378417969, 352.83807373046875, 283.0265197753906, 105.82735443115234, 92.3114013671875, 99.05413818359375, 66.80706024169922, 141.7074432373047, 71.27275848388672, 112.72281646728516, 199.26406860351562, 152.8739776611328, 82.028076171875, 76.79048919677734, 138.69174194335938, 95.63013458251953, 144.3055877685547, 96.02701568603516, 82.19854736328125, 90.32418823242188, 85.47179412841797, 83.97518157958984, 49.23509216308594, 31.18754768371582, 23.959232330322266, 18.11603546142578, 16.98443603515625, 13.589630126953125, 12.458027839660645, 10.760624885559082, 9.063220977783203, 8.497420310974121, 8.370548248291016, 7.9316182136535645, 7.804745674133301, 7.804745674133301, 7.365817546844482, 7.365817546844482, 6.234216690063477, 6.234216690063477, 5.66841459274292, 5.66841459274292, 5.102614402770996, 5.102614402770996, 5.102613925933838, 5.102614402770996, 4.536813259124756, 4.536813735961914, 3.971012592315674, 3.9710123538970947, 3.9710123538970947, 3.971012592315674, 11.171199798583984, 18.787137985229492, 8.023200035095215, 5.171116352081299, 3.89627742767334, 3.6827569007873535, 3.290844202041626, 3.185969114303589, 3.0254552364349365, 2.852977752685547, 2.6380655765533447, 2.589236259460449, 2.473975658416748, 2.2827277183532715, 2.191436529159546, 1.9023181200027466, 1.870862603187561, 1.8562774658203125, 1.819109320640564, 1.5601779222488403, 1.431719422340393, 1.3864694833755493, 1.3404288291931152, 1.2153996229171753, 1.2153996229171753, 1.161259412765503, 1.0443296432495117, 1.0443296432495117, 1.0443296432495117, 1.0443296432495117, 1.0443296432495117, 1.0443296432495117, 1.0443296432495117, 3.081199884414673, 15.499347686767578, 5.418457984924316, 2.211538314819336, 1.8720768690109253, 3.6734297275543213, 2.8028664588928223, 2.356419563293457, 3.1773769855499268, 2.524722099304199, 7.54965877532959, 1.775147795677185, 8.488611221313477, 6.880495071411133, 6.792247772216797, 5.095884323120117, 3.3995208740234375, 3.3995208740234375, 3.3995208740234375, 2.654204845428467, 2.64312744140625, 2.2252862453460693, 2.219494581222534, 2.2120718955993652, 2.16082763671875, 2.1043238639831543, 1.7031575441360474, 1.7031575441360474, 1.7031575441360474, 1.7031575441360474, 1.7031575441360474, 1.7031575441360474, 1.7031575441360474, 1.7031575441360474, 1.7031575441360474, 1.7031575441360474, 0.9693863987922668, 0.6702139377593994, 0.6044889092445374, 0.5808007121086121, 0.5527111291885376, 0.5362761616706848, 3.482527732849121, 171.47483825683594, 111.34443664550781, 104.79346466064453, 73.56159210205078, 73.27105712890625, 70.36642456054688, 70.2884521484375, 61.503414154052734, 1852.831787109375, 58.01931381225586, 55.55657196044922, 54.187808990478516, 53.61887741088867, 53.04778289794922, 52.49504852294922, 52.41065979003906, 52.10487365722656, 51.93912124633789, 48.86973571777344, 48.32636642456055, 47.701969146728516, 46.93635177612305, 45.497432708740234, 44.526275634765625, 44.1915168762207, 43.97042465209961, 43.734737396240234, 43.70981979370117, 43.59551239013672, 42.88003158569336, 236.03640747070312, 264.8264465332031, 110.7763442993164, 58.51225662231445, 185.09701538085938, 374.1433410644531, 239.95079040527344, 204.78294372558594, 187.9050750732422, 631.1331787109375, 358.5814514160156, 156.66307067871094, 431.4375915527344, 116.10890197753906, 100.63642883300781, 239.86505126953125, 111.18846130371094, 221.009521484375, 323.7430725097656, 193.26356506347656, 118.21324157714844, 961.9408569335938, 584.610107421875, 320.42279052734375, 221.1574249267578, 568.958740234375, 279.94091796875, 735.044189453125, 137.5987548828125, 231.421875, 432.483154296875, 187.9945831298828, 242.588623046875, 420.599609375, 228.00453186035156, 737.2705688476562, 697.594970703125, 283.7055358886719, 337.12261962890625, 297.3194580078125, 264.21630859375, 332.93267822265625, 254.6066131591797, 241.01165771484375, 256.06475830078125, 260.3421325683594, 253.3536376953125, 240.39111328125, 0.18058615922927856, 0.03256721422076225, 0.0005224880296736956, 0.0005224880296736956, 0.0005224880296736956, 0.0005224880296736956, 0.0005224880296736956, 0.0005224880296736956, 0.0005224880296736956, 0.0005224880296736956, 0.0005224880296736956, 0.0005224880296736956, 0.0005224880296736956, 0.0005224880296736956, 0.0005224880296736956, 0.0005224880296736956, 0.0005224880296736956, 0.0005224880296736956, 0.0005224880296736956, 0.0005224880296736956, 0.0005224880296736956, 0.0005224880296736956, 0.0005224880296736956, 0.0005224880296736956, 0.0005224880296736956, 0.0005224880296736956, 0.0005224880296736956, 0.0005224880296736956, 0.0005224880296736956, 0.0005224880296736956, 0.0005224880296736956, 0.0005224880296736956, 0.0005224908236414194, 0.0005224880296736956, 0.0005224880296736956, 0.0005224880296736956, 0.0005224880296736956, 0.0005224880296736956, 0.0005224880296736956, 0.0005224880296736956, 0.0005224880296736956, 0.0005224880296736956, 0.0005224880296736956, 0.0005224880296736956, 0.0005224880296736956, 0.0005224880296736956, 0.0005224880296736956, 0.0005224880296736956, 0.0005224880296736956, 0.0005224880296736956, 0.0005224880296736956, 0.0005224880296736956, 0.0005224880296736956, 0.0005224880296736956, 0.0005224880296736956, 0.0005224880296736956, 0.0005224880296736956, 0.0005224880296736956, 0.0005224880296736956, 0.0005224880296736956, 7.7177324295043945, 4.557868957519531, 3.7386226654052734, 3.1989259719848633, 2.691896438598633, 2.2386474609375, 2.1942906379699707, 2.0005977153778076, 1.9599131345748901, 1.9599131345748901, 1.8403362035751343, 1.6434381008148193, 1.5515636205673218, 1.471923589706421, 1.3344075679779053, 1.4891453981399536, 1.1725906133651733, 1.1659040451049805, 1.0095046758651733, 0.9839349389076233, 0.948747992515564, 0.7399401664733887, 0.7399401664733887, 0.6846016049385071, 0.6791836619377136, 0.6791836619377136, 0.6238448023796082, 0.5768543481826782, 0.5768543481826782, 0.5768543481826782, 1.259521722793579, 0.866237461566925, 0.7176814079284668, 21.958383560180664, 21.890501022338867, 11.379652976989746, 10.236933708190918, 7.4106245040893555, 7.2302985191345215, 5.972324848175049, 5.492141246795654, 5.220228672027588, 4.010697841644287, 3.7957777976989746, 3.544613838195801, 3.234989643096924, 2.8209550380706787, 2.5608279705047607, 2.271998405456543, 2.1184210777282715, 2.1014418601989746, 2.067302942276001, 2.0465848445892334, 1.9384100437164307, 1.9135875701904297, 1.8515222072601318, 1.7186357975006104, 1.636289358139038, 1.4886006116867065, 1.3326077461242676, 1.2142802476882935, 1.1705882549285889, 1.0492829084396362, 4.019263744354248, 1.7795827388763428, 1.98521888256073, 5.1952691078186035, 3.2078299522399902, 2.65671706199646, 1.869400978088379, 292.2214050292969, 219.9765167236328, 133.15878295898438, 120.2286148071289, 116.35620880126953, 116.30886840820312, 112.66944885253906, 103.67096710205078, 98.91553497314453, 94.03976440429688, 81.89595794677734, 77.85887145996094, 76.61034393310547, 75.40070343017578, 67.26165008544922, 66.15460205078125, 63.609798431396484, 61.41898727416992, 59.95957565307617, 58.312320709228516, 55.26795196533203, 51.45817565917969, 49.43821716308594, 48.230384826660156, 47.276954650878906, 45.613094329833984, 45.51806640625, 45.173099517822266, 44.53464126586914, 43.64689636230469, 157.73049926757812, 95.84471130371094, 481.5095520019531, 242.9945831298828, 319.90863037109375, 220.7066650390625, 326.0821533203125, 109.30216979980469, 304.41949462890625, 73.3971939086914, 356.91064453125, 334.0960693359375, 660.8017578125, 331.22137451171875, 540.134033203125, 764.0867919921875, 259.2516784667969, 255.75994873046875, 156.59239196777344, 141.36050415039062, 209.14915466308594, 674.8862915039062, 317.032958984375, 238.2067413330078, 311.4776611328125, 179.96722412109375, 284.2762756347656, 251.3387908935547, 220.73460388183594, 199.93899536132812, 180.76406860351562, 291.3300476074219, 547.8215942382812, 303.6836242675781, 290.28289794921875, 238.06802368164062, 251.8299102783203, 270.1319274902344, 257.0313720703125, 238.81515502929688, 233.8800506591797, 12.84518814086914, 11.19072437286377, 10.866796493530273, 10.315314292907715, 10.187461853027344, 9.231107711791992, 8.162765502929688, 8.158858299255371, 7.141340732574463, 7.004486560821533, 6.891844749450684, 6.518360614776611, 6.30595064163208, 6.12382173538208, 6.123820781707764, 5.385956287384033, 5.167013645172119, 5.106303691864014, 4.934139251708984, 4.828219413757324, 3.835383176803589, 5.293095588684082, 3.7185511589050293, 3.337035894393921, 3.328578233718872, 3.2551321983337402, 3.1108782291412354, 3.0712668895721436, 2.9780826568603516, 2.8075249195098877, 7.43089485168457, 25.75311851501465, 18.6708927154541, 5.888418197631836, 4.989578723907471, 10.007172584533691, 20.814071655273438, 26.211688995361328, 49.301231384277344, 11.576312065124512, 9.887754440307617, 7.740776062011719, 5.867624282836914, 5.448666572570801, 5.354311943054199, 156.0322265625, 72.91951751708984, 66.09555053710938, 48.78989028930664, 44.593116760253906, 40.08193588256836, 39.51719665527344, 37.894466400146484, 33.79326629638672, 32.50791931152344, 32.277896881103516, 29.533397674560547, 29.190011978149414, 28.536840438842773, 28.173921585083008, 25.440160751342773, 24.860231399536133, 24.024450302124023, 23.786888122558594, 23.726093292236328, 21.447219848632812, 21.211181640625, 20.88552474975586, 20.35152816772461, 20.121875762939453, 19.536436080932617, 19.53086280822754, 19.063566207885742, 18.755001068115234, 17.242555618286133, 270.6941223144531, 184.9877471923828, 314.8316650390625, 26.308629989624023, 215.26763916015625, 59.5780143737793, 150.66970825195312, 602.7567138671875, 179.41549682617188, 99.05538177490234, 391.6212158203125, 120.65251922607422, 331.7388610839844, 72.76106262207031, 131.2056884765625, 125.02056884765625, 147.73709106445312, 45.26409149169922, 95.77154541015625, 66.91728210449219, 58.159629821777344, 84.98541259765625, 83.22368621826172, 109.40029907226562, 106.03060913085938, 72.60023498535156, 68.02275848388672, 108.65815734863281, 84.40766143798828, 72.08811950683594, 66.00711822509766, 52.15268325805664, 31.658594131469727, 24.36321258544922, 21.769624710083008, 28.823347091674805, 14.353431701660156, 12.390641212463379, 11.65340805053711, 9.784621238708496, 9.665251731872559, 8.974367141723633, 8.671225547790527, 8.32967758178711, 8.271020889282227, 7.498745441436768, 7.207688331604004, 6.705463409423828, 6.422867298126221, 5.836879730224609, 5.824630260467529, 5.569909572601318, 5.569910049438477, 5.266014099121094, 4.913814544677734, 4.845920085906982, 4.769674777984619, 8.268248558044434, 4.478619575500488, 4.4463210105896, 4.401980876922607, 53.30896759033203, 34.226287841796875, 10.100695610046387, 15.261238098144531, 8.7601318359375, 20.529163360595703, 16.76947784423828, 12.190746307373047, 23.657806396484375, 12.37208366394043, 16.66163444519043, 11.192275047302246, 7.819413185119629, 213.21893310546875, 209.52772521972656, 164.29330444335938, 96.89554595947266, 95.1959457397461, 80.86923217773438, 77.66468048095703, 63.44913864135742, 54.99867630004883, 51.93879699707031, 50.436702728271484, 45.991676330566406, 45.620845794677734, 52.53013610839844, 118.09547424316406, 40.05058670043945, 39.097801208496094, 36.14616775512695, 35.492496490478516, 35.129981994628906, 88.53564453125, 33.778038024902344, 33.472591400146484, 32.70609664916992, 32.61131286621094, 31.77267837524414, 43.58115768432617, 30.85312843322754, 30.765113830566406, 30.125829696655273, 202.10986328125, 121.60391998291016, 250.1075897216797, 108.65612030029297, 572.526123046875, 1869.804443359375, 507.74334716796875, 1026.53076171875, 107.65388488769531, 344.8731689453125, 385.4509582519531, 79.64020538330078, 666.7689819335938, 442.6036071777344, 176.89480590820312, 270.887939453125, 187.96714782714844, 113.79008483886719, 164.6678924560547, 199.97747802734375, 394.7007751464844, 427.829345703125, 541.79345703125, 298.2142639160156, 369.27264404296875, 261.93511962890625, 211.3383026123047, 171.606689453125, 246.17625427246094, 170.94126892089844, 191.3856964111328, 180.05029296875, 166.64512634277344, 22.29401206970215, 17.14645004272461, 15.194153785705566, 12.456948280334473, 9.165804862976074, 7.425136566162109, 6.795169830322266, 6.484936714172363, 6.363765239715576, 6.1297502517700195, 5.8594441413879395, 5.790252685546875, 5.0678582191467285, 4.960680961608887, 4.465855598449707, 4.21207332611084, 4.025726795196533, 4.011368274688721, 3.92187237739563, 3.882266044616699, 3.4519901275634766, 3.4261412620544434, 3.371933698654175, 3.150582790374756, 2.8689205646514893, 2.599365472793579, 2.4853405952453613, 2.4455857276916504, 2.305304765701294, 2.2761166095733643, 5.880225658416748, 3.1617581844329834, 4.363692760467529, 2.7374801635742188, 2.7604775428771973, 10.64167594909668, 4.772080421447754, 3.051422119140625, 2.6650030612945557, 2.2524232864379883, 2.249870538711548, 2.0002801418304443, 1.7532429695129395, 5.655430793762207, 1.6679189205169678, 1.2527865171432495, 1.2331435680389404, 2.3326416015625, 0.9204251170158386, 0.8376539349555969, 0.7548826932907104, 0.7548826932907104, 2.3150506019592285, 0.670835018157959, 0.670835018157959, 0.670835018157959, 0.5684210062026978, 0.5052925944328308, 0.5052925944328308, 0.5052925944328308, 0.5052925944328308, 0.3384736478328705, 0.3384736478328705, 0.3384736478328705, 0.3384736478328705, 1.644788146018982, 0.5880637764930725, 0.3384736478328705, 0.3384736478328705, 0.3384736478328705, 0.3384736478328705, 0.3384736478328705, 0.7729659676551819, 0.6207374334335327, 58.96152114868164, 27.5985050201416, 26.679407119750977, 19.570783615112305, 16.713102340698242, 15.536091804504395, 15.46334171295166, 14.726963996887207, 14.401494979858398, 14.246503829956055, 13.976095199584961, 13.523530006408691, 12.760818481445312, 11.375926971435547, 10.466219902038574, 10.297146797180176, 10.050396919250488, 9.844083786010742, 9.844083786010742, 9.844083786010742, 9.653069496154785, 9.251423835754395, 9.237540245056152, 8.967499732971191, 8.757791519165039, 8.564715385437012, 8.457114219665527, 8.231502532958984, 8.190705299377441, 8.190705299377441, 8.190705299377441, 46.81459426879883, 98.31733703613281, 149.57713317871094, 63.86274337768555, 19.553754806518555, 11.648114204406738, 17.60699462890625, 111.28350830078125, 124.45526123046875, 19.89414405822754, 15.46039867401123, 27.00351905822754, 17.88521385192871, 32.20269012451172, 46.17339324951172, 25.836368560791016, 16.507566452026367, 24.225454330444336, 26.232879638671875, 19.69698143005371, 17.956083297729492, 21.770017623901367, 16.706636428833008, 16.695899963378906, 36.85526657104492, 32.462303161621094, 29.081214904785156, 28.865909576416016, 26.866485595703125, 26.849227905273438, 26.49854278564453, 237.9985809326172, 22.62948226928711, 23.48458480834961, 163.42681884765625, 176.34451293945312, 16.288677215576172, 15.636486053466797, 13.53466796875, 13.178544998168945, 12.184700965881348, 11.927908897399902, 11.267969131469727, 10.792769432067871, 10.688301086425781, 10.5856294631958, 10.157349586486816, 10.102508544921875, 10.101555824279785, 10.090734481811523, 9.7479829788208, 9.718246459960938, 9.399199485778809, 9.359390258789062, 41.81124496459961, 151.12484741210938, 180.8066864013672, 15.830503463745117, 41.11684036254883, 64.7554931640625, 17.819591522216797, 87.60554504394531, 46.63220977783203, 104.46261596679688, 46.1647834777832, 37.484745025634766, 99.72504425048828, 54.19364547729492, 45.268680572509766, 149.107421875, 26.24894142150879, 219.17599487304688, 124.68656921386719, 23.878732681274414, 246.6666717529297, 85.0166015625, 131.9098663330078, 116.00045776367188, 80.76004028320312, 91.66911315917969, 94.8381118774414, 90.13717651367188, 56.009010314941406, 88.34284973144531, 95.177001953125, 57.78575897216797, 61.25068664550781, 57.70829772949219, 50.89697265625, 59.41024398803711, 50.95288848876953, 111.25688934326172, 110.39213562011719, 54.26536178588867, 45.925655364990234, 39.20851135253906, 28.573251724243164, 28.4572696685791, 28.437854766845703, 25.49549674987793, 25.231964111328125, 24.611852645874023, 23.657203674316406, 23.436628341674805, 22.674528121948242, 22.19251823425293, 21.145376205444336, 21.039731979370117, 20.68134307861328, 20.549522399902344, 19.053064346313477, 37.358219146728516, 18.914222717285156, 18.89883804321289, 21.474578857421875, 18.20779800415039, 17.857023239135742, 17.81233787536621, 17.586742401123047, 17.54738998413086, 17.140254974365234, 48.408790588378906, 23.60478401184082, 29.187929153442383, 106.3362808227539, 35.37040710449219, 55.343780517578125, 38.3983039855957, 31.571269989013672, 190.0903778076172, 83.21923828125, 31.061769485473633, 35.964473724365234, 36.78780746459961, 37.81084442138672, 39.892879486083984, 40.547489166259766, 50.27366256713867, 51.705291748046875, 53.3428840637207, 30.695192337036133, 32.909523010253906, 35.693641662597656, 42.27215576171875, 35.191707611083984, 34.24919128417969, 36.45635986328125, 31.98179054260254, 33.932518005371094, 32.82090377807617, 27.94034194946289, 13.164621353149414, 8.600056648254395, 8.340889930725098, 8.063169479370117, 6.724045276641846, 4.304964065551758, 4.304964065551758, 4.304964065551758, 4.304964065551758, 3.768078088760376, 3.768078088760376, 3.768040180206299, 9.603424072265625, 3.235316038131714, 3.2311911582946777, 2.9637794494628906, 2.8321356773376465, 2.8321356773376465, 2.8321356773376465, 2.694305181503296, 2.5605993270874023, 2.428955554962158, 2.428955554962158, 2.426893472671509, 2.426893472671509, 5.869839191436768, 1.8900070190429688, 1.8900070190429688, 5.332273006439209, 2.6358282566070557, 7.576070785522461, 6.328525066375732, 2.731670379638672, 2.632505416870117, 59.97265625, 52.404903411865234, 32.168357849121094, 28.56206512451172, 22.205385208129883, 20.81044578552246, 18.13108253479004, 17.21593475341797, 17.15859031677246, 16.603004455566406, 15.626067161560059, 15.495104789733887, 14.573283195495605, 14.126742362976074, 13.426979064941406, 13.210665702819824, 13.300532341003418, 12.283738136291504, 12.219359397888184, 11.829951286315918, 11.815645217895508, 11.038692474365234, 11.016538619995117, 10.96082592010498, 10.935145378112793, 10.92015552520752, 10.4315185546875, 10.112704277038574, 10.006940841674805, 10.00045394897461, 71.28694152832031, 79.9998779296875, 42.07014083862305, 33.2390022277832, 40.2219123840332, 20.634294509887695, 17.886938095092773, 38.2599983215332, 16.202499389648438, 45.22024154663086, 34.316688537597656, 17.91933822631836, 32.22966003417969, 39.22357940673828, 25.99555206298828, 49.08697509765625, 36.623538970947266, 27.647016525268555, 32.37327194213867, 43.95598602294922, 40.190673828125, 62.39250946044922, 29.03356170654297, 56.46871566772461, 38.296295166015625, 30.301435470581055, 25.240718841552734, 26.405521392822266, 23.851285934448242, 37.82264709472656, 30.232006072998047, 22.980152130126953, 21.57468605041504, 20.7856502532959, 19.526737213134766, 18.081838607788086, 16.935693740844727, 13.972090721130371, 13.464982986450195, 13.023627281188965, 12.968778610229492, 12.602587699890137, 12.584406852722168, 11.28630256652832, 11.040297508239746, 10.288429260253906, 10.189497947692871, 10.151196479797363, 10.004790306091309, 9.878497123718262, 9.48143196105957, 9.347954750061035, 8.897258758544922, 8.613438606262207, 8.589805603027344, 8.349410057067871, 8.082747459411621, 7.9125752449035645, 7.855277061462402, 15.239445686340332, 17.22891616821289, 11.307724952697754, 17.354957580566406, 13.007195472717285, 13.790105819702148, 22.95503807067871, 18.758455276489258, 13.607388496398926, 12.766474723815918, 13.842982292175293, 10.827444076538086, 12.006329536437988, 12.006329536437988, 10.955839157104492, 8.480924606323242, 8.008548736572266, 7.598055362701416, 6.008411407470703, 6.008411407470703, 5.4600324630737305, 4.99257755279541, 3.596674680709839, 3.5806829929351807, 3.3390886783599854, 2.9833481311798096, 2.6623411178588867, 2.320294141769409, 2.192622423171997, 2.192622423171997, 2.0081450939178467, 2.0081450939178467, 2.0081450939178467, 2.0081450939178467, 2.0081450939178467, 1.8755826950073242, 1.7805497646331787, 1.557334542274475, 1.494791865348816, 1.3403825759887695, 1.261978030204773, 1.1149282455444336, 11.674510955810547, 5.451480388641357, 7.327456951141357, 2.678363800048828, 2.890739917755127, 58.659934997558594, 43.39909744262695, 35.36708450317383, 29.744665145874023, 28.941463470458984, 28.759294509887695, 21.712646484375, 20.90944480895996, 20.90944480895996, 20.449321746826172, 20.190414428710938, 20.10624122619629, 19.303037643432617, 18.49983787536621, 18.49983787536621, 18.49983787536621, 17.159774780273438, 16.090232849121094, 16.090232849121094, 16.090232849121094, 16.090232849121094, 14.978891372680664, 14.483827590942383, 14.483827590942383, 14.483827590942383, 14.483827590942383, 14.483827590942383, 13.680625915527344, 13.680625915527344, 13.680625915527344, 13.680625915527344, 113.61531066894531, 18.36858558654785, 82.02255249023438, 167.4127655029297, 92.22124481201172, 5.758058071136475, 5.216127395629883, 3.853764533996582, 2.5072975158691406, 1.9458380937576294, 1.8094905614852905, 1.4928852319717407, 1.408986210823059, 1.3088091611862183, 0.811410129070282, 0.8114100694656372, 4.957448959350586, 0.7678227424621582, 0.7255417704582214, 0.7255417704582214, 0.6546662449836731, 0.6155803203582764, 0.5810397863388062, 0.5642966628074646, 0.47927671670913696, 2.2223470211029053, 0.4482914209365845, 2.7717952728271484, 0.4120542109012604, 0.4120542109012604, 0.36607617139816284, 0.36607617139816284, 0.35905659198760986, 0.35905659198760986, 0.3110954165458679, 0.3110954761505127, 2.7920775413513184, 2.2726776599884033, 1.5290969610214233, 0.5750230550765991, 18.347604751586914, 31.278614044189453, 12.581156730651855, 10.280086517333984, 7.7460503578186035, 6.978263854980469, 6.954434394836426, 6.403677940368652, 6.196343898773193, 126.38201141357422, 5.6931352615356445, 5.582329273223877, 5.279784202575684, 5.204314231872559, 5.1800761222839355, 7.577808856964111, 4.789397716522217, 4.311030387878418, 4.22438907623291, 4.201306343078613, 4.124654769897461, 3.7617361545562744, 3.466867446899414, 3.41593337059021, 3.333397626876831, 3.21710467338562, 3.0805091857910156, 2.9711356163024902, 2.8422460556030273, 2.8100333213806152, 49.64693069458008, 22.279434204101562, 6.667826175689697, 8.109233856201172, 13.9201078414917, 8.183035850524902, 7.664389133453369, 8.380036354064941, 3.9776556491851807, 4.387580394744873, 90.81043243408203, 77.07049560546875, 20.6911678314209, 16.57619857788086, 13.608988761901855, 12.577686309814453, 12.457846641540527, 10.551326751708984, 10.217950820922852, 9.845711708068848, 9.1767578125, 9.07447624206543, 8.591687202453613, 8.556172370910645, 8.08790111541748, 7.777607440948486, 140.151611328125, 6.588409423828125, 6.554594039916992, 6.290416717529297, 5.8915228843688965, 5.675414085388184, 5.499551773071289, 5.155170917510986, 5.012617588043213, 4.952638626098633, 4.930938243865967, 4.739016532897949, 17.432531356811523, 4.620645999908447, 8.412683486938477, 47.47378921508789, 18.2589168548584, 33.82442855834961, 52.955692291259766, 47.163246154785156, 35.98121643066406, 14.281340599060059, 8.570347785949707, 113.63419342041016, 31.508943557739258, 121.75443267822266, 62.47119140625, 62.255977630615234, 13.416584014892578, 22.89522933959961, 14.50477123260498, 27.11002540588379, 33.89232635498047, 63.436187744140625, 31.972061157226562, 26.239307403564453, 16.852312088012695, 20.598424911499023, 20.296140670776367, 17.40456771850586, 15.289365768432617, 15.228065490722656, 5.608146667480469, 5.3836236000061035, 5.159099578857422, 2.739687442779541, 2.5151641368865967, 2.5151641368865967, 2.5151641368865967, 2.5151641368865967, 2.5151641368865967, 2.5151641368865967, 2.5151641368865967, 2.5151641368865967, 2.2906408309936523, 2.2906408309936523, 2.2906408309936523, 2.0661168098449707, 1.4841701984405518, 1.4841701984405518, 1.4841701984405518, 1.4841701984405518, 1.2596466541290283, 1.2596466541290283, 1.2596466541290283, 1.2596466541290283, 1.2596466541290283, 1.2596466541290283, 1.2596466541290283, 1.2596466541290283, 1.2596466541290283, 1.2596466541290283, 1.2596466541290283, 1.2596466541290283, 1.2596466541290283, 1.2596466541290283, 1.2596466541290283, 1.2596466541290283, 1.2596466541290283, 5.370826244354248, 2.510493516921997, 2.3493125438690186, 65.14857482910156, 49.204044342041016, 38.160545349121094, 38.12275314331055, 36.13238525390625, 27.64887809753418, 27.197132110595703, 26.24405860900879, 26.18452262878418, 23.739776611328125, 23.38774871826172, 22.45551300048828, 20.986215591430664, 18.10519027709961, 18.10519027709961, 17.505430221557617, 17.202821731567383, 16.691617965698242, 16.393234252929688, 15.312329292297363, 14.724626541137695, 14.724626541137695, 14.469696998596191, 13.916383743286133, 13.613653182983398, 13.358735084533691, 13.28628158569336, 13.001795768737793, 12.966047286987305, 12.701889038085938, 40.95819091796875, 54.463645935058594, 57.13277816772461, 82.56983184814453, 30.824777603149414, 52.63148498535156, 50.45862579345703, 42.09324264526367, 218.32302856445312, 46.665428161621094, 37.67970275878906, 34.13077163696289, 30.008438110351562, 128.51315307617188, 55.130558013916016, 47.08353042602539, 46.1673469543457, 69.9229736328125, 109.64524841308594, 89.18877410888672, 42.862388610839844, 54.827335357666016, 114.11135864257812, 44.112022399902344, 77.7065200805664, 48.53376007080078, 50.351280212402344, 85.70641326904297, 60.145999908447266, 40.02436447143555, 39.63105392456055, 204.71136474609375, 193.3018798828125, 129.71768188476562, 111.33322143554688, 108.4140625, 90.55648803710938, 89.0902099609375, 82.59463500976562, 80.16211700439453, 75.37731170654297, 72.27217102050781, 86.932861328125, 109.04505920410156, 63.17640686035156, 60.70397186279297, 58.16053009033203, 57.27412796020508, 56.953025817871094, 56.61189651489258, 55.27817153930664, 54.64649963378906, 52.99978256225586, 53.361961364746094, 52.07697677612305, 51.46098327636719, 50.62517166137695, 50.12479019165039, 49.18951416015625, 47.77315902709961, 47.64639663696289, 91.20354461669922, 398.2179260253906, 190.75552368164062, 197.23008728027344, 87.23629760742188, 209.6996307373047, 193.30116271972656, 135.76040649414062, 98.26201629638672, 170.50650024414062, 131.72715759277344, 184.9344024658203, 115.91854095458984, 85.36106872558594, 294.90093994140625, 430.32373046875, 115.06105041503906, 303.16107177734375, 297.24127197265625, 265.3453369140625, 183.09805297851562, 542.8656005859375, 208.30845642089844, 184.59864807128906, 240.6359100341797, 150.50064086914062, 255.6826934814453, 254.33734130859375, 220.4503173828125, 172.146240234375, 175.0736083984375, 164.295166015625, 161.4415283203125, 142.02716064453125, 141.61566162109375, 140.7051544189453, 0.16800571978092194, 0.04268166050314903, 0.021794315427541733, 0.021794315427541733, 0.021794315427541733, 0.021794315427541733, 0.021794315427541733, 0.021794315427541733, 0.021794315427541733, 0.021794315427541733, 0.021794315427541733, 0.021794315427541733, 0.021794315427541733, 0.021794315427541733, 0.021794315427541733, 0.02179430052638054, 0.000906979781575501, 0.000906979781575501, 0.000906979781575501, 0.000906979781575501, 0.000906979781575501, 0.000906979781575501, 0.000906979781575501, 0.000906979781575501, 0.000906979781575501, 0.000906979781575501, 0.000906979781575501, 0.000906979781575501, 0.000906979781575501, 0.000906979781575501, 0.000906979781575501, 0.0009069818188436329, 0.000906979781575501, 0.000906979781575501, 0.000906979781575501, 0.000906979781575501, 0.000906979781575501, 0.000906979781575501, 0.000906979781575501, 0.000906979781575501, 0.000906979781575501, 0.000906979781575501, 0.000906979781575501, 0.000906979781575501, 0.000906979781575501, 2.732304811477661, 2.1129581928253174, 2.4418346881866455, 1.7648546695709229, 1.4145280122756958, 1.4145280122756958, 1.3028022050857544, 1.061499834060669, 1.0614995956420898, 1.0614995956420898, 0.8587663769721985, 0.7098223567008972, 0.7062486410140991, 0.6222407221794128, 0.6222407221794128, 0.6222407221794128, 0.612079381942749, 0.5261607766151428, 0.44215288758277893, 0.4195072054862976, 0.4195072054862976, 0.35814493894577026, 0.35814493894577026, 0.35814493894577026, 0.35814493894577026, 0.35814493894577026, 0.35814493894577026, 0.35814493894577026, 0.35814493894577026, 0.35814493894577026, 0.35814493894577026, 0.35814493894577026, 0.35814493894577026, 0.35814493894577026, 0.35814493894577026, 0.35814493894577026, 0.35814493894577026, 0.35814493894577026, 0.35814493894577026, 0.35814493894577026, 0.35814493894577026, 0.35814493894577026, 0.35814493894577026, 0.35814493894577026, 0.35814493894577026, 0.35814493894577026, 0.35814493894577026, 0.35814493894577026, 0.35814493894577026, 0.35814493894577026, 0.35814493894577026, 0.8344161510467529, 0.35814493894577026, 0.35814493894577026, 0.35814493894577026, 0.7081684470176697, 0.35814493894577026, 0.35814493894577026, 0.35814493894577026, 0.35814493894577026, 0.35814493894577026, 0.35814493894577026, 0.35814493894577026, 0.35814493894577026, 0.35814493894577026, 0.35814493894577026, 0.39042794704437256, 0.35814493894577026, 0.35814493894577026, 0.35814493894577026, 0.35814493894577026, 0.35814493894577026, 0.3706490993499756, 0.35814493894577026], \"Term\": [\"theglobeandmail\", \"oil\", \"canada\", \"per_cent\", \"article\", \"energy\", \"alberta\", \"company\", \"market\", \"photo\", \"inc\", \"government\", \"city\", \"sent_words\", \"toronto\", \"mr\", \"vancouver\", \"production\", \"federal\", \"corp\", \"information\", \"photos\", \"million\", \"one\", \"words\", \"cannabis\", \"new\", \"companies\", \"statements\", \"ltd\", \"dd\", \"cortex\", \"tenant\", \"id\", \"relate\", \"iv\", \"reserved\", \"replay\", \"bd\", \"callidus\", \"weddings\", \"ap_org\", \"anytime\", \"atk\", \"food_column\", \"deploying\", \"url\", \"na_safelinks\", \"data_cdleeder\", \"sdata\", \"ab_bfd\", \"herd\", \"cal\", \"sliced\", \"tranches\", \"milton\", \"ca_fnews\", \"intake\", \"donair_cupcake\", \"fwww_newswire\", \"pan_orient\", \"thailand_joint\", \"questor\", \"thailand\", \"dorel\", \"mcteague\", \"mgx\", \"foscolos\", \"brine\", \"industrial_alliance\", \"questortech\", \"mgxminerals\", \"purlucid\", \"ygr\", \"gasbuddy\", \"combustion\", \"anggun_exploration\", \"sawn_lake\", \"municipal_aggregation\", \"split_congress\", \"choice_reit\", \"mascarenhas\", \"ur\", \"elias\", \"hdi\", \"evaporation\", \"neo\", \"crius\", \"petrucci\", \"ntr\", \"ftt\", \"jabung\", \"pason\", \"andora\", \"siam\", \"excl\", \"tervita_corp\", \"tev\", \"rental_fleet\", \"facsimile_email\", \"oilfield\", \"dan\", \"snc\", \"markets_stocks\", \"ranking\", \"usa\", \"kill\", \"meantime\", \"bird\", \"hellofresh\", \"nickname\", \"dpa\", \"francois\", \"surprising\", \"canopy\", \"marks\", \"bunch\", \"explosive\", \"beautiful\", \"proxy\", \"acceleration\", \"consistently\", \"shops\", \"riocan\", \"morgan\", \"united_kingdom\", \"threshold\", \"wealthy\", \"criminal_trial\", \"ranch\", \"sheer\", \"insider\", \"corruption\", \"ranks\", \"bruce\", \"neil\", \"lakes\", \"olympics\", \"presentation\", \"litres\", \"earned\", \"machine\", \"employees\", \"saudi\", \"saudi_arabia\", \"valued\", \"company\", \"parliament_hill\", \"calculation\", \"engineering\", \"forest\", \"could\", \"would\", \"one\", \"ceo\", \"says\", \"billion\", \"business\", \"years\", \"canadian\", \"top\", \"canada\", \"among\", \"management\", \"work\", \"world\", \"dried\", \"ranked\", \"kilograms\", \"slight\", \"inched\", \"affordability\", \"enjoys\", \"cowan\", \"crea\", \"david_parkinson\", \"gregor\", \"respondents\", \"landlord\", \"dispensary\", \"nm\", \"transunion\", \"dinosaur\", \"butane\", \"stabilizing\", \"cote\", \"bucked\", \"linton\", \"flower\", \"localized\", \"pep\", \"habits\", \"abel\", \"innu\", \"edibles\", \"slip\", \"legalization\", \"cannabis\", \"drag\", \"pot\", \"recreational\", \"shortages\", \"buyers\", \"survey\", \"hot\", \"housing\", \"real_estate\", \"mortgage\", \"supply\", \"health\", \"stores\", \"legal\", \"home\", \"sales\", \"demand\", \"product\", \"store\", \"market\", \"toronto\", \"continue\", \"credit\", \"edmonton\", \"areas\", \"expected\", \"canada\", \"numbers\", \"epp\", \"populist\", \"bikes\", \"populism\", \"pcs\", \"joy\", \"regret\", \"memorial\", \"mcgill\", \"progressives\", \"apologizes\", \"rachel\", \"trike\", \"darcy\", \"unionized\", \"unifor\", \"immigrant\", \"investigative\", \"gratitude\", \"slogan\", \"asylum\", \"ben\", \"condolences\", \"harley\", \"clinic\", \"kindness\", \"albert\", \"dias\", \"sonia\", \"walter\", \"nationalist\", \"sad\", \"word\", \"wonderful\", \"trans\", \"thestar\", \"transglobe\", \"left\", \"scheer\", \"politics\", \"lewis\", \"wishes\", \"bob\", \"ok\", \"right\", \"read\", \"throughout\", \"trump\", \"toronto\", \"news\", \"world\", \"person\", \"party\", \"liberal\", \"made\", \"thomas\", \"common_shares\", \"working_capital\", \"precision\", \"uncertainties\", \"trinidad\", \"statements_contained\", \"ncib\", \"prairie_provident\", \"herein\", \"document\", \"miscellaneous_miscellaneous\", \"credit_facility\", \"revise\", \"mt\", \"unknown_risks\", \"tsx_venture\", \"pleased\", \"lands\", \"arbitration\", \"globenewswire\", \"pursuant\", \"cubic_feet\", \"tailings\", \"tracker_data\", \"constitute_forward\", \"achievements\", \"fox_creek\", \"investor_relations\", \"date_hereof\", \"ppr\", \"globe_newswire\", \"obligation\", \"periods\", \"contact_industry\", \"information_please\", \"transmitted\", \"expense\", \"securities\", \"information\", \"news_release\", \"forward_looking\", \"statements\", \"newswire\", \"corporation\", \"gross\", \"subject\", \"strategic\", \"company\", \"financing\", \"contact\", \"comparable\", \"commercial\", \"estimate\", \"may\", \"management\", \"including\", \"shareholders\", \"services\", \"officer\", \"financial\", \"tsx\", \"factors\", \"number\", \"business\", \"calgary\", \"project\", \"energy\", \"development\", \"time\", \"alberta\", \"alec\", \"delaney\", \"walmart\", \"mayoral\", \"rowland\", \"nicola\", \"reactivation\", \"matias\", \"josie\", \"visualize\", \"marlowe\", \"milan\", \"tara\", \"parkway\", \"battalion\", \"ricardo\", \"strolling\", \"memphis\", \"rounded\", \"renaissance\", \"rebuilding\", \"glen\", \"geoff\", \"apprentice\", \"affirming\", \"belgium\", \"incorporating\", \"kin\", \"nuns\", \"fatalities\", \"dalhousie\", \"premiers\", \"arrangement\", \"population\", \"calgarians\", \"nenshi\", \"electricity\", \"learn\", \"happening\", \"greens\", \"priorities\", \"plebiscite\", \"pallister\", \"olympic_bid\", \"insists\", \"federation\", \"becomes\", \"routine\", \"generators\", \"dealing\", \"servicing\", \"bills\", \"literally\", \"meal\", \"easy\", \"aware\", \"focuses\", \"irvings\", \"attended\", \"whatever\", \"sit\", \"explain\", \"want\", \"irving\", \"fill\", \"meetings\", \"feel\", \"canadians\", \"example\", \"shop\", \"try\", \"understand\", \"small\", \"something\", \"people\", \"get\", \"thing\", \"lot\", \"way\", \"debate\", \"different\", \"done\", \"giving\", \"money\", \"think\", \"like\", \"going\", \"city\", \"right\", \"twitter\", \"need\", \"really\", \"calgary\", \"government\", \"support\", \"things\", \"good\", \"trudeau\", \"would\", \"work\", \"federal\", \"much\", \"alberta\", \"political\", \"time\", \"economic\", \"country\", \"one\", \"says\", \"many\", \"province\", \"new\", \"also\", \"canada\", \"years\", \"well\", \"could\", \"huawei\", \"morning_update\", \"exit\", \"speaker\", \"usmca\", \"detail\", \"globe_editorial\", \"evening_update\", \"politics_briefing\", \"poised\", \"securely_reach\", \"share_documents\", \"trip\", \"news_tip\", \"via_securedrop\", \"mailto_tips\", \"tips_globeandmail\", \"nissan\", \"grewal\", \"saudis\", \"conflict\", \"sink\", \"burnaby_south\", \"shawn_mccarthy\", \"canfor\", \"gambling\", \"money_laundering\", \"somewhat\", \"robertson\", \"battles\", \"good_morning\", \"arrest\", \"opinion_article\", \"opioid\", \"nafta\", \"article\", \"mail\", \"theglobeandmail\", \"politics\", \"globe\", \"sign\", \"eu\", \"brexit\", \"british\", \"amid\", \"canada\", \"deal\", \"britain\", \"china\", \"globeandmail\", \"world\", \"subscribers\", \"us\", \"story\", \"house\", \"business\", \"mr\", \"like\", \"trump\", \"news\", \"case\", \"agreement\", \"go\", \"new\", \"government\", \"canadian\", \"may\", \"one\", \"photo\", \"sent_words\", \"photos\", \"duplication\", \"upcoming_words\", \"guard\", \"ap\", \"gallant\", \"moves_national\", \"writethru\", \"coal_plants\", \"photos_video\", \"coverage_plans\", \"cda\", \"upcoming_developing\", \"murder_trial\", \"blaine_higgs\", \"news_develops\", \"eastern_unless\", \"otherwise_stated\", \"midterm\", \"newsroom_ap\", \"migrants\", \"craig_wong\", \"mainslots\", \"previous_advisory\", \"nb\", \"asylum_seekers\", \"apnews\", \"please_guard\", \"words\", \"top_stories\", \"california\", \"florida\", \"writer\", \"trump\", \"election\", \"updated\", \"says\", \"ottawa\", \"halifax\", \"border\", \"president_donald\", \"military\", \"friday\", \"video\", \"police\", \"new\", \"toronto\", \"tuesday\", \"ont\", \"government\", \"quebec\", \"year\", \"city\", \"montreal\", \"news\", \"thursday\", \"national\", \"ces\", \"liquids_mboe\", \"mboe\", \"nxt\", \"annuity_maintenance\", \"software_license\", \"previous_fiscal\", \"license_revenue\", \"nig\", \"eastern_hemisphere\", \"williston\", \"umbach\", \"arkoma\", \"uinta\", \"sfd\", \"fireweed\", \"ebitdac\", \"revenue_recognition\", \"condensed_consolidated\", \"direct_employee\", \"purechem\", \"cumulative_effect\", \"cdn_gj\", \"niko\", \"perpetual_license\", \"drilling_fluids\", \"wcsb\", \"mmcf_hz\", \"sumas\", \"consumable\", \"deferred_revenue\", \"commentid\", \"redevelop\", \"amid_slumping\", \"cd\", \"bow\", \"fa\", \"capita\", \"rail_transport\", \"pineau\", \"puck_sized\", \"echo\", \"cn_pushes\", \"furthering\", \"cb\", \"df\", \"circumstance\", \"aa\", \"privatize\", \"clarida\", \"socialize\", \"scrambles\", \"bf\", \"ff\", \"shady\", \"ppc\", \"colfax\", \"niceness\", \"onus\", \"fbf\", \"mcgee\", \"ee\", \"multitude\", \"ae\", \"comments\", \"quebecers\", \"ea\", \"bb\", \"gives_speech\", \"bernier\", \"massive_clean\", \"highlight\", \"ac\", \"readers\", \"da\", \"doodle\", \"drumheller\", \"tyrrell\", \"doodles\", \"albertosaurus\", \"badlands\", \"googlers\", \"pellets\", \"left_leaning\", \"hurdle\", \"langley\", \"absurd\", \"bags\", \"patchwork\", \"palaeontology\", \"fossils\", \"paleotological\", \"flesh\", \"exhibits\", \"fernie\", \"burr\", \"brainstorm\", \"sarcophagus\", \"anniversaries\", \"amber\", \"abduction\", \"recycled\", \"dilutive\", \"softwood\", \"conveyor\", \"julie\", \"fell\", \"opec\", \"inflation\", \"bmo\", \"economists\", \"auto\", \"slightly\", \"versus\", \"per_cent\", \"cycle\", \"modest\", \"basic\", \"reuters\", \"offshore\", \"snc_lavalin\", \"disputes\", \"sept\", \"interest_rate\", \"central_bank\", \"larger\", \"rbc\", \"cibc\", \"newfield_exploration\", \"wage_growth\", \"bell\", \"wall_street\", \"poloz\", \"ended_sept\", \"slump\", \"therefore\", \"rose\", \"encana\", \"drop\", \"dropped\", \"dollar\", \"bank\", \"cents\", \"index\", \"profit\", \"prices\", \"higher\", \"rising\", \"markets\", \"deficit\", \"cuts\", \"october\", \"increases\", \"wednesday\", \"growth\", \"lower\", \"output\", \"year\", \"us\", \"since\", \"month\", \"market\", \"economy\", \"canadian\", \"analysts\", \"global\", \"also\", \"cut\", \"trade\", \"business\", \"sector\", \"canada\", \"oil\", \"next\", \"price\", \"billion\", \"economic\", \"million\", \"inc\", \"average\", \"per\", \"new\", \"energy\", \"mr\", \"apples\", \"orchard\", \"oytlz\", \"noivrzsvxky\", \"usi\", \"sorensen\", \"rjtv\", \"refiled\", \"pieridaeenergy\", \"litoski\", \"immmovd_cj\", \"i_abzywt\", \"goldboro\", \"bgl\", \"voi\", \"pea\", \"tech_news\", \"thoughtlessly\", \"afield\", \"stocking\", \"juggernaut\", \"partsource\", \"midprice\", \"monette\", \"derailments\", \"workrest\", \"sleeprelated\", \"collisions\", \"doughnut\", \"ripping\", \"merchandizer\", \"leanin\", \"titles\", \"constituency\", \"bothered\", \"brainstorms\", \"breakdown\", \"bulwark\", \"bungling\", \"capture\", \"carole\", \"coalitions\", \"cocktail\", \"compensatory\", \"consolidating\", \"constituencies\", \"wooing\", \"belongs\", \"consuming\", \"consummately\", \"convoluted\", \"danes\", \"danish\", \"decides\", \"decry\", \"defy\", \"desirable\", \"devotion\", \"distracted\", \"eagerly\", \"mustard\", \"juice\", \"provision\", \"distraction\", \"lalousis\", \"brightly\", \"declares\", \"flavours\", \"maille\", \"dijon\", \"mr_venning\", \"rein\", \"marys\", \"mustard_seed\", \"hungry\", \"foothills\", \"mango\", \"ryerson\", \"wineries\", \"lemon\", \"smiles\", \"sommelier\", \"condiment\", \"blended\", \"imbued\", \"muse\", \"coronation\", \"coloured\", \"dishes\", \"abundance\", \"label\", \"paris\", \"oldest\", \"hosts\", \"work_camp\", \"stack\", \"spokesman\", \"traverse\", \"shelters\", \"preserve\", \"propane\", \"modular\", \"structural\", \"foothold\", \"sporadic\", \"const\", \"hazardous\", \"tron\", \"object\", \"chairwoman\", \"northern_minnesota\", \"stamp\", \"sheet\", \"lgbtq_community\", \"apartments\", \"crosses\", \"pristine\", \"unplanned\", \"ensuing\", \"foundations\", \"megantic\", \"highways\", \"hurl\", \"gate\", \"essay\", \"protects\", \"enbridge\", \"hearing\", \"line\", \"slave\", \"boe\", \"ended_september\", \"capital_expenditures\", \"funds_flow\", \"bbl\", \"months_ended\", \"adjusted_funds\", \"operating_netback\", \"summary\", \"guidance\", \"operating_activities\", \"mcf\", \"ifrs\", \"mmcf\", \"non_gaap\", \"non_ifrs\", \"diluted\", \"questerre\", \"netback\", \"net_loss\", \"decreased\", \"delphi\", \"bengal\", \"share_basic\", \"operating_expenses\", \"pouce_coupe\", \"bbls\", \"aeco\", \"mmbtu\", \"zargon\", \"flow\", \"ebitda\", \"natural_gas\", \"drilling\", \"net\", \"birchcliff\", \"operating\", \"net_income\", \"cash\", \"montney\", \"operations\", \"total\", \"production\", \"revenue\", \"per\", \"million\", \"september\", \"period\", \"exploration\", \"approximately\", \"compared\", \"company\", \"capital\", \"quarter\", \"third_quarter\", \"performance\", \"costs\", \"current\", \"wells\", \"increased\", \"income\", \"results\", \"oil\", \"financial\", \"well\", \"average\", \"statements\", \"information\", \"three\", \"share\", \"forward_looking\", \"speakers\", \"interfering\", \"rocky_mountain\", \"twitter_bren_doherty\", \"rainforest\", \"farkas\", \"corcoran\", \"csr\", \"esg\", \"anti_immigrant\", \"great_bear\", \"mc\", \"ward_councillor\", \"ced\", \"lifespan\", \"random\", \"wealth_reporter\", \"ominayak\", \"hive\", \"showcase\", \"biodiversity\", \"rainy\", \"cow\", \"yellow_vest\", \"pierce\", \"office_budgets\", \"medicine_hat\", \"optimum\", \"demong\", \"keystone\", \"vocal\", \"station\", \"motion\", \"demonstrators\", \"battershill\", \"councillors\", \"rally\", \"council\", \"city\", \"action\", \"monday\", \"support\", \"crowd\", \"councillor\", \"pro\", \"globe_investor\", \"beta_theglobeandmail\", \"bce\", \"investing_investment\", \"enerplus\", \"ideas_article\", \"inactive_wells\", \"small_cap\", \"downgrades\", \"analyst_upgrades\", \"reit\", \"business_streetwise\", \"lowered\", \"gain_loss\", \"segments\", \"buy_rating\", \"loblaw\", \"profit_rises\", \"raymond_james\", \"valuation\", \"streetwise\", \"david_berman\", \"managers\", \"yields\", \"brookfield\", \"insider_report\", \"sun_life\", \"article_thursdays\", \"outperforming\", \"unfunded\", \"investing_markets\", \"inside\", \"stocks\", \"perpetual\", \"stock\", \"investing\", \"subscribers\", \"theglobeandmail\", \"investors\", \"target\", \"article\", \"buy\", \"market\", \"buying\", \"globe\", \"corp\", \"inc\", \"portfolio\", \"earnings\", \"analyst\", \"dividend\", \"shares\", \"mail\", \"financial\", \"mr\", \"assets\", \"tsx\", \"year\", \"business\", \"companies\", \"markets\", \"rent\", \"bike\", \"budget_documents\", \"purpose_built\", \"rents\", \"lubicon\", \"towers\", \"star_analysis\", \"vacancy_rate\", \"sidewalks\", \"app\", \"rebuild\", \"atkey\", \"small_town\", \"hulchanski\", \"vacancy_rates\", \"unitholders\", \"nights\", \"lovitt\", \"bottle\", \"shaved\", \"repurposed\", \"fence\", \"distrust\", \"zoning\", \"respects\", \"microsoft\", \"precise\", \"ctrain\", \"flavour\", \"rental\", \"transit\", \"fun\", \"residential\", \"visited\", \"property\", \"star\", \"cities\", \"city\", \"downtown\", \"toronto\", \"housing\", \"developers\", \"nine_months\", \"aer\", \"oilsands\", \"export\", \"bitumen\", \"lng\", \"transcanada\", \"spokesperson\", \"stewart\", \"steam\", \"refineries\", \"competitiveness\", \"capture\", \"sites\", \"sands\", \"cleaning\", \"gj\", \"wadsworth_presentation\", \"raw\", \"national_observer\", \"pipeline_capacity\", \"case_scenario\", \"surface\", \"curtailment\", \"compare\", \"shutting\", \"timelines\", \"tonne\", \"logistics\", \"wadsworth\", \"regulator\", \"rail\", \"pipelines\", \"differential\", \"industry\", \"oil\", \"gas\", \"alberta\", \"clean\", \"pipeline\", \"companies\", \"begin\", \"energy\", \"billion\", \"producers\", \"project\", \"western\", \"heavy\", \"environmental\", \"cost\", \"would\", \"government\", \"canada\", \"production\", \"canadian\", \"price\", \"province\", \"crude\", \"new\", \"costs\", \"calgary\", \"could\", \"million\", \"iron\", \"sheraton\", \"reviewing\", \"birds\", \"implementation\", \"marriott\", \"melanie\", \"examination\", \"nazi\", \"startup\", \"duly\", \"deutsche_bank\", \"adventure\", \"waterfront\", \"administrator\", \"fishery\", \"lush\", \"orr\", \"aquatic\", \"honda\", \"oiled\", \"starwood\", \"artificial_intelligence\", \"pivotal\", \"signatures\", \"taste\", \"naloxone\", \"syndrome\", \"spanish\", \"aete\", \"boycott\", \"wisdom\", \"location\", \"spell\", \"license\", \"ppr_shares\", \"gossain\", \"cultivation\", \"ancillary_transactions\", \"nacg\", \"restated\", \"subscription_receipts\", \"nacg_ca\", \"atlas\", \"prepayment\", \"contemplated\", \"genetics\", \"prudential\", \"release_contains\", \"csa\", \"dbrunetta\", \"acheson\", \"issuable\", \"entitle\", \"libor\", \"requisite\", \"biotechnologies\", \"upsized\", \"ottawacitizen\", \"cced\", \"bdc\", \"shareholdings\", \"reimbursable\", \"irrevocably\", \"refunded\", \"revolving_facility\", \"matures\", \"supplemented\", \"entitling\", \"elects\", \"misma\", \"therefor\", \"borrowings\", \"cdor\", \"surrey\", \"cmhc\", \"maclean\", \"gary_mason\", \"mccallum\", \"renters\", \"coroners\", \"cox\", \"vacant\", \"james_keller\", \"click\", \"bailey\", \"mall\", \"lower_mainland\", \"lenz\", \"accommodating\", \"weekly_western\", \"sahota\", \"stueck\", \"expropriate\", \"taxed\", \"holder\", \"caribbean\", \"non_binding\", \"barrie_mckenna\", \"wont\", \"konrad_yakabuski\", \"exercised\", \"editor_wendy\", \"jkeller_globeandmail\", \"experimenting\", \"units\", \"british_columbia\", \"vancouver\", \"housing\", \"newsletters\", \"justin_giovannetti\", \"midterms\", \"article\", \"theglobeandmail\", \"mayor_elect\", \"map\", \"bc\", \"web\", \"week\", \"new\", \"pay\", \"administrative\", \"western\", \"city\", \"income\", \"bid\", \"canada\", \"plan\", \"two\", \"emitters\", \"northern_gateway\", \"capp\", \"minister_catherine\", \"suttles\", \"tobin\", \"coal_fired\", \"carbon_tax\", \"kitimat\", \"equalization\", \"carbon\", \"higgs\", \"john_sopinski\", \"haisla\", \"rebate\", \"greenhouse_gases\", \"disagree\", \"fuels\", \"lobby\", \"queen_park\", \"tax_burden\", \"interprovincial_trade\", \"freepress_mb\", \"quash\", \"laboucan\", \"poorer\", \"occurs\", \"leblanc\", \"explicitly\", \"handled\", \"carbon_pricing\", \"provinces\", \"emissions\", \"levy\", \"legault\", \"coal\", \"power_plants\", \"climate\", \"morneau\", \"new_brunswick\", \"cap\", \"promised\", \"liberals\", \"finance_minister\", \"taxpayers\", \"trudeau\", \"mckenna\", \"federal\", \"tax\", \"terminal\", \"government\", \"meeting\", \"ottawa\", \"province\", \"provincial\", \"plan\", \"pipeline\", \"election\", \"climate_change\", \"ontario\", \"mr\", \"premier\", \"quebec\", \"prime_minister\", \"taxes\", \"project\", \"court\", \"ellis\", \"cleanup\", \"discovery\", \"animal\", \"harvest\", \"fee\", \"prescribed\", \"staggering\", \"races\", \"aging\", \"newspaper\", \"idle\", \"die\", \"defunct\", \"looming_financial\", \"gord\", \"redemption\", \"nova\", \"patch_inside\", \"images\", \"processes\", \"shore\", \"corporate_governance\", \"inactive\", \"retreat\", \"bookings\", \"article_hustle\", \"accompanying\", \"apparently\", \"establish\", \"farmers\", \"string\", \"cold\", \"land\", \"original\", \"jim\", \"abandoned\", \"controlled\", \"one\", \"story\", \"jan\", \"facebook\", \"offers\", \"documents\", \"patch\", \"investigation\", \"old\", \"life\", \"wells\", \"books\", \"site\", \"history\", \"even\", \"water\", \"saskatchewan\", \"work\", \"comes\", \"time\", \"also\", \"strad\", \"industrial_matting\", \"matting_fleet\", \"voting_rights\", \"funded_debt\", \"stradenergy\", \"bank_indebtedness\", \"rig_counts\", \"longer_adjusting\", \"losses_resulting\", \"covenant_ebitda\", \"amortization_ebit\", \"amortization_ebitda\", \"matting\", \"base_mine\", \"deduct_depreciation\", \"hutchinson\", \"limited_henderson\", \"water_capped\", \"schindler\", \"mats\", \"pathways\", \"directive_ec\", \"dtr\", \"donovan\", \"pernal\", \"reconciliations\", \"apernal\", \"mdonovan\", \"finance_lease\", \"similarly_defined\", \"ebit\", \"property_plant\", \"revolving_facility\", \"trailing_twelve\", \"nationalism\", \"venture\", \"halt\", \"mandate\", \"desperate\", \"appointment\", \"subsequently\", \"inclusive\", \"osborne\", \"emphasis\", \"intentions\", \"processed\", \"disclosures\", \"bachelor\", \"colour\", \"diverse\", \"staffing\", \"andrew_jeffrey\", \"benefiting\", \"educational\", \"controlling\", \"abortion\", \"professionals\", \"hammer\", \"dividing\", \"passionate\", \"attitude\", \"appoint\", \"recipient\", \"accepting\", \"ms\", \"corporate\", \"matters\", \"chair\", \"programs\", \"degree\", \"focusing\", \"solutions\", \"specialized\", \"finance\", \"experience\", \"keeps\", \"leadership\", \"research\", \"software\", \"program\", \"leading\", \"appears\", \"free\", \"board\", \"tax\", \"alberta\", \"fund\", \"canada\", \"companies\", \"birchcliff\", \"committee\", \"development\", \"firm\", \"quarterly_profit\", \"graphic\", \"shippers\", \"careers\", \"exceeding\", \"depressed\", \"headquarters\", \"outperform\", \"turner\", \"starbucks\", \"neighbourhoods\", \"janet\", \"sunlife\", \"lord\", \"hauling\", \"locomotives\", \"collecting\", \"popped\", \"engines\", \"listings\", \"suspending\", \"factory\", \"josh\", \"plagued\", \"drain\", \"concentrating\", \"worrying\", \"bin\", \"commonwealth\", \"oversold\", \"tracks\", \"cn\", \"terminals\", \"shutdowns\", \"bedroom\", \"projection\", \"recover\", \"slowdown\", \"entering\", \"railway\", \"denver\", \"noting\", \"leszczyc\", \"glogovac\", \"licensed_producers\", \"donated\", \"omarmosleh\", \"jason\", \"aglc\", \"dampier\", \"growers\", \"hemp\", \"notices\", \"liquor\", \"nancy_pelosi\", \"franchises\", \"donors\", \"roseanne\", \"jarbeau\", \"tammy\", \"numo\", \"bi\", \"kaleigh\", \"licensees\", \"restocked\", \"expressing\", \"impaired_driving\", \"lyrics\", \"leg\", \"unlicensed\", \"eighteen\", \"emeritus\", \"miller\", \"weed\", \"licensed\", \"george_weston\", \"chain\", \"class_actions\", \"commercial_litigation\", \"practice_focuses\", \"bennett_jones\", \"product_liability\", \"bio\", \"bennettjones\", \"press_pages\", \"complex_commercial\", \"iiroc\", \"cross_border\", \"trial_lawyers\", \"professional_liability\", \"early_lasting\", \"norton_rose\", \"osler\", \"american_college\", \"practises\", \"fasken\", \"gowling_wlg\", \"blakes\", \"kit\", \"younger_self\", \"graydon_llp\", \"stikeman_elliott\", \"blake_cassels\", \"extensive_experience\", \"gowlingwlg\", \"stikeman\", \"fasken_martineau\", \"dumoulin_llp\", \"pages\", \"fulbright\", \"law\", \"mr\", \"canada\", \"clearstream\", \"homelessness\", \"sagd\", \"queer\", \"touches\", \"popularly\", \"aostra\", \"newsroom\", \"cry\", \"percentages\", \"cps\", \"greyhound\", \"carousel\", \"paletta\", \"ypaletta\", \"accomplish\", \"juniors\", \"researching\", \"downstairs\", \"hearted\", \"dominance\", \"citywide\", \"watt\", \"justification\", \"clusters\", \"csm\", \"formulating\", \"issawi\", \"hamdi\", \"pausing\", \"iihf\", \"assisted\", \"hockey\", \"stories\", \"yellow\", \"vessel\", \"proceedings\", \"grain\", \"arbitrator\", \"reporter_photographer\", \"wet\", \"load\", \"exemptions\", \"probability\", \"litigation\", \"el\", \"uncommon\", \"loading\", \"lumber\", \"affiliates\", \"vessels\", \"erected\", \"union_representing\", \"trials\", \"crops\", \"wheat\", \"skies\", \"budgeted\", \"jacques\", \"stretching\", \"wetter\", \"impeachment\", \"maritime\", \"indicted\", \"dancing\", \"practice\", \"clients\", \"specializes\", \"odds\", \"levels\", \"shareholder\", \"involving\", \"represents\", \"extradition\", \"issues\", \"liquids\", \"llp\", \"bacon\", \"dealer\", \"dispute_resolution\", \"manulife\", \"excludes\", \"unlimited\", \"kruger\", \"meg\", \"martinrea\", \"bonterra\", \"su\", \"randgold\", \"modifications\", \"linamar\", \"suncor\", \"maple_leaf\", \"boardwalk\", \"aurora\", \"assists\", \"cve\", \"kraft\", \"pourbaix\", \"contractual\", \"subsidiaries\", \"unnamed\", \"loose\", \"mainline\", \"cgi\", \"parmalat\", \"cenovus\", \"eagle_ford\", \"husky\", \"insurance\", \"imperial\", \"commodity\", \"integrated\", \"custom\", \"corp\", \"newfield\", \"inc\", \"tsx\", \"ltd\", \"purchases\", \"industries\", \"intervention\", \"firm\", \"producers\", \"energy\", \"shares\", \"cents\", \"enbridge\", \"companies\", \"toronto\", \"production\", \"barrels\", \"million\", \"smithe_st\", \"murder_interfering\", \"smithe\", \"webcasts\", \"thomsonreuters\", \"livingstone\", \"kinross\", \"bauschhealth\", \"starthere\", \"ei\", \"niverville\", \"jsp\", \"lavallee\", \"phillipe\", \"brody\", \"interfor\", \"denotes_graphics\", \"denotes_picture\", \"denotes_wire\", \"coverage_copy\", \"metrotown\", \"onion\", \"voyeurism\", \"metrotower\", \"messam\", \"guildford\", \"documentaries\", \"consensual\", \"spruce\", \"abdi\", \"mogo\", \"esn\", \"gani\", \"lantern\", \"margarets\", \"mahamud\", \"hirsi\", \"daniel_goodridge\", \"ir\", \"passcode\", \"charities\", \"loving\", \"dundas\", \"lieu\", \"predeceased\", \"nee\", \"flowers\", \"litigator\", \"peacefully\", \"canadahelps\", \"employees_offers\", \"sons\", \"wendy\", \"nieces\", \"funeral_home\", \"grandmother\", \"dear\", \"sims\", \"budding\", \"grandfather\", \"sargent\", \"transitioned\", \"beverley\", \"betty\", \"crowdfunding\", \"turnerporter_ca\", \"summers\", \"entertaining\", \"donating\", \"caregivers\", \"passed_away\", \"loved\", \"grandchildren\", \"friends\", \"married\", \"brother\", \"donations\", \"church\", \"family\", \"wife\", \"sister\", \"lived\", \"celebration\", \"life\", \"born\", \"hospital\", \"mother\", \"children\", \"november\", \"university\", \"father\", \"age\", \"years\", \"love\", \"many\", \"john\", \"great\", \"toronto\", \"may\", \"st\", \"december\", \"supreme_court\", \"trial\", \"webcast\", \"died\", \"first_degree\", \"murder\", \"peter\", \"counts\", \"shot\", \"macdonald\", \"dial\", \"assault\", \"charged\", \"named\", \"google\", \"awards\", \"mary\", \"weapon\", \"midterm_elections\", \"search\", \"counsel\", \"courtroom\", \"lawyer\", \"novel\", \"award\", \"charity\", \"launch\", \"caravan\", \"museum\", \"charitable\", \"lake\", \"court\", \"centre\", \"women\", \"defence\", \"conference_call\", \"nov\", \"accused\", \"charges\", \"man\", \"woman\", \"release\", \"event\", \"men\", \"vancouver\", \"toronto\", \"death\", \"first\", \"two\", \"results\", \"international\", \"canada\", \"ontario\", \"national\", \"calgary\", \"former\", \"canadian\", \"year\", \"one\", \"third_quarter\", \"financial\", \"including\", \"three\", \"president\", \"ottawa\", \"people\", \"pieridae\", \"pea\", \"oytlz\", \"litoski\", \"usi\", \"sorensen\", \"rjtv\", \"refiled\", \"pieridaeenergy\", \"noivrzsvxky\", \"immmovd_cj\", \"i_abzywt\", \"goldboro\", \"bgl\", \"voi\", \"certificates\", \"orchard\", \"stocking\", \"partsource\", \"midprice\", \"juggernaut\", \"afield\", \"tech_news\", \"thoughtlessly\", \"collisions\", \"derailments\", \"monette\", \"sleeprelated\", \"workrest\", \"java\", \"merchandizer\", \"feed\", \"consuming\", \"devotion\", \"desirable\", \"defy\", \"decry\", \"decides\", \"danish\", \"danes\", \"convoluted\", \"belongs\", \"beneficial\", \"consummately\", \"constituencies\", \"brexit_secretary\", \"enterprises\", \"raab\", \"axl\", \"papua\", \"guinea\", \"meth\", \"purely\", \"kristallnacht\", \"potter\", \"overriding\", \"hutchison\", \"brighter\", \"beasts\", \"shrinkage\", \"resolves\", \"wade\", \"thanked\", \"pills\", \"macau\", \"topple\", \"prequel\", \"reconstructed\", \"roses\", \"rowling\", \"rudimentary\", \"safeguarding\", \"scarlet\", \"shoah\", \"vii\", \"caravans\", \"tubal\", \"ovaries\", \"pasquale\", \"bliss\", \"hank\", \"groaned\", \"grindelwald\", \"flimflam\", \"diabolical\", \"curmudgeon\", \"colds\", \"idsinga\", \"endlessly\", \"erna\", \"crowned\", \"fieldhouse\", \"excerpt\", \"underpin\", \"memorialized\", \"misogyny\", \"stabilized\", \"timers\", \"timer\", \"muggle\", \"barrier\", \"modem\", \"yohannes\", \"wifi\", \"adaptations\", \"trumpets\", \"bypassed\", \"casullo\", \"undeniable\", \"akouphone\", \"cellular\", \"vessels\", \"leadup\", \"lecturing\", \"ligations\", \"jams\", \"ambiguous\", \"burgeoning\", \"aughts\"], \"Total\": [1459.0, 3351.0, 3348.0, 1873.0, 1163.0, 1383.0, 1973.0, 1892.0, 1192.0, 897.0, 621.0, 1483.0, 587.0, 793.0, 972.0, 886.0, 538.0, 1133.0, 841.0, 396.0, 883.0, 589.0, 1453.0, 1348.0, 706.0, 283.0, 1493.0, 647.0, 690.0, 352.0, 17.187213897705078, 8.661004066467285, 7.944589614868164, 6.803558826446533, 5.5373687744140625, 4.935958385467529, 4.483768939971924, 4.39905309677124, 4.3040947914123535, 4.301379680633545, 4.276409149169922, 4.276409149169922, 4.229162216186523, 3.677719831466675, 3.677719831466675, 3.5025999546051025, 3.3783743381500244, 3.3783743381500244, 3.3783743381500244, 3.3783743381500244, 3.3783743381500244, 3.2827351093292236, 3.2032549381256104, 3.1039998531341553, 3.1039998531341553, 3.1039998531341553, 3.0790293216705322, 2.4876086711883545, 2.480339288711548, 2.480339288711548, 24.615684509277344, 20.734914779663086, 20.422697067260742, 14.907185554504395, 13.050111770629883, 11.671431541442871, 8.12613582611084, 6.344344139099121, 6.0246734619140625, 5.536471843719482, 5.536471843719482, 5.2143168449401855, 5.2143168449401855, 5.211832046508789, 4.847338676452637, 4.567521095275879, 4.565036773681641, 4.565036773681641, 4.565036773681641, 4.565036773681641, 4.565036773681641, 4.081804275512695, 3.918243169784546, 3.7571656703948975, 3.596088171005249, 3.4350101947784424, 3.4350101947784424, 3.271449327468872, 3.271449327468872, 3.271448850631714, 3.271448850631714, 3.271448850631714, 3.271448850631714, 3.271448850631714, 3.271448850631714, 3.271448850631714, 6.108908176422119, 8.790237426757812, 8.2493896484375, 4.939022064208984, 25.21925163269043, 30.0084285736084, 123.1927490234375, 107.0890121459961, 33.30727767944336, 28.089574813842773, 26.924823760986328, 25.118053436279297, 22.768291473388672, 22.05986976623535, 22.0172119140625, 21.7701416015625, 21.657325744628906, 20.507122039794922, 19.764101028442383, 19.59413719177246, 19.54286766052246, 19.289405822753906, 20.317699432373047, 18.534597396850586, 17.937326431274414, 17.559343338012695, 17.023258209228516, 16.58135223388672, 15.575148582458496, 15.98516845703125, 15.204689979553223, 14.516301155090332, 14.441245079040527, 13.859299659729004, 13.782729148864746, 13.78136920928955, 41.188087463378906, 31.159826278686523, 123.39676666259766, 20.875295639038086, 23.441835403442383, 46.313987731933594, 99.32624816894531, 24.611452102661133, 56.7928581237793, 43.554500579833984, 176.6914825439453, 114.21894073486328, 118.38885498046875, 27.37311553955078, 1892.5958251953125, 32.47569274902344, 72.93553924560547, 79.44416046142578, 42.28219223022461, 821.6707763671875, 1254.3912353515625, 1348.7757568359375, 243.00552368164062, 1023.3921508789062, 837.6790161132812, 1176.58447265625, 903.7553100585938, 1786.890625, 302.48675537109375, 3348.33984375, 280.11273193359375, 407.4065856933594, 484.0798034667969, 564.1755981445312, 18.799551010131836, 14.661564826965332, 13.515033721923828, 12.512578964233398, 11.247445106506348, 11.003214836120605, 10.07717514038086, 9.998974800109863, 8.738102912902832, 8.44418716430664, 8.274038314819336, 8.14864730834961, 7.869210720062256, 7.696728229522705, 7.638268947601318, 7.319995403289795, 7.20056676864624, 7.115394115447998, 6.269331932067871, 6.212039470672607, 6.212038993835449, 5.6269073486328125, 5.57540225982666, 5.5379319190979, 5.4596476554870605, 4.814659595489502, 4.6383795738220215, 4.638380527496338, 4.50937032699585, 4.2317423820495605, 59.585697174072266, 283.09814453125, 10.134013175964355, 48.58309555053711, 16.938739776611328, 27.596511840820312, 26.954120635986328, 104.58246612548828, 32.896453857421875, 180.76202392578125, 79.05421447753906, 48.587738037109375, 168.88604736328125, 209.02024841308594, 82.34527587890625, 180.3962860107422, 297.3922119140625, 379.204345703125, 242.23974609375, 115.58045959472656, 96.59364318847656, 1192.1326904296875, 972.57080078125, 330.6775207519531, 146.79098510742188, 250.4192657470703, 144.51275634765625, 515.858154296875, 3348.33984375, 158.4386444091797, 127.21282196044922, 54.094505310058594, 46.47808837890625, 46.38429641723633, 33.55438232421875, 23.988264083862305, 23.386581420898438, 23.804222106933594, 20.822908401489258, 20.114057540893555, 19.929283142089844, 18.141220092773438, 17.856956481933594, 16.942733764648438, 16.35110092163086, 15.328990936279297, 15.292383193969727, 15.21705150604248, 14.997063636779785, 14.380108833312988, 14.315165519714355, 14.269420623779297, 14.16529369354248, 28.61067008972168, 13.223227500915527, 13.216490745544434, 13.060750007629395, 12.888142585754395, 12.80058479309082, 12.72833251953125, 27.74772834777832, 14.050562858581543, 66.73554992675781, 22.339696884155273, 19.83221435546875, 150.30361938476562, 44.654998779296875, 210.97457885742188, 35.102298736572266, 292.8453674316406, 27.9412899017334, 31.64005470275879, 47.50279998779297, 24.68702507019043, 305.0068054199219, 171.22625732421875, 76.55145263671875, 509.7278747558594, 972.57080078125, 506.21942138671875, 564.1755981445312, 86.98767852783203, 264.63775634765625, 205.75425720214844, 494.81610107421875, 44.1280403137207, 165.79165649414062, 138.8453369140625, 138.78018188476562, 86.31926727294922, 75.84642028808594, 73.5102767944336, 73.02224731445312, 69.50740051269531, 64.63068389892578, 60.045631408691406, 58.35628890991211, 54.67680358886719, 53.7015266418457, 52.685726165771484, 52.169647216796875, 52.12175369262695, 48.3844108581543, 46.64740753173828, 44.082923889160156, 43.89702224731445, 43.863319396972656, 42.67193603515625, 42.25188064575195, 39.692657470703125, 37.634559631347656, 36.34943389892578, 34.708351135253906, 35.364933013916016, 34.42177963256836, 34.16019821166992, 106.86722564697266, 81.81075286865234, 88.54940795898438, 80.92112731933594, 162.7794952392578, 83.32003021240234, 203.1414031982422, 211.0346221923828, 883.8579711914062, 251.54208374023438, 652.8087768554688, 690.8858032226562, 85.36183166503906, 271.468017578125, 75.4510726928711, 209.02394104003906, 154.7911834716797, 1892.5958251953125, 91.2716064453125, 157.1750030517578, 90.65250396728516, 132.75579833984375, 183.9014129638672, 884.000244140625, 407.4065856933594, 743.154052734375, 180.56002807617188, 433.49932861328125, 252.79908752441406, 908.8792724609375, 270.9303283691406, 226.10482788085938, 395.7656555175781, 1176.58447265625, 1025.4691162109375, 496.218017578125, 1383.73681640625, 473.8373107910156, 981.2655639648438, 1973.4293212890625, 2.986328363418579, 2.986328363418579, 2.754060983657837, 2.7407448291778564, 2.2934956550598145, 1.8596868515014648, 1.7935497760772705, 1.7148371934890747, 1.7148371934890747, 1.214890956878662, 1.1668545007705688, 1.1668545007705688, 1.1668545007705688, 1.0220046043395996, 1.0220046043395996, 1.0220046043395996, 1.0220046043395996, 1.0220046043395996, 1.0220046043395996, 1.0220046043395996, 1.0220046043395996, 1.0220046043395996, 1.0220046043395996, 1.0220046043395996, 1.0220046043395996, 1.0200445652008057, 0.9754209518432617, 0.973968505859375, 0.973968505859375, 0.9232311844825745, 5.538838863372803, 100.56826782226562, 69.44786071777344, 66.1466293334961, 63.52779006958008, 52.85344314575195, 68.66395568847656, 45.11545944213867, 42.99458694458008, 39.90184020996094, 39.57780456542969, 38.91474533081055, 38.31656265258789, 37.93942642211914, 33.62342071533203, 36.216434478759766, 33.4875373840332, 32.37467575073242, 32.030330657958984, 31.5251522064209, 30.993135452270508, 30.204317092895508, 28.792600631713867, 28.096813201904297, 63.003543853759766, 26.802778244018555, 26.719263076782227, 26.041015625, 25.967321395874023, 25.584218978881836, 25.596664428710938, 26.52105140686035, 253.07513427734375, 132.2926788330078, 62.66204833984375, 44.76874542236328, 69.79487609863281, 333.160400390625, 87.87606048583984, 98.86375427246094, 89.17440795898438, 61.933387756347656, 206.60630798339844, 95.90753173828125, 703.4595947265625, 560.5514526367188, 110.64201354980469, 172.08114624023438, 359.4688415527344, 116.45145416259766, 120.30252838134766, 126.46414947509766, 126.3440933227539, 306.7242736816406, 221.9836883544922, 501.5963439941406, 404.1658935546875, 587.2894287109375, 305.0068054199219, 215.37002563476562, 389.44659423828125, 148.9043731689453, 1025.4691162109375, 1483.1710205078125, 362.0299377441406, 212.04031372070312, 309.05633544921875, 425.4866943359375, 1254.3912353515625, 484.0798034667969, 841.6727294921875, 429.8169250488281, 1973.4293212890625, 304.421630859375, 981.2655639648438, 622.5428466796875, 501.6423034667969, 1348.7757568359375, 1023.3921508789062, 555.6303100585938, 696.4529418945312, 1493.183837890625, 1150.7457275390625, 3348.33984375, 903.7553100585938, 838.0695190429688, 821.6707763671875, 66.5234603881836, 45.397064208984375, 43.87782669067383, 50.077857971191406, 43.05802917480469, 39.573856353759766, 34.094783782958984, 33.658363342285156, 31.540773391723633, 30.535446166992188, 29.51225471496582, 29.51225471496582, 28.712297439575195, 28.576698303222656, 28.576698303222656, 28.576698303222656, 28.576698303222656, 27.211074829101562, 27.188997268676758, 27.154464721679688, 26.376264572143555, 26.001346588134766, 24.600065231323242, 24.550111770629883, 24.436941146850586, 24.21607780456543, 23.881610870361328, 23.87327766418457, 23.59581184387207, 22.721881866455078, 25.106332778930664, 51.68318557739258, 98.0572738647461, 34.63209915161133, 55.294464111328125, 1163.3089599609375, 380.22650146484375, 1459.5128173828125, 292.8453674316406, 401.0295104980469, 120.38855743408203, 64.73326873779297, 152.77931213378906, 99.76207733154297, 148.23919677734375, 3348.33984375, 478.322998046875, 97.58263397216797, 261.118408203125, 198.90953063964844, 564.1755981445312, 246.70660400390625, 1081.8079833984375, 377.01507568359375, 265.83319091796875, 1176.58447265625, 886.9925537109375, 501.5963439941406, 509.7278747558594, 506.21942138671875, 260.64898681640625, 204.99424743652344, 245.88668823242188, 1493.183837890625, 1483.1710205078125, 1786.890625, 884.000244140625, 1348.7757568359375, 897.9312744140625, 793.0288696289062, 589.5808715820312, 125.46646118164062, 123.07791900634766, 94.58883666992188, 85.91692352294922, 73.33346557617188, 72.72347259521484, 66.66375732421875, 63.800445556640625, 58.007774353027344, 54.20846176147461, 50.92582702636719, 50.536376953125, 46.049560546875, 41.53081512451172, 41.32445526123047, 40.90484619140625, 40.90484619140625, 40.746429443359375, 39.66233825683594, 37.52824401855469, 34.44696044921875, 33.50617980957031, 32.58052444458008, 30.30438232421875, 30.051069259643555, 29.05810546875, 28.10344696044922, 706.1417236328125, 102.78356170654297, 57.516822814941406, 55.11288833618164, 104.60884094238281, 509.7278747558594, 509.42095947265625, 105.61783599853516, 1023.3921508789062, 805.6937255859375, 179.62677001953125, 150.04371643066406, 179.10150146484375, 94.27899169921875, 377.3836975097656, 106.74956512451172, 260.3017272949219, 1493.183837890625, 972.57080078125, 198.1256103515625, 163.2368927001953, 1483.1710205078125, 370.608154296875, 1910.68994140625, 587.2894287109375, 241.70094299316406, 506.21942138671875, 471.66644287109375, 525.571533203125, 49.90895080566406, 31.861770629882812, 24.633100509643555, 18.78990364074707, 17.65830421447754, 14.263494491577148, 13.131892204284668, 11.434489250183105, 9.737085342407227, 9.171284675598145, 9.044412612915039, 8.605483055114746, 8.478610038757324, 8.478610038757324, 8.039680480957031, 8.039681434631348, 6.908079624176025, 6.908079624176025, 6.342277526855469, 6.342277526855469, 5.776477336883545, 5.776477336883545, 5.776476860046387, 5.776477336883545, 5.210676193237305, 5.210676670074463, 4.644875526428223, 4.644875526428223, 4.644875526428223, 4.644875526428223, 14.503806114196777, 19.458778381347656, 8.69483757019043, 5.842751979827881, 4.567913055419922, 4.3543925285339355, 3.962480306625366, 3.857605218887329, 3.697091579437256, 3.524613618850708, 3.309701681137085, 3.2608721256256104, 3.145611524581909, 2.9543635845184326, 2.863072633743286, 2.5739543437957764, 2.542501211166382, 2.5279133319854736, 2.4907453060150146, 2.23181414604187, 2.103355646133423, 2.05810546875, 2.0120649337768555, 1.887035608291626, 1.887035608291626, 1.832895278930664, 1.7159655094146729, 1.7159655094146729, 1.7159655094146729, 1.7159655094146729, 1.7159655094146729, 1.7159655094146729, 1.7159655094146729, 6.212732315063477, 60.547019958496094, 15.076799392700195, 4.706192970275879, 3.7749626636505127, 11.589644432067871, 8.487940788269043, 6.723322868347168, 13.273571968078613, 8.136483192443848, 117.40959930419922, 5.263331413269043, 9.16608715057373, 7.557969093322754, 7.469721794128418, 5.773358345031738, 4.076994895935059, 4.076994895935059, 4.076994895935059, 3.331679582595825, 3.3206021785736084, 2.902761220932007, 2.8969695568084717, 2.8895466327667236, 2.8383023738861084, 2.7817986011505127, 2.3806324005126953, 2.3806324005126953, 2.3806324005126953, 2.3806324005126953, 2.3806324005126953, 2.3806324005126953, 2.3806324005126953, 2.3806324005126953, 2.3806324005126953, 2.3806324005126953, 1.6468610763549805, 1.3476886749267578, 1.28196382522583, 1.2582755088806152, 1.2301868200302124, 1.213750958442688, 12.868078231811523, 172.1339569091797, 112.00347137451172, 105.45249938964844, 74.22062683105469, 73.93009185791016, 71.02545928955078, 70.9474868774414, 62.16244125366211, 1873.40625, 58.678340911865234, 56.21560287475586, 54.84683609008789, 54.27790451049805, 53.706809997558594, 53.154075622558594, 53.06968688964844, 52.76422882080078, 52.59820556640625, 49.52876281738281, 48.987274169921875, 48.36099624633789, 47.59537887573242, 46.16005325317383, 45.18531036376953, 44.850547790527344, 44.62956237792969, 44.393768310546875, 44.36971664428711, 44.254539489746094, 43.539058685302734, 243.81044006347656, 275.4082946777344, 115.21644592285156, 59.92298126220703, 197.11729431152344, 426.8671569824219, 266.83624267578125, 236.01870727539062, 219.14556884765625, 877.298828125, 467.50042724609375, 185.77967834472656, 597.1967163085938, 133.5148162841797, 113.84480285644531, 317.0128479003906, 128.67042541503906, 301.1402282714844, 480.3347473144531, 260.7554931640625, 142.1448516845703, 1910.68994140625, 1081.8079833984375, 546.616943359375, 331.6966857910156, 1192.1326904296875, 462.13916015625, 1786.890625, 176.80386352539062, 396.96954345703125, 1150.7457275390625, 295.92034912109375, 453.640380859375, 1176.58447265625, 408.98248291015625, 3348.33984375, 3351.494384765625, 615.4801025390625, 924.227294921875, 837.6790161132812, 622.5428466796875, 1453.717529296875, 621.6724853515625, 528.7969970703125, 904.2110595703125, 1493.183837890625, 1383.73681640625, 886.9925537109375, 2.287501096725464, 0.7163134217262268, 0.7051560878753662, 0.7051560878753662, 0.7051560878753662, 0.7051560878753662, 0.7051560878753662, 0.7051560878753662, 0.7051560878753662, 0.7051560878753662, 0.7051560878753662, 0.7051560878753662, 0.7051560878753662, 0.7051560878753662, 0.7051560878753662, 0.7260434031486511, 0.7303448915481567, 0.7303449511528015, 0.7303448915481567, 0.7303448915481567, 0.7303448915481567, 0.7303448915481567, 0.7303448915481567, 0.7379024028778076, 0.7379024028778076, 0.7379024028778076, 0.7379024028778076, 0.7379024028778076, 0.7682766914367676, 0.7682766914367676, 0.7682766914367676, 0.7682766914367676, 6.218735218048096, 3.1851491928100586, 3.1054229736328125, 1.032174825668335, 6.546413898468018, 3.0728089809417725, 1.8535269498825073, 46.2870979309082, 1.7279871702194214, 3.5640687942504883, 2.125887632369995, 1.7279871702194214, 6.1587042808532715, 1.7279871702194214, 7.0480756759643555, 3.5640687942504883, 1.7858288288116455, 1.032174825668335, 1.3800809383392334, 1.032174825668335, 1.032174825668335, 3.496380090713501, 1.032174825668335, 1.015322208404541, 3.6055095195770264, 8.23378849029541, 5.401432037353516, 3.2196006774902344, 8.39404582977295, 5.234180450439453, 4.414934158325195, 3.875239372253418, 3.368208646774292, 2.914959669113159, 2.87060284614563, 2.6769096851348877, 2.6362249851226807, 2.6362249851226807, 2.516648054122925, 2.3197500705718994, 2.2278759479522705, 2.14823579788208, 2.0107197761535645, 2.317700147628784, 1.848902702331543, 1.8422160148620605, 1.685816764831543, 1.6602468490600586, 1.6250600814819336, 1.4162521362304688, 1.4162521362304688, 1.3609135150909424, 1.3554956912994385, 1.3554956912994385, 1.300156831741333, 1.2531663179397583, 1.2531663179397583, 1.2531663179397583, 7.876709938049316, 50.20415496826172, 16.922908782958984, 22.63174819946289, 22.56386947631836, 12.053016662597656, 10.910297393798828, 8.083988189697266, 7.903660774230957, 6.645687103271484, 6.16550350189209, 5.893590927124023, 4.684060096740723, 4.46914005279541, 4.217975616455078, 3.9083523750305176, 3.4943172931671143, 3.2341911792755127, 2.9453608989715576, 2.791783571243286, 2.7748043537139893, 2.7406651973724365, 2.719947099685669, 2.6117734909057617, 2.5869500637054443, 2.5248844623565674, 2.391998529434204, 2.3096518516540527, 2.16196346282959, 2.0059702396392822, 1.8876428604125977, 1.8439507484436035, 1.7226455211639404, 9.616241455078125, 3.9744694232940674, 5.555286884307861, 68.2227554321289, 48.347434997558594, 136.81788635253906, 7.609559535980225, 292.88421630859375, 220.63926696777344, 133.821533203125, 120.89138793945312, 117.01898193359375, 116.97164154052734, 113.33222198486328, 104.333740234375, 99.57830810546875, 94.7025375366211, 82.55873107910156, 78.52164459228516, 77.27311706542969, 76.0634765625, 67.92442321777344, 66.81737518310547, 64.27256774902344, 62.08235549926758, 60.622337341308594, 58.97508239746094, 55.93071365356445, 52.12093734741211, 50.10097885131836, 48.89314651489258, 47.93971633911133, 46.275856018066406, 46.18082809448242, 45.83586120605469, 45.19740295410156, 44.30965805053711, 165.82325744628906, 100.0804443359375, 549.74853515625, 272.9303894042969, 374.9331359863281, 251.64434814453125, 388.19305419921875, 118.86231994628906, 369.7420959472656, 77.67686462402344, 494.466064453125, 491.2476806640625, 1133.073974609375, 488.6253662109375, 904.2110595703125, 1453.717529296875, 375.5810241699219, 392.0124206542969, 202.79493713378906, 177.2674560546875, 318.0798034667969, 1892.5958251953125, 620.794189453125, 401.6564025878906, 638.4347534179688, 261.7520446777344, 582.2484741210938, 482.65289306640625, 390.72479248046875, 326.47625732421875, 280.71734619140625, 777.1614990234375, 3351.494384765625, 908.8792724609375, 838.0695190429688, 528.7969970703125, 690.8858032226562, 883.8579711914062, 804.547119140625, 616.7003784179688, 652.8087768554688, 13.51074504852295, 11.856281280517578, 11.532366752624512, 10.980871200561523, 10.853018760681152, 9.8966646194458, 8.828322410583496, 8.82441520690918, 7.806896686553955, 7.670042514801025, 7.557400703430176, 7.1839165687561035, 6.9715070724487305, 6.789377689361572, 6.789377689361572, 6.051512241363525, 5.832569599151611, 5.771859645843506, 5.599695205688477, 5.493775367736816, 4.500938892364502, 6.229130268096924, 4.3841071128845215, 4.002591609954834, 3.9941344261169434, 3.9206883907318115, 3.7764341831207275, 3.7368228435516357, 3.643638849258423, 3.47308087348938, 9.453407287597656, 35.872764587402344, 31.70355796813965, 8.493732452392578, 6.937882900238037, 25.394207000732422, 103.60832214355469, 162.09808349609375, 587.2894287109375, 150.15768432617188, 206.0848846435547, 362.0299377441406, 28.751590728759766, 21.21976089477539, 62.413902282714844, 156.68968200683594, 73.57698822021484, 66.75302124023438, 49.44735336303711, 45.250579833984375, 40.73939895629883, 40.174659729003906, 38.55192947387695, 34.45072937011719, 33.165382385253906, 32.935359954833984, 30.19087028503418, 29.847482681274414, 29.19430923461914, 28.831390380859375, 26.09762954711914, 25.517704010009766, 24.682050704956055, 24.444358825683594, 24.389387130737305, 22.104690551757812, 21.86865234375, 21.54299545288086, 21.00899887084961, 20.779346466064453, 20.193904876708984, 20.18833351135254, 19.721036911010742, 19.412471771240234, 17.9000244140625, 281.1091613769531, 244.41885375976562, 446.62445068359375, 28.343692779541016, 343.7597351074219, 77.17268371582031, 246.70660400390625, 1459.5128173828125, 362.42718505859375, 170.8216552734375, 1163.3089599609375, 235.05027770996094, 1192.1326904296875, 131.32073974609375, 401.0295104980469, 396.1460266113281, 621.6724853515625, 69.696533203125, 309.38092041015625, 182.97109985351562, 142.43661499023438, 369.2701110839844, 380.22650146484375, 908.8792724609375, 886.9925537109375, 314.7862854003906, 270.9303283691406, 1910.68994140625, 1176.58447265625, 647.1453857421875, 597.1967163085938, 52.818878173828125, 32.322509765625, 25.02713394165039, 22.433547973632812, 29.762252807617188, 15.064563751220703, 13.075308799743652, 12.317329406738281, 10.448543548583984, 10.32917308807373, 9.638289451599121, 9.3351469039917, 8.993598937988281, 8.934942245483398, 8.162667274475098, 7.871609210968018, 7.369382858276367, 7.08678674697876, 6.500799179077148, 6.488549709320068, 6.233829021453857, 6.233829498291016, 5.929933547973633, 5.577733993530273, 5.5098395347595215, 5.433594226837158, 9.483521461486816, 5.142539024353027, 5.110243797302246, 5.0659003257751465, 88.39859008789062, 62.92932891845703, 15.658425331115723, 33.5662727355957, 14.673188209533691, 90.66121673583984, 91.97490692138672, 71.71576690673828, 587.2894287109375, 77.44243621826172, 972.57080078125, 180.76202392578125, 29.9658145904541, 213.8790740966797, 210.18788146972656, 165.00241088867188, 97.57644653320312, 95.8801040649414, 81.5293960571289, 78.32484436035156, 64.1131362915039, 55.65882873535156, 52.59894943237305, 51.098968505859375, 46.65221405029297, 46.2870979309082, 53.323143005371094, 120.01471710205078, 40.71075439453125, 39.75795364379883, 36.80632400512695, 36.15327072143555, 35.79013442993164, 90.20794677734375, 34.43819046020508, 34.13274383544922, 33.36625289916992, 33.27146530151367, 32.432830810546875, 44.50323486328125, 31.513286590576172, 31.42538833618164, 30.785987854003906, 210.01776123046875, 126.66559600830078, 274.068359375, 120.28181457519531, 861.224609375, 3351.494384765625, 832.6409301757812, 1973.4293212890625, 135.5111083984375, 553.2805786132812, 647.1453857421875, 95.62440490722656, 1383.73681640625, 837.6790161132812, 277.921875, 496.218017578125, 313.3651123046875, 168.03981018066406, 299.3104553222656, 412.26739501953125, 1254.3912353515625, 1483.1710205078125, 3348.33984375, 1133.073974609375, 1786.890625, 924.227294921875, 696.4529418945312, 492.70709228515625, 1493.183837890625, 582.2484741210938, 1025.4691162109375, 821.6707763671875, 1453.717529296875, 22.964248657226562, 17.816686630249023, 15.864392280578613, 13.12718677520752, 9.836043357849121, 8.095373153686523, 7.465405464172363, 7.155173301696777, 7.034000873565674, 6.799985885620117, 6.529679775238037, 6.460488319396973, 5.738093852996826, 5.630916595458984, 5.136092185974121, 4.8823089599609375, 4.695962429046631, 4.681603908538818, 4.592108249664307, 4.552502155303955, 4.122226238250732, 4.096377372741699, 4.04217004776001, 3.82081937789917, 3.5391571521759033, 3.269602060317993, 3.1555771827697754, 3.1158223152160645, 2.975541353225708, 2.9463531970977783, 7.751418590545654, 5.976696014404297, 37.35017776489258, 5.602694511413574, 9.69245719909668, 11.31983470916748, 5.4502363204956055, 3.7295784950256348, 3.3431594371795654, 2.930579900741577, 2.9280269145965576, 2.678436517715454, 2.431401014328003, 7.941946983337402, 2.3460752964019775, 1.9309428930282593, 1.9112999439239502, 3.9993255138397217, 1.5985814332962036, 1.515810251235962, 1.4330393075942993, 1.4330393075942993, 4.468838214874268, 1.3489913940429688, 1.3489913940429688, 1.3489913940429688, 1.246577262878418, 1.1834487915039062, 1.1834487915039062, 1.1834487915039062, 1.1834487915039062, 1.016629934310913, 1.016629934310913, 1.016629934310913, 1.016629934310913, 5.044740676879883, 1.7820684909820557, 1.016629934310913, 1.016629934310913, 1.016629934310913, 1.016629934310913, 1.016629934310913, 4.894563674926758, 3.8131332397460938, 59.62611389160156, 28.26310157775879, 27.344005584716797, 20.235380172729492, 17.37769889831543, 16.2006893157959, 16.127946853637695, 15.391561508178711, 15.066094398498535, 14.911101341247559, 14.640692710876465, 14.188127517700195, 13.425415992736816, 12.04052448272705, 11.130817413330078, 10.96174430847168, 10.714994430541992, 10.508681297302246, 10.508681297302246, 10.508681297302246, 10.317667007446289, 9.916021347045898, 9.902137756347656, 9.632097244262695, 9.422389030456543, 9.229312896728516, 9.121711730957031, 8.896100044250488, 8.855302810668945, 8.855302810668945, 8.855302810668945, 84.63719177246094, 247.18397521972656, 538.9047241210938, 180.76202392578125, 31.46923828125, 14.615527153015137, 31.880481719970703, 1163.3089599609375, 1459.5128173828125, 44.51178741455078, 27.559356689453125, 98.32518768310547, 40.61700439453125, 399.5183410644531, 1493.183837890625, 273.1958312988281, 57.16633605957031, 313.3651123046875, 587.2894287109375, 280.71734619140625, 181.69329833984375, 3348.33984375, 473.6770935058594, 868.636962890625, 37.51404571533203, 33.1210823059082, 29.740001678466797, 29.524757385253906, 27.525331497192383, 27.508010864257812, 27.157325744628906, 244.59841918945312, 23.288265228271484, 24.357595443725586, 169.80123901367188, 183.27708435058594, 16.947460174560547, 16.295269012451172, 14.193450927734375, 13.837390899658203, 12.843484878540039, 12.586692810058594, 11.926753044128418, 11.451553344726562, 11.347084045410156, 11.246383666992188, 10.816133499145508, 10.76129150390625, 10.760339736938477, 10.749517440795898, 10.406766891479492, 10.380719184875488, 10.0579833984375, 10.018173217773438, 45.14762496948242, 180.69003295898438, 223.7062225341797, 17.339941024780273, 48.43754577636719, 81.90284729003906, 20.065954208374023, 127.51750183105469, 61.9659538269043, 162.09271240234375, 66.78709411621094, 52.28854751586914, 199.54473876953125, 92.42168426513672, 74.26153564453125, 425.4866943359375, 36.318450927734375, 841.6727294921875, 408.769775390625, 31.622661590576172, 1483.1710205078125, 268.5242614746094, 805.6937255859375, 696.4529418945312, 330.120361328125, 473.6770935058594, 553.2805786132812, 509.42095947265625, 163.50210571289062, 552.663818359375, 886.9925537109375, 233.9497528076172, 370.608154296875, 311.2299499511719, 158.38092041015625, 496.218017578125, 468.68798828125, 111.91436767578125, 111.04961395263672, 54.92283630371094, 46.5831298828125, 39.86598587036133, 29.230730056762695, 29.114748001098633, 29.095333099365234, 26.15330696105957, 25.889442443847656, 25.269330978393555, 24.314682006835938, 24.094106674194336, 23.332006454467773, 22.850278854370117, 21.802854537963867, 21.69721031188965, 21.338821411132812, 21.207090377807617, 19.710542678833008, 38.65108108520508, 19.571701049804688, 19.556316375732422, 22.232799530029297, 18.865276336669922, 18.514501571655273, 18.469858169555664, 18.244220733642578, 18.20527458190918, 17.797733306884766, 55.0079345703125, 25.608983993530273, 33.239437103271484, 185.54861450195312, 46.02930450439453, 105.3304672241211, 61.070648193359375, 45.67204284667969, 1348.7757568359375, 377.01507568359375, 52.57268524169922, 73.2159423828125, 81.03779602050781, 96.33660125732422, 115.1268310546875, 130.74305725097656, 259.2606201171875, 312.1922607421875, 390.72479248046875, 61.03750228881836, 90.57994842529297, 147.28118896484375, 446.4150085449219, 147.84092712402344, 211.13876342773438, 484.0798034667969, 156.61851501464844, 981.2655639648438, 1150.7457275390625, 28.61473846435547, 13.839017868041992, 9.274454116821289, 9.015286445617676, 8.737565994262695, 7.398439884185791, 4.979358673095703, 4.979358673095703, 4.979358673095703, 4.979358673095703, 4.4424729347229, 4.4424729347229, 4.442517280578613, 11.60013198852539, 3.9097111225128174, 3.9055862426757812, 3.638174533843994, 3.50653076171875, 3.50653076171875, 3.50653076171875, 3.3687002658843994, 3.234994411468506, 3.1033506393432617, 3.1033506393432617, 3.1012885570526123, 3.1012885570526123, 7.8129401206970215, 2.5644021034240723, 2.5644021034240723, 7.276853084564209, 4.606565475463867, 30.353347778320312, 30.653194427490234, 5.044740676879883, 4.61047887802124, 60.630401611328125, 53.06264877319336, 32.82610321044922, 29.219818115234375, 22.86313247680664, 21.46819305419922, 18.788829803466797, 17.873682022094727, 17.81633758544922, 17.260751724243164, 16.283815383911133, 16.153032302856445, 15.231034278869629, 14.784490585327148, 14.084726333618164, 13.868480682373047, 13.974847793579102, 12.941485404968262, 12.877106666564941, 12.487700462341309, 12.473392486572266, 11.69644832611084, 11.674787521362305, 11.618573188781738, 11.59289264678955, 11.577902793884277, 11.089265823364258, 10.770451545715332, 10.664688110351562, 10.658201217651367, 122.56654357910156, 278.7721862792969, 107.24378204345703, 74.24495697021484, 110.95152282714844, 36.345314025878906, 28.349300384521484, 121.93351745605469, 24.68556785583496, 186.73641967773438, 111.79065704345703, 30.461069107055664, 109.27812194824219, 182.07302856445312, 71.56941986083984, 315.55291748046875, 159.1859893798828, 82.79972076416016, 143.2503662109375, 378.05902099609375, 408.769775390625, 1973.4293212890625, 155.0240020751953, 3348.33984375, 647.1453857421875, 251.64434814453125, 121.02413177490234, 473.8373107910156, 155.8147735595703, 38.48297119140625, 30.892333984375, 23.640480041503906, 22.241384506225586, 21.44597816467285, 20.18706512451172, 18.74216651916504, 17.59602165222168, 14.632417678833008, 14.125309944152832, 13.683954238891602, 13.629106521606445, 13.262914657592773, 13.244733810424805, 11.946629524230957, 11.700626373291016, 10.948805809020996, 10.849824905395508, 10.8115234375, 10.665117263793945, 10.538824081420898, 10.141758918762207, 10.008281707763672, 9.558910369873047, 9.27376651763916, 9.25013256072998, 9.009737014770508, 8.743074417114258, 8.573330879211426, 8.515604019165039, 16.92972755432129, 19.246740341186523, 12.54626178741455, 22.003145217895508, 15.528863906860352, 17.772083282470703, 44.511619567871094, 38.22446823120117, 21.413761138916016, 19.993207931518555, 24.564022064208984, 32.168251037597656, 12.691041946411133, 12.691041946411133, 11.632098197937012, 9.157183647155762, 8.684807777404785, 8.27448558807373, 6.684676647186279, 6.684676647186279, 6.136290073394775, 5.668835163116455, 4.272932529449463, 4.257023811340332, 4.015347003936768, 3.659606456756592, 3.338618040084839, 2.9965527057647705, 2.8688807487487793, 2.8688807487487793, 2.684403657913208, 2.684403657913208, 2.684403657913208, 2.684403657913208, 2.684403657913208, 2.5518410205841064, 2.456808090209961, 2.233592987060547, 2.1710503101348877, 2.0166406631469727, 1.938236117362976, 1.7911862134933472, 24.275184631347656, 11.682543754577637, 29.46010398864746, 7.979747295379639, 23.63723373413086, 59.31800842285156, 44.05717086791992, 36.0251579284668, 30.402742385864258, 29.59954071044922, 29.41737174987793, 22.370723724365234, 21.567522048950195, 21.567522048950195, 21.107398986816406, 20.848491668701172, 20.764318466186523, 19.96111488342285, 19.157915115356445, 19.157915115356445, 19.157915115356445, 17.817852020263672, 16.748310089111328, 16.748310089111328, 16.748310089111328, 16.748310089111328, 15.636968612670898, 15.141904830932617, 15.141904830932617, 15.141904830932617, 15.141904830932617, 15.141904830932617, 14.338703155517578, 14.338703155517578, 14.338703155517578, 14.338703155517578, 130.0160675048828, 20.273956298828125, 249.78245544433594, 886.9925537109375, 3348.33984375, 6.435716152191162, 5.893784999847412, 4.531475067138672, 3.18495774269104, 2.6234962940216064, 2.4871487617492676, 2.1705434322357178, 2.086644411087036, 1.9864670038223267, 1.4890679121017456, 1.4890679121017456, 9.129334449768066, 1.445480465888977, 1.403199553489685, 1.403199553489685, 1.3323240280151367, 1.2932380437850952, 1.2586976289749146, 1.2419544458389282, 1.1569344997406006, 5.439507484436035, 1.1259499788284302, 7.011877536773682, 1.0897120237350464, 1.0897120237350464, 1.043734073638916, 1.043734073638916, 1.0367144346237183, 1.0367144346237183, 0.9887534379959106, 0.9887534976005554, 9.161810874938965, 29.92875099182129, 85.3237533569336, 9.462824821472168, 19.01371192932129, 32.77437210083008, 13.247262001037598, 10.946191787719727, 8.412156105041504, 7.6443681716918945, 7.620538711547852, 7.069782257080078, 6.862448215484619, 140.1482391357422, 6.35923957824707, 6.248433589935303, 5.945888519287109, 5.870419025421143, 5.846180438995361, 8.627874374389648, 5.455502033233643, 4.977134704589844, 4.890493392944336, 4.867410659790039, 4.790759086608887, 4.427840709686279, 4.13297176361084, 4.082037925720215, 3.9995028972625732, 3.8832099437713623, 3.746614456176758, 3.6372408866882324, 3.5083513259887695, 3.4761385917663574, 93.87044525146484, 65.9108657836914, 17.052684783935547, 34.23733139038086, 227.28871154785156, 52.870574951171875, 51.28692626953125, 99.40888977050781, 7.551285743713379, 212.1864471435547, 91.4785385131836, 77.73860168457031, 21.359275817871094, 17.244306564331055, 14.277093887329102, 13.2457914352417, 13.125955581665039, 11.21943187713623, 10.886055946350098, 10.513816833496094, 9.844862937927246, 9.742581367492676, 9.25979232788086, 9.22427749633789, 8.756006240844727, 8.44571304321289, 153.34901428222656, 7.256514072418213, 7.227855682373047, 6.958522796630859, 6.559628009796143, 6.3435187339782715, 6.167656421661377, 5.823275566101074, 5.680722236633301, 5.620743274688721, 5.599042892456055, 5.407121181488037, 19.91463279724121, 5.288750648498535, 9.669994354248047, 62.47798538208008, 23.306615829467773, 46.20079803466797, 94.53901672363281, 85.71415710449219, 65.98927307128906, 20.501874923706055, 10.887929916381836, 396.1460266113281, 73.96435546875, 621.6724853515625, 270.9303283691406, 352.0531311035156, 24.290063858032227, 89.8888168334961, 33.409603118896484, 155.8147735595703, 277.921875, 1383.73681640625, 369.2701110839844, 266.83624267578125, 68.2227554321289, 647.1453857421875, 972.57080078125, 1133.073974609375, 266.0336608886719, 1453.717529296875, 6.288286209106445, 6.06376314163208, 5.839239120483398, 3.4198272228240967, 3.1953036785125732, 3.1953036785125732, 3.1953036785125732, 3.1953036785125732, 3.1953036785125732, 3.1953036785125732, 3.1953036785125732, 3.1953036785125732, 2.970780611038208, 2.970780611038208, 2.970780611038208, 2.7462565898895264, 2.1643097400665283, 2.1643097400665283, 2.1643097400665283, 2.1643097400665283, 1.9397861957550049, 1.9397861957550049, 1.9397861957550049, 1.9397861957550049, 1.9397861957550049, 1.9397861957550049, 1.9397861957550049, 1.9397861957550049, 1.9397861957550049, 1.9397861957550049, 1.9397861957550049, 1.9397861957550049, 1.9397861957550049, 1.9397861957550049, 1.9397861957550049, 1.9397861957550049, 1.9397861957550049, 13.503233909606934, 5.552980899810791, 5.061996936798096, 65.8056411743164, 49.86110305786133, 38.817604064941406, 38.77981185913086, 36.78944396972656, 28.30594253540039, 27.854196548461914, 26.901123046875, 26.84158706665039, 24.396841049194336, 24.04481315612793, 23.112577438354492, 21.643280029296875, 18.76225471496582, 18.76225471496582, 18.162494659423828, 17.859886169433594, 17.348682403564453, 17.0502986907959, 15.969391822814941, 15.381689071655273, 15.381689071655273, 15.12675952911377, 14.573446273803711, 14.270726203918457, 14.01579761505127, 13.943344116210938, 13.658858299255371, 13.623109817504883, 13.358951568603516, 43.442256927490234, 59.454437255859375, 62.680625915527344, 101.22308349609375, 34.93412399291992, 63.223873138427734, 63.40642166137695, 53.16862869262695, 379.88507080078125, 62.008060455322266, 47.78783416748047, 45.68254470825195, 38.57656478881836, 312.1922607421875, 97.6551513671875, 84.4443588256836, 84.20247650146484, 165.5740509033203, 373.1894836425781, 283.55474853515625, 85.48499298095703, 149.37852478027344, 903.7553100585938, 94.82794189453125, 555.6303100585938, 147.88792419433594, 169.8616485595703, 972.57080078125, 884.000244140625, 134.24581909179688, 254.19688415527344, 205.3688507080078, 194.02337646484375, 130.3751678466797, 111.99827575683594, 109.07154846191406, 91.21397399902344, 89.7486572265625, 83.25212097167969, 80.8196029663086, 76.03479766845703, 72.92975616455078, 87.72470092773438, 110.03912353515625, 63.833892822265625, 61.36145782470703, 58.81941604614258, 57.9316520690918, 57.61050796508789, 57.269378662109375, 55.93565368652344, 55.303985595703125, 53.65726852416992, 54.030391693115234, 52.734458923339844, 52.11848449707031, 51.282657623291016, 50.78227233886719, 49.84699630737305, 48.430728912353516, 48.30387878417969, 95.40750122070312, 468.68798828125, 213.5397491455078, 236.32403564453125, 95.1093521118164, 266.96661376953125, 245.19529724121094, 163.087646484375, 111.3074722290039, 220.56387329101562, 172.7629852294922, 272.4730224609375, 147.3582763671875, 98.65837097167969, 538.9047241210938, 972.57080078125, 153.97032165527344, 746.4740600585938, 868.636962890625, 777.1614990234375, 396.8299560546875, 3348.33984375, 552.663818359375, 525.571533203125, 1025.4691162109375, 351.795654296875, 1786.890625, 1910.68994140625, 1348.7757568359375, 638.4347534179688, 908.8792724609375, 743.154052734375, 804.547119140625, 421.0690002441406, 805.6937255859375, 703.4595947265625, 0.8513674736022949, 0.7260434031486511, 0.7051560878753662, 0.7051560878753662, 0.7051560878753662, 0.7051560878753662, 0.7051560878753662, 0.7051560878753662, 0.7051560878753662, 0.7051560878753662, 0.7051560878753662, 0.7051560878753662, 0.7051560878753662, 0.7051560878753662, 0.7051560878753662, 1.322347640991211, 0.7163134217262268, 0.7303448915481567, 0.7303448915481567, 0.7303448915481567, 0.7303448915481567, 0.7303448915481567, 0.7303448915481567, 0.7303449511528015, 0.7379024028778076, 0.7379024028778076, 0.7379024028778076, 0.7379024028778076, 0.7379024028778076, 0.7682766914367676, 0.7682766914367676, 17.414409637451172, 1.7858288288116455, 8.23378849029541, 3.6055095195770264, 1.015322208404541, 1.032174825668335, 3.496380090713501, 1.032174825668335, 1.032174825668335, 1.3800809383392334, 3.5640687942504883, 5.5507941246032715, 1.032174825668335, 1.7279871702194214, 3.4101061820983887, 2.790759563446045, 3.2440505027770996, 2.4426560401916504, 2.092329263687134, 2.092329263687134, 1.9806034564971924, 1.739301085472107, 1.7393008470535278, 1.7393008470535278, 1.5365676879882812, 1.3876235485076904, 1.384049892425537, 1.300041913986206, 1.300041913986206, 1.300041913986206, 1.289880633354187, 1.2039620876312256, 1.1199541091918945, 1.0973083972930908, 1.0973083972930908, 1.0359461307525635, 1.0359461307525635, 1.0359461307525635, 1.0359461307525635, 1.0359461307525635, 1.0359461307525635, 1.0359461307525635, 1.0359461307525635, 1.0359461307525635, 1.0359461307525635, 1.0359461307525635, 1.0359461307525635, 1.0359461307525635, 1.0359461307525635, 1.0359461307525635, 1.0359461307525635, 1.0359461307525635, 1.0359461307525635, 1.0359461307525635, 1.0359461307525635, 1.0359461307525635, 1.0359461307525635, 1.0359461307525635, 1.0359461307525635, 1.0359461307525635, 1.0359461307525635, 1.0359461307525635, 1.0359461307525635, 1.0359461307525635, 1.0359461307525635, 2.745176315307617, 1.0359461307525635, 1.0359461307525635, 1.0359461307525635, 2.408273458480835, 1.0359461307525635, 1.0359461307525635, 1.0359461307525635, 1.0359461307525635, 1.0359461307525635, 1.0359461307525635, 1.0359461307525635, 1.0359461307525635, 1.0359461307525635, 1.0359461307525635, 8.627874374389648, 1.0359461307525635, 1.0359461307525635, 1.0359461307525635, 1.0359461307525635, 1.0359461307525635, 3.8815433979034424, 1.0359461307525635], \"loglift\": [30.0, 29.0, 28.0, 27.0, 26.0, 25.0, 24.0, 23.0, 22.0, 21.0, 20.0, 19.0, 18.0, 17.0, 16.0, 15.0, 14.0, 13.0, 12.0, 11.0, 10.0, 9.0, 8.0, 7.0, 6.0, 5.0, 4.0, 3.0, 2.0, 1.0, 6.560299873352051, 6.519400119781494, 6.5117998123168945, 6.496200084686279, 6.470900058746338, 6.45389986038208, 6.437900066375732, 6.434500217437744, 6.430500030517578, 6.4303998947143555, 6.429299831390381, 6.429299831390381, 6.427299976348877, 6.398600101470947, 6.398600101470947, 6.38730001449585, 6.378600120544434, 6.378600120544434, 6.378600120544434, 6.378600120544434, 6.378600120544434, 6.371300220489502, 6.3649001121521, 6.356400012969971, 6.356400012969971, 6.356400012969971, 6.3541998863220215, 6.285600185394287, 6.2845001220703125, 6.2845001220703125, 6.187099933624268, 6.18179988861084, 6.181300163269043, 6.168600082397461, 6.161900043487549, 6.155399799346924, 6.128399848937988, 6.102700233459473, 6.096399784088135, 6.085299968719482, 6.085299968719482, 6.076700210571289, 6.076700210571289, 6.076600074768066, 6.065400123596191, 6.055500030517578, 6.0553998947143555, 6.0553998947143555, 6.0553998947143555, 6.0553998947143555, 6.0553998947143555, 6.034800052642822, 6.026500225067139, 6.017600059509277, 6.007800102233887, 5.9969000816345215, 5.9969000816345215, 5.9847002029418945, 5.9847002029418945, 5.9847002029418945, 5.9847002029418945, 5.9847002029418945, 5.9847002029418945, 5.9847002029418945, 5.9847002029418945, 5.9847002029418945, 5.747399806976318, 5.566699981689453, 5.500699996948242, 5.738900184631348, 4.303999900817871, 4.138299942016602, 3.881700038909912, 3.8808999061584473, 3.8671000003814697, 3.8633999824523926, 3.8624000549316406, 3.860599994659424, 3.857800006866455, 3.856800079345703, 3.856800079345703, 3.8564000129699707, 3.856300115585327, 3.8545000553131104, 3.853300094604492, 3.8529999256134033, 3.8529000282287598, 3.852400064468384, 3.852400064468384, 3.8510000705718994, 3.8498001098632812, 3.848900079727173, 3.8477001190185547, 3.84660005569458, 3.8440001010894775, 3.8436999320983887, 3.842900037765503, 3.8408000469207764, 3.8405001163482666, 3.8385000228881836, 3.838200092315674, 3.838200092315674, 3.828200101852417, 3.8143999576568604, 3.6468000411987305, 3.7848000526428223, 3.7504000663757324, 3.6112000942230225, 3.445499897003174, 3.721100091934204, 3.4621999263763428, 3.535900115966797, 3.0692999362945557, 3.159899950027466, 3.0692999362945557, 3.670099973678589, 1.5794999599456787, 3.572700023651123, 3.1356000900268555, 3.067500114440918, 3.373300075531006, 1.2782000303268433, 0.9690999984741211, 0.8568000197410583, 2.088399887084961, 1.0116000175476074, 1.0714999437332153, 0.7674000263214111, 0.9240000247955322, 0.25220000743865967, 1.7202999591827393, -0.45879998803138733, 1.690500020980835, 1.3157999515533447, 1.1376999616622925, 0.9702000021934509, 5.247700214385986, 5.237299919128418, 5.2332000732421875, 5.229100227355957, 5.222700119018555, 5.22130012512207, 5.215400218963623, 5.214799880981445, 5.204500198364258, 5.201600074768066, 5.19980001449585, 5.198500156402588, 5.195300102233887, 5.19320011138916, 5.192500114440918, 5.188399791717529, 5.186699867248535, 5.185500144958496, 5.17140007019043, 5.170300006866455, 5.170300006866455, 5.157800197601318, 5.156499862670898, 5.155600070953369, 5.15369987487793, 5.134900093078613, 5.128699779510498, 5.128699779510498, 5.123899936676025, 5.112500190734863, 5.054299831390381, 5.001200199127197, 5.067800045013428, 4.726600170135498, 4.905300140380859, 4.684999942779541, 4.67549991607666, 4.218299865722656, 4.578999996185303, 3.886399984359741, 4.13539981842041, 4.317200183868408, 3.6259000301361084, 3.4972000122070312, 3.932499885559082, 3.4416000843048096, 3.0739998817443848, 2.773900032043457, 2.9930999279022217, 3.464900016784668, 3.5618999004364014, 1.8091000318527222, 1.6842000484466553, 2.4409000873565674, 3.0722999572753906, 2.598599910736084, 3.0436999797821045, 1.8186999559402466, 0.05249999836087227, 2.8650999069213867, 4.342899799346924, 4.3358001708984375, 4.333799839019775, 4.333700180053711, 4.328199863433838, 4.320099830627441, 4.319399833679199, 4.319399833679199, 4.315400123596191, 4.314700126647949, 4.314300060272217, 4.3109002113342285, 4.310299873352051, 4.308300018310547, 4.30679988861084, 4.303999900817871, 4.303899765014648, 4.303400039672852, 4.302999973297119, 4.301000118255615, 4.30079984664917, 4.300600051879883, 4.300300121307373, 4.298099994659424, 4.296800136566162, 4.2967000007629395, 4.29610013961792, 4.295300006866455, 4.295000076293945, 4.2947001457214355, 4.267199993133545, 4.290299892425537, 3.946000099182129, 4.179299831390381, 4.1819000244140625, 3.564500093460083, 3.9268999099731445, 3.4296000003814697, 3.949399948120117, 3.043299913406372, 4.005899906158447, 3.9123001098632812, 3.662899971008301, 4.0229997634887695, 2.462100028991699, 2.7878000736236572, 3.2409000396728516, 1.8967000246047974, 1.3623000383377075, 1.7660000324249268, 1.6513999700546265, 3.0803000926971436, 2.063499927520752, 2.2483999729156494, 1.406999945640564, 3.5857999324798584, 2.665800094604492, 2.6649999618530273, 2.6649999618530273, 2.662100076675415, 2.661099910736084, 2.660799980163574, 2.6607000827789307, 2.6603000164031982, 2.6594998836517334, 2.658799886703491, 2.6577999591827393, 2.6577000617980957, 2.657399892807007, 2.6572000980377197, 2.657099962234497, 2.657099962234497, 2.656100034713745, 2.655600070953369, 2.6547000408172607, 2.6547000408172607, 2.6547000408172607, 2.6542000770568848, 2.654099941253662, 2.65310001373291, 2.652100086212158, 2.6514999866485596, 2.650599956512451, 2.650599956512451, 2.6505000591278076, 2.6503000259399414, 2.6257998943328857, 2.632499933242798, 2.6226999759674072, 2.621000051498413, 2.589400053024292, 2.594099998474121, 2.5072999000549316, 2.4514000415802, 2.2416999340057373, 2.399600028991699, 2.2246999740600586, 2.2149999141693115, 2.5471999645233154, 2.290800094604492, 2.5543999671936035, 2.2639000415802, 2.325000047683716, 1.5484000444412231, 2.487499952316284, 2.2939000129699707, 2.484100103378296, 2.3276000022888184, 2.1649999618530273, 1.423699975013733, 1.7781000137329102, 1.443600058555603, 2.153899908065796, 1.6475000381469727, 1.9387999773025513, 1.0147000551223755, 1.7541999816894531, 1.8782999515533447, 1.4499000310897827, 0.6087999939918518, 0.6553000211715698, 1.2378000020980835, 0.3822000026702881, 1.239400029182434, 0.5109000205993652, -0.20069999992847443, 7.905900001525879, 7.905900001525879, 7.88070011138916, 7.8790998458862305, 7.8125, 7.708899974822998, 7.687399864196777, 7.658899784088135, 7.658899784088135, 7.342899799346924, 7.289100170135498, 7.289100170135498, 7.289100170135498, 7.067800045013428, 7.067800045013428, 7.067800045013428, 7.067800045013428, 7.067800045013428, 7.067800045013428, 7.067800045013428, 7.067800045013428, 7.067800045013428, 7.067800045013428, 7.067800045013428, 7.067800045013428, 7.064000129699707, 6.967700004577637, 6.964300155639648, 6.964300155639648, 6.8277997970581055, 6.222099781036377, 2.04229998588562, 2.039299964904785, 2.038800001144409, 2.0383999347686768, 2.03629994392395, 2.034600019454956, 2.0341999530792236, 2.033400058746338, 2.0322000980377197, 2.032099962234497, 2.0318000316619873, 2.0315001010894775, 2.031399965286255, 2.029099941253662, 2.0290000438690186, 2.0290000438690186, 2.0283000469207764, 2.02810001373291, 2.0278000831604004, 2.027400016784668, 2.0267999172210693, 2.025599956512451, 2.0251998901367188, 2.025099992752075, 2.0239999294281006, 2.023900032043457, 2.0232999324798584, 2.023099899291992, 2.0227999687194824, 2.0227999687194824, 2.022200107574463, 1.9732999801635742, 1.9855999946594238, 2.000200033187866, 2.0092999935150146, 1.9876999855041504, 1.916200041770935, 1.9718999862670898, 1.9569000005722046, 1.9573999643325806, 1.9668999910354614, 1.8450000286102295, 1.9206000566482544, 1.702299952507019, 1.725100040435791, 1.892899990081787, 1.8095999956130981, 1.684999942779541, 1.854699969291687, 1.846500039100647, 1.8322999477386475, 1.829200029373169, 1.663100004196167, 1.7107000350952148, 1.5339000225067139, 1.5738999843597412, 1.4815000295639038, 1.6160999536514282, 1.676900029182434, 1.4986000061035156, 1.7752000093460083, 1.1647000312805176, 1.0413999557495117, 1.4910999536514282, 1.6593999862670898, 1.5313999652862549, 1.419700026512146, 1.0422999858856201, 1.3707000017166138, 1.1378999948501587, 1.385200023651123, 0.8026999831199646, 1.5113999843597412, 1.0611000061035156, 1.2200000286102295, 1.3021999597549438, 0.8546000123023987, 0.9563999772071838, 1.2274999618530273, 1.0896999835968018, 0.65420001745224, 0.7954000234603882, 0.19140000641345978, 0.808899998664856, 0.850600004196167, 0.791700005531311, 2.887399911880493, 2.8828999996185303, 2.8824000358581543, 2.8822999000549316, 2.8821001052856445, 2.8808000087738037, 2.8780999183654785, 2.8777999877929688, 2.876499891281128, 2.8757998943328857, 2.875, 2.875, 2.874300003051758, 2.874300003051758, 2.874300003051758, 2.874300003051758, 2.874300003051758, 2.8731000423431396, 2.8731000423431396, 2.872999906539917, 2.872299909591675, 2.871999979019165, 2.870500087738037, 2.8703999519348145, 2.870300054550171, 2.8701000213623047, 2.8696999549865723, 2.8696999549865723, 2.86929988861084, 2.8682000637054443, 2.8682000637054443, 2.85509991645813, 2.811199903488159, 2.838599920272827, 2.7850000858306885, 2.2922000885009766, 2.4372000694274902, 2.206899881362915, 2.39520001411438, 2.2116000652313232, 2.49429988861084, 2.642199993133545, 2.3575000762939453, 2.4844000339508057, 2.305299997329712, 1.2002999782562256, 1.873900055885315, 2.4416000843048096, 2.0797998905181885, 2.1245999336242676, 1.5686999559402466, 1.9341000318527222, 1.242400050163269, 1.7235000133514404, 1.7861000299453735, 0.928600013256073, 1.0073000192642212, 1.3145999908447266, 1.2975000143051147, 1.1913000345230103, 1.5961999893188477, 1.7597999572753906, 1.6121000051498413, 0.16300000250339508, 0.16380000114440918, -0.03700000047683716, 0.5023000240325928, 0.08429999649524689, 2.690999984741211, 2.6909000873565674, 2.6905999183654785, 2.686500072479248, 2.6863999366760254, 2.684799909591675, 2.6840999126434326, 2.6826999187469482, 2.6826000213623047, 2.68179988861084, 2.6814000606536865, 2.680299997329712, 2.679500102996826, 2.6786999702453613, 2.6786000728607178, 2.677299976348877, 2.6756999492645264, 2.6756999492645264, 2.67549991607666, 2.67549991607666, 2.6754000186920166, 2.674999952316284, 2.6740000247955322, 2.6723999977111816, 2.6719000339508057, 2.671299934387207, 2.6696999073028564, 2.6695001125335693, 2.668800115585327, 2.6679999828338623, 2.558300018310547, 2.6010000705718994, 2.6175999641418457, 2.6201999187469482, 2.502500057220459, 2.121999979019165, 2.029900074005127, 2.3914999961853027, 1.6268999576568604, 1.6455999612808228, 2.1626999378204346, 2.2060000896453857, 2.0994999408721924, 2.3473000526428223, 1.7122999429702759, 2.2878000736236572, 1.8549000024795532, 0.6776999831199646, 0.8414000272750854, 1.8099000453948975, 1.937600016593933, 0.3221000134944916, 1.3371000289916992, 0.10849999636411667, 0.8809000253677368, 1.6131999492645264, 0.9682000279426575, 0.9836999773979187, 0.8578000068664551, 6.233399868011475, 6.225599765777588, 6.219299793243408, 6.2104997634887695, 6.208099842071533, 6.198599815368652, 6.194300174713135, 6.186299800872803, 6.175300121307373, 6.1707000732421875, 6.169600009918213, 6.16540002822876, 6.1641998291015625, 6.1641998291015625, 6.1595001220703125, 6.1595001220703125, 6.144400119781494, 6.144400119781494, 6.134699821472168, 6.134699821472168, 6.123000144958496, 6.123000144958496, 6.123000144958496, 6.123000144958496, 6.108500003814697, 6.108500003814697, 6.090199947357178, 6.090199947357178, 6.090199947357178, 6.090199947357178, 5.985899925231934, 6.585100173950195, 6.539899826049805, 6.4980998039245605, 6.46120023727417, 6.452700138092041, 6.434500217437744, 6.428999900817871, 6.4197998046875, 6.40880012512207, 6.393400192260742, 6.389599800109863, 6.380099773406982, 6.362299919128418, 6.35290002822876, 6.31790018081665, 6.313499927520752, 6.311399936676025, 6.306000232696533, 6.262199878692627, 6.235599994659424, 6.225200176239014, 6.214099884033203, 6.180300235748291, 6.180300235748291, 6.163899898529053, 6.123600006103516, 6.123600006103516, 6.123600006103516, 6.123600006103516, 6.123600006103516, 6.123600006103516, 6.123600006103516, 5.919000148773193, 5.257599830627441, 5.59689998626709, 5.865099906921387, 5.918900012969971, 5.47130012512207, 5.512199878692627, 5.571800231933594, 5.190499782562256, 5.449999809265137, 3.8761000633239746, 5.533400058746338, 7.276100158691406, 7.258900165557861, 7.257800102233887, 7.228000164031982, 7.17110013961792, 7.17110013961792, 7.17110013961792, 7.125500202178955, 7.12470006942749, 7.087100028991699, 7.08650016784668, 7.085700035095215, 7.080100059509277, 7.073800086975098, 7.01800012588501, 7.01800012588501, 7.01800012588501, 7.01800012588501, 7.01800012588501, 7.01800012588501, 7.01800012588501, 7.01800012588501, 7.01800012588501, 7.01800012588501, 6.82289981842041, 6.654300212860107, 6.601099967956543, 6.579800128936768, 6.552800178527832, 6.535999774932861, 6.045899868011475, 1.8220000267028809, 1.8199000358581543, 1.8194999694824219, 1.8169000148773193, 1.8169000148773193, 1.816499948501587, 1.816499948501587, 1.8150999546051025, 1.8148000240325928, 1.8144999742507935, 1.8140000104904175, 1.8136999607086182, 1.813599944114685, 1.8135000467300415, 1.8133000135421753, 1.8133000135421753, 1.8131999969482422, 1.8131999969482422, 1.812399983406067, 1.8121999502182007, 1.8121000528335571, 1.811900019645691, 1.8113000392913818, 1.8111000061035156, 1.8109999895095825, 1.8108999729156494, 1.8107999563217163, 1.8107999563217163, 1.8107999563217163, 1.8106000423431396, 1.7934000492095947, 1.7865999937057495, 1.7864999771118164, 1.8020000457763672, 1.7628999948501587, 1.694000005722046, 1.719599962234497, 1.6837999820709229, 1.6720000505447388, 1.496500015258789, 1.5606000423431396, 1.6553000211715698, 1.5006999969482422, 1.6861000061035156, 1.7024999856948853, 1.5469000339508057, 1.679800033569336, 1.5163999795913696, 1.4313000440597534, 1.5262999534606934, 1.6413999795913696, 1.1395000219345093, 1.2103999853134155, 1.291700005531311, 1.4205000400543213, 1.0860999822616577, 1.3244999647140503, 0.9375, 1.5750999450683594, 1.2862000465393066, 0.8471999764442444, 1.3720999956130981, 1.1999000310897827, 0.7971000075340271, 1.2415000200271606, 0.3125, 0.2563000023365021, 1.051300048828125, 0.817300021648407, 0.7900000214576721, 0.9688000082969666, 0.35190001130104065, 0.9330999851226807, 1.0399999618530273, 0.5641999840736389, 0.07909999787807465, 0.12800000607967377, 0.5202000141143799, 7.736199855804443, 7.1844000816345215, 3.067699909210205, 3.067699909210205, 3.067699909210205, 3.067699909210205, 3.067699909210205, 3.067699909210205, 3.067699909210205, 3.067699909210205, 3.067699909210205, 3.067699909210205, 3.067699909210205, 3.067699909210205, 3.067699909210205, 3.0385000705718994, 3.032599925994873, 3.032599925994873, 3.032599925994873, 3.032599925994873, 3.032599925994873, 3.032599925994873, 3.032599925994873, 3.0223000049591064, 3.0223000049591064, 3.0223000049591064, 3.0223000049591064, 3.0223000049591064, 2.9818999767303467, 2.9818999767303467, 2.9818999767303467, 2.9818999767303467, 0.8907999992370605, 1.5598000288009644, 1.5851999521255493, 2.6867001056671143, 0.8393999934196472, 1.5957000255584717, 2.1012001037597656, -1.1165000200271606, 2.1714000701904297, 1.4473999738693237, 1.9641000032424927, 2.1714000701904297, 0.9004999995231628, 2.1714000701904297, 0.7656000256538391, 1.4473999738693237, 2.1384999752044678, 2.6867001056671143, 2.396199941635132, 2.6867001056671143, 2.6867001056671143, 1.466599941253662, 2.6867001056671143, 2.7030999660491943, 1.4358999729156494, 0.6100999712944031, 1.0317000150680542, 1.5491000413894653, 7.202400207519531, 7.148099899291992, 7.120100021362305, 7.094600200653076, 7.062300205230713, 7.02239990234375, 7.0177998542785645, 6.995200157165527, 6.989999771118164, 6.989999771118164, 6.973400115966797, 6.941699981689453, 6.924600124359131, 6.908299922943115, 6.876399993896484, 6.843999862670898, 6.830999851226807, 6.82889986038208, 6.773600101470947, 6.763299942016602, 6.748300075531006, 6.637199878692627, 6.637199878692627, 6.599299907684326, 6.595399856567383, 6.595399856567383, 6.55210018157959, 6.5106000900268555, 6.5106000900268555, 6.5106000900268555, 5.453199863433838, 3.2267000675201416, 4.125999927520752, 6.737299919128418, 6.737199783325195, 6.710000038146973, 6.703800201416016, 6.680600166320801, 6.678500175476074, 6.660699844360352, 6.651899814605713, 6.646200180053711, 6.612299919128418, 6.6041998863220215, 6.593599796295166, 6.578400135040283, 6.553500175476074, 6.53410005569458, 6.507999897003174, 6.491499900817871, 6.48960018157959, 6.485599994659424, 6.483099937438965, 6.469399929046631, 6.466000080108643, 6.457300186157227, 6.4369001388549805, 6.422900199890137, 6.394400119781494, 6.358500003814697, 6.326399803161621, 6.3130998611450195, 6.2718000411987305, 5.895199775695801, 5.964000225067139, 5.738500118255615, 4.192500114440918, 4.054699897766113, 2.8259999752044678, 5.363699913024902, 2.335900068283081, 2.335200071334839, 2.333199977874756, 2.33270001411438, 2.3324999809265137, 2.3324999809265137, 2.3322999477386475, 2.3317999839782715, 2.3315000534057617, 2.331199884414673, 2.3301000595092773, 2.329699993133545, 2.3296000957489014, 2.329400062561035, 2.328399896621704, 2.328200101852417, 2.3278000354766846, 2.327399969100952, 2.327199935913086, 2.326900005340576, 2.3262999057769775, 2.3254001140594482, 2.324899911880493, 2.32450008392334, 2.3243000507354736, 2.3238000869750977, 2.323699951171875, 2.3236000537872314, 2.3234000205993652, 2.3231000900268555, 2.288100004196167, 2.2948999404907227, 2.2056000232696533, 2.2219998836517334, 2.179500102996826, 2.2070000171661377, 2.163800001144409, 2.254300117492676, 2.1438000202178955, 2.2815001010894775, 2.012200117111206, 1.9527000188827515, 1.7989000082015991, 1.9493999481201172, 1.8229000568389893, 1.6950000524520874, 1.9674999713897705, 1.9111000299453735, 2.0796000957489014, 2.111799955368042, 1.9189000129699707, 1.3070000410079956, 1.666200041770935, 1.8157000541687012, 1.6204999685287476, 1.9636000394821167, 1.6211999654769897, 1.6857000589370728, 1.7670999765396118, 1.8478000164031982, 1.8980000019073486, 1.3569999933242798, 0.5270000100135803, 1.2419999837875366, 1.277899980545044, 1.5400999784469604, 1.3289999961853027, 1.1527999639511108, 1.197100043296814, 1.3895000219345093, 1.3116999864578247, 5.864299774169922, 5.857100009918213, 5.855400085449219, 5.85230016708374, 5.851600170135498, 5.845200061798096, 5.83650016784668, 5.836400032043457, 5.825799942016602, 5.824100017547607, 5.822700023651123, 5.817599773406982, 5.814499855041504, 5.811699867248535, 5.811699867248535, 5.798399925231934, 5.793700218200684, 5.792300224304199, 5.788300037384033, 5.785699844360352, 5.754799842834473, 5.751999855041504, 5.750199794769287, 5.732999801635742, 5.732600212097168, 5.728799819946289, 5.7210001945495605, 5.718699932098389, 5.713200092315674, 5.702099800109863, 5.674099922180176, 5.583399772644043, 5.38539981842041, 5.548500061035156, 5.58519983291626, 4.98360013961792, 4.309899806976318, 4.092899799346924, 3.437299966812134, 3.352099895477295, 2.8778998851776123, 2.0696001052856445, 4.3256001472473145, 4.555300235748291, 3.4590001106262207, 3.3536999225616455, 3.3489999771118164, 3.3480000495910645, 3.344599962234497, 3.3433001041412354, 3.3417000770568848, 3.341399908065796, 3.3406999111175537, 3.33870005607605, 3.337899923324585, 3.3378000259399414, 3.335900068283081, 3.335700035095215, 3.335200071334839, 3.33489990234375, 3.33240008354187, 3.3317999839782715, 3.330899953842163, 3.330699920654297, 3.330399990081787, 3.327699899673462, 3.327399969100952, 3.326900005340576, 3.3261001110076904, 3.3257999420166016, 3.3248000144958496, 3.3248000144958496, 3.3239998817443848, 3.323499917984009, 3.320499897003174, 3.320199966430664, 3.0792999267578125, 3.0083000659942627, 3.283400058746338, 2.889899969100952, 3.0992000102996826, 2.864799976348877, 2.473599910736084, 2.6547999382019043, 2.812999963760376, 2.269200086593628, 2.6910998821258545, 2.0787999629974365, 2.7674999237060547, 2.2407000064849854, 2.2046000957489014, 1.9210000038146973, 2.926300048828125, 2.18530011177063, 2.352099895477295, 2.4621999263763428, 1.8889000415802002, 1.8387000560760498, 1.2407000064849854, 1.2338000535964966, 1.8910000324249268, 1.9759000539779663, 0.4909000098705292, 0.7232000231742859, 1.1633000373840332, 1.155500054359436, 5.613699913024902, 5.605599880218506, 5.5995001792907715, 5.59630012512207, 5.594299793243408, 5.578000068664551, 5.5725998878479, 5.570899963378906, 5.560699939727783, 5.559899806976318, 5.554999828338623, 5.552599906921387, 5.549699783325195, 5.549099922180176, 5.541500091552734, 5.5381999015808105, 5.531899929046631, 5.5279998779296875, 5.518599987030029, 5.518400192260742, 5.513700008392334, 5.513700008392334, 5.507599830627441, 5.499599933624268, 5.498000144958496, 5.495999813079834, 5.489200115203857, 5.488100051879883, 5.487199783325195, 5.485899925231934, 5.12060022354126, 5.017300128936768, 5.187900066375732, 4.838099956512451, 5.110499858856201, 4.14109992980957, 3.9244000911712646, 3.854300022125244, 2.4144999980926514, 3.79229998588562, 1.559499979019165, 2.844399929046631, 4.282899856567383, 2.31820011138916, 2.3180999755859375, 2.3169000148773193, 2.314199924468994, 2.3141000270843506, 2.3131000995635986, 2.3127999305725098, 2.310800075531006, 2.309299945831299, 2.3085999488830566, 2.308199882507324, 2.306999921798706, 2.3066999912261963, 2.306299924850464, 2.3050999641418457, 2.3048999309539795, 2.304500102996826, 2.303100109100342, 2.302799940109253, 2.3025999069213867, 2.302500009536743, 2.3018999099731445, 2.3017001152038574, 2.301300048828125, 2.3011999130249023, 2.3006999492645264, 2.300299882888794, 2.300100088119507, 2.299999952316284, 2.2995998859405518, 2.282900094985962, 2.2804999351501465, 2.22979998588562, 2.219599962234497, 1.9128999710083008, 1.7376999855041504, 1.8265999555587769, 1.6677000522613525, 2.091099977493286, 1.8486000299453735, 1.8030999898910522, 2.1382999420166016, 1.5910999774932861, 1.6833000183105469, 1.8695000410079956, 1.71589994430542, 1.8100999593734741, 1.931399941444397, 1.7237000465393066, 1.5978000164031982, 1.1649999618530273, 1.0779999494552612, 0.4999000132083893, 0.9864000082015991, 0.7444999814033508, 1.0604000091552734, 1.1287000179290771, 1.2664999961853027, 0.5185999870300293, 1.0957000255584717, 0.6425999999046326, 0.8030999898910522, 0.15520000457763672, 6.377900123596191, 6.369200229644775, 6.3643999099731445, 6.355100154876709, 6.336999893188477, 6.321100234985352, 6.313499927520752, 6.309199810028076, 6.307400226593018, 6.303800106048584, 6.299200057983398, 6.297999858856201, 6.283299922943115, 6.280799865722656, 6.2677001953125, 6.259900093078613, 6.253600120544434, 6.252999782562256, 6.249800205230713, 6.248300075531006, 6.230100154876709, 6.228899955749512, 6.22629976272583, 6.214700222015381, 6.1975998878479, 6.178199768066406, 6.168799877166748, 6.165299892425537, 6.152299880981445, 6.149499893188477, 6.13129997253418, 5.7708001136779785, 4.260499954223633, 5.691299915313721, 5.151599884033203, 7.426599979400635, 7.355500221252441, 7.287700176239014, 7.26170015335083, 7.225200176239014, 7.224999904632568, 7.196499824523926, 7.161399841308594, 7.148900032043457, 7.147200107574463, 7.055799961090088, 7.05019998550415, 6.9492998123168945, 6.936399936676025, 6.895299911499023, 6.847400188446045, 6.847400188446045, 6.830699920654297, 6.78980016708374, 6.78980016708374, 6.78980016708374, 6.703100204467773, 6.637400150299072, 6.637400150299072, 6.637400150299072, 6.637400150299072, 6.388599872589111, 6.388599872589111, 6.388599872589111, 6.388599872589111, 6.367700099945068, 6.379700183868408, 6.388599872589111, 6.388599872589111, 6.388599872589111, 6.388599872589111, 6.388599872589111, 5.6427998542785645, 5.673099994659424, 4.830900192260742, 4.818299770355225, 4.817500114440918, 4.808700084686279, 4.803100109100342, 4.80019998550415, 4.800000190734863, 4.797900199890137, 4.796999931335449, 4.796500205993652, 4.795599937438965, 4.794099807739258, 4.791299819946289, 4.785299777984619, 4.7804999351501465, 4.7795000076293945, 4.7779998779296875, 4.776800155639648, 4.776800155639648, 4.776800155639648, 4.7754998207092285, 4.77269983291626, 4.772600173950195, 4.770599842071533, 4.768899917602539, 4.767300128936768, 4.76639986038208, 4.764400005340576, 4.764100074768066, 4.764100074768066, 4.764100074768066, 4.249899864196777, 3.920099973678589, 3.5604000091552734, 3.8015999794006348, 4.366199970245361, 4.615099906921387, 4.2484002113342285, 2.4951000213623047, 2.380199909210205, 4.036799907684326, 4.263999938964844, 3.549799919128418, 4.021900177001953, 2.323899984359741, 1.3658000230789185, 2.4837000370025635, 3.599900007247925, 2.282099962234497, 1.7336000204086304, 2.1851999759674072, 2.5276999473571777, -0.19359999895095825, 1.4974000453948975, 0.8902999758720398, 3.770900011062622, 3.7685000896453857, 3.766200065612793, 3.7660000324249268, 3.764400005340576, 3.764400005340576, 3.7639999389648438, 3.7613000869750977, 3.7599000930786133, 3.7520999908447266, 3.7502999305725098, 3.75, 3.749000072479248, 3.747299909591675, 3.7411000728607178, 3.739799976348877, 3.7360000610351562, 3.734800100326538, 3.731800079345703, 3.7293999195098877, 3.728800058364868, 3.728100061416626, 3.725800037384033, 3.725399971008301, 3.725399971008301, 3.725399971008301, 3.7232000827789307, 3.7227001190185547, 3.720900058746338, 3.720599889755249, 3.7118000984191895, 3.6098999977111816, 3.575700044631958, 3.697499990463257, 3.6247000694274902, 3.5536999702453613, 3.6698999404907227, 3.4131999015808105, 3.504300117492676, 3.349299907684326, 3.419300079345703, 3.4558000564575195, 3.0950000286102295, 3.2548000812530518, 3.293600082397461, 2.740000009536743, 3.463900089263916, 2.4430999755859375, 2.601300001144409, 3.507699966430664, 1.9946999549865723, 2.6384999752044678, 1.9789999723434448, 1.9961999654769897, 2.3805999755859375, 2.1463000774383545, 2.024899959564209, 2.0566999912261963, 2.7172999382019043, 1.9551000595092773, 1.55649995803833, 2.390199899673462, 1.9883999824523926, 2.1034998893737793, 2.65339994430542, 1.666100025177002, 1.569599986076355, 3.7548000812530518, 3.7548000812530518, 3.748699903488159, 3.746500015258789, 3.7441000938415527, 3.73799991607666, 3.7379000186920166, 3.7379000186920166, 3.7351999282836914, 3.734999895095825, 3.7344000339508057, 3.733299970626831, 3.733099937438965, 3.732100009918213, 3.7314999103546143, 3.73009991645813, 3.7300000190734863, 3.7293999195098877, 3.7291998863220215, 3.726799964904785, 3.7267000675201416, 3.726599931716919, 3.7265000343322754, 3.7260000705718994, 3.7251999378204346, 3.724600076675415, 3.7244999408721924, 3.7239999771118164, 3.723900079727173, 3.723099946975708, 3.6328999996185303, 3.6791999340057373, 3.63070011138916, 3.2039999961853027, 3.497299909591675, 3.1171998977661133, 3.2967000007629395, 3.3914999961853027, 1.801300048828125, 2.2499001026153564, 3.234499931335449, 3.049799919128418, 2.9709999561309814, 2.825500011444092, 2.700900077819824, 2.5899999141693115, 2.1203999519348145, 1.9627000093460083, 1.7695000171661377, 3.0732998847961426, 2.748300075531006, 2.343400001525879, 1.4035999774932861, 2.3254001140594482, 1.9419000148773193, 1.1746000051498413, 2.172100067138672, 0.39629998803138733, 0.20360000431537628, 6.6996002197265625, 6.673500061035156, 6.6479997634887695, 6.645699977874756, 6.643199920654297, 6.627900123596191, 6.578000068664551, 6.578000068664551, 6.578000068664551, 6.578000068664551, 6.558800220489502, 6.558800220489502, 6.558800220489502, 6.534599781036377, 6.534200191497803, 6.533899784088135, 6.518499851226807, 6.509900093078613, 6.509900093078613, 6.509900093078613, 6.500100135803223, 6.489699840545654, 6.478499889373779, 6.478499889373779, 6.478300094604492, 6.478300094604492, 6.4375, 6.418300151824951, 6.418300151824951, 6.412600040435791, 6.165200233459473, 5.335599899291992, 5.1458001136779785, 6.110099792480469, 6.163099765777588, 4.5742998123168945, 4.572800159454346, 4.565000057220459, 4.5625, 4.556099891662598, 4.554100036621094, 4.549600124359131, 4.547800064086914, 4.547599792480469, 4.54640007019043, 4.544000148773193, 4.543700218200684, 4.541100025177002, 4.539700031280518, 4.537399768829346, 4.5366997718811035, 4.535799980163574, 4.533100128173828, 4.532800197601318, 4.531099796295166, 4.531099796295166, 4.527400016784668, 4.527200222015381, 4.5269999504089355, 4.526800155639648, 4.526800155639648, 4.524099826812744, 4.522200107574463, 4.521599769592285, 4.521500110626221, 4.043300151824951, 3.336899995803833, 3.6494998931884766, 3.781599998474121, 3.5706000328063965, 4.019100189208984, 4.12470006942749, 3.4261999130249023, 4.1641998291015625, 3.167099952697754, 3.4042999744415283, 4.054699897766113, 3.3642001152038574, 3.050100088119507, 3.572499990463257, 2.7244999408721924, 3.1159000396728516, 3.488300085067749, 3.0980000495910645, 2.4333999156951904, 2.265700101852417, 1.1311999559402466, 2.910099983215332, 0.5026999711990356, 1.7580000162124634, 2.468400001525879, 3.017699956893921, 1.6979999542236328, 2.708400011062622, 5.281000137329102, 5.276700019836426, 5.269999980926514, 5.267899990081787, 5.267000198364258, 5.264999866485596, 5.262400150299072, 5.260000228881836, 5.252099990844727, 5.250400066375732, 5.248799800872803, 5.248600006103516, 5.247200012207031, 5.247200012207031, 5.241399765014648, 5.240200042724609, 5.236100196838379, 5.235499858856201, 5.235300064086914, 5.234399795532227, 5.23360013961792, 5.230999946594238, 5.230000019073486, 5.226600170135498, 5.224400043487549, 5.2241997718811035, 5.2221999168396, 5.219799995422363, 5.218100070953369, 5.217599868774414, 5.1930999755859375, 5.1875, 5.194399833679199, 5.060999870300293, 5.121099948883057, 5.044600009918213, 4.636099815368652, 4.58650016784668, 4.844900131225586, 4.849699974060059, 4.724800109863281, 4.209400177001953, 6.927199840545654, 6.927199840545654, 6.922800064086914, 6.906000137329102, 6.901599884033203, 6.89739990234375, 6.875999927520752, 6.875999927520752, 6.865900039672852, 6.8557000160217285, 6.810400009155273, 6.809700012207031, 6.798299789428711, 6.77839994430542, 6.75629997253418, 6.726900100708008, 6.713900089263916, 6.713900089263916, 6.692500114440918, 6.692500114440918, 6.692500114440918, 6.692500114440918, 6.692500114440918, 6.674799919128418, 6.660799980163574, 6.622099876403809, 6.609499931335449, 6.57420015335083, 6.553599834442139, 6.508600234985352, 6.250699996948242, 6.2204999923706055, 5.591300010681152, 5.890999794006348, 4.881400108337402, 4.5081000328063965, 4.504199981689453, 4.500899791717529, 4.497399806976318, 4.496799945831299, 4.496699810028076, 4.4893999099731445, 4.48829984664917, 4.48829984664917, 4.487599849700928, 4.487199783325195, 4.487100124359131, 4.485799789428711, 4.484300136566162, 4.484300136566162, 4.484300136566162, 4.4816999435424805, 4.4791998863220215, 4.4791998863220215, 4.4791998863220215, 4.4791998863220215, 4.47629976272583, 4.474899768829346, 4.474899768829346, 4.474899768829346, 4.474899768829346, 4.474899768829346, 4.472300052642822, 4.472300052642822, 4.472300052642822, 4.472300052642822, 4.384500026702881, 4.420599937438965, 3.4056999683380127, 2.851900100708008, 0.927299976348877, 7.364799976348877, 7.353899955749512, 7.314000129699707, 7.236800193786621, 7.177199840545654, 7.157899856567383, 7.101799964904785, 7.0833001136779785, 7.058800220489502, 6.868899822235107, 6.868899822235107, 6.8653998374938965, 6.843400001525879, 6.816400051116943, 6.816400051116943, 6.765500068664551, 6.733699798583984, 6.703000068664551, 6.68720006942749, 6.594799995422363, 6.580900192260742, 6.555099964141846, 6.547900199890137, 6.503499984741211, 6.503499984741211, 6.428299903869629, 6.428299903869629, 6.4156999588012695, 6.4156999588012695, 6.319699764251709, 6.319699764251709, 6.287799835205078, 4.898200035095215, 3.454200029373169, 4.675300121307373, 6.0192999839782715, 6.008200168609619, 6.003399848937988, 5.992199897766113, 5.972400188446045, 5.963799953460693, 5.963500022888184, 5.955999851226807, 5.9527997970581055, 5.951600074768066, 5.944300174713135, 5.942200183868408, 5.936100006103516, 5.934500217437744, 5.934000015258789, 5.92519998550415, 5.924699783325195, 5.911300182342529, 5.9085001945495605, 5.907800197601318, 5.905200004577637, 5.891900062561035, 5.879199981689453, 5.876800060272217, 5.872799873352051, 5.866799831390381, 5.8592000007629395, 5.852700233459473, 5.844399929046631, 5.842199802398682, 5.418000221252441, 4.970300197601318, 5.115900039672852, 4.61460018157959, 3.2620999813079834, 4.189199924468994, 4.154099941253662, 3.5815999507904053, 5.413899898529053, 2.176300048828125, 5.166299819946289, 5.164999961853027, 5.1417999267578125, 5.134099960327148, 5.125699996948242, 5.1219000816345215, 5.121399879455566, 5.112199783325195, 5.110300064086914, 5.107999801635742, 5.103300094604492, 5.10260009765625, 5.098700046539307, 5.098400115966797, 5.094200134277344, 5.09119987487793, 5.083600044250488, 5.077000141143799, 5.075799942016602, 5.072700023651123, 5.066199779510498, 5.062300205230713, 5.059000015258789, 5.051700115203857, 5.048500061035156, 5.047100067138672, 5.046500205993652, 5.0416998863220215, 5.040500164031982, 5.038599967956543, 5.034299850463867, 4.89900016784668, 4.929500102996826, 4.861800193786621, 4.594099998474121, 4.576200008392334, 4.5671000480651855, 4.811999797821045, 4.934299945831299, 3.924799919128418, 4.320300102233887, 3.5432000160217285, 3.7065000534057617, 3.4410998821258545, 4.579999923706055, 3.805999994277954, 4.339200019836426, 3.424799919128418, 3.069499969482422, 2.091099977493286, 2.726900100708008, 2.8541998863220215, 3.7753000259399414, 1.7263000011444092, 1.3041000366210938, 0.9976999759674072, 2.3171000480651855, 0.6148999929428101, 7.367000102996826, 7.362500190734863, 7.357600212097168, 7.259699821472168, 7.242099761962891, 7.242099761962891, 7.242099761962891, 7.242099761962891, 7.242099761962891, 7.242099761962891, 7.242099761962891, 7.242099761962891, 7.221499919891357, 7.221499919891357, 7.221499919891357, 7.196899890899658, 7.1041998863220215, 7.1041998863220215, 7.1041998863220215, 7.1041998863220215, 7.049699783325195, 7.049699783325195, 7.049699783325195, 7.049699783325195, 7.049699783325195, 7.049699783325195, 7.049699783325195, 7.049699783325195, 7.049699783325195, 7.049699783325195, 7.049699783325195, 7.049699783325195, 7.049699783325195, 7.049699783325195, 7.049699783325195, 7.049699783325195, 7.049699783325195, 6.559500217437744, 6.687600135803223, 6.713799953460693, 3.9491000175476074, 3.9458999633789062, 3.9421000480651855, 3.941999912261963, 3.9410998821258545, 3.9356000423431396, 3.93530011177063, 3.9344000816345215, 3.9344000816345215, 3.93179988861084, 3.9314000606536865, 3.930299997329712, 3.928299903869629, 3.9235000610351562, 3.9235000610351562, 3.922300100326538, 3.9217000007629395, 3.9205000400543213, 3.919800043106079, 3.917099952697754, 3.9154999256134033, 3.9154999256134033, 3.9147000312805176, 3.9130001068115234, 3.9119999408721924, 3.911099910736084, 3.910900115966797, 3.9098000526428223, 3.9096999168395996, 3.9086999893188477, 3.9003000259399414, 3.871500015258789, 3.866499900817871, 3.755500078201294, 3.8340001106262207, 3.7757999897003174, 3.7307000160217285, 3.725600004196167, 3.4052000045776367, 3.6749000549316406, 3.7214999198913574, 3.66759991645813, 3.7079999446868896, 3.071500062942505, 3.387399911880493, 3.375, 3.3582000732421875, 3.097100019454956, 2.734299898147583, 2.802500009536743, 3.2688000202178955, 2.9567999839782715, 1.889799952507019, 3.1937999725341797, 1.9919999837875366, 2.844899892807007, 2.7432000637054443, 1.5300999879837036, 1.2714999914169312, 2.749000072479248, 2.100600004196167, 2.108099937438965, 2.107599973678589, 2.1061999797821045, 2.105299949645996, 2.105299949645996, 2.104099988937378, 2.1038999557495117, 2.1033999919891357, 2.103100061416626, 2.10260009765625, 2.1022000312805176, 2.1022000312805176, 2.1022000312805176, 2.1008999347686768, 2.1005001068115234, 2.0999999046325684, 2.099900007247925, 2.0998001098632812, 2.0998001098632812, 2.0994999408721924, 2.099299907684326, 2.0989999771118164, 2.098900079727173, 2.09879994392395, 2.098599910736084, 2.098400115966797, 2.098299980163574, 2.0980000495910645, 2.097599983215332, 2.097599983215332, 2.066200017929077, 1.9484000205993652, 1.9984999895095825, 1.9305000305175781, 2.024899959564209, 1.8698999881744385, 1.8734999895095825, 1.927899956703186, 1.9866000413894653, 1.8538999557495117, 1.8401000499725342, 1.7237999439239502, 1.8712999820709229, 1.9665000438690186, 1.5083999633789062, 1.2958999872207642, 1.8200000524520874, 1.2101999521255493, 1.0389000177383423, 1.0367000102996826, 1.3378000259399414, 0.29190000891685486, 1.135599970817566, 1.065000057220459, 0.6617000102996826, 1.2621999979019165, 0.16699999570846558, 0.09470000118017197, 0.30000001192092896, 0.800599992275238, 0.4643000066280365, 0.6021000146865845, 0.5052000284194946, 1.0245000123977661, 0.3727000057697296, 0.5019999742507935, 8.096099853515625, 6.8850998878479, 6.242199897766113, 6.242199897766113, 6.242199897766113, 6.242199897766113, 6.242199897766113, 6.242199897766113, 6.242199897766113, 6.242199897766113, 6.242199897766113, 6.242199897766113, 6.242199897766113, 6.242199897766113, 6.242199897766113, 5.613500118255615, 3.0471999645233154, 3.0278000831604004, 3.0278000831604004, 3.0278000831604004, 3.0278000831604004, 3.0278000831604004, 3.0278000831604004, 3.0278000831604004, 3.0174999237060547, 3.0174999237060547, 3.0174999237060547, 3.0174999237060547, 3.0174999237060547, 2.9772000312805176, 2.9772000312805176, -0.1437000036239624, 2.133699893951416, 0.6053000092506409, 1.4311000108718872, 2.6984000205993652, 2.6819000244140625, 1.461899995803833, 2.6819000244140625, 2.6819000244140625, 2.391400098800659, 1.4427000284194946, 0.9995999932289124, 2.6819000244140625, 2.166599988937378, 7.274400234222412, 7.217800140380859, 7.211900234222412, 7.171000003814697, 7.104499816894531, 7.104499816894531, 7.077099800109863, 7.002200126647949, 7.002200126647949, 7.002200126647949, 6.9141998291015625, 6.825699806213379, 6.823200225830078, 6.759200096130371, 6.759200096130371, 6.759200096130371, 6.750500202178955, 6.6682000160217285, 6.5665998458862305, 6.53439998626709, 6.53439998626709, 6.433899879455566, 6.433899879455566, 6.433899879455566, 6.433899879455566, 6.433899879455566, 6.433899879455566, 6.433899879455566, 6.433899879455566, 6.433899879455566, 6.433899879455566, 6.433899879455566, 6.433899879455566, 6.433899879455566, 6.433899879455566, 6.433899879455566, 6.433899879455566, 6.433899879455566, 6.433899879455566, 6.433899879455566, 6.433899879455566, 6.433899879455566, 6.433899879455566, 6.433899879455566, 6.433899879455566, 6.433899879455566, 6.433899879455566, 6.433899879455566, 6.433899879455566, 6.433899879455566, 6.433899879455566, 6.305099964141846, 6.433899879455566, 6.433899879455566, 6.433899879455566, 6.271999835968018, 6.433899879455566, 6.433899879455566, 6.433899879455566, 6.433899879455566, 6.433899879455566, 6.433899879455566, 6.433899879455566, 6.433899879455566, 6.433899879455566, 6.433899879455566, 4.4004998207092285, 6.433899879455566, 6.433899879455566, 6.433899879455566, 6.433899879455566, 6.433899879455566, 5.147299766540527, 6.433899879455566], \"logprob\": [30.0, 29.0, 28.0, 27.0, 26.0, 25.0, 24.0, 23.0, 22.0, 21.0, 20.0, 19.0, 18.0, 17.0, 16.0, 15.0, 14.0, 13.0, 12.0, 11.0, 10.0, 9.0, 8.0, 7.0, 6.0, 5.0, 4.0, 3.0, 2.0, 1.0, -3.6496999263763428, -4.375800132751465, -4.469799995422363, -4.640399932861328, -4.871699810028076, -5.003600120544434, -5.115699768066406, -5.138199806213379, -5.164000034332275, -5.164700031280518, -5.171599864959717, -5.171599864959717, -5.184800148010254, -5.3531999588012695, -5.3531999588012695, -5.413300037384033, -5.458099842071533, -5.458099842071533, -5.458099842071533, -5.458099842071533, -5.458099842071533, -5.494100093841553, -5.525000095367432, -5.565000057220459, -5.565000057220459, -5.565000057220459, -5.575300216674805, -5.8572001457214355, -5.861199855804443, -5.861199855804443, -3.663599967956543, -3.8405001163482666, -3.8561999797821045, -4.183599948883057, -4.323400020599365, -4.441500186920166, -4.830599784851074, -5.103799819946289, -5.161799907684326, -5.257400035858154, -5.257400035858154, -5.326000213623047, -5.326000213623047, -5.326499938964844, -5.410200119018555, -5.479599952697754, -5.480199813842773, -5.480199813842773, -5.480199813842773, -5.480199813842773, -5.480199813842773, -5.612800121307373, -5.661900043487549, -5.712800025939941, -5.766499996185303, -5.8231000900268555, -5.8231000900268555, -5.884200096130371, -5.884200096130371, -5.884200096130371, -5.884200096130371, -5.884200096130371, -5.884200096130371, -5.884200096130371, -5.884200096130371, -5.884200096130371, -5.497000217437744, -5.313700199127197, -5.443299770355225, -5.7179999351501465, -5.522500038146973, -5.514400005340576, -4.358699798583984, -4.499499797821045, -5.68120002746582, -5.855299949645996, -5.89870023727417, -5.969900131225586, -6.070899963378906, -6.103499889373779, -6.105500221252441, -6.117099761962891, -6.122499942779541, -6.178800106048584, -6.2170000076293945, -6.225900173187256, -6.228600025177002, -6.242099761962891, -6.190199851989746, -6.2835001945495605, -6.317399978637695, -6.339600086212158, -6.3719000816345215, -6.399199962615967, -6.464399814605713, -6.438700199127197, -6.48960018157959, -6.538000106811523, -6.543499946594238, -6.586599826812744, -6.592400074005127, -6.59250020980835, -5.507699966430664, -5.800600051879883, -4.591899871826172, -6.230800151824951, -6.149199962615967, -5.607500076293945, -5.010200023651123, -6.129799842834473, -5.552499771118164, -5.744100093841553, -4.810400009155273, -5.156099796295166, -5.2108001708984375, -6.074399948120117, -3.9289000034332275, -6.000899791717529, -5.628900051116943, -5.611499786376953, -5.936399936676025, -5.064499855041504, -4.9506001472473145, -4.990300178527832, -5.472700119018555, -5.111599922180176, -5.2519001960754395, -5.216300010681152, -5.323500156402588, -5.313700199127197, -5.621699810028076, -5.396599769592285, -5.728400230407715, -5.728499889373779, -5.7342000007629395, -5.748600006103516, -4.872600078582764, -5.1315999031066895, -5.217100143432617, -5.298299789428711, -5.411200046539307, -5.434599876403809, -5.52839994430542, -5.536799907684326, -5.6819000244140625, -5.718999862670898, -5.741099834442139, -5.757800102233887, -5.79580020904541, -5.820099830627441, -5.828400135040283, -5.875100135803223, -5.893199920654297, -5.906400203704834, -6.046999931335449, -6.057300090789795, -6.057300090789795, -6.168799877166748, -6.179200172424316, -6.1869001388549805, -6.203100204467773, -6.347599983215332, -6.390999794006348, -6.390999794006348, -6.423999786376953, -6.499000072479248, -3.912400007247925, -2.407099962234497, -5.670400142669678, -4.444300174713135, -5.319200038909912, -5.051400184631348, -5.084400177001953, -4.185800075531006, -4.9816999435424805, -3.970599889755249, -4.548500061035156, -4.853600025177002, -4.298900127410889, -4.2144999504089355, -4.710700035095215, -4.417300224304199, -4.284999847412109, -4.342199802398682, -4.571000099182129, -4.839200019836426, -4.9217000007629395, -4.161499977111816, -4.489999771118164, -4.812099933624268, -4.992800235748291, -4.932400226593018, -5.0370001792907715, -4.989500045776367, -4.88539981842041, -5.123600006103516, -3.8654000759124756, -4.72760009765625, -4.881400108337402, -4.883399963378906, -5.212699890136719, -5.556399822235107, -5.582499980926514, -5.564899921417236, -5.702600002288818, -5.73799991607666, -5.747600078582764, -5.84499979019165, -5.861400127410889, -5.915999889373779, -5.953000068664551, -6.020400047302246, -6.022900104522705, -6.028299808502197, -6.043300151824951, -6.087200164794922, -6.0920000076293945, -6.095300197601318, -6.103000164031982, -5.402299880981445, -6.175300121307373, -6.175899982452393, -6.188399791717529, -6.202400207519531, -6.20959997177124, -6.2154998779296875, -5.463699817657471, -6.121099948883057, -4.907400131225586, -5.768499851226807, -5.884900093078613, -4.476900100708008, -5.328199863433838, -4.272799968719482, -5.54640007019043, -4.331200122833252, -5.718100070953369, -5.687399864196777, -5.530399799346924, -5.82480001449585, -4.871600151062012, -5.123300075531006, -5.475299835205078, -4.923500061035156, -4.8119001388549805, -5.061200141906738, -5.067299842834473, -5.507999897003174, -5.412199974060059, -5.479100227355957, -5.44290018081665, -5.68120002746582, -5.277599811553955, -5.455699920654297, -5.456200122833252, -5.933899879455566, -6.064300060272217, -6.095900058746338, -6.10260009765625, -6.152400016784668, -6.225900173187256, -6.30019998550415, -6.329800128936768, -6.394999980926514, -6.4131999015808105, -6.432499885559082, -6.442500114440918, -6.443399906158447, -6.518799781799316, -6.5559000968933105, -6.61329984664917, -6.617599964141846, -6.6184000968933105, -6.646299839019775, -6.656400203704834, -6.719900131225586, -6.77400016784668, -6.8094000816345215, -6.856500148773193, -6.837800025939941, -6.8649001121521, -6.872700214385986, -5.756700038909912, -6.017099857330322, -5.947800159454346, -6.039599895477295, -5.372300148010254, -6.037300109863281, -5.232900142669678, -5.2505998611450195, -4.02810001373291, -5.1269001960754395, -4.348100185394287, -4.30109977722168, -6.059999942779541, -5.15939998626709, -6.176199913024902, -5.447700023651123, -5.686999797821045, -3.9600000381469727, -6.052800178527832, -5.7027997970581055, -6.063000202178955, -5.8379998207092285, -5.674600124359131, -4.845900058746338, -5.26609992980957, -4.999599933624268, -5.704100131988525, -5.334700107574463, -5.582699775695801, -5.227200031280518, -5.6981000900268555, -5.754799842834473, -5.6234002113342285, -5.374899864196777, -5.46589994430542, -5.609300136566162, -5.439300060272217, -5.653800010681152, -5.654300212860107, -5.667300224304199, -4.054100036621094, -4.054100036621094, -4.160299777984619, -4.1666998863220215, -4.411499977111816, -4.724800109863281, -4.78249979019165, -4.855899810791016, -4.855899810791016, -5.516499996185303, -5.6107001304626465, -5.6107001304626465, -5.6107001304626465, -5.9644999504089355, -5.9644999504089355, -5.9644999504089355, -5.9644999504089355, -5.9644999504089355, -5.9644999504089355, -5.9644999504089355, -5.9644999504089355, -5.9644999504089355, -5.9644999504089355, -5.9644999504089355, -5.9644999504089355, -5.970200061798096, -6.111199855804443, -6.116199970245361, -6.116199970245361, -6.30620002746582, -5.120200157165527, -6.401000022888184, -6.774199962615967, -6.823400020599365, -6.864200115203857, -7.05019998550415, -6.790200233459473, -7.210700035095215, -7.2596001625061035, -7.335400104522705, -7.343699932098389, -7.360899925231934, -7.376699924468994, -7.38670015335083, -7.509799957275391, -7.435500144958496, -7.513899803161621, -7.548399925231934, -7.559299945831299, -7.575500011444092, -7.592899799346924, -7.61929988861084, -7.668300151824951, -7.693299770355225, -6.885799884796143, -7.741600036621094, -7.744800090789795, -7.771100044250488, -7.774199962615967, -7.789299964904785, -7.78879976272583, -7.753900051116943, -5.5472002029418945, -6.183499813079834, -6.916200160980225, -7.243299961090088, -6.820899963378906, -5.3292999267578125, -6.606299877166748, -6.503399848937988, -6.606100082397461, -6.961100101470947, -5.878300189971924, -6.570099830627441, -4.7957000732421875, -5.000100135803223, -6.454899787902832, -6.09660005569458, -5.484399795532227, -6.44189977645874, -6.417600154876709, -6.381800174713135, -6.385900020599365, -5.66510009765625, -5.940700054168701, -5.3024001121521, -5.478400230407715, -5.1971001625061035, -5.717700004577637, -6.004799842834473, -5.590799808502197, -6.275599956512451, -4.956500053405762, -4.710700035095215, -5.671299934387207, -6.037899971008301, -5.7891998291015625, -5.581200122833252, -4.877399921417236, -5.501100063323975, -5.180799961090088, -5.605599880218506, -4.663899898529053, -5.8242998123168945, -5.1041998863220215, -5.400300025939941, -5.533999919891357, -4.992499828338623, -5.166800022125244, -5.506499767303467, -5.418399810791016, -5.09119987487793, -5.2104997634887695, -4.746500015258789, -5.438600063323975, -5.472400188446045, -5.55109977722168, -5.969200134277344, -6.3557000160217285, -6.3902997970581055, -6.258200168609619, -6.40939998626709, -6.495200157165527, -6.646900177001953, -6.659999847412109, -6.72629976272583, -6.759399890899658, -6.794300079345703, -6.794300079345703, -6.822500228881836, -6.827199935913086, -6.827199935913086, -6.827199935913086, -6.827199935913086, -6.877399921417236, -6.878200054168701, -6.879499912261963, -6.909299850463867, -6.923999786376953, -6.980899810791016, -6.982900142669678, -6.98769998550415, -6.997000217437744, -7.011300086975098, -7.01170015335083, -7.02370023727417, -7.0625, -6.962800025939941, -6.253900051116943, -5.657299995422363, -6.6707000732421875, -6.256400108337402, -3.702899932861328, -4.67609977722168, -3.561300039291382, -4.979300022125244, -4.848499774932861, -5.769100189208984, -6.241700172424316, -5.667600154876709, -5.966899871826172, -5.75, -3.737600088119507, -5.009900093078613, -6.031799793243408, -5.40939998626709, -5.636600017547607, -5.150100231170654, -5.611800193786621, -4.825300216674805, -5.3983001708984375, -5.685200214385986, -5.055099964141846, -5.258999824523926, -5.521699905395508, -5.522799968719482, -5.635799884796143, -5.894700050354004, -5.97130012512207, -5.93720006942749, -5.582399845123291, -5.588399887084961, -5.60290002822876, -5.767399787902832, -5.762899875640869, -3.562999963760376, -3.687299966812134, -3.9839999675750732, -5.535600185394287, -5.554900169372559, -5.819799900054932, -5.9166998863220215, -6.076399803161621, -6.084799766540527, -6.172599792480469, -6.2170000076293945, -6.313199996948242, -6.381700038909912, -6.445000171661377, -6.4527997970581055, -6.546999931335449, -6.651899814605713, -6.6570000648498535, -6.667300224304199, -6.667300224304199, -6.671299934387207, -6.698699951171875, -6.755000114440918, -6.842299938201904, -6.870500087738037, -6.899099826812744, -6.973100185394287, -6.9816999435424805, -7.015999794006348, -7.05019998550415, -3.936000108718872, -5.820499897003174, -6.384399890899658, -6.424499988555908, -5.901299953460693, -4.698299884796143, -4.790999889373779, -6.002699851989746, -4.496300220489502, -4.716800212860107, -5.700500011444092, -5.837200164794922, -5.76669979095459, -6.1605000495910645, -5.408599853515625, -6.095799922943115, -5.637400150299072, -5.067699909210205, -5.332699775695801, -5.9552998542785645, -6.021200180053711, -5.430099964141846, -5.801799774169922, -5.390399932861328, -5.797699928283691, -5.953199863433838, -5.85890007019043, -5.914100170135498, -5.93179988861084, -2.9105000495910645, -3.3671000003814697, -3.63070011138916, -3.9103000164031982, -3.9748001098632812, -4.197800159454346, -4.2846999168396, -4.43120002746582, -4.60290002822876, -4.667300224304199, -4.682400226593018, -4.736199855804443, -4.752399921417236, -4.752399921417236, -4.810299873352051, -4.810299873352051, -4.9770002365112305, -4.9770002365112305, -5.072199821472168, -5.072199821472168, -5.177299976348877, -5.177299976348877, -5.177299976348877, -5.177299976348877, -5.294899940490723, -5.294899940490723, -5.428100109100342, -5.428100109100342, -5.428100109100342, -5.428100109100342, -4.393799781799316, -3.500699996948242, -4.351500034332275, -4.790800094604492, -5.073800086975098, -5.130199909210205, -5.242700099945068, -5.275100231170654, -5.3267998695373535, -5.385499954223633, -5.463799953460693, -5.482500076293945, -5.5279998779296875, -5.608500003814697, -5.6493000984191895, -5.790800094604492, -5.807400226593018, -5.815299987792969, -5.8354997634887695, -5.988999843597412, -6.074999809265137, -6.107100009918213, -6.140900135040283, -6.238800048828125, -6.238800048828125, -6.284299850463867, -6.390500068664551, -6.390500068664551, -6.390500068664551, -6.390500068664551, -6.390500068664551, -6.390500068664551, -6.390500068664551, -5.308499813079834, -3.693000078201294, -4.74399995803833, -5.640200138092041, -5.80679988861084, -5.132699966430664, -5.403200149536133, -5.576700210571289, -5.2778000831604, -5.507699966430664, -4.412300109863281, -5.860000133514404, -3.5625, -3.7725000381469727, -3.7855000495910645, -4.072800159454346, -4.47760009765625, -4.47760009765625, -4.47760009765625, -4.725100040435791, -4.729300022125244, -4.901400089263916, -4.9039998054504395, -4.907299995422363, -4.930699825286865, -4.957200050354004, -5.168799877166748, -5.168799877166748, -5.168799877166748, -5.168799877166748, -5.168799877166748, -5.168799877166748, -5.168799877166748, -5.168799877166748, -5.168799877166748, -5.168799877166748, -5.7322998046875, -6.101399898529053, -6.204599857330322, -6.24459981918335, -6.2941999435424805, -6.3242998123168945, -4.453499794006348, -6.083899974822998, -6.515699863433838, -6.576300144195557, -6.930200099945068, -6.934100151062012, -6.974599838256836, -6.9756999015808105, -7.1092000007629395, -3.7037999629974365, -7.167500019073486, -7.210899829864502, -7.235799789428711, -7.246399879455566, -7.2571001052856445, -7.267600059509277, -7.269199848175049, -7.275000095367432, -7.278200149536133, -7.339099884033203, -7.350299835205078, -7.36329984664917, -7.379499912261963, -7.410600185394287, -7.432199954986572, -7.439799785614014, -7.444799900054932, -7.450099945068359, -7.450699806213379, -7.4532999992370605, -7.469900131225586, -5.7642998695373535, -5.649199962615967, -6.5208001136779785, -7.15910005569458, -6.007400035858154, -5.303599834442139, -5.747900009155273, -5.906300067901611, -5.992400169372559, -4.780799865722656, -5.346099853515625, -6.174200057983398, -5.161200046539307, -6.473800182342529, -6.616799831390381, -5.748199939727783, -6.517099857330322, -5.830100059509277, -5.448299884796143, -5.964200019836426, -6.4558000564575195, -4.359300136566162, -4.8572998046875, -5.458600044250488, -5.829400062561035, -4.884500026702881, -5.593699932098389, -4.628399848937988, -6.303899765014648, -5.783999919891357, -5.158699989318848, -5.9918999671936035, -5.7368998527526855, -5.186600208282471, -5.798900127410889, -4.62529993057251, -4.680600166320801, -5.580399990081787, -5.407800197601318, -5.5335001945495605, -5.651500225067139, -5.420300006866455, -5.688600063323975, -5.7434000968933105, -5.6828999519348145, -5.666299819946289, -5.69350004196167, -5.745999813079834, -4.4903998374938965, -6.2032999992370605, -10.335800170898438, -10.335800170898438, -10.335800170898438, -10.335800170898438, -10.335800170898438, -10.335800170898438, -10.335800170898438, -10.335800170898438, -10.335800170898438, -10.335800170898438, -10.335800170898438, -10.335800170898438, -10.335800170898438, -10.335800170898438, -10.335800170898438, -10.335800170898438, -10.335800170898438, -10.335800170898438, -10.335800170898438, -10.335800170898438, -10.335800170898438, -10.335800170898438, -10.335800170898438, -10.335800170898438, -10.335800170898438, -10.335800170898438, -10.335800170898438, -10.335800170898438, -10.335800170898438, -10.335800170898438, -10.335800170898438, -10.335800170898438, -10.335800170898438, -10.335800170898438, -10.335800170898438, -10.335800170898438, -10.335800170898438, -10.335800170898438, -10.335800170898438, -10.335800170898438, -10.335800170898438, -10.335800170898438, -10.335800170898438, -10.335800170898438, -10.335800170898438, -10.335800170898438, -10.335800170898438, -10.335800170898438, -10.335800170898438, -10.335800170898438, -10.335800170898438, -10.335800170898438, -10.335800170898438, -10.335800170898438, -10.335800170898438, -10.335800170898438, -10.335800170898438, -10.335800170898438, -3.7242000102996826, -4.250800132751465, -4.448999881744385, -4.604899883270264, -4.777400016784668, -4.9618000984191895, -4.981800079345703, -5.07420015335083, -5.094799995422363, -5.094799995422363, -5.157700061798096, -5.270899772644043, -5.328400135040283, -5.381100177764893, -5.4791998863220215, -5.369500160217285, -5.608500003814697, -5.614200115203857, -5.758200168609619, -5.783899784088135, -5.820300102233887, -6.068900108337402, -6.068900108337402, -6.146599769592285, -6.1545000076293945, -6.1545000076293945, -6.239500045776367, -6.317800045013428, -6.317800045013428, -6.317800045013428, -5.536900043487549, -5.911300182342529, -6.099400043487549, -3.1974000930786133, -3.200500011444092, -3.8547000885009766, -3.960599899291992, -4.283599853515625, -4.308300018310547, -4.4994001388549805, -4.583199977874756, -4.633999824523926, -4.897600173950195, -4.952700138092041, -5.021100044250488, -5.112500190734863, -5.249499797821045, -5.346199989318848, -5.46589994430542, -5.535900115966797, -5.543900012969971, -5.560299873352051, -5.570400238037109, -5.62470006942749, -5.637599945068359, -5.670599937438965, -5.744999885559082, -5.794099807739258, -5.888700008392334, -5.9994001388549805, -6.092400074005127, -6.1290998458862305, -6.238500118255615, -4.895500183105469, -5.71019983291626, -5.600800037384033, -4.638800144195557, -5.120999813079834, -5.309500217437744, -5.660900115966797, -5.038400173187256, -5.322400093078613, -5.824399948120117, -5.926499843597412, -5.9593000411987305, -5.959700107574463, -5.991499900817871, -6.074699878692627, -6.121600151062012, -6.1722002029418945, -6.310500144958496, -6.361000061035156, -6.377200126647949, -6.393099784851074, -6.507299900054932, -6.523900032043457, -6.5630998611450195, -6.598199844360352, -6.622200012207031, -6.650100231170654, -6.703700065612793, -6.775100231170654, -6.815199851989746, -6.839900016784668, -6.859899997711182, -6.895699977874756, -6.897799968719482, -6.905399799346924, -6.919600009918213, -6.939799785614014, -5.65500020980835, -6.153200149536133, -4.539000034332275, -5.222899913787842, -4.94789981842041, -5.3190999031066895, -4.928800106048584, -6.0218000411987305, -4.997499942779541, -6.420000076293945, -4.838399887084961, -4.9045000076293945, -4.222499847412109, -4.913099765777588, -4.424099922180176, -4.077199935913086, -5.158100128173828, -5.1717000007629395, -5.662300109863281, -5.764599800109863, -5.372900009155273, -4.201399803161621, -4.956900119781494, -5.242800235748291, -4.974599838256836, -5.523099899291992, -5.065999984741211, -5.1890997886657715, -5.318999767303467, -5.417900085449219, -5.518700122833252, -5.041500091552734, -4.409999847412109, -4.999899864196777, -5.045100212097168, -5.2434000968933105, -5.18720006942749, -5.117000102996826, -5.1666998863220215, -5.240200042724609, -5.261099815368652, -4.586299896240234, -4.724100112915039, -4.753499984741211, -4.805600166320801, -4.8180999755859375, -4.916600227355957, -5.039599895477295, -5.04010009765625, -5.173299789428711, -5.192699909210205, -5.208899974822998, -5.264599800109863, -5.297699928283691, -5.327000141143799, -5.327000141143799, -5.455399990081787, -5.4969000816345215, -5.508800029754639, -5.543000221252441, -5.564700126647949, -5.795000076293945, -5.472799777984619, -5.825900077819824, -5.934100151062012, -5.936699867248535, -5.959000110626221, -6.004300117492676, -6.017099857330322, -6.047900199890137, -6.106900215148926, -5.133600234985352, -3.890700101852417, -4.212299823760986, -5.366199970245361, -5.531899929046631, -4.835899829864502, -4.103600025177002, -3.872999906539917, -3.241300106048584, -4.690299987792969, -4.847899913787842, -5.092700004577637, -5.369800090789795, -5.443900108337402, -5.461299896240234, -4.646100044250488, -5.406799793243408, -5.505099773406982, -5.808599948883057, -5.898600101470947, -6.005199909210205, -6.019400119781494, -6.061399936676025, -6.175899982452393, -6.214700222015381, -6.221799850463867, -6.3105998039245605, -6.322299957275391, -6.34499979019165, -6.357800006866455, -6.459799766540527, -6.482900142669678, -6.517099857330322, -6.5269999504089355, -6.529600143432617, -6.6305999755859375, -6.641600131988525, -6.657100200653076, -6.683000087738037, -6.694300174713135, -6.723899841308594, -6.7241997718811035, -6.7484002113342285, -6.764699935913086, -6.848800182342529, -4.095200061798096, -4.475900173187256, -3.9440999031066895, -6.426300048828125, -4.3242998123168945, -5.60890007019043, -4.681099891662598, -3.294600009918213, -4.506499767303467, -5.100500106811523, -3.7258999347686768, -4.903200149536133, -3.8917999267578125, -5.408999919891357, -4.819399833679199, -4.867700099945068, -4.700699806213379, -5.883600234985352, -5.134200096130371, -5.492700099945068, -5.632999897003174, -5.253699779510498, -5.274600028991699, -5.001100063323975, -5.032400131225586, -5.411200046539307, -5.47629976272583, -5.007999897003174, -5.260499954223633, -5.418300151824951, -5.506400108337402, -3.473599910736084, -3.9727001190185547, -4.2347002029418945, -4.3471999168396, -4.0665998458862305, -4.763800144195557, -4.910799980163574, -4.972099781036377, -5.146900177001953, -5.159200191497803, -5.233399868011475, -5.2677001953125, -5.3078999519348145, -5.315000057220459, -5.413000106811523, -5.452600002288818, -5.524799823760986, -5.56790018081665, -5.66349983215332, -5.665599822998047, -5.710400104522705, -5.710400104522705, -5.766499996185303, -5.835700035095215, -5.849599838256836, -5.865499973297119, -5.315299987792969, -5.928400039672852, -5.935699939727783, -5.945700168609619, -3.4516000747680664, -3.8947999477386475, -5.115099906921387, -4.702400207519531, -5.257500171661377, -4.405900001525879, -4.6082000732421875, -4.92710018157959, -4.264100074768066, -4.912300109863281, -4.61460018157959, -5.012499809265137, -5.371099948883057, -5.370500087738037, -5.388000011444092, -5.631199836730957, -6.159200191497803, -6.1768999099731445, -6.340000152587891, -6.38040018081665, -6.582600116729736, -6.725500106811523, -6.782800197601318, -6.812099933624268, -6.904399871826172, -6.912499904632568, -6.771500110626221, -5.961400032043457, -7.042699813842773, -7.066800117492676, -7.145299911499023, -7.16349983215332, -7.173799991607666, -6.2494001388549805, -7.2129998207092285, -7.222099781036377, -7.245299816131592, -7.248199939727783, -7.274199962615967, -6.958199977874756, -7.303599834442139, -7.30649995803833, -7.327499866485596, -5.423999786376953, -5.93209981918335, -5.210999965667725, -6.0447001457214355, -4.382800102233887, -3.1993000507354736, -4.502900123596191, -3.7988998889923096, -6.053899765014648, -4.889699935913086, -4.77839994430542, -6.355299949645996, -4.230400085449219, -4.640200138092041, -5.557300090789795, -5.131100177764893, -5.496600151062012, -5.998499870300293, -5.628900051116943, -5.434599876403809, -4.754700183868408, -4.674099922180176, -4.438000202178955, -5.034999847412109, -4.821300029754639, -5.16480016708374, -5.37939977645874, -5.587600231170654, -5.226799964904785, -5.5914998054504395, -5.478600025177002, -5.539599895477295, -5.617000102996826, -3.5422000885009766, -3.8046998977661133, -3.925600051879883, -4.124300003051758, -4.431099891662598, -4.64169979095459, -4.730299949645996, -4.777100086212158, -4.795899868011475, -4.833399772644043, -4.878499984741211, -4.890399932861328, -5.023600101470947, -5.045000076293945, -5.150100231170654, -5.208600044250488, -5.253799915313721, -5.257400035858154, -5.28000020980835, -5.29010009765625, -5.407599925994873, -5.41510009765625, -5.431099891662598, -5.499000072479248, -5.592599868774414, -5.691299915313721, -5.736100196838379, -5.752299785614014, -5.811299800872803, -5.824100017547607, -4.874899864196777, -5.4953999519348145, -5.1732001304626465, -5.639500141143799, -5.631100177764893, -3.200900077819824, -4.002900123596191, -4.450099945068359, -4.5854997634887695, -4.753699779510498, -4.754799842834473, -4.872399806976318, -5.004199981689453, -3.8331000804901123, -5.054100036621094, -5.3403000831604, -5.356100082397461, -4.718699932098389, -5.648600101470947, -5.742800235748291, -5.84689998626709, -5.84689998626709, -4.72629976272583, -5.964900016784668, -5.964900016784668, -5.964900016784668, -6.1305999755859375, -6.248300075531006, -6.248300075531006, -6.248300075531006, -6.248300075531006, -6.64900016784668, -6.64900016784668, -6.64900016784668, -6.64900016784668, -5.0680999755859375, -6.09660005569458, -6.64900016784668, -6.64900016784668, -6.64900016784668, -6.64900016784668, -6.64900016784668, -5.823200225830078, -6.042500019073486, -4.1350998878479, -4.8942999839782715, -4.928100109100342, -5.23799991607666, -5.3958001136779785, -5.468800067901611, -5.473499774932861, -5.522299766540527, -5.5447001457214355, -5.555500030517578, -5.574699878692627, -5.607600212097168, -5.665599822998047, -5.7804999351501465, -5.863900184631348, -5.880099773406982, -5.904399871826172, -5.925099849700928, -5.925099849700928, -5.925099849700928, -5.944699764251709, -5.987199783325195, -5.988699913024902, -6.018400192260742, -6.042099952697754, -6.0644001960754395, -6.077000141143799, -6.104000091552734, -6.109000205993652, -6.109000205993652, -6.109000205993652, -4.365799903869629, -3.623800039291382, -3.204200029373169, -4.055300235748291, -5.238800048828125, -5.756899833679199, -5.343699932098389, -3.4999001026153564, -3.3880999088287354, -5.22160005569458, -5.473700046539307, -4.915999889373779, -5.328000068664551, -4.739999771118164, -4.3796000480651855, -4.96019983291626, -5.408199787139893, -5.024600028991699, -4.945000171661377, -5.231500148773193, -5.324100017547607, -5.131499767303467, -5.396200180053711, -5.3968000411987305, -5.6585001945495605, -5.785399913787842, -5.895400047302246, -5.9028000831604, -5.974599838256836, -5.975299835205078, -5.988399982452393, -3.7932000160217285, -6.146200180053711, -6.109099864959717, -4.169099807739258, -4.0929999351501465, -6.474999904632568, -6.515900135040283, -6.660200119018555, -6.6869001388549805, -6.7652997970581055, -6.786600112915039, -6.843500137329102, -6.886600017547607, -6.896299839019775, -6.906000137329102, -6.947299957275391, -6.952700138092041, -6.9527997970581055, -6.95389986038208, -6.988399982452393, -6.991499900817871, -7.024899959564209, -7.029099941253662, -5.532299995422363, -4.247399806976318, -4.0680999755859375, -6.503499984741211, -5.549099922180176, -5.094900131225586, -6.385200023651123, -4.792600154876709, -5.4232001304626465, -4.616700172424316, -5.433300018310547, -5.641600131988525, -4.663099765777588, -5.272900104522705, -5.452899932861328, -4.260799884796143, -5.997900009155273, -3.8756000995635986, -4.439700126647949, -6.09250020980835, -3.7574000358581543, -4.8225998878479, -4.383399963378906, -4.511899948120117, -4.874000072479248, -4.747300148010254, -4.7133002281188965, -4.764200210571289, -5.239999771118164, -4.784299850463867, -4.709700107574463, -5.208700180053711, -5.1504998207092285, -5.210100173950195, -5.335700035095215, -5.181000232696533, -5.33459997177124, -4.581500053405762, -4.589300155639648, -5.299499988555908, -5.466300010681152, -5.624499797821045, -5.940899848937988, -5.945000171661377, -5.9456000328063965, -6.054900169372559, -6.065299987792969, -6.090099811553955, -6.129700183868408, -6.139100074768066, -6.172100067138672, -6.193600177764893, -6.2418999671936035, -6.247000217437744, -6.264100074768066, -6.270500183105469, -6.346099853515625, -5.672800064086914, -6.353499889373779, -6.354300022125244, -6.226500034332275, -6.391499996185303, -6.410999774932861, -6.41349983215332, -6.426199913024902, -6.428500175476074, -6.451900005340576, -5.413700103759766, -6.131899833679199, -5.919600009918213, -4.626800060272217, -5.727499961853027, -5.279799938201904, -5.645400047302246, -5.841100215911865, -4.045899868011475, -4.8719000816345215, -5.857399940490723, -5.7108001708984375, -5.688199996948242, -5.660799980163574, -5.6072001457214355, -5.59089994430542, -5.375899791717529, -5.347799777984619, -5.3165998458862305, -5.86929988861084, -5.799600124359131, -5.718400001525879, -5.549200057983398, -5.732600212097168, -5.759699821472168, -5.697299957275391, -5.828199863433838, -5.769000053405762, -5.802299976348877, -3.000499963760376, -3.7530999183654785, -4.178800106048584, -4.209400177001953, -4.243299961090088, -4.424900054931641, -4.870800018310547, -4.870800018310547, -4.870800018310547, -4.870800018310547, -5.004000186920166, -5.004000186920166, -5.004000186920166, -4.06850004196167, -5.156499862670898, -5.157800197601318, -5.244100093841553, -5.289599895477295, -5.289599895477295, -5.289599895477295, -5.3394999504089355, -5.390399932861328, -5.4430999755859375, -5.4430999755859375, -5.443999767303467, -5.443999767303467, -4.560800075531006, -5.693999767303467, -5.693999767303467, -4.656799793243408, -5.361400127410889, -4.305600166320801, -4.485499858856201, -5.325699806213379, -5.36269998550415, -4.375, -4.509799957275391, -4.997900009155273, -5.116799831390381, -5.368500232696533, -5.4334001541137695, -5.571199893951416, -5.623000144958496, -5.626299858093262, -5.659299850463867, -5.719900131225586, -5.728300094604492, -5.789700031280518, -5.820799827575684, -5.871600151062012, -5.887800216674805, -5.88100004196167, -5.960599899291992, -5.965799808502197, -5.998199939727783, -5.9994001388549805, -6.067399978637695, -6.069399833679199, -6.07450008392334, -6.076900005340576, -6.078199863433838, -6.124000072479248, -6.155099868774414, -6.165599822998047, -6.166200160980225, -4.202099800109863, -4.0868000984191895, -4.729499816894531, -4.965099811553955, -4.774400234222412, -5.44189977645874, -5.584799766540527, -4.824399948120117, -5.683700084686279, -4.657299995422363, -4.933199882507324, -5.583000183105469, -4.995999813079834, -4.799600124359131, -5.210899829864502, -4.575300216674805, -4.868199825286865, -5.1493000984191895, -4.991499900817871, -4.685699939727783, -4.775199890136719, -4.335400104522705, -5.100399971008301, -4.435200214385986, -4.823500156402588, -5.057700157165527, -5.2403998374938965, -5.195300102233887, -5.296999931335449, -4.122900009155273, -4.34689998626709, -4.621200084686279, -4.684299945831299, -4.721499919891357, -4.783999919891357, -4.860899925231934, -4.926400184631348, -5.11870002746582, -5.155700206756592, -5.189000129699707, -5.19320011138916, -5.22189998626709, -5.223299980163574, -5.332200050354004, -5.3541998863220215, -5.424799919128418, -5.4344000816345215, -5.438199996948242, -5.452700138092041, -5.465400218963623, -5.506499767303467, -5.520599842071533, -5.570099830627441, -5.602499961853027, -5.605199813842773, -5.633600234985352, -5.666100025177002, -5.687300205230713, -5.6946001052856445, -5.031899929046631, -4.909200191497803, -5.3302998542785645, -4.901899814605713, -5.190299987792969, -5.131800174713135, -4.622300148010254, -4.82420015335083, -5.145199775695801, -5.209000110626221, -5.127999782562256, -5.373700141906738, -3.5859999656677246, -3.5859999656677246, -3.677500009536743, -3.9335999488830566, -3.9909000396728516, -4.043499946594238, -4.278200149536133, -4.278200149536133, -4.373899936676025, -4.463399887084961, -4.791399955749512, -4.79580020904541, -4.865699768066406, -4.978300094604492, -5.092199802398682, -5.229700088500977, -5.286300182342529, -5.286300182342529, -5.374199867248535, -5.374199867248535, -5.374199867248535, -5.374199867248535, -5.374199867248535, -5.442500114440918, -5.494500160217285, -5.628399848937988, -5.669400215148926, -5.77839994430542, -5.838699817657471, -5.962600231170654, -3.614000082015991, -4.375500202178955, -4.079800128936768, -5.08620023727417, -5.009900093078613, -4.4629998207092285, -4.764400005340576, -4.968999862670898, -5.142199993133545, -5.16949987411499, -5.17579984664917, -5.456900119781494, -5.49459981918335, -5.49459981918335, -5.516900062561035, -5.529600143432617, -5.53380012512207, -5.57450008392334, -5.617000102996826, -5.617000102996826, -5.617000102996826, -5.692200183868408, -5.7565999031066895, -5.7565999031066895, -5.7565999031066895, -5.7565999031066895, -5.828199863433838, -5.861800193786621, -5.861800193786621, -5.861800193786621, -5.861800193786621, -5.861800193786621, -5.918799877166748, -5.918799877166748, -5.918799877166748, -5.918799877166748, -3.802000045776367, -5.624199867248535, -4.127799987792969, -3.414299964904785, -4.0106000900268555, -3.827500104904175, -3.926300048828125, -4.229000091552734, -4.658899784088135, -4.912399768829346, -4.985000133514404, -5.1774001121521, -5.235199928283691, -5.309000015258789, -5.787099838256836, -5.787099838256836, -3.9772000312805176, -5.842299938201904, -5.898900032043457, -5.898900032043457, -6.001699924468994, -6.063300132751465, -6.120999813079834, -6.150300025939941, -6.313600063323975, -4.7795000076293945, -6.38040018081665, -4.558599948883057, -6.464700222015381, -6.464700222015381, -6.583000183105469, -6.583000183105469, -6.602399826049805, -6.602399826049805, -6.745699882507324, -6.745699882507324, -4.551300048828125, -4.7571001052856445, -5.15339994430542, -6.131400108337402, -4.089700222015381, -3.5562000274658203, -4.4670000076293945, -4.668900012969971, -4.952000141143799, -5.056399822235107, -5.059800148010254, -5.142300128936768, -5.17519998550415, -2.1598000526428223, -5.259900093078613, -5.2795000076293945, -5.335299968719482, -5.349699974060059, -5.354300022125244, -4.973899841308594, -5.432700157165527, -5.538000106811523, -5.558300018310547, -5.563799858093262, -5.582200050354004, -5.674300193786621, -5.755899906158447, -5.770699977874756, -5.795199871063232, -5.830699920654297, -5.874100208282471, -5.910200119018555, -5.954599857330322, -5.966000080108643, -3.0941998958587646, -3.8954999446868896, -5.101900100708008, -4.906099796295166, -4.365799903869629, -4.89709997177124, -4.962600231170654, -4.873300075531006, -5.618500232696533, -5.520400047302246, -3.3717000484466553, -3.535799980163574, -4.850800037384033, -5.072500228881836, -5.269800186157227, -5.348599910736084, -5.358099937438965, -5.524199962615967, -5.556300163269043, -5.593400001525879, -5.66379976272583, -5.675000190734863, -5.729700088500977, -5.733799934387207, -5.79010009765625, -5.82919979095459, -2.9377999305725098, -5.995200157165527, -6.00029993057251, -6.041500091552734, -6.10699987411499, -6.1442999839782715, -6.17579984664917, -6.240499973297119, -6.268499851226807, -6.280600070953369, -6.284999847412109, -6.324699878692627, -5.02209997177124, -6.349899768829346, -5.750699996948242, -4.020299911499023, -4.975800037384033, -4.359300136566162, -3.9110000133514404, -4.026899814605713, -4.297500133514404, -5.221499919891357, -5.7322001457214355, -3.1475000381469727, -4.430200099945068, -3.0785000324249268, -3.745800018310547, -3.7492001056671143, -5.283999919891357, -4.749599933624268, -5.205999851226807, -4.580599784851074, -4.3572998046875, -3.7304000854492188, -4.415599822998047, -4.6132001876831055, -5.056000232696533, -4.855299949645996, -4.870100021362305, -5.02370023727417, -5.153299808502197, -5.157299995422363, -3.848400115966797, -3.8893001079559326, -3.9319000244140625, -4.564799785614014, -4.650300025939941, -4.650300025939941, -4.650300025939941, -4.650300025939941, -4.650300025939941, -4.650300025939941, -4.650300025939941, -4.650300025939941, -4.743800163269043, -4.743800163269043, -4.743800163269043, -4.8470001220703125, -5.177800178527832, -5.177800178527832, -5.177800178527832, -5.177800178527832, -5.341800212860107, -5.341800212860107, -5.341800212860107, -5.341800212860107, -5.341800212860107, -5.341800212860107, -5.341800212860107, -5.341800212860107, -5.341800212860107, -5.341800212860107, -5.341800212860107, -5.341800212860107, -5.341800212860107, -5.341800212860107, -5.341800212860107, -5.341800212860107, -5.341800212860107, -3.891700029373169, -4.652200222015381, -4.718500137329102, -4.918300151824951, -5.198999881744385, -5.453199863433838, -5.454100131988525, -5.507800102233887, -5.775400161743164, -5.791800022125244, -5.827499866485596, -5.829800128936768, -5.927800178527832, -5.942699909210205, -5.983399868011475, -6.05109977722168, -6.198800086975098, -6.198800086975098, -6.232399940490723, -6.249899864196777, -6.280099868774414, -6.298099994659424, -6.366300106048584, -6.405399799346924, -6.405399799346924, -6.422900199890137, -6.461900234222412, -6.48390007019043, -6.502799987792969, -6.508200168609619, -6.529900074005127, -6.532599925994873, -6.553199768066406, -5.382400035858154, -5.097400188446045, -5.049600124359131, -4.681300163269043, -5.666600227355957, -5.1315999031066895, -5.173799991607666, -5.355100154876709, -3.7090001106262207, -5.251999855041504, -5.465799808502197, -5.564799785614014, -5.69350004196167, -4.238900184631348, -5.085299968719482, -5.243000030517578, -5.262700080871582, -4.847599983215332, -4.39769983291626, -4.6041998863220215, -5.336999893188477, -5.090799808502197, -4.357800006866455, -5.308199882507324, -4.742000102996826, -5.212699890136719, -5.175899982452393, -4.644000053405762, -4.998199939727783, -5.4054999351501465, -5.415299892425537, -5.621200084686279, -5.678500175476074, -6.077400207519531, -6.230299949645996, -6.256800174713135, -6.436800003051758, -6.453100204467773, -6.528800010681152, -6.558700084686279, -6.620299816131592, -6.662399768829346, -6.477700233459473, -6.250999927520752, -6.796899795532227, -6.8368000984191895, -6.8796000480651855, -6.894899845123291, -6.900599956512451, -6.906599998474121, -6.9303998947143555, -6.94189977645874, -6.972499847412109, -6.965700149536133, -6.990099906921387, -7.001999855041504, -7.0183000564575195, -7.028299808502197, -7.047100067138672, -7.076300144195557, -7.078999996185303, -6.429699897766113, -4.9558000564575195, -5.691800117492676, -5.658400058746338, -6.4741997718811035, -5.597099781036377, -5.678500175476074, -6.031899929046631, -6.355199813842773, -5.803999900817871, -6.062099933624268, -5.722799777984619, -6.189899921417236, -6.4959001541137695, -5.256199836730957, -4.878300189971924, -6.197299957275391, -5.228499889373779, -5.248199939727783, -5.361800193786621, -5.732800006866455, -4.645899772644043, -5.603799819946289, -5.724599838256836, -5.459499835968018, -5.928800106048584, -5.398900032043457, -5.404099941253662, -5.547100067138672, -5.794400215148926, -5.777599811553955, -5.841100215911865, -5.858699798583984, -5.986800193786621, -5.989699840545654, -5.996099948883057, -5.118899822235107, -6.489099979400635, -7.161200046539307, -7.161200046539307, -7.161200046539307, -7.161200046539307, -7.161200046539307, -7.161200046539307, -7.161200046539307, -7.161200046539307, -7.161200046539307, -7.161200046539307, -7.161200046539307, -7.161200046539307, -7.161200046539307, -7.161200046539307, -10.340499877929688, -10.340499877929688, -10.340499877929688, -10.340499877929688, -10.340499877929688, -10.340499877929688, -10.340499877929688, -10.340499877929688, -10.340499877929688, -10.340499877929688, -10.340499877929688, -10.340499877929688, -10.340499877929688, -10.340499877929688, -10.340499877929688, -10.340499877929688, -10.340499877929688, -10.340499877929688, -10.340499877929688, -10.340499877929688, -10.340499877929688, -10.340499877929688, -10.340499877929688, -10.340499877929688, -10.340499877929688, -10.340499877929688, -10.340499877929688, -10.340499877929688, -10.340499877929688, -4.552999973297119, -4.809999942779541, -4.66540002822876, -4.989999771118164, -5.211299896240234, -5.211299896240234, -5.293600082397461, -5.4984002113342285, -5.4984002113342285, -5.4984002113342285, -5.710400104522705, -5.9008002281188965, -5.905900001525879, -6.03249979019165, -6.03249979019165, -6.03249979019165, -6.048999786376953, -6.200300216674805, -6.374199867248535, -6.426799774169922, -6.426799774169922, -6.58489990234375, -6.58489990234375, -6.58489990234375, -6.58489990234375, -6.58489990234375, -6.58489990234375, -6.58489990234375, -6.58489990234375, -6.58489990234375, -6.58489990234375, -6.58489990234375, -6.58489990234375, -6.58489990234375, -6.58489990234375, -6.58489990234375, -6.58489990234375, -6.58489990234375, -6.58489990234375, -6.58489990234375, -6.58489990234375, -6.58489990234375, -6.58489990234375, -6.58489990234375, -6.58489990234375, -6.58489990234375, -6.58489990234375, -6.58489990234375, -6.58489990234375, -6.58489990234375, -6.58489990234375, -5.739099979400635, -6.58489990234375, -6.58489990234375, -6.58489990234375, -5.903200149536133, -6.58489990234375, -6.58489990234375, -6.58489990234375, -6.58489990234375, -6.58489990234375, -6.58489990234375, -6.58489990234375, -6.58489990234375, -6.58489990234375, -6.58489990234375, -6.498600006103516, -6.58489990234375, -6.58489990234375, -6.58489990234375, -6.58489990234375, -6.58489990234375, -6.550600051879883, -6.58489990234375]}, \"token.table\": {\"Topic\": [12, 1, 8, 22, 26, 27, 36, 13, 4, 29, 13, 16, 6, 12, 3, 29, 25, 27, 33, 8, 10, 38, 24, 6, 6, 8, 9, 14, 19, 22, 26, 38, 18, 5, 18, 25, 23, 23, 6, 12, 18, 22, 23, 34, 4, 9, 20, 37, 38, 27, 31, 3, 6, 9, 10, 14, 18, 38, 5, 6, 8, 9, 14, 22, 25, 26, 29, 13, 7, 6, 8, 9, 14, 18, 20, 22, 26, 27, 29, 37, 38, 13, 32, 9, 10, 14, 20, 12, 3, 6, 8, 9, 14, 18, 20, 27, 29, 38, 28, 28, 14, 20, 20, 14, 20, 24, 2, 29, 2, 27, 13, 11, 19, 1, 33, 10, 1, 17, 28, 10, 5, 21, 27, 14, 20, 29, 38, 20, 29, 29, 6, 18, 23, 6, 34, 3, 4, 6, 8, 14, 22, 38, 11, 8, 9, 10, 9, 14, 20, 25, 27, 20, 23, 38, 6, 14, 18, 20, 22, 22, 33, 35, 5, 10, 1, 21, 24, 32, 8, 29, 35, 14, 4, 8, 14, 18, 20, 38, 38, 8, 40, 29, 35, 13, 13, 25, 14, 20, 38, 28, 14, 18, 22, 35, 25, 19, 40, 28, 14, 8, 19, 9, 36, 6, 12, 18, 18, 5, 9, 25, 27, 38, 20, 1, 24, 40, 3, 8, 30, 38, 6, 14, 22, 14, 38, 5, 14, 29, 18, 32, 32, 5, 12, 20, 37, 37, 12, 31, 3, 6, 8, 10, 14, 25, 38, 21, 5, 3, 8, 14, 20, 22, 27, 8, 30, 32, 19, 24, 18, 29, 3, 23, 22, 10, 32, 32, 16, 14, 3, 6, 8, 14, 20, 22, 29, 38, 35, 3, 5, 37, 38, 18, 35, 27, 9, 14, 27, 38, 8, 9, 10, 27, 38, 5, 10, 37, 38, 18, 24, 38, 21, 12, 14, 23, 13, 6, 9, 10, 14, 40, 40, 16, 2, 3, 9, 10, 14, 38, 9, 14, 38, 8, 9, 10, 22, 25, 26, 38, 36, 20, 37, 38, 3, 37, 4, 37, 21, 34, 14, 3, 38, 29, 9, 13, 3, 6, 8, 9, 10, 14, 18, 20, 22, 25, 38, 20, 4, 8, 9, 10, 14, 20, 22, 26, 20, 4, 8, 14, 22, 8, 14, 20, 22, 1, 1, 3, 18, 8, 6, 8, 14, 18, 22, 38, 10, 22, 1, 3, 4, 5, 6, 8, 9, 10, 14, 18, 20, 22, 25, 26, 27, 29, 32, 35, 38, 37, 3, 5, 6, 8, 9, 10, 14, 18, 20, 22, 38, 3, 8, 9, 22, 9, 4, 9, 10, 14, 3, 14, 22, 26, 12, 6, 8, 10, 14, 18, 20, 22, 18, 26, 22, 38, 22, 26, 22, 26, 8, 10, 26, 30, 37, 25, 38, 33, 6, 9, 10, 14, 20, 22, 25, 26, 27, 38, 22, 8, 10, 14, 18, 20, 12, 24, 12, 10, 11, 18, 24, 19, 37, 38, 14, 35, 14, 5, 8, 22, 38, 14, 35, 3, 6, 14, 22, 35, 38, 20, 11, 35, 14, 31, 38, 9, 14, 22, 29, 38, 17, 38, 9, 10, 38, 38, 37, 38, 5, 9, 10, 37, 38, 9, 10, 14, 38, 2, 37, 38, 14, 12, 4, 8, 10, 21, 38, 8, 10, 19, 21, 25, 38, 12, 32, 3, 8, 22, 26, 22, 27, 33, 25, 14, 20, 34, 37, 9, 10, 22, 26, 8, 9, 10, 22, 26, 5, 25, 12, 30, 12, 22, 26, 26, 10, 38, 38, 22, 25, 27, 12, 30, 29, 16, 2, 8, 14, 22, 27, 12, 8, 10, 12, 14, 38, 6, 8, 14, 38, 32, 8, 10, 22, 29, 38, 14, 20, 22, 35, 6, 30, 6, 8, 9, 14, 18, 20, 22, 29, 35, 3, 6, 14, 18, 20, 22, 38, 6, 14, 29, 22, 10, 14, 18, 22, 29, 38, 22, 32, 30, 11, 16, 5, 6, 14, 38, 9, 36, 3, 14, 17, 38, 27, 6, 11, 14, 6, 10, 18, 6, 18, 24, 4, 6, 8, 9, 10, 14, 18, 22, 35, 6, 14, 27, 29, 13, 38, 19, 16, 25, 6, 14, 18, 20, 35, 38, 3, 6, 8, 14, 18, 20, 22, 27, 29, 38, 27, 5, 6, 18, 3, 38, 1, 6, 8, 9, 14, 18, 20, 22, 6, 8, 14, 18, 22, 4, 3, 6, 8, 9, 10, 14, 18, 20, 22, 27, 38, 8, 19, 38, 8, 19, 8, 19, 38, 3, 8, 9, 10, 14, 22, 29, 38, 38, 22, 26, 38, 38, 28, 36, 10, 19, 4, 25, 33, 10, 4, 4, 6, 8, 9, 14, 18, 29, 6, 3, 2, 34, 32, 17, 5, 8, 19, 37, 9, 14, 18, 22, 35, 33, 24, 19, 21, 6, 24, 11, 6, 8, 14, 18, 20, 22, 22, 35, 37, 9, 14, 22, 25, 26, 14, 22, 35, 14, 12, 27, 7, 37, 31, 2, 8, 10, 34, 10, 36, 5, 1, 6, 20, 4, 24, 1, 8, 9, 10, 14, 20, 22, 26, 38, 35, 8, 37, 9, 10, 38, 8, 9, 38, 6, 9, 14, 18, 22, 37, 38, 14, 16, 18, 28, 10, 38, 11, 18, 10, 14, 27, 8, 18, 29, 7, 18, 4, 6, 8, 14, 18, 22, 19, 19, 29, 36, 36, 36, 26, 30, 1, 30, 8, 29, 9, 23, 8, 21, 6, 8, 18, 22, 29, 38, 38, 12, 38, 5, 27, 38, 4, 6, 8, 14, 38, 18, 22, 16, 18, 13, 4, 11, 28, 26, 29, 27, 16, 4, 35, 14, 38, 16, 21, 29, 6, 14, 18, 20, 29, 6, 36, 6, 9, 10, 20, 27, 38, 14, 18, 9, 33, 1, 31, 37, 8, 10, 37, 3, 8, 9, 20, 22, 31, 28, 13, 13, 2, 20, 33, 8, 10, 14, 21, 38, 3, 3, 4, 30, 4, 6, 18, 22, 11, 10, 14, 14, 20, 13, 28, 23, 32, 37, 10, 6, 12, 38, 18, 35, 32, 3, 38, 14, 18, 20, 11, 10, 8, 14, 18, 28, 6, 18, 11, 12, 6, 8, 9, 14, 18, 20, 14, 8, 9, 10, 14, 20, 26, 4, 25, 4, 6, 8, 10, 22, 29, 38, 29, 12, 36, 31, 34, 5, 8, 9, 10, 26, 38, 8, 2, 27, 31, 22, 26, 26, 29, 3, 6, 14, 35, 37, 38, 37, 17, 20, 22, 26, 35, 14, 22, 14, 18, 6, 8, 14, 18, 20, 22, 26, 29, 35, 20, 3, 6, 37, 30, 4, 17, 26, 30, 40, 37, 24, 6, 8, 18, 22, 26, 38, 5, 26, 34, 19, 36, 17, 19, 27, 6, 8, 14, 9, 14, 2, 3, 5, 8, 9, 10, 14, 20, 22, 26, 27, 9, 3, 8, 18, 19, 38, 23, 8, 14, 20, 26, 30, 2, 35, 34, 25, 13, 9, 4, 8, 10, 14, 18, 22, 38, 6, 14, 22, 6, 8, 27, 29, 38, 25, 8, 26, 6, 18, 38, 3, 22, 31, 25, 32, 25, 34, 12, 9, 10, 14, 19, 27, 2, 18, 6, 14, 18, 22, 30, 5, 8, 9, 10, 27, 37, 38, 19, 10, 22, 27, 32, 32, 5, 10, 27, 37, 38, 12, 8, 9, 10, 22, 26, 29, 38, 8, 27, 22, 8, 14, 14, 21, 13, 12, 3, 8, 6, 14, 18, 20, 29, 38, 18, 28, 8, 10, 14, 26, 6, 9, 14, 18, 20, 22, 29, 38, 6, 18, 11, 6, 9, 14, 20, 29, 35, 38, 3, 4, 6, 8, 9, 10, 14, 18, 20, 22, 26, 27, 38, 38, 23, 21, 16, 13, 10, 38, 8, 18, 4, 37, 8, 8, 14, 29, 1, 16, 17, 3, 10, 38, 5, 8, 9, 10, 14, 22, 26, 38, 6, 18, 2, 13, 17, 6, 31, 3, 3, 8, 9, 10, 14, 22, 29, 38, 26, 10, 14, 20, 22, 26, 35, 5, 9, 37, 2, 26, 32, 37, 21, 29, 34, 18, 20, 22, 29, 38, 28, 18, 37, 12, 1, 20, 10, 9, 36, 25, 6, 8, 14, 18, 22, 2, 17, 27, 8, 24, 14, 31, 8, 9, 14, 20, 22, 26, 12, 25, 3, 8, 14, 20, 22, 3, 9, 14, 20, 22, 38, 5, 9, 14, 20, 22, 25, 9, 20, 6, 18, 9, 14, 20, 25, 6, 31, 3, 8, 9, 14, 22, 25, 38, 8, 9, 14, 22, 3, 8, 9, 14, 20, 22, 37, 9, 38, 13, 27, 24, 8, 9, 10, 14, 22, 26, 38, 32, 32, 34, 8, 37, 37, 37, 30, 5, 32, 5, 8, 9, 14, 20, 25, 27, 37, 38, 19, 26, 8, 4, 9, 5, 33, 6, 22, 31, 6, 14, 18, 20, 10, 18, 36, 40, 4, 26, 4, 10, 38, 29, 29, 26, 8, 5, 27, 27, 30, 17, 2, 30, 3, 4, 6, 8, 9, 10, 38, 17, 22, 38, 14, 18, 22, 3, 31, 1, 6, 10, 26, 14, 18, 20, 22, 29, 9, 12, 17, 36, 3, 5, 8, 10, 18, 27, 38, 19, 33, 38, 25, 4, 5, 8, 9, 10, 14, 27, 37, 38, 33, 23, 10, 37, 38, 17, 4, 9, 14, 30, 5, 8, 9, 10, 14, 22, 27, 37, 38, 4, 8, 14, 21, 25, 38, 9, 21, 16, 13, 17, 20, 35, 28, 40, 1, 20, 27, 18, 32, 27, 16, 5, 31, 34, 14, 20, 22, 35, 23, 27, 20, 6, 14, 18, 20, 35, 4, 3, 6, 8, 10, 14, 18, 22, 26, 27, 38, 29, 6, 14, 18, 20, 25, 26, 8, 14, 18, 22, 27, 8, 14, 18, 14, 20, 34, 2, 28, 8, 14, 22, 26, 29, 35, 6, 8, 14, 18, 20, 22, 38, 14, 6, 10, 18, 38, 6, 18, 4, 3, 9, 14, 20, 3, 20, 8, 35, 38, 1, 6, 35, 29, 14, 19, 36, 3, 6, 8, 9, 10, 14, 18, 22, 25, 26, 29, 38, 26, 14, 22, 35, 9, 10, 22, 27, 38, 5, 20, 22, 20, 9, 20, 6, 6, 14, 18, 20, 6, 34, 38, 18, 36, 23, 8, 38, 8, 6, 24, 6, 8, 9, 10, 14, 22, 29, 34, 38, 1, 2, 34, 25, 10, 14, 20, 27, 30, 31, 31, 10, 14, 27, 37, 38, 25, 5, 9, 20, 37, 38, 26, 30, 7, 5, 36, 16, 6, 13, 33, 9, 25, 31, 27, 29, 19, 3, 4, 5, 36, 32, 26, 25, 35, 40, 35, 14, 16, 26, 8, 38, 3, 27, 16, 8, 18, 27, 4, 6, 13, 36, 14, 38, 36, 6, 8, 10, 32, 37, 38, 38, 5, 8, 22, 27, 29, 38, 3, 6, 8, 9, 14, 20, 29, 38, 8, 26, 5, 8, 9, 14, 22, 37, 38, 13, 31, 4, 6, 8, 9, 10, 20, 22, 25, 38, 4, 10, 31, 8, 26, 16, 25, 31, 4, 6, 8, 14, 18, 22, 34, 22, 26, 5, 22, 27, 17, 5, 8, 9, 10, 26, 38, 5, 8, 9, 10, 26, 24, 23, 26, 11, 6, 31, 38, 31, 31, 37, 8, 9, 10, 18, 27, 37, 38, 19, 3, 5, 8, 9, 10, 14, 20, 22, 26, 27, 38, 28, 35, 8, 14, 17, 18, 22, 27, 4, 35, 11, 31, 30, 8, 6, 34, 37, 3, 27, 8, 37, 36, 35, 22, 34, 34, 26, 20, 4, 8, 18, 23, 38, 30, 22, 28, 27, 35, 30, 28, 8, 14, 20, 22, 8, 27, 37, 38, 3, 37, 37, 21, 14, 18, 25, 20, 6, 14, 18, 20, 22, 35, 21, 34, 23, 31, 38, 3, 9, 25, 5, 6, 8, 9, 10, 14, 18, 20, 22, 26, 27, 37, 38, 36, 9, 14, 20, 22, 16, 9, 18, 35, 10, 25, 5, 10, 38, 3, 6, 14, 18, 20, 20, 29, 16, 35, 5, 6, 8, 9, 10, 14, 18, 20, 22, 27, 37, 38, 25, 29, 30, 35, 36, 34, 4, 6, 9, 14, 18, 20, 22, 35, 6, 9, 14, 18, 20, 22, 38, 3, 3, 27, 37, 23, 35, 38, 16, 2, 9, 12, 7, 28, 6, 8, 29, 18, 28, 28, 12, 24, 5, 6, 8, 9, 10, 14, 18, 20, 26, 27, 37, 10, 25, 7, 11, 19, 25, 18, 12, 5, 8, 26, 2, 28, 8, 3, 19, 6, 8, 9, 10, 14, 26, 38, 8, 29, 35, 17, 23, 5, 9, 10, 38, 36, 40, 36, 36, 2, 2, 14, 21, 10, 38, 5, 25, 10, 10, 18, 38, 5, 31, 32, 3, 6, 8, 9, 10, 14, 18, 20, 22, 26, 27, 35, 38, 1, 26, 6, 18, 18, 11, 14, 35, 17, 36, 8, 10, 14, 19, 20, 38, 8, 9, 10, 14, 20, 22, 9, 6, 10, 14, 18, 20, 22, 38, 18, 18, 22, 3, 8, 10, 14, 37, 38, 3, 8, 10, 14, 26, 9, 4, 14, 20, 38, 27, 37, 38, 8, 19, 38, 10, 6, 8, 9, 14, 20, 22, 25, 26, 29, 32, 16, 9, 20, 29, 38, 6, 3, 8, 9, 10, 14, 22, 27, 37, 12, 2, 38, 36, 10, 16, 38, 16, 16, 1, 24, 24, 9, 26, 38, 23, 38, 31, 8, 9, 10, 14, 22, 26, 29, 38, 22, 29, 5, 29, 6, 18, 22, 23, 10, 6, 37, 8, 9, 14, 20, 22, 27, 30, 3, 23, 8, 2, 14, 18, 20, 14, 18, 18, 18, 3, 6, 8, 9, 10, 14, 18, 20, 22, 25, 26, 27, 38, 8, 10, 26, 38, 14, 35, 14, 5, 8, 9, 10, 14, 20, 22, 27, 38, 10, 6, 18, 9, 9, 14, 25, 27, 33, 10, 6, 18, 4, 8, 9, 10, 14, 18, 20, 22, 26, 38, 12, 3, 7, 37, 11, 21, 11, 22, 9, 36, 4, 25, 18, 18, 26, 17, 32, 31, 27, 30, 8, 14, 20, 38, 27, 38, 6, 14, 18, 20, 22, 37, 38, 2, 6, 8, 9, 10, 14, 18, 20, 22, 27, 38, 4, 8, 10, 14, 27, 31, 11, 17, 6, 18, 26, 6, 10, 14, 18, 38, 14, 34, 14, 18, 22, 27, 38, 19, 3, 6, 10, 14, 20, 38, 14, 6, 8, 9, 14, 18, 20, 22, 25, 26, 23, 2, 18, 19, 22, 5, 8, 3, 5, 10, 20, 25, 27, 38, 16, 38, 8, 3, 38, 31, 19, 3, 6, 8, 9, 10, 14, 18, 20, 21, 22, 26, 27, 38, 36, 3, 5, 10, 38, 5, 8, 9, 10, 14, 26, 37, 38, 12, 14, 6, 14, 18, 22, 18, 18, 18, 3, 6, 14, 18, 22, 27, 38, 9, 25, 9, 27, 19, 18, 21, 26, 27, 23, 29, 32, 10, 8, 9, 10, 14, 22, 26, 38, 24, 30, 20, 14, 22, 40, 30, 27, 32, 13, 13, 33, 8, 2, 40, 9, 10, 16, 22, 3, 5, 10, 35, 5, 6, 8, 9, 10, 18, 26, 38, 2, 18, 36, 5, 37, 29, 9, 14, 20, 22, 27, 27, 13, 28, 8, 9, 10, 18, 20, 22, 25, 26, 5, 37, 13, 3, 8, 9, 10, 27, 38, 4, 6, 14, 18, 22, 35, 8, 14, 20, 33, 6, 10, 14, 18, 20, 6, 8, 14, 18, 20, 6, 9, 28, 20, 26, 11, 3, 5, 8, 9, 10, 38, 38, 2, 36, 10, 10, 10, 19, 12, 8, 14, 18, 22, 26, 14, 22, 8, 19, 22, 23, 30, 6, 8, 9, 10, 14, 18, 22, 25, 26, 38, 10, 6, 8, 9, 9, 10, 38, 6, 8, 9, 10, 14, 18, 22, 26, 38, 5, 8, 9, 10, 9, 14, 26, 30, 33, 8, 5, 5, 6, 14, 18, 20, 4, 9, 10, 40, 18, 35, 22, 26, 12, 6, 24, 34, 38, 32, 32, 6, 21, 6, 37, 8, 9, 10, 22, 26, 38, 8, 24, 27, 3, 6, 17, 3, 5, 6, 9, 10, 14, 18, 22, 27, 38, 9, 10, 14, 22, 38, 32, 10, 11, 6, 8, 14, 18, 20, 22, 26, 4, 14, 18, 22, 25, 8, 9, 10, 26, 38, 8, 17, 12, 8, 9, 18, 19, 22, 34, 26, 34, 29, 27, 31, 14, 22, 35, 4, 8, 14, 18, 22, 32, 6, 14, 18, 22, 35, 32, 29, 14, 20, 20, 3, 8, 14, 18, 22, 29, 38, 8, 18, 22, 29, 38, 5, 3, 6, 8, 22, 25, 26, 9, 30, 8, 26, 17, 8, 18, 20, 21, 38, 18, 28, 8, 17, 8, 10, 14, 22, 26, 38, 8, 26, 8, 10, 22, 26, 38, 16, 3, 4, 24, 12, 14, 20, 35, 11, 40, 2, 21, 6, 14, 18, 38, 30, 26, 3, 8, 10, 14, 26, 29, 38, 8, 12, 26, 33, 18, 2, 2, 40, 27, 5, 14, 22, 12, 14, 30, 38, 19, 19, 10, 14, 19, 38, 3, 35, 19, 4, 3, 3, 5, 22, 20, 14, 7, 4, 5, 6, 8, 9, 14, 20, 27, 5, 6, 8, 12, 18, 4, 9, 20, 38, 8, 14, 22, 26, 21, 29, 18, 28, 3, 30, 4, 38, 13, 27, 12, 22, 5, 20, 22, 27, 16, 20, 1, 6, 14, 18, 22, 38, 24, 21, 6, 18, 21, 2, 18, 25, 21, 1, 34, 6, 8, 14, 18, 27, 34, 21, 24, 3, 4, 8, 9, 14, 20, 22, 27, 29, 38, 33, 1, 8, 14, 20, 21, 40, 21, 4, 24, 31, 6, 14, 18, 20, 38, 27, 14, 14, 18, 22, 26, 11, 23, 6, 24, 28, 28, 5, 8, 14, 20, 22, 3, 14, 20, 26, 9, 19, 9, 14, 31, 8, 7, 16, 5, 33, 25, 4, 10, 14, 18, 20, 14, 22, 13, 37, 8, 10, 14, 22, 26, 27, 38, 3, 9, 10, 38, 3, 9, 10, 14, 22, 9, 2, 3, 8, 9, 10, 14, 22, 25, 3, 5, 38, 28, 12, 1, 38, 8, 14, 20, 22, 9, 6, 20, 38, 20, 10, 14, 3, 14, 18, 37, 38, 3, 6, 8, 14, 18, 20, 38, 8, 11, 12, 3, 6, 14, 18, 20, 18, 9, 3, 6, 27, 34, 6, 14, 18, 35, 6, 14, 20, 35, 21, 9, 3, 17, 17, 23, 30, 4, 8, 3, 27, 4, 6, 9, 14, 38, 19, 40, 9, 30, 22, 2, 21, 9, 14, 20, 25, 27, 23, 18, 28, 37, 6, 8, 9, 10, 14, 20, 22, 26, 38, 9, 37, 38, 8, 3, 6, 10, 22, 26, 27, 38, 22, 34, 10, 17, 38, 1, 4, 14, 4, 5, 4, 9, 30, 14, 3, 5, 8, 10, 14, 20, 22, 38, 20, 21, 16, 36, 36, 3, 14, 12, 10, 14, 18, 20, 29, 11, 13, 6, 29, 8, 9, 14, 21, 9, 16, 5, 37, 23, 9, 19, 6, 29, 6, 34, 22, 23, 2, 17, 22, 17, 36, 8, 37, 38, 14, 40, 4, 17, 29, 27, 17, 5, 10, 21, 22, 27, 38, 21, 30, 36, 23, 23, 6, 18, 6, 8, 19, 38, 22, 22, 32, 32, 6, 14, 18, 20, 9, 14, 20, 3, 4, 9, 10, 14, 22, 27, 3, 4, 9, 10, 14, 38, 9, 10, 20, 33, 38, 8, 9, 10, 14, 20, 22, 25, 27, 38, 28, 28, 3, 6, 14, 18, 27, 20, 34, 9, 27, 17, 25, 35, 6, 9, 10, 14, 22, 27, 9, 14, 20, 24, 29, 35, 11, 18, 37, 20, 14, 35, 30, 4, 6, 14, 22, 6, 8, 14, 19, 22, 26, 38, 38, 22, 3, 25, 4, 6, 14, 38, 30, 26, 23, 6, 31, 3, 14, 18, 20, 26, 23, 6, 8, 14, 18, 20, 26, 29, 38, 26, 25, 8, 18, 22, 26, 8, 9, 22, 26, 1, 14, 26, 38, 6, 30, 2, 20, 2, 20, 2, 2, 40, 9, 20, 25, 14, 5, 8, 21, 22, 8, 9, 14, 5, 6, 8, 9, 14, 18, 8, 14, 26, 14, 18, 20, 38, 5, 27, 38, 36, 3, 8, 9, 10, 14, 18, 20, 22, 25, 26, 27, 38, 3, 4, 5, 6, 10, 14, 18, 8, 10, 14, 22, 38, 3, 5, 6, 8, 9, 10, 14, 18, 20, 22, 26, 27, 37, 38, 22, 9, 38, 26, 22, 3, 8, 9, 10, 14, 18, 20, 22, 25, 38, 9, 10, 4, 5, 6, 9, 10, 14, 20, 21, 35, 37, 38, 6, 14, 18, 20, 22, 33, 21, 6, 26, 30, 5, 6, 8, 9, 10, 14, 26, 38, 18, 28, 1, 5, 8, 22, 5, 18, 8, 21, 37, 6, 18, 4, 17, 38, 32, 34, 5, 6, 9, 17, 5, 8, 9, 10, 26, 5, 9, 10, 14, 22, 38, 8, 10, 6, 14, 18, 20, 35, 6, 8, 10, 14, 20, 38, 30, 37, 5, 8, 9, 21, 22, 19, 3, 8, 9, 10, 14, 18, 20, 22, 25, 27, 37, 38, 13, 11, 11, 6, 34, 8, 27, 20, 5, 34, 5, 3, 21, 6, 25, 38, 5, 8, 9, 10, 22, 29, 37, 38, 6, 31, 35, 35, 17, 10, 10, 6, 10, 14, 18, 24, 2, 1, 5, 6, 8, 9, 14, 18, 20, 22, 27, 3, 9, 21, 21, 25, 20, 3, 38, 4, 8, 10, 14, 25, 38, 29, 14, 34, 34, 9, 6, 8, 9, 10, 38, 10, 21, 7, 19, 21, 28, 36, 40, 22, 22, 14, 14, 7, 5, 8, 22, 38, 19, 3, 18, 22, 27, 28, 23, 32, 33, 3, 5, 8, 9, 14, 20, 22, 26, 27, 11, 19, 3, 38, 9, 25, 38, 36, 1, 8, 10, 14, 20, 38, 3, 31, 8, 10, 14, 20, 22, 25, 25, 5, 6, 8, 14, 18, 20, 22, 26, 27, 37, 38, 18, 22, 27, 37, 8, 14, 18, 20, 22, 25, 35, 38, 34, 34, 8, 34, 9, 10, 37, 38, 11, 16, 14, 23, 5, 22, 29, 10, 38, 8, 9, 10, 29, 38, 5, 27, 25, 26, 5, 8, 14, 3, 5, 6, 8, 10, 14, 18, 3, 5, 8, 9, 10, 14, 18, 22, 27, 29, 37, 38, 17, 6, 3, 5, 8, 9, 10, 14, 22, 27, 37, 38, 30, 3, 6, 8, 9, 14, 20, 22, 26, 27, 29, 37, 38, 10, 38, 10, 3, 6, 8, 9, 10, 14, 18, 20, 22, 26, 38, 3, 6, 8, 9, 10, 14, 20, 21, 22, 26, 27, 29, 37, 38, 22, 33, 19, 2, 20, 32, 33, 18, 21], \"Freq\": [0.791166365146637, 0.8880010843276978, 0.016374478116631508, 0.04912343621253967, 0.29474061727523804, 0.6222301721572876, 0.5155207514762878, 0.7420111298561096, 0.8623701333999634, 0.9404564499855042, 0.6921501159667969, 0.7979786992073059, 0.6145161390304565, 0.36870965361595154, 0.9477443695068359, 0.938244640827179, 0.9122635722160339, 0.9866138100624084, 0.750568151473999, 0.030658360570669174, 0.13489678502082825, 0.833907425403595, 0.6978175640106201, 0.9903867840766907, 0.013319331221282482, 0.3130042850971222, 0.059936992824077606, 0.1864706426858902, 0.07991599291563034, 0.10655464977025986, 0.17981097102165222, 0.06659665703773499, 0.9970685839653015, 0.0699712485074997, 0.6297412514686584, 0.2973778247833252, 0.778802216053009, 0.871369481086731, 0.3219195604324341, 0.4828793406486511, 0.981764018535614, 0.9991061091423035, 0.6788052320480347, 0.8552592396736145, 0.9088252782821655, 0.03347201272845268, 0.013388805091381073, 0.3681921362876892, 0.5824130177497864, 0.9656445980072021, 0.8975751996040344, 0.02439092844724655, 0.336594820022583, 0.3219602406024933, 0.058538228273391724, 0.20000560581684113, 0.00487818568944931, 0.0487818568944931, 0.9187833666801453, 0.05675399675965309, 0.2878238260746002, 0.0015201963251456618, 0.08665119111537933, 0.520413875579834, 0.0010134641779586673, 0.014188499189913273, 0.03141739219427109, 0.7358360886573792, 0.6697187423706055, 0.01564203016459942, 0.2859015464782715, 0.020856041461229324, 0.37540873885154724, 0.021725041791796684, 0.0008690017275512218, 0.12861225008964539, 0.020856041461229324, 0.02867705561220646, 0.0026070051826536655, 0.0278080552816391, 0.07038913667201996, 0.6072157621383667, 0.9540992975234985, 0.5531600117683411, 0.04047512635588646, 0.34403857588768005, 0.06071268767118454, 0.8557611107826233, 0.11066973209381104, 0.017849955707788467, 0.4283989369869232, 0.10352974385023117, 0.17492957413196564, 0.04997987672686577, 0.010709973983466625, 0.0035699913278222084, 0.028559930622577667, 0.07139982283115387, 0.900399386882782, 0.9003904461860657, 0.6285145878791809, 0.366178035736084, 0.995013415813446, 0.7805259227752686, 0.22058340907096863, 0.8973547220230103, 0.9170249104499817, 0.9272505640983582, 0.8762251138687134, 0.987481951713562, 0.8401129245758057, 0.9627198576927185, 0.9126416444778442, 0.945813775062561, 0.46071410179138184, 0.9893277883529663, 0.9353641867637634, 0.7731111645698547, 0.7799088954925537, 0.9635865688323975, 0.953370988368988, 0.9337756633758545, 0.9887244701385498, 0.28985604643821716, 0.09661868214607239, 0.33816540241241455, 0.2777787148952484, 0.4371582567691803, 0.9284662008285522, 0.9781913161277771, 0.19744177162647247, 0.7954082489013672, 0.8710595965385437, 0.9754343628883362, 0.9135597348213196, 0.06227824091911316, 0.1037970632314682, 0.34599021077156067, 0.08303765207529068, 0.09687726199626923, 0.027679217979311943, 0.26987236738204956, 0.9435508847236633, 0.9935511350631714, 0.9674326181411743, 0.03869730606675148, 0.5458567142486572, 0.021490421146154404, 0.3369698226451874, 0.09541746973991394, 0.9745607972145081, 0.9634382128715515, 0.7421755790710449, 0.9917389154434204, 0.04447462037205696, 0.0317675843834877, 0.5877003073692322, 0.23190337419509888, 0.10483302921056747, 0.6548923850059509, 0.32744619250297546, 0.9146860241889954, 0.9779837727546692, 0.9650238752365112, 0.8157228231430054, 0.8895215392112732, 0.7554822564125061, 0.2518274188041687, 0.9627485275268555, 0.9017729759216309, 0.8622519969940186, 0.9855620861053467, 0.024584103375673294, 0.001891084830276668, 0.4557514488697052, 0.45007818937301636, 0.06618797034025192, 0.9785395860671997, 0.9860689640045166, 0.9700486660003662, 0.8187808394432068, 0.9469382762908936, 0.9831793904304504, 0.7358360886573792, 0.7046465873718262, 0.9867404699325562, 0.8761507868766785, 0.09370596706867218, 0.028111789375543594, 0.8033162951469421, 0.11276768147945404, 0.32702627778053284, 0.4999367296695709, 0.05638384073972702, 0.9551717638969421, 0.4152352511882782, 0.4152352511882782, 0.7673200964927673, 0.984559953212738, 0.1441361904144287, 0.7206809520721436, 0.9682296514511108, 0.9388778805732727, 0.2649032771587372, 0.5298065543174744, 0.9912921786308289, 0.9960843324661255, 0.09153300523757935, 0.26442867517471313, 0.27459901571273804, 0.01017033401876688, 0.3559616804122925, 0.9887192845344543, 0.929347574710846, 0.8449879884719849, 0.7692059874534607, 0.9843634366989136, 0.9854412078857422, 0.8371507525444031, 0.1287924200296402, 0.04183032736182213, 0.1254909783601761, 0.836606502532959, 0.9810359477996826, 0.8417345881462097, 0.9811190366744995, 0.9007720351219177, 0.9318863749504089, 0.9780247807502747, 0.9867531061172485, 0.9834281802177429, 0.5890710353851318, 0.35344260931015015, 0.992158055305481, 0.9606512784957886, 0.9255121946334839, 0.49700185656547546, 0.7450444102287292, 0.011007560417056084, 0.03852646052837372, 0.5668893456459045, 0.24216634035110474, 0.011007560417056084, 0.0990680456161499, 0.027518901973962784, 0.9900221228599548, 0.9897136688232422, 0.059688735753297806, 0.0262630432844162, 0.3545510768890381, 0.027456818148493767, 0.5288422107696533, 0.0011937746312469244, 0.9932355284690857, 0.9150099158287048, 0.9858120679855347, 0.888703465461731, 0.8021965622901917, 0.8782235980033875, 0.11921586841344833, 0.9662560820579529, 0.9141334295272827, 0.9908207654953003, 0.9872187376022339, 0.9245864748954773, 0.9553202390670776, 0.7348005771636963, 0.9970273971557617, 0.029095986858010292, 0.11638394743204117, 0.010580359026789665, 0.16664065420627594, 0.03967634588479996, 0.23276789486408234, 0.11638394743204117, 0.2856696844100952, 0.968475341796875, 0.04210278019309044, 0.5052333474159241, 0.31577086448669434, 0.12630833685398102, 0.9969810247421265, 0.9237797856330872, 0.9722108840942383, 0.18021707236766815, 0.04915010929107666, 0.5078845024108887, 0.262133926153183, 0.1332944929599762, 0.15995338559150696, 0.6131546497344971, 0.08664141595363617, 0.006664724089205265, 0.05120057612657547, 0.030720345675945282, 0.5632063150405884, 0.3379237949848175, 0.6129249334335327, 0.20430830121040344, 0.6440346240997314, 0.9247058629989624, 0.9186126589775085, 0.12900865077972412, 0.7740518450737, 0.8401129245758057, 0.9165323376655579, 0.5825396180152893, 0.10472621768712997, 0.30763328075408936, 0.8797379732131958, 0.7225173115730286, 0.6861158609390259, 0.8299204707145691, 0.08198180049657822, 0.6353589296340942, 0.010247725062072277, 0.18445904552936554, 0.09222952276468277, 0.6615740060806274, 0.140333890914917, 0.19045312702655792, 0.08900253474712372, 0.09709367156028748, 0.12541265785694122, 0.1456405073404312, 0.39646583795547485, 0.1294582337141037, 0.016182279214262962, 0.6732237339019775, 0.9624941945075989, 0.8382909297943115, 0.15816810727119446, 0.7860822081565857, 0.21070243418216705, 0.9658664464950562, 0.9383999705314636, 0.95895916223526, 0.7258699536323547, 0.6508702635765076, 0.9722216725349426, 0.5395119786262512, 0.7728884220123291, 0.97560715675354, 0.8401129245758057, 0.04419572278857231, 0.1274876594543457, 0.17423313856124878, 0.13938650488853455, 0.013598683290183544, 0.35781535506248474, 0.034846626222133636, 0.07139308750629425, 0.009349094703793526, 0.009349094703793526, 0.017848271876573563, 0.9936778545379639, 0.8432421088218689, 0.09359699487686157, 0.034035272896289825, 0.046798497438430786, 0.08934258669614792, 0.514783501625061, 0.17443077266216278, 0.046798497438430786, 0.9579414129257202, 0.5565012097358704, 0.07420016080141068, 0.14840032160282135, 0.22260047495365143, 0.25890806317329407, 0.08376437425613403, 0.5558908581733704, 0.09899426251649857, 0.6495553851127625, 0.9365473985671997, 0.46616506576538086, 0.5210080146789551, 0.9916920065879822, 0.13359738886356354, 0.4134693145751953, 0.02827974036335945, 0.0039006536826491356, 0.18625621497631073, 0.2350143939256668, 0.921469509601593, 0.0521586537361145, 0.9299342036247253, 0.012842184863984585, 0.00537579832598567, 0.005674453917890787, 0.01732201687991619, 0.15619680285453796, 0.18307580053806305, 0.01582873985171318, 0.22010907530784607, 0.0008959664264693856, 0.0035838657058775425, 0.1618712693452835, 0.006570420227944851, 0.0020905882120132446, 0.0020905882120132446, 0.016724705696105957, 0.027476303279399872, 0.0002986554754897952, 0.1621699184179306, 0.9837338924407959, 0.026302672922611237, 0.004477050621062517, 0.03301825001835823, 0.030220093205571175, 0.053164977580308914, 0.034697141498327255, 0.4113290309906006, 0.03693566843867302, 0.020146727561950684, 0.2065039724111557, 0.14326561987400055, 0.003001557197421789, 0.8764547109603882, 0.11706072837114334, 0.003001557197421789, 0.982119619846344, 0.7523892521858215, 0.03532343730330467, 0.1872142255306244, 0.017661718651652336, 0.9613389372825623, 0.11978362500667572, 0.17967543005943298, 0.6887558102607727, 0.7776845693588257, 0.08698534965515137, 0.017719237133860588, 0.008054198697209358, 0.20618750154972076, 0.5106362104415894, 0.043492674827575684, 0.1272563487291336, 0.9938609600067139, 0.9751176238059998, 0.9937974810600281, 0.983008086681366, 0.03533543273806572, 0.9599458575248718, 0.06644868105649948, 0.9302815198898315, 0.02044166997075081, 0.004088333807885647, 0.9730234742164612, 0.9891470670700073, 0.9731302857398987, 0.9088946580886841, 0.5787079930305481, 0.6918115019798279, 0.0076731545850634575, 0.272396981716156, 0.18799228966236115, 0.06522181630134583, 0.13428020477294922, 0.15729966759681702, 0.0038365772925317287, 0.0038365772925317287, 0.0076731545850634575, 0.16113625466823578, 0.987276017665863, 0.059500932693481445, 0.027045879513025284, 0.005409175995737314, 0.8221946954727173, 0.08384222537279129, 0.6985502243041992, 0.8449879884719849, 0.8756734132766724, 0.9818201065063477, 0.8655794858932495, 0.7867545485496521, 0.26225152611732483, 0.8837334513664246, 0.7776741981506348, 0.2073797881603241, 0.2240789234638214, 0.7522649765014648, 0.989324152469635, 0.037463750690221786, 0.05151265859603882, 0.014048906974494457, 0.8944470286369324, 0.8994280695915222, 0.0974380373954773, 0.1646053045988083, 0.18106584250926971, 0.24279282987117767, 0.23456257581710815, 0.05349672585725784, 0.11933884769678116, 0.7562307715415955, 0.9817878007888794, 0.9454028606414795, 0.719204306602478, 0.12691840529441833, 0.12691840529441833, 0.08081357181072235, 0.05387571454048157, 0.2963164150714874, 0.44447463750839233, 0.12122035771608353, 0.716387927532196, 0.9905567765235901, 0.053904738277196884, 0.053904738277196884, 0.8804440498352051, 0.9937090277671814, 0.9877572655677795, 0.9944882392883301, 0.03019796870648861, 0.06643553078174591, 0.19930659234523773, 0.4227715730667114, 0.27782130241394043, 0.440413236618042, 0.16850592195987701, 0.37913835048675537, 0.00765936030074954, 0.8762251138687134, 0.7899395227432251, 0.188080832362175, 0.9874908328056335, 0.786626935005188, 0.06971967220306396, 0.37648624181747437, 0.3625423014163971, 0.16732722520828247, 0.013943934813141823, 0.5670117139816284, 0.16346284747123718, 0.08343415707349777, 0.040865711867809296, 0.044271185994148254, 0.10046154260635376, 0.8961319923400879, 0.9946389198303223, 0.022138405591249466, 0.007379468996077776, 0.7969826459884644, 0.17710724472999573, 0.9825413823127747, 0.9905482530593872, 0.9322971701622009, 0.9562389254570007, 0.5310201644897461, 0.07586002349853516, 0.3337841033935547, 0.06068802252411842, 0.01568412221968174, 0.1489991545677185, 0.1411570906639099, 0.6901013255119324, 0.26299354434013367, 0.01223225798457861, 0.0733935534954071, 0.3058064579963684, 0.34250321984291077, 0.9831185340881348, 0.9906910061836243, 0.05195685103535652, 0.8832664489746094, 0.6358064413070679, 0.20756299793720245, 0.7936232089996338, 0.9573844075202942, 0.9874539375305176, 0.8417345881462097, 0.47039175033569336, 0.030084745958447456, 0.06016949191689491, 0.8724576234817505, 0.5827623009681702, 0.9133416414260864, 0.9229856133460999, 0.7979786992073059, 0.8757485747337341, 0.48525553941726685, 0.18516328930854797, 0.12131388485431671, 0.2043181210756302, 0.9764230847358704, 0.24774134159088135, 0.181676983833313, 0.24774134159088135, 0.23122525215148926, 0.06606435775756836, 0.708066999912262, 0.01506525557488203, 0.03013051114976406, 0.2410440891981125, 0.9760045409202576, 0.008262814953923225, 0.04957688972353935, 0.17351911962032318, 0.20657037198543549, 0.5536085963249207, 0.10607784986495972, 0.07576989382505417, 0.27277159690856934, 0.5455431938171387, 0.9952250123023987, 0.9331262111663818, 0.018542973324656487, 0.021633470430970192, 0.007726239040493965, 0.1467985361814499, 0.007726239040493965, 0.11125784367322922, 0.5949203968048096, 0.058719418942928314, 0.032450202852487564, 0.0993344709277153, 0.32600727677345276, 0.11888433992862701, 0.35665300488471985, 0.01056749653071165, 0.07450085133314133, 0.013737745583057404, 0.8273351192474365, 0.1103113517165184, 0.0441245399415493, 0.9918408989906311, 0.025150921195745468, 0.2074950933456421, 0.6570678353309631, 0.08174049109220505, 0.02829478681087494, 0.5787079930305481, 0.9860196709632874, 0.9736862778663635, 0.972959041595459, 0.9460324048995972, 0.7060889601707458, 0.9883310794830322, 0.16856040060520172, 0.04494944214820862, 0.7866151928901672, 0.9857347011566162, 0.5155207514762878, 0.9681455492973328, 0.8118590712547302, 0.767586886882782, 0.5787079930305481, 0.9418711066246033, 0.983138918876648, 0.8611640930175781, 0.5599640607833862, 0.6871321797370911, 0.29902973771095276, 0.012724669650197029, 0.9515438079833984, 0.03707313537597656, 0.5178816914558411, 0.05745778977870941, 0.1270119547843933, 0.1270119547843933, 0.024192754179239273, 0.05443369597196579, 0.09677101671695709, 0.27519258856773376, 0.2358793467283249, 0.8801697492599487, 0.24084755778312683, 0.0656856968998909, 0.7006474137306213, 0.962047815322876, 0.8238922357559204, 0.7245951890945435, 0.9061744213104248, 0.769137978553772, 0.9300625920295715, 0.09339990466833115, 0.2751510739326477, 0.017670251429080963, 0.3155401945114136, 0.28777268528938293, 0.007572965230792761, 0.05022021755576134, 0.3479543626308441, 0.014348633587360382, 0.1650092899799347, 0.0789174884557724, 0.010761475190520287, 0.0035871583968400955, 0.035871583968400955, 0.28697267174720764, 0.010761475190520287, 0.9715530872344971, 0.022102050483226776, 0.6851635575294495, 0.2910103499889374, 0.9468756914138794, 0.04855772852897644, 0.9236804246902466, 0.016979271546006203, 0.12855733931064606, 0.004851220175623894, 0.06791708618402481, 0.25954028964042664, 0.03638415411114693, 0.48512205481529236, 0.00515243923291564, 0.08930894732475281, 0.12194106727838516, 0.48776426911354065, 0.2936890423297882, 0.9658663868904114, 0.07302194833755493, 0.06085162237286568, 0.28478559851646423, 0.06206865608692169, 0.03529394045472145, 0.2117636501789093, 0.013387356884777546, 0.017038455232977867, 0.2190658450126648, 0.0194725189357996, 0.001217032433487475, 0.6909396648406982, 0.16039671003818512, 0.14188940823078156, 0.7068882584571838, 0.23562942445278168, 0.5906859040260315, 0.393790602684021, 0.994503378868103, 0.011960714124143124, 0.47444164752960205, 0.07575118541717529, 0.12558749318122864, 0.12160059064626694, 0.07774464040994644, 0.001993452198803425, 0.10963987559080124, 0.996971607208252, 0.04053869470953941, 0.10881439596414566, 0.8491790294647217, 0.9877505898475647, 0.900399386882782, 0.46204107999801636, 0.9961544275283813, 0.9123864769935608, 0.9000923037528992, 0.9745599627494812, 0.671561062335968, 0.9870246648788452, 0.9155305027961731, 0.10899852216243744, 0.24524666368961334, 0.061311665922403336, 0.09537370502948761, 0.3269955515861511, 0.05449926108121872, 0.10218611359596252, 0.9876217246055603, 0.9694454669952393, 0.9170247316360474, 0.8217921853065491, 0.9593020081520081, 0.7921154499053955, 0.24346478283405304, 0.5217102766036987, 0.20868410170078278, 0.9810292720794678, 0.012177620083093643, 0.46477919816970825, 0.17251628637313843, 0.3490917980670929, 0.002029603347182274, 0.503406286239624, 0.6597132086753845, 0.9065756797790527, 0.7827415466308594, 0.984253466129303, 0.8043804168701172, 0.8655794262886047, 0.07665964961051941, 0.0145031763240695, 0.116025410592556, 0.5200424790382385, 0.024862587451934814, 0.2444821149110794, 0.9890232682228088, 0.8266034126281738, 0.1836896538734436, 0.09462005645036697, 0.6353061199188232, 0.1723436713218689, 0.020275726914405823, 0.07772361487150192, 0.8871726989746094, 0.11419054120779037, 0.9458472728729248, 0.988439679145813, 0.3799874782562256, 0.5699812173843384, 0.18054325878620148, 0.7221730351448059, 0.8975751996040344, 0.13329587876796722, 0.7331273555755615, 0.13329587876796722, 0.8630265593528748, 0.5183943510055542, 0.3702816665172577, 0.9443576335906982, 0.8880010843276978, 0.9877467155456543, 0.9602786302566528, 0.9473972916603088, 0.6978175640106201, 0.9891073703765869, 0.014634463004767895, 0.3595896363258362, 0.11080379039049149, 0.4160368740558624, 0.0041812751442193985, 0.010453187860548496, 0.0773535892367363, 0.0041812751442193985, 0.9858326315879822, 0.9833418130874634, 0.9518537521362305, 0.1298951655626297, 0.12340040504932404, 0.7468971610069275, 0.8243778347969055, 0.06869815289974213, 0.10304722934961319, 0.35799023509025574, 0.0196697935461998, 0.1966979205608368, 0.18883000314235687, 0.05114145949482918, 0.1573583483695984, 0.02753770910203457, 0.8580302596092224, 0.6967177391052246, 0.9833595156669617, 0.7681305408477783, 0.07359949499368668, 0.9147365689277649, 0.7584215998649597, 0.20684225857257843, 0.12732669711112976, 0.8688174486160278, 0.9857703447341919, 0.24762476980686188, 0.16508318483829498, 0.577791154384613, 0.6697187423706055, 0.9784935116767883, 0.10320354253053665, 0.16512566804885864, 0.03302513435482979, 0.4499674439430237, 0.057793982326984406, 0.19402265548706055, 0.8233527541160583, 0.7064031958580017, 0.23546774685382843, 0.46204107999801636, 0.46204107999801636, 0.46204107999801636, 0.4070994555950165, 0.5699392557144165, 0.8565065860748291, 0.9907334446907043, 0.832059919834137, 0.9622478485107422, 0.9854990839958191, 0.9287223815917969, 0.7341699004173279, 0.2669708728790283, 0.23847848176956177, 0.16672389209270477, 0.3439999222755432, 0.13717788457870483, 0.054871153086423874, 0.054871153086423874, 0.9716061949729919, 0.7770145535469055, 0.987251341342926, 0.931088387966156, 0.9545902609825134, 0.9910866618156433, 0.03324950858950615, 0.08312377333641052, 0.8146129846572876, 0.016624754294753075, 0.04156188666820526, 0.09145189821720123, 0.9062051773071289, 0.758660614490509, 0.9957591891288757, 0.7947385311126709, 0.972145676612854, 0.9460324048995972, 0.6444647312164307, 0.9343258738517761, 0.9848313331604004, 0.9831975698471069, 0.7979786992073059, 0.9094773530960083, 0.9805917143821716, 0.9798437356948853, 0.9256804585456848, 0.7741457223892212, 0.8964213728904724, 0.937377393245697, 0.31593000888824463, 0.05616533383727074, 0.21764066815376282, 0.4071986675262451, 0.9488572478294373, 0.9825860261917114, 0.5155207514762878, 0.1868448704481125, 0.020760541781783104, 0.33216866850852966, 0.010380270890891552, 0.39445027709007263, 0.06228162348270416, 0.9385274648666382, 0.05580433830618858, 0.5515205264091492, 0.3676803410053253, 0.806341290473938, 0.8736310601234436, 0.9542608261108398, 0.12617018818855286, 0.06308509409427643, 0.7885636687278748, 0.015814758837223053, 0.8065527081489563, 0.07907379418611526, 0.04744427651166916, 0.04744427651166916, 0.8985753655433655, 0.644893229007721, 0.8727824687957764, 0.8660470843315125, 0.9195323586463928, 0.986916720867157, 0.8051825165748596, 0.5939895510673523, 0.06456408649682999, 0.03873845189809799, 0.15495380759239197, 0.12912817299365997, 0.9646239280700684, 0.09867759048938751, 0.7894207239151001, 0.9704794883728027, 0.9574697017669678, 0.032975442707538605, 0.8903369307518005, 0.07694269716739655, 0.9595682621002197, 0.034717265516519547, 0.96340411901474, 0.9845972061157227, 0.016688087955117226, 0.9261747598648071, 0.6444647312164307, 0.9188811779022217, 0.9763783812522888, 0.9789372682571411, 0.996282160282135, 0.42497193813323975, 0.42497193813323975, 0.9317925572395325, 0.17162509262561798, 0.7723128795623779, 0.9395594596862793, 0.6514903903007507, 0.33454909920692444, 0.4751424193382263, 0.2133292555809021, 0.3102971017360687, 0.8722878098487854, 0.9778792262077332, 0.9840716123580933, 0.01587212271988392, 0.72479647397995, 0.2635623514652252, 0.0399678498506546, 0.9592283368110657, 0.8685481548309326, 0.9199993014335632, 0.017669467255473137, 0.4369177222251892, 0.003212630283087492, 0.4240671992301941, 0.11565469205379486, 0.003212630283087492, 0.9874193072319031, 0.21205733716487885, 0.04111315682530403, 0.01731080375611782, 0.6058781147003174, 0.019474653527140617, 0.10602866858243942, 0.8870418071746826, 0.9034134745597839, 0.06788615137338638, 0.003993303049355745, 0.3114776313304901, 0.1038258746266365, 0.21963165700435638, 0.003993303049355745, 0.28751781582832336, 0.9609455466270447, 0.5827623009681702, 0.9388778805732727, 0.5159330368041992, 0.943509042263031, 0.01570410467684269, 0.1570410430431366, 0.10207667946815491, 0.5162724256515503, 0.17667117714881897, 0.03140820935368538, 0.9903303384780884, 0.7984742522239685, 0.9918297529220581, 0.5582892298698425, 0.18774622678756714, 0.8090968728065491, 0.9862972497940063, 0.9848933815956116, 0.4414474368095398, 0.02263833023607731, 0.0565958246588707, 0.06791498512029648, 0.14714914560317993, 0.26034078001976013, 0.9565472602844238, 0.07328932732343674, 0.029315732419490814, 0.6009724736213684, 0.04397359862923622, 0.24918371438980103, 0.9622077941894531, 0.036309726536273956, 0.9916673898696899, 0.997102677822113, 0.10117530822753906, 0.0693773552775383, 0.18283823132514954, 0.05709178000688553, 0.02384846657514572, 0.482028067111969, 0.03396599739789963, 0.0028907230589538813, 0.04552888870239258, 0.9944623708724976, 0.4405610263347626, 0.4153861105442047, 0.13846203684806824, 0.9249390363693237, 0.8931074142456055, 0.46254250407218933, 0.32689258456230164, 0.6537851691246033, 0.7166507840156555, 0.9517632722854614, 0.7412945628166199, 0.2639400064945221, 0.1269584745168686, 0.033410124480724335, 0.5512670874595642, 0.02004607580602169, 0.0033410126343369484, 0.9983270168304443, 0.9442639946937561, 0.9165059328079224, 0.8966431021690369, 0.5155207514762878, 0.5032117962837219, 0.5032117962837219, 0.9551778435707092, 0.6035842895507812, 0.04893926531076431, 0.3425748646259308, 0.7724003791809082, 0.21627210080623627, 0.8733598589897156, 0.035841088742017746, 0.01120034046471119, 0.3875317871570587, 0.03136095404624939, 0.05152156576514244, 0.16576503217220306, 0.004480136092752218, 0.13216401636600494, 0.08736265450716019, 0.09408285468816757, 0.9804398417472839, 0.033930908888578415, 0.12215126305818558, 0.027144726365804672, 0.027144726365804672, 0.7871970534324646, 0.8385540843009949, 0.9217527508735657, 0.011379663832485676, 0.056898318231105804, 0.011379663832485676, 0.9792045950889587, 0.9170249104499817, 0.9142191410064697, 0.8486824035644531, 0.8992704749107361, 0.8401129245758057, 0.9799938201904297, 0.031016279011964798, 0.025200726464390755, 0.04652441665530205, 0.45167455077171326, 0.35668718814849854, 0.03683182969689369, 0.05040145292878151, 0.85162353515625, 0.0738401934504509, 0.06891751289367676, 0.2773040235042572, 0.19679641723632812, 0.017890581861138344, 0.3041399121284485, 0.18785111606121063, 0.9034134745597839, 0.9803532958030701, 0.8948115706443787, 0.16272595524787903, 0.774181067943573, 0.05917307361960411, 0.9849966168403625, 0.9940923452377319, 0.7837479114532471, 0.9515941739082336, 0.9245864748954773, 0.3972833454608917, 0.529711127281189, 0.7571015357971191, 0.30048099160194397, 0.08194936811923981, 0.09560759365558624, 0.040974684059619904, 0.49169617891311646, 0.6074076890945435, 0.20246922969818115, 0.45111820101737976, 0.07960908859968185, 0.3626636266708374, 0.09730000048875809, 0.8874200582504272, 0.005264750216156244, 0.028956126421689987, 0.10529500246047974, 0.08160363137722015, 0.04475037753582001, 0.5738577842712402, 0.1579425036907196, 0.909397304058075, 0.09089598059654236, 0.018179195001721382, 0.8726013898849487, 0.9553202390670776, 0.9763783812522888, 0.011697960086166859, 0.1403755098581314, 0.05848979949951172, 0.5030122399330139, 0.2807510197162628, 0.5827623009681702, 0.4015812575817108, 0.03683141618967056, 0.07603905349969864, 0.07247472554445267, 0.26019614934921265, 0.0035643307492136955, 0.1485137790441513, 0.994023859500885, 0.9921066164970398, 0.9762030839920044, 0.9456281661987305, 0.0573107972741127, 0.9934123754501343, 0.8431797623634338, 0.8401129245758057, 0.5299317240715027, 0.03191724419593811, 0.9575173854827881, 0.1981402486562729, 0.16600939631462097, 0.14458882808685303, 0.048196274787187576, 0.24098138511180878, 0.1981402486562729, 0.13742204010486603, 0.687110185623169, 0.1514796018600464, 0.11901968717575073, 0.1406596302986145, 0.5842784643173218, 0.19144457578659058, 0.014303329400718212, 0.10562458634376526, 0.33447787165641785, 0.11992792040109634, 0.030807171016931534, 0.009902304969727993, 0.1925448179244995, 0.8326795697212219, 0.1643446534872055, 0.8706812858581543, 0.05134301260113716, 0.019253630191087723, 0.30805808305740356, 0.11552178114652634, 0.15402904152870178, 0.1732826679944992, 0.1732826679944992, 0.02545299381017685, 0.018754838034510612, 0.042868200689554214, 0.04554746299982071, 0.032151151448488235, 0.041528571397066116, 0.12056681513786316, 0.08305714279413223, 0.024113362655043602, 0.09645345062017441, 0.021434100344777107, 0.042868200689554214, 0.4059082865715027, 0.990175724029541, 0.8192844986915588, 0.7895931005477905, 0.7471301555633545, 0.8401129245758057, 0.925373375415802, 0.054433729499578476, 0.042213618755340576, 0.9528217315673828, 0.8967962861061096, 0.969333291053772, 0.9730807542800903, 0.2469196766614914, 0.10582271963357925, 0.6349363327026367, 0.8157228231430054, 0.43146219849586487, 0.8950267434120178, 0.5912654399871826, 0.21285556256771088, 0.18920494616031647, 0.05400862544775009, 0.10801725089550018, 0.11370237171649933, 0.17908123135566711, 0.03695327043533325, 0.031268153339624405, 0.048323508352041245, 0.42922645807266235, 0.6403099894523621, 0.35845106840133667, 0.9457242488861084, 0.8401129245758057, 0.4985118806362152, 0.9795913100242615, 0.819760262966156, 0.9696487784385681, 0.04886549338698387, 0.22338512539863586, 0.12565413117408752, 0.006980785168707371, 0.10471177101135254, 0.12565413117408752, 0.22338512539863586, 0.13961569964885712, 0.9245448112487793, 0.37627485394477844, 0.30207982659339905, 0.04239716753363609, 0.19608689844608307, 0.07419504225254059, 0.007949468679726124, 0.02963750809431076, 0.1481875479221344, 0.8199710845947266, 0.9170249104499817, 0.9533878564834595, 0.8878385424613953, 0.049324363470077515, 0.6386338472366333, 0.19159014523029327, 0.06386338174343109, 0.3805862367153168, 0.141913503408432, 0.23867271840572357, 0.18706780672073364, 0.04515429958701134, 0.9155867695808411, 0.9926265478134155, 0.9593729972839355, 0.6769647598266602, 0.806341290473938, 0.993344247341156, 0.9954527616500854, 0.9910770654678345, 0.5155207514762878, 0.9883679151535034, 0.06965787708759308, 0.0036029936745762825, 0.04323592409491539, 0.27262651920318604, 0.6101069450378418, 0.8251950740814209, 0.41596293449401855, 0.5199536681175232, 0.9678326845169067, 0.5232040882110596, 0.6265862584114075, 0.37595176696777344, 0.7242867946624756, 0.03567915037274361, 0.0945497527718544, 0.021407490596175194, 0.10525349527597427, 0.0196235328912735, 0.3451356887817383, 0.603987455368042, 0.08706382662057877, 0.7994042038917542, 0.07123403996229172, 0.023744679987430573, 0.98093581199646, 0.037786275148391724, 0.12847332656383514, 0.581908643245697, 0.03022901900112629, 0.18389320373535156, 0.035267189145088196, 0.047378059476614, 0.5037035942077637, 0.06982029974460602, 0.32665926218032837, 0.04239089414477348, 0.009974327869713306, 0.9678899645805359, 0.9955984354019165, 0.9544553756713867, 0.03742962330579758, 0.46252182126045227, 0.2815350294113159, 0.23126091063022614, 0.020109644159674644, 0.9795653223991394, 0.9455488324165344, 0.07727136462926865, 0.47989583015441895, 0.27655014395713806, 0.08947210758924484, 0.03660222515463829, 0.02846839837729931, 0.004066913854330778, 0.6210321187973022, 0.007422694470733404, 0.1880415976047516, 0.18061889708042145, 0.0032356560695916414, 0.5953606963157654, 0.08736271411180496, 0.22002461552619934, 0.0355922169983387, 0.0032356560695916414, 0.055006153881549835, 0.9559341073036194, 0.9941093921661377, 0.7358360886573792, 0.9631766080856323, 0.9173914194107056, 0.3654332458972931, 0.06472618132829666, 0.09371811896562576, 0.004719617776572704, 0.28857091069221497, 0.16653507947921753, 0.016181545332074165, 0.9553202390670776, 0.9763783812522888, 0.9813348650932312, 0.07976946234703064, 0.9093719124794006, 0.9392969012260437, 0.9910532832145691, 0.9711146950721741, 0.9335160851478577, 0.9245864748954773, 0.04709715396165848, 0.435648649930954, 0.10596859455108643, 0.00588714424520731, 0.02354857698082924, 0.017661431804299355, 0.05887144058942795, 0.29435721039772034, 0.00588714424520731, 0.9262443780899048, 0.9394834637641907, 0.9773985147476196, 0.9668797254562378, 0.9930487871170044, 0.43814805150032043, 0.5476850271224976, 0.8879926800727844, 0.1060289740562439, 0.8148245811462402, 0.0791114941239357, 0.6745296120643616, 0.12491288781166077, 0.12074912339448929, 0.9937747716903687, 0.9925816655158997, 0.5155207514762878, 0.4779362380504608, 0.8307960033416748, 0.9818800687789917, 0.061238087713718414, 0.5901125073432922, 0.3451601266860962, 0.9748339653015137, 0.9467599987983704, 0.8983674049377441, 0.976867139339447, 0.9437038898468018, 0.03495199605822563, 0.9782775640487671, 0.92076176404953, 0.8585367798805237, 0.8342398405075073, 0.9604012370109558, 0.062194932252168655, 0.16744789481163025, 0.019136901944875717, 0.13395830988883972, 0.13874253630638123, 0.12917408347129822, 0.3444642424583435, 0.06205086037516594, 0.22751982510089874, 0.6825594902038574, 0.24994076788425446, 0.07141164690256119, 0.6784106492996216, 0.9519548416137695, 0.8820154070854187, 0.9138720631599426, 0.9902417063713074, 0.03273731842637062, 0.9602946043014526, 0.7679137587547302, 0.1732618808746338, 0.014973248355090618, 0.03208553045988083, 0.012834212742745876, 0.678039014339447, 0.22601301968097687, 0.542313814163208, 0.5155207514762878, 0.04752813279628754, 0.13579466938972473, 0.09505626559257507, 0.03394866734743118, 0.006789733190089464, 0.24443040788173676, 0.4345429241657257, 0.8929057121276855, 0.06682537496089935, 0.9021425843238831, 0.9076220989227295, 0.1109645739197731, 0.02353793941438198, 0.25555476546287537, 0.020175376906991005, 0.13113994896411896, 0.07397638261318207, 0.013450250960886478, 0.11432714015245438, 0.25555476546287537, 0.8483512997627258, 0.8786376714706421, 0.10657905787229538, 0.5565795302391052, 0.3315792977809906, 0.9720857739448547, 0.4863746166229248, 0.0911952406167984, 0.273585706949234, 0.1215936541557312, 0.015047029592096806, 0.04514108970761299, 0.327272891998291, 0.2482759952545166, 0.037617575377225876, 0.0037617573980242014, 0.011285272426903248, 0.07523515075445175, 0.23322896659374237, 0.24894610047340393, 0.027660677209496498, 0.12170697748661041, 0.060853488743305206, 0.3540566563606262, 0.18256047368049622, 0.9921311736106873, 0.8575628399848938, 0.4973343312740326, 0.6889991164207458, 0.5805025100708008, 0.25973576307296753, 0.7359180450439453, 0.8245893716812134, 0.7206565737724304, 0.8818913698196411, 0.9818505048751831, 0.9870579242706299, 0.9964655637741089, 0.9475350379943848, 0.9639511108398438, 0.7377374768257141, 0.9808804392814636, 0.8140643835067749, 0.8007228970527649, 0.058333419263362885, 0.04666673764586449, 0.3383338451385498, 0.5483341813087463, 0.9150020480155945, 0.9445503950119019, 0.9956524968147278, 0.1495964527130127, 0.4101838171482086, 0.006434256210923195, 0.23806747794151306, 0.19624480605125427, 0.9779998660087585, 0.004036847967654467, 0.29334428906440735, 0.1426353007555008, 0.00269123213365674, 0.07535449415445328, 0.17493008077144623, 0.07535449415445328, 0.004036847967654467, 0.004036847967654467, 0.22068102657794952, 0.951119065284729, 0.010686906054615974, 0.13892978429794312, 0.6447767019271851, 0.05343453213572502, 0.07124604284763336, 0.07837064564228058, 0.0735122337937355, 0.29098594188690186, 0.6126019954681396, 0.012252039276063442, 0.009189029224216938, 0.031087175011634827, 0.8626691102981567, 0.10103331506252289, 0.8685752153396606, 0.13134552538394928, 0.8551024794578552, 0.9031022191047668, 0.9393730163574219, 0.011124853976070881, 0.10012368857860565, 0.12237340211868286, 0.30037108063697815, 0.2113722264766693, 0.25587165355682373, 0.08592415601015091, 0.13236965239048004, 0.04063980653882027, 0.05805686488747597, 0.008127961307764053, 0.6653316617012024, 0.009289097972214222, 0.9957090020179749, 0.6516883969306946, 0.03507350757718086, 0.30547893047332764, 0.006788420956581831, 0.9214919805526733, 0.07371935993432999, 0.862369954586029, 0.02454802393913269, 0.12274011969566345, 0.09410075843334198, 0.7568974494934082, 0.9433025121688843, 0.9903978705406189, 0.9814587235450745, 0.5606151223182678, 0.4336833655834198, 0.8039849996566772, 0.29265615344047546, 0.6828643679618835, 0.9825707077980042, 0.9886268973350525, 0.9277782440185547, 0.7282640933990479, 0.05291939154267311, 0.08567901700735092, 0.007559913210570812, 0.1612781435251236, 0.022679738700389862, 0.08567901700735092, 0.045359477400779724, 0.025199711322784424, 0.005039941985160112, 0.03275962546467781, 0.015119826421141624, 0.4611546993255615, 0.9780921936035156, 0.11972605437040329, 0.4489727020263672, 0.4489727020263672, 0.13002602756023407, 0.367132306098938, 0.14532320201396942, 0.31359216570854187, 0.04589153826236725, 0.9857363104820251, 0.7774771451950073, 0.22028519213199615, 0.9909529089927673, 0.03557337075471878, 0.9640383124351501, 0.9896809458732605, 0.04690597206354141, 0.3835253119468689, 0.07449772208929062, 0.4938923120498657, 0.15598517656326294, 0.15598517656326294, 0.682435154914856, 0.36016690731048584, 0.5402503609657288, 0.9580108523368835, 0.9373156428337097, 0.05291298031806946, 0.9600239992141724, 0.4475436210632324, 0.4475436210632324, 0.037702690809965134, 0.46657079458236694, 0.06597971171140671, 0.037702690809965134, 0.037702690809965134, 0.14138509333133698, 0.09896956384181976, 0.018851345404982567, 0.09425672888755798, 0.8103796243667603, 0.9170249104499817, 0.7349269986152649, 0.9388977885246277, 0.09510642290115356, 0.30434054136276245, 0.019021283835172653, 0.5896598100662231, 0.953840970993042, 0.6971359848976135, 0.9668274521827698, 0.06645750254392624, 0.11392714828252792, 0.5221661329269409, 0.11392714828252792, 0.1708907186985016, 0.9034134745597839, 0.10142815858125687, 0.01352375466376543, 0.0608568973839283, 0.3313319981098175, 0.5003789067268372, 0.9440942406654358, 0.8992552757263184, 0.5831457376480103, 0.9588021636009216, 0.9388778805732727, 0.955259382724762, 0.6994051337242126, 0.23313504457473755, 0.7732528448104858, 0.13684077560901642, 0.8210446238517761, 0.7450444102287292, 0.39394545555114746, 0.5909181833267212, 0.8637863993644714, 0.9656516313552856, 0.961891770362854, 0.9836196303367615, 0.9388778805732727, 0.9592652320861816, 0.9876218438148499, 0.8770283460617065, 0.8106806874275208, 0.5749436616897583, 0.9186063408851624, 0.7617393732070923, 0.12695656716823578, 0.9293386936187744, 0.041925422847270966, 0.9538034200668335, 0.8531755208969116, 0.08531755208969116, 0.8906811475753784, 0.2533029019832611, 0.1670721173286438, 0.5712788701057434, 0.889542818069458, 0.9861212372779846, 0.6903765797615051, 0.5155207514762878, 0.9798462986946106, 0.984595537185669, 0.6732237339019775, 0.18015676736831665, 0.07206270843744278, 0.0440383218228817, 0.32828566431999207, 0.12410799413919449, 0.25221946835517883, 0.980929434299469, 0.02745288796722889, 0.29283079504966736, 0.3202836811542511, 0.009150962345302105, 0.29283079504966736, 0.0457548126578331, 0.07538352161645889, 0.3643536865711212, 0.0062819598242640495, 0.050255678594112396, 0.14448507130146027, 0.025127839297056198, 0.2324325144290924, 0.10051135718822479, 0.975275456905365, 0.9633243680000305, 0.398152232170105, 0.34127333760261536, 0.11849769204854965, 0.009479815140366554, 0.04739907383918762, 0.033179353922605515, 0.04739907383918762, 0.903450608253479, 0.46060654520988464, 0.1607571840286255, 0.08869361877441406, 0.0776069164276123, 0.06652021408081055, 0.238364115357399, 0.011086702346801758, 0.13858377933502197, 0.03326010704040527, 0.182930588722229, 0.7887799143791199, 0.18460805714130402, 0.016782550141215324, 0.1445159912109375, 0.8464508056640625, 0.6023200750350952, 0.8984066247940063, 0.9455488324165344, 0.04839659482240677, 0.24198298156261444, 0.15838885307312012, 0.3079783320426941, 0.03959721326828003, 0.13639040291309357, 0.06159566715359688, 0.05767032131552696, 0.9227251410484314, 0.7157865762710571, 0.035789329558610916, 0.2147359699010849, 0.7657631635665894, 0.12150416523218155, 0.3402116596698761, 0.08262283354997635, 0.06318216770887375, 0.1749660074710846, 0.21870750188827515, 0.07015970349311829, 0.18041066825389862, 0.07517111301422119, 0.17539925873279572, 0.5011407732963562, 0.7412945628166199, 0.3095190227031708, 0.6190380454063416, 0.9620018601417542, 0.10183263570070267, 0.23760947585105896, 0.6449400186538696, 0.9456591606140137, 0.7450444102287292, 0.979891300201416, 0.04804731532931328, 0.10570409148931503, 0.05125046893954277, 0.022422080859541893, 0.16656403243541718, 0.41320690512657166, 0.1921892613172531, 0.8837334513664246, 0.033891793340444565, 0.03189815953373909, 0.5980904698371887, 0.20534439384937286, 0.003987269941717386, 0.04186633229255676, 0.007974539883434772, 0.04585360363125801, 0.001993634970858693, 0.029904523864388466, 0.001993634970858693, 0.8555464744567871, 0.9472261071205139, 0.23388755321502686, 0.38006725907325745, 0.021926958113908768, 0.058471888303756714, 0.263123482465744, 0.043853916227817535, 0.8885875940322876, 0.9947688579559326, 0.9729528427124023, 0.9396235942840576, 0.9376361966133118, 0.972472071647644, 0.09275892376899719, 0.8990480303764343, 0.9665024280548096, 0.8532612919807434, 0.121894471347332, 0.2407921850681305, 0.7442667484283447, 0.9388778805732727, 0.9904989004135132, 0.993506669998169, 0.9185702204704285, 0.8409172296524048, 0.9222962856292725, 0.9797119498252869, 0.9028640985488892, 0.5086990594863892, 0.24096271395683289, 0.10709453374147415, 0.10709453374147415, 0.9401206374168396, 0.9864635467529297, 0.8033162951469421, 0.9627891182899475, 0.9247064590454102, 0.9815222024917603, 0.8033162951469421, 0.7845135927200317, 0.10460181534290314, 0.03486727178096771, 0.06973454356193542, 0.0738179013133049, 0.0738179013133049, 0.4639982581138611, 0.37963494658470154, 0.0672784075140953, 0.9082585573196411, 0.982729971408844, 0.9229634404182434, 0.7401570081710815, 0.2569456994533539, 0.9135814905166626, 0.9716062545776367, 0.25564321875572205, 0.34653860330581665, 0.05965008586645126, 0.13066209852695465, 0.028404803946614265, 0.17610977590084076, 0.9293332695960999, 0.8517279624938965, 0.8517955541610718, 0.8954182863235474, 0.9863904714584351, 0.7117519378662109, 0.2755168676376343, 0.9874193668365479, 0.05254477262496948, 0.1758228987455368, 0.19199052453041077, 0.050523821264505386, 0.03435619920492172, 0.050523821264505386, 0.0869009718298912, 0.012125716544687748, 0.1778438538312912, 0.010104764252901077, 0.002020952757447958, 0.07679620385169983, 0.08083811402320862, 0.5155207514762878, 0.6312026977539062, 0.13676059246063232, 0.21829093992710114, 0.010520045645534992, 0.758660614490509, 0.9798192977905273, 0.10042866319417953, 0.8536436557769775, 0.9848929643630981, 0.9683126211166382, 0.013601502403616905, 0.2085563689470291, 0.7752856016159058, 0.07609106600284576, 0.4099099040031433, 0.04909100756049156, 0.3485461473464966, 0.11290931701660156, 0.9747948050498962, 0.9924770593643188, 0.5408613681793213, 0.9814438223838806, 0.0017997578252106905, 0.05219297856092453, 0.4391409158706665, 0.08818813413381577, 0.03059588372707367, 0.09358740597963333, 0.007199031300842762, 0.0413944311439991, 0.028796125203371048, 0.01979733631014824, 0.1403811126947403, 0.055792491883039474, 0.5442797541618347, 0.1088559553027153, 0.3265678584575653, 0.9646505117416382, 0.5155207514762878, 0.8248010277748108, 0.03103681281208992, 0.08556094765663147, 0.01845432072877884, 0.4772958755493164, 0.05452413111925125, 0.2784924805164337, 0.05452413111925125, 0.0008388328133150935, 0.072003073990345, 0.031815312802791595, 0.7217052578926086, 0.0033489803317934275, 0.11051634699106216, 0.015070411376655102, 0.04353674128651619, 0.9898307919502258, 0.9696778059005737, 0.08587592095136642, 0.8873844742774963, 0.864691436290741, 0.9141823649406433, 0.9839180707931519, 0.8977160453796387, 0.7349690794944763, 0.5949438810348511, 0.29747194051742554, 0.5831457376480103, 0.8905512094497681, 0.578122079372406, 0.01864909939467907, 0.3916310966014862, 0.08620591461658478, 0.8620591759681702, 0.9704075455665588, 0.5611456632614136, 0.5611456632614136, 0.010180993005633354, 0.2873302400112152, 0.10633481293916702, 0.09162893146276474, 0.005656106863170862, 0.11990947276353836, 0.2567872703075409, 0.007918549701571465, 0.03619908541440964, 0.00904977135360241, 0.0678732842206955, 0.5391830205917358, 0.44931918382644653, 0.729728639125824, 0.9742987751960754, 0.9743988513946533, 0.9782652854919434, 0.9933567047119141, 0.5827623009681702, 0.9604806303977966, 0.24780791997909546, 0.715889573097229, 0.9424722194671631, 0.7799088954925537, 0.9609630703926086, 0.9554880261421204, 0.794400155544281, 0.033516526222229004, 0.15641044080257416, 0.022344348952174187, 0.05213681608438492, 0.2457878440618515, 0.31654495000839233, 0.17503073811531067, 0.9604915380477905, 0.022337011992931366, 0.9511293768882751, 0.5297612547874451, 0.9376583695411682, 0.9662151336669922, 0.05067993700504303, 0.070951908826828, 0.8615589141845703, 0.5155207514762878, 0.5048966407775879, 0.5155207514762878, 0.5155207514762878, 0.8614180684089661, 0.9588983654975891, 0.10544606298208237, 0.8435685038566589, 0.9816811084747314, 0.99529629945755, 0.4391401708126068, 0.5646088123321533, 0.9859240651130676, 0.7106567025184631, 0.021213633939623833, 0.2651704251766205, 0.12358299642801285, 0.4943319857120514, 0.37074899673461914, 0.012382048182189465, 0.0261398795992136, 0.008254698477685452, 0.015133613720536232, 0.0027515662368386984, 0.22906789183616638, 0.5255491137504578, 0.011006264947354794, 0.11487788707017899, 0.002063674619421363, 0.0006878915592096746, 0.010318373329937458, 0.04127349331974983, 0.6443299055099487, 0.982226550579071, 0.9938945770263672, 0.9956324100494385, 0.9860185384750366, 0.8611640930175781, 0.9961647391319275, 0.9136585593223572, 0.8483791947364807, 0.5155207514762878, 0.15527582168579102, 0.3299611210823059, 0.3736324608325958, 0.04852369427680969, 0.04852369427680969, 0.038818955421447754, 0.6813937425613403, 0.013041028752923012, 0.006520514376461506, 0.07172565907239914, 0.07824616879224777, 0.1467115730047226, 0.9630841016769409, 0.03919243440032005, 0.09948848187923431, 0.6662713289260864, 0.08441446721553802, 0.03014802560210228, 0.07537006586790085, 0.006029604934155941, 0.991693377494812, 0.9397907853126526, 0.05149538442492485, 0.07033485174179077, 0.07447219640016556, 0.3392622172832489, 0.17790579795837402, 0.04964813217520714, 0.2854767441749573, 0.963072657585144, 0.016137894243001938, 0.08068946748971939, 0.14524105191230774, 0.7584810256958008, 0.9912535548210144, 0.37046384811401367, 0.0411626473069191, 0.22639456391334534, 0.3293011784553528, 0.059380676597356796, 0.5463021993637085, 0.380036324262619, 0.12616880238056183, 0.599301815032959, 0.25233760476112366, 0.9900517463684082, 0.02029329352080822, 0.03720436990261078, 0.15107229351997375, 0.27057725191116333, 0.11950495094060898, 0.07440873980522156, 0.015783673152327538, 0.10710348933935165, 0.015783673152327538, 0.18827666342258453, 0.7947078347206116, 0.16317667067050934, 0.2284473329782486, 0.5792771577835083, 0.02447650022804737, 0.9869846105575562, 0.0186125747859478, 0.514172375202179, 0.053511153906583786, 0.006979716010391712, 0.3047809302806854, 0.05816429853439331, 0.020939147099852562, 0.020939147099852562, 0.5827623009681702, 0.8762251138687134, 0.997654139995575, 0.8245704770088196, 0.9772080183029175, 0.7377374768257141, 0.9911062717437744, 0.9530565142631531, 0.4654982388019562, 0.8880010843276978, 0.682458758354187, 0.8225710391998291, 0.886164665222168, 0.03616998717188835, 0.05425497889518738, 0.6337984800338745, 0.9869365096092224, 0.7471334338188171, 0.18265829980373383, 0.005708071868866682, 0.15982601046562195, 0.15031255781650543, 0.07991300523281097, 0.06849686056375504, 0.0019026906229555607, 0.3519977629184723, 0.9779230952262878, 0.9896025657653809, 0.9370136260986328, 0.07207797467708588, 0.020009148865938187, 0.8767644762992859, 0.10368376970291138, 0.8529996275901794, 0.9899558424949646, 0.9860008955001831, 0.9891915917396545, 0.577742874622345, 0.15406477451324463, 0.02824520692229271, 0.041083939373493195, 0.19001321494579315, 0.007703238632529974, 0.9500178098678589, 0.9101667404174805, 0.04790351167321205, 0.9838526248931885, 0.8733598589897156, 0.12268853932619095, 0.8534855246543884, 0.02400428056716919, 0.07571785897016525, 0.9170273542404175, 0.9834662079811096, 0.9897341728210449, 0.0006697098724544048, 0.026788396760821342, 0.24779266119003296, 0.06496185809373856, 0.13327227532863617, 0.1741245687007904, 0.06898012012243271, 0.004687969107180834, 0.1647486388683319, 0.030806655064225197, 0.0174124576151371, 0.004018259234726429, 0.0609435997903347, 0.018507925793528557, 0.22826442122459412, 0.6416081190109253, 0.11104755848646164, 0.567841112613678, 0.43264082074165344, 0.974868893623352, 0.07506626099348068, 0.07309083640575409, 0.18173937499523163, 0.17778851091861725, 0.22322335839271545, 0.06716454774141312, 0.10864853858947754, 0.003950855694711208, 0.08691883087158203, 0.9921485781669617, 0.7632917761802673, 0.23455320298671722, 0.9798192977905273, 0.34954771399497986, 0.03177706524729729, 0.6355412602424622, 0.9893415570259094, 0.4792383313179016, 0.9833005666732788, 0.8903276324272156, 0.10543353855609894, 0.008123739622533321, 0.16897377371788025, 0.10560861229896545, 0.04549293965101242, 0.4614284038543701, 0.00487424386665225, 0.016247479245066643, 0.14460256695747375, 0.032494958490133286, 0.012997983023524284, 0.5827623009681702, 0.9537992477416992, 0.5377249121665955, 0.9593729972839355, 0.9243012070655823, 0.8466460704803467, 0.8655794262886047, 0.9958898425102234, 0.9922430515289307, 0.9388778805732727, 0.9164379835128784, 0.9343759417533875, 0.9863904118537903, 0.9877670407295227, 0.966152012348175, 0.7207715511322021, 0.9395594596862793, 0.9361252188682556, 0.6528176069259644, 0.34195205569267273, 0.04078381508588791, 0.12642982602119446, 0.04486219957470894, 0.787127673625946, 0.9841218590736389, 0.9860724806785583, 0.22776633501052856, 0.2652807831764221, 0.11254336684942245, 0.002679603872820735, 0.018757227808237076, 0.2947564423084259, 0.0750289112329483, 0.9170249104499817, 0.29562950134277344, 0.24762128293514252, 0.0025267477612942457, 0.04042796418070793, 0.10106991231441498, 0.0707489401102066, 0.0353744700551033, 0.13139088451862335, 0.03284772112965584, 0.042954713106155396, 0.08836228400468826, 0.3408259451389313, 0.11992023885250092, 0.2777100205421448, 0.17041297256946564, 0.7450444102287292, 0.9579612612724304, 0.6790339350700378, 0.9656432271003723, 0.02444666437804699, 0.9609132409095764, 0.10725117474794388, 0.034698907285928726, 0.757067084312439, 0.08832449465990067, 0.015772230923175812, 0.7301970720291138, 0.23366306722164154, 0.08637944608926773, 0.0370197631418705, 0.13573913276195526, 0.4565770626068115, 0.28381818532943726, 0.7651717662811279, 0.03560139611363411, 0.48259666562080383, 0.06329137086868286, 0.11075989156961441, 0.027689972892403603, 0.2768997251987457, 0.9868394732475281, 0.023869948461651802, 0.044159404933452606, 0.0005967487231828272, 0.2082653045654297, 0.16350914537906647, 0.0002983743615914136, 0.557960033416748, 0.0008951231138780713, 0.0002983743615914136, 0.7277621030807495, 0.15860898792743683, 0.7533926963806152, 0.07930449396371841, 0.9939248561859131, 0.7291279435157776, 0.24304264783859253, 0.03085698001086712, 0.01542849000543356, 0.22371311485767365, 0.0115713682025671, 0.01542849000543356, 0.19285613298416138, 0.5014259219169617, 0.05909149721264839, 0.9454639554023743, 0.9752388000488281, 0.7557111978530884, 0.23750923573970795, 0.9211487770080566, 0.8662719130516052, 0.048191849142313004, 0.030397936701774597, 0.3032379448413849, 0.06005445867776871, 0.011862609535455704, 0.09415946155786514, 0.041519131511449814, 0.020759565755724907, 0.0007414130959659815, 0.08303826302289963, 0.0007414130959659815, 0.14086848497390747, 0.1631108820438385, 0.5155207514762878, 0.01837819814682007, 0.024504264816641808, 0.4717071056365967, 0.48395922780036926, 0.03437894582748413, 0.18094182014465332, 0.11218392848968506, 0.05066370964050293, 0.05609196424484253, 0.15922880172729492, 0.027141273021697998, 0.3763589859008789, 0.5827623009681702, 0.9910407066345215, 0.03348849341273308, 0.06440094858407974, 0.8397883176803589, 0.06182490661740303, 0.9932323098182678, 0.9803979396820068, 0.9968011975288391, 0.012134300544857979, 0.1294325441122055, 0.014156684279441833, 0.7219908833503723, 0.07887295633554459, 0.022246217355132103, 0.020223835483193398, 0.9178309440612793, 0.07138685137033463, 0.9528732299804688, 0.028874946758151054, 0.8028210401535034, 0.043450579047203064, 0.043450579047203064, 0.1303517371416092, 0.7603851556777954, 0.8544080257415771, 0.9541804194450378, 0.9395594596862793, 0.9778792262077332, 0.14149297773838043, 0.08191698044538498, 0.3512501120567322, 0.0037234993651509285, 0.08191698044538498, 0.16383396089076996, 0.17624562978744507, 0.8449879884719849, 0.9661274552345276, 0.9787522554397583, 0.8301391005516052, 0.16180677711963654, 0.6508011221885681, 0.9394518733024597, 0.12306171655654907, 0.8768147230148315, 0.8401129245758057, 0.8401129245758057, 0.7126570343971252, 0.9917382001876831, 0.9749881029129028, 0.4779362380504608, 0.6772347688674927, 0.07967468351125717, 0.019918670877814293, 0.21910537779331207, 0.7390142679214478, 0.24633808434009552, 0.1034126803278923, 0.8273014426231384, 0.10202626138925552, 0.0906900092959404, 0.1813800185918808, 0.12469875812530518, 0.13981376588344574, 0.06801750510931015, 0.16626501083374023, 0.12469875812530518, 0.9170249104499817, 0.39510098099708557, 0.39510098099708557, 0.046038124710321426, 0.9437815546989441, 0.9500856995582581, 0.0781746506690979, 0.2779543101787567, 0.0781746506690979, 0.21715180575847626, 0.3474428951740265, 0.9902348518371582, 0.7189593315124512, 0.9273586273193359, 0.2745283544063568, 0.09516982734203339, 0.06588680297136307, 0.06588680297136307, 0.09150944650173187, 0.12811322510242462, 0.09516982734203339, 0.17935852706432343, 0.9834780693054199, 0.9686461687088013, 0.9004467129707336, 0.0014215457485988736, 0.706508219242096, 0.009950820356607437, 0.07534192502498627, 0.004264637362211943, 0.20043794810771942, 0.9158099889755249, 0.014377173967659473, 0.28311973810195923, 0.5972056984901428, 0.10064022243022919, 0.0033178094308823347, 0.0005337870679795742, 0.9891074299812317, 0.010141953825950623, 0.671561062335968, 0.17955924570560455, 0.011461228132247925, 0.0916898250579834, 0.6876736879348755, 0.02674286626279354, 0.1071394607424736, 0.0637734904885292, 0.16581107676029205, 0.6530405282974243, 0.010203758254647255, 0.9486229419708252, 0.033879391849040985, 0.644893229007721, 0.9173116683959961, 0.0352812185883522, 0.9595683813095093, 0.05747940391302109, 0.2759011387825012, 0.09196704626083374, 0.126454696059227, 0.2644052505493164, 0.17243821918964386, 0.9916582703590393, 0.9170247316360474, 0.6732237339019775, 0.9989628791809082, 0.9990147948265076, 0.9826269149780273, 0.7511014342308044, 0.8511571288108826, 0.07229604572057724, 0.06687384843826294, 0.06506644189357758, 0.623553454875946, 0.17170311510562897, 0.01108549814671278, 0.9866092801094055, 0.0693257674574852, 0.01824362389743328, 0.9121811985969543, 0.7851719260215759, 0.9415299296379089, 0.1055571436882019, 0.12666857242584229, 0.12666857242584229, 0.09289028495550156, 0.07600114494562149, 0.03166714310646057, 0.20478086173534393, 0.03588942810893059, 0.19422514736652374, 0.006333428435027599, 0.9607362151145935, 0.9920550584793091, 0.9764935970306396, 0.9824647903442383, 0.1229342594742775, 0.4341115951538086, 0.4417949914932251, 0.02627934142947197, 0.5847153663635254, 0.12811179459095, 0.09526260942220688, 0.003284917678683996, 0.05255868285894394, 0.022994423285126686, 0.059128519147634506, 0.02627934142947197, 0.2697669565677643, 0.03073294274508953, 0.6044145226478577, 0.09219882637262344, 0.9828547835350037, 0.9911301136016846, 0.9302743077278137, 0.9216738343238831, 0.8041336536407471, 0.9826653599739075, 0.9917149543762207, 0.9797667860984802, 0.1291312426328659, 0.1434791535139084, 0.0717395767569542, 0.6456562280654907, 0.576332151889801, 0.06174987182021141, 0.3499159514904022, 0.5749436616897583, 0.9940388798713684, 0.8586232662200928, 0.09967131167650223, 0.8970417976379395, 0.5455849170684814, 0.995310366153717, 0.9717456102371216, 0.532649040222168, 0.4687311351299286, 0.9715432524681091, 0.9553202390670776, 0.9927000403404236, 0.7778258919715881, 0.9943782687187195, 0.9785415530204773, 0.32485607266426086, 0.0427442230284214, 0.14105592668056488, 0.07266517728567123, 0.24791648983955383, 0.16670246422290802, 0.9943494200706482, 0.8524875640869141, 0.9617118835449219, 0.6443412899971008, 0.3523741364479065, 0.9028412103652954, 0.026123983785510063, 0.04512324556708336, 0.19711734354496002, 0.06649741530418396, 0.11874538660049438, 0.03324870765209198, 0.026123983785510063, 0.13536973297595978, 0.011874537914991379, 0.3372368812561035, 0.12283537536859512, 0.5527591705322266, 0.16191935539245605, 0.11725194752216339, 0.03908398374915123, 0.9736862778663635, 0.9821818470954895, 0.9138058423995972, 0.057345200330019, 0.003245954867452383, 0.3646289110183716, 0.22613485157489777, 0.041115425527095795, 0.28348004817962646, 0.023803668096661568, 0.004559449851512909, 0.7192531824111938, 0.08434981852769852, 0.18123812973499298, 0.010258762165904045, 0.4466151297092438, 0.17993126809597015, 0.10281787067651749, 0.18635737895965576, 0.08032646030187607, 0.9854007959365845, 0.8361209034919739, 0.8029724955558777, 0.6408828496932983, 0.06408828496932983, 0.08011035621166229, 0.08011035621166229, 0.11215449869632721, 0.8743235468864441, 0.0305116456001997, 0.9458609819412231, 0.9286181926727295, 0.9572824239730835, 0.025872496888041496, 0.24107494950294495, 0.6368696093559265, 0.12233653664588928, 0.16438764333724976, 0.16438764333724976, 0.24225547909736633, 0.23360350728034973, 0.19034358859062195, 0.9797449111938477, 0.005295329261571169, 0.13326579332351685, 0.5833687782287598, 0.26300135254859924, 0.01500343345105648, 0.9518506526947021, 0.9422013163566589, 0.857877254486084, 0.14145848155021667, 0.9723665118217468, 0.01901424303650856, 0.136268749833107, 0.025352325290441513, 0.3264111876487732, 0.06654985249042511, 0.15528298914432526, 0.269368439912796, 0.036051779985427856, 0.3965695798397064, 0.11716828495264053, 0.36051779985427856, 0.07210355997085571, 0.944612979888916, 0.030228648334741592, 0.2398139387369156, 0.03627437725663185, 0.546130895614624, 0.02821340598165989, 0.11889935284852982, 0.16880406439304352, 0.7877523303031921, 0.2677450478076935, 0.7076119184494019, 0.8109637498855591, 0.033090222626924515, 0.24266164004802704, 0.3198721706867218, 0.2316315770149231, 0.16545112431049347, 0.7829526662826538, 0.19573816657066345, 0.5400261282920837, 0.36001741886138916, 0.3833712041378021, 0.045947108417749405, 0.03446033224463463, 0.3029637634754181, 0.16655828058719635, 0.06604897230863571, 0.1604958474636078, 0.8356852531433105, 0.17569349706172943, 0.0030291981529444456, 0.22113147377967834, 0.24536505341529846, 0.3544161915779114, 0.9060157537460327, 0.9711567759513855, 0.2500421702861786, 0.5000843405723572, 0.9064261317253113, 0.16467638313770294, 0.247014582157135, 0.5351982712745667, 0.8655794262886047, 0.5749436020851135, 0.9588983654975891, 0.980674147605896, 0.9803179502487183, 0.37843289971351624, 0.592546284198761, 0.02738659270107746, 0.9874497652053833, 0.9292564988136292, 0.005396535154432058, 0.4155332148075104, 0.2590337097644806, 0.005396535154432058, 0.16459432244300842, 0.008094803430140018, 0.14300818741321564, 0.5969436764717102, 0.33163538575172424, 0.960568368434906, 0.9419277310371399, 0.9825658202171326, 0.9793025851249695, 0.9031022191047668, 0.616513192653656, 0.9559020400047302, 0.9370924234390259, 0.031579215079545975, 0.9631660580635071, 0.8114486336708069, 0.15005095303058624, 0.6502208113670349, 0.200067937374115, 0.921402633190155, 0.802680253982544, 0.3764176368713379, 0.3860693871974945, 0.20268641412258148, 0.03860693797469139, 0.937998354434967, 0.9756861925125122, 0.8262397646903992, 0.9548776149749756, 0.9907744526863098, 0.9306855201721191, 0.06418520957231522, 0.9681004881858826, 0.981821596622467, 0.992535412311554, 0.5575535297393799, 0.052562031894922256, 0.21024812757968903, 0.07008270919322968, 0.17520678043365479, 0.05840225890278816, 0.03504135459661484, 0.2978515028953552, 0.09928383678197861, 0.09368909895420074, 0.511031448841095, 0.136275053024292, 0.068137526512146, 0.19589540362358093, 0.316238671541214, 0.037948641926050186, 0.3541873097419739, 0.2909395694732666, 0.7588763236999512, 0.1544615477323532, 0.08058863133192062, 0.9863703846931458, 0.9640983939170837, 0.9376739263534546, 0.12799279391765594, 0.7679567337036133, 0.4717869162559509, 0.5167189836502075, 0.7084352374076843, 0.2951813340187073, 0.7800531983375549, 0.9678663611412048, 0.9200862050056458, 0.978493332862854, 0.9834699630737305, 0.009523004293441772, 0.9618234038352966, 0.028569012880325317, 0.8621618151664734, 0.9716001152992249, 0.902955949306488, 0.16148388385772705, 0.07707185298204422, 0.06973167508840561, 0.014680352061986923, 0.6789662837982178, 0.625554621219635, 0.9844964742660522, 0.24887274205684662, 0.13574877381324768, 0.599557101726532, 0.4848843514919281, 0.4848843514919281, 0.9876123070716858, 0.974388599395752, 0.909286618232727, 0.951004683971405, 0.13077300786972046, 0.040237851440906525, 0.030178386718034744, 0.4828541874885559, 0.221308171749115, 0.08047570288181305, 0.9624902606010437, 0.7412945628166199, 0.021969206631183624, 0.032953809946775436, 0.010984603315591812, 0.0878768265247345, 0.20870746672153473, 0.1867382526397705, 0.15927675366401672, 0.060415320098400116, 0.21419976651668549, 0.016476904973387718, 0.7944719791412354, 0.8921066522598267, 0.11916723847389221, 0.17875085771083832, 0.20854265987873077, 0.4468771517276764, 0.7692059874534607, 0.9202012419700623, 0.8590382933616638, 0.6830538511276245, 0.7450444102287292, 0.12223971635103226, 0.11194584518671036, 0.374439537525177, 0.048895884305238724, 0.3409844636917114, 0.954133927822113, 0.994879961013794, 0.2414938062429428, 0.6774106025695801, 0.03274492174386978, 0.04707082733511925, 0.8685481548309326, 0.9455136656761169, 0.9869365692138672, 0.39645248651504517, 0.5946787595748901, 0.8033162951469421, 0.15081630647182465, 0.6491658687591553, 0.029507538303732872, 0.07540815323591232, 0.0918012335896492, 0.9649394154548645, 0.8450870513916016, 0.0807408019900322, 0.0753580778837204, 0.9747492671012878, 0.9538371562957764, 0.028710829094052315, 0.9679651260375977, 0.6674336194992065, 0.9884268641471863, 0.8720312714576721, 0.5428245067596436, 0.9252298474311829, 0.8827147483825684, 0.9515941739082336, 0.08175011724233627, 0.050104912370443344, 0.30062946677207947, 0.5274201035499573, 0.03691940754652023, 0.008332311175763607, 0.9832127690315247, 0.8401129245758057, 0.9751855134963989, 0.1989213079214096, 0.014208665117621422, 0.009472443722188473, 0.16576775908470154, 0.20365753769874573, 0.1610315442085266, 0.24154730141162872, 0.4815313518047333, 0.341449499130249, 0.13132673501968384, 0.04377557709813118, 0.4392305314540863, 0.1351478546857834, 0.16893482208251953, 0.14359459280967712, 0.10980763286352158, 0.9943116307258606, 0.8762251138687134, 0.05667426809668541, 0.33515989780426025, 0.045925699174404144, 0.34493130445480347, 0.15243422985076904, 0.06058283895254135, 0.003908569924533367, 0.2848816215991974, 0.6837158799171448, 0.0284881629049778, 0.8555464744567871, 0.4858837425708771, 0.8880010843276978, 0.9832726716995239, 0.12714481353759766, 0.5574811100959778, 0.05134694278240204, 0.26162490248680115, 0.982642650604248, 0.8055550456047058, 0.16584956645965576, 0.028431354090571404, 0.9711636900901794, 0.9987025856971741, 0.9855161309242249, 0.021300330758094788, 0.22631601989269257, 0.6895982027053833, 0.010650165379047394, 0.04792574420571327, 0.011534043587744236, 0.35986214876174927, 0.06920425593852997, 0.14763575792312622, 0.18685150146484375, 0.02076127752661705, 0.20069235563278198, 0.9679563045501709, 0.8706813454627991, 0.5299317240715027, 0.01945839636027813, 0.12972263991832733, 0.361601859331131, 0.3875463902950287, 0.10053504258394241, 0.9817326664924622, 0.982642650604248, 0.11348467320203781, 0.699822187423706, 0.01891411282122135, 0.1513129025697708, 0.5981390476226807, 0.21045632660388947, 0.14953476190567017, 0.03876826912164688, 0.15706659853458405, 0.5226526260375977, 0.23018380999565125, 0.08665743470191956, 0.9624903202056885, 0.9775922894477844, 0.9432094097137451, 0.7353084087371826, 0.8856655359268188, 0.9541617035865784, 0.9729074835777283, 0.08091944456100464, 0.9103437662124634, 0.9398905634880066, 0.9707894325256348, 0.5435469746589661, 0.25365525484085083, 0.07247292995452881, 0.10870938748121262, 0.989858865737915, 0.910120964050293, 0.7692059874534607, 0.18179218471050262, 0.7726168036460876, 0.98665452003479, 0.9170249104499817, 0.9681317210197449, 0.66451495885849, 0.10798368602991104, 0.15782231092453003, 0.04983862489461899, 0.01661287434399128, 0.8476594686508179, 0.2170814722776413, 0.6512444019317627, 0.9799014925956726, 0.03110039047896862, 0.1591608226299286, 0.0036588693037629128, 0.04573586583137512, 0.5854191184043884, 0.0036588693037629128, 0.111595518887043, 0.0073177386075258255, 0.05122417211532593, 0.961488664150238, 0.7951814532279968, 0.1883324533700943, 0.9766897559165955, 0.07727979868650436, 0.22079941630363464, 0.033119913190603256, 0.022079942747950554, 0.06623982638120651, 0.3643190562725067, 0.2097594439983368, 0.9939399361610413, 0.9033748507499695, 0.2628273069858551, 0.2628273069858551, 0.39424094557762146, 0.6443299055099487, 0.9590349197387695, 0.9866452217102051, 0.9452371001243591, 0.9735670685768127, 0.23545128107070923, 0.26161253452301025, 0.4970638155937195, 0.9942482709884644, 0.014520369470119476, 0.058081477880477905, 0.8179808259010315, 0.0096802469342947, 0.0387209877371788, 0.0387209877371788, 0.014520369470119476, 0.00484012346714735, 0.9856835007667542, 0.8953611254692078, 0.6153618693351746, 0.8562759160995483, 0.9541550278663635, 0.998435378074646, 0.9782881140708923, 0.47543078660964966, 0.0279448963701725, 0.0838346853852272, 0.44711834192276, 0.055889792740345, 0.363283634185791, 0.9815266728401184, 0.8128846883773804, 0.680698812007904, 0.3116452395915985, 0.8758436441421509, 0.08341367542743683, 0.010426709428429604, 0.020853418856859207, 0.9634202718734741, 0.7060889601707458, 0.9374571442604065, 0.9518626928329468, 0.6721466183662415, 0.978476345539093, 0.9621971249580383, 0.32407599687576294, 0.6481519937515259, 0.5864179134368896, 0.41049253940582275, 0.3569710850715637, 0.535456657409668, 0.8762251138687134, 0.9165652990341187, 0.9826379418373108, 0.9483222365379333, 0.5155207514762878, 0.09683728218078613, 0.2979608476161957, 0.5959216952323914, 0.36427533626556396, 0.36427533626556396, 0.9570397734642029, 0.9126346111297607, 0.9302427172660828, 0.9623536467552185, 0.729749858379364, 0.09785277396440506, 0.07610771805047989, 0.18483301997184753, 0.08698024600744247, 0.10872530937194824, 0.43490123748779297, 0.9742371439933777, 0.9203338027000427, 0.9388778805732727, 0.8823547959327698, 0.7323544025421143, 0.633968710899353, 0.36474913358688354, 0.993058443069458, 0.055752601474523544, 0.7247838377952576, 0.22301040589809418, 0.9886128902435303, 0.9881631135940552, 0.9763783812522888, 0.9245864748954773, 0.061089180409908295, 0.2676287889480591, 0.04363512620329857, 0.6254368424415588, 0.01567312330007553, 0.27763816714286804, 0.7052905559539795, 0.020705295726656914, 0.17599502205848694, 0.196700319647789, 0.18634766340255737, 0.37269532680511475, 0.020705295726656914, 0.020705295726656914, 0.03643196076154709, 0.2550237476825714, 0.03643196076154709, 0.1700158268213272, 0.3643196225166321, 0.13358385860919952, 0.023440131917595863, 0.293001651763916, 0.0820404589176178, 0.023440131917595863, 0.574283242225647, 0.005304827820509672, 0.31033241748809814, 0.0265241377055645, 0.19362621009349823, 0.13792552053928375, 0.005304827820509672, 0.002652413910254836, 0.22015035152435303, 0.10079172253608704, 0.978516697883606, 0.9461454153060913, 0.16150790452957153, 0.7106347680091858, 0.07106348127126694, 0.045222215354442596, 0.006460316479206085, 0.9500246047973633, 0.7500932216644287, 0.03904879465699196, 0.9371711015701294, 0.8539600372314453, 0.9515941739082336, 0.9719440340995789, 0.6649956107139587, 0.014352423138916492, 0.1722290813922882, 0.028704846277832985, 0.04784141108393669, 0.06697797030210495, 0.38101938366889954, 0.004053397569805384, 0.6120630502700806, 0.7467042803764343, 0.958016037940979, 0.8895620703697205, 0.8611640930175781, 0.9941924214363098, 0.9323444962501526, 0.9906711578369141, 0.0847739428281784, 0.9129500985145569, 0.9801766872406006, 0.189476877450943, 0.05329037085175514, 0.5684306025505066, 0.1776345670223236, 0.09667708724737167, 0.5717759132385254, 0.09391488879919052, 0.022097619250416756, 0.03590863198041916, 0.09667708724737167, 0.08010387420654297, 0.9982039332389832, 0.9668135643005371, 0.9752709269523621, 0.9894993305206299, 0.3442259728908539, 0.019123664125800133, 0.38247328996658325, 0.24860763549804688, 0.948872447013855, 0.9809145927429199, 0.6418851017951965, 0.9940385818481445, 0.6971359848976135, 0.03512435406446457, 0.15220552682876587, 0.1112271174788475, 0.5795518159866333, 0.1170811727643013, 0.9175428748130798, 0.0880691334605217, 0.1345500648021698, 0.09785459190607071, 0.18347735702991486, 0.048927295953035355, 0.3057956099510193, 0.09785459190607071, 0.04403456673026085, 0.9694120287895203, 0.9692113399505615, 0.21467232704162598, 0.4356585443019867, 0.025255566462874413, 0.32200849056243896, 0.1211932897567749, 0.14812514185905457, 0.1211932897567749, 0.6059664487838745, 0.8811028003692627, 0.1581144630908966, 0.7589493989944458, 0.09486867487430573, 0.07970501482486725, 0.8767551779747009, 0.6547814607620239, 0.32739073038101196, 0.5688128471374512, 0.4550502896308899, 0.9391444325447083, 0.9645566344261169, 0.8305909633636475, 0.5015372037887573, 0.4131515622138977, 0.08495985716581345, 0.9876189827919006, 0.45907077193260193, 0.39253878593444824, 0.006653199903666973, 0.14637039601802826, 0.8586249947547913, 0.12653420865535736, 0.009038157761096954, 0.05187692865729332, 0.07545734941959381, 0.6791161298751831, 0.042444758117198944, 0.06602518260478973, 0.08960559964179993, 0.7117640376091003, 0.24326111376285553, 0.04054351896047592, 0.20988832414150238, 0.487128883600235, 0.032892946153879166, 0.2694088816642761, 0.47588789463043213, 0.09064531326293945, 0.4305652379989624, 0.9388778805732727, 0.026101641356945038, 0.07581905275583267, 0.05717502161860466, 0.0024858706165105104, 0.22745715081691742, 0.31943437457084656, 0.04474566876888275, 0.023615770041942596, 0.0012429353082552552, 0.017401093617081642, 0.003728805808350444, 0.20011258125305176, 0.9865376949310303, 0.039189327508211136, 0.32657772302627563, 0.143694207072258, 0.039189327508211136, 0.2351359724998474, 0.20900975167751312, 0.006360427010804415, 0.1802120953798294, 0.4855125844478607, 0.27137821912765503, 0.05300355702638626, 0.0071336450055241585, 0.0010190921602770686, 0.11515741050243378, 0.3719686269760132, 0.031591854989528656, 0.02242002636194229, 0.16203564405441284, 0.003057276364415884, 0.03668731451034546, 0.04178277775645256, 0.0040763686411082745, 0.03464913368225098, 0.032610949128866196, 0.135539248585701, 0.9886921644210815, 0.9798192977905273, 0.9648264050483704, 0.9815322756767273, 0.9837120771408081, 0.11570754647254944, 0.07603638619184494, 0.013223719783127308, 0.1752142757177353, 0.013223719783127308, 0.013223719783127308, 0.19504986703395844, 0.0396711602807045, 0.013223719783127308, 0.34381669759750366, 0.07783345878124237, 0.9145431518554688, 0.02776147425174713, 0.05038193613290787, 0.025705069303512573, 0.01747944764792919, 0.15731503069400787, 0.15217401087284088, 0.0010282028233632445, 0.01747944764792919, 0.02056405507028103, 0.08842544257640839, 0.44212719798088074, 0.02849886193871498, 0.15674374997615814, 0.6799014210700989, 0.01832069642841816, 0.11603108048439026, 0.7623414397239685, 0.9177603721618652, 0.9825494885444641, 0.05906769633293152, 0.8860154151916504, 0.024248281493782997, 0.030861450359225273, 0.024248281493782997, 0.14548969268798828, 0.13446775078773499, 0.5356665849685669, 0.030861450359225273, 0.0749492347240448, 0.21689720451831818, 0.6506916284561157, 0.6443299055099487, 0.8571912050247192, 0.10084602236747742, 0.9958525896072388, 0.649423360824585, 0.3359086513519287, 0.4449435770511627, 0.5402886271476746, 0.9751855134963989, 0.9241475462913513, 0.06000958010554314, 0.956284761428833, 0.865909218788147, 0.9947255253791809, 0.9631907939910889, 0.8179134130477905, 0.952009916305542, 0.9888403415679932, 0.9751918911933899, 0.927588939666748, 0.004700499586760998, 0.5335066914558411, 0.06345674395561218, 0.04700499400496483, 0.350187212228775, 0.08632057160139084, 0.20206859707832336, 0.5650073289871216, 0.10005338490009308, 0.0372747927904129, 0.007847324013710022, 0.908332347869873, 0.07849785685539246, 0.3986264765262604, 0.11072957515716553, 0.003690985729917884, 0.2509870231151581, 0.2288411259651184, 0.978478193283081, 0.12113527208566666, 0.413878858089447, 0.3230274021625519, 0.06056763604283333, 0.08075685054063797, 0.9567796587944031, 0.9275248050689697, 0.032502200454473495, 0.6871894001960754, 0.06036123260855675, 0.02321585826575756, 0.19037003815174103, 0.9106745719909668, 0.031083181500434875, 0.1243327260017395, 0.06331758946180344, 0.049502842128276825, 0.21527980268001556, 0.05295652896165848, 0.04029301181435585, 0.04835161566734314, 0.019570892676711082, 0.008058602921664715, 0.004604915622621775, 0.34191498160362244, 0.9371165633201599, 0.9435508847236633, 0.9296398758888245, 0.9963012933731079, 0.9602406620979309, 0.9203436374664307, 0.06458552181720734, 0.9497193694114685, 0.9785379767417908, 0.8036752343177795, 0.9785273671150208, 0.938369870185852, 0.9498760104179382, 0.40171465277671814, 0.5553114414215088, 0.03544541075825691, 0.028213245794177055, 0.18338610231876373, 0.003526655724272132, 0.04584652557969093, 0.028213245794177055, 0.052899837493896484, 0.313872367143631, 0.33855897188186646, 0.996748149394989, 0.49587416648864746, 0.9804418087005615, 0.8930097818374634, 0.8659313917160034, 0.9893863201141357, 0.991241991519928, 0.03787239268422127, 0.7385116219520569, 0.04734048992395401, 0.17042575776576996, 0.8449879884719849, 0.7656492590904236, 0.8880010843276978, 0.005546270869672298, 0.005546270869672298, 0.006470649037510157, 0.19134634733200073, 0.540761411190033, 0.09890849888324738, 0.002773135434836149, 0.1257154643535614, 0.024033840745687485, 0.9612107276916504, 0.9754278063774109, 0.9570711851119995, 0.8892717957496643, 0.9292388558387756, 0.984034538269043, 0.8037083148956299, 0.18266098201274872, 0.02597861737012863, 0.005566846579313278, 0.12989309430122375, 0.012989308685064316, 0.2783423364162445, 0.5474066138267517, 0.9799736738204956, 0.9973868131637573, 0.9466851949691772, 0.9272271990776062, 0.9798192977905273, 0.018735438585281372, 0.11241263896226883, 0.08430947363376617, 0.6651080846786499, 0.11241263896226883, 0.3407575786113739, 0.6133636236190796, 0.8231191635131836, 0.740473747253418, 0.10578196495771408, 0.8873816728591919, 0.5155207514762878, 0.7752655148506165, 0.9744693040847778, 0.9780927896499634, 0.9958989024162292, 0.9858936071395874, 0.7262003421783447, 0.9427786469459534, 0.9285780191421509, 0.003951395861804485, 0.06322233378887177, 0.8606460690498352, 0.08116832375526428, 0.25026899576187134, 0.4261336922645569, 0.23674094676971436, 0.8555464744567871, 0.8879548907279968, 0.5704606175422668, 0.42784547805786133, 0.027818823233246803, 0.002781882183626294, 0.6954705715179443, 0.008345646783709526, 0.06120140850543976, 0.025036940351128578, 0.10571152716875076, 0.025036940351128578, 0.044510114938020706, 0.8611640930175781, 0.8572551012039185, 0.9644330143928528, 0.9894028306007385, 0.5416450500488281, 0.4431641399860382, 0.9971224069595337, 0.8772373199462891, 0.9353641867637634, 0.023244984447956085, 0.1627148985862732, 0.7338773608207703, 0.036527834832668304, 0.03984854370355606, 0.5135867595672607, 0.4279889762401581, 0.10262357443571091, 0.1852230429649353, 0.412997305393219, 0.12765371799468994, 0.09010850638151169, 0.08009644597768784, 0.933271586894989, 0.003579655196517706, 0.07159310579299927, 0.301884263753891, 0.0823320746421814, 0.34603333473205566, 0.057274483144283295, 0.07875241339206696, 0.0011932183988392353, 0.0023864367976784706, 0.045342300087213516, 0.008352529257535934, 0.5656154751777649, 0.296884149312973, 0.13564534485340118, 0.9702780842781067, 0.044676318764686584, 0.18189644813537598, 0.028720490634441376, 0.0031911656260490417, 0.5999391674995422, 0.076587975025177, 0.022338159382343292, 0.0382939875125885, 0.9157068133354187, 0.772556722164154, 0.9771648645401001, 0.8349407315254211, 0.08063467592000961, 0.08063467592000961, 0.7579659819602966, 0.06450774520635605, 0.8845239877700806, 0.5931842923164368, 0.3346330523490906, 0.5019495487213135, 0.6321101784706116, 0.25284406542778015, 0.06321101635694504, 0.2315310835838318, 0.7640525698661804, 0.08462956547737122, 0.021157391369342804, 0.03385182470083237, 0.025388868525624275, 0.833601176738739, 0.8505039215087891, 0.13429009914398193, 0.9751538634300232, 0.8512961864471436, 0.6743032932281494, 0.2996903359889984, 0.014984517358243465, 0.005664585158228874, 0.008496877737343311, 0.07788804918527603, 0.009913024492561817, 0.8751783967018127, 0.005664585158228874, 0.015577609650790691, 0.06403902918100357, 0.008263099938631058, 0.5081806778907776, 0.026855075731873512, 0.0020657749846577644, 0.024789301678538322, 0.026855075731873512, 0.10948608070611954, 0.07436790317296982, 0.012394650839269161, 0.06197325140237808, 0.0784994512796402, 0.975010097026825, 0.9939116835594177, 0.05494743213057518, 0.06735491752624512, 0.12230234593153, 0.26410216093063354, 0.0035449955612421036, 0.1293923407793045, 0.11698485165834427, 0.02658746764063835, 0.008862488903105259, 0.20383724570274353, 0.8879282474517822, 0.05420956388115883, 0.001594398869201541, 0.3651173412799835, 0.027104781940579414, 0.14190150797367096, 0.015943989157676697, 0.31489378213882446, 0.03906277194619179, 0.0007971994346007705, 0.0007971994346007705, 0.0055803959257900715, 0.03268517553806305, 0.8316696882247925, 0.16251017153263092, 0.9900432229042053, 0.001570113468915224, 0.001570113468915224, 0.03820609301328659, 0.03506586700677872, 0.07536544650793076, 0.5034830570220947, 0.09787040948867798, 0.05704745650291443, 0.05233711376786232, 0.0041869692504405975, 0.1329362690448761, 0.05200522765517235, 0.013277930207550526, 0.289901465177536, 0.0531117208302021, 0.02323637716472149, 0.12282085418701172, 0.03983379155397415, 0.007745459210127592, 0.09405200928449631, 0.016597412526607513, 0.019916895776987076, 0.009958447888493538, 0.12614034116268158, 0.1305663138628006, 0.8454135060310364, 0.10567668825387955, 0.7495144009590149, 0.9593555331230164, 0.951973021030426, 0.9245864748954773, 0.7126570343971252, 0.993011474609375, 0.9074674248695374], \"Term\": [\"aa\", \"ab_bfd\", \"abandoned\", \"abandoned\", \"abandoned\", \"abandoned\", \"abdi\", \"abduction\", \"abel\", \"abortion\", \"absurd\", \"abundance\", \"ac\", \"ac\", \"acceleration\", \"accepting\", \"accommodating\", \"accompanying\", \"accomplish\", \"accused\", \"accused\", \"accused\", \"acheson\", \"achievements\", \"action\", \"action\", \"action\", \"action\", \"action\", \"action\", \"action\", \"action\", \"adjusted_funds\", \"administrative\", \"administrative\", \"administrative\", \"administrator\", \"adventure\", \"ae\", \"ae\", \"aeco\", \"aer\", \"aete\", \"affiliates\", \"affordability\", \"age\", \"age\", \"age\", \"age\", \"aging\", \"aglc\", \"agreement\", \"agreement\", \"agreement\", \"agreement\", \"agreement\", \"agreement\", \"agreement\", \"albert\", \"alberta\", \"alberta\", \"alberta\", \"alberta\", \"alberta\", \"alberta\", \"alberta\", \"alberta\", \"albertosaurus\", \"alec\", \"also\", \"also\", \"also\", \"also\", \"also\", \"also\", \"also\", \"also\", \"also\", \"also\", \"also\", \"also\", \"amber\", \"american_college\", \"amid\", \"amid\", \"amid\", \"amid\", \"amid_slumping\", \"among\", \"among\", \"among\", \"among\", \"among\", \"among\", \"among\", \"among\", \"among\", \"among\", \"amortization_ebit\", \"amortization_ebitda\", \"analyst\", \"analyst\", \"analyst_upgrades\", \"analysts\", \"analysts\", \"ancillary_transactions\", \"andora\", \"andrew_jeffrey\", \"anggun_exploration\", \"animal\", \"anniversaries\", \"annuity_maintenance\", \"anti_immigrant\", \"anytime\", \"aostra\", \"ap\", \"ap_org\", \"apartments\", \"apernal\", \"apnews\", \"apologizes\", \"app\", \"apparently\", \"appears\", \"appears\", \"appears\", \"appears\", \"apples\", \"appoint\", \"appointment\", \"approximately\", \"approximately\", \"aquatic\", \"arbitration\", \"arbitrator\", \"areas\", \"areas\", \"areas\", \"areas\", \"areas\", \"areas\", \"areas\", \"arkoma\", \"arrangement\", \"arrest\", \"arrest\", \"article\", \"article\", \"article\", \"article\", \"article_hustle\", \"article_thursdays\", \"artificial_intelligence\", \"assault\", \"assets\", \"assets\", \"assets\", \"assets\", \"assets\", \"assisted\", \"assisted\", \"assists\", \"asylum\", \"asylum_seekers\", \"atk\", \"atkey\", \"atlas\", \"atlas\", \"attended\", \"attitude\", \"aurora\", \"auto\", \"average\", \"average\", \"average\", \"average\", \"average\", \"award\", \"awards\", \"aware\", \"axl\", \"bachelor\", \"bacon\", \"badlands\", \"bags\", \"bailey\", \"bank\", \"bank\", \"bank\", \"bank_indebtedness\", \"barrels\", \"barrels\", \"barrels\", \"barrels\", \"barrie_mckenna\", \"barrier\", \"barrier\", \"base_mine\", \"basic\", \"battershill\", \"battershill\", \"battles\", \"bauschhealth\", \"bb\", \"bb\", \"bbl\", \"bbls\", \"bc\", \"bc\", \"bc\", \"bc\", \"bc\", \"bce\", \"bd\", \"bdc\", \"beasts\", \"beautiful\", \"becomes\", \"bedroom\", \"bedroom\", \"begin\", \"begin\", \"begin\", \"bell\", \"belongs\", \"ben\", \"beneficial\", \"benefiting\", \"bengal\", \"bennett_jones\", \"bennettjones\", \"bernier\", \"bernier\", \"beta_theglobeandmail\", \"betty\", \"beverley\", \"bf\", \"bi\", \"bid\", \"bid\", \"bid\", \"bid\", \"bid\", \"bid\", \"bid\", \"bike\", \"bikes\", \"billion\", \"billion\", \"billion\", \"billion\", \"billion\", \"billion\", \"bills\", \"bin\", \"bio\", \"biodiversity\", \"biotechnologies\", \"birchcliff\", \"birchcliff\", \"bird\", \"birds\", \"bitumen\", \"blaine_higgs\", \"blake_cassels\", \"blakes\", \"blended\", \"bmo\", \"board\", \"board\", \"board\", \"board\", \"board\", \"board\", \"board\", \"board\", \"boardwalk\", \"bob\", \"bob\", \"bob\", \"bob\", \"boe\", \"bonterra\", \"bookings\", \"books\", \"books\", \"books\", \"books\", \"border\", \"border\", \"border\", \"border\", \"border\", \"born\", \"born\", \"born\", \"born\", \"borrowings\", \"borrowings\", \"bothered\", \"bottle\", \"bow\", \"boycott\", \"boycott\", \"brainstorm\", \"breakdown\", \"brexit\", \"brexit\", \"brexit\", \"brexit_secretary\", \"brighter\", \"brightly\", \"brine\", \"britain\", \"britain\", \"britain\", \"britain\", \"britain\", \"british\", \"british\", \"british\", \"british_columbia\", \"british_columbia\", \"british_columbia\", \"british_columbia\", \"british_columbia\", \"british_columbia\", \"british_columbia\", \"brody\", \"brookfield\", \"brother\", \"brother\", \"bruce\", \"bruce\", \"bucked\", \"budding\", \"budget_documents\", \"budgeted\", \"bulwark\", \"bunch\", \"bungling\", \"burgeoning\", \"burnaby_south\", \"burr\", \"business\", \"business\", \"business\", \"business\", \"business\", \"business\", \"business\", \"business\", \"business\", \"business\", \"business\", \"business_streetwise\", \"butane\", \"buy\", \"buy\", \"buy\", \"buy\", \"buy\", \"buy\", \"buy\", \"buy_rating\", \"buyers\", \"buyers\", \"buyers\", \"buyers\", \"buying\", \"buying\", \"buying\", \"buying\", \"ca_fnews\", \"cal\", \"calculation\", \"calculation\", \"calgarians\", \"calgary\", \"calgary\", \"calgary\", \"calgary\", \"calgary\", \"calgary\", \"california\", \"california\", \"callidus\", \"canada\", \"canada\", \"canada\", \"canada\", \"canada\", \"canada\", \"canada\", \"canada\", \"canada\", \"canada\", \"canada\", \"canada\", \"canada\", \"canada\", \"canada\", \"canada\", \"canada\", \"canada\", \"canadahelps\", \"canadian\", \"canadian\", \"canadian\", \"canadian\", \"canadian\", \"canadian\", \"canadian\", \"canadian\", \"canadian\", \"canadian\", \"canadian\", \"canadians\", \"canadians\", \"canadians\", \"canadians\", \"canfor\", \"cannabis\", \"cannabis\", \"cannabis\", \"cannabis\", \"canopy\", \"cap\", \"cap\", \"cap\", \"capita\", \"capital\", \"capital\", \"capital\", \"capital\", \"capital\", \"capital\", \"capital\", \"capital_expenditures\", \"capp\", \"capture\", \"caravan\", \"carbon\", \"carbon\", \"carbon_pricing\", \"carbon_pricing\", \"carbon_tax\", \"carbon_tax\", \"carbon_tax\", \"careers\", \"caregivers\", \"caribbean\", \"carole\", \"carousel\", \"case\", \"case\", \"case\", \"case\", \"case\", \"case\", \"case\", \"case\", \"case\", \"case\", \"case_scenario\", \"cash\", \"cash\", \"cash\", \"cash\", \"cash\", \"cb\", \"cced\", \"cd\", \"cda\", \"cdn_gj\", \"cdor\", \"cdor\", \"ced\", \"celebration\", \"celebration\", \"cenovus\", \"cenovus\", \"central_bank\", \"centre\", \"centre\", \"centre\", \"centre\", \"cents\", \"cents\", \"ceo\", \"ceo\", \"ceo\", \"ceo\", \"ceo\", \"ceo\", \"certificates\", \"ces\", \"cgi\", \"chain\", \"chain\", \"chain\", \"chair\", \"chair\", \"chair\", \"chair\", \"chair\", \"chairwoman\", \"charged\", \"charges\", \"charges\", \"charges\", \"charitable\", \"charities\", \"charity\", \"children\", \"children\", \"children\", \"children\", \"children\", \"china\", \"china\", \"china\", \"china\", \"choice_reit\", \"church\", \"church\", \"cibc\", \"circumstance\", \"cities\", \"cities\", \"cities\", \"cities\", \"cities\", \"city\", \"city\", \"city\", \"city\", \"city\", \"city\", \"clarida\", \"class_actions\", \"clean\", \"clean\", \"clean\", \"clean\", \"cleaning\", \"cleanup\", \"clearstream\", \"click\", \"clients\", \"clients\", \"clients\", \"clients\", \"climate\", \"climate\", \"climate\", \"climate\", \"climate_change\", \"climate_change\", \"climate_change\", \"climate_change\", \"climate_change\", \"clinic\", \"cmhc\", \"cn\", \"cn\", \"cn_pushes\", \"coal\", \"coal\", \"coal_fired\", \"coal_plants\", \"coalitions\", \"cocktail\", \"cold\", \"cold\", \"cold\", \"colfax\", \"collecting\", \"colour\", \"coloured\", \"combustion\", \"comes\", \"comes\", \"comes\", \"comes\", \"commentid\", \"comments\", \"comments\", \"comments\", \"comments\", \"comments\", \"commercial\", \"commercial\", \"commercial\", \"commercial\", \"commercial_litigation\", \"committee\", \"committee\", \"committee\", \"committee\", \"committee\", \"commodity\", \"commodity\", \"commodity\", \"commodity\", \"common_shares\", \"commonwealth\", \"companies\", \"companies\", \"companies\", \"companies\", \"companies\", \"companies\", \"companies\", \"companies\", \"companies\", \"company\", \"company\", \"company\", \"company\", \"company\", \"company\", \"company\", \"comparable\", \"comparable\", \"comparable\", \"compare\", \"compared\", \"compared\", \"compared\", \"compared\", \"compared\", \"compensatory\", \"competitiveness\", \"complex_commercial\", \"concentrating\", \"condensed_consolidated\", \"condiment\", \"condolences\", \"conference_call\", \"conference_call\", \"conference_call\", \"conflict\", \"consensual\", \"consistently\", \"consolidating\", \"const\", \"constituencies\", \"constituency\", \"constitute_forward\", \"consumable\", \"consuming\", \"contact\", \"contact\", \"contact\", \"contact_industry\", \"contact_industry\", \"contemplated\", \"continue\", \"continue\", \"continue\", \"continue\", \"continue\", \"continue\", \"continue\", \"continue\", \"contractual\", \"controlled\", \"controlled\", \"controlled\", \"controlling\", \"conveyor\", \"convoluted\", \"corcoran\", \"coronation\", \"coroners\", \"corp\", \"corp\", \"corp\", \"corp\", \"corp\", \"corp\", \"corporate\", \"corporate\", \"corporate\", \"corporate\", \"corporate\", \"corporate\", \"corporate\", \"corporate\", \"corporate\", \"corporate\", \"corporate_governance\", \"corporation\", \"corporation\", \"corporation\", \"corruption\", \"corruption\", \"cortex\", \"cost\", \"cost\", \"cost\", \"cost\", \"cost\", \"cost\", \"cost\", \"costs\", \"costs\", \"costs\", \"costs\", \"costs\", \"cote\", \"could\", \"could\", \"could\", \"could\", \"could\", \"could\", \"could\", \"could\", \"could\", \"could\", \"could\", \"council\", \"council\", \"council\", \"councillor\", \"councillor\", \"councillors\", \"councillors\", \"counsel\", \"country\", \"country\", \"country\", \"country\", \"country\", \"country\", \"country\", \"country\", \"counts\", \"court\", \"court\", \"court\", \"courtroom\", \"covenant_ebitda\", \"coverage_copy\", \"coverage_plans\", \"cow\", \"cowan\", \"cox\", \"cps\", \"craig_wong\", \"crea\", \"credit\", \"credit\", \"credit\", \"credit\", \"credit\", \"credit\", \"credit\", \"credit_facility\", \"criminal_trial\", \"crius\", \"crops\", \"cross_border\", \"crosses\", \"crowd\", \"crowd\", \"crowd\", \"crowdfunding\", \"crude\", \"crude\", \"crude\", \"crude\", \"crude\", \"cry\", \"csa\", \"csr\", \"ctrain\", \"cubic_feet\", \"cultivation\", \"cumulative_effect\", \"current\", \"current\", \"current\", \"current\", \"current\", \"current\", \"curtailment\", \"custom\", \"custom\", \"cut\", \"cut\", \"cut\", \"cut\", \"cut\", \"cuts\", \"cuts\", \"cve\", \"cycle\", \"da\", \"da\", \"dalhousie\", \"dalhousie\", \"dampier\", \"dan\", \"dan\", \"dan\", \"dancing\", \"daniel_goodridge\", \"daniel_goodridge\", \"darcy\", \"data_cdleeder\", \"date_hereof\", \"david_berman\", \"david_parkinson\", \"dbrunetta\", \"dd\", \"deal\", \"deal\", \"deal\", \"deal\", \"deal\", \"deal\", \"deal\", \"deal\", \"dealer\", \"dealing\", \"dear\", \"death\", \"death\", \"death\", \"debate\", \"debate\", \"debate\", \"december\", \"december\", \"december\", \"december\", \"december\", \"december\", \"december\", \"decides\", \"declares\", \"decreased\", \"deduct_depreciation\", \"defence\", \"defence\", \"deferred_revenue\", \"deferred_revenue\", \"deficit\", \"deficit\", \"defunct\", \"degree\", \"degree\", \"degree\", \"delaney\", \"delphi\", \"demand\", \"demand\", \"demand\", \"demand\", \"demand\", \"demand\", \"demong\", \"demonstrators\", \"demonstrators\", \"denotes_graphics\", \"denotes_picture\", \"denotes_wire\", \"denver\", \"denver\", \"deploying\", \"depressed\", \"desirable\", \"desperate\", \"detail\", \"deutsche_bank\", \"developers\", \"developers\", \"development\", \"development\", \"development\", \"development\", \"development\", \"development\", \"devotion\", \"df\", \"dial\", \"dias\", \"die\", \"died\", \"different\", \"different\", \"different\", \"different\", \"different\", \"differential\", \"differential\", \"dijon\", \"diluted\", \"dilutive\", \"dinosaur\", \"direct_employee\", \"directive_ec\", \"disagree\", \"disclosures\", \"discovery\", \"dishes\", \"dispensary\", \"dispute_resolution\", \"disputes\", \"distracted\", \"distraction\", \"distrust\", \"diverse\", \"dividend\", \"dividend\", \"dividend\", \"dividend\", \"dividing\", \"document\", \"documentaries\", \"documents\", \"documents\", \"documents\", \"documents\", \"documents\", \"documents\", \"dollar\", \"dollar\", \"dominance\", \"dominance\", \"donair_cupcake\", \"donated\", \"donating\", \"donations\", \"donations\", \"donations\", \"done\", \"done\", \"done\", \"done\", \"done\", \"donors\", \"donovan\", \"doodle\", \"doodles\", \"dorel\", \"downgrades\", \"downstairs\", \"downtown\", \"downtown\", \"downtown\", \"downtown\", \"downtown\", \"dpa\", \"drag\", \"drag\", \"drain\", \"dried\", \"drilling\", \"drilling\", \"drilling\", \"drilling_fluids\", \"drop\", \"drop\", \"dropped\", \"dropped\", \"drumheller\", \"dtr\", \"duly\", \"dumoulin_llp\", \"dundas\", \"duplication\", \"ea\", \"ea\", \"eagerly\", \"eagle_ford\", \"eagle_ford\", \"early_lasting\", \"earned\", \"earned\", \"earnings\", \"earnings\", \"earnings\", \"eastern_hemisphere\", \"eastern_unless\", \"easy\", \"easy\", \"ebit\", \"ebit\", \"ebitda\", \"ebitda\", \"ebitdac\", \"echo\", \"economic\", \"economic\", \"economic\", \"economic\", \"economic\", \"economic\", \"economists\", \"economy\", \"economy\", \"economy\", \"economy\", \"economy\", \"economy\", \"edibles\", \"editor_wendy\", \"edmonton\", \"edmonton\", \"edmonton\", \"edmonton\", \"edmonton\", \"edmonton\", \"edmonton\", \"educational\", \"ee\", \"ei\", \"eighteen\", \"el\", \"election\", \"election\", \"election\", \"election\", \"election\", \"election\", \"electricity\", \"elias\", \"ellis\", \"emeritus\", \"emissions\", \"emissions\", \"emitters\", \"emphasis\", \"employees\", \"employees\", \"employees\", \"employees\", \"employees\", \"employees\", \"employees_offers\", \"enbridge\", \"enbridge\", \"enbridge\", \"enbridge\", \"enbridge\", \"encana\", \"encana\", \"ended_sept\", \"ended_september\", \"energy\", \"energy\", \"energy\", \"energy\", \"energy\", \"energy\", \"energy\", \"energy\", \"energy\", \"enerplus\", \"engineering\", \"engineering\", \"engineering\", \"engines\", \"enjoys\", \"ensuing\", \"entering\", \"entering\", \"enterprises\", \"entertaining\", \"entitle\", \"environmental\", \"environmental\", \"environmental\", \"environmental\", \"environmental\", \"environmental\", \"epp\", \"equalization\", \"erected\", \"esg\", \"esn\", \"essay\", \"essay\", \"establish\", \"estimate\", \"estimate\", \"estimate\", \"eu\", \"eu\", \"evaporation\", \"even\", \"even\", \"even\", \"even\", \"even\", \"even\", \"even\", \"even\", \"even\", \"even\", \"evening_update\", \"event\", \"event\", \"event\", \"event\", \"event\", \"examination\", \"example\", \"example\", \"example\", \"example\", \"exceeding\", \"excl\", \"excludes\", \"exemptions\", \"exercised\", \"exhibits\", \"exit\", \"expected\", \"expected\", \"expected\", \"expected\", \"expected\", \"expected\", \"expected\", \"expense\", \"expense\", \"expense\", \"experience\", \"experience\", \"experience\", \"experience\", \"experience\", \"experimenting\", \"explain\", \"explicitly\", \"exploration\", \"exploration\", \"exploration\", \"explosive\", \"export\", \"expressing\", \"expropriate\", \"extensive_experience\", \"extradition\", \"extradition\", \"fa\", \"facebook\", \"facebook\", \"facebook\", \"facebook\", \"facebook\", \"facsimile_email\", \"facsimile_email\", \"factors\", \"factors\", \"factors\", \"factors\", \"factory\", \"family\", \"family\", \"family\", \"family\", \"family\", \"family\", \"family\", \"farkas\", \"farmers\", \"farmers\", \"farmers\", \"fasken\", \"fasken_martineau\", \"father\", \"father\", \"father\", \"father\", \"father\", \"fbf\", \"federal\", \"federal\", \"federal\", \"federal\", \"federal\", \"federal\", \"federal\", \"federation\", \"fee\", \"feed\", \"feel\", \"feel\", \"fell\", \"fence\", \"fernie\", \"ff\", \"fill\", \"fill\", \"finance\", \"finance\", \"finance\", \"finance\", \"finance\", \"finance\", \"finance_lease\", \"finance_lease\", \"finance_minister\", \"finance_minister\", \"finance_minister\", \"finance_minister\", \"financial\", \"financial\", \"financial\", \"financial\", \"financial\", \"financial\", \"financial\", \"financial\", \"financing\", \"financing\", \"fireweed\", \"firm\", \"firm\", \"firm\", \"firm\", \"firm\", \"firm\", \"firm\", \"first\", \"first\", \"first\", \"first\", \"first\", \"first\", \"first\", \"first\", \"first\", \"first\", \"first\", \"first\", \"first\", \"first_degree\", \"fishery\", \"flavour\", \"flavours\", \"flesh\", \"florida\", \"florida\", \"flow\", \"flow\", \"flower\", \"flowers\", \"focuses\", \"focusing\", \"focusing\", \"focusing\", \"food_column\", \"foothills\", \"foothold\", \"forest\", \"forest\", \"forest\", \"former\", \"former\", \"former\", \"former\", \"former\", \"former\", \"former\", \"former\", \"forward_looking\", \"forward_looking\", \"foscolos\", \"fossils\", \"foundations\", \"fox_creek\", \"franchises\", \"francois\", \"free\", \"free\", \"free\", \"free\", \"free\", \"free\", \"free\", \"free\", \"freepress_mb\", \"friday\", \"friday\", \"friday\", \"friday\", \"friday\", \"friday\", \"friends\", \"friends\", \"friends\", \"ftt\", \"fuels\", \"fulbright\", \"fulbright\", \"fun\", \"fun\", \"fun\", \"fund\", \"fund\", \"fund\", \"fund\", \"fund\", \"funded_debt\", \"funds_flow\", \"funeral_home\", \"furthering\", \"fwww_newswire\", \"gain_loss\", \"gallant\", \"gambling\", \"gani\", \"gary_mason\", \"gas\", \"gas\", \"gas\", \"gas\", \"gas\", \"gasbuddy\", \"gate\", \"gate\", \"generators\", \"genetics\", \"george_weston\", \"george_weston\", \"get\", \"get\", \"get\", \"get\", \"get\", \"get\", \"gives_speech\", \"gives_speech\", \"giving\", \"giving\", \"giving\", \"giving\", \"gj\", \"global\", \"global\", \"global\", \"global\", \"global\", \"global\", \"globe\", \"globe\", \"globe\", \"globe\", \"globe\", \"globe\", \"globe_editorial\", \"globe_investor\", \"globe_newswire\", \"globe_newswire\", \"globeandmail\", \"globeandmail\", \"globeandmail\", \"globeandmail\", \"globenewswire\", \"glogovac\", \"go\", \"go\", \"go\", \"go\", \"go\", \"go\", \"go\", \"going\", \"going\", \"going\", \"going\", \"good\", \"good\", \"good\", \"good\", \"good\", \"good\", \"good\", \"good_morning\", \"google\", \"googlers\", \"gord\", \"gossain\", \"government\", \"government\", \"government\", \"government\", \"government\", \"government\", \"government\", \"gowling_wlg\", \"gowlingwlg\", \"grain\", \"grandchildren\", \"grandchildren\", \"grandfather\", \"grandmother\", \"graphic\", \"gratitude\", \"graydon_llp\", \"great\", \"great\", \"great\", \"great\", \"great\", \"great\", \"great\", \"great\", \"great\", \"great_bear\", \"greenhouse_gases\", \"greens\", \"gregor\", \"grewal\", \"greyhound\", \"greyhound\", \"gross\", \"gross\", \"growers\", \"growth\", \"growth\", \"growth\", \"growth\", \"guard\", \"guidance\", \"guildford\", \"guinea\", \"habits\", \"haisla\", \"halifax\", \"halifax\", \"halifax\", \"halt\", \"hammer\", \"handled\", \"happening\", \"harley\", \"harley\", \"harvest\", \"hauling\", \"hazardous\", \"hdi\", \"headquarters\", \"health\", \"health\", \"health\", \"health\", \"health\", \"health\", \"health\", \"hearing\", \"hearing\", \"hearing\", \"heavy\", \"heavy\", \"heavy\", \"hellofresh\", \"hemp\", \"herd\", \"herein\", \"higgs\", \"higgs\", \"higher\", \"higher\", \"higher\", \"higher\", \"higher\", \"highlight\", \"highlight\", \"highways\", \"hirsi\", \"history\", \"history\", \"history\", \"history\", \"history\", \"history\", \"history\", \"hive\", \"hockey\", \"hockey\", \"holder\", \"home\", \"home\", \"home\", \"home\", \"home\", \"home\", \"home\", \"home\", \"home\", \"homelessness\", \"honda\", \"hospital\", \"hospital\", \"hospital\", \"hosts\", \"hot\", \"hot\", \"hot\", \"hot\", \"house\", \"house\", \"house\", \"house\", \"house\", \"house\", \"house\", \"house\", \"house\", \"housing\", \"housing\", \"housing\", \"housing\", \"housing\", \"housing\", \"huawei\", \"hulchanski\", \"hungry\", \"hurdle\", \"hurl\", \"husky\", \"husky\", \"hutchinson\", \"hutchison\", \"id\", \"ideas_article\", \"idle\", \"ifrs\", \"iiroc\", \"images\", \"imbued\", \"immigrant\", \"impaired_driving\", \"impeachment\", \"imperial\", \"imperial\", \"imperial\", \"imperial\", \"implementation\", \"inactive\", \"inactive_wells\", \"inc\", \"inc\", \"inc\", \"inc\", \"inc\", \"inched\", \"including\", \"including\", \"including\", \"including\", \"including\", \"including\", \"including\", \"including\", \"including\", \"including\", \"inclusive\", \"income\", \"income\", \"income\", \"income\", \"income\", \"income\", \"increased\", \"increased\", \"increased\", \"increased\", \"increased\", \"increases\", \"increases\", \"increases\", \"index\", \"index\", \"indicted\", \"industrial_alliance\", \"industrial_matting\", \"industries\", \"industries\", \"industries\", \"industries\", \"industries\", \"industries\", \"industry\", \"industry\", \"industry\", \"industry\", \"industry\", \"industry\", \"industry\", \"inflation\", \"information\", \"information\", \"information\", \"information\", \"information_please\", \"information_please\", \"innu\", \"inside\", \"inside\", \"inside\", \"inside\", \"insider\", \"insider_report\", \"insists\", \"insurance\", \"insurance\", \"intake\", \"integrated\", \"integrated\", \"intentions\", \"interest_rate\", \"interfering\", \"interfor\", \"international\", \"international\", \"international\", \"international\", \"international\", \"international\", \"international\", \"international\", \"international\", \"international\", \"international\", \"international\", \"interprovincial_trade\", \"intervention\", \"intervention\", \"intervention\", \"investigation\", \"investigation\", \"investigation\", \"investigation\", \"investigation\", \"investigative\", \"investing\", \"investing\", \"investing_investment\", \"investing_markets\", \"investing_markets\", \"investor_relations\", \"investors\", \"investors\", \"investors\", \"investors\", \"involving\", \"involving\", \"involving\", \"ir\", \"ir\", \"iron\", \"irving\", \"irving\", \"irvings\", \"issuable\", \"issuable\", \"issues\", \"issues\", \"issues\", \"issues\", \"issues\", \"issues\", \"issues\", \"issues\", \"issues\", \"iv\", \"jabung\", \"jacques\", \"james_keller\", \"jan\", \"jan\", \"jan\", \"jan\", \"janet\", \"jarbeau\", \"jason\", \"jim\", \"jim\", \"jim\", \"jim\", \"jim\", \"jkeller_globeandmail\", \"john\", \"john\", \"john\", \"john\", \"john\", \"john_sopinski\", \"josh\", \"josie\", \"joy\", \"jsp\", \"juice\", \"julie\", \"julie\", \"juniors\", \"justin_giovannetti\", \"justin_giovannetti\", \"kaleigh\", \"keeps\", \"keeps\", \"keystone\", \"kill\", \"kilograms\", \"kindness\", \"kinross\", \"kit\", \"kitimat\", \"konrad_yakabuski\", \"kraft\", \"kristallnacht\", \"kruger\", \"label\", \"label\", \"laboucan\", \"lake\", \"lake\", \"lakes\", \"lakes\", \"lalousis\", \"land\", \"land\", \"land\", \"landlord\", \"lands\", \"langley\", \"lantern\", \"larger\", \"launch\", \"lavallee\", \"law\", \"law\", \"law\", \"law\", \"law\", \"law\", \"lawyer\", \"leadership\", \"leadership\", \"leadership\", \"leadership\", \"leadership\", \"leadership\", \"leading\", \"leading\", \"leading\", \"leading\", \"leading\", \"leading\", \"leading\", \"leading\", \"learn\", \"leblanc\", \"left\", \"left\", \"left\", \"left\", \"left\", \"left\", \"left\", \"left_leaning\", \"leg\", \"legal\", \"legal\", \"legal\", \"legal\", \"legal\", \"legal\", \"legal\", \"legal\", \"legal\", \"legalization\", \"legalization\", \"legalization\", \"legault\", \"legault\", \"lemon\", \"lenz\", \"leszczyc\", \"levels\", \"levels\", \"levels\", \"levels\", \"levels\", \"levels\", \"levels\", \"levy\", \"levy\", \"lewis\", \"lewis\", \"lewis\", \"lgbtq_community\", \"liberal\", \"liberal\", \"liberal\", \"liberal\", \"liberal\", \"liberal\", \"liberals\", \"liberals\", \"liberals\", \"liberals\", \"liberals\", \"libor\", \"license\", \"license\", \"license_revenue\", \"licensed\", \"licensed\", \"licensed\", \"licensed_producers\", \"licensees\", \"lieu\", \"life\", \"life\", \"life\", \"life\", \"life\", \"life\", \"life\", \"lifespan\", \"like\", \"like\", \"like\", \"like\", \"like\", \"like\", \"like\", \"like\", \"like\", \"like\", \"like\", \"limited_henderson\", \"linamar\", \"line\", \"line\", \"line\", \"line\", \"line\", \"line\", \"linton\", \"liquids\", \"liquids_mboe\", \"liquor\", \"listings\", \"literally\", \"litigation\", \"litigation\", \"litigator\", \"litres\", \"litres\", \"lived\", \"lived\", \"livingstone\", \"llp\", \"lng\", \"load\", \"loading\", \"lobby\", \"loblaw\", \"localized\", \"location\", \"location\", \"location\", \"location\", \"locomotives\", \"logistics\", \"longer_adjusting\", \"looming_financial\", \"loose\", \"lord\", \"losses_resulting\", \"lot\", \"lot\", \"lot\", \"lot\", \"love\", \"love\", \"love\", \"love\", \"loved\", \"loved\", \"loving\", \"lovitt\", \"lower\", \"lower\", \"lower_mainland\", \"lowered\", \"ltd\", \"ltd\", \"ltd\", \"ltd\", \"ltd\", \"ltd\", \"lubicon\", \"lumber\", \"lush\", \"lyrics\", \"macdonald\", \"machine\", \"machine\", \"maclean\", \"made\", \"made\", \"made\", \"made\", \"made\", \"made\", \"made\", \"made\", \"made\", \"made\", \"made\", \"made\", \"made\", \"mahamud\", \"mail\", \"mail\", \"mail\", \"mail\", \"maille\", \"mailto_tips\", \"mainline\", \"mainline\", \"mainslots\", \"mall\", \"man\", \"man\", \"man\", \"management\", \"management\", \"management\", \"management\", \"management\", \"managers\", \"mandate\", \"mango\", \"manulife\", \"many\", \"many\", \"many\", \"many\", \"many\", \"many\", \"many\", \"many\", \"many\", \"many\", \"many\", \"many\", \"map\", \"map\", \"map\", \"maple_leaf\", \"margarets\", \"maritime\", \"market\", \"market\", \"market\", \"market\", \"market\", \"market\", \"market\", \"market\", \"markets\", \"markets\", \"markets\", \"markets\", \"markets\", \"markets\", \"markets\", \"markets_stocks\", \"marks\", \"married\", \"married\", \"marriott\", \"martinrea\", \"mary\", \"marys\", \"mascarenhas\", \"massive_clean\", \"massive_clean\", \"matias\", \"mats\", \"matters\", \"matters\", \"matters\", \"matting\", \"matting\", \"matting_fleet\", \"matures\", \"matures\", \"may\", \"may\", \"may\", \"may\", \"may\", \"may\", \"may\", \"may\", \"may\", \"may\", \"may\", \"mayor_elect\", \"mayor_elect\", \"mayoral\", \"mboe\", \"mc\", \"mccallum\", \"mcf\", \"mcgee\", \"mcgill\", \"mckenna\", \"mckenna\", \"mcteague\", \"mdonovan\", \"meal\", \"meantime\", \"medicine_hat\", \"meeting\", \"meeting\", \"meeting\", \"meeting\", \"meeting\", \"meeting\", \"meeting\", \"meetings\", \"meetings\", \"meg\", \"megantic\", \"melanie\", \"memorial\", \"men\", \"men\", \"men\", \"messam\", \"meth\", \"metrotower\", \"metrotown\", \"mgx\", \"mgxminerals\", \"microsoft\", \"microsoft\", \"midterm\", \"midterm_elections\", \"midterms\", \"midterms\", \"migrants\", \"military\", \"military\", \"military\", \"miller\", \"miller\", \"miller\", \"million\", \"million\", \"million\", \"million\", \"million\", \"million\", \"million\", \"million\", \"million\", \"million\", \"million\", \"million\", \"million\", \"milton\", \"minister_catherine\", \"miscellaneous_miscellaneous\", \"mmbtu\", \"mmcf\", \"mmcf_hz\", \"modest\", \"modifications\", \"modular\", \"mogo\", \"monday\", \"monday\", \"monday\", \"monday\", \"monday\", \"monday\", \"money\", \"money\", \"money\", \"money\", \"money\", \"money\", \"money_laundering\", \"month\", \"month\", \"month\", \"month\", \"month\", \"month\", \"month\", \"months_ended\", \"montney\", \"montney\", \"montreal\", \"montreal\", \"montreal\", \"montreal\", \"montreal\", \"montreal\", \"morgan\", \"morneau\", \"morneau\", \"morneau\", \"morneau\", \"morning_update\", \"mortgage\", \"mortgage\", \"mortgage\", \"mortgage\", \"mother\", \"mother\", \"mother\", \"motion\", \"motion\", \"motion\", \"moves_national\", \"mr\", \"mr\", \"mr\", \"mr\", \"mr\", \"mr\", \"mr\", \"mr\", \"mr\", \"mr\", \"mr_venning\", \"ms\", \"ms\", \"ms\", \"ms\", \"mt\", \"much\", \"much\", \"much\", \"much\", \"much\", \"much\", \"much\", \"much\", \"multitude\", \"municipal_aggregation\", \"murder\", \"murder_interfering\", \"murder_trial\", \"muse\", \"museum\", \"mustard\", \"mustard_seed\", \"na_safelinks\", \"nacg\", \"nacg_ca\", \"nafta\", \"nafta\", \"nafta\", \"naloxone\", \"named\", \"nancy_pelosi\", \"national\", \"national\", \"national\", \"national\", \"national\", \"national\", \"national\", \"national\", \"national_observer\", \"nationalism\", \"nationalist\", \"nationalist\", \"natural_gas\", \"natural_gas\", \"natural_gas\", \"nazi\", \"nb\", \"ncib\", \"nee\", \"need\", \"need\", \"need\", \"need\", \"need\", \"need\", \"neighbourhoods\", \"neil\", \"neil\", \"nenshi\", \"neo\", \"net\", \"net\", \"net\", \"net_income\", \"net_income\", \"net_loss\", \"netback\", \"new\", \"new\", \"new\", \"new\", \"new\", \"new\", \"new\", \"new\", \"new\", \"new\", \"new\", \"new\", \"new\", \"new_brunswick\", \"new_brunswick\", \"new_brunswick\", \"new_brunswick\", \"newfield\", \"newfield\", \"newfield_exploration\", \"news\", \"news\", \"news\", \"news\", \"news\", \"news\", \"news\", \"news\", \"news\", \"news_develops\", \"news_release\", \"news_release\", \"news_tip\", \"newsletters\", \"newsletters\", \"newsletters\", \"newspaper\", \"newsroom\", \"newsroom_ap\", \"newswire\", \"newswire\", \"next\", \"next\", \"next\", \"next\", \"next\", \"next\", \"next\", \"next\", \"next\", \"next\", \"niceness\", \"nickname\", \"nicola\", \"nieces\", \"nig\", \"nights\", \"niko\", \"nine_months\", \"nissan\", \"niverville\", \"nm\", \"non_binding\", \"non_gaap\", \"non_ifrs\", \"northern_gateway\", \"northern_minnesota\", \"norton_rose\", \"notices\", \"noting\", \"noting\", \"nov\", \"nov\", \"nov\", \"nov\", \"nova\", \"novel\", \"november\", \"november\", \"november\", \"november\", \"november\", \"november\", \"november\", \"ntr\", \"number\", \"number\", \"number\", \"number\", \"number\", \"number\", \"number\", \"number\", \"number\", \"number\", \"numbers\", \"numbers\", \"numbers\", \"numbers\", \"numbers\", \"numo\", \"nxt\", \"object\", \"obligation\", \"obligation\", \"occurs\", \"october\", \"october\", \"october\", \"october\", \"october\", \"odds\", \"odds\", \"offers\", \"offers\", \"offers\", \"offers\", \"offers\", \"office_budgets\", \"officer\", \"officer\", \"officer\", \"officer\", \"officer\", \"officer\", \"offshore\", \"oil\", \"oil\", \"oil\", \"oil\", \"oil\", \"oil\", \"oil\", \"oil\", \"oil\", \"oiled\", \"oilfield\", \"oilfield\", \"oilfield\", \"oilsands\", \"ok\", \"ok\", \"old\", \"old\", \"old\", \"old\", \"old\", \"old\", \"old\", \"oldest\", \"oldest\", \"olympic_bid\", \"olympics\", \"olympics\", \"omarmosleh\", \"ominayak\", \"one\", \"one\", \"one\", \"one\", \"one\", \"one\", \"one\", \"one\", \"one\", \"one\", \"one\", \"one\", \"one\", \"onion\", \"ont\", \"ont\", \"ont\", \"ont\", \"ontario\", \"ontario\", \"ontario\", \"ontario\", \"ontario\", \"ontario\", \"ontario\", \"ontario\", \"onus\", \"opec\", \"operating\", \"operating\", \"operating\", \"operating\", \"operating_activities\", \"operating_expenses\", \"operating_netback\", \"operations\", \"operations\", \"operations\", \"operations\", \"operations\", \"operations\", \"operations\", \"opinion_article\", \"opinion_article\", \"opioid\", \"opioid\", \"optimum\", \"original\", \"original\", \"original\", \"original\", \"orr\", \"osborne\", \"osler\", \"otherwise_stated\", \"ottawa\", \"ottawa\", \"ottawa\", \"ottawa\", \"ottawa\", \"ottawa\", \"ottawa\", \"ottawacitizen\", \"outperform\", \"outperforming\", \"output\", \"output\", \"overriding\", \"oversold\", \"pages\", \"pages\", \"palaeontology\", \"paleotological\", \"paletta\", \"pallister\", \"pan_orient\", \"papua\", \"paris\", \"paris\", \"paris\", \"paris\", \"parliament_hill\", \"parliament_hill\", \"parmalat\", \"parmalat\", \"party\", \"party\", \"party\", \"party\", \"party\", \"party\", \"party\", \"party\", \"pason\", \"passcode\", \"passcode\", \"passed_away\", \"passed_away\", \"passionate\", \"patch\", \"patch\", \"patch\", \"patch\", \"patch\", \"patch_inside\", \"patchwork\", \"pathways\", \"pay\", \"pay\", \"pay\", \"pay\", \"pay\", \"pay\", \"pay\", \"pay\", \"pcs\", \"peacefully\", \"pellets\", \"people\", \"people\", \"people\", \"people\", \"people\", \"people\", \"pep\", \"per\", \"per\", \"per\", \"per\", \"per\", \"per_cent\", \"per_cent\", \"per_cent\", \"percentages\", \"performance\", \"performance\", \"performance\", \"performance\", \"performance\", \"period\", \"period\", \"period\", \"period\", \"period\", \"periods\", \"periods\", \"pernal\", \"perpetual\", \"perpetual\", \"perpetual_license\", \"person\", \"person\", \"person\", \"person\", \"person\", \"person\", \"peter\", \"petrucci\", \"phillipe\", \"photo\", \"photos\", \"photos_video\", \"pierce\", \"pineau\", \"pipeline\", \"pipeline\", \"pipeline\", \"pipeline\", \"pipeline\", \"pipeline_capacity\", \"pipeline_capacity\", \"pipelines\", \"pipelines\", \"pipelines\", \"pivotal\", \"plagued\", \"plan\", \"plan\", \"plan\", \"plan\", \"plan\", \"plan\", \"plan\", \"plan\", \"plan\", \"plan\", \"please_guard\", \"pleased\", \"plebiscite\", \"poised\", \"police\", \"police\", \"police\", \"political\", \"political\", \"political\", \"political\", \"political\", \"political\", \"political\", \"political\", \"political\", \"politics\", \"politics\", \"politics\", \"politics\", \"politics_briefing\", \"poloz\", \"poorer\", \"popped\", \"popularly\", \"population\", \"populism\", \"populist\", \"portfolio\", \"portfolio\", \"portfolio\", \"portfolio\", \"pot\", \"pot\", \"pot\", \"potter\", \"pouce_coupe\", \"pourbaix\", \"power_plants\", \"power_plants\", \"ppc\", \"ppr\", \"ppr_shares\", \"practice\", \"practice\", \"practice_focuses\", \"practises\", \"prairie_provident\", \"precise\", \"precision\", \"predeceased\", \"premier\", \"premier\", \"premier\", \"premier\", \"premier\", \"premier\", \"premiers\", \"prepayment\", \"prescribed\", \"presentation\", \"presentation\", \"preserve\", \"president\", \"president\", \"president\", \"president\", \"president\", \"president\", \"president\", \"president\", \"president\", \"president\", \"president_donald\", \"president_donald\", \"president_donald\", \"president_donald\", \"president_donald\", \"press_pages\", \"previous_advisory\", \"previous_fiscal\", \"price\", \"price\", \"price\", \"price\", \"price\", \"price\", \"price\", \"prices\", \"prices\", \"prices\", \"prices\", \"prices\", \"prime_minister\", \"prime_minister\", \"prime_minister\", \"prime_minister\", \"prime_minister\", \"priorities\", \"pristine\", \"privatize\", \"pro\", \"pro\", \"pro\", \"pro\", \"pro\", \"probability\", \"proceedings\", \"proceedings\", \"processed\", \"processes\", \"processes\", \"producers\", \"producers\", \"producers\", \"product\", \"product\", \"product\", \"product\", \"product\", \"product_liability\", \"production\", \"production\", \"production\", \"production\", \"production\", \"professional_liability\", \"professionals\", \"profit\", \"profit\", \"profit_rises\", \"program\", \"program\", \"program\", \"program\", \"program\", \"program\", \"program\", \"programs\", \"programs\", \"programs\", \"programs\", \"programs\", \"progressives\", \"project\", \"project\", \"project\", \"project\", \"project\", \"project\", \"projection\", \"projection\", \"promised\", \"promised\", \"propane\", \"property\", \"property\", \"property\", \"property\", \"property\", \"property_plant\", \"property_plant\", \"protects\", \"protects\", \"province\", \"province\", \"province\", \"province\", \"province\", \"province\", \"provinces\", \"provinces\", \"provincial\", \"provincial\", \"provincial\", \"provincial\", \"provincial\", \"provision\", \"proxy\", \"prudential\", \"prudential\", \"puck_sized\", \"purchases\", \"purchases\", \"purchases\", \"purechem\", \"purely\", \"purlucid\", \"purpose_built\", \"pursuant\", \"quarter\", \"quarter\", \"quarter\", \"quarterly_profit\", \"quash\", \"quebec\", \"quebec\", \"quebec\", \"quebec\", \"quebec\", \"quebec\", \"quebec\", \"quebecers\", \"quebecers\", \"queen_park\", \"queer\", \"questerre\", \"questor\", \"questortech\", \"raab\", \"races\", \"rachel\", \"rail\", \"rail\", \"rail_transport\", \"railway\", \"railway\", \"railway\", \"rainforest\", \"rainy\", \"rally\", \"rally\", \"rally\", \"rally\", \"ranch\", \"randgold\", \"random\", \"ranked\", \"ranking\", \"ranks\", \"ranks\", \"raw\", \"raymond_james\", \"rbc\", \"reactivation\", \"read\", \"read\", \"read\", \"read\", \"read\", \"read\", \"read\", \"read\", \"readers\", \"readers\", \"readers\", \"readers\", \"readers\", \"real_estate\", \"real_estate\", \"real_estate\", \"real_estate\", \"really\", \"really\", \"really\", \"rebate\", \"rebuild\", \"recipient\", \"reconciliations\", \"reconciliations\", \"recover\", \"recover\", \"recreational\", \"recreational\", \"recycled\", \"redemption\", \"redevelop\", \"refineries\", \"regret\", \"regulator\", \"regulator\", \"regulator\", \"rein\", \"reit\", \"relate\", \"release\", \"release\", \"release\", \"release\", \"release\", \"release_contains\", \"rent\", \"rental\", \"rental\", \"rental\", \"rental_fleet\", \"rental_fleet\", \"renters\", \"rents\", \"replay\", \"reporter_photographer\", \"represents\", \"represents\", \"represents\", \"represents\", \"represents\", \"represents\", \"repurposed\", \"requisite\", \"research\", \"research\", \"research\", \"research\", \"research\", \"research\", \"research\", \"research\", \"research\", \"research\", \"researching\", \"reserved\", \"residential\", \"residential\", \"residential\", \"residential\", \"resolves\", \"respects\", \"respondents\", \"restated\", \"restocked\", \"results\", \"results\", \"results\", \"results\", \"results\", \"retreat\", \"reuters\", \"revenue\", \"revenue\", \"revenue\", \"revenue\", \"revenue_recognition\", \"reviewing\", \"revise\", \"revolving_facility\", \"revolving_facility\", \"rig_counts\", \"right\", \"right\", \"right\", \"right\", \"right\", \"riocan\", \"rising\", \"rising\", \"rising\", \"robertson\", \"rocky_mountain\", \"rose\", \"rose\", \"roseanne\", \"routine\", \"rowland\", \"ryerson\", \"sad\", \"sagd\", \"sahota\", \"sales\", \"sales\", \"sales\", \"sales\", \"sales\", \"sands\", \"sands\", \"sarcophagus\", \"sargent\", \"saskatchewan\", \"saskatchewan\", \"saskatchewan\", \"saskatchewan\", \"saskatchewan\", \"saskatchewan\", \"saskatchewan\", \"saudi\", \"saudi\", \"saudi\", \"saudi\", \"saudi_arabia\", \"saudi_arabia\", \"saudi_arabia\", \"saudi_arabia\", \"saudi_arabia\", \"saudis\", \"sawn_lake\", \"says\", \"says\", \"says\", \"says\", \"says\", \"says\", \"says\", \"scheer\", \"scheer\", \"scheer\", \"schindler\", \"scrambles\", \"sdata\", \"search\", \"sector\", \"sector\", \"sector\", \"sector\", \"securely_reach\", \"securities\", \"securities\", \"securities\", \"segments\", \"sent_words\", \"sept\", \"september\", \"september\", \"september\", \"september\", \"september\", \"services\", \"services\", \"services\", \"services\", \"services\", \"services\", \"services\", \"servicing\", \"sfd\", \"shady\", \"share\", \"share\", \"share\", \"share\", \"share\", \"share_basic\", \"share_documents\", \"shareholder\", \"shareholder\", \"shareholder\", \"shareholder\", \"shareholders\", \"shareholders\", \"shareholders\", \"shareholders\", \"shares\", \"shares\", \"shares\", \"shares\", \"shaved\", \"shawn_mccarthy\", \"sheer\", \"sheet\", \"shelters\", \"sheraton\", \"shippers\", \"shop\", \"shop\", \"shops\", \"shore\", \"shortages\", \"shortages\", \"shortages\", \"shortages\", \"shot\", \"showcase\", \"shrinkage\", \"shutdowns\", \"shutdowns\", \"shutting\", \"siam\", \"sidewalks\", \"sign\", \"sign\", \"sign\", \"sign\", \"sign\", \"signatures\", \"similarly_defined\", \"similarly_defined\", \"sims\", \"since\", \"since\", \"since\", \"since\", \"since\", \"since\", \"since\", \"since\", \"since\", \"sink\", \"sister\", \"sister\", \"sit\", \"site\", \"site\", \"site\", \"site\", \"site\", \"site\", \"site\", \"sites\", \"skies\", \"slave\", \"slave\", \"slave\", \"sliced\", \"slight\", \"slightly\", \"slip\", \"slogan\", \"slowdown\", \"slowdown\", \"slowdown\", \"slump\", \"small\", \"small\", \"small\", \"small\", \"small\", \"small\", \"small\", \"small\", \"small_cap\", \"small_town\", \"smiles\", \"smithe\", \"smithe_st\", \"snc\", \"snc_lavalin\", \"socialize\", \"software\", \"software\", \"software\", \"software\", \"software\", \"software_license\", \"softwood\", \"solutions\", \"solutions\", \"something\", \"something\", \"something\", \"something\", \"somewhat\", \"sommelier\", \"sonia\", \"sons\", \"spanish\", \"speaker\", \"speakers\", \"specialized\", \"specialized\", \"specializes\", \"specializes\", \"spell\", \"spell\", \"split_congress\", \"spokesman\", \"spokesperson\", \"sporadic\", \"spruce\", \"st\", \"st\", \"st\", \"stabilized\", \"stabilized\", \"stabilizing\", \"stack\", \"staffing\", \"staggering\", \"stamp\", \"star\", \"star\", \"star\", \"star\", \"star\", \"star\", \"star_analysis\", \"starbucks\", \"starthere\", \"startup\", \"starwood\", \"statements\", \"statements\", \"statements_contained\", \"station\", \"station\", \"station\", \"steam\", \"stewart\", \"stikeman\", \"stikeman_elliott\", \"stock\", \"stock\", \"stock\", \"stock\", \"stocks\", \"stocks\", \"stocks\", \"store\", \"store\", \"store\", \"store\", \"store\", \"store\", \"store\", \"stores\", \"stores\", \"stores\", \"stores\", \"stores\", \"stores\", \"stories\", \"stories\", \"stories\", \"stories\", \"stories\", \"story\", \"story\", \"story\", \"story\", \"story\", \"story\", \"story\", \"story\", \"story\", \"strad\", \"stradenergy\", \"strategic\", \"strategic\", \"strategic\", \"strategic\", \"strategic\", \"streetwise\", \"stretching\", \"string\", \"string\", \"structural\", \"stueck\", \"su\", \"subject\", \"subject\", \"subject\", \"subject\", \"subject\", \"subject\", \"subscribers\", \"subscribers\", \"subscribers\", \"subscription_receipts\", \"subsequently\", \"subsidiaries\", \"sumas\", \"summary\", \"summers\", \"sun_life\", \"suncor\", \"suncor\", \"sunlife\", \"supply\", \"supply\", \"supply\", \"supply\", \"support\", \"support\", \"support\", \"support\", \"support\", \"support\", \"support\", \"supreme_court\", \"surface\", \"surprising\", \"surrey\", \"survey\", \"survey\", \"survey\", \"survey\", \"suspending\", \"suttles\", \"syndrome\", \"tailings\", \"tammy\", \"target\", \"target\", \"target\", \"target\", \"target\", \"taste\", \"tax\", \"tax\", \"tax\", \"tax\", \"tax\", \"tax\", \"tax\", \"tax\", \"tax_burden\", \"taxed\", \"taxes\", \"taxes\", \"taxes\", \"taxes\", \"taxpayers\", \"taxpayers\", \"taxpayers\", \"taxpayers\", \"tenant\", \"terminal\", \"terminal\", \"terminal\", \"terminals\", \"terminals\", \"tervita_corp\", \"tervita_corp\", \"tev\", \"tev\", \"thailand\", \"thailand_joint\", \"thanked\", \"theglobeandmail\", \"theglobeandmail\", \"theglobeandmail\", \"therefore\", \"thestar\", \"thestar\", \"thestar\", \"thestar\", \"thing\", \"thing\", \"thing\", \"things\", \"things\", \"things\", \"things\", \"things\", \"things\", \"think\", \"think\", \"think\", \"third_quarter\", \"third_quarter\", \"third_quarter\", \"third_quarter\", \"thomas\", \"thomas\", \"thomas\", \"thomsonreuters\", \"three\", \"three\", \"three\", \"three\", \"three\", \"three\", \"three\", \"three\", \"three\", \"three\", \"three\", \"three\", \"threshold\", \"throughout\", \"throughout\", \"throughout\", \"throughout\", \"throughout\", \"throughout\", \"thursday\", \"thursday\", \"thursday\", \"thursday\", \"thursday\", \"time\", \"time\", \"time\", \"time\", \"time\", \"time\", \"time\", \"time\", \"time\", \"time\", \"time\", \"time\", \"time\", \"time\", \"timelines\", \"tips_globeandmail\", \"titles\", \"tobin\", \"tonne\", \"top\", \"top\", \"top\", \"top\", \"top\", \"top\", \"top\", \"top\", \"top\", \"top\", \"top_stories\", \"top_stories\", \"toronto\", \"toronto\", \"toronto\", \"toronto\", \"toronto\", \"toronto\", \"toronto\", \"toronto\", \"toronto\", \"toronto\", \"toronto\", \"total\", \"total\", \"total\", \"total\", \"total\", \"touches\", \"towers\", \"tracker_data\", \"tracks\", \"tracks\", \"trade\", \"trade\", \"trade\", \"trade\", \"trade\", \"trade\", \"trade\", \"trade\", \"trailing_twelve\", \"trailing_twelve\", \"tranches\", \"trans\", \"trans\", \"transcanada\", \"transglobe\", \"transglobe\", \"transit\", \"transit\", \"transitioned\", \"transmitted\", \"transmitted\", \"transunion\", \"traverse\", \"trial\", \"trial_lawyers\", \"trials\", \"trike\", \"trinidad\", \"trip\", \"tron\", \"trudeau\", \"trudeau\", \"trudeau\", \"trudeau\", \"trudeau\", \"trump\", \"trump\", \"trump\", \"trump\", \"trump\", \"trump\", \"try\", \"try\", \"tsx\", \"tsx\", \"tsx\", \"tsx\", \"tsx\", \"tsx_venture\", \"tuesday\", \"tuesday\", \"tuesday\", \"tuesday\", \"tuesday\", \"turner\", \"turnerporter_ca\", \"twitter\", \"twitter\", \"twitter\", \"twitter\", \"twitter\", \"twitter_bren_doherty\", \"two\", \"two\", \"two\", \"two\", \"two\", \"two\", \"two\", \"two\", \"two\", \"two\", \"two\", \"two\", \"tyrrell\", \"uinta\", \"umbach\", \"uncertainties\", \"uncommon\", \"understand\", \"understand\", \"unfunded\", \"unifor\", \"union_representing\", \"unionized\", \"united_kingdom\", \"unitholders\", \"units\", \"units\", \"units\", \"university\", \"university\", \"university\", \"university\", \"university\", \"university\", \"university\", \"university\", \"unknown_risks\", \"unlicensed\", \"unlimited\", \"unnamed\", \"unplanned\", \"upcoming_developing\", \"upcoming_words\", \"updated\", \"updated\", \"updated\", \"updated\", \"upsized\", \"ur\", \"url\", \"us\", \"us\", \"us\", \"us\", \"us\", \"us\", \"us\", \"us\", \"us\", \"usa\", \"usmca\", \"vacancy_rate\", \"vacancy_rates\", \"vacant\", \"valuation\", \"valued\", \"valued\", \"vancouver\", \"vancouver\", \"vancouver\", \"vancouver\", \"vancouver\", \"vancouver\", \"venture\", \"versus\", \"vessel\", \"vessels\", \"via_securedrop\", \"video\", \"video\", \"video\", \"video\", \"video\", \"visited\", \"visited\", \"visualize\", \"vocal\", \"vocal\", \"voting_rights\", \"voyeurism\", \"wade\", \"wadsworth\", \"wadsworth_presentation\", \"wage_growth\", \"wall_street\", \"walmart\", \"walter\", \"want\", \"want\", \"want\", \"ward_councillor\", \"water\", \"water\", \"water\", \"water\", \"water_capped\", \"waterfront\", \"watt\", \"watt\", \"way\", \"way\", \"way\", \"way\", \"way\", \"way\", \"way\", \"way\", \"way\", \"wcsb\", \"wealth_reporter\", \"wealthy\", \"weapon\", \"web\", \"web\", \"webcast\", \"webcasts\", \"weddings\", \"wednesday\", \"wednesday\", \"wednesday\", \"wednesday\", \"wednesday\", \"weed\", \"weed\", \"week\", \"week\", \"week\", \"week\", \"week\", \"week\", \"weekly_western\", \"well\", \"well\", \"well\", \"well\", \"well\", \"well\", \"well\", \"well\", \"well\", \"well\", \"well\", \"wells\", \"wells\", \"wells\", \"wendy\", \"western\", \"western\", \"western\", \"western\", \"western\", \"western\", \"western\", \"western\", \"wet\", \"wetter\", \"whatever\", \"wheat\", \"wife\", \"wife\", \"wife\", \"wife\", \"williston\", \"wineries\", \"wisdom\", \"wisdom\", \"wishes\", \"wishes\", \"wishes\", \"woman\", \"woman\", \"women\", \"women\", \"women\", \"women\", \"women\", \"wonderful\", \"wonderful\", \"wont\", \"wooing\", \"word\", \"word\", \"word\", \"words\", \"words\", \"words\", \"words\", \"words\", \"words\", \"words\", \"work\", \"work\", \"work\", \"work\", \"work\", \"work\", \"work\", \"work\", \"work\", \"work\", \"work\", \"work\", \"work_camp\", \"working_capital\", \"world\", \"world\", \"world\", \"world\", \"world\", \"world\", \"world\", \"world\", \"world\", \"world\", \"worrying\", \"would\", \"would\", \"would\", \"would\", \"would\", \"would\", \"would\", \"would\", \"would\", \"would\", \"would\", \"would\", \"writer\", \"writer\", \"writethru\", \"year\", \"year\", \"year\", \"year\", \"year\", \"year\", \"year\", \"year\", \"year\", \"year\", \"year\", \"years\", \"years\", \"years\", \"years\", \"years\", \"years\", \"years\", \"years\", \"years\", \"years\", \"years\", \"years\", \"years\", \"years\", \"yellow\", \"yellow\", \"yellow_vest\", \"ygr\", \"yields\", \"younger_self\", \"ypaletta\", \"zargon\", \"zoning\"]}, \"R\": 30, \"lambda.step\": 0.01, \"plot.opts\": {\"xlab\": \"PC1\", \"ylab\": \"PC2\"}, \"topic.order\": [1, 2, 3, 4, 5, 6, 7, 8, 9, 10, 11, 12, 13, 14, 15, 16, 17, 18, 19, 20, 21, 22, 23, 24, 25, 26, 27, 28, 29, 30, 31, 32, 33, 34, 35, 36, 37, 38, 39, 40]};\n",
       "\n",
       "function LDAvis_load_lib(url, callback){\n",
       "  var s = document.createElement('script');\n",
       "  s.src = url;\n",
       "  s.async = true;\n",
       "  s.onreadystatechange = s.onload = callback;\n",
       "  s.onerror = function(){console.warn(\"failed to load library \" + url);};\n",
       "  document.getElementsByTagName(\"head\")[0].appendChild(s);\n",
       "}\n",
       "\n",
       "if(typeof(LDAvis) !== \"undefined\"){\n",
       "   // already loaded: just create the visualization\n",
       "   !function(LDAvis){\n",
       "       new LDAvis(\"#\" + \"ldavis_el776491124092616644757967275\", ldavis_el776491124092616644757967275_data);\n",
       "   }(LDAvis);\n",
       "}else if(typeof define === \"function\" && define.amd){\n",
       "   // require.js is available: use it to load d3/LDAvis\n",
       "   require.config({paths: {d3: \"https://cdnjs.cloudflare.com/ajax/libs/d3/3.5.5/d3.min\"}});\n",
       "   require([\"d3\"], function(d3){\n",
       "      window.d3 = d3;\n",
       "      LDAvis_load_lib(\"https://cdn.rawgit.com/bmabey/pyLDAvis/files/ldavis.v1.0.0.js\", function(){\n",
       "        new LDAvis(\"#\" + \"ldavis_el776491124092616644757967275\", ldavis_el776491124092616644757967275_data);\n",
       "      });\n",
       "    });\n",
       "}else{\n",
       "    // require.js not available: dynamically load d3 & LDAvis\n",
       "    LDAvis_load_lib(\"https://cdnjs.cloudflare.com/ajax/libs/d3/3.5.5/d3.min.js\", function(){\n",
       "         LDAvis_load_lib(\"https://cdn.rawgit.com/bmabey/pyLDAvis/files/ldavis.v1.0.0.js\", function(){\n",
       "                 new LDAvis(\"#\" + \"ldavis_el776491124092616644757967275\", ldavis_el776491124092616644757967275_data);\n",
       "            })\n",
       "         });\n",
       "}\n",
       "</script>"
      ],
      "text/plain": [
       "<IPython.core.display.HTML object>"
      ]
     },
     "execution_count": 48,
     "metadata": {},
     "output_type": "execute_result"
    }
   ],
   "source": [
    "# Visualize the topics\n",
    "pyLDAvis.enable_notebook()\n",
    "vis = pyLDAvis.gensim.prepare(lda_model_optimal, corpus_bag_of_words, dictionary, sort_topics=False)\n",
    "pyLDAvis.display(vis)"
   ]
  },
  {
   "cell_type": "markdown",
   "metadata": {},
   "source": [
    "#### Looking at output from the LDA model"
   ]
  },
  {
   "cell_type": "code",
   "execution_count": 86,
   "metadata": {},
   "outputs": [],
   "source": [
    "# Reference: https://github.com/RaRe-Technologies/gensim/blob/develop/docs/notebooks/topic_methods.ipynb"
   ]
  },
  {
   "cell_type": "code",
   "execution_count": 87,
   "metadata": {},
   "outputs": [
    {
     "data": {
      "text/plain": [
       "629"
      ]
     },
     "execution_count": 87,
     "metadata": {},
     "output_type": "execute_result"
    }
   ],
   "source": [
    "len(corpus_bag_of_words)"
   ]
  },
  {
   "cell_type": "code",
   "execution_count": 88,
   "metadata": {},
   "outputs": [
    {
     "data": {
      "text/plain": [
       "629"
      ]
     },
     "execution_count": 88,
     "metadata": {},
     "output_type": "execute_result"
    }
   ],
   "source": [
    "len(lda_model_optimal[corpus_bag_of_words])"
   ]
  },
  {
   "cell_type": "markdown",
   "metadata": {},
   "source": [
    "#### Topic distribution across documents"
   ]
  },
  {
   "cell_type": "code",
   "execution_count": 89,
   "metadata": {},
   "outputs": [],
   "source": [
    "topics_in_each_document = lda_model_optimal.get_document_topics(corpus_bag_of_words, per_word_topics=False, minimum_probability=0.0)\n",
    "# this will output the relevant topics per document"
   ]
  },
  {
   "cell_type": "code",
   "execution_count": 90,
   "metadata": {},
   "outputs": [
    {
     "data": {
      "text/plain": [
       "[(0, 3.709989e-05),\n",
       " (1, 0.18253274),\n",
       " (2, 0.060577776),\n",
       " (3, 0.0001304349),\n",
       " (4, 0.05001814),\n",
       " (5, 0.051171504),\n",
       " (6, 9.2006296e-05),\n",
       " (7, 0.20554493),\n",
       " (8, 0.017053224),\n",
       " (9, 0.00036637398),\n",
       " (10, 2.2067166e-05),\n",
       " (11, 7.684488e-05),\n",
       " (12, 0.095419385),\n",
       " (13, 0.3238562),\n",
       " (14, 3.865999e-05),\n",
       " (15, 0.000246346),\n",
       " (16, 5.2308387e-05),\n",
       " (17, 0.012395913),\n",
       " (18, 9.1230206e-05),\n",
       " (19, 0.00027681378)]"
      ]
     },
     "execution_count": 90,
     "metadata": {},
     "output_type": "execute_result"
    }
   ],
   "source": [
    "# one probability weight for each topic in this document\n",
    "topics_in_each_document[4]"
   ]
  },
  {
   "cell_type": "code",
   "execution_count": 91,
   "metadata": {},
   "outputs": [],
   "source": [
    "# creating a document_topic_matrix for all topics, all documents"
   ]
  },
  {
   "cell_type": "code",
   "execution_count": 92,
   "metadata": {},
   "outputs": [],
   "source": [
    "topic_document_matrix = []\n",
    "for document_topics in topics_in_each_document:\n",
    "    tdm = {}\n",
    "    for topicFound in document_topics:\n",
    "        topicID = topicFound[0]\n",
    "        topicValue = topicFound[1]\n",
    "        tdm[topicID] = topicValue # set value\n",
    "    topic_document_matrix.append(tdm)\n",
    "tdm_df = pd.DataFrame(topic_document_matrix)        "
   ]
  },
  {
   "cell_type": "code",
   "execution_count": 93,
   "metadata": {},
   "outputs": [],
   "source": [
    "# change order of columns\n",
    "columns = [\"topic_\"+str(i) for i in range(1,idealNumberOfTopics+1)]"
   ]
  },
  {
   "cell_type": "code",
   "execution_count": 94,
   "metadata": {},
   "outputs": [],
   "source": [
    "tdm_df.columns = columns"
   ]
  },
  {
   "cell_type": "code",
   "execution_count": 95,
   "metadata": {},
   "outputs": [
    {
     "data": {
      "text/html": [
       "<div>\n",
       "<style scoped>\n",
       "    .dataframe tbody tr th:only-of-type {\n",
       "        vertical-align: middle;\n",
       "    }\n",
       "\n",
       "    .dataframe tbody tr th {\n",
       "        vertical-align: top;\n",
       "    }\n",
       "\n",
       "    .dataframe thead th {\n",
       "        text-align: right;\n",
       "    }\n",
       "</style>\n",
       "<table border=\"1\" class=\"dataframe\">\n",
       "  <thead>\n",
       "    <tr style=\"text-align: right;\">\n",
       "      <th></th>\n",
       "      <th>topic_1</th>\n",
       "      <th>topic_2</th>\n",
       "      <th>topic_3</th>\n",
       "      <th>topic_4</th>\n",
       "      <th>topic_5</th>\n",
       "      <th>topic_6</th>\n",
       "      <th>topic_7</th>\n",
       "      <th>topic_8</th>\n",
       "      <th>topic_9</th>\n",
       "      <th>topic_10</th>\n",
       "      <th>topic_11</th>\n",
       "      <th>topic_12</th>\n",
       "      <th>topic_13</th>\n",
       "      <th>topic_14</th>\n",
       "      <th>topic_15</th>\n",
       "      <th>topic_16</th>\n",
       "      <th>topic_17</th>\n",
       "      <th>topic_18</th>\n",
       "      <th>topic_19</th>\n",
       "      <th>topic_20</th>\n",
       "    </tr>\n",
       "  </thead>\n",
       "  <tbody>\n",
       "    <tr>\n",
       "      <th>0</th>\n",
       "      <td>0.000031</td>\n",
       "      <td>0.000048</td>\n",
       "      <td>0.170232</td>\n",
       "      <td>0.000109</td>\n",
       "      <td>0.082540</td>\n",
       "      <td>0.000746</td>\n",
       "      <td>0.000077</td>\n",
       "      <td>0.342914</td>\n",
       "      <td>0.014718</td>\n",
       "      <td>0.000307</td>\n",
       "      <td>0.000019</td>\n",
       "      <td>0.000064</td>\n",
       "      <td>0.000310</td>\n",
       "      <td>0.384399</td>\n",
       "      <td>0.000032</td>\n",
       "      <td>0.000207</td>\n",
       "      <td>0.000044</td>\n",
       "      <td>0.000317</td>\n",
       "      <td>0.002653</td>\n",
       "      <td>0.000232</td>\n",
       "    </tr>\n",
       "    <tr>\n",
       "      <th>1</th>\n",
       "      <td>0.000047</td>\n",
       "      <td>0.000072</td>\n",
       "      <td>0.000621</td>\n",
       "      <td>0.000166</td>\n",
       "      <td>0.001306</td>\n",
       "      <td>0.001136</td>\n",
       "      <td>0.000117</td>\n",
       "      <td>0.456344</td>\n",
       "      <td>0.000475</td>\n",
       "      <td>0.000466</td>\n",
       "      <td>0.000028</td>\n",
       "      <td>0.000098</td>\n",
       "      <td>0.025166</td>\n",
       "      <td>0.424483</td>\n",
       "      <td>0.000049</td>\n",
       "      <td>0.000314</td>\n",
       "      <td>0.000067</td>\n",
       "      <td>0.000479</td>\n",
       "      <td>0.088211</td>\n",
       "      <td>0.000353</td>\n",
       "    </tr>\n",
       "    <tr>\n",
       "      <th>2</th>\n",
       "      <td>0.000042</td>\n",
       "      <td>0.000065</td>\n",
       "      <td>0.024991</td>\n",
       "      <td>0.000149</td>\n",
       "      <td>0.282969</td>\n",
       "      <td>0.000909</td>\n",
       "      <td>0.000105</td>\n",
       "      <td>0.045146</td>\n",
       "      <td>0.036650</td>\n",
       "      <td>0.000418</td>\n",
       "      <td>0.000025</td>\n",
       "      <td>0.000088</td>\n",
       "      <td>0.057321</td>\n",
       "      <td>0.362970</td>\n",
       "      <td>0.000044</td>\n",
       "      <td>0.000281</td>\n",
       "      <td>0.000060</td>\n",
       "      <td>0.100050</td>\n",
       "      <td>0.087401</td>\n",
       "      <td>0.000316</td>\n",
       "    </tr>\n",
       "    <tr>\n",
       "      <th>3</th>\n",
       "      <td>0.000096</td>\n",
       "      <td>0.000147</td>\n",
       "      <td>0.052837</td>\n",
       "      <td>0.000338</td>\n",
       "      <td>0.036028</td>\n",
       "      <td>0.061208</td>\n",
       "      <td>0.000238</td>\n",
       "      <td>0.299223</td>\n",
       "      <td>0.000967</td>\n",
       "      <td>0.000949</td>\n",
       "      <td>0.000057</td>\n",
       "      <td>0.000199</td>\n",
       "      <td>0.000957</td>\n",
       "      <td>0.530758</td>\n",
       "      <td>0.000100</td>\n",
       "      <td>0.000639</td>\n",
       "      <td>0.000136</td>\n",
       "      <td>0.000974</td>\n",
       "      <td>0.000236</td>\n",
       "      <td>0.013911</td>\n",
       "    </tr>\n",
       "    <tr>\n",
       "      <th>4</th>\n",
       "      <td>0.000037</td>\n",
       "      <td>0.182533</td>\n",
       "      <td>0.060581</td>\n",
       "      <td>0.000130</td>\n",
       "      <td>0.050017</td>\n",
       "      <td>0.051171</td>\n",
       "      <td>0.000092</td>\n",
       "      <td>0.205545</td>\n",
       "      <td>0.017054</td>\n",
       "      <td>0.000366</td>\n",
       "      <td>0.000022</td>\n",
       "      <td>0.000077</td>\n",
       "      <td>0.095418</td>\n",
       "      <td>0.323854</td>\n",
       "      <td>0.000039</td>\n",
       "      <td>0.000246</td>\n",
       "      <td>0.000052</td>\n",
       "      <td>0.012396</td>\n",
       "      <td>0.000091</td>\n",
       "      <td>0.000277</td>\n",
       "    </tr>\n",
       "  </tbody>\n",
       "</table>\n",
       "</div>"
      ],
      "text/plain": [
       "    topic_1   topic_2   topic_3   topic_4   topic_5   topic_6   topic_7  \\\n",
       "0  0.000031  0.000048  0.170232  0.000109  0.082540  0.000746  0.000077   \n",
       "1  0.000047  0.000072  0.000621  0.000166  0.001306  0.001136  0.000117   \n",
       "2  0.000042  0.000065  0.024991  0.000149  0.282969  0.000909  0.000105   \n",
       "3  0.000096  0.000147  0.052837  0.000338  0.036028  0.061208  0.000238   \n",
       "4  0.000037  0.182533  0.060581  0.000130  0.050017  0.051171  0.000092   \n",
       "\n",
       "    topic_8   topic_9  topic_10  topic_11  topic_12  topic_13  topic_14  \\\n",
       "0  0.342914  0.014718  0.000307  0.000019  0.000064  0.000310  0.384399   \n",
       "1  0.456344  0.000475  0.000466  0.000028  0.000098  0.025166  0.424483   \n",
       "2  0.045146  0.036650  0.000418  0.000025  0.000088  0.057321  0.362970   \n",
       "3  0.299223  0.000967  0.000949  0.000057  0.000199  0.000957  0.530758   \n",
       "4  0.205545  0.017054  0.000366  0.000022  0.000077  0.095418  0.323854   \n",
       "\n",
       "   topic_15  topic_16  topic_17  topic_18  topic_19  topic_20  \n",
       "0  0.000032  0.000207  0.000044  0.000317  0.002653  0.000232  \n",
       "1  0.000049  0.000314  0.000067  0.000479  0.088211  0.000353  \n",
       "2  0.000044  0.000281  0.000060  0.100050  0.087401  0.000316  \n",
       "3  0.000100  0.000639  0.000136  0.000974  0.000236  0.013911  \n",
       "4  0.000039  0.000246  0.000052  0.012396  0.000091  0.000277  "
      ]
     },
     "execution_count": 95,
     "metadata": {},
     "output_type": "execute_result"
    }
   ],
   "source": [
    "tdm_df.head()"
   ]
  },
  {
   "cell_type": "code",
   "execution_count": 96,
   "metadata": {},
   "outputs": [],
   "source": [
    "# this will calculate the dominant topic per document, recall this starts from 0\n",
    "dominant_topic = np.argmax(tdm_df.values, axis=1)"
   ]
  },
  {
   "cell_type": "code",
   "execution_count": 97,
   "metadata": {},
   "outputs": [],
   "source": [
    "tdm_df['dominant_topic'] = dominant_topic+1 # using index starting from 1"
   ]
  },
  {
   "cell_type": "code",
   "execution_count": 98,
   "metadata": {},
   "outputs": [],
   "source": [
    "combined_tdm = pd.concat([df_articles, tdm_df], axis=1) "
   ]
  },
  {
   "cell_type": "code",
   "execution_count": 99,
   "metadata": {},
   "outputs": [],
   "source": [
    "#combined_tdm.loc[4].text"
   ]
  },
  {
   "cell_type": "code",
   "execution_count": 100,
   "metadata": {},
   "outputs": [
    {
     "data": {
      "text/html": [
       "<div>\n",
       "<style scoped>\n",
       "    .dataframe tbody tr th:only-of-type {\n",
       "        vertical-align: middle;\n",
       "    }\n",
       "\n",
       "    .dataframe tbody tr th {\n",
       "        vertical-align: top;\n",
       "    }\n",
       "\n",
       "    .dataframe thead th {\n",
       "        text-align: right;\n",
       "    }\n",
       "</style>\n",
       "<table border=\"1\" class=\"dataframe\">\n",
       "  <thead>\n",
       "    <tr style=\"text-align: right;\">\n",
       "      <th></th>\n",
       "      <th>author</th>\n",
       "      <th>date</th>\n",
       "      <th>headline</th>\n",
       "      <th>text</th>\n",
       "      <th>topic_1</th>\n",
       "      <th>topic_2</th>\n",
       "      <th>topic_3</th>\n",
       "      <th>topic_4</th>\n",
       "      <th>topic_5</th>\n",
       "      <th>topic_6</th>\n",
       "      <th>...</th>\n",
       "      <th>topic_12</th>\n",
       "      <th>topic_13</th>\n",
       "      <th>topic_14</th>\n",
       "      <th>topic_15</th>\n",
       "      <th>topic_16</th>\n",
       "      <th>topic_17</th>\n",
       "      <th>topic_18</th>\n",
       "      <th>topic_19</th>\n",
       "      <th>topic_20</th>\n",
       "      <th>dominant_topic</th>\n",
       "    </tr>\n",
       "  </thead>\n",
       "  <tbody>\n",
       "    <tr>\n",
       "      <th>0</th>\n",
       "      <td>Gillian Steward</td>\n",
       "      <td>2019-01-01</td>\n",
       "      <td>Threats of Alberta separation are mostly an el...</td>\n",
       "      <td>The angry Albertan has struck again.\\nAnd he ...</td>\n",
       "      <td>0.000031</td>\n",
       "      <td>0.000048</td>\n",
       "      <td>0.170232</td>\n",
       "      <td>0.000109</td>\n",
       "      <td>0.082540</td>\n",
       "      <td>0.000746</td>\n",
       "      <td>...</td>\n",
       "      <td>0.000064</td>\n",
       "      <td>0.000310</td>\n",
       "      <td>0.384399</td>\n",
       "      <td>0.000032</td>\n",
       "      <td>0.000207</td>\n",
       "      <td>0.000044</td>\n",
       "      <td>0.000317</td>\n",
       "      <td>0.002653</td>\n",
       "      <td>0.000232</td>\n",
       "      <td>14</td>\n",
       "    </tr>\n",
       "    <tr>\n",
       "      <th>1</th>\n",
       "      <td>Kevin Maimann  StarMetro Edmonton</td>\n",
       "      <td>2019-01-01</td>\n",
       "      <td>Albertans dislike PM the most, poll finds; Gov...</td>\n",
       "      <td>EDMONTON -- Albertans are most likely among C...</td>\n",
       "      <td>0.000047</td>\n",
       "      <td>0.000072</td>\n",
       "      <td>0.000621</td>\n",
       "      <td>0.000166</td>\n",
       "      <td>0.001306</td>\n",
       "      <td>0.001136</td>\n",
       "      <td>...</td>\n",
       "      <td>0.000098</td>\n",
       "      <td>0.025166</td>\n",
       "      <td>0.424483</td>\n",
       "      <td>0.000049</td>\n",
       "      <td>0.000314</td>\n",
       "      <td>0.000067</td>\n",
       "      <td>0.000479</td>\n",
       "      <td>0.088211</td>\n",
       "      <td>0.000353</td>\n",
       "      <td>8</td>\n",
       "    </tr>\n",
       "    <tr>\n",
       "      <th>2</th>\n",
       "      <td>Kevin Maimann  StarMetro Edmonton</td>\n",
       "      <td>2019-01-01</td>\n",
       "      <td>Our annual predictions for the year ahead</td>\n",
       "      <td>S o long, 2018. The year started with Virtue ...</td>\n",
       "      <td>0.000042</td>\n",
       "      <td>0.000065</td>\n",
       "      <td>0.024991</td>\n",
       "      <td>0.000149</td>\n",
       "      <td>0.282969</td>\n",
       "      <td>0.000909</td>\n",
       "      <td>...</td>\n",
       "      <td>0.000088</td>\n",
       "      <td>0.057321</td>\n",
       "      <td>0.362970</td>\n",
       "      <td>0.000044</td>\n",
       "      <td>0.000281</td>\n",
       "      <td>0.000060</td>\n",
       "      <td>0.100050</td>\n",
       "      <td>0.087401</td>\n",
       "      <td>0.000316</td>\n",
       "      <td>14</td>\n",
       "    </tr>\n",
       "  </tbody>\n",
       "</table>\n",
       "<p>3 rows × 25 columns</p>\n",
       "</div>"
      ],
      "text/plain": [
       "                               author       date  \\\n",
       "0                    Gillian Steward  2019-01-01   \n",
       "1  Kevin Maimann  StarMetro Edmonton  2019-01-01   \n",
       "2  Kevin Maimann  StarMetro Edmonton  2019-01-01   \n",
       "\n",
       "                                            headline  \\\n",
       "0  Threats of Alberta separation are mostly an el...   \n",
       "1  Albertans dislike PM the most, poll finds; Gov...   \n",
       "2          Our annual predictions for the year ahead   \n",
       "\n",
       "                                                text   topic_1   topic_2  \\\n",
       "0   The angry Albertan has struck again.\\nAnd he ...  0.000031  0.000048   \n",
       "1   EDMONTON -- Albertans are most likely among C...  0.000047  0.000072   \n",
       "2   S o long, 2018. The year started with Virtue ...  0.000042  0.000065   \n",
       "\n",
       "    topic_3   topic_4   topic_5   topic_6       ...        topic_12  topic_13  \\\n",
       "0  0.170232  0.000109  0.082540  0.000746       ...        0.000064  0.000310   \n",
       "1  0.000621  0.000166  0.001306  0.001136       ...        0.000098  0.025166   \n",
       "2  0.024991  0.000149  0.282969  0.000909       ...        0.000088  0.057321   \n",
       "\n",
       "   topic_14  topic_15  topic_16  topic_17  topic_18  topic_19  topic_20  \\\n",
       "0  0.384399  0.000032  0.000207  0.000044  0.000317  0.002653  0.000232   \n",
       "1  0.424483  0.000049  0.000314  0.000067  0.000479  0.088211  0.000353   \n",
       "2  0.362970  0.000044  0.000281  0.000060  0.100050  0.087401  0.000316   \n",
       "\n",
       "   dominant_topic  \n",
       "0              14  \n",
       "1               8  \n",
       "2              14  \n",
       "\n",
       "[3 rows x 25 columns]"
      ]
     },
     "execution_count": 100,
     "metadata": {},
     "output_type": "execute_result"
    }
   ],
   "source": [
    "combined_tdm.head(3)"
   ]
  },
  {
   "cell_type": "code",
   "execution_count": 101,
   "metadata": {},
   "outputs": [],
   "source": [
    "combined_tdm.to_csv(\"combined_tdm.csv\")"
   ]
  },
  {
   "cell_type": "markdown",
   "metadata": {},
   "source": [
    "### Now, set up regression"
   ]
  },
  {
   "cell_type": "markdown",
   "metadata": {},
   "source": [
    "Note: this is not the best setup for an OLS regression. You might want to explore GLM models as this currently resembles panel data."
   ]
  },
  {
   "cell_type": "code",
   "execution_count": 102,
   "metadata": {},
   "outputs": [],
   "source": [
    "combined_tdm['date'] = pd.to_datetime(combined_tdm['date']) # convert to a date object\n",
    "# sort by date, then can create a lag using shift(x).rolling()\n",
    "combined_tdm.sort_values(by='date', ascending=True, inplace=True)"
   ]
  },
  {
   "cell_type": "code",
   "execution_count": 103,
   "metadata": {},
   "outputs": [
    {
     "data": {
      "text/html": [
       "<div>\n",
       "<style scoped>\n",
       "    .dataframe tbody tr th:only-of-type {\n",
       "        vertical-align: middle;\n",
       "    }\n",
       "\n",
       "    .dataframe tbody tr th {\n",
       "        vertical-align: top;\n",
       "    }\n",
       "\n",
       "    .dataframe thead th {\n",
       "        text-align: right;\n",
       "    }\n",
       "</style>\n",
       "<table border=\"1\" class=\"dataframe\">\n",
       "  <thead>\n",
       "    <tr style=\"text-align: right;\">\n",
       "      <th></th>\n",
       "      <th>author</th>\n",
       "      <th>date</th>\n",
       "      <th>headline</th>\n",
       "      <th>text</th>\n",
       "      <th>topic_1</th>\n",
       "      <th>topic_2</th>\n",
       "      <th>topic_3</th>\n",
       "      <th>topic_4</th>\n",
       "      <th>topic_5</th>\n",
       "      <th>topic_6</th>\n",
       "      <th>...</th>\n",
       "      <th>topic_12</th>\n",
       "      <th>topic_13</th>\n",
       "      <th>topic_14</th>\n",
       "      <th>topic_15</th>\n",
       "      <th>topic_16</th>\n",
       "      <th>topic_17</th>\n",
       "      <th>topic_18</th>\n",
       "      <th>topic_19</th>\n",
       "      <th>topic_20</th>\n",
       "      <th>dominant_topic</th>\n",
       "    </tr>\n",
       "  </thead>\n",
       "  <tbody>\n",
       "    <tr>\n",
       "      <th>1</th>\n",
       "      <td>Kevin Maimann  StarMetro Edmonton</td>\n",
       "      <td>2019-01-01</td>\n",
       "      <td>Albertans dislike PM the most, poll finds; Gov...</td>\n",
       "      <td>EDMONTON -- Albertans are most likely among C...</td>\n",
       "      <td>0.000047</td>\n",
       "      <td>0.000072</td>\n",
       "      <td>0.000621</td>\n",
       "      <td>0.000166</td>\n",
       "      <td>0.001306</td>\n",
       "      <td>0.001136</td>\n",
       "      <td>...</td>\n",
       "      <td>0.000098</td>\n",
       "      <td>0.025166</td>\n",
       "      <td>0.424483</td>\n",
       "      <td>0.000049</td>\n",
       "      <td>0.000314</td>\n",
       "      <td>0.000067</td>\n",
       "      <td>0.000479</td>\n",
       "      <td>0.088211</td>\n",
       "      <td>0.000353</td>\n",
       "      <td>8</td>\n",
       "    </tr>\n",
       "    <tr>\n",
       "      <th>0</th>\n",
       "      <td>Gillian Steward</td>\n",
       "      <td>2019-01-01</td>\n",
       "      <td>Threats of Alberta separation are mostly an el...</td>\n",
       "      <td>The angry Albertan has struck again.\\nAnd he ...</td>\n",
       "      <td>0.000031</td>\n",
       "      <td>0.000048</td>\n",
       "      <td>0.170232</td>\n",
       "      <td>0.000109</td>\n",
       "      <td>0.082540</td>\n",
       "      <td>0.000746</td>\n",
       "      <td>...</td>\n",
       "      <td>0.000064</td>\n",
       "      <td>0.000310</td>\n",
       "      <td>0.384399</td>\n",
       "      <td>0.000032</td>\n",
       "      <td>0.000207</td>\n",
       "      <td>0.000044</td>\n",
       "      <td>0.000317</td>\n",
       "      <td>0.002653</td>\n",
       "      <td>0.000232</td>\n",
       "      <td>14</td>\n",
       "    </tr>\n",
       "  </tbody>\n",
       "</table>\n",
       "<p>2 rows × 25 columns</p>\n",
       "</div>"
      ],
      "text/plain": [
       "                               author       date  \\\n",
       "1  Kevin Maimann  StarMetro Edmonton  2019-01-01   \n",
       "0                    Gillian Steward  2019-01-01   \n",
       "\n",
       "                                            headline  \\\n",
       "1  Albertans dislike PM the most, poll finds; Gov...   \n",
       "0  Threats of Alberta separation are mostly an el...   \n",
       "\n",
       "                                                text   topic_1   topic_2  \\\n",
       "1   EDMONTON -- Albertans are most likely among C...  0.000047  0.000072   \n",
       "0   The angry Albertan has struck again.\\nAnd he ...  0.000031  0.000048   \n",
       "\n",
       "    topic_3   topic_4   topic_5   topic_6       ...        topic_12  topic_13  \\\n",
       "1  0.000621  0.000166  0.001306  0.001136       ...        0.000098  0.025166   \n",
       "0  0.170232  0.000109  0.082540  0.000746       ...        0.000064  0.000310   \n",
       "\n",
       "   topic_14  topic_15  topic_16  topic_17  topic_18  topic_19  topic_20  \\\n",
       "1  0.424483  0.000049  0.000314  0.000067  0.000479  0.088211  0.000353   \n",
       "0  0.384399  0.000032  0.000207  0.000044  0.000317  0.002653  0.000232   \n",
       "\n",
       "   dominant_topic  \n",
       "1               8  \n",
       "0              14  \n",
       "\n",
       "[2 rows x 25 columns]"
      ]
     },
     "execution_count": 103,
     "metadata": {},
     "output_type": "execute_result"
    }
   ],
   "source": [
    "combined_tdm.tail(2)"
   ]
  },
  {
   "cell_type": "code",
   "execution_count": 104,
   "metadata": {},
   "outputs": [],
   "source": [
    "# for this, we need one row for each day, aggregating articles and oil price on that day - recall I need to lag this after\n",
    "# range will be Nov 1 2018 - Jan 1 2019\n",
    "days_to_analyze = []\n",
    "start = dt.datetime(2018,11,1)\n",
    "std_date_format = '%Y-%m-%d'    \n",
    "for i in range(0,60):\n",
    "    day = {}\n",
    "    dateToProcess = start+ dt.timedelta(days=i)\n",
    "    day['date']= dateToProcess\n",
    "    #print (dateToProcess.strftime(std_date_format)) \n",
    "    # bring in WCS price for that day, ignore weekends\n",
    "    if dateToProcess in df_wcs.index:\n",
    "        day['wcs'] = df_wcs.loc[dateToProcess]['wcs']        \n",
    "        # aggregate all articles for that day\n",
    "        articlesInDay = combined_tdm[combined_tdm['date']==dateToProcess]\n",
    "        if len(articlesInDay)>0:\n",
    "            day['articlesInDay']= len(articlesInDay)\n",
    "            for i in range(1,idealNumberOfTopics+1):\n",
    "                # form aggregate topic weights in day\n",
    "                day[\"topic_\"+str(i)] = articlesInDay[\"topic_\"+str(i)].sum()\n",
    "            days_to_analyze.append(day) # only focus on days with coverage to simplify things   "
   ]
  },
  {
   "cell_type": "code",
   "execution_count": 105,
   "metadata": {},
   "outputs": [],
   "source": [
    "df_daily = pd.DataFrame(days_to_analyze)"
   ]
  },
  {
   "cell_type": "code",
   "execution_count": 106,
   "metadata": {},
   "outputs": [],
   "source": [
    "# setup 5 day lag\n",
    "for i in range(1,idealNumberOfTopics+1):\n",
    "    df_daily[\"topic_\"+str(i)+\"_5_dayLag\"] = df_daily[\"topic_\"+str(i)].shift(1).rolling(5).mean()\n",
    "    df_daily[\"articles_5_dayLag\"] = df_daily[\"articlesInDay\"].shift(1).rolling(5).sum()"
   ]
  },
  {
   "cell_type": "code",
   "execution_count": 107,
   "metadata": {},
   "outputs": [
    {
     "data": {
      "text/html": [
       "<div>\n",
       "<style scoped>\n",
       "    .dataframe tbody tr th:only-of-type {\n",
       "        vertical-align: middle;\n",
       "    }\n",
       "\n",
       "    .dataframe tbody tr th {\n",
       "        vertical-align: top;\n",
       "    }\n",
       "\n",
       "    .dataframe thead th {\n",
       "        text-align: right;\n",
       "    }\n",
       "</style>\n",
       "<table border=\"1\" class=\"dataframe\">\n",
       "  <thead>\n",
       "    <tr style=\"text-align: right;\">\n",
       "      <th></th>\n",
       "      <th>articlesInDay</th>\n",
       "      <th>date</th>\n",
       "      <th>topic_1</th>\n",
       "      <th>topic_10</th>\n",
       "      <th>topic_11</th>\n",
       "      <th>topic_12</th>\n",
       "      <th>topic_13</th>\n",
       "      <th>topic_14</th>\n",
       "      <th>topic_15</th>\n",
       "      <th>topic_16</th>\n",
       "      <th>...</th>\n",
       "      <th>topic_11_5_dayLag</th>\n",
       "      <th>topic_12_5_dayLag</th>\n",
       "      <th>topic_13_5_dayLag</th>\n",
       "      <th>topic_14_5_dayLag</th>\n",
       "      <th>topic_15_5_dayLag</th>\n",
       "      <th>topic_16_5_dayLag</th>\n",
       "      <th>topic_17_5_dayLag</th>\n",
       "      <th>topic_18_5_dayLag</th>\n",
       "      <th>topic_19_5_dayLag</th>\n",
       "      <th>topic_20_5_dayLag</th>\n",
       "    </tr>\n",
       "  </thead>\n",
       "  <tbody>\n",
       "    <tr>\n",
       "      <th>0</th>\n",
       "      <td>13</td>\n",
       "      <td>2018-11-01</td>\n",
       "      <td>0.000583</td>\n",
       "      <td>0.399378</td>\n",
       "      <td>0.000347</td>\n",
       "      <td>0.055440</td>\n",
       "      <td>0.289136</td>\n",
       "      <td>5.556702</td>\n",
       "      <td>0.156949</td>\n",
       "      <td>0.054528</td>\n",
       "      <td>...</td>\n",
       "      <td>NaN</td>\n",
       "      <td>NaN</td>\n",
       "      <td>NaN</td>\n",
       "      <td>NaN</td>\n",
       "      <td>NaN</td>\n",
       "      <td>NaN</td>\n",
       "      <td>NaN</td>\n",
       "      <td>NaN</td>\n",
       "      <td>NaN</td>\n",
       "      <td>NaN</td>\n",
       "    </tr>\n",
       "    <tr>\n",
       "      <th>1</th>\n",
       "      <td>6</td>\n",
       "      <td>2018-11-02</td>\n",
       "      <td>0.000165</td>\n",
       "      <td>0.010394</td>\n",
       "      <td>0.000098</td>\n",
       "      <td>0.000341</td>\n",
       "      <td>0.873889</td>\n",
       "      <td>1.374033</td>\n",
       "      <td>0.000172</td>\n",
       "      <td>0.089473</td>\n",
       "      <td>...</td>\n",
       "      <td>NaN</td>\n",
       "      <td>NaN</td>\n",
       "      <td>NaN</td>\n",
       "      <td>NaN</td>\n",
       "      <td>NaN</td>\n",
       "      <td>NaN</td>\n",
       "      <td>NaN</td>\n",
       "      <td>NaN</td>\n",
       "      <td>NaN</td>\n",
       "      <td>NaN</td>\n",
       "    </tr>\n",
       "    <tr>\n",
       "      <th>2</th>\n",
       "      <td>7</td>\n",
       "      <td>2018-11-05</td>\n",
       "      <td>0.000261</td>\n",
       "      <td>0.019583</td>\n",
       "      <td>0.000155</td>\n",
       "      <td>0.000541</td>\n",
       "      <td>0.187677</td>\n",
       "      <td>2.384003</td>\n",
       "      <td>0.006190</td>\n",
       "      <td>0.069165</td>\n",
       "      <td>...</td>\n",
       "      <td>NaN</td>\n",
       "      <td>NaN</td>\n",
       "      <td>NaN</td>\n",
       "      <td>NaN</td>\n",
       "      <td>NaN</td>\n",
       "      <td>NaN</td>\n",
       "      <td>NaN</td>\n",
       "      <td>NaN</td>\n",
       "      <td>NaN</td>\n",
       "      <td>NaN</td>\n",
       "    </tr>\n",
       "    <tr>\n",
       "      <th>3</th>\n",
       "      <td>12</td>\n",
       "      <td>2018-11-06</td>\n",
       "      <td>0.002673</td>\n",
       "      <td>0.171860</td>\n",
       "      <td>0.000214</td>\n",
       "      <td>0.004355</td>\n",
       "      <td>0.159148</td>\n",
       "      <td>2.794025</td>\n",
       "      <td>0.038860</td>\n",
       "      <td>0.268388</td>\n",
       "      <td>...</td>\n",
       "      <td>NaN</td>\n",
       "      <td>NaN</td>\n",
       "      <td>NaN</td>\n",
       "      <td>NaN</td>\n",
       "      <td>NaN</td>\n",
       "      <td>NaN</td>\n",
       "      <td>NaN</td>\n",
       "      <td>NaN</td>\n",
       "      <td>NaN</td>\n",
       "      <td>NaN</td>\n",
       "    </tr>\n",
       "    <tr>\n",
       "      <th>4</th>\n",
       "      <td>6</td>\n",
       "      <td>2018-11-07</td>\n",
       "      <td>0.000131</td>\n",
       "      <td>0.092431</td>\n",
       "      <td>0.000078</td>\n",
       "      <td>0.002058</td>\n",
       "      <td>0.781147</td>\n",
       "      <td>1.485954</td>\n",
       "      <td>0.055946</td>\n",
       "      <td>0.014734</td>\n",
       "      <td>...</td>\n",
       "      <td>NaN</td>\n",
       "      <td>NaN</td>\n",
       "      <td>NaN</td>\n",
       "      <td>NaN</td>\n",
       "      <td>NaN</td>\n",
       "      <td>NaN</td>\n",
       "      <td>NaN</td>\n",
       "      <td>NaN</td>\n",
       "      <td>NaN</td>\n",
       "      <td>NaN</td>\n",
       "    </tr>\n",
       "    <tr>\n",
       "      <th>5</th>\n",
       "      <td>14</td>\n",
       "      <td>2018-11-08</td>\n",
       "      <td>0.001289</td>\n",
       "      <td>4.577914</td>\n",
       "      <td>0.000140</td>\n",
       "      <td>0.003596</td>\n",
       "      <td>0.572617</td>\n",
       "      <td>2.700695</td>\n",
       "      <td>0.001386</td>\n",
       "      <td>0.075635</td>\n",
       "      <td>...</td>\n",
       "      <td>0.000178</td>\n",
       "      <td>0.012547</td>\n",
       "      <td>0.458199</td>\n",
       "      <td>2.718944</td>\n",
       "      <td>0.051623</td>\n",
       "      <td>0.099258</td>\n",
       "      <td>0.053440</td>\n",
       "      <td>0.731846</td>\n",
       "      <td>0.045140</td>\n",
       "      <td>0.209449</td>\n",
       "    </tr>\n",
       "    <tr>\n",
       "      <th>6</th>\n",
       "      <td>10</td>\n",
       "      <td>2018-11-13</td>\n",
       "      <td>0.000925</td>\n",
       "      <td>4.652729</td>\n",
       "      <td>0.000086</td>\n",
       "      <td>0.044842</td>\n",
       "      <td>0.553189</td>\n",
       "      <td>1.271084</td>\n",
       "      <td>0.001831</td>\n",
       "      <td>0.070422</td>\n",
       "      <td>...</td>\n",
       "      <td>0.000137</td>\n",
       "      <td>0.002178</td>\n",
       "      <td>0.514896</td>\n",
       "      <td>2.147742</td>\n",
       "      <td>0.020511</td>\n",
       "      <td>0.103479</td>\n",
       "      <td>0.023766</td>\n",
       "      <td>0.679801</td>\n",
       "      <td>0.013341</td>\n",
       "      <td>0.204614</td>\n",
       "    </tr>\n",
       "    <tr>\n",
       "      <th>7</th>\n",
       "      <td>29</td>\n",
       "      <td>2018-11-14</td>\n",
       "      <td>0.256928</td>\n",
       "      <td>6.721714</td>\n",
       "      <td>0.000459</td>\n",
       "      <td>0.139543</td>\n",
       "      <td>0.905851</td>\n",
       "      <td>7.140136</td>\n",
       "      <td>0.000803</td>\n",
       "      <td>0.195413</td>\n",
       "      <td>...</td>\n",
       "      <td>0.000135</td>\n",
       "      <td>0.011078</td>\n",
       "      <td>0.450756</td>\n",
       "      <td>2.127152</td>\n",
       "      <td>0.020842</td>\n",
       "      <td>0.099669</td>\n",
       "      <td>0.005694</td>\n",
       "      <td>0.694487</td>\n",
       "      <td>0.024757</td>\n",
       "      <td>0.179940</td>\n",
       "    </tr>\n",
       "    <tr>\n",
       "      <th>8</th>\n",
       "      <td>17</td>\n",
       "      <td>2018-11-15</td>\n",
       "      <td>0.000722</td>\n",
       "      <td>2.545149</td>\n",
       "      <td>0.000429</td>\n",
       "      <td>0.009464</td>\n",
       "      <td>1.028916</td>\n",
       "      <td>4.564144</td>\n",
       "      <td>0.000752</td>\n",
       "      <td>0.247835</td>\n",
       "      <td>...</td>\n",
       "      <td>0.000195</td>\n",
       "      <td>0.038879</td>\n",
       "      <td>0.594391</td>\n",
       "      <td>3.078379</td>\n",
       "      <td>0.019765</td>\n",
       "      <td>0.124918</td>\n",
       "      <td>0.007665</td>\n",
       "      <td>0.832354</td>\n",
       "      <td>0.041365</td>\n",
       "      <td>0.136841</td>\n",
       "    </tr>\n",
       "    <tr>\n",
       "      <th>9</th>\n",
       "      <td>12</td>\n",
       "      <td>2018-11-16</td>\n",
       "      <td>0.161010</td>\n",
       "      <td>1.589223</td>\n",
       "      <td>0.000213</td>\n",
       "      <td>0.091726</td>\n",
       "      <td>0.526447</td>\n",
       "      <td>3.471319</td>\n",
       "      <td>0.000374</td>\n",
       "      <td>0.096104</td>\n",
       "      <td>...</td>\n",
       "      <td>0.000239</td>\n",
       "      <td>0.039901</td>\n",
       "      <td>0.768344</td>\n",
       "      <td>3.432402</td>\n",
       "      <td>0.012144</td>\n",
       "      <td>0.120808</td>\n",
       "      <td>0.011198</td>\n",
       "      <td>1.047449</td>\n",
       "      <td>0.039321</td>\n",
       "      <td>0.138711</td>\n",
       "    </tr>\n",
       "  </tbody>\n",
       "</table>\n",
       "<p>10 rows × 44 columns</p>\n",
       "</div>"
      ],
      "text/plain": [
       "   articlesInDay       date   topic_1  topic_10  topic_11  topic_12  topic_13  \\\n",
       "0             13 2018-11-01  0.000583  0.399378  0.000347  0.055440  0.289136   \n",
       "1              6 2018-11-02  0.000165  0.010394  0.000098  0.000341  0.873889   \n",
       "2              7 2018-11-05  0.000261  0.019583  0.000155  0.000541  0.187677   \n",
       "3             12 2018-11-06  0.002673  0.171860  0.000214  0.004355  0.159148   \n",
       "4              6 2018-11-07  0.000131  0.092431  0.000078  0.002058  0.781147   \n",
       "5             14 2018-11-08  0.001289  4.577914  0.000140  0.003596  0.572617   \n",
       "6             10 2018-11-13  0.000925  4.652729  0.000086  0.044842  0.553189   \n",
       "7             29 2018-11-14  0.256928  6.721714  0.000459  0.139543  0.905851   \n",
       "8             17 2018-11-15  0.000722  2.545149  0.000429  0.009464  1.028916   \n",
       "9             12 2018-11-16  0.161010  1.589223  0.000213  0.091726  0.526447   \n",
       "\n",
       "   topic_14  topic_15  topic_16        ...          topic_11_5_dayLag  \\\n",
       "0  5.556702  0.156949  0.054528        ...                        NaN   \n",
       "1  1.374033  0.000172  0.089473        ...                        NaN   \n",
       "2  2.384003  0.006190  0.069165        ...                        NaN   \n",
       "3  2.794025  0.038860  0.268388        ...                        NaN   \n",
       "4  1.485954  0.055946  0.014734        ...                        NaN   \n",
       "5  2.700695  0.001386  0.075635        ...                   0.000178   \n",
       "6  1.271084  0.001831  0.070422        ...                   0.000137   \n",
       "7  7.140136  0.000803  0.195413        ...                   0.000135   \n",
       "8  4.564144  0.000752  0.247835        ...                   0.000195   \n",
       "9  3.471319  0.000374  0.096104        ...                   0.000239   \n",
       "\n",
       "   topic_12_5_dayLag  topic_13_5_dayLag  topic_14_5_dayLag  topic_15_5_dayLag  \\\n",
       "0                NaN                NaN                NaN                NaN   \n",
       "1                NaN                NaN                NaN                NaN   \n",
       "2                NaN                NaN                NaN                NaN   \n",
       "3                NaN                NaN                NaN                NaN   \n",
       "4                NaN                NaN                NaN                NaN   \n",
       "5           0.012547           0.458199           2.718944           0.051623   \n",
       "6           0.002178           0.514896           2.147742           0.020511   \n",
       "7           0.011078           0.450756           2.127152           0.020842   \n",
       "8           0.038879           0.594391           3.078379           0.019765   \n",
       "9           0.039901           0.768344           3.432402           0.012144   \n",
       "\n",
       "   topic_16_5_dayLag  topic_17_5_dayLag  topic_18_5_dayLag  topic_19_5_dayLag  \\\n",
       "0                NaN                NaN                NaN                NaN   \n",
       "1                NaN                NaN                NaN                NaN   \n",
       "2                NaN                NaN                NaN                NaN   \n",
       "3                NaN                NaN                NaN                NaN   \n",
       "4                NaN                NaN                NaN                NaN   \n",
       "5           0.099258           0.053440           0.731846           0.045140   \n",
       "6           0.103479           0.023766           0.679801           0.013341   \n",
       "7           0.099669           0.005694           0.694487           0.024757   \n",
       "8           0.124918           0.007665           0.832354           0.041365   \n",
       "9           0.120808           0.011198           1.047449           0.039321   \n",
       "\n",
       "   topic_20_5_dayLag  \n",
       "0                NaN  \n",
       "1                NaN  \n",
       "2                NaN  \n",
       "3                NaN  \n",
       "4                NaN  \n",
       "5           0.209449  \n",
       "6           0.204614  \n",
       "7           0.179940  \n",
       "8           0.136841  \n",
       "9           0.138711  \n",
       "\n",
       "[10 rows x 44 columns]"
      ]
     },
     "execution_count": 107,
     "metadata": {},
     "output_type": "execute_result"
    }
   ],
   "source": [
    "df_daily.head(10)"
   ]
  },
  {
   "cell_type": "code",
   "execution_count": 111,
   "metadata": {},
   "outputs": [],
   "source": [
    "# for analysis, we need to drop the first 5 observations\n",
    "df_daily_analysis = df_daily[5:].copy()"
   ]
  },
  {
   "cell_type": "markdown",
   "metadata": {},
   "source": [
    "### Now, do the analysis with a simple OLS regression"
   ]
  },
  {
   "cell_type": "code",
   "execution_count": 113,
   "metadata": {},
   "outputs": [
    {
     "data": {
      "image/png": "[encoded data removed]",
      "text/plain": [
       "<Figure size 576x396 with 1 Axes>"
      ]
     },
     "metadata": {},
     "output_type": "display_data"
    }
   ],
   "source": [
    "plt.style.use('seaborn')\n",
    "\n",
    "df_daily_analysis.plot(x='wcs', y='topic_10_5_dayLag', kind='scatter')\n",
    "plt.show()"
   ]
  },
  {
   "cell_type": "code",
   "execution_count": 114,
   "metadata": {},
   "outputs": [],
   "source": [
    "model = smf.ols('wcs ~ articles_5_dayLag + topic_10_5_dayLag', data=df_daily_analysis).fit()"
   ]
  },
  {
   "cell_type": "code",
   "execution_count": 115,
   "metadata": {},
   "outputs": [
    {
     "name": "stdout",
     "output_type": "stream",
     "text": [
      "                            OLS Regression Results                            \n",
      "==============================================================================\n",
      "Dep. Variable:                    wcs   R-squared:                       0.662\n",
      "Model:                            OLS   Adj. R-squared:                  0.637\n",
      "Method:                 Least Squares   F-statistic:                     26.43\n",
      "Date:                Tue, 15 Jan 2019   Prob (F-statistic):           4.39e-07\n",
      "Time:                        17:49:54   Log-Likelihood:                -90.582\n",
      "No. Observations:                  30   AIC:                             187.2\n",
      "Df Residuals:                      27   BIC:                             191.4\n",
      "Df Model:                           2                                         \n",
      "Covariance Type:            nonrobust                                         \n",
      "=====================================================================================\n",
      "                        coef    std err          t      P>|t|      [0.025      0.975]\n",
      "-------------------------------------------------------------------------------------\n",
      "Intercept            13.6787      4.436      3.084      0.005       4.577      22.781\n",
      "articles_5_dayLag     0.2725      0.061      4.502      0.000       0.148       0.397\n",
      "topic_10_5_dayLag    -5.4275      0.868     -6.253      0.000      -7.209      -3.646\n",
      "==============================================================================\n",
      "Omnibus:                        3.763   Durbin-Watson:                   0.485\n",
      "Prob(Omnibus):                  0.152   Jarque-Bera (JB):                1.548\n",
      "Skew:                          -0.068   Prob(JB):                        0.461\n",
      "Kurtosis:                       1.896   Cond. No.                         342.\n",
      "==============================================================================\n",
      "\n",
      "Warnings:\n",
      "[1] Standard Errors assume that the covariance matrix of the errors is correctly specified.\n"
     ]
    }
   ],
   "source": [
    "print_model = model.summary()\n",
    "print(print_model)"
   ]
  },
  {
   "cell_type": "code",
   "execution_count": null,
   "metadata": {},
   "outputs": [],
   "source": []
  }
 ],
 "metadata": {
  "kernelspec": {
   "display_name": "Python 3",
   "language": "python",
   "name": "python3"
  },
  "language_info": {
   "codemirror_mode": {
    "name": "ipython",
    "version": 3
   },
   "file_extension": ".py",
   "mimetype": "text/x-python",
   "name": "python",
   "nbconvert_exporter": "python",
   "pygments_lexer": "ipython3",
   "version": "3.7.2"
  }
 },
 "nbformat": 4,
 "nbformat_minor": 2
}
